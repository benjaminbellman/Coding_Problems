{
 "cells": [
  {
   "cell_type": "markdown",
   "id": "dda900d7",
   "metadata": {},
   "source": [
    "# Search in Rotated Sorted Array"
   ]
  },
  {
   "cell_type": "markdown",
   "id": "abe84c71",
   "metadata": {},
   "source": [
    "There is an integer array nums sorted in ascending order (with distinct values).\n",
    "\n",
    "Prior to being passed to your function, nums is possibly rotated at an unknown pivot index k (1 <= k < nums.length) such that the resulting array is [nums[k], nums[k+1], ..., nums[n-1], nums[0], nums[1], ..., nums[k-1]] (0-indexed). For example, [0,1,2,4,5,6,7] might be rotated at pivot index 3 and become [4,5,6,7,0,1,2].\n",
    "\n",
    "Given the array nums after the possible rotation and an integer target, return the index of target if it is in nums, or -1 if it is not in nums.\n",
    "\n",
    "You must write an algorithm with O(log n) runtime complexity.\n",
    "\n",
    "**Example 1:**\n",
    "\n",
    "Input: nums = [4,5,6,7,0,1,2], target = 0\n",
    "Output: 4\n",
    "\n",
    "**Example 2:**\n",
    "\n",
    "Input: nums = [4,5,6,7,0,1,2], target = 3\n",
    "Output: -1\n",
    "\n",
    "**Example 3:**\n",
    "\n",
    "Input: nums = [1], target = 0\n",
    "Output: -1\n",
    " \n",
    "**Constraints:**\n",
    "\n",
    "- 1 <= nums.length <= 5000\n",
    "- -104 <= nums[i] <= 104\n",
    "- All values of nums are unique.\n",
    "- nums is an ascending array that is possibly rotated.\n",
    "- -104 <= target <= 104"
   ]
  },
  {
   "cell_type": "code",
   "execution_count": 1,
   "id": "2b824058",
   "metadata": {},
   "outputs": [],
   "source": [
    "def search(nums, target):\n",
    "    left, right = 0, len(nums) - 1\n",
    "    \n",
    "    while left <= right:\n",
    "        mid = (left + right) // 2\n",
    "        \n",
    "        if nums[mid] == target:\n",
    "            return mid\n",
    "        \n",
    "        # Left half is sorted\n",
    "        if nums[left] <= nums[mid]:\n",
    "            if nums[left] <= target < nums[mid]:  # Target in left half\n",
    "                right = mid - 1\n",
    "            else:  # Target in right half\n",
    "                left = mid + 1\n",
    "        else:\n",
    "            # Right half is sorted\n",
    "            if nums[mid] < target <= nums[right]:  # Target in right half\n",
    "                left = mid + 1\n",
    "            else:  # Target in left half\n",
    "                right = mid - 1\n",
    "    \n",
    "    return -1  # Target not found"
   ]
  },
  {
   "cell_type": "code",
   "execution_count": 2,
   "id": "03ecf343",
   "metadata": {},
   "outputs": [
    {
     "name": "stdout",
     "output_type": "stream",
     "text": [
      "4\n",
      "-1\n",
      "-1\n"
     ]
    }
   ],
   "source": [
    "print(search([4,5,6,7,0,1,2], 0))  # Output: 4\n",
    "print(search([4,5,6,7,0,1,2], 3))  # Output: -1\n",
    "print(search([1], 0))             # Output: -1"
   ]
  },
  {
   "cell_type": "code",
   "execution_count": null,
   "id": "040ca59b",
   "metadata": {},
   "outputs": [],
   "source": []
  }
 ],
 "metadata": {
  "kernelspec": {
   "display_name": "Python 3 (ipykernel)",
   "language": "python",
   "name": "python3"
  },
  "language_info": {
   "codemirror_mode": {
    "name": "ipython",
    "version": 3
   },
   "file_extension": ".py",
   "mimetype": "text/x-python",
   "name": "python",
   "nbconvert_exporter": "python",
   "pygments_lexer": "ipython3",
   "version": "3.8.11"
  }
 },
 "nbformat": 4,
 "nbformat_minor": 5
}
