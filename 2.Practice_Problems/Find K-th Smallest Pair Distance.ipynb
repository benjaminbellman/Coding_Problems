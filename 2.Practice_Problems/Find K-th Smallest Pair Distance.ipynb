{
 "cells": [
  {
   "cell_type": "markdown",
   "id": "d1d2027f",
   "metadata": {},
   "source": [
    "# Find K-th Smallest Pair Distance"
   ]
  },
  {
   "cell_type": "markdown",
   "id": "aefc88c5",
   "metadata": {},
   "source": [
    "The distance of a pair of integers a and b is defined as the absolute difference between a and b.\n",
    "\n",
    "Given an integer array nums and an integer k, return the kth smallest distance among all the pairs nums[i] and nums[j] where 0 <= i < j < nums.length.\n",
    "\n",
    " \n",
    "\n",
    "**Example 1:**\n",
    "\n",
    "Input: nums = [1,3,1], k = 1\n",
    "\n",
    "Output: 0\n",
    "Explanation: Here are all the pairs:\n",
    "(1,3) -> 2\n",
    "(1,1) -> 0\n",
    "(3,1) -> 2\n",
    "Then the 1st smallest distance pair is (1,1), and its distance is 0.\n",
    "\n",
    "**Example 2:**\n",
    "\n",
    "Input: nums = [1,1,1], k = 2\n",
    "\n",
    "Output: 0\n",
    "\n",
    "**Example 3:**\n",
    "\n",
    "Input: nums = [1,6,1], k = 3\n",
    "\n",
    "Output: 5\n",
    " \n",
    "\n",
    "**Constraints:**\n",
    "\n",
    "n == nums.length\n",
    "2 <= n <= 104\n",
    "0 <= nums[i] <= 106\n",
    "1 <= k <= n * (n - 1) / 2"
   ]
  },
  {
   "cell_type": "code",
   "execution_count": 1,
   "id": "d05921c3",
   "metadata": {},
   "outputs": [
    {
     "name": "stdout",
     "output_type": "stream",
     "text": [
      "0\n",
      "0\n",
      "5\n"
     ]
    }
   ],
   "source": [
    "def smallestDistancePair(nums, k):\n",
    "    nums.sort()  # Sort the array to easily find the distances\n",
    "\n",
    "    def countPairs(mid):\n",
    "        count = 0\n",
    "        left = 0\n",
    "        for right in range(len(nums)):\n",
    "            while nums[right] - nums[left] > mid:\n",
    "                left += 1\n",
    "            count += right - left\n",
    "        return count\n",
    "\n",
    "    left, right = 0, max(nums) - min(nums)\n",
    "\n",
    "    while left < right:\n",
    "        mid = (left + right) // 2\n",
    "        if countPairs(mid) < k:\n",
    "            left = mid + 1\n",
    "        else:\n",
    "            right = mid\n",
    "\n",
    "    return left\n",
    "\n",
    "# Test cases\n",
    "print(smallestDistancePair([1,3,1], 1))  # Output: 0\n",
    "print(smallestDistancePair([1,1,1], 2))  # Output: 0\n",
    "print(smallestDistancePair([1,6,1], 3))  # Output: 5"
   ]
  },
  {
   "cell_type": "code",
   "execution_count": null,
   "id": "0cbe7635",
   "metadata": {},
   "outputs": [],
   "source": []
  }
 ],
 "metadata": {
  "kernelspec": {
   "display_name": "Python 3",
   "language": "python",
   "name": "python3"
  },
  "language_info": {
   "codemirror_mode": {
    "name": "ipython",
    "version": 3
   },
   "file_extension": ".py",
   "mimetype": "text/x-python",
   "name": "python",
   "nbconvert_exporter": "python",
   "pygments_lexer": "ipython3",
   "version": "3.9.13"
  }
 },
 "nbformat": 4,
 "nbformat_minor": 5
}
