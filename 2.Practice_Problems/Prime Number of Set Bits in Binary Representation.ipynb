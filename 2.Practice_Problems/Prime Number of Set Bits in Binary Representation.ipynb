{
 "cells": [
  {
   "cell_type": "markdown",
   "id": "ec2bfc4b",
   "metadata": {},
   "source": [
    "# Prime Number of Set Bits in Binary Representation"
   ]
  },
  {
   "cell_type": "markdown",
   "id": "dd8390f5",
   "metadata": {},
   "source": [
    "Given two integers left and right, return the count of numbers in the inclusive range [left, right] having a prime number of set bits in their binary representation.\n",
    "\n",
    "Recall that the number of set bits an integer has is the number of 1's present when written in binary.\n",
    "\n",
    "For example, 21 written in binary is 10101, which has 3 set bits.\n",
    " \n",
    "\n",
    "**Example 1:**\n",
    "\n",
    "Input: left = 6, right = 10\n",
    "Output: 4\n",
    "Explanation:\n",
    "6  -> 110 (2 set bits, 2 is prime)\n",
    "7  -> 111 (3 set bits, 3 is prime)\n",
    "8  -> 1000 (1 set bit, 1 is not prime)\n",
    "9  -> 1001 (2 set bits, 2 is prime)\n",
    "10 -> 1010 (2 set bits, 2 is prime)\n",
    "4 numbers have a prime number of set bits.\n",
    "\n",
    "**Example 2:**\n",
    "\n",
    "Input: left = 10, right = 15\n",
    "Output: 5\n",
    "\n",
    "**Explanation:**\n",
    "\n",
    "    10 -> 1010 (2 set bits, 2 is prime)\n",
    "\n",
    "    11 -> 1011 (3 set bits, 3 is prime)\n",
    "\n",
    "    12 -> 1100 (2 set bits, 2 is prime)\n",
    "\n",
    "    13 -> 1101 (3 set bits, 3 is prime)\n",
    "\n",
    "    14 -> 1110 (3 set bits, 3 is prime)\n",
    "\n",
    "    15 -> 1111 (4 set bits, 4 is not prime)\n",
    "\n",
    "    5 numbers have a prime number of set bits."
   ]
  },
  {
   "cell_type": "code",
   "execution_count": 1,
   "id": "079d46b1",
   "metadata": {},
   "outputs": [
    {
     "name": "stdout",
     "output_type": "stream",
     "text": [
      "4\n",
      "5\n"
     ]
    }
   ],
   "source": [
    "def count_set_bits(n):\n",
    "    count = 0\n",
    "    while n:\n",
    "        count += n & 1\n",
    "        n >>= 1\n",
    "    return count\n",
    "\n",
    "def is_prime(num):\n",
    "    if num <= 1:\n",
    "        return False\n",
    "    for i in range(2, int(num**0.5) + 1):\n",
    "        if num % i == 0:\n",
    "            return False\n",
    "    return True\n",
    "\n",
    "def count_prime_set_bits(left, right):\n",
    "    count = 0\n",
    "    for num in range(left, right + 1):\n",
    "        if is_prime(count_set_bits(num)):\n",
    "            count += 1\n",
    "    return count\n",
    "\n",
    "# Example usage:\n",
    "left = 6\n",
    "right = 10\n",
    "print(count_prime_set_bits(left, right))  # Output: 4\n",
    "\n",
    "left = 10\n",
    "right = 15\n",
    "print(count_prime_set_bits(left, right))  # Output: 5"
   ]
  },
  {
   "cell_type": "code",
   "execution_count": null,
   "id": "d33914d4",
   "metadata": {},
   "outputs": [],
   "source": []
  }
 ],
 "metadata": {
  "kernelspec": {
   "display_name": "Python 3",
   "language": "python",
   "name": "python3"
  },
  "language_info": {
   "codemirror_mode": {
    "name": "ipython",
    "version": 3
   },
   "file_extension": ".py",
   "mimetype": "text/x-python",
   "name": "python",
   "nbconvert_exporter": "python",
   "pygments_lexer": "ipython3",
   "version": "3.9.13"
  }
 },
 "nbformat": 4,
 "nbformat_minor": 5
}
