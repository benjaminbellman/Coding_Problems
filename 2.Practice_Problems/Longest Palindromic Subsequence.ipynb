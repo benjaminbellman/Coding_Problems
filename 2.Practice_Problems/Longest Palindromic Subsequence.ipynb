{
 "cells": [
  {
   "cell_type": "markdown",
   "id": "d90b0e10",
   "metadata": {},
   "source": [
    "# Longest Palindromic Subsequence"
   ]
  },
  {
   "cell_type": "markdown",
   "id": "0f02ff48",
   "metadata": {},
   "source": [
    "Given a string s, find the longest palindromic subsequence's length in s.\n",
    "\n",
    "A subsequence is a sequence that can be derived from another sequence by deleting some or no elements without changing the order of the remaining elements.\n",
    "\n",
    " \n",
    "\n",
    "**Example 1:**\n",
    "\n",
    "Input: s = \"bbbab\"\n",
    "Output: 4\n",
    "Explanation: One possible longest palindromic subsequence is \"bbbb\".\n",
    "\n",
    "**Example 2:**\n",
    "\n",
    "Input: s = \"cbbd\"\n",
    "Output: 2\n",
    "Explanation: One possible longest palindromic subsequence is \"bb\".\n",
    " \n",
    "\n",
    "**Constraints:**\n",
    "\n",
    "- 1 <= s.length <= 1000\n",
    "- s consists only of lowercase English letters."
   ]
  },
  {
   "cell_type": "code",
   "execution_count": 1,
   "id": "89bf9b46",
   "metadata": {},
   "outputs": [],
   "source": [
    "def longestPalindromeSubseq(s: str) -> int:\n",
    "    n = len(s)\n",
    "    # dp[i][j] will be the length of the longest palindromic subsequence between indices i and j\n",
    "    dp = [[0 for _ in range(n)] for _ in range(n)]\n",
    "\n",
    "    # Base Case: single characters are always palindromes of length 1\n",
    "    for i in range(n):\n",
    "        dp[i][i] = 1\n",
    "\n",
    "    # Fill the table. We start from substrings of length 2, and go up to the length of the string.\n",
    "    for length in range(2, n + 1):\n",
    "        for i in range(n - length + 1):\n",
    "            j = i + length - 1  # j is the ending index of the substring\n",
    "            if s[i] == s[j]:\n",
    "                dp[i][j] = dp[i + 1][j - 1] + 2\n",
    "            else:\n",
    "                dp[i][j] = max(dp[i + 1][j], dp[i][j - 1])\n",
    "\n",
    "    # The longest palindromic subsequence for the entire string is in dp[0][n - 1]\n",
    "    return dp[0][n - 1]"
   ]
  },
  {
   "cell_type": "code",
   "execution_count": null,
   "id": "dd1413d7",
   "metadata": {},
   "outputs": [],
   "source": []
  }
 ],
 "metadata": {
  "kernelspec": {
   "display_name": "Python 3",
   "language": "python",
   "name": "python3"
  },
  "language_info": {
   "codemirror_mode": {
    "name": "ipython",
    "version": 3
   },
   "file_extension": ".py",
   "mimetype": "text/x-python",
   "name": "python",
   "nbconvert_exporter": "python",
   "pygments_lexer": "ipython3",
   "version": "3.9.13"
  }
 },
 "nbformat": 4,
 "nbformat_minor": 5
}
