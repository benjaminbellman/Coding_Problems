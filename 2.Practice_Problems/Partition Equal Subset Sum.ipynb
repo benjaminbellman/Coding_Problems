{
 "cells": [
  {
   "cell_type": "markdown",
   "id": "acc7ce27",
   "metadata": {},
   "source": [
    "# Partition Equal Subset Sum"
   ]
  },
  {
   "cell_type": "markdown",
   "id": "b512e2e0",
   "metadata": {},
   "source": [
    "Given an integer array nums, return true if you can partition the array into two subsets such that the sum of the elements in both subsets is equal or false otherwise.\n",
    "\n",
    " \n",
    "\n",
    "**Example 1:**\n",
    "\n",
    "Input: nums = [1,5,11,5]\n",
    "Output: true\n",
    "Explanation: The array can be partitioned as [1, 5, 5] and [11].\n",
    "\n",
    "**Example 2:**\n",
    "\n",
    "Input: nums = [1,2,3,5]\n",
    "Output: false\n",
    "Explanation: The array cannot be partitioned into equal sum subsets.\n",
    " \n",
    "\n",
    "**Constraints:**\n",
    "\n",
    "1 <= nums.length <= 200\n",
    "1 <= nums[i] <= 100"
   ]
  },
  {
   "cell_type": "code",
   "execution_count": 1,
   "id": "eaccf169",
   "metadata": {},
   "outputs": [],
   "source": [
    "def canPartition(nums):\n",
    "    total_sum = sum(nums)\n",
    "\n",
    "    # If the total sum is odd, it cannot be divided into two equal subsets\n",
    "    if total_sum % 2 != 0:\n",
    "        return False\n",
    "\n",
    "    target_sum = total_sum // 2\n",
    "    dp = [False] * (target_sum + 1)\n",
    "    dp[0] = True\n",
    "\n",
    "    for num in nums:\n",
    "        for i in range(target_sum, num - 1, -1):\n",
    "            dp[i] = dp[i] or dp[i - num]\n",
    "\n",
    "    return dp[target_sum]"
   ]
  },
  {
   "cell_type": "code",
   "execution_count": 2,
   "id": "58fbfb6c",
   "metadata": {},
   "outputs": [
    {
     "name": "stdout",
     "output_type": "stream",
     "text": [
      "True\n",
      "False\n"
     ]
    }
   ],
   "source": [
    "# Example 1\n",
    "nums = [1, 5, 11, 5]\n",
    "print(canPartition(nums))  # Output: True\n",
    "\n",
    "# Example 2\n",
    "nums = [1, 2, 3, 5]\n",
    "print(canPartition(nums))  # Output: False"
   ]
  },
  {
   "cell_type": "code",
   "execution_count": null,
   "id": "d820140e",
   "metadata": {},
   "outputs": [],
   "source": []
  }
 ],
 "metadata": {
  "kernelspec": {
   "display_name": "Python 3",
   "language": "python",
   "name": "python3"
  },
  "language_info": {
   "codemirror_mode": {
    "name": "ipython",
    "version": 3
   },
   "file_extension": ".py",
   "mimetype": "text/x-python",
   "name": "python",
   "nbconvert_exporter": "python",
   "pygments_lexer": "ipython3",
   "version": "3.9.13"
  }
 },
 "nbformat": 4,
 "nbformat_minor": 5
}
