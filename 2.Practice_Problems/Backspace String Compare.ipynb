{
 "cells": [
  {
   "cell_type": "markdown",
   "id": "4c224543",
   "metadata": {},
   "source": [
    "# Backspace String Compare"
   ]
  },
  {
   "cell_type": "markdown",
   "id": "cda2d854",
   "metadata": {},
   "source": [
    "Given two strings s and t, return true if they are equal when both are typed into empty text editors. '#' means a backspace character.\n",
    "\n",
    "Note that after backspacing an empty text, the text will continue empty.\n",
    "\n",
    " \n",
    "\n",
    "**Example 1:**\n",
    "\n",
    "Input: s = \"ab#c\", t = \"ad#c\"\n",
    "Output: true\n",
    "Explanation: Both s and t become \"ac\".\n",
    "\n",
    "**Example 2:**\n",
    "\n",
    "Input: s = \"ab##\", t = \"c#d#\"\n",
    "Output: true\n",
    "Explanation: Both s and t become \"\".\n",
    "\n",
    "**Example 3:**\n",
    "\n",
    "Input: s = \"a#c\", t = \"b\"\n",
    "Output: false\n",
    "Explanation: s becomes \"c\" while t becomes \"b\".\n",
    " \n",
    "\n",
    "**Constraints:**\n",
    "\n",
    "- 1 <= s.length, t.length <= 200\n",
    "- s and t only contain lowercase letters and '#' characters."
   ]
  },
  {
   "cell_type": "code",
   "execution_count": 1,
   "id": "6580a019",
   "metadata": {},
   "outputs": [
    {
     "name": "stdout",
     "output_type": "stream",
     "text": [
      "True\n",
      "True\n",
      "False\n"
     ]
    }
   ],
   "source": [
    "def process_string(s):\n",
    "    stack = []\n",
    "    for char in s:\n",
    "        if char != '#':\n",
    "            stack.append(char)\n",
    "        elif stack:\n",
    "            stack.pop()\n",
    "    return \"\".join(stack)\n",
    "\n",
    "def backspace_compare(s, t):\n",
    "    return process_string(s) == process_string(t)\n",
    "\n",
    "# Example usage:\n",
    "s1 = \"ab#c\"\n",
    "t1 = \"ad#c\"\n",
    "print(backspace_compare(s1, t1))  # Output: True\n",
    "\n",
    "s2 = \"ab##\"\n",
    "t2 = \"c#d#\"\n",
    "print(backspace_compare(s2, t2))  # Output: True\n",
    "\n",
    "s3 = \"a#c\"\n",
    "t3 = \"b\"\n",
    "print(backspace_compare(s3, t3))  # Output: False"
   ]
  },
  {
   "cell_type": "code",
   "execution_count": null,
   "id": "d6e84f65",
   "metadata": {},
   "outputs": [],
   "source": []
  }
 ],
 "metadata": {
  "kernelspec": {
   "display_name": "Python 3 (ipykernel)",
   "language": "python",
   "name": "python3"
  },
  "language_info": {
   "codemirror_mode": {
    "name": "ipython",
    "version": 3
   },
   "file_extension": ".py",
   "mimetype": "text/x-python",
   "name": "python",
   "nbconvert_exporter": "python",
   "pygments_lexer": "ipython3",
   "version": "3.8.11"
  }
 },
 "nbformat": 4,
 "nbformat_minor": 5
}
