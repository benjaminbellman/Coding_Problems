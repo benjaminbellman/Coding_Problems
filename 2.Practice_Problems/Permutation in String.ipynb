{
 "cells": [
  {
   "cell_type": "markdown",
   "id": "06b7a46e",
   "metadata": {},
   "source": [
    "# Permutation in String"
   ]
  },
  {
   "cell_type": "markdown",
   "id": "0c94ac77",
   "metadata": {},
   "source": [
    "Given two strings s1 and s2, return true if s2 contains a permutation of s1, or false otherwise.\n",
    "\n",
    "In other words, return true if one of s1's permutations is the substring of s2.\n",
    "\n",
    " \n",
    "\n",
    "**Example 1:**\n",
    "\n",
    "Input: s1 = \"ab\", s2 = \"eidbaooo\"\n",
    "\n",
    "Output: true\n",
    "Explanation: s2 contains one permutation of s1 (\"ba\").\n",
    "\n",
    "**Example 2:**\n",
    "\n",
    "Input: s1 = \"ab\", s2 = \"eidboaoo\"\n",
    "\n",
    "Output: false\n",
    " \n",
    "\n",
    "**Constraints:**\n",
    "\n",
    "- 1 <= s1.length, s2.length <= 104\n",
    "- s1 and s2 consist of lowercase English letters."
   ]
  },
  {
   "cell_type": "code",
   "execution_count": 1,
   "id": "ba395e07",
   "metadata": {},
   "outputs": [
    {
     "name": "stdout",
     "output_type": "stream",
     "text": [
      "True\n",
      "False\n"
     ]
    }
   ],
   "source": [
    "def checkInclusion(s1: str, s2: str) -> bool:\n",
    "    from collections import Counter\n",
    "    \n",
    "    # Lengths of the strings\n",
    "    len1, len2 = len(s1), len(s2)\n",
    "    \n",
    "    # Early return if s1 is longer than s2\n",
    "    if len1 > len2:\n",
    "        return False\n",
    "\n",
    "    # Create frequency counters for s1 and the first part of s2\n",
    "    s1_count = Counter(s1)\n",
    "    s2_count = Counter(s2[:len1])\n",
    "\n",
    "    # Check if the first window is a permutation\n",
    "    if s1_count == s2_count:\n",
    "        return True\n",
    "\n",
    "    # Start sliding the window\n",
    "    for i in range(len1, len2):\n",
    "        # Include the next character in the window\n",
    "        s2_count[s2[i]] += 1\n",
    "        # Exclude the character that's no longer in the window\n",
    "        s2_count[s2[i - len1]] -= 1\n",
    "        # Remove the count from the map if it drops to zero to keep the map sizes equal\n",
    "        if s2_count[s2[i - len1]] == 0:\n",
    "            del s2_count[s2[i - len1]]\n",
    "        # Check if the current window is a permutation\n",
    "        if s1_count == s2_count:\n",
    "            return True\n",
    "\n",
    "    return False\n",
    "\n",
    "# Example usage:\n",
    "s1 = \"ab\"\n",
    "s2 = \"eidbaooo\"\n",
    "print(checkInclusion(s1, s2))  # Output: true\n",
    "\n",
    "s1 = \"ab\"\n",
    "s2 = \"eidboaoo\"\n",
    "print(checkInclusion(s1, s2))  # Output: false"
   ]
  },
  {
   "cell_type": "code",
   "execution_count": null,
   "id": "bca7e600",
   "metadata": {},
   "outputs": [],
   "source": []
  }
 ],
 "metadata": {
  "kernelspec": {
   "display_name": "Python 3",
   "language": "python",
   "name": "python3"
  },
  "language_info": {
   "codemirror_mode": {
    "name": "ipython",
    "version": 3
   },
   "file_extension": ".py",
   "mimetype": "text/x-python",
   "name": "python",
   "nbconvert_exporter": "python",
   "pygments_lexer": "ipython3",
   "version": "3.9.13"
  }
 },
 "nbformat": 4,
 "nbformat_minor": 5
}
