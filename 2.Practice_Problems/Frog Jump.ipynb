{
 "cells": [
  {
   "cell_type": "markdown",
   "id": "d81fa7f2",
   "metadata": {},
   "source": [
    "# Frog Jump"
   ]
  },
  {
   "cell_type": "markdown",
   "id": "27cd0647",
   "metadata": {},
   "source": [
    "A frog is crossing a river. The river is divided into some number of units, and at each unit, there may or may not exist a stone. The frog can jump on a stone, but it must not jump into the water.\n",
    "\n",
    "Given a list of stones' positions (in units) in sorted ascending order, determine if the frog can cross the river by landing on the last stone. Initially, the frog is on the first stone and assumes the first jump must be 1 unit.\n",
    "\n",
    "If the frog's last jump was k units, its next jump must be either k - 1, k, or k + 1 units. The frog can only jump in the forward direction.\n",
    "\n",
    " \n",
    "\n",
    "**Example 1:**\n",
    "\n",
    "Input: stones = [0,1,3,5,6,8,12,17]\n",
    "Output: true\n",
    "Explanation: The frog can jump to the last stone by jumping 1 unit to the 2nd stone, then 2 units to the 3rd stone, then 2 units to the 4th stone, then 3 units to the 6th stone, 4 units to the 7th stone, and 5 units to the 8th stone.\n",
    "\n",
    "**Example 2:**\n",
    "\n",
    "Input: stones = [0,1,2,3,4,8,9,11]\n",
    "Output: false\n",
    "\n",
    "**Explanation:** There is no way to jump to the last stone as the gap between the 5th and 6th stone is too large.\n",
    " \n",
    "\n",
    "**Constraints:**\n",
    "\n",
    "- 2 <= stones.length <= 2000\n",
    "- 0 <= stones[i] <= 231 - 1\n",
    "- stones[0] == 0\n",
    "- stones is sorted in a strictly increasing order."
   ]
  },
  {
   "cell_type": "code",
   "execution_count": 1,
   "id": "2eb872c8",
   "metadata": {},
   "outputs": [
    {
     "name": "stdout",
     "output_type": "stream",
     "text": [
      "True\n",
      "False\n"
     ]
    }
   ],
   "source": [
    "def can_cross(stones):\n",
    "    target = stones[-1]\n",
    "    stone_positions = set(stones)\n",
    "\n",
    "    def dfs(position, jump_size):\n",
    "        if position == target:\n",
    "            return True\n",
    "        if (position, jump_size) in memo:\n",
    "            return memo[(position, jump_size)]\n",
    "\n",
    "        for next_jump in range(jump_size - 1, jump_size + 2):\n",
    "            if next_jump <= 0:\n",
    "                continue\n",
    "            next_position = position + next_jump\n",
    "            if next_position in stone_positions:\n",
    "                if dfs(next_position, next_jump):\n",
    "                    memo[(position, jump_size)] = True\n",
    "                    return True\n",
    "\n",
    "        memo[(position, jump_size)] = False\n",
    "        return False\n",
    "\n",
    "    memo = {}\n",
    "    return dfs(0, 0)\n",
    "\n",
    "# Testing the code with provided examples\n",
    "stones = [0, 1, 3, 5, 6, 8, 12, 17]\n",
    "print(can_cross(stones))  # Output: True\n",
    "\n",
    "stones = [0, 1, 2, 3, 4, 8, 9, 11]\n",
    "print(can_cross(stones))  # Output: False"
   ]
  },
  {
   "cell_type": "code",
   "execution_count": null,
   "id": "c5bfff8e",
   "metadata": {},
   "outputs": [],
   "source": []
  }
 ],
 "metadata": {
  "kernelspec": {
   "display_name": "Python 3",
   "language": "python",
   "name": "python3"
  },
  "language_info": {
   "codemirror_mode": {
    "name": "ipython",
    "version": 3
   },
   "file_extension": ".py",
   "mimetype": "text/x-python",
   "name": "python",
   "nbconvert_exporter": "python",
   "pygments_lexer": "ipython3",
   "version": "3.9.13"
  }
 },
 "nbformat": 4,
 "nbformat_minor": 5
}
