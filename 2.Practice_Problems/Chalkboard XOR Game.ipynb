{
 "cells": [
  {
   "cell_type": "markdown",
   "id": "01ffbe52",
   "metadata": {},
   "source": [
    "# Chalkboard XOR Game"
   ]
  },
  {
   "cell_type": "markdown",
   "id": "d825f5d1",
   "metadata": {},
   "source": [
    "You are given an array of integers nums represents the numbers written on a chalkboard.\n",
    "\n",
    "Alice and Bob take turns erasing exactly one number from the chalkboard, with Alice starting first. If erasing a number causes the bitwise XOR of all the elements of the chalkboard to become 0, then that player loses. The bitwise XOR of one element is that element itself, and the bitwise XOR of no elements is 0.\n",
    "\n",
    "Also, if any player starts their turn with the bitwise XOR of all the elements of the chalkboard equal to 0, then that player wins.\n",
    "\n",
    "Return true if and only if Alice wins the game, assuming both players play optimally.\n",
    "\n",
    "**Example 1:**\n",
    "\n",
    "Input: nums = [1,1,2]\n",
    "Output: false\n",
    "Explanation: \n",
    "Alice has two choices: erase 1 or erase 2. \n",
    "If she erases 1, the nums array becomes [1, 2]. The bitwise XOR of all the elements of the chalkboard is 1 XOR 2 = 3. Now Bob can remove any element he wants, because Alice will be the one to erase the last element and she will lose. \n",
    "If Alice erases 2 first, now nums become [1, 1]. The bitwise XOR of all the elements of the chalkboard is 1 XOR 1 = 0. Alice will lose.\n",
    "\n",
    "**Example 2:**\n",
    "\n",
    "Input: nums = [0,1]\n",
    "Output: true\n",
    "\n",
    "**Example 3:**\n",
    "\n",
    "Input: nums = [1,2,3]\n",
    "Output: true\n",
    " \n",
    "\n",
    "**Constraints:**\n",
    "\n",
    "- 1 <= nums.length <= 1000\n",
    "- 0 <= nums[i] < 216"
   ]
  },
  {
   "cell_type": "code",
   "execution_count": 1,
   "id": "7fa75277",
   "metadata": {},
   "outputs": [
    {
     "name": "stdout",
     "output_type": "stream",
     "text": [
      "False\n",
      "True\n",
      "True\n"
     ]
    }
   ],
   "source": [
    "def xorGame(nums):\n",
    "    xor_sum = 0\n",
    "    for num in nums:\n",
    "        xor_sum ^= num\n",
    "    \n",
    "    return xor_sum == 0 or len(nums) % 2 == 0\n",
    "\n",
    "# Example usage:\n",
    "nums1 = [1, 1, 2]\n",
    "nums2 = [0, 1]\n",
    "nums3 = [1, 2, 3]\n",
    "\n",
    "print(xorGame(nums1))  # Output: False\n",
    "print(xorGame(nums2))  # Output: True\n",
    "print(xorGame(nums3))  # Output: True"
   ]
  },
  {
   "cell_type": "code",
   "execution_count": null,
   "id": "bab8fe5a",
   "metadata": {},
   "outputs": [],
   "source": []
  }
 ],
 "metadata": {
  "kernelspec": {
   "display_name": "Python 3",
   "language": "python",
   "name": "python3"
  },
  "language_info": {
   "codemirror_mode": {
    "name": "ipython",
    "version": 3
   },
   "file_extension": ".py",
   "mimetype": "text/x-python",
   "name": "python",
   "nbconvert_exporter": "python",
   "pygments_lexer": "ipython3",
   "version": "3.9.13"
  }
 },
 "nbformat": 4,
 "nbformat_minor": 5
}
