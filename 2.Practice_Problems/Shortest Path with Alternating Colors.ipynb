{
 "cells": [
  {
   "cell_type": "markdown",
   "id": "df850fd8",
   "metadata": {},
   "source": [
    "# Shortest Path with Alternating Colors"
   ]
  },
  {
   "cell_type": "markdown",
   "id": "2ca1a29a",
   "metadata": {},
   "source": [
    "You are given an integer n, the number of nodes in a directed graph where the nodes are labeled from 0 to n - 1. Each edge is red or blue in this graph, and there could be self-edges and parallel edges.\n",
    "\n",
    "You are given two arrays redEdges and blueEdges where:\n",
    "\n",
    "redEdges[i] = [ai, bi] indicates that there is a directed red edge from node ai to node bi in the graph, and\n",
    "blueEdges[j] = [uj, vj] indicates that there is a directed blue edge from node uj to node vj in the graph.\n",
    "Return an array answer of length n, where each answer[x] is the length of the shortest path from node 0 to node x such that the edge colors alternate along the path, or -1 if such a path does not exist.\n",
    "\n",
    "**Example 1:**\n",
    "\n",
    "Input: n = 3, redEdges = [[0,1],[1,2]], blueEdges = []\n",
    "Output: [0,1,-1]\n",
    "\n",
    "**Example 2:**\n",
    "\n",
    "Input: n = 3, redEdges = [[0,1]], blueEdges = [[2,1]]\n",
    "Output: [0,1,-1]\n",
    " \n",
    "**Constraints:**\n",
    "\n",
    "- 1 <= n <= 100\n",
    "- 0 <= redEdges.length, blueEdges.length <= 400\n",
    "- redEdges[i].length == blueEdges[j].length == 2\n",
    "- 0 <= ai, bi, uj, vj < n"
   ]
  },
  {
   "cell_type": "code",
   "execution_count": 1,
   "id": "7a92ca3d",
   "metadata": {},
   "outputs": [],
   "source": [
    "from collections import deque, defaultdict\n",
    "\n",
    "def shortestAlternatingPaths(n, redEdges, blueEdges):\n",
    "    # Graph representation\n",
    "    red_graph = defaultdict(list)\n",
    "    blue_graph = defaultdict(list)\n",
    "\n",
    "    for u, v in redEdges:\n",
    "        red_graph[u].append(v)\n",
    "    \n",
    "    for u, v in blueEdges:\n",
    "        blue_graph[u].append(v)\n",
    "\n",
    "    # Result initialization\n",
    "    result = [-1] * n\n",
    "    queue = deque([(0, 'red', 0), (0, 'blue', 0)])  # (node, last_edge_color, distance)\n",
    "    visited = set([(0, 'red'), (0, 'blue')])\n",
    "\n",
    "    # BFS traversal\n",
    "    while queue:\n",
    "        node, color, dist = queue.popleft()\n",
    "        \n",
    "        # Set shortest distance for this node\n",
    "        if result[node] == -1:\n",
    "            result[node] = dist\n",
    "        else:\n",
    "            result[node] = min(result[node], dist)\n",
    "\n",
    "        # Get next possible edges (alternate colors)\n",
    "        if color == 'red':  # Next should be blue edges\n",
    "            for neighbor in blue_graph[node]:\n",
    "                if (neighbor, 'blue') not in visited:\n",
    "                    visited.add((neighbor, 'blue'))\n",
    "                    queue.append((neighbor, 'blue', dist + 1))\n",
    "        else:  # color == 'blue', Next should be red edges\n",
    "            for neighbor in red_graph[node]:\n",
    "                if (neighbor, 'red') not in visited:\n",
    "                    visited.add((neighbor, 'red'))\n",
    "                    queue.append((neighbor, 'red', dist + 1))\n",
    "\n",
    "    return result"
   ]
  },
  {
   "cell_type": "code",
   "execution_count": null,
   "id": "2afc29b8",
   "metadata": {},
   "outputs": [],
   "source": []
  }
 ],
 "metadata": {
  "kernelspec": {
   "display_name": "Python 3 (ipykernel)",
   "language": "python",
   "name": "python3"
  },
  "language_info": {
   "codemirror_mode": {
    "name": "ipython",
    "version": 3
   },
   "file_extension": ".py",
   "mimetype": "text/x-python",
   "name": "python",
   "nbconvert_exporter": "python",
   "pygments_lexer": "ipython3",
   "version": "3.8.11"
  }
 },
 "nbformat": 4,
 "nbformat_minor": 5
}
