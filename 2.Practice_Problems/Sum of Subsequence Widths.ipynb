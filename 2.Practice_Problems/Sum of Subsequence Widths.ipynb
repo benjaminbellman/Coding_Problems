{
 "cells": [
  {
   "cell_type": "markdown",
   "id": "9dc39f27",
   "metadata": {},
   "source": [
    "# Sum of Subsequence Widths"
   ]
  },
  {
   "cell_type": "markdown",
   "id": "76961b0d",
   "metadata": {},
   "source": [
    "The width of a sequence is the difference between the maximum and minimum elements in the sequence.\n",
    "\n",
    "Given an array of integers nums, return the sum of the widths of all the non-empty subsequences of nums. Since the answer may be very large, return it modulo 109 + 7.\n",
    "\n",
    "A subsequence is a sequence that can be derived from an array by deleting some or no elements without changing the order of the remaining elements. For example, [3,6,2,7] is a subsequence of the array [0,3,1,6,2,2,7].\n",
    "\n",
    "**Example 1:**\n",
    "\n",
    "Input: nums = [2,1,3]\n",
    "Output: 6\n",
    "Explanation: The subsequences are [1], [2], [3], [2,1], [2,3], [1,3], [2,1,3].\n",
    "The corresponding widths are 0, 0, 0, 1, 1, 2, 2.\n",
    "The sum of these widths is 6.\n",
    "\n",
    "**Example 2:**\n",
    "\n",
    "Input: nums = [2]\n",
    "Output: 0\n",
    "\n",
    "**Constraints:**\n",
    "\n",
    "- 1 <= nums.length <= 105\n",
    "- 1 <= nums[i] <= 105"
   ]
  },
  {
   "cell_type": "code",
   "execution_count": 1,
   "id": "eb8cf002",
   "metadata": {},
   "outputs": [
    {
     "name": "stdout",
     "output_type": "stream",
     "text": [
      "6\n",
      "0\n"
     ]
    }
   ],
   "source": [
    "def sumOfWidths(nums):\n",
    "    MOD = 10**9 + 7\n",
    "    nums.sort()\n",
    "    n = len(nums)\n",
    "    \n",
    "    # Precompute powers of 2 modulo MOD\n",
    "    power_of_2 = [1] * n\n",
    "    for i in range(1, n):\n",
    "        power_of_2[i] = (power_of_2[i-1] * 2) % MOD\n",
    "\n",
    "    total_sum = 0\n",
    "    for i in range(n):\n",
    "        max_contribution = (nums[i] * power_of_2[i]) % MOD\n",
    "        min_contribution = (nums[i] * power_of_2[n - i - 1]) % MOD\n",
    "        total_sum = (total_sum + max_contribution - min_contribution) % MOD\n",
    "    \n",
    "    return total_sum\n",
    "\n",
    "# Example usage\n",
    "print(sumOfWidths([2,1,3]))  # Output: 6\n",
    "print(sumOfWidths([2]))      # Output: 0"
   ]
  },
  {
   "cell_type": "code",
   "execution_count": null,
   "id": "a14f2f5a",
   "metadata": {},
   "outputs": [],
   "source": []
  }
 ],
 "metadata": {
  "kernelspec": {
   "display_name": "Python 3 (ipykernel)",
   "language": "python",
   "name": "python3"
  },
  "language_info": {
   "codemirror_mode": {
    "name": "ipython",
    "version": 3
   },
   "file_extension": ".py",
   "mimetype": "text/x-python",
   "name": "python",
   "nbconvert_exporter": "python",
   "pygments_lexer": "ipython3",
   "version": "3.8.11"
  }
 },
 "nbformat": 4,
 "nbformat_minor": 5
}
