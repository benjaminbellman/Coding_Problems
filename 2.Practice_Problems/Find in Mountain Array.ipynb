{
 "cells": [
  {
   "cell_type": "markdown",
   "id": "a48380ac",
   "metadata": {},
   "source": [
    "# Find in Mountain Array"
   ]
  },
  {
   "cell_type": "markdown",
   "id": "3925b615",
   "metadata": {},
   "source": [
    "This problem is an interactive problem.)\n",
    "\n",
    "You may recall that an array arr is a mountain array if and only if:\n",
    "\n",
    "arr.length >= 3\n",
    "There exists some i with 0 < i < arr.length - 1 such that:\n",
    "arr[0] < arr[1] < ... < arr[i - 1] < arr[i]\n",
    "arr[i] > arr[i + 1] > ... > arr[arr.length - 1]\n",
    "Given a mountain array mountainArr, return the minimum index such that mountainArr.get(index) == target. If such an index does not exist, return -1.\n",
    "\n",
    "You cannot access the mountain array directly. You may only access the array using a MountainArray interface:\n",
    "\n",
    "MountainArray.get(k) returns the element of the array at index k (0-indexed).\n",
    "MountainArray.length() returns the length of the array.\n",
    "Submissions making more than 100 calls to MountainArray.get will be judged Wrong Answer. Also, any solutions that attempt to circumvent the judge will result in disqualification.\n",
    "\n",
    "**Example 1:**\n",
    "\n",
    "Input: mountainArr = [1,2,3,4,5,3,1], target = 3\n",
    "Output: 2\n",
    "Explanation: 3 exists in the array, at index=2 and index=5. Return the minimum index, which is 2.\n",
    "\n",
    "**Example 2:**\n",
    "\n",
    "Input: mountainArr = [0,1,2,4,2,1], target = 3\n",
    "Output: -1\n",
    "Explanation: 3 does not exist in the array, so we return -1.\n",
    " \n",
    "**Constraints:**\n",
    "\n",
    "- 3 <= mountainArr.length() <= 104\n",
    "- 0 <= target <= 109\n",
    "- 0 <= mountainArr.get(index) <= 109"
   ]
  },
  {
   "cell_type": "code",
   "execution_count": 1,
   "id": "3bd67103",
   "metadata": {},
   "outputs": [],
   "source": [
    "def findInMountainArray(target: int, mountainArr: 'MountainArray') -> int:\n",
    "    # Helper function to perform binary search\n",
    "    def binary_search(left, right, target, is_ascending):\n",
    "        while left <= right:\n",
    "            mid = (left + right) // 2\n",
    "            value = mountainArr.get(mid)\n",
    "            if value == target:\n",
    "                return mid\n",
    "            if is_ascending:\n",
    "                if value < target:\n",
    "                    left = mid + 1\n",
    "                else:\n",
    "                    right = mid - 1\n",
    "            else:\n",
    "                if value < target:\n",
    "                    right = mid - 1\n",
    "                else:\n",
    "                    left = mid + 1\n",
    "        return -1\n",
    "\n",
    "    # Step 1: Find the peak\n",
    "    n = mountainArr.length()\n",
    "    left, right = 0, n - 1\n",
    "    while left < right:\n",
    "        mid = (left + right) // 2\n",
    "        if mountainArr.get(mid) < mountainArr.get(mid + 1):\n",
    "            left = mid + 1\n",
    "        else:\n",
    "            right = mid\n",
    "    peak = left\n",
    "\n",
    "    # Step 2: Binary search in the ascending part\n",
    "    index = binary_search(0, peak, target, True)\n",
    "    if index != -1:\n",
    "        return index\n",
    "\n",
    "    # Step 3: Binary search in the descending part\n",
    "    return binary_search(peak + 1, n - 1, target, False)"
   ]
  },
  {
   "cell_type": "code",
   "execution_count": null,
   "id": "2c07b967",
   "metadata": {},
   "outputs": [],
   "source": []
  }
 ],
 "metadata": {
  "kernelspec": {
   "display_name": "Python 3 (ipykernel)",
   "language": "python",
   "name": "python3"
  },
  "language_info": {
   "codemirror_mode": {
    "name": "ipython",
    "version": 3
   },
   "file_extension": ".py",
   "mimetype": "text/x-python",
   "name": "python",
   "nbconvert_exporter": "python",
   "pygments_lexer": "ipython3",
   "version": "3.8.11"
  }
 },
 "nbformat": 4,
 "nbformat_minor": 5
}
