{
 "cells": [
  {
   "cell_type": "markdown",
   "id": "ee13c217",
   "metadata": {},
   "source": [
    "# Valid Number"
   ]
  },
  {
   "cell_type": "markdown",
   "id": "07d85c5e",
   "metadata": {},
   "source": [
    "Given a string s, return whether s is a valid number.\n",
    "\n",
    "For example, all the following are valid numbers: \"2\", \"0089\", \"-0.1\", \"+3.14\", \"4.\", \"-.9\", \"2e10\", \"-90E3\", \"3e+7\", \"+6e-1\", \"53.5e93\", \"-123.456e789\", while the following are not valid numbers: \"abc\", \"1a\", \"1e\", \"e3\", \"99e2.5\", \"--6\", \"-+3\", \"95a54e53\".\n",
    "\n",
    "Formally, a valid number is defined using one of the following definitions:\n",
    "\n",
    "An integer number followed by an optional exponent.\n",
    "A decimal number followed by an optional exponent.\n",
    "An integer number is defined with an optional sign '-' or '+' followed by digits.\n",
    "\n",
    "A decimal number is defined with an optional sign '-' or '+' followed by one of the following definitions:\n",
    "\n",
    "Digits followed by a dot '.'.\n",
    "Digits followed by a dot '.' followed by digits.\n",
    "A dot '.' followed by digits.\n",
    "An exponent is defined with an exponent notation 'e' or 'E' followed by an integer number.\n",
    "\n",
    "The digits are defined as one or more digits.\n",
    "\n",
    "**Example 1:**\n",
    "\n",
    "Input: s = \"0\"\n",
    "\n",
    "Output: true\n",
    "\n",
    "**Example 2:**\n",
    "\n",
    "Input: s = \"e\"\n",
    "\n",
    "Output: false\n",
    "\n",
    "**Example 3:**\n",
    "\n",
    "Input: s = \".\"\n",
    "\n",
    "Output: false\n",
    "\n",
    "**Constraints:**\n",
    "\n",
    "- 1 <= s.length <= 20\n",
    "- s consists of only English letters (both uppercase and lowercase), digits (0-9), plus '+', minus '-', or dot '.'."
   ]
  },
  {
   "cell_type": "code",
   "execution_count": 1,
   "id": "976609c9",
   "metadata": {},
   "outputs": [],
   "source": [
    "import re\n",
    "\n",
    "def isNumber(s: str) -> bool:\n",
    "    # Strip any leading/trailing whitespace\n",
    "    s = s.strip()\n",
    "    \n",
    "    # Regular expression for a valid number\n",
    "    number_regex = re.compile(\n",
    "        r'^[\\+\\-]?('                    # optional sign\n",
    "        r'(\\d+\\.\\d*)|(\\.\\d+)|(\\d+)'     # digits with dot, or dot with digits, or digits only\n",
    "        r')([eE][\\+\\-]?\\d+)?$'          # optional exponent\n",
    "    )\n",
    "    \n",
    "    return bool(number_regex.match(s))"
   ]
  },
  {
   "cell_type": "code",
   "execution_count": null,
   "id": "7bed06fb",
   "metadata": {},
   "outputs": [],
   "source": []
  }
 ],
 "metadata": {
  "kernelspec": {
   "display_name": "Python 3 (ipykernel)",
   "language": "python",
   "name": "python3"
  },
  "language_info": {
   "codemirror_mode": {
    "name": "ipython",
    "version": 3
   },
   "file_extension": ".py",
   "mimetype": "text/x-python",
   "name": "python",
   "nbconvert_exporter": "python",
   "pygments_lexer": "ipython3",
   "version": "3.8.11"
  }
 },
 "nbformat": 4,
 "nbformat_minor": 5
}
