{
 "cells": [
  {
   "cell_type": "markdown",
   "id": "b31b2d31",
   "metadata": {},
   "source": [
    "# Solve the Equation"
   ]
  },
  {
   "cell_type": "markdown",
   "id": "bdef83c1",
   "metadata": {},
   "source": [
    "Solve a given equation and return the value of 'x' in the form of a string \"x=#value\". The equation contains only '+', '-' operation, the variable 'x' and its coefficient. You should return \"No solution\" if there is no solution for the equation, or \"Infinite solutions\" if there are infinite solutions for the equation.\n",
    "\n",
    "If there is exactly one solution for the equation, we ensure that the value of 'x' is an integer.\n",
    "\n",
    " \n",
    "\n",
    "**Example 1:**\n",
    "\n",
    "Input: equation = \"x+5-3+x=6+x-2\"\n",
    "\n",
    "Output: \"x=2\"\n",
    "\n",
    "**Example 2:**\n",
    "\n",
    "Input: equation = \"x=x\"\n",
    "\n",
    "Output: \"Infinite solutions\"\n",
    "\n",
    "**Example 3:**\n",
    "\n",
    "Input: equation = \"2x=x\"\n",
    "\n",
    "Output: \"x=0\"\n",
    " \n",
    "\n",
    "**Constraints:**\n",
    "\n",
    "- 3 <= equation.length <= 1000\n",
    "- equation has exactly one '='.\n",
    "- equation consists of integers with an absolute value in the range [0, 100] without any leading zeros, and the variable 'x'.- "
   ]
  },
  {
   "cell_type": "code",
   "execution_count": 1,
   "id": "aa564d9c",
   "metadata": {},
   "outputs": [
    {
     "name": "stdout",
     "output_type": "stream",
     "text": [
      "x=2\n",
      "Infinite solutions\n"
     ]
    }
   ],
   "source": [
    "import sympy as sp\n",
    "\n",
    "def solveEquation(equation):\n",
    "    # Split the equation into left and right sides\n",
    "    left, right = equation.split('=')\n",
    "    \n",
    "    # Define the variable 'x' as a symbolic variable\n",
    "    x = sp.symbols('x')\n",
    "    \n",
    "    # Parse and simplify both sides of the equation\n",
    "    left_expr = sp.simplify(sp.sympify(left))\n",
    "    right_expr = sp.simplify(sp.sympify(right))\n",
    "    \n",
    "    # Check for different cases and return the result\n",
    "    if left_expr == right_expr:\n",
    "        return \"Infinite solutions\"\n",
    "    elif left_expr.coeff(x) == right_expr.coeff(x):\n",
    "        return \"No solution\"\n",
    "    else:\n",
    "        x_value = sp.solve(left_expr - right_expr, x)\n",
    "        return f\"x={x_value[0]}\"\n",
    "\n",
    "# Test cases\n",
    "print(solveEquation(\"x+5-3+x=6+x-2\"))  # Output: \"x=2\"\n",
    "print(solveEquation(\"x=x\"))  # Output: \"Infinite solutions\"\n"
   ]
  }
 ],
 "metadata": {
  "kernelspec": {
   "display_name": "Python 3",
   "language": "python",
   "name": "python3"
  },
  "language_info": {
   "codemirror_mode": {
    "name": "ipython",
    "version": 3
   },
   "file_extension": ".py",
   "mimetype": "text/x-python",
   "name": "python",
   "nbconvert_exporter": "python",
   "pygments_lexer": "ipython3",
   "version": "3.9.13"
  }
 },
 "nbformat": 4,
 "nbformat_minor": 5
}
