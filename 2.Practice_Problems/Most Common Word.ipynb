{
 "cells": [
  {
   "cell_type": "markdown",
   "id": "a3d8c54f",
   "metadata": {},
   "source": [
    "# Most Common Word"
   ]
  },
  {
   "cell_type": "markdown",
   "id": "4c9b8b8b",
   "metadata": {},
   "source": [
    "Given a string paragraph and a string array of the banned words banned, return the most frequent word that is not banned. It is guaranteed there is at least one word that is not banned, and that the answer is unique.\n",
    "\n",
    "The words in paragraph are case-insensitive and the answer should be returned in lowercase.\n",
    "\n",
    "**Example 1:**\n",
    "\n",
    "Input: paragraph = \"Bob hit a ball, the hit BALL flew far after it was hit.\", banned = [\"hit\"]\n",
    "Output: \"ball\"\n",
    "Explanation: \n",
    "\"hit\" occurs 3 times, but it is a banned word.\n",
    "\"ball\" occurs twice (and no other word does), so it is the most frequent non-banned word in the paragraph. \n",
    "Note that words in the paragraph are not case sensitive,\n",
    "that punctuation is ignored (even if adjacent to words, such as \"ball,\"), \n",
    "and that \"hit\" isn't the answer even though it occurs more because it is banned.\n",
    "\n",
    "**Example 2:**\n",
    "\n",
    "Input: paragraph = \"a.\", banned = []\n",
    "Output: \"a\"\n",
    " \n",
    "**Constraints:**\n",
    "\n",
    "- 1 <= paragraph.length <= 1000\n",
    "- paragraph consists of English letters, space ' ', or one of the symbols: \"!?',;.\".\n",
    "- 0 <= banned.length <= 100\n",
    "- 1 <= banned[i].length <= 10\n",
    "- banned[i] consists of only lowercase English letters."
   ]
  },
  {
   "cell_type": "code",
   "execution_count": 1,
   "id": "2582ecd9",
   "metadata": {},
   "outputs": [
    {
     "name": "stdout",
     "output_type": "stream",
     "text": [
      "ball\n"
     ]
    }
   ],
   "source": [
    "import re\n",
    "from collections import Counter\n",
    "\n",
    "def most_common_word(paragraph, banned):\n",
    "    # Split the paragraph into words and convert to lowercase\n",
    "    words = re.findall(r'\\w+', paragraph.lower())\n",
    "    \n",
    "    # Count the frequency of each word, excluding banned words\n",
    "    word_count = Counter(word for word in words if word not in banned)\n",
    "    \n",
    "    # Return the most common word\n",
    "    return word_count.most_common(1)[0][0]\n",
    "\n",
    "# Example usage:\n",
    "paragraph = \"Bob hit a ball, the hit BALL flew far after it was hit.\"\n",
    "banned = [\"hit\"]\n",
    "result = most_common_word(paragraph, banned)\n",
    "print(result)  # Output: \"ball\""
   ]
  },
  {
   "cell_type": "code",
   "execution_count": null,
   "id": "e219543e",
   "metadata": {},
   "outputs": [],
   "source": []
  }
 ],
 "metadata": {
  "kernelspec": {
   "display_name": "Python 3",
   "language": "python",
   "name": "python3"
  },
  "language_info": {
   "codemirror_mode": {
    "name": "ipython",
    "version": 3
   },
   "file_extension": ".py",
   "mimetype": "text/x-python",
   "name": "python",
   "nbconvert_exporter": "python",
   "pygments_lexer": "ipython3",
   "version": "3.9.13"
  }
 },
 "nbformat": 4,
 "nbformat_minor": 5
}
