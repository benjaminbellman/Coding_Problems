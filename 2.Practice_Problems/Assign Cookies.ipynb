{
 "cells": [
  {
   "cell_type": "markdown",
   "id": "250c940a",
   "metadata": {},
   "source": [
    "# Assign Cookies"
   ]
  },
  {
   "cell_type": "markdown",
   "id": "3956505b",
   "metadata": {},
   "source": [
    "Assume you are an awesome parent and want to give your children some cookies. But, you should give each child at most one cookie.\n",
    "\n",
    "Each child i has a greed factor g[i], which is the minimum size of a cookie that the child will be content with; and each cookie j has a size s[j]. If s[j] >= g[i], we can assign the cookie j to the child i, and the child i will be content. Your goal is to maximize the number of your content children and output the maximum number.\n",
    "\n",
    " \n",
    "\n",
    "**Example 1:**\n",
    "\n",
    "Input: g = [1,2,3], s = [1,1]\n",
    "Output: 1\n",
    "Explanation: You have 3 children and 2 cookies. The greed factors of 3 children are 1, 2, 3. \n",
    "And even though you have 2 cookies, since their size is both 1, you could only make the child whose greed factor is 1 content.\n",
    "You need to output 1.\n",
    "\n",
    "**Example 2:**\n",
    "\n",
    "Input: g = [1,2], s = [1,2,3]\n",
    "Output: 2\n",
    "Explanation: You have 2 children and 3 cookies. The greed factors of 2 children are 1, 2. \n",
    "You have 3 cookies and their sizes are big enough to gratify all of the children, \n",
    "You need to output 2.\n",
    " \n",
    "\n",
    "**Constraints:**\n",
    "\n",
    "- 1 <= g.length <= 3 * 104\n",
    "- 0 <= s.length <= 3 * 104\n",
    "- 1 <= g[i], s[j] <= 231 - 1"
   ]
  },
  {
   "cell_type": "code",
   "execution_count": 1,
   "id": "ed89301b",
   "metadata": {},
   "outputs": [
    {
     "name": "stdout",
     "output_type": "stream",
     "text": [
      "1\n",
      "2\n"
     ]
    }
   ],
   "source": [
    "def find_content_children(g, s):\n",
    "    # Sort the children's greed factors and cookie sizes in ascending order\n",
    "    g.sort()\n",
    "    s.sort()\n",
    "\n",
    "    content_children = 0\n",
    "    i = j = 0\n",
    "\n",
    "    while i < len(g) and j < len(s):\n",
    "        # If the cookie size satisfies the child's greed factor, assign the cookie\n",
    "        if s[j] >= g[i]:\n",
    "            content_children += 1\n",
    "            i += 1\n",
    "        j += 1\n",
    "\n",
    "    return content_children\n",
    "\n",
    "# Test cases\n",
    "print(find_content_children([1, 2, 3], [1, 1]))  # Output: 1\n",
    "print(find_content_children([1, 2], [1, 2, 3]))  # Output: 2"
   ]
  }
 ],
 "metadata": {
  "kernelspec": {
   "display_name": "Python 3",
   "language": "python",
   "name": "python3"
  },
  "language_info": {
   "codemirror_mode": {
    "name": "ipython",
    "version": 3
   },
   "file_extension": ".py",
   "mimetype": "text/x-python",
   "name": "python",
   "nbconvert_exporter": "python",
   "pygments_lexer": "ipython3",
   "version": "3.9.13"
  }
 },
 "nbformat": 4,
 "nbformat_minor": 5
}
