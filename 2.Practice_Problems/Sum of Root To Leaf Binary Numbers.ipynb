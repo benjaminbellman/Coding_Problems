{
 "cells": [
  {
   "cell_type": "markdown",
   "id": "0df5a858",
   "metadata": {},
   "source": [
    "# Sum of Root To Leaf Binary Numbers"
   ]
  },
  {
   "cell_type": "markdown",
   "id": "91de0e33",
   "metadata": {},
   "source": [
    "You are given the root of a binary tree where each node has a value 0 or 1. Each root-to-leaf path represents a binary number starting with the most significant bit.\n",
    "\n",
    "For example, if the path is 0 -> 1 -> 1 -> 0 -> 1, then this could represent 01101 in binary, which is 13.\n",
    "For all leaves in the tree, consider the numbers represented by the path from the root to that leaf. Return the sum of these numbers.\n",
    "\n",
    "The test cases are generated so that the answer fits in a 32-bits integer.\n",
    "\n",
    "**Example 1:**\n",
    "\n",
    "Input: root = [1,0,1,0,1,0,1]\n",
    "Output: 22\n",
    "Explanation: (100) + (101) + (110) + (111) = 4 + 5 + 6 + 7 = 22\n",
    "\n",
    "**Example 2:**\n",
    "\n",
    "Input: root = [0]\n",
    "Output: 0\n",
    " \n",
    "**Constraints:**\n",
    "\n",
    "- The number of nodes in the tree is in the range [1, 1000].\n",
    "- Node.val is 0 or 1."
   ]
  },
  {
   "cell_type": "code",
   "execution_count": 1,
   "id": "e23acdeb",
   "metadata": {},
   "outputs": [],
   "source": [
    "class TreeNode:\n",
    "    def __init__(self, val=0, left=None, right=None):\n",
    "        self.val = val\n",
    "        self.left = left\n",
    "        self.right = right\n",
    "\n",
    "def sumRootToLeaf(root):\n",
    "    def dfs(node, curr_value):\n",
    "        if not node:\n",
    "            return 0\n",
    "        \n",
    "        # Update the current value with the current node's value\n",
    "        curr_value = curr_value * 2 + node.val\n",
    "        \n",
    "        # If it's a leaf node, return the current value\n",
    "        if not node.left and not node.right:\n",
    "            return curr_value\n",
    "        \n",
    "        # Otherwise, continue the DFS for left and right subtrees\n",
    "        left_sum = dfs(node.left, curr_value)\n",
    "        right_sum = dfs(node.right, curr_value)\n",
    "        \n",
    "        return left_sum + right_sum\n",
    "\n",
    "    return dfs(root, 0)"
   ]
  },
  {
   "cell_type": "code",
   "execution_count": null,
   "id": "b255e464",
   "metadata": {},
   "outputs": [],
   "source": []
  }
 ],
 "metadata": {
  "kernelspec": {
   "display_name": "Python 3 (ipykernel)",
   "language": "python",
   "name": "python3"
  },
  "language_info": {
   "codemirror_mode": {
    "name": "ipython",
    "version": 3
   },
   "file_extension": ".py",
   "mimetype": "text/x-python",
   "name": "python",
   "nbconvert_exporter": "python",
   "pygments_lexer": "ipython3",
   "version": "3.8.11"
  }
 },
 "nbformat": 4,
 "nbformat_minor": 5
}
