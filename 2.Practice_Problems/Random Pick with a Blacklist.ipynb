{
 "cells": [
  {
   "cell_type": "markdown",
   "id": "6f6d9ca8",
   "metadata": {},
   "source": [
    "# Random Pick with a Blacklist"
   ]
  },
  {
   "cell_type": "markdown",
   "id": "4dc51fec",
   "metadata": {},
   "source": [
    "You are given an integer n and an array of unique integers blacklist. Design an algorithm to pick a random integer in the range [0, n - 1] that is not in blacklist. Any integer that is in the mentioned range and not in blacklist should be equally likely to be returned.\n",
    "\n",
    "Optimize your algorithm such that it minimizes the number of calls to the built-in random function of your language.\n",
    "\n",
    "Implement the Solution class:\n",
    "\n",
    "Solution(int n, int[] blacklist) Initializes the object with the integer n and the blacklisted integers blacklist.\n",
    "int pick() Returns a random integer in the range [0, n - 1] and not in blacklist.\n",
    " \n",
    "\n",
    "**Example 1:**\n",
    "\n",
    "Input\n",
    "[\"Solution\", \"pick\", \"pick\", \"pick\", \"pick\", \"pick\", \"pick\", \"pick\"]\n",
    "[[7, [2, 3, 5]], [], [], [], [], [], [], []]\n",
    "Output\n",
    "[null, 0, 4, 1, 6, 1, 0, 4]\n",
    "\n",
    "Explanation\n",
    "\n",
    "    Solution solution = new Solution(7, [2, 3, 5]);\n",
    "    solution.pick(); // return 0, any integer from [0,1,4,6] should be ok. Note that for every call of pick,\n",
    "                     // 0, 1, 4, and 6 must be equally likely to be returned (i.e., with probability 1/4).\n",
    "    solution.pick(); // return 4\n",
    "    solution.pick(); // return 1\n",
    "    solution.pick(); // return 6\n",
    "    solution.pick(); // return 1\n",
    "    solution.pick(); // return 0\n",
    "    solution.pick(); // return 4\n",
    " \n",
    "\n",
    "**Constraints:**\n",
    "\n",
    "- 1 <= n <= 109\n",
    "- 0 <= blacklist.length <= min(105, n - 1)\n",
    "- 0 <= blacklist[i] < n\n",
    "- All the values of blacklist are unique.\n",
    "- At most 2 * 104 calls will be made to pick."
   ]
  },
  {
   "cell_type": "code",
   "execution_count": 2,
   "id": "07a76d2a",
   "metadata": {},
   "outputs": [],
   "source": [
    "import random\n",
    "from typing import List\n",
    "\n",
    "class Solution:\n",
    "    def __init__(self, n: int, blacklist: List[int]):\n",
    "        self.n = n\n",
    "        self.mapping = {}\n",
    "        blacklist_set = set(blacklist)\n",
    "        last = n - len(blacklist)\n",
    "        for num in blacklist:\n",
    "            if num < last:\n",
    "                while last in blacklist_set:\n",
    "                    last += 1\n",
    "                self.mapping[num] = last\n",
    "                last += 1\n",
    "\n",
    "    def pick(self) -> int:\n",
    "        index = random.randint(0, self.n - len(self.mapping) - 1)\n",
    "        return self.mapping.get(index, index)"
   ]
  },
  {
   "cell_type": "code",
   "execution_count": null,
   "id": "a16f8949",
   "metadata": {},
   "outputs": [],
   "source": []
  }
 ],
 "metadata": {
  "kernelspec": {
   "display_name": "Python 3",
   "language": "python",
   "name": "python3"
  },
  "language_info": {
   "codemirror_mode": {
    "name": "ipython",
    "version": 3
   },
   "file_extension": ".py",
   "mimetype": "text/x-python",
   "name": "python",
   "nbconvert_exporter": "python",
   "pygments_lexer": "ipython3",
   "version": "3.9.13"
  }
 },
 "nbformat": 4,
 "nbformat_minor": 5
}
