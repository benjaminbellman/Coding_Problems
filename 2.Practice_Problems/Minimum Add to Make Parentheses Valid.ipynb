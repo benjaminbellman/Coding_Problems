{
 "cells": [
  {
   "cell_type": "markdown",
   "id": "7cb8b9b9",
   "metadata": {},
   "source": [
    "# Minimum Add to Make Parentheses Valid"
   ]
  },
  {
   "cell_type": "markdown",
   "id": "e145acc1",
   "metadata": {},
   "source": [
    "A parentheses string is valid if and only if:\n",
    "\n",
    "- It is the empty string,\n",
    "- It can be written as AB (A concatenated with B), where A and B are valid strings, or\n",
    "- It can be written as (A), where A is a valid string.\n",
    "\n",
    "You are given a parentheses string s. In one move, you can insert a parenthesis at any position of the string.\n",
    "\n",
    "For example, if s = \"()))\", you can insert an opening parenthesis to be \"(()))\" or a closing parenthesis to be \"())))\".\n",
    "Return the minimum number of moves required to make s valid.\n",
    "\n",
    "**Example 1:**\n",
    "\n",
    "Input: s = \"())\"\n",
    "Output: 1\n",
    "\n",
    "**Example 2:**\n",
    "\n",
    "Input: s = \"(((\"\n",
    "Output: 3\n",
    " \n",
    "\n",
    "**Constraints:**\n",
    "\n",
    "- 1 <= s.length <= 1000\n",
    "- s[i] is either '(' or ')'."
   ]
  },
  {
   "cell_type": "code",
   "execution_count": 1,
   "id": "b5f2462d",
   "metadata": {},
   "outputs": [
    {
     "name": "stdout",
     "output_type": "stream",
     "text": [
      "1\n",
      "3\n"
     ]
    }
   ],
   "source": [
    "def minAddToMakeValid(s: str) -> int:\n",
    "    open_needed = 0  # To track how many '(' are needed\n",
    "    close_needed = 0  # To track how many ')' are needed\n",
    "    \n",
    "    for char in s:\n",
    "        if char == '(':\n",
    "            close_needed += 1  # We need one more ')' to balance\n",
    "        else:\n",
    "            if close_needed > 0:\n",
    "                close_needed -= 1  # A ')' can balance a '('\n",
    "            else:\n",
    "                open_needed += 1  # No '(' to balance, so we need an extra '('\n",
    "    \n",
    "    return open_needed + close_needed\n",
    "\n",
    "# Test cases\n",
    "print(minAddToMakeValid(\"())\"))  # Output: 1\n",
    "print(minAddToMakeValid(\"(((\"))  # Output: 3"
   ]
  },
  {
   "cell_type": "code",
   "execution_count": null,
   "id": "c70fecdd",
   "metadata": {},
   "outputs": [],
   "source": []
  }
 ],
 "metadata": {
  "kernelspec": {
   "display_name": "Python 3 (ipykernel)",
   "language": "python",
   "name": "python3"
  },
  "language_info": {
   "codemirror_mode": {
    "name": "ipython",
    "version": 3
   },
   "file_extension": ".py",
   "mimetype": "text/x-python",
   "name": "python",
   "nbconvert_exporter": "python",
   "pygments_lexer": "ipython3",
   "version": "3.8.11"
  }
 },
 "nbformat": 4,
 "nbformat_minor": 5
}
