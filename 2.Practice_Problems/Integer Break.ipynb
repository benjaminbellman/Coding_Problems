{
 "cells": [
  {
   "cell_type": "markdown",
   "id": "c2155129",
   "metadata": {},
   "source": [
    "# Integer Break"
   ]
  },
  {
   "cell_type": "markdown",
   "id": "eb23f26c",
   "metadata": {},
   "source": [
    "Given an integer n, break it into the sum of k positive integers, where k >= 2, and maximize the product of those integers.\n",
    "\n",
    "Return the maximum product you can get.\n",
    "\n",
    " \n",
    "\n",
    "**Example 1:**\n",
    "\n",
    "Input: n = 2\n",
    "Output: 1\n",
    "Explanation: 2 = 1 + 1, 1 × 1 = 1.\n",
    "\n",
    "**Example 2:**\n",
    "\n",
    "Input: n = 10\n",
    "Output: 36\n",
    "Explanation: 10 = 3 + 3 + 4, 3 × 3 × 4 = 36.\n",
    " \n",
    "\n",
    "**Constraints:**\n",
    "\n",
    "2 <= n <= 58"
   ]
  },
  {
   "cell_type": "code",
   "execution_count": 1,
   "id": "ec699a67",
   "metadata": {},
   "outputs": [
    {
     "name": "stdout",
     "output_type": "stream",
     "text": [
      "1\n",
      "36\n"
     ]
    }
   ],
   "source": [
    "def integerBreak(n):\n",
    "    # Create a list to store the maximum product for each number from 0 to n\n",
    "    dp = [0] * (n + 1)\n",
    "    dp[1] = 1  # Base case: the maximum product for 1 is 1\n",
    "\n",
    "    # Iterate from 2 to n\n",
    "    for i in range(2, n + 1):\n",
    "        # For each number i, calculate the maximum product by breaking it into two parts\n",
    "        for j in range(1, i):\n",
    "            # Break i into j and (i - j)\n",
    "            # The product of the two parts is j * (i - j)\n",
    "            # We take the maximum product between the current dp[i] and the product of the two parts\n",
    "            dp[i] = max(dp[i], j * max(i - j, dp[i - j]))\n",
    "\n",
    "    return dp[n]\n",
    "\n",
    "# Testing the provided examples\n",
    "print(integerBreak(2))  # Output: 1\n",
    "print(integerBreak(10))  # Output: 36"
   ]
  }
 ],
 "metadata": {
  "kernelspec": {
   "display_name": "Python 3",
   "language": "python",
   "name": "python3"
  },
  "language_info": {
   "codemirror_mode": {
    "name": "ipython",
    "version": 3
   },
   "file_extension": ".py",
   "mimetype": "text/x-python",
   "name": "python",
   "nbconvert_exporter": "python",
   "pygments_lexer": "ipython3",
   "version": "3.9.13"
  }
 },
 "nbformat": 4,
 "nbformat_minor": 5
}
