{
 "cells": [
  {
   "cell_type": "markdown",
   "id": "54df5bce",
   "metadata": {},
   "source": [
    "# Largest Time for Given Digits"
   ]
  },
  {
   "cell_type": "markdown",
   "id": "9b2ea17a",
   "metadata": {},
   "source": [
    "Given an array arr of 4 digits, find the latest 24-hour time that can be made using each digit exactly once.\n",
    "\n",
    "24-hour times are formatted as \"HH:MM\", where HH is between 00 and 23, and MM is between 00 and 59. The earliest 24-hour time is 00:00, and the latest is 23:59.\n",
    "\n",
    "Return the latest 24-hour time in \"HH:MM\" format. If no valid time can be made, return an empty string.\n",
    "\n",
    "**Example 1:**\n",
    "\n",
    "Input: arr = [1,2,3,4]\n",
    "Output: \"23:41\"\n",
    "Explanation: The valid 24-hour times are \"12:34\", \"12:43\", \"13:24\", \"13:42\", \"14:23\", \"14:32\", \"21:34\", \"21:43\", \"23:14\", and \"23:41\". Of these times, \"23:41\" is the latest.\n",
    "\n",
    "**Example 2:**\n",
    "\n",
    "Input: arr = [5,5,5,5]\n",
    "Output: \"\"\n",
    "Explanation: There are no valid 24-hour times as \"55:55\" is not valid.\n",
    " \n",
    "**Constraints:**\n",
    "\n",
    "- arr.length == 4\n",
    "- 0 <= arr[i] <= 9"
   ]
  },
  {
   "cell_type": "code",
   "execution_count": 1,
   "id": "bd7c713d",
   "metadata": {},
   "outputs": [
    {
     "name": "stdout",
     "output_type": "stream",
     "text": [
      "23:41\n",
      "\n"
     ]
    }
   ],
   "source": [
    "from itertools import permutations\n",
    "\n",
    "def largestTimeFromDigits(arr):\n",
    "    max_time = -1\n",
    "    # Generate all permutations of the 4 digits\n",
    "    for perm in permutations(arr):\n",
    "        # Extract hours and minutes\n",
    "        hours = perm[0] * 10 + perm[1]\n",
    "        minutes = perm[2] * 10 + perm[3]\n",
    "        \n",
    "        # Check if the hours and minutes form a valid time\n",
    "        if hours < 24 and minutes < 60:\n",
    "            total_minutes = hours * 60 + minutes\n",
    "            max_time = max(max_time, total_minutes)\n",
    "    \n",
    "    if max_time == -1:\n",
    "        return \"\"\n",
    "    else:\n",
    "        # Convert the total minutes back to HH:MM format\n",
    "        max_hours = max_time // 60\n",
    "        max_minutes = max_time % 60\n",
    "        return f\"{max_hours:02}:{max_minutes:02}\"\n",
    "\n",
    "# Example usage:\n",
    "arr1 = [1, 2, 3, 4]\n",
    "arr2 = [5, 5, 5, 5]\n",
    "\n",
    "print(largestTimeFromDigits(arr1))  # Output: \"23:41\"\n",
    "print(largestTimeFromDigits(arr2))  # Output: \"\""
   ]
  },
  {
   "cell_type": "code",
   "execution_count": null,
   "id": "b1b9ed15",
   "metadata": {},
   "outputs": [],
   "source": []
  }
 ],
 "metadata": {
  "kernelspec": {
   "display_name": "Python 3 (ipykernel)",
   "language": "python",
   "name": "python3"
  },
  "language_info": {
   "codemirror_mode": {
    "name": "ipython",
    "version": 3
   },
   "file_extension": ".py",
   "mimetype": "text/x-python",
   "name": "python",
   "nbconvert_exporter": "python",
   "pygments_lexer": "ipython3",
   "version": "3.8.11"
  }
 },
 "nbformat": 4,
 "nbformat_minor": 5
}
