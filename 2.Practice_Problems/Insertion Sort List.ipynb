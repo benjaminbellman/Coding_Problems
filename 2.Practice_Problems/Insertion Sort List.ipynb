{
 "cells": [
  {
   "cell_type": "markdown",
   "id": "6e42a5c6",
   "metadata": {},
   "source": [
    "# Insertion Sort List"
   ]
  },
  {
   "cell_type": "markdown",
   "id": "563bb2bb",
   "metadata": {},
   "source": [
    "Given the head of a singly linked list, sort the list using insertion sort, and return the sorted list's head.\n",
    "\n",
    "The steps of the insertion sort algorithm:\n",
    "\n",
    "Insertion sort iterates, consuming one input element each repetition and growing a sorted output list.\n",
    "At each iteration, insertion sort removes one element from the input data, finds the location it belongs within the sorted list and inserts it there.\n",
    "It repeats until no input elements remain.\n",
    "The following is a graphical example of the insertion sort algorithm. The partially sorted list (black) initially contains only the first element in the list. One element (red) is removed from the input data and inserted in-place into the sorted list with each iteration.\n",
    "\n",
    "**Example 1:**\n",
    "\n",
    "Input: head = [4,2,1,3]\n",
    "Output: [1,2,3,4]\n",
    "\n",
    "**Example 2:**\n",
    "\n",
    "Input: head = [-1,5,3,4,0]\n",
    "Output: [-1,0,3,4,5]\n",
    " \n",
    "**Constraints:**\n",
    "\n",
    "- The number of nodes in the list is in the range [1, 5000].\n",
    "- -5000 <= Node.val <= 5000"
   ]
  },
  {
   "cell_type": "code",
   "execution_count": 1,
   "id": "c3854c8d",
   "metadata": {},
   "outputs": [],
   "source": [
    "# Definition for singly-linked list.\n",
    "class ListNode:\n",
    "    def __init__(self, val=0, next=None):\n",
    "        self.val = val\n",
    "        self.next = next\n",
    "\n",
    "class Solution:\n",
    "    def insertionSortList(self, head: ListNode) -> ListNode:\n",
    "        # Dummy node acts as the pre-head of the sorted list\n",
    "        dummy = ListNode(0)\n",
    "        curr = head\n",
    "\n",
    "        while curr:\n",
    "            # Keep reference to the next node to process\n",
    "            next_node = curr.next\n",
    "\n",
    "            # Find where to insert the current node in the sorted list\n",
    "            prev = dummy\n",
    "            while prev.next and prev.next.val < curr.val:\n",
    "                prev = prev.next\n",
    "\n",
    "            # Insert the current node between prev and prev.next\n",
    "            curr.next = prev.next\n",
    "            prev.next = curr\n",
    "\n",
    "            # Move to the next node\n",
    "            curr = next_node\n",
    "\n",
    "        return dummy.next"
   ]
  },
  {
   "cell_type": "code",
   "execution_count": null,
   "id": "92ccbdde",
   "metadata": {},
   "outputs": [],
   "source": []
  }
 ],
 "metadata": {
  "kernelspec": {
   "display_name": "Python 3 (ipykernel)",
   "language": "python",
   "name": "python3"
  },
  "language_info": {
   "codemirror_mode": {
    "name": "ipython",
    "version": 3
   },
   "file_extension": ".py",
   "mimetype": "text/x-python",
   "name": "python",
   "nbconvert_exporter": "python",
   "pygments_lexer": "ipython3",
   "version": "3.8.11"
  }
 },
 "nbformat": 4,
 "nbformat_minor": 5
}
