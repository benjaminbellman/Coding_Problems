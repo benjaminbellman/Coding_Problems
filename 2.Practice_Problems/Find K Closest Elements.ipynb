{
 "cells": [
  {
   "cell_type": "markdown",
   "id": "9a3589fc",
   "metadata": {},
   "source": [
    "# Find K Closest Elements"
   ]
  },
  {
   "cell_type": "markdown",
   "id": "98f1ff8c",
   "metadata": {},
   "source": [
    "Given a sorted integer array arr, two integers k and x, return the k closest integers to x in the array. The result should also be sorted in ascending order.\n",
    "\n",
    "An integer a is closer to x than an integer b if:\n",
    "\n",
    "- |a - x| < |b - x|, or\n",
    "- |a - x| == |b - x| and a < b\n",
    " \n",
    "\n",
    "**Example 1:**\n",
    "\n",
    "Input: arr = [1,2,3,4,5], k = 4, x = 3\n",
    "\n",
    "Output: [1,2,3,4]\n",
    "\n",
    "**Example 2:**\n",
    "\n",
    "Input: arr = [1,2,3,4,5], k = 4, x = -1\n",
    "\n",
    "Output: [1,2,3,4]\n",
    " \n",
    "\n",
    "**Constraints:**\n",
    "\n",
    "- 1 <= k <= arr.length\n",
    "- 1 <= arr.length <= 104\n",
    "- arr is sorted in ascending order.\n",
    "- -104 <= arr[i], x <= 104"
   ]
  },
  {
   "cell_type": "code",
   "execution_count": 1,
   "id": "226c12f4",
   "metadata": {},
   "outputs": [
    {
     "name": "stdout",
     "output_type": "stream",
     "text": [
      "[1, 2, 3, 4]\n",
      "[1, 2, 3, 4]\n"
     ]
    }
   ],
   "source": [
    "def findClosestElements(arr, k, x):\n",
    "    left, right = 0, len(arr) - k\n",
    "    \n",
    "    while left < right:\n",
    "        mid = (left + right) // 2\n",
    "        \n",
    "        if x - arr[mid] > arr[mid + k] - x:\n",
    "            left = mid + 1\n",
    "        else:\n",
    "            right = mid\n",
    "    \n",
    "    return arr[left:left + k]\n",
    "\n",
    "# Example 1\n",
    "arr1 = [1, 2, 3, 4, 5]\n",
    "k1 = 4\n",
    "x1 = 3\n",
    "result1 = findClosestElements(arr1, k1, x1)\n",
    "print(result1)  # Output: [1, 2, 3, 4]\n",
    "\n",
    "# Example 2\n",
    "arr2 = [1, 2, 3, 4, 5]\n",
    "k2 = 4\n",
    "x2 = -1\n",
    "result2 = findClosestElements(arr2, k2, x2)\n",
    "print(result2)  # Output: [1, 2, 3, 4]"
   ]
  },
  {
   "cell_type": "code",
   "execution_count": null,
   "id": "04befd94",
   "metadata": {},
   "outputs": [],
   "source": []
  }
 ],
 "metadata": {
  "kernelspec": {
   "display_name": "Python 3",
   "language": "python",
   "name": "python3"
  },
  "language_info": {
   "codemirror_mode": {
    "name": "ipython",
    "version": 3
   },
   "file_extension": ".py",
   "mimetype": "text/x-python",
   "name": "python",
   "nbconvert_exporter": "python",
   "pygments_lexer": "ipython3",
   "version": "3.9.13"
  }
 },
 "nbformat": 4,
 "nbformat_minor": 5
}
