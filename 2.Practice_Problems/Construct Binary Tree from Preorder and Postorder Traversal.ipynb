{
 "cells": [
  {
   "cell_type": "markdown",
   "id": "f045b971",
   "metadata": {},
   "source": [
    "# Construct Binary Tree from Preorder and Postorder Traversal"
   ]
  },
  {
   "cell_type": "markdown",
   "id": "e65bc9e9",
   "metadata": {},
   "source": [
    "Given two integer arrays, preorder and postorder where preorder is the preorder traversal of a binary tree of distinct values and postorder is the postorder traversal of the same tree, reconstruct and return the binary tree.\n",
    "\n",
    "If there exist multiple answers, you can return any of them\n",
    " \n",
    "**Example 1:**\n",
    "\n",
    "Input: preorder = [1,2,4,5,3,6,7], postorder = [4,5,2,6,7,3,1]\n",
    "Output: [1,2,3,4,5,6,7]\n",
    "\n",
    "**Example 2:**\n",
    "\n",
    "Input: preorder = [1], postorder = [1]\n",
    "Output: [1]\n",
    "\n",
    "**Constraints:**\n",
    "\n",
    "- 1 <= preorder.length <= 30\n",
    "- 1 <= preorder[i] <= preorder.length\n",
    "- All the values of preorder are unique.\n",
    "- postorder.length == preorder.length\n",
    "- 1 <= postorder[i] <= postorder.length\n",
    "- All the values of postorder are unique.\n",
    "- It is guaranteed that preorder and postorder are the preorder traversal and postorder traversal of the same binary tree."
   ]
  },
  {
   "cell_type": "code",
   "execution_count": 1,
   "id": "24a56cb5",
   "metadata": {},
   "outputs": [],
   "source": [
    "class TreeNode:\n",
    "    def __init__(self, val=0, left=None, right=None):\n",
    "        self.val = val\n",
    "        self.left = left\n",
    "        self.right = right\n",
    "\n",
    "def constructFromPrePost(preorder, postorder):\n",
    "    if not preorder or not postorder:\n",
    "        return None\n",
    "    \n",
    "    def build(pre_left, pre_right, post_left, post_right):\n",
    "        if pre_left > pre_right:\n",
    "            return None\n",
    "        if pre_left == pre_right:\n",
    "            return TreeNode(preorder[pre_left])\n",
    "        \n",
    "        root_val = preorder[pre_left]\n",
    "        root = TreeNode(root_val)\n",
    "        \n",
    "        # Find the root of the right subtree\n",
    "        right_root_val = preorder[pre_left + 1]\n",
    "        right_root_index = postorder_index_map[right_root_val]\n",
    "        \n",
    "        # Calculate the size of the left subtree\n",
    "        left_subtree_size = right_root_index - post_left + 1\n",
    "        \n",
    "        # Recursively build left and right subtrees\n",
    "        root.left = build(pre_left + 1, pre_left + left_subtree_size, post_left, right_root_index)\n",
    "        root.right = build(pre_left + left_subtree_size + 1, pre_right, right_root_index + 1, post_right - 1)\n",
    "        \n",
    "        return root\n",
    "    \n",
    "    # Create a map to quickly find the index of any value in postorder\n",
    "    postorder_index_map = {val: idx for idx, val in enumerate(postorder)}\n",
    "    \n",
    "    return build(0, len(preorder) - 1, 0, len(postorder) - 1)\n",
    "\n",
    "# Example usage\n",
    "preorder = [1,2,4,5,3,6,7]\n",
    "postorder = [4,5,2,6,7,3,1]\n",
    "root = constructFromPrePost(preorder, postorder)"
   ]
  },
  {
   "cell_type": "code",
   "execution_count": null,
   "id": "a4ddf803",
   "metadata": {},
   "outputs": [],
   "source": []
  }
 ],
 "metadata": {
  "kernelspec": {
   "display_name": "Python 3 (ipykernel)",
   "language": "python",
   "name": "python3"
  },
  "language_info": {
   "codemirror_mode": {
    "name": "ipython",
    "version": 3
   },
   "file_extension": ".py",
   "mimetype": "text/x-python",
   "name": "python",
   "nbconvert_exporter": "python",
   "pygments_lexer": "ipython3",
   "version": "3.8.11"
  }
 },
 "nbformat": 4,
 "nbformat_minor": 5
}
