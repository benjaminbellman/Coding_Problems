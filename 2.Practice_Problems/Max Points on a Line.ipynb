{
 "cells": [
  {
   "cell_type": "markdown",
   "id": "88b652f4",
   "metadata": {},
   "source": [
    "# Max Points on a Line\n"
   ]
  },
  {
   "cell_type": "markdown",
   "id": "fda26d6a",
   "metadata": {},
   "source": [
    "Given an array of points where points[i] = [xi, yi] represents a point on the X-Y plane, return the maximum number of points that lie on the same straight line.\n",
    "\n",
    "**Example 1:**\n",
    "\n",
    "Input: points = [[1,1],[2,2],[3,3]]\n",
    "Output: 3\n",
    "\n",
    "**Example 2:**\n",
    "\n",
    "Input: points = [[1,1],[3,2],[5,3],[4,1],[2,3],[1,4]]\n",
    "Output: 4\n",
    " \n",
    "**Constraints:**\n",
    "\n",
    "- 1 <= points.length <= 300\n",
    "- points[i].length == 2\n",
    "- -104 <= xi, yi <= 104\n",
    "- All the points are unique."
   ]
  },
  {
   "cell_type": "code",
   "execution_count": 1,
   "id": "441abc97",
   "metadata": {},
   "outputs": [
    {
     "name": "stdout",
     "output_type": "stream",
     "text": [
      "3\n",
      "4\n"
     ]
    }
   ],
   "source": [
    "from math import gcd\n",
    "from collections import defaultdict\n",
    "\n",
    "def maxPoints(points):\n",
    "    n = len(points)\n",
    "    if n <= 2: \n",
    "        return n\n",
    "\n",
    "    def norm(dy, dx):\n",
    "        if dx == 0:           # vertical line\n",
    "            return (1, 0)\n",
    "        if dy == 0:           # horizontal line\n",
    "            return (0, 1)\n",
    "        g = gcd(dy, dx)\n",
    "        dy //= g\n",
    "        dx //= g\n",
    "        # keep a unique direction (dx > 0), or if dx==0 handled above\n",
    "        if dx < 0:\n",
    "            dy, dx = -dy, -dx\n",
    "        return (dy, dx)       # represents slope = dy/dx\n",
    "\n",
    "    best = 1\n",
    "    for i in range(n):\n",
    "        slopes = defaultdict(int)\n",
    "        xi, yi = points[i]\n",
    "        for j in range(i + 1, n):\n",
    "            xj, yj = points[j]\n",
    "            dy = yj - yi\n",
    "            dx = xj - xi\n",
    "            key = norm(dy, dx)\n",
    "            slopes[key] += 1\n",
    "            best = max(best, slopes[key] + 1)  # +1 includes anchor\n",
    "    return best\n",
    "\n",
    "# Examples\n",
    "print(maxPoints([[1,1],[2,2],[3,3]]))                          # 3\n",
    "print(maxPoints([[1,1],[3,2],[5,3],[4,1],[2,3],[1,4]]))        # 4"
   ]
  },
  {
   "cell_type": "code",
   "execution_count": null,
   "id": "1386c422",
   "metadata": {},
   "outputs": [],
   "source": []
  }
 ],
 "metadata": {
  "kernelspec": {
   "display_name": "Python 3 (ipykernel)",
   "language": "python",
   "name": "python3"
  },
  "language_info": {
   "codemirror_mode": {
    "name": "ipython",
    "version": 3
   },
   "file_extension": ".py",
   "mimetype": "text/x-python",
   "name": "python",
   "nbconvert_exporter": "python",
   "pygments_lexer": "ipython3",
   "version": "3.8.11"
  }
 },
 "nbformat": 4,
 "nbformat_minor": 5
}
