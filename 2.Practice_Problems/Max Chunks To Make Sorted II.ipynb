{
 "cells": [
  {
   "cell_type": "markdown",
   "id": "a66856f0",
   "metadata": {},
   "source": [
    "# Max Chunks To Make Sorted II"
   ]
  },
  {
   "cell_type": "markdown",
   "id": "b4976e4d",
   "metadata": {},
   "source": [
    "You are given an integer array arr.\n",
    "\n",
    "We split arr into some number of chunks (i.e., partitions), and individually sort each chunk. After concatenating them, the result should equal the sorted array.\n",
    "\n",
    "Return the largest number of chunks we can make to sort the array.\n",
    "\n",
    " \n",
    "\n",
    "**Example 1:**\n",
    "\n",
    "Input: arr = [5,4,3,2,1]\n",
    "\n",
    "Output: 1\n",
    "Explanation:\n",
    "Splitting into two or more chunks will not return the required result.\n",
    "For example, splitting into [5, 4], [3, 2, 1] will result in [4, 5, 1, 2, 3], which isn't sorted.\n",
    "\n",
    "**Example 2:**\n",
    "\n",
    "Input: arr = [2,1,3,4,4]\n",
    "\n",
    "Output: 4\n",
    "Explanation:\n",
    "We can split into two chunks, such as [2, 1], [3, 4, 4].\n",
    "However, splitting into [2, 1], [3], [4], [4] is the highest number of chunks possible.\n",
    " \n",
    "\n",
    "**Constraints:**\n",
    "\n",
    "- 1 <= arr.length <= 2000\n",
    "- 0 <= arr[i] <= 108"
   ]
  },
  {
   "cell_type": "code",
   "execution_count": 1,
   "id": "97e97ea2",
   "metadata": {},
   "outputs": [
    {
     "name": "stdout",
     "output_type": "stream",
     "text": [
      "0\n",
      "1\n"
     ]
    }
   ],
   "source": [
    "def max_chunks_to_sorted(arr):\n",
    "    max_val = 0\n",
    "    chunks = 0\n",
    "    for i, num in enumerate(arr):\n",
    "        max_val = max(max_val, num)\n",
    "        if max_val == i:\n",
    "            chunks += 1\n",
    "    return chunks\n",
    "\n",
    "# Example usage:\n",
    "arr1 = [5, 4, 3, 2, 1]\n",
    "arr2 = [2, 1, 3, 4, 4]\n",
    "print(max_chunks_to_sorted(arr1))  # Output: 1\n",
    "print(max_chunks_to_sorted(arr2))  # Output: 4"
   ]
  },
  {
   "cell_type": "code",
   "execution_count": null,
   "id": "9a0cbbf0",
   "metadata": {},
   "outputs": [],
   "source": []
  }
 ],
 "metadata": {
  "kernelspec": {
   "display_name": "Python 3",
   "language": "python",
   "name": "python3"
  },
  "language_info": {
   "codemirror_mode": {
    "name": "ipython",
    "version": 3
   },
   "file_extension": ".py",
   "mimetype": "text/x-python",
   "name": "python",
   "nbconvert_exporter": "python",
   "pygments_lexer": "ipython3",
   "version": "3.9.13"
  }
 },
 "nbformat": 4,
 "nbformat_minor": 5
}
