{
 "cells": [
  {
   "cell_type": "markdown",
   "id": "a526ed20",
   "metadata": {},
   "source": [
    "# Number of Subarrays with Bounded Maximum"
   ]
  },
  {
   "cell_type": "markdown",
   "id": "a71fa47e",
   "metadata": {},
   "source": [
    "Given an integer array nums and two integers left and right, return the number of contiguous non-empty subarrays such that the value of the maximum array element in that subarray is in the range [left, right].\n",
    "\n",
    "The test cases are generated so that the answer will fit in a 32-bit integer.\n",
    "\n",
    " \n",
    "\n",
    "**Example 1:**\n",
    "\n",
    "Input: nums = [2,1,4,3], left = 2, right = 3\n",
    "\n",
    "Output: 3\n",
    "Explanation: There are three subarrays that meet the requirements: [2], [2, 1], [3].\n",
    "\n",
    "**Example 2:**\n",
    "\n",
    "Input: nums = [2,9,2,5,6], left = 2, right = 8\n",
    "\n",
    "Output: 7\n",
    " \n",
    "\n",
    "**Constraints:**\n",
    "\n",
    "- 1 <= nums.length <= 105\n",
    "- 0 <= nums[i] <= 109\n",
    "- 0 <= left <= right <= 109"
   ]
  },
  {
   "cell_type": "code",
   "execution_count": 1,
   "id": "ac5eb6b7",
   "metadata": {},
   "outputs": [
    {
     "name": "stdout",
     "output_type": "stream",
     "text": [
      "3\n",
      "7\n"
     ]
    }
   ],
   "source": [
    "def countSubarrays(nums, left, right):\n",
    "    def countSubarraysWithMaxLessOrEqual(val):\n",
    "        count = 0\n",
    "        cur_count = 0\n",
    "        for num in nums:\n",
    "            if num <= val:\n",
    "                cur_count += 1\n",
    "                count += cur_count\n",
    "            else:\n",
    "                cur_count = 0\n",
    "        return count\n",
    "    \n",
    "    return countSubarraysWithMaxLessOrEqual(right) - countSubarraysWithMaxLessOrEqual(left - 1)\n",
    "\n",
    "# Example usage:\n",
    "nums1 = [2, 1, 4, 3]\n",
    "left1 = 2\n",
    "right1 = 3\n",
    "print(countSubarrays(nums1, left1, right1))  # Output: 3\n",
    "\n",
    "nums2 = [2, 9, 2, 5, 6]\n",
    "left2 = 2\n",
    "right2 = 8\n",
    "print(countSubarrays(nums2, left2, right2))  # Output: 7"
   ]
  },
  {
   "cell_type": "code",
   "execution_count": null,
   "id": "84210fe7",
   "metadata": {},
   "outputs": [],
   "source": []
  }
 ],
 "metadata": {
  "kernelspec": {
   "display_name": "Python 3",
   "language": "python",
   "name": "python3"
  },
  "language_info": {
   "codemirror_mode": {
    "name": "ipython",
    "version": 3
   },
   "file_extension": ".py",
   "mimetype": "text/x-python",
   "name": "python",
   "nbconvert_exporter": "python",
   "pygments_lexer": "ipython3",
   "version": "3.9.13"
  }
 },
 "nbformat": 4,
 "nbformat_minor": 5
}
