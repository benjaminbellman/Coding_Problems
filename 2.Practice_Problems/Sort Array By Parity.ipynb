{
 "cells": [
  {
   "cell_type": "markdown",
   "id": "e14ddcf9",
   "metadata": {},
   "source": [
    "# Sort Array By Parity"
   ]
  },
  {
   "cell_type": "markdown",
   "id": "87bac0cf",
   "metadata": {},
   "source": [
    "Given an integer array nums, move all the even integers at the beginning of the array followed by all the odd integers.\n",
    "\n",
    "Return any array that satisfies this condition.\n",
    "\n",
    "**Example 1:**\n",
    "\n",
    "Input: nums = [3,1,2,4]\n",
    "Output: [2,4,3,1]\n",
    "Explanation: The outputs [4,2,3,1], [2,4,1,3], and [4,2,1,3] would also be accepted.\n",
    "\n",
    "**Example 2:**\n",
    "\n",
    "Input: nums = [0]\n",
    "Output: [0]\n",
    " \n",
    "**Constraints:**\n",
    "\n",
    "- 1 <= nums.length <= 5000\n",
    "- 0 <= nums[i] <= 5000"
   ]
  },
  {
   "cell_type": "code",
   "execution_count": 1,
   "id": "85b57c1f",
   "metadata": {},
   "outputs": [],
   "source": [
    "def sortArrayByParity(nums):\n",
    "    evens = []\n",
    "    odds = []\n",
    "    \n",
    "    for num in nums:\n",
    "        if num % 2 == 0:\n",
    "            evens.append(num)\n",
    "        else:\n",
    "            odds.append(num)\n",
    "    \n",
    "    return evens + odds"
   ]
  },
  {
   "cell_type": "code",
   "execution_count": null,
   "id": "4c1a8da9",
   "metadata": {},
   "outputs": [],
   "source": []
  }
 ],
 "metadata": {
  "kernelspec": {
   "display_name": "Python 3 (ipykernel)",
   "language": "python",
   "name": "python3"
  },
  "language_info": {
   "codemirror_mode": {
    "name": "ipython",
    "version": 3
   },
   "file_extension": ".py",
   "mimetype": "text/x-python",
   "name": "python",
   "nbconvert_exporter": "python",
   "pygments_lexer": "ipython3",
   "version": "3.8.11"
  }
 },
 "nbformat": 4,
 "nbformat_minor": 5
}
