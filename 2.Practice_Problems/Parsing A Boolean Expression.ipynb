{
 "cells": [
  {
   "cell_type": "markdown",
   "id": "08da4cd4",
   "metadata": {},
   "source": [
    "# Parsing A Boolean Expression"
   ]
  },
  {
   "cell_type": "markdown",
   "id": "84e796d0",
   "metadata": {},
   "source": [
    "A boolean expression is an expression that evaluates to either true or false. It can be in one of the following shapes:\n",
    "\n",
    "'t' that evaluates to true.\n",
    "'f' that evaluates to false.\n",
    "'!(subExpr)' that evaluates to the logical NOT of the inner expression subExpr.\n",
    "'&(subExpr1, subExpr2, ..., subExprn)' that evaluates to the logical AND of the inner expressions subExpr1, subExpr2, ..., subExprn where n >= 1.\n",
    "'|(subExpr1, subExpr2, ..., subExprn)' that evaluates to the logical OR of the inner expressions subExpr1, subExpr2, ..., subExprn where n >= 1.\n",
    "Given a string expression that represents a boolean expression, return the evaluation of that expression.\n",
    "\n",
    "It is guaranteed that the given expression is valid and follows the given rules.\n",
    "\n",
    "**Example 1:**\n",
    "\n",
    "Input: expression = \"&(|(f))\"\n",
    "Output: false\n",
    "Explanation: \n",
    "First, evaluate |(f) --> f. The expression is now \"&(f)\".\n",
    "Then, evaluate &(f) --> f. The expression is now \"f\".\n",
    "Finally, return false.\n",
    "\n",
    "**Example 2:**\n",
    "\n",
    "Input: expression = \"|(f,f,f,t)\"\n",
    "Output: true\n",
    "Explanation: The evaluation of (false OR false OR false OR true) is true.\n",
    "\n",
    "**Example 3:**\n",
    "\n",
    "Input: expression = \"!(&(f,t))\"\n",
    "Output: true\n",
    "Explanation: \n",
    "First, evaluate &(f,t) --> (false AND true) --> false --> f. The expression is now \"!(f)\".\n",
    "Then, evaluate !(f) --> NOT false --> true. We return true.\n",
    " \n",
    "**Constraints:**\n",
    "\n",
    "- 1 <= expression.length <= 2 * 104\n",
    "- expression[i] is one following characters: '(', ')', '&', '|', '!', 't', 'f', and ','."
   ]
  },
  {
   "cell_type": "code",
   "execution_count": 1,
   "id": "842916f9",
   "metadata": {},
   "outputs": [],
   "source": [
    "def evaluate(expression: str) -> bool:\n",
    "    stack = []\n",
    "    \n",
    "    for char in expression:\n",
    "        if char == ')':\n",
    "            # Start evaluating the expression inside the parentheses\n",
    "            values = []\n",
    "            while stack[-1] != '(':\n",
    "                values.append(stack.pop())\n",
    "            values.reverse()  # Reverse to maintain original order\n",
    "            \n",
    "            stack.pop()  # Remove the opening parenthesis '('\n",
    "            operator = stack.pop()  # Get the operator\n",
    "            \n",
    "            if operator == '&':\n",
    "                stack.append('t' if all(val == 't' for val in values) else 'f')\n",
    "            elif operator == '|':\n",
    "                stack.append('t' if any(val == 't' for val in values) else 'f')\n",
    "            elif operator == '!':\n",
    "                # NOT operator only takes one value\n",
    "                stack.append('f' if values[0] == 't' else 't')\n",
    "        elif char in \"tf&|!(\":\n",
    "            stack.append(char)\n",
    "        # Ignore commas ',' as they are just separators\n",
    "    \n",
    "    return stack[0] == 't'"
   ]
  },
  {
   "cell_type": "code",
   "execution_count": null,
   "id": "63fc5375",
   "metadata": {},
   "outputs": [],
   "source": []
  }
 ],
 "metadata": {
  "kernelspec": {
   "display_name": "Python 3 (ipykernel)",
   "language": "python",
   "name": "python3"
  },
  "language_info": {
   "codemirror_mode": {
    "name": "ipython",
    "version": 3
   },
   "file_extension": ".py",
   "mimetype": "text/x-python",
   "name": "python",
   "nbconvert_exporter": "python",
   "pygments_lexer": "ipython3",
   "version": "3.8.11"
  }
 },
 "nbformat": 4,
 "nbformat_minor": 5
}
