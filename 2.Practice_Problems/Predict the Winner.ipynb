{
 "cells": [
  {
   "cell_type": "markdown",
   "id": "d9a27e2c",
   "metadata": {},
   "source": [
    "# Predict the Winner"
   ]
  },
  {
   "cell_type": "markdown",
   "id": "8b4c4fb4",
   "metadata": {},
   "source": [
    "You are given an integer array nums. Two players are playing a game with this array: player 1 and player 2.\n",
    "\n",
    "Player 1 and player 2 take turns, with player 1 starting first. Both players start the game with a score of 0. At each turn, the player takes one of the numbers from either end of the array (i.e., nums[0] or nums[nums.length - 1]) which reduces the size of the array by 1. The player adds the chosen number to their score. The game ends when there are no more elements in the array.\n",
    "\n",
    "Return true if Player 1 can win the game. If the scores of both players are equal, then player 1 is still the winner, and you should also return true. You may assume that both players are playing optimally.\n",
    "\n",
    " \n",
    "\n",
    "**Example 1:**\n",
    "\n",
    "Input: nums = [1,5,2]\n",
    "Output: false\n",
    "Explanation: Initially, player 1 can choose between 1 and 2. \n",
    "If he chooses 2 (or 1), then player 2 can choose from 1 (or 2) and 5. If player 2 chooses 5, then player 1 will be left with 1 (or 2). \n",
    "So, final score of player 1 is 1 + 2 = 3, and player 2 is 5. \n",
    "Hence, player 1 will never be the winner and you need to return false.\n",
    "\n",
    "**Example 2:**\n",
    "\n",
    "Input: nums = [1,5,233,7]\n",
    "Output: true\n",
    "Explanation: Player 1 first chooses 1. Then player 2 has to choose between 5 and 7. No matter which number player 2 choose, player 1 can choose 233.\n",
    "Finally, player 1 has more score (234) than player 2 (12), so you need to return True representing player1 can win.\n",
    " \n",
    "\n",
    "**Constraints:**\n",
    "\n",
    "- 1 <= nums.length <= 20\n",
    "- 0 <= nums[i] <= 107"
   ]
  },
  {
   "cell_type": "code",
   "execution_count": 2,
   "id": "9909702b",
   "metadata": {},
   "outputs": [
    {
     "name": "stdout",
     "output_type": "stream",
     "text": [
      "False\n",
      "True\n"
     ]
    }
   ],
   "source": [
    "from functools import lru_cache\n",
    "\n",
    "@lru_cache(maxsize=None)\n",
    "def dp(i, j, nums):\n",
    "    if i == j:\n",
    "        return nums[i]\n",
    "    \n",
    "    # Score if player chooses nums[i]\n",
    "    choose_i = nums[i] - dp(i + 1, j, nums)\n",
    "    \n",
    "    # Score if player chooses nums[j]\n",
    "    choose_j = nums[j] - dp(i, j - 1, nums)\n",
    "    \n",
    "    return max(choose_i, choose_j)\n",
    "\n",
    "def PredictTheWinner(nums):\n",
    "    return dp(0, len(nums) - 1, tuple(nums)) >= 0\n",
    "\n",
    "# Example 1\n",
    "nums = [1, 5, 2]\n",
    "print(PredictTheWinner(nums))  # Output should be False\n",
    "\n",
    "# Example 2\n",
    "nums = [1, 5, 233, 7]\n",
    "print(PredictTheWinner(nums))  # Output should be True"
   ]
  },
  {
   "cell_type": "code",
   "execution_count": null,
   "id": "24589238",
   "metadata": {},
   "outputs": [],
   "source": []
  }
 ],
 "metadata": {
  "kernelspec": {
   "display_name": "Python 3",
   "language": "python",
   "name": "python3"
  },
  "language_info": {
   "codemirror_mode": {
    "name": "ipython",
    "version": 3
   },
   "file_extension": ".py",
   "mimetype": "text/x-python",
   "name": "python",
   "nbconvert_exporter": "python",
   "pygments_lexer": "ipython3",
   "version": "3.9.13"
  }
 },
 "nbformat": 4,
 "nbformat_minor": 5
}
