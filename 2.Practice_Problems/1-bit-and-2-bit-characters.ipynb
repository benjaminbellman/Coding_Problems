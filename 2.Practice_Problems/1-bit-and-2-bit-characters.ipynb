{
 "cells": [
  {
   "cell_type": "markdown",
   "id": "9274470f",
   "metadata": {},
   "source": [
    "# 1-bit-and-2-bit-characters"
   ]
  },
  {
   "cell_type": "markdown",
   "id": "116cd41b",
   "metadata": {},
   "source": [
    "We have two special characters:\n",
    "\n",
    "The first character can be represented by one bit 0.\n",
    "The second character can be represented by two bits (10 or 11).\n",
    "Given a binary array bits that ends with 0, return true if the last character must be a one-bit character.\n",
    "\n",
    " \n",
    "\n",
    "**Example 1:**\n",
    "\n",
    "Input: bits = [1,0,0]\n",
    "\n",
    "Output: true\n",
    "Explanation: The only way to decode it is two-bit character and one-bit character.\n",
    "So the last character is one-bit character.\n",
    "\n",
    "**Example 2:**\n",
    "\n",
    "Input: bits = [1,1,1,0]\n",
    "\n",
    "Output: false\n",
    "Explanation: The only way to decode it is two-bit character and two-bit character.\n",
    "So the last character is not one-bit character.\n",
    " \n",
    "\n",
    "**Constraints:**\n",
    "\n",
    "- 1 <= bits.length <= 1000\n",
    "- bits[i] is either 0 or 1."
   ]
  },
  {
   "cell_type": "code",
   "execution_count": 1,
   "id": "74774fbd",
   "metadata": {},
   "outputs": [
    {
     "name": "stdout",
     "output_type": "stream",
     "text": [
      "True\n",
      "False\n"
     ]
    }
   ],
   "source": [
    "def isOneBitCharacter(bits):\n",
    "    i = 0\n",
    "    while i < len(bits) - 1:\n",
    "        if bits[i] == 0:\n",
    "            i += 1\n",
    "        else:\n",
    "            i += 2\n",
    "    return i == len(bits) - 1\n",
    "\n",
    "# Test cases\n",
    "print(isOneBitCharacter([1, 0, 0]))  # Output: true\n",
    "print(isOneBitCharacter([1, 1, 1, 0]))  # Output: false"
   ]
  },
  {
   "cell_type": "code",
   "execution_count": null,
   "id": "1eaebeea",
   "metadata": {},
   "outputs": [],
   "source": []
  }
 ],
 "metadata": {
  "kernelspec": {
   "display_name": "Python 3",
   "language": "python",
   "name": "python3"
  },
  "language_info": {
   "codemirror_mode": {
    "name": "ipython",
    "version": 3
   },
   "file_extension": ".py",
   "mimetype": "text/x-python",
   "name": "python",
   "nbconvert_exporter": "python",
   "pygments_lexer": "ipython3",
   "version": "3.9.13"
  }
 },
 "nbformat": 4,
 "nbformat_minor": 5
}
