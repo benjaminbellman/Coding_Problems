{
 "cells": [
  {
   "cell_type": "markdown",
   "id": "05f1f5ad",
   "metadata": {},
   "source": [
    "# Positions of Large Groups"
   ]
  },
  {
   "cell_type": "markdown",
   "id": "3e392e09",
   "metadata": {},
   "source": [
    "In a string s of lowercase letters, these letters form consecutive groups of the same character.\n",
    "\n",
    "For example, a string like s = \"abbxxxxzyy\" has the groups \"a\", \"bb\", \"xxxx\", \"z\", and \"yy\".\n",
    "\n",
    "A group is identified by an interval [start, end], where start and end denote the start and end indices (inclusive) of the group. In the above example, \"xxxx\" has the interval [3,6].\n",
    "\n",
    "A group is considered large if it has 3 or more characters.\n",
    "\n",
    "Return the intervals of every large group sorted in increasing order by start index.\n",
    "\n",
    " \n",
    "\n",
    "**Example 1:**\n",
    "\n",
    "Input: s = \"abbxxxxzzy\"\n",
    "Output: [[3,6]]\n",
    "Explanation: \"xxxx\" is the only large group with start index 3 and end index 6.\n",
    "\n",
    "**Example 2:**\n",
    "\n",
    "Input: s = \"abc\"\n",
    "Output: []\n",
    "Explanation: We have groups \"a\", \"b\", and \"c\", none of which are large groups.\n",
    "\n",
    "**Example 3:**\n",
    "\n",
    "Input: s = \"abcdddeeeeaabbbcd\"\n",
    "Output: [[3,5],[6,9],[12,14]]\n",
    "Explanation: The large groups are \"ddd\", \"eeee\", and \"bbb\".\n",
    "\n",
    "**Constraints:**\n",
    "\n",
    "- 1 <= s.length <= 1000\n",
    "- s contains lowercase English letters only."
   ]
  },
  {
   "cell_type": "code",
   "execution_count": 1,
   "id": "fe6be260",
   "metadata": {},
   "outputs": [
    {
     "name": "stdout",
     "output_type": "stream",
     "text": [
      "[[3, 6]]\n",
      "[]\n",
      "[[3, 5], [6, 9], [12, 14]]\n"
     ]
    }
   ],
   "source": [
    "def large_group_intervals(s):\n",
    "    result = []\n",
    "    start = 0\n",
    "    \n",
    "    for end in range(1, len(s)):\n",
    "        if s[end] != s[end - 1]:\n",
    "            if end - start >= 3:\n",
    "                result.append([start, end - 1])\n",
    "            start = end\n",
    "    \n",
    "    if len(s) - start >= 3:\n",
    "        result.append([start, len(s) - 1])\n",
    "    \n",
    "    return result\n",
    "\n",
    "# Test cases\n",
    "print(large_group_intervals(\"abbxxxxzzy\"))  # Output: [[3,6]]\n",
    "print(large_group_intervals(\"abc\"))         # Output: []\n",
    "print(large_group_intervals(\"abcdddeeeeaabbbcd\"))  # Output: [[3,5],[6,9],[12,14]]"
   ]
  },
  {
   "cell_type": "code",
   "execution_count": null,
   "id": "50cb12a8",
   "metadata": {},
   "outputs": [],
   "source": []
  }
 ],
 "metadata": {
  "kernelspec": {
   "display_name": "Python 3",
   "language": "python",
   "name": "python3"
  },
  "language_info": {
   "codemirror_mode": {
    "name": "ipython",
    "version": 3
   },
   "file_extension": ".py",
   "mimetype": "text/x-python",
   "name": "python",
   "nbconvert_exporter": "python",
   "pygments_lexer": "ipython3",
   "version": "3.9.13"
  }
 },
 "nbformat": 4,
 "nbformat_minor": 5
}
