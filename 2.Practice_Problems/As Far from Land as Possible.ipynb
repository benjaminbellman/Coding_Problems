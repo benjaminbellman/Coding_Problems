{
 "cells": [
  {
   "cell_type": "markdown",
   "id": "db060593",
   "metadata": {},
   "source": [
    "# As Far from Land as Possible"
   ]
  },
  {
   "cell_type": "markdown",
   "id": "26c63dc0",
   "metadata": {},
   "source": [
    "Given an n x n grid containing only values 0 and 1, where 0 represents water and 1 represents land, find a water cell such that its distance to the nearest land cell is maximized, and return the distance. If no land or water exists in the grid, return -1.\n",
    "\n",
    "The distance used in this problem is the Manhattan distance: the distance between two cells (x0, y0) and (x1, y1) is |x0 - x1| + |y0 - y1|.\n",
    "\n",
    "**Example 1**\n",
    "\n",
    "Input: grid = [[1,0,1],[0,0,0],[1,0,1]]\n",
    "Output: 2\n",
    "Explanation: The cell (1, 1) is as far as possible from all the land with distance 2.\n",
    "\n",
    "**Example 2:**\n",
    "\n",
    "Input: grid = [[1,0,0],[0,0,0],[0,0,0]]\n",
    "Output: 4\n",
    "\n",
    "Explanation: The cell (2, 2) is as far as possible from all the land with distance 4.\n",
    "\n",
    "**Constraints:**\n",
    "\n",
    "- n == grid.length\n",
    "- n == grid[i].length\n",
    "- 1 <= n <= 100\n",
    "- grid[i][j] is 0 or 1"
   ]
  },
  {
   "cell_type": "code",
   "execution_count": 1,
   "id": "4efad0e8",
   "metadata": {},
   "outputs": [],
   "source": [
    "from collections import deque\n",
    "\n",
    "def maxDistance(grid):\n",
    "    n = len(grid)\n",
    "    directions = [(-1, 0), (1, 0), (0, -1), (0, 1)]\n",
    "    queue = deque()\n",
    "\n",
    "    # Add all land cells to the queue first\n",
    "    for i in range(n):\n",
    "        for j in range(n):\n",
    "            if grid[i][j] == 1:\n",
    "                queue.append((i, j))\n",
    "\n",
    "    # If no land or no water, return -1\n",
    "    if not queue or len(queue) == n * n:\n",
    "        return -1\n",
    "\n",
    "    max_dist = -1\n",
    "\n",
    "    # Multi-source BFS\n",
    "    while queue:\n",
    "        x, y = queue.popleft()\n",
    "\n",
    "        for dx, dy in directions:\n",
    "            nx, ny = x + dx, y + dy\n",
    "\n",
    "            # Check within bounds and if it's an unvisited water cell\n",
    "            if 0 <= nx < n and 0 <= ny < n and grid[nx][ny] == 0:\n",
    "                grid[nx][ny] = grid[x][y] + 1  # Update distance\n",
    "                max_dist = max(max_dist, grid[nx][ny] - 1)  # Keep track of max distance\n",
    "                queue.append((nx, ny))\n",
    "\n",
    "    return max_dist"
   ]
  },
  {
   "cell_type": "code",
   "execution_count": null,
   "id": "c3e006f9",
   "metadata": {},
   "outputs": [],
   "source": []
  }
 ],
 "metadata": {
  "kernelspec": {
   "display_name": "Python 3 (ipykernel)",
   "language": "python",
   "name": "python3"
  },
  "language_info": {
   "codemirror_mode": {
    "name": "ipython",
    "version": 3
   },
   "file_extension": ".py",
   "mimetype": "text/x-python",
   "name": "python",
   "nbconvert_exporter": "python",
   "pygments_lexer": "ipython3",
   "version": "3.8.11"
  }
 },
 "nbformat": 4,
 "nbformat_minor": 5
}
