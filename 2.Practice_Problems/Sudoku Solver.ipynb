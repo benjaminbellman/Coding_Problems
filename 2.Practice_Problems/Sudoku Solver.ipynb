{
 "cells": [
  {
   "cell_type": "markdown",
   "id": "4b9f2434",
   "metadata": {},
   "source": [
    "# Sudoku Solver"
   ]
  },
  {
   "cell_type": "markdown",
   "id": "026f73e9",
   "metadata": {},
   "source": [
    "Write a program to solve a Sudoku puzzle by filling the empty cells.\n",
    "\n",
    "A sudoku solution must satisfy all of the following rules:\n",
    "\n",
    "Each of the digits 1-9 must occur exactly once in each row.\n",
    "Each of the digits 1-9 must occur exactly once in each column.\n",
    "Each of the digits 1-9 must occur exactly once in each of the 9 3x3 sub-boxes of the grid.\n",
    "The '.' character indicates empty cells."
   ]
  },
  {
   "cell_type": "code",
   "execution_count": 3,
   "id": "3fe5a639",
   "metadata": {},
   "outputs": [],
   "source": [
    "def solve_sudoku(board):\n",
    "    def is_valid(row, col, num):\n",
    "        # check if num is already in the row\n",
    "        if num in board[row]:\n",
    "            return False\n",
    "\n",
    "        # check if num is already in the column\n",
    "        for i in range(9):\n",
    "            if board[i][col] == num:\n",
    "                return False\n",
    "\n",
    "        # check if num is already in the 3x3 sub-box\n",
    "        start_row = row // 3 * 3\n",
    "        start_col = col // 3 * 3\n",
    "        for i in range(3):\n",
    "            for j in range(3):\n",
    "                if board[start_row + i][start_col + j] == num:\n",
    "                    return False\n",
    "\n",
    "        return True\n",
    "\n",
    "    def solve(row, col):\n",
    "        # check if we have reached the last cell\n",
    "        if col == 9:\n",
    "            col = 0\n",
    "            row += 1\n",
    "        if row == 9:\n",
    "            return True\n",
    "\n",
    "        # skip cells that are already filled\n",
    "        if board[row][col] != '.':\n",
    "            return solve(row, col + 1)\n",
    "\n",
    "        # try filling the cell with a valid number\n",
    "        for num in '123456789':\n",
    "            if is_valid(row, col, num):\n",
    "                board[row][col] = num\n",
    "                if solve(row, col + 1):\n",
    "                    return True\n",
    "                board[row][col] = '.'\n",
    "\n",
    "        return False\n",
    "\n",
    "    solve(0, 0)\n"
   ]
  },
  {
   "cell_type": "markdown",
   "id": "bf700122",
   "metadata": {},
   "source": [
    "To use this function, you can pass in the board as a 2D list of strings, with the empty cells represented as '.' characters. The function will modify the board in-place and fill in the empty cells with the solution.\n",
    "\n",
    "For example, you can call the function like this:"
   ]
  },
  {
   "cell_type": "code",
   "execution_count": 2,
   "id": "ff8ffda8",
   "metadata": {},
   "outputs": [
    {
     "name": "stdout",
     "output_type": "stream",
     "text": [
      "[['5', '3', '4', '6', '7', '8', '9', '1', '2'], ['6', '7', '2', '1', '9', '5', '3', '4', '8'], ['1', '9', '8', '3', '4', '2', '5', '6', '7'], ['8', '5', '9', '7', '6', '1', '4', '2', '3'], ['4', '2', '6', '8', '5', '3', '7', '9', '1'], ['7', '1', '3', '9', '2', '4', '8', '5', '6'], ['9', '6', '1', '5', '3', '7', '2', '8', '4'], ['2', '8', '7', '4', '1', '9', '6', '3', '5'], ['3', '4', '5', '2', '8', '6', '1', '7', '9']]\n"
     ]
    }
   ],
   "source": [
    "board = [[\"5\",\"3\",\".\",\".\",\"7\",\".\",\".\",\".\",\".\"],[\"6\",\".\",\".\",\"1\",\"9\",\"5\",\".\",\".\",\".\"],[\".\",\"9\",\"8\",\".\",\".\",\".\",\".\",\"6\",\".\"],[\"8\",\".\",\".\",\".\",\"6\",\".\",\".\",\".\",\"3\"],[\"4\",\".\",\".\",\"8\",\".\",\"3\",\".\",\".\",\"1\"],[\"7\",\".\",\".\",\".\",\"2\",\".\",\".\",\".\",\"6\"],[\".\",\"6\",\".\",\".\",\".\",\".\",\"2\",\"8\",\".\"],[\".\",\".\",\".\",\"4\",\"1\",\"9\",\".\",\".\",\"5\"],[\".\",\".\",\".\",\".\",\"8\",\".\",\".\",\"7\",\"9\"]]\n",
    "solve_sudoku(board)\n",
    "print(board)\n"
   ]
  },
  {
   "cell_type": "markdown",
   "id": "91a7f780",
   "metadata": {},
   "source": [
    "This will output the solved board as a 2D list of strings:\n"
   ]
  },
  {
   "cell_type": "code",
   "execution_count": null,
   "id": "24b0db1b",
   "metadata": {},
   "outputs": [],
   "source": [
    "[[\"5\",\"3\",\"4\",\"6\",\"7\",\"8\",\"9\",\"1\",\"2\"],[\"6\",\"7\",\"2\",\"1\",\"9\",\"5\",\"3\",\"4\",\"8\"],[\"1\",\"9\",\"8\",\"3\",\"4\",\"2\",\"5\",\"6\",\"7\"],[\"8\",\"5\",\"9\",\"7\",\"6\",\"1\",\"4\",\"2\",\"3\"],[\"4\",\"2\",\"6\",\"8\",\"5\",\"3\",\"7\",\"9\",\"1\"],[\"7\",\"1\",\"3\",\"9\",\"2\",\"4\",\"8\",\"5\",\"6\"],[\"9\",\"6\",\"1\",\"5\",\"3\",\"7\",\"2\",\"8\",\"4\"],[\"2\",\"8\",\"7\",\"4\",\"1\",\"9\",\"6\",\"3\",\"5\"],[\"3\",\"4\",\"5\",\"2\",\"8\",\"6\",\"1\",\"7\",\"9\"]\n"
   ]
  }
 ],
 "metadata": {
  "kernelspec": {
   "display_name": "Python 3",
   "language": "python",
   "name": "python3"
  },
  "language_info": {
   "codemirror_mode": {
    "name": "ipython",
    "version": 3
   },
   "file_extension": ".py",
   "mimetype": "text/x-python",
   "name": "python",
   "nbconvert_exporter": "python",
   "pygments_lexer": "ipython3",
   "version": "3.9.13"
  }
 },
 "nbformat": 4,
 "nbformat_minor": 5
}
