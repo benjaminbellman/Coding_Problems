{
 "cells": [
  {
   "cell_type": "markdown",
   "id": "be4b933a",
   "metadata": {},
   "source": [
    "# Video Stitching"
   ]
  },
  {
   "cell_type": "markdown",
   "id": "de9ad21c",
   "metadata": {},
   "source": [
    "You are given a series of video clips from a sporting event that lasted time seconds. These video clips can be overlapping with each other and have varying lengths.\n",
    "\n",
    "Each video clip is described by an array clips where clips[i] = [starti, endi] indicates that the ith clip started at starti and ended at endi.\n",
    "\n",
    "We can cut these clips into segments freely.\n",
    "\n",
    "For example, a clip [0, 7] can be cut into segments [0, 1] + [1, 3] + [3, 7].\n",
    "Return the minimum number of clips needed so that we can cut the clips into segments that cover the entire sporting event [0, time]. If the task is impossible, return -1. \n",
    "\n",
    "**Example 1:**\n",
    "\n",
    "Input: clips = [[0,2],[4,6],[8,10],[1,9],[1,5],[5,9]], time = 10\n",
    "Output: 3\n",
    "Explanation: We take the clips [0,2], [8,10], [1,9]; a total of 3 clips.\n",
    "Then, we can reconstruct the sporting event as follows:\n",
    "We cut [1,9] into segments [1,2] + [2,8] + [8,9].\n",
    "Now we have segments [0,2] + [2,8] + [8,10] which cover the sporting event [0, 10].\n",
    "\n",
    "**Example 2:**\n",
    "\n",
    "Input: clips = [[0,1],[1,2]], time = 5\n",
    "Output: -1\n",
    "Explanation: We cannot cover [0,5] with only [0,1] and [1,2].\n",
    "\n",
    "**Example 3:**\n",
    "\n",
    "Input: clips = [[0,1],[6,8],[0,2],[5,6],[0,4],[0,3],[6,7],[1,3],[4,7],[1,4],[2,5],[2,6],[3,4],[4,5],[5,7],[6,9]], time = 9\n",
    "Output: 3\n",
    "Explanation: We can take clips [0,4], [4,7], and [6,9].\n",
    " \n",
    "**Constraints:**\n",
    "\n",
    "- 1 <= clips.length <= 100\n",
    "- 0 <= starti <= endi <= 100\n",
    "- 1 <= time <= 100"
   ]
  },
  {
   "cell_type": "code",
   "execution_count": 1,
   "id": "39846cc0",
   "metadata": {},
   "outputs": [],
   "source": [
    "def videoStitching(clips, time):\n",
    "    # Sort clips by their start time, and then by their end time\n",
    "    clips.sort()\n",
    "    end, next_end = 0, 0\n",
    "    count = 0\n",
    "    i = 0\n",
    "    n = len(clips)\n",
    "    \n",
    "    while i < n and end < time:\n",
    "        # If there is a gap, return -1\n",
    "        if clips[i][0] > end:\n",
    "            return -1\n",
    "        \n",
    "        # Extend the range as far as possible within the current coverage\n",
    "        while i < n and clips[i][0] <= end:\n",
    "            next_end = max(next_end, clips[i][1])\n",
    "            i += 1\n",
    "        \n",
    "        # Update the current end to the farthest reach\n",
    "        count += 1\n",
    "        end = next_end\n",
    "    \n",
    "    return count if end >= time else -1"
   ]
  },
  {
   "cell_type": "code",
   "execution_count": null,
   "id": "bad3e362",
   "metadata": {},
   "outputs": [],
   "source": []
  }
 ],
 "metadata": {
  "kernelspec": {
   "display_name": "Python 3 (ipykernel)",
   "language": "python",
   "name": "python3"
  },
  "language_info": {
   "codemirror_mode": {
    "name": "ipython",
    "version": 3
   },
   "file_extension": ".py",
   "mimetype": "text/x-python",
   "name": "python",
   "nbconvert_exporter": "python",
   "pygments_lexer": "ipython3",
   "version": "3.8.11"
  }
 },
 "nbformat": 4,
 "nbformat_minor": 5
}
