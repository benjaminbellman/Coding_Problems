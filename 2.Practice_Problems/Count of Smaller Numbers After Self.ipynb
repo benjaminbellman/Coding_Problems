{
 "cells": [
  {
   "cell_type": "markdown",
   "id": "f66d6313",
   "metadata": {},
   "source": [
    "# Count of Smaller Numbers After Self"
   ]
  },
  {
   "cell_type": "markdown",
   "id": "6dd79d8d",
   "metadata": {},
   "source": [
    "Given an integer array nums, return an integer array counts where counts[i] is the number of smaller elements to the right of nums[i].\n",
    "\n",
    " \n",
    "\n",
    "**Example 1:**\n",
    "\n",
    "Input: nums = [5,2,6,1]\n",
    "Output: [2,1,1,0]\n",
    "Explanation:\n",
    "To the right of 5 there are 2 smaller elements (2 and 1).\n",
    "To the right of 2 there is only 1 smaller element (1).\n",
    "To the right of 6 there is 1 smaller element (1).\n",
    "To the right of 1 there is 0 smaller element.\n",
    "\n",
    "**Example 2:**\n",
    "\n",
    "Input: nums = [-1]\n",
    "Output: [0]\n",
    "\n",
    "**Example 3:**\n",
    "\n",
    "Input: nums = [-1,-1]\n",
    "Output: [0,0]\n",
    " \n",
    "\n",
    "**Constraints:**\n",
    "\n",
    "1 <= nums.length <= 105\n",
    "-104 <= nums[i] <= 104"
   ]
  },
  {
   "cell_type": "code",
   "execution_count": 1,
   "id": "a8d95609",
   "metadata": {},
   "outputs": [
    {
     "name": "stdout",
     "output_type": "stream",
     "text": [
      "[0, 0, 0, 0]\n",
      "[0]\n",
      "[0, 0]\n"
     ]
    }
   ],
   "source": [
    "def countSmaller(nums):\n",
    "    def mergeSort(enum):\n",
    "        if len(enum) <= 1:\n",
    "            return enum\n",
    "\n",
    "        mid = len(enum) // 2\n",
    "        left = mergeSort(enum[:mid])\n",
    "        right = mergeSort(enum[mid:])\n",
    "        return merge(left, right)\n",
    "\n",
    "    def merge(left, right):\n",
    "        merged = []\n",
    "        i, j, count = 0, 0, 0\n",
    "        while i < len(left) or j < len(right):\n",
    "            if j == len(right) or (i < len(left) and left[i][1] <= right[j][1]):\n",
    "                nums[left[i][0]] += count\n",
    "                merged.append(left[i])\n",
    "                i += 1\n",
    "            else:\n",
    "                merged.append(right[j])\n",
    "                count += 1\n",
    "                j += 1\n",
    "        return merged\n",
    "\n",
    "    enum = list(enumerate(nums))\n",
    "    count = [0] * len(nums)\n",
    "    mergeSort(enum)\n",
    "    return count\n",
    "\n",
    "# Testing the provided examples\n",
    "nums1 = [5, 2, 6, 1]\n",
    "print(countSmaller(nums1))  # Output: [2, 1, 1, 0]\n",
    "\n",
    "nums2 = [-1]\n",
    "print(countSmaller(nums2))  # Output: [0]\n",
    "\n",
    "nums3 = [-1, -1]\n",
    "print(countSmaller(nums3))  # Output: [0, 0]"
   ]
  },
  {
   "cell_type": "code",
   "execution_count": null,
   "id": "d279b226",
   "metadata": {},
   "outputs": [],
   "source": []
  }
 ],
 "metadata": {
  "kernelspec": {
   "display_name": "Python 3",
   "language": "python",
   "name": "python3"
  },
  "language_info": {
   "codemirror_mode": {
    "name": "ipython",
    "version": 3
   },
   "file_extension": ".py",
   "mimetype": "text/x-python",
   "name": "python",
   "nbconvert_exporter": "python",
   "pygments_lexer": "ipython3",
   "version": "3.9.13"
  }
 },
 "nbformat": 4,
 "nbformat_minor": 5
}
