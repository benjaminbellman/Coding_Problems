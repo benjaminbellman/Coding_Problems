{
 "cells": [
  {
   "cell_type": "markdown",
   "id": "0f1f9416",
   "metadata": {},
   "source": [
    "# Custom Sort String"
   ]
  },
  {
   "cell_type": "markdown",
   "id": "6375b9f4",
   "metadata": {},
   "source": [
    "You are given two strings order and s. All the characters of order are unique and were sorted in some custom order previously.\n",
    "\n",
    "Permute the characters of s so that they match the order that order was sorted. More specifically, if a character x occurs before a character y in order, then x should occur before y in the permuted string.\n",
    "\n",
    "Return any permutation of s that satisfies this property.\n",
    "\n",
    " \n",
    "\n",
    "**Example 1:**\n",
    "\n",
    "Input: order = \"cba\", s = \"abcd\"\n",
    "\n",
    "Output: \"cbad\"\n",
    "\n",
    "Explanation: \"a\", \"b\", \"c\" appear in order, so the order of \"a\", \"b\", \"c\" should be \"c\", \"b\", and \"a\".\n",
    "\n",
    "Since \"d\" does not appear in order, it can be at any position in the returned string. \"dcba\", \"cdba\", \"cbda\" are also valid outputs.\n",
    "\n",
    "**Example 2:**\n",
    "\n",
    "Input: order = \"bcafg\", s = \"abcd\"\n",
    "\n",
    "Output: \"bcad\"\n",
    "\n",
    "Explanation: The characters \"b\", \"c\", and \"a\" from order dictate the order for the characters in s. The character \"d\" in s does not appear in order, so its position is flexible.\n",
    "\n",
    "Following the order of appearance in order, \"b\", \"c\", and \"a\" from s should be arranged as \"b\", \"c\", \"a\". \"d\" can be placed at any position since it's not in order. The output \"bcad\" correctly follows this rule. Other arrangements like \"bacd\" or \"bcda\" would also be valid, as long as \"b\", \"c\", \"a\" maintain their order.\n",
    "\n",
    " \n",
    "\n",
    "**Constraints:**\n",
    "\n",
    "- 1 <= order.length <= 26\n",
    "- 1 <= s.length <= 200\n",
    "- order and s consist of lowercase English letters.\n",
    "- All the characters of order are unique."
   ]
  },
  {
   "cell_type": "code",
   "execution_count": 2,
   "id": "93701448",
   "metadata": {},
   "outputs": [
    {
     "name": "stdout",
     "output_type": "stream",
     "text": [
      "cbad\n",
      "bcad\n"
     ]
    }
   ],
   "source": [
    "def custom_compare(x, y, order):\n",
    "    if order.index(x) < order.index(y):\n",
    "        return -1\n",
    "    elif order.index(x) > order.index(y):\n",
    "        return 1\n",
    "    else:\n",
    "        return 0\n",
    "\n",
    "def custom_sort(s, order):\n",
    "    return ''.join(sorted(s, key=lambda x: (order.index(x) if x in order else float('inf'), x)))\n",
    "\n",
    "def permute_custom_order(order, s):\n",
    "    return custom_sort(s, order)\n",
    "\n",
    "# Example usage:\n",
    "order1 = \"cba\"\n",
    "s1 = \"abcd\"\n",
    "print(permute_custom_order(order1, s1))  # Output: \"cbad\"\n",
    "\n",
    "order2 = \"bcafg\"\n",
    "s2 = \"abcd\"\n",
    "print(permute_custom_order(order2, s2))  # Output: \"bcad\""
   ]
  },
  {
   "cell_type": "code",
   "execution_count": null,
   "id": "2a91e217",
   "metadata": {},
   "outputs": [],
   "source": []
  }
 ],
 "metadata": {
  "kernelspec": {
   "display_name": "Python 3",
   "language": "python",
   "name": "python3"
  },
  "language_info": {
   "codemirror_mode": {
    "name": "ipython",
    "version": 3
   },
   "file_extension": ".py",
   "mimetype": "text/x-python",
   "name": "python",
   "nbconvert_exporter": "python",
   "pygments_lexer": "ipython3",
   "version": "3.9.13"
  }
 },
 "nbformat": 4,
 "nbformat_minor": 5
}
