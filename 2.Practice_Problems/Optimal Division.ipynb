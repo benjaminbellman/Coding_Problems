{
 "cells": [
  {
   "cell_type": "markdown",
   "id": "c8e61ae0",
   "metadata": {},
   "source": [
    "# Optimal Division"
   ]
  },
  {
   "cell_type": "markdown",
   "id": "373bbd82",
   "metadata": {},
   "source": [
    "You are given an integer array nums. The adjacent integers in nums will perform the float division.\n",
    "\n",
    "For example, for nums = [2,3,4], we will evaluate the expression \"2/3/4\".\n",
    "However, you can add any number of parenthesis at any position to change the priority of operations. You want to add these parentheses such the value of the expression after the evaluation is maximum.\n",
    "\n",
    "Return the corresponding expression that has the maximum value in string format.\n",
    "\n",
    "Note: your expression should not contain redundant parenthesis.\n",
    "\n",
    " \n",
    "\n",
    "**Example 1:**\n",
    "\n",
    "Input: nums = [1000,100,10,2]\n",
    "Output: \"1000/(100/10/2)\"\n",
    "Explanation: 1000/(100/10/2) = 1000/((100/10)/2) = 200\n",
    "However, the bold parenthesis in \"1000/((100/10)/2)\" are redundant since they do not influence the operation priority.\n",
    "So you should return \"1000/(100/10/2)\".\n",
    "Other cases:\n",
    "1000/(100/10)/2 = 50\n",
    "1000/(100/(10/2)) = 50\n",
    "1000/100/10/2 = 0.5\n",
    "1000/100/(10/2) = 2\n",
    "\n",
    "**Example 2:**\n",
    "\n",
    "Input: nums = [2,3,4]\n",
    "Output: \"2/(3/4)\"\n",
    "Explanation: (2/(3/4)) = 8/3 = 2.667\n",
    "It can be shown that after trying all possibilities, we cannot get an expression with evaluation greater than 2.667\n",
    " \n",
    "\n",
    "**Constraints:**\n",
    "\n",
    "- 1 <= nums.length <= 10\n",
    "- 2 <= nums[i] <= 1000\n",
    "- There is only one optimal division for the given input."
   ]
  },
  {
   "cell_type": "code",
   "execution_count": 1,
   "id": "b68b9943",
   "metadata": {},
   "outputs": [
    {
     "name": "stdout",
     "output_type": "stream",
     "text": [
      "1000/(100/10/2)\n",
      "2/(3/4)\n"
     ]
    }
   ],
   "source": [
    "def optimalDivision(nums):\n",
    "    # If there's only one number\n",
    "    if len(nums) == 1:\n",
    "        return str(nums[0])\n",
    "    # If there are two numbers\n",
    "    elif len(nums) == 2:\n",
    "        return str(nums[0]) + \"/\" + str(nums[1])\n",
    "    # If there are more than two numbers\n",
    "    else:\n",
    "        return str(nums[0]) + \"/(\" + \"/\".join(map(str, nums[1:])) + \")\"\n",
    "\n",
    "# Test\n",
    "nums1 = [1000,100,10,2]\n",
    "print(optimalDivision(nums1))  # Expected: \"1000/(100/10/2)\"\n",
    "\n",
    "nums2 = [2,3,4]\n",
    "print(optimalDivision(nums2))  # Expected: \"2/(3/4)\""
   ]
  },
  {
   "cell_type": "code",
   "execution_count": null,
   "id": "e6c28914",
   "metadata": {},
   "outputs": [],
   "source": []
  }
 ],
 "metadata": {
  "kernelspec": {
   "display_name": "Python 3",
   "language": "python",
   "name": "python3"
  },
  "language_info": {
   "codemirror_mode": {
    "name": "ipython",
    "version": 3
   },
   "file_extension": ".py",
   "mimetype": "text/x-python",
   "name": "python",
   "nbconvert_exporter": "python",
   "pygments_lexer": "ipython3",
   "version": "3.9.13"
  }
 },
 "nbformat": 4,
 "nbformat_minor": 5
}
