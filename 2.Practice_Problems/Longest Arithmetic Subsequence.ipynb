{
 "cells": [
  {
   "cell_type": "markdown",
   "id": "6dc34dc7",
   "metadata": {},
   "source": [
    "# Longest Arithmetic Subsequence"
   ]
  },
  {
   "cell_type": "markdown",
   "id": "c68cb60b",
   "metadata": {},
   "source": [
    "Given an array nums of integers, return the length of the longest arithmetic subsequence in nums.\n",
    "\n",
    "Note that:\n",
    "\n",
    "A subsequence is an array that can be derived from another array by deleting some or no elements without changing the order of the remaining elements.\n",
    "A sequence seq is arithmetic if seq[i + 1] - seq[i] are all the same value (for 0 <= i < seq.length - 1).\n",
    " \n",
    "**Example 1:**\n",
    "\n",
    "Input: nums = [3,6,9,12]\n",
    "Output: 4\n",
    "Explanation:  The whole array is an arithmetic sequence with steps of length = 3.\n",
    "\n",
    "**Example 2:**\n",
    "\n",
    "Input: nums = [9,4,7,2,10]\n",
    "Output: 3\n",
    "Explanation:  The longest arithmetic subsequence is [4,7,10].\n",
    "\n",
    "**Example 3:**\n",
    "\n",
    "Input: nums = [20,1,15,3,10,5,8]\n",
    "Output: 4\n",
    "Explanation:  The longest arithmetic subsequence is [20,15,10,5].\n",
    " \n",
    "\n",
    "**Constraints:**\n",
    "\n",
    "- 2 <= nums.length <= 1000\n",
    "- 0 <= nums[i] <= 500"
   ]
  },
  {
   "cell_type": "code",
   "execution_count": 1,
   "id": "6476b5d6",
   "metadata": {},
   "outputs": [],
   "source": [
    "def longest_arith_seq_length(nums):\n",
    "    n = len(nums)\n",
    "    if n <= 1:\n",
    "        return n\n",
    "\n",
    "    # Dictionary to store dp[i][diff]\n",
    "    dp = [{} for _ in range(n)]\n",
    "    max_length = 0\n",
    "\n",
    "    for i in range(n):\n",
    "        for j in range(i):\n",
    "            diff = nums[i] - nums[j]\n",
    "            # If diff is already seen for dp[j], extend the sequence\n",
    "            if diff in dp[j]:\n",
    "                dp[i][diff] = dp[j][diff] + 1\n",
    "            else:\n",
    "                dp[i][diff] = 2  # Start a new sequence\n",
    "\n",
    "            # Update the maximum length\n",
    "            max_length = max(max_length, dp[i][diff])\n",
    "\n",
    "    return max_length"
   ]
  },
  {
   "cell_type": "code",
   "execution_count": null,
   "id": "7d5ee1f6",
   "metadata": {},
   "outputs": [],
   "source": []
  }
 ],
 "metadata": {
  "kernelspec": {
   "display_name": "Python 3 (ipykernel)",
   "language": "python",
   "name": "python3"
  },
  "language_info": {
   "codemirror_mode": {
    "name": "ipython",
    "version": 3
   },
   "file_extension": ".py",
   "mimetype": "text/x-python",
   "name": "python",
   "nbconvert_exporter": "python",
   "pygments_lexer": "ipython3",
   "version": "3.8.11"
  }
 },
 "nbformat": 4,
 "nbformat_minor": 5
}
