{
 "cells": [
  {
   "cell_type": "markdown",
   "id": "ca6e3c31",
   "metadata": {},
   "source": [
    "# Rectangle Overlap"
   ]
  },
  {
   "cell_type": "markdown",
   "id": "68467932",
   "metadata": {},
   "source": [
    "An axis-aligned rectangle is represented as a list [x1, y1, x2, y2], where (x1, y1) is the coordinate of its bottom-left corner, and (x2, y2) is the coordinate of its top-right corner. Its top and bottom edges are parallel to the X-axis, and its left and right edges are parallel to the Y-axis.\n",
    "\n",
    "Two rectangles overlap if the area of their intersection is positive. To be clear, two rectangles that only touch at the corner or edges do not overlap.\n",
    "\n",
    "Given two axis-aligned rectangles rec1 and rec2, return true if they overlap, otherwise return false.\n",
    "\n",
    " \n",
    "\n",
    "**Example 1:**\n",
    "\n",
    "Input: rec1 = [0,0,2,2], rec2 = [1,1,3,3]\n",
    "Output: true\n",
    "\n",
    "**Example 2:**\n",
    "\n",
    "Input: rec1 = [0,0,1,1], rec2 = [1,0,2,1]\n",
    "Output: false\n",
    "\n",
    "**Example 3:**\n",
    "\n",
    "Input: rec1 = [0,0,1,1], rec2 = [2,2,3,3]\n",
    "Output: false\n",
    " \n",
    "\n",
    "**Constraints:**\n",
    "\n",
    "- rec1.length == 4\n",
    "- rec2.length == 4\n",
    "- -109 <= rec1[i], rec2[i] <= 109\n",
    "- rec1 and rec2 represent a valid rectangle with a non-zero area."
   ]
  },
  {
   "cell_type": "code",
   "execution_count": 1,
   "id": "7df04159",
   "metadata": {},
   "outputs": [
    {
     "name": "stdout",
     "output_type": "stream",
     "text": [
      "True\n",
      "False\n",
      "False\n"
     ]
    }
   ],
   "source": [
    "def isRectangleOverlap(rec1, rec2):\n",
    "    # Check if rec1 is to the left of rec2\n",
    "    if rec1[2] <= rec2[0]:\n",
    "        return False\n",
    "    # Check if rec1 is to the right of rec2\n",
    "    if rec1[0] >= rec2[2]:\n",
    "        return False\n",
    "    # Check if rec1 is above rec2\n",
    "    if rec1[1] >= rec2[3]:\n",
    "        return False\n",
    "    # Check if rec1 is below rec2\n",
    "    if rec1[3] <= rec2[1]:\n",
    "        return False\n",
    "    # If none of the above conditions are met, the rectangles overlap\n",
    "    return True\n",
    "\n",
    "# Test cases\n",
    "print(isRectangleOverlap([0,0,2,2], [1,1,3,3]))  # Output: True\n",
    "print(isRectangleOverlap([0,0,1,1], [1,0,2,1]))  # Output: False\n",
    "print(isRectangleOverlap([0,0,1,1], [2,2,3,3]))  # Output: False"
   ]
  },
  {
   "cell_type": "code",
   "execution_count": null,
   "id": "3fbddf1d",
   "metadata": {},
   "outputs": [],
   "source": []
  }
 ],
 "metadata": {
  "kernelspec": {
   "display_name": "Python 3",
   "language": "python",
   "name": "python3"
  },
  "language_info": {
   "codemirror_mode": {
    "name": "ipython",
    "version": 3
   },
   "file_extension": ".py",
   "mimetype": "text/x-python",
   "name": "python",
   "nbconvert_exporter": "python",
   "pygments_lexer": "ipython3",
   "version": "3.9.13"
  }
 },
 "nbformat": 4,
 "nbformat_minor": 5
}
