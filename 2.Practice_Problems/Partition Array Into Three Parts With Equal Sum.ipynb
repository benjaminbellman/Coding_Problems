{
 "cells": [
  {
   "cell_type": "markdown",
   "id": "685f6fca",
   "metadata": {},
   "source": [
    "# Partition Array Into Three Parts With Equal Sum"
   ]
  },
  {
   "cell_type": "markdown",
   "id": "b2bcfe66",
   "metadata": {},
   "source": [
    "Given an array of integers arr, return true if we can partition the array into three non-empty parts with equal sums.\n",
    "\n",
    "Formally, we can partition the array if we can find indexes i + 1 < j with (arr[0] + arr[1] + ... + arr[i] == arr[i + 1] + arr[i + 2] + ... + arr[j - 1] == arr[j] + arr[j + 1] + ... + arr[arr.length - 1])\n",
    "\n",
    "**Example 1:**\n",
    "\n",
    "Input: arr = [0,2,1,-6,6,-7,9,1,2,0,1]\n",
    "Output: true\n",
    "Explanation: 0 + 2 + 1 = -6 + 6 - 7 + 9 + 1 = 2 + 0 + 1\n",
    "\n",
    "**Example 2:**\n",
    "\n",
    "Input: arr = [0,2,1,-6,6,7,9,-1,2,0,1]\n",
    "Output: false\n",
    "\n",
    "**Example 3:**\n",
    "\n",
    "Input: arr = [3,3,6,5,-2,2,5,1,-9,4]\n",
    "Output: true\n",
    "Explanation: 3 + 3 = 6 = 5 - 2 + 2 + 5 + 1 - 9 + 4\n",
    " \n",
    "**Constraints:**\n",
    "\n",
    "- 3 <= arr.length <= 5 * 104\n",
    "- -104 <= arr[i] <= 104"
   ]
  },
  {
   "cell_type": "code",
   "execution_count": 1,
   "id": "fd9f664e",
   "metadata": {},
   "outputs": [],
   "source": [
    "def canThreePartsEqualSum(arr):\n",
    "    total_sum = sum(arr)\n",
    "    \n",
    "    # If total_sum is not divisible by 3, we cannot partition\n",
    "    if total_sum % 3 != 0:\n",
    "        return False\n",
    "    \n",
    "    target_sum = total_sum // 3\n",
    "    running_sum = 0\n",
    "    partition_count = 0\n",
    "    \n",
    "    for num in arr:\n",
    "        running_sum += num\n",
    "        \n",
    "        # If we find a partition with the target sum\n",
    "        if running_sum == target_sum:\n",
    "            partition_count += 1\n",
    "            running_sum = 0  # Reset for the next partition\n",
    "        \n",
    "        # If we already found three partitions\n",
    "        if partition_count == 3:\n",
    "            return True\n",
    "    \n",
    "    return False"
   ]
  },
  {
   "cell_type": "code",
   "execution_count": null,
   "id": "6dceaa15",
   "metadata": {},
   "outputs": [],
   "source": []
  }
 ],
 "metadata": {
  "kernelspec": {
   "display_name": "Python 3 (ipykernel)",
   "language": "python",
   "name": "python3"
  },
  "language_info": {
   "codemirror_mode": {
    "name": "ipython",
    "version": 3
   },
   "file_extension": ".py",
   "mimetype": "text/x-python",
   "name": "python",
   "nbconvert_exporter": "python",
   "pygments_lexer": "ipython3",
   "version": "3.8.11"
  }
 },
 "nbformat": 4,
 "nbformat_minor": 5
}
