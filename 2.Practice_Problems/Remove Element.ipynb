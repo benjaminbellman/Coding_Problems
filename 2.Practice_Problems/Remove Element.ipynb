{
 "cells": [
  {
   "cell_type": "markdown",
   "id": "7c6474e5",
   "metadata": {},
   "source": [
    "## Remove Element Problem:"
   ]
  },
  {
   "cell_type": "markdown",
   "id": "a3226da5",
   "metadata": {},
   "source": [
    "Given an integer array nums and an integer val, remove all occurrences of val in nums in-place. The relative order of the elements may be changed.\n",
    "\n",
    "Since it is impossible to change the length of the array in some languages, you must instead have the result be placed in the first part of the array nums. More formally, if there are k elements after removing the duplicates, then the first k elements of nums should hold the final result. It does not matter what you leave beyond the first k elements.\n",
    "\n",
    "Return k after placing the final result in the first k slots of nums.\n",
    "\n",
    "Do not allocate extra space for another array. You must do this by modifying the input array in-place with O(1) extra memory.\n",
    "\n",
    "Custom Judge:\n",
    "\n",
    "The judge will test your solution with the following code:\n",
    "\n",
    "int[] nums = [...]; // Input array\n",
    "int val = ...; // Value to remove\n",
    "int[] expectedNums = [...]; // The expected answer with correct length.\n",
    "                            // It is sorted with no values equaling val.\n",
    "\n",
    "int k = removeElement(nums, val); // Calls your implementation\n",
    "\n",
    "assert k == expectedNums.length;\n",
    "sort(nums, 0, k); // Sort the first k elements of nums\n",
    "for (int i = 0; i < actualLength; i++) {\n",
    "    assert nums[i] == expectedNums[i];\n",
    "}\n",
    "If all assertions pass, then your solution will be accepted.\n",
    "\n",
    " \n",
    "\n",
    "Example 1:\n",
    "\n",
    "Input: nums = [3,2,2,3], val = 3\n",
    "Output: 2, nums = [2,2,_,_]\n",
    "Explanation: Your function should return k = 2, with the first two elements of nums being 2.\n",
    "It does not matter what you leave beyond the returned k (hence they are underscores).\n",
    "Example 2:\n",
    "\n",
    "Input: nums = [0,1,2,2,3,0,4,2], val = 2\n",
    "Output: 5, nums = [0,1,4,0,3,_,_,_]\n",
    "Explanation: Your function should return k = 5, with the first five elements of nums containing 0, 0, 1, 3, and 4.\n",
    "Note that the five elements can be returned in any order.\n",
    "It does not matter what you leave beyond the returned k (hence they are underscores)."
   ]
  },
  {
   "cell_type": "code",
   "execution_count": 1,
   "id": "7056e453",
   "metadata": {},
   "outputs": [],
   "source": [
    "def removeElement(nums, val):\n",
    "    k = len(nums)\n",
    "    i = 0\n",
    "    while i < k:\n",
    "        if nums[i] == val:\n",
    "            # Swap the element at index i with the last element in the array\n",
    "            nums[i], nums[k - 1] = nums[k - 1], nums[i]\n",
    "            # Decrement the size of the array\n",
    "            k -= 1\n",
    "        else:\n",
    "            i += 1\n",
    "    return k"
   ]
  },
  {
   "cell_type": "code",
   "execution_count": 3,
   "id": "ce87c112",
   "metadata": {},
   "outputs": [
    {
     "ename": "AssertionError",
     "evalue": "",
     "output_type": "error",
     "traceback": [
      "\u001b[1;31m---------------------------------------------------------------------------\u001b[0m",
      "\u001b[1;31mAssertionError\u001b[0m                            Traceback (most recent call last)",
      "Input \u001b[1;32mIn [3]\u001b[0m, in \u001b[0;36m<module>\u001b[1;34m\u001b[0m\n\u001b[0;32m      3\u001b[0m val \u001b[38;5;241m=\u001b[39m \u001b[38;5;241m3\u001b[39m\n\u001b[0;32m      4\u001b[0m k \u001b[38;5;241m=\u001b[39m removeElement(nums, val)\n\u001b[1;32m----> 5\u001b[0m \u001b[38;5;28;01massert\u001b[39;00m k \u001b[38;5;241m==\u001b[39m \u001b[38;5;241m2\u001b[39m\n\u001b[0;32m      6\u001b[0m \u001b[38;5;28;01massert\u001b[39;00m nums[:k] \u001b[38;5;241m==\u001b[39m [\u001b[38;5;241m2\u001b[39m, \u001b[38;5;241m2\u001b[39m]\n",
      "\u001b[1;31mAssertionError\u001b[0m: "
     ]
    }
   ],
   "source": [
    "# Example 1:\n",
    "nums = [3, 2, 2, 3]\n",
    "val = 3\n",
    "k = removeElement(nums, val)\n",
    "assert k == 2\n",
    "assert nums[:k] == [2, 2]"
   ]
  },
  {
   "cell_type": "code",
   "execution_count": null,
   "id": "6cb4cb8e",
   "metadata": {},
   "outputs": [],
   "source": []
  }
 ],
 "metadata": {
  "kernelspec": {
   "display_name": "Python 3",
   "language": "python",
   "name": "python3"
  },
  "language_info": {
   "codemirror_mode": {
    "name": "ipython",
    "version": 3
   },
   "file_extension": ".py",
   "mimetype": "text/x-python",
   "name": "python",
   "nbconvert_exporter": "python",
   "pygments_lexer": "ipython3",
   "version": "3.9.13"
  }
 },
 "nbformat": 4,
 "nbformat_minor": 5
}
