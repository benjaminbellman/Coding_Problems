{
 "cells": [
  {
   "cell_type": "markdown",
   "id": "a2f8949a",
   "metadata": {},
   "source": [
    "# Can Place Flowers"
   ]
  },
  {
   "cell_type": "markdown",
   "id": "d04e1d87",
   "metadata": {},
   "source": [
    "You have a long flowerbed in which some of the plots are planted, and some are not. However, flowers cannot be planted in adjacent plots.\n",
    "\n",
    "Given an integer array flowerbed containing 0's and 1's, where 0 means empty and 1 means not empty, and an integer n, return true if n new flowers can be planted in the flowerbed without violating the no-adjacent-flowers rule and false otherwise.\n",
    "\n",
    " \n",
    "\n",
    "**Example 1:**\n",
    "\n",
    "Input: flowerbed = [1,0,0,0,1], n = 1\n",
    "\n",
    "Output: true\n",
    "\n",
    "**Example 2:**\n",
    "\n",
    "Input: flowerbed = [1,0,0,0,1], n = 2\n",
    "\n",
    "Output: false\n",
    " \n",
    "\n",
    "**Constraints:**\n",
    "\n",
    "- 1 <= flowerbed.length <= 2 * 104\n",
    "- flowerbed[i] is 0 or 1.\n",
    "- There are no two adjacent flowers in flowerbed.\n",
    "- 0 <= n <= flowerbed.length"
   ]
  },
  {
   "cell_type": "code",
   "execution_count": 1,
   "id": "88ab6c46",
   "metadata": {},
   "outputs": [
    {
     "data": {
      "text/plain": [
       "(True, False)"
      ]
     },
     "execution_count": 1,
     "metadata": {},
     "output_type": "execute_result"
    }
   ],
   "source": [
    "def can_place_flowers(flowerbed, n):\n",
    "    # The strategy is to iterate through the flowerbed\n",
    "    # and find spots where we can plant a flower\n",
    "    # without violating the no-adjacent rule.\n",
    "\n",
    "    length = len(flowerbed)\n",
    "    count = 0\n",
    "\n",
    "    for i in range(length):\n",
    "        # Check if the current plot is empty\n",
    "        if flowerbed[i] == 0:\n",
    "            # Check if it's the first plot or the previous plot is empty\n",
    "            empty_prev = (i == 0) or (flowerbed[i - 1] == 0)\n",
    "            # Check if it's the last plot or the next plot is empty\n",
    "            empty_next = (i == length - 1) or (flowerbed[i + 1] == 0)\n",
    "\n",
    "            if empty_prev and empty_next:\n",
    "                # Plant a flower here\n",
    "                flowerbed[i] = 1\n",
    "                count += 1\n",
    "\n",
    "                # If we've planted enough flowers, return True\n",
    "                if count >= n:\n",
    "                    return True\n",
    "\n",
    "    # If we couldn't plant enough flowers, return False\n",
    "    return False\n",
    "\n",
    "# Test the function with the given examples\n",
    "example1 = can_place_flowers([1,0,0,0,1], 1) # Expected: True\n",
    "example2 = can_place_flowers([1,0,0,0,1], 2) # Expected: False\n",
    "\n",
    "example1, example2"
   ]
  }
 ],
 "metadata": {
  "kernelspec": {
   "display_name": "Python 3",
   "language": "python",
   "name": "python3"
  },
  "language_info": {
   "codemirror_mode": {
    "name": "ipython",
    "version": 3
   },
   "file_extension": ".py",
   "mimetype": "text/x-python",
   "name": "python",
   "nbconvert_exporter": "python",
   "pygments_lexer": "ipython3",
   "version": "3.9.13"
  }
 },
 "nbformat": 4,
 "nbformat_minor": 5
}
