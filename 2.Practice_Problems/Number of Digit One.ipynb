{
 "cells": [
  {
   "cell_type": "markdown",
   "id": "71b0ccf3",
   "metadata": {},
   "source": [
    "# Number of Digit One"
   ]
  },
  {
   "cell_type": "markdown",
   "id": "7b4df889",
   "metadata": {},
   "source": [
    "Given an integer n, count the total number of digit 1 appearing in all non-negative integers less than or equal to n.\n",
    "\n",
    " \n",
    "\n",
    "**Example 1:**\n",
    "\n",
    "Input: n = 13\n",
    "Output: 6\n",
    "\n",
    "**Example 2:**\n",
    "\n",
    "Input: n = 0\n",
    "Output: 0\n",
    " \n",
    "\n",
    "**Constraints:**\n",
    "\n",
    "0 <= n <= 109"
   ]
  },
  {
   "cell_type": "code",
   "execution_count": 1,
   "id": "1601bca6",
   "metadata": {},
   "outputs": [],
   "source": [
    "def countDigitOne(n: int) -> int:\n",
    "    if n <= 0:\n",
    "        return 0\n",
    "\n",
    "    # convert n to string for easier manipulation\n",
    "    s = str(n)\n",
    "\n",
    "    # count the number of digits in n\n",
    "    digits = len(s)\n",
    "\n",
    "    # initialize variables for counting\n",
    "    ones_count = 0\n",
    "    tens_count = 0\n",
    "    higher_count = 0\n",
    "\n",
    "    for i in range(digits):\n",
    "        # get the digit at position i from the right\n",
    "        digit = int(s[digits - i - 1])\n",
    "\n",
    "        # count the ones, tens, and higher places separately\n",
    "        if digit == 0:\n",
    "            # if the digit is 0, we don't need to count anything\n",
    "            ones_count += 0\n",
    "            tens_count += 10 * higher_count\n",
    "            higher_count *= 10\n",
    "        elif digit == 1:\n",
    "            # if the digit is 1, we need to count the ones and the remaining digits\n",
    "            ones_count += higher_count + 1\n",
    "            tens_count += 10 * higher_count\n",
    "            higher_count = 10 * higher_count + 10 ** i\n",
    "        else:\n",
    "            # if the digit is greater than 1, we need to count the ones, tens, and higher places\n",
    "            ones_count += higher_count + 10 ** i\n",
    "            tens_count += (digit - 1) * higher_count + 10 ** i\n",
    "            higher_count = 10 * higher_count + 10 ** i\n",
    "\n",
    "    # return the total count of digit 1\n",
    "    return ones_count"
   ]
  },
  {
   "cell_type": "code",
   "execution_count": 2,
   "id": "44f62b89",
   "metadata": {},
   "outputs": [
    {
     "name": "stdout",
     "output_type": "stream",
     "text": [
      "3\n",
      "0\n"
     ]
    }
   ],
   "source": [
    "# Testing the function with the first example\n",
    "n = 13\n",
    "print(countDigitOne(n))  # expected output: 6\n",
    "\n",
    "# Testing the function with the second example\n",
    "n = 0\n",
    "print(countDigitOne(n))  # expected output: 0"
   ]
  },
  {
   "cell_type": "code",
   "execution_count": null,
   "id": "36d6521f",
   "metadata": {},
   "outputs": [],
   "source": []
  }
 ],
 "metadata": {
  "kernelspec": {
   "display_name": "Python 3",
   "language": "python",
   "name": "python3"
  },
  "language_info": {
   "codemirror_mode": {
    "name": "ipython",
    "version": 3
   },
   "file_extension": ".py",
   "mimetype": "text/x-python",
   "name": "python",
   "nbconvert_exporter": "python",
   "pygments_lexer": "ipython3",
   "version": "3.9.13"
  }
 },
 "nbformat": 4,
 "nbformat_minor": 5
}
