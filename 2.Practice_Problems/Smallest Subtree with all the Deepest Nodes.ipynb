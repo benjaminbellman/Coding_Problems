{
 "cells": [
  {
   "cell_type": "markdown",
   "id": "673f8623",
   "metadata": {},
   "source": [
    "# Smallest Subtree with all the Deepest Nodes"
   ]
  },
  {
   "cell_type": "markdown",
   "id": "40e4b4d8",
   "metadata": {},
   "source": [
    "Given the root of a binary tree, the depth of each node is the shortest distance to the root.\n",
    "\n",
    "Return the smallest subtree such that it contains all the deepest nodes in the original tree.\n",
    "\n",
    "A node is called the deepest if it has the largest depth possible among any node in the entire tree.\n",
    "\n",
    "The subtree of a node is a tree consisting of that node, plus the set of all descendants of that node.\n",
    "\n",
    "**Example 1:**\n",
    "\n",
    "Input: root = [3,5,1,6,2,0,8,null,null,7,4]\n",
    "Output: [2,7,4]\n",
    "Explanation: We return the node with value 2, colored in yellow in the diagram.\n",
    "The nodes coloured in blue are the deepest nodes of the tree.\n",
    "Notice that nodes 5, 3 and 2 contain the deepest nodes in the tree but node 2 is the smallest subtree among them, so we return it.\n",
    "\n",
    "**Example 2:**\n",
    "\n",
    "Input: root = [1]\n",
    "Output: [1]\n",
    "Explanation: The root is the deepest node in the tree.\n",
    "\n",
    "**Example 3:**\n",
    "\n",
    "Input: root = [0,1,3,null,2]\n",
    "Output: [2]\n",
    "Explanation: The deepest node in the tree is 2, the valid subtrees are the subtrees of nodes 2, 1 and 0 but the subtree of node 2 is the smallest.\n",
    " \n",
    "**Constraints:**\n",
    "\n",
    "- The number of nodes in the tree will be in the range [1, 500].\n",
    "- 0 <= Node.val <= 500\n",
    "- The values of the nodes in the tree are unique."
   ]
  },
  {
   "cell_type": "code",
   "execution_count": 1,
   "id": "8314a1ec",
   "metadata": {},
   "outputs": [],
   "source": [
    "class TreeNode:\n",
    "    def __init__(self, val=0, left=None, right=None):\n",
    "        self.val = val\n",
    "        self.left = left\n",
    "        self.right = right\n",
    "\n",
    "def subtreeWithAllDeepest(root):\n",
    "    def dfs(node):\n",
    "        if not node:\n",
    "            return (0, None)\n",
    "        \n",
    "        left_depth, left_subtree = dfs(node.left)\n",
    "        right_depth, right_subtree = dfs(node.right)\n",
    "        \n",
    "        if left_depth > right_depth:\n",
    "            return (left_depth + 1, left_subtree)\n",
    "        elif right_depth > left_depth:\n",
    "            return (right_depth + 1, right_subtree)\n",
    "        else:\n",
    "            return (left_depth + 1, node)\n",
    "    \n",
    "    _, subtree_root = dfs(root)\n",
    "    return subtree_root"
   ]
  },
  {
   "cell_type": "code",
   "execution_count": null,
   "id": "739586e1",
   "metadata": {},
   "outputs": [],
   "source": []
  }
 ],
 "metadata": {
  "kernelspec": {
   "display_name": "Python 3 (ipykernel)",
   "language": "python",
   "name": "python3"
  },
  "language_info": {
   "codemirror_mode": {
    "name": "ipython",
    "version": 3
   },
   "file_extension": ".py",
   "mimetype": "text/x-python",
   "name": "python",
   "nbconvert_exporter": "python",
   "pygments_lexer": "ipython3",
   "version": "3.8.11"
  }
 },
 "nbformat": 4,
 "nbformat_minor": 5
}
