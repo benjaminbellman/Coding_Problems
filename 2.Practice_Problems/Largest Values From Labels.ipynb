{
 "cells": [
  {
   "cell_type": "markdown",
   "id": "64ec97e8",
   "metadata": {},
   "source": [
    "# Largest Values From Labels"
   ]
  },
  {
   "cell_type": "markdown",
   "id": "1211ef16",
   "metadata": {},
   "source": [
    "You are given n item's value and label as two integer arrays values and labels. You are also given two integers numWanted and useLimit.\n",
    "\n",
    "Your task is to find a subset of items with the maximum sum of their values such that:\n",
    "\n",
    "The number of items is at most numWanted.\n",
    "The number of items with the same label is at most useLimit.\n",
    "Return the maximum sum.\n",
    "\n",
    "**Example 1:**\n",
    "\n",
    "Input: values = [5,4,3,2,1], labels = [1,1,2,2,3], numWanted = 3, useLimit = 1\n",
    "\n",
    "Output: 9\n",
    "\n",
    "Explanation:\n",
    "\n",
    "The subset chosen is the first, third, and fifth items with the sum of values 5 + 3 + 1.\n",
    "\n",
    "**Example 2:**\n",
    "\n",
    "Input: values = [5,4,3,2,1], labels = [1,3,3,3,2], numWanted = 3, useLimit = 2\n",
    "\n",
    "Output: 12\n",
    "\n",
    "Explanation:\n",
    "\n",
    "The subset chosen is the first, second, and third items with the sum of values 5 + 4 + 3.\n",
    "\n",
    "**Example 3:**\n",
    "\n",
    "Input: values = [9,8,8,7,6], labels = [0,0,0,1,1], numWanted = 3, useLimit = 1\n",
    "\n",
    "Output: 16\n",
    "\n",
    "Explanation:\n",
    "\n",
    "The subset chosen is the first and fourth items with the sum of values 9 + 7.\n",
    "\n",
    "**Constraints:**\n",
    "\n",
    "- n == values.length == labels.length\n",
    "- 1 <= n <= 2 * 104\n",
    "- 0 <= values[i], labels[i] <= 2 * 104\n",
    "- 1 <= numWanted, useLimit <= n"
   ]
  },
  {
   "cell_type": "code",
   "execution_count": 1,
   "id": "e4558e7f",
   "metadata": {},
   "outputs": [],
   "source": [
    "def largestValsFromLabels(values, labels, numWanted, useLimit):\n",
    "    # Combine values and labels\n",
    "    items = list(zip(values, labels))\n",
    "    # Sort items by value in descending order\n",
    "    items.sort(key=lambda x: x[0], reverse=True)\n",
    "    \n",
    "    # Dictionary to track label usage\n",
    "    label_count = {}\n",
    "    total_value = 0\n",
    "    items_selected = 0\n",
    "    \n",
    "    # Iterate through sorted items\n",
    "    for value, label in items:\n",
    "        if label_count.get(label, 0) < useLimit and items_selected < numWanted:\n",
    "            total_value += value\n",
    "            label_count[label] = label_count.get(label, 0) + 1\n",
    "            items_selected += 1\n",
    "    \n",
    "    return total_value"
   ]
  },
  {
   "cell_type": "code",
   "execution_count": 2,
   "id": "26c356f9",
   "metadata": {},
   "outputs": [
    {
     "name": "stdout",
     "output_type": "stream",
     "text": [
      "9\n",
      "12\n"
     ]
    },
    {
     "data": {
      "text/plain": [
       "[1, 3, 3, 3, 2]"
      ]
     },
     "execution_count": 2,
     "metadata": {},
     "output_type": "execute_result"
    }
   ],
   "source": [
    "# Example 1\n",
    "values = [5, 4, 3, 2, 1]\n",
    "labels = [1, 1, 2, 2, 3]\n",
    "numWanted = 3\n",
    "useLimit = 1\n",
    "print(largestValsFromLabels(values, labels, numWanted, useLimit))  # Output: 9\n",
    "\n",
    "# Example 2\n",
    "values = [5, 4, 3, 2, 1]\n",
    "labels = [1, 3, 3, 3, 2]\n",
    "numWanted = 3\n",
    "useLimit = 2\n",
    "print(largestValsFromLabels(values, labels, numWanted, useLimit))  # Output: 12\n",
    "\n",
    "# Example 3\n",
    "values = [9, 8, 8, 7, 6]\n",
    "labels"
   ]
  },
  {
   "cell_type": "code",
   "execution_count": null,
   "id": "d772be48",
   "metadata": {},
   "outputs": [],
   "source": []
  }
 ],
 "metadata": {
  "kernelspec": {
   "display_name": "Python 3 (ipykernel)",
   "language": "python",
   "name": "python3"
  },
  "language_info": {
   "codemirror_mode": {
    "name": "ipython",
    "version": 3
   },
   "file_extension": ".py",
   "mimetype": "text/x-python",
   "name": "python",
   "nbconvert_exporter": "python",
   "pygments_lexer": "ipython3",
   "version": "3.8.11"
  }
 },
 "nbformat": 4,
 "nbformat_minor": 5
}
