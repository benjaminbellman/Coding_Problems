{
 "cells": [
  {
   "cell_type": "markdown",
   "id": "debc1084",
   "metadata": {},
   "source": [
    "# Compare Strings by Frequency of the Smallest Character"
   ]
  },
  {
   "cell_type": "markdown",
   "id": "d9ea3a96",
   "metadata": {},
   "source": [
    "Let the function f(s) be the frequency of the lexicographically smallest character in a non-empty string s. For example, if s = \"dcce\" then f(s) = 2 because the lexicographically smallest character is 'c', which has a frequency of 2.\n",
    "\n",
    "You are given an array of strings words and another array of query strings queries. For each query queries[i], count the number of words in words such that f(queries[i]) < f(W) for each W in words.\n",
    "\n",
    "Return an integer array answer, where each answer[i] is the answer to the ith query.\n",
    "\n",
    "**Example 1:**\n",
    "\n",
    "Input: queries = [\"cbd\"], words = [\"zaaaz\"]\n",
    "Output: [1]\n",
    "Explanation: On the first query we have f(\"cbd\") = 1, f(\"zaaaz\") = 3 so f(\"cbd\") < f(\"zaaaz\").\n",
    "\n",
    "**Example 2:**\n",
    "\n",
    "Input: queries = [\"bbb\",\"cc\"], words = [\"a\",\"aa\",\"aaa\",\"aaaa\"]\n",
    "Output: [1,2]\n",
    "Explanation: On the first query only f(\"bbb\") < f(\"aaaa\"). On the second query both f(\"aaa\") and f(\"aaaa\") are both > f(\"cc\").\n",
    " \n",
    "**Constraints:**\n",
    "\n",
    "- 1 <= queries.length <= 2000\n",
    "- 1 <= words.length <= 2000\n",
    "- 1 <= queries[i].length, words[i].length <= 10\n",
    "- queries[i][j], words[i][j] consist of lowercase English letters."
   ]
  },
  {
   "cell_type": "code",
   "execution_count": null,
   "id": "a83d7383",
   "metadata": {},
   "outputs": [],
   "source": [
    "from bisect import bisect_right\n",
    "\n",
    "def f(s):\n",
    "    # Find the lexicographically smallest character and its frequency\n",
    "    min_char = min(s)\n",
    "    return s.count(min_char)\n",
    "\n",
    "def num_smaller_by_frequency(queries, words):\n",
    "    # Compute f(s) for each word\n",
    "    words_freq = sorted(f(w) for w in words)\n",
    "    \n",
    "    # Compute results for each query using binary search\n",
    "    result = []\n",
    "    for q in queries:\n",
    "        q_freq = f(q)\n",
    "        # Count words where f(word) > f(q) using binary search\n",
    "        count = len(words_freq) - bisect_right(words_freq, q_freq)\n",
    "        result.append(count)\n",
    "    \n",
    "    return result\n"
   ]
  }
 ],
 "metadata": {
  "kernelspec": {
   "display_name": "Python 3 (ipykernel)",
   "language": "python",
   "name": "python3"
  },
  "language_info": {
   "codemirror_mode": {
    "name": "ipython",
    "version": 3
   },
   "file_extension": ".py",
   "mimetype": "text/x-python",
   "name": "python",
   "nbconvert_exporter": "python",
   "pygments_lexer": "ipython3",
   "version": "3.8.11"
  }
 },
 "nbformat": 4,
 "nbformat_minor": 5
}
