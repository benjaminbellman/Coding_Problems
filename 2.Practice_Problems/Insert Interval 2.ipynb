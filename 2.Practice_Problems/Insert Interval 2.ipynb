{
 "cells": [
  {
   "cell_type": "markdown",
   "id": "35bb3750",
   "metadata": {},
   "source": [
    "# Insert Interval"
   ]
  },
  {
   "cell_type": "markdown",
   "id": "20e5bc75",
   "metadata": {},
   "source": [
    "You are given an array of non-overlapping intervals intervals where intervals[i] = [starti, endi] represent the start and the end of the ith interval and intervals is sorted in ascending order by starti. You are also given an interval newInterval = [start, end] that represents the start and end of another interval.\n",
    "\n",
    "Insert newInterval into intervals such that intervals is still sorted in ascending order by starti and intervals still does not have any overlapping intervals (merge overlapping intervals if necessary).\n",
    "\n",
    "Return intervals after the insertion.\n",
    "\n",
    "Note that you don't need to modify intervals in-place. You can make a new array and return it.\n",
    "\n",
    "**Example 1:**\n",
    "\n",
    "Input: intervals = [[1,3],[6,9]], newInterval = [2,5]\n",
    "Output: [[1,5],[6,9]]\n",
    "\n",
    "**Example 2:**\n",
    "\n",
    "Input: intervals = [[1,2],[3,5],[6,7],[8,10],[12,16]], newInterval = [4,8]\n",
    "Output: [[1,2],[3,10],[12,16]]\n",
    "Explanation: Because the new interval [4,8] overlaps with [3,5],[6,7],[8,10].\n",
    " \n",
    "**Constraints:**\n",
    "\n",
    "- 0 <= intervals.length <= 104\n",
    "- intervals[i].length == 2\n",
    "- 0 <= starti <= endi <= 105\n",
    "- intervals is sorted by starti in ascending order.\n",
    "- newInterval.length == 2\n",
    "- 0 <= start <= end <= 105"
   ]
  },
  {
   "cell_type": "code",
   "execution_count": 1,
   "id": "220d35c5",
   "metadata": {},
   "outputs": [],
   "source": [
    "def insert(intervals, newInterval):\n",
    "    result = []\n",
    "    i = 0\n",
    "    n = len(intervals)\n",
    "\n",
    "    # Step 1: Add all intervals ending before newInterval starts\n",
    "    while i < n and intervals[i][1] < newInterval[0]:\n",
    "        result.append(intervals[i])\n",
    "        i += 1\n",
    "\n",
    "    # Step 2: Merge overlapping intervals\n",
    "    while i < n and intervals[i][0] <= newInterval[1]:\n",
    "        newInterval[0] = min(newInterval[0], intervals[i][0])\n",
    "        newInterval[1] = max(newInterval[1], intervals[i][1])\n",
    "        i += 1\n",
    "    result.append(newInterval)\n",
    "\n",
    "    # Step 3: Add all the remaining intervals\n",
    "    while i < n:\n",
    "        result.append(intervals[i])\n",
    "        i += 1\n",
    "\n",
    "    return result"
   ]
  },
  {
   "cell_type": "code",
   "execution_count": 2,
   "id": "a821e702",
   "metadata": {},
   "outputs": [],
   "source": [
    "intervals = [[1,3],[6,9]]\n",
    "newInterval = [2,5]\n",
    "# Output: [[1,5],[6,9]]"
   ]
  },
  {
   "cell_type": "code",
   "execution_count": 3,
   "id": "c2e6db10",
   "metadata": {},
   "outputs": [],
   "source": [
    "intervals = [[1,2],[3,5],[6,7],[8,10],[12,16]]\n",
    "newInterval = [4,8]\n",
    "# Output: [[1,2],[3,10],[12,16]]"
   ]
  },
  {
   "cell_type": "code",
   "execution_count": null,
   "id": "0c0238c8",
   "metadata": {},
   "outputs": [],
   "source": []
  }
 ],
 "metadata": {
  "kernelspec": {
   "display_name": "Python 3 (ipykernel)",
   "language": "python",
   "name": "python3"
  },
  "language_info": {
   "codemirror_mode": {
    "name": "ipython",
    "version": 3
   },
   "file_extension": ".py",
   "mimetype": "text/x-python",
   "name": "python",
   "nbconvert_exporter": "python",
   "pygments_lexer": "ipython3",
   "version": "3.8.11"
  }
 },
 "nbformat": 4,
 "nbformat_minor": 5
}
