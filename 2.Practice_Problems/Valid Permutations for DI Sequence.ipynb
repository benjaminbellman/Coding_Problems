{
 "cells": [
  {
   "cell_type": "markdown",
   "id": "b1e0b2c6",
   "metadata": {},
   "source": [
    "# Valid Permutations for DI Sequence"
   ]
  },
  {
   "cell_type": "markdown",
   "id": "ad86327e",
   "metadata": {},
   "source": [
    "You are given a string s of length n where s[i] is either:\n",
    "\n",
    "- 'D' means decreasing, or\n",
    "- 'I' means increasing.\n",
    "\n",
    "A permutation perm of n + 1 integers of all the integers in the range [0, n] is called a valid permutation if for all valid i:\n",
    "\n",
    "- If s[i] == 'D', then perm[i] > perm[i + 1], and\n",
    "- If s[i] == 'I', then perm[i] < perm[i + 1].\n",
    "Return the number of valid permutations perm. Since the answer may be large, return it modulo 109 + 7.\n",
    "\n",
    "**Example 1:**\n",
    "\n",
    "Input: s = \"DID\"\n",
    "Output: 5\n",
    "Explanation: The 5 valid permutations of (0, 1, 2, 3) are:\n",
    "(1, 0, 3, 2)\n",
    "(2, 0, 3, 1)\n",
    "(2, 1, 3, 0)\n",
    "(3, 0, 2, 1)\n",
    "(3, 1, 2, 0)\n",
    "\n",
    "**Example 2:**\n",
    "\n",
    "Input: s = \"D\"\n",
    "Output: 1\n",
    "\n",
    "**Constraints:**\n",
    "\n",
    "- n == s.length\n",
    "- 1 <= n <= 200\n",
    "- s[i] is either 'I' or 'D'."
   ]
  },
  {
   "cell_type": "code",
   "execution_count": 1,
   "id": "789d10a8",
   "metadata": {},
   "outputs": [],
   "source": [
    "def numPermsDISequence(s: str) -> int:\n",
    "    MOD = 10**9 + 7\n",
    "    n = len(s)\n",
    "    \n",
    "    # dp[i][j] will store the number of permutations of length i+1 ending with j\n",
    "    dp = [[0] * (n + 1) for _ in range(n + 1)]\n",
    "    \n",
    "    # Base case: One permutation of length 1 ending with any number j\n",
    "    for j in range(n + 1):\n",
    "        dp[0][j] = 1\n",
    "    \n",
    "    # Fill the dp table\n",
    "    for i in range(1, n + 1):\n",
    "        if s[i - 1] == 'I':\n",
    "            # For 'I', sum up dp[i-1][0..j-1] to dp[i][j]\n",
    "            prefix_sum = 0\n",
    "            for j in range(n + 1):\n",
    "                prefix_sum = (prefix_sum + dp[i - 1][j]) % MOD\n",
    "                dp[i][j] = prefix_sum\n",
    "        else:\n",
    "            # For 'D', sum up dp[i-1][j+1..n] to dp[i][j]\n",
    "            suffix_sum = 0\n",
    "            for j in range(n, -1, -1):\n",
    "                suffix_sum = (suffix_sum + dp[i - 1][j]) % MOD\n",
    "                dp[i][j] = suffix_sum\n",
    "    \n",
    "    # Sum up all permutations of length n+1\n",
    "    result = sum(dp[n]) % MOD\n",
    "    \n",
    "    return result"
   ]
  },
  {
   "cell_type": "code",
   "execution_count": null,
   "id": "00c3683f",
   "metadata": {},
   "outputs": [],
   "source": []
  }
 ],
 "metadata": {
  "kernelspec": {
   "display_name": "Python 3 (ipykernel)",
   "language": "python",
   "name": "python3"
  },
  "language_info": {
   "codemirror_mode": {
    "name": "ipython",
    "version": 3
   },
   "file_extension": ".py",
   "mimetype": "text/x-python",
   "name": "python",
   "nbconvert_exporter": "python",
   "pygments_lexer": "ipython3",
   "version": "3.8.11"
  }
 },
 "nbformat": 4,
 "nbformat_minor": 5
}
