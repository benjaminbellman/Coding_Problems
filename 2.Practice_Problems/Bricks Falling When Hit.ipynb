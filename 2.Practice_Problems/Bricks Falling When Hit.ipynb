{
 "cells": [
  {
   "cell_type": "markdown",
   "id": "54d49220",
   "metadata": {},
   "source": [
    "# Bricks Falling When Hit"
   ]
  },
  {
   "cell_type": "markdown",
   "id": "b0146322",
   "metadata": {},
   "source": [
    "You are given an m x n binary grid, where each 1 represents a brick and 0 represents an empty space. A brick is stable if:\n",
    "\n",
    "- It is directly connected to the top of the grid, or\n",
    "- At least one other brick in its four adjacent cells is stable.\n",
    "\n",
    "You are also given an array hits, which is a sequence of erasures we want to apply. Each time we want to erase the brick at the location hits[i] = (rowi, coli). The brick on that location (if it exists) will disappear. Some other bricks may no longer be stable because of that erasure and will fall. Once a brick falls, it is immediately erased from the grid (i.e., it does not land on other stable bricks).\n",
    "\n",
    "Return an array result, where each result[i] is the number of bricks that will fall after the ith erasure is applied.\n",
    "\n",
    "Note that an erasure may refer to a location with no brick, and if it does, no bricks drop.\n",
    "\n",
    " \n",
    "\n",
    "**Example 1:**\n",
    "\n",
    "    Input: grid = [[1,0,0,0],[1,1,1,0]], hits = [[1,0]]\n",
    "    Output: [2]\n",
    "    Explanation: Starting with the grid:\n",
    "    [[1,0,0,0],\n",
    "     [1,1,1,0]]\n",
    "    We erase the underlined brick at (1,0), resulting in the grid:\n",
    "    [[1,0,0,0],\n",
    "     [0,1,1,0]]\n",
    "    The two underlined bricks are no longer stable as they are no longer connected to the top nor adjacent to another stable brick, so they will fall. The resulting grid is:\n",
    "    [[1,0,0,0],\n",
    "     [0,0,0,0]]\n",
    "    Hence the result is [2].\n",
    "\n",
    "**Example 2:**\n",
    "\n",
    "    Input: grid = [[1,0,0,0],[1,1,0,0]], hits = [[1,1],[1,0]]\n",
    "    Output: [0,0]\n",
    "    Explanation: Starting with the grid:\n",
    "    [[1,0,0,0],\n",
    "     [1,1,0,0]]\n",
    "    We erase the underlined brick at (1,1), resulting in the grid:\n",
    "    [[1,0,0,0],\n",
    "     [1,0,0,0]]\n",
    "    All remaining bricks are still stable, so no bricks fall. The grid remains the same:\n",
    "    [[1,0,0,0],\n",
    "     [1,0,0,0]]\n",
    "    Next, we erase the underlined brick at (1,0), resulting in the grid:\n",
    "    [[1,0,0,0],\n",
    "     [0,0,0,0]]\n",
    "    Once again, all remaining bricks are still stable, so no bricks fall.\n",
    "    Hence the result is [0,0].\n",
    " \n",
    "\n",
    "**Constraints:**\n",
    "\n",
    "- m == grid.length\n",
    "- n == grid[i].length\n",
    "- 1 <= m, n <= 200\n",
    "- grid[i][j] is 0 or 1.\n",
    "- 1 <= hits.length <= 4 * 104\n",
    "- hits[i].length == 2\n",
    "- 0 <= xi <= m - 1\n",
    "- 0 <= yi <= n - 1\n",
    "- All (xi, yi) are unique."
   ]
  },
  {
   "cell_type": "code",
   "execution_count": 1,
   "id": "af0cff93",
   "metadata": {},
   "outputs": [
    {
     "name": "stdout",
     "output_type": "stream",
     "text": [
      "[-2]\n"
     ]
    }
   ],
   "source": [
    "def hitBricks(grid, hits):\n",
    "    m, n = len(grid), len(grid[0])\n",
    "    tempGrid = [row[:] for row in grid]  # Create a copy of the grid\n",
    "\n",
    "    # Helper function for DFS to mark connected bricks as stable\n",
    "    def dfs(row, col):\n",
    "        if row < 0 or row >= m or col < 0 or col >= n or tempGrid[row][col] != 1:\n",
    "            return 0\n",
    "        tempGrid[row][col] = 2  # Mark as visited\n",
    "        size = 1\n",
    "        size += sum(dfs(r, c) for r, c in [(row - 1, col), (row + 1, col), (row, col - 1), (row, col + 1)])\n",
    "        return size\n",
    "\n",
    "    # Perform DFS from the top row to mark connected bricks as stable\n",
    "    for col in range(n):\n",
    "        dfs(0, col)\n",
    "\n",
    "    result = []\n",
    "    for hit in hits:\n",
    "        row, col = hit\n",
    "        if grid[row][col] == 0:\n",
    "            result.append(0)  # No brick to erase\n",
    "        else:\n",
    "            grid[row][col] = 0  # Simulate erasure\n",
    "            unstable_bricks = 0\n",
    "\n",
    "            # Check if the neighbors of the erased brick are still connected to the top\n",
    "            for r, c in [(row - 1, col), (row + 1, col), (row, col - 1), (row, col + 1)]:\n",
    "                if 0 <= r < m and 0 <= c < n and tempGrid[r][c] == 2:\n",
    "                    unstable_bricks += dfs(r, c) - 1  # Exclude the erased brick\n",
    "\n",
    "            result.append(unstable_bricks)\n",
    "\n",
    "    return result\n",
    "\n",
    "# Example usage\n",
    "grid = [[1,0,0,0],[1,1,1,0]]\n",
    "hits = [[1,0]]\n",
    "print(hitBricks(grid, hits))  # Output: [2]"
   ]
  },
  {
   "cell_type": "code",
   "execution_count": null,
   "id": "f6e0f2ef",
   "metadata": {},
   "outputs": [],
   "source": []
  }
 ],
 "metadata": {
  "kernelspec": {
   "display_name": "Python 3",
   "language": "python",
   "name": "python3"
  },
  "language_info": {
   "codemirror_mode": {
    "name": "ipython",
    "version": 3
   },
   "file_extension": ".py",
   "mimetype": "text/x-python",
   "name": "python",
   "nbconvert_exporter": "python",
   "pygments_lexer": "ipython3",
   "version": "3.9.13"
  }
 },
 "nbformat": 4,
 "nbformat_minor": 5
}
