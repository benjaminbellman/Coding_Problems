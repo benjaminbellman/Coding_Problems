{
 "cells": [
  {
   "cell_type": "markdown",
   "id": "985f0426",
   "metadata": {},
   "source": [
    "# Merge k Sorted Lists"
   ]
  },
  {
   "cell_type": "markdown",
   "id": "abc31a8b",
   "metadata": {},
   "source": [
    "You are given an array of k linked-lists lists, each linked-list is sorted in ascending order.\n",
    "\n",
    "Merge all the linked-lists into one sorted linked-list and return it.\n",
    "\n",
    "**Example 1:**\n",
    "\n",
    "Input: lists = [[1,4,5],[1,3,4],[2,6]]\n",
    "Output: [1,1,2,3,4,4,5,6]\n",
    "Explanation: The linked-lists are:\n",
    "[\n",
    "  1->4->5,\n",
    "  1->3->4,\n",
    "  2->6\n",
    "]\n",
    "merging them into one sorted list:\n",
    "1->1->2->3->4->4->5->6\n",
    "\n",
    "**Example 2:**\n",
    "\n",
    "Input: lists = []\n",
    "Output: []\n",
    "\n",
    "**Example 3:**\n",
    "\n",
    "Input: lists = [[]]\n",
    "Output: []\n",
    " \n",
    "**Constraints:**\n",
    "\n",
    "- k == lists.length\n",
    "- 0 <= k <= 104\n",
    "- 0 <= lists[i].length <= 500\n",
    "- -104 <= lists[i][j] <= 104\n",
    "- lists[i] is sorted in ascending order.\n",
    "- The sum of lists[i].length will not exceed 104."
   ]
  },
  {
   "cell_type": "code",
   "execution_count": 3,
   "id": "78484ea1",
   "metadata": {},
   "outputs": [],
   "source": [
    "from typing import List, Optional\n",
    "import heapq\n",
    "\n",
    "class ListNode:\n",
    "    def __init__(self, val=0, next=None):\n",
    "        self.val = val\n",
    "        self.next = next\n",
    "    \n",
    "    # For easier testing & printing\n",
    "    def __repr__(self):\n",
    "        result = []\n",
    "        node = self\n",
    "        while node:\n",
    "            result.append(str(node.val))\n",
    "            node = node.next\n",
    "        return \"->\".join(result)\n",
    "\n",
    "def mergeKLists(lists: List[Optional[ListNode]]) -> Optional[ListNode]:\n",
    "    heap = []\n",
    "    \n",
    "    # Counter to avoid comparison issues when values are equal\n",
    "    counter = 0\n",
    "    \n",
    "    # Initialize heap\n",
    "    for l in lists:\n",
    "        if l:\n",
    "            heapq.heappush(heap, (l.val, counter, l))\n",
    "            counter += 1\n",
    "\n",
    "    dummy = ListNode()\n",
    "    current = dummy\n",
    "\n",
    "    while heap:\n",
    "        val, _, node = heapq.heappop(heap)\n",
    "        current.next = node\n",
    "        current = current.next\n",
    "        if node.next:\n",
    "            heapq.heappush(heap, (node.next.val, counter, node.next))\n",
    "            counter += 1\n",
    "\n",
    "    return dummy.next"
   ]
  },
  {
   "cell_type": "code",
   "execution_count": 4,
   "id": "1c4f11bf",
   "metadata": {},
   "outputs": [
    {
     "name": "stdout",
     "output_type": "stream",
     "text": [
      "1->1->2->3->4->4->5->6\n"
     ]
    }
   ],
   "source": [
    "# Helper function to convert list to ListNode\n",
    "def build_linked_list(values):\n",
    "    dummy = ListNode()\n",
    "    current = dummy\n",
    "    for val in values:\n",
    "        current.next = ListNode(val)\n",
    "        current = current.next\n",
    "    return dummy.next\n",
    "\n",
    "# Convert input lists to ListNode format\n",
    "input_lists = [[1,4,5], [1,3,4], [2,6]]\n",
    "linked_lists = [build_linked_list(l) for l in input_lists]\n",
    "\n",
    "# Merge lists\n",
    "merged = mergeKLists(linked_lists)\n",
    "print(merged)  # Output: 1->1->2->3->4->4->5->6"
   ]
  },
  {
   "cell_type": "code",
   "execution_count": null,
   "id": "9dc5a3e6",
   "metadata": {},
   "outputs": [],
   "source": []
  }
 ],
 "metadata": {
  "kernelspec": {
   "display_name": "Python 3 (ipykernel)",
   "language": "python",
   "name": "python3"
  },
  "language_info": {
   "codemirror_mode": {
    "name": "ipython",
    "version": 3
   },
   "file_extension": ".py",
   "mimetype": "text/x-python",
   "name": "python",
   "nbconvert_exporter": "python",
   "pygments_lexer": "ipython3",
   "version": "3.8.11"
  }
 },
 "nbformat": 4,
 "nbformat_minor": 5
}
