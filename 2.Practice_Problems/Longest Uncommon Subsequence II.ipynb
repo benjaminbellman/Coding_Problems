{
 "cells": [
  {
   "cell_type": "markdown",
   "id": "5725a9ee",
   "metadata": {},
   "source": [
    "# Longest Uncommon Subsequence II"
   ]
  },
  {
   "cell_type": "markdown",
   "id": "aa7315fb",
   "metadata": {},
   "source": [
    "Given an array of strings strs, return the length of the longest uncommon subsequence between them. If the longest uncommon subsequence does not exist, return -1.\n",
    "\n",
    "An uncommon subsequence between an array of strings is a string that is a subsequence of one string but not the others.\n",
    "\n",
    "A subsequence of a string s is a string that can be obtained after deleting any number of characters from s.\n",
    "\n",
    "For example, \"abc\" is a subsequence of \"aebdc\" because you can delete the underlined characters in \"aebdc\" to get \"abc\". Other subsequences of \"aebdc\" include \"aebdc\", \"aeb\", and \"\" (empty string).\n",
    " \n",
    "\n",
    "**Example 1:**\n",
    "\n",
    "Input: strs = [\"aba\",\"cdc\",\"eae\"]\n",
    "Output: 3\n",
    "\n",
    "**Example 2:**\n",
    "\n",
    "Input: strs = [\"aaa\",\"aaa\",\"aa\"]\n",
    "Output: -1\n",
    " \n",
    "\n",
    "**Constraints:**\n",
    "\n",
    "- 2 <= strs.length <= 50\n",
    "- 1 <= strs[i].length <= 10\n",
    "- strs[i] consists of lowercase English letters."
   ]
  },
  {
   "cell_type": "code",
   "execution_count": 1,
   "id": "a1245577",
   "metadata": {},
   "outputs": [
    {
     "name": "stdout",
     "output_type": "stream",
     "text": [
      "3\n",
      "-1\n"
     ]
    }
   ],
   "source": [
    "def isSubsequence(x, y):\n",
    "    \"\"\"Check if x is a subsequence of y\"\"\"\n",
    "    it = iter(y)\n",
    "    return all(c in it for c in x)\n",
    "\n",
    "def findLUSlength(strs):\n",
    "    strs.sort(key=len, reverse=True)\n",
    "    \n",
    "    for i, s1 in enumerate(strs):\n",
    "        if all(not isSubsequence(s1, s2) for j, s2 in enumerate(strs) if i != j):\n",
    "            return len(s1)\n",
    "    \n",
    "    return -1\n",
    "\n",
    "# Example\n",
    "strs1 = [\"aba\",\"cdc\",\"eae\"]\n",
    "print(findLUSlength(strs1))  # Output: 3\n",
    "\n",
    "strs2 = [\"aaa\",\"aaa\",\"aa\"]\n",
    "print(findLUSlength(strs2))  # Output: -1"
   ]
  }
 ],
 "metadata": {
  "kernelspec": {
   "display_name": "Python 3",
   "language": "python",
   "name": "python3"
  },
  "language_info": {
   "codemirror_mode": {
    "name": "ipython",
    "version": 3
   },
   "file_extension": ".py",
   "mimetype": "text/x-python",
   "name": "python",
   "nbconvert_exporter": "python",
   "pygments_lexer": "ipython3",
   "version": "3.9.13"
  }
 },
 "nbformat": 4,
 "nbformat_minor": 5
}
