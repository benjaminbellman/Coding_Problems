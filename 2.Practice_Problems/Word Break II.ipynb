{
 "cells": [
  {
   "cell_type": "markdown",
   "id": "50043ba0",
   "metadata": {},
   "source": [
    "# Word Break II"
   ]
  },
  {
   "cell_type": "markdown",
   "id": "eac3265c",
   "metadata": {},
   "source": [
    "Given a string s and a dictionary of strings wordDict, add spaces in s to construct a sentence where each word is a valid dictionary word. Return all such possible sentences in any order.\n",
    "\n",
    "Note that the same word in the dictionary may be reused multiple times in the segmentation.\n",
    "\n",
    "**Example 1:**\n",
    "\n",
    "Input: s = \"catsanddog\", wordDict = [\"cat\",\"cats\",\"and\",\"sand\",\"dog\"]\n",
    "Output: [\"cats and dog\",\"cat sand dog\"]\n",
    "\n",
    "**Example 2:**\n",
    "\n",
    "Input: s = \"pineapplepenapple\", wordDict = [\"apple\",\"pen\",\"applepen\",\"pine\",\"pineapple\"]\n",
    "Output: [\"pine apple pen apple\",\"pineapple pen apple\",\"pine applepen apple\"]\n",
    "Explanation: Note that you are allowed to reuse a dictionary word.\n",
    "\n",
    "**Example 3:**\n",
    "\n",
    "Input: s = \"catsandog\", wordDict = [\"cats\",\"dog\",\"sand\",\"and\",\"cat\"]\n",
    "Output: []\n",
    " \n",
    "**Constraints:**\n",
    "\n",
    "- 1 <= s.length <= 20\n",
    "- 1 <= wordDict.length <= 1000\n",
    "- 1 <= wordDict[i].length <= 10\n",
    "- s and wordDict[i] consist of only lowercase English letters.\n",
    "- All the strings of wordDict are unique.\n",
    "- Input is generated in a way that the length of the answer doesn't exceed 105."
   ]
  },
  {
   "cell_type": "code",
   "execution_count": 1,
   "id": "629872d4",
   "metadata": {},
   "outputs": [
    {
     "ename": "TypeError",
     "evalue": "'type' object is not subscriptable",
     "output_type": "error",
     "traceback": [
      "\u001b[1;31m---------------------------------------------------------------------------\u001b[0m",
      "\u001b[1;31mTypeError\u001b[0m                                 Traceback (most recent call last)",
      "\u001b[1;32m~\\AppData\\Local\\Temp/ipykernel_26800/3148936966.py\u001b[0m in \u001b[0;36m<module>\u001b[1;34m\u001b[0m\n\u001b[0;32m      1\u001b[0m \u001b[1;32mfrom\u001b[0m \u001b[0mfunctools\u001b[0m \u001b[1;32mimport\u001b[0m \u001b[0mlru_cache\u001b[0m\u001b[1;33m\u001b[0m\u001b[1;33m\u001b[0m\u001b[0m\n\u001b[0;32m      2\u001b[0m \u001b[1;33m\u001b[0m\u001b[0m\n\u001b[1;32m----> 3\u001b[1;33m \u001b[1;32mdef\u001b[0m \u001b[0mwordBreak\u001b[0m\u001b[1;33m(\u001b[0m\u001b[0ms\u001b[0m\u001b[1;33m:\u001b[0m \u001b[0mstr\u001b[0m\u001b[1;33m,\u001b[0m \u001b[0mwordDict\u001b[0m\u001b[1;33m:\u001b[0m \u001b[0mlist\u001b[0m\u001b[1;33m[\u001b[0m\u001b[0mstr\u001b[0m\u001b[1;33m]\u001b[0m\u001b[1;33m)\u001b[0m \u001b[1;33m->\u001b[0m \u001b[0mlist\u001b[0m\u001b[1;33m[\u001b[0m\u001b[0mstr\u001b[0m\u001b[1;33m]\u001b[0m\u001b[1;33m:\u001b[0m\u001b[1;33m\u001b[0m\u001b[1;33m\u001b[0m\u001b[0m\n\u001b[0m\u001b[0;32m      4\u001b[0m     \u001b[0mwords\u001b[0m \u001b[1;33m=\u001b[0m \u001b[0mset\u001b[0m\u001b[1;33m(\u001b[0m\u001b[0mwordDict\u001b[0m\u001b[1;33m)\u001b[0m\u001b[1;33m\u001b[0m\u001b[1;33m\u001b[0m\u001b[0m\n\u001b[0;32m      5\u001b[0m     \u001b[0mn\u001b[0m \u001b[1;33m=\u001b[0m \u001b[0mlen\u001b[0m\u001b[1;33m(\u001b[0m\u001b[0ms\u001b[0m\u001b[1;33m)\u001b[0m\u001b[1;33m\u001b[0m\u001b[1;33m\u001b[0m\u001b[0m\n",
      "\u001b[1;31mTypeError\u001b[0m: 'type' object is not subscriptable"
     ]
    }
   ],
   "source": [
    "from functools import lru_cache\n",
    "\n",
    "def wordBreak(s: str, wordDict: list[str]) -> list[str]:\n",
    "    words = set(wordDict)\n",
    "    n = len(s)\n",
    "    max_len = max(map(len, words)) if words else 0\n",
    "\n",
    "    @lru_cache(maxsize=None)\n",
    "    def dfs(i: int) -> list[str]:\n",
    "        if i == n:\n",
    "            return [\"\"]  # empty continuation\n",
    "\n",
    "        res = []\n",
    "        # only try up to max_len to prune\n",
    "        for j in range(i + 1, min(n, i + max_len) + 1):\n",
    "            word = s[i:j]\n",
    "            if word in words:\n",
    "                for tail in dfs(j):\n",
    "                    # avoid leading/trailing spaces\n",
    "                    res.append(word if not tail else f\"{word} {tail}\")\n",
    "        return res\n",
    "\n",
    "    return dfs(0)"
   ]
  },
  {
   "cell_type": "code",
   "execution_count": null,
   "id": "655aeaf0",
   "metadata": {},
   "outputs": [],
   "source": []
  }
 ],
 "metadata": {
  "kernelspec": {
   "display_name": "Python 3 (ipykernel)",
   "language": "python",
   "name": "python3"
  },
  "language_info": {
   "codemirror_mode": {
    "name": "ipython",
    "version": 3
   },
   "file_extension": ".py",
   "mimetype": "text/x-python",
   "name": "python",
   "nbconvert_exporter": "python",
   "pygments_lexer": "ipython3",
   "version": "3.8.11"
  }
 },
 "nbformat": 4,
 "nbformat_minor": 5
}
