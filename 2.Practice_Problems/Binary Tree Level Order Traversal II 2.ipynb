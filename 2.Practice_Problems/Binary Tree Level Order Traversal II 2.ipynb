{
 "cells": [
  {
   "cell_type": "markdown",
   "id": "ef24fb02",
   "metadata": {},
   "source": [
    "# Binary Tree Level Order Traversal II"
   ]
  },
  {
   "cell_type": "markdown",
   "id": "65f534c9",
   "metadata": {},
   "source": [
    "Given the root of a binary tree, return the bottom-up level order traversal of its nodes' values. (i.e., from left to right, level by level from leaf to root).\n",
    " \n",
    "**Example 1:**\n",
    "\n",
    "Input: root = [3,9,20,null,null,15,7]\n",
    "Output: [[15,7],[9,20],[3]]\n",
    "\n",
    "**Example 2:**\n",
    "\n",
    "Input: root = [1]\n",
    "Output: [[1]]\n",
    "\n",
    "**Example 3:**\n",
    "\n",
    "Input: root = []\n",
    "Output: []\n",
    " \n",
    "**Constraints:**\n",
    "\n",
    "- The number of nodes in the tree is in the range [0, 2000].\n",
    "- -1000 <= Node.val <= 1000"
   ]
  },
  {
   "cell_type": "code",
   "execution_count": 1,
   "id": "fd88b9c8",
   "metadata": {},
   "outputs": [],
   "source": [
    "from collections import deque\n",
    "from typing import Optional, List\n",
    "\n",
    "class TreeNode:\n",
    "    def __init__(self, val=0, left=None, right=None):\n",
    "        self.val, self.left, self.right = val, left, right\n",
    "\n",
    "def levelOrderBottom(root: Optional[TreeNode]) -> List[List[int]]:\n",
    "    if not root:\n",
    "        return []\n",
    "    q = deque([root])\n",
    "    levels = []\n",
    "    while q:\n",
    "        size = len(q)\n",
    "        cur = []\n",
    "        for _ in range(size):\n",
    "            node = q.popleft()\n",
    "            cur.append(node.val)\n",
    "            if node.left: q.append(node.left)\n",
    "            if node.right: q.append(node.right)\n",
    "        levels.append(cur)\n",
    "    return levels[::-1]"
   ]
  },
  {
   "cell_type": "code",
   "execution_count": 2,
   "id": "c03df6e4",
   "metadata": {},
   "outputs": [],
   "source": [
    "from collections import deque\n",
    "\n",
    "def levelOrderBottom(root):\n",
    "    if not root:\n",
    "        return []\n",
    "    q = deque([root])\n",
    "    out = deque()             # so we can appendleft\n",
    "    while q:\n",
    "        size = len(q)\n",
    "        cur = []\n",
    "        for _ in range(size):\n",
    "            node = q.popleft()\n",
    "            cur.append(node.val)\n",
    "            if node.left: q.append(node.left)\n",
    "            if node.right: q.append(node.right)\n",
    "        out.appendleft(cur)\n",
    "    return list(out)"
   ]
  },
  {
   "cell_type": "code",
   "execution_count": null,
   "id": "3f0521a3",
   "metadata": {},
   "outputs": [],
   "source": []
  }
 ],
 "metadata": {
  "kernelspec": {
   "display_name": "Python 3 (ipykernel)",
   "language": "python",
   "name": "python3"
  },
  "language_info": {
   "codemirror_mode": {
    "name": "ipython",
    "version": 3
   },
   "file_extension": ".py",
   "mimetype": "text/x-python",
   "name": "python",
   "nbconvert_exporter": "python",
   "pygments_lexer": "ipython3",
   "version": "3.8.11"
  }
 },
 "nbformat": 4,
 "nbformat_minor": 5
}
