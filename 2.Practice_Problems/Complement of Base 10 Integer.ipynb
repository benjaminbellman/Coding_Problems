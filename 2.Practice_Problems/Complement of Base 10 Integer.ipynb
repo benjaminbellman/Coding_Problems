{
 "cells": [
  {
   "cell_type": "markdown",
   "id": "2da25582",
   "metadata": {},
   "source": [
    "# Complement of Base 10 Integer"
   ]
  },
  {
   "cell_type": "markdown",
   "id": "dc73da49",
   "metadata": {},
   "source": [
    "The complement of an integer is the integer you get when you flip all the 0's to 1's and all the 1's to 0's in its binary representation.\n",
    "\n",
    "For example, The integer 5 is \"101\" in binary and its complement is \"010\" which is the integer 2.\n",
    "Given an integer n, return its complement.\n",
    "\n",
    "**Example 1:**\n",
    "\n",
    "Input: n = 5\n",
    "Output: 2\n",
    "Explanation: 5 is \"101\" in binary, with complement \"010\" in binary, which is 2 in base-10.\n",
    "\n",
    "**Example 2:**\n",
    "\n",
    "Input: n = 7\n",
    "Output: 0\n",
    "Explanation: 7 is \"111\" in binary, with complement \"000\" in binary, which is 0 in base-10.\n",
    "\n",
    "**Example 3:**\n",
    "\n",
    "Input: n = 10\n",
    "Output: 5\n",
    "Explanation: 10 is \"1010\" in binary, with complement \"0101\" in binary, which is 5 in base-10.\n",
    "\n",
    "**Constraints:**\n",
    "\n",
    "- 0 <= n < 109"
   ]
  },
  {
   "cell_type": "code",
   "execution_count": 1,
   "id": "98451e1c",
   "metadata": {},
   "outputs": [],
   "source": [
    "def find_complement(n: int) -> int:\n",
    "    # Handle the special case when n is 0, as its complement is 1\n",
    "    if n == 0:\n",
    "        return 1\n",
    "    \n",
    "    # Step 1: Calculate the bitmask by shifting 1 left until it's greater than n, then subtract 1 to get all 1's\n",
    "    bit_length = n.bit_length()  # Number of bits needed to represent n in binary\n",
    "    bitmask = (1 << bit_length) - 1  # This creates a bitmask with all 1's of the same length as n\n",
    "    \n",
    "    # Step 2: XOR n with the bitmask to flip the bits\n",
    "    return n ^ bitmask"
   ]
  },
  {
   "cell_type": "code",
   "execution_count": null,
   "id": "0257b4f1",
   "metadata": {},
   "outputs": [],
   "source": []
  }
 ],
 "metadata": {
  "kernelspec": {
   "display_name": "Python 3 (ipykernel)",
   "language": "python",
   "name": "python3"
  },
  "language_info": {
   "codemirror_mode": {
    "name": "ipython",
    "version": 3
   },
   "file_extension": ".py",
   "mimetype": "text/x-python",
   "name": "python",
   "nbconvert_exporter": "python",
   "pygments_lexer": "ipython3",
   "version": "3.8.11"
  }
 },
 "nbformat": 4,
 "nbformat_minor": 5
}
