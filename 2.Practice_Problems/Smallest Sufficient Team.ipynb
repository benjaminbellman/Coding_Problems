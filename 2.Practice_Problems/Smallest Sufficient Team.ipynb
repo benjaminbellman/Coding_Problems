{
 "cells": [
  {
   "cell_type": "markdown",
   "id": "e242e71c",
   "metadata": {},
   "source": [
    "# Smallest Sufficient Team"
   ]
  },
  {
   "cell_type": "markdown",
   "id": "5befa0e7",
   "metadata": {},
   "source": [
    "In a project, you have a list of required skills req_skills, and a list of people. The ith person people[i] contains a list of skills that the person has.\n",
    "\n",
    "Consider a sufficient team: a set of people such that for every required skill in req_skills, there is at least one person in the team who has that skill. We can represent these teams by the index of each person.\n",
    "\n",
    "For example, team = [0, 1, 3] represents the people with skills people[0], people[1], and people[3].\n",
    "Return any sufficient team of the smallest possible size, represented by the index of each person. You may return the answer in any order.\n",
    "\n",
    "It is guaranteed an answer exists.\n",
    "\n",
    "**Example 1:**\n",
    "\n",
    "Input: req_skills = [\"java\",\"nodejs\",\"reactjs\"], people = [[\"java\"],[\"nodejs\"],[\"nodejs\",\"reactjs\"]]\n",
    "Output: [0,2]\n",
    "\n",
    "**Example 2:**\n",
    "\n",
    "Input: req_skills = [\"algorithms\",\"math\",\"java\",\"reactjs\",\"csharp\",\"aws\"], people = [[\"algorithms\",\"math\",\"java\"],[\"algorithms\",\"math\",\"reactjs\"],[\"java\",\"csharp\",\"aws\"],[\"reactjs\",\"csharp\"],[\"csharp\",\"math\"],[\"aws\",\"java\"]]\n",
    "Output: [1,2]\n",
    "\n",
    "**Constraints:**\n",
    "\n",
    "- 1 <= req_skills.length <= 16\n",
    "- 1 <= req_skills[i].length <= 16\n",
    "- req_skills[i] consists of lowercase English letters.\n",
    "- All the strings of req_skills are unique.\n",
    "- 1 <= people.length <= 60\n",
    "- 0 <= people[i].length <= 16\n",
    "- 1 <= people[i][j].length <= 16\n",
    "- people[i][j] consists of lowercase English letters.\n",
    "- All the strings of people[i] are unique.\n",
    "- Every skill in people[i] is a skill in req_skills.\n",
    "- It is guaranteed a sufficient team exists."
   ]
  },
  {
   "cell_type": "code",
   "execution_count": 1,
   "id": "35a5f86f",
   "metadata": {},
   "outputs": [
    {
     "name": "stdout",
     "output_type": "stream",
     "text": [
      "[0, 2]\n",
      "[1, 2]\n"
     ]
    }
   ],
   "source": [
    "from functools import lru_cache\n",
    "\n",
    "def smallestSufficientTeam(req_skills, people):\n",
    "    from collections import defaultdict\n",
    "    \n",
    "    skill_index = {skill: i for i, skill in enumerate(req_skills)}\n",
    "    n, m = len(people), len(req_skills)\n",
    "    \n",
    "    # Convert each person's skills into a bitmask\n",
    "    people_skills = []\n",
    "    for person in people:\n",
    "        mask = 0\n",
    "        for skill in person:\n",
    "            if skill in skill_index:\n",
    "                mask |= (1 << skill_index[skill])\n",
    "        people_skills.append(mask)\n",
    "\n",
    "    # DP dictionary to store the smallest team for each skill set\n",
    "    dp = {0: []}  # Base case: No skills require no people\n",
    "    \n",
    "    for i, p_mask in enumerate(people_skills):\n",
    "        if p_mask == 0:\n",
    "            continue  # Skip people with no useful skills\n",
    "\n",
    "        # Iterate over existing DP states in reverse order\n",
    "        for existing_mask, team in list(dp.items()):\n",
    "            new_mask = existing_mask | p_mask\n",
    "            if new_mask == existing_mask:\n",
    "                continue  # No new skills are added\n",
    "\n",
    "            # If new_mask is not in dp or we found a smaller team, update\n",
    "            if new_mask not in dp or len(dp[new_mask]) > len(team) + 1:\n",
    "                dp[new_mask] = team + [i]\n",
    "\n",
    "    # The answer is the smallest team that covers all skills\n",
    "    return dp[(1 << m) - 1]\n",
    "\n",
    "# Example usage:\n",
    "req_skills = [\"java\", \"nodejs\", \"reactjs\"]\n",
    "people = [[\"java\"], [\"nodejs\"], [\"nodejs\", \"reactjs\"]]\n",
    "print(smallestSufficientTeam(req_skills, people))  # Output: [0, 2]\n",
    "\n",
    "req_skills = [\"algorithms\",\"math\",\"java\",\"reactjs\",\"csharp\",\"aws\"]\n",
    "people = [[\"algorithms\",\"math\",\"java\"],[\"algorithms\",\"math\",\"reactjs\"],[\"java\",\"csharp\",\"aws\"],\n",
    "          [\"reactjs\",\"csharp\"],[\"csharp\",\"math\"],[\"aws\",\"java\"]]\n",
    "print(smallestSufficientTeam(req_skills, people))  # Output: [1, 2]"
   ]
  },
  {
   "cell_type": "code",
   "execution_count": null,
   "id": "037d24c6",
   "metadata": {},
   "outputs": [],
   "source": []
  }
 ],
 "metadata": {
  "kernelspec": {
   "display_name": "Python 3 (ipykernel)",
   "language": "python",
   "name": "python3"
  },
  "language_info": {
   "codemirror_mode": {
    "name": "ipython",
    "version": 3
   },
   "file_extension": ".py",
   "mimetype": "text/x-python",
   "name": "python",
   "nbconvert_exporter": "python",
   "pygments_lexer": "ipython3",
   "version": "3.8.11"
  }
 },
 "nbformat": 4,
 "nbformat_minor": 5
}
