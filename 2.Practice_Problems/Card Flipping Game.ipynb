{
 "cells": [
  {
   "cell_type": "markdown",
   "id": "bf2702b7",
   "metadata": {},
   "source": [
    "# Card Flipping Game"
   ]
  },
  {
   "cell_type": "markdown",
   "id": "f65f53d2",
   "metadata": {},
   "source": [
    "You are given two 0-indexed integer arrays fronts and backs of length n, where the ith card has the positive integer fronts[i] printed on the front and backs[i] printed on the back. Initially, each card is placed on a table such that the front number is facing up and the other is facing down. You may flip over any number of cards (possibly zero).\n",
    "\n",
    "After flipping the cards, an integer is considered good if it is facing down on some card and not facing up on any card.\n",
    "\n",
    "Return the minimum possible good integer after flipping the cards. If there are no good integers, return 0.\n",
    "\n",
    "**Example 1:**\n",
    "\n",
    "Input: fronts = [1,2,4,4,7], backs = [1,3,4,1,3]\n",
    "Output: 2\n",
    "Explanation:\n",
    "If we flip the second card, the face up numbers are [1,3,4,4,7] and the face down are [1,2,4,1,3].\n",
    "2 is the minimum good integer as it appears facing down but not facing up.\n",
    "It can be shown that 2 is the minimum possible good integer obtainable after flipping some cards.\n",
    "\n",
    "**Example 2:**\n",
    "\n",
    "Input: fronts = [1], backs = [1]\n",
    "Output: 0\n",
    "Explanation:\n",
    "There are no good integers no matter how we flip the cards, so we return 0.\n",
    " \n",
    "**Constraints:**\n",
    "\n",
    "- n == fronts.length == backs.length\n",
    "- 1 <= n <= 1000\n",
    "- 1 <= fronts[i], backs[i] <= 2000"
   ]
  },
  {
   "cell_type": "code",
   "execution_count": 1,
   "id": "2f602bd1",
   "metadata": {},
   "outputs": [
    {
     "name": "stdout",
     "output_type": "stream",
     "text": [
      "5\n",
      "2\n"
     ]
    }
   ],
   "source": [
    "def min_good_integer(fronts, backs):\n",
    "    good_integers = set(range(1, 2001))  # Set of possible good integers\n",
    "    \n",
    "    for front, back in zip(fronts, backs):\n",
    "        if front == back:\n",
    "            good_integers.discard(front)  # Remove the number if it's on both sides\n",
    "        else:\n",
    "            good_integers.discard(front)\n",
    "            good_integers.discard(back)\n",
    "    \n",
    "    return min(good_integers) if good_integers else 0\n",
    "\n",
    "# Example usage\n",
    "fronts1 = [1,2,4,4,7]\n",
    "backs1 = [1,3,4,1,3]\n",
    "print(min_good_integer(fronts1, backs1))  # Output: 2\n",
    "\n",
    "fronts2 = [1]\n",
    "backs2 = [1]\n",
    "print(min_good_integer(fronts2, backs2))  # Output: 0"
   ]
  },
  {
   "cell_type": "code",
   "execution_count": null,
   "id": "b81fa6e4",
   "metadata": {},
   "outputs": [],
   "source": []
  }
 ],
 "metadata": {
  "kernelspec": {
   "display_name": "Python 3",
   "language": "python",
   "name": "python3"
  },
  "language_info": {
   "codemirror_mode": {
    "name": "ipython",
    "version": 3
   },
   "file_extension": ".py",
   "mimetype": "text/x-python",
   "name": "python",
   "nbconvert_exporter": "python",
   "pygments_lexer": "ipython3",
   "version": "3.9.13"
  }
 },
 "nbformat": 4,
 "nbformat_minor": 5
}
