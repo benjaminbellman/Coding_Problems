{
 "cells": [
  {
   "cell_type": "markdown",
   "id": "72e17f16",
   "metadata": {},
   "source": [
    "# Decode Ways"
   ]
  },
  {
   "cell_type": "markdown",
   "id": "1f10606a",
   "metadata": {},
   "source": [
    "You have intercepted a secret message encoded as a string of numbers. The message is decoded via the following mapping:\n",
    "\n",
    "\"1\" -> 'A'\n",
    "\n",
    "\"2\" -> 'B'\n",
    "\n",
    "...\n",
    "\n",
    "\"25\" -> 'Y'\n",
    "\n",
    "\"26\" -> 'Z'\n",
    "\n",
    "However, while decoding the message, you realize that there are many different ways you can decode the message because some codes are contained in other codes (\"2\" and \"5\" vs \"25\").\n",
    "\n",
    "For example, \"11106\" can be decoded into:\n",
    "\n",
    "\"AAJF\" with the grouping (1, 1, 10, 6)\n",
    "\"KJF\" with the grouping (11, 10, 6)\n",
    "The grouping (1, 11, 06) is invalid because \"06\" is not a valid code (only \"6\" is valid).\n",
    "Note: there may be strings that are impossible to decode.\n",
    "\n",
    "Given a string s containing only digits, return the number of ways to decode it. If the entire string cannot be decoded in any valid way, return 0.\n",
    "\n",
    "The test cases are generated so that the answer fits in a 32-bit integer.\n",
    "\n",
    "**Example 1:**\n",
    "\n",
    "Input: s = \"12\"\n",
    "\n",
    "Output: 2\n",
    "\n",
    "Explanation:\n",
    "\n",
    "\"12\" could be decoded as \"AB\" (1 2) or \"L\" (12).\n",
    "\n",
    "**Example 2:**\n",
    "\n",
    "Input: s = \"226\"\n",
    "\n",
    "Output: 3\n",
    "\n",
    "Explanation:\n",
    "\n",
    "\"226\" could be decoded as \"BZ\" (2 26), \"VF\" (22 6), or \"BBF\" (2 2 6).\n",
    "\n",
    "**Example 3:**\n",
    "\n",
    "Input: s = \"06\"\n",
    "\n",
    "Output: 0\n",
    "\n",
    "Explanation:\n",
    "\n",
    "\"06\" cannot be mapped to \"F\" because of the leading zero (\"6\" is different from \"06\"). In this case, the string is not a valid encoding, so return 0.\n",
    "\n",
    "**Constraints:**\n",
    "\n",
    "- 1 <= s.length <= 100\n",
    "- s contains only digits and may contain leading zero(s)."
   ]
  },
  {
   "cell_type": "code",
   "execution_count": 1,
   "id": "3bf5ccbe",
   "metadata": {},
   "outputs": [],
   "source": [
    "def num_decodings(s: str) -> int:\n",
    "    n = len(s)\n",
    "    if n == 0 or s[0] == '0':\n",
    "        return 0\n",
    "\n",
    "    dp = [0] * (n + 1)\n",
    "    dp[0] = 1  # Empty string\n",
    "    dp[1] = 1  # First character already checked for '0'\n",
    "\n",
    "    for i in range(2, n + 1):\n",
    "        # Single digit check\n",
    "        if s[i - 1] != '0':\n",
    "            dp[i] += dp[i - 1]\n",
    "        \n",
    "        # Two digit check\n",
    "        two_digit = int(s[i - 2:i])\n",
    "        if 10 <= two_digit <= 26:\n",
    "            dp[i] += dp[i - 2]\n",
    "\n",
    "    return dp[n]"
   ]
  },
  {
   "cell_type": "code",
   "execution_count": null,
   "id": "7eb62741",
   "metadata": {},
   "outputs": [],
   "source": []
  }
 ],
 "metadata": {
  "kernelspec": {
   "display_name": "Python 3 (ipykernel)",
   "language": "python",
   "name": "python3"
  },
  "language_info": {
   "codemirror_mode": {
    "name": "ipython",
    "version": 3
   },
   "file_extension": ".py",
   "mimetype": "text/x-python",
   "name": "python",
   "nbconvert_exporter": "python",
   "pygments_lexer": "ipython3",
   "version": "3.8.11"
  }
 },
 "nbformat": 4,
 "nbformat_minor": 5
}
