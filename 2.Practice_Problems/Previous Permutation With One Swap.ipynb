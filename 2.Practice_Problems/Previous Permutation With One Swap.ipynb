{
 "cells": [
  {
   "cell_type": "markdown",
   "id": "cc70f952",
   "metadata": {},
   "source": [
    "# Previous Permutation With One Swap"
   ]
  },
  {
   "cell_type": "markdown",
   "id": "f8f9fa44",
   "metadata": {},
   "source": [
    "Given an array of positive integers arr (not necessarily distinct), return the \n",
    "lexicographically\n",
    " largest permutation that is smaller than arr, that can be made with exactly one swap. If it cannot be done, then return the same array.\n",
    "\n",
    "Note that a swap exchanges the positions of two numbers arr[i] and arr[j]\n",
    "\n",
    "**Example 1:**\n",
    "\n",
    "Input: arr = [3,2,1]\n",
    "Output: [3,1,2]\n",
    "Explanation: Swapping 2 and 1.\n",
    "\n",
    "**Example 2:**\n",
    "\n",
    "Input: arr = [1,1,5]\n",
    "Output: [1,1,5]\n",
    "Explanation: This is already the smallest permutation.\n",
    "\n",
    "**Example 3:**\n",
    "\n",
    "Input: arr = [1,9,4,6,7]\n",
    "Output: [1,7,4,6,9]\n",
    "Explanation: Swapping 9 and 7.\n",
    "\n",
    "**Constraints:**\n",
    "\n",
    "- 1 <= arr.length <= 104\n",
    "- 1 <= arr[i] <= 104"
   ]
  },
  {
   "cell_type": "code",
   "execution_count": 1,
   "id": "f7b6f736",
   "metadata": {},
   "outputs": [
    {
     "name": "stdout",
     "output_type": "stream",
     "text": [
      "[3, 1, 2]\n",
      "[1, 1, 5]\n",
      "[1, 7, 4, 6, 9]\n"
     ]
    }
   ],
   "source": [
    "def largest_permutation_smaller(arr):\n",
    "    n = len(arr)\n",
    "    \n",
    "    # Step 1: Find the first decreasing element from the right\n",
    "    i = n - 2\n",
    "    while i >= 0 and arr[i] <= arr[i + 1]:\n",
    "        i -= 1\n",
    "    \n",
    "    if i < 0:\n",
    "        # The array is in non-decreasing order, no smaller permutation possible\n",
    "        return arr\n",
    "    \n",
    "    # Step 2: Find the largest element smaller than arr[i] to the right\n",
    "    j = n - 1\n",
    "    while arr[j] >= arr[i]:\n",
    "        j -= 1\n",
    "    \n",
    "    # Step 3: Swap arr[i] and arr[j]\n",
    "    arr[i], arr[j] = arr[j], arr[i]\n",
    "    \n",
    "    return arr\n",
    "\n",
    "# Examples\n",
    "print(largest_permutation_smaller([3, 2, 1]))  # Output: [3, 1, 2]\n",
    "print(largest_permutation_smaller([1, 1, 5]))  # Output: [1, 1, 5]\n",
    "print(largest_permutation_smaller([1, 9, 4, 6, 7]))  # Output: [1, 7, 4, 6, 9]"
   ]
  },
  {
   "cell_type": "code",
   "execution_count": null,
   "id": "1829cda9",
   "metadata": {},
   "outputs": [],
   "source": []
  }
 ],
 "metadata": {
  "kernelspec": {
   "display_name": "Python 3 (ipykernel)",
   "language": "python",
   "name": "python3"
  },
  "language_info": {
   "codemirror_mode": {
    "name": "ipython",
    "version": 3
   },
   "file_extension": ".py",
   "mimetype": "text/x-python",
   "name": "python",
   "nbconvert_exporter": "python",
   "pygments_lexer": "ipython3",
   "version": "3.8.11"
  }
 },
 "nbformat": 4,
 "nbformat_minor": 5
}
