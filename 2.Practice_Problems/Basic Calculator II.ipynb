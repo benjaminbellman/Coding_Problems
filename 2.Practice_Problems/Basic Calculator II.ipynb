{
 "cells": [
  {
   "cell_type": "markdown",
   "id": "e6e9fa15",
   "metadata": {},
   "source": [
    "# Basic Calculator II"
   ]
  },
  {
   "cell_type": "markdown",
   "id": "5adfba42",
   "metadata": {},
   "source": [
    "Given a string s which represents an expression, evaluate this expression and return its value. \n",
    "\n",
    "The integer division should truncate toward zero.\n",
    "\n",
    "You may assume that the given expression is always valid. All intermediate results will be in the range of [-231, 231 - 1].\n",
    "\n",
    "Note: You are not allowed to use any built-in function which evaluates strings as mathematical expressions, such as eval().\n",
    "\n",
    " \n",
    "\n",
    "**Example 1:**\n",
    "\n",
    "Input: s = \"3+2*2\"\n",
    "Output: 7\n",
    "\n",
    "**Example 2:**\n",
    "\n",
    "Input: s = \" 3/2 \"\n",
    "Output: 1\n",
    "\n",
    "**Example 3:**\n",
    "\n",
    "Input: s = \" 3+5 / 2 \"\n",
    "Output: 5\n",
    " \n",
    "\n",
    "**Constraints:**\n",
    "\n",
    "1 <= s.length <= 3 * 105\n",
    "s consists of integers and operators ('+', '-', '*', '/') separated by some number of spaces.\n",
    "s represents a valid expression.\n",
    "All the integers in the expression are non-negative integers in the range [0, 231 - 1].\n",
    "The answer is guaranteed to fit in a 32-bit integer."
   ]
  },
  {
   "cell_type": "code",
   "execution_count": 1,
   "id": "267cdc0e",
   "metadata": {},
   "outputs": [
    {
     "name": "stdout",
     "output_type": "stream",
     "text": [
      "7\n",
      "1\n",
      "5\n"
     ]
    }
   ],
   "source": [
    "def calculate(s):\n",
    "    s = s.replace(\" \", \"\")  # Remove spaces from the expression\n",
    "    stack = []\n",
    "    num = 0\n",
    "    operator = \"+\"\n",
    "    for i in range(len(s)):\n",
    "        if s[i].isdigit():\n",
    "            num = num * 10 + int(s[i])\n",
    "        if not s[i].isdigit() or i == len(s) - 1:\n",
    "            if operator == \"+\":\n",
    "                stack.append(num)\n",
    "            elif operator == \"-\":\n",
    "                stack.append(-num)\n",
    "            elif operator == \"*\":\n",
    "                stack.append(stack.pop() * num)\n",
    "            elif operator == \"/\":\n",
    "                stack.append(int(stack.pop() / num))\n",
    "            num = 0\n",
    "            operator = s[i]\n",
    "    return sum(stack)\n",
    "\n",
    "# Testing the provided examples\n",
    "print(calculate(\"3+2*2\"))  # Output: 7\n",
    "print(calculate(\" 3/2 \"))  # Output: 1\n",
    "print(calculate(\" 3+5 / 2 \"))  # Output: 5"
   ]
  },
  {
   "cell_type": "code",
   "execution_count": null,
   "id": "ed6ec751",
   "metadata": {},
   "outputs": [],
   "source": []
  }
 ],
 "metadata": {
  "kernelspec": {
   "display_name": "Python 3",
   "language": "python",
   "name": "python3"
  },
  "language_info": {
   "codemirror_mode": {
    "name": "ipython",
    "version": 3
   },
   "file_extension": ".py",
   "mimetype": "text/x-python",
   "name": "python",
   "nbconvert_exporter": "python",
   "pygments_lexer": "ipython3",
   "version": "3.9.13"
  }
 },
 "nbformat": 4,
 "nbformat_minor": 5
}
