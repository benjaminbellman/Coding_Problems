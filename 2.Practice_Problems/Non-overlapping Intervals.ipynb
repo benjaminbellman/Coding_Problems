{
 "cells": [
  {
   "cell_type": "markdown",
   "id": "90e0c9a4",
   "metadata": {},
   "source": [
    "# Non-overlapping Intervals"
   ]
  },
  {
   "cell_type": "markdown",
   "id": "7b928962",
   "metadata": {},
   "source": [
    "**Example 1:**\n",
    "\n",
    "Input: intervals = [[1,2],[2,3],[3,4],[1,3]]\n",
    "Output: 1\n",
    "Explanation: [1,3] can be removed and the rest of the intervals are non-overlapping.\n",
    "\n",
    "**Example 2:**\n",
    "\n",
    "Input: intervals = [[1,2],[1,2],[1,2]]\n",
    "Output: 2\n",
    "Explanation: You need to remove two [1,2] to make the rest of the intervals non-overlapping.\n",
    "\n",
    "**Example 3:**\n",
    "\n",
    "Input: intervals = [[1,2],[2,3]]\n",
    "Output: 0\n",
    "Explanation: You don't need to remove any of the intervals since they're already non-overlapping.\n",
    " \n",
    "\n",
    "**Constraints:**\n",
    "\n",
    "1 <= intervals.length <= 105\n",
    "intervals[i].length == 2\n",
    "-5 * 104 <= starti < endi <= 5 * 104"
   ]
  },
  {
   "cell_type": "code",
   "execution_count": 1,
   "id": "a47330dc",
   "metadata": {},
   "outputs": [],
   "source": [
    "def eraseOverlapIntervals(intervals):\n",
    "    if len(intervals) < 2:\n",
    "        return 0\n",
    "    \n",
    "    intervals.sort(key=lambda x: x[1])\n",
    "    end = intervals[0][1]\n",
    "    count = 1\n",
    "    \n",
    "    for i in range(1, len(intervals)):\n",
    "        if intervals[i][0] >= end:\n",
    "            end = intervals[i][1]\n",
    "            count += 1\n",
    "    \n",
    "    return len(intervals) - count"
   ]
  },
  {
   "cell_type": "code",
   "execution_count": 2,
   "id": "35c3437d",
   "metadata": {},
   "outputs": [
    {
     "name": "stdout",
     "output_type": "stream",
     "text": [
      "1\n",
      "2\n",
      "0\n"
     ]
    }
   ],
   "source": [
    "# Example 1\n",
    "intervals1 = [[1,2],[2,3],[3,4],[1,3]]\n",
    "output1 = eraseOverlapIntervals(intervals1)\n",
    "print(output1)  # Output: 1\n",
    "\n",
    "# Example 2\n",
    "intervals2 = [[1,2],[1,2],[1,2]]\n",
    "output2 = eraseOverlapIntervals(intervals2)\n",
    "print(output2)  # Output: 2\n",
    "\n",
    "# Example 3\n",
    "intervals3 = [[1,2],[2,3]]\n",
    "output3 = eraseOverlapIntervals(intervals3)\n",
    "print(output3)  # Output: 0"
   ]
  },
  {
   "cell_type": "code",
   "execution_count": null,
   "id": "6ad8d1d4",
   "metadata": {},
   "outputs": [],
   "source": []
  }
 ],
 "metadata": {
  "kernelspec": {
   "display_name": "Python 3",
   "language": "python",
   "name": "python3"
  },
  "language_info": {
   "codemirror_mode": {
    "name": "ipython",
    "version": 3
   },
   "file_extension": ".py",
   "mimetype": "text/x-python",
   "name": "python",
   "nbconvert_exporter": "python",
   "pygments_lexer": "ipython3",
   "version": "3.9.13"
  }
 },
 "nbformat": 4,
 "nbformat_minor": 5
}
