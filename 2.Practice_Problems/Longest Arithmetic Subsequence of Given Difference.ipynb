{
 "cells": [
  {
   "cell_type": "markdown",
   "id": "78afce9e",
   "metadata": {},
   "source": [
    "# Longest Arithmetic Subsequence of Given Difference"
   ]
  },
  {
   "cell_type": "markdown",
   "id": "6ebbb466",
   "metadata": {},
   "source": [
    "Given an integer array arr and an integer difference, return the length of the longest subsequence in arr which is an arithmetic sequence such that the difference between adjacent elements in the subsequence equals difference.\n",
    "\n",
    "A subsequence is a sequence that can be derived from arr by deleting some or no elements without changing the order of the remaining elements.\n",
    "\n",
    "**Example 1:**\n",
    "\n",
    "Input: arr = [1,2,3,4], difference = 1\n",
    "Output: 4\n",
    "Explanation: The longest arithmetic subsequence is [1,2,3,4].\n",
    "\n",
    "**Example 2:**\n",
    "\n",
    "Input: arr = [1,3,5,7], difference = 1\n",
    "Output: 1\n",
    "Explanation: The longest arithmetic subsequence is any single element.\n",
    "\n",
    "**Example 3:**\n",
    "\n",
    "Input: arr = [1,5,7,8,5,3,4,2,1], difference = -2\n",
    "Output: 4\n",
    "Explanation: The longest arithmetic subsequence is [7,5,3,1].\n",
    " \n",
    "**Constraints:**\n",
    "\n",
    "- 1 <= arr.length <= 105\n",
    "- -104 <= arr[i], difference <= 104"
   ]
  },
  {
   "cell_type": "code",
   "execution_count": 1,
   "id": "274a4777",
   "metadata": {},
   "outputs": [],
   "source": [
    "def longest_subsequence(arr, difference):\n",
    "    dp = {}\n",
    "    max_len = 0\n",
    "\n",
    "    for x in arr:\n",
    "        dp[x] = dp.get(x - difference, 0) + 1\n",
    "        max_len = max(max_len, dp[x])\n",
    "\n",
    "    return max_len"
   ]
  },
  {
   "cell_type": "code",
   "execution_count": null,
   "id": "e1a5e1b0",
   "metadata": {},
   "outputs": [],
   "source": []
  }
 ],
 "metadata": {
  "kernelspec": {
   "display_name": "Python 3 (ipykernel)",
   "language": "python",
   "name": "python3"
  },
  "language_info": {
   "codemirror_mode": {
    "name": "ipython",
    "version": 3
   },
   "file_extension": ".py",
   "mimetype": "text/x-python",
   "name": "python",
   "nbconvert_exporter": "python",
   "pygments_lexer": "ipython3",
   "version": "3.8.11"
  }
 },
 "nbformat": 4,
 "nbformat_minor": 5
}
