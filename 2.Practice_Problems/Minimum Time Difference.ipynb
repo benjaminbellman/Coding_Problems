{
 "cells": [
  {
   "cell_type": "markdown",
   "id": "79711292",
   "metadata": {},
   "source": [
    "# Minimum Time Difference"
   ]
  },
  {
   "cell_type": "markdown",
   "id": "a426390f",
   "metadata": {},
   "source": [
    "Given a list of 24-hour clock time points in \"HH:MM\" format, return the minimum minutes difference between any two time-points in the list.\n",
    " \n",
    "\n",
    "**Example 1:**\n",
    "\n",
    "Input: timePoints = [\"23:59\",\"00:00\"]\n",
    "Output: 1\n",
    "\n",
    "**Example 2:**\n",
    "\n",
    "Input: timePoints = [\"00:00\",\"23:59\",\"00:00\"]\n",
    "Output: 0\n",
    " \n",
    "\n",
    "**Constraints:**\n",
    "\n",
    "- 2 <= timePoints.length <= 2 * 104\n",
    "- timePoints[i] is in the format \"HH:MM\"."
   ]
  },
  {
   "cell_type": "code",
   "execution_count": 1,
   "id": "7d4126db",
   "metadata": {},
   "outputs": [
    {
     "name": "stdout",
     "output_type": "stream",
     "text": [
      "1\n",
      "0\n"
     ]
    }
   ],
   "source": [
    "def minTimeDifference(timePoints):\n",
    "    # Convert timePoints into minutes\n",
    "    minutes = [int(time.split(\":\")[0])*60 + int(time.split(\":\")[1]) for time in timePoints]\n",
    "    # Sort the list\n",
    "    minutes.sort()\n",
    "    # Calculate the minimum difference\n",
    "    minDiff = float('inf')\n",
    "    for i in range(1, len(minutes)):\n",
    "        minDiff = min(minDiff, minutes[i] - minutes[i-1])\n",
    "    # Consider the difference between the last and first time point\n",
    "    minDiff = min(minDiff, 24*60 - minutes[-1] + minutes[0])\n",
    "    return minDiff\n",
    "\n",
    "# Test cases\n",
    "print(minTimeDifference([\"23:59\",\"00:00\"])) # Expected output: 1\n",
    "print(minTimeDifference([\"00:00\",\"23:59\",\"00:00\"])) # Expected output: 0"
   ]
  }
 ],
 "metadata": {
  "kernelspec": {
   "display_name": "Python 3",
   "language": "python",
   "name": "python3"
  },
  "language_info": {
   "codemirror_mode": {
    "name": "ipython",
    "version": 3
   },
   "file_extension": ".py",
   "mimetype": "text/x-python",
   "name": "python",
   "nbconvert_exporter": "python",
   "pygments_lexer": "ipython3",
   "version": "3.9.13"
  }
 },
 "nbformat": 4,
 "nbformat_minor": 5
}
