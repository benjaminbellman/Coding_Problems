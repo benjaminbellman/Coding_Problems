{
 "cells": [
  {
   "cell_type": "markdown",
   "id": "f57774ef",
   "metadata": {},
   "source": [
    "# Sum of Left Leaves"
   ]
  },
  {
   "cell_type": "markdown",
   "id": "72e3c137",
   "metadata": {},
   "source": [
    "Given the root of a binary tree, return the sum of all left leaves.\n",
    "\n",
    "A leaf is a node with no children. A left leaf is a leaf that is the left child of another node.\n",
    "\n",
    " \n",
    "\n",
    "**Example 1:**\n",
    "\n",
    "\n",
    "Input: root = [3,9,20,null,null,15,7]\n",
    "Output: 24\n",
    "Explanation: There are two left leaves in the binary tree, with values 9 and 15 respectively.\n",
    "\n",
    "**Example 2:**\n",
    "\n",
    "Input: root = [1]\n",
    "Output: 0\n",
    " \n",
    "\n",
    "**Constraints:**\n",
    "\n",
    "The number of nodes in the tree is in the range [1, 1000].\n",
    "-1000 <= Node.val <= 1000"
   ]
  },
  {
   "cell_type": "code",
   "execution_count": 1,
   "id": "d708e045",
   "metadata": {},
   "outputs": [],
   "source": [
    "class TreeNode:\n",
    "    def __init__(self, val=0, left=None, right=None):\n",
    "        self.val = val\n",
    "        self.left = left\n",
    "        self.right = right\n",
    "\n",
    "def sum_of_left_leaves(root):\n",
    "    if not root:\n",
    "        return 0\n",
    "\n",
    "    def is_leaf(node):\n",
    "        return not node.left and not node.right\n",
    "\n",
    "    def helper(node, is_left):\n",
    "        if not node:\n",
    "            return 0\n",
    "\n",
    "        if is_leaf(node) and is_left:\n",
    "            return node.val\n",
    "\n",
    "        left_sum = helper(node.left, True)\n",
    "        right_sum = helper(node.right, False)\n",
    "        return left_sum + right_sum\n",
    "\n",
    "    return helper(root, False)"
   ]
  },
  {
   "cell_type": "code",
   "execution_count": 2,
   "id": "d18841c3",
   "metadata": {},
   "outputs": [
    {
     "name": "stdout",
     "output_type": "stream",
     "text": [
      "24\n",
      "0\n"
     ]
    }
   ],
   "source": [
    "# Example 1\n",
    "root1 = TreeNode(3)\n",
    "root1.left = TreeNode(9)\n",
    "root1.right = TreeNode(20)\n",
    "root1.right.left = TreeNode(15)\n",
    "root1.right.right = TreeNode(7)\n",
    "print(sum_of_left_leaves(root1))  # Output: 24\n",
    "\n",
    "# Example 2\n",
    "root2 = TreeNode(1)\n",
    "print(sum_of_left_leaves(root2))  # Output: 0"
   ]
  }
 ],
 "metadata": {
  "kernelspec": {
   "display_name": "Python 3",
   "language": "python",
   "name": "python3"
  },
  "language_info": {
   "codemirror_mode": {
    "name": "ipython",
    "version": 3
   },
   "file_extension": ".py",
   "mimetype": "text/x-python",
   "name": "python",
   "nbconvert_exporter": "python",
   "pygments_lexer": "ipython3",
   "version": "3.9.13"
  }
 },
 "nbformat": 4,
 "nbformat_minor": 5
}
