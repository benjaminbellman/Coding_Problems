{
 "cells": [
  {
   "cell_type": "markdown",
   "id": "2c9c9275",
   "metadata": {},
   "source": [
    "# Orderly Queue"
   ]
  },
  {
   "cell_type": "markdown",
   "id": "ddbb3a11",
   "metadata": {},
   "source": [
    "You are given a string s and an integer k. You can choose one of the first k letters of s and append it at the end of the string.\n",
    "\n",
    "Return the lexicographically smallest string you could have after applying the mentioned step any number of moves.\n",
    "\n",
    "**Example 1:**\n",
    "\n",
    "Input: s = \"cba\", k = 1\n",
    "Output: \"acb\"\n",
    "Explanation: \n",
    "In the first move, we move the 1st character 'c' to the end, obtaining the string \"bac\".\n",
    "In the second move, we move the 1st character 'b' to the end, obtaining the final result \"acb\".\n",
    "\n",
    "**Example 2:**\n",
    "\n",
    "Input: s = \"baaca\", k = 3\n",
    "Output: \"aaabc\"\n",
    "Explanation: \n",
    "In the first move, we move the 1st character 'b' to the end, obtaining the string \"aacab\".\n",
    "In the second move, we move the 3rd character 'c' to the end, obtaining the final result \"aaabc\".\n",
    "\n",
    "**Constraints:**\n",
    "\n",
    "- 1 <= k <= s.length <= 1000\n",
    "- s consist of lowercase English letters."
   ]
  },
  {
   "cell_type": "code",
   "execution_count": 1,
   "id": "c079d4aa",
   "metadata": {},
   "outputs": [
    {
     "name": "stdout",
     "output_type": "stream",
     "text": [
      "acb\n",
      "aacab\n"
     ]
    }
   ],
   "source": [
    "def lexicographically_smallest_string(s, k):\n",
    "    # If k == 1, we can only rotate the string in a single way\n",
    "    if k == 1:\n",
    "        smallest = s\n",
    "        for i in range(len(s)):\n",
    "            rotated = s[i:] + s[:i]\n",
    "            if rotated < smallest:\n",
    "                smallest = rotated\n",
    "        return smallest\n",
    "    # If k > 1, we can perform more flexible rotations\n",
    "    else:\n",
    "        # Consider every possible rotation of the string\n",
    "        smallest = s\n",
    "        for i in range(len(s)):\n",
    "            rotated = s[i:] + s[:i]\n",
    "            if rotated < smallest:\n",
    "                smallest = rotated\n",
    "        return smallest\n",
    "\n",
    "# Example usage\n",
    "print(lexicographically_smallest_string(\"cba\", 1))  # Output: \"acb\"\n",
    "print(lexicographically_smallest_string(\"baaca\", 3))  # Output: \"aaabc\""
   ]
  },
  {
   "cell_type": "code",
   "execution_count": null,
   "id": "ac2444ef",
   "metadata": {},
   "outputs": [],
   "source": []
  }
 ],
 "metadata": {
  "kernelspec": {
   "display_name": "Python 3 (ipykernel)",
   "language": "python",
   "name": "python3"
  },
  "language_info": {
   "codemirror_mode": {
    "name": "ipython",
    "version": 3
   },
   "file_extension": ".py",
   "mimetype": "text/x-python",
   "name": "python",
   "nbconvert_exporter": "python",
   "pygments_lexer": "ipython3",
   "version": "3.8.11"
  }
 },
 "nbformat": 4,
 "nbformat_minor": 5
}
