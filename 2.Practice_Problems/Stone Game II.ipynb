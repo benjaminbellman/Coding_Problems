{
 "cells": [
  {
   "cell_type": "markdown",
   "id": "6b84ad29",
   "metadata": {},
   "source": [
    "# Stone Game II"
   ]
  },
  {
   "cell_type": "markdown",
   "id": "8794dc15",
   "metadata": {},
   "source": [
    "Alice and Bob continue their games with piles of stones. There are a number of piles arranged in a row, and each pile has a positive integer number of stones piles[i]. The objective of the game is to end with the most stones.\n",
    "\n",
    "Alice and Bob take turns, with Alice starting first.\n",
    "\n",
    "On each player's turn, that player can take all the stones in the first X remaining piles, where 1 <= X <= 2M. Then, we set M = max(M, X). Initially, M = 1.\n",
    "\n",
    "The game continues until all the stones have been taken.\n",
    "\n",
    "Assuming Alice and Bob play optimally, return the maximum number of stones Alice can get.\n",
    "\n",
    "**Example 1:**\n",
    "\n",
    "Input: piles = [2,7,9,4,4]\n",
    "\n",
    "Output: 10\n",
    "\n",
    "Explanation:\n",
    "\n",
    "If Alice takes one pile at the beginning, Bob takes two piles, then Alice takes 2 piles again. Alice can get 2 + 4 + 4 = 10 stones in total.\n",
    "If Alice takes two piles at the beginning, then Bob can take all three piles left. In this case, Alice get 2 + 7 = 9 stones in total.\n",
    "So we return 10 since it's larger.\n",
    "\n",
    "**Example 2:**\n",
    "\n",
    "Input: piles = [1,2,3,4,5,100]\n",
    "\n",
    "Output: 104\n",
    "\n",
    "**Constraints:**\n",
    "\n",
    "- 1 <= piles.length <= 100\n",
    "- 1 <= piles[i] <= 104"
   ]
  },
  {
   "cell_type": "code",
   "execution_count": 1,
   "id": "8b1c179d",
   "metadata": {},
   "outputs": [
    {
     "name": "stdout",
     "output_type": "stream",
     "text": [
      "9\n",
      "1\n"
     ]
    }
   ],
   "source": [
    "def largest1BorderedSquare(grid):\n",
    "    if not grid:\n",
    "        return 0\n",
    "\n",
    "    rows, cols = len(grid), len(grid[0])\n",
    "\n",
    "    # Prefix sum to count continuous 1s in rows and columns\n",
    "    horizontal = [[0] * cols for _ in range(rows)]\n",
    "    vertical = [[0] * cols for _ in range(rows)]\n",
    "\n",
    "    # Fill prefix arrays\n",
    "    for r in range(rows):\n",
    "        for c in range(cols):\n",
    "            if grid[r][c] == 1:\n",
    "                horizontal[r][c] = (horizontal[r][c - 1] + 1) if c > 0 else 1\n",
    "                vertical[r][c] = (vertical[r - 1][c] + 1) if r > 0 else 1\n",
    "\n",
    "    # Find the largest valid square\n",
    "    max_side = 0\n",
    "\n",
    "    for r in range(rows):\n",
    "        for c in range(cols):\n",
    "            # Try all possible square sizes from largest to smallest\n",
    "            for side in range(min(rows - r, cols - c), 0, -1):\n",
    "                if (horizontal[r][c + side - 1] >= side and  # Top border\n",
    "                    horizontal[r + side - 1][c + side - 1] >= side and  # Bottom border\n",
    "                    vertical[r + side - 1][c] >= side and  # Left border\n",
    "                    vertical[r + side - 1][c + side - 1] >= side):  # Right border\n",
    "                    max_side = max(max_side, side)\n",
    "                    break  # No need to check smaller squares\n",
    "\n",
    "    return max_side * max_side  # Return the number of elements\n",
    "\n",
    "# Example Test Cases\n",
    "grid1 = [[1,1,1],[1,0,1],[1,1,1]]\n",
    "grid2 = [[1,1,0,0]]\n",
    "\n",
    "print(largest1BorderedSquare(grid1))  # Output: 9\n",
    "print(largest1BorderedSquare(grid2))  # Output: 1"
   ]
  },
  {
   "cell_type": "code",
   "execution_count": null,
   "id": "2377414d",
   "metadata": {},
   "outputs": [],
   "source": []
  }
 ],
 "metadata": {
  "kernelspec": {
   "display_name": "Python 3 (ipykernel)",
   "language": "python",
   "name": "python3"
  },
  "language_info": {
   "codemirror_mode": {
    "name": "ipython",
    "version": 3
   },
   "file_extension": ".py",
   "mimetype": "text/x-python",
   "name": "python",
   "nbconvert_exporter": "python",
   "pygments_lexer": "ipython3",
   "version": "3.8.11"
  }
 },
 "nbformat": 4,
 "nbformat_minor": 5
}
