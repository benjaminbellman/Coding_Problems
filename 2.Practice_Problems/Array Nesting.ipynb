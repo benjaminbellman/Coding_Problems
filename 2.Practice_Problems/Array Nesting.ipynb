{
 "cells": [
  {
   "cell_type": "markdown",
   "id": "cf31863d",
   "metadata": {},
   "source": [
    "# Array Nesting"
   ]
  },
  {
   "cell_type": "markdown",
   "id": "67670575",
   "metadata": {},
   "source": [
    "You are given an integer array nums of length n where nums is a permutation of the numbers in the range [0, n - 1].\n",
    "\n",
    "You should build a set s[k] = {nums[k], nums[nums[k]], nums[nums[nums[k]]], ... } subjected to the following rule:\n",
    "\n",
    "The first element in s[k] starts with the selection of the element nums[k] of index = k.\n",
    "The next element in s[k] should be nums[nums[k]], and then nums[nums[nums[k]]], and so on.\n",
    "We stop adding right before a duplicate element occurs in s[k].\n",
    "Return the longest length of a set s[k].\n",
    "\n",
    " \n",
    "\n",
    "**Example 1:**\n",
    "\n",
    "Input: nums = [5,4,0,3,1,6,2]\n",
    "\n",
    "Output: 4\n",
    "\n",
    "Explanation: \n",
    "nums[0] = 5, nums[1] = 4, nums[2] = 0, nums[3] = 3, nums[4] = 1, nums[5] = 6, nums[6] = 2.\n",
    "One of the longest sets s[k]:\n",
    "s[0] = {nums[0], nums[5], nums[6], nums[2]} = {5, 6, 2, 0}\n",
    "\n",
    "**Example 2:**\n",
    "\n",
    "Input: nums = [0,1,2]\n",
    "\n",
    "Output: 1\n",
    " \n",
    "\n",
    "**Constraints:**\n",
    "\n",
    "- 1 <= nums.length <= 105\n",
    "- 0 <= nums[i] < nums.length\n",
    "- All the values of nums are unique."
   ]
  },
  {
   "cell_type": "code",
   "execution_count": 1,
   "id": "e9d431a5",
   "metadata": {},
   "outputs": [
    {
     "name": "stdout",
     "output_type": "stream",
     "text": [
      "4\n"
     ]
    }
   ],
   "source": [
    "def arrayNesting(nums):\n",
    "    visited = set()  # to keep track of visited indices\n",
    "    max_size = 0\n",
    "\n",
    "    for k in range(len(nums)):\n",
    "        if k not in visited:\n",
    "            current_set = set()\n",
    "            while k not in current_set:\n",
    "                current_set.add(k)\n",
    "                visited.add(k)\n",
    "                k = nums[k]\n",
    "            max_size = max(max_size, len(current_set))\n",
    "\n",
    "    return max_size\n",
    "\n",
    "# Example usage:\n",
    "nums = [5,4,0,3,1,6,2]\n",
    "print(arrayNesting(nums))  # Output: 4"
   ]
  },
  {
   "cell_type": "code",
   "execution_count": null,
   "id": "6a449aa1",
   "metadata": {},
   "outputs": [],
   "source": []
  }
 ],
 "metadata": {
  "kernelspec": {
   "display_name": "Python 3",
   "language": "python",
   "name": "python3"
  },
  "language_info": {
   "codemirror_mode": {
    "name": "ipython",
    "version": 3
   },
   "file_extension": ".py",
   "mimetype": "text/x-python",
   "name": "python",
   "nbconvert_exporter": "python",
   "pygments_lexer": "ipython3",
   "version": "3.9.13"
  }
 },
 "nbformat": 4,
 "nbformat_minor": 5
}
