{
 "cells": [
  {
   "cell_type": "markdown",
   "id": "dad36634",
   "metadata": {},
   "source": [
    "# Max Chunks To Make Sorted"
   ]
  },
  {
   "cell_type": "markdown",
   "id": "21f52cd0",
   "metadata": {},
   "source": [
    "You are given an integer array arr of length n that represents a permutation of the integers in the range [0, n - 1].\n",
    "\n",
    "We split arr into some number of chunks (i.e., partitions), and individually sort each chunk. After concatenating them, the result should equal the sorted array.\n",
    "\n",
    "Return the largest number of chunks we can make to sort the array.\n",
    "\n",
    " \n",
    "**Example 1:**\n",
    "\n",
    "Input: arr = [4,3,2,1,0]\n",
    "\n",
    "Output: 1\n",
    "Explanation:\n",
    "Splitting into two or more chunks will not return the required result.\n",
    "For example, splitting into [4, 3], [2, 1, 0] will result in [3, 4, 0, 1, 2], which isn't sorted.\n",
    "\n",
    "**Example 2:**\n",
    "\n",
    "Input: arr = [1,0,2,3,4]\n",
    "\n",
    "Output: 4\n",
    "Explanation:\n",
    "We can split into two chunks, such as [1, 0], [2, 3, 4].\n",
    "However, splitting into [1, 0], [2], [3], [4] is the highest number of chunks possible.\n",
    " \n",
    "\n",
    "**Constraints:**\n",
    "\n",
    "- n == arr.length\n",
    "- 1 <= n <= 10\n",
    "- 0 <= arr[i] < n\n",
    "- All the elements of arr are unique."
   ]
  },
  {
   "cell_type": "code",
   "execution_count": 1,
   "id": "584bdf99",
   "metadata": {},
   "outputs": [
    {
     "name": "stdout",
     "output_type": "stream",
     "text": [
      "1\n",
      "4\n"
     ]
    }
   ],
   "source": [
    "def max_chunks_to_sorted(arr):\n",
    "    n = len(arr)\n",
    "    max_val = 0\n",
    "    chunks = 0\n",
    "\n",
    "    for i in range(n):\n",
    "        max_val = max(max_val, arr[i])\n",
    "        if max_val == i:\n",
    "            chunks += 1\n",
    "\n",
    "    return chunks\n",
    "\n",
    "# Example usage:\n",
    "arr1 = [4, 3, 2, 1, 0]\n",
    "arr2 = [1, 0, 2, 3, 4]\n",
    "print(max_chunks_to_sorted(arr1))  # Output: 1\n",
    "print(max_chunks_to_sorted(arr2))  # Output: 4"
   ]
  },
  {
   "cell_type": "code",
   "execution_count": null,
   "id": "f1a4b400",
   "metadata": {},
   "outputs": [],
   "source": []
  }
 ],
 "metadata": {
  "kernelspec": {
   "display_name": "Python 3",
   "language": "python",
   "name": "python3"
  },
  "language_info": {
   "codemirror_mode": {
    "name": "ipython",
    "version": 3
   },
   "file_extension": ".py",
   "mimetype": "text/x-python",
   "name": "python",
   "nbconvert_exporter": "python",
   "pygments_lexer": "ipython3",
   "version": "3.9.13"
  }
 },
 "nbformat": 4,
 "nbformat_minor": 5
}
