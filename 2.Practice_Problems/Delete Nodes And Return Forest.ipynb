{
 "cells": [
  {
   "cell_type": "markdown",
   "id": "ae036dcf",
   "metadata": {},
   "source": [
    "# Delete Nodes And Return Forest"
   ]
  },
  {
   "cell_type": "markdown",
   "id": "3a0c9072",
   "metadata": {},
   "source": [
    "Given the root of a binary tree, each node in the tree has a distinct value.\n",
    "\n",
    "After deleting all nodes with a value in to_delete, we are left with a forest (a disjoint union of trees).\n",
    "\n",
    "Return the roots of the trees in the remaining forest. You may return the result in any order.\n",
    "\n",
    "**Example 1:**\n",
    "\n",
    "Input: root = [1,2,3,4,5,6,7], to_delete = [3,5]\n",
    "Output: [[1,2,null,4],[6],[7]]\n",
    "\n",
    "**Example 2:**\n",
    "\n",
    "Input: root = [1,2,4,null,3], to_delete = [3]\n",
    "Output: [[1,2,4]]\n",
    "\n",
    "**Constraints:**\n",
    "\n",
    "- The number of nodes in the given tree is at most 1000.\n",
    "- Each node has a distinct value between 1 and 1000.\n",
    "- to_delete.length <= 1000\n",
    "- to_delete contains distinct values between 1 and 1000."
   ]
  },
  {
   "cell_type": "code",
   "execution_count": 1,
   "id": "4d7ba6e8",
   "metadata": {},
   "outputs": [],
   "source": [
    "from typing import List, Optional\n",
    "\n",
    "class TreeNode:\n",
    "    def __init__(self, val=0, left=None, right=None):\n",
    "        self.val = val\n",
    "        self.left = left\n",
    "        self.right = right\n",
    "\n",
    "def delNodes(root: Optional[TreeNode], to_delete: List[int]) -> List[TreeNode]:\n",
    "    to_delete_set = set(to_delete)\n",
    "    forest = []\n",
    "\n",
    "    def dfs(node: Optional[TreeNode], is_root: bool) -> Optional[TreeNode]:\n",
    "        if not node:\n",
    "            return None\n",
    "\n",
    "        # Check if the node should be deleted\n",
    "        root_deleted = node.val in to_delete_set\n",
    "\n",
    "        # If this node becomes a root and is not deleted, add it to the forest\n",
    "        if is_root and not root_deleted:\n",
    "            forest.append(node)\n",
    "\n",
    "        # Process children, passing root status based on deletion\n",
    "        node.left = dfs(node.left, root_deleted)\n",
    "        node.right = dfs(node.right, root_deleted)\n",
    "\n",
    "        # Return None if the node is deleted, else return the node itself\n",
    "        return None if root_deleted else node\n",
    "\n",
    "    # Start DFS with the root node\n",
    "    dfs(root, True)\n",
    "    return forest"
   ]
  },
  {
   "cell_type": "code",
   "execution_count": null,
   "id": "97d11e96",
   "metadata": {},
   "outputs": [],
   "source": []
  }
 ],
 "metadata": {
  "kernelspec": {
   "display_name": "Python 3 (ipykernel)",
   "language": "python",
   "name": "python3"
  },
  "language_info": {
   "codemirror_mode": {
    "name": "ipython",
    "version": 3
   },
   "file_extension": ".py",
   "mimetype": "text/x-python",
   "name": "python",
   "nbconvert_exporter": "python",
   "pygments_lexer": "ipython3",
   "version": "3.8.11"
  }
 },
 "nbformat": 4,
 "nbformat_minor": 5
}
