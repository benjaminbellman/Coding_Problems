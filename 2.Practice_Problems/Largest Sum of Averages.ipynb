{
 "cells": [
  {
   "cell_type": "markdown",
   "id": "3e35102a",
   "metadata": {},
   "source": [
    "# Largest Sum of Averages"
   ]
  },
  {
   "cell_type": "markdown",
   "id": "64394cfc",
   "metadata": {},
   "source": [
    "You are given an integer array nums and an integer k. You can partition the array into at most k non-empty adjacent subarrays. The score of a partition is the sum of the averages of each subarray.\n",
    "\n",
    "Note that the partition must use every integer in nums, and that the score is not necessarily an integer.\n",
    "\n",
    "Return the maximum score you can achieve of all the possible partitions. Answers within 10-6 of the actual answer will be accepted.\n",
    "\n",
    " \n",
    "\n",
    "&&Example 1:&&\n",
    "\n",
    "Input: nums = [9,1,2,3,9], k = 3\n",
    "\n",
    "Output: 20.00000\n",
    "Explanation: \n",
    "The best choice is to partition nums into [9], [1, 2, 3], [9]. The answer is 9 + (1 + 2 + 3) / 3 + 9 = 20.\n",
    "We could have also partitioned nums into [9, 1], [2], [3, 9], for example.\n",
    "That partition would lead to a score of 5 + 2 + 6 = 13, which is worse.\n",
    "\n",
    "&&Example 2:&&\n",
    "\n",
    "Input: nums = [1,2,3,4,5,6,7], k = 4\n",
    "\n",
    "Output: 20.50000\n",
    " \n",
    "\n",
    "&&Constraints:&&\n",
    "\n",
    "- 1 <= nums.length <= 100\n",
    "- 1 <= nums[i] <= 104\n",
    "- 1 <= k <= nums.length"
   ]
  },
  {
   "cell_type": "code",
   "execution_count": 1,
   "id": "8aea5384",
   "metadata": {},
   "outputs": [
    {
     "name": "stdout",
     "output_type": "stream",
     "text": [
      "20.0\n",
      "20.5\n"
     ]
    }
   ],
   "source": [
    "def maxScore(nums, k):\n",
    "    n = len(nums)\n",
    "    prefix_sum = [0]\n",
    "    for num in nums:\n",
    "        prefix_sum.append(prefix_sum[-1] + num)\n",
    "\n",
    "    dp = [[0] * (k + 1) for _ in range(n + 1)]\n",
    "    for i in range(1, n + 1):\n",
    "        dp[i][1] = prefix_sum[i] / i\n",
    "\n",
    "    for i in range(1, n + 1):\n",
    "        for j in range(2, k + 1):\n",
    "            for m in range(j - 1, i):\n",
    "                dp[i][j] = max(dp[i][j], dp[m][j - 1] + (prefix_sum[i] - prefix_sum[m]) / (i - m))\n",
    "\n",
    "    return dp[n][k]\n",
    "\n",
    "# Example usage:\n",
    "nums1 = [9, 1, 2, 3, 9]\n",
    "k1 = 3\n",
    "print(maxScore(nums1, k1))  # Output: 20.0\n",
    "\n",
    "nums2 = [1, 2, 3, 4, 5, 6, 7]\n",
    "k2 = 4\n",
    "print(maxScore(nums2, k2))  # Output: 20.5"
   ]
  },
  {
   "cell_type": "code",
   "execution_count": null,
   "id": "f4915a23",
   "metadata": {},
   "outputs": [],
   "source": []
  }
 ],
 "metadata": {
  "kernelspec": {
   "display_name": "Python 3",
   "language": "python",
   "name": "python3"
  },
  "language_info": {
   "codemirror_mode": {
    "name": "ipython",
    "version": 3
   },
   "file_extension": ".py",
   "mimetype": "text/x-python",
   "name": "python",
   "nbconvert_exporter": "python",
   "pygments_lexer": "ipython3",
   "version": "3.9.13"
  }
 },
 "nbformat": 4,
 "nbformat_minor": 5
}
