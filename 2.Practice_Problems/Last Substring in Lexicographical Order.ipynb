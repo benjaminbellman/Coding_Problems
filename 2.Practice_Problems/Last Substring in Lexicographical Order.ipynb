{
 "cells": [
  {
   "cell_type": "markdown",
   "id": "96e825da",
   "metadata": {},
   "source": [
    "# Last Substring in Lexicographical Order"
   ]
  },
  {
   "cell_type": "markdown",
   "id": "fca7d63d",
   "metadata": {},
   "source": [
    "Given a string s, return the last substring of s in lexicographical order.\n",
    "\n",
    "**Example 1:**\n",
    "\n",
    "Input: s = \"abab\"\n",
    "Output: \"bab\"\n",
    "Explanation: The substrings are [\"a\", \"ab\", \"aba\", \"abab\", \"b\", \"ba\", \"bab\"]. The lexicographically maximum substring is \"bab\".\n",
    "\n",
    "**Example 2:**\n",
    "\n",
    "Input: s = \"leetcode\"\n",
    "Output: \"tcode\"\n",
    "\n",
    "**Constraints:**\n",
    "\n",
    "- 1 <= s.length <= 4 * 105\n",
    "- s contains only lowercase English letters."
   ]
  },
  {
   "cell_type": "code",
   "execution_count": 1,
   "id": "80329003",
   "metadata": {},
   "outputs": [
    {
     "name": "stdout",
     "output_type": "stream",
     "text": [
      "bab\n",
      "tcode\n"
     ]
    }
   ],
   "source": [
    "def lastSubstring(s: str) -> str:\n",
    "    n = len(s)\n",
    "    best_index = 0  # Stores the start index of the best lexicographical substring\n",
    "    i = 1  # Start checking from the second character\n",
    "    \n",
    "    while i < n:\n",
    "        j = 0  # Length of the matching prefix\n",
    "        while i + j < n and s[best_index + j] == s[i + j]:\n",
    "            j += 1  # Continue while characters match\n",
    "        \n",
    "        if i + j < n and s[best_index + j] < s[i + j]:\n",
    "            best_index = i  # Update the best found lexicographical substring\n",
    "        i += max(1, j)  # Move to the next position (skip common prefix)\n",
    "    \n",
    "    return s[best_index:]\n",
    "\n",
    "# Example usage:\n",
    "print(lastSubstring(\"abab\"))      # Output: \"bab\"\n",
    "print(lastSubstring(\"leetcode\"))  # Output: \"tcode\""
   ]
  }
 ],
 "metadata": {
  "kernelspec": {
   "display_name": "Python 3 (ipykernel)",
   "language": "python",
   "name": "python3"
  },
  "language_info": {
   "codemirror_mode": {
    "name": "ipython",
    "version": 3
   },
   "file_extension": ".py",
   "mimetype": "text/x-python",
   "name": "python",
   "nbconvert_exporter": "python",
   "pygments_lexer": "ipython3",
   "version": "3.8.11"
  }
 },
 "nbformat": 4,
 "nbformat_minor": 5
}
