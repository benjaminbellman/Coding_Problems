{
 "cells": [
  {
   "cell_type": "markdown",
   "id": "19defde2",
   "metadata": {},
   "source": [
    "# Day of the Year"
   ]
  },
  {
   "cell_type": "markdown",
   "id": "7a4533bb",
   "metadata": {},
   "source": [
    "Given a string date representing a Gregorian calendar date formatted as YYYY-MM-DD, return the day number of the year.\n",
    "\n",
    "**Example 1:**\n",
    "\n",
    "Input: date = \"2019-01-09\"\n",
    "Output: 9\n",
    "Explanation: Given date is the 9th day of the year in 2019.\n",
    "\n",
    "**Example 2:**\n",
    "\n",
    "Input: date = \"2019-02-10\"\n",
    "Output: 41\n",
    " \n",
    "**Constraints:**\n",
    "\n",
    "- date.length == 10\n",
    "- date[4] == date[7] == '-', and all other date[i]'s are digits\n",
    "- date represents a calendar date between Jan 1st, 1900 and Dec 31st, 2019."
   ]
  },
  {
   "cell_type": "code",
   "execution_count": 1,
   "id": "8056e7d2",
   "metadata": {},
   "outputs": [
    {
     "name": "stdout",
     "output_type": "stream",
     "text": [
      "9\n",
      "41\n"
     ]
    }
   ],
   "source": [
    "from datetime import datetime\n",
    "\n",
    "def day_of_year(date: str) -> int:\n",
    "    # Convert string to date object\n",
    "    date_obj = datetime.strptime(date, \"%Y-%m-%d\")\n",
    "    # Get the day of the year\n",
    "    return date_obj.timetuple().tm_yday\n",
    "\n",
    "# Example usage\n",
    "date1 = \"2019-01-09\"\n",
    "date2 = \"2019-02-10\"\n",
    "\n",
    "print(day_of_year(date1))  # Output: 9\n",
    "print(day_of_year(date2))  # Output: 41"
   ]
  },
  {
   "cell_type": "code",
   "execution_count": null,
   "id": "4fa230dd",
   "metadata": {},
   "outputs": [],
   "source": []
  }
 ],
 "metadata": {
  "kernelspec": {
   "display_name": "Python 3 (ipykernel)",
   "language": "python",
   "name": "python3"
  },
  "language_info": {
   "codemirror_mode": {
    "name": "ipython",
    "version": 3
   },
   "file_extension": ".py",
   "mimetype": "text/x-python",
   "name": "python",
   "nbconvert_exporter": "python",
   "pygments_lexer": "ipython3",
   "version": "3.8.11"
  }
 },
 "nbformat": 4,
 "nbformat_minor": 5
}
