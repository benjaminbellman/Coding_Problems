{
 "cells": [
  {
   "cell_type": "markdown",
   "id": "2a4adcc4",
   "metadata": {},
   "source": [
    "# Combination Sum IV"
   ]
  },
  {
   "cell_type": "markdown",
   "id": "f393a6d3",
   "metadata": {},
   "source": [
    "Given an array of distinct integers nums and a target integer target, return the number of possible combinations that add up to target.\n",
    "\n",
    "The test cases are generated so that the answer can fit in a 32-bit integer.\n",
    "\n",
    " \n",
    "\n",
    "**Example 1:**\n",
    "\n",
    "Input: nums = [1,2,3], target = 4\n",
    "Output: 7\n",
    "Explanation:\n",
    "The possible combination ways are:\n",
    "(1, 1, 1, 1)\n",
    "(1, 1, 2)\n",
    "(1, 2, 1)\n",
    "(1, 3)\n",
    "(2, 1, 1)\n",
    "(2, 2)\n",
    "(3, 1)\n",
    "Note that different sequences are counted as different combinations.\n",
    "\n",
    "**Example 2:**\n",
    "\n",
    "Input: nums = [9], target = 3\n",
    "Output: 0\n",
    " \n",
    "\n",
    "**Constraints:**\n",
    "\n",
    "1 <= nums.length <= 200\n",
    "1 <= nums[i] <= 1000\n",
    "All the elements of nums are unique.\n",
    "1 <= target <= 1000"
   ]
  },
  {
   "cell_type": "code",
   "execution_count": 1,
   "id": "76e95c92",
   "metadata": {},
   "outputs": [
    {
     "name": "stdout",
     "output_type": "stream",
     "text": [
      "7\n",
      "0\n"
     ]
    }
   ],
   "source": [
    "def combinationSum4(nums, target):\n",
    "    dp = [0] * (target + 1)\n",
    "    dp[0] = 1\n",
    "\n",
    "    for i in range(1, target + 1):\n",
    "        for num in nums:\n",
    "            if i >= num:\n",
    "                dp[i] += dp[i - num]\n",
    "\n",
    "    return dp[target]\n",
    "\n",
    "# Example test cases\n",
    "nums1 = [1, 2, 3]\n",
    "target1 = 4\n",
    "print(combinationSum4(nums1, target1))  # Output: 7\n",
    "\n",
    "nums2 = [9]\n",
    "target2 = 3\n",
    "print(combinationSum4(nums2, target2))  # Output: 0"
   ]
  },
  {
   "cell_type": "code",
   "execution_count": null,
   "id": "e979e781",
   "metadata": {},
   "outputs": [],
   "source": []
  }
 ],
 "metadata": {
  "kernelspec": {
   "display_name": "Python 3",
   "language": "python",
   "name": "python3"
  },
  "language_info": {
   "codemirror_mode": {
    "name": "ipython",
    "version": 3
   },
   "file_extension": ".py",
   "mimetype": "text/x-python",
   "name": "python",
   "nbconvert_exporter": "python",
   "pygments_lexer": "ipython3",
   "version": "3.9.13"
  }
 },
 "nbformat": 4,
 "nbformat_minor": 5
}
