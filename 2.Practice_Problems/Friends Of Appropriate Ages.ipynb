{
 "cells": [
  {
   "cell_type": "markdown",
   "id": "e7226ca3",
   "metadata": {},
   "source": [
    "# Friends Of Appropriate Ages"
   ]
  },
  {
   "cell_type": "markdown",
   "id": "1122ae85",
   "metadata": {},
   "source": [
    "There are n persons on a social media website. You are given an integer array ages where ages[i] is the age of the ith person.\n",
    "\n",
    "A Person x will not send a friend request to a person y (x != y) if any of the following conditions is true:\n",
    "\n",
    "- age[y] <= 0.5 * age[x] + 7\n",
    "- age[y] > age[x]\n",
    "- age[y] > 100 && age[x] < 100\n",
    "Otherwise, x will send a friend request to y.\n",
    "\n",
    "Note that if x sends a request to y, y will not necessarily send a request to x. Also, a person will not send a friend request to themself.\n",
    "\n",
    "Return the total number of friend requests made.\n",
    "\n",
    " \n",
    "\n",
    "**Example 1:**\n",
    "\n",
    "Input: ages = [16,16]\n",
    "Output: 2\n",
    "Explanation: 2 people friend request each other.\n",
    "\n",
    "**Example 2:**\n",
    "\n",
    "Input: ages = [16,17,18]\n",
    "Output: 2\n",
    "Explanation: Friend requests are made 17 -> 16, 18 -> 17.\n",
    "\n",
    "**Example 3:**\n",
    "\n",
    "Input: ages = [20,30,100,110,120]\n",
    "Output: 3\n",
    "Explanation: Friend requests are made 110 -> 100, 120 -> 110, 120 -> 100.\n",
    " \n",
    "\n",
    "**Constraints:**\n",
    "\n",
    "- n == ages.length\n",
    "- 1 <= n <= 2 * 104\n",
    "- 1 <= ages[i] <= 120"
   ]
  },
  {
   "cell_type": "code",
   "execution_count": 1,
   "id": "2b8d17b6",
   "metadata": {},
   "outputs": [],
   "source": [
    "def numFriendRequests(ages):\n",
    "    count = 0\n",
    "    age_count = [0] * 121  # Array to count the number of people of each age\n",
    "\n",
    "    # Count the number of people of each age\n",
    "    for age in ages:\n",
    "        age_count[age] += 1\n",
    "\n",
    "    # Iterate through ages to check friend requests\n",
    "    for ageA in range(121):\n",
    "        countA = age_count[ageA]\n",
    "        for ageB in range(121):\n",
    "            countB = age_count[ageB]\n",
    "\n",
    "            # Check if friend request should be made\n",
    "            if countA > 0 and countB > 0 and not (\n",
    "                ageB <= 0.5 * ageA + 7\n",
    "                or ageB > ageA\n",
    "                or (ageB > 100 and ageA < 100)\n",
    "            ):\n",
    "                if ageA == ageB:\n",
    "                    # If same age, count combinations (n * (n - 1))\n",
    "                    count += countA * (countA - 1)\n",
    "                else:\n",
    "                    # Otherwise, count all possible combinations\n",
    "                    count += countA * countB\n",
    "\n",
    "    return count"
   ]
  },
  {
   "cell_type": "code",
   "execution_count": 2,
   "id": "a4cfe9c1",
   "metadata": {},
   "outputs": [
    {
     "name": "stdout",
     "output_type": "stream",
     "text": [
      "2\n"
     ]
    }
   ],
   "source": [
    "ages = [16, 16]\n",
    "result = numFriendRequests(ages)\n",
    "print(result)  # Output: 2"
   ]
  },
  {
   "cell_type": "code",
   "execution_count": null,
   "id": "4406aae8",
   "metadata": {},
   "outputs": [],
   "source": []
  }
 ],
 "metadata": {
  "kernelspec": {
   "display_name": "Python 3",
   "language": "python",
   "name": "python3"
  },
  "language_info": {
   "codemirror_mode": {
    "name": "ipython",
    "version": 3
   },
   "file_extension": ".py",
   "mimetype": "text/x-python",
   "name": "python",
   "nbconvert_exporter": "python",
   "pygments_lexer": "ipython3",
   "version": "3.9.13"
  }
 },
 "nbformat": 4,
 "nbformat_minor": 5
}
