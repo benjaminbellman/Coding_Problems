{
 "cells": [
  {
   "cell_type": "markdown",
   "id": "85e43acb",
   "metadata": {},
   "source": [
    "# Number of Atoms"
   ]
  },
  {
   "cell_type": "markdown",
   "id": "6fd0af35",
   "metadata": {},
   "source": [
    "Given a string formula representing a chemical formula, return the count of each atom.\n",
    "\n",
    "The atomic element always starts with an uppercase character, then zero or more lowercase letters, representing the name.\n",
    "\n",
    "One or more digits representing that element's count may follow if the count is greater than 1. If the count is 1, no digits will follow.\n",
    "\n",
    "For example, \"H2O\" and \"H2O2\" are possible, but \"H1O2\" is impossible.\n",
    "Two formulas are concatenated together to produce another formula.\n",
    "\n",
    "For example, \"H2O2He3Mg4\" is also a formula.\n",
    "A formula placed in parentheses, and a count (optionally added) is also a formula.\n",
    "\n",
    "For example, \"(H2O2)\" and \"(H2O2)3\" are formulas.\n",
    "Return the count of all elements as a string in the following form: the first name (in sorted order), followed by its count (if that count is more than 1), followed by the second name (in sorted order), followed by its count (if that count is more than 1), and so on.\n",
    "\n",
    "The test cases are generated so that all the values in the output fit in a 32-bit integer.\n",
    "\n",
    " \n",
    "\n",
    "**Example 1:**\n",
    "\n",
    "Input: formula = \"H2O\"\n",
    "\n",
    "Output: \"H2O\"\n",
    "Explanation: The count of elements are {'H': 2, 'O': 1}.\n",
    "\n",
    "**Example 2:**\n",
    "\n",
    "Input: formula = \"Mg(OH)2\"\n",
    "\n",
    "Output: \"H2MgO2\"\n",
    "Explanation: The count of elements are {'H': 2, 'Mg': 1, 'O': 2}.\n",
    "\n",
    "**Example 3:**\n",
    "\n",
    "Input: formula = \"K4(ON(SO3)2)2\"\n",
    "\n",
    "Output: \"K4N2O14S4\"\n",
    "Explanation: The count of elements are {'K': 4, 'N': 2, 'O': 14, 'S': 4}.\n",
    " \n",
    "\n",
    "**Constraints:**\n",
    "\n",
    "- 1 <= formula.length <= 1000\n",
    "- formula consists of English letters, digits, '(', and ')'.\n",
    "- formula is always valid."
   ]
  },
  {
   "cell_type": "code",
   "execution_count": 1,
   "id": "e4872fda",
   "metadata": {},
   "outputs": [
    {
     "name": "stdout",
     "output_type": "stream",
     "text": [
      "H2O\n",
      "H2MgO2\n",
      "K4N2O14S4\n"
     ]
    }
   ],
   "source": [
    "def countOfAtoms(formula: str) -> str:\n",
    "    stack = []\n",
    "    element_count = {}\n",
    "    i = 0\n",
    "    \n",
    "    while i < len(formula):\n",
    "        if formula[i] == '(':\n",
    "            stack.append(element_count.copy())\n",
    "            element_count = {}\n",
    "            i += 1\n",
    "        elif formula[i] == ')':\n",
    "            count_start = i + 1\n",
    "            while count_start < len(formula) and formula[count_start].isdigit():\n",
    "                count_start += 1\n",
    "            count = int(formula[i + 1:count_start] or 1)\n",
    "            temp_count = stack.pop()\n",
    "            for element, cnt in element_count.items():\n",
    "                temp_count[element] = temp_count.get(element, 0) + cnt * count\n",
    "            element_count = temp_count\n",
    "            i = count_start\n",
    "        else:\n",
    "            element_start = i\n",
    "            i += 1\n",
    "            while i < len(formula) and formula[i].islower():\n",
    "                i += 1\n",
    "            element = formula[element_start:i]\n",
    "            count_start = i\n",
    "            while count_start < len(formula) and formula[count_start].isdigit():\n",
    "                count_start += 1\n",
    "            count = int(formula[i:count_start] or 1)\n",
    "            element_count[element] = element_count.get(element, 0) + count\n",
    "            i = count_start\n",
    "    \n",
    "    sorted_elements = sorted(element_count.items())\n",
    "    result = ''\n",
    "    for element, count in sorted_elements:\n",
    "        result += element\n",
    "        if count > 1:\n",
    "            result += str(count)\n",
    "    return result\n",
    "\n",
    "# Test cases\n",
    "print(countOfAtoms(\"H2O\"))  # Output: \"H2O\"\n",
    "print(countOfAtoms(\"Mg(OH)2\"))  # Output: \"H2MgO2\"\n",
    "print(countOfAtoms(\"K4(ON(SO3)2)2\"))  # Output: \"K4N2O14S4\""
   ]
  },
  {
   "cell_type": "code",
   "execution_count": null,
   "id": "41619c94",
   "metadata": {},
   "outputs": [],
   "source": []
  }
 ],
 "metadata": {
  "kernelspec": {
   "display_name": "Python 3",
   "language": "python",
   "name": "python3"
  },
  "language_info": {
   "codemirror_mode": {
    "name": "ipython",
    "version": 3
   },
   "file_extension": ".py",
   "mimetype": "text/x-python",
   "name": "python",
   "nbconvert_exporter": "python",
   "pygments_lexer": "ipython3",
   "version": "3.9.13"
  }
 },
 "nbformat": 4,
 "nbformat_minor": 5
}
