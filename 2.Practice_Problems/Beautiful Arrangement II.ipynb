{
 "cells": [
  {
   "cell_type": "markdown",
   "id": "502ddf6c",
   "metadata": {},
   "source": [
    "# Beautiful Arrangement II"
   ]
  },
  {
   "cell_type": "markdown",
   "id": "5fa392f5",
   "metadata": {},
   "source": [
    "Given two integers n and k, construct a list answer that contains n different positive integers ranging from 1 to n and obeys the following requirement:\n",
    "\n",
    "Suppose this list is answer = [a1, a2, a3, ... , an], then the list [|a1 - a2|, |a2 - a3|, |a3 - a4|, ... , |an-1 - an|] has exactly k distinct integers.\n",
    "Return the list answer. If there multiple valid answers, return any of them.\n",
    "\n",
    " \n",
    "\n",
    "**Example 1:**\n",
    "\n",
    "Input: n = 3, k = 1\n",
    "\n",
    "Output: [1,2,3]\n",
    "Explanation: The [1,2,3] has three different positive integers ranging from 1 to 3, and the [1,1] has exactly 1 distinct integer: 1\n",
    "\n",
    "**Example 2:**\n",
    "\n",
    "Input: n = 3, k = 2\n",
    "\n",
    "Output: [1,3,2]\n",
    "Explanation: The [1,3,2] has three different positive integers ranging from 1 to 3, and the [2,1] has exactly 2 distinct integers: 1 and 2.\n",
    " \n",
    "\n",
    "**Constraints:**\n",
    "\n",
    "- 1 <= k < n <= 104"
   ]
  },
  {
   "cell_type": "code",
   "execution_count": 1,
   "id": "ea039bc4",
   "metadata": {},
   "outputs": [],
   "source": [
    "def constructArray(n, k):\n",
    "    answer = list(range(1, n + 1))\n",
    "    if k == 1:\n",
    "        return answer\n",
    "    for i in range(k):\n",
    "        if i % 2 == 0:\n",
    "            answer[i], answer[k] = answer[k], answer[i]\n",
    "        else:\n",
    "            answer[i], answer[i + 1] = answer[i + 1], answer[i]\n",
    "    return answer"
   ]
  },
  {
   "cell_type": "code",
   "execution_count": 2,
   "id": "f8f5a9c1",
   "metadata": {},
   "outputs": [
    {
     "name": "stdout",
     "output_type": "stream",
     "text": [
      "[1, 2, 3]\n"
     ]
    }
   ],
   "source": [
    "n = 3\n",
    "k = 1\n",
    "result = constructArray(n, k)\n",
    "print(result)  # Output: [1, 2, 3]"
   ]
  },
  {
   "cell_type": "code",
   "execution_count": 3,
   "id": "354f2cc3",
   "metadata": {},
   "outputs": [
    {
     "name": "stdout",
     "output_type": "stream",
     "text": [
      "[3, 1, 2]\n"
     ]
    }
   ],
   "source": [
    "n = 3\n",
    "k = 2\n",
    "result = constructArray(n, k)\n",
    "print(result)  # Output: [1, 3, 2]"
   ]
  },
  {
   "cell_type": "code",
   "execution_count": null,
   "id": "2ac15257",
   "metadata": {},
   "outputs": [],
   "source": []
  }
 ],
 "metadata": {
  "kernelspec": {
   "display_name": "Python 3",
   "language": "python",
   "name": "python3"
  },
  "language_info": {
   "codemirror_mode": {
    "name": "ipython",
    "version": 3
   },
   "file_extension": ".py",
   "mimetype": "text/x-python",
   "name": "python",
   "nbconvert_exporter": "python",
   "pygments_lexer": "ipython3",
   "version": "3.9.13"
  }
 },
 "nbformat": 4,
 "nbformat_minor": 5
}
