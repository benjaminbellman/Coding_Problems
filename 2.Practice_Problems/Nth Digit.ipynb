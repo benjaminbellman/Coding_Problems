{
 "cells": [
  {
   "cell_type": "markdown",
   "id": "c5a28016",
   "metadata": {},
   "source": [
    "# Nth Digit"
   ]
  },
  {
   "cell_type": "markdown",
   "id": "a76e41fd",
   "metadata": {},
   "source": [
    "Given an integer n, return the nth digit of the infinite integer sequence [1, 2, 3, 4, 5, 6, 7, 8, 9, 10, 11, ...].\n",
    "\n",
    " \n",
    "\n",
    "**Example 1:**\n",
    "\n",
    "Input: n = 3\n",
    "Output: 3\n",
    "\n",
    "**Example 2:**\n",
    "\n",
    "Input: n = 11\n",
    "Output: 0\n",
    "Explanation: The 11th digit of the sequence 1, 2, 3, 4, 5, 6, 7, 8, 9, 10, 11, ... is a 0, which is part of the number 10.\n",
    " \n",
    "\n",
    "**Constraints:**\n",
    "\n",
    "1 <= n <= 231 - 1"
   ]
  },
  {
   "cell_type": "code",
   "execution_count": 1,
   "id": "1c142f08",
   "metadata": {},
   "outputs": [
    {
     "name": "stdout",
     "output_type": "stream",
     "text": [
      "3\n",
      "0\n"
     ]
    }
   ],
   "source": [
    "def findNthDigit(n):\n",
    "    length = 1\n",
    "    count = 9\n",
    "    start = 1\n",
    "\n",
    "    while n > length * count:\n",
    "        n -= length * count\n",
    "        length += 1\n",
    "        count *= 10\n",
    "        start *= 10\n",
    "\n",
    "    start += (n - 1) // length\n",
    "    return int(str(start)[(n - 1) % length])\n",
    "\n",
    "\n",
    "# Testing the code with the provided examples\n",
    "print(findNthDigit(3))  # Output: 3\n",
    "print(findNthDigit(11))  # Output: 0"
   ]
  }
 ],
 "metadata": {
  "kernelspec": {
   "display_name": "Python 3",
   "language": "python",
   "name": "python3"
  },
  "language_info": {
   "codemirror_mode": {
    "name": "ipython",
    "version": 3
   },
   "file_extension": ".py",
   "mimetype": "text/x-python",
   "name": "python",
   "nbconvert_exporter": "python",
   "pygments_lexer": "ipython3",
   "version": "3.9.13"
  }
 },
 "nbformat": 4,
 "nbformat_minor": 5
}
