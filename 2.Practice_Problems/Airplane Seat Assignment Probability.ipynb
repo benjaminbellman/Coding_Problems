{
 "cells": [
  {
   "cell_type": "markdown",
   "id": "7904594d",
   "metadata": {},
   "source": [
    "# Airplane Seat Assignment Probability"
   ]
  },
  {
   "cell_type": "markdown",
   "id": "c2d2c4ea",
   "metadata": {},
   "source": [
    "n passengers board an airplane with exactly n seats. The first passenger has lost the ticket and picks a seat randomly. But after that, the rest of the passengers will:\n",
    "\n",
    "Take their own seat if it is still available, and\n",
    "Pick other seats randomly when they find their seat occupied\n",
    "Return the probability that the nth person gets his own seat.\n",
    "\n",
    "**Example 1:**\n",
    "\n",
    "Input: n = 1\n",
    "Output: 1.00000\n",
    "Explanation: The first person can only get the first seat.\n",
    "\n",
    "**Example 2:**\n",
    "\n",
    "Input: n = 2\n",
    "Output: 0.50000\n",
    "Explanation: The second person has a probability of 0.5 to get the second seat (when first person gets the first seat).\n",
    " \n",
    "\n",
    "**Constraints:**\n",
    "\n",
    "- 1 <= n <= 105"
   ]
  },
  {
   "cell_type": "code",
   "execution_count": 1,
   "id": "723eb748",
   "metadata": {},
   "outputs": [],
   "source": [
    "def nth_person_gets_seat(n: int) -> float:\n",
    "    return 1.0 if n == 1 else 0.5"
   ]
  },
  {
   "cell_type": "code",
   "execution_count": 2,
   "id": "4c9279cb",
   "metadata": {},
   "outputs": [
    {
     "name": "stdout",
     "output_type": "stream",
     "text": [
      "1.0\n",
      "0.5\n",
      "0.5\n"
     ]
    }
   ],
   "source": [
    "print(nth_person_gets_seat(1))  # 1.0\n",
    "print(nth_person_gets_seat(2))  # 0.5\n",
    "print(nth_person_gets_seat(10000))  # 0.5"
   ]
  },
  {
   "cell_type": "code",
   "execution_count": null,
   "id": "6f4ee4d7",
   "metadata": {},
   "outputs": [],
   "source": []
  }
 ],
 "metadata": {
  "kernelspec": {
   "display_name": "Python 3 (ipykernel)",
   "language": "python",
   "name": "python3"
  },
  "language_info": {
   "codemirror_mode": {
    "name": "ipython",
    "version": 3
   },
   "file_extension": ".py",
   "mimetype": "text/x-python",
   "name": "python",
   "nbconvert_exporter": "python",
   "pygments_lexer": "ipython3",
   "version": "3.8.11"
  }
 },
 "nbformat": 4,
 "nbformat_minor": 5
}
