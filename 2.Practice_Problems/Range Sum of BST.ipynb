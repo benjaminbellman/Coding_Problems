{
 "cells": [
  {
   "cell_type": "markdown",
   "id": "9eca7af8",
   "metadata": {},
   "source": [
    "# Range Sum of BST"
   ]
  },
  {
   "cell_type": "markdown",
   "id": "73ac53e4",
   "metadata": {},
   "source": [
    "Given the root node of a binary search tree and two integers low and high, return the sum of values of all nodes with a value in the inclusive range [low, high].\n",
    "\n",
    "**Example 1:**\n",
    "\n",
    "Input: root = [10,5,15,3,7,null,18], low = 7, high = 15\n",
    "Output: 32\n",
    "Explanation: Nodes 7, 10, and 15 are in the range [7, 15]. 7 + 10 + 15 = 32.\n",
    "\n",
    "**Example 2:**\n",
    "\n",
    "Input: root = [10,5,15,3,7,13,18,1,null,6], low = 6, high = 10\n",
    "Output: 23\n",
    "Explanation: Nodes 6, 7, and 10 are in the range [6, 10]. 6 + 7 + 10 = 23.\n",
    " \n",
    "**Constraints:**\n",
    "\n",
    "- The number of nodes in the tree is in the range [1, 2 * 104].\n",
    "- 1 <= Node.val <= 105\n",
    "- 1 <= low <= high <= 105\n",
    "- All Node.val are unique."
   ]
  },
  {
   "cell_type": "code",
   "execution_count": 1,
   "id": "b6db5866",
   "metadata": {},
   "outputs": [],
   "source": [
    "class TreeNode:\n",
    "    def __init__(self, val=0, left=None, right=None):\n",
    "        self.val = val\n",
    "        self.left = left\n",
    "        self.right = right\n",
    "\n",
    "def rangeSumBST(root: TreeNode, low: int, high: int) -> int:\n",
    "    # Initialize the total sum\n",
    "    total_sum = 0\n",
    "    \n",
    "    # Helper function to perform DFS traversal\n",
    "    def dfs(node):\n",
    "        nonlocal total_sum\n",
    "        \n",
    "        if not node:\n",
    "            return\n",
    "        \n",
    "        # If node's value is within the range [low, high], add it to the sum\n",
    "        if low <= node.val <= high:\n",
    "            total_sum += node.val\n",
    "        \n",
    "        # If node's value is greater than low, explore the left subtree\n",
    "        if node.val > low:\n",
    "            dfs(node.left)\n",
    "        \n",
    "        # If node's value is less than high, explore the right subtree\n",
    "        if node.val < high:\n",
    "            dfs(node.right)\n",
    "    \n",
    "    # Start DFS traversal from the root\n",
    "    dfs(root)\n",
    "    \n",
    "    return total_sum"
   ]
  },
  {
   "cell_type": "code",
   "execution_count": null,
   "id": "3f3154b8",
   "metadata": {},
   "outputs": [],
   "source": []
  }
 ],
 "metadata": {
  "kernelspec": {
   "display_name": "Python 3 (ipykernel)",
   "language": "python",
   "name": "python3"
  },
  "language_info": {
   "codemirror_mode": {
    "name": "ipython",
    "version": 3
   },
   "file_extension": ".py",
   "mimetype": "text/x-python",
   "name": "python",
   "nbconvert_exporter": "python",
   "pygments_lexer": "ipython3",
   "version": "3.8.11"
  }
 },
 "nbformat": 4,
 "nbformat_minor": 5
}
