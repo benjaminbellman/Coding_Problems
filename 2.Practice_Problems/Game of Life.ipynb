{
 "cells": [
  {
   "cell_type": "markdown",
   "id": "3c940aee",
   "metadata": {},
   "source": [
    "# Game of Life"
   ]
  },
  {
   "cell_type": "markdown",
   "id": "ea98763b",
   "metadata": {},
   "source": [
    "According to Wikipedia's article: \"The Game of Life, also known simply as Life, is a cellular automaton devised by the British mathematician John Horton Conway in 1970.\"\n",
    "\n",
    "The board is made up of an m x n grid of cells, where each cell has an initial state: live (represented by a 1) or dead (represented by a 0). Each cell interacts with its eight neighbors (horizontal, vertical, diagonal) using the following four rules (taken from the above Wikipedia article):\n",
    "\n",
    "Any live cell with fewer than two live neighbors dies as if caused by under-population.\n",
    "Any live cell with two or three live neighbors lives on to the next generation.\n",
    "Any live cell with more than three live neighbors dies, as if by over-population.\n",
    "Any dead cell with exactly three live neighbors becomes a live cell, as if by reproduction.\n",
    "The next state is created by applying the above rules simultaneously to every cell in the current state, where births and deaths occur simultaneously. Given the current state of the m x n grid board, return the next state.\n",
    "\n",
    " \n",
    "\n",
    "**Example 1:**\n",
    "\n",
    "\n",
    "Input: board = [[0,1,0],[0,0,1],[1,1,1],[0,0,0]]\n",
    "Output: [[0,0,0],[1,0,1],[0,1,1],[0,1,0]]\n",
    "**Example 2:**\n",
    "\n",
    "\n",
    "Input: board = [[1,1],[1,0]]\n",
    "Output: [[1,1],[1,1]]\n",
    " \n",
    "\n",
    "**Constraints:**\n",
    "\n",
    "m == board.length\n",
    "n == board[i].length\n",
    "1 <= m, n <= 25\n",
    "board[i][j] is 0 or 1.\n",
    " \n",
    "\n",
    "**Follow up:**\n",
    "\n",
    "Could you solve it in-place? Remember that the board needs to be updated simultaneously: You cannot update some cells first and then use their updated values to update other cells.\n",
    "In this question, we represent the board using a 2D array. In principle, the board is infinite, which would cause problems when the active area encroaches upon the border of the array (i.e., live cells reach the border). How would you address these problems?"
   ]
  },
  {
   "cell_type": "code",
   "execution_count": 2,
   "id": "c14b5cbe",
   "metadata": {},
   "outputs": [],
   "source": [
    "def gameOfLife(board):\n",
    "    m, n = len(board), len(board[0])\n",
    "    directions = [(0, 1), (1, 0), (-1, 0), (0, -1), (1, 1), (-1, -1), (1, -1), (-1, 1)]\n",
    "    for i in range(m):\n",
    "        for j in range(n):\n",
    "            live_neighbors = 0\n",
    "            for dx, dy in directions:\n",
    "                x, y = i + dx, j + dy\n",
    "                if 0 <= x < m and 0 <= y < n and board[x][y] == 1:\n",
    "                    live_neighbors += 1\n",
    "            if board[i][j] == 1:\n",
    "                if live_neighbors < 2 or live_neighbors > 3:\n",
    "                    board[i][j] = 2\n",
    "            else:\n",
    "                if live_neighbors == 3:\n",
    "                    board[i][j] = -1\n",
    "    for i in range(m):\n",
    "        for j in range(n):\n",
    "            if board[i][j] == 2:\n",
    "                board[i][j] = 0\n",
    "            elif board[i][j] == -1:\n",
    "                board[i][j] = 1\n",
    "    return board\n"
   ]
  },
  {
   "cell_type": "code",
   "execution_count": 3,
   "id": "98d9c524",
   "metadata": {},
   "outputs": [
    {
     "name": "stdout",
     "output_type": "stream",
     "text": [
      "[[0, 0, 0], [0, 0, 1], [0, 1, 1], [0, 0, 0]]\n",
      "[[1, 1], [1, 1]]\n"
     ]
    }
   ],
   "source": [
    "board = [[0,1,0],[0,0,1],[1,1,1],[0,0,0]]\n",
    "print(gameOfLife(board))\n",
    "# Output: [[0,0,0],[1,0,1],[0,1,1],[0,1,0]]\n",
    "\n",
    "board = [[1,1],[1,0]]\n",
    "print(gameOfLife(board))\n",
    "# Output: [[1,1],[1,1]]"
   ]
  },
  {
   "cell_type": "markdown",
   "id": "050f6f47",
   "metadata": {},
   "source": [
    "Yes, the solution can be solved in-place, which means we don't need to create a new board to store the updated state. We can use the same board and update the state of each cell using a two-step process:\n",
    "\n",
    "Calculate the next state of each cell based on the number of live neighbors and store the updated state in the same cell, but using a different value to represent live (1) and dead (0) cells. For example, we can use the value 2 to represent a live cell that will die in the next generation, and -1 to represent a dead cell that will come to life in the next generation.\n",
    "\n",
    "Update the state of each cell based on the values stored in step 1.\n",
    "\n",
    "Here's the code that implements the in-place solution:"
   ]
  },
  {
   "cell_type": "code",
   "execution_count": 4,
   "id": "f6dcd3ea",
   "metadata": {},
   "outputs": [],
   "source": [
    "def gameOfLife(board):\n",
    "    m, n = len(board), len(board[0])\n",
    "    directions = [(0, 1), (1, 0), (-1, 0), (0, -1), (1, 1), (-1, -1), (1, -1), (-1, 1)]\n",
    "    for i in range(m):\n",
    "        for j in range(n):\n",
    "            live_neighbors = 0\n",
    "            for dx, dy in directions:\n",
    "                x, y = i + dx, j + dy\n",
    "                if 0 <= x < m and 0 <= y < n and abs(board[x][y]) == 1:\n",
    "                    live_neighbors += 1\n",
    "            if board[i][j] == 1 and (live_neighbors < 2 or live_neighbors > 3):\n",
    "                board[i][j] = 2\n",
    "            elif board[i][j] == 0 and live_neighbors == 3:\n",
    "                board[i][j] = -1\n",
    "    for i in range(m):\n",
    "        for j in range(n):\n",
    "            if board[i][j] == 2:\n",
    "                board[i][j] = 0\n",
    "            elif board[i][j] == -1:\n",
    "                board[i][j] = 1\n",
    "    return board"
   ]
  },
  {
   "cell_type": "code",
   "execution_count": null,
   "id": "b38e9106",
   "metadata": {},
   "outputs": [],
   "source": []
  }
 ],
 "metadata": {
  "kernelspec": {
   "display_name": "Python 3",
   "language": "python",
   "name": "python3"
  },
  "language_info": {
   "codemirror_mode": {
    "name": "ipython",
    "version": 3
   },
   "file_extension": ".py",
   "mimetype": "text/x-python",
   "name": "python",
   "nbconvert_exporter": "python",
   "pygments_lexer": "ipython3",
   "version": "3.9.13"
  }
 },
 "nbformat": 4,
 "nbformat_minor": 5
}
