{
 "cells": [
  {
   "cell_type": "markdown",
   "id": "433c5767",
   "metadata": {},
   "source": [
    "# Race Car"
   ]
  },
  {
   "cell_type": "markdown",
   "id": "18b9ef5e",
   "metadata": {},
   "source": [
    "Your car starts at position 0 and speed +1 on an infinite number line. Your car can go into negative positions. Your car drives automatically according to a sequence of instructions 'A' (accelerate) and 'R' (reverse):\n",
    "\n",
    "When you get an instruction 'A', your car does the following:\n",
    "position += speed\n",
    "speed *= 2\n",
    "When you get an instruction 'R', your car does the following:\n",
    "If your speed is positive then speed = -1\n",
    "otherwise speed = 1\n",
    "Your position stays the same.\n",
    "For example, after commands \"AAR\", your car goes to positions 0 --> 1 --> 3 --> 3, and your speed goes to 1 --> 2 --> 4 --> -1.\n",
    "\n",
    "Given a target position target, return the length of the shortest sequence of instructions to get there.\n",
    "\n",
    "**Example 1:**\n",
    "\n",
    "Input: target = 3\n",
    "\n",
    "Output: 2\n",
    "Explanation: \n",
    "The shortest instruction sequence is \"AA\".\n",
    "Your position goes from 0 --> 1 --> 3.\n",
    "\n",
    "**Example 2:**\n",
    "\n",
    "Input: target = 6\n",
    "\n",
    "Output: 5\n",
    "Explanation: \n",
    "The shortest instruction sequence is \"AAARA\".\n",
    "Your position goes from 0 --> 1 --> 3 --> 7 --> 7 --> 6.\n",
    "\n",
    "**Constraints:**\n",
    "\n",
    "- 1 <= target <= 104"
   ]
  },
  {
   "cell_type": "code",
   "execution_count": 1,
   "id": "637b2684",
   "metadata": {},
   "outputs": [
    {
     "name": "stdout",
     "output_type": "stream",
     "text": [
      "2\n",
      "6\n"
     ]
    }
   ],
   "source": [
    "def shortestSequence(target):\n",
    "    position = 0\n",
    "    speed = 1\n",
    "    instructions = ''\n",
    "    \n",
    "    while position != target:\n",
    "        if position + speed <= target and speed > 0:\n",
    "            position += speed\n",
    "            speed *= 2\n",
    "            instructions += 'A'\n",
    "        else:\n",
    "            speed = -1 if speed > 0 else 1\n",
    "            instructions += 'R'\n",
    "    \n",
    "    return len(instructions)\n",
    "\n",
    "# Example usage:\n",
    "print(shortestSequence(3))  # Output: 2\n",
    "print(shortestSequence(6))  # Output: 5"
   ]
  },
  {
   "cell_type": "code",
   "execution_count": null,
   "id": "7313096e",
   "metadata": {},
   "outputs": [],
   "source": []
  }
 ],
 "metadata": {
  "kernelspec": {
   "display_name": "Python 3",
   "language": "python",
   "name": "python3"
  },
  "language_info": {
   "codemirror_mode": {
    "name": "ipython",
    "version": 3
   },
   "file_extension": ".py",
   "mimetype": "text/x-python",
   "name": "python",
   "nbconvert_exporter": "python",
   "pygments_lexer": "ipython3",
   "version": "3.9.13"
  }
 },
 "nbformat": 4,
 "nbformat_minor": 5
}
