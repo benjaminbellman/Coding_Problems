{
 "cells": [
  {
   "cell_type": "markdown",
   "id": "24c5a2e0",
   "metadata": {},
   "source": [
    "# Remove Zero Sum Consecutive Nodes from Linked List"
   ]
  },
  {
   "cell_type": "markdown",
   "id": "462a189b",
   "metadata": {},
   "source": [
    "Given the head of a linked list, we repeatedly delete consecutive sequences of nodes that sum to 0 until there are no such sequences.\n",
    "\n",
    "After doing so, return the head of the final linked list.  You may return any such answer.\n",
    "\n",
    "(Note that in the examples below, all sequences are serializations of ListNode objects.)\n",
    "\n",
    "**Example 1:**\n",
    "\n",
    "Input: head = [1,2,-3,3,1]\n",
    "Output: [3,1]\n",
    "Note: The answer [1,2,1] would also be accepted.\n",
    "\n",
    "**Example 2:**\n",
    "\n",
    "Input: head = [1,2,3,-3,4]\n",
    "Output: [1,2,4]\n",
    "\n",
    "**Example 3:**\n",
    "\n",
    "Input: head = [1,2,3,-3,-2]\n",
    "Output: [1]\n",
    " \n",
    "\n",
    "**Constraints:**\n",
    "\n",
    "- The given linked list will contain between 1 and 1000 nodes.\n",
    "- Each node in the linked list has -1000 <= node.val <= 1000."
   ]
  },
  {
   "cell_type": "code",
   "execution_count": 1,
   "id": "29791690",
   "metadata": {},
   "outputs": [],
   "source": [
    "class ListNode:\n",
    "    def __init__(self, val=0, next=None):\n",
    "        self.val = val\n",
    "        self.next = next\n",
    "\n",
    "def removeZeroSumSublists(head: ListNode) -> ListNode:\n",
    "    dummy = ListNode(0)  # Dummy node to simplify edge cases\n",
    "    dummy.next = head\n",
    "    prefix_map = {}  # Maps prefix sum to the node\n",
    "    prefix_sum = 0\n",
    "    node = dummy\n",
    "    \n",
    "    # First pass: Build prefix sum map\n",
    "    while node:\n",
    "        prefix_sum += node.val\n",
    "        prefix_map[prefix_sum] = node\n",
    "        node = node.next\n",
    "    \n",
    "    # Second pass: Remove zero sum subsequences\n",
    "    prefix_sum = 0\n",
    "    node = dummy\n",
    "    while node:\n",
    "        prefix_sum += node.val\n",
    "        node.next = prefix_map[prefix_sum].next  # Skip nodes forming zero sum\n",
    "        node = node.next\n",
    "\n",
    "    return dummy.next"
   ]
  },
  {
   "cell_type": "code",
   "execution_count": null,
   "id": "73acd6a4",
   "metadata": {},
   "outputs": [],
   "source": []
  }
 ],
 "metadata": {
  "kernelspec": {
   "display_name": "Python 3 (ipykernel)",
   "language": "python",
   "name": "python3"
  },
  "language_info": {
   "codemirror_mode": {
    "name": "ipython",
    "version": 3
   },
   "file_extension": ".py",
   "mimetype": "text/x-python",
   "name": "python",
   "nbconvert_exporter": "python",
   "pygments_lexer": "ipython3",
   "version": "3.8.11"
  }
 },
 "nbformat": 4,
 "nbformat_minor": 5
}
