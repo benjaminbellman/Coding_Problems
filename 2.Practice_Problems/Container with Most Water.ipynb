{
 "cells": [
  {
   "cell_type": "markdown",
   "id": "3e85b3cc",
   "metadata": {},
   "source": [
    "## Container with Most Water - Medium"
   ]
  },
  {
   "cell_type": "code",
   "execution_count": null,
   "id": "9958464d",
   "metadata": {},
   "outputs": [],
   "source": [
    "## Copilto Solution"
   ]
  },
  {
   "cell_type": "code",
   "execution_count": 1,
   "id": "58594a69",
   "metadata": {},
   "outputs": [
    {
     "name": "stdout",
     "output_type": "stream",
     "text": [
      "49\n"
     ]
    }
   ],
   "source": [
    "#You are given an integer array height of length n. There are n vertjcal lines drawn such that the two endpoints of the ith line are at (i, height[i]) and (i, 0). \n",
    "# Find two lines, which, together with the x-axis forms a container, such that the container contains the most water.\n",
    "#Notice that you may not slant the container.\n",
    "#Example 1:\n",
    "#Input: height = [1,8,6,2,5,4,8,3,7]\n",
    "#Output: 49\n",
    "#Explanation: The above vertical lines are represented by array [1,8,6,2,5,4,8,3,7]. In this case, the max area of water (blue section) the container can contain is 49.\n",
    "#Example 2:\n",
    "#Input: height = [1,1]\n",
    "#Output: 1\n",
    "#Example 3:\n",
    "#Input: height = [4,3,2,1,4]\n",
    "#Output: 16\n",
    "#Example 4:\n",
    "#Input: height = [1,2,1]\n",
    "#Output: 2\n",
    "#Constraints:\n",
    "#n == height.length\n",
    "#2 <= n <= 3 * 104\n",
    "#0 <= height[i] <= 3 * 104\n",
    "def max_area(height):\n",
    "    max_area = 0\n",
    "    for i in range(len(height)):\n",
    "        for j in range(i+1, len(height)):\n",
    "            area = (j-i) * min(height[i], height[j])\n",
    "            if area > max_area:\n",
    "                max_area = area\n",
    "    return max_area\n",
    "def main():\n",
    "    height = [1,8,6,2,5,4,8,3,7]\n",
    "    print(max_area(height))\n",
    "main()"
   ]
  },
  {
   "cell_type": "code",
   "execution_count": null,
   "id": "366083ed",
   "metadata": {},
   "outputs": [],
   "source": []
  }
 ],
 "metadata": {
  "kernelspec": {
   "display_name": "Python 3",
   "language": "python",
   "name": "python3"
  },
  "language_info": {
   "codemirror_mode": {
    "name": "ipython",
    "version": 3
   },
   "file_extension": ".py",
   "mimetype": "text/x-python",
   "name": "python",
   "nbconvert_exporter": "python",
   "pygments_lexer": "ipython3",
   "version": "3.9.13"
  }
 },
 "nbformat": 4,
 "nbformat_minor": 5
}
