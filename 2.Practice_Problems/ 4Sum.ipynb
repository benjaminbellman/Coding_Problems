{
 "cells": [
  {
   "cell_type": "markdown",
   "id": "0f5ba3b6",
   "metadata": {},
   "source": [
    " # 4Sum"
   ]
  },
  {
   "cell_type": "markdown",
   "id": "0271aaaa",
   "metadata": {},
   "source": [
    "Given an array nums of n integers, return an array of all the unique quadruplets [nums[a], nums[b], nums[c], nums[d]] such that:\n",
    "\n",
    "0 <= a, b, c, d < n\n",
    "a, b, c, and d are distinct.\n",
    "nums[a] + nums[b] + nums[c] + nums[d] == target\n",
    "You may return the answer in any order.\n",
    "\n",
    " \n",
    "\n",
    "**Example 1:**\n",
    "\n",
    "Input: nums = [1,0,-1,0,-2,2], target = 0\n",
    "Output: [[-2,-1,1,2],[-2,0,0,2],[-1,0,0,1]]\n",
    "\n",
    "**Example 2:**\n",
    "\n",
    "Input: nums = [2,2,2,2,2], target = 8\n",
    "Output: [[2,2,2,2]]\n",
    " \n",
    "\n",
    "**Constraints:**\n",
    "\n",
    "1 <= nums.length <= 200\n",
    "-109 <= nums[i] <= 109\n",
    "-109 <= target <= 109"
   ]
  },
  {
   "cell_type": "code",
   "execution_count": 1,
   "id": "6c385feb",
   "metadata": {},
   "outputs": [],
   "source": [
    "from itertools import combinations\n",
    "\n",
    "def fourSum(nums, target):\n",
    "    res = []\n",
    "    nums.sort()\n",
    "    for i in range(len(nums)-3):\n",
    "        if i > 0 and nums[i] == nums[i-1]:\n",
    "            continue\n",
    "        if nums[i]*4 > target:\n",
    "            break\n",
    "        if nums[i]+3*nums[-1] < target:\n",
    "            continue\n",
    "        for j in range(i+1, len(nums)-2):\n",
    "            if j > i+1 and nums[j] == nums[j-1]:\n",
    "                continue\n",
    "            if nums[i]+nums[j]*3 > target:\n",
    "                break\n",
    "            if nums[i]+nums[j]+2*nums[-1] < target:\n",
    "                continue\n",
    "            l, r = j+1, len(nums)-1\n",
    "            while l < r:\n",
    "                s = nums[i] + nums[j] + nums[l] + nums[r]\n",
    "                if s == target:\n",
    "                    res.append([nums[i], nums[j], nums[l], nums[r]])\n",
    "                    while l < r and nums[l] == nums[l+1]:\n",
    "                        l += 1\n",
    "                    while l < r and nums[r] == nums[r-1]:\n",
    "                        r -= 1\n",
    "                    l += 1\n",
    "                    r -= 1\n",
    "                elif s < target:\n",
    "                    l += 1\n",
    "                else:\n",
    "                    r -= 1\n",
    "    return res"
   ]
  },
  {
   "cell_type": "code",
   "execution_count": 2,
   "id": "b300041e",
   "metadata": {},
   "outputs": [
    {
     "name": "stdout",
     "output_type": "stream",
     "text": [
      "[[-2, -1, 1, 2], [-2, 0, 0, 2], [-1, 0, 0, 1]]\n",
      "[[2, 2, 2, 2]]\n"
     ]
    }
   ],
   "source": [
    "nums1 = [1,0,-1,0,-2,2]\n",
    "target1 = 0\n",
    "print(fourSum(nums1, target1))\n",
    "# Output: [[-2,-1,1,2],[-2,0,0,2],[-1,0,0,1]]\n",
    "\n",
    "nums2 = [2,2,2,2,2]\n",
    "target2 = 8\n",
    "print(fourSum(nums2, target2))\n",
    "# Output: [[2,2,2,2]]"
   ]
  },
  {
   "cell_type": "code",
   "execution_count": null,
   "id": "4c30b79a",
   "metadata": {},
   "outputs": [],
   "source": []
  }
 ],
 "metadata": {
  "kernelspec": {
   "display_name": "Python 3",
   "language": "python",
   "name": "python3"
  },
  "language_info": {
   "codemirror_mode": {
    "name": "ipython",
    "version": 3
   },
   "file_extension": ".py",
   "mimetype": "text/x-python",
   "name": "python",
   "nbconvert_exporter": "python",
   "pygments_lexer": "ipython3",
   "version": "3.9.13"
  }
 },
 "nbformat": 4,
 "nbformat_minor": 5
}
