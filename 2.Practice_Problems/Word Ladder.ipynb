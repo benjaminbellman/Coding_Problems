{
 "cells": [
  {
   "cell_type": "markdown",
   "id": "7c31260f",
   "metadata": {},
   "source": [
    "# Word Ladder"
   ]
  },
  {
   "cell_type": "markdown",
   "id": "c243441f",
   "metadata": {},
   "source": [
    "A transformation sequence from word beginWord to word endWord using a dictionary wordList is a sequence of words beginWord -> s1 -> s2 -> ... -> sk such that:\n",
    "\n",
    "Every adjacent pair of words differs by a single letter.\n",
    "Every si for 1 <= i <= k is in wordList. Note that beginWord does not need to be in wordList.\n",
    "sk == endWord\n",
    "Given two words, beginWord and endWord, and a dictionary wordList, return the number of words in the shortest transformation sequence from beginWord to endWord, or 0 if no such sequence exists.\n",
    "\n",
    "**Example 1:**\n",
    "\n",
    "Input: beginWord = \"hit\", endWord = \"cog\", wordList = [\"hot\",\"dot\",\"dog\",\"lot\",\"log\",\"cog\"]\n",
    "Output: 5\n",
    "Explanation: One shortest transformation sequence is \"hit\" -> \"hot\" -> \"dot\" -> \"dog\" -> cog\", which is 5 words long.\n",
    "\n",
    "**Example 2:**\n",
    "\n",
    "Input: beginWord = \"hit\", endWord = \"cog\", wordList = [\"hot\",\"dot\",\"dog\",\"lot\",\"log\"]\n",
    "Output: 0\n",
    "Explanation: The endWord \"cog\" is not in wordList, therefore there is no valid transformation sequence.\n",
    " \n",
    "**Constraints:**\n",
    "\n",
    "- 1 <= beginWord.length <= 10\n",
    "- endWord.length == beginWord.length\n",
    "- 1 <= wordList.length <= 5000\n",
    "- wordList[i].length == beginWord.length\n",
    "- beginWord, endWord, and wordList[i] consist of lowercase English letters.\n",
    "- beginWord != endWord\n",
    "- All the words in wordList are unique."
   ]
  },
  {
   "cell_type": "code",
   "execution_count": 3,
   "id": "fb1b6715",
   "metadata": {},
   "outputs": [],
   "source": [
    "from typing import List\n",
    "from string import ascii_lowercase\n",
    "\n",
    "def ladderLength(beginWord: str, endWord: str, wordList: List[str]) -> int:\n",
    "    word_set = set(wordList)\n",
    "    if endWord not in word_set:\n",
    "        return 0\n",
    "\n",
    "    begin_front = {beginWord}\n",
    "    end_front = {endWord}\n",
    "    visited = set([beginWord, endWord])\n",
    "    steps = 1\n",
    "\n",
    "    while begin_front and end_front:\n",
    "        if len(begin_front) > len(end_front):\n",
    "            begin_front, end_front = end_front, begin_front\n",
    "\n",
    "        next_front = set()\n",
    "        for word in begin_front:\n",
    "            word_chars = list(word)\n",
    "            for i in range(len(word_chars)):\n",
    "                original = word_chars[i]\n",
    "                for c in ascii_lowercase:\n",
    "                    if c == original:\n",
    "                        continue\n",
    "                    word_chars[i] = c\n",
    "                    nxt = ''.join(word_chars)\n",
    "\n",
    "                    if nxt in end_front:\n",
    "                        return steps + 1\n",
    "                    if nxt in word_set and nxt not in visited:\n",
    "                        visited.add(nxt)\n",
    "                        next_front.add(nxt)\n",
    "                word_chars[i] = original\n",
    "        begin_front = next_front\n",
    "        steps += 1\n",
    "\n",
    "    return 0"
   ]
  },
  {
   "cell_type": "code",
   "execution_count": 4,
   "id": "e2e4ba85",
   "metadata": {},
   "outputs": [
    {
     "name": "stdout",
     "output_type": "stream",
     "text": [
      "5\n",
      "0\n"
     ]
    }
   ],
   "source": [
    "print(ladderLength(\"hit\", \"cog\", [\"hot\",\"dot\",\"dog\",\"lot\",\"log\",\"cog\"]))  # 5\n",
    "print(ladderLength(\"hit\", \"cog\", [\"hot\",\"dot\",\"dog\",\"lot\",\"log\"]))        # 0"
   ]
  },
  {
   "cell_type": "code",
   "execution_count": null,
   "id": "8c72e0de",
   "metadata": {},
   "outputs": [],
   "source": []
  }
 ],
 "metadata": {
  "kernelspec": {
   "display_name": "Python 3 (ipykernel)",
   "language": "python",
   "name": "python3"
  },
  "language_info": {
   "codemirror_mode": {
    "name": "ipython",
    "version": 3
   },
   "file_extension": ".py",
   "mimetype": "text/x-python",
   "name": "python",
   "nbconvert_exporter": "python",
   "pygments_lexer": "ipython3",
   "version": "3.8.11"
  }
 },
 "nbformat": 4,
 "nbformat_minor": 5
}
