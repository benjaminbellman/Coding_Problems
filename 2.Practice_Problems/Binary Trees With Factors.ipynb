{
 "cells": [
  {
   "cell_type": "markdown",
   "id": "02300097",
   "metadata": {},
   "source": [
    "# Binary Trees With Factors"
   ]
  },
  {
   "cell_type": "markdown",
   "id": "247e2903",
   "metadata": {},
   "source": [
    "Given an array of unique integers, arr, where each integer arr[i] is strictly greater than 1.\n",
    "\n",
    "We make a binary tree using these integers, and each number may be used for any number of times. Each non-leaf node's value should be equal to the product of the values of its children.\n",
    "\n",
    "Return the number of binary trees we can make. The answer may be too large so return the answer modulo 109 + 7.\n",
    "\n",
    "\n",
    "**Example 1:**\n",
    "\n",
    "Input: arr = [2,4]\n",
    "Output: 3\n",
    "Explanation: We can make these trees: [2], [4], [4, 2, 2]\n",
    "\n",
    "**Example 2:**\n",
    "\n",
    "Input: arr = [2,4,5,10]\n",
    "Output: 7\n",
    "Explanation: We can make these trees: [2], [4], [5], [10], [4, 2, 2], [10, 2, 5], [10, 5, 2].\n",
    " \n",
    "**Constraints:**\n",
    "\n",
    "- 1 <= arr.length <= 1000\n",
    "- 2 <= arr[i] <= 109\n",
    "- All the values of arr are unique."
   ]
  },
  {
   "cell_type": "code",
   "execution_count": 1,
   "id": "fa5591a5",
   "metadata": {},
   "outputs": [
    {
     "name": "stdout",
     "output_type": "stream",
     "text": [
      "2\n",
      "6\n"
     ]
    }
   ],
   "source": [
    "def numOfBinaryTrees(arr):\n",
    "    mod = 10**9 + 7\n",
    "    arr.sort()\n",
    "    dp = [0] * (len(arr) + 1)\n",
    "    dp[0] = 1\n",
    "\n",
    "    for i in range(1, len(arr) + 1):\n",
    "        for j in range(i):\n",
    "            if arr[i - 1] % arr[j] == 0:\n",
    "                dp[i] = (dp[i] + dp[j] * dp[i - j - 1]) % mod\n",
    "\n",
    "    return dp[-1]\n",
    "\n",
    "# Example usage:\n",
    "arr1 = [2, 4]\n",
    "arr2 = [2, 4, 5, 10]\n",
    "print(numOfBinaryTrees(arr1))  # Output: 3\n",
    "print(numOfBinaryTrees(arr2))  # Output: 7"
   ]
  },
  {
   "cell_type": "code",
   "execution_count": null,
   "id": "873c35c1",
   "metadata": {},
   "outputs": [],
   "source": []
  }
 ],
 "metadata": {
  "kernelspec": {
   "display_name": "Python 3",
   "language": "python",
   "name": "python3"
  },
  "language_info": {
   "codemirror_mode": {
    "name": "ipython",
    "version": 3
   },
   "file_extension": ".py",
   "mimetype": "text/x-python",
   "name": "python",
   "nbconvert_exporter": "python",
   "pygments_lexer": "ipython3",
   "version": "3.9.13"
  }
 },
 "nbformat": 4,
 "nbformat_minor": 5
}
