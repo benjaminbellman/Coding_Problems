{
 "cells": [
  {
   "cell_type": "markdown",
   "id": "10f66a49",
   "metadata": {},
   "source": [
    "# Smallest Range Covering Elements from K Lists"
   ]
  },
  {
   "cell_type": "markdown",
   "id": "f166d2f8",
   "metadata": {},
   "source": [
    "You have k lists of sorted integers in non-decreasing order. Find the smallest range that includes at least one number from each of the k lists.\n",
    "\n",
    "We define the range [a, b] is smaller than range [c, d] if b - a < d - c or a < c if b - a == d - c.\n",
    "\n",
    " \n",
    "\n",
    "**Example 1:**\n",
    "\n",
    "Input: nums = [[4,10,15,24,26],[0,9,12,20],[5,18,22,30]]\n",
    "\n",
    "Output: [20,24]\n",
    "Explanation: \n",
    "List 1: [4, 10, 15, 24,26], 24 is in range [20,24].\n",
    "List 2: [0, 9, 12, 20], 20 is in range [20,24].\n",
    "List 3: [5, 18, 22, 30], 22 is in range [20,24].\n",
    "\n",
    "**Example 2:**\n",
    "\n",
    "Input: nums = [[1,2,3],[1,2,3],[1,2,3]]\n",
    "\n",
    "Output: [1,1]\n",
    " \n",
    "\n",
    "**Constraints:**\n",
    "\n",
    "- nums.length == k\n",
    "- 1 <= k <= 3500\n",
    "- 1 <= nums[i].length <= 50\n",
    "- -105 <= nums[i][j] <= 105\n",
    "- nums[i] is sorted in non-decreasing order."
   ]
  },
  {
   "cell_type": "code",
   "execution_count": 1,
   "id": "d768af78",
   "metadata": {},
   "outputs": [
    {
     "name": "stdout",
     "output_type": "stream",
     "text": [
      "[20, 24]\n",
      "[1, 1]\n"
     ]
    }
   ],
   "source": [
    "import heapq\n",
    "\n",
    "def smallestRange(nums):\n",
    "    heap = []  # Create a min-heap to store the current smallest values from each list\n",
    "    max_val = float('-inf')  # Initialize the maximum value found so far\n",
    "    range_start, range_end = float('-inf'), float('inf')  # Initialize the range\n",
    "\n",
    "    # Initialize the heap with the first element from each list and find the maximum value\n",
    "    for i, lst in enumerate(nums):\n",
    "        if lst:\n",
    "            heapq.heappush(heap, (lst[0], i, 0))\n",
    "            max_val = max(max_val, lst[0])\n",
    "\n",
    "    while True:\n",
    "        # Get the minimum value from the heap and calculate the range\n",
    "        val, list_idx, idx = heapq.heappop(heap)\n",
    "        if max_val - val < range_end - range_start:\n",
    "            range_start, range_end = val, max_val\n",
    "\n",
    "        # Move to the next element in the list\n",
    "        idx += 1\n",
    "        if idx >= len(nums[list_idx]):\n",
    "            break  # If any list is exhausted, break the loop\n",
    "\n",
    "        # Update the maximum value if needed and push the next element into the heap\n",
    "        max_val = max(max_val, nums[list_idx][idx])\n",
    "        heapq.heappush(heap, (nums[list_idx][idx], list_idx, idx))\n",
    "\n",
    "    return [range_start, range_end]\n",
    "\n",
    "# Example 1:\n",
    "nums1 = [[4, 10, 15, 24, 26], [0, 9, 12, 20], [5, 18, 22, 30]]\n",
    "print(smallestRange(nums1))  # Output: [20, 24]\n",
    "\n",
    "# Example 2:\n",
    "nums2 = [[1, 2, 3], [1, 2, 3], [1, 2, 3]]\n",
    "print(smallestRange(nums2))  # Output: [1, 1]"
   ]
  },
  {
   "cell_type": "code",
   "execution_count": null,
   "id": "8a2b5e6a",
   "metadata": {},
   "outputs": [],
   "source": []
  }
 ],
 "metadata": {
  "kernelspec": {
   "display_name": "Python 3",
   "language": "python",
   "name": "python3"
  },
  "language_info": {
   "codemirror_mode": {
    "name": "ipython",
    "version": 3
   },
   "file_extension": ".py",
   "mimetype": "text/x-python",
   "name": "python",
   "nbconvert_exporter": "python",
   "pygments_lexer": "ipython3",
   "version": "3.9.13"
  }
 },
 "nbformat": 4,
 "nbformat_minor": 5
}
