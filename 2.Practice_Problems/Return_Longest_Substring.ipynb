{
 "cells": [
  {
   "cell_type": "markdown",
   "id": "c5518c8f",
   "metadata": {},
   "source": [
    "# Coding interview problem\n",
    "\n",
    "## Find the longest distinct substring within a string\n",
    "\n",
    "Given a string, write a function that returns the longest substring with all distinct characters.\n",
    "\n",
    "Examples:\n",
    "- \"geeksforgeeks\" -> \"eksforg\"\n",
    "- \"abcde\" -> \"abcde\"\n",
    "- \"aaaaa\" -> \"a\""
   ]
  },
  {
   "cell_type": "code",
   "execution_count": 1,
   "id": "631725b9",
   "metadata": {},
   "outputs": [
    {
     "data": {
      "text/plain": [
       "'abcde'"
      ]
     },
     "execution_count": 1,
     "metadata": {},
     "output_type": "execute_result"
    }
   ],
   "source": [
    "import numpy as np\n",
    "input_string ='abcde'\n",
    "\n",
    "def get_distinct_substring(input_string):\n",
    "    list_of_strings = []\n",
    "    characters = '' \n",
    "    for i in input_string:\n",
    "        if i not in characters: \n",
    "            characters += i\n",
    "        else:\n",
    "            list_of_strings.append(characters)\n",
    "            characters = i\n",
    "    list_of_strings.append(characters)\n",
    "    lengths = []\n",
    "    for i in list_of_strings:\n",
    "        lengths.append(len(i))\n",
    "    return list_of_strings[np.argmax(lengths)]\n",
    "\n",
    "get_distinct_substring(input_string)"
   ]
  },
  {
   "cell_type": "code",
   "execution_count": null,
   "id": "3af11839",
   "metadata": {},
   "outputs": [],
   "source": []
  }
 ],
 "metadata": {
  "kernelspec": {
   "display_name": "Python 3 (ipykernel)",
   "language": "python",
   "name": "python3"
  },
  "language_info": {
   "codemirror_mode": {
    "name": "ipython",
    "version": 3
   },
   "file_extension": ".py",
   "mimetype": "text/x-python",
   "name": "python",
   "nbconvert_exporter": "python",
   "pygments_lexer": "ipython3",
   "version": "3.9.10"
  }
 },
 "nbformat": 4,
 "nbformat_minor": 5
}
