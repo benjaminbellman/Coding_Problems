{
 "cells": [
  {
   "cell_type": "markdown",
   "id": "785822ca",
   "metadata": {},
   "source": [
    "# Maximum Average Subarray I"
   ]
  },
  {
   "cell_type": "markdown",
   "id": "a7c9fa7d",
   "metadata": {},
   "source": [
    "You are given an integer array nums consisting of n elements, and an integer k.\n",
    "\n",
    "Find a contiguous subarray whose length is equal to k that has the maximum average value and return this value. Any answer with a calculation error less than 10-5 will be accepted.\n",
    "\n",
    " \n",
    "\n",
    "**Example 1:**\n",
    "\n",
    "Input: nums = [1,12,-5,-6,50,3], k = 4\n",
    "\n",
    "Output: 12.75000\n",
    "Explanation: Maximum average is (12 - 5 - 6 + 50) / 4 = 51 / 4 = 12.75\n",
    "\n",
    "**Example 2:**\n",
    "\n",
    "Input: nums = [5], k = 1\n",
    "\n",
    "Output: 5.00000\n",
    " \n",
    "\n",
    "**Constraints:**\n",
    "\n",
    "- n == nums.length\n",
    "- 1 <= k <= n <= 105\n",
    "- -104 <= nums[i] <= 104"
   ]
  },
  {
   "cell_type": "code",
   "execution_count": 1,
   "id": "8fffbe71",
   "metadata": {},
   "outputs": [
    {
     "name": "stdout",
     "output_type": "stream",
     "text": [
      "12.749995231628418\n",
      "5\n"
     ]
    }
   ],
   "source": [
    "def findMaxAverage(nums, k):\n",
    "    left, right = min(nums), max(nums)  # Initialize left and right boundaries for binary search\n",
    "    eps = 1e-5  # Tolerance for calculation error\n",
    "    \n",
    "    while right - left > eps:\n",
    "        mid = (left + right) / 2\n",
    "        \n",
    "        # Check if there exists a subarray with an average >= mid\n",
    "        if hasSubarrayAverageGreaterOrEqual(nums, k, mid):\n",
    "            left = mid\n",
    "        else:\n",
    "            right = mid\n",
    "    \n",
    "    return left\n",
    "\n",
    "def hasSubarrayAverageGreaterOrEqual(nums, k, target):\n",
    "    sum_current = 0\n",
    "    sum_previous = 0\n",
    "    min_sum_previous = 0\n",
    "    \n",
    "    for i in range(k):\n",
    "        sum_current += nums[i] - target\n",
    "    \n",
    "    for i in range(k, len(nums)):\n",
    "        if sum_current >= min_sum_previous:\n",
    "            return True\n",
    "        \n",
    "        sum_current += nums[i] - target\n",
    "        sum_previous += nums[i - k] - target\n",
    "        min_sum_previous = min(min_sum_previous, sum_previous)\n",
    "    \n",
    "    return sum_current >= min_sum_previous\n",
    "\n",
    "# Example usage:\n",
    "nums1 = [1, 12, -5, -6, 50, 3]\n",
    "k1 = 4\n",
    "result1 = findMaxAverage(nums1, k1)\n",
    "print(result1)  # Output: 12.75000\n",
    "\n",
    "nums2 = [5]\n",
    "k2 = 1\n",
    "result2 = findMaxAverage(nums2, k2)\n",
    "print(result2)  # Output: 5.00000"
   ]
  },
  {
   "cell_type": "code",
   "execution_count": null,
   "id": "c465d759",
   "metadata": {},
   "outputs": [],
   "source": []
  }
 ],
 "metadata": {
  "kernelspec": {
   "display_name": "Python 3",
   "language": "python",
   "name": "python3"
  },
  "language_info": {
   "codemirror_mode": {
    "name": "ipython",
    "version": 3
   },
   "file_extension": ".py",
   "mimetype": "text/x-python",
   "name": "python",
   "nbconvert_exporter": "python",
   "pygments_lexer": "ipython3",
   "version": "3.9.13"
  }
 },
 "nbformat": 4,
 "nbformat_minor": 5
}
