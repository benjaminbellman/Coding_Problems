{
 "cells": [
  {
   "cell_type": "markdown",
   "id": "a75633bf",
   "metadata": {},
   "source": [
    "# Valid Parenthesis String"
   ]
  },
  {
   "cell_type": "markdown",
   "id": "0b40c894",
   "metadata": {},
   "source": [
    "Given a string s containing only three types of characters: '(', ')' and '*', return true if s is valid.\n",
    "\n",
    "The following rules define a valid string:\n",
    "\n",
    "Any left parenthesis '(' must have a corresponding right parenthesis ')'.\n",
    "Any right parenthesis ')' must have a corresponding left parenthesis '('.\n",
    "Left parenthesis '(' must go before the corresponding right parenthesis ')'.\n",
    "'*' could be treated as a single right parenthesis ')' or a single left parenthesis '(' or an empty string \"\".\n",
    " \n",
    "\n",
    "**Example 1:**\n",
    "\n",
    "Input: s = \"()\"\n",
    "\n",
    "Output: true\n",
    "\n",
    "**Example 2:**\n",
    "\n",
    "Input: s = \"(*)\"\n",
    "\n",
    "Output: true\n",
    "\n",
    "**Example 3:**\n",
    "\n",
    "Input: s = \"(*))\"\n",
    "Output: true\n",
    " \n",
    "\n",
    "**Constraints:**\n",
    "\n",
    "- 1 <= s.length <= 100\n",
    "- s[i] is '(', ')' or '*'."
   ]
  },
  {
   "cell_type": "code",
   "execution_count": 4,
   "id": "3de0d21c",
   "metadata": {},
   "outputs": [
    {
     "name": "stdout",
     "output_type": "stream",
     "text": [
      "True\n",
      "True\n",
      "True\n",
      "True\n",
      "False\n"
     ]
    }
   ],
   "source": [
    "def checkValidString(s):\n",
    "    # Stack to store the positions of '(' and '*' characters\n",
    "    left_stack = []\n",
    "    # Stack to store the positions of '*' and ')' characters\n",
    "    asterisk_stack = []\n",
    "\n",
    "    for i, char in enumerate(s):\n",
    "        if char == '(':\n",
    "            left_stack.append(i)\n",
    "        elif char == '*':\n",
    "            asterisk_stack.append(i)\n",
    "        else:  # char == ')'\n",
    "            if left_stack:\n",
    "                left_stack.pop()\n",
    "            elif asterisk_stack:\n",
    "                asterisk_stack.pop()\n",
    "            else:\n",
    "                return False\n",
    "\n",
    "    # Check if there are remaining '(' characters\n",
    "    while left_stack and asterisk_stack:\n",
    "        if left_stack[-1] > asterisk_stack[-1]:\n",
    "            return False\n",
    "        left_stack.pop()\n",
    "        asterisk_stack.pop()\n",
    "\n",
    "    return len(left_stack) == 0\n",
    "\n",
    "# Test cases\n",
    "print(checkValidString(\"()\"))      # Output: True\n",
    "print(checkValidString(\"(*)\"))     # Output: True\n",
    "print(checkValidString(\"(*))\"))    # Output: True\n",
    "print(checkValidString(\"(((**)\"))  # Output: True\n",
    "print(checkValidString(\")(\"))      # Output: False"
   ]
  },
  {
   "cell_type": "code",
   "execution_count": null,
   "id": "49d6df90",
   "metadata": {},
   "outputs": [],
   "source": []
  }
 ],
 "metadata": {
  "kernelspec": {
   "display_name": "Python 3",
   "language": "python",
   "name": "python3"
  },
  "language_info": {
   "codemirror_mode": {
    "name": "ipython",
    "version": 3
   },
   "file_extension": ".py",
   "mimetype": "text/x-python",
   "name": "python",
   "nbconvert_exporter": "python",
   "pygments_lexer": "ipython3",
   "version": "3.9.13"
  }
 },
 "nbformat": 4,
 "nbformat_minor": 5
}
