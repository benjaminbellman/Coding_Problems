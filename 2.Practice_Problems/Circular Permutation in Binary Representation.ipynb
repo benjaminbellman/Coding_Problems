{
 "cells": [
  {
   "cell_type": "markdown",
   "id": "0a892f47",
   "metadata": {},
   "source": [
    "# Circular Permutation in Binary Representation"
   ]
  },
  {
   "cell_type": "markdown",
   "id": "8ea99038",
   "metadata": {},
   "source": [
    "Given 2 integers n and start. Your task is return any permutation p of (0,1,2.....,2^n -1) such that :\n",
    "\n",
    "p[0] = start\n",
    "p[i] and p[i+1] differ by only one bit in their binary representation.\n",
    "p[0] and p[2^n -1] must also differ by only one bit in their binary representation.\n",
    " \n",
    "**Example 1:**\n",
    "\n",
    "Input: n = 2, start = 3\n",
    "Output: [3,2,0,1]\n",
    "Explanation: The binary representation of the permutation is (11,10,00,01). \n",
    "All the adjacent element differ by one bit. Another valid permutation is [3,1,0,2]\n",
    "\n",
    "**Example 2:**\n",
    "\n",
    "Input: n = 3, start = 2\n",
    "Output: [2,6,7,5,4,0,1,3]\n",
    "Explanation: The binary representation of the permutation is (010,110,111,101,100,000,001,011).\n",
    " \n",
    "**Constraints:**\n",
    "\n",
    "- 1 <= n <= 16\n",
    "- 0 <= start < 2 ^ n"
   ]
  },
  {
   "cell_type": "code",
   "execution_count": 1,
   "id": "4cbfddcd",
   "metadata": {},
   "outputs": [],
   "source": [
    "def circularPermutation(n, start):\n",
    "    # Generate standard Gray code sequence of 2^n elements\n",
    "    gray = [i ^ (i >> 1) for i in range(1 << n)]\n",
    "    \n",
    "    # Find the index where the sequence should start\n",
    "    start_index = gray.index(start)\n",
    "    \n",
    "    # Rotate the Gray code sequence so it starts at 'start'\n",
    "    return gray[start_index:] + gray[:start_index]"
   ]
  },
  {
   "cell_type": "code",
   "execution_count": 2,
   "id": "19c0920d",
   "metadata": {},
   "outputs": [
    {
     "name": "stdout",
     "output_type": "stream",
     "text": [
      "[3, 2, 0, 1]\n",
      "[2, 6, 7, 5, 4, 0, 1, 3]\n"
     ]
    }
   ],
   "source": [
    "print(circularPermutation(2, 3))  # Output: [3, 2, 0, 1]\n",
    "print(circularPermutation(3, 2))  # Output: [2, 6, 7, 5, 4, 0, 1, 3]"
   ]
  },
  {
   "cell_type": "code",
   "execution_count": null,
   "id": "a89256ba",
   "metadata": {},
   "outputs": [],
   "source": []
  }
 ],
 "metadata": {
  "kernelspec": {
   "display_name": "Python 3 (ipykernel)",
   "language": "python",
   "name": "python3"
  },
  "language_info": {
   "codemirror_mode": {
    "name": "ipython",
    "version": 3
   },
   "file_extension": ".py",
   "mimetype": "text/x-python",
   "name": "python",
   "nbconvert_exporter": "python",
   "pygments_lexer": "ipython3",
   "version": "3.8.11"
  }
 },
 "nbformat": 4,
 "nbformat_minor": 5
}
