{
 "cells": [
  {
   "cell_type": "markdown",
   "id": "d508775d-6f02-4328-bf86-7b307d3d025b",
   "metadata": {},
   "source": [
    "## Instructions\n",
    "Given an array of integers nums which is sorted in ascending order, and an integer target, write a function to search target in nums. If target exists, then return its index. Otherwise, return -1.\n",
    "\n",
    "You must write an algorithm with O(log n) runtime complexity."
   ]
  },
  {
   "cell_type": "markdown",
   "id": "21178b29-6087-461a-8635-ace0ec1178a9",
   "metadata": {},
   "source": [
    "**Example 1:**\n",
    "<br>Input: nums = [-1,0,3,5,9,12], target = 9\n",
    "<br>Output: 4\n",
    "<br>Explanation: 9 exists in nums and its index is 4"
   ]
  },
  {
   "cell_type": "markdown",
   "id": "4814744f-c3a7-48ca-a8d5-60ffaca4bd20",
   "metadata": {},
   "source": [
    "**Example 2:**\n",
    "<br>Input: nums = [-1,0,3,5,9,12], target = 2\n",
    "<br>Output: -1\n",
    "<br>Explanation: 2 does not exist in nums so return -1"
   ]
  },
  {
   "cell_type": "code",
   "execution_count": 22,
   "id": "9b6c159e-1664-4267-b167-8e7150916259",
   "metadata": {},
   "outputs": [
    {
     "data": {
      "text/plain": [
       "2"
      ]
     },
     "execution_count": 22,
     "metadata": {},
     "output_type": "execute_result"
    }
   ],
   "source": [
    "## MySolution\n",
    "nums = [-1,0,3,5,9,12]\n",
    "def search(nums, target):\n",
    "    numbers = []\n",
    "    for number in nums:\n",
    "        numbers.append(number)\n",
    "        if target in numbers:\n",
    "            return nums.index(target)\n",
    "    return -1\n",
    "        \n",
    "search(nums, 3)"
   ]
  },
  {
   "cell_type": "code",
   "execution_count": null,
   "id": "eb18666b-48ca-4f4a-80fa-5b184f8f8868",
   "metadata": {},
   "outputs": [],
   "source": [
    "## Binary Search Solution:\n",
    "def search(nums,target):\n",
    "    start =0\n",
    "    end = len(nums-1)\n",
    "    while start <= end:\n",
    "        mid = (start +end) // 2:\n",
    "            "
   ]
  },
  {
   "cell_type": "code",
   "execution_count": 26,
   "id": "dc7fbf69-dc1f-4cb1-bb52-fc8d78623fd4",
   "metadata": {},
   "outputs": [
    {
     "data": {
      "text/plain": [
       "1"
      ]
     },
     "execution_count": 26,
     "metadata": {},
     "output_type": "execute_result"
    }
   ],
   "source": [
    "53"
   ]
  },
  {
   "cell_type": "code",
   "execution_count": null,
   "id": "fbb998ab-f595-4159-98a8-9b86e7dd4948",
   "metadata": {},
   "outputs": [],
   "source": []
  }
 ],
 "metadata": {
  "kernelspec": {
   "display_name": "Python 3",
   "language": "python",
   "name": "python3"
  },
  "language_info": {
   "codemirror_mode": {
    "name": "ipython",
    "version": 3
   },
   "file_extension": ".py",
   "mimetype": "text/x-python",
   "name": "python",
   "nbconvert_exporter": "python",
   "pygments_lexer": "ipython3",
   "version": "3.9.12"
  }
 },
 "nbformat": 4,
 "nbformat_minor": 5
}
