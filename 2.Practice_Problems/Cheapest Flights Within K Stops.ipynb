{
 "cells": [
  {
   "cell_type": "markdown",
   "id": "70293ad3",
   "metadata": {},
   "source": [
    "# Cheapest Flights Within K Stops"
   ]
  },
  {
   "cell_type": "markdown",
   "id": "343fea85",
   "metadata": {},
   "source": [
    "There are n cities connected by some number of flights. You are given an array flights where flights[i] = [fromi, toi, pricei] indicates that there is a flight from city fromi to city toi with cost pricei.\n",
    "\n",
    "You are also given three integers src, dst, and k, return the cheapest price from src to dst with at most k stops. If there is no such route, return -1.\n",
    "\n",
    " \n",
    "\n",
    "**Example 1:**\n",
    "\n",
    "\n",
    "Input: n = 4, flights = [[0,1,100],[1,2,100],[2,0,100],[1,3,600],[2,3,200]], src = 0, dst = 3, k = 1\n",
    "\n",
    "Output: 700\n",
    "Explanation:\n",
    "The graph is shown above.\n",
    "The optimal path with at most 1 stop from city 0 to 3 is marked in red and has cost 100 + 600 = 700.\n",
    "Note that the path through cities [0,1,2,3] is cheaper but is invalid because it uses 2 stops.\n",
    "\n",
    "**Example 2:**\n",
    "\n",
    "\n",
    "Input: n = 3, flights = [[0,1,100],[1,2,100],[0,2,500]], src = 0, dst = 2, k = 1\n",
    "\n",
    "Output: 200\n",
    "Explanation:\n",
    "The graph is shown above.\n",
    "The optimal path with at most 1 stop from city 0 to 2 is marked in red and has cost 100 + 100 = 200.\n",
    "\n",
    "**Example 3:**\n",
    "\n",
    "\n",
    "Input: n = 3, flights = [[0,1,100],[1,2,100],[0,2,500]], src = 0, dst = 2, k = 0\n",
    "Output: 500\n",
    "Explanation:\n",
    "The graph is shown above.\n",
    "The optimal path with no stops from city 0 to 2 is marked in red and has cost 500.\n",
    " \n",
    "\n",
    "**Constraints:**\n",
    "\n",
    "- 1 <= n <= 100\n",
    "- 0 <= flights.length <= (n * (n - 1) / 2)\n",
    "- flights[i].length == 3\n",
    "- 0 <= fromi, toi < n\n",
    "- fromi != toi\n",
    "- 1 <= pricei <= 104\n",
    "- There will not be any multiple flights between two cities.\n",
    "- 0 <= src, dst, k < n\n",
    "- src != dst"
   ]
  },
  {
   "cell_type": "code",
   "execution_count": 1,
   "id": "8b69cd26",
   "metadata": {},
   "outputs": [
    {
     "name": "stdout",
     "output_type": "stream",
     "text": [
      "700\n"
     ]
    }
   ],
   "source": [
    "import heapq\n",
    "\n",
    "def findCheapestPrice(n, flights, src, dst, k):\n",
    "    # Create a graph represented as an adjacency list\n",
    "    graph = {}\n",
    "    for flight in flights:\n",
    "        u, v, w = flight\n",
    "        if u not in graph:\n",
    "            graph[u] = []\n",
    "        graph[u].append((v, w))\n",
    "\n",
    "    # Initialize a priority queue for Dijkstra's algorithm\n",
    "    pq = [(0, src, k + 1)]  # (cost, node, remaining stops)\n",
    "    \n",
    "    while pq:\n",
    "        cost, node, stops = heapq.heappop(pq)\n",
    "        if node == dst:\n",
    "            return cost\n",
    "        if stops > 0 and node in graph:\n",
    "            for neighbor, weight in graph[node]:\n",
    "                heapq.heappush(pq, (cost + weight, neighbor, stops - 1))\n",
    "    \n",
    "    return -1\n",
    "\n",
    "# Example usage:\n",
    "n = 4\n",
    "flights = [[0,1,100],[1,2,100],[2,0,100],[1,3,600],[2,3,200]]\n",
    "src = 0\n",
    "dst = 3\n",
    "k = 1\n",
    "print(findCheapestPrice(n, flights, src, dst, k))  # Output: 700"
   ]
  },
  {
   "cell_type": "code",
   "execution_count": null,
   "id": "974b2623",
   "metadata": {},
   "outputs": [],
   "source": []
  }
 ],
 "metadata": {
  "kernelspec": {
   "display_name": "Python 3",
   "language": "python",
   "name": "python3"
  },
  "language_info": {
   "codemirror_mode": {
    "name": "ipython",
    "version": 3
   },
   "file_extension": ".py",
   "mimetype": "text/x-python",
   "name": "python",
   "nbconvert_exporter": "python",
   "pygments_lexer": "ipython3",
   "version": "3.9.13"
  }
 },
 "nbformat": 4,
 "nbformat_minor": 5
}
