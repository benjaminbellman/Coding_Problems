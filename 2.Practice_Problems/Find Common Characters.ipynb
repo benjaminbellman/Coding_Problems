{
 "cells": [
  {
   "cell_type": "markdown",
   "id": "b048950f",
   "metadata": {},
   "source": [
    "# Find Common Characters"
   ]
  },
  {
   "cell_type": "markdown",
   "id": "a147adc8",
   "metadata": {},
   "source": [
    "Given a string array words, return an array of all characters that show up in all strings within the words (including duplicates). You may return the answer in any order.\n",
    "\n",
    "**Example 1:**\n",
    "\n",
    "Input: words = [\"bella\",\"label\",\"roller\"]\n",
    "Output: [\"e\",\"l\",\"l\"]\n",
    "\n",
    "**Example 2:**\n",
    "\n",
    "Input: words = [\"cool\",\"lock\",\"cook\"]\n",
    "Output: [\"c\",\"o\"]\n",
    " \n",
    "**Constraints:**\n",
    "\n",
    "- 1 <= words.length <= 100\n",
    "- 1 <= words[i].length <= 100\n",
    "- words[i] consists of lowercase English letters."
   ]
  },
  {
   "cell_type": "code",
   "execution_count": 1,
   "id": "f3f619e7",
   "metadata": {},
   "outputs": [],
   "source": [
    "from collections import Counter\n",
    "\n",
    "def commonChars(words):\n",
    "    # Initialize the result counter with the character counts of the first word\n",
    "    common_count = Counter(words[0])\n",
    "    \n",
    "    # Intersect counts with each subsequent word\n",
    "    for word in words[1:]:\n",
    "        word_count = Counter(word)\n",
    "        for char in common_count:\n",
    "            common_count[char] = min(common_count[char], word_count[char])\n",
    "    \n",
    "    # Build the result list with the characters repeated as per their minimum count\n",
    "    result = []\n",
    "    for char, count in common_count.items():\n",
    "        result.extend([char] * count)\n",
    "    \n",
    "    return result"
   ]
  },
  {
   "cell_type": "code",
   "execution_count": null,
   "id": "fee3f74b",
   "metadata": {},
   "outputs": [],
   "source": []
  }
 ],
 "metadata": {
  "kernelspec": {
   "display_name": "Python 3 (ipykernel)",
   "language": "python",
   "name": "python3"
  },
  "language_info": {
   "codemirror_mode": {
    "name": "ipython",
    "version": 3
   },
   "file_extension": ".py",
   "mimetype": "text/x-python",
   "name": "python",
   "nbconvert_exporter": "python",
   "pygments_lexer": "ipython3",
   "version": "3.8.11"
  }
 },
 "nbformat": 4,
 "nbformat_minor": 5
}
