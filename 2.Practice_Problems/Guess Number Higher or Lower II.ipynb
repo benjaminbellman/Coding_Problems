{
 "cells": [
  {
   "cell_type": "markdown",
   "id": "3d7c1838",
   "metadata": {},
   "source": [
    "# Guess Number Higher or Lower II"
   ]
  },
  {
   "cell_type": "markdown",
   "id": "be039887",
   "metadata": {},
   "source": [
    "We are playing the Guessing Game. The game will work as follows:\n",
    "\n",
    "I pick a number between 1 and n.\n",
    "You guess a number.\n",
    "If you guess the right number, you win the game.\n",
    "If you guess the wrong number, then I will tell you whether the number I picked is higher or lower, and you will continue guessing.\n",
    "Every time you guess a wrong number x, you will pay x dollars. If you run out of money, you lose the game.\n",
    "Given a particular n, return the minimum amount of money you need to guarantee a win regardless of what number I pick.\n",
    "\n",
    " \n",
    "\n",
    "**Example 1:**\n",
    "\n",
    "\n",
    "Input: n = 10\n",
    "Output: 16\n",
    "Explanation: The winning strategy is as follows:\n",
    "- The range is [1,10]. Guess 7.\n",
    "    - If this is my number, your total is $0. Otherwise, you pay $7.\n",
    "    - If my number is higher, the range is [8,10]. Guess 9.\n",
    "        - If this is my number, your total is $7. Otherwise, you pay $9.\n",
    "        - If my number is higher, it must be 10. Guess 10. Your total is $7 + $9 = $16.\n",
    "        - If my number is lower, it must be 8. Guess 8. Your total is $7 + $9 = $16.\n",
    "    - If my number is lower, the range is [1,6]. Guess 3.\n",
    "        - If this is my number, your total is $7. Otherwise, you pay $3.\n",
    "        - If my number is higher, the range is [4,6]. Guess 5.\n",
    "            - If this is my number, your total is $7 + $3 = $10. Otherwise, you pay $5.\n",
    "            - If my number is higher, it must be 6. Guess 6. Your total is $7 + $3 + $5 = $15.\n",
    "            - If my number is lower, it must be 4. Guess 4. Your total is $7 + $3 + $5 = $15.\n",
    "        - If my number is lower, the range is [1,2]. Guess 1.\n",
    "            - If this is my number, your total is $7 + $3 = $10. Otherwise, you pay $1.\n",
    "            - If my number is higher, it must be 2. Guess 2. Your total is $7 + $3 + $1 = $11.\n",
    "The worst case in all these scenarios is that you pay $16. Hence, you only need $16 to guarantee a win.\n",
    "\n",
    "**Example 2:**\n",
    "\n",
    "Input: n = 1\n",
    "Output: 0\n",
    "Explanation: There is only one possible number, so you can guess 1 and not have to pay anything.\n",
    "\n",
    "**Example 3:**\n",
    "\n",
    "Input: n = 2\n",
    "Output: 1\n",
    "Explanation: There are two possible numbers, 1 and 2.\n",
    "- Guess 1.\n",
    "    - If this is my number, your total is $0. Otherwise, you pay $1.\n",
    "    - If my number is higher, it must be 2. Guess 2. Your total is $1.\n",
    "The worst case is that you pay $1.\n",
    " \n",
    "\n",
    "**Constraints:**\n",
    "\n",
    "1 <= n <= 200"
   ]
  },
  {
   "cell_type": "code",
   "execution_count": 1,
   "id": "39aa06af",
   "metadata": {},
   "outputs": [],
   "source": [
    "def getMoneyAmount(n: int) -> int:\n",
    "    # Initialize the table for storing the minimum amount required to guess numbers\n",
    "    # in the range [i,j].\n",
    "    table = [[0] * (n + 1) for _ in range(n + 1)]\n",
    "    \n",
    "    # Iterate over all possible ranges of numbers.\n",
    "    for i in range(n, 0, -1):\n",
    "        for j in range(i + 1, n + 1):\n",
    "            # Initialize the minimum cost to be infinity.\n",
    "            min_cost = float('inf')\n",
    "            # Iterate over all possible guesses between i and j.\n",
    "            for k in range(i, j):\n",
    "                # Calculate the maximum of the cost of guessing k and the maximum cost\n",
    "                # of guessing a number between i and k-1 or a number between k+1 and j.\n",
    "                cost = k + max(table[i][k-1], table[k+1][j])\n",
    "                # Update the minimum cost if necessary.\n",
    "                min_cost = min(min_cost, cost)\n",
    "            table[i][j] = min_cost\n",
    "    # The minimum amount required to guarantee a win is stored in table[1][n].\n",
    "    return table[1][n]"
   ]
  },
  {
   "cell_type": "code",
   "execution_count": 2,
   "id": "52327ec1",
   "metadata": {},
   "outputs": [],
   "source": [
    "assert getMoneyAmount(10) == 16\n",
    "assert getMoneyAmount(1) == 0\n",
    "assert getMoneyAmount(2) == 1"
   ]
  }
 ],
 "metadata": {
  "kernelspec": {
   "display_name": "Python 3",
   "language": "python",
   "name": "python3"
  },
  "language_info": {
   "codemirror_mode": {
    "name": "ipython",
    "version": 3
   },
   "file_extension": ".py",
   "mimetype": "text/x-python",
   "name": "python",
   "nbconvert_exporter": "python",
   "pygments_lexer": "ipython3",
   "version": "3.9.13"
  }
 },
 "nbformat": 4,
 "nbformat_minor": 5
}
