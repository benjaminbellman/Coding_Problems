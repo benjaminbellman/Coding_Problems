{
 "cells": [
  {
   "cell_type": "markdown",
   "id": "6185d193",
   "metadata": {},
   "source": [
    "# Construct Binary Tree from Preorder and Inorder Traversal"
   ]
  },
  {
   "cell_type": "markdown",
   "id": "7f459c49",
   "metadata": {},
   "source": [
    "Given two integer arrays preorder and inorder where preorder is the preorder traversal of a binary tree and inorder is the inorder traversal of the same tree, construct and return the binary tree.\n",
    "\n",
    "**Example 1:**\n",
    "\n",
    "Input: preorder = [3,9,20,15,7], inorder = [9,3,15,20,7]\n",
    "Output: [3,9,20,null,null,15,7]\n",
    "\n",
    "**Example 2:**\n",
    "\n",
    "Input: preorder = [-1], inorder = [-1]\n",
    "Output: [-1]\n",
    " \n",
    "**Constraints:**\n",
    "\n",
    "- 1 <= preorder.length <= 3000\n",
    "- inorder.length == preorder.length\n",
    "- -3000 <= preorder[i], inorder[i] <= 3000\n",
    "- preorder and inorder consist of unique values.\n",
    "- Each value of inorder also appears in preorder.\n",
    "- preorder is guaranteed to be the preorder traversal of the tree.\n",
    "- inorder is guaranteed to be the inorder traversal of the tree."
   ]
  },
  {
   "cell_type": "code",
   "execution_count": 1,
   "id": "02bad644",
   "metadata": {},
   "outputs": [],
   "source": [
    "# Definition for a binary tree node.\n",
    "class TreeNode:\n",
    "    def __init__(self, val=0, left=None, right=None):\n",
    "        self.val = val\n",
    "        self.left = left\n",
    "        self.right = right\n",
    "\n",
    "def buildTree(preorder, inorder):\n",
    "    # Map each value to its index in inorder for O(1) splits\n",
    "    pos = {v: i for i, v in enumerate(inorder)}\n",
    "    pre_i = 0  # current index in preorder\n",
    "\n",
    "    def helper(lo, hi):\n",
    "        nonlocal pre_i\n",
    "        if lo > hi:              # empty subtree\n",
    "            return None\n",
    "        root_val = preorder[pre_i]\n",
    "        pre_i += 1\n",
    "        root = TreeNode(root_val)\n",
    "        mid = pos[root_val]      # split inorder into left / right\n",
    "        root.left = helper(lo, mid - 1)\n",
    "        root.right = helper(mid + 1, hi)\n",
    "        return root\n",
    "\n",
    "    return helper(0, len(inorder) - 1)"
   ]
  },
  {
   "cell_type": "code",
   "execution_count": null,
   "id": "60f2de95",
   "metadata": {},
   "outputs": [],
   "source": []
  }
 ],
 "metadata": {
  "kernelspec": {
   "display_name": "Python 3 (ipykernel)",
   "language": "python",
   "name": "python3"
  },
  "language_info": {
   "codemirror_mode": {
    "name": "ipython",
    "version": 3
   },
   "file_extension": ".py",
   "mimetype": "text/x-python",
   "name": "python",
   "nbconvert_exporter": "python",
   "pygments_lexer": "ipython3",
   "version": "3.8.11"
  }
 },
 "nbformat": 4,
 "nbformat_minor": 5
}
