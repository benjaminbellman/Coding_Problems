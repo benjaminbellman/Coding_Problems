{
 "cells": [
  {
   "cell_type": "markdown",
   "id": "30c04842",
   "metadata": {},
   "source": [
    "# Prefix and Suffix Search"
   ]
  },
  {
   "cell_type": "markdown",
   "id": "dda0e6a0",
   "metadata": {},
   "source": [
    "Design a special dictionary that searches the words in it by a prefix and a suffix.\n",
    "\n",
    "Implement the WordFilter class:\n",
    "\n",
    "WordFilter(string[] words) Initializes the object with the words in the dictionary.\n",
    "f(string pref, string suff) Returns the index of the word in the dictionary, which has the prefix pref and the suffix suff. If there is more than one valid index, return the largest of them. If there is no such word in the dictionary, return -1.\n",
    " \n",
    "\n",
    "**Example 1:**\n",
    "\n",
    "Input\n",
    "\n",
    "    [\"WordFilter\", \"f\"]\n",
    "    [[[\"apple\"]], [\"a\", \"e\"]]\n",
    "\n",
    "Output\n",
    "\n",
    "    [null, 0]\n",
    "    Explanation\n",
    "    WordFilter wordFilter = new WordFilter([\"apple\"]);\n",
    "    wordFilter.f(\"a\", \"e\"); // return 0, because the word at index 0 has prefix = \"a\" and suffix = \"e\".\n",
    " \n",
    "\n",
    "**Constraints:**\n",
    "\n",
    "- 1 <= words.length <= 104\n",
    "- 1 <= words[i].length <= 7\n",
    "- 1 <= pref.length, suff.length <= 7\n",
    "- words[i], pref and suff consist of lowercase English letters only.\n",
    "- At most 104 calls will be made to the function f."
   ]
  },
  {
   "cell_type": "code",
   "execution_count": 1,
   "id": "48132d31",
   "metadata": {},
   "outputs": [
    {
     "name": "stdout",
     "output_type": "stream",
     "text": [
      "-1\n"
     ]
    }
   ],
   "source": [
    "class TrieNode:\n",
    "    def __init__(self):\n",
    "        self.children = {}\n",
    "        self.index = -1\n",
    "\n",
    "class WordFilter:\n",
    "    def __init__(self, words):\n",
    "        self.root = TrieNode()\n",
    "        for index, word in enumerate(words):\n",
    "            self._insert(word, index)\n",
    "    \n",
    "    def _insert(self, word, index):\n",
    "        node = self.root\n",
    "        for char in word:\n",
    "            if char not in node.children:\n",
    "                node.children[char] = TrieNode()\n",
    "            node = node.children[char]\n",
    "            node.index = index\n",
    "        \n",
    "    def _search(self, word):\n",
    "        node = self.root\n",
    "        for char in word:\n",
    "            if char not in node.children:\n",
    "                return -1\n",
    "            node = node.children[char]\n",
    "        return node.index\n",
    "    \n",
    "    def f(self, pref, suff):\n",
    "        return self._search(suff + '#' + pref)\n",
    "\n",
    "# Example usage:\n",
    "words = [\"apple\", \"banana\", \"apply\", \"apricot\"]\n",
    "wordFilter = WordFilter(words)\n",
    "print(wordFilter.f(\"a\", \"e\"))  # Output: 0"
   ]
  },
  {
   "cell_type": "code",
   "execution_count": null,
   "id": "0306213d",
   "metadata": {},
   "outputs": [],
   "source": []
  }
 ],
 "metadata": {
  "kernelspec": {
   "display_name": "Python 3",
   "language": "python",
   "name": "python3"
  },
  "language_info": {
   "codemirror_mode": {
    "name": "ipython",
    "version": 3
   },
   "file_extension": ".py",
   "mimetype": "text/x-python",
   "name": "python",
   "nbconvert_exporter": "python",
   "pygments_lexer": "ipython3",
   "version": "3.9.13"
  }
 },
 "nbformat": 4,
 "nbformat_minor": 5
}
