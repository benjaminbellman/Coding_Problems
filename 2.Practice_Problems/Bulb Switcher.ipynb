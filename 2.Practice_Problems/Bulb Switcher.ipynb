{
 "cells": [
  {
   "cell_type": "markdown",
   "id": "2bca6b0d",
   "metadata": {},
   "source": [
    "# Bulb Switcher"
   ]
  },
  {
   "cell_type": "markdown",
   "id": "21a5daf9",
   "metadata": {},
   "source": [
    "There are n bulbs that are initially off. You first turn on all the bulbs, then you turn off every second bulb.\n",
    "\n",
    "On the third round, you toggle every third bulb (turning on if it's off or turning off if it's on). For the ith round, you toggle every i bulb. For the nth round, you only toggle the last bulb.\n",
    "\n",
    "Return the number of bulbs that are on after n rounds.\n",
    "\n",
    " \n",
    "\n",
    "**Example 1:**\n",
    "\n",
    "\n",
    "Input: n = 3\n",
    "Output: 1\n",
    "Explanation: At first, the three bulbs are [off, off, off].\n",
    "After the first round, the three bulbs are [on, on, on].\n",
    "After the second round, the three bulbs are [on, off, on].\n",
    "After the third round, the three bulbs are [on, off, off]. \n",
    "So you should return 1 because there is only one bulb is on.\n",
    "\n",
    "**Example 2:**\n",
    "\n",
    "Input: n = 0\n",
    "Output: 0\n",
    "\n",
    "**Example 3:**\n",
    "\n",
    "Input: n = 1\n",
    "Output: 1\n",
    " \n",
    "\n",
    "**Constraints:**\n",
    "\n",
    "0 <= n <= 109"
   ]
  },
  {
   "cell_type": "code",
   "execution_count": 1,
   "id": "b77de382",
   "metadata": {},
   "outputs": [],
   "source": [
    "import math\n",
    "\n",
    "def bulbSwitch(n):\n",
    "    return int(math.sqrt(n))"
   ]
  },
  {
   "cell_type": "code",
   "execution_count": 2,
   "id": "3fe6d9bb",
   "metadata": {},
   "outputs": [
    {
     "name": "stdout",
     "output_type": "stream",
     "text": [
      "1\n",
      "0\n",
      "1\n"
     ]
    }
   ],
   "source": [
    "# Example 1\n",
    "n = 3\n",
    "print(bulbSwitch(n))  # Output: 1\n",
    "\n",
    "# Example 2\n",
    "n = 0\n",
    "print(bulbSwitch(n))  # Output: 0\n",
    "\n",
    "# Example 3\n",
    "n = 1\n",
    "print(bulbSwitch(n))  # Output: 1"
   ]
  },
  {
   "cell_type": "code",
   "execution_count": null,
   "id": "21b43b83",
   "metadata": {},
   "outputs": [],
   "source": []
  }
 ],
 "metadata": {
  "kernelspec": {
   "display_name": "Python 3",
   "language": "python",
   "name": "python3"
  },
  "language_info": {
   "codemirror_mode": {
    "name": "ipython",
    "version": 3
   },
   "file_extension": ".py",
   "mimetype": "text/x-python",
   "name": "python",
   "nbconvert_exporter": "python",
   "pygments_lexer": "ipython3",
   "version": "3.9.13"
  }
 },
 "nbformat": 4,
 "nbformat_minor": 5
}
