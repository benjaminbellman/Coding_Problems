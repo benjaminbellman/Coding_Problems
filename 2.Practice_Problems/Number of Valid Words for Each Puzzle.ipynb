{
 "cells": [
  {
   "cell_type": "markdown",
   "id": "13b729d1",
   "metadata": {},
   "source": [
    "# Number of Valid Words for Each Puzzle"
   ]
  },
  {
   "cell_type": "markdown",
   "id": "8af87e62",
   "metadata": {},
   "source": [
    "With respect to a given puzzle string, a word is valid if both the following conditions are satisfied:\n",
    "word contains the first letter of puzzle.\n",
    "For each letter in word, that letter is in puzzle.\n",
    "For example, if the puzzle is \"abcdefg\", then valid words are \"faced\", \"cabbage\", and \"baggage\", while\n",
    "invalid words are \"beefed\" (does not include 'a') and \"based\" (includes 's' which is not in the puzzle).\n",
    "Return an array answer, where answer[i] is the number of words in the given word list words that is valid with respect to the puzzle puzzles[i].\n",
    "\n",
    "**Example 1:**\n",
    "\n",
    "Input: words = [\"aaaa\",\"asas\",\"able\",\"ability\",\"actt\",\"actor\",\"access\"], puzzles = [\"aboveyz\",\"abrodyz\",\"abslute\",\"absoryz\",\"actresz\",\"gaswxyz\"]\n",
    "Output: [1,1,3,2,4,0]\n",
    "Explanation: \n",
    "1 valid word for \"aboveyz\" : \"aaaa\" \n",
    "1 valid word for \"abrodyz\" : \"aaaa\"\n",
    "3 valid words for \"abslute\" : \"aaaa\", \"asas\", \"able\"\n",
    "2 valid words for \"absoryz\" : \"aaaa\", \"asas\"\n",
    "4 valid words for \"actresz\" : \"aaaa\", \"asas\", \"actt\", \"access\"\n",
    "There are no valid words for \"gaswxyz\" cause none of the words in the list contains letter 'g'.\n",
    "\n",
    "**Example 2:**\n",
    "\n",
    "Input: words = [\"apple\",\"pleas\",\"please\"], puzzles = [\"aelwxyz\",\"aelpxyz\",\"aelpsxy\",\"saelpxy\",\"xaelpsy\"]\n",
    "Output: [0,1,3,2,0]\n",
    " \n",
    "**Constraints:**\n",
    "\n",
    "- 1 <= words.length <= 105\n",
    "- 4 <= words[i].length <= 50\n",
    "- 1 <= puzzles.length <= 104\n",
    "- puzzles[i].length == 7\n",
    "- words[i] and puzzles[i] consist of lowercase English letters.\n",
    "- Each puzzles[i] does not contain repeated characters."
   ]
  },
  {
   "cell_type": "code",
   "execution_count": 1,
   "id": "c3849f16",
   "metadata": {},
   "outputs": [],
   "source": [
    "from collections import Counter\n",
    "\n",
    "def findNumOfValidWords(words, puzzles):\n",
    "    # Convert words to bitmask and count frequencies\n",
    "    word_count = Counter()\n",
    "    \n",
    "    def get_bitmask(word):\n",
    "        bitmask = 0\n",
    "        for char in word:\n",
    "            bitmask |= (1 << (ord(char) - ord('a')))\n",
    "        return bitmask\n",
    "\n",
    "    for word in words:\n",
    "        bitmask = get_bitmask(word)\n",
    "        word_count[bitmask] += 1  # Store frequency of each word bitmask\n",
    "\n",
    "    # Process each puzzle\n",
    "    result = []\n",
    "\n",
    "    for puzzle in puzzles:\n",
    "        first_char_bit = 1 << (ord(puzzle[0]) - ord('a'))  # Bitmask for first letter\n",
    "        puzzle_bitmask = get_bitmask(puzzle)\n",
    "        \n",
    "        # Generate all subsets of the puzzle bitmask that contain the first letter\n",
    "        subset = puzzle_bitmask\n",
    "        count = 0\n",
    "\n",
    "        while subset:\n",
    "            if subset & first_char_bit:  # Must contain the first letter\n",
    "                count += word_count.get(subset, 0)\n",
    "            subset = (subset - 1) & puzzle_bitmask  # Generate next subset\n",
    "        \n",
    "        result.append(count)\n",
    "    \n",
    "    return result"
   ]
  },
  {
   "cell_type": "code",
   "execution_count": null,
   "id": "cba3fd90",
   "metadata": {},
   "outputs": [],
   "source": []
  }
 ],
 "metadata": {
  "kernelspec": {
   "display_name": "Python 3 (ipykernel)",
   "language": "python",
   "name": "python3"
  },
  "language_info": {
   "codemirror_mode": {
    "name": "ipython",
    "version": 3
   },
   "file_extension": ".py",
   "mimetype": "text/x-python",
   "name": "python",
   "nbconvert_exporter": "python",
   "pygments_lexer": "ipython3",
   "version": "3.8.11"
  }
 },
 "nbformat": 4,
 "nbformat_minor": 5
}
