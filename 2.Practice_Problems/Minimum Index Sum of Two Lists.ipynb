{
 "cells": [
  {
   "cell_type": "markdown",
   "id": "a5619174",
   "metadata": {},
   "source": [
    "# Minimum Index Sum of Two Lists"
   ]
  },
  {
   "cell_type": "markdown",
   "id": "17dad420",
   "metadata": {},
   "source": [
    "Given two arrays of strings list1 and list2, find the common strings with the least index sum.\n",
    "\n",
    "A common string is a string that appeared in both list1 and list2.\n",
    "\n",
    "A common string with the least index sum is a common string such that if it appeared at list1[i] and list2[j] then i + j should be the minimum value among all the other common strings.\n",
    "\n",
    "Return all the common strings with the least index sum. Return the answer in any order.\n",
    "\n",
    " \n",
    "\n",
    "**Example 1:**\n",
    "\n",
    "Input: list1 = [\"Shogun\",\"Tapioca Express\",\"Burger King\",\"KFC\"], list2 = [\"Piatti\",\"The Grill at Torrey Pines\",\"Hungry Hunter Steakhouse\",\"Shogun\"]\n",
    "\n",
    "Output: [\"Shogun\"]\n",
    "Explanation: The only common string is \"Shogun\".\n",
    "\n",
    "**Example 2:**\n",
    "\n",
    "Input: list1 = [\"Shogun\",\"Tapioca Express\",\"Burger King\",\"KFC\"], list2 = [\"KFC\",\"Shogun\",\"Burger King\"]\n",
    "\n",
    "Output: [\"Shogun\"]\n",
    "Explanation: The common string with the least index sum is \"Shogun\" with index sum = (0 + 1) = 1.\n",
    "\n",
    "**Example 3:**\n",
    "\n",
    "Input: list1 = [\"happy\",\"sad\",\"good\"], list2 = [\"sad\",\"happy\",\"good\"]\n",
    "\n",
    "Output: [\"sad\",\"happy\"]\n",
    "Explanation: There are three common strings:\n",
    "\"happy\" with index sum = (0 + 1) = 1.\n",
    "\"sad\" with index sum = (1 + 0) = 1.\n",
    "\"good\" with index sum = (2 + 2) = 4.\n",
    "The strings with the least index sum are \"sad\" and \"happy\".\n",
    " \n",
    "\n",
    "**Constraints:**\n",
    "\n",
    "- 1 <= list1.length, list2.length <= 1000\n",
    "- 1 <= list1[i].length, list2[i].length <= 30\n",
    "- list1[i] and list2[i] consist of spaces ' ' and English letters.\n",
    "- All the strings of list1 are unique.\n",
    "- All the strings of list2 are unique.\n",
    "- There is at least a common string between list1 and list2."
   ]
  },
  {
   "cell_type": "code",
   "execution_count": 1,
   "id": "b6c2a702",
   "metadata": {},
   "outputs": [
    {
     "name": "stdout",
     "output_type": "stream",
     "text": [
      "['Shogun']\n",
      "['Shogun']\n",
      "['sad', 'happy']\n"
     ]
    }
   ],
   "source": [
    "def findRestaurant(list1, list2):\n",
    "    # Create a dictionary to store the indices of strings in list1\n",
    "    index_map = {string: index for index, string in enumerate(list1)}\n",
    "\n",
    "    # Initialize variables to track the minimum sum of indices and the result list\n",
    "    min_sum = float('inf')\n",
    "    result = []\n",
    "\n",
    "    # Iterate over list2 to find common strings and calculate index sum\n",
    "    for index2, string in enumerate(list2):\n",
    "        if string in index_map:\n",
    "            index_sum = index_map[string] + index2\n",
    "            # Update the minimum sum and result if a new minimum is found\n",
    "            if index_sum < min_sum:\n",
    "                min_sum = index_sum\n",
    "                result = [string]\n",
    "            # Add the string to result if it has the same minimum index sum\n",
    "            elif index_sum == min_sum:\n",
    "                result.append(string)\n",
    "\n",
    "    return result\n",
    "\n",
    "# Test the function with the given examples\n",
    "list1 = [\"Shogun\", \"Tapioca Express\", \"Burger King\", \"KFC\"]\n",
    "list2 = [\"Piatti\", \"The Grill at Torrey Pines\", \"Hungry Hunter Steakhouse\", \"Shogun\"]\n",
    "print(findRestaurant(list1, list2))  # [\"Shogun\"]\n",
    "\n",
    "list1 = [\"Shogun\", \"Tapioca Express\", \"Burger King\", \"KFC\"]\n",
    "list2 = [\"KFC\", \"Shogun\", \"Burger King\"]\n",
    "print(findRestaurant(list1, list2))  # [\"Shogun\"]\n",
    "\n",
    "list1 = [\"happy\", \"sad\", \"good\"]\n",
    "list2 = [\"sad\", \"happy\", \"good\"]\n",
    "print(findRestaurant(list1, list2))  # [\"sad\", \"happy\"]"
   ]
  },
  {
   "cell_type": "code",
   "execution_count": null,
   "id": "a8552bc5",
   "metadata": {},
   "outputs": [],
   "source": []
  }
 ],
 "metadata": {
  "kernelspec": {
   "display_name": "Python 3",
   "language": "python",
   "name": "python3"
  },
  "language_info": {
   "codemirror_mode": {
    "name": "ipython",
    "version": 3
   },
   "file_extension": ".py",
   "mimetype": "text/x-python",
   "name": "python",
   "nbconvert_exporter": "python",
   "pygments_lexer": "ipython3",
   "version": "3.9.13"
  }
 },
 "nbformat": 4,
 "nbformat_minor": 5
}
