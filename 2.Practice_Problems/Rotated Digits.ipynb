{
 "cells": [
  {
   "cell_type": "markdown",
   "id": "7c05b5f0",
   "metadata": {},
   "source": [
    "# Rotated Digits"
   ]
  },
  {
   "cell_type": "markdown",
   "id": "0afdb47a",
   "metadata": {},
   "source": [
    "An integer x is a good if after rotating each digit individually by 180 degrees, we get a valid number that is different from x. Each digit must be rotated - we cannot choose to leave it alone.\n",
    "\n",
    "A number is valid if each digit remains a digit after rotation. For example:\n",
    "\n",
    "0, 1, and 8 rotate to themselves,\n",
    "2 and 5 rotate to each other (in this case they are rotated in a different direction, in other words, 2 or 5 gets mirrored),\n",
    "6 and 9 rotate to each other, and\n",
    "the rest of the numbers do not rotate to any other number and become invalid.\n",
    "Given an integer n, return the number of good integers in the range [1, n].\n",
    "\n",
    " \n",
    "\n",
    "**Example 1:**\n",
    "\n",
    "Input: n = 10\n",
    "\n",
    "Output: 4\n",
    "Explanation: There are four good numbers in the range [1, 10] : 2, 5, 6, 9.\n",
    "Note that 1 and 10 are not good numbers, since they remain unchanged after rotating.\n",
    "\n",
    "**Example 2:**\n",
    "\n",
    "Input: n = 1\n",
    "\n",
    "Output: 0\n",
    "\n",
    "**Example 3:**\n",
    "\n",
    "Input: n = 2\n",
    "\n",
    "Output: 1\n",
    " \n",
    "\n",
    "**Constraints:**\n",
    "\n",
    "- 1 <= n <= 104"
   ]
  },
  {
   "cell_type": "code",
   "execution_count": 1,
   "id": "1a8bba30",
   "metadata": {},
   "outputs": [],
   "source": [
    "def count_good_numbers(n):\n",
    "    good_count = 0\n",
    "    valid_rotations = {'0': '0', '1': '1', '2': '5', '5': '2', '6': '9', '9': '6'}\n",
    "    \n",
    "    for num in range(1, n + 1):\n",
    "        num_str = str(num)\n",
    "        rotated_num = ''\n",
    "        valid = True\n",
    "        \n",
    "        for digit in num_str:\n",
    "            if digit not in valid_rotations:\n",
    "                valid = False\n",
    "                break\n",
    "            rotated_num += valid_rotations[digit]\n",
    "        \n",
    "        if valid and rotated_num != num_str:\n",
    "            good_count += 1\n",
    "    \n",
    "    return good_count"
   ]
  },
  {
   "cell_type": "code",
   "execution_count": 2,
   "id": "e4ab6f3b",
   "metadata": {},
   "outputs": [
    {
     "name": "stdout",
     "output_type": "stream",
     "text": [
      "4\n",
      "0\n",
      "1\n"
     ]
    }
   ],
   "source": [
    "print(count_good_numbers(10))  # Output: 4\n",
    "print(count_good_numbers(1))   # Output: 0\n",
    "print(count_good_numbers(2))   # Output: 1"
   ]
  },
  {
   "cell_type": "code",
   "execution_count": null,
   "id": "1858b16b",
   "metadata": {},
   "outputs": [],
   "source": []
  }
 ],
 "metadata": {
  "kernelspec": {
   "display_name": "Python 3",
   "language": "python",
   "name": "python3"
  },
  "language_info": {
   "codemirror_mode": {
    "name": "ipython",
    "version": 3
   },
   "file_extension": ".py",
   "mimetype": "text/x-python",
   "name": "python",
   "nbconvert_exporter": "python",
   "pygments_lexer": "ipython3",
   "version": "3.9.13"
  }
 },
 "nbformat": 4,
 "nbformat_minor": 5
}
