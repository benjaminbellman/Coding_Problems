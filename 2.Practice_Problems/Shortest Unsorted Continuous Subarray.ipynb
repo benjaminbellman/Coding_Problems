{
 "cells": [
  {
   "cell_type": "markdown",
   "id": "f1654923",
   "metadata": {},
   "source": [
    "# Shortest Unsorted Continuous Subarray"
   ]
  },
  {
   "cell_type": "markdown",
   "id": "64454b90",
   "metadata": {},
   "source": [
    "Given an integer array nums, you need to find one continuous subarray such that if you only sort this subarray in non-decreasing order, then the whole array will be sorted in non-decreasing order.\n",
    "\n",
    "Return the shortest such subarray and output its length.\n",
    "\n",
    " \n",
    "\n",
    "**Example 1:**\n",
    "\n",
    "Input: nums = [2,6,4,8,10,9,15]\n",
    "\n",
    "Output: 5\n",
    "Explanation: You need to sort [6, 4, 8, 10, 9] in ascending order to make the whole array sorted in ascending order.\n",
    "\n",
    "**Example 2:**\n",
    "\n",
    "Input: nums = [1,2,3,4]\n",
    "\n",
    "Output: 0\n",
    "\n",
    "**Example 3:**\n",
    "\n",
    "Input: nums = [1]\n",
    "\n",
    "Output: 0\n",
    " \n",
    "\n",
    "**Constraints:**\n",
    "\n",
    "- 1 <= nums.length <= 104\n",
    "- -105 <= nums[i] <= 105"
   ]
  },
  {
   "cell_type": "code",
   "execution_count": 1,
   "id": "21e49f15",
   "metadata": {},
   "outputs": [
    {
     "name": "stdout",
     "output_type": "stream",
     "text": [
      "5\n",
      "0\n",
      "0\n"
     ]
    }
   ],
   "source": [
    "def findUnsortedSubarray(nums):\n",
    "    n = len(nums)\n",
    "    if n <= 1:\n",
    "        return 0\n",
    "\n",
    "    # Step 1 and 2: Finding the initial boundaries of the unsorted subarray\n",
    "    left, right = 0, n - 1\n",
    "    while left < n - 1 and nums[left] <= nums[left + 1]:\n",
    "        left += 1\n",
    "    while right > 0 and nums[right] >= nums[right - 1]:\n",
    "        right -= 1\n",
    "\n",
    "    # If the array is already sorted\n",
    "    if left >= right:\n",
    "        return 0\n",
    "\n",
    "    # Step 3: Finding the min and max in the unsorted subarray\n",
    "    subarray_min = min(nums[left:right + 1])\n",
    "    subarray_max = max(nums[left:right + 1])\n",
    "\n",
    "    # Step 4: Expanding the left boundary\n",
    "    while left > 0 and nums[left - 1] > subarray_min:\n",
    "        left -= 1\n",
    "\n",
    "    # Step 5: Expanding the right boundary\n",
    "    while right < n - 1 and nums[right + 1] < subarray_max:\n",
    "        right += 1\n",
    "\n",
    "    # Step 6: Calculate the length\n",
    "    return right - left + 1\n",
    "\n",
    "# Test the function with the provided examples\n",
    "print(findUnsortedSubarray([2, 6, 4, 8, 10, 9, 15]))  # Output: 5\n",
    "print(findUnsortedSubarray([1, 2, 3, 4]))             # Output: 0\n",
    "print(findUnsortedSubarray([1]))                      # Output: 0"
   ]
  }
 ],
 "metadata": {
  "kernelspec": {
   "display_name": "Python 3",
   "language": "python",
   "name": "python3"
  },
  "language_info": {
   "codemirror_mode": {
    "name": "ipython",
    "version": 3
   },
   "file_extension": ".py",
   "mimetype": "text/x-python",
   "name": "python",
   "nbconvert_exporter": "python",
   "pygments_lexer": "ipython3",
   "version": "3.9.13"
  }
 },
 "nbformat": 4,
 "nbformat_minor": 5
}
