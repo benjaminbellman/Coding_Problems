{
 "cells": [
  {
   "cell_type": "markdown",
   "id": "91f49bdc",
   "metadata": {},
   "source": [
    "# Find Positive Integer Solution for a Given Equation"
   ]
  },
  {
   "cell_type": "markdown",
   "id": "5af24079",
   "metadata": {},
   "source": [
    "Given a callable function f(x, y) with a hidden formula and a value z, reverse engineer the formula and return all positive integer pairs x and y where f(x,y) == z. You may return the pairs in any order.\n",
    "\n",
    "While the exact formula is hidden, the function is monotonically increasing, i.e.:\n",
    "\n",
    "f(x, y) < f(x + 1, y)\n",
    "f(x, y) < f(x, y + 1)\n",
    "The function interface is defined like this:\n",
    "\n",
    "interface CustomFunction {\n",
    "public:\n",
    "  // Returns some positive integer f(x, y) for two positive integers x and y based on a formula.\n",
    "  int f(int x, int y);\n",
    "};\n",
    "We will judge your solution as follows:\n",
    "\n",
    "The judge has a list of 9 hidden implementations of CustomFunction, along with a way to generate an answer key of all valid pairs for a specific z.\n",
    "The judge will receive two inputs: a function_id (to determine which implementation to test your code with), and the target z.\n",
    "The judge will call your findSolution and compare your results with the answer key.\n",
    "If your results match the answer key, your solution will be Accepted.\n",
    "\n",
    "**Example 1:**\n",
    "\n",
    "Input: function_id = 1, z = 5\n",
    "Output: [[1,4],[2,3],[3,2],[4,1]]\n",
    "Explanation: The hidden formula for function_id = 1 is f(x, y) = x + y.\n",
    "The following positive integer values of x and y make f(x, y) equal to 5:\n",
    "    x=1, y=4 -> f(1, 4) = 1 + 4 = 5.\n",
    "    x=2, y=3 -> f(2, 3) = 2 + 3 = 5.\n",
    "    x=3, y=2 -> f(3, 2) = 3 + 2 = 5.\n",
    "    x=4, y=1 -> f(4, 1) = 4 + 1 = 5.\n",
    "\n",
    "**Example 2:**\n",
    "\n",
    "Input: function_id = 2, z = 5\n",
    "Output: [[1,5],[5,1]]\n",
    "Explanation: The hidden formula for function_id = 2 is f(x, y) = x * y.\n",
    "The following positive integer values of x and y make f(x, y) equal to 5:\n",
    "    x=1, y=5 -> f(1, 5) = 1 * 5 = 5.\n",
    "    x=5, y=1 -> f(5, 1) = 5 * 1 = 5.\n",
    " \n",
    "\n",
    "**Constraints:**\n",
    "\n",
    "- 1 <= function_id <= 9\n",
    "- 1 <= z <= 100\n",
    "- It is guaranteed that the solutions of f(x, y) == z will be in the range 1 <= x, y <= 1000.\n",
    "- It is also guaranteed that f(x, y) will fit in 32 bit signed integer if 1 <= x, y <= 1000."
   ]
  },
  {
   "cell_type": "code",
   "execution_count": 1,
   "id": "c6e93ece",
   "metadata": {},
   "outputs": [],
   "source": [
    "from typing import List\n",
    "\n",
    "# Assuming CustomFunction is provided by the judge\n",
    "class Solution:\n",
    "    def findSolution(self, customfunction: 'CustomFunction', z: int) -> List[List[int]]:\n",
    "        result = []\n",
    "        x, y = 1, 1000  # Start with max bounds since 1 <= x, y <= 1000\n",
    "        \n",
    "        while x <= 1000 and y >= 1:\n",
    "            val = customfunction.f(x, y)\n",
    "            if val == z:\n",
    "                result.append([x, y])\n",
    "                x += 1\n",
    "                y -= 1\n",
    "            elif val < z:\n",
    "                x += 1  # Need to increase the result, so increase x\n",
    "            else:\n",
    "                y -= 1  # Need to decrease the result, so decrease y\n",
    "\n",
    "        return result"
   ]
  },
  {
   "cell_type": "code",
   "execution_count": null,
   "id": "bbfcbbc3",
   "metadata": {},
   "outputs": [],
   "source": []
  }
 ],
 "metadata": {
  "kernelspec": {
   "display_name": "Python 3 (ipykernel)",
   "language": "python",
   "name": "python3"
  },
  "language_info": {
   "codemirror_mode": {
    "name": "ipython",
    "version": 3
   },
   "file_extension": ".py",
   "mimetype": "text/x-python",
   "name": "python",
   "nbconvert_exporter": "python",
   "pygments_lexer": "ipython3",
   "version": "3.8.11"
  }
 },
 "nbformat": 4,
 "nbformat_minor": 5
}
