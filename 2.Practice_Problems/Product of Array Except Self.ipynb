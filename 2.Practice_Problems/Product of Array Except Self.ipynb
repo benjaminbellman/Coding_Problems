{
 "cells": [
  {
   "cell_type": "markdown",
   "id": "e0fdf45d",
   "metadata": {},
   "source": [
    "# Product of Array Except Self"
   ]
  },
  {
   "cell_type": "markdown",
   "id": "ebffc974",
   "metadata": {},
   "source": [
    "Given an integer array nums, return an array answer such that answer[i] is equal to the product of all the elements of nums except nums[i].\n",
    "\n",
    "The product of any prefix or suffix of nums is guaranteed to fit in a 32-bit integer.\n",
    "\n",
    "You must write an algorithm that runs in O(n) time and without using the division operation.\n",
    "\n",
    " \n",
    "\n",
    "**Example 1:**\n",
    "\n",
    "Input: nums = [1,2,3,4]\n",
    "Output: [24,12,8,6]\n",
    "\n",
    "**Example 2:**\n",
    "\n",
    "Input: nums = [-1,1,0,-3,3]\n",
    "Output: [0,0,9,0,0]\n",
    " \n",
    "\n",
    "**Constraints:**\n",
    "\n",
    "2 <= nums.length <= 105\n",
    "-30 <= nums[i] <= 30\n",
    "The product of any prefix or suffix of nums is guaranteed to fit in a 32-bit integer.**"
   ]
  },
  {
   "cell_type": "code",
   "execution_count": 1,
   "id": "dd9afd4d",
   "metadata": {},
   "outputs": [],
   "source": [
    "def product_except_self(nums):\n",
    "    n = len(nums)\n",
    "    left_product = [1] * n\n",
    "    right_product = [1] * n\n",
    "    output = [1] * n\n",
    "    \n",
    "    # Calculate the product of all elements to the left of i\n",
    "    for i in range(1, n):\n",
    "        left_product[i] = left_product[i-1] * nums[i-1]\n",
    "        \n",
    "    # Calculate the product of all elements to the right of i\n",
    "    for i in range(n-2, -1, -1):\n",
    "        right_product[i] = right_product[i+1] * nums[i+1]\n",
    "        \n",
    "    # Multiply left and right products to get the final result\n",
    "    for i in range(n):\n",
    "        output[i] = left_product[i] * right_product[i]\n",
    "        \n",
    "    return output"
   ]
  },
  {
   "cell_type": "code",
   "execution_count": 3,
   "id": "0ca1240e",
   "metadata": {},
   "outputs": [
    {
     "name": "stdout",
     "output_type": "stream",
     "text": [
      "[24, 12, 8, 6]\n",
      "[0, 0, 9, 0, 0]\n"
     ]
    }
   ],
   "source": [
    "print(product_except_self([1, 2, 3, 4]))  # Output: [24, 12, 8, 6]\n",
    "print(product_except_self([-1, 1, 0, -3, 3]))  # Output: [0, 0, 9, 0, 0]"
   ]
  },
  {
   "cell_type": "code",
   "execution_count": null,
   "id": "6d2d7996",
   "metadata": {},
   "outputs": [],
   "source": []
  }
 ],
 "metadata": {
  "kernelspec": {
   "display_name": "Python 3",
   "language": "python",
   "name": "python3"
  },
  "language_info": {
   "codemirror_mode": {
    "name": "ipython",
    "version": 3
   },
   "file_extension": ".py",
   "mimetype": "text/x-python",
   "name": "python",
   "nbconvert_exporter": "python",
   "pygments_lexer": "ipython3",
   "version": "3.9.13"
  }
 },
 "nbformat": 4,
 "nbformat_minor": 5
}
