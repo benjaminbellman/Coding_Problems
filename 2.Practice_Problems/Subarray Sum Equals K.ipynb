{
 "cells": [
  {
   "cell_type": "markdown",
   "id": "75b88fc7",
   "metadata": {},
   "source": [
    "# Subarray Sum Equals K"
   ]
  },
  {
   "cell_type": "markdown",
   "id": "5d95c665",
   "metadata": {},
   "source": [
    "Given an array of integers nums and an integer k, return the total number of subarrays whose sum equals to k.\n",
    "\n",
    "A subarray is a contiguous non-empty sequence of elements within an array.\n",
    "\n",
    " \n",
    "\n",
    "**Example 1:**\n",
    "\n",
    "Input: nums = [1,1,1], k = 2\n",
    "\n",
    "Output: 2\n",
    "\n",
    "**Example 2:**\n",
    "\n",
    "Input: nums = [1,2,3], k = 3\n",
    "\n",
    "Output: 2\n",
    " \n",
    "\n",
    "**Constraints:**\n",
    "\n",
    "- 1 <= nums.length <= 2 * 104\n",
    "- -1000 <= nums[i] <= 1000\n",
    "- -107 <= k <= 107"
   ]
  },
  {
   "cell_type": "code",
   "execution_count": 1,
   "id": "8fc76fc0",
   "metadata": {},
   "outputs": [],
   "source": [
    "def subarraySum(nums, k):\n",
    "    count = 0\n",
    "    cumulative_sum = 0\n",
    "    prefix_sums = {0: 1}  # Initialize with 0:1 for the case when a subarray starts from index 0\n",
    "\n",
    "    for num in nums:\n",
    "        cumulative_sum += num\n",
    "        if cumulative_sum - k in prefix_sums:\n",
    "            count += prefix_sums[cumulative_sum - k]\n",
    "        prefix_sums[cumulative_sum] = prefix_sums.get(cumulative_sum, 0) + 1\n",
    "\n",
    "    return count"
   ]
  },
  {
   "cell_type": "code",
   "execution_count": 2,
   "id": "4de25689",
   "metadata": {},
   "outputs": [
    {
     "name": "stdout",
     "output_type": "stream",
     "text": [
      "2\n",
      "2\n"
     ]
    }
   ],
   "source": [
    "# Example 1\n",
    "nums1 = [1,1,1]\n",
    "k1 = 2\n",
    "print(subarraySum(nums1, k1))  # Output: 2\n",
    "\n",
    "# Example 2\n",
    "nums2 = [1,2,3]\n",
    "k2 = 3\n",
    "print(subarraySum(nums2, k2))  # Output: 2"
   ]
  },
  {
   "cell_type": "code",
   "execution_count": null,
   "id": "dd3c354a",
   "metadata": {},
   "outputs": [],
   "source": []
  }
 ],
 "metadata": {
  "kernelspec": {
   "display_name": "Python 3",
   "language": "python",
   "name": "python3"
  },
  "language_info": {
   "codemirror_mode": {
    "name": "ipython",
    "version": 3
   },
   "file_extension": ".py",
   "mimetype": "text/x-python",
   "name": "python",
   "nbconvert_exporter": "python",
   "pygments_lexer": "ipython3",
   "version": "3.9.13"
  }
 },
 "nbformat": 4,
 "nbformat_minor": 5
}
