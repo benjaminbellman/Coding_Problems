{
 "cells": [
  {
   "cell_type": "markdown",
   "id": "c8216147",
   "metadata": {},
   "source": [
    "# Valid Phone Numbers"
   ]
  },
  {
   "cell_type": "markdown",
   "id": "0bb8c049",
   "metadata": {},
   "source": [
    "Given a text file file.txt that contains a list of phone numbers (one per line), write a one-liner bash script to print all valid phone numbers.\n",
    "\n",
    "You may assume that a valid phone number must appear in one of the following two formats: (xxx) xxx-xxxx or xxx-xxx-xxxx. (x means a digit)\n",
    "\n",
    "You may also assume each line in the text file must not contain leading or trailing white spaces.\n",
    "\n",
    "**Example:**\n",
    "\n",
    "Assume that file.txt has the following content:\n",
    "\n",
    "987-123-4567\n",
    "\n",
    "123 456 7890\n",
    "\n",
    "(123) 456-7890\n",
    "\n",
    "Your script should output the following valid phone numbers:\n",
    "\n",
    "987-123-4567\n",
    "\n",
    "(123) 456-7890"
   ]
  },
  {
   "cell_type": "code",
   "execution_count": 2,
   "id": "0a9c29b2",
   "metadata": {},
   "outputs": [
    {
     "name": "stdout",
     "output_type": "stream",
     "text": [
      "987-123-4567\n",
      "123 456 7890\n",
      "(123) 456-7890\n"
     ]
    }
   ],
   "source": [
    "import re\n",
    "with open(\"file.txt\", \"r\") as f:\n",
    "    valid_phones = [phone for phone in f.read().splitlines() if re.match(r'^\\(?\\d{3}\\)?[-.\\s]?\\d{3}[-.\\s]?\\d{4}$', phone)]\n",
    "    print(\"\\n\".join(valid_phones))"
   ]
  },
  {
   "cell_type": "code",
   "execution_count": null,
   "id": "01212d7d",
   "metadata": {},
   "outputs": [],
   "source": []
  }
 ],
 "metadata": {
  "kernelspec": {
   "display_name": "Python 3",
   "language": "python",
   "name": "python3"
  },
  "language_info": {
   "codemirror_mode": {
    "name": "ipython",
    "version": 3
   },
   "file_extension": ".py",
   "mimetype": "text/x-python",
   "name": "python",
   "nbconvert_exporter": "python",
   "pygments_lexer": "ipython3",
   "version": "3.9.13"
  }
 },
 "nbformat": 4,
 "nbformat_minor": 5
}
