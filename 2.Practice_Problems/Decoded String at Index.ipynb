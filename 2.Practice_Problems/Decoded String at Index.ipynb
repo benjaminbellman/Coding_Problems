{
 "cells": [
  {
   "cell_type": "markdown",
   "id": "b490e626",
   "metadata": {},
   "source": [
    "# Decoded String at Index"
   ]
  },
  {
   "cell_type": "markdown",
   "id": "bdfa8df8",
   "metadata": {},
   "source": [
    "You are given an encoded string s. To decode the string to a tape, the encoded string is read one character at a time and the following steps are taken:\n",
    "\n",
    "If the character read is a letter, that letter is written onto the tape.\n",
    "If the character read is a digit d, the entire current tape is repeatedly written d - 1 more times in total.\n",
    "Given an integer k, return the kth letter (1-indexed) in the decoded string.\n",
    "\n",
    " \n",
    "\n",
    "**Example 1:**\n",
    "\n",
    "Input: s = \"leet2code3\", k = 10\n",
    "Output: \"o\"\n",
    "Explanation: The decoded string is \"leetleetcodeleetleetcodeleetleetcode\".\n",
    "The 10th letter in the string is \"o\".\n",
    "\n",
    "**Example 2:**\n",
    "\n",
    "Input: s = \"ha22\", k = 5\n",
    "Output: \"h\"\n",
    "Explanation: The decoded string is \"hahahaha\".\n",
    "The 5th letter is \"h\".\n",
    "\n",
    "**Example 3:**\n",
    "\n",
    "Input: s = \"a2345678999999999999999\", k = 1\n",
    "Output: \"a\"\n",
    "Explanation: The decoded string is \"a\" repeated 8301530446056247680 times.\n",
    "The 1st letter is \"a\".\n",
    " \n",
    "\n",
    "**Constraints:**\n",
    "\n",
    "- 2 <= s.length <= 100\n",
    "- s consists of lowercase English letters and digits 2 through 9.\n",
    "- s starts with a letter.\n",
    "- 1 <= k <= 109\n",
    "- It is guaranteed that k is less than or equal to the length of the decoded string.\n",
    "- The decoded string is guaranteed to have less than 263 letters."
   ]
  },
  {
   "cell_type": "code",
   "execution_count": 1,
   "id": "5cfdff8f",
   "metadata": {},
   "outputs": [
    {
     "name": "stdout",
     "output_type": "stream",
     "text": [
      "\n",
      "\n",
      "a\n"
     ]
    }
   ],
   "source": [
    "def decodeAtIndex(s: str, k: int) -> str:\n",
    "    # Step 1: Compute the length of the decoded string\n",
    "    length = 0\n",
    "    for char in s:\n",
    "        if char.isdigit():\n",
    "            length *= int(char)\n",
    "        else:\n",
    "            length += 1\n",
    "\n",
    "    # Step 2: Find the k-th character by tracing backwards\n",
    "    for i in reversed(range(len(s))):\n",
    "        char = s[i]\n",
    "        if char.isdigit():\n",
    "            length //= int(char)\n",
    "            k %= length\n",
    "        else:\n",
    "            if k == 0:\n",
    "                return char\n",
    "            length -= 1\n",
    "\n",
    "    return \"\"\n",
    "\n",
    "# Example usage:\n",
    "print(decodeAtIndex(\"leet2code3\", 10))  # Output: \"o\"\n",
    "print(decodeAtIndex(\"ha22\", 5))          # Output: \"h\"\n",
    "print(decodeAtIndex(\"a2345678999999999999999\", 1))  # Output: \"a\""
   ]
  },
  {
   "cell_type": "code",
   "execution_count": null,
   "id": "bd38ab8b",
   "metadata": {},
   "outputs": [],
   "source": []
  }
 ],
 "metadata": {
  "kernelspec": {
   "display_name": "Python 3 (ipykernel)",
   "language": "python",
   "name": "python3"
  },
  "language_info": {
   "codemirror_mode": {
    "name": "ipython",
    "version": 3
   },
   "file_extension": ".py",
   "mimetype": "text/x-python",
   "name": "python",
   "nbconvert_exporter": "python",
   "pygments_lexer": "ipython3",
   "version": "3.8.11"
  }
 },
 "nbformat": 4,
 "nbformat_minor": 5
}
