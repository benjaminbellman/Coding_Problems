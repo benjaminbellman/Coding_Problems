{
 "cells": [
  {
   "cell_type": "markdown",
   "id": "160be6ff",
   "metadata": {},
   "source": [
    "# Non-decreasing Array"
   ]
  },
  {
   "cell_type": "markdown",
   "id": "aaaf5d22",
   "metadata": {},
   "source": [
    "Given an array nums with n integers, your task is to check if it could become non-decreasing by modifying at most one element.\n",
    "\n",
    "We define an array is non-decreasing if nums[i] <= nums[i + 1] holds for every i (0-based) such that (0 <= i <= n - 2).\n",
    "\n",
    " \n",
    "\n",
    "**Example 1:**\n",
    "\n",
    "Input: nums = [4,2,3]\n",
    "Output: true\n",
    "Explanation: You could modify the first 4 to 1 to get a non-decreasing array.\n",
    "\n",
    "**Example 2:**\n",
    "\n",
    "Input: nums = [4,2,1]\n",
    "Output: false\n",
    "Explanation: You cannot get a non-decreasing array by modifying at most one element.\n",
    " \n",
    "\n",
    "**Constraints:**\n",
    "\n",
    "- n == nums.length\n",
    "- 1 <= n <= 104\n",
    "- -105 <= nums[i] <= 105"
   ]
  },
  {
   "cell_type": "code",
   "execution_count": 1,
   "id": "bea9576a",
   "metadata": {},
   "outputs": [
    {
     "name": "stdout",
     "output_type": "stream",
     "text": [
      "True\n",
      "False\n"
     ]
    }
   ],
   "source": [
    "def checkNonDecreasing(nums):\n",
    "    count = 0  # Count of elements that need to be modified\n",
    "    for i in range(len(nums) - 1):\n",
    "        if nums[i] > nums[i + 1]:\n",
    "            count += 1\n",
    "            if count > 1:\n",
    "                return False  # If more than one element needs to be modified, it's not possible to make it non-decreasing.\n",
    "            if i > 0 and nums[i - 1] > nums[i + 1]:\n",
    "                nums[i + 1] = nums[i]  # Modify the next element\n",
    "            else:\n",
    "                nums[i] = nums[i + 1]  # Modify the current element\n",
    "    return True\n",
    "\n",
    "# Example 1\n",
    "nums1 = [4, 2, 3]\n",
    "print(checkNonDecreasing(nums1))  # Output: True\n",
    "\n",
    "# Example 2\n",
    "nums2 = [4, 2, 1]\n",
    "print(checkNonDecreasing(nums2))  # Output: False"
   ]
  },
  {
   "cell_type": "code",
   "execution_count": null,
   "id": "a2372cf1",
   "metadata": {},
   "outputs": [],
   "source": []
  }
 ],
 "metadata": {
  "kernelspec": {
   "display_name": "Python 3",
   "language": "python",
   "name": "python3"
  },
  "language_info": {
   "codemirror_mode": {
    "name": "ipython",
    "version": 3
   },
   "file_extension": ".py",
   "mimetype": "text/x-python",
   "name": "python",
   "nbconvert_exporter": "python",
   "pygments_lexer": "ipython3",
   "version": "3.9.13"
  }
 },
 "nbformat": 4,
 "nbformat_minor": 5
}
