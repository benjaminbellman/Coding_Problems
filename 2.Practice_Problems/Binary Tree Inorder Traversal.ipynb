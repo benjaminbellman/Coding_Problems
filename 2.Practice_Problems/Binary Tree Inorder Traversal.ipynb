{
 "cells": [
  {
   "cell_type": "markdown",
   "id": "ecd62b0c",
   "metadata": {},
   "source": [
    "# Binary Tree Inorder Traversal"
   ]
  },
  {
   "cell_type": "markdown",
   "id": "5c71e1d7",
   "metadata": {},
   "source": [
    "Given the root of a binary tree, return the inorder traversal of its nodes' values.\n",
    "\n",
    "**Example 1:**\n",
    "\n",
    "Input: root = [1,null,2,3]\n",
    "\n",
    "Output: [1,3,2]\n",
    "\n",
    "Explanation:\n",
    "\n",
    "**Example 2:**\n",
    "\n",
    "Input: root = [1,2,3,4,5,null,8,null,null,6,7,9]\n",
    "\n",
    "Output: [4,2,6,5,7,1,3,9,8]\n",
    "\n",
    "Explanation:\n",
    "\n",
    "**Example 3:**\n",
    "\n",
    "Input: root = []\n",
    "\n",
    "Output: []\n",
    "\n",
    "Example 4:\n",
    "\n",
    "Input: root = [1]\n",
    "\n",
    "Output: [1]\n",
    "\n",
    "**Constraints:**\n",
    "\n",
    "- The number of nodes in the tree is in the range [0, 100].\n",
    "- -100 <= Node.val <= 100"
   ]
  },
  {
   "cell_type": "code",
   "execution_count": 1,
   "id": "e7afd6fb",
   "metadata": {},
   "outputs": [],
   "source": [
    "class Solution:\n",
    "    def inorderTraversal(self, root):\n",
    "        result = []\n",
    "        stack = []\n",
    "        current = root\n",
    "\n",
    "        while current or stack:\n",
    "            # Go all the way left\n",
    "            while current:\n",
    "                stack.append(current)\n",
    "                current = current.left\n",
    "            # Visit node\n",
    "            current = stack.pop()\n",
    "            result.append(current.val)\n",
    "            # Go right\n",
    "            current = current.right\n",
    "\n",
    "        return result"
   ]
  },
  {
   "cell_type": "code",
   "execution_count": null,
   "id": "c9fd8a0c",
   "metadata": {},
   "outputs": [],
   "source": []
  }
 ],
 "metadata": {
  "kernelspec": {
   "display_name": "Python 3 (ipykernel)",
   "language": "python",
   "name": "python3"
  },
  "language_info": {
   "codemirror_mode": {
    "name": "ipython",
    "version": 3
   },
   "file_extension": ".py",
   "mimetype": "text/x-python",
   "name": "python",
   "nbconvert_exporter": "python",
   "pygments_lexer": "ipython3",
   "version": "3.8.11"
  }
 },
 "nbformat": 4,
 "nbformat_minor": 5
}
