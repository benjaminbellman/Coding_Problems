{
 "cells": [
  {
   "cell_type": "markdown",
   "id": "b9609f23",
   "metadata": {},
   "source": [
    "# Parenthese Problem"
   ]
  },
  {
   "cell_type": "markdown",
   "id": "cc7a7fb4",
   "metadata": {},
   "source": [
    "Given a string s containing just the characters '(', ')', '{', '}', '[' and ']', determine if the input string is valid.\n",
    "\n",
    "An input string is valid if:\n",
    "\n",
    "Open brackets must be closed by the same type of brackets.\n",
    "Open brackets must be closed in the correct order.\n",
    "Every close bracket has a corresponding open bracket of the same type."
   ]
  },
  {
   "cell_type": "markdown",
   "id": "8ade92ed",
   "metadata": {},
   "source": [
    "#### Copilot Solution"
   ]
  },
  {
   "cell_type": "code",
   "execution_count": 3,
   "id": "42a687a2",
   "metadata": {},
   "outputs": [
    {
     "name": "stdout",
     "output_type": "stream",
     "text": [
      "True\n"
     ]
    }
   ],
   "source": [
    "#Given a string s containing just the characters '(', ')', '{', '}', '[' and ']', determine if the input string is valid.\n",
    "#An input string is valid if:\n",
    "#Open brackets must be closed by the same type of brackets.\n",
    "#Open brackets must be closed in the correct order.\n",
    "#Example 1:\n",
    "#Input: s = \"()\"\n",
    "#Output: true\n",
    "#Example 2:\n",
    "#Input: s = \"()[]{}\"\n",
    "#Output: true\n",
    "#Example 3:\n",
    "#Input: s = \"(]\"\n",
    "#Output: false\n",
    "#Example 4:\n",
    "#Input: s = \"([)]\"\n",
    "#Output: false\n",
    "#Example 5:\n",
    "#Input: s = \"{[]}\"\n",
    "#Output: true\n",
    "#Constraints:\n",
    "#1 <= s.length <= 104\n",
    "#s consists of parentheses only '()[]{}'.\n",
    "def valid_parentheses(s):\n",
    "    stack = []\n",
    "    for i in range(len(s)):\n",
    "        if s[i] == '(' or s[i] == '[' or s[i] == '{':\n",
    "            stack.append(s[i])\n",
    "        elif s[i] == ')' and len(stack) > 0 and stack[-1] == '(':\n",
    "            stack.pop()\n",
    "        elif s[i] == ']' and len(stack) > 0 and stack[-1] == '[':\n",
    "            stack.pop()\n",
    "        elif s[i] == '}' and len(stack) > 0 and stack[-1] == '{':\n",
    "            stack.pop()\n",
    "        else:\n",
    "            return False\n",
    "    if len(stack) == 0:\n",
    "        return True\n",
    "    else:\n",
    "        return False\n",
    "def main():\n",
    "    s = \"{[]}\"\n",
    "    print(valid_parentheses(s))\n",
    "main()"
   ]
  },
  {
   "cell_type": "code",
   "execution_count": null,
   "id": "3a43a17e",
   "metadata": {},
   "outputs": [],
   "source": []
  }
 ],
 "metadata": {
  "kernelspec": {
   "display_name": "Python 3",
   "language": "python",
   "name": "python3"
  },
  "language_info": {
   "codemirror_mode": {
    "name": "ipython",
    "version": 3
   },
   "file_extension": ".py",
   "mimetype": "text/x-python",
   "name": "python",
   "nbconvert_exporter": "python",
   "pygments_lexer": "ipython3",
   "version": "3.9.13"
  }
 },
 "nbformat": 4,
 "nbformat_minor": 5
}
