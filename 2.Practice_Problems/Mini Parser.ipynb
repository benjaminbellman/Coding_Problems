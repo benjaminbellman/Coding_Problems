{
 "cells": [
  {
   "cell_type": "markdown",
   "id": "380c5652",
   "metadata": {},
   "source": [
    "# Mini Parser"
   ]
  },
  {
   "cell_type": "markdown",
   "id": "c357abea",
   "metadata": {},
   "source": [
    "Given a string s represents the serialization of a nested list, implement a parser to deserialize it and return the deserialized NestedInteger.\n",
    "\n",
    "Each element is either an integer or a list whose elements may also be integers or other lists.\n",
    "\n",
    " \n",
    "\n",
    "**Example 1:**\n",
    "\n",
    "Input: s = \"324\"\n",
    "Output: 324\n",
    "Explanation: You should return a NestedInteger object which contains a single integer 324.\n",
    "\n",
    "**Example 2:**\n",
    "\n",
    "Input: s = \"[123,[456,[789]]]\"\n",
    "Output: [123,[456,[789]]]\n",
    "Explanation: Return a NestedInteger object containing a nested list with 2 elements:\n",
    "1. An integer containing value 123.\n",
    "2. A nested list containing two elements:\n",
    "    i.  An integer containing value 456.\n",
    "    ii. A nested list with one element:\n",
    "         a. An integer containing value 789\n",
    " \n",
    "\n",
    "**Constraints:**\n",
    "\n",
    "1 <= s.length <= 5 * 104\n",
    "s consists of digits, square brackets \"[]\", negative sign '-', and commas ','.\n",
    "s is the serialization of valid NestedInteger.\n",
    "All the values in the input are in the range [-106, 106]."
   ]
  },
  {
   "cell_type": "code",
   "execution_count": 1,
   "id": "482d9902",
   "metadata": {},
   "outputs": [],
   "source": [
    "class NestedInteger:\n",
    "    def __init__(self, value=None):\n",
    "        self.value = value\n",
    "        self.nested_list = []\n",
    "\n",
    "    def add(self, elem):\n",
    "        if isinstance(elem, NestedInteger):\n",
    "            self.nested_list.append(elem)\n",
    "        else:\n",
    "            self.nested_list.append(NestedInteger(elem))\n",
    "\n",
    "    def setInteger(self, value):\n",
    "        self.value = value\n",
    "\n",
    "    def isInteger(self):\n",
    "        return self.value is not None\n",
    "\n",
    "    def getInteger(self):\n",
    "        return self.value\n",
    "\n",
    "    def getList(self):\n",
    "        return self.nested_list\n",
    "\n",
    "class Solution:\n",
    "    def deserialize(self, s: str) -> NestedInteger:\n",
    "        stack = []\n",
    "        i = 0\n",
    "        while i < len(s):\n",
    "            c = s[i]\n",
    "            if c == '[':\n",
    "                stack.append(NestedInteger())\n",
    "            elif c == ']':\n",
    "                ni = stack.pop()\n",
    "                if stack:\n",
    "                    stack[-1].add(ni)\n",
    "                else:\n",
    "                    return ni\n",
    "            elif c == ',':\n",
    "                pass\n",
    "            else:\n",
    "                j = i\n",
    "                if s[j] == '-':\n",
    "                    j += 1\n",
    "                while j < len(s) and s[j].isdigit():\n",
    "                    j += 1\n",
    "                num = int(s[i:j])\n",
    "                if stack:\n",
    "                    stack[-1].add(NestedInteger(num))\n",
    "                else:\n",
    "                    return NestedInteger(num)\n",
    "                i = j - 1\n",
    "            i += 1\n",
    "        return None"
   ]
  },
  {
   "cell_type": "code",
   "execution_count": 2,
   "id": "7ac0c751",
   "metadata": {},
   "outputs": [
    {
     "name": "stdout",
     "output_type": "stream",
     "text": [
      "324\n"
     ]
    }
   ],
   "source": [
    "s = \"324\"\n",
    "sol = Solution()\n",
    "result = sol.deserialize(s)\n",
    "print(result.getInteger())"
   ]
  },
  {
   "cell_type": "code",
   "execution_count": 3,
   "id": "98130185",
   "metadata": {},
   "outputs": [
    {
     "name": "stdout",
     "output_type": "stream",
     "text": [
      "[<__main__.NestedInteger object at 0x0000016969AF9B50>, <__main__.NestedInteger object at 0x0000016969AF9E50>]\n"
     ]
    }
   ],
   "source": [
    "s = \"[123,[456,[789]]]\"\n",
    "sol = Solution()\n",
    "result = sol.deserialize(s)\n",
    "print(result.getList())"
   ]
  },
  {
   "cell_type": "code",
   "execution_count": null,
   "id": "1abc1c6f",
   "metadata": {},
   "outputs": [],
   "source": []
  }
 ],
 "metadata": {
  "kernelspec": {
   "display_name": "Python 3",
   "language": "python",
   "name": "python3"
  },
  "language_info": {
   "codemirror_mode": {
    "name": "ipython",
    "version": 3
   },
   "file_extension": ".py",
   "mimetype": "text/x-python",
   "name": "python",
   "nbconvert_exporter": "python",
   "pygments_lexer": "ipython3",
   "version": "3.9.13"
  }
 },
 "nbformat": 4,
 "nbformat_minor": 5
}
