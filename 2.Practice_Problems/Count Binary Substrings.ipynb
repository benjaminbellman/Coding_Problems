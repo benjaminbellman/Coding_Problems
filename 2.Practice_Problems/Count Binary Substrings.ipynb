{
 "cells": [
  {
   "cell_type": "markdown",
   "id": "cbc95ba1",
   "metadata": {},
   "source": [
    "# Count Binary Substrings"
   ]
  },
  {
   "cell_type": "markdown",
   "id": "66527550",
   "metadata": {},
   "source": [
    "Given a binary string s, return the number of non-empty substrings that have the same number of 0's and 1's, and all the 0's and all the 1's in these substrings are grouped consecutively.\n",
    "\n",
    "Substrings that occur multiple times are counted the number of times they occur.\n",
    "\n",
    " \n",
    "\n",
    "**Example 1:**\n",
    "\n",
    "Input: s = \"00110011\"\n",
    "\n",
    "Output: 6\n",
    "Explanation: There are 6 substrings that have equal number of consecutive 1's and 0's: \"0011\", \"01\", \"1100\", \"10\", \"0011\", and \"01\".\n",
    "Notice that some of these substrings repeat and are counted the number of times they occur.\n",
    "Also, \"00110011\" is not a valid substring because all the 0's (and 1's) are not grouped together.\n",
    "\n",
    "**Example 2:**\n",
    "\n",
    "Input: s = \"10101\"\n",
    "\n",
    "Output: 4\n",
    "Explanation: There are 4 substrings: \"10\", \"01\", \"10\", \"01\" that have equal number of consecutive 1's and 0's.\n",
    " \n",
    "\n",
    "**Constraints:**\n",
    "\n",
    "- 1 <= s.length <= 105\n",
    "- s[i] is either '0' or '1'."
   ]
  },
  {
   "cell_type": "code",
   "execution_count": 1,
   "id": "a1d899ce",
   "metadata": {},
   "outputs": [
    {
     "name": "stdout",
     "output_type": "stream",
     "text": [
      "6\n",
      "4\n"
     ]
    }
   ],
   "source": [
    "def count_binary_substrings(s: str) -> int:\n",
    "    count = 0\n",
    "    prev_count = 0\n",
    "    curr_count = 1\n",
    "    \n",
    "    for i in range(1, len(s)):\n",
    "        if s[i] == s[i-1]:\n",
    "            curr_count += 1\n",
    "        else:\n",
    "            count += min(prev_count, curr_count)\n",
    "            prev_count = curr_count\n",
    "            curr_count = 1\n",
    "    \n",
    "    count += min(prev_count, curr_count)\n",
    "    \n",
    "    return count\n",
    "\n",
    "# Test cases\n",
    "print(count_binary_substrings(\"00110011\"))  # Output: 6\n",
    "print(count_binary_substrings(\"10101\"))     # Output: 4"
   ]
  },
  {
   "cell_type": "code",
   "execution_count": null,
   "id": "fd797474",
   "metadata": {},
   "outputs": [],
   "source": []
  }
 ],
 "metadata": {
  "kernelspec": {
   "display_name": "Python 3",
   "language": "python",
   "name": "python3"
  },
  "language_info": {
   "codemirror_mode": {
    "name": "ipython",
    "version": 3
   },
   "file_extension": ".py",
   "mimetype": "text/x-python",
   "name": "python",
   "nbconvert_exporter": "python",
   "pygments_lexer": "ipython3",
   "version": "3.9.13"
  }
 },
 "nbformat": 4,
 "nbformat_minor": 5
}
