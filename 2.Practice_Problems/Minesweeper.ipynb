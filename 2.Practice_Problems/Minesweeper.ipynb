{
 "cells": [
  {
   "cell_type": "markdown",
   "id": "e0157565",
   "metadata": {},
   "source": [
    "# Minesweeper"
   ]
  },
  {
   "cell_type": "markdown",
   "id": "771ffa36",
   "metadata": {},
   "source": [
    "Let's play the minesweeper game (Wikipedia, online game)!\n",
    "\n",
    "You are given an m x n char matrix board representing the game board where:\n",
    "\n",
    "'M' represents an unrevealed mine,\n",
    "'E' represents an unrevealed empty square,\n",
    "'B' represents a revealed blank square that has no adjacent mines (i.e., above, below, left, right, and all 4 diagonals),\n",
    "digit ('1' to '8') represents how many mines are adjacent to this revealed square, and\n",
    "'X' represents a revealed mine.\n",
    "You are also given an integer array click where click = [clickr, clickc] represents the next click position among all the unrevealed squares ('M' or 'E').\n",
    "\n",
    "Return the board after revealing this position according to the following rules:\n",
    "\n",
    "If a mine 'M' is revealed, then the game is over. You should change it to 'X'.\n",
    "If an empty square 'E' with no adjacent mines is revealed, then change it to a revealed blank 'B' and all of its adjacent unrevealed squares should be revealed recursively.\n",
    "If an empty square 'E' with at least one adjacent mine is revealed, then change it to a digit ('1' to '8') representing the number of adjacent mines.\n",
    "Return the board when no more squares will be revealed.\n",
    " \n",
    "\n",
    "**Example 1:**\n",
    "\n",
    "\n",
    "Input: board = [[\"E\",\"E\",\"E\",\"E\",\"E\"],[\"E\",\"E\",\"M\",\"E\",\"E\"],[\"E\",\"E\",\"E\",\"E\",\"E\"],[\"E\",\"E\",\"E\",\"E\",\"E\"]], click = [3,0]\n",
    "Output: [[\"B\",\"1\",\"E\",\"1\",\"B\"],[\"B\",\"1\",\"M\",\"1\",\"B\"],[\"B\",\"1\",\"1\",\"1\",\"B\"],[\"B\",\"B\",\"B\",\"B\",\"B\"]]\n",
    "\n",
    "**Example 2:**\n",
    "\n",
    "\n",
    "Input: board = [[\"B\",\"1\",\"E\",\"1\",\"B\"],[\"B\",\"1\",\"M\",\"1\",\"B\"],[\"B\",\"1\",\"1\",\"1\",\"B\"],[\"B\",\"B\",\"B\",\"B\",\"B\"]], click = [1,2]\n",
    "Output: [[\"B\",\"1\",\"E\",\"1\",\"B\"],[\"B\",\"1\",\"X\",\"1\",\"B\"],[\"B\",\"1\",\"1\",\"1\",\"B\"],[\"B\",\"B\",\"B\",\"B\",\"B\"]]\n",
    " \n",
    "\n",
    "**Constraints:**\n",
    "\n",
    "- m == board.length\n",
    "- n == board[i].length\n",
    "- 1 <= m, n <= 50\n",
    "- board[i][j] is either 'M', 'E', 'B', or a digit from '1' to '8'.\n",
    "- click.length == 2\n",
    "- 0 <= clickr < m\n",
    "- 0 <= clickc < n\n",
    "- board[clickr][clickc] is either 'M' or 'E'."
   ]
  },
  {
   "cell_type": "code",
   "execution_count": 1,
   "id": "c43cb054",
   "metadata": {},
   "outputs": [
    {
     "name": "stdout",
     "output_type": "stream",
     "text": [
      "[['B', '1', 'E', '1', 'B'], ['B', '1', 'M', '1', 'B'], ['B', '1', '1', '1', 'B'], ['B', 'B', 'B', 'B', 'B']]\n",
      "[['B', '1', 'E', '1', 'B'], ['B', '1', 'X', '1', 'B'], ['B', '1', '1', '1', 'B'], ['B', 'B', 'B', 'B', 'B']]\n"
     ]
    }
   ],
   "source": [
    "def updateBoard(board, click):\n",
    "    if not board:\n",
    "        return []\n",
    "    \n",
    "    m, n = len(board), len(board[0])\n",
    "    row, col = click\n",
    "\n",
    "    # If it's a mine\n",
    "    if board[row][col] == 'M':\n",
    "        board[row][col] = 'X'\n",
    "        return board\n",
    "    \n",
    "    # Direction vectors to explore the 8 neighbors\n",
    "    directions = [(-1, -1), (-1, 0), (-1, 1), (0, -1), (0, 1), (1, -1), (1, 0), (1, 1)]\n",
    "    \n",
    "    def countMines(r, c):\n",
    "        \"\"\"Function to count the mines around a given cell\"\"\"\n",
    "        count = 0\n",
    "        for x, y in directions:\n",
    "            newX, newY = r + x, c + y\n",
    "            if 0 <= newX < m and 0 <= newY < n and board[newX][newY] == 'M':\n",
    "                count += 1\n",
    "        return count\n",
    "    \n",
    "    def dfs(r, c):\n",
    "        \"\"\"DFS function to update the board\"\"\"\n",
    "        if board[r][c] != 'E':\n",
    "            return\n",
    "        \n",
    "        mines = countMines(r, c)\n",
    "        \n",
    "        if mines == 0:\n",
    "            board[r][c] = 'B'\n",
    "            for x, y in directions:\n",
    "                newX, newY = r + x, c + y\n",
    "                if 0 <= newX < m and 0 <= newY < n:\n",
    "                    dfs(newX, newY)\n",
    "        else:\n",
    "            board[r][c] = str(mines)\n",
    "    \n",
    "    # Call the DFS function starting from the click position\n",
    "    dfs(row, col)\n",
    "    return board\n",
    "\n",
    "# Test cases\n",
    "board1 = [[\"E\",\"E\",\"E\",\"E\",\"E\"],[\"E\",\"E\",\"M\",\"E\",\"E\"],[\"E\",\"E\",\"E\",\"E\",\"E\"],[\"E\",\"E\",\"E\",\"E\",\"E\"]]\n",
    "click1 = [3,0]\n",
    "print(updateBoard(board1, click1)) # Expected output: [[\"B\",\"1\",\"E\",\"1\",\"B\"],[\"B\",\"1\",\"M\",\"1\",\"B\"],[\"B\",\"1\",\"1\",\"1\",\"B\"],[\"B\",\"B\",\"B\",\"B\",\"B\"]]\n",
    "\n",
    "board2 = [[\"B\",\"1\",\"E\",\"1\",\"B\"],[\"B\",\"1\",\"M\",\"1\",\"B\"],[\"B\",\"1\",\"1\",\"1\",\"B\"],[\"B\",\"B\",\"B\",\"B\",\"B\"]]\n",
    "click2 = [1,2]\n",
    "print(updateBoard(board2, click2)) # Expected output: [[\"B\",\"1\",\"E\",\"1\",\"B\"],[\"B\",\"1\",\"X\",\"1\",\"B\"],[\"B\",\"1\",\"1\",\"1\",\"B\"],[\"B\",\"B\",\"B\",\"B\",\"B\"]]"
   ]
  }
 ],
 "metadata": {
  "kernelspec": {
   "display_name": "Python 3",
   "language": "python",
   "name": "python3"
  },
  "language_info": {
   "codemirror_mode": {
    "name": "ipython",
    "version": 3
   },
   "file_extension": ".py",
   "mimetype": "text/x-python",
   "name": "python",
   "nbconvert_exporter": "python",
   "pygments_lexer": "ipython3",
   "version": "3.9.13"
  }
 },
 "nbformat": 4,
 "nbformat_minor": 5
}
