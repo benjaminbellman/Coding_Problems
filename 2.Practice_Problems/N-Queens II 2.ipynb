{
 "cells": [
  {
   "cell_type": "markdown",
   "id": "f191218b",
   "metadata": {},
   "source": [
    "# N-Queens II 2"
   ]
  },
  {
   "cell_type": "markdown",
   "id": "55b49bf1",
   "metadata": {},
   "source": [
    "The n-queens puzzle is the problem of placing n queens on an n x n chessboard such that no two queens attack each other.\n",
    "\n",
    "Given an integer n, return the number of distinct solutions to the n-queens puzzle.\n",
    "\n",
    "**Example 1:**\n",
    "\n",
    "Input: n = 4\n",
    "Output: 2\n",
    "Explanation: There are two distinct solutions to the 4-queens puzzle as shown.\n",
    "\n",
    "**Example 2:**\n",
    "\n",
    "Input: n = 1\n",
    "Output: 1\n",
    " \n",
    "**Constraints:**\n",
    "\n",
    "- 1 <= n <= 9"
   ]
  },
  {
   "cell_type": "code",
   "execution_count": 1,
   "id": "2d9ec583",
   "metadata": {},
   "outputs": [],
   "source": [
    "def totalNQueens(n: int) -> int:\n",
    "    def backtrack(row: int) -> None:\n",
    "        nonlocal count\n",
    "        if row == n:\n",
    "            count += 1\n",
    "            return\n",
    "\n",
    "        for col in range(n):\n",
    "            if col in cols or (row - col) in diag1 or (row + col) in diag2:\n",
    "                continue\n",
    "            cols.add(col)\n",
    "            diag1.add(row - col)\n",
    "            diag2.add(row + col)\n",
    "            backtrack(row + 1)\n",
    "            cols.remove(col)\n",
    "            diag1.remove(row - col)\n",
    "            diag2.remove(row + col)\n",
    "\n",
    "    count = 0\n",
    "    cols = set()\n",
    "    diag1 = set()  # major diagonal\n",
    "    diag2 = set()  # minor diagonal\n",
    "    backtrack(0)\n",
    "    return count"
   ]
  },
  {
   "cell_type": "code",
   "execution_count": null,
   "id": "325d97da",
   "metadata": {},
   "outputs": [],
   "source": []
  }
 ],
 "metadata": {
  "kernelspec": {
   "display_name": "Python 3 (ipykernel)",
   "language": "python",
   "name": "python3"
  },
  "language_info": {
   "codemirror_mode": {
    "name": "ipython",
    "version": 3
   },
   "file_extension": ".py",
   "mimetype": "text/x-python",
   "name": "python",
   "nbconvert_exporter": "python",
   "pygments_lexer": "ipython3",
   "version": "3.8.11"
  }
 },
 "nbformat": 4,
 "nbformat_minor": 5
}
