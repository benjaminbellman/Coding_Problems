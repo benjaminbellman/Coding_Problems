{
 "cells": [
  {
   "cell_type": "markdown",
   "id": "bfbf8921",
   "metadata": {},
   "source": [
    "# Day of the Week"
   ]
  },
  {
   "cell_type": "markdown",
   "id": "56b3de71",
   "metadata": {},
   "source": [
    "Given a date, return the corresponding day of the week for that date.\n",
    "\n",
    "The input is given as three integers representing the day, month and year respectively.\n",
    "\n",
    "Return the answer as one of the following values {\"Sunday\", \"Monday\", \"Tuesday\", \"Wednesday\", \"Thursday\", \"Friday\", \"Saturday\"}.\n",
    "\n",
    "**Example 1:**\n",
    "\n",
    "Input: day = 31, month = 8, year = 2019\n",
    "Output: \"Saturday\"\n",
    "\n",
    "**Example 2:**\n",
    "\n",
    "Input: day = 18, month = 7, year = 1999\n",
    "Output: \"Sunday\"\n",
    "\n",
    "**Example 3:**\n",
    "\n",
    "Input: day = 15, month = 8, year = 1993\n",
    "Output: \"Sunday\"\n",
    " \n",
    "\n",
    "**Constraints:**\n",
    "\n",
    "- The given dates are valid dates between the years 1971 and 2100."
   ]
  },
  {
   "cell_type": "code",
   "execution_count": 1,
   "id": "7ae1ba8d",
   "metadata": {},
   "outputs": [
    {
     "name": "stdout",
     "output_type": "stream",
     "text": [
      "Saturday\n",
      "Sunday\n",
      "Sunday\n"
     ]
    }
   ],
   "source": [
    "import datetime\n",
    "\n",
    "def day_of_the_week(day: int, month: int, year: int) -> str:\n",
    "    return datetime.date(year, month, day).strftime(\"%A\")\n",
    "\n",
    "# Example test cases\n",
    "print(day_of_the_week(31, 8, 2019))  # Output: \"Saturday\"\n",
    "print(day_of_the_week(18, 7, 1999))  # Output: \"Sunday\"\n",
    "print(day_of_the_week(15, 8, 1993))  # Output: \"Sunday\""
   ]
  },
  {
   "cell_type": "code",
   "execution_count": null,
   "id": "f6ce6db4",
   "metadata": {},
   "outputs": [],
   "source": []
  }
 ],
 "metadata": {
  "kernelspec": {
   "display_name": "Python 3 (ipykernel)",
   "language": "python",
   "name": "python3"
  },
  "language_info": {
   "codemirror_mode": {
    "name": "ipython",
    "version": 3
   },
   "file_extension": ".py",
   "mimetype": "text/x-python",
   "name": "python",
   "nbconvert_exporter": "python",
   "pygments_lexer": "ipython3",
   "version": "3.8.11"
  }
 },
 "nbformat": 4,
 "nbformat_minor": 5
}
