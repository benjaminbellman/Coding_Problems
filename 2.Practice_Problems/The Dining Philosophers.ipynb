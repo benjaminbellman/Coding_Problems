{
 "cells": [
  {
   "cell_type": "markdown",
   "id": "b321c257",
   "metadata": {},
   "source": [
    "# The Dining Philosophers"
   ]
  },
  {
   "cell_type": "markdown",
   "id": "7a106beb",
   "metadata": {},
   "source": [
    "Five silent philosophers sit at a round table with bowls of spaghetti. Forks are placed between each pair of adjacent philosophers.\n",
    "\n",
    "Each philosopher must alternately think and eat. However, a philosopher can only eat spaghetti when they have both left and right forks. Each fork can be held by only one philosopher and so a philosopher can use the fork only if it is not being used by another philosopher. After an individual philosopher finishes eating, they need to put down both forks so that the forks become available to others. A philosopher can take the fork on their right or the one on their left as they become available, but cannot start eating before getting both forks.\n",
    "\n",
    "Eating is not limited by the remaining amounts of spaghetti or stomach space; an infinite supply and an infinite demand are assumed.\n",
    "\n",
    "Design a discipline of behaviour (a concurrent algorithm) such that no philosopher will starve; i.e., each can forever continue to alternate between eating and thinking, assuming that no philosopher can know when others may want to eat or think.\n",
    "\n",
    "The problem statement and the image above are taken from wikipedia.org\n",
    "\n",
    "The philosophers' ids are numbered from 0 to 4 in a clockwise order. Implement the function void wantsToEat(philosopher, pickLeftFork, pickRightFork, eat, putLeftFork, putRightFork) where:\n",
    "\n",
    "philosopher is the id of the philosopher who wants to eat.\n",
    "pickLeftFork and pickRightFork are functions you can call to pick the corresponding forks of that philosopher.\n",
    "eat is a function you can call to let the philosopher eat once he has picked both forks.\n",
    "putLeftFork and putRightFork are functions you can call to put down the corresponding forks of that philosopher.\n",
    "The philosophers are assumed to be thinking as long as they are not asking to eat (the function is not being called with their number).\n",
    "Five threads, each representing a philosopher, will simultaneously use one object of your class to simulate the process. The function may be called for the same philosopher more than once, even before the last call ends.\n",
    "\n",
    "**Example 1:**\n",
    "\n",
    "Input: n = 1\n",
    "Output: [[4,2,1],[4,1,1],[0,1,1],[2,2,1],[2,1,1],[2,0,3],[2,1,2],[2,2,2],[4,0,3],[4,1,2],[0,2,1],[4,2,2],[3,2,1],[3,1,1],[0,0,3],[0,1,2],[0,2,2],[1,2,1],[1,1,1],[3,0,3],[3,1,2],[3,2,2],[1,0,3],[1,1,2],[1,2,2]]\n",
    "\n",
    "Explanation:\n",
    "n is the number of times each philosopher will call the function.\n",
    "The output array describes the calls you made to the functions controlling the forks and the eat function, its format is:\n",
    "output[i] = [a, b, c] (three integers)\n",
    "- a is the id of a philosopher.\n",
    "- b specifies the fork: {1 : left, 2 : right}.\n",
    "- c specifies the operation: {1 : pick, 2 : put, 3 : eat}.\n",
    " \n",
    "**Constraints:**\n",
    "\n",
    "- 1 <= n <= 60"
   ]
  },
  {
   "cell_type": "code",
   "execution_count": 1,
   "id": "2eb3bf6b",
   "metadata": {},
   "outputs": [],
   "source": [
    "from threading import Lock\n",
    "\n",
    "class DiningPhilosophers:\n",
    "    def __init__(self):\n",
    "        self.forks = [Lock() for _ in range(5)]\n",
    "    \n",
    "    def wantsToEat(self, philosopher,\n",
    "                   pickLeftFork,\n",
    "                   pickRightFork,\n",
    "                   eat,\n",
    "                   putLeftFork,\n",
    "                   putRightFork):\n",
    "        left = philosopher\n",
    "        right = (philosopher + 1) % 5\n",
    "\n",
    "        # Always pick the lower fork first to avoid circular wait\n",
    "        first, second = (left, right) if left < right else (right, left)\n",
    "        first_lock = self.forks[first]\n",
    "        second_lock = self.forks[second]\n",
    "\n",
    "        # Acquire forks in order\n",
    "        with first_lock:\n",
    "            with second_lock:\n",
    "                # Pick forks\n",
    "                if first == left:\n",
    "                    pickLeftFork()\n",
    "                    pickRightFork()\n",
    "                else:\n",
    "                    pickRightFork()\n",
    "                    pickLeftFork()\n",
    "\n",
    "                # Eat\n",
    "                eat()\n",
    "\n",
    "                # Put forks down in same order\n",
    "                if first == left:\n",
    "                    putLeftFork()\n",
    "                    putRightFork()\n",
    "                else:\n",
    "                    putRightFork()\n",
    "                    putLeftFork()"
   ]
  },
  {
   "cell_type": "code",
   "execution_count": null,
   "id": "86e4235d",
   "metadata": {},
   "outputs": [],
   "source": []
  }
 ],
 "metadata": {
  "kernelspec": {
   "display_name": "Python 3 (ipykernel)",
   "language": "python",
   "name": "python3"
  },
  "language_info": {
   "codemirror_mode": {
    "name": "ipython",
    "version": 3
   },
   "file_extension": ".py",
   "mimetype": "text/x-python",
   "name": "python",
   "nbconvert_exporter": "python",
   "pygments_lexer": "ipython3",
   "version": "3.8.11"
  }
 },
 "nbformat": 4,
 "nbformat_minor": 5
}
