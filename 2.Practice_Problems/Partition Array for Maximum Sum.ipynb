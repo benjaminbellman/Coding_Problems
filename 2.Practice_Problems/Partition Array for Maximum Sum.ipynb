{
 "cells": [
  {
   "cell_type": "markdown",
   "id": "53f526a0",
   "metadata": {},
   "source": [
    "# Partition Array for Maximum Sum"
   ]
  },
  {
   "cell_type": "markdown",
   "id": "8cb4f970",
   "metadata": {},
   "source": [
    "Given an integer array arr, partition the array into (contiguous) subarrays of length at most k. After partitioning, each subarray has their values changed to become the maximum value of that subarray.\n",
    "\n",
    "Return the largest sum of the given array after partitioning. Test cases are generated so that the answer fits in a 32-bit integer.\n",
    "\n",
    "**Example 1:**\n",
    "\n",
    "Input: arr = [1,15,7,9,2,5,10], k = 3\n",
    "Output: 84\n",
    "Explanation: arr becomes [15,15,15,9,10,10,10]\n",
    "\n",
    "**Example 2:**\n",
    "\n",
    "Input: arr = [1,4,1,5,7,3,6,1,9,9,3], k = 4\n",
    "Output: 83\n",
    "\n",
    "**Example 3:**\n",
    "\n",
    "Input: arr = [1], k = 1\n",
    "Output: 1\n",
    " \n",
    "\n",
    "**Constraints:**\n",
    "\n",
    "- 1 <= arr.length <= 500\n",
    "- 0 <= arr[i] <= 109\n",
    "- 1 <= k <= arr.length"
   ]
  },
  {
   "cell_type": "code",
   "execution_count": 1,
   "id": "7df1cd3e",
   "metadata": {},
   "outputs": [
    {
     "name": "stdout",
     "output_type": "stream",
     "text": [
      "84\n"
     ]
    }
   ],
   "source": [
    "def maxSumAfterPartitioning(arr, k):\n",
    "    n = len(arr)\n",
    "    dp = [0] * (n + 1)\n",
    "    \n",
    "    for i in range(1, n+1):\n",
    "        curr_max = 0\n",
    "        # Consider all partitions that end at position i-1 and have length at most k\n",
    "        for length in range(1, min(k, i) + 1):\n",
    "            curr_max = max(curr_max, arr[i - length])\n",
    "            dp[i] = max(dp[i], dp[i - length] + curr_max * length)\n",
    "    \n",
    "    return dp[n]\n",
    "\n",
    "# Example usage:\n",
    "arr = [1,15,7,9,2,5,10]\n",
    "k = 3\n",
    "print(maxSumAfterPartitioning(arr, k))  # Output: 84"
   ]
  },
  {
   "cell_type": "code",
   "execution_count": null,
   "id": "e761397c",
   "metadata": {},
   "outputs": [],
   "source": []
  }
 ],
 "metadata": {
  "kernelspec": {
   "display_name": "Python 3 (ipykernel)",
   "language": "python",
   "name": "python3"
  },
  "language_info": {
   "codemirror_mode": {
    "name": "ipython",
    "version": 3
   },
   "file_extension": ".py",
   "mimetype": "text/x-python",
   "name": "python",
   "nbconvert_exporter": "python",
   "pygments_lexer": "ipython3",
   "version": "3.8.11"
  }
 },
 "nbformat": 4,
 "nbformat_minor": 5
}
