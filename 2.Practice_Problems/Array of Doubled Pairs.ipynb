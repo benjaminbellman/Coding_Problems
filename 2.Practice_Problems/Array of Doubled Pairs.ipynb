{
 "cells": [
  {
   "cell_type": "markdown",
   "id": "4baeea86",
   "metadata": {},
   "source": [
    "# Array of Doubled Pairs"
   ]
  },
  {
   "cell_type": "markdown",
   "id": "451a04b0",
   "metadata": {},
   "source": [
    "Given an integer array of even length arr, return true if it is possible to reorder arr such that arr[2 * i + 1] = 2 * arr[2 * i] for every 0 <= i < len(arr) / 2, or false otherwise.\n",
    "\n",
    "**Example 1:**\n",
    "\n",
    "Input: arr = [3,1,3,6]\n",
    "Output: false\n",
    "\n",
    "**Example 2:**\n",
    "\n",
    "Input: arr = [2,1,2,6]\n",
    "Output: false\n",
    "\n",
    "**Example 3:**\n",
    "\n",
    "Input: arr = [4,-2,2,-4]\n",
    "Output: true\n",
    "Explanation: We can take two groups, [-2,-4] and [2,4] to form [-2,-4,2,4] or [2,4,-2,-4].\n",
    " \n",
    "**Constraints:**\n",
    "\n",
    "- 2 <= arr.length <= 3 * 104\n",
    "- arr.length is even.\n",
    "- -105 <= arr[i] <= 105"
   ]
  },
  {
   "cell_type": "code",
   "execution_count": 1,
   "id": "c702f029",
   "metadata": {},
   "outputs": [],
   "source": [
    "from collections import Counter\n",
    "\n",
    "def canReorderDoubled(arr):\n",
    "    # Step 1: Count the frequency of each element\n",
    "    count = Counter(arr)\n",
    "    \n",
    "    # Step 2: Sort the array based on absolute value\n",
    "    for x in sorted(arr, key=abs):\n",
    "        # If there are no more occurrences of x, skip it\n",
    "        if count[x] == 0:\n",
    "            continue\n",
    "        # If we cannot find enough x's double, return False\n",
    "        if count[2 * x] == 0:\n",
    "            return False\n",
    "        # Pair x with its double and reduce their counts\n",
    "        count[x] -= 1\n",
    "        count[2 * x] -= 1\n",
    "    \n",
    "    # If we successfully paired all elements, return True\n",
    "    return True"
   ]
  },
  {
   "cell_type": "code",
   "execution_count": null,
   "id": "e10ba8d8",
   "metadata": {},
   "outputs": [],
   "source": []
  }
 ],
 "metadata": {
  "kernelspec": {
   "display_name": "Python 3 (ipykernel)",
   "language": "python",
   "name": "python3"
  },
  "language_info": {
   "codemirror_mode": {
    "name": "ipython",
    "version": 3
   },
   "file_extension": ".py",
   "mimetype": "text/x-python",
   "name": "python",
   "nbconvert_exporter": "python",
   "pygments_lexer": "ipython3",
   "version": "3.8.11"
  }
 },
 "nbformat": 4,
 "nbformat_minor": 5
}
