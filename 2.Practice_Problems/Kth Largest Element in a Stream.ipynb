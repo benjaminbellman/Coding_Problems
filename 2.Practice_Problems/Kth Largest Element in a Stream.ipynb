{
 "cells": [
  {
   "cell_type": "markdown",
   "id": "8063e43b",
   "metadata": {},
   "source": [
    "# Kth Largest Element in a Stream"
   ]
  },
  {
   "cell_type": "markdown",
   "id": "b72db610",
   "metadata": {},
   "source": [
    "Design a class to find the kth largest element in a stream. Note that it is the kth largest element in the sorted order, not the kth distinct element.\n",
    "\n",
    "Implement KthLargest class:\n",
    "\n",
    "KthLargest(int k, int[] nums) Initializes the object with the integer k and the stream of integers nums.\n",
    "int add(int val) Appends the integer val to the stream and returns the element representing the kth largest element in the stream.\n",
    " \n",
    "\n",
    "**Example 1:**\n",
    "\n",
    "    Input\n",
    "    [\"KthLargest\", \"add\", \"add\", \"add\", \"add\", \"add\"]\n",
    "    [[3, [4, 5, 8, 2]], [3], [5], [10], [9], [4]]\n",
    "\n",
    "    Output\n",
    "    [null, 4, 5, 5, 8, 8]\n",
    "\n",
    "Explanation\n",
    "    KthLargest kthLargest = new KthLargest(3, [4, 5, 8, 2]);\n",
    "    kthLargest.add(3);   // return 4\n",
    "    kthLargest.add(5);   // return 5\n",
    "    kthLargest.add(10);  // return 5\n",
    "    kthLargest.add(9);   // return 8\n",
    "    kthLargest.add(4);   // return 8\n",
    " \n",
    "\n",
    "**Constraints:**\n",
    "\n",
    "- 1 <= k <= 104\n",
    "- 0 <= nums.length <= 104\n",
    "- -104 <= nums[i] <= 104\n",
    "- -104 <= val <= 104\n",
    "- At most 104 calls will be made to add.\n",
    "- It is guaranteed that there will be at least k elements in the array when you search for the kth element."
   ]
  },
  {
   "cell_type": "code",
   "execution_count": 2,
   "id": "87a9c443",
   "metadata": {},
   "outputs": [],
   "source": [
    "import heapq\n",
    "from typing import List\n",
    "\n",
    "class KthLargest:\n",
    "\n",
    "    def __init__(self, k: int, nums: List[int]):\n",
    "        self.k = k\n",
    "        self.heap = nums\n",
    "        heapq.heapify(self.heap)\n",
    "        while len(self.heap) > k:\n",
    "            heapq.heappop(self.heap)\n",
    "\n",
    "    def add(self, val: int) -> int:\n",
    "        if len(self.heap) < self.k:\n",
    "            heapq.heappush(self.heap, val)\n",
    "        else:\n",
    "            heapq.heappushpop(self.heap, val)\n",
    "        return self.heap[0]"
   ]
  },
  {
   "cell_type": "code",
   "execution_count": null,
   "id": "23b84471",
   "metadata": {},
   "outputs": [],
   "source": []
  }
 ],
 "metadata": {
  "kernelspec": {
   "display_name": "Python 3",
   "language": "python",
   "name": "python3"
  },
  "language_info": {
   "codemirror_mode": {
    "name": "ipython",
    "version": 3
   },
   "file_extension": ".py",
   "mimetype": "text/x-python",
   "name": "python",
   "nbconvert_exporter": "python",
   "pygments_lexer": "ipython3",
   "version": "3.9.13"
  }
 },
 "nbformat": 4,
 "nbformat_minor": 5
}
