{
 "cells": [
  {
   "cell_type": "markdown",
   "id": "6653c23e",
   "metadata": {},
   "source": [
    "#  Smallest Good Base"
   ]
  },
  {
   "cell_type": "markdown",
   "id": "5058a159",
   "metadata": {},
   "source": [
    "Given an integer n represented as a string, return the smallest good base of n.\n",
    "\n",
    "We call k >= 2 a good base of n, if all digits of n base k are 1's.\n",
    "\n",
    " \n",
    "\n",
    "**Example 1:**\n",
    "\n",
    "Input: n = \"13\"\n",
    "Output: \"3\"\n",
    "Explanation: 13 base 3 is 111.\n",
    "\n",
    "**Example 2:**\n",
    "\n",
    "Input: n = \"4681\"\n",
    "Output: \"8\"\n",
    "Explanation: 4681 base 8 is 11111.\n",
    "\n",
    "**Example 3:**\n",
    "\n",
    "Input: n = \"1000000000000000000\"\n",
    "Output: \"999999999999999999\"\n",
    "Explanation: 1000000000000000000 base 999999999999999999 is 11.\n",
    " \n",
    "\n",
    "**Constraints:**\n",
    "\n",
    "- n is an integer in the range [3, 1018].\n",
    "- n does not contain any leading zeros."
   ]
  },
  {
   "cell_type": "code",
   "execution_count": 1,
   "id": "ca0dd314",
   "metadata": {},
   "outputs": [
    {
     "name": "stdout",
     "output_type": "stream",
     "text": [
      "3\n",
      "8\n",
      "999999999999999999\n"
     ]
    }
   ],
   "source": [
    "def smallest_good_base(n: str) -> str:\n",
    "    n = int(n)\n",
    "    max_m = int(math.log(n, 2))  # Upper bound for m\n",
    "    for m in range(max_m, 1, -1):\n",
    "        k = int((n)**(1/m))\n",
    "        if k > 1:\n",
    "            total = sum(k**i for i in range(m))\n",
    "            geom_sum = (k**(m + 1) - 1) // (k - 1)\n",
    "            if geom_sum == n:\n",
    "                return str(k)\n",
    "    return str(n - 1)\n",
    "\n",
    "import math\n",
    "\n",
    "# Test the function with examples\n",
    "print(smallest_good_base(\"13\"))  # Output should be \"3\"\n",
    "print(smallest_good_base(\"4681\"))  # Output should be \"8\"\n",
    "print(smallest_good_base(\"1000000000000000000\"))  # Output should be \"999999999999999999\""
   ]
  },
  {
   "cell_type": "code",
   "execution_count": null,
   "id": "9e6b0d07",
   "metadata": {},
   "outputs": [],
   "source": []
  }
 ],
 "metadata": {
  "kernelspec": {
   "display_name": "Python 3",
   "language": "python",
   "name": "python3"
  },
  "language_info": {
   "codemirror_mode": {
    "name": "ipython",
    "version": 3
   },
   "file_extension": ".py",
   "mimetype": "text/x-python",
   "name": "python",
   "nbconvert_exporter": "python",
   "pygments_lexer": "ipython3",
   "version": "3.9.13"
  }
 },
 "nbformat": 4,
 "nbformat_minor": 5
}
