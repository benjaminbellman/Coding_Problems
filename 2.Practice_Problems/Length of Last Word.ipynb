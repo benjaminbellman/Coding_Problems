{
 "cells": [
  {
   "cell_type": "markdown",
   "id": "ea98dd04",
   "metadata": {},
   "source": [
    "# Length of Last Word"
   ]
  },
  {
   "cell_type": "markdown",
   "id": "6682a8fd",
   "metadata": {},
   "source": [
    "Given a string s consisting of words and spaces, return the length of the last word in the string.\n",
    "\n",
    "A word is a maximal substring consisting of non-space characters only.\n",
    "\n",
    "**Example 1:**\n",
    "\n",
    "Input: s = \"Hello World\"\n",
    "Output: 5\n",
    "Explanation: The last word is \"World\" with length 5.\n",
    "\n",
    "**Example 2:**\n",
    "\n",
    "Input: s = \"   fly me   to   the moon  \"\n",
    "Output: 4\n",
    "Explanation: The last word is \"moon\" with length 4.\n",
    "\n",
    "**Example 3:**\n",
    "\n",
    "Input: s = \"luffy is still joyboy\"\n",
    "Output: 6\n",
    "Explanation: The last word is \"joyboy\" with length 6.\n",
    " \n",
    "**Constraints:**\n",
    "\n",
    "- 1 <= s.length <= 104\n",
    "- s consists of only English letters and spaces ' '.\n",
    "- There will be at least one word in s."
   ]
  },
  {
   "cell_type": "code",
   "execution_count": 1,
   "id": "86d4abce",
   "metadata": {},
   "outputs": [],
   "source": [
    "def lengthOfLastWord(s: str) -> int:\n",
    "    return len(s.strip().split()[-1])"
   ]
  },
  {
   "cell_type": "code",
   "execution_count": 2,
   "id": "eac92ddb",
   "metadata": {},
   "outputs": [
    {
     "name": "stdout",
     "output_type": "stream",
     "text": [
      "5\n",
      "4\n",
      "6\n"
     ]
    }
   ],
   "source": [
    "print(lengthOfLastWord(\"Hello World\"))                   # Output: 5\n",
    "print(lengthOfLastWord(\"   fly me   to   the moon  \"))   # Output: 4\n",
    "print(lengthOfLastWord(\"luffy is still joyboy\"))         # Output: 6"
   ]
  },
  {
   "cell_type": "code",
   "execution_count": null,
   "id": "3947438b",
   "metadata": {},
   "outputs": [],
   "source": []
  }
 ],
 "metadata": {
  "kernelspec": {
   "display_name": "Python 3 (ipykernel)",
   "language": "python",
   "name": "python3"
  },
  "language_info": {
   "codemirror_mode": {
    "name": "ipython",
    "version": 3
   },
   "file_extension": ".py",
   "mimetype": "text/x-python",
   "name": "python",
   "nbconvert_exporter": "python",
   "pygments_lexer": "ipython3",
   "version": "3.8.11"
  }
 },
 "nbformat": 4,
 "nbformat_minor": 5
}
