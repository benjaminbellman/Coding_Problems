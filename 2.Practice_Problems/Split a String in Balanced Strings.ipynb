{
 "cells": [
  {
   "cell_type": "markdown",
   "id": "c482f1f2",
   "metadata": {},
   "source": [
    "# Split a String in Balanced Strings"
   ]
  },
  {
   "cell_type": "markdown",
   "id": "1a189894",
   "metadata": {},
   "source": [
    "Balanced strings are those that have an equal quantity of 'L' and 'R' characters.\n",
    "\n",
    "Given a balanced string s, split it into some number of substrings such that:\n",
    "\n",
    "Each substring is balanced.\n",
    "Return the maximum number of balanced strings you can obtain.\n",
    "\n",
    "**Example 1:**\n",
    "\n",
    "Input: s = \"RLRRLLRLRL\"\n",
    "Output: 4\n",
    "Explanation: s can be split into \"RL\", \"RRLL\", \"RL\", \"RL\", each substring contains same number of 'L' and 'R'.\n",
    "\n",
    "**Example 2:**\n",
    "\n",
    "Input: s = \"RLRRRLLRLL\"\n",
    "Output: 2\n",
    "Explanation: s can be split into \"RL\", \"RRRLLRLL\", each substring contains same number of 'L' and 'R'.\n",
    "Note that s cannot be split into \"RL\", \"RR\", \"RL\", \"LR\", \"LL\", because the 2nd and 5th substrings are not balanced.\n",
    "\n",
    "**Example 3:**\n",
    "\n",
    "Input: s = \"LLLLRRRR\"\n",
    "Output: 1\n",
    "Explanation: s can be split into \"LLLLRRRR\".\n",
    " \n",
    "**Constraints:**\n",
    "\n",
    "- 2 <= s.length <= 1000\n",
    "- s[i] is either 'L' or 'R'.\n",
    "- s is a balanced string."
   ]
  },
  {
   "cell_type": "code",
   "execution_count": 1,
   "id": "45305a97",
   "metadata": {},
   "outputs": [],
   "source": [
    "def balancedStringSplit(s: str) -> int:\n",
    "    balance = 0\n",
    "    count = 0\n",
    "    for char in s:\n",
    "        if char == 'R':\n",
    "            balance += 1\n",
    "        else:  # char == 'L'\n",
    "            balance -= 1\n",
    "        if balance == 0:\n",
    "            count += 1\n",
    "    return count"
   ]
  },
  {
   "cell_type": "code",
   "execution_count": 2,
   "id": "5fed7928",
   "metadata": {},
   "outputs": [
    {
     "name": "stdout",
     "output_type": "stream",
     "text": [
      "4\n",
      "2\n",
      "1\n"
     ]
    }
   ],
   "source": [
    "print(balancedStringSplit(\"RLRRLLRLRL\"))  # Output: 4\n",
    "print(balancedStringSplit(\"RLRRRLLRLL\"))  # Output: 2\n",
    "print(balancedStringSplit(\"LLLLRRRR\"))    # Output: 1"
   ]
  },
  {
   "cell_type": "code",
   "execution_count": null,
   "id": "27338579",
   "metadata": {},
   "outputs": [],
   "source": []
  }
 ],
 "metadata": {
  "kernelspec": {
   "display_name": "Python 3 (ipykernel)",
   "language": "python",
   "name": "python3"
  },
  "language_info": {
   "codemirror_mode": {
    "name": "ipython",
    "version": 3
   },
   "file_extension": ".py",
   "mimetype": "text/x-python",
   "name": "python",
   "nbconvert_exporter": "python",
   "pygments_lexer": "ipython3",
   "version": "3.8.11"
  }
 },
 "nbformat": 4,
 "nbformat_minor": 5
}
