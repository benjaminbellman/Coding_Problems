{
 "cells": [
  {
   "cell_type": "markdown",
   "id": "92955a3c",
   "metadata": {},
   "source": [
    "# Expressive Words"
   ]
  },
  {
   "cell_type": "markdown",
   "id": "f5a8122a",
   "metadata": {},
   "source": [
    "Sometimes people repeat letters to represent extra feeling. For example:\n",
    "\n",
    "- \"hello\" -> \"heeellooo\"\n",
    "- \"hi\" -> \"hiiii\"\n",
    "\n",
    "In these strings like \"heeellooo\", we have groups of adjacent letters that are all the same: \"h\", \"eee\", \"ll\", \"ooo\".\n",
    "\n",
    "You are given a string s and an array of query strings words. A query word is stretchy if it can be made to be equal to s by any number of applications of the following extension operation: choose a group consisting of characters c, and add some number of characters c to the group so that the size of the group is three or more.\n",
    "\n",
    "For example, starting with \"hello\", we could do an extension on the group \"o\" to get \"hellooo\", but we cannot get \"helloo\" since the group \"oo\" has a size less than three. Also, we could do another extension like \"ll\" -> \"lllll\" to get \"helllllooo\". If s = \"helllllooo\", then the query word \"hello\" would be stretchy because of these two extension operations: query = \"hello\" -> \"hellooo\" -> \"helllllooo\" = s.\n",
    "Return the number of query strings that are stretchy.\n",
    "\n",
    " \n",
    "\n",
    "**Example 1:**\n",
    "\n",
    "Input: s = \"heeellooo\", words = [\"hello\", \"hi\", \"helo\"]\n",
    "Output: 1\n",
    "Explanation: \n",
    "We can extend \"e\" and \"o\" in the word \"hello\" to get \"heeellooo\".\n",
    "We can't extend \"helo\" to get \"heeellooo\" because the group \"ll\" is not size 3 or more.\n",
    "\n",
    "**Example 2:**\n",
    "\n",
    "Input: s = \"zzzzzyyyyy\", words = [\"zzyy\",\"zy\",\"zyy\"]\n",
    "Output: 3\n",
    " \n",
    "\n",
    "**Constraints:**\n",
    "\n",
    "- 1 <= s.length, words.length <= 100\n",
    "- 1 <= words[i].length <= 100\n",
    "- s and words[i] consist of lowercase letters."
   ]
  },
  {
   "cell_type": "code",
   "execution_count": 1,
   "id": "88eebea1",
   "metadata": {},
   "outputs": [
    {
     "name": "stdout",
     "output_type": "stream",
     "text": [
      "1\n",
      "3\n"
     ]
    }
   ],
   "source": [
    "def is_stretchy(s, word):\n",
    "    i, j = 0, 0\n",
    "    while i < len(s) and j < len(word):\n",
    "        if s[i] != word[j]:\n",
    "            return False\n",
    "        count_s = 1\n",
    "        count_word = 1\n",
    "        while i + 1 < len(s) and s[i] == s[i + 1]:\n",
    "            count_s += 1\n",
    "            i += 1\n",
    "        while j + 1 < len(word) and word[j] == word[j + 1]:\n",
    "            count_word += 1\n",
    "            j += 1\n",
    "        if count_s < 3 and count_s != count_word:\n",
    "            return False\n",
    "        i += 1\n",
    "        j += 1\n",
    "    return i == len(s) and j == len(word)\n",
    "\n",
    "def count_stretchy_words(s, words):\n",
    "    count = 0\n",
    "    for word in words:\n",
    "        if is_stretchy(s, word):\n",
    "            count += 1\n",
    "    return count\n",
    "\n",
    "# Example usage\n",
    "s1 = \"heeellooo\"\n",
    "words1 = [\"hello\", \"hi\", \"helo\"]\n",
    "print(count_stretchy_words(s1, words1))  # Output: 1\n",
    "\n",
    "s2 = \"zzzzzyyyyy\"\n",
    "words2 = [\"zzyy\", \"zy\", \"zyy\"]\n",
    "print(count_stretchy_words(s2, words2))  # Output: 3"
   ]
  },
  {
   "cell_type": "code",
   "execution_count": null,
   "id": "f28e4be9",
   "metadata": {},
   "outputs": [],
   "source": []
  }
 ],
 "metadata": {
  "kernelspec": {
   "display_name": "Python 3",
   "language": "python",
   "name": "python3"
  },
  "language_info": {
   "codemirror_mode": {
    "name": "ipython",
    "version": 3
   },
   "file_extension": ".py",
   "mimetype": "text/x-python",
   "name": "python",
   "nbconvert_exporter": "python",
   "pygments_lexer": "ipython3",
   "version": "3.9.13"
  }
 },
 "nbformat": 4,
 "nbformat_minor": 5
}
