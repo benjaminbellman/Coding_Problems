{
 "cells": [
  {
   "cell_type": "markdown",
   "id": "52e65c1e",
   "metadata": {},
   "source": [
    "# Monotone Increasing Digits"
   ]
  },
  {
   "cell_type": "markdown",
   "id": "bc71fadc",
   "metadata": {},
   "source": [
    "An integer has monotone increasing digits if and only if each pair of adjacent digits x and y satisfy x <= y.\n",
    "\n",
    "Given an integer n, return the largest number that is less than or equal to n with monotone increasing digits.\n",
    "\n",
    " \n",
    "\n",
    "**Example 1:**\n",
    "\n",
    "Input: n = 10\n",
    "Output: 9\n",
    "\n",
    "**Example 2:**\n",
    "\n",
    "Input: n = 1234\n",
    "Output: 1234\n",
    "\n",
    "**Example 3:**\n",
    "\n",
    "Input: n = 332\n",
    "Output: 299\n",
    " \n",
    "\n",
    "**Constraints:**\n",
    "\n",
    "- 0 <= n <= 109"
   ]
  },
  {
   "cell_type": "code",
   "execution_count": 1,
   "id": "aaec84bb",
   "metadata": {},
   "outputs": [
    {
     "name": "stdout",
     "output_type": "stream",
     "text": [
      "9\n",
      "1234\n",
      "299\n"
     ]
    }
   ],
   "source": [
    "def monotoneIncreasingDigits(n):\n",
    "    digits = list(str(n))\n",
    "    length = len(digits)\n",
    "    idx = -1\n",
    "\n",
    "    # Find the first index where the digit is decreasing\n",
    "    for i in range(length - 1):\n",
    "        if digits[i] > digits[i + 1]:\n",
    "            idx = i\n",
    "            break\n",
    "\n",
    "    # If no decreasing digit found, the number is already monotone increasing\n",
    "    if idx == -1:\n",
    "        return n\n",
    "\n",
    "    # Decrement the digit at idx and set all subsequent digits to 9\n",
    "    digits[idx] = str(int(digits[idx]) - 1)\n",
    "    for i in range(idx + 1, length):\n",
    "        digits[i] = '9'\n",
    "\n",
    "    # Check if any earlier digits need to be decremented due to the change\n",
    "    for i in range(idx, 0, -1):\n",
    "        if digits[i] < digits[i - 1]:\n",
    "            digits[i - 1] = str(int(digits[i - 1]) - 1)\n",
    "            digits[i] = '9'\n",
    "\n",
    "    return int(''.join(digits))\n",
    "\n",
    "# Test cases\n",
    "print(monotoneIncreasingDigits(10))  # Output: 9\n",
    "print(monotoneIncreasingDigits(1234))  # Output: 1234\n",
    "print(monotoneIncreasingDigits(332))  # Output: 299"
   ]
  },
  {
   "cell_type": "code",
   "execution_count": null,
   "id": "3bdc82e8",
   "metadata": {},
   "outputs": [],
   "source": []
  }
 ],
 "metadata": {
  "kernelspec": {
   "display_name": "Python 3",
   "language": "python",
   "name": "python3"
  },
  "language_info": {
   "codemirror_mode": {
    "name": "ipython",
    "version": 3
   },
   "file_extension": ".py",
   "mimetype": "text/x-python",
   "name": "python",
   "nbconvert_exporter": "python",
   "pygments_lexer": "ipython3",
   "version": "3.9.13"
  }
 },
 "nbformat": 4,
 "nbformat_minor": 5
}
