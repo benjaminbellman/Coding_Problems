{
 "cells": [
  {
   "cell_type": "markdown",
   "id": "f58f53ae",
   "metadata": {},
   "source": [
    "Given an integer x, return true if x is palindrome integer.\n",
    "\n",
    "An integer is a palindrome when it reads the same backward as forward.\n",
    "\n",
    "For example, 121 is a palindrome while 123 is not."
   ]
  },
  {
   "cell_type": "code",
   "execution_count": 65,
   "id": "31e37148",
   "metadata": {},
   "outputs": [
    {
     "name": "stdout",
     "output_type": "stream",
     "text": [
      "True\n",
      "False\n",
      "True\n"
     ]
    }
   ],
   "source": [
    "x = 34543\n",
    "x2 = 8456\n",
    "x3 = 219454912\n",
    "\n",
    "def is_palandrome(x):\n",
    "    list_of_numbers = ''\n",
    "    list_of_numbers_2 = ''\n",
    "    for i in str(x):\n",
    "        list_of_numbers += i\n",
    "    counter = -1\n",
    "    for k in list_of_numbers:\n",
    "        list_of_numbers_2 += list_of_numbers[counter]\n",
    "        counter = counter - 1 \n",
    "    if list_of_numbers == list_of_numbers_2:\n",
    "        return True \n",
    "    else:\n",
    "        return False\n",
    "   \n",
    "\n",
    "print(is_palandrome(x))\n",
    "print(is_palandrome(x2))\n",
    "print(is_palandrome(x3))"
   ]
  },
  {
   "cell_type": "code",
   "execution_count": null,
   "id": "8ae325a4",
   "metadata": {},
   "outputs": [],
   "source": []
  }
 ],
 "metadata": {
  "kernelspec": {
   "display_name": "Python 3 (ipykernel)",
   "language": "python",
   "name": "python3"
  },
  "language_info": {
   "codemirror_mode": {
    "name": "ipython",
    "version": 3
   },
   "file_extension": ".py",
   "mimetype": "text/x-python",
   "name": "python",
   "nbconvert_exporter": "python",
   "pygments_lexer": "ipython3",
   "version": "3.9.10"
  }
 },
 "nbformat": 4,
 "nbformat_minor": 5
}
