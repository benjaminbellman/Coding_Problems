{
 "cells": [
  {
   "cell_type": "markdown",
   "id": "f033f404",
   "metadata": {},
   "source": [
    "# Data Stream as Disjoint Intervals"
   ]
  },
  {
   "cell_type": "markdown",
   "id": "491c6cb5",
   "metadata": {},
   "source": [
    "Given a data stream input of non-negative integers a1, a2, ..., an, summarize the numbers seen so far as a list of disjoint intervals.\n",
    "\n",
    "Implement the SummaryRanges class:\n",
    "\n",
    "- SummaryRanges() Initializes the object with an empty stream.\n",
    "- void addNum(int value) Adds the integer value to the stream.\n",
    "- int[][] getIntervals() Returns a summary of the integers in the stream currently as a list of disjoint intervals [starti, endi]. The answer should be sorted by starti.\n",
    " \n",
    "\n",
    "**Example 1:**\n",
    "\n",
    "Input\n",
    "[\"SummaryRanges\", \"addNum\", \"getIntervals\", \"addNum\", \"getIntervals\", \"addNum\", \"getIntervals\", \"addNum\", \"getIntervals\", \"addNum\", \"getIntervals\"]\n",
    "[[], [1], [], [3], [], [7], [], [2], [], [6], []]\n",
    "Output\n",
    "[null, null, [[1, 1]], null, [[1, 1], [3, 3]], null, [[1, 1], [3, 3], [7, 7]], null, [[1, 3], [7, 7]], null, [[1, 3], [6, 7]]]\n",
    "\n",
    "Explanation\n",
    "SummaryRanges summaryRanges = new SummaryRanges();\n",
    "summaryRanges.addNum(1);      // arr = [1]\n",
    "summaryRanges.getIntervals(); // return [[1, 1]]\n",
    "summaryRanges.addNum(3);      // arr = [1, 3]\n",
    "summaryRanges.getIntervals(); // return [[1, 1], [3, 3]]\n",
    "summaryRanges.addNum(7);      // arr = [1, 3, 7]\n",
    "summaryRanges.getIntervals(); // return [[1, 1], [3, 3], [7, 7]]\n",
    "summaryRanges.addNum(2);      // arr = [1, 2, 3, 7]\n",
    "summaryRanges.getIntervals(); // return [[1, 3], [7, 7]]\n",
    "summaryRanges.addNum(6);      // arr = [1, 2, 3, 6, 7]\n",
    "summaryRanges.getIntervals(); // return [[1, 3], [6, 7]]\n",
    " \n",
    "\n",
    "**Constraints:**\n",
    "\n",
    "0 <= value <= 104\n",
    "At most 3 * 104 calls will be made to addNum and getIntervals.\n",
    "At most 102 calls will be made to getIntervals.\n",
    " \n",
    "\n",
    "Follow up: What if there are lots of merges and the number of disjoint intervals is small compared to the size of the data stream?"
   ]
  },
  {
   "cell_type": "code",
   "execution_count": 1,
   "id": "8d5c9154",
   "metadata": {},
   "outputs": [],
   "source": [
    "class SummaryRanges:\n",
    "    def __init__(self):\n",
    "        self.intervals = []\n",
    "\n",
    "    def addNum(self, value):\n",
    "        if not self.intervals:\n",
    "            self.intervals.append([value, value])\n",
    "        else:\n",
    "            start, end = 0, len(self.intervals) - 1\n",
    "            while start <= end:\n",
    "                mid = (start + end) // 2\n",
    "                if self.intervals[mid][0] <= value <= self.intervals[mid][1]:\n",
    "                    return\n",
    "                elif value + 1 == self.intervals[mid][0]:\n",
    "                    self.intervals[mid][0] = value\n",
    "                    if mid > 0 and self.intervals[mid - 1][1] + 1 == value:\n",
    "                        self.intervals[mid - 1][1] = self.intervals[mid][1]\n",
    "                        self.intervals.pop(mid)\n",
    "                    return\n",
    "                elif value - 1 == self.intervals[mid][1]:\n",
    "                    self.intervals[mid][1] = value\n",
    "                    if mid < len(self.intervals) - 1 and self.intervals[mid + 1][0] - 1 == value:\n",
    "                        self.intervals[mid + 1][0] = self.intervals[mid][0]\n",
    "                        self.intervals.pop(mid)\n",
    "                    return\n",
    "                elif value < self.intervals[mid][0]:\n",
    "                    end = mid - 1\n",
    "                else:\n",
    "                    start = mid + 1\n",
    "\n",
    "            self.intervals.insert(start, [value, value])\n",
    "\n",
    "    def getIntervals(self):\n",
    "        return self.intervals"
   ]
  },
  {
   "cell_type": "code",
   "execution_count": 2,
   "id": "af4ae48b",
   "metadata": {},
   "outputs": [
    {
     "name": "stdout",
     "output_type": "stream",
     "text": [
      "[[1, 1]]\n",
      "[[1, 1], [3, 3]]\n",
      "[[1, 1], [3, 3], [7, 7]]\n",
      "[[1, 3], [7, 7]]\n",
      "[[1, 3], [6, 7]]\n"
     ]
    }
   ],
   "source": [
    "obj = SummaryRanges()\n",
    "obj.addNum(1)\n",
    "print(obj.getIntervals())  # Output: [[1, 1]]\n",
    "obj.addNum(3)\n",
    "print(obj.getIntervals())  # Output: [[1, 1], [3, 3]]\n",
    "obj.addNum(7)\n",
    "print(obj.getIntervals())  # Output: [[1, 1], [3, 3], [7, 7]]\n",
    "obj.addNum(2)\n",
    "print(obj.getIntervals())  # Output: [[1, 3], [7, 7]]\n",
    "obj.addNum(6)\n",
    "print(obj.getIntervals())  # Output: [[1, 3], [6, 7]]"
   ]
  },
  {
   "cell_type": "code",
   "execution_count": null,
   "id": "1d5cace6",
   "metadata": {},
   "outputs": [],
   "source": []
  }
 ],
 "metadata": {
  "kernelspec": {
   "display_name": "Python 3",
   "language": "python",
   "name": "python3"
  },
  "language_info": {
   "codemirror_mode": {
    "name": "ipython",
    "version": 3
   },
   "file_extension": ".py",
   "mimetype": "text/x-python",
   "name": "python",
   "nbconvert_exporter": "python",
   "pygments_lexer": "ipython3",
   "version": "3.9.13"
  }
 },
 "nbformat": 4,
 "nbformat_minor": 5
}
