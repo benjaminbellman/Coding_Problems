{
 "cells": [
  {
   "cell_type": "markdown",
   "id": "08aab320",
   "metadata": {},
   "source": [
    "# Robot Return to Origin"
   ]
  },
  {
   "cell_type": "markdown",
   "id": "14db49b8",
   "metadata": {},
   "source": [
    "There is a robot starting at the position (0, 0), the origin, on a 2D plane. Given a sequence of its moves, judge if this robot ends up at (0, 0) after it completes its moves.\n",
    "\n",
    "You are given a string moves that represents the move sequence of the robot where moves[i] represents its ith move. Valid moves are 'R' (right), 'L' (left), 'U' (up), and 'D' (down).\n",
    "\n",
    "Return true if the robot returns to the origin after it finishes all of its moves, or false otherwise.\n",
    "\n",
    "Note: The way that the robot is \"facing\" is irrelevant. 'R' will always make the robot move to the right once, 'L' will always make it move left, etc. Also, assume that the magnitude of the robot's movement is the same for each move.\n",
    "\n",
    " \n",
    "\n",
    "**Example 1:**\n",
    "\n",
    "Input: moves = \"UD\"\n",
    "\n",
    "Output: true\n",
    "Explanation: The robot moves up once, and then down once. All moves have the same magnitude, so it ended up at the origin where it started. Therefore, we return true.\n",
    "\n",
    "**Example 2:**\n",
    "\n",
    "Input: moves = \"LL\"\n",
    "\n",
    "Output: false\n",
    "Explanation: The robot moves left twice. It ends up two \"moves\" to the left of the origin. We return false because it is not at the origin at the end of its moves.\n",
    " \n",
    "\n",
    "**Constraints:**\n",
    "\n",
    "- 1 <= moves.length <= 2 * 104\n",
    "- moves only contains the characters 'U', 'D', 'L' and 'R'."
   ]
  },
  {
   "cell_type": "code",
   "execution_count": 1,
   "id": "aebced0e",
   "metadata": {},
   "outputs": [
    {
     "name": "stdout",
     "output_type": "stream",
     "text": [
      "True\n",
      "False\n"
     ]
    }
   ],
   "source": [
    "def judgeCircle(moves):\n",
    "    # Initialize the current position of the robot at the origin (0, 0)\n",
    "    x, y = 0, 0\n",
    "\n",
    "    # Iterate through each move in the input string\n",
    "    for move in moves:\n",
    "        if move == 'U':\n",
    "            y += 1\n",
    "        elif move == 'D':\n",
    "            y -= 1\n",
    "        elif move == 'L':\n",
    "            x -= 1\n",
    "        elif move == 'R':\n",
    "            x += 1\n",
    "\n",
    "    # Check if the final position is back at the origin (0, 0)\n",
    "    return x == 0 and y == 0\n",
    "\n",
    "# Example usage:\n",
    "moves1 = \"UD\"\n",
    "print(judgeCircle(moves1))  # Output: true\n",
    "\n",
    "moves2 = \"LL\"\n",
    "print(judgeCircle(moves2))  # Output: false"
   ]
  }
 ],
 "metadata": {
  "kernelspec": {
   "display_name": "Python 3",
   "language": "python",
   "name": "python3"
  },
  "language_info": {
   "codemirror_mode": {
    "name": "ipython",
    "version": 3
   },
   "file_extension": ".py",
   "mimetype": "text/x-python",
   "name": "python",
   "nbconvert_exporter": "python",
   "pygments_lexer": "ipython3",
   "version": "3.9.13"
  }
 },
 "nbformat": 4,
 "nbformat_minor": 5
}
