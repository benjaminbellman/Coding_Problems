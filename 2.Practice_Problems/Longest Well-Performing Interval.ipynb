{
 "cells": [
  {
   "cell_type": "markdown",
   "id": "d27d2511",
   "metadata": {},
   "source": [
    "# Longest Well-Performing Interval"
   ]
  },
  {
   "cell_type": "markdown",
   "id": "53cd4482",
   "metadata": {},
   "source": [
    "We are given hours, a list of the number of hours worked per day for a given employee.\n",
    "\n",
    "A day is considered to be a tiring day if and only if the number of hours worked is (strictly) greater than 8.\n",
    "\n",
    "A well-performing interval is an interval of days for which the number of tiring days is strictly larger than the number of non-tiring days.\n",
    "\n",
    "Return the length of the longest well-performing interval.\n",
    "\n",
    "**Example 1:**\n",
    "\n",
    "Input: hours = [9,9,6,0,6,6,9]\n",
    "Output: 3\n",
    "Explanation: The longest well-performing interval is [9,9,6].\n",
    "\n",
    "**Example 2:**\n",
    "\n",
    "Input: hours = [6,6,6]\n",
    "Output: 0\n",
    " \n",
    "**Constraints:**\n",
    "\n",
    "- 1 <= hours.length <= 104\n",
    "- 0 <= hours[i] <= 16"
   ]
  },
  {
   "cell_type": "code",
   "execution_count": 1,
   "id": "dae4bd99",
   "metadata": {},
   "outputs": [],
   "source": [
    "def longestWPI(hours):\n",
    "    prefix_sum = 0\n",
    "    index_map = {}  # Stores the first occurrence of each prefix sum\n",
    "    max_length = 0\n",
    "\n",
    "    for i, h in enumerate(hours):\n",
    "        # Convert hours into +1 (tiring) and -1 (non-tiring)\n",
    "        prefix_sum += 1 if h > 8 else -1\n",
    "\n",
    "        # If prefix_sum is positive, we can take the whole subarray [0:i]\n",
    "        if prefix_sum > 0:\n",
    "            max_length = i + 1\n",
    "        else:\n",
    "            # If prefix_sum - 1 exists, update max_length\n",
    "            if prefix_sum - 1 in index_map:\n",
    "                max_length = max(max_length, i - index_map[prefix_sum - 1])\n",
    "\n",
    "            # Store the first occurrence of this prefix_sum\n",
    "            if prefix_sum not in index_map:\n",
    "                index_map[prefix_sum] = i\n",
    "\n",
    "    return max_length"
   ]
  },
  {
   "cell_type": "code",
   "execution_count": 2,
   "id": "3ffba9f7",
   "metadata": {},
   "outputs": [
    {
     "data": {
      "text/plain": [
       "3"
      ]
     },
     "execution_count": 2,
     "metadata": {},
     "output_type": "execute_result"
    }
   ],
   "source": [
    "hours = [9,9,6,0,6,6,9]\n",
    "longestWPI(hours) # Output: 3"
   ]
  },
  {
   "cell_type": "code",
   "execution_count": null,
   "id": "1e6206d2",
   "metadata": {},
   "outputs": [],
   "source": []
  }
 ],
 "metadata": {
  "kernelspec": {
   "display_name": "Python 3 (ipykernel)",
   "language": "python",
   "name": "python3"
  },
  "language_info": {
   "codemirror_mode": {
    "name": "ipython",
    "version": 3
   },
   "file_extension": ".py",
   "mimetype": "text/x-python",
   "name": "python",
   "nbconvert_exporter": "python",
   "pygments_lexer": "ipython3",
   "version": "3.8.11"
  }
 },
 "nbformat": 4,
 "nbformat_minor": 5
}
