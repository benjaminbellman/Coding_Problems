{
 "cells": [
  {
   "cell_type": "markdown",
   "id": "a028978c",
   "metadata": {},
   "source": [
    "# Sum Root to Leaf Numbers"
   ]
  },
  {
   "cell_type": "markdown",
   "id": "32fd03fb",
   "metadata": {},
   "source": [
    "You are given the root of a binary tree containing digits from 0 to 9 only.\n",
    "\n",
    "Each root-to-leaf path in the tree represents a number.\n",
    "\n",
    "For example, the root-to-leaf path 1 -> 2 -> 3 represents the number 123.\n",
    "Return the total sum of all root-to-leaf numbers. Test cases are generated so that the answer will fit in a 32-bit integer.\n",
    "\n",
    "A leaf node is a node with no children.\n",
    "\n",
    "**Example 1:**\n",
    "\n",
    "Input: root = [1,2,3]\n",
    "Output: 25\n",
    "Explanation:\n",
    "The root-to-leaf path 1->2 represents the number 12.\n",
    "The root-to-leaf path 1->3 represents the number 13.\n",
    "Therefore, sum = 12 + 13 = 25.\n",
    "\n",
    "**Example 2:**\n",
    "\n",
    "Input: root = [4,9,0,5,1]\n",
    "Output: 1026\n",
    "Explanation:\n",
    "The root-to-leaf path 4->9->5 represents the number 495.\n",
    "The root-to-leaf path 4->9->1 represents the number 491.\n",
    "The root-to-leaf path 4->0 represents the number 40.\n",
    "Therefore, sum = 495 + 491 + 40 = 1026.\n",
    " \n",
    "**Constraints:**\n",
    "\n",
    "- The number of nodes in the tree is in the range [1, 1000].\n",
    "- 0 <= Node.val <= 9\n",
    "- The depth of the tree will not exceed 10."
   ]
  },
  {
   "cell_type": "code",
   "execution_count": 1,
   "id": "a26e8fe6",
   "metadata": {},
   "outputs": [],
   "source": [
    "# Definition for a binary tree node.\n",
    "class TreeNode:\n",
    "    def __init__(self, val=0, left=None, right=None):\n",
    "        self.val = val\n",
    "        self.left = left\n",
    "        self.right = right\n",
    "\n",
    "class Solution:\n",
    "    def sumNumbers(self, root: TreeNode) -> int:\n",
    "        def dfs(node, acc):\n",
    "            if not node:\n",
    "                return 0\n",
    "            acc = acc * 10 + node.val\n",
    "            if not node.left and not node.right:  # leaf\n",
    "                return acc\n",
    "            return dfs(node.left, acc) + dfs(node.right, acc)\n",
    "        return dfs(root, 0)"
   ]
  },
  {
   "cell_type": "code",
   "execution_count": null,
   "id": "53cdfce2",
   "metadata": {},
   "outputs": [],
   "source": []
  }
 ],
 "metadata": {
  "kernelspec": {
   "display_name": "Python 3 (ipykernel)",
   "language": "python",
   "name": "python3"
  },
  "language_info": {
   "codemirror_mode": {
    "name": "ipython",
    "version": 3
   },
   "file_extension": ".py",
   "mimetype": "text/x-python",
   "name": "python",
   "nbconvert_exporter": "python",
   "pygments_lexer": "ipython3",
   "version": "3.8.11"
  }
 },
 "nbformat": 4,
 "nbformat_minor": 5
}
