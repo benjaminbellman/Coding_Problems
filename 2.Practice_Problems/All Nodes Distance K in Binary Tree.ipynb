{
 "cells": [
  {
   "cell_type": "markdown",
   "id": "17bd6a96",
   "metadata": {},
   "source": [
    "# All Nodes Distance K in Binary Tree"
   ]
  },
  {
   "cell_type": "markdown",
   "id": "98f1730c",
   "metadata": {},
   "source": [
    "Given the root of a binary tree, the value of a target node target, and an integer k, return an array of the values of all nodes that have a distance k from the target node.\n",
    "\n",
    "You can return the answer in any order.\n",
    "\n",
    "**Example 1:**\n",
    "\n",
    "\n",
    "Input: root = [3,5,1,6,2,0,8,null,null,7,4], target = 5, k = 2\n",
    "Output: [7,4,1]\n",
    "Explanation: The nodes that are a distance 2 from the target node (with value 5) have values 7, 4, and 1.\n",
    "\n",
    "**Example 2:**\n",
    "\n",
    "Input: root = [1], target = 1, k = 3\n",
    "Output: []\n",
    " \n",
    "\n",
    "**Constraints:**\n",
    "\n",
    "- The number of nodes in the tree is in the range [1, 500].\n",
    "- 0 <= Node.val <= 500\n",
    "- All the values Node.val are unique.\n",
    "- target is the value of one of the nodes in the tree.\n",
    "- 0 <= k <= 1000"
   ]
  },
  {
   "cell_type": "code",
   "execution_count": 2,
   "id": "1e563711",
   "metadata": {},
   "outputs": [],
   "source": [
    "class TreeNode:\n",
    "    def __init__(self, val=0, left=None, right=None):\n",
    "        self.val = val\n",
    "        self.left = left\n",
    "        self.right = right\n",
    "\n",
    "def distanceK(root, target, k):\n",
    "    # Convert the tree into an undirected graph\n",
    "    graph = {}\n",
    "    \n",
    "    def build_graph(node, parent):\n",
    "        if node:\n",
    "            graph.setdefault(node.val, [])\n",
    "            if parent:\n",
    "                graph[node.val].append(parent.val)\n",
    "                graph[parent.val].append(node.val)\n",
    "            if node.left:\n",
    "                graph[node.val].append(node.left.val)\n",
    "                build_graph(node.left, node)\n",
    "            if node.right:\n",
    "                graph[node.val].append(node.right.val)\n",
    "                build_graph(node.right, node)\n",
    "    \n",
    "    build_graph(root, None)\n",
    "    \n",
    "    # Find the target node and its distance from the root\n",
    "    target_node = None\n",
    "    \n",
    "    def find_target(node, target_value):\n",
    "        nonlocal target_node\n",
    "        if not node:\n",
    "            return -1\n",
    "        if node.val == target_value:\n",
    "            target_node = node\n",
    "            return 0\n",
    "        left_dist = find_target(node.left, target_value)\n",
    "        if left_dist >= 0:\n",
    "            if left_dist + 1 == k:\n",
    "                result.append(node.val)\n",
    "            dfs(node.right, left_dist + 2)\n",
    "            return left_dist + 1\n",
    "        right_dist = find_target(node.right, target_value)"
   ]
  },
  {
   "cell_type": "code",
   "execution_count": null,
   "id": "c42df8f6",
   "metadata": {},
   "outputs": [],
   "source": []
  }
 ],
 "metadata": {
  "kernelspec": {
   "display_name": "Python 3 (ipykernel)",
   "language": "python",
   "name": "python3"
  },
  "language_info": {
   "codemirror_mode": {
    "name": "ipython",
    "version": 3
   },
   "file_extension": ".py",
   "mimetype": "text/x-python",
   "name": "python",
   "nbconvert_exporter": "python",
   "pygments_lexer": "ipython3",
   "version": "3.8.11"
  }
 },
 "nbformat": 4,
 "nbformat_minor": 5
}
