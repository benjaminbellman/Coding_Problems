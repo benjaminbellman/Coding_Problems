{
 "cells": [
  {
   "cell_type": "markdown",
   "id": "9091f46f",
   "metadata": {},
   "source": [
    "# Single Number II"
   ]
  },
  {
   "cell_type": "markdown",
   "id": "fb0d7341",
   "metadata": {},
   "source": [
    "Given an integer array nums where every element appears three times except for one, which appears exactly once. Find the single element and return it.\n",
    "\n",
    "You must implement a solution with a linear runtime complexity and use only constant extra space.\n",
    "\n",
    "**Example 1:**\n",
    "\n",
    "Input: nums = [2,2,3,2]\n",
    "Output: 3\n",
    "\n",
    "**Example 2:**\n",
    "\n",
    "Input: nums = [0,1,0,1,0,1,99]\n",
    "Output: 99\n",
    "\n",
    "**Constraints:**\n",
    "\n",
    "- 1 <= nums.length <= 3 * 104\n",
    "- -231 <= nums[i] <= 231 - 1\n",
    "- Each element in nums appears exactly three times except for one element which appears once."
   ]
  },
  {
   "cell_type": "code",
   "execution_count": 1,
   "id": "5892fdf2",
   "metadata": {},
   "outputs": [],
   "source": [
    "def singleNumber(nums):\n",
    "    mask = 0xFFFFFFFF\n",
    "    res = 0\n",
    "    for b in range(32):\n",
    "        bit_sum = 0\n",
    "        for x in nums:\n",
    "            bit_sum += (x >> b) & 1\n",
    "        if bit_sum % 3:\n",
    "            res |= (1 << b)\n",
    "    # convert to signed 32-bit if needed\n",
    "    if res & (1 << 31):\n",
    "        res = res - (1 << 32)\n",
    "    return res"
   ]
  },
  {
   "cell_type": "code",
   "execution_count": null,
   "id": "43aeb187",
   "metadata": {},
   "outputs": [],
   "source": []
  }
 ],
 "metadata": {
  "kernelspec": {
   "display_name": "Python 3 (ipykernel)",
   "language": "python",
   "name": "python3"
  },
  "language_info": {
   "codemirror_mode": {
    "name": "ipython",
    "version": 3
   },
   "file_extension": ".py",
   "mimetype": "text/x-python",
   "name": "python",
   "nbconvert_exporter": "python",
   "pygments_lexer": "ipython3",
   "version": "3.8.11"
  }
 },
 "nbformat": 4,
 "nbformat_minor": 5
}
