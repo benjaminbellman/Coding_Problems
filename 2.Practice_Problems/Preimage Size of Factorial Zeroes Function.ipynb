{
 "cells": [
  {
   "cell_type": "markdown",
   "id": "ea20883d",
   "metadata": {},
   "source": [
    "# Preimage Size of Factorial Zeroes Function"
   ]
  },
  {
   "cell_type": "markdown",
   "id": "f74ad1fb",
   "metadata": {},
   "source": [
    "Let f(x) be the number of zeroes at the end of x!. Recall that x! = 1 * 2 * 3 * ... * x and by convention, 0! = 1.\n",
    "\n",
    "- For example, f(3) = 0 because 3! = 6 has no zeroes at the end, while f(11) = 2 because 11! = 39916800 has two zeroes at the end.\n",
    "Given an integer k, return the number of non-negative integers x have the property that f(x) = k.\n",
    "\n",
    " \n",
    "\n",
    "**Example 1:**\n",
    "\n",
    "Input: k = 0\n",
    "\n",
    "Output: 5\n",
    "Explanation: 0!, 1!, 2!, 3!, and 4! end with k = 0 zeroes.\n",
    "\n",
    "**Example 2:**\n",
    "\n",
    "Input: k = 5\n",
    "\n",
    "Output: 0\n",
    "Explanation: There is no x such that x! ends in k = 5 zeroes.\n",
    "Example 3:\n",
    "\n",
    "Input: k = 3\n",
    "\n",
    "Output: 5\n",
    " \n",
    "\n",
    "**Constraints:**\n",
    "\n",
    "- 0 <= k <= 109"
   ]
  },
  {
   "cell_type": "code",
   "execution_count": 1,
   "id": "9589dafd",
   "metadata": {},
   "outputs": [
    {
     "name": "stdout",
     "output_type": "stream",
     "text": [
      "5\n",
      "0\n",
      "5\n"
     ]
    }
   ],
   "source": [
    "def count_trailing_zeros(n):\n",
    "    count = 0\n",
    "    while n > 0:\n",
    "        n //= 5\n",
    "        count += n\n",
    "    return count\n",
    "\n",
    "def count_numbers_with_trailing_zeros(k):\n",
    "    if k == 0:\n",
    "        return 5\n",
    "    count = 0\n",
    "    for x in range(1, 10**6):  # Adjust range as needed\n",
    "        if count_trailing_zeros(x) == k:\n",
    "            count += 1\n",
    "    return count\n",
    "\n",
    "# Test cases\n",
    "print(count_numbers_with_trailing_zeros(0))  # Output: 5\n",
    "print(count_numbers_with_trailing_zeros(5))  # Output: 0\n",
    "print(count_numbers_with_trailing_zeros(3))  # Output: 5"
   ]
  },
  {
   "cell_type": "code",
   "execution_count": null,
   "id": "1ef8b4bf",
   "metadata": {},
   "outputs": [],
   "source": []
  }
 ],
 "metadata": {
  "kernelspec": {
   "display_name": "Python 3",
   "language": "python",
   "name": "python3"
  },
  "language_info": {
   "codemirror_mode": {
    "name": "ipython",
    "version": 3
   },
   "file_extension": ".py",
   "mimetype": "text/x-python",
   "name": "python",
   "nbconvert_exporter": "python",
   "pygments_lexer": "ipython3",
   "version": "3.9.13"
  }
 },
 "nbformat": 4,
 "nbformat_minor": 5
}
