{
 "cells": [
  {
   "cell_type": "markdown",
   "id": "dd14bed4",
   "metadata": {},
   "source": [
    "# Binary Subarrays With Sum"
   ]
  },
  {
   "cell_type": "markdown",
   "id": "7d18feb5",
   "metadata": {},
   "source": [
    "Given a binary array nums and an integer goal, return the number of non-empty subarrays with a sum goal.\n",
    "\n",
    "A subarray is a contiguous part of the array.\n",
    "\n",
    "**Example 1:**\n",
    "\n",
    "Input: nums = [1,0,1,0,1], goal = 2\n",
    "Output: 4\n",
    "Explanation: The 4 subarrays are bolded and underlined below:\n",
    "[1,0,1,0,1]\n",
    "[1,0,1,0,1]\n",
    "[1,0,1,0,1]\n",
    "[1,0,1,0,1]\n",
    "\n",
    "**Example 2:**\n",
    "\n",
    "Input: nums = [0,0,0,0,0], goal = 0\n",
    "Output: 15\n",
    "\n",
    "**Constraints:**\n",
    "\n",
    "- 1 <= nums.length <= 3 * 104\n",
    "- nums[i] is either 0 or 1.\n",
    "- 0 <= goal <= nums.length"
   ]
  },
  {
   "cell_type": "code",
   "execution_count": 1,
   "id": "714aab5e",
   "metadata": {},
   "outputs": [],
   "source": [
    "def numSubarraysWithSum(nums, goal):\n",
    "    prefix_sum_count = {0: 1}\n",
    "    current_prefix_sum = 0\n",
    "    result = 0\n",
    "    \n",
    "    for num in nums:\n",
    "        current_prefix_sum += num\n",
    "        \n",
    "        # Check how many times (current_prefix_sum - goal) has appeared before\n",
    "        if (current_prefix_sum - goal) in prefix_sum_count:\n",
    "            result += prefix_sum_count[current_prefix_sum - goal]\n",
    "        \n",
    "        # Update the count of current_prefix_sum in the map\n",
    "        if current_prefix_sum in prefix_sum_count:\n",
    "            prefix_sum_count[current_prefix_sum] += 1\n",
    "        else:\n",
    "            prefix_sum_count[current_prefix_sum] = 1\n",
    "    \n",
    "    return result"
   ]
  },
  {
   "cell_type": "code",
   "execution_count": null,
   "id": "0de6141e",
   "metadata": {},
   "outputs": [],
   "source": []
  }
 ],
 "metadata": {
  "kernelspec": {
   "display_name": "Python 3 (ipykernel)",
   "language": "python",
   "name": "python3"
  },
  "language_info": {
   "codemirror_mode": {
    "name": "ipython",
    "version": 3
   },
   "file_extension": ".py",
   "mimetype": "text/x-python",
   "name": "python",
   "nbconvert_exporter": "python",
   "pygments_lexer": "ipython3",
   "version": "3.8.11"
  }
 },
 "nbformat": 4,
 "nbformat_minor": 5
}
