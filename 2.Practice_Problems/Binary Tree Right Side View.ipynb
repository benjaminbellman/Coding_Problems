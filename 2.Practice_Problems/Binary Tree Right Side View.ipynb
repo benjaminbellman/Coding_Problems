{
 "cells": [
  {
   "cell_type": "markdown",
   "id": "1cd78615",
   "metadata": {},
   "source": [
    "# Binary Tree Right Side View"
   ]
  },
  {
   "cell_type": "markdown",
   "id": "eee06f2a",
   "metadata": {},
   "source": [
    "Given the root of a binary tree, imagine yourself standing on the right side of it, return the values of the nodes you can see ordered from top to bottom.\n",
    "\n",
    " \n",
    "\n",
    "**Example 1:**\n",
    "\n",
    "\n",
    "Input: root = [1,2,3,null,5,null,4]\n",
    "Output: [1,3,4]\n",
    "\n",
    "**Example 2:**\n",
    "\n",
    "Input: root = [1,null,3]\n",
    "Output: [1,3]\n",
    "\n",
    "**Example 3:**\n",
    "\n",
    "Input: root = []\n",
    "Output: []\n",
    " \n",
    "\n",
    "**Constraints:**\n",
    "\n",
    "The number of nodes in the tree is in the range [0, 100].\n",
    "-100 <= Node.val <= 100"
   ]
  },
  {
   "cell_type": "code",
   "execution_count": 1,
   "id": "ad2a4dfe",
   "metadata": {},
   "outputs": [],
   "source": [
    "class TreeNode:\n",
    "    def __init__(self, val=0, left=None, right=None):\n",
    "        self.val = val\n",
    "        self.left = left\n",
    "        self.right = right"
   ]
  },
  {
   "cell_type": "code",
   "execution_count": 2,
   "id": "6324f8bc",
   "metadata": {},
   "outputs": [],
   "source": [
    "class Solution:\n",
    "    def rightSideView(self, root: TreeNode) -> list[int]:\n",
    "        if not root:\n",
    "            return []\n",
    "        \n",
    "        queue = [root]\n",
    "        result = []\n",
    "        \n",
    "        while queue:\n",
    "            # Add the rightmost node to the result\n",
    "            result.append(queue[-1].val)\n",
    "            \n",
    "            # Create a new queue for the next level\n",
    "            new_queue = []\n",
    "            \n",
    "            # Process all nodes in the current level\n",
    "            for node in queue:\n",
    "                if node.left:\n",
    "                    new_queue.append(node.left)\n",
    "                if node.right:\n",
    "                    new_queue.append(node.right)\n",
    "            \n",
    "            # Update the queue for the next iteration\n",
    "            queue = new_queue\n",
    "        \n",
    "        return result"
   ]
  },
  {
   "cell_type": "code",
   "execution_count": 3,
   "id": "502ede94",
   "metadata": {},
   "outputs": [
    {
     "name": "stdout",
     "output_type": "stream",
     "text": [
      "[1, 3, 4]\n"
     ]
    }
   ],
   "source": [
    "root = TreeNode(1)\n",
    "root.left = TreeNode(2)\n",
    "root.right = TreeNode(3)\n",
    "root.left.right = TreeNode(5)\n",
    "root.right.right = TreeNode(4)\n",
    "\n",
    "solution = Solution()\n",
    "result = solution.rightSideView(root)\n",
    "print(result) # Output: [1, 3, 4]"
   ]
  },
  {
   "cell_type": "code",
   "execution_count": 4,
   "id": "f578a832",
   "metadata": {},
   "outputs": [
    {
     "name": "stdout",
     "output_type": "stream",
     "text": [
      "[1, 3]\n"
     ]
    }
   ],
   "source": [
    "root = TreeNode(1)\n",
    "root.right = TreeNode(3)\n",
    "\n",
    "solution = Solution()\n",
    "result = solution.rightSideView(root)\n",
    "print(result) # Output: [1, 3]"
   ]
  },
  {
   "cell_type": "code",
   "execution_count": 5,
   "id": "48709165",
   "metadata": {},
   "outputs": [
    {
     "name": "stdout",
     "output_type": "stream",
     "text": [
      "[]\n"
     ]
    }
   ],
   "source": [
    "root = None\n",
    "\n",
    "solution = Solution()\n",
    "result = solution.rightSideView(root)\n",
    "print(result) # Output: []"
   ]
  },
  {
   "cell_type": "code",
   "execution_count": null,
   "id": "9d4f8768",
   "metadata": {},
   "outputs": [],
   "source": []
  }
 ],
 "metadata": {
  "kernelspec": {
   "display_name": "Python 3",
   "language": "python",
   "name": "python3"
  },
  "language_info": {
   "codemirror_mode": {
    "name": "ipython",
    "version": 3
   },
   "file_extension": ".py",
   "mimetype": "text/x-python",
   "name": "python",
   "nbconvert_exporter": "python",
   "pygments_lexer": "ipython3",
   "version": "3.9.13"
  }
 },
 "nbformat": 4,
 "nbformat_minor": 5
}
