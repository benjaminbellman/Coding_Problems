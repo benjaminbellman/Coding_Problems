{
 "cells": [
  {
   "cell_type": "markdown",
   "id": "21c8bd00",
   "metadata": {},
   "source": [
    "# Make Array Strictly Increasing"
   ]
  },
  {
   "cell_type": "markdown",
   "id": "23e5a42b",
   "metadata": {},
   "source": [
    "Given two integer arrays arr1 and arr2, return the minimum number of operations (possibly zero) needed to make arr1 strictly increasing.\n",
    "\n",
    "In one operation, you can choose two indices 0 <= i < arr1.length and 0 <= j < arr2.length and do the assignment arr1[i] = arr2[j].\n",
    "\n",
    "If there is no way to make arr1 strictly increasing, return -1.\n",
    "\n",
    "**Example 1:**\n",
    "\n",
    "Input: arr1 = [1,5,3,6,7], arr2 = [1,3,2,4]\n",
    "Output: 1\n",
    "Explanation: Replace 5 with 2, then arr1 = [1, 2, 3, 6, 7].\n",
    "\n",
    "**Example 2:**\n",
    "\n",
    "Input: arr1 = [1,5,3,6,7], arr2 = [4,3,1]\n",
    "Output: 2\n",
    "Explanation: Replace 5 with 3 and then replace 3 with 4. arr1 = [1, 3, 4, 6, 7].\n",
    "\n",
    "**Example 3:**\n",
    "\n",
    "Input: arr1 = [1,5,3,6,7], arr2 = [1,6,3,3]\n",
    "Output: -1\n",
    "Explanation: You can't make arr1 strictly increasing.\n",
    " \n",
    "**Constraints:**\n",
    "\n",
    "- 1 <= arr1.length, arr2.length <= 2000\n",
    "- 0 <= arr1[i], arr2[i] <= 10^9"
   ]
  },
  {
   "cell_type": "code",
   "execution_count": 1,
   "id": "871406f8",
   "metadata": {},
   "outputs": [
    {
     "name": "stdout",
     "output_type": "stream",
     "text": [
      "1\n",
      "2\n",
      "-1\n"
     ]
    }
   ],
   "source": [
    "from bisect import bisect_right\n",
    "from collections import defaultdict\n",
    "\n",
    "def min_operations_make_increasing(arr1, arr2):\n",
    "    arr2 = sorted(set(arr2))  # Sort arr2 and remove duplicates\n",
    "    dp = {-1: 0}  # -1 is a virtual previous value with 0 operations\n",
    "\n",
    "    for num in arr1:\n",
    "        new_dp = defaultdict(lambda: float('inf'))\n",
    "        \n",
    "        # Case 1: Keep `num` as is if it maintains the increasing order\n",
    "        for prev in dp:\n",
    "            if num > prev:\n",
    "                new_dp[num] = min(new_dp[num], dp[prev])\n",
    "\n",
    "        # Case 2: Replace `num` with a valid value from `arr2`\n",
    "        idx = bisect_right(arr2, prev)  # Find first number greater than `prev`\n",
    "        if idx < len(arr2):\n",
    "            new_dp[arr2[idx]] = min(new_dp[arr2[idx]], dp[prev] + 1)\n",
    "\n",
    "        if not new_dp:  # No valid sequences found\n",
    "            return -1\n",
    "        \n",
    "        dp = new_dp  # Move to next iteration\n",
    "\n",
    "    return min(dp.values(), default=-1)\n",
    "\n",
    "# Example test cases\n",
    "print(min_operations_make_increasing([1,5,3,6,7], [1,3,2,4]))  # Output: 1\n",
    "print(min_operations_make_increasing([1,5,3,6,7], [4,3,1]))    # Output: 2\n",
    "print(min_operations_make_increasing([1,5,3,6,7], [1,6,3,3]))  # Output: -1"
   ]
  },
  {
   "cell_type": "code",
   "execution_count": null,
   "id": "a9a14a75",
   "metadata": {},
   "outputs": [],
   "source": []
  }
 ],
 "metadata": {
  "kernelspec": {
   "display_name": "Python 3 (ipykernel)",
   "language": "python",
   "name": "python3"
  },
  "language_info": {
   "codemirror_mode": {
    "name": "ipython",
    "version": 3
   },
   "file_extension": ".py",
   "mimetype": "text/x-python",
   "name": "python",
   "nbconvert_exporter": "python",
   "pygments_lexer": "ipython3",
   "version": "3.8.11"
  }
 },
 "nbformat": 4,
 "nbformat_minor": 5
}
