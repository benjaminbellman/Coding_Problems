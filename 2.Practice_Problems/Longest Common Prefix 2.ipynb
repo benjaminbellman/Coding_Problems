{
 "cells": [
  {
   "cell_type": "markdown",
   "id": "a92c90da",
   "metadata": {},
   "source": [
    "# Longest Common Prefix 2"
   ]
  },
  {
   "cell_type": "markdown",
   "id": "eb6aeecb",
   "metadata": {},
   "source": [
    "Write a function to find the longest common prefix string amongst an array of strings.\n",
    "\n",
    "If there is no common prefix, return an empty string \"\".\n",
    "\n",
    "**Example 1:**\n",
    "\n",
    "Input: strs = [\"flower\",\"flow\",\"flight\"]\n",
    "Output: \"fl\"\n",
    "\n",
    "**Example 2:**\n",
    "\n",
    "Input: strs = [\"dog\",\"racecar\",\"car\"]\n",
    "Output: \"\"\n",
    "Explanation: There is no common prefix among the input strings.\n",
    " \n",
    "**Constraints:**\n",
    "\n",
    "- 1 <= strs.length <= 200\n",
    "- 0 <= strs[i].length <= 200\n",
    "- strs[i] consists of only lowercase English letters if it is non-empty."
   ]
  },
  {
   "cell_type": "code",
   "execution_count": 1,
   "id": "0a2f6fc4",
   "metadata": {},
   "outputs": [],
   "source": [
    "def longest_common_prefix(strs):\n",
    "    if not strs:\n",
    "        return \"\"\n",
    "    \n",
    "    prefix = strs[0]\n",
    "    \n",
    "    for string in strs[1:]:\n",
    "        # Shrink prefix until it matches the start of string\n",
    "        while not string.startswith(prefix):\n",
    "            prefix = prefix[:-1]\n",
    "            if not prefix:\n",
    "                return \"\"\n",
    "    \n",
    "    return prefix"
   ]
  },
  {
   "cell_type": "code",
   "execution_count": 2,
   "id": "d64b3160",
   "metadata": {},
   "outputs": [
    {
     "name": "stdout",
     "output_type": "stream",
     "text": [
      "fl\n",
      "\n"
     ]
    }
   ],
   "source": [
    "print(longest_common_prefix([\"flower\", \"flow\", \"flight\"]))  # Output: \"fl\"\n",
    "print(longest_common_prefix([\"dog\", \"racecar\", \"car\"]))     # Output: \"\""
   ]
  },
  {
   "cell_type": "code",
   "execution_count": null,
   "id": "c8793236",
   "metadata": {},
   "outputs": [],
   "source": []
  }
 ],
 "metadata": {
  "kernelspec": {
   "display_name": "Python 3 (ipykernel)",
   "language": "python",
   "name": "python3"
  },
  "language_info": {
   "codemirror_mode": {
    "name": "ipython",
    "version": 3
   },
   "file_extension": ".py",
   "mimetype": "text/x-python",
   "name": "python",
   "nbconvert_exporter": "python",
   "pygments_lexer": "ipython3",
   "version": "3.8.11"
  }
 },
 "nbformat": 4,
 "nbformat_minor": 5
}
