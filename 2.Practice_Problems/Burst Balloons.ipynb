{
 "cells": [
  {
   "cell_type": "markdown",
   "id": "d339c147",
   "metadata": {},
   "source": [
    "# Burst Balloons"
   ]
  },
  {
   "cell_type": "markdown",
   "id": "f510c953",
   "metadata": {},
   "source": [
    "You are given n balloons, indexed from 0 to n - 1. Each balloon is painted with a number on it represented by an array nums. You are asked to burst all the balloons.\n",
    "\n",
    "If you burst the ith balloon, you will get nums[i - 1] * nums[i] * nums[i + 1] coins. If i - 1 or i + 1 goes out of bounds of the array, then treat it as if there is a balloon with a 1 painted on it.\n",
    "\n",
    "Return the maximum coins you can collect by bursting the balloons wisely.\n",
    "\n",
    " \n",
    "\n",
    "**Example 1:**\n",
    "\n",
    "Input: nums = [3,1,5,8]\n",
    "Output: 167\n",
    "Explanation:\n",
    "nums = [3,1,5,8] --> [3,5,8] --> [3,8] --> [8] --> []\n",
    "coins =  3*1*5    +   3*5*8   +  1*3*8  + 1*8*1 = 167\n",
    "\n",
    "**Example 2:**\n",
    "\n",
    "Input: nums = [1,5]\n",
    "Output: 10\n",
    " \n",
    "\n",
    "**Constraints:**\n",
    "\n",
    "n == nums.length\n",
    "1 <= n <= 300\n",
    "0 <= nums[i] <= 100"
   ]
  },
  {
   "cell_type": "code",
   "execution_count": 1,
   "id": "4e3b2223",
   "metadata": {},
   "outputs": [
    {
     "name": "stdout",
     "output_type": "stream",
     "text": [
      "167\n",
      "10\n"
     ]
    }
   ],
   "source": [
    "def maxCoins(nums):\n",
    "    n = len(nums)\n",
    "    # Create a 2D table to store maximum coins for subarrays\n",
    "    dp = [[0] * (n+2) for _ in range(n+2)]\n",
    "\n",
    "    # Add boundary balloons with a value of 1\n",
    "    nums = [1] + nums + [1]\n",
    "\n",
    "    # Iterate over all subarrays of different lengths\n",
    "    for length in range(1, n+1):\n",
    "        for start in range(1, n-length+2):\n",
    "            end = start + length - 1\n",
    "            # Burst each balloon in the subarray and find the maximum coins\n",
    "            for k in range(start, end+1):\n",
    "                dp[start][end] = max(dp[start][end], dp[start][k-1] + nums[start-1] * nums[k] * nums[end+1] + dp[k+1][end])\n",
    "\n",
    "    return dp[1][n]\n",
    "\n",
    "# Testing the examples from the problem description\n",
    "nums1 = [3, 1, 5, 8]\n",
    "print(maxCoins(nums1))  # Output: 167\n",
    "\n",
    "nums2 = [1, 5]\n",
    "print(maxCoins(nums2))  # Output: 10"
   ]
  },
  {
   "cell_type": "code",
   "execution_count": null,
   "id": "aa68c871",
   "metadata": {},
   "outputs": [],
   "source": []
  }
 ],
 "metadata": {
  "kernelspec": {
   "display_name": "Python 3",
   "language": "python",
   "name": "python3"
  },
  "language_info": {
   "codemirror_mode": {
    "name": "ipython",
    "version": 3
   },
   "file_extension": ".py",
   "mimetype": "text/x-python",
   "name": "python",
   "nbconvert_exporter": "python",
   "pygments_lexer": "ipython3",
   "version": "3.9.13"
  }
 },
 "nbformat": 4,
 "nbformat_minor": 5
}
