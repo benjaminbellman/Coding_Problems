{
 "cells": [
  {
   "cell_type": "markdown",
   "id": "ce7a7e08",
   "metadata": {},
   "source": [
    "# Unique Morse Code Words"
   ]
  },
  {
   "cell_type": "markdown",
   "id": "28525757",
   "metadata": {},
   "source": [
    "International Morse Code defines a standard encoding where each letter is mapped to a series of dots and dashes, as follows:\n",
    "\n",
    "- 'a' maps to \".-\",\n",
    "- 'b' maps to \"-...\",\n",
    "- 'c' maps to \"-.-.\", and so on.\n",
    "For convenience, the full table for the 26 letters of the English alphabet is given below:\n",
    "\n",
    "[\".-\",\"-...\",\"-.-.\",\"-..\",\".\",\"..-.\",\"--.\",\"....\",\"..\",\".---\",\"-.-\",\".-..\",\"--\",\"-.\",\"---\",\".--.\",\"--.-\",\".-.\",\"...\",\"-\",\"..-\",\"...-\",\".--\",\"-..-\",\"-.--\",\"--..\"]\n",
    "Given an array of strings words where each word can be written as a concatenation of the Morse code of each letter.\n",
    "\n",
    "- For example, \"cab\" can be written as \"-.-..--...\", which is the concatenation of \"-.-.\", \".-\", and \"-...\". We will call such a concatenation the transformation of a word.\n",
    "Return the number of different transformations among all words we have.\n",
    "\n",
    " \n",
    "\n",
    "**Example 1:**\n",
    "\n",
    "Input: words = [\"gin\",\"zen\",\"gig\",\"msg\"]\n",
    "Output: 2\n",
    "Explanation: The transformation of each word is:\n",
    "\"gin\" -> \"--...-.\"\n",
    "\"zen\" -> \"--...-.\"\n",
    "\"gig\" -> \"--...--.\"\n",
    "\"msg\" -> \"--...--.\"\n",
    "There are 2 different transformations: \"--...-.\" and \"--...--.\".\n",
    "\n",
    "**Example 2:**\n",
    "\n",
    "Input: words = [\"a\"]\n",
    "Output: 1\n",
    " \n",
    "\n",
    "**Constraints:**\n",
    "\n",
    "- 1 <= words.length <= 100\n",
    "- 1 <= words[i].length <= 12\n",
    "- words[i] consists of lowercase English letters."
   ]
  },
  {
   "cell_type": "code",
   "execution_count": 1,
   "id": "f3bb60c6",
   "metadata": {},
   "outputs": [
    {
     "name": "stdout",
     "output_type": "stream",
     "text": [
      "2\n",
      "1\n"
     ]
    }
   ],
   "source": [
    "def uniqueMorseRepresentations(words):\n",
    "    # Define the Morse code mapping for each letter\n",
    "    morse_code = [\".-\", \"-...\", \"-.-.\", \"-..\", \".\", \"..-.\", \"--.\", \"....\", \"..\", \".---\", \"-.-\", \".-..\", \"--\", \"-.\", \"---\", \".--.\", \"--.-\", \".-.\", \"...\", \"-\", \"..-\", \"...-\", \".--\", \"-..-\", \"-.--\", \"--..\"]\n",
    "    \n",
    "    # Function to convert a word to its Morse code representation\n",
    "    def toMorse(word):\n",
    "        return ''.join(morse_code[ord(char) - ord('a')] for char in word)\n",
    "    \n",
    "    # Set to store unique transformations\n",
    "    transformations = set()\n",
    "    \n",
    "    # Iterate through each word in the input list\n",
    "    for word in words:\n",
    "        transformations.add(toMorse(word))\n",
    "    \n",
    "    # Return the number of unique transformations\n",
    "    return len(transformations)\n",
    "\n",
    "# Example usage\n",
    "words1 = [\"gin\", \"zen\", \"gig\", \"msg\"]\n",
    "print(uniqueMorseRepresentations(words1))  # Output: 2\n",
    "\n",
    "words2 = [\"a\"]\n",
    "print(uniqueMorseRepresentations(words2))  # Output: 1"
   ]
  }
 ],
 "metadata": {
  "kernelspec": {
   "display_name": "Python 3",
   "language": "python",
   "name": "python3"
  },
  "language_info": {
   "codemirror_mode": {
    "name": "ipython",
    "version": 3
   },
   "file_extension": ".py",
   "mimetype": "text/x-python",
   "name": "python",
   "nbconvert_exporter": "python",
   "pygments_lexer": "ipython3",
   "version": "3.9.13"
  }
 },
 "nbformat": 4,
 "nbformat_minor": 5
}
