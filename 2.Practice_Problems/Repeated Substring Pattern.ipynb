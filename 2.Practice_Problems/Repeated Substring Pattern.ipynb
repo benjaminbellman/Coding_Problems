{
 "cells": [
  {
   "cell_type": "markdown",
   "id": "f1a01b21",
   "metadata": {},
   "source": [
    "# Repeated Substring Pattern"
   ]
  },
  {
   "cell_type": "markdown",
   "id": "01f1626f",
   "metadata": {},
   "source": [
    "Given a string s, check if it can be constructed by taking a substring of it and appending multiple copies of the substring together.\n",
    "\n",
    " \n",
    "\n",
    "**Example 1:**\n",
    "\n",
    "Input: s = \"abab\"\n",
    "Output: true\n",
    "Explanation: It is the substring \"ab\" twice.\n",
    "\n",
    "**Example 2:**\n",
    "\n",
    "Input: s = \"aba\"\n",
    "Output: false\n",
    "\n",
    "**Example 3:**\n",
    "\n",
    "Input: s = \"abcabcabcabc\"\n",
    "Output: true\n",
    "Explanation: It is the substring \"abc\" four times or the substring \"abcabc\" twice.\n",
    " \n",
    "\n",
    "**Constraints:**\n",
    "\n",
    "- 1 <= s.length <= 104\n",
    "- s consists of lowercase English letters."
   ]
  },
  {
   "cell_type": "code",
   "execution_count": 1,
   "id": "3da0c785",
   "metadata": {},
   "outputs": [
    {
     "name": "stdout",
     "output_type": "stream",
     "text": [
      "True\n",
      "False\n",
      "True\n"
     ]
    }
   ],
   "source": [
    "def can_construct_substring(s):\n",
    "    n = len(s)\n",
    "    for i in range(1, n // 2 + 1):\n",
    "        substring = s[:i]\n",
    "        if n % i == 0 and substring * (n // i) == s:\n",
    "            return True\n",
    "    return False\n",
    "\n",
    "# Test cases\n",
    "print(can_construct_substring(\"abab\"))  # Output: True\n",
    "print(can_construct_substring(\"aba\"))   # Output: False\n",
    "print(can_construct_substring(\"abcabcabcabc\"))  # Output: True"
   ]
  }
 ],
 "metadata": {
  "kernelspec": {
   "display_name": "Python 3",
   "language": "python",
   "name": "python3"
  },
  "language_info": {
   "codemirror_mode": {
    "name": "ipython",
    "version": 3
   },
   "file_extension": ".py",
   "mimetype": "text/x-python",
   "name": "python",
   "nbconvert_exporter": "python",
   "pygments_lexer": "ipython3",
   "version": "3.9.13"
  }
 },
 "nbformat": 4,
 "nbformat_minor": 5
}
