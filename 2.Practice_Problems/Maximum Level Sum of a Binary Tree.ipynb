{
 "cells": [
  {
   "cell_type": "markdown",
   "id": "e20153eb",
   "metadata": {},
   "source": [
    "# Maximum Level Sum of a Binary Tree"
   ]
  },
  {
   "cell_type": "markdown",
   "id": "22f5b231",
   "metadata": {},
   "source": [
    "Given the root of a binary tree, the level of its root is 1, the level of its children is 2, and so on.\n",
    "\n",
    "Return the smallest level x such that the sum of all the values of nodes at level x is maximal.\n",
    "\n",
    "**Example 1:**\n",
    "\n",
    "Input: root = [1,7,0,7,-8,null,null]\n",
    "Output: 2\n",
    "Explanation: \n",
    "Level 1 sum = 1.\n",
    "Level 2 sum = 7 + 0 = 7.\n",
    "Level 3 sum = 7 + -8 = -1.\n",
    "So we return the level with the maximum sum which is level 2.\n",
    "\n",
    "**Example 2:**\n",
    "\n",
    "Input: root = [989,null,10250,98693,-89388,null,null,null,-32127]\n",
    "Output: 2\n",
    " \n",
    "\n",
    "**Constraints:**\n",
    "\n",
    "- The number of nodes in the tree is in the range [1, 104].\n",
    "- -105 <= Node.val <= 105"
   ]
  },
  {
   "cell_type": "code",
   "execution_count": 1,
   "id": "434e6feb",
   "metadata": {},
   "outputs": [],
   "source": [
    "from collections import deque\n",
    "\n",
    "class TreeNode:\n",
    "    def __init__(self, val=0, left=None, right=None):\n",
    "        self.val = val\n",
    "        self.left = left\n",
    "        self.right = right\n",
    "\n",
    "def maxLevelSum(root):\n",
    "    if not root:\n",
    "        return 0\n",
    "\n",
    "    queue = deque([root])\n",
    "    max_sum = float('-inf')\n",
    "    max_level = 1\n",
    "    current_level = 1\n",
    "\n",
    "    while queue:\n",
    "        level_sum = 0\n",
    "        for _ in range(len(queue)):  # Iterate over the current level\n",
    "            node = queue.popleft()\n",
    "            level_sum += node.val\n",
    "            if node.left:\n",
    "                queue.append(node.left)\n",
    "            if node.right:\n",
    "                queue.append(node.right)\n",
    "\n",
    "        if level_sum > max_sum:\n",
    "            max_sum = level_sum\n",
    "            max_level = current_level\n",
    "\n",
    "        current_level += 1\n",
    "\n",
    "    return max_level"
   ]
  },
  {
   "cell_type": "code",
   "execution_count": null,
   "id": "582cde90",
   "metadata": {},
   "outputs": [],
   "source": []
  }
 ],
 "metadata": {
  "kernelspec": {
   "display_name": "Python 3 (ipykernel)",
   "language": "python",
   "name": "python3"
  },
  "language_info": {
   "codemirror_mode": {
    "name": "ipython",
    "version": 3
   },
   "file_extension": ".py",
   "mimetype": "text/x-python",
   "name": "python",
   "nbconvert_exporter": "python",
   "pygments_lexer": "ipython3",
   "version": "3.8.11"
  }
 },
 "nbformat": 4,
 "nbformat_minor": 5
}
