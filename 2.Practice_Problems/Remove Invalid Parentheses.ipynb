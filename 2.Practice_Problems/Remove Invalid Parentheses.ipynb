{
 "cells": [
  {
   "cell_type": "markdown",
   "id": "51b5633b",
   "metadata": {},
   "source": [
    "# Remove Invalid Parentheses"
   ]
  },
  {
   "cell_type": "markdown",
   "id": "94043a9a",
   "metadata": {},
   "source": [
    "Given a string s that contains parentheses and letters, remove the minimum number of invalid parentheses to make the input string valid.\n",
    "\n",
    "Return a list of unique strings that are valid with the minimum number of removals. You may return the answer in any order.\n",
    "\n",
    " \n",
    "\n",
    "**Example 1:**\n",
    "\n",
    "Input: s = \"()())()\"\n",
    "Output: [\"(())()\",\"()()()\"]\n",
    "\n",
    "**Example 2:**\n",
    "\n",
    "Input: s = \"(a)())()\"\n",
    "Output: [\"(a())()\",\"(a)()()\"]\n",
    "\n",
    "**Example 3:**\n",
    "\n",
    "Input: s = \")(\"\n",
    "Output: [\"\"]\n",
    "\n",
    "**Constraints:**\n",
    "\n",
    "1 <= s.length <= 25\n",
    "s consists of lowercase English letters and parentheses '(' and ')'.\n",
    "There will be at most 20 parentheses in s."
   ]
  },
  {
   "cell_type": "code",
   "execution_count": 1,
   "id": "1f943ad8",
   "metadata": {},
   "outputs": [],
   "source": [
    "def removeInvalidParentheses(s):\n",
    "    def isValid(s):\n",
    "        count = 0\n",
    "        for ch in s:\n",
    "            if ch == '(':\n",
    "                count += 1\n",
    "            elif ch == ')':\n",
    "                count -= 1\n",
    "                if count < 0:\n",
    "                    return False\n",
    "        return count == 0\n",
    "\n",
    "    def dfs(s, start, left_rem, right_rem):\n",
    "        if left_rem == 0 and right_rem == 0:\n",
    "            if isValid(s):\n",
    "                valid_parentheses.add(s)\n",
    "            return\n",
    "\n",
    "        for i in range(start, len(s)):\n",
    "            if i > start and s[i] == s[i-1]:\n",
    "                continue\n",
    "            if s[i] == '(' and left_rem > 0:\n",
    "                dfs(s[:i] + s[i+1:], i, left_rem - 1, right_rem)\n",
    "            elif s[i] == ')' and right_rem > 0:\n",
    "                dfs(s[:i] + s[i+1:], i, left_rem, right_rem - 1)\n",
    "\n",
    "    left_rem = 0\n",
    "    right_rem = 0\n",
    "    for ch in s:\n",
    "        if ch == '(':\n",
    "            left_rem += 1\n",
    "        elif ch == ')':\n",
    "            if left_rem > 0:\n",
    "                left_rem -= 1\n",
    "            else:\n",
    "                right_rem += 1\n",
    "\n",
    "    valid_parentheses = set()\n",
    "    dfs(s, 0, left_rem, right_rem)\n",
    "    return list(valid_parentheses)"
   ]
  },
  {
   "cell_type": "code",
   "execution_count": 2,
   "id": "80f8bc68",
   "metadata": {},
   "outputs": [
    {
     "name": "stdout",
     "output_type": "stream",
     "text": [
      "['()()()', '(())()']\n",
      "['(a())()', '(a)()()']\n",
      "['']\n"
     ]
    }
   ],
   "source": [
    "# Example 1\n",
    "s1 = \"()())()\"\n",
    "print(removeInvalidParentheses(s1))  # Output: [\"(())()\", \"()()()\"]\n",
    "\n",
    "# Example 2\n",
    "s2 = \"(a)())()\"\n",
    "print(removeInvalidParentheses(s2))  # Output: [\"(a())()\", \"(a)()()\"]\n",
    "\n",
    "# Example 3\n",
    "s3 = \")(\"\n",
    "print(removeInvalidParentheses(s3))  # Output: [\"\"]"
   ]
  },
  {
   "cell_type": "code",
   "execution_count": null,
   "id": "c456fd00",
   "metadata": {},
   "outputs": [],
   "source": []
  }
 ],
 "metadata": {
  "kernelspec": {
   "display_name": "Python 3",
   "language": "python",
   "name": "python3"
  },
  "language_info": {
   "codemirror_mode": {
    "name": "ipython",
    "version": 3
   },
   "file_extension": ".py",
   "mimetype": "text/x-python",
   "name": "python",
   "nbconvert_exporter": "python",
   "pygments_lexer": "ipython3",
   "version": "3.9.13"
  }
 },
 "nbformat": 4,
 "nbformat_minor": 5
}
