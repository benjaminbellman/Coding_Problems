{
 "cells": [
  {
   "cell_type": "markdown",
   "id": "599f5d66",
   "metadata": {},
   "source": [
    "# Prison Cells After N Days"
   ]
  },
  {
   "cell_type": "markdown",
   "id": "bb239344",
   "metadata": {},
   "source": [
    "There are 8 prison cells in a row and each cell is either occupied or vacant.\n",
    "\n",
    "Each day, whether the cell is occupied or vacant changes according to the following rules:\n",
    "\n",
    "If a cell has two adjacent neighbors that are both occupied or both vacant, then the cell becomes occupied.\n",
    "Otherwise, it becomes vacant.\n",
    "Note that because the prison is a row, the first and the last cells in the row can't have two adjacent neighbors.\n",
    "\n",
    "You are given an integer array cells where cells[i] == 1 if the ith cell is occupied and cells[i] == 0 if the ith cell is vacant, and you are given an integer n.\n",
    "\n",
    "Return the state of the prison after n days (i.e., n such changes described above).\n",
    "\n",
    " \n",
    "\n",
    "**Example 1:**\n",
    "\n",
    "Input: cells = [0,1,0,1,1,0,0,1], n = 7\n",
    "Output: [0,0,1,1,0,0,0,0]\n",
    "Explanation: The following table summarizes the state of the prison on each day:\n",
    "Day 0: [0, 1, 0, 1, 1, 0, 0, 1]\n",
    "Day 1: [0, 1, 1, 0, 0, 0, 0, 0]\n",
    "Day 2: [0, 0, 0, 0, 1, 1, 1, 0]\n",
    "Day 3: [0, 1, 1, 0, 0, 1, 0, 0]\n",
    "Day 4: [0, 0, 0, 0, 0, 1, 0, 0]\n",
    "Day 5: [0, 1, 1, 1, 0, 1, 0, 0]\n",
    "Day 6: [0, 0, 1, 0, 1, 1, 0, 0]\n",
    "Day 7: [0, 0, 1, 1, 0, 0, 0, 0]\n",
    "\n",
    "**Example 2:**\n",
    "\n",
    "Input: cells = [1,0,0,1,0,0,1,0], n = 1000000000\n",
    "Output: [0,0,1,1,1,1,1,0]\n",
    " \n",
    "\n",
    "**Constraints:**\n",
    "\n",
    "- cells.length == 8\n",
    "- cells[i] is either 0 or 1.\n",
    "- 1 <= n <= 109"
   ]
  },
  {
   "cell_type": "code",
   "execution_count": 1,
   "id": "5658f3a7",
   "metadata": {},
   "outputs": [
    {
     "name": "stdout",
     "output_type": "stream",
     "text": [
      "[0, 0, 1, 1, 0, 0, 0, 0]\n",
      "[0, 0, 1, 1, 1, 1, 1, 0]\n"
     ]
    }
   ],
   "source": [
    "def prisonAfterNDays(cells, n):\n",
    "    def next_day(cells):\n",
    "        new_cells = [0] * 8\n",
    "        for i in range(1, 7):\n",
    "            new_cells[i] = int(cells[i - 1] == cells[i + 1])\n",
    "        return new_cells\n",
    "\n",
    "    seen = {}\n",
    "    is_fast_forwarded = False\n",
    "\n",
    "    while n > 0:\n",
    "        if not is_fast_forwarded:\n",
    "            state_key = tuple(cells)\n",
    "            if state_key in seen:\n",
    "                cycle_length = seen[state_key] - n\n",
    "                n %= cycle_length\n",
    "                is_fast_forwarded = True\n",
    "            else:\n",
    "                seen[state_key] = n\n",
    "\n",
    "        if n > 0:\n",
    "            n -= 1\n",
    "            cells = next_day(cells)\n",
    "\n",
    "    return cells\n",
    "\n",
    "# Example usage:\n",
    "cells = [0,1,0,1,1,0,0,1]\n",
    "n = 7\n",
    "print(prisonAfterNDays(cells, n))  # Output: [0, 0, 1, 1, 0, 0, 0, 0]\n",
    "\n",
    "cells = [1,0,0,1,0,0,1,0]\n",
    "n = 1000000000\n",
    "print(prisonAfterNDays(cells, n))  # Output: [0, 0, 1, 1, 1, 1, 1, 0]"
   ]
  },
  {
   "cell_type": "code",
   "execution_count": null,
   "id": "8d3a314d",
   "metadata": {},
   "outputs": [],
   "source": []
  }
 ],
 "metadata": {
  "kernelspec": {
   "display_name": "Python 3 (ipykernel)",
   "language": "python",
   "name": "python3"
  },
  "language_info": {
   "codemirror_mode": {
    "name": "ipython",
    "version": 3
   },
   "file_extension": ".py",
   "mimetype": "text/x-python",
   "name": "python",
   "nbconvert_exporter": "python",
   "pygments_lexer": "ipython3",
   "version": "3.8.11"
  }
 },
 "nbformat": 4,
 "nbformat_minor": 5
}
