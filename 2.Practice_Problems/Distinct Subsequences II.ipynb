{
 "cells": [
  {
   "cell_type": "markdown",
   "id": "babe7eb7",
   "metadata": {},
   "source": [
    "# Distinct Subsequences II"
   ]
  },
  {
   "cell_type": "markdown",
   "id": "cf4888f6",
   "metadata": {},
   "source": [
    "Given a string s, return the number of distinct non-empty subsequences of s. Since the answer may be very large, return it modulo 109 + 7.\n",
    "\n",
    "A subsequence of a string is a new string that is formed from the original string by deleting some (can be none) of the characters without disturbing the relative positions of the remaining characters. (i.e., \"ace\" is a subsequence of \"abcde\" while \"aec\" is not.\n",
    " \n",
    "**Example 1:**\n",
    "\n",
    "Input: s = \"abc\"\n",
    "Output: 7\n",
    "Explanation: The 7 distinct subsequences are \"a\", \"b\", \"c\", \"ab\", \"ac\", \"bc\", and \"abc\".\n",
    "\n",
    "**Example 2:**\n",
    "\n",
    "Input: s = \"aba\"\n",
    "Output: 6\n",
    "Explanation: The 6 distinct subsequences are \"a\", \"b\", \"ab\", \"aa\", \"ba\", and \"aba\".\n",
    "\n",
    "**Example 3:**\n",
    "\n",
    "Input: s = \"aaa\"\n",
    "Output: 3\n",
    "Explanation: The 3 distinct subsequences are \"a\", \"aa\" and \"aaa\".\n",
    " \n",
    "**Constraints:**\n",
    "\n",
    "- 1 <= s.length <= 2000\n",
    "- s consists of lowercase English letters."
   ]
  },
  {
   "cell_type": "code",
   "execution_count": 1,
   "id": "125071ab",
   "metadata": {},
   "outputs": [],
   "source": [
    "MOD = 10**9 + 7\n",
    "\n",
    "def distinctSubseqII(s: str) -> int:\n",
    "    n = len(s)\n",
    "    dp = [0] * (n + 1)\n",
    "    dp[0] = 1  # Base case: empty subsequence\n",
    "    \n",
    "    last = [-1] * 26  # To store the last occurrence of each character\n",
    "\n",
    "    for i in range(1, n + 1):\n",
    "        char_idx = ord(s[i - 1]) - ord('a')\n",
    "        \n",
    "        # Add double the subsequences from the previous state\n",
    "        dp[i] = (2 * dp[i - 1]) % MOD\n",
    "        \n",
    "        # If this character was seen before, subtract the subsequences that would repeat\n",
    "        if last[char_idx] != -1:\n",
    "            dp[i] = (dp[i] - dp[last[char_idx]]) % MOD\n",
    "        \n",
    "        # Update the last occurrence of the current character\n",
    "        last[char_idx] = i - 1\n",
    "    \n",
    "    # Subtract 1 to exclude the empty subsequence\n",
    "    return (dp[n] - 1) % MOD"
   ]
  },
  {
   "cell_type": "code",
   "execution_count": null,
   "id": "fceef73d",
   "metadata": {},
   "outputs": [],
   "source": []
  }
 ],
 "metadata": {
  "kernelspec": {
   "display_name": "Python 3 (ipykernel)",
   "language": "python",
   "name": "python3"
  },
  "language_info": {
   "codemirror_mode": {
    "name": "ipython",
    "version": 3
   },
   "file_extension": ".py",
   "mimetype": "text/x-python",
   "name": "python",
   "nbconvert_exporter": "python",
   "pygments_lexer": "ipython3",
   "version": "3.8.11"
  }
 },
 "nbformat": 4,
 "nbformat_minor": 5
}
