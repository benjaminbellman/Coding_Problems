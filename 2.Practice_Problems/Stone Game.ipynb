{
 "cells": [
  {
   "cell_type": "markdown",
   "id": "2b705bff",
   "metadata": {},
   "source": [
    "# Stone Game"
   ]
  },
  {
   "cell_type": "markdown",
   "id": "04528fa3",
   "metadata": {},
   "source": [
    "Alice and Bob play a game with piles of stones. There are an even number of piles arranged in a row, and each pile has a positive integer number of stones piles[i].\n",
    "\n",
    "The objective of the game is to end with the most stones. The total number of stones across all the piles is odd, so there are no ties.\n",
    "\n",
    "Alice and Bob take turns, with Alice starting first. Each turn, a player takes the entire pile of stones either from the beginning or from the end of the row. This continues until there are no more piles left, at which point the person with the most stones wins.\n",
    "\n",
    "Assuming Alice and Bob play optimally, return true if Alice wins the game, or false if Bob wins.\n",
    "\n",
    "**Example 1:**\n",
    "\n",
    "Input: piles = [5,3,4,5]\n",
    "Output: true\n",
    "Explanation: \n",
    "Alice starts first, and can only take the first 5 or the last 5.\n",
    "Say she takes the first 5, so that the row becomes [3, 4, 5].\n",
    "If Bob takes 3, then the board is [4, 5], and Alice takes 5 to win with 10 points.\n",
    "If Bob takes the last 5, then the board is [3, 4], and Alice takes 4 to win with 9 points.\n",
    "This demonstrated that taking the first 5 was a winning move for Alice, so we return true.\n",
    "\n",
    "**Example 2:**\n",
    "\n",
    "Input: piles = [3,7,2,3]\n",
    "Output: true\n",
    " \n",
    "**Constraints:**\n",
    "\n",
    "- 2 <= piles.length <= 500\n",
    "- piles.length is even.\n",
    "- 1 <= piles[i] <= 500\n",
    "- sum(piles[i]) is odd."
   ]
  },
  {
   "cell_type": "code",
   "execution_count": 1,
   "id": "9b9335bd",
   "metadata": {},
   "outputs": [
    {
     "name": "stdout",
     "output_type": "stream",
     "text": [
      "True\n",
      "True\n"
     ]
    }
   ],
   "source": [
    "def stoneGame(piles):\n",
    "    n = len(piles)\n",
    "    # Create a dp table\n",
    "    dp = [[0] * n for _ in range(n)]\n",
    "    \n",
    "    # Base case: when i == j, the player can take the only pile available\n",
    "    for i in range(n):\n",
    "        dp[i][i] = piles[i]\n",
    "    \n",
    "    # Fill the table for subarrays of length > 1\n",
    "    for length in range(2, n+1):  # subarray lengths from 2 to n\n",
    "        for i in range(n-length+1):\n",
    "            j = i + length - 1\n",
    "            dp[i][j] = max(piles[i] - dp[i+1][j], piles[j] - dp[i][j-1])\n",
    "    \n",
    "    # Check if Alice can have more stones than Bob\n",
    "    total_stones = sum(piles)\n",
    "    return dp[0][n-1] > 0\n",
    "\n",
    "# Example usage:\n",
    "piles1 = [5, 3, 4, 5]\n",
    "piles2 = [3, 7, 2, 3]\n",
    "\n",
    "print(stoneGame(piles1))  # Output: True\n",
    "print(stoneGame(piles2))  # Output: True"
   ]
  },
  {
   "cell_type": "code",
   "execution_count": null,
   "id": "fc15e097",
   "metadata": {},
   "outputs": [],
   "source": []
  }
 ],
 "metadata": {
  "kernelspec": {
   "display_name": "Python 3 (ipykernel)",
   "language": "python",
   "name": "python3"
  },
  "language_info": {
   "codemirror_mode": {
    "name": "ipython",
    "version": 3
   },
   "file_extension": ".py",
   "mimetype": "text/x-python",
   "name": "python",
   "nbconvert_exporter": "python",
   "pygments_lexer": "ipython3",
   "version": "3.8.11"
  }
 },
 "nbformat": 4,
 "nbformat_minor": 5
}
