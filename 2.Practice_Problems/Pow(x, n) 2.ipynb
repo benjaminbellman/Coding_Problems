{
 "cells": [
  {
   "cell_type": "markdown",
   "id": "1bfcb4f4",
   "metadata": {},
   "source": [
    "# Pow(x, n)"
   ]
  },
  {
   "cell_type": "markdown",
   "id": "231a9eb0",
   "metadata": {},
   "source": [
    "Implement pow(x, n), which calculates x raised to the power n (i.e., xn).\n",
    "\n",
    "**Example 1:**\n",
    "\n",
    "Input: x = 2.00000, n = 10\n",
    "Output: 1024.00000\n",
    "\n",
    "**Example 2:**\n",
    "\n",
    "Input: x = 2.10000, n = 3\n",
    "Output: 9.26100\n",
    "\n",
    "**Example 3:**\n",
    "\n",
    "Input: x = 2.00000, n = -2\n",
    "Output: 0.25000\n",
    "Explanation: 2-2 = 1/22 = 1/4 = 0.25\n",
    "\n",
    "**Constraints:**\n",
    "\n",
    "- -100.0 < x < 100.0\n",
    "- -231 <= n <= 231-1\n",
    "- n is an integer.\n",
    "- Either x is not zero or n > 0.\n",
    "- -104 <= xn <= 104"
   ]
  },
  {
   "cell_type": "code",
   "execution_count": 1,
   "id": "f18f484a",
   "metadata": {},
   "outputs": [],
   "source": [
    "def myPow(x: float, n: int) -> float:\n",
    "    def fast_pow(x, n):\n",
    "        if n == 0:\n",
    "            return 1.0\n",
    "        half = fast_pow(x, n // 2)\n",
    "        if n % 2 == 0:\n",
    "            return half * half\n",
    "        else:\n",
    "            return half * half * x\n",
    "\n",
    "    if n < 0:\n",
    "        x = 1 / x\n",
    "        n = -n\n",
    "\n",
    "    return fast_pow(x, n)"
   ]
  },
  {
   "cell_type": "code",
   "execution_count": 2,
   "id": "cc8944a6",
   "metadata": {},
   "outputs": [
    {
     "name": "stdout",
     "output_type": "stream",
     "text": [
      "1024.0\n",
      "9.261000000000001\n",
      "0.25\n"
     ]
    }
   ],
   "source": [
    "print(myPow(2.00000, 10))   # Output: 1024.00000\n",
    "print(myPow(2.10000, 3))    # Output: 9.26100\n",
    "print(myPow(2.00000, -2))   # Output: 0.25000"
   ]
  },
  {
   "cell_type": "code",
   "execution_count": null,
   "id": "b3383fe1",
   "metadata": {},
   "outputs": [],
   "source": []
  }
 ],
 "metadata": {
  "kernelspec": {
   "display_name": "Python 3 (ipykernel)",
   "language": "python",
   "name": "python3"
  },
  "language_info": {
   "codemirror_mode": {
    "name": "ipython",
    "version": 3
   },
   "file_extension": ".py",
   "mimetype": "text/x-python",
   "name": "python",
   "nbconvert_exporter": "python",
   "pygments_lexer": "ipython3",
   "version": "3.8.11"
  }
 },
 "nbformat": 4,
 "nbformat_minor": 5
}
