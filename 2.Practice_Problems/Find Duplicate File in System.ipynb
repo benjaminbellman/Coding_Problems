{
 "cells": [
  {
   "cell_type": "markdown",
   "id": "b5ca8dc9",
   "metadata": {},
   "source": [
    "# Find Duplicate File in System"
   ]
  },
  {
   "cell_type": "markdown",
   "id": "43403afa",
   "metadata": {},
   "source": [
    "Given a list paths of directory info, including the directory path, and all the files with contents in this directory, return all the duplicate files in the file system in terms of their paths. You may return the answer in any order.\n",
    "\n",
    "A group of duplicate files consists of at least two files that have the same content.\n",
    "\n",
    "A single directory info string in the input list has the following format:\n",
    "\n",
    "- \"root/d1/d2/.../dm f1.txt(f1_content) f2.txt(f2_content) ... fn.txt(fn_content)\"\n",
    "It means there are n files (f1.txt, f2.txt ... fn.txt) with content (f1_content, f2_content ... fn_content) respectively in the directory \"root/d1/d2/.../dm\". Note that n >= 1 and m >= 0. If m = 0, it means the directory is just the root directory.\n",
    "\n",
    "The output is a list of groups of duplicate file paths. For each group, it contains all the file paths of the files that have the same content. A file path is a string that has the following format:\n",
    "\n",
    "- \"directory_path/file_name.txt\"\n",
    " \n",
    "\n",
    "**Example 1:**\n",
    "\n",
    "Input: paths = [\"root/a 1.txt(abcd) 2.txt(efgh)\",\"root/c 3.txt(abcd)\",\"root/c/d 4.txt(efgh)\",\"root 4.txt(efgh)\"]\n",
    "\n",
    "Output: [[\"root/a/2.txt\",\"root/c/d/4.txt\",\"root/4.txt\"],[\"root/a/1.txt\",\"root/c/3.txt\"]]\n",
    "\n",
    "**Example 2:**\n",
    "\n",
    "Input: paths = [\"root/a 1.txt(abcd) 2.txt(efgh)\",\"root/c 3.txt(abcd)\",\"root/c/d 4.txt(efgh)\"]\n",
    "\n",
    "Output: [[\"root/a/2.txt\",\"root/c/d/4.txt\"],[\"root/a/1.txt\",\"root/c/3.txt\"]]\n",
    " \n",
    "\n",
    "**Constraints:**\n",
    "\n",
    "- 1 <= paths.length <= 2 * 104\n",
    "- 1 <= paths[i].length <= 3000\n",
    "- 1 <= sum(paths[i].length) <= 5 * 105\n",
    "- paths[i] consist of English letters, digits, '/', '.', '(', ')', and ' '.\n",
    "- You may assume no files or directories share the same name in the same directory.\n",
    "- You may assume each given directory info represents a unique directory. A single blank space separates the directory path and file info.\n",
    " "
   ]
  },
  {
   "cell_type": "code",
   "execution_count": 1,
   "id": "4ccfff76",
   "metadata": {},
   "outputs": [
    {
     "data": {
      "text/plain": [
       "([['root/a/1.txt', 'root/c/3.txt'],\n",
       "  ['root/a/2.txt', 'root/c/d/4.txt', 'root/4.txt']],\n",
       " [['root/a/1.txt', 'root/c/3.txt'], ['root/a/2.txt', 'root/c/d/4.txt']])"
      ]
     },
     "execution_count": 1,
     "metadata": {},
     "output_type": "execute_result"
    }
   ],
   "source": [
    "from collections import defaultdict\n",
    "\n",
    "def find_duplicate(paths):\n",
    "    content_to_files = defaultdict(list)\n",
    "\n",
    "    for path in paths:\n",
    "        parts = path.split()\n",
    "        directory = parts[0]\n",
    "        for file_info in parts[1:]:\n",
    "            file_name, _, content = file_info.partition('(')\n",
    "            content = content[:-1]  # remove the closing parenthesis\n",
    "            file_path = f\"{directory}/{file_name}\"\n",
    "            content_to_files[content].append(file_path)\n",
    "\n",
    "    return [group for group in content_to_files.values() if len(group) > 1]\n",
    "\n",
    "# Test the function with the provided examples\n",
    "paths1 = [\"root/a 1.txt(abcd) 2.txt(efgh)\",\"root/c 3.txt(abcd)\",\"root/c/d 4.txt(efgh)\",\"root 4.txt(efgh)\"]\n",
    "paths2 = [\"root/a 1.txt(abcd) 2.txt(efgh)\",\"root/c 3.txt(abcd)\",\"root/c/d 4.txt(efgh)\"]\n",
    "\n",
    "output1 = find_duplicate(paths1)\n",
    "output2 = find_duplicate(paths2)\n",
    "\n",
    "output1, output2"
   ]
  }
 ],
 "metadata": {
  "kernelspec": {
   "display_name": "Python 3",
   "language": "python",
   "name": "python3"
  },
  "language_info": {
   "codemirror_mode": {
    "name": "ipython",
    "version": 3
   },
   "file_extension": ".py",
   "mimetype": "text/x-python",
   "name": "python",
   "nbconvert_exporter": "python",
   "pygments_lexer": "ipython3",
   "version": "3.9.13"
  }
 },
 "nbformat": 4,
 "nbformat_minor": 5
}
