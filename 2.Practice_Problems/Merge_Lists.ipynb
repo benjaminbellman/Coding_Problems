{
 "cells": [
  {
   "cell_type": "markdown",
   "id": "0b6cec89",
   "metadata": {},
   "source": [
    "You are given the heads of two sorted linked lists list1 and list2.\n",
    "\n",
    "Merge the two lists in a one sorted list. The list should be made by splicing together the nodes of the first two lists.\n",
    "\n",
    "Return the head of the merged linked list.\n",
    "\n",
    " \n",
    "\n",
    "Example 1:\n",
    "\n",
    "\n",
    "Input: list1 = [1,2,4], list2 = [1,3,4]\n",
    "Output: [1,1,2,3,4,4]\n",
    "\n",
    "\n",
    "Example 2:\n",
    "\n",
    "Input: list1 = [], list2 = []\n",
    "Output: []\n",
    "\n",
    "\n",
    "Example 3:\n",
    "\n",
    "Input: list1 = [], list2 = [0]\n",
    "Output: [0]\n",
    " \n",
    "\n",
    "Constraints:\n",
    "\n",
    "The number of nodes in both lists is in the range [0, 50].\n",
    "-100 <= Node.val <= 100\n",
    "Both list1 and list2 are sorted in non-decreasing order."
   ]
  },
  {
   "cell_type": "code",
   "execution_count": 23,
   "id": "c18dedf8",
   "metadata": {},
   "outputs": [
    {
     "data": {
      "text/plain": [
       "[1, 1, 2, 3, 4, 4]"
      ]
     },
     "execution_count": 23,
     "metadata": {},
     "output_type": "execute_result"
    }
   ],
   "source": [
    "list1 = [1,2,4]\n",
    "list2 = [1,3,4]\n",
    "\n",
    "#big_list = []\n",
    "\n",
    "def mergeTwoLists(list1,list2):\n",
    "    big_list = []\n",
    "    for i in list1:\n",
    "        big_list.append(i)\n",
    "    for k in list2: \n",
    "        big_list.append(k)\n",
    "\n",
    "    return (sorted(big_list))\n",
    "        \n",
    "mergeTwoLists(list1,list2)"
   ]
  },
  {
   "cell_type": "markdown",
   "id": "9e053fc0",
   "metadata": {},
   "source": [
    "## Copilot Version"
   ]
  },
  {
   "cell_type": "code",
   "execution_count": 10,
   "id": "f3101d72",
   "metadata": {},
   "outputs": [
    {
     "ename": "AttributeError",
     "evalue": "'list' object has no attribute 'val'",
     "output_type": "error",
     "traceback": [
      "\u001b[1;31m---------------------------------------------------------------------------\u001b[0m",
      "\u001b[1;31mAttributeError\u001b[0m                            Traceback (most recent call last)",
      "Input \u001b[1;32mIn [10]\u001b[0m, in \u001b[0;36m<module>\u001b[1;34m\u001b[0m\n\u001b[0;32m     27\u001b[0m l1 \u001b[38;5;241m=\u001b[39m [\u001b[38;5;241m1\u001b[39m, \u001b[38;5;241m2\u001b[39m, \u001b[38;5;241m4\u001b[39m]\n\u001b[0;32m     28\u001b[0m l2 \u001b[38;5;241m=\u001b[39m [\u001b[38;5;241m1\u001b[39m, \u001b[38;5;241m3\u001b[39m, \u001b[38;5;241m4\u001b[39m]\n\u001b[1;32m---> 29\u001b[0m \u001b[38;5;28mprint\u001b[39m(\u001b[43mmerge_two_lists\u001b[49m\u001b[43m(\u001b[49m\u001b[43ml1\u001b[49m\u001b[43m,\u001b[49m\u001b[43m \u001b[49m\u001b[43ml2\u001b[49m\u001b[43m)\u001b[49m)\n",
      "Input \u001b[1;32mIn [10]\u001b[0m, in \u001b[0;36mmerge_two_lists\u001b[1;34m(l1, l2)\u001b[0m\n\u001b[0;32m     19\u001b[0m \u001b[38;5;28;01mif\u001b[39;00m l2 \u001b[38;5;241m==\u001b[39m \u001b[38;5;28;01mNone\u001b[39;00m:\n\u001b[0;32m     20\u001b[0m     \u001b[38;5;28;01mreturn\u001b[39;00m l1\n\u001b[1;32m---> 21\u001b[0m \u001b[38;5;28;01mif\u001b[39;00m \u001b[43ml1\u001b[49m\u001b[38;5;241;43m.\u001b[39;49m\u001b[43mval\u001b[49m \u001b[38;5;241m<\u001b[39m l2\u001b[38;5;241m.\u001b[39mval:\n\u001b[0;32m     22\u001b[0m     l1\u001b[38;5;241m.\u001b[39mnext \u001b[38;5;241m=\u001b[39m merge_two_lists(l1\u001b[38;5;241m.\u001b[39mnext, l2)\n\u001b[0;32m     23\u001b[0m     \u001b[38;5;28;01mreturn\u001b[39;00m l1\n",
      "\u001b[1;31mAttributeError\u001b[0m: 'list' object has no attribute 'val'"
     ]
    }
   ],
   "source": [
    "# You are given the heads of two sorted linked lists. Merge them in ascending order and return the merged list.\n",
    "# The linked lists should also be sorted in ascending order.\n",
    "# Example 1:\n",
    "# Input: l1 = [1,2,4], l2 = [1,3,4]\n",
    "# Output: [1,1,2,3,4,4]\n",
    "# Example 2:\n",
    "# Input: l1 = [], l2 = []\n",
    "# Output: []\n",
    "# Example 3:\n",
    "# Input: l1 = [], l2 = [0]\n",
    "# Output: [0]\n",
    "# Constraints:\n",
    "# The number of nodes in both lists is in the range [0, 50].\n",
    "# -100 <= Node.val <= 100\n",
    "# Both l1 and l2 are sorted in non-decreasing order.\n",
    "def merge_two_lists(l1, l2):\n",
    "    if l1 == None:\n",
    "        return l2\n",
    "    if l2 == None:\n",
    "        return l1\n",
    "    if l1.val < l2.val:\n",
    "        l1.next = merge_two_lists(l1.next, l2)\n",
    "        return l1\n",
    "    else:\n",
    "        l2.next = merge_two_lists(l1, l2.next)\n",
    "        return l2\n",
    "l1 = [1, 2, 4]\n",
    "l2 = [1, 3, 4]\n",
    "print(merge_two_lists(l1, l2))"
   ]
  },
  {
   "cell_type": "code",
   "execution_count": null,
   "id": "d3c0ab71",
   "metadata": {},
   "outputs": [],
   "source": []
  }
 ],
 "metadata": {
  "kernelspec": {
   "display_name": "Python 3",
   "language": "python",
   "name": "python3"
  },
  "language_info": {
   "codemirror_mode": {
    "name": "ipython",
    "version": 3
   },
   "file_extension": ".py",
   "mimetype": "text/x-python",
   "name": "python",
   "nbconvert_exporter": "python",
   "pygments_lexer": "ipython3",
   "version": "3.9.13"
  }
 },
 "nbformat": 4,
 "nbformat_minor": 5
}
