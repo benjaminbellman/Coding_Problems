{
 "cells": [
  {
   "cell_type": "markdown",
   "id": "0bd8a119",
   "metadata": {},
   "source": [
    "# Tenth Line"
   ]
  },
  {
   "cell_type": "markdown",
   "id": "ff990929",
   "metadata": {},
   "source": [
    "Given a text file file.txt, print just the 10th line of the file.\n",
    "\n",
    "**Example:**\n",
    "\n",
    "Assume that file.txt has the following content:\n",
    "\n",
    "Line 1\n",
    "\n",
    "Line 2\n",
    "\n",
    "Line 3\n",
    "\n",
    "Line 4\n",
    "\n",
    "Line 5\n",
    "\n",
    "Line 6\n",
    "\n",
    "Line 7\n",
    "\n",
    "Line 8\n",
    "\n",
    "Line 9\n",
    "\n",
    "Line 10\n",
    "Your script should output the tenth line, which is:\n",
    "\n",
    "Line 10\n",
    "Note:\n",
    "1. If the file contains less than 10 lines, what should you output?\n",
    "2. There's at least three different solutions. Try to explore all possibilities."
   ]
  },
  {
   "cell_type": "code",
   "execution_count": 1,
   "id": "d68b81c1",
   "metadata": {},
   "outputs": [
    {
     "ename": "FileNotFoundError",
     "evalue": "[Errno 2] No such file or directory: 'file.txt'",
     "output_type": "error",
     "traceback": [
      "\u001b[1;31m---------------------------------------------------------------------------\u001b[0m",
      "\u001b[1;31mFileNotFoundError\u001b[0m                         Traceback (most recent call last)",
      "Input \u001b[1;32mIn [1]\u001b[0m, in \u001b[0;36m<module>\u001b[1;34m\u001b[0m\n\u001b[1;32m----> 1\u001b[0m \u001b[38;5;28;01mwith\u001b[39;00m \u001b[38;5;28;43mopen\u001b[39;49m\u001b[43m(\u001b[49m\u001b[38;5;124;43m\"\u001b[39;49m\u001b[38;5;124;43mfile.txt\u001b[39;49m\u001b[38;5;124;43m\"\u001b[39;49m\u001b[43m,\u001b[49m\u001b[43m \u001b[49m\u001b[38;5;124;43m\"\u001b[39;49m\u001b[38;5;124;43mr\u001b[39;49m\u001b[38;5;124;43m\"\u001b[39;49m\u001b[43m)\u001b[49m \u001b[38;5;28;01mas\u001b[39;00m f:\n\u001b[0;32m      2\u001b[0m     lines \u001b[38;5;241m=\u001b[39m f\u001b[38;5;241m.\u001b[39mreadlines()\n\u001b[0;32m      3\u001b[0m     \u001b[38;5;28;01mif\u001b[39;00m \u001b[38;5;28mlen\u001b[39m(lines)\u001b[38;5;241m>\u001b[39m\u001b[38;5;241m=\u001b[39m\u001b[38;5;241m10\u001b[39m:\n",
      "\u001b[1;31mFileNotFoundError\u001b[0m: [Errno 2] No such file or directory: 'file.txt'"
     ]
    }
   ],
   "source": [
    "with open(\"file.txt\", \"r\") as f:\n",
    "    lines = f.readlines()\n",
    "    if len(lines)>=10:\n",
    "        tenth_line = [line.strip() for i, line in enumerate(lines) if i == 9]\n",
    "        print(tenth_line[0])"
   ]
  },
  {
   "cell_type": "code",
   "execution_count": null,
   "id": "8ab56d22",
   "metadata": {},
   "outputs": [],
   "source": []
  }
 ],
 "metadata": {
  "kernelspec": {
   "display_name": "Python 3",
   "language": "python",
   "name": "python3"
  },
  "language_info": {
   "codemirror_mode": {
    "name": "ipython",
    "version": 3
   },
   "file_extension": ".py",
   "mimetype": "text/x-python",
   "name": "python",
   "nbconvert_exporter": "python",
   "pygments_lexer": "ipython3",
   "version": "3.9.13"
  }
 },
 "nbformat": 4,
 "nbformat_minor": 5
}
