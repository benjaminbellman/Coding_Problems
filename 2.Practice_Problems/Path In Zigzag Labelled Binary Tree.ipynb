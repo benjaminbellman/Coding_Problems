{
 "cells": [
  {
   "cell_type": "markdown",
   "id": "a1366b37",
   "metadata": {},
   "source": [
    "# Path In Zigzag Labelled Binary Tree"
   ]
  },
  {
   "cell_type": "markdown",
   "id": "78ee6460",
   "metadata": {},
   "source": [
    "In an infinite binary tree where every node has two children, the nodes are labelled in row order.\n",
    "\n",
    "In the odd numbered rows (ie., the first, third, fifth,...), the labelling is left to right, while in the even numbered rows (second, fourth, sixth,...), the labelling is right to left.\n",
    "\n",
    "Given the label of a node in this tree, return the labels in the path from the root of the tree to the node with that label.\n",
    "\n",
    "**Example 1:**\n",
    "\n",
    "Input: label = 14\n",
    "Output: [1,3,4,14]\n",
    "\n",
    "**Example 2:**\n",
    "\n",
    "Input: label = 26\n",
    "Output: [1,2,6,10,26]\n",
    " \n",
    "**Constraints:**\n",
    "\n",
    "- 1 <= label <= 10^6"
   ]
  },
  {
   "cell_type": "code",
   "execution_count": 1,
   "id": "c2628b70",
   "metadata": {},
   "outputs": [
    {
     "name": "stdout",
     "output_type": "stream",
     "text": [
      "[1, 3, 4, 14]\n",
      "[1, 2, 6, 10, 26]\n"
     ]
    }
   ],
   "source": [
    "def path_in_zigzag_tree(label):\n",
    "    path = []\n",
    "    while label > 0:\n",
    "        path.append(label)\n",
    "        level = label.bit_length()  # Determine the level of the current label\n",
    "        max_label = (1 << level) - 1  # Max label in this level\n",
    "        min_label = (1 << (level - 1))  # Min label in this level\n",
    "        # Compute the parent in the normal binary tree and adjust for zigzag order\n",
    "        label = (max_label + min_label - label) // 2\n",
    "    return path[::-1]  # Reverse to get path from root to the node\n",
    "\n",
    "# Example Usage\n",
    "print(path_in_zigzag_tree(14))  # Output: [1, 3, 4, 14]\n",
    "print(path_in_zigzag_tree(26))  # Output: [1, 2, 6, 10, 26]"
   ]
  },
  {
   "cell_type": "code",
   "execution_count": null,
   "id": "bc4034a0",
   "metadata": {},
   "outputs": [],
   "source": []
  }
 ],
 "metadata": {
  "kernelspec": {
   "display_name": "Python 3 (ipykernel)",
   "language": "python",
   "name": "python3"
  },
  "language_info": {
   "codemirror_mode": {
    "name": "ipython",
    "version": 3
   },
   "file_extension": ".py",
   "mimetype": "text/x-python",
   "name": "python",
   "nbconvert_exporter": "python",
   "pygments_lexer": "ipython3",
   "version": "3.8.11"
  }
 },
 "nbformat": 4,
 "nbformat_minor": 5
}
