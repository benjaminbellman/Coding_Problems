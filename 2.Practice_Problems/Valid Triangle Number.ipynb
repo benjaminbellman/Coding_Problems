{
 "cells": [
  {
   "cell_type": "markdown",
   "id": "5d3796d3",
   "metadata": {},
   "source": [
    "# Valid Triangle Number"
   ]
  },
  {
   "cell_type": "markdown",
   "id": "77396248",
   "metadata": {},
   "source": [
    "Given an integer array nums, return the number of triplets chosen from the array that can make triangles if we take them as side lengths of a triangle.\n",
    "\n",
    " \n",
    "\n",
    "**Example 1:**\n",
    "\n",
    "Input: nums = [2,2,3,4]\n",
    "\n",
    "Output: 3\n",
    "Explanation: Valid combinations are: \n",
    "2,3,4 (using the first 2)\n",
    "2,3,4 (using the second 2)\n",
    "2,2,3\n",
    "\n",
    "**Example 2:**\n",
    "\n",
    "Input: nums = [4,2,3,4]\n",
    "\n",
    "Output: 4\n",
    " \n",
    "\n",
    "**Constraints:**\n",
    "\n",
    "- 1 <= nums.length <= 1000\n",
    "- 0 <= nums[i] <= 1000"
   ]
  },
  {
   "cell_type": "code",
   "execution_count": 1,
   "id": "f39993ef",
   "metadata": {},
   "outputs": [
    {
     "data": {
      "text/plain": [
       "(3, 4)"
      ]
     },
     "execution_count": 1,
     "metadata": {},
     "output_type": "execute_result"
    }
   ],
   "source": [
    "def count_triangles(nums):\n",
    "    # Sort the array to simplify the triangle inequality check\n",
    "    nums.sort()\n",
    "\n",
    "    count = 0\n",
    "    # Iterate over each triplet combination\n",
    "    for i in range(len(nums) - 2):\n",
    "        for j in range(i + 1, len(nums) - 1):\n",
    "            k = j + 1\n",
    "            # For each pair (i, j), find the maximum k that forms a triangle\n",
    "            while k < len(nums) and nums[i] + nums[j] > nums[k]:\n",
    "                k += 1\n",
    "            # Add the number of valid triangles with sides (i, j, k)\n",
    "            count += k - j - 1\n",
    "\n",
    "    return count\n",
    "\n",
    "# Test the function with the provided examples\n",
    "example1 = [2, 2, 3, 4]\n",
    "example2 = [4, 2, 3, 4]\n",
    "\n",
    "output1 = count_triangles(example1)\n",
    "output2 = count_triangles(example2)\n",
    "\n",
    "output1, output2"
   ]
  }
 ],
 "metadata": {
  "kernelspec": {
   "display_name": "Python 3",
   "language": "python",
   "name": "python3"
  },
  "language_info": {
   "codemirror_mode": {
    "name": "ipython",
    "version": 3
   },
   "file_extension": ".py",
   "mimetype": "text/x-python",
   "name": "python",
   "nbconvert_exporter": "python",
   "pygments_lexer": "ipython3",
   "version": "3.9.13"
  }
 },
 "nbformat": 4,
 "nbformat_minor": 5
}
