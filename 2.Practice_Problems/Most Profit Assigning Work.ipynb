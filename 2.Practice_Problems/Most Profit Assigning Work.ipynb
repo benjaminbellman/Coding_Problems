{
 "cells": [
  {
   "cell_type": "markdown",
   "id": "c94d177b",
   "metadata": {},
   "source": [
    "# Most Profit Assigning Work"
   ]
  },
  {
   "cell_type": "markdown",
   "id": "84f2529b",
   "metadata": {},
   "source": [
    "You have n jobs and m workers. You are given three arrays: difficulty, profit, and worker where:\n",
    "\n",
    "- difficulty[i] and profit[i] are the difficulty and the profit of the ith job, and\n",
    "- worker[j] is the ability of jth worker (i.e., the jth worker can only complete a job with difficulty at most worker[j]).\n",
    "- Every worker can be assigned at most one job, but one job can be completed multiple times.\n",
    "\n",
    "For example, if three workers attempt the same job that pays $1, then the total profit will be $3. If a worker cannot complete any job, their profit is $0.\n",
    "Return the maximum profit we can achieve after assigning the workers to the jobs.\n",
    "\n",
    " \n",
    "\n",
    "**Example 1:**\n",
    "\n",
    "Input: difficulty = [2,4,6,8,10], profit = [10,20,30,40,50], worker = [4,5,6,7]\n",
    "Output: 100\n",
    "Explanation: Workers are assigned jobs of difficulty [4,4,6,6] and they get a profit of [20,20,30,30] separately.\n",
    "\n",
    "**Example 2:**\n",
    "\n",
    "Input: difficulty = [85,47,57], profit = [24,66,99], worker = [40,25,25]\n",
    "Output: 0\n",
    " \n",
    "\n",
    "**Constraints:**\n",
    "\n",
    "- n == difficulty.length\n",
    "- n == profit.length\n",
    "- m == worker.length\n",
    "- 1 <= n, m <= 104\n",
    "- 1 <= difficulty[i], profit[i], worker[i] <= 105"
   ]
  },
  {
   "cell_type": "code",
   "execution_count": 1,
   "id": "a15bc486",
   "metadata": {},
   "outputs": [
    {
     "name": "stdout",
     "output_type": "stream",
     "text": [
      "60\n"
     ]
    }
   ],
   "source": [
    "def maxProfit(difficulty, profit, worker):\n",
    "    jobs = sorted(zip(difficulty, profit))  # Create a list of tuples (difficulty, profit) and sort by difficulty\n",
    "    worker.sort()  # Sort the list of workers' abilities\n",
    "\n",
    "    max_profit = 0\n",
    "    worker_index = 0\n",
    "\n",
    "    for job_difficulty, job_profit in jobs:\n",
    "        while worker_index < len(worker) and worker[worker_index] < job_difficulty:\n",
    "            worker_index += 1\n",
    "        if worker_index == len(worker):  # No worker can complete this job\n",
    "            break\n",
    "        max_profit += job_profit\n",
    "\n",
    "    return max_profit\n",
    "\n",
    "# Example usage:\n",
    "difficulty = [2, 4, 6, 8, 10]\n",
    "profit = [10, 20, 30, 40, 50]\n",
    "worker = [4, 5, 6, 7]\n",
    "print(maxProfit(difficulty, profit, worker))  # Output: 100"
   ]
  },
  {
   "cell_type": "code",
   "execution_count": null,
   "id": "504ad1a0",
   "metadata": {},
   "outputs": [],
   "source": []
  }
 ],
 "metadata": {
  "kernelspec": {
   "display_name": "Python 3",
   "language": "python",
   "name": "python3"
  },
  "language_info": {
   "codemirror_mode": {
    "name": "ipython",
    "version": 3
   },
   "file_extension": ".py",
   "mimetype": "text/x-python",
   "name": "python",
   "nbconvert_exporter": "python",
   "pygments_lexer": "ipython3",
   "version": "3.9.13"
  }
 },
 "nbformat": 4,
 "nbformat_minor": 5
}
