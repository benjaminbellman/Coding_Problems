{
 "cells": [
  {
   "cell_type": "markdown",
   "id": "37d043af",
   "metadata": {},
   "source": [
    "# Course Schedule III"
   ]
  },
  {
   "cell_type": "markdown",
   "id": "84e4a066",
   "metadata": {},
   "source": [
    "There are n different online courses numbered from 1 to n. You are given an array courses where courses[i] = [durationi, lastDayi] indicate that the ith course should be taken continuously for durationi days and must be finished before or on lastDayi.\n",
    "\n",
    "You will start on the 1st day and you cannot take two or more courses simultaneously.\n",
    "\n",
    "Return the maximum number of courses that you can take.\n",
    "\n",
    " \n",
    "\n",
    "**Example 1:**\n",
    "\n",
    "Input: courses = [[100,200],[200,1300],[1000,1250],[2000,3200]]\n",
    "Output: 3\n",
    "Explanation: \n",
    "There are totally 4 courses, but you can take 3 courses at most:\n",
    "First, take the 1st course, it costs 100 days so you will finish it on the 100th day, and ready to take the next course on the 101st day.\n",
    "Second, take the 3rd course, it costs 1000 days so you will finish it on the 1100th day, and ready to take the next course on the 1101st day. \n",
    "Third, take the 2nd course, it costs 200 days so you will finish it on the 1300th day. \n",
    "The 4th course cannot be taken now, since you will finish it on the 3300th day, which exceeds the closed date.\n",
    "\n",
    "**Example 2:**\n",
    "\n",
    "Input: courses = [[1,2]]\n",
    "Output: 1\n",
    "\n",
    "**Example 3:**\n",
    "\n",
    "Input: courses = [[3,2],[4,3]]\n",
    "Output: 0\n",
    " \n",
    "\n",
    "**Constraints:**\n",
    "\n",
    "- 1 <= courses.length <= 104\n",
    "- 1 <= durationi, lastDayi <= 104"
   ]
  },
  {
   "cell_type": "code",
   "execution_count": 2,
   "id": "20f292bc",
   "metadata": {},
   "outputs": [
    {
     "name": "stdout",
     "output_type": "stream",
     "text": [
      "3\n",
      "1\n",
      "0\n"
     ]
    }
   ],
   "source": [
    "def maxCourses(courses):\n",
    "    # Sort courses by their last day in ascending order\n",
    "    courses.sort(key=lambda x: x[1])\n",
    "\n",
    "    currentDay = 0\n",
    "    count = 0\n",
    "\n",
    "    for duration, lastDay in courses:\n",
    "        if currentDay + duration <= lastDay:\n",
    "            # Take the current course\n",
    "            currentDay += duration\n",
    "            count += 1\n",
    "        else:\n",
    "            # Find the course with maximum duration among the taken courses\n",
    "            max_duration = 0\n",
    "            index_to_remove = -1\n",
    "            for i, (d, _) in enumerate(courses[:count]):\n",
    "                if d > max_duration:\n",
    "                    max_duration = d\n",
    "                    index_to_remove = i\n",
    "\n",
    "            # Replace the course with maximum duration if possible\n",
    "            if index_to_remove != -1 and max_duration > duration:\n",
    "                currentDay -= max_duration\n",
    "                currentDay += duration\n",
    "                courses[index_to_remove] = (0, 0)  # Mark the replaced course as taken\n",
    "            else:\n",
    "                # Cannot take the current course or replace any previous course\n",
    "                continue\n",
    "\n",
    "    return count\n",
    "\n",
    "# Test cases\n",
    "courses1 = [[100, 200], [200, 1300], [1000, 1250], [2000, 3200]]\n",
    "courses2 = [[1, 2]]\n",
    "courses3 = [[3, 2], [4, 3]]\n",
    "\n",
    "print(maxCourses(courses1))  # Output: 3\n",
    "print(maxCourses(courses2))  # Output: 1\n",
    "print(maxCourses(courses3))  # Output: 0\n"
   ]
  },
  {
   "cell_type": "code",
   "execution_count": null,
   "id": "c1d4a8c9",
   "metadata": {},
   "outputs": [],
   "source": []
  }
 ],
 "metadata": {
  "kernelspec": {
   "display_name": "Python 3",
   "language": "python",
   "name": "python3"
  },
  "language_info": {
   "codemirror_mode": {
    "name": "ipython",
    "version": 3
   },
   "file_extension": ".py",
   "mimetype": "text/x-python",
   "name": "python",
   "nbconvert_exporter": "python",
   "pygments_lexer": "ipython3",
   "version": "3.9.13"
  }
 },
 "nbformat": 4,
 "nbformat_minor": 5
}
