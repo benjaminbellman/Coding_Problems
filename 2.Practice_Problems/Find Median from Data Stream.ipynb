{
 "cells": [
  {
   "cell_type": "markdown",
   "id": "d1e8e4d6",
   "metadata": {},
   "source": [
    "# Find Median from Data Stream"
   ]
  },
  {
   "cell_type": "markdown",
   "id": "2109a70c",
   "metadata": {},
   "source": [
    "The median is the middle value in an ordered integer list. If the size of the list is even, there is no middle value, and the median is the mean of the two middle values.\n",
    "\n",
    "For example, for arr = [2,3,4], the median is 3.\n",
    "For example, for arr = [2,3], the median is (2 + 3) / 2 = 2.5.\n",
    "Implement the MedianFinder class:\n",
    "\n",
    "MedianFinder() initializes the MedianFinder object.\n",
    "void addNum(int num) adds the integer num from the data stream to the data structure.\n",
    "double findMedian() returns the median of all elements so far. Answers within 10-5 of the actual answer will be accepted.\n",
    " \n",
    "\n",
    "**Example 1:**\n",
    "\n",
    "Input\n",
    "[\"MedianFinder\", \"addNum\", \"addNum\", \"findMedian\", \"addNum\", \"findMedian\"]\n",
    "[[], [1], [2], [], [3], []]\n",
    "Output\n",
    "[null, null, null, 1.5, null, 2.0]\n",
    "\n",
    "**Explanation**\n",
    "\n",
    "MedianFinder medianFinder = new MedianFinder();\n",
    "medianFinder.addNum(1);    // arr = [1]\n",
    "medianFinder.addNum(2);    // arr = [1, 2]\n",
    "medianFinder.findMedian(); // return 1.5 (i.e., (1 + 2) / 2)\n",
    "medianFinder.addNum(3);    // arr[1, 2, 3]\n",
    "medianFinder.findMedian(); // return 2.0\n",
    " \n",
    "\n",
    "**Constraints:**\n",
    "\n",
    "-105 <= num <= 105\n",
    "There will be at least one element in the data structure before calling findMedian.\n",
    "At most 5 * 104 calls will be made to addNum and findMedian.\n",
    " \n",
    "\n",
    "Follow up:\n",
    "\n",
    "If all integer numbers from the stream are in the range [0, 100], how would you optimize your solution?\n",
    "If 99% of all integer numbers from the stream are in the range [0, 100], how would you optimize your solution?"
   ]
  },
  {
   "cell_type": "code",
   "execution_count": 1,
   "id": "3617b0da",
   "metadata": {},
   "outputs": [],
   "source": [
    "import heapq\n",
    "\n",
    "class MedianFinder:\n",
    "    def __init__(self):\n",
    "        self.small = []  # max heap for small half\n",
    "        self.large = []  # min heap for large half\n",
    "\n",
    "    def addNum(self, num: int) -> None:\n",
    "        if len(self.small) == len(self.large):\n",
    "            heapq.heappush(self.large, -heapq.heappushpop(self.small, -num))\n",
    "        else:\n",
    "            heapq.heappush(self.small, -heapq.heappushpop(self.large, num))\n",
    "\n",
    "    def findMedian(self) -> float:\n",
    "        if len(self.small) == len(self.large):\n",
    "            return (self.large[0] - self.small[0]) / 2\n",
    "        else:\n",
    "            return self.large[0]"
   ]
  },
  {
   "cell_type": "code",
   "execution_count": 3,
   "id": "1a3dc704",
   "metadata": {},
   "outputs": [
    {
     "name": "stdout",
     "output_type": "stream",
     "text": [
      "1.5\n",
      "2\n"
     ]
    }
   ],
   "source": [
    "medianFinder = MedianFinder()\n",
    "medianFinder.addNum(1)\n",
    "medianFinder.addNum(2)\n",
    "print(medianFinder.findMedian()) # 1.5\n",
    "medianFinder.addNum(3)\n",
    "print(medianFinder.findMedian()) # 2.0"
   ]
  },
  {
   "cell_type": "code",
   "execution_count": null,
   "id": "641542c0",
   "metadata": {},
   "outputs": [],
   "source": []
  }
 ],
 "metadata": {
  "kernelspec": {
   "display_name": "Python 3",
   "language": "python",
   "name": "python3"
  },
  "language_info": {
   "codemirror_mode": {
    "name": "ipython",
    "version": 3
   },
   "file_extension": ".py",
   "mimetype": "text/x-python",
   "name": "python",
   "nbconvert_exporter": "python",
   "pygments_lexer": "ipython3",
   "version": "3.9.13"
  }
 },
 "nbformat": 4,
 "nbformat_minor": 5
}
