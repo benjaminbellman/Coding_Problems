{
 "cells": [
  {
   "cell_type": "markdown",
   "id": "998475ad",
   "metadata": {},
   "source": [
    "# Flip Equivalent Binary Trees"
   ]
  },
  {
   "cell_type": "markdown",
   "id": "abdd076a",
   "metadata": {},
   "source": [
    "For a binary tree T, we can define a flip operation as follows: choose any node, and swap the left and right child subtrees.\n",
    "\n",
    "A binary tree X is flip equivalent to a binary tree Y if and only if we can make X equal to Y after some number of flip operations.\n",
    "\n",
    "Given the roots of two binary trees root1 and root2, return true if the two trees are flip equivalent or false otherwise.\n",
    "\n",
    "**Example 1:**\n",
    "\n",
    "Flipped Trees Diagram\n",
    "Input: root1 = [1,2,3,4,5,6,null,null,null,7,8], root2 = [1,3,2,null,6,4,5,null,null,null,null,8,7]\n",
    "Output: true\n",
    "Explanation: We flipped at nodes with values 1, 3, and 5.\n",
    "\n",
    "**Example 2:**\n",
    "\n",
    "Input: root1 = [], root2 = []\n",
    "Output: true\n",
    "\n",
    "**Example 3:**\n",
    "\n",
    "Input: root1 = [], root2 = [1]\n",
    "Output: false\n",
    "\n",
    "**Constraints:**\n",
    "\n",
    "- The number of nodes in each tree is in the range [0, 100].\n",
    "- Each tree will have unique node values in the range [0, 99]."
   ]
  },
  {
   "cell_type": "code",
   "execution_count": 1,
   "id": "c485998f",
   "metadata": {},
   "outputs": [
    {
     "name": "stdout",
     "output_type": "stream",
     "text": [
      "True\n",
      "True\n",
      "False\n"
     ]
    }
   ],
   "source": [
    "class TreeNode:\n",
    "    def __init__(self, val=0, left=None, right=None):\n",
    "        self.val = val\n",
    "        self.left = left\n",
    "        self.right = right\n",
    "\n",
    "def flip_equiv(root1: TreeNode, root2: TreeNode) -> bool:\n",
    "    # Base case: if both nodes are None, they are equivalent\n",
    "    if not root1 and not root2:\n",
    "        return True\n",
    "    # If one is None and the other is not, they are not equivalent\n",
    "    if not root1 or not root2:\n",
    "        return False\n",
    "    # If the values of the current nodes do not match, they are not equivalent\n",
    "    if root1.val != root2.val:\n",
    "        return False\n",
    "    \n",
    "    # Recursively check both possible configurations: no flip and flip\n",
    "    return (flip_equiv(root1.left, root2.left) and flip_equiv(root1.right, root2.right)) or \\\n",
    "           (flip_equiv(root1.left, root2.right) and flip_equiv(root1.right, root2.left))\n",
    "\n",
    "# Example Usage:\n",
    "\n",
    "# Example 1\n",
    "root1 = TreeNode(1, \n",
    "                 TreeNode(2, TreeNode(4), TreeNode(5, TreeNode(7), TreeNode(8))),\n",
    "                 TreeNode(3, TreeNode(6), None))\n",
    "\n",
    "root2 = TreeNode(1, \n",
    "                 TreeNode(3, None, TreeNode(6)),\n",
    "                 TreeNode(2, TreeNode(4), TreeNode(5, TreeNode(8), TreeNode(7))))\n",
    "\n",
    "print(flip_equiv(root1, root2))  # Output: True\n",
    "\n",
    "# Example 2\n",
    "print(flip_equiv(None, None))  # Output: True\n",
    "\n",
    "# Example 3\n",
    "print(flip_equiv(None, TreeNode(1)))  # Output: False"
   ]
  },
  {
   "cell_type": "code",
   "execution_count": null,
   "id": "8eb9b45e",
   "metadata": {},
   "outputs": [],
   "source": []
  }
 ],
 "metadata": {
  "kernelspec": {
   "display_name": "Python 3 (ipykernel)",
   "language": "python",
   "name": "python3"
  },
  "language_info": {
   "codemirror_mode": {
    "name": "ipython",
    "version": 3
   },
   "file_extension": ".py",
   "mimetype": "text/x-python",
   "name": "python",
   "nbconvert_exporter": "python",
   "pygments_lexer": "ipython3",
   "version": "3.8.11"
  }
 },
 "nbformat": 4,
 "nbformat_minor": 5
}
