{
 "cells": [
  {
   "cell_type": "markdown",
   "id": "75cdc6de-4cb3-49ad-b9ab-a265ce3a2b89",
   "metadata": {},
   "source": [
    "## Instructions: \n",
    "You are given the array paths, where paths[i] = [cityAi, cityBi] means there exists a direct path going from cityAi to cityBi. Return the destination city, that is, the city without any path outgoing to another city.\n",
    "\n",
    "It is guaranteed that the graph of paths forms a line without any loop, therefore, there will be exactly one destination city.\n",
    "\n",
    " "
   ]
  },
  {
   "cell_type": "markdown",
   "id": "7833d3e9-b2b8-4835-8c28-cfc97011ed95",
   "metadata": {},
   "source": [
    "**Example 1:**\n",
    "<br> Input: paths = [[\"London\",\"New York\"],[\"New York\",\"Lima\"],[\"Lima\",\"Sao Paulo\"]]\n",
    "<br> Output: \"Sao Paulo\" \n",
    "<br>Explanation: Starting at \"London\" city you will reach \"Sao Paulo\" city which is the destination city. Your trip consist of: \"London\" -> \"New York\" -> \"Lima\" -> \"Sao Paulo\"."
   ]
  },
  {
   "cell_type": "markdown",
   "id": "c150156b-e9cd-4555-abe9-407cdb7b907e",
   "metadata": {},
   "source": [
    "**Example 2:**\n",
    "<br> Input: paths = [[\"B\",\"C\"],[\"D\",\"B\"],[\"C\",\"A\"]]\n",
    "<br> Output: \"A\"\n",
    "<br> Explanation: All possible trips are: \n",
    "<br>\"D\" -> \"B\" -> \"C\" -> \"A\". \n",
    "<br>\"B\" -> \"C\" -> \"A\". \n",
    "<br>\"C\" -> \"A\". \n",
    "<br>\"A\". \n",
    "<br>Clearly the destination city is \"A\"."
   ]
  },
  {
   "cell_type": "markdown",
   "id": "b70e17ad-2365-47a8-8f9d-4c1985987e8d",
   "metadata": {},
   "source": [
    "## Solution\n",
    "This is a counting problem. At a high level, the destination city should never be the starting point of a journey. Therefore, if we would be able to create a problem where all the cities have a count of origin --> destination for them,we would be able to isolate the destination city."
   ]
  },
  {
   "cell_type": "code",
   "execution_count": 29,
   "id": "d050bb68-08ea-47db-893f-65750f390ecd",
   "metadata": {},
   "outputs": [
    {
     "data": {
      "text/plain": [
       "{'London': 1, 'New York': 1, 'Lima': 1, 'Sao Paulo': 0}"
      ]
     },
     "execution_count": 29,
     "metadata": {},
     "output_type": "execute_result"
    }
   ],
   "source": [
    "## Creating key value pairs for a dictionary: \n",
    "def destCity(paths):\n",
    "    city_count = {} ## Create a dictionary to count the values. Keys will be cities, values will be the count. \n",
    "    for path in paths: ## For each path in all the paths available. \n",
    "        city_a , city_b = path ## Unpack origin as city_a and destination as city_b. \n",
    "        city_count[city_a] = city_count.get(city_a,0) +1 ## See Explanation 1\n",
    "        city_count[city_b] = city_count.get(city_b,0) ## See Explanation 2\n",
    "    return city_count\n",
    "\n",
    "destCity([[\"London\",\"New York\"],[\"New York\",\"Lima\"],[\"Lima\",\"Sao Paulo\"]])"
   ]
  },
  {
   "cell_type": "markdown",
   "id": "64184bf4-74d2-4743-abaf-3cc521e7c503",
   "metadata": {},
   "source": [
    "#### Explanation 1: \n",
    "<br> Create key in the dictionary with orign city. The value is either the value for the city_a key. In the first iteration, London (city_a) does not exist, so we need to put another value instead. That value is 0, and added up with 1 becomes 1.\n",
    "\n",
    "<br> In the second iteration, New York allready exists as a key and has value 0. We get the value for city_a that unpacks the [\"New York\", \"Lima\"] path and New York from previous iteration was 0, and we then add 1. \n",
    "\n",
    "#### Explanation 2: \n",
    "Create key for the destination city: It takes the value. In the first iteration, New_York (city_b) does not exist, so we need to put another value instead which will be 0. "
   ]
  },
  {
   "cell_type": "code",
   "execution_count": 36,
   "id": "01ecc70d-75f8-478c-8a64-270396d1d0ac",
   "metadata": {},
   "outputs": [
    {
     "data": {
      "text/plain": [
       "'Sao Paulo'"
      ]
     },
     "execution_count": 36,
     "metadata": {},
     "output_type": "execute_result"
    }
   ],
   "source": [
    "## Second Part: \n",
    "'''We should not return the full dictionary, but only the one where the value is 0. \n",
    "The above is just to demonstrate the process to get there '''\n",
    "\n",
    "city_count = destCity([[\"London\",\"New York\"],[\"New York\",\"Lima\"],[\"Lima\",\"Sao Paulo\"]]) ## Redefining it here. \n",
    "\n",
    "def get_destination():\n",
    "    for city in city_count:\n",
    "        if city_count[city] == 0:\n",
    "            return city\n",
    "get_destination()"
   ]
  },
  {
   "cell_type": "code",
   "execution_count": null,
   "id": "fb416bf1-776f-4a6c-9a9a-4609b8be5acf",
   "metadata": {},
   "outputs": [],
   "source": []
  }
 ],
 "metadata": {
  "kernelspec": {
   "display_name": "Python 3",
   "language": "python",
   "name": "python3"
  },
  "language_info": {
   "codemirror_mode": {
    "name": "ipython",
    "version": 3
   },
   "file_extension": ".py",
   "mimetype": "text/x-python",
   "name": "python",
   "nbconvert_exporter": "python",
   "pygments_lexer": "ipython3",
   "version": "3.9.12"
  }
 },
 "nbformat": 4,
 "nbformat_minor": 5
}
