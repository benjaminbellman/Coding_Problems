{
 "cells": [
  {
   "cell_type": "markdown",
   "id": "c2a4fe0a-e701-4eed-91a2-870fb2c88ce2",
   "metadata": {},
   "source": [
    "## Instructions:"
   ]
  },
  {
   "cell_type": "markdown",
   "id": "e09d3ca8-c714-4cf1-9de8-8771201ce010",
   "metadata": {},
   "source": [
    "Given the array nums, for each nums[i] find out how many numbers in the array are smaller than it. That is, for each nums[i] you have to count the number of valid j's such that j != i and nums[j] < nums[i].\n",
    "\n",
    "<br> Return the answer in an array."
   ]
  },
  {
   "cell_type": "markdown",
   "id": "c909baf9-99a4-4599-9635-bf0d5f93304a",
   "metadata": {},
   "source": [
    "**Example 1:**\n",
    "\n",
    "<br>Input: nums = [8,1,2,2,3]\n",
    "<br>Output: [4,0,1,1,3]\n",
    "<br>Explanation: \n",
    "<br>For nums[0]=8 there exist four smaller numbers than it (1, 2, 2 and 3). \n",
    "<br>For nums[1]=1 does not exist any smaller number than it.\n",
    "<br>For nums[2]=2 there exist one smaller number than it (1). \n",
    "<br>For nums[3]=2 there exist one smaller number than it (1). \n",
    "<br>For nums[4]=3 there exist three smaller numbers than it (1, 2 and 2)."
   ]
  },
  {
   "cell_type": "markdown",
   "id": "aebb5688-2a09-49d0-bfcc-225626301f58",
   "metadata": {},
   "source": [
    "## Explanation: \n",
    "For this problem, one of the solutions is to use the ability of numpy that can perform an operation on all elements of a list. The answer would be broken down as follows: \n",
    "- Import numpy and convert the input_list of numbers into a numpy array. \n",
    "- Create an empty list called smaller_counts where we will be looping over it and adding each number in numbers in it. \n",
    "- Create another empty list called values which will store the count of how much smaller. \n",
    "- We put a counter. \n",
    "\n",
    "<br> Inside the for loop where we go through each number: \n",
    "- We take the first number in numbers and append smaller_count with it. \n",
    "- We then take the value we just appended in smaller_count, and sum the number of times that value is larger than all other values in the array. This works because the results of smaller_count[counter] > array_of_numbers on the first iteration of the loop will return an array of True and Falses if a number in the array is larger or smaller than the value in smaller count. We then add 1 to the counter and eventually return the array values. "
   ]
  },
  {
   "cell_type": "code",
   "execution_count": 34,
   "id": "61026d99-54cd-4d9a-9e8f-940e0f4df45d",
   "metadata": {},
   "outputs": [
    {
     "data": {
      "text/plain": [
       "array([4, 0, 1, 1, 3])"
      ]
     },
     "execution_count": 34,
     "metadata": {},
     "output_type": "execute_result"
    }
   ],
   "source": [
    "import numpy as np \n",
    "numbers = [8,1,2,2,3]\n",
    "def small_numbers(array_of_numbers):\n",
    "    array_of_numbers = np.array(numbers) \n",
    "    smaller_count = []\n",
    "    values = []\n",
    "    counter = 0 \n",
    "    for number in numbers:\n",
    "        smaller_count.append(number)\n",
    "        values.append(sum(smaller_count[counter] > array_of_numbers))\n",
    "        counter += 1\n",
    "    return np.array(values)\n",
    "        \n",
    "\n",
    "small_numbers(numbers)    "
   ]
  },
  {
   "cell_type": "code",
   "execution_count": null,
   "id": "d31a7604-2170-4c74-8b8f-cd7e8013e976",
   "metadata": {},
   "outputs": [],
   "source": []
  }
 ],
 "metadata": {
  "kernelspec": {
   "display_name": "Python 3",
   "language": "python",
   "name": "python3"
  },
  "language_info": {
   "codemirror_mode": {
    "name": "ipython",
    "version": 3
   },
   "file_extension": ".py",
   "mimetype": "text/x-python",
   "name": "python",
   "nbconvert_exporter": "python",
   "pygments_lexer": "ipython3",
   "version": "3.9.12"
  }
 },
 "nbformat": 4,
 "nbformat_minor": 5
}
