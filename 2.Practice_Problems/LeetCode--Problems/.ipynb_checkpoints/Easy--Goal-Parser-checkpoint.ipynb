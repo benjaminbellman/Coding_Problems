{
 "cells": [
  {
   "cell_type": "markdown",
   "id": "17fc4524-5f01-478b-99c9-e65a71252cf7",
   "metadata": {},
   "source": [
    "## Instructions\n",
    "You own a Goal Parser that can interpret a string command. The command consists of an alphabet of \"G\", \"()\" and/or \"(al)\" in some order. The Goal Parser will interpret \"G\" as the string \"G\", \"()\" as the string \"o\", and \"(al)\" as the string \"al\". The interpreted strings are then concatenated in the original order.\n",
    "\n",
    "Given the string command, return the Goal Parser's interpretation of command."
   ]
  },
  {
   "cell_type": "markdown",
   "id": "713f4662-2d09-4dc7-b861-b775135a460c",
   "metadata": {},
   "source": [
    "**Example 1:**\n",
    "\n",
    "<br>Input: command = \"G()(al)\"\n",
    "<br>Output: \"Goal\"\n",
    "<br>Explanation: The Goal Parser interprets the command as follows:\n",
    "<br>G -> G\n",
    "<br>() -> o\n",
    "<br>(al) -> al\n",
    "<br>The final concatenated result is \"Goal\"."
   ]
  },
  {
   "cell_type": "markdown",
   "id": "55e0826b-46d2-4c2e-95e3-35b3d763e503",
   "metadata": {},
   "source": [
    "**Example 2:**\n",
    "\n",
    "<br> Input: command = \"(al)G(al)()()G\"\n",
    "<br> Output: \"alGalooG\""
   ]
  },
  {
   "cell_type": "code",
   "execution_count": 8,
   "id": "8c750149-9220-45f7-8819-3923115f81ef",
   "metadata": {},
   "outputs": [
    {
     "data": {
      "text/plain": [
       "'alGalooG'"
      ]
     },
     "execution_count": 8,
     "metadata": {},
     "output_type": "execute_result"
    }
   ],
   "source": [
    "def goal_parser(word_strings): \n",
    "    return word_strings.replace(\"(al)\",\"al\").replace(\"()\",\"o\")\n",
    "goal_parser(\"(al)G(al)()()G\")"
   ]
  },
  {
   "cell_type": "code",
   "execution_count": null,
   "id": "dab36e63-16c8-490d-9ef4-81db08f5a18e",
   "metadata": {},
   "outputs": [],
   "source": []
  }
 ],
 "metadata": {
  "kernelspec": {
   "display_name": "Python 3",
   "language": "python",
   "name": "python3"
  },
  "language_info": {
   "codemirror_mode": {
    "name": "ipython",
    "version": 3
   },
   "file_extension": ".py",
   "mimetype": "text/x-python",
   "name": "python",
   "nbconvert_exporter": "python",
   "pygments_lexer": "ipython3",
   "version": "3.9.12"
  }
 },
 "nbformat": 4,
 "nbformat_minor": 5
}
