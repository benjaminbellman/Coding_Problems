{
 "cells": [
  {
   "cell_type": "markdown",
   "id": "81b1eb83-d012-44c5-9b46-a8c0d57e92fe",
   "metadata": {},
   "source": [
    "# Climbing Stairs\n",
    "https://www.youtube.com/watch?v=IRfKXVN2f2g&ab_channel=DataDaft"
   ]
  },
  {
   "cell_type": "markdown",
   "id": "fafbff90-ad99-4fee-9a9f-2b2b9c713d5e",
   "metadata": {},
   "source": [
    "You are climbing a staircase. It takes n steps to reach the top.\n",
    "\n",
    "Each time you can either climb 1 or 2 steps. In how many distinct ways can you climb to the top?\n",
    "\n",
    " \n",
    "\n",
    "**Example 1:**\n",
    "\n",
    "Input: n = 2\n",
    "Output: 2\n",
    "Explanation: There are two ways to climb to the top.\n",
    "1. 1 step + 1 step\n",
    "2. 2 steps\n",
    "Example 2:\n",
    "\n",
    "Input: n = 3\n",
    "Output: 3\n",
    "Explanation: There are three ways to climb to the top.\n",
    "1. 1 step + 1 step + 1 step\n",
    "2. 1 step + 2 steps\n",
    "3. 2 steps + 1 step\n",
    "\n",
    "Constraints:\n",
    "\n",
    "1 <= n <= 45"
   ]
  },
  {
   "cell_type": "code",
   "execution_count": 141,
   "id": "fb42c261-f7b7-43bd-9a2e-40424df93a2a",
   "metadata": {},
   "outputs": [
    {
     "data": {
      "text/plain": [
       "13"
      ]
     },
     "execution_count": 141,
     "metadata": {},
     "output_type": "execute_result"
    }
   ],
   "source": [
    "def climb_stairs(n): \n",
    "    path = {1:1,\n",
    "            2:2,\n",
    "            3:3}\n",
    "    for i in range(4, n+1):\n",
    "        path[i] = path[i-1] + path[i-2]\n",
    "    return path[n]\n",
    "\n",
    "climb_stairs(6)"
   ]
  },
  {
   "cell_type": "code",
   "execution_count": null,
   "id": "caddc034-5e34-4214-bfbf-e984ef71e89c",
   "metadata": {},
   "outputs": [],
   "source": []
  },
  {
   "cell_type": "code",
   "execution_count": null,
   "id": "153c24de-8374-4a4a-84b5-9dde1ea2377e",
   "metadata": {},
   "outputs": [],
   "source": []
  }
 ],
 "metadata": {
  "kernelspec": {
   "display_name": "Python 3",
   "language": "python",
   "name": "python3"
  },
  "language_info": {
   "codemirror_mode": {
    "name": "ipython",
    "version": 3
   },
   "file_extension": ".py",
   "mimetype": "text/x-python",
   "name": "python",
   "nbconvert_exporter": "python",
   "pygments_lexer": "ipython3",
   "version": "3.9.13"
  }
 },
 "nbformat": 4,
 "nbformat_minor": 5
}
