{
 "cells": [
  {
   "cell_type": "markdown",
   "id": "c446acea",
   "metadata": {},
   "source": [
    "# Snakes and Ladders"
   ]
  },
  {
   "cell_type": "markdown",
   "id": "0c88dea7",
   "metadata": {},
   "source": [
    "You are given an n x n integer matrix board where the cells are labeled from 1 to n2 in a Boustrophedon style starting from the bottom left of the board (i.e. board[n - 1][0]) and alternating direction each row.\n",
    "\n",
    "You start on square 1 of the board. In each move, starting from square curr, do the following:\n",
    "\n",
    "Choose a destination square next with a label in the range [curr + 1, min(curr + 6, n2)].\n",
    "This choice simulates the result of a standard 6-sided die roll: i.e., there are always at most 6 destinations, regardless of the size of the board.\n",
    "If next has a snake or ladder, you must move to the destination of that snake or ladder. Otherwise, you move to next.\n",
    "The game ends when you reach the square n2.\n",
    "A board square on row r and column c has a snake or ladder if board[r][c] != -1. The destination of that snake or ladder is board[r][c]. Squares 1 and n2 are not the starting points of any snake or ladder.\n",
    "\n",
    "Note that you only take a snake or ladder at most once per move. If the destination to a snake or ladder is the start of another snake or ladder, you do not follow the subsequent snake or ladder.\n",
    "\n",
    "For example, suppose the board is [[-1,4],[-1,3]], and on the first move, your destination square is 2. You follow the ladder to square 3, but do not follow the subsequent ladder to 4.\n",
    "Return the least number of moves required to reach the square n2. If it is not possible to reach the square, return -1.\n",
    "\n",
    "**Example 1:**\n",
    "\n",
    "Input: board = [[-1,-1,-1,-1,-1,-1],[-1,-1,-1,-1,-1,-1],[-1,-1,-1,-1,-1,-1],[-1,35,-1,-1,13,-1],[-1,-1,-1,-1,-1,-1],[-1,15,-1,-1,-1,-1]]\n",
    "Output: 4\n",
    "\n",
    "Explanation: \n",
    "In the beginning, you start at square 1 (at row 5, column 0).\n",
    "You decide to move to square 2 and must take the ladder to square 15.\n",
    "You then decide to move to square 17 and must take the snake to square 13.\n",
    "You then decide to move to square 14 and must take the ladder to square 35.\n",
    "You then decide to move to square 36, ending the game.\n",
    "This is the lowest possible number of moves to reach the last square, so return 4.\n",
    "\n",
    "**Example 2:**\n",
    "\n",
    "Input: board = [[-1,-1],[-1,3]]\n",
    "Output: 1\n",
    "\n",
    "**Constraints:**\n",
    "\n",
    "- n == board.length == board[i].length\n",
    "- 2 <= n <= 20\n",
    "- board[i][j] is either -1 or in the range [1, n2].\n",
    "- The squares labeled 1 and n2 are not the starting points of any snake or ladder."
   ]
  },
  {
   "cell_type": "code",
   "execution_count": 1,
   "id": "8ba413fd",
   "metadata": {},
   "outputs": [],
   "source": [
    "from collections import deque\n",
    "\n",
    "def minNumberOfMoves(board):\n",
    "    n = len(board)\n",
    "    def get_board_pos(num):\n",
    "        row = n - 1 - (num - 1) // n\n",
    "        col = (num - 1) % n if (n - row) % 2 == 1 else n - 1 - (num - 1) % n\n",
    "        return (row, col)\n",
    "\n",
    "    # BFS initialization\n",
    "    queue = deque([(1, 0)])  # (current_square, moves)\n",
    "    visited = set()\n",
    "    visited.add(1)\n",
    "    \n",
    "    while queue:\n",
    "        curr, moves = queue.popleft()\n",
    "        \n",
    "        # Check all possible dice rolls\n",
    "        for die in range(1, 7):\n",
    "            next_square = curr + die\n",
    "            if next_square > n * n:\n",
    "                break\n",
    "            \n",
    "            next_row, next_col = get_board_pos(next_square)\n",
    "            if board[next_row][next_col] != -1:\n",
    "                next_square = board[next_row][next_col]\n",
    "            \n",
    "            if next_square == n * n:\n",
    "                return moves + 1\n",
    "            \n",
    "            if next_square not in visited:\n",
    "                visited.add(next_square)\n",
    "                queue.append((next_square, moves + 1))\n",
    "    \n",
    "    return -1"
   ]
  },
  {
   "cell_type": "code",
   "execution_count": null,
   "id": "97253db5",
   "metadata": {},
   "outputs": [],
   "source": []
  }
 ],
 "metadata": {
  "kernelspec": {
   "display_name": "Python 3 (ipykernel)",
   "language": "python",
   "name": "python3"
  },
  "language_info": {
   "codemirror_mode": {
    "name": "ipython",
    "version": 3
   },
   "file_extension": ".py",
   "mimetype": "text/x-python",
   "name": "python",
   "nbconvert_exporter": "python",
   "pygments_lexer": "ipython3",
   "version": "3.8.11"
  }
 },
 "nbformat": 4,
 "nbformat_minor": 5
}
