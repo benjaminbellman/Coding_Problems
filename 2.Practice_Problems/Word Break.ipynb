{
 "cells": [
  {
   "cell_type": "markdown",
   "id": "cf057c01",
   "metadata": {},
   "source": [
    "# Word Break"
   ]
  },
  {
   "cell_type": "markdown",
   "id": "7ae6a285",
   "metadata": {},
   "source": [
    "Given a string s and a dictionary of strings wordDict, return true if s can be segmented into a space-separated sequence of one or more dictionary words.\n",
    "\n",
    "Note that the same word in the dictionary may be reused multiple times in the segmentation.\n",
    "\n",
    "**Example 1:**\n",
    "\n",
    "Input: s = \"leetcode\", wordDict = [\"leet\",\"code\"]\n",
    "Output: true\n",
    "Explanation: Return true because \"leetcode\" can be segmented as \"leet code\".\n",
    "\n",
    "**Example 2:**\n",
    "\n",
    "Input: s = \"applepenapple\", wordDict = [\"apple\",\"pen\"]\n",
    "Output: true\n",
    "Explanation: Return true because \"applepenapple\" can be segmented as \"apple pen apple\".\n",
    "Note that you are allowed to reuse a dictionary word.\n",
    "\n",
    "**Example 3:**\n",
    "\n",
    "Input: s = \"catsandog\", wordDict = [\"cats\",\"dog\",\"sand\",\"and\",\"cat\"]\n",
    "Output: false\n",
    " \n",
    "**Constraints:**\n",
    "\n",
    "- 1 <= s.length <= 300\n",
    "- 1 <= wordDict.length <= 1000\n",
    "- 1 <= wordDict[i].length <= 20\n",
    "- s and wordDict[i] consist of only lowercase English letters.\n",
    "- All the strings of wordDict are unique."
   ]
  },
  {
   "cell_type": "code",
   "execution_count": 1,
   "id": "2a6997cf",
   "metadata": {},
   "outputs": [
    {
     "ename": "TypeError",
     "evalue": "'type' object is not subscriptable",
     "output_type": "error",
     "traceback": [
      "\u001b[1;31m---------------------------------------------------------------------------\u001b[0m",
      "\u001b[1;31mTypeError\u001b[0m                                 Traceback (most recent call last)",
      "\u001b[1;32m~\\AppData\\Local\\Temp/ipykernel_21764/2093182336.py\u001b[0m in \u001b[0;36m<module>\u001b[1;34m\u001b[0m\n\u001b[1;32m----> 1\u001b[1;33m \u001b[1;32mdef\u001b[0m \u001b[0mwordBreak\u001b[0m\u001b[1;33m(\u001b[0m\u001b[0ms\u001b[0m\u001b[1;33m:\u001b[0m \u001b[0mstr\u001b[0m\u001b[1;33m,\u001b[0m \u001b[0mwordDict\u001b[0m\u001b[1;33m:\u001b[0m \u001b[0mlist\u001b[0m\u001b[1;33m[\u001b[0m\u001b[0mstr\u001b[0m\u001b[1;33m]\u001b[0m\u001b[1;33m)\u001b[0m \u001b[1;33m->\u001b[0m \u001b[0mbool\u001b[0m\u001b[1;33m:\u001b[0m\u001b[1;33m\u001b[0m\u001b[1;33m\u001b[0m\u001b[0m\n\u001b[0m\u001b[0;32m      2\u001b[0m     \u001b[0mwords\u001b[0m \u001b[1;33m=\u001b[0m \u001b[0mset\u001b[0m\u001b[1;33m(\u001b[0m\u001b[0mwordDict\u001b[0m\u001b[1;33m)\u001b[0m\u001b[1;33m\u001b[0m\u001b[1;33m\u001b[0m\u001b[0m\n\u001b[0;32m      3\u001b[0m     \u001b[0mn\u001b[0m \u001b[1;33m=\u001b[0m \u001b[0mlen\u001b[0m\u001b[1;33m(\u001b[0m\u001b[0ms\u001b[0m\u001b[1;33m)\u001b[0m\u001b[1;33m\u001b[0m\u001b[1;33m\u001b[0m\u001b[0m\n\u001b[0;32m      4\u001b[0m     \u001b[0mmax_len\u001b[0m \u001b[1;33m=\u001b[0m \u001b[0mmax\u001b[0m\u001b[1;33m(\u001b[0m\u001b[0mmap\u001b[0m\u001b[1;33m(\u001b[0m\u001b[0mlen\u001b[0m\u001b[1;33m,\u001b[0m \u001b[0mwords\u001b[0m\u001b[1;33m)\u001b[0m\u001b[1;33m)\u001b[0m \u001b[1;32mif\u001b[0m \u001b[0mwords\u001b[0m \u001b[1;32melse\u001b[0m \u001b[1;36m0\u001b[0m\u001b[1;33m\u001b[0m\u001b[1;33m\u001b[0m\u001b[0m\n\u001b[0;32m      5\u001b[0m \u001b[1;33m\u001b[0m\u001b[0m\n",
      "\u001b[1;31mTypeError\u001b[0m: 'type' object is not subscriptable"
     ]
    }
   ],
   "source": [
    "def wordBreak(s: str, wordDict: list[str]) -> bool:\n",
    "    words = set(wordDict)\n",
    "    n = len(s)\n",
    "    max_len = max(map(len, words)) if words else 0\n",
    "\n",
    "    dp = [False] * (n + 1)\n",
    "    dp[0] = True  # empty string\n",
    "\n",
    "    for i in range(1, n + 1):\n",
    "        # only check window sizes up to max_len\n",
    "        for l in range(1, min(i, max_len) + 1):\n",
    "            if not dp[i - l]:\n",
    "                continue\n",
    "            if s[i - l:i] in words:\n",
    "                dp[i] = True\n",
    "                break\n",
    "    return dp[n]"
   ]
  },
  {
   "cell_type": "code",
   "execution_count": null,
   "id": "51b94bbc",
   "metadata": {},
   "outputs": [],
   "source": []
  }
 ],
 "metadata": {
  "kernelspec": {
   "display_name": "Python 3 (ipykernel)",
   "language": "python",
   "name": "python3"
  },
  "language_info": {
   "codemirror_mode": {
    "name": "ipython",
    "version": 3
   },
   "file_extension": ".py",
   "mimetype": "text/x-python",
   "name": "python",
   "nbconvert_exporter": "python",
   "pygments_lexer": "ipython3",
   "version": "3.8.11"
  }
 },
 "nbformat": 4,
 "nbformat_minor": 5
}
