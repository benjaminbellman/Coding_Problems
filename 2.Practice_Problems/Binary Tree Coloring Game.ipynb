{
 "cells": [
  {
   "cell_type": "markdown",
   "id": "9142162b",
   "metadata": {},
   "source": [
    "# Binary Tree Coloring Game"
   ]
  },
  {
   "cell_type": "markdown",
   "id": "969a1ddf",
   "metadata": {},
   "source": [
    "Two players play a turn based game on a binary tree. We are given the root of this binary tree, and the number of nodes n in the tree. n is odd, and each node has a distinct value from 1 to n.\n",
    "\n",
    "Initially, the first player names a value x with 1 <= x <= n, and the second player names a value y with 1 <= y <= n and y != x. The first player colors the node with value x red, and the second player colors the node with value y blue.\n",
    "\n",
    "Then, the players take turns starting with the first player. In each turn, that player chooses a node of their color (red if player 1, blue if player 2) and colors an uncolored neighbor of the chosen node (either the left child, right child, or parent of the chosen node.)\n",
    "\n",
    "If (and only if) a player cannot choose such a node in this way, they must pass their turn. If both players pass their turn, the game ends, and the winner is the player that colored more nodes.\n",
    "\n",
    "You are the second player. If it is possible to choose such a y to ensure you win the game, return true. If it is not possible, return false.\n",
    "\n",
    "**Example 1:**\n",
    "\n",
    "Input: root = [1,2,3,4,5,6,7,8,9,10,11], n = 11, x = 3\n",
    "Output: true\n",
    "Explanation: The second player can choose the node with value 2.\n",
    "\n",
    "**Example 2:**\n",
    "\n",
    "Input: root = [1,2,3], n = 3, x = 1\n",
    "Output: false\n",
    "\n",
    "**Constraints:**\n",
    "\n",
    "- The number of nodes in the tree is n.\n",
    "- 1 <= x <= n <= 100\n",
    "- n is odd.\n",
    "- 1 <= Node.val <= n\n",
    "- All the values of the tree are unique."
   ]
  },
  {
   "cell_type": "code",
   "execution_count": 1,
   "id": "e5d9b914",
   "metadata": {},
   "outputs": [],
   "source": [
    "class TreeNode:\n",
    "    def __init__(self, val=0, left=None, right=None):\n",
    "        self.val = val\n",
    "        self.left = left\n",
    "        self.right = right\n",
    "\n",
    "class Solution:\n",
    "    def btreeGameWinningMove(self, root: TreeNode, n: int, x: int) -> bool:\n",
    "        # Find the node with value x\n",
    "        self.left_size = 0\n",
    "        self.right_size = 0\n",
    "\n",
    "        def count_nodes(node):\n",
    "            if not node:\n",
    "                return 0\n",
    "            left = count_nodes(node.left)\n",
    "            right = count_nodes(node.right)\n",
    "            if node.val == x:\n",
    "                self.left_size = left\n",
    "                self.right_size = right\n",
    "            return left + right + 1\n",
    "\n",
    "        total_nodes = count_nodes(root)\n",
    "        \n",
    "        # Three possible areas to pick: left subtree, right subtree, and parent area\n",
    "        parent_size = total_nodes - (self.left_size + self.right_size + 1)\n",
    "        \n",
    "        # Check if any of these areas have more than half the total nodes\n",
    "        max_partition = max(self.left_size, self.right_size, parent_size)\n",
    "        \n",
    "        return max_partition > n // 2"
   ]
  },
  {
   "cell_type": "code",
   "execution_count": null,
   "id": "101df153",
   "metadata": {},
   "outputs": [],
   "source": []
  }
 ],
 "metadata": {
  "kernelspec": {
   "display_name": "Python 3 (ipykernel)",
   "language": "python",
   "name": "python3"
  },
  "language_info": {
   "codemirror_mode": {
    "name": "ipython",
    "version": 3
   },
   "file_extension": ".py",
   "mimetype": "text/x-python",
   "name": "python",
   "nbconvert_exporter": "python",
   "pygments_lexer": "ipython3",
   "version": "3.8.11"
  }
 },
 "nbformat": 4,
 "nbformat_minor": 5
}
