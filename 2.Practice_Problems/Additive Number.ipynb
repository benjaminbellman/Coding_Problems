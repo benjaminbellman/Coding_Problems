{
 "cells": [
  {
   "cell_type": "markdown",
   "id": "89c4c0d5",
   "metadata": {},
   "source": [
    "# Additive Number"
   ]
  },
  {
   "cell_type": "markdown",
   "id": "141ee562",
   "metadata": {},
   "source": [
    "An additive number is a string whose digits can form an additive sequence.\n",
    "\n",
    "A valid additive sequence should contain at least three numbers. Except for the first two numbers, each subsequent number in the sequence must be the sum of the preceding two.\n",
    "\n",
    "Given a string containing only digits, return true if it is an additive number or false otherwise.\n",
    "\n",
    "Note: Numbers in the additive sequence cannot have leading zeros, so sequence 1, 2, 03 or 1, 02, 3 is invalid.\n",
    "\n",
    " \n",
    "\n",
    "**Example 1:**\n",
    "\n",
    "Input: \"112358\"\n",
    "Output: true\n",
    "Explanation: \n",
    "The digits can form an additive sequence: 1, 1, 2, 3, 5, 8. \n",
    "1 + 1 = 2, 1 + 2 = 3, 2 + 3 = 5, 3 + 5 = 8\n",
    "\n",
    "**Example 2:**\n",
    "\n",
    "Input: \"199100199\"\n",
    "Output: true\n",
    "\n",
    "**Explanation:** \n",
    "The additive sequence is: 1, 99, 100, 199. \n",
    "1 + 99 = 100, 99 + 100 = 199\n",
    " \n",
    "\n",
    "**Constraints:**\n",
    "\n",
    "1 <= num.length <= 35\n",
    "num consists only of digits."
   ]
  },
  {
   "cell_type": "code",
   "execution_count": 1,
   "id": "0f3dc504",
   "metadata": {},
   "outputs": [
    {
     "name": "stdout",
     "output_type": "stream",
     "text": [
      "True\n",
      "True\n"
     ]
    }
   ],
   "source": [
    "def is_additive_number(num):\n",
    "    def backtrack(first, second, remaining):\n",
    "        if not remaining:  # All digits have been processed\n",
    "            return True\n",
    "\n",
    "        # Try different split points for the next number\n",
    "        for i in range(1, len(remaining) + 1):\n",
    "            if remaining[0] == '0' and i > 1:\n",
    "                break  # Leading zero is not allowed\n",
    "\n",
    "            third_str = remaining[:i]\n",
    "            third = int(third_str)\n",
    "            if third == first + second:  # Check if the sum is valid\n",
    "                if backtrack(second, third, remaining[i:]):\n",
    "                    return True\n",
    "\n",
    "        return False\n",
    "\n",
    "    # Main function to check if num is an additive number\n",
    "    n = len(num)\n",
    "    for i in range(1, n // 2 + 1):\n",
    "        if num[0] == '0' and i > 1:\n",
    "            break  # Leading zero is not allowed\n",
    "\n",
    "        first_str = num[:i]\n",
    "        first = int(first_str)\n",
    "        for j in range(i + 1, n):\n",
    "            if num[i] == '0' and j > i + 1:\n",
    "                break  # Leading zero is not allowed\n",
    "\n",
    "            second_str = num[i:j]\n",
    "            second = int(second_str)\n",
    "            if backtrack(first, second, num[j:]):\n",
    "                return True\n",
    "\n",
    "    return False\n",
    "\n",
    "\n",
    "# Testing the provided examples\n",
    "num1 = \"112358\"\n",
    "print(is_additive_number(num1))  # Output: True\n",
    "\n",
    "num2 = \"199100199\"\n",
    "print(is_additive_number(num2))  # Output: True"
   ]
  },
  {
   "cell_type": "code",
   "execution_count": null,
   "id": "cc968f9f",
   "metadata": {},
   "outputs": [],
   "source": []
  }
 ],
 "metadata": {
  "kernelspec": {
   "display_name": "Python 3",
   "language": "python",
   "name": "python3"
  },
  "language_info": {
   "codemirror_mode": {
    "name": "ipython",
    "version": 3
   },
   "file_extension": ".py",
   "mimetype": "text/x-python",
   "name": "python",
   "nbconvert_exporter": "python",
   "pygments_lexer": "ipython3",
   "version": "3.9.13"
  }
 },
 "nbformat": 4,
 "nbformat_minor": 5
}
