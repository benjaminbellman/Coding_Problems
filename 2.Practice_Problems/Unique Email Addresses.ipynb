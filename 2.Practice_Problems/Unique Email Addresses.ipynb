{
 "cells": [
  {
   "cell_type": "markdown",
   "id": "dec48b17",
   "metadata": {},
   "source": [
    "# Unique Email Addresses"
   ]
  },
  {
   "cell_type": "markdown",
   "id": "47a959e0",
   "metadata": {},
   "source": [
    "very valid email consists of a local name and a domain name, separated by the '@' sign. Besides lowercase letters, the email may contain one or more '.' or '+'.\n",
    "\n",
    "For example, in \"alice@leetcode.com\", \"alice\" is the local name, and \"leetcode.com\" is the domain name.\n",
    "If you add periods '.' between some characters in the local name part of an email address, mail sent there will be forwarded to the same address without dots in the local name. Note that this rule does not apply to domain names.\n",
    "\n",
    "For example, \"alice.z@leetcode.com\" and \"alicez@leetcode.com\" forward to the same email address.\n",
    "If you add a plus '+' in the local name, everything after the first plus sign will be ignored. This allows certain emails to be filtered. Note that this rule does not apply to domain names.\n",
    "\n",
    "For example, \"m.y+name@email.com\" will be forwarded to \"my@email.com\".\n",
    "It is possible to use both of these rules at the same time.\n",
    "\n",
    "Given an array of strings emails where we send one email to each emails[i], return the number of different addresses that actually receive mails.\n",
    "\n",
    "\n",
    "**Example 1:**\n",
    "\n",
    "Input: emails = [\"test.email+alex@leetcode.com\",\"test.e.mail+bob.cathy@leetcode.com\",\"testemail+david@lee.tcode.com\"]\n",
    "Output: 2\n",
    "Explanation: \"testemail@leetcode.com\" and \"testemail@lee.tcode.com\" actually receive mails.\n",
    "\n",
    "**Example 2:**\n",
    "\n",
    "Input: emails = [\"a@leetcode.com\",\"b@leetcode.com\",\"c@leetcode.com\"]\n",
    "Output: 3\n",
    " \n",
    "\n",
    "**Constraints:**\n",
    "\n",
    "- 1 <= emails.length <= 100\n",
    "- 1 <= emails[i].length <= 100\n",
    "- emails[i] consist of lowercase English letters, '+', '.' and '@'.\n",
    "- Each emails[i] contains exactly one '@' character.\n",
    "- All local and domain names are non-empty.\n",
    "- Local names do not start with a '+' character.\n",
    "- Domain names end with the \".com\" suffix."
   ]
  },
  {
   "cell_type": "code",
   "execution_count": 1,
   "id": "68bd9a71",
   "metadata": {},
   "outputs": [],
   "source": [
    "def numUniqueEmails(emails):\n",
    "    unique_emails = set()\n",
    "    \n",
    "    for email in emails:\n",
    "        # Split the email into local and domain parts\n",
    "        local, domain = email.split('@')\n",
    "        \n",
    "        # Process the local part by removing everything after '+' and remove '.'\n",
    "        local = local.split('+')[0]  # Only keep part before '+'\n",
    "        local = local.replace('.', '')  # Remove all '.'\n",
    "        \n",
    "        # Rebuild the email and add to the set of unique emails\n",
    "        unique_emails.add(local + '@' + domain)\n",
    "    \n",
    "    # Return the number of unique emails\n",
    "    return len(unique_emails)"
   ]
  },
  {
   "cell_type": "code",
   "execution_count": null,
   "id": "24b515df",
   "metadata": {},
   "outputs": [],
   "source": []
  }
 ],
 "metadata": {
  "kernelspec": {
   "display_name": "Python 3 (ipykernel)",
   "language": "python",
   "name": "python3"
  },
  "language_info": {
   "codemirror_mode": {
    "name": "ipython",
    "version": 3
   },
   "file_extension": ".py",
   "mimetype": "text/x-python",
   "name": "python",
   "nbconvert_exporter": "python",
   "pygments_lexer": "ipython3",
   "version": "3.8.11"
  }
 },
 "nbformat": 4,
 "nbformat_minor": 5
}
