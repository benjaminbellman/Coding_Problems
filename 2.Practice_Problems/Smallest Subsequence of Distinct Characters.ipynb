{
 "cells": [
  {
   "cell_type": "markdown",
   "id": "4c3bc76b",
   "metadata": {},
   "source": [
    "# Smallest Subsequence of Distinct Characters"
   ]
  },
  {
   "cell_type": "markdown",
   "id": "d0e2b80c",
   "metadata": {},
   "source": [
    "Given a string s, return the \n",
    "lexicographically smallest subsequenc of s that contains all the distinct characters of s exactly once.\n",
    "\n",
    "**Example 1:**\n",
    "\n",
    "Input: s = \"bcabc\"\n",
    "Output: \"abc\"\n",
    "\n",
    "**Example 2:**\n",
    "\n",
    "Input: s = \"cbacdcbc\"\n",
    "Output: \"acdb\"\n",
    " \n",
    "**Constraints:**\n",
    "\n",
    "- 1 <= s.length <= 1000\n",
    "- s consists of lowercase English letters."
   ]
  },
  {
   "cell_type": "code",
   "execution_count": 1,
   "id": "63477ad5",
   "metadata": {},
   "outputs": [],
   "source": [
    "def smallestSubsequence(s: str) -> str:\n",
    "    # Frequency count of each character\n",
    "    freq = {char: 0 for char in s}\n",
    "    for char in s:\n",
    "        freq[char] += 1\n",
    "\n",
    "    stack = []\n",
    "    visited = set()\n",
    "\n",
    "    for char in s:\n",
    "        # Decrease the frequency count of the current character\n",
    "        freq[char] -= 1\n",
    "\n",
    "        # If the character is already in the stack, skip it\n",
    "        if char in visited:\n",
    "            continue\n",
    "\n",
    "        # While the stack is not empty, the current character is smaller than the top of the stack\n",
    "        # and the top of the stack can appear later (frequency > 0)\n",
    "        while stack and char < stack[-1] and freq[stack[-1]] > 0:\n",
    "            removed = stack.pop()\n",
    "            visited.remove(removed)\n",
    "\n",
    "        # Add the current character to the stack and mark it as visited\n",
    "        stack.append(char)\n",
    "        visited.add(char)\n",
    "\n",
    "    # Convert stack to string and return\n",
    "    return ''.join(stack)"
   ]
  },
  {
   "cell_type": "code",
   "execution_count": null,
   "id": "c3592d22",
   "metadata": {},
   "outputs": [],
   "source": []
  }
 ],
 "metadata": {
  "kernelspec": {
   "display_name": "Python 3 (ipykernel)",
   "language": "python",
   "name": "python3"
  },
  "language_info": {
   "codemirror_mode": {
    "name": "ipython",
    "version": 3
   },
   "file_extension": ".py",
   "mimetype": "text/x-python",
   "name": "python",
   "nbconvert_exporter": "python",
   "pygments_lexer": "ipython3",
   "version": "3.8.11"
  }
 },
 "nbformat": 4,
 "nbformat_minor": 5
}
