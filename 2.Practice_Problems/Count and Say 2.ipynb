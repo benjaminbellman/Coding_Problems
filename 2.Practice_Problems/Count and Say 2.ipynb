{
 "cells": [
  {
   "cell_type": "markdown",
   "id": "051229dd",
   "metadata": {},
   "source": [
    "# Count and Say 2"
   ]
  },
  {
   "cell_type": "markdown",
   "id": "9821891f",
   "metadata": {},
   "source": [
    "The count-and-say sequence is a sequence of digit strings defined by the recursive formula:\n",
    "\n",
    "countAndSay(1) = \"1\"\n",
    "countAndSay(n) is the run-length encoding of countAndSay(n - 1).\n",
    "Run-length encoding (RLE) is a string compression method that works by replacing consecutive identical characters (repeated 2 or more times) with the concatenation of the character and the number marking the count of the characters (length of the run). For example, to compress the string \"3322251\" we replace \"33\" with \"23\", replace \"222\" with \"32\", replace \"5\" with \"15\" and replace \"1\" with \"11\". Thus the compressed string becomes \"23321511\".\n",
    "\n",
    "Given a positive integer n, return the nth element of the count-and-say sequence.\n",
    "\n",
    "**Example 1:**\n",
    "\n",
    "Input: n = 4\n",
    "\n",
    "Output: \"1211\"\n",
    "\n",
    "Explanation:\n",
    "\n",
    "countAndSay(1) = \"1\"\n",
    "countAndSay(2) = RLE of \"1\" = \"11\"\n",
    "countAndSay(3) = RLE of \"11\" = \"21\"\n",
    "countAndSay(4) = RLE of \"21\" = \"1211\"\n",
    "\n",
    "**Example 2:**\n",
    "\n",
    "Input: n = 1\n",
    "\n",
    "Output: \"1\"\n",
    "\n",
    "Explanation:\n",
    "\n",
    "This is the base case.\n",
    "\n",
    "**Constraints:**\n",
    "\n",
    "- 1 <= n <= 30"
   ]
  },
  {
   "cell_type": "code",
   "execution_count": 1,
   "id": "f291533f",
   "metadata": {},
   "outputs": [],
   "source": [
    "def countAndSay(n):\n",
    "    def run_length_encode(s):\n",
    "        result = []\n",
    "        count = 1\n",
    "        for i in range(1, len(s)):\n",
    "            if s[i] == s[i-1]:\n",
    "                count += 1\n",
    "            else:\n",
    "                result.append(str(count) + s[i-1])\n",
    "                count = 1\n",
    "        result.append(str(count) + s[-1])  # Append last group\n",
    "        return ''.join(result)\n",
    "\n",
    "    result = \"1\"\n",
    "    for _ in range(n - 1):\n",
    "        result = run_length_encode(result)\n",
    "    return result"
   ]
  },
  {
   "cell_type": "code",
   "execution_count": 2,
   "id": "1dfccd10",
   "metadata": {},
   "outputs": [
    {
     "name": "stdout",
     "output_type": "stream",
     "text": [
      "1\n",
      "1211\n"
     ]
    }
   ],
   "source": [
    "print(countAndSay(1))  # Output: \"1\"\n",
    "print(countAndSay(4))  # Output: \"1211\""
   ]
  },
  {
   "cell_type": "code",
   "execution_count": null,
   "id": "0604599d",
   "metadata": {},
   "outputs": [],
   "source": []
  }
 ],
 "metadata": {
  "kernelspec": {
   "display_name": "Python 3 (ipykernel)",
   "language": "python",
   "name": "python3"
  },
  "language_info": {
   "codemirror_mode": {
    "name": "ipython",
    "version": 3
   },
   "file_extension": ".py",
   "mimetype": "text/x-python",
   "name": "python",
   "nbconvert_exporter": "python",
   "pygments_lexer": "ipython3",
   "version": "3.8.11"
  }
 },
 "nbformat": 4,
 "nbformat_minor": 5
}
