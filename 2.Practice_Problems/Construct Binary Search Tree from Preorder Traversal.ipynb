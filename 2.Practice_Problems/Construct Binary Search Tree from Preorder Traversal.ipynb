{
 "cells": [
  {
   "cell_type": "markdown",
   "id": "f36c7b90",
   "metadata": {},
   "source": [
    "# Construct Binary Search Tree from Preorder Traversal"
   ]
  },
  {
   "cell_type": "markdown",
   "id": "e98d6897",
   "metadata": {},
   "source": [
    "Given an array of integers preorder, which represents the preorder traversal of a BST (i.e., binary search tree), construct the tree and return its root.\n",
    "\n",
    "It is guaranteed that there is always possible to find a binary search tree with the given requirements for the given test cases.\n",
    "\n",
    "A binary search tree is a binary tree where for every node, any descendant of Node.left has a value strictly less than Node.val, and any descendant of Node.right has a value strictly greater than Node.val.\n",
    "\n",
    "A preorder traversal of a binary tree displays the value of the node first, then traverses Node.left, then traverses Node.right.\n",
    "\n",
    "**Example 1:**\n",
    "\n",
    "Input: preorder = [8,5,1,7,10,12]\n",
    "Output: [8,5,10,1,7,null,12]\n",
    "\n",
    "**Example 2:**\n",
    "\n",
    "Input: preorder = [1,3]\n",
    "Output: [1,null,3]\n",
    " \n",
    "**Constraints:**\n",
    "\n",
    "- 1 <= preorder.length <= 100\n",
    "- 1 <= preorder[i] <= 1000\n",
    "- All the values of preorder are unique."
   ]
  },
  {
   "cell_type": "code",
   "execution_count": 1,
   "id": "85f84c4f",
   "metadata": {},
   "outputs": [],
   "source": [
    "# Definition for a binary tree node.\n",
    "class TreeNode:\n",
    "    def __init__(self, val=0, left=None, right=None):\n",
    "        self.val = val\n",
    "        self.left = left\n",
    "        self.right = right\n",
    "\n",
    "def bstFromPreorder(preorder):\n",
    "    # Helper function to build the BST\n",
    "    def helper(lower=float('-inf'), upper=float('inf')):\n",
    "        nonlocal idx\n",
    "        # Base case: if we've used all elements in preorder or current element doesn't satisfy bounds\n",
    "        if idx == len(preorder) or preorder[idx] < lower or preorder[idx] > upper:\n",
    "            return None\n",
    "        \n",
    "        # Create the current root node with preorder[idx]\n",
    "        root_val = preorder[idx]\n",
    "        idx += 1\n",
    "        root = TreeNode(root_val)\n",
    "        \n",
    "        # Build the left and right subtrees\n",
    "        root.left = helper(lower, root_val)\n",
    "        root.right = helper(root_val, upper)\n",
    "        \n",
    "        return root\n",
    "    \n",
    "    idx = 0\n",
    "    return helper()"
   ]
  },
  {
   "cell_type": "code",
   "execution_count": null,
   "id": "955fdfce",
   "metadata": {},
   "outputs": [],
   "source": []
  }
 ],
 "metadata": {
  "kernelspec": {
   "display_name": "Python 3 (ipykernel)",
   "language": "python",
   "name": "python3"
  },
  "language_info": {
   "codemirror_mode": {
    "name": "ipython",
    "version": 3
   },
   "file_extension": ".py",
   "mimetype": "text/x-python",
   "name": "python",
   "nbconvert_exporter": "python",
   "pygments_lexer": "ipython3",
   "version": "3.8.11"
  }
 },
 "nbformat": 4,
 "nbformat_minor": 5
}
