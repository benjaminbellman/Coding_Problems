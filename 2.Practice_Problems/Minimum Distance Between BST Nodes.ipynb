{
 "cells": [
  {
   "cell_type": "markdown",
   "id": "8da71d45",
   "metadata": {},
   "source": [
    "# Minimum Distance Between BST Nodes"
   ]
  },
  {
   "cell_type": "markdown",
   "id": "2fc53e69",
   "metadata": {},
   "source": [
    "Given the root of a Binary Search Tree (BST), return the minimum difference between the values of any two different nodes in the tree.\n",
    "\n",
    " \n",
    "\n",
    "**Example 1:**\n",
    "\n",
    "\n",
    "Input: root = [4,2,6,1,3]\n",
    "\n",
    "Output: 1\n",
    "\n",
    "**Example 2:**\n",
    "\n",
    "\n",
    "Input: root = [1,0,48,null,null,12,49]\n",
    "\n",
    "Output: 1\n",
    " \n",
    "\n",
    "**Constraints:**\n",
    "\n",
    "- The number of nodes in the tree is in the range [2, 100].\n",
    "- 0 <= Node.val <= 105"
   ]
  },
  {
   "cell_type": "code",
   "execution_count": 1,
   "id": "d32f9acc",
   "metadata": {},
   "outputs": [],
   "source": [
    "class TreeNode:\n",
    "    def __init__(self, val=0, left=None, right=None):\n",
    "        self.val = val\n",
    "        self.left = left\n",
    "        self.right = right\n",
    "\n",
    "def minDiffInBST(root):\n",
    "    def inorder(node):\n",
    "        nonlocal prev, min_diff\n",
    "        if not node:\n",
    "            return\n",
    "        inorder(node.left)\n",
    "        if prev is not None:\n",
    "            min_diff = min(min_diff, node.val - prev)\n",
    "        prev = node.val\n",
    "        inorder(node.right)\n",
    "\n",
    "    prev = None\n",
    "    min_diff = float('inf')\n",
    "    inorder(root)\n",
    "    return min_diff"
   ]
  },
  {
   "cell_type": "code",
   "execution_count": 2,
   "id": "aad9edfb",
   "metadata": {},
   "outputs": [
    {
     "name": "stdout",
     "output_type": "stream",
     "text": [
      "1\n",
      "1\n"
     ]
    }
   ],
   "source": [
    "# Example usage\n",
    "root1 = TreeNode(4)\n",
    "root1.left = TreeNode(2)\n",
    "root1.right = TreeNode(6)\n",
    "root1.left.left = TreeNode(1)\n",
    "root1.left.right = TreeNode(3)\n",
    "\n",
    "print(minDiffInBST(root1))  # Output: 1\n",
    "\n",
    "root2 = TreeNode(1)\n",
    "root2.right = TreeNode(48)\n",
    "root2.right.left = TreeNode(12)\n",
    "root2.right.right = TreeNode(49)\n",
    "\n",
    "print(minDiffInBST(root2))  # Output: 1"
   ]
  },
  {
   "cell_type": "code",
   "execution_count": null,
   "id": "f149137f",
   "metadata": {},
   "outputs": [],
   "source": []
  }
 ],
 "metadata": {
  "kernelspec": {
   "display_name": "Python 3",
   "language": "python",
   "name": "python3"
  },
  "language_info": {
   "codemirror_mode": {
    "name": "ipython",
    "version": 3
   },
   "file_extension": ".py",
   "mimetype": "text/x-python",
   "name": "python",
   "nbconvert_exporter": "python",
   "pygments_lexer": "ipython3",
   "version": "3.9.13"
  }
 },
 "nbformat": 4,
 "nbformat_minor": 5
}
