{
 "cells": [
  {
   "cell_type": "markdown",
   "id": "c9a921a9",
   "metadata": {},
   "source": [
    "# Minimum Falling Path Sum"
   ]
  },
  {
   "cell_type": "markdown",
   "id": "4533d4d1",
   "metadata": {},
   "source": [
    "Given an n x n array of integers matrix, return the minimum sum of any falling path through matrix.\n",
    "\n",
    "A falling path starts at any element in the first row and chooses the element in the next row that is either directly below or diagonally left/right. Specifically, the next element from position (row, col) will be (row + 1, col - 1), (row + 1, col), or (row + 1, col + 1).\n",
    "\n",
    "**Example 1:**\n",
    "\n",
    "Input: matrix = [[2,1,3],[6,5,4],[7,8,9]]\n",
    "Output: 13\n",
    "Explanation: There are two falling paths with a minimum sum as shown.\n",
    "\n",
    "**Example 2:**\n",
    "\n",
    "Input: matrix = [[-19,57],[-40,-5]]\n",
    "Output: -59\n",
    "Explanation: The falling path with a minimum sum is shown.\n",
    " \n",
    "\n",
    "**Constraints:**\n",
    "\n",
    "- n == matrix.length == matrix[i].length\n",
    "- 1 <= n <= 100\n",
    "- -100 <= matrix[i][j] <= 100"
   ]
  },
  {
   "cell_type": "code",
   "execution_count": 2,
   "id": "a7ac382c",
   "metadata": {},
   "outputs": [
    {
     "name": "stdout",
     "output_type": "stream",
     "text": [
      "13\n",
      "-59\n"
     ]
    }
   ],
   "source": [
    "def minFallingPathSum(matrix):\n",
    "    n = len(matrix)\n",
    "    \n",
    "    # We'll use the matrix itself as the DP table to save space.\n",
    "    for i in range(1, n):\n",
    "        for j in range(n):\n",
    "            # Start with the element directly above\n",
    "            best_above = matrix[i-1][j]\n",
    "            \n",
    "            # Check the diagonal left (if it exists)\n",
    "            if j > 0:\n",
    "                best_above = min(best_above, matrix[i-1][j-1])\n",
    "            \n",
    "            # Check the diagonal right (if it exists)\n",
    "            if j < n-1:\n",
    "                best_above = min(best_above, matrix[i-1][j+1])\n",
    "            \n",
    "            # Add the current cell value to the best above option\n",
    "            matrix[i][j] += best_above\n",
    "    \n",
    "    # The result is the minimum value in the last row\n",
    "    return min(matrix[-1])\n",
    "\n",
    "# Example usage\n",
    "matrix1 = [[2,1,3],[6,5,4],[7,8,9]]\n",
    "matrix2 = [[-19,57],[-40,-5]]\n",
    "\n",
    "print(minFallingPathSum(matrix1))  # Output: 13\n",
    "print(minFallingPathSum(matrix2))  # Output: -59"
   ]
  },
  {
   "cell_type": "code",
   "execution_count": null,
   "id": "a4203990",
   "metadata": {},
   "outputs": [],
   "source": []
  }
 ],
 "metadata": {
  "kernelspec": {
   "display_name": "Python 3 (ipykernel)",
   "language": "python",
   "name": "python3"
  },
  "language_info": {
   "codemirror_mode": {
    "name": "ipython",
    "version": 3
   },
   "file_extension": ".py",
   "mimetype": "text/x-python",
   "name": "python",
   "nbconvert_exporter": "python",
   "pygments_lexer": "ipython3",
   "version": "3.8.11"
  }
 },
 "nbformat": 4,
 "nbformat_minor": 5
}
