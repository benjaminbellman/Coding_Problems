{
 "cells": [
  {
   "cell_type": "markdown",
   "id": "b7306640",
   "metadata": {},
   "source": [
    "# Next Greater Element I"
   ]
  },
  {
   "cell_type": "markdown",
   "id": "0a6bbfd3",
   "metadata": {},
   "source": [
    "The next greater element of some element x in an array is the first greater element that is to the right of x in the same array.\n",
    "\n",
    "You are given two distinct 0-indexed integer arrays nums1 and nums2, where nums1 is a subset of nums2.\n",
    "\n",
    "For each 0 <= i < nums1.length, find the index j such that nums1[i] == nums2[j] and determine the next greater element of nums2[j] in nums2. If there is no next greater element, then the answer for this query is -1.\n",
    "\n",
    "Return an array ans of length nums1.length such that ans[i] is the next greater element as described above.\n",
    "\n",
    " \n",
    "\n",
    "**Example 1:**\n",
    "\n",
    "Input: nums1 = [4,1,2], nums2 = [1,3,4,2]\n",
    "Output: [-1,3,-1]\n",
    "Explanation: The next greater element for each value of nums1 is as follows:\n",
    "- 4 is underlined in nums2 = [1,3,4,2]. There is no next greater element, so the answer is -1.\n",
    "- 1 is underlined in nums2 = [1,3,4,2]. The next greater element is 3.\n",
    "- 2 is underlined in nums2 = [1,3,4,2]. There is no next greater element, so the answer is -1.\n",
    "\n",
    "**Example 2:**\n",
    "\n",
    "Input: nums1 = [2,4], nums2 = [1,2,3,4]\n",
    "Output: [3,-1]\n",
    "Explanation: The next greater element for each value of nums1 is as follows:\n",
    "- 2 is underlined in nums2 = [1,2,3,4]. The next greater element is 3.\n",
    "- 4 is underlined in nums2 = [1,2,3,4]. There is no next greater element, so the answer is -1.\n",
    " \n",
    "\n",
    "**Constraints:**\n",
    "\n",
    "- 1 <= nums1.length <= nums2.length <= 1000\n",
    "- 0 <= nums1[i], nums2[i] <= 104\n",
    "- All integers in nums1 and nums2 are unique.\n",
    "- All the integers of nums1 also appear in nums2."
   ]
  },
  {
   "cell_type": "code",
   "execution_count": 1,
   "id": "3ded9035",
   "metadata": {},
   "outputs": [
    {
     "name": "stdout",
     "output_type": "stream",
     "text": [
      "[-1, 3, -1]\n",
      "[3, -1]\n"
     ]
    }
   ],
   "source": [
    "def nextGreaterElement(nums1, nums2):\n",
    "    # Create a dictionary to store the next greater element for each number in nums2\n",
    "    next_greater = {}\n",
    "    \n",
    "    # Initialize a stack to keep track of elements in nums2\n",
    "    stack = []\n",
    "    \n",
    "    # Iterate through nums2 to populate the next_greater dictionary\n",
    "    for num in nums2:\n",
    "        while stack and stack[-1] < num:\n",
    "            next_greater[stack.pop()] = num\n",
    "        stack.append(num)\n",
    "        \n",
    "    # Now, populate the answer list using the next_greater dictionary\n",
    "    ans = []\n",
    "    for num in nums1:\n",
    "        ans.append(next_greater.get(num, -1))\n",
    "        \n",
    "    return ans\n",
    "\n",
    "# Example usage\n",
    "nums1 = [4, 1, 2]\n",
    "nums2 = [1, 3, 4, 2]\n",
    "print(nextGreaterElement(nums1, nums2))  # Output should be [-1, 3, -1]\n",
    "\n",
    "nums1 = [2, 4]\n",
    "nums2 = [1, 2, 3, 4]\n",
    "print(nextGreaterElement(nums1, nums2))  # Output should be [3, -1]"
   ]
  },
  {
   "cell_type": "code",
   "execution_count": null,
   "id": "f241dc49",
   "metadata": {},
   "outputs": [],
   "source": []
  }
 ],
 "metadata": {
  "kernelspec": {
   "display_name": "Python 3",
   "language": "python",
   "name": "python3"
  },
  "language_info": {
   "codemirror_mode": {
    "name": "ipython",
    "version": 3
   },
   "file_extension": ".py",
   "mimetype": "text/x-python",
   "name": "python",
   "nbconvert_exporter": "python",
   "pygments_lexer": "ipython3",
   "version": "3.9.13"
  }
 },
 "nbformat": 4,
 "nbformat_minor": 5
}
