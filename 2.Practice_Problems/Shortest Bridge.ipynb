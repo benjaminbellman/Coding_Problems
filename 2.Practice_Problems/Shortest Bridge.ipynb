{
 "cells": [
  {
   "cell_type": "markdown",
   "id": "969de67b",
   "metadata": {},
   "source": [
    "# Shortest Bridge"
   ]
  },
  {
   "cell_type": "markdown",
   "id": "c0994e3a",
   "metadata": {},
   "source": [
    "You are given an n x n binary matrix grid where 1 represents land and 0 represents water.\n",
    "\n",
    "An island is a 4-directionally connected group of 1's not connected to any other 1's. There are exactly two islands in grid.\n",
    "\n",
    "You may change 0's to 1's to connect the two islands to form one island.\n",
    "\n",
    "Return the smallest number of 0's you must flip to connect the two islands.\n",
    "\n",
    "**Example 1:**\n",
    "\n",
    "Input: grid = [[0,1],[1,0]]\n",
    "Output: 1\n",
    "\n",
    "**Example 2:**\n",
    "\n",
    "Input: grid = [[0,1,0],[0,0,0],[0,0,1]]\n",
    "Output: 2\n",
    "\n",
    "**Example 3:**\n",
    "\n",
    "Input: grid = [[1,1,1,1,1],[1,0,0,0,1],[1,0,1,0,1],[1,0,0,0,1],[1,1,1,1,1]]\n",
    "Output: 1\n",
    " \n",
    "\n",
    "**Constraints:**\n",
    "\n",
    "- n == grid.length == grid[i].length\n",
    "- 2 <= n <= 100\n",
    "- grid[i][j] is either 0 or 1.\n",
    "- There are exactly two islands in grid."
   ]
  },
  {
   "cell_type": "code",
   "execution_count": 2,
   "id": "afe6fa15",
   "metadata": {},
   "outputs": [
    {
     "name": "stdout",
     "output_type": "stream",
     "text": [
      "1\n",
      "2\n",
      "1\n"
     ]
    }
   ],
   "source": [
    "from collections import deque\n",
    "\n",
    "def shortestBridge(grid):\n",
    "    n = len(grid)\n",
    "    \n",
    "    # Directions for 4-directional movement\n",
    "    directions = [(-1, 0), (1, 0), (0, -1), (0, 1)]\n",
    "    \n",
    "    # Helper function to find one island and return all its points\n",
    "    def bfs_find_island(x, y):\n",
    "        queue = deque([(x, y)])\n",
    "        island = [(x, y)]\n",
    "        visited[x][y] = True\n",
    "        \n",
    "        while queue:\n",
    "            cx, cy = queue.popleft()\n",
    "            for dx, dy in directions:\n",
    "                nx, ny = cx + dx, cy + dy\n",
    "                if 0 <= nx < n and 0 <= ny < n and not visited[nx][ny] and grid[nx][ny] == 1:\n",
    "                    visited[nx][ny] = True\n",
    "                    queue.append((nx, ny))\n",
    "                    island.append((nx, ny))\n",
    "        \n",
    "        return island\n",
    "    \n",
    "    # Find first island\n",
    "    visited = [[False] * n for _ in range(n)]\n",
    "    island1 = []\n",
    "    \n",
    "    found = False\n",
    "    for i in range(n):\n",
    "        for j in range(n):\n",
    "            if grid[i][j] == 1 and not visited[i][j]:\n",
    "                island1 = bfs_find_island(i, j)\n",
    "                found = True\n",
    "                break\n",
    "        if found:\n",
    "            break\n",
    "    \n",
    "    # BFS to expand from island1 and find shortest path to island2\n",
    "    queue = deque(island1)\n",
    "    steps = 0\n",
    "    while queue:\n",
    "        size = len(queue)\n",
    "        for _ in range(size):\n",
    "            x, y = queue.popleft()\n",
    "            for dx, dy in directions:\n",
    "                nx, ny = x + dx, y + dy\n",
    "                if 0 <= nx < n and 0 <= ny < n and not visited[nx][ny]:\n",
    "                    if grid[nx][ny] == 1:  # We've reached the second island\n",
    "                        return steps\n",
    "                    visited[nx][ny] = True\n",
    "                    queue.append((nx, ny))\n",
    "        steps += 1\n",
    "\n",
    "# Example Usage\n",
    "grid1 = [[0,1],[1,0]]\n",
    "grid2 = [[0,1,0],[0,0,0],[0,0,1]]\n",
    "grid3 = [[1,1,1,1,1],[1,0,0,0,1],[1,0,1,0,1],[1,0,0,0,1],[1,1,1,1,1]]\n",
    "\n",
    "print(shortestBridge(grid1))  # Output: 1\n",
    "print(shortestBridge(grid2))  # Output: 2\n",
    "print(shortestBridge(grid3))  # Output: 1"
   ]
  },
  {
   "cell_type": "code",
   "execution_count": null,
   "id": "13211f11",
   "metadata": {},
   "outputs": [],
   "source": []
  }
 ],
 "metadata": {
  "kernelspec": {
   "display_name": "Python 3 (ipykernel)",
   "language": "python",
   "name": "python3"
  },
  "language_info": {
   "codemirror_mode": {
    "name": "ipython",
    "version": 3
   },
   "file_extension": ".py",
   "mimetype": "text/x-python",
   "name": "python",
   "nbconvert_exporter": "python",
   "pygments_lexer": "ipython3",
   "version": "3.8.11"
  }
 },
 "nbformat": 4,
 "nbformat_minor": 5
}
