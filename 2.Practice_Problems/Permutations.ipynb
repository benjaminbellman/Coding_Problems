{
 "cells": [
  {
   "cell_type": "markdown",
   "id": "2b799286",
   "metadata": {},
   "source": [
    "# Permutations"
   ]
  },
  {
   "cell_type": "markdown",
   "id": "48f47250",
   "metadata": {},
   "source": [
    "Given an array nums of distinct integers, return all the possible permutations. You can return the answer in any order.\n",
    "\n",
    "**Example 1:**\n",
    "\n",
    "Input: nums = [1,2,3]\n",
    "Output: [[1,2,3],[1,3,2],[2,1,3],[2,3,1],[3,1,2],[3,2,1]]\n",
    "\n",
    "**Example 2:**\n",
    "\n",
    "Input: nums = [0,1]\n",
    "Output: [[0,1],[1,0]]\n",
    "\n",
    "**Example 3:**\n",
    "\n",
    "Input: nums = [1]\n",
    "Output: [[1]]\n",
    "\n",
    "**Constraints:**\n",
    "\n",
    "- 1 <= nums.length <= 6\n",
    "- -10 <= nums[i] <= 10\n",
    "- All the integers of nums are unique."
   ]
  },
  {
   "cell_type": "code",
   "execution_count": 1,
   "id": "12200f89",
   "metadata": {},
   "outputs": [],
   "source": [
    "def permute(nums):\n",
    "    result = []\n",
    "    \n",
    "    def backtrack(path, remaining):\n",
    "        if not remaining:\n",
    "            result.append(path)\n",
    "            return\n",
    "        for i in range(len(remaining)):\n",
    "            backtrack(path + [remaining[i]], remaining[:i] + remaining[i+1:])\n",
    "    \n",
    "    backtrack([], nums)\n",
    "    return result"
   ]
  },
  {
   "cell_type": "code",
   "execution_count": 2,
   "id": "927e2b59",
   "metadata": {},
   "outputs": [
    {
     "name": "stdout",
     "output_type": "stream",
     "text": [
      "[[1, 2, 3], [1, 3, 2], [2, 1, 3], [2, 3, 1], [3, 1, 2], [3, 2, 1]]\n"
     ]
    }
   ],
   "source": [
    "print(permute([1, 2, 3]))"
   ]
  },
  {
   "cell_type": "code",
   "execution_count": null,
   "id": "c48b8349",
   "metadata": {},
   "outputs": [],
   "source": []
  }
 ],
 "metadata": {
  "kernelspec": {
   "display_name": "Python 3 (ipykernel)",
   "language": "python",
   "name": "python3"
  },
  "language_info": {
   "codemirror_mode": {
    "name": "ipython",
    "version": 3
   },
   "file_extension": ".py",
   "mimetype": "text/x-python",
   "name": "python",
   "nbconvert_exporter": "python",
   "pygments_lexer": "ipython3",
   "version": "3.8.11"
  }
 },
 "nbformat": 4,
 "nbformat_minor": 5
}
