{
 "cells": [
  {
   "cell_type": "markdown",
   "id": "4be5d3bb",
   "metadata": {},
   "source": [
    "# Complete Binary Tree Inserter"
   ]
  },
  {
   "cell_type": "markdown",
   "id": "b0448e74",
   "metadata": {},
   "source": [
    "A complete binary tree is a binary tree in which every level, except possibly the last, is completely filled, and all nodes are as far left as possible.\n",
    "\n",
    "Design an algorithm to insert a new node to a complete binary tree keeping it complete after the insertion.\n",
    "\n",
    "Implement the CBTInserter class:\n",
    "\n",
    "CBTInserter(TreeNode root) Initializes the data structure with the root of the complete binary tree.\n",
    "int insert(int v) Inserts a TreeNode into the tree with value Node.val == val so that the tree remains complete, and returns the value of the parent of the inserted TreeNode.\n",
    "TreeNode get_root() Returns the root node of the tree.\n",
    "\n",
    "**Example 1:**\n",
    "\n",
    "Input\n",
    "[\"CBTInserter\", \"insert\", \"insert\", \"get_root\"]\n",
    "[[[1, 2]], [3], [4], []]\n",
    "Output\n",
    "[null, 1, 2, [1, 2, 3, 4]]\n",
    "\n",
    "Explanation\n",
    "CBTInserter cBTInserter = new CBTInserter([1, 2]);\n",
    "cBTInserter.insert(3);  // return 1\n",
    "cBTInserter.insert(4);  // return 2\n",
    "cBTInserter.get_root(); // return [1, 2, 3, 4]\n",
    " \n",
    "**Constraints:**\n",
    "\n",
    "- The number of nodes in the tree will be in the range [1, 1000].\n",
    "- 0 <= Node.val <= 5000\n",
    "- root is a complete binary tree.\n",
    "- 0 <= val <= 5000\n",
    "- At most 104 calls will be made to insert and get_root."
   ]
  },
  {
   "cell_type": "code",
   "execution_count": 1,
   "id": "e3b21084",
   "metadata": {},
   "outputs": [],
   "source": [
    "class CBTInserter:\n",
    "    def __init__(self, root):\n",
    "        from collections import deque\n",
    "        self.root = root\n",
    "        self.candidates = deque()\n",
    "        queue = deque([root])\n",
    "\n",
    "        while queue:\n",
    "            node = queue.popleft()\n",
    "            # If node doesn't have both children, it's a candidate.\n",
    "            if not (node.left and node.right):\n",
    "                self.candidates.append(node)\n",
    "            # Add children to the queue if they exist.\n",
    "            if node.left:\n",
    "                queue.append(node.left)\n",
    "            if node.right:\n",
    "                queue.append(node.right)\n",
    "\n",
    "    def insert(self, val):\n",
    "        parent = self.candidates[0]\n",
    "        new_node = TreeNode(val)\n",
    "        # Insert the new node as left or right child.\n",
    "        if not parent.left:\n",
    "            parent.left = new_node\n",
    "        else:\n",
    "            parent.right = new_node\n",
    "            # If parent has two children, remove it from candidates.\n",
    "            self.candidates.popleft()\n",
    "        # Add the new node to candidates.\n",
    "        self.candidates.append(new_node)\n",
    "        return parent.val\n",
    "\n",
    "    def get_root(self):\n",
    "        return self.root"
   ]
  },
  {
   "cell_type": "code",
   "execution_count": null,
   "id": "703fe605",
   "metadata": {},
   "outputs": [],
   "source": []
  }
 ],
 "metadata": {
  "kernelspec": {
   "display_name": "Python 3 (ipykernel)",
   "language": "python",
   "name": "python3"
  },
  "language_info": {
   "codemirror_mode": {
    "name": "ipython",
    "version": 3
   },
   "file_extension": ".py",
   "mimetype": "text/x-python",
   "name": "python",
   "nbconvert_exporter": "python",
   "pygments_lexer": "ipython3",
   "version": "3.8.11"
  }
 },
 "nbformat": 4,
 "nbformat_minor": 5
}
