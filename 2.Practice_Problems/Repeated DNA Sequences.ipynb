{
 "cells": [
  {
   "cell_type": "markdown",
   "id": "25efb546",
   "metadata": {},
   "source": [
    "# Repeated DNA Sequences"
   ]
  },
  {
   "cell_type": "markdown",
   "id": "a0b20a14",
   "metadata": {},
   "source": [
    "The DNA sequence is composed of a series of nucleotides abbreviated as 'A', 'C', 'G', and 'T'.\n",
    "\n",
    "For example, \"ACGAATTCCG\" is a DNA sequence.\n",
    "When studying DNA, it is useful to identify repeated sequences within the DNA.\n",
    "\n",
    "Given a string s that represents a DNA sequence, return all the 10-letter-long sequences (substrings) that occur more than once in a DNA molecule. You may return the answer in any order.\n",
    "\n",
    " \n",
    "\n",
    "**Example 1:**\n",
    "\n",
    "Input: s = \"AAAAACCCCCAAAAACCCCCCAAAAAGGGTTT\"\n",
    "Output: [\"AAAAACCCCC\",\"CCCCCAAAAA\"]\n",
    "\n",
    "**Example 2:**\n",
    "\n",
    "Input: s = \"AAAAAAAAAAAAA\"\n",
    "Output: [\"AAAAAAAAAA\"]\n",
    " \n",
    "\n",
    "**Constraints:**\n",
    "\n",
    "1 <= s.length <= 105\n",
    "s[i] is either 'A', 'C', 'G', or 'T'."
   ]
  },
  {
   "cell_type": "code",
   "execution_count": 2,
   "id": "ea554542",
   "metadata": {},
   "outputs": [],
   "source": [
    "def findRepeatedDnaSequences(s: str) -> list[str]:\n",
    "    if len(s) < 10:\n",
    "        return []\n",
    "    # Create a dictionary to keep track of the frequency of each 10-letter sequence\n",
    "    sequences = {}\n",
    "    # Iterate over the string, looking at each 10-letter substring\n",
    "    for i in range(len(s)-9):\n",
    "        sequence = s[i:i+10]\n",
    "        # Add the sequence to the dictionary and increment its frequency\n",
    "        sequences[sequence] = sequences.get(sequence, 0) + 1\n",
    "    # Create a list to store the repeated sequences\n",
    "    repeated_sequences = []\n",
    "    # Iterate over the dictionary, looking for sequences with a frequency greater than 1\n",
    "    for sequence, frequency in sequences.items():\n",
    "        if frequency > 1:\n",
    "            repeated_sequences.append(sequence)\n",
    "    return repeated_sequences"
   ]
  },
  {
   "cell_type": "code",
   "execution_count": 3,
   "id": "f08c7d77",
   "metadata": {},
   "outputs": [
    {
     "name": "stdout",
     "output_type": "stream",
     "text": [
      "['AAAAACCCCC', 'CCCCCAAAAA']\n",
      "['AAAAAAAAAA']\n"
     ]
    }
   ],
   "source": [
    "# Test case 1\n",
    "s1 = \"AAAAACCCCCAAAAACCCCCCAAAAAGGGTTT\"\n",
    "output1 = findRepeatedDnaSequences(s1)\n",
    "print(output1)  # expected output: [\"AAAAACCCCC\",\"CCCCCAAAAA\"]\n",
    "\n",
    "# Test case 2\n",
    "s2 = \"AAAAAAAAAAAAA\"\n",
    "output2 = findRepeatedDnaSequences(s2)\n",
    "print(output2)  # expected output: [\"AAAAAAAAAA\"]"
   ]
  }
 ],
 "metadata": {
  "kernelspec": {
   "display_name": "Python 3",
   "language": "python",
   "name": "python3"
  },
  "language_info": {
   "codemirror_mode": {
    "name": "ipython",
    "version": 3
   },
   "file_extension": ".py",
   "mimetype": "text/x-python",
   "name": "python",
   "nbconvert_exporter": "python",
   "pygments_lexer": "ipython3",
   "version": "3.9.13"
  }
 },
 "nbformat": 4,
 "nbformat_minor": 5
}
