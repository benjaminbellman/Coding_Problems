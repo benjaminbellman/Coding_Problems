{
 "cells": [
  {
   "cell_type": "markdown",
   "id": "38758c4e",
   "metadata": {},
   "source": [
    "# Count Primes"
   ]
  },
  {
   "cell_type": "markdown",
   "id": "d9a79ba9",
   "metadata": {},
   "source": [
    "Given an integer n, return the number of prime numbers that are strictly less than n.\n",
    "\n",
    " \n",
    "\n",
    "**Example 1:**\n",
    "\n",
    "Input: n = 10\n",
    "Output: 4\n",
    "Explanation: There are 4 prime numbers less than 10, they are 2, 3, 5, 7.\n",
    "\n",
    "**Example 2:**\n",
    "\n",
    "Input: n = 0\n",
    "Output: 0\n",
    "\n",
    "**Example 3:**\n",
    "\n",
    "Input: n = 1\n",
    "Output: 0\n",
    " \n",
    "\n",
    "**Constraints:**\n",
    "\n",
    "0 <= n <= 5 * 106"
   ]
  },
  {
   "cell_type": "code",
   "execution_count": 1,
   "id": "36653178",
   "metadata": {},
   "outputs": [],
   "source": [
    "def count_primes(n: int) -> int:\n",
    "    if n < 2:\n",
    "        return 0\n",
    "    \n",
    "    # Create a boolean array \"prime[0..n]\" and initialize\n",
    "    # all entries as true. A value in prime[i] will\n",
    "    # finally be false if i is Not a prime, else true.\n",
    "    prime = [True for _ in range(n)]\n",
    "    \n",
    "    # We know that 0 and 1 are not primes, so we mark them as False\n",
    "    prime[0] = False\n",
    "    prime[1] = False\n",
    "    \n",
    "    # Iterate through all numbers from 2 to sqrt(n) to find primes\n",
    "    for i in range(2, int(n ** 0.5) + 1):\n",
    "        # If prime[i] is not changed, then it is a prime\n",
    "        if prime[i]:\n",
    "            # Update all multiples of i as not prime\n",
    "            for j in range(i ** 2, n, i):\n",
    "                prime[j] = False\n",
    "    \n",
    "    # Count the number of primes\n",
    "    count = 0\n",
    "    for i in range(2, n):\n",
    "        if prime[i]:\n",
    "            count += 1\n",
    "    \n",
    "    return count"
   ]
  },
  {
   "cell_type": "code",
   "execution_count": 2,
   "id": "4215cd8e",
   "metadata": {},
   "outputs": [],
   "source": [
    "assert count_primes(10) == 4\n",
    "assert count_primes(0) == 0\n",
    "assert count_primes(1) == 0\n",
    "assert count_primes(20) == 8"
   ]
  },
  {
   "cell_type": "code",
   "execution_count": null,
   "id": "bdffc569",
   "metadata": {},
   "outputs": [],
   "source": []
  }
 ],
 "metadata": {
  "kernelspec": {
   "display_name": "Python 3",
   "language": "python",
   "name": "python3"
  },
  "language_info": {
   "codemirror_mode": {
    "name": "ipython",
    "version": 3
   },
   "file_extension": ".py",
   "mimetype": "text/x-python",
   "name": "python",
   "nbconvert_exporter": "python",
   "pygments_lexer": "ipython3",
   "version": "3.9.13"
  }
 },
 "nbformat": 4,
 "nbformat_minor": 5
}
