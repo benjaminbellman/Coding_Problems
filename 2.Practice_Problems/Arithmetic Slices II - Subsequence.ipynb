{
 "cells": [
  {
   "cell_type": "markdown",
   "id": "822d4456",
   "metadata": {},
   "source": [
    "# Arithmetic Slices II - Subsequence"
   ]
  },
  {
   "cell_type": "markdown",
   "id": "aa0ba9ea",
   "metadata": {},
   "source": [
    "Given an integer array nums, return the number of all the arithmetic subsequences of nums.\n",
    "\n",
    "A sequence of numbers is called arithmetic if it consists of at least three elements and if the difference between any two consecutive elements is the same.\n",
    "\n",
    "For example, [1, 3, 5, 7, 9], [7, 7, 7, 7], and [3, -1, -5, -9] are arithmetic sequences.\n",
    "For example, [1, 1, 2, 5, 7] is not an arithmetic sequence.\n",
    "A subsequence of an array is a sequence that can be formed by removing some elements (possibly none) of the array.\n",
    "\n",
    "For example, [2,5,10] is a subsequence of [1,2,1,2,4,1,5,10].\n",
    "The test cases are generated so that the answer fits in 32-bit integer.\n",
    "\n",
    " \n",
    "\n",
    "**Example 1:**\n",
    "\n",
    "Input: nums = [2,4,6,8,10]\n",
    "Output: 7\n",
    "Explanation: All arithmetic subsequence slices are:\n",
    "[2,4,6]\n",
    "[4,6,8]\n",
    "[6,8,10]\n",
    "[2,4,6,8]\n",
    "[4,6,8,10]\n",
    "[2,4,6,8,10]\n",
    "[2,6,10]\n",
    "\n",
    "**Example 2:**\n",
    "\n",
    "Input: nums = [7,7,7,7,7]\n",
    "Output: 16\n",
    "Explanation: Any subsequence of this array is arithmetic.\n",
    " \n",
    "\n",
    "**Constraints:**\n",
    "\n",
    "- 1  <= nums.length <= 1000\n",
    "- -231 <= nums[i] <= 231 - 1"
   ]
  },
  {
   "cell_type": "code",
   "execution_count": 1,
   "id": "af707247",
   "metadata": {},
   "outputs": [
    {
     "name": "stdout",
     "output_type": "stream",
     "text": [
      "17\n",
      "26\n"
     ]
    }
   ],
   "source": [
    "def count_arithmetic_slices(nums):\n",
    "    n = len(nums)\n",
    "    total_count = 0\n",
    "    dp = [{} for _ in range(n)]  # dp[i] will store the differences and their counts for subsequences ending at index i\n",
    "\n",
    "    for i in range(1, n):\n",
    "        for j in range(i):\n",
    "            diff = nums[i] - nums[j]\n",
    "\n",
    "            # We consider both single elements and subsequences of length >= 2\n",
    "            dp[i][diff] = dp[i].get(diff, 0) + 1  # Single elements\n",
    "            if diff in dp[j]:\n",
    "                dp[i][diff] = dp[i].get(diff, 0) + dp[j][diff]  # Subsequences of length >= 2\n",
    "\n",
    "        # Add the counts of all the differences at index i to the total count\n",
    "        total_count += sum(dp[i].values())\n",
    "\n",
    "    return total_count\n",
    "\n",
    "# Test examples\n",
    "if __name__ == \"__main__\":\n",
    "    # Example 1\n",
    "    nums1 = [2, 4, 6, 8, 10]\n",
    "    print(count_arithmetic_slices(nums1))  # Output: 7\n",
    "\n",
    "    # Example 2\n",
    "    nums2 = [7, 7, 7, 7, 7]\n",
    "    print(count_arithmetic_slices(nums2))  # Output: 16"
   ]
  }
 ],
 "metadata": {
  "kernelspec": {
   "display_name": "Python 3",
   "language": "python",
   "name": "python3"
  },
  "language_info": {
   "codemirror_mode": {
    "name": "ipython",
    "version": 3
   },
   "file_extension": ".py",
   "mimetype": "text/x-python",
   "name": "python",
   "nbconvert_exporter": "python",
   "pygments_lexer": "ipython3",
   "version": "3.9.13"
  }
 },
 "nbformat": 4,
 "nbformat_minor": 5
}
