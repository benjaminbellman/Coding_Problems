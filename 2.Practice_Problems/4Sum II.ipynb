{
 "cells": [
  {
   "cell_type": "markdown",
   "id": "a563c937",
   "metadata": {},
   "source": [
    "# 4Sum II"
   ]
  },
  {
   "cell_type": "markdown",
   "id": "e0b97bd0",
   "metadata": {},
   "source": [
    "Given four integer arrays nums1, nums2, nums3, and nums4 all of length n, return the number of tuples (i, j, k, l) such that:\n",
    "\n",
    "0 <= i, j, k, l < n\n",
    "nums1[i] + nums2[j] + nums3[k] + nums4[l] == 0\n",
    " \n",
    "\n",
    "**Example 1:**\n",
    "\n",
    "Input: nums1 = [1,2], nums2 = [-2,-1], nums3 = [-1,2], nums4 = [0,2]\n",
    "Output: 2\n",
    "Explanation:\n",
    "The two tuples are:\n",
    "1. (0, 0, 0, 1) -> nums1[0] + nums2[0] + nums3[0] + nums4[1] = 1 + (-2) + (-1) + 2 = 0\n",
    "2. (1, 1, 0, 0) -> nums1[1] + nums2[1] + nums3[0] + nums4[0] = 2 + (-1) + (-1) + 0 = 0\n",
    "\n",
    "**Example 2:\n",
    "\n",
    "Input: nums1 = [0], nums2 = [0], nums3 = [0], nums4 = [0]\n",
    "Output: 1\n",
    " \n",
    "\n",
    "**Constraints:**\n",
    "\n",
    "- n == nums1.length\n",
    "- n == nums2.length\n",
    "- n == nums3.length\n",
    "- n == nums4.length\n",
    "- 1 <= n <= 200\n",
    "- -228 <= nums1[i], nums2[i], nums3[i], nums4[i] <= 228"
   ]
  },
  {
   "cell_type": "code",
   "execution_count": 1,
   "id": "35f7a329",
   "metadata": {},
   "outputs": [
    {
     "name": "stdout",
     "output_type": "stream",
     "text": [
      "2\n",
      "1\n"
     ]
    }
   ],
   "source": [
    "from collections import defaultdict\n",
    "\n",
    "def four_sum_count(nums1, nums2, nums3, nums4):\n",
    "    n = len(nums1)\n",
    "    # Create a hashmap to store the sums of pairs from nums1 and nums2\n",
    "    sum_map = defaultdict(int)\n",
    "    for i in range(n):\n",
    "        for j in range(n):\n",
    "            sum_map[nums1[i] + nums2[j]] += 1\n",
    "\n",
    "    count = 0\n",
    "    for k in range(n):\n",
    "        for l in range(n):\n",
    "            # Check if the negation of the sum of nums3[k] and nums4[l] exists in the hashmap\n",
    "            count += sum_map[-(nums3[k] + nums4[l])]\n",
    "\n",
    "    return count\n",
    "\n",
    "# Test cases\n",
    "print(four_sum_count([1, 2], [-2, -1], [-1, 2], [0, 2]))  # Output: 2\n",
    "print(four_sum_count([0], [0], [0], [0]))  # Output: 1"
   ]
  }
 ],
 "metadata": {
  "kernelspec": {
   "display_name": "Python 3",
   "language": "python",
   "name": "python3"
  },
  "language_info": {
   "codemirror_mode": {
    "name": "ipython",
    "version": 3
   },
   "file_extension": ".py",
   "mimetype": "text/x-python",
   "name": "python",
   "nbconvert_exporter": "python",
   "pygments_lexer": "ipython3",
   "version": "3.9.13"
  }
 },
 "nbformat": 4,
 "nbformat_minor": 5
}
