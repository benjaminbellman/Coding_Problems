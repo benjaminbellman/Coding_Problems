{
 "cells": [
  {
   "cell_type": "markdown",
   "id": "a06b1672",
   "metadata": {},
   "source": [
    "# Profitable Schemes"
   ]
  },
  {
   "cell_type": "markdown",
   "id": "87ed686e",
   "metadata": {},
   "source": [
    "There is a group of n members, and a list of various crimes they could commit. The ith crime generates a profit[i] and requires group[i] members to participate in it. If a member participates in one crime, that member can't participate in another crime.\n",
    "\n",
    "Let's call a profitable scheme any subset of these crimes that generates at least minProfit profit, and the total number of members participating in that subset of crimes is at most n.\n",
    "\n",
    "Return the number of schemes that can be chosen. Since the answer may be very large, return it modulo 109 + 7.\n",
    "\n",
    "**Example 1:**\n",
    "\n",
    "Input: n = 5, minProfit = 3, group = [2,2], profit = [2,3]\n",
    "Output: 2\n",
    "Explanation: To make a profit of at least 3, the group could either commit crimes 0 and 1, or just crime 1.\n",
    "In total, there are 2 schemes.\n",
    "\n",
    "**Example 2:**\n",
    "\n",
    "Input: n = 10, minProfit = 5, group = [2,3,5], profit = [6,7,8]\n",
    "Output: 7\n",
    "Explanation: To make a profit of at least 5, the group could commit any crimes, as long as they commit one.\n",
    "There are 7 possible schemes: (0), (1), (2), (0,1), (0,2), (1,2), and (0,1,2).\n",
    "\n",
    "**Constraints:**\n",
    "\n",
    "- 1 <= n <= 100\n",
    "- 0 <= minProfit <= 100\n",
    "- 1 <= group.length <= 100\n",
    "- 1 <= group[i] <= 100\n",
    "- profit.length == group.length\n",
    "- 0 <= profit[i] <= 100"
   ]
  },
  {
   "cell_type": "code",
   "execution_count": 1,
   "id": "e2e62e3e",
   "metadata": {},
   "outputs": [
    {
     "name": "stdout",
     "output_type": "stream",
     "text": [
      "2\n",
      "7\n"
     ]
    }
   ],
   "source": [
    "MOD = 10**9 + 7\n",
    "\n",
    "def profitableSchemes(n, minProfit, group, profit):\n",
    "    C = len(group)\n",
    "    dp = [[[0] * (minProfit + 1) for _ in range(n + 1)] for _ in range(C + 1)]\n",
    "    dp[0][0][0] = 1\n",
    "    \n",
    "    for i in range(1, C + 1):\n",
    "        g = group[i - 1]\n",
    "        p = profit[i - 1]\n",
    "        for j in range(n + 1):\n",
    "            for k in range(minProfit + 1):\n",
    "                dp[i][j][k] = dp[i - 1][j][k]\n",
    "                if j >= g:\n",
    "                    dp[i][j][k] = (dp[i][j][k] + dp[i - 1][j - g][max(0, k - p)]) % MOD\n",
    "    \n",
    "    result = 0\n",
    "    for j in range(n + 1):\n",
    "        for k in range(minProfit, minProfit + 1):\n",
    "            result = (result + dp[C][j][k]) % MOD\n",
    "    \n",
    "    return result\n",
    "\n",
    "# Example usage\n",
    "print(profitableSchemes(5, 3, [2, 2], [2, 3]))  # Output: 2\n",
    "print(profitableSchemes(10, 5, [2, 3, 5], [6, 7, 8]))  # Output: 7"
   ]
  },
  {
   "cell_type": "code",
   "execution_count": null,
   "id": "a6d87839",
   "metadata": {},
   "outputs": [],
   "source": []
  }
 ],
 "metadata": {
  "kernelspec": {
   "display_name": "Python 3 (ipykernel)",
   "language": "python",
   "name": "python3"
  },
  "language_info": {
   "codemirror_mode": {
    "name": "ipython",
    "version": 3
   },
   "file_extension": ".py",
   "mimetype": "text/x-python",
   "name": "python",
   "nbconvert_exporter": "python",
   "pygments_lexer": "ipython3",
   "version": "3.8.11"
  }
 },
 "nbformat": 4,
 "nbformat_minor": 5
}
