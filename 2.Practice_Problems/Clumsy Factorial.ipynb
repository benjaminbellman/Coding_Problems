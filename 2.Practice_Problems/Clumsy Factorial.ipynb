{
 "cells": [
  {
   "cell_type": "markdown",
   "id": "938c7e54",
   "metadata": {},
   "source": [
    "# Clumsy Factorial"
   ]
  },
  {
   "cell_type": "markdown",
   "id": "4d2a67f8",
   "metadata": {},
   "source": [
    "The factorial of a positive integer n is the product of all positive integers less than or equal to n.\n",
    "\n",
    "For example, factorial(10) = 10 * 9 * 8 * 7 * 6 * 5 * 4 * 3 * 2 * 1.\n",
    "We make a clumsy factorial using the integers in decreasing order by swapping out the multiply operations for a fixed rotation of operations with multiply '*', divide '/', add '+', and subtract '-' in this order.\n",
    "\n",
    "For example, clumsy(10) = 10 * 9 / 8 + 7 - 6 * 5 / 4 + 3 - 2 * 1.\n",
    "However, these operations are still applied using the usual order of operations of arithmetic. We do all multiplication and division steps before any addition or subtraction steps, and multiplication and division steps are processed left to right.\n",
    "\n",
    "Additionally, the division that we use is floor division such that 10 * 9 / 8 = 90 / 8 = 11.\n",
    "\n",
    "Given an integer n, return the clumsy factorial of n.\n",
    "\n",
    "**Example 1:**\n",
    "\n",
    "Input: n = 4\n",
    "Output: 7\n",
    "Explanation: 7 = 4 * 3 / 2 + 1\n",
    "\n",
    "**Example 2:**\n",
    "\n",
    "Input: n = 10\n",
    "Output: 12\n",
    "Explanation: 12 = 10 * 9 / 8 + 7 - 6 * 5 / 4 + 3 - 2 * 1\n",
    " \n",
    "**Constraints:**\n",
    "\n",
    "- 1 <= n <= 104"
   ]
  },
  {
   "cell_type": "code",
   "execution_count": 1,
   "id": "7056f069",
   "metadata": {},
   "outputs": [],
   "source": [
    "def clumsy(n: int) -> int:\n",
    "    # Initialize a result list to track computed values in chunks of four operations.\n",
    "    result = []\n",
    "    operations = ['*', '/', '+', '-']\n",
    "    i = 0  # To keep track of operation index (rotates every four operations)\n",
    "    \n",
    "    while n > 0:\n",
    "        if len(result) == 0:\n",
    "            # Start the first operation directly with the number\n",
    "            result.append(n)\n",
    "        else:\n",
    "            if operations[i % 4] == '*':\n",
    "                result[-1] *= n\n",
    "            elif operations[i % 4] == '/':\n",
    "                result[-1] = result[-1] // n  # Use floor division\n",
    "            elif operations[i % 4] == '+':\n",
    "                result.append(n)\n",
    "            elif operations[i % 4] == '-':\n",
    "                result.append(-n)\n",
    "        \n",
    "        # Move to the next operation and reduce n\n",
    "        i += 1\n",
    "        n -= 1\n",
    "    \n",
    "    # Sum all values in result list to get the final answer\n",
    "    return sum(result)"
   ]
  },
  {
   "cell_type": "code",
   "execution_count": null,
   "id": "74bce74e",
   "metadata": {},
   "outputs": [],
   "source": []
  }
 ],
 "metadata": {
  "kernelspec": {
   "display_name": "Python 3 (ipykernel)",
   "language": "python",
   "name": "python3"
  },
  "language_info": {
   "codemirror_mode": {
    "name": "ipython",
    "version": 3
   },
   "file_extension": ".py",
   "mimetype": "text/x-python",
   "name": "python",
   "nbconvert_exporter": "python",
   "pygments_lexer": "ipython3",
   "version": "3.8.11"
  }
 },
 "nbformat": 4,
 "nbformat_minor": 5
}
