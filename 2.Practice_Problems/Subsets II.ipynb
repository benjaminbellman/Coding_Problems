{
 "cells": [
  {
   "cell_type": "markdown",
   "id": "cb78fea3",
   "metadata": {},
   "source": [
    "# Subsets II"
   ]
  },
  {
   "cell_type": "markdown",
   "id": "76e1bf7d",
   "metadata": {},
   "source": [
    "Given an integer array nums that may contain duplicates, return all possible \n",
    "subsets\n",
    " (the power set).\n",
    "\n",
    "The solution set must not contain duplicate subsets. Return the solution in any order.\n",
    "\n",
    " \n",
    "\n",
    "**Example 1:**\n",
    "\n",
    "Input: nums = [1,2,2]\n",
    "Output: [[],[1],[1,2],[1,2,2],[2],[2,2]]\n",
    "\n",
    "**Example 2:**\n",
    "\n",
    "Input: nums = [0]\n",
    "Output: [[],[0]]\n",
    " \n",
    "\n",
    "**Constraints:**\n",
    "\n",
    "1 <= nums.length <= 10\n",
    "-10 <= nums[i] <= 10"
   ]
  },
  {
   "cell_type": "code",
   "execution_count": 2,
   "id": "b6a17680",
   "metadata": {},
   "outputs": [],
   "source": [
    "class Solution:\n",
    "    def subsetsWithDup(self, nums: list[int]) -> list[list[int]]:\n",
    "        nums.sort() # Sort the array to handle duplicates\n",
    "        res = []\n",
    "        self.backtrack(nums, 0, [], res)\n",
    "        return res\n",
    "    \n",
    "    def backtrack(self, nums, start, curr, res):\n",
    "        res.append(curr[:])\n",
    "        for i in range(start, len(nums)):\n",
    "            if i > start and nums[i] == nums[i-1]:\n",
    "                continue # Skip duplicates\n",
    "            curr.append(nums[i])\n",
    "            self.backtrack(nums, i+1, curr, res)\n",
    "            curr.pop()"
   ]
  },
  {
   "cell_type": "code",
   "execution_count": 3,
   "id": "f1f18e39",
   "metadata": {},
   "outputs": [
    {
     "name": "stdout",
     "output_type": "stream",
     "text": [
      "[[], [1], [1, 2], [1, 2, 2], [2], [2, 2]]\n",
      "[[], [0]]\n"
     ]
    }
   ],
   "source": [
    "s = Solution()\n",
    "print(s.subsetsWithDup([1,2,2])) # Output: [[], [1], [1, 2], [1, 2, 2], [2], [2, 2]]\n",
    "print(s.subsetsWithDup([0])) # Output: [[], [0]]"
   ]
  },
  {
   "cell_type": "code",
   "execution_count": null,
   "id": "1b0aee36",
   "metadata": {},
   "outputs": [],
   "source": []
  }
 ],
 "metadata": {
  "kernelspec": {
   "display_name": "Python 3",
   "language": "python",
   "name": "python3"
  },
  "language_info": {
   "codemirror_mode": {
    "name": "ipython",
    "version": 3
   },
   "file_extension": ".py",
   "mimetype": "text/x-python",
   "name": "python",
   "nbconvert_exporter": "python",
   "pygments_lexer": "ipython3",
   "version": "3.9.13"
  }
 },
 "nbformat": 4,
 "nbformat_minor": 5
}
