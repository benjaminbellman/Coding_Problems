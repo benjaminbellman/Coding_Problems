{
 "cells": [
  {
   "cell_type": "markdown",
   "metadata": {},
   "source": [
    "# 1) Problem 1: Ordered Max difference "
   ]
  },
  {
   "cell_type": "markdown",
   "metadata": {},
   "source": [
    "You are given a sequence of non-zero, positive integers on a signle line of Standard Input, each separated by a space. An ordered pair of integers is defined as a pair of integers from this sequence such that the larger integer occurs after the smaller integer in the sequence at any point. \n",
    "For example, in the sequence 1 5 2 7 3, an ordered pair would be (1,7) but (5,3) would not be an ordered pair. \n",
    "\n",
    "Your task: Calculate the largest difference between the two numbers in an ordered pair from the provided sequence, and print your answer to Standard Output. \n",
    "\n",
    "Example: \n",
    "\n",
    "Input: 2 5 1 7 3\n",
    "Output: 6\n",
    "\n",
    "The ordered pair with the biggest difference in the sequence is (1,7) with a difference of 7-1 =6. "
   ]
  },
  {
   "cell_type": "code",
   "execution_count": 2,
   "metadata": {},
   "outputs": [
    {
     "name": "stdin",
     "output_type": "stream",
     "text": [
      " 4\n"
     ]
    },
    {
     "name": "stdout",
     "output_type": "stream",
     "text": [
      "0\n"
     ]
    }
   ],
   "source": [
    "def ordered_pair_differences(input_list):\n",
    "     output_list = []\n",
    "     len_list = len(input_list)\n",
    "     for i in range(len_list-1):\n",
    "         for j in range(i+1, len_list):\n",
    "             if input_list[j] > input_list[i]:\n",
    "                 output_list.append(input_list[j] - input_list[i])\n",
    "     return(output_list)\n",
    "\n",
    "\n",
    "if __name__ =='__main__':\n",
    "    x = input()\n",
    "    input_list =[]\n",
    "    for character in x:\n",
    "        try: \n",
    "            input_list.append(int(character))\n",
    "        except: \n",
    "            character == ' '\n",
    "    result = ordered_pair_differences(input_list)\n",
    "    if result != []:\n",
    "        print((max(result)))\n",
    "    else:\n",
    "        print(0)"
   ]
  },
  {
   "cell_type": "markdown",
   "metadata": {},
   "source": [
    "# 2) Problem 2: Duplicate products"
   ]
  },
  {
   "cell_type": "markdown",
   "metadata": {},
   "source": [
    "You're given a product list on multiple lines of Standard Input. Each line has 3 values, separated by a signle space. The values are: \n",
    "\n",
    "1. The name of the product - astring\n",
    "2. The weight of the product- an integer \n",
    "3, The price of the product- a number. \n",
    "\n",
    "Two products are defined as distinct if any of the 3 values(name, weight,price) atre different. Your task is to find the number of distinct products and print that numbers on Standard output.\n",
    "\n",
    "Example: \n",
    "\n",
    "Input \n",
    "ball 5 2\n",
    "box 10 5\n",
    "ball 10 3.5\n",
    "ball 5 2 \n",
    "\n",
    "Output \n",
    "3 "
   ]
  },
  {
   "cell_type": "code",
   "execution_count": 1,
   "metadata": {},
   "outputs": [
    {
     "ename": "IndexError",
     "evalue": "list index out of range",
     "output_type": "error",
     "traceback": [
      "\u001b[1;31m---------------------------------------------------------------------------\u001b[0m",
      "\u001b[1;31mIndexError\u001b[0m                                Traceback (most recent call last)",
      "Input \u001b[1;32mIn [1]\u001b[0m, in \u001b[0;36m<module>\u001b[1;34m\u001b[0m\n\u001b[0;32m     33\u001b[0m     product \u001b[38;5;241m=\u001b[39m Product(name, weight, price)\n\u001b[0;32m     34\u001b[0m     products\u001b[38;5;241m.\u001b[39mappend(product)\n\u001b[1;32m---> 36\u001b[0m distinct_products \u001b[38;5;241m=\u001b[39m [\u001b[43mproducts\u001b[49m\u001b[43m[\u001b[49m\u001b[38;5;241;43m0\u001b[39;49m\u001b[43m]\u001b[49m]\n\u001b[0;32m     37\u001b[0m \u001b[38;5;28;01mfor\u001b[39;00m product \u001b[38;5;129;01min\u001b[39;00m products:\n\u001b[0;32m     38\u001b[0m     comparisons \u001b[38;5;241m=\u001b[39m [product\u001b[38;5;241m.\u001b[39mis_identical(distinct_product)\n\u001b[0;32m     39\u001b[0m                    \u001b[38;5;28;01mfor\u001b[39;00m distinct_product \u001b[38;5;129;01min\u001b[39;00m distinct_products]\n",
      "\u001b[1;31mIndexError\u001b[0m: list index out of range"
     ]
    }
   ],
   "source": [
    "# Enter your code here. Read input from STDIN. Print output to STDout\n",
    "import sys\n",
    "\n",
    "class Product:\n",
    "    def __init__(self, name, weight, price):\n",
    "        # string\n",
    "        self.name = name \n",
    "        # int\n",
    "        self.weight = weight\n",
    "        # float\n",
    "        self.price = price\n",
    "        \n",
    "    def print(self):\n",
    "        print(\"name: {}, weight: {}, price: {}\"\n",
    "              .format(self.name, self.weight, self.price))  \n",
    "        \n",
    "    def is_identical(self, product):\n",
    "        if self.name != product.name:\n",
    "            return False\n",
    "        if self.weight != product.weight:\n",
    "            return False\n",
    "        if abs(self.price - product.price) > 1e-6:\n",
    "            return False\n",
    "        return True\n",
    "        \n",
    "if __name__ == '__main__':    \n",
    "    products = []\n",
    "    for input_string in sys.stdin:\n",
    "        input_list = input_string.split()\n",
    "        name = input_list[0]\n",
    "        weight = int(input_list[1])\n",
    "        price = float(input_list[2])\n",
    "        product = Product(name, weight, price)\n",
    "        products.append(product)\n",
    "    \n",
    "    distinct_products = [products[0]]\n",
    "    for product in products:\n",
    "        comparisons = [product.is_identical(distinct_product)\n",
    "                       for distinct_product in distinct_products]\n",
    "        if not any(comparisons):\n",
    "            distinct_products.append(product)\n",
    "\n",
    "    print(len(distinct_products))"
   ]
  },
  {
   "cell_type": "code",
   "execution_count": null,
   "metadata": {},
   "outputs": [],
   "source": []
  }
 ],
 "metadata": {
  "kernelspec": {
   "display_name": "Python 3",
   "language": "python",
   "name": "python3"
  },
  "language_info": {
   "codemirror_mode": {
    "name": "ipython",
    "version": 3
   },
   "file_extension": ".py",
   "mimetype": "text/x-python",
   "name": "python",
   "nbconvert_exporter": "python",
   "pygments_lexer": "ipython3",
   "version": "3.9.12"
  }
 },
 "nbformat": 4,
 "nbformat_minor": 4
}
