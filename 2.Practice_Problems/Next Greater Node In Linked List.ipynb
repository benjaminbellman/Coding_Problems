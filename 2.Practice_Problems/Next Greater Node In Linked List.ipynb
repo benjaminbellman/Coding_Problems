{
 "cells": [
  {
   "cell_type": "markdown",
   "id": "839e8c0f",
   "metadata": {},
   "source": [
    "# Next Greater Node In Linked List"
   ]
  },
  {
   "cell_type": "markdown",
   "id": "b334ab71",
   "metadata": {},
   "source": [
    "You are given the head of a linked list with n nodes.\n",
    "\n",
    "For each node in the list, find the value of the next greater node. That is, for each node, find the value of the first node that is next to it and has a strictly larger value than it.\n",
    "\n",
    "Return an integer array answer where answer[i] is the value of the next greater node of the ith node (1-indexed). If the ith node does not have a next greater node, set answer[i] = 0.\n",
    "\n",
    "**Example 1:**\n",
    "\n",
    "Input: head = [2,1,5]\n",
    "Output: [5,5,0]\n",
    "\n",
    "**Example 2:**\n",
    "\n",
    "Input: head = [2,7,4,3,5]\n",
    "Output: [7,0,5,5,0]\n",
    "\n",
    "**Constraints:**\n",
    "\n",
    "- The number of nodes in the list is n.\n",
    "- 1 <= n <= 104\n",
    "- 1 <= Node.val <= 109"
   ]
  },
  {
   "cell_type": "code",
   "execution_count": 1,
   "id": "34f31637",
   "metadata": {},
   "outputs": [],
   "source": [
    "class ListNode:\n",
    "    def __init__(self, val=0, next=None):\n",
    "        self.val = val\n",
    "        self.next = next\n",
    "\n",
    "def nextLargerNodes(head):\n",
    "    # Convert linked list to array\n",
    "    nums = []\n",
    "    while head:\n",
    "        nums.append(head.val)\n",
    "        head = head.next\n",
    "    \n",
    "    n = len(nums)\n",
    "    result = [0] * n  # Initialize the result array with 0s\n",
    "    stack = []  # Monotonic stack to store indices\n",
    "    \n",
    "    for i in range(n):\n",
    "        # Check if current element is greater than the element at indices in the stack\n",
    "        while stack and nums[i] > nums[stack[-1]]:\n",
    "            result[stack.pop()] = nums[i]\n",
    "        stack.append(i)  # Add current index to the stack\n",
    "    \n",
    "    return result"
   ]
  },
  {
   "cell_type": "code",
   "execution_count": null,
   "id": "591829ac",
   "metadata": {},
   "outputs": [],
   "source": []
  }
 ],
 "metadata": {
  "kernelspec": {
   "display_name": "Python 3 (ipykernel)",
   "language": "python",
   "name": "python3"
  },
  "language_info": {
   "codemirror_mode": {
    "name": "ipython",
    "version": 3
   },
   "file_extension": ".py",
   "mimetype": "text/x-python",
   "name": "python",
   "nbconvert_exporter": "python",
   "pygments_lexer": "ipython3",
   "version": "3.8.11"
  }
 },
 "nbformat": 4,
 "nbformat_minor": 5
}
