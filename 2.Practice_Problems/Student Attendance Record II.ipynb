{
 "cells": [
  {
   "cell_type": "markdown",
   "id": "94c7b1a8",
   "metadata": {},
   "source": [
    "# Student Attendance Record II"
   ]
  },
  {
   "cell_type": "markdown",
   "id": "b85d0622",
   "metadata": {},
   "source": [
    "An attendance record for a student can be represented as a string where each character signifies whether the student was absent, late, or present on that day. The record only contains the following three characters:\n",
    "\n",
    "- 'A': Absent.\n",
    "- 'L': Late.\n",
    "- 'P': Present.\n",
    "\n",
    "Any student is eligible for an attendance award if they meet both of the following criteria:\n",
    "\n",
    "The student was absent ('A') for strictly fewer than 2 days total.\n",
    "The student was never late ('L') for 3 or more consecutive days.\n",
    "Given an integer n, return the number of possible attendance records of length n that make a student eligible for an attendance award. The answer may be very large, so return it modulo 109 + 7.\n",
    "\n",
    " \n",
    "\n",
    "**Example 1:**\n",
    "\n",
    "Input: n = 2\n",
    "\n",
    "Output: 8\n",
    "Explanation: There are 8 records with length 2 that are eligible for an award:\n",
    "\"PP\", \"AP\", \"PA\", \"LP\", \"PL\", \"AL\", \"LA\", \"LL\"\n",
    "Only \"AA\" is not eligible because there are 2 absences (there need to be fewer than 2).\n",
    "\n",
    "**Example 2:**\n",
    "\n",
    "Input: n = 1\n",
    "\n",
    "Output: 3\n",
    "\n",
    "**Example 3:**\n",
    "\n",
    "Input: n = 10101\n",
    "\n",
    "Output: 183236316\n",
    " \n",
    "\n",
    "**Constraints:**\n",
    "\n",
    "- 1 <= n <= 105"
   ]
  },
  {
   "cell_type": "code",
   "execution_count": 1,
   "id": "463c85d1",
   "metadata": {},
   "outputs": [
    {
     "name": "stdout",
     "output_type": "stream",
     "text": [
      "8\n",
      "3\n",
      "141868238\n"
     ]
    }
   ],
   "source": [
    "MOD = 10**9 + 7\n",
    "\n",
    "def checkRecord(n):\n",
    "    if n == 0:\n",
    "        return 0\n",
    "    \n",
    "    # Initialize the dynamic programming table\n",
    "    P = [[[0 for _ in range(3)] for _ in range(2)] for _ in range(n+1)]\n",
    "    \n",
    "    # Base case: 1-length string\n",
    "    P[1][0][0] = 1  # 'P'\n",
    "    P[1][0][1] = 1  # 'L'\n",
    "    P[1][1][0] = 1  # 'A'\n",
    "    \n",
    "    for i in range(2, n+1):\n",
    "        for j in range(2):\n",
    "            P[i][j][0] = (P[i-1][j][0] + P[i-1][j][1] + P[i-1][j][2]) % MOD\n",
    "            P[i][j][1] = P[i-1][j][0] % MOD\n",
    "            P[i][j][2] = P[i-1][j][1] % MOD\n",
    "            if j == 1:\n",
    "                for k in range(3):\n",
    "                    P[i][j][k] += P[i-1][j-1][k]\n",
    "                    P[i][j][k] %= MOD\n",
    "    \n",
    "    # Calculate the sum of valid states for length n\n",
    "    ans = sum(P[n][j][k] for j in range(2) for k in range(3)) % MOD\n",
    "    \n",
    "    return ans\n",
    "\n",
    "# Test cases\n",
    "print(checkRecord(2))     # Output: 8\n",
    "print(checkRecord(1))     # Output: 3\n",
    "print(checkRecord(10101)) # Output: 183236316"
   ]
  },
  {
   "cell_type": "code",
   "execution_count": null,
   "id": "99b851f4",
   "metadata": {},
   "outputs": [],
   "source": []
  }
 ],
 "metadata": {
  "kernelspec": {
   "display_name": "Python 3",
   "language": "python",
   "name": "python3"
  },
  "language_info": {
   "codemirror_mode": {
    "name": "ipython",
    "version": 3
   },
   "file_extension": ".py",
   "mimetype": "text/x-python",
   "name": "python",
   "nbconvert_exporter": "python",
   "pygments_lexer": "ipython3",
   "version": "3.9.13"
  }
 },
 "nbformat": 4,
 "nbformat_minor": 5
}
