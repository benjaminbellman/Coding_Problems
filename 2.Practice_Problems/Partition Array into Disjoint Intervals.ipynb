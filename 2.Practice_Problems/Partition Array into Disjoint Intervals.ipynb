{
 "cells": [
  {
   "cell_type": "markdown",
   "id": "d53a9c7e",
   "metadata": {},
   "source": [
    "# Partition Array into Disjoint Intervals"
   ]
  },
  {
   "cell_type": "markdown",
   "id": "2e537245",
   "metadata": {},
   "source": [
    "Given an integer array nums, partition it into two (contiguous) subarrays left and right so that:\n",
    "\n",
    "- Every element in left is less than or equal to every element in right.\n",
    "- left and right are non-empty.\n",
    "- left has the smallest possible size.\n",
    "\n",
    "Return the length of left after such a partitioning.\n",
    "\n",
    "Test cases are generated such that partitioning exists.\n",
    "\n",
    "**Example 1:**\n",
    "\n",
    "Input: nums = [5,0,3,8,6]\n",
    "Output: 3\n",
    "Explanation: left = [5,0,3], right = [8,6]\n",
    "\n",
    "**Example 2:**\n",
    "\n",
    "Input: nums = [1,1,1,0,6,12]\n",
    "Output: 4\n",
    "Explanation: left = [1,1,1,0], right = [6,12]\n",
    " \n",
    "\n",
    "**Constraints:**\n",
    "\n",
    "- 2 <= nums.length <= 105\n",
    "- 0 <= nums[i] <= 106\n",
    "- There is at least one valid answer for the given input."
   ]
  },
  {
   "cell_type": "code",
   "execution_count": 1,
   "id": "2ef62728",
   "metadata": {},
   "outputs": [
    {
     "name": "stdout",
     "output_type": "stream",
     "text": [
      "3\n",
      "4\n"
     ]
    }
   ],
   "source": [
    "def partitionDisjoint(nums):\n",
    "    n = len(nums)\n",
    "    \n",
    "    # Initialize left_max and right_min arrays\n",
    "    left_max = [0] * n\n",
    "    right_min = [0] * n\n",
    "    \n",
    "    # Fill left_max array\n",
    "    left_max[0] = nums[0]\n",
    "    for i in range(1, n):\n",
    "        left_max[i] = max(left_max[i - 1], nums[i])\n",
    "    \n",
    "    # Fill right_min array\n",
    "    right_min[n - 1] = nums[n - 1]\n",
    "    for i in range(n - 2, -1, -1):\n",
    "        right_min[i] = min(right_min[i + 1], nums[i])\n",
    "    \n",
    "    # Find the smallest index where left_max[i] <= right_min[i + 1]\n",
    "    for i in range(n - 1):\n",
    "        if left_max[i] <= right_min[i + 1]:\n",
    "            return i + 1\n",
    "\n",
    "# Example usage\n",
    "print(partitionDisjoint([5,0,3,8,6]))  # Output: 3\n",
    "print(partitionDisjoint([1,1,1,0,6,12]))  # Output: 4"
   ]
  },
  {
   "cell_type": "code",
   "execution_count": null,
   "id": "89d0a0b6",
   "metadata": {},
   "outputs": [],
   "source": []
  }
 ],
 "metadata": {
  "kernelspec": {
   "display_name": "Python 3 (ipykernel)",
   "language": "python",
   "name": "python3"
  },
  "language_info": {
   "codemirror_mode": {
    "name": "ipython",
    "version": 3
   },
   "file_extension": ".py",
   "mimetype": "text/x-python",
   "name": "python",
   "nbconvert_exporter": "python",
   "pygments_lexer": "ipython3",
   "version": "3.8.11"
  }
 },
 "nbformat": 4,
 "nbformat_minor": 5
}
