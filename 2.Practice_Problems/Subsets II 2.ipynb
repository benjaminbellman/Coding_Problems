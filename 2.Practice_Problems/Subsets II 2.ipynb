{
 "cells": [
  {
   "cell_type": "markdown",
   "id": "fe765f95",
   "metadata": {},
   "source": [
    "# Subsets II 2"
   ]
  },
  {
   "cell_type": "markdown",
   "id": "d7185e36",
   "metadata": {},
   "source": [
    "Given an integer array nums that may contain duplicates, return all possible subsets (the power set).\n",
    "\n",
    "The solution set must not contain duplicate subsets. Return the solution in any order.\n",
    "\n",
    "**Example 1:**\n",
    "\n",
    "Input: nums = [1,2,2]\n",
    "Output: [[],[1],[1,2],[1,2,2],[2],[2,2]]\n",
    "\n",
    "**Example 2:**\n",
    "\n",
    "Input: nums = [0]\n",
    "Output: [[],[0]]\n",
    " \n",
    "**Constraints:**\n",
    "\n",
    "- 1 <= nums.length <= 10\n",
    "- -10 <= nums[i] <= 10"
   ]
  },
  {
   "cell_type": "code",
   "execution_count": 1,
   "id": "e40b6f39",
   "metadata": {},
   "outputs": [],
   "source": [
    "from typing import List\n",
    "\n",
    "def subsetsWithDup(nums: List[int]) -> List[List[int]]:\n",
    "    nums.sort()  # Sort to handle duplicates\n",
    "    res = []\n",
    "\n",
    "    def backtrack(start, path):\n",
    "        res.append(path[:])\n",
    "        for i in range(start, len(nums)):\n",
    "            # Skip duplicates\n",
    "            if i > start and nums[i] == nums[i - 1]:\n",
    "                continue\n",
    "            path.append(nums[i])\n",
    "            backtrack(i + 1, path)\n",
    "            path.pop()\n",
    "\n",
    "    backtrack(0, [])\n",
    "    return res"
   ]
  },
  {
   "cell_type": "code",
   "execution_count": 2,
   "id": "b82cc93c",
   "metadata": {},
   "outputs": [
    {
     "name": "stdout",
     "output_type": "stream",
     "text": [
      "[[], [1], [1, 2], [1, 2, 2], [2], [2, 2]]\n",
      "[[], [0]]\n"
     ]
    }
   ],
   "source": [
    "print(subsetsWithDup([1,2,2]))\n",
    "# Output: [[], [1], [1, 2], [1, 2, 2], [2], [2, 2]]\n",
    "\n",
    "print(subsetsWithDup([0]))\n",
    "# Output: [[], [0]]"
   ]
  },
  {
   "cell_type": "code",
   "execution_count": null,
   "id": "20e34a3d",
   "metadata": {},
   "outputs": [],
   "source": []
  }
 ],
 "metadata": {
  "kernelspec": {
   "display_name": "Python 3 (ipykernel)",
   "language": "python",
   "name": "python3"
  },
  "language_info": {
   "codemirror_mode": {
    "name": "ipython",
    "version": 3
   },
   "file_extension": ".py",
   "mimetype": "text/x-python",
   "name": "python",
   "nbconvert_exporter": "python",
   "pygments_lexer": "ipython3",
   "version": "3.8.11"
  }
 },
 "nbformat": 4,
 "nbformat_minor": 5
}
