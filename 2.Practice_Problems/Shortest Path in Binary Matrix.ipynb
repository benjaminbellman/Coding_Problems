{
 "cells": [
  {
   "cell_type": "markdown",
   "id": "0c1dc2f8",
   "metadata": {},
   "source": [
    "# Shortest Path in Binary Matrix"
   ]
  },
  {
   "cell_type": "markdown",
   "id": "d836229e",
   "metadata": {},
   "source": [
    "Given an n x n binary matrix grid, return the length of the shortest clear path in the matrix. If there is no clear path, return -1.\n",
    "\n",
    "A clear path in a binary matrix is a path from the top-left cell (i.e., (0, 0)) to the bottom-right cell (i.e., (n - 1, n - 1)) such that:\n",
    "\n",
    "All the visited cells of the path are 0.\n",
    "All the adjacent cells of the path are 8-directionally connected (i.e., they are different and they share an edge or a corner).\n",
    "The length of a clear path is the number of visited cells of this path.\n",
    "\n",
    "**Example 1:**\n",
    "\n",
    "Input: grid = [[0,1],[1,0]]\n",
    "Output: 2\n",
    "\n",
    "**Example 2:**\n",
    "\n",
    "\n",
    "Input: grid = [[0,0,0],[1,1,0],[1,1,0]]\n",
    "Output: 4\n",
    "\n",
    "**Example 3:**\n",
    "\n",
    "Input: grid = [[1,0,0],[1,1,0],[1,1,0]]\n",
    "Output: -1\n",
    " \n",
    "**Constraints:**\n",
    "\n",
    "- n == grid.length\n",
    "- n == grid[i].length\n",
    "- 1 <= n <= 100\n",
    "- grid[i][j] is 0 or 1"
   ]
  },
  {
   "cell_type": "code",
   "execution_count": 1,
   "id": "a45e945d",
   "metadata": {},
   "outputs": [],
   "source": [
    "from collections import deque\n",
    "\n",
    "def shortestPathBinaryMatrix(grid):\n",
    "    n = len(grid)\n",
    "    # If start or end cell is blocked, return -1\n",
    "    if grid[0][0] == 1 or grid[n-1][n-1] == 1:\n",
    "        return -1\n",
    "    \n",
    "    # Directions for 8-connected neighbors\n",
    "    directions = [(-1, -1), (-1, 0), (-1, 1), \n",
    "                  (0, -1),         (0, 1), \n",
    "                  (1, -1), (1, 0), (1, 1)]\n",
    "    \n",
    "    # Initialize BFS\n",
    "    queue = deque([(0, 0, 1)])  # (row, col, path_length)\n",
    "    visited = set((0, 0))\n",
    "    \n",
    "    while queue:\n",
    "        row, col, path_length = queue.popleft()\n",
    "        \n",
    "        # If we reach the bottom-right corner, return the path length\n",
    "        if row == n-1 and col == n-1:\n",
    "            return path_length\n",
    "        \n",
    "        # Explore all 8-connected neighbors\n",
    "        for dr, dc in directions:\n",
    "            new_row, new_col = row + dr, col + dc\n",
    "            # Check if the cell is within bounds, not visited, and not blocked\n",
    "            if 0 <= new_row < n and 0 <= new_col < n and (new_row, new_col) not in visited and grid[new_row][new_col] == 0:\n",
    "                queue.append((new_row, new_col, path_length + 1))\n",
    "                visited.add((new_row, new_col))\n",
    "    \n",
    "    # If we exhaust the queue without finding the path\n",
    "    return -1"
   ]
  },
  {
   "cell_type": "code",
   "execution_count": null,
   "id": "2903da7d",
   "metadata": {},
   "outputs": [],
   "source": []
  }
 ],
 "metadata": {
  "kernelspec": {
   "display_name": "Python 3 (ipykernel)",
   "language": "python",
   "name": "python3"
  },
  "language_info": {
   "codemirror_mode": {
    "name": "ipython",
    "version": 3
   },
   "file_extension": ".py",
   "mimetype": "text/x-python",
   "name": "python",
   "nbconvert_exporter": "python",
   "pygments_lexer": "ipython3",
   "version": "3.8.11"
  }
 },
 "nbformat": 4,
 "nbformat_minor": 5
}
