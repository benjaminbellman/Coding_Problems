{
 "cells": [
  {
   "cell_type": "markdown",
   "id": "2b9e7cb3",
   "metadata": {},
   "source": [
    "# Sort Colors"
   ]
  },
  {
   "cell_type": "markdown",
   "id": "4f419faa",
   "metadata": {},
   "source": [
    "Given an array nums with n objects colored red, white, or blue, sort them in-place so that objects of the same color are adjacent, with the colors in the order red, white, and blue.\n",
    "\n",
    "We will use the integers 0, 1, and 2 to represent the color red, white, and blue, respectively.\n",
    "\n",
    "You must solve this problem without using the library's sort function.\n",
    "\n",
    " \n",
    "\n",
    "**Example 1:**\n",
    "\n",
    "Input: nums = [2,0,2,1,1,0]\n",
    "Output: [0,0,1,1,2,2]\n",
    "\n",
    "**Example 2:**\n",
    "\n",
    "Input: nums = [2,0,1]\n",
    "Output: [0,1,2]\n",
    " \n",
    "\n",
    "**Constraints:**\n",
    "\n",
    "n == nums.length\n",
    "1 <= n <= 300\n",
    "nums[i] is either 0, 1, or 2."
   ]
  },
  {
   "cell_type": "code",
   "execution_count": 1,
   "id": "e7c2ef00",
   "metadata": {},
   "outputs": [],
   "source": [
    "def sortColors(nums):\n",
    "    \"\"\"\n",
    "    Sort an array of integers representing colors in-place,\n",
    "    with the colors in the order red, white, and blue.\n",
    "    \"\"\"\n",
    "    # Initialize pointers for the three color sections\n",
    "    red_ptr = 0\n",
    "    blue_ptr = len(nums) - 1\n",
    "    white_ptr = 0\n",
    "    \n",
    "    # Iterate until all elements are sorted\n",
    "    while white_ptr <= blue_ptr:\n",
    "        # If the current element is red, swap it with the element at the red pointer\n",
    "        if nums[white_ptr] == 0:\n",
    "            nums[white_ptr], nums[red_ptr] = nums[red_ptr], nums[white_ptr]\n",
    "            red_ptr += 1\n",
    "            white_ptr += 1\n",
    "        # If the current element is blue, swap it with the element at the blue pointer\n",
    "        elif nums[white_ptr] == 2:\n",
    "            nums[white_ptr], nums[blue_ptr] = nums[blue_ptr], nums[white_ptr]\n",
    "            blue_ptr -= 1\n",
    "        # If the current element is white, move to the next element\n",
    "        else:\n",
    "            white_ptr += 1\n",
    "    \n",
    "    return nums"
   ]
  },
  {
   "cell_type": "code",
   "execution_count": 2,
   "id": "efe44f02",
   "metadata": {},
   "outputs": [
    {
     "name": "stdout",
     "output_type": "stream",
     "text": [
      "[0, 0, 1, 1, 2, 2]\n",
      "[0, 1, 2]\n"
     ]
    }
   ],
   "source": [
    "# Example 1\n",
    "nums1 = [2,0,2,1,1,0]\n",
    "print(sortColors(nums1)) # Output: [0,0,1,1,2,2]\n",
    "\n",
    "# Example 2\n",
    "nums2 = [2,0,1]\n",
    "print(sortColors(nums2)) # Output: [0,1,2]"
   ]
  },
  {
   "cell_type": "code",
   "execution_count": null,
   "id": "880fb664",
   "metadata": {},
   "outputs": [],
   "source": []
  }
 ],
 "metadata": {
  "kernelspec": {
   "display_name": "Python 3",
   "language": "python",
   "name": "python3"
  },
  "language_info": {
   "codemirror_mode": {
    "name": "ipython",
    "version": 3
   },
   "file_extension": ".py",
   "mimetype": "text/x-python",
   "name": "python",
   "nbconvert_exporter": "python",
   "pygments_lexer": "ipython3",
   "version": "3.9.13"
  }
 },
 "nbformat": 4,
 "nbformat_minor": 5
}
