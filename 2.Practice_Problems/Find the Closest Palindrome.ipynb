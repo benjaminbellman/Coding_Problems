{
 "cells": [
  {
   "cell_type": "markdown",
   "id": "dab55e4e",
   "metadata": {},
   "source": [
    "# Find the Closest Palindrome"
   ]
  },
  {
   "cell_type": "markdown",
   "id": "fea5daf9",
   "metadata": {},
   "source": [
    "Given a string n representing an integer, return the closest integer (not including itself), which is a palindrome. If there is a tie, return the smaller one.\n",
    "\n",
    "The closest is defined as the absolute difference minimized between two integers.\n",
    "\n",
    " \n",
    "\n",
    "**Example 1:**\n",
    "\n",
    "Input: n = \"123\"\n",
    "\n",
    "Output: \"121\"\n",
    "\n",
    "**Example 2:**\n",
    "\n",
    "Input: n = \"1\"\n",
    "Output: \"0\"\n",
    "\n",
    "Explanation: 0 and 2 are the closest palindromes but we return the smallest which is 0.\n",
    " \n",
    "\n",
    "**Constraints:**\n",
    "\n",
    "- 1 <= n.length <= 18\n",
    "- n consists of only digits.\n",
    "- n does not have leading zeros.\n",
    "- n is representing an integer in the range [1, 1018 - 1]."
   ]
  },
  {
   "cell_type": "code",
   "execution_count": 1,
   "id": "472827bc",
   "metadata": {},
   "outputs": [
    {
     "name": "stdout",
     "output_type": "stream",
     "text": [
      "121\n",
      "0\n"
     ]
    }
   ],
   "source": [
    "def closest_palindrome(n: str) -> str:\n",
    "    def create_palindrome(s: str) -> int:\n",
    "        return int(s + s[-2::-1]) # Appends the reverse of all but the first digit\n",
    "    \n",
    "    length = len(n)\n",
    "    num = int(n)\n",
    "    \n",
    "    if num <= 10 or num == 11:  # Single-digit numbers and 11 are special cases\n",
    "        return str(num - 1)\n",
    "    \n",
    "    # Middle index for odd lengths, right of middle for even lengths\n",
    "    middle = (length + 1) // 2  \n",
    "    \n",
    "    # Three candidates: Lower, same, higher\n",
    "    candidates = set()\n",
    "    \n",
    "    # Case 1: The palindrome built from the first half of n (e.g., n=12345 -> 12321)\n",
    "    prefix = n[:middle]\n",
    "    candidates.add(create_palindrome(prefix))\n",
    "    \n",
    "    # Case 2: The palindrome built from the first half of n - 1 (e.g., n=12345 -> 12221)\n",
    "    candidates.add(create_palindrome(str(int(prefix) - 1)))\n",
    "    \n",
    "    # Case 3: The palindrome built from the first half of n + 1 (e.g., n=12345 -> 12421)\n",
    "    candidates.add(create_palindrome(str(int(prefix) + 1)))\n",
    "    \n",
    "    # Adding special case candidates\n",
    "    candidates.add(10**length + 1)  # Case of just 1 followed by all zeros (1000...0001)\n",
    "    candidates.add(10**(length-1) - 1)  # Case of all 9's (999...999)\n",
    "    \n",
    "    # Filter out the original number and find the closest\n",
    "    candidates.discard(num)\n",
    "    closest = min(candidates, key=lambda x: (abs(x - num), x))\n",
    "    \n",
    "    return str(closest)\n",
    "\n",
    "# Example usage:\n",
    "print(closest_palindrome(\"123\"))  # Output: \"121\"\n",
    "print(closest_palindrome(\"1\"))    # Output: \"0\""
   ]
  },
  {
   "cell_type": "code",
   "execution_count": null,
   "id": "e1539586",
   "metadata": {},
   "outputs": [],
   "source": []
  }
 ],
 "metadata": {
  "kernelspec": {
   "display_name": "Python 3",
   "language": "python",
   "name": "python3"
  },
  "language_info": {
   "codemirror_mode": {
    "name": "ipython",
    "version": 3
   },
   "file_extension": ".py",
   "mimetype": "text/x-python",
   "name": "python",
   "nbconvert_exporter": "python",
   "pygments_lexer": "ipython3",
   "version": "3.9.13"
  }
 },
 "nbformat": 4,
 "nbformat_minor": 5
}
