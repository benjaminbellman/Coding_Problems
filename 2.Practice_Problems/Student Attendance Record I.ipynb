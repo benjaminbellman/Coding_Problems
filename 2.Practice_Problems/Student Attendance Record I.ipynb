{
 "cells": [
  {
   "cell_type": "markdown",
   "id": "dbfa3a9f",
   "metadata": {},
   "source": [
    "# Student Attendance Record I"
   ]
  },
  {
   "cell_type": "markdown",
   "id": "82b5dbf8",
   "metadata": {},
   "source": [
    "You are given a string s representing an attendance record for a student where each character signifies whether the student was absent, late, or present on that day. The record only contains the following three characters:\n",
    "\n",
    "'A': Absent.\n",
    "'L': Late.\n",
    "'P': Present.\n",
    "The student is eligible for an attendance award if they meet both of the following criteria:\n",
    "\n",
    "The student was absent ('A') for strictly fewer than 2 days total.\n",
    "The student was never late ('L') for 3 or more consecutive days.\n",
    "Return true if the student is eligible for an attendance award, or false otherwise.\n",
    "\n",
    " \n",
    "\n",
    "**Example 1:**\n",
    "\n",
    "Input: s = \"PPALLP\"\n",
    "\n",
    "Output: true\n",
    "Explanation: The student has fewer than 2 absences and was never late 3 or more consecutive days.\n",
    "\n",
    "**Example 2:**\n",
    "\n",
    "Input: s = \"PPALLL\"\n",
    "\n",
    "Output: false\n",
    "Explanation: The student was late 3 consecutive days in the last 3 days, so is not eligible for the award.\n",
    " \n",
    "\n",
    "**Constraints:**\n",
    "\n",
    "- 1 <= s.length <= 1000\n",
    "- s[i] is either 'A', 'L', or 'P'."
   ]
  },
  {
   "cell_type": "code",
   "execution_count": 1,
   "id": "f868020b",
   "metadata": {},
   "outputs": [
    {
     "name": "stdout",
     "output_type": "stream",
     "text": [
      "True\n",
      "False\n"
     ]
    }
   ],
   "source": [
    "def checkRecord(s: str) -> bool:\n",
    "    # check for 2 or more absences\n",
    "    if s.count('A') >= 2:\n",
    "        return False\n",
    "    # check for 3 or more consecutive lates\n",
    "    if 'LLL' in s:\n",
    "        return False\n",
    "    return True\n",
    "\n",
    "# Test the function with the provided examples\n",
    "s1 = \"PPALLP\"\n",
    "print(checkRecord(s1))  # Expected output: True\n",
    "\n",
    "s2 = \"PPALLL\"\n",
    "print(checkRecord(s2))  # Expected output: False"
   ]
  },
  {
   "cell_type": "code",
   "execution_count": null,
   "id": "82e9bcd3",
   "metadata": {},
   "outputs": [],
   "source": []
  }
 ],
 "metadata": {
  "kernelspec": {
   "display_name": "Python 3",
   "language": "python",
   "name": "python3"
  },
  "language_info": {
   "codemirror_mode": {
    "name": "ipython",
    "version": 3
   },
   "file_extension": ".py",
   "mimetype": "text/x-python",
   "name": "python",
   "nbconvert_exporter": "python",
   "pygments_lexer": "ipython3",
   "version": "3.9.13"
  }
 },
 "nbformat": 4,
 "nbformat_minor": 5
}
