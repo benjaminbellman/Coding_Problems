{
 "cells": [
  {
   "cell_type": "markdown",
   "id": "41ba5252",
   "metadata": {},
   "source": [
    "# Multiply Strings 2"
   ]
  },
  {
   "cell_type": "markdown",
   "id": "20af2a10",
   "metadata": {},
   "source": [
    "Given two non-negative integers num1 and num2 represented as strings, return the product of num1 and num2, also represented as a string.\n",
    "\n",
    "Note: You must not use any built-in BigInteger library or convert the inputs to integer directly.\n",
    "\n",
    "**Example 1:**\n",
    "\n",
    "Input: num1 = \"2\", num2 = \"3\"\n",
    "Output: \"6\"\n",
    "\n",
    "**Example 2:**\n",
    "\n",
    "Input: num1 = \"123\", num2 = \"456\"\n",
    "Output: \"56088\"\n",
    " \n",
    "**Constraints:**\n",
    "\n",
    "- 1 <= num1.length, num2.length <= 200\n",
    "- num1 and num2 consist of digits only.\n",
    "- Both num1 and num2 do not contain any leading zero, except the number 0 itself."
   ]
  },
  {
   "cell_type": "code",
   "execution_count": 1,
   "id": "a6b2f3b3",
   "metadata": {},
   "outputs": [],
   "source": [
    "def multiply(num1: str, num2: str) -> str:\n",
    "    if num1 == \"0\" or num2 == \"0\":\n",
    "        return \"0\"\n",
    "\n",
    "    n, m = len(num1), len(num2)\n",
    "    res = [0] * (n + m)\n",
    "\n",
    "    # Reverse both numbers for easier indexing from least significant digit\n",
    "    num1, num2 = num1[::-1], num2[::-1]\n",
    "\n",
    "    for i in range(n):\n",
    "        for j in range(m):\n",
    "            digit1 = int(num1[i])\n",
    "            digit2 = int(num2[j])\n",
    "            res[i + j] += digit1 * digit2\n",
    "            res[i + j + 1] += res[i + j] // 10  # carry\n",
    "            res[i + j] %= 10\n",
    "\n",
    "    # Remove leading zeros and convert to string\n",
    "    while res[-1] == 0:\n",
    "        res.pop()\n",
    "\n",
    "    return ''.join(map(str, res[::-1]))"
   ]
  },
  {
   "cell_type": "code",
   "execution_count": null,
   "id": "c66b968a",
   "metadata": {},
   "outputs": [],
   "source": []
  }
 ],
 "metadata": {
  "kernelspec": {
   "display_name": "Python 3 (ipykernel)",
   "language": "python",
   "name": "python3"
  },
  "language_info": {
   "codemirror_mode": {
    "name": "ipython",
    "version": 3
   },
   "file_extension": ".py",
   "mimetype": "text/x-python",
   "name": "python",
   "nbconvert_exporter": "python",
   "pygments_lexer": "ipython3",
   "version": "3.8.11"
  }
 },
 "nbformat": 4,
 "nbformat_minor": 5
}
