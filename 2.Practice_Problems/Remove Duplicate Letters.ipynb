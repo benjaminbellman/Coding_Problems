{
 "cells": [
  {
   "cell_type": "markdown",
   "id": "2d14ce53",
   "metadata": {},
   "source": [
    "# Remove Duplicate Letters"
   ]
  },
  {
   "cell_type": "markdown",
   "id": "b93c35fd",
   "metadata": {},
   "source": [
    "Given a string s, remove duplicate letters so that every letter appears once and only once. You must make sure your result is \n",
    "the smallest in lexicographical order\n",
    " among all possible results.\n",
    "\n",
    " \n",
    "\n",
    "**Example 1:**\n",
    "\n",
    "Input: s = \"bcabc\"\n",
    "Output: \"abc\"\n",
    "\n",
    "**Example 2:**\n",
    "\n",
    "Input: s = \"cbacdcbc\"\n",
    "Output: \"acdb\"\n",
    " \n",
    "\n",
    "**Constraints:**\n",
    "\n",
    "1 <= s.length <= 104\n",
    "s consists of lowercase English letters.\n",
    " \n",
    "\n",
    "Note: This question is the same as 1081: https://leetcode.com/problems/smallest-subsequence-of-distinct-characters/"
   ]
  },
  {
   "cell_type": "code",
   "execution_count": 1,
   "id": "7931b4d3",
   "metadata": {},
   "outputs": [
    {
     "name": "stdout",
     "output_type": "stream",
     "text": [
      "abc\n",
      "acdb\n"
     ]
    }
   ],
   "source": [
    "def remove_duplicate_letters(s):\n",
    "    # Count the frequency of each letter in the string\n",
    "    count = {}\n",
    "    for char in s:\n",
    "        count[char] = count.get(char, 0) + 1\n",
    "    \n",
    "    # Use a stack to build the result\n",
    "    stack = []\n",
    "    visited = set()  # Keep track of the letters already visited\n",
    "    \n",
    "    for char in s:\n",
    "        count[char] -= 1  # Decrement the count of the current character\n",
    "        \n",
    "        if char in visited:\n",
    "            continue\n",
    "        \n",
    "        # Remove characters from the stack if they are larger than the current character\n",
    "        while stack and stack[-1] > char and count[stack[-1]] > 0:\n",
    "            visited.remove(stack.pop())\n",
    "        \n",
    "        stack.append(char)\n",
    "        visited.add(char)\n",
    "    \n",
    "    return ''.join(stack)\n",
    "\n",
    "# Testing the examples\n",
    "print(remove_duplicate_letters(\"bcabc\"))  # Output: \"abc\"\n",
    "print(remove_duplicate_letters(\"cbacdcbc\"))  # Output: \"acdb\""
   ]
  }
 ],
 "metadata": {
  "kernelspec": {
   "display_name": "Python 3",
   "language": "python",
   "name": "python3"
  },
  "language_info": {
   "codemirror_mode": {
    "name": "ipython",
    "version": 3
   },
   "file_extension": ".py",
   "mimetype": "text/x-python",
   "name": "python",
   "nbconvert_exporter": "python",
   "pygments_lexer": "ipython3",
   "version": "3.9.13"
  }
 },
 "nbformat": 4,
 "nbformat_minor": 5
}
