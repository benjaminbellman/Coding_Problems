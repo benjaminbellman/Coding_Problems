{
 "cells": [
  {
   "cell_type": "markdown",
   "id": "c51d5ec4",
   "metadata": {},
   "source": [
    "# Minimum Absolute Difference in BST"
   ]
  },
  {
   "cell_type": "markdown",
   "id": "b17d7d77",
   "metadata": {},
   "source": [
    "Given the root of a Binary Search Tree (BST), return the minimum absolute difference between the values of any two different nodes in the tree.\n",
    "\n",
    " \n",
    "\n",
    "**Example 1:**\n",
    "\n",
    "\n",
    "Input: root = [4,2,6,1,3]\n",
    "Output: 1\n",
    "**Example 2:**\n",
    "\n",
    "\n",
    "Input: root = [1,0,48,null,null,12,49]\n",
    "Output: 1\n",
    " \n",
    "\n",
    "**Constraints:**\n",
    "\n",
    "- The number of nodes in the tree is in the range [2, 104].\n",
    "- 0 <= Node.val <= 105"
   ]
  },
  {
   "cell_type": "code",
   "execution_count": 1,
   "id": "1d2d2f6e",
   "metadata": {},
   "outputs": [
    {
     "name": "stdout",
     "output_type": "stream",
     "text": [
      "1\n",
      "1\n"
     ]
    }
   ],
   "source": [
    "class TreeNode:\n",
    "    def __init__(self, val=0, left=None, right=None):\n",
    "        self.val = val\n",
    "        self.left = left\n",
    "        self.right = right\n",
    "\n",
    "def getMinimumDifference(root):\n",
    "    def in_order_traversal(node):\n",
    "        nonlocal prev, min_diff\n",
    "        if not node:\n",
    "            return\n",
    "        # Recursively traverse the left subtree\n",
    "        in_order_traversal(node.left)\n",
    "        \n",
    "        # Calculate the absolute difference between the current node's value and the previous node's value\n",
    "        if prev is not None:\n",
    "            min_diff = min(min_diff, abs(node.val - prev))\n",
    "        \n",
    "        # Update the previous node\n",
    "        prev = node.val\n",
    "        \n",
    "        # Recursively traverse the right subtree\n",
    "        in_order_traversal(node.right)\n",
    "    \n",
    "    # Initialize variables\n",
    "    prev = None\n",
    "    min_diff = float('inf')\n",
    "\n",
    "    # Start the in-order traversal\n",
    "    in_order_traversal(root)\n",
    "    \n",
    "    return min_diff\n",
    "\n",
    "# Example 1\n",
    "root1 = TreeNode(4)\n",
    "root1.left = TreeNode(2)\n",
    "root1.right = TreeNode(6)\n",
    "root1.left.left = TreeNode(1)\n",
    "root1.left.right = TreeNode(3)\n",
    "output1 = getMinimumDifference(root1)\n",
    "print(output1)  # Output: 1\n",
    "\n",
    "# Example 2\n",
    "root2 = TreeNode(1)\n",
    "root2.left = TreeNode(0)\n",
    "root2.right = TreeNode(48)\n",
    "root2.right.left = TreeNode(12)\n",
    "root2.right.right = TreeNode(49)\n",
    "output2 = getMinimumDifference(root2)\n",
    "print(output2)  # Output: 1"
   ]
  },
  {
   "cell_type": "code",
   "execution_count": null,
   "id": "56d28558",
   "metadata": {},
   "outputs": [],
   "source": []
  }
 ],
 "metadata": {
  "kernelspec": {
   "display_name": "Python 3",
   "language": "python",
   "name": "python3"
  },
  "language_info": {
   "codemirror_mode": {
    "name": "ipython",
    "version": 3
   },
   "file_extension": ".py",
   "mimetype": "text/x-python",
   "name": "python",
   "nbconvert_exporter": "python",
   "pygments_lexer": "ipython3",
   "version": "3.9.13"
  }
 },
 "nbformat": 4,
 "nbformat_minor": 5
}
