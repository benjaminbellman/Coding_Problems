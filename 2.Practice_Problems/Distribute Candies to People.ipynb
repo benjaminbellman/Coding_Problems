{
 "cells": [
  {
   "cell_type": "markdown",
   "id": "500b4863",
   "metadata": {},
   "source": [
    "# Distribute Candies to People"
   ]
  },
  {
   "cell_type": "markdown",
   "id": "0aca089d",
   "metadata": {},
   "source": [
    "We distribute some number of candies, to a row of n = num_people people in the following way:\n",
    "\n",
    "We then give 1 candy to the first person, 2 candies to the second person, and so on until we give n candies to the last person.\n",
    "\n",
    "Then, we go back to the start of the row, giving n + 1 candies to the first person, n + 2 candies to the second person, and so on until we give 2 * n candies to the last person.\n",
    "\n",
    "This process repeats (with us giving one more candy each time, and moving to the start of the row after we reach the end) until we run out of candies.  The last person will receive all of our remaining candies (not necessarily one more than the previous gift).\n",
    "\n",
    "Return an array (of length num_people and sum candies) that represents the final distribution of candies.\n",
    "\n",
    "**Example 1:**\n",
    "\n",
    "Input: candies = 7, num_people = 4\n",
    "Output: [1,2,3,1]\n",
    "Explanation:\n",
    "On the first turn, ans[0] += 1, and the array is [1,0,0,0].\n",
    "On the second turn, ans[1] += 2, and the array is [1,2,0,0].\n",
    "On the third turn, ans[2] += 3, and the array is [1,2,3,0].\n",
    "On the fourth turn, ans[3] += 1 (because there is only one candy left), and the final array is [1,2,3,1].\n",
    "\n",
    "**Example 2:**\n",
    "\n",
    "Input: candies = 10, num_people = 3\n",
    "Output: [5,2,3]\n",
    "Explanation: \n",
    "On the first turn, ans[0] += 1, and the array is [1,0,0].\n",
    "On the second turn, ans[1] += 2, and the array is [1,2,0].\n",
    "On the third turn, ans[2] += 3, and the array is [1,2,3].\n",
    "On the fourth turn, ans[0] += 4, and the final array is [5,2,3].\n",
    " \n",
    "**Constraints:**\n",
    "\n",
    "- 1 <= candies <= 10^9\n",
    "- 1 <= num_people <= 1000"
   ]
  },
  {
   "cell_type": "code",
   "execution_count": 1,
   "id": "285a35ad",
   "metadata": {},
   "outputs": [],
   "source": [
    "def distributeCandies(candies, num_people):\n",
    "    # Initialize an array to store the distribution of candies\n",
    "    result = [0] * num_people\n",
    "    current_candy = 1  # Start distributing candies from 1\n",
    "\n",
    "    while candies > 0:\n",
    "        # Loop through the people in the row\n",
    "        for i in range(num_people):\n",
    "            if candies < current_candy:\n",
    "                result[i] += candies  # If candies left are less than current_candy, give all the remaining candies\n",
    "                candies = 0  # Set candies to zero as all candies are distributed\n",
    "                break\n",
    "            else:\n",
    "                result[i] += current_candy  # Otherwise, give current_candy to the person\n",
    "                candies -= current_candy  # Decrease candies by the number distributed\n",
    "                current_candy += 1  # Increment the candy count for the next person\n",
    "\n",
    "    return result"
   ]
  },
  {
   "cell_type": "code",
   "execution_count": null,
   "id": "e7659c55",
   "metadata": {},
   "outputs": [],
   "source": []
  }
 ],
 "metadata": {
  "kernelspec": {
   "display_name": "Python 3 (ipykernel)",
   "language": "python",
   "name": "python3"
  },
  "language_info": {
   "codemirror_mode": {
    "name": "ipython",
    "version": 3
   },
   "file_extension": ".py",
   "mimetype": "text/x-python",
   "name": "python",
   "nbconvert_exporter": "python",
   "pygments_lexer": "ipython3",
   "version": "3.8.11"
  }
 },
 "nbformat": 4,
 "nbformat_minor": 5
}
