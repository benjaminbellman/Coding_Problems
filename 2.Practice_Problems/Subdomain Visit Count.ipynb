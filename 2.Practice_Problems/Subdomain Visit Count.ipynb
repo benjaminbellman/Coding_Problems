{
 "cells": [
  {
   "cell_type": "markdown",
   "id": "cb084936",
   "metadata": {},
   "source": [
    "# Subdomain Visit Count"
   ]
  },
  {
   "cell_type": "markdown",
   "id": "83fc8687",
   "metadata": {},
   "source": [
    "A website domain \"discuss.leetcode.com\" consists of various subdomains. At the top level, we have \"com\", at the next level, we have \"leetcode.com\" and at the lowest level, \"discuss.leetcode.com\". When we visit a domain like \"discuss.leetcode.com\", we will also visit the parent domains \"leetcode.com\" and \"com\" implicitly.\n",
    "\n",
    "A count-paired domain is a domain that has one of the two formats \"rep d1.d2.d3\" or \"rep d1.d2\" where rep is the number of visits to the domain and d1.d2.d3 is the domain itself.\n",
    "\n",
    "For example, \"9001 discuss.leetcode.com\" is a count-paired domain that indicates that discuss.leetcode.com was visited 9001 times.\n",
    "Given an array of count-paired domains cpdomains, return an array of the count-paired domains of each subdomain in the input. You may return the answer in any order.\n",
    "\n",
    " \n",
    "\n",
    "**Example 1:**\n",
    "\n",
    "Input: cpdomains = [\"9001 discuss.leetcode.com\"]\n",
    "\n",
    "Output: [\"9001 leetcode.com\",\"9001 discuss.leetcode.com\",\"9001 com\"]\n",
    "Explanation: We only have one website domain: \"discuss.leetcode.com\".\n",
    "As discussed above, the subdomain \"leetcode.com\" and \"com\" will also be visited. So they will all be visited 9001 times.\n",
    "\n",
    "**Example 2:**\n",
    "\n",
    "Input: cpdomains = [\"900 google.mail.com\", \"50 yahoo.com\", \"1 intel.mail.com\", \"5 wiki.org\"]\n",
    "\n",
    "Output: [\"901 mail.com\",\"50 yahoo.com\",\"900 google.mail.com\",\"5 wiki.org\",\"5 org\",\"1 intel.mail.com\",\"951 com\"]\n",
    "Explanation: We will visit \"google.mail.com\" 900 times, \"yahoo.com\" 50 times, \"intel.mail.com\" once and \"wiki.org\" 5 times.\n",
    "For the subdomains, we will visit \"mail.com\" 900 + 1 = 901 times, \"com\" 900 + 50 + 1 = 951 times, and \"org\" 5 times.\n",
    " \n",
    "\n",
    "**Constraints:**\n",
    "\n",
    "- 1 <= cpdomain.length <= 100\n",
    "- 1 <= cpdomain[i].length <= 100\n",
    "- cpdomain[i] follows either the \"repi d1i.d2i.d3i\" format or the \"repi d1i.d2i\" format.\n",
    "- repi is an integer in the range [1, 104].\n",
    "- d1i, d2i, and d3i consist of lowercase English letters."
   ]
  },
  {
   "cell_type": "code",
   "execution_count": 1,
   "id": "c9078672",
   "metadata": {},
   "outputs": [
    {
     "name": "stdout",
     "output_type": "stream",
     "text": [
      "['9001 discuss.leetcode.com', '9001 leetcode.com', '9001 com']\n",
      "['900 google.mail.com', '901 mail.com', '951 com', '50 yahoo.com', '1 intel.mail.com', '5 wiki.org', '5 org']\n"
     ]
    }
   ],
   "source": [
    "def count_domain_visits(cpdomains):\n",
    "    domain_counts = {}\n",
    "    \n",
    "    for cpdomain in cpdomains:\n",
    "        count, domain = cpdomain.split()\n",
    "        count = int(count)\n",
    "        subdomains = domain.split('.')\n",
    "        \n",
    "        for i in range(len(subdomains)):\n",
    "            subdomain = '.'.join(subdomains[i:])\n",
    "            domain_counts[subdomain] = domain_counts.get(subdomain, 0) + count\n",
    "    \n",
    "    result = []\n",
    "    for domain, count in domain_counts.items():\n",
    "        result.append(f\"{count} {domain}\")\n",
    "    \n",
    "    return result\n",
    "\n",
    "# Example usage:\n",
    "cpdomains1 = [\"9001 discuss.leetcode.com\"]\n",
    "cpdomains2 = [\"900 google.mail.com\", \"50 yahoo.com\", \"1 intel.mail.com\", \"5 wiki.org\"]\n",
    "\n",
    "print(count_domain_visits(cpdomains1))  # Output: [\"9001 leetcode.com\",\"9001 discuss.leetcode.com\",\"9001 com\"]\n",
    "print(count_domain_visits(cpdomains2))  # Output: [\"901 mail.com\",\"50 yahoo.com\",\"900 google.mail.com\",\"5 wiki.org\",\"5 org\",\"1 intel.mail.com\",\"951 com\"]"
   ]
  },
  {
   "cell_type": "code",
   "execution_count": null,
   "id": "4ac3273c",
   "metadata": {},
   "outputs": [],
   "source": []
  }
 ],
 "metadata": {
  "kernelspec": {
   "display_name": "Python 3",
   "language": "python",
   "name": "python3"
  },
  "language_info": {
   "codemirror_mode": {
    "name": "ipython",
    "version": 3
   },
   "file_extension": ".py",
   "mimetype": "text/x-python",
   "name": "python",
   "nbconvert_exporter": "python",
   "pygments_lexer": "ipython3",
   "version": "3.9.13"
  }
 },
 "nbformat": 4,
 "nbformat_minor": 5
}
