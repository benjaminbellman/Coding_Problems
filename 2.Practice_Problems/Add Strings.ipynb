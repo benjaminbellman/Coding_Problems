{
 "cells": [
  {
   "cell_type": "markdown",
   "id": "3303f2a0",
   "metadata": {},
   "source": [
    "# Add Strings"
   ]
  },
  {
   "cell_type": "markdown",
   "id": "23b767d9",
   "metadata": {},
   "source": [
    "Given two non-negative integers, num1 and num2 represented as string, return the sum of num1 and num2 as a string.\n",
    "\n",
    "You must solve the problem without using any built-in library for handling large integers (such as BigInteger). You must also not convert the inputs to integers directly.\n",
    "\n",
    " \n",
    "\n",
    "**Example 1:**\n",
    "\n",
    "Input: num1 = \"11\", num2 = \"123\"\n",
    "Output: \"134\"\n",
    "\n",
    "**Example 2:**\n",
    "\n",
    "Input: num1 = \"456\", num2 = \"77\"\n",
    "Output: \"533\"\n",
    "\n",
    "**Example 3:**\n",
    "\n",
    "Input: num1 = \"0\", num2 = \"0\"\n",
    "Output: \"0\"\n",
    " \n",
    "\n",
    "**Constraints:**\n",
    "\n",
    "1 <= num1.length, num2.length <= 104\n",
    "num1 and num2 consist of only digits.\n",
    "num1 and num2 don't have any leading zeros except for the zero itself."
   ]
  },
  {
   "cell_type": "code",
   "execution_count": 1,
   "id": "5d81abe0",
   "metadata": {},
   "outputs": [
    {
     "name": "stdout",
     "output_type": "stream",
     "text": [
      "134\n",
      "533\n",
      "0\n"
     ]
    }
   ],
   "source": [
    "def addStrings(num1, num2):\n",
    "    n1 = len(num1)\n",
    "    n2 = len(num2)\n",
    "    carry = 0\n",
    "    result = []\n",
    "\n",
    "    while n1 > 0 or n2 > 0 or carry:\n",
    "        digit1 = int(num1[n1 - 1]) if n1 > 0 else 0\n",
    "        digit2 = int(num2[n2 - 1]) if n2 > 0 else 0\n",
    "        sum_digits = digit1 + digit2 + carry\n",
    "        carry = sum_digits // 10\n",
    "        result.append(str(sum_digits % 10))\n",
    "        n1 -= 1\n",
    "        n2 -= 1\n",
    "\n",
    "    return ''.join(result[::-1])\n",
    "\n",
    "# Testing the provided examples\n",
    "print(addStrings(\"11\", \"123\"))  # Output: \"134\"\n",
    "print(addStrings(\"456\", \"77\"))  # Output: \"533\"\n",
    "print(addStrings(\"0\", \"0\"))     # Output: \"0\""
   ]
  }
 ],
 "metadata": {
  "kernelspec": {
   "display_name": "Python 3",
   "language": "python",
   "name": "python3"
  },
  "language_info": {
   "codemirror_mode": {
    "name": "ipython",
    "version": 3
   },
   "file_extension": ".py",
   "mimetype": "text/x-python",
   "name": "python",
   "nbconvert_exporter": "python",
   "pygments_lexer": "ipython3",
   "version": "3.9.13"
  }
 },
 "nbformat": 4,
 "nbformat_minor": 5
}
