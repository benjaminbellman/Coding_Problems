{
 "cells": [
  {
   "cell_type": "markdown",
   "id": "e9473ed2",
   "metadata": {},
   "source": [
    "# Largest Plus Sign"
   ]
  },
  {
   "attachments": {
    "image.png": {
     "image/png": "[encoded data removed]"
    }
   },
   "cell_type": "markdown",
   "id": "cac59818",
   "metadata": {},
   "source": [
    "You are given an integer n. You have an n x n binary grid grid with all values initially 1's except for some indices given in the array mines. The ith element of the array mines is defined as mines[i] = [xi, yi] where grid[xi][yi] == 0.\n",
    "\n",
    "Return the order of the largest axis-aligned plus sign of 1's contained in grid. If there is none, return 0.\n",
    "\n",
    "An axis-aligned plus sign of 1's of order k has some center grid[r][c] == 1 along with four arms of length k - 1 going up, down, left, and right, and made of 1's. Note that there could be 0's or 1's beyond the arms of the plus sign, only the relevant area of the plus sign is checked for 1's.\n",
    "\n",
    " \n",
    "\n",
    "**Example 1:**\n",
    "\n",
    "![image.png](attachment:image.png)\n",
    "\n",
    "Input: n = 5, mines = [[4,2]]\n",
    "\n",
    "Output: 2\n",
    "Explanation: In the above grid, the largest plus sign can only be of order 2. One of them is shown.\n",
    "\n",
    "**xample 2:**\n",
    "\n",
    "\n",
    "Input: n = 1, mines = [[0,0]]\n",
    "\n",
    "Output: 0\n",
    "Explanation: There is no plus sign, so return 0.\n",
    " \n",
    "\n",
    "**Constraints:**\n",
    "\n",
    "- 1 <= n <= 500\n",
    "- 1 <= mines.length <= 5000\n",
    "- 0 <= xi, yi < n\n",
    "- All the pairs (xi, yi) are unique."
   ]
  },
  {
   "cell_type": "code",
   "execution_count": 1,
   "id": "6862f85c",
   "metadata": {},
   "outputs": [],
   "source": [
    "def orderOfLargestPlusSign(n, mines):\n",
    "    # Initialize grid with 1's\n",
    "    grid = [[1] * n for _ in range(n)]\n",
    "    \n",
    "    # Set mines to 0\n",
    "    for mine in mines:\n",
    "        grid[mine[0]][mine[1]] = 0\n",
    "    \n",
    "    # Initialize arrays for directions\n",
    "    up = [[0] * n for _ in range(n)]\n",
    "    down = [[0] * n for _ in range(n)]\n",
    "    left = [[0] * n for _ in range(n)]\n",
    "    right = [[0] * n for _ in range(n)]\n",
    "    \n",
    "    # Calculate up and left arrays\n",
    "    for i in range(n):\n",
    "        for j in range(n):\n",
    "            if grid[i][j] == 1:\n",
    "                up[i][j] = up[i-1][j] + 1 if i > 0 else 1\n",
    "                left[i][j] = left[i][j-1] + 1 if j > 0 else 1\n",
    "    \n",
    "    # Calculate down and right arrays\n",
    "    for i in range(n-1, -1, -1):\n",
    "        for j in range(n-1, -1, -1):\n",
    "            if grid[i][j] == 1:\n",
    "                down[i][j] = down[i+1][j] + 1 if i < n-1 else 1\n",
    "                right[i][j] = right[i][j+1] + 1 if j < n-1 else 1\n",
    "    \n",
    "    # Find the order of the largest plus sign\n",
    "    max_order = 0\n",
    "    for i in range(n):\n",
    "        for j in range(n):\n",
    "            if grid[i][j] == 1:\n",
    "                order = min(up[i][j], down[i][j], left[i][j], right[i][j])\n",
    "                max_order = max(max_order, order)\n",
    "    \n",
    "    return max_order"
   ]
  },
  {
   "cell_type": "code",
   "execution_count": 2,
   "id": "f3a011cc",
   "metadata": {},
   "outputs": [
    {
     "name": "stdout",
     "output_type": "stream",
     "text": [
      "2\n"
     ]
    }
   ],
   "source": [
    "n = 5\n",
    "mines = [[4, 2]]\n",
    "print(orderOfLargestPlusSign(n, mines))  # Output: 2"
   ]
  }
 ],
 "metadata": {
  "kernelspec": {
   "display_name": "Python 3",
   "language": "python",
   "name": "python3"
  },
  "language_info": {
   "codemirror_mode": {
    "name": "ipython",
    "version": 3
   },
   "file_extension": ".py",
   "mimetype": "text/x-python",
   "name": "python",
   "nbconvert_exporter": "python",
   "pygments_lexer": "ipython3",
   "version": "3.9.13"
  }
 },
 "nbformat": 4,
 "nbformat_minor": 5
}
