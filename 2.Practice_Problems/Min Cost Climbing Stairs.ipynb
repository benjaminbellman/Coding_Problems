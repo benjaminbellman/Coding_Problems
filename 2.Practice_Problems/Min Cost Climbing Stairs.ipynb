{
 "cells": [
  {
   "cell_type": "markdown",
   "id": "913aa395",
   "metadata": {},
   "source": [
    "# Min Cost Climbing Stairs"
   ]
  },
  {
   "cell_type": "markdown",
   "id": "b40c4b6d",
   "metadata": {},
   "source": [
    "You are given an integer array cost where cost[i] is the cost of ith step on a staircase. Once you pay the cost, you can either climb one or two steps.\n",
    "\n",
    "You can either start from the step with index 0, or the step with index 1.\n",
    "\n",
    "Return the minimum cost to reach the top of the floor.\n",
    "\n",
    " \n",
    "\n",
    "**Example 1:**\n",
    "\n",
    "Input: cost = [10,15,20]\n",
    "\n",
    "Output: 15\n",
    "\n",
    "Explanation: You will start at index 1.\n",
    "- Pay 15 and climb two steps to reach the top.\n",
    "The total cost is 15.\n",
    "\n",
    "**Example 2:**\n",
    "\n",
    "Input: cost = [1,100,1,1,1,100,1,1,100,1]\n",
    "\n",
    "Output: 6\n",
    "Explanation: You will start at index 0.\n",
    "- Pay 1 and climb two steps to reach index 2.\n",
    "- Pay 1 and climb two steps to reach index 4.\n",
    "- Pay 1 and climb two steps to reach index 6.\n",
    "- Pay 1 and climb one step to reach index 7.\n",
    "- Pay 1 and climb two steps to reach index 9.\n",
    "- Pay 1 and climb one step to reach the top.\n",
    "\n",
    "The total cost is 6.\n",
    " \n",
    "\n",
    "**Constraints:**\n",
    "\n",
    "- 2 <= cost.length <= 1000\n",
    "- 0 <= cost[i] <= 999"
   ]
  },
  {
   "cell_type": "code",
   "execution_count": 1,
   "id": "0bb192b5",
   "metadata": {},
   "outputs": [
    {
     "name": "stdout",
     "output_type": "stream",
     "text": [
      "15\n",
      "6\n"
     ]
    }
   ],
   "source": [
    "def minCostClimbingStairs(cost):\n",
    "    n = len(cost)\n",
    "    dp = [0] * (n + 1)\n",
    "    \n",
    "    # Initialize dp array with costs of the first two steps\n",
    "    dp[0], dp[1] = cost[0], cost[1]\n",
    "    \n",
    "    for i in range(2, n + 1):\n",
    "        # Calculate the minimum cost to reach the current step\n",
    "        dp[i] = min(dp[i - 1], dp[i - 2]) + (cost[i] if i < n else 0)\n",
    "    \n",
    "    return dp[n]\n",
    "\n",
    "# Example usage:\n",
    "cost1 = [10, 15, 20]\n",
    "print(minCostClimbingStairs(cost1))  # Output: 15\n",
    "\n",
    "cost2 = [1, 100, 1, 1, 1, 100, 1, 1, 100, 1]\n",
    "print(minCostClimbingStairs(cost2))  # Output: 6"
   ]
  },
  {
   "cell_type": "code",
   "execution_count": null,
   "id": "633a8df5",
   "metadata": {},
   "outputs": [],
   "source": []
  }
 ],
 "metadata": {
  "kernelspec": {
   "display_name": "Python 3",
   "language": "python",
   "name": "python3"
  },
  "language_info": {
   "codemirror_mode": {
    "name": "ipython",
    "version": 3
   },
   "file_extension": ".py",
   "mimetype": "text/x-python",
   "name": "python",
   "nbconvert_exporter": "python",
   "pygments_lexer": "ipython3",
   "version": "3.9.13"
  }
 },
 "nbformat": 4,
 "nbformat_minor": 5
}
