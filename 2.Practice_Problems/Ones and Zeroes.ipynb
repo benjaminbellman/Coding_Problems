{
 "cells": [
  {
   "cell_type": "markdown",
   "id": "851ac023",
   "metadata": {},
   "source": [
    "# Ones and Zeroes"
   ]
  },
  {
   "cell_type": "markdown",
   "id": "72ed36e6",
   "metadata": {},
   "source": [
    "You are given an array of binary strings strs and two integers m and n.\n",
    "\n",
    "Return the size of the largest subset of strs such that there are at most m 0's and n 1's in the subset.\n",
    "\n",
    "A set x is a subset of a set y if all elements of x are also elements of y.\n",
    "\n",
    " \n",
    "\n",
    "**Example 1:**\n",
    "\n",
    "Input: strs = [\"10\",\"0001\",\"111001\",\"1\",\"0\"], m = 5, n = 3\n",
    "Output: 4\n",
    "Explanation: The largest subset with at most 5 0's and 3 1's is {\"10\", \"0001\", \"1\", \"0\"}, so the answer is 4.\n",
    "Other valid but smaller subsets include {\"0001\", \"1\"} and {\"10\", \"1\", \"0\"}.\n",
    "{\"111001\"} is an invalid subset because it contains 4 1's, greater than the maximum of 3.\n",
    "\n",
    "**Example 2:**\n",
    "\n",
    "Input: strs = [\"10\",\"0\",\"1\"], m = 1, n = 1\n",
    "Output: 2\n",
    "Explanation: The largest subset is {\"0\", \"1\"}, so the answer is 2.\n",
    " \n",
    "\n",
    "**Constraints:**\n",
    "\n",
    "- 1 <= strs.length <= 600\n",
    "- 1 <= strs[i].length <= 100\n",
    "- strs[i] consists only of digits '0' and '1'.\n",
    "- 1 <= m, n <= 100"
   ]
  },
  {
   "cell_type": "code",
   "execution_count": 1,
   "id": "a1ea20d8",
   "metadata": {},
   "outputs": [
    {
     "name": "stdout",
     "output_type": "stream",
     "text": [
      "4\n",
      "2\n"
     ]
    }
   ],
   "source": [
    "def findMaxForm(strs, m, n):\n",
    "    dp = [[[0] * (n + 1) for _ in range(m + 1)] for _ in range(len(strs) + 1)]\n",
    "    \n",
    "    for i in range(1, len(strs) + 1):\n",
    "        zeros = strs[i - 1].count('0')\n",
    "        ones = strs[i - 1].count('1')\n",
    "        \n",
    "        for j in range(m + 1):\n",
    "            for k in range(n + 1):\n",
    "                dp[i][j][k] = dp[i-1][j][k]  # Not including strs[i-1]\n",
    "                if j >= zeros and k >= ones:\n",
    "                    dp[i][j][k] = max(dp[i][j][k], dp[i-1][j-zeros][k-ones] + 1)  # Including strs[i-1]\n",
    "    \n",
    "    return dp[-1][-1][-1]\n",
    "\n",
    "# Example 1\n",
    "print(findMaxForm([\"10\", \"0001\", \"111001\", \"1\", \"0\"], 5, 3))  # Output: 4\n",
    "\n",
    "# Example 2\n",
    "print(findMaxForm([\"10\", \"0\", \"1\"], 1, 1))  # Output: 2"
   ]
  }
 ],
 "metadata": {
  "kernelspec": {
   "display_name": "Python 3",
   "language": "python",
   "name": "python3"
  },
  "language_info": {
   "codemirror_mode": {
    "name": "ipython",
    "version": 3
   },
   "file_extension": ".py",
   "mimetype": "text/x-python",
   "name": "python",
   "nbconvert_exporter": "python",
   "pygments_lexer": "ipython3",
   "version": "3.9.13"
  }
 },
 "nbformat": 4,
 "nbformat_minor": 5
}
