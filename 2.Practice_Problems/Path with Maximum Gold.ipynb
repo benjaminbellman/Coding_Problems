{
 "cells": [
  {
   "cell_type": "markdown",
   "id": "1641eda8",
   "metadata": {},
   "source": [
    "# Path with Maximum Gold"
   ]
  },
  {
   "cell_type": "markdown",
   "id": "3d1929d1",
   "metadata": {},
   "source": [
    "In a gold mine grid of size m x n, each cell in this mine has an integer representing the amount of gold in that cell, 0 if it is empty.\n",
    "\n",
    "Return the maximum amount of gold you can collect under the conditions:\n",
    "\n",
    "Every time you are located in a cell you will collect all the gold in that cell.\n",
    "From your position, you can walk one step to the left, right, up, or down.\n",
    "You can't visit the same cell more than once.\n",
    "Never visit a cell with 0 gold.\n",
    "You can start and stop collecting gold from any position in the grid that has some gold.\n",
    " \n",
    "**Example 1:**\n",
    "\n",
    "Input: grid = [[0,6,0],[5,8,7],[0,9,0]]\n",
    "Output: 24\n",
    "Explanation:\n",
    "[[0,6,0],\n",
    " [5,8,7],\n",
    " [0,9,0]]\n",
    "Path to get the maximum gold, 9 -> 8 -> 7.\n",
    "\n",
    "**Example 2:**\n",
    "\n",
    "Input: grid = [[1,0,7],[2,0,6],[3,4,5],[0,3,0],[9,0,20]]\n",
    "Output: 28\n",
    "Explanation:\n",
    "[[1,0,7],\n",
    " [2,0,6],\n",
    " [3,4,5],\n",
    " [0,3,0],\n",
    " [9,0,20]]\n",
    "Path to get the maximum gold, 1 -> 2 -> 3 -> 4 -> 5 -> 6 -> 7.\n",
    " \n",
    "**Constraints:**\n",
    "\n",
    "- m == grid.length\n",
    "- n == grid[i].length\n",
    "- 1 <= m, n <= 15\n",
    "- 0 <= grid[i][j] <= 100\n",
    "- There are at most 25 cells containing gold."
   ]
  },
  {
   "cell_type": "code",
   "execution_count": 1,
   "id": "60aae60a",
   "metadata": {},
   "outputs": [],
   "source": [
    "def getMaximumGold(grid):\n",
    "    m, n = len(grid), len(grid[0])\n",
    "    max_gold = 0\n",
    "\n",
    "    def dfs(x, y):\n",
    "        if x < 0 or x >= m or y < 0 or y >= n or grid[x][y] == 0:\n",
    "            return 0\n",
    "        \n",
    "        gold = grid[x][y]\n",
    "        grid[x][y] = 0  # mark as visited\n",
    "        \n",
    "        # explore in all 4 directions\n",
    "        up = dfs(x - 1, y)\n",
    "        down = dfs(x + 1, y)\n",
    "        left = dfs(x, y - 1)\n",
    "        right = dfs(x, y + 1)\n",
    "\n",
    "        grid[x][y] = gold  # backtrack\n",
    "        return gold + max(up, down, left, right)\n",
    "\n",
    "    for i in range(m):\n",
    "        for j in range(n):\n",
    "            if grid[i][j] > 0:\n",
    "                max_gold = max(max_gold, dfs(i, j))\n",
    "    \n",
    "    return max_gold"
   ]
  }
 ],
 "metadata": {
  "kernelspec": {
   "display_name": "Python 3 (ipykernel)",
   "language": "python",
   "name": "python3"
  },
  "language_info": {
   "codemirror_mode": {
    "name": "ipython",
    "version": 3
   },
   "file_extension": ".py",
   "mimetype": "text/x-python",
   "name": "python",
   "nbconvert_exporter": "python",
   "pygments_lexer": "ipython3",
   "version": "3.8.11"
  }
 },
 "nbformat": 4,
 "nbformat_minor": 5
}
