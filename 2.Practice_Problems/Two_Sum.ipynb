{
 "cells": [
  {
   "cell_type": "markdown",
   "id": "9ec7bcbe",
   "metadata": {},
   "source": [
    "Given an array of integers nums and an integer target, return indices of the two numbers such that they add up to target.\n",
    "\n",
    "You may assume that each input would have exactly one solution, and you may not use the same element twice.\n",
    "\n",
    "You can return the answer in any order.\n",
    "\n",
    " \n",
    "\n",
    "Example 1:\n",
    "\n",
    "Input: nums = [2,7,11,15], target = 9\n",
    "Output: [0,1]\n",
    "Explanation: Because nums[0] + nums[1] == 9, we return [0, 1].\n",
    "Example 2:\n",
    "\n",
    "Input: nums = [3,2,4], target = 6\n",
    "Output: [1,2]\n",
    "Example 3:\n",
    "\n",
    "Input: nums = [3,3], target = 6\n",
    "Output: [0,1]"
   ]
  },
  {
   "cell_type": "code",
   "execution_count": 12,
   "id": "87237757",
   "metadata": {},
   "outputs": [
    {
     "data": {
      "text/plain": [
       "(1, 2)"
      ]
     },
     "execution_count": 12,
     "metadata": {},
     "output_type": "execute_result"
    }
   ],
   "source": [
    "nums = [2,7,11,15]\n",
    "target =  18 \n",
    "\n",
    "def two_Sum(nums,target):\n",
    "    for i, number in enumerate(nums): \n",
    "        if nums[i] + nums[i+1] == target:\n",
    "            return i, i+1\n",
    "        \n",
    "two_Sum(nums,target)\n",
    "    "
   ]
  },
  {
   "cell_type": "code",
   "execution_count": 45,
   "id": "b9ac2a87",
   "metadata": {},
   "outputs": [],
   "source": [
    "nums = [3,2,3,6,7]\n",
    "target =  8 \n",
    "\n",
    "def twoSum(nums, target):\n",
    "        for i, number in enumerate(nums): \n",
    "            if number[i] + number[i+1] == target:\n",
    "                return i, i+1"
   ]
  },
  {
   "cell_type": "code",
   "execution_count": 105,
   "id": "157b8201",
   "metadata": {},
   "outputs": [
    {
     "data": {
      "text/plain": [
       "False"
      ]
     },
     "execution_count": 105,
     "metadata": {},
     "output_type": "execute_result"
    }
   ],
   "source": [
    "nums = [3,2,3,6,7]\n",
    "nums2 = [2,7,11,15]\n",
    "\n",
    "target =  8\n",
    "target2 =  9\n",
    "\n",
    "def two_Sum (nums, target):\n",
    "    for index, number in enumerate(nums):\n",
    "        if nums[index] + nums[index+1] == target:\n",
    "            return index, index + 1\n",
    "        else: \n",
    "            return False\n",
    "\n",
    "two_Sum(nums,target)"
   ]
  },
  {
   "cell_type": "code",
   "execution_count": 164,
   "id": "62cdaa9a",
   "metadata": {},
   "outputs": [
    {
     "name": "stdout",
     "output_type": "stream",
     "text": [
      "[5, 6, 9, 10]\n"
     ]
    }
   ],
   "source": [
    "nums = [3,2,3,6,7]\n",
    "target =  8 \n",
    "\n",
    "list_1 = []\n",
    "list_2 = []\n",
    "counter = 1\n",
    "\n",
    "for index, number in enumerate(nums):\n",
    "    while counter < len(nums):\n",
    "        list_2.append(nums[index] + nums[counter])\n",
    "        counter +=1\n",
    "    \n",
    "print(list_2)"
   ]
  },
  {
   "cell_type": "code",
   "execution_count": null,
   "id": "d6e24324",
   "metadata": {},
   "outputs": [],
   "source": []
  }
 ],
 "metadata": {
  "kernelspec": {
   "display_name": "Python 3 (ipykernel)",
   "language": "python",
   "name": "python3"
  },
  "language_info": {
   "codemirror_mode": {
    "name": "ipython",
    "version": 3
   },
   "file_extension": ".py",
   "mimetype": "text/x-python",
   "name": "python",
   "nbconvert_exporter": "python",
   "pygments_lexer": "ipython3",
   "version": "3.9.10"
  }
 },
 "nbformat": 4,
 "nbformat_minor": 5
}
