{
 "cells": [
  {
   "cell_type": "markdown",
   "id": "920a8df1",
   "metadata": {},
   "source": [
    "# Bitwise AND of Numbers Range"
   ]
  },
  {
   "cell_type": "markdown",
   "id": "e1162b57",
   "metadata": {},
   "source": [
    "Given two integers left and right that represent the range [left, right], return the bitwise AND of all numbers in this range, inclusive.\n",
    "\n",
    " \n",
    "\n",
    "**Example 1:**\n",
    "\n",
    "Input: left = 5, right = 7\n",
    "Output: 4\n",
    "\n",
    "**Example 2:**\n",
    "\n",
    "Input: left = 0, right = 0\n",
    "Output: 0\n",
    "\n",
    "**Example 3:**\n",
    "\n",
    "Input: left = 1, right = 2147483647\n",
    "Output: 0\n",
    " \n",
    "\n",
    "**Constraints:**\n",
    "\n",
    "0 <= left <= right <= 231 - 1"
   ]
  },
  {
   "cell_type": "code",
   "execution_count": 1,
   "id": "1d0c15d3",
   "metadata": {},
   "outputs": [],
   "source": [
    "class Solution:\n",
    "    def rangeBitwiseAnd(self, left: int, right: int) -> int:\n",
    "        shift = 0\n",
    "        while left != right:\n",
    "            left >>= 1\n",
    "            right >>= 1\n",
    "            shift += 1\n",
    "        return left << shift"
   ]
  },
  {
   "cell_type": "code",
   "execution_count": 2,
   "id": "37f42d51",
   "metadata": {},
   "outputs": [],
   "source": [
    "s = Solution()\n",
    "\n",
    "# Example 1\n",
    "assert s.rangeBitwiseAnd(5, 7) == 4\n",
    "\n",
    "# Example 2\n",
    "assert s.rangeBitwiseAnd(0, 0) == 0\n",
    "\n",
    "# Example 3\n",
    "assert s.rangeBitwiseAnd(1, 2147483647) == 0"
   ]
  }
 ],
 "metadata": {
  "kernelspec": {
   "display_name": "Python 3",
   "language": "python",
   "name": "python3"
  },
  "language_info": {
   "codemirror_mode": {
    "name": "ipython",
    "version": 3
   },
   "file_extension": ".py",
   "mimetype": "text/x-python",
   "name": "python",
   "nbconvert_exporter": "python",
   "pygments_lexer": "ipython3",
   "version": "3.9.13"
  }
 },
 "nbformat": 4,
 "nbformat_minor": 5
}
