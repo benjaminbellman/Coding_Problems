{
 "cells": [
  {
   "cell_type": "markdown",
   "id": "f24b8d6b",
   "metadata": {},
   "source": [
    "# Bag of Tokens"
   ]
  },
  {
   "cell_type": "markdown",
   "id": "794925ee",
   "metadata": {},
   "source": [
    "You start with an initial power of power, an initial score of 0, and a bag of tokens given as an integer array tokens, where each tokens[i] denotes the value of tokeni.\n",
    "\n",
    "Your goal is to maximize the total score by strategically playing these tokens. In one move, you can play an unplayed token in one of the two ways (but not both for the same token):\n",
    "\n",
    "Face-up: If your current power is at least tokens[i], you may play tokeni, losing tokens[i] power and gaining 1 score.\n",
    "Face-down: If your current score is at least 1, you may play tokeni, gaining tokens[i] power and losing 1 score.\n",
    "Return the maximum possible score you can achieve after playing any number of tokens.\n",
    "\n",
    " \n",
    "\n",
    "**Example 1:**\n",
    "\n",
    "Input: tokens = [100], power = 50\n",
    "\n",
    "Output: 0\n",
    "\n",
    "Explanation: Since your score is 0 initially, you cannot play the token face-down. You also cannot play it face-up since your power (50) is less than tokens[0] (100).\n",
    "\n",
    "**Example 2:**\n",
    "\n",
    "Input: tokens = [200,100], power = 150\n",
    "\n",
    "Output: 1\n",
    "\n",
    "Explanation: Play token1 (100) face-up, reducing your power to 50 and increasing your score to 1.\n",
    "\n",
    "There is no need to play token0, since you cannot play it face-up to add to your score. The maximum score achievable is 1.\n",
    "\n",
    "**Example 3:**\n",
    "\n",
    "Input: tokens = [100,200,300,400], power = 200\n",
    "\n",
    "Output: 2\n",
    "\n",
    "Explanation: Play the tokens in this order to get a score of 2:\n",
    "\n",
    "Play token0 (100) face-up, reducing power to 100 and increasing score to 1.\n",
    "Play token3 (400) face-down, increasing power to 500 and reducing score to 0.\n",
    "Play token1 (200) face-up, reducing power to 300 and increasing score to 1.\n",
    "Play token2 (300) face-up, reducing power to 0 and increasing score to 2.\n",
    "The maximum score achievable is 2.\n",
    "\n",
    "**Constraints:**\n",
    "\n",
    "- 0 <= tokens.length <= 1000\n",
    "- 0 <= tokens[i], power < 104\n"
   ]
  },
  {
   "cell_type": "code",
   "execution_count": 1,
   "id": "07ec0369",
   "metadata": {},
   "outputs": [],
   "source": [
    "def bagOfTokensScore(tokens, power):\n",
    "    tokens.sort()  # Sort the tokens to use the smallest for face-up and largest for face-down\n",
    "    i, j = 0, len(tokens) - 1  # Two pointers, one starting at the beginning and the other at the end\n",
    "    score = 0  # Initial score is 0\n",
    "    max_score = 0  # Track the maximum score achieved\n",
    "    \n",
    "    while i <= j:\n",
    "        if power >= tokens[i]:\n",
    "            # Play the token face-up (increase score, lose power)\n",
    "            power -= tokens[i]\n",
    "            score += 1\n",
    "            i += 1\n",
    "            max_score = max(max_score, score)  # Track the maximum score achieved\n",
    "        elif score > 0:\n",
    "            # Play the token face-down (increase power, lose score)\n",
    "            power += tokens[j]\n",
    "            score -= 1\n",
    "            j -= 1\n",
    "        else:\n",
    "            break  # If neither move is possible, break the loop\n",
    "    \n",
    "    return max_score"
   ]
  },
  {
   "cell_type": "code",
   "execution_count": 2,
   "id": "4197951d",
   "metadata": {},
   "outputs": [
    {
     "name": "stdout",
     "output_type": "stream",
     "text": [
      "0\n"
     ]
    }
   ],
   "source": [
    "tokens = [100]\n",
    "power = 50\n",
    "print(bagOfTokensScore(tokens, power))  # Output: 0"
   ]
  },
  {
   "cell_type": "code",
   "execution_count": null,
   "id": "f4ba091e",
   "metadata": {},
   "outputs": [],
   "source": []
  }
 ],
 "metadata": {
  "kernelspec": {
   "display_name": "Python 3 (ipykernel)",
   "language": "python",
   "name": "python3"
  },
  "language_info": {
   "codemirror_mode": {
    "name": "ipython",
    "version": 3
   },
   "file_extension": ".py",
   "mimetype": "text/x-python",
   "name": "python",
   "nbconvert_exporter": "python",
   "pygments_lexer": "ipython3",
   "version": "3.8.11"
  }
 },
 "nbformat": 4,
 "nbformat_minor": 5
}
