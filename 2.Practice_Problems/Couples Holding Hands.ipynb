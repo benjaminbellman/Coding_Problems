{
 "cells": [
  {
   "cell_type": "markdown",
   "id": "94c37bed",
   "metadata": {},
   "source": [
    "# Couples Holding Hands"
   ]
  },
  {
   "cell_type": "markdown",
   "id": "15bb7e84",
   "metadata": {},
   "source": [
    "There are n couples sitting in 2n seats arranged in a row and want to hold hands.\n",
    "\n",
    "The people and seats are represented by an integer array row where row[i] is the ID of the person sitting in the ith seat. The couples are numbered in order, the first couple being (0, 1), the second couple being (2, 3), and so on with the last couple being (2n - 2, 2n - 1).\n",
    "\n",
    "Return the minimum number of swaps so that every couple is sitting side by side. A swap consists of choosing any two people, then they stand up and switch seats.\n",
    "\n",
    " \n",
    "\n",
    "**Example 1:**\n",
    "\n",
    "Input: row = [0,2,1,3]\n",
    "\n",
    "Output: 1\n",
    "Explanation: We only need to swap the second (row[1]) and third (row[2]) person.\n",
    "\n",
    "**Example 2:**\n",
    "\n",
    "Input: row = [3,2,0,1]\n",
    "\n",
    "Output: 0\n",
    "Explanation: All couples are already seated side by side.\n",
    " \n",
    "\n",
    "**Constraints:**\n",
    "\n",
    "- 2n == row.length\n",
    "- 2 <= n <= 30\n",
    "- n is even.\n",
    "- 0 <= row[i] < 2n\n",
    "- All the elements of row are unique."
   ]
  },
  {
   "cell_type": "code",
   "execution_count": 1,
   "id": "2b4b536e",
   "metadata": {},
   "outputs": [],
   "source": [
    "def minSwapsCouples(row):\n",
    "    n = len(row) // 2\n",
    "    position_map = {}\n",
    "    for i, val in enumerate(row):\n",
    "        position_map[val] = i\n",
    "    \n",
    "    swaps = 0\n",
    "    for i in range(0, len(row), 2):\n",
    "        partner = row[i] ^ 1\n",
    "        if row[i + 1] != partner:\n",
    "            partner_pos = position_map[partner]\n",
    "            row[i + 1], row[partner_pos] = row[partner_pos], row[i + 1]\n",
    "            position_map[row[partner_pos]] = partner_pos\n",
    "            position_map[row[i + 1]] = i + 1\n",
    "            swaps += 1\n",
    "    \n",
    "    return swaps"
   ]
  },
  {
   "cell_type": "code",
   "execution_count": 2,
   "id": "e3904ed1",
   "metadata": {},
   "outputs": [
    {
     "name": "stdout",
     "output_type": "stream",
     "text": [
      "1\n",
      "0\n"
     ]
    }
   ],
   "source": [
    "row = [0, 2, 1, 3]\n",
    "print(minSwapsCouples(row))  # Output: 1\n",
    "\n",
    "row = [3, 2, 0, 1]\n",
    "print(minSwapsCouples(row))  # Output: 0"
   ]
  },
  {
   "cell_type": "code",
   "execution_count": null,
   "id": "84cdce9c",
   "metadata": {},
   "outputs": [],
   "source": []
  }
 ],
 "metadata": {
  "kernelspec": {
   "display_name": "Python 3",
   "language": "python",
   "name": "python3"
  },
  "language_info": {
   "codemirror_mode": {
    "name": "ipython",
    "version": 3
   },
   "file_extension": ".py",
   "mimetype": "text/x-python",
   "name": "python",
   "nbconvert_exporter": "python",
   "pygments_lexer": "ipython3",
   "version": "3.9.13"
  }
 },
 "nbformat": 4,
 "nbformat_minor": 5
}
