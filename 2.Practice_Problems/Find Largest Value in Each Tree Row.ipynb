{
 "cells": [
  {
   "cell_type": "markdown",
   "id": "2e6413a2",
   "metadata": {},
   "source": [
    "# Find Largest Value in Each Tree Row"
   ]
  },
  {
   "cell_type": "markdown",
   "id": "5d7cbf0b",
   "metadata": {},
   "source": [
    "Given the root of a binary tree, return an array of the largest value in each row of the tree (0-indexed).\n",
    "\n",
    " \n",
    "\n",
    "**Example 1:**\n",
    "\n",
    "\n",
    "Input: root = [1,3,2,5,3,null,9]\n",
    "Output: [1,3,9]\n",
    "\n",
    "**Example 2:**\n",
    "\n",
    "Input: root = [1,2,3]\n",
    "Output: [1,3]\n",
    " \n",
    "\n",
    "**Constraints:**\n",
    "\n",
    "- The number of nodes in the tree will be in the range [0, 104].\n",
    "- -231 <= Node.val <= 231 - 1"
   ]
  },
  {
   "cell_type": "code",
   "execution_count": 1,
   "id": "9f4180cf",
   "metadata": {},
   "outputs": [],
   "source": [
    "from collections import deque\n",
    "\n",
    "class TreeNode:\n",
    "    def __init__(self, val=0, left=None, right=None):\n",
    "        self.val = val\n",
    "        self.left = left\n",
    "        self.right = right\n",
    "\n",
    "def largestValues(root):\n",
    "    if not root:\n",
    "        return []\n",
    "    \n",
    "    queue = deque([root])\n",
    "    result = []\n",
    "    \n",
    "    while queue:\n",
    "        level_size = len(queue)\n",
    "        max_value = float('-inf')\n",
    "        \n",
    "        for i in range(level_size):\n",
    "            node = queue.popleft()\n",
    "            max_value = max(max_value, node.val)\n",
    "            \n",
    "            if node.left:\n",
    "                queue.append(node.left)\n",
    "            if node.right:\n",
    "                queue.append(node.right)\n",
    "        \n",
    "        result.append(max_value)\n",
    "    \n",
    "    return result"
   ]
  },
  {
   "cell_type": "code",
   "execution_count": null,
   "id": "408843f6",
   "metadata": {},
   "outputs": [],
   "source": []
  }
 ],
 "metadata": {
  "kernelspec": {
   "display_name": "Python 3",
   "language": "python",
   "name": "python3"
  },
  "language_info": {
   "codemirror_mode": {
    "name": "ipython",
    "version": 3
   },
   "file_extension": ".py",
   "mimetype": "text/x-python",
   "name": "python",
   "nbconvert_exporter": "python",
   "pygments_lexer": "ipython3",
   "version": "3.9.13"
  }
 },
 "nbformat": 4,
 "nbformat_minor": 5
}
