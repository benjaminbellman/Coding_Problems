{
 "cells": [
  {
   "cell_type": "markdown",
   "id": "aab521ab",
   "metadata": {},
   "source": [
    "# Reverse Integer"
   ]
  },
  {
   "cell_type": "markdown",
   "id": "0195cdd6",
   "metadata": {},
   "source": [
    "Given a signed 32-bit integer x, return x with its digits reversed. If reversing x causes the value to go outside the signed 32-bit integer range [-231, 231 - 1], then return 0.\n",
    "\n",
    "Assume the environment does not allow you to store 64-bit integers (signed or unsigned).\n",
    "\n",
    "**Example 1:**\n",
    "\n",
    "Input: x = 123\n",
    "Output: 321\n",
    "\n",
    "**Example 2:**\n",
    "\n",
    "Input: x = -123\n",
    "Output: -321\n",
    "\n",
    "**Example 3:**\n",
    "\n",
    "Input: x = 120\n",
    "Output: 21\n",
    " \n",
    "\n",
    "**Constraints:**\n",
    "\n",
    "- -231 <= x <= 231 - 1"
   ]
  },
  {
   "cell_type": "code",
   "execution_count": 1,
   "id": "d484f081",
   "metadata": {},
   "outputs": [],
   "source": [
    "def reverse(x: int) -> int:\n",
    "    INT_MIN, INT_MAX = -2**31, 2**31 - 1\n",
    "    res = 0\n",
    "    sign = -1 if x < 0 else 1\n",
    "    x = abs(x)\n",
    "    \n",
    "    while x != 0:\n",
    "        digit = x % 10\n",
    "        x //= 10\n",
    "        \n",
    "        # Check for overflow before multiplying and adding\n",
    "        if res > (INT_MAX - digit) // 10:\n",
    "            return 0\n",
    "        \n",
    "        res = res * 10 + digit\n",
    "\n",
    "    return sign * res"
   ]
  },
  {
   "cell_type": "code",
   "execution_count": null,
   "id": "588feecc",
   "metadata": {},
   "outputs": [],
   "source": []
  }
 ],
 "metadata": {
  "kernelspec": {
   "display_name": "Python 3 (ipykernel)",
   "language": "python",
   "name": "python3"
  },
  "language_info": {
   "codemirror_mode": {
    "name": "ipython",
    "version": 3
   },
   "file_extension": ".py",
   "mimetype": "text/x-python",
   "name": "python",
   "nbconvert_exporter": "python",
   "pygments_lexer": "ipython3",
   "version": "3.8.11"
  }
 },
 "nbformat": 4,
 "nbformat_minor": 5
}
