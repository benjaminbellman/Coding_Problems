{
 "cells": [
  {
   "cell_type": "markdown",
   "id": "7cbae146",
   "metadata": {},
   "source": [
    "# Stamping The Sequence"
   ]
  },
  {
   "cell_type": "markdown",
   "id": "09762816",
   "metadata": {},
   "source": [
    "You are given two strings stamp and target. Initially, there is a string s of length target.length with all s[i] == '?'.\n",
    "\n",
    "In one turn, you can place stamp over s and replace every letter in the s with the corresponding letter from stamp.\n",
    "\n",
    "- For example, if stamp = \"abc\" and target = \"abcba\", then s is \"?????\" initially. In one turn you can:\n",
    "    - place stamp at index 0 of s to obtain \"abc??\",\n",
    "    - place stamp at index 1 of s to obtain \"?abc?\", or\n",
    "    - place stamp at index 2 of s to obtain \"??abc\".\n",
    "Note that stamp must be fully contained in the boundaries of s in order to stamp (i.e., you cannot place stamp at index 3 of s).\n",
    "We want to convert s to target using at most 10 * target.length turns.\n",
    "\n",
    "Return an array of the index of the left-most letter being stamped at each turn. If we cannot obtain target from s within 10 * target.length turns, return an empty array.\n",
    "\n",
    "**Example 1:**\n",
    "\n",
    "Input: stamp = \"abc\", target = \"ababc\"\n",
    "Output: [0,2]\n",
    "Explanation: Initially s = \"?????\".\n",
    "- Place stamp at index 0 to get \"abc??\".\n",
    "- Place stamp at index 2 to get \"ababc\".\n",
    "[1,0,2] would also be accepted as an answer, as well as some other answers.\n",
    "\n",
    "**Example 2:**\n",
    "\n",
    "Input: stamp = \"abca\", target = \"aabcaca\"\n",
    "Output: [3,0,1]\n",
    "Explanation: Initially s = \"???????\".\n",
    "- Place stamp at index 3 to get \"???abca\".\n",
    "- Place stamp at index 0 to get \"abcabca\".\n",
    "- Place stamp at index 1 to get \"aabcaca\".\n",
    " \n",
    "**Constraints:**\n",
    "\n",
    "- 1 <= stamp.length <= target.length <= 1000\n",
    "- stamp and target consist of lowercase English letters."
   ]
  },
  {
   "cell_type": "code",
   "execution_count": 1,
   "id": "00224d3f",
   "metadata": {},
   "outputs": [
    {
     "name": "stdout",
     "output_type": "stream",
     "text": [
      "[0, 2]\n",
      "[]\n"
     ]
    }
   ],
   "source": [
    "def movesToStamp(stamp: str, target: str):\n",
    "    m, n = len(stamp), len(target)\n",
    "    target = list(target)\n",
    "    s = ['?'] * n\n",
    "    result = []\n",
    "    made_progress = True\n",
    "    total_stamped = 0\n",
    "    \n",
    "    def can_stamp(start):\n",
    "        # Check if we can stamp the 'stamp' at the 'start' position in target\n",
    "        stamped = False\n",
    "        for i in range(m):\n",
    "            if target[start + i] != '?' and target[start + i] != stamp[i]:\n",
    "                return False\n",
    "            if target[start + i] != '?':\n",
    "                stamped = True\n",
    "        return stamped\n",
    "    \n",
    "    def do_stamp(start):\n",
    "        # Replace the 'target' substring with '?' from 'start' position\n",
    "        for i in range(m):\n",
    "            target[start + i] = '?'\n",
    "    \n",
    "    # Repeat until no further progress can be made\n",
    "    while total_stamped < n and made_progress:\n",
    "        made_progress = False\n",
    "        for i in range(n - m + 1):\n",
    "            if can_stamp(i):\n",
    "                do_stamp(i)\n",
    "                result.append(i)\n",
    "                made_progress = True\n",
    "                total_stamped += m  # We stamped m characters\n",
    "                break  # We stamped once, now start checking again\n",
    "        # If no new stamp was placed in this iteration, terminate.\n",
    "    \n",
    "    # If the entire target is replaced by '?', we're done\n",
    "    if target == ['?'] * n:\n",
    "        return result[::-1]  # Reverse because we are unstamping\n",
    "    return []  # Not possible\n",
    "\n",
    "# Example usage:\n",
    "stamp = \"abc\"\n",
    "target = \"ababc\"\n",
    "print(movesToStamp(stamp, target))  # Output: [0, 2]\n",
    "\n",
    "stamp = \"abca\"\n",
    "target = \"aabcaca\"\n",
    "print(movesToStamp(stamp, target))  # Output: [3, 0, 1]"
   ]
  },
  {
   "cell_type": "code",
   "execution_count": null,
   "id": "2024a63e",
   "metadata": {},
   "outputs": [],
   "source": []
  }
 ],
 "metadata": {
  "kernelspec": {
   "display_name": "Python 3 (ipykernel)",
   "language": "python",
   "name": "python3"
  },
  "language_info": {
   "codemirror_mode": {
    "name": "ipython",
    "version": 3
   },
   "file_extension": ".py",
   "mimetype": "text/x-python",
   "name": "python",
   "nbconvert_exporter": "python",
   "pygments_lexer": "ipython3",
   "version": "3.8.11"
  }
 },
 "nbformat": 4,
 "nbformat_minor": 5
}
