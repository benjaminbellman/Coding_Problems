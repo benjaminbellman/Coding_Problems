{
 "cells": [
  {
   "cell_type": "markdown",
   "id": "07b8f637",
   "metadata": {},
   "source": [
    "# Multiply Strings"
   ]
  },
  {
   "cell_type": "markdown",
   "id": "21861489",
   "metadata": {},
   "source": [
    "Given two non-negative integers num1 and num2 represented as strings, return the product of num1 and num2, also represented as a string.\n",
    "\n",
    "Note: You must not use any built-in BigInteger library or convert the inputs to integer directly.\n",
    "\n",
    " \n",
    "\n",
    "**Example 1:**\n",
    "\n",
    "Input: num1 = \"2\", num2 = \"3\"\n",
    "Output: \"6\"\n",
    "\n",
    "**Example 2:**\n",
    "\n",
    "Input: num1 = \"123\", num2 = \"456\"\n",
    "Output: \"56088\"\n",
    " \n",
    "\n",
    "**Constraints:**\n",
    "\n",
    "1 <= num1.length, num2.length <= 200\n",
    "num1 and num2 consist of digits only.\n",
    "Both num1 and num2 do not contain any leading zero, except the number 0 itself."
   ]
  },
  {
   "cell_type": "code",
   "execution_count": 1,
   "id": "6e7bb37f",
   "metadata": {},
   "outputs": [],
   "source": [
    "def multiply(num1, num2):\n",
    "    # Initialize result to 0\n",
    "    result = [0] * (len(num1) + len(num2))\n",
    "    # Iterate through each digit in num1\n",
    "    for i in range(len(num1) - 1, -1, -1):\n",
    "        # Iterate through each digit in num2\n",
    "        for j in range(len(num2) - 1, -1, -1):\n",
    "            # Multiply the digits and add to the result\n",
    "            result[i + j + 1] += int(num1[i]) * int(num2[j])\n",
    "            # Carry the remainder to the next position\n",
    "            result[i + j] += result[i + j + 1] // 10\n",
    "            result[i + j + 1] %= 10\n",
    "    # Remove leading zeros from the result\n",
    "    result = result[next((i for i, x in enumerate(result) if x != 0), len(result)):] or [0]\n",
    "    # Return the result as a string\n",
    "    return \"\".join(map(str, result))\n"
   ]
  },
  {
   "cell_type": "markdown",
   "id": "4fa7609f",
   "metadata": {},
   "source": [
    "This solution has a time complexity of O(n^2), where n is the length of the longer of the two input strings. This is because we are iterating through both input strings and performing a multiplication operation on each pair of digits.\n",
    "\n",
    "I hope this helps! Let me know if you have any questions."
   ]
  },
  {
   "cell_type": "code",
   "execution_count": null,
   "id": "a4b002a4",
   "metadata": {},
   "outputs": [],
   "source": []
  }
 ],
 "metadata": {
  "kernelspec": {
   "display_name": "Python 3",
   "language": "python",
   "name": "python3"
  },
  "language_info": {
   "codemirror_mode": {
    "name": "ipython",
    "version": 3
   },
   "file_extension": ".py",
   "mimetype": "text/x-python",
   "name": "python",
   "nbconvert_exporter": "python",
   "pygments_lexer": "ipython3",
   "version": "3.9.13"
  }
 },
 "nbformat": 4,
 "nbformat_minor": 5
}
