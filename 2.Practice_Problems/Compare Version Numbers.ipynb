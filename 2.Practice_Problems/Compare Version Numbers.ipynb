{
 "cells": [
  {
   "cell_type": "markdown",
   "id": "f0205f24",
   "metadata": {},
   "source": [
    "# Compare Version Numbers"
   ]
  },
  {
   "cell_type": "markdown",
   "id": "3a29238a",
   "metadata": {},
   "source": [
    "Given two version numbers, version1 and version2, compare them.\n",
    "\n",
    "Version numbers consist of one or more revisions joined by a dot '.'. Each revision consists of digits and may contain leading zeros. Every revision contains at least one character. Revisions are 0-indexed from left to right, with the leftmost revision being revision 0, the next revision being revision 1, and so on. For example 2.5.33 and 0.1 are valid version numbers.\n",
    "\n",
    "To compare version numbers, compare their revisions in left-to-right order. Revisions are compared using their integer value ignoring any leading zeros. This means that revisions 1 and 001 are considered equal. If a version number does not specify a revision at an index, then treat the revision as 0. For example, version 1.0 is less than version 1.1 because their revision 0s are the same, but their revision 1s are 0 and 1 respectively, and 0 < 1.\n",
    "\n",
    "Return the following:\n",
    "\n",
    "If version1 < version2, return -1.\n",
    "If version1 > version2, return 1.\n",
    "Otherwise, return 0.\n",
    " \n",
    "\n",
    "**Example 1:**\n",
    "\n",
    "Input: version1 = \"1.01\", version2 = \"1.001\"\n",
    "Output: 0\n",
    "Explanation: Ignoring leading zeroes, both \"01\" and \"001\" represent the same integer \"1\".\n",
    "\n",
    "**Example 2:**\n",
    "\n",
    "Input: version1 = \"1.0\", version2 = \"1.0.0\"\n",
    "Output: 0\n",
    "Explanation: version1 does not specify revision 2, which means it is treated as \"0\".\n",
    "\n",
    "**Example 3:**\n",
    "\n",
    "Input: version1 = \"0.1\", version2 = \"1.1\"\n",
    "Output: -1\n",
    "Explanation: version1's revision 0 is \"0\", while version2's revision 0 is \"1\". 0 < 1, so version1 < version2.\n",
    " \n",
    "\n",
    "**Constraints:**\n",
    "\n",
    "1 <= version1.length, version2.length <= 500\n",
    "version1 and version2 only contain digits and '.'.\n",
    "version1 and version2 are valid version numbers.\n",
    "All the given revisions in version1 and version2 can be stored in a 32-bit integer."
   ]
  },
  {
   "cell_type": "code",
   "execution_count": 1,
   "id": "1dd88425",
   "metadata": {},
   "outputs": [],
   "source": [
    "def compareVersion(version1: str, version2: str) -> int:\n",
    "    # Split the version strings into arrays of revisions\n",
    "    rev1 = version1.split('.')\n",
    "    rev2 = version2.split('.')\n",
    "    \n",
    "    # Calculate the maximum number of revisions in both version strings\n",
    "    max_rev = max(len(rev1), len(rev2))\n",
    "    \n",
    "    # Compare the revisions of both version strings\n",
    "    for i in range(max_rev):\n",
    "        v1 = int(rev1[i]) if i < len(rev1) else 0\n",
    "        v2 = int(rev2[i]) if i < len(rev2) else 0\n",
    "        if v1 < v2:\n",
    "            return -1\n",
    "        elif v1 > v2:\n",
    "            return 1\n",
    "    \n",
    "    # If all revisions are equal, return 0\n",
    "    return 0"
   ]
  },
  {
   "cell_type": "code",
   "execution_count": 2,
   "id": "93161094",
   "metadata": {},
   "outputs": [
    {
     "name": "stdout",
     "output_type": "stream",
     "text": [
      "0\n",
      "0\n",
      "-1\n"
     ]
    }
   ],
   "source": [
    "print(compareVersion(\"1.01\", \"1.001\")) # Expected output: 0\n",
    "print(compareVersion(\"1.0\", \"1.0.0\")) # Expected output: 0\n",
    "print(compareVersion(\"0.1\", \"1.1\")) # Expected output: -1"
   ]
  },
  {
   "cell_type": "code",
   "execution_count": null,
   "id": "18bf4cff",
   "metadata": {},
   "outputs": [],
   "source": []
  }
 ],
 "metadata": {
  "kernelspec": {
   "display_name": "Python 3",
   "language": "python",
   "name": "python3"
  },
  "language_info": {
   "codemirror_mode": {
    "name": "ipython",
    "version": 3
   },
   "file_extension": ".py",
   "mimetype": "text/x-python",
   "name": "python",
   "nbconvert_exporter": "python",
   "pygments_lexer": "ipython3",
   "version": "3.9.13"
  }
 },
 "nbformat": 4,
 "nbformat_minor": 5
}
