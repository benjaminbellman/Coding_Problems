{
 "cells": [
  {
   "cell_type": "markdown",
   "id": "961d9d1f",
   "metadata": {},
   "source": [
    "#  Island Perimeter"
   ]
  },
  {
   "attachments": {
    "image.png": {
     "image/png": "[encoded data removed]"
    }
   },
   "cell_type": "markdown",
   "id": "66f2d55d",
   "metadata": {},
   "source": [
    "You are given row x col grid representing a map where grid[i][j] = 1 represents land and grid[i][j] = 0 represents water.\n",
    "\n",
    "Grid cells are connected horizontally/vertically (not diagonally). The grid is completely surrounded by water, and there is exactly one island (i.e., one or more connected land cells).\n",
    "\n",
    "The island doesn't have \"lakes\", meaning the water inside isn't connected to the water around the island. One cell is a square with side length 1. The grid is rectangular, width and height don't exceed 100. Determine the perimeter of the island.\n",
    "\n",
    " \n",
    "\n",
    "**Example 1:**\n",
    "![image.png](attachment:image.png)\n",
    "\n",
    "Input: grid = [[0,1,0,0],[1,1,1,0],[0,1,0,0],[1,1,0,0]]\n",
    "Output: 16\n",
    "Explanation: The perimeter is the 16 yellow stripes in the image above.\n",
    "\n",
    "**Example 2:**\n",
    "\n",
    "Input: grid = [[1]]\n",
    "Output: 4\n",
    "\n",
    "**Example 3:**\n",
    "\n",
    "Input: grid = [[1,0]]\n",
    "Output: 4\n",
    " \n",
    "\n",
    "Constraints:\n",
    "\n",
    "- row == grid.length\n",
    "- col == grid[i].length\n",
    "- 1 <= row, col <= 100\n",
    "- grid[i][j] is 0 or 1.\n",
    "- There is exactly one island in grid."
   ]
  },
  {
   "cell_type": "code",
   "execution_count": null,
   "id": "c6c81e77",
   "metadata": {},
   "outputs": [],
   "source": []
  },
  {
   "cell_type": "code",
   "execution_count": null,
   "id": "0394b5cf",
   "metadata": {},
   "outputs": [],
   "source": []
  }
 ],
 "metadata": {
  "kernelspec": {
   "display_name": "Python 3",
   "language": "python",
   "name": "python3"
  },
  "language_info": {
   "codemirror_mode": {
    "name": "ipython",
    "version": 3
   },
   "file_extension": ".py",
   "mimetype": "text/x-python",
   "name": "python",
   "nbconvert_exporter": "python",
   "pygments_lexer": "ipython3",
   "version": "3.9.13"
  }
 },
 "nbformat": 4,
 "nbformat_minor": 5
}
