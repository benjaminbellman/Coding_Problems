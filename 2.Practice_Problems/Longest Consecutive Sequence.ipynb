{
 "cells": [
  {
   "cell_type": "markdown",
   "id": "aa5afc4e",
   "metadata": {},
   "source": [
    "# Longest Consecutive Sequence"
   ]
  },
  {
   "cell_type": "markdown",
   "id": "d17531fa",
   "metadata": {},
   "source": [
    "Given an unsorted array of integers nums, return the length of the longest consecutive elements sequence.\n",
    "\n",
    "You must write an algorithm that runs in O(n) time.\n",
    "\n",
    "**Example 1:**\n",
    "\n",
    "Input: nums = [100,4,200,1,3,2]\n",
    "Output: 4\n",
    "Explanation: The longest consecutive elements sequence is [1, 2, 3, 4]. Therefore its length is 4.\n",
    "\n",
    "**Example 2:**\n",
    "\n",
    "Input: nums = [0,3,7,2,5,8,4,6,0,1]\n",
    "Output: 9\n",
    "\n",
    "**Example 3:**\n",
    "\n",
    "Input: nums = [1,0,1,2]\n",
    "Output: 3\n",
    " \n",
    "**Constraints:**\n",
    "\n",
    "- 0 <= nums.length <= 105\n",
    "- -109 <= nums[i] <= 109"
   ]
  },
  {
   "cell_type": "code",
   "execution_count": 1,
   "id": "b5e3a446",
   "metadata": {},
   "outputs": [],
   "source": [
    "def longestConsecutive(nums):\n",
    "    if not nums:\n",
    "        return 0\n",
    "\n",
    "    s = set(nums)\n",
    "    best = 0\n",
    "\n",
    "    for x in s:\n",
    "        if x - 1 not in s:          # start of a sequence\n",
    "            y = x\n",
    "            while y in s:\n",
    "                y += 1\n",
    "            best = max(best, y - x)\n",
    "\n",
    "    return best"
   ]
  },
  {
   "cell_type": "code",
   "execution_count": null,
   "id": "7196b081",
   "metadata": {},
   "outputs": [],
   "source": []
  }
 ],
 "metadata": {
  "kernelspec": {
   "display_name": "Python 3 (ipykernel)",
   "language": "python",
   "name": "python3"
  },
  "language_info": {
   "codemirror_mode": {
    "name": "ipython",
    "version": 3
   },
   "file_extension": ".py",
   "mimetype": "text/x-python",
   "name": "python",
   "nbconvert_exporter": "python",
   "pygments_lexer": "ipython3",
   "version": "3.8.11"
  }
 },
 "nbformat": 4,
 "nbformat_minor": 5
}
