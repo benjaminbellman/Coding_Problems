{
 "cells": [
  {
   "cell_type": "markdown",
   "id": "c23c8c2e",
   "metadata": {},
   "source": [
    "# Pairs of Songs With Total Durations Divisible by 60"
   ]
  },
  {
   "cell_type": "markdown",
   "id": "d6a262da",
   "metadata": {},
   "source": [
    "You are given a list of songs where the ith song has a duration of time[i] seconds.\n",
    "\n",
    "Return the number of pairs of songs for which their total duration in seconds is divisible by 60. Formally, we want the number of indices i, j such that i < j with (time[i] + time[j]) % 60 == 0.\n",
    "\n",
    "**Example 1:**\n",
    "\n",
    "Input: time = [30,20,150,100,40]\n",
    "Output: 3\n",
    "Explanation: Three pairs have a total duration divisible by 60:\n",
    "(time[0] = 30, time[2] = 150): total duration 180\n",
    "(time[1] = 20, time[3] = 100): total duration 120\n",
    "(time[1] = 20, time[4] = 40): total duration 60\n",
    "\n",
    "**Example 2:**\n",
    "\n",
    "Input: time = [60,60,60]\n",
    "Output: 3\n",
    "Explanation: All three pairs have a total duration of 120, which is divisible by 60.\n",
    "\n",
    "**Constraints:**\n",
    "\n",
    "- 1 <= time.length <= 6 * 104\n",
    "- 1 <= time[i] <= 500"
   ]
  },
  {
   "cell_type": "code",
   "execution_count": 1,
   "id": "814fb9e0",
   "metadata": {},
   "outputs": [],
   "source": [
    "def numPairsDivisibleBy60(time):\n",
    "    remainder_counts = [0] * 60\n",
    "    count = 0\n",
    "\n",
    "    for t in time:\n",
    "        remainder = t % 60\n",
    "        # Find the complement remainder (to sum to 60)\n",
    "        complement = (60 - remainder) % 60\n",
    "        # Add the number of songs that can pair with the current song\n",
    "        count += remainder_counts[complement]\n",
    "        # Update the remainder count for the current song\n",
    "        remainder_counts[remainder] += 1\n",
    "\n",
    "    return count"
   ]
  },
  {
   "cell_type": "code",
   "execution_count": null,
   "id": "36807c13",
   "metadata": {},
   "outputs": [],
   "source": []
  }
 ],
 "metadata": {
  "kernelspec": {
   "display_name": "Python 3 (ipykernel)",
   "language": "python",
   "name": "python3"
  },
  "language_info": {
   "codemirror_mode": {
    "name": "ipython",
    "version": 3
   },
   "file_extension": ".py",
   "mimetype": "text/x-python",
   "name": "python",
   "nbconvert_exporter": "python",
   "pygments_lexer": "ipython3",
   "version": "3.8.11"
  }
 },
 "nbformat": 4,
 "nbformat_minor": 5
}
