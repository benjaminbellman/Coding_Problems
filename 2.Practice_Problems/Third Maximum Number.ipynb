{
 "cells": [
  {
   "cell_type": "markdown",
   "id": "6282163b",
   "metadata": {},
   "source": [
    "# Third Maximum Number"
   ]
  },
  {
   "cell_type": "markdown",
   "id": "05413094",
   "metadata": {},
   "source": [
    "Given an integer array nums, return the third distinct maximum number in this array. If the third maximum does not exist, return the maximum number.\n",
    "\n",
    " \n",
    "\n",
    "**Example 1:**\n",
    "\n",
    "Input: nums = [3,2,1]\n",
    "Output: 1\n",
    "Explanation:\n",
    "The first distinct maximum is 3.\n",
    "The second distinct maximum is 2.\n",
    "The third distinct maximum is 1.\n",
    "\n",
    "**Example 2:**\n",
    "\n",
    "Input: nums = [1,2]\n",
    "Output: 2\n",
    "Explanation:\n",
    "The first distinct maximum is 2.\n",
    "The second distinct maximum is 1.\n",
    "The third distinct maximum does not exist, so the maximum (2) is returned instead.\n",
    "\n",
    "**Example 3:**\n",
    "\n",
    "Input: nums = [2,2,3,1]\n",
    "Output: 1\n",
    "Explanation:\n",
    "The first distinct maximum is 3.\n",
    "The second distinct maximum is 2 (both 2's are counted together since they have the same value).\n",
    "The third distinct maximum is 1.\n",
    " \n",
    "\n",
    "**Constraints:**\n",
    "\n",
    "1 <= nums.length <= 104\n",
    "-231 <= nums[i] <= 231 - 1\n",
    " "
   ]
  },
  {
   "cell_type": "code",
   "execution_count": 1,
   "id": "03452757",
   "metadata": {},
   "outputs": [
    {
     "name": "stdout",
     "output_type": "stream",
     "text": [
      "1\n",
      "2\n",
      "1\n"
     ]
    }
   ],
   "source": [
    "def thirdMax(nums):\n",
    "    distinct_nums = list(set(nums))\n",
    "    distinct_nums.sort(reverse=True)\n",
    "    if len(distinct_nums) < 3:\n",
    "        return distinct_nums[0]\n",
    "    else:\n",
    "        return distinct_nums[2]\n",
    "\n",
    "# Test the code with examples provided\n",
    "nums1 = [3, 2, 1]\n",
    "print(thirdMax(nums1))  # Output: 1\n",
    "\n",
    "nums2 = [1, 2]\n",
    "print(thirdMax(nums2))  # Output: 2\n",
    "\n",
    "nums3 = [2, 2, 3, 1]\n",
    "print(thirdMax(nums3))  # Output: 1"
   ]
  }
 ],
 "metadata": {
  "kernelspec": {
   "display_name": "Python 3",
   "language": "python",
   "name": "python3"
  },
  "language_info": {
   "codemirror_mode": {
    "name": "ipython",
    "version": 3
   },
   "file_extension": ".py",
   "mimetype": "text/x-python",
   "name": "python",
   "nbconvert_exporter": "python",
   "pygments_lexer": "ipython3",
   "version": "3.9.13"
  }
 },
 "nbformat": 4,
 "nbformat_minor": 5
}
