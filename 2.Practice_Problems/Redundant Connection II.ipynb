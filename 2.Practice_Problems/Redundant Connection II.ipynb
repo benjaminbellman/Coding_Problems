{
 "cells": [
  {
   "cell_type": "markdown",
   "id": "e40469b0",
   "metadata": {},
   "source": [
    "# Redundant Connection II"
   ]
  },
  {
   "cell_type": "markdown",
   "id": "cd5d97de",
   "metadata": {},
   "source": [
    "In this problem, a rooted tree is a directed graph such that, there is exactly one node (the root) for which all other nodes are descendants of this node, plus every node has exactly one parent, except for the root node which has no parents.\n",
    "\n",
    "The given input is a directed graph that started as a rooted tree with n nodes (with distinct values from 1 to n), with one additional directed edge added. The added edge has two different vertices chosen from 1 to n, and was not an edge that already existed.\n",
    "\n",
    "The resulting graph is given as a 2D-array of edges. Each element of edges is a pair [ui, vi] that represents a directed edge connecting nodes ui and vi, where ui is a parent of child vi.\n",
    "\n",
    "Return an edge that can be removed so that the resulting graph is a rooted tree of n nodes. If there are multiple answers, return the answer that occurs last in the given 2D-array.\n",
    "\n",
    " \n",
    "\n",
    "**Example 1:**\n",
    "\n",
    "\n",
    "Input: edges = [[1,2],[1,3],[2,3]]\n",
    "\n",
    "Output: [2,3]\n",
    "\n",
    "**Example 2:**\n",
    "\n",
    "\n",
    "Input: edges = [[1,2],[2,3],[3,4],[4,1],[1,5]]\n",
    "\n",
    "Output: [4,1]\n",
    " \n",
    "\n",
    "**Constraints:**\n",
    "\n",
    "- n == edges.length\n",
    "- 3 <= n <= 1000\n",
    "- edges[i].length == 2\n",
    "- 1 <= ui, vi <= n\n",
    "- ui != vi"
   ]
  },
  {
   "cell_type": "code",
   "execution_count": 1,
   "id": "e30bfe14",
   "metadata": {},
   "outputs": [
    {
     "name": "stdout",
     "output_type": "stream",
     "text": [
      "[]\n",
      "[]\n"
     ]
    }
   ],
   "source": [
    "def findRootedTreeEdge(edges):\n",
    "    n = len(edges) + 1  # Number of nodes\n",
    "    \n",
    "    # Step 1: Create the graph\n",
    "    graph = [set() for _ in range(n)]\n",
    "    for u, v in edges:\n",
    "        graph[u].add(v)\n",
    "    \n",
    "    # Step 2: Initialize candidates\n",
    "    candidates = list(edges)\n",
    "    \n",
    "    # Step 3: Initialize visited set\n",
    "    visited = set()\n",
    "    \n",
    "    # Step 4: Iterate through edges in reverse order\n",
    "    for i in range(len(edges) - 1, -1, -1):\n",
    "        u, v = edges[i]\n",
    "        \n",
    "        # Remove edge from candidates\n",
    "        candidates.pop()\n",
    "        \n",
    "        # Check if there is a cycle\n",
    "        if not isCyclic(u, v, graph, visited):\n",
    "            # Check if v can be the new root\n",
    "            if canReachAllNodes(v, graph, visited, n):\n",
    "                return [u, v]\n",
    "        \n",
    "        # Add u to visited\n",
    "        visited.add(u)\n",
    "    \n",
    "    # Step 5: No valid edge found\n",
    "    return []\n",
    "\n",
    "def isCyclic(u, v, graph, visited):\n",
    "    visited.add(u)\n",
    "    if u == v:\n",
    "        return True\n",
    "    for neighbor in graph[u]:\n",
    "        if neighbor not in visited and isCyclic(neighbor, v, graph, visited):\n",
    "            return True\n",
    "    visited.remove(u)\n",
    "    return False\n",
    "\n",
    "def canReachAllNodes(node, graph, visited, n):\n",
    "    visited.add(node)\n",
    "    if len(visited) == n:\n",
    "        return True\n",
    "    for neighbor in graph[node]:\n",
    "        if neighbor not in visited:\n",
    "            if canReachAllNodes(neighbor, graph, visited, n):\n",
    "                return True\n",
    "    visited.remove(node)\n",
    "    return False\n",
    "\n",
    "# Test cases\n",
    "edges1 = [[1, 2], [1, 3], [2, 3]]\n",
    "edges2 = [[1, 2], [2, 3], [3, 4], [4, 1], [1, 5]]\n",
    "\n",
    "print(findRootedTreeEdge(edges1))  # Output: [2, 3]\n",
    "print(findRootedTreeEdge(edges2))  # Output: [4, 1]"
   ]
  },
  {
   "cell_type": "code",
   "execution_count": null,
   "id": "9e69038f",
   "metadata": {},
   "outputs": [],
   "source": []
  }
 ],
 "metadata": {
  "kernelspec": {
   "display_name": "Python 3",
   "language": "python",
   "name": "python3"
  },
  "language_info": {
   "codemirror_mode": {
    "name": "ipython",
    "version": 3
   },
   "file_extension": ".py",
   "mimetype": "text/x-python",
   "name": "python",
   "nbconvert_exporter": "python",
   "pygments_lexer": "ipython3",
   "version": "3.9.13"
  }
 },
 "nbformat": 4,
 "nbformat_minor": 5
}
