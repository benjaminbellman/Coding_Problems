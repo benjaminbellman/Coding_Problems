{
 "cells": [
  {
   "cell_type": "markdown",
   "id": "038cf19e",
   "metadata": {},
   "source": [
    "# Gray Code"
   ]
  },
  {
   "cell_type": "markdown",
   "id": "a1b742a9",
   "metadata": {},
   "source": [
    "An n-bit gray code sequence is a sequence of 2n integers where:\n",
    "\n",
    "Every integer is in the inclusive range [0, 2n - 1],\n",
    "The first integer is 0,\n",
    "An integer appears no more than once in the sequence,\n",
    "The binary representation of every pair of adjacent integers differs by exactly one bit, and\n",
    "The binary representation of the first and last integers differs by exactly one bit.\n",
    "Given an integer n, return any valid n-bit gray code sequence.\n",
    "\n",
    " \n",
    "\n",
    "**Example 1:**\n",
    "\n",
    "Input: n = 2\n",
    "Output: [0,1,3,2]\n",
    "Explanation:\n",
    "The binary representation of [0,1,3,2] is [00,01,11,10].\n",
    "- 00 and 01 differ by one bit\n",
    "- 01 and 11 differ by one bit\n",
    "- 11 and 10 differ by one bit\n",
    "- 10 and 00 differ by one bit\n",
    "[0,2,3,1] is also a valid gray code sequence, whose binary representation is [00,10,11,01].\n",
    "- 00 and 10 differ by one bit\n",
    "- 10 and 11 differ by one bit\n",
    "- 11 and 01 differ by one bit\n",
    "- 01 and 00 differ by one bit\n",
    "\n",
    "**Example 2:**\n",
    "\n",
    "Input: n = 1\n",
    "Output: [0,1]\n",
    " \n",
    "\n",
    "**Constraints:**\n",
    "\n",
    "1 <= n <= 16"
   ]
  },
  {
   "cell_type": "code",
   "execution_count": 2,
   "id": "b3b8f56b",
   "metadata": {},
   "outputs": [],
   "source": [
    "def grayCode(n: int) -> list[int]:\n",
    "    result = [0]\n",
    "    for i in range(n):\n",
    "        result += [x + pow(2, i) for x in reversed(result)]\n",
    "    return result"
   ]
  },
  {
   "cell_type": "code",
   "execution_count": 3,
   "id": "0e793c3d",
   "metadata": {},
   "outputs": [],
   "source": [
    "assert grayCode(2) == [0, 1, 3, 2]\n",
    "assert grayCode(1) == [0, 1]"
   ]
  }
 ],
 "metadata": {
  "kernelspec": {
   "display_name": "Python 3",
   "language": "python",
   "name": "python3"
  },
  "language_info": {
   "codemirror_mode": {
    "name": "ipython",
    "version": 3
   },
   "file_extension": ".py",
   "mimetype": "text/x-python",
   "name": "python",
   "nbconvert_exporter": "python",
   "pygments_lexer": "ipython3",
   "version": "3.9.13"
  }
 },
 "nbformat": 4,
 "nbformat_minor": 5
}
