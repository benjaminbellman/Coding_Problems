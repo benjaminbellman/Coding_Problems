{
 "cells": [
  {
   "cell_type": "markdown",
   "id": "e66e8cea",
   "metadata": {},
   "source": [
    "# Masking Personal Information"
   ]
  },
  {
   "cell_type": "markdown",
   "id": "d5065337",
   "metadata": {},
   "source": [
    "You are given a personal information string s, representing either an email address or a phone number. Return the masked personal information using the below rules.\n",
    "\n",
    "**Email address:**\n",
    "\n",
    "An email address is:\n",
    "\n",
    "- A name consisting of uppercase and lowercase English letters, followed by\n",
    "- The '@' symbol, followed by\n",
    "- The domain consisting of uppercase and lowercase English letters with a dot '.' somewhere in the middle (not the first or last - character).\n",
    "\n",
    "To mask an email:\n",
    "\n",
    "- The uppercase letters in the name and domain must be converted to lowercase letters.\n",
    "- The middle letters of the name (i.e., all but the first and last letters) must be replaced by 5 asterisks \"*****\".\n",
    "**Phone number:**\n",
    "\n",
    "- A phone number is formatted as follows:\n",
    "\n",
    "- The phone number contains 10-13 digits.\n",
    "- The last 10 digits make up the local number.\n",
    "- The remaining 0-3 digits, in the beginning, make up the country code.\n",
    "- Separation characters from the set {'+', '-', '(', ')', ' '} separate the above digits in some way.\n",
    "- To mask a phone number:\n",
    "\n",
    "Remove all separation characters.\n",
    "- The masked phone number should have the form:\n",
    "- \"***-***-XXXX\" if the country code has 0 digits.\n",
    "- \"+*-***-***-XXXX\" if the country code has 1 digit.\n",
    "- \"+**-***-***-XXXX\" if the country code has 2 digits.\n",
    "- \"+***-***-***-XXXX\" if the country code has 3 digits.\n",
    "- \"XXXX\" is the last 4 digits of the local number.\n",
    " \n",
    "\n",
    "**Example 1:**\n",
    "\n",
    "Input: s = \"LeetCode@LeetCode.com\"\n",
    "Output: \"l*****e@leetcode.com\"\n",
    "Explanation: s is an email address.\n",
    "The name and domain are converted to lowercase, and the middle of the name is replaced by 5 asterisks.\n",
    "\n",
    "**Example 2:**\n",
    "\n",
    "Input: s = \"AB@qq.com\"\n",
    "Output: \"a*****b@qq.com\"\n",
    "Explanation: s is an email address.\n",
    "The name and domain are converted to lowercase, and the middle of the name is replaced by 5 asterisks.\n",
    "Note that even though \"ab\" is 2 characters, it still must have 5 asterisks in the middle.\n",
    "Example 3:\n",
    "\n",
    "Input: s = \"1(234)567-890\"\n",
    "Output: \"***-***-7890\"\n",
    "Explanation: s is a phone number.\n",
    "There are 10 digits, so the local number is 10 digits and the country code is 0 digits.\n",
    "Thus, the resulting masked number is \"***-***-7890\".\n",
    " \n",
    "\n",
    "**Constraints:**\n",
    "\n",
    "- s is either a valid email or a phone number.\n",
    "- If s is an email:\n",
    "- 8 <= s.length <= 40\n",
    "- s consists of uppercase and lowercase English letters and exactly one '@' symbol and '.' symbol.\n",
    "- If s is a phone number:\n",
    "- 10 <= s.length <= 20\n",
    "- s consists of digits, spaces, and the symbols '(', ')', '-', and '+'."
   ]
  },
  {
   "cell_type": "code",
   "execution_count": 1,
   "id": "4f8ed6f8",
   "metadata": {},
   "outputs": [
    {
     "name": "stdout",
     "output_type": "stream",
     "text": [
      "l*****e@leetcode.com\n",
      "a*****b@qq.com\n",
      "***-***-7890\n"
     ]
    }
   ],
   "source": [
    "def mask_personal_info(s):\n",
    "    if '@' in s:  # Check if s is an email address\n",
    "        name, domain = s.split('@')\n",
    "        masked_name = name[0].lower() + '*' * 5 + name[-1].lower()  # Mask the middle of the name\n",
    "        masked_email = masked_name + '@' + domain.lower()  # Convert name and domain to lowercase\n",
    "        return masked_email\n",
    "    else:  # Assuming s is a phone number\n",
    "        digits = ''.join(filter(str.isdigit, s))  # Remove non-digit characters\n",
    "        local_number = digits[-10:]  # Extract the last 10 digits as the local number\n",
    "        country_code_length = len(digits) - len(local_number)\n",
    "        masked_local_number = \"***-***-\" + local_number[-4:]  # Mask the local number\n",
    "        if country_code_length == 0:\n",
    "            return masked_local_number\n",
    "        elif country_code_length == 1:\n",
    "            return \"+*-***-\" + masked_local_number\n",
    "        elif country_code_length == 2:\n",
    "            return \"+**-***-\" + masked_local_number\n",
    "        elif country_code_length == 3:\n",
    "            return \"+***-***-\" + masked_local_number\n",
    "\n",
    "# Test cases\n",
    "print(mask_personal_info(\"LeetCode@LeetCode.com\"))  # Output: \"l*****e@leetcode.com\"\n",
    "print(mask_personal_info(\"AB@qq.com\"))  # Output: \"a*****b@qq.com\"\n",
    "print(mask_personal_info(\"1(234)567-890\"))  # Output: \"***-***-7890\""
   ]
  },
  {
   "cell_type": "code",
   "execution_count": null,
   "id": "4e1145ea",
   "metadata": {},
   "outputs": [],
   "source": []
  }
 ],
 "metadata": {
  "kernelspec": {
   "display_name": "Python 3",
   "language": "python",
   "name": "python3"
  },
  "language_info": {
   "codemirror_mode": {
    "name": "ipython",
    "version": 3
   },
   "file_extension": ".py",
   "mimetype": "text/x-python",
   "name": "python",
   "nbconvert_exporter": "python",
   "pygments_lexer": "ipython3",
   "version": "3.9.13"
  }
 },
 "nbformat": 4,
 "nbformat_minor": 5
}
