{
 "cells": [
  {
   "cell_type": "markdown",
   "id": "a3223c74",
   "metadata": {},
   "source": [
    "# Push Dominoes"
   ]
  },
  {
   "cell_type": "markdown",
   "id": "29cf0508",
   "metadata": {},
   "source": [
    "There are n dominoes in a line, and we place each domino vertically upright. In the beginning, we simultaneously push some of the dominoes either to the left or to the right.\n",
    "\n",
    "After each second, each domino that is falling to the left pushes the adjacent domino on the left. Similarly, the dominoes falling to the right push their adjacent dominoes standing on the right.\n",
    "\n",
    "When a vertical domino has dominoes falling on it from both sides, it stays still due to the balance of the forces.\n",
    "\n",
    "For the purposes of this question, we will consider that a falling domino expends no additional force to a falling or already fallen domino.\n",
    "\n",
    "You are given a string dominoes representing the initial state where:\n",
    "\n",
    "dominoes[i] = 'L', if the ith domino has been pushed to the left,\n",
    "dominoes[i] = 'R', if the ith domino has been pushed to the right, and\n",
    "dominoes[i] = '.', if the ith domino has not been pushed.\n",
    "Return a string representing the final state.\n",
    "\n",
    "**Example 1:**\n",
    "\n",
    "Input: dominoes = \"RR.L\"\n",
    "Output: \"RR.L\"\n",
    "Explanation: The first domino expends no additional force on the second domino.\n",
    "\n",
    "**Example 2:**\n",
    "\n",
    "Input: dominoes = \".L.R...LR..L..\"\n",
    "Output: \"LL.RR.LLRRLL..\"\n",
    "\n",
    "**Constraints:**\n",
    "- n == dominoes.length\n",
    "- 1 <= n <= 105\n",
    "- dominoes[i] is either 'L', 'R', or '.'."
   ]
  },
  {
   "cell_type": "code",
   "execution_count": 1,
   "id": "b2e65683",
   "metadata": {},
   "outputs": [
    {
     "name": "stdout",
     "output_type": "stream",
     "text": [
      "RR.L\n",
      "LL.RR.LLRRLL..\n"
     ]
    }
   ],
   "source": [
    "def pushDominoes(dominoes):\n",
    "    dominoes = list(dominoes)\n",
    "    n = len(dominoes)\n",
    "    forces = [0] * n\n",
    "    \n",
    "    # Calculate forces to the right\n",
    "    force = 0\n",
    "    for i in range(n):\n",
    "        if dominoes[i] == 'R':\n",
    "            force = n\n",
    "        elif dominoes[i] == 'L':\n",
    "            force = 0\n",
    "        else:\n",
    "            force = max(force - 1, 0)\n",
    "        forces[i] += force\n",
    "    \n",
    "    # Calculate forces to the left\n",
    "    force = 0\n",
    "    for i in range(n - 1, -1, -1):\n",
    "        if dominoes[i] == 'L':\n",
    "            force = n\n",
    "        elif dominoes[i] == 'R':\n",
    "            force = 0\n",
    "        else:\n",
    "            force = max(force - 1, 0)\n",
    "        forces[i] -= force\n",
    "    \n",
    "    # Update dominoes based on forces\n",
    "    for i in range(n):\n",
    "        if forces[i] > 0:\n",
    "            dominoes[i] = 'R'\n",
    "        elif forces[i] < 0:\n",
    "            dominoes[i] = 'L'\n",
    "        else:\n",
    "            dominoes[i] = '.'\n",
    "    \n",
    "    return ''.join(dominoes)\n",
    "\n",
    "# Test cases\n",
    "print(pushDominoes(\"RR.L\"))  # Output: \"RR.L\"\n",
    "print(pushDominoes(\".L.R...LR..L..\"))  # Output: \"LL.RR.LLRRLL..\""
   ]
  },
  {
   "cell_type": "code",
   "execution_count": null,
   "id": "7ecac555",
   "metadata": {},
   "outputs": [],
   "source": []
  }
 ],
 "metadata": {
  "kernelspec": {
   "display_name": "Python 3",
   "language": "python",
   "name": "python3"
  },
  "language_info": {
   "codemirror_mode": {
    "name": "ipython",
    "version": 3
   },
   "file_extension": ".py",
   "mimetype": "text/x-python",
   "name": "python",
   "nbconvert_exporter": "python",
   "pygments_lexer": "ipython3",
   "version": "3.9.13"
  }
 },
 "nbformat": 4,
 "nbformat_minor": 5
}
