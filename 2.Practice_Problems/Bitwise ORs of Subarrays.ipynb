{
 "cells": [
  {
   "cell_type": "markdown",
   "id": "5438d398",
   "metadata": {},
   "source": [
    "# Bitwise ORs of Subarrays"
   ]
  },
  {
   "cell_type": "markdown",
   "id": "61b434ca",
   "metadata": {},
   "source": [
    "Given an integer array arr, return the number of distinct bitwise ORs of all the non-empty subarrays of arr.\n",
    "\n",
    "The bitwise OR of a subarray is the bitwise OR of each integer in the subarray. The bitwise OR of a subarray of one integer is that integer.\n",
    "\n",
    "A subarray is a contiguous non-empty sequence of elements within an array.\n",
    "\n",
    "**Example 1:**\n",
    "\n",
    "Input: arr = [0]\n",
    "Output: 1\n",
    "Explanation: There is only one possible result: 0.\n",
    "\n",
    "**Example 2:**\n",
    "\n",
    "Input: arr = [1,1,2]\n",
    "Output: 3\n",
    "Explanation: The possible subarrays are [1], [1], [2], [1, 1], [1, 2], [1, 1, 2].\n",
    "These yield the results 1, 1, 2, 1, 3, 3.\n",
    "There are 3 unique values, so the answer is 3.\n",
    "\n",
    "**Example 3:**\n",
    "\n",
    "Input: arr = [1,2,4]\n",
    "Output: 6\n",
    "Explanation: The possible results are 1, 2, 3, 4, 6, and 7.\n",
    " \n",
    "**Constraints:**\n",
    "\n",
    "- 1 <= arr.length <= 5 * 104\n",
    "- 0 <= arr[i] <= 109"
   ]
  },
  {
   "cell_type": "code",
   "execution_count": 1,
   "id": "b4d39378",
   "metadata": {},
   "outputs": [
    {
     "name": "stdout",
     "output_type": "stream",
     "text": [
      "1\n",
      "3\n",
      "7\n"
     ]
    }
   ],
   "source": [
    "def countDistinctBitwiseOrs(arr):\n",
    "    # This set will store all unique bitwise OR results\n",
    "    distinct_or_results = set()\n",
    "    \n",
    "    # Iterate through each element in the array\n",
    "    for num in arr:\n",
    "        # Create a temporary set to hold the new OR results for the current element\n",
    "        new_results = set()\n",
    "        # OR the current number with itself (subarray consisting of just this number)\n",
    "        new_results.add(num)\n",
    "        \n",
    "        # For each previously recorded OR result, combine it with the current number\n",
    "        for result in distinct_or_results:\n",
    "            new_results.add(result | num)\n",
    "        \n",
    "        # Add the new results to the distinct OR results\n",
    "        distinct_or_results.update(new_results)\n",
    "    \n",
    "    # The size of the set is the number of distinct OR results\n",
    "    return len(distinct_or_results)\n",
    "\n",
    "# Example usage:\n",
    "print(countDistinctBitwiseOrs([0]))  # Output: 1\n",
    "print(countDistinctBitwiseOrs([1, 1, 2]))  # Output: 3\n",
    "print(countDistinctBitwiseOrs([1, 2, 4]))  # Output: 6"
   ]
  },
  {
   "cell_type": "code",
   "execution_count": null,
   "id": "4d6ba625",
   "metadata": {},
   "outputs": [],
   "source": []
  }
 ],
 "metadata": {
  "kernelspec": {
   "display_name": "Python 3 (ipykernel)",
   "language": "python",
   "name": "python3"
  },
  "language_info": {
   "codemirror_mode": {
    "name": "ipython",
    "version": 3
   },
   "file_extension": ".py",
   "mimetype": "text/x-python",
   "name": "python",
   "nbconvert_exporter": "python",
   "pygments_lexer": "ipython3",
   "version": "3.8.11"
  }
 },
 "nbformat": 4,
 "nbformat_minor": 5
}
