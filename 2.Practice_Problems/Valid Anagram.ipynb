{
 "cells": [
  {
   "cell_type": "markdown",
   "id": "4c6df8e8",
   "metadata": {},
   "source": [
    "# Valid Anagram"
   ]
  },
  {
   "cell_type": "markdown",
   "id": "d9c63647",
   "metadata": {},
   "source": [
    "Given two strings s and t, return true if t is an anagram of s, and false otherwise.\n",
    "\n",
    "An Anagram is a word or phrase formed by rearranging the letters of a different word or phrase, typically using all the original letters exactly once.\n",
    "\n",
    " \n",
    "\n",
    "**Example 1:**\n",
    "\n",
    "Input: s = \"anagram\", t = \"nagaram\"\n",
    "Output: true\n",
    "\n",
    "**Example 2:**\n",
    "\n",
    "Input: s = \"rat\", t = \"car\"\n",
    "Output: false\n",
    " \n",
    "\n",
    "**Constraints:**\n",
    "\n",
    "1 <= s.length, t.length <= 5 * 104\n",
    "s and t consist of lowercase English letters."
   ]
  },
  {
   "cell_type": "code",
   "execution_count": 1,
   "id": "2d544966",
   "metadata": {},
   "outputs": [],
   "source": [
    "def isAnagram(s: str, t: str) -> bool:\n",
    "    # check if lengths of both strings are equal\n",
    "    if len(s) != len(t):\n",
    "        return False\n",
    "    \n",
    "    # initialize frequency count dictionaries for both strings\n",
    "    s_dict = {}\n",
    "    t_dict = {}\n",
    "    \n",
    "    # populate the frequency count dictionary for string s\n",
    "    for char in s:\n",
    "        s_dict[char] = s_dict.get(char, 0) + 1\n",
    "    \n",
    "    # populate the frequency count dictionary for string t\n",
    "    for char in t:\n",
    "        t_dict[char] = t_dict.get(char, 0) + 1\n",
    "    \n",
    "    # check if the frequency count dictionaries are equal\n",
    "    return s_dict == t_dict"
   ]
  },
  {
   "cell_type": "code",
   "execution_count": 3,
   "id": "0f80a995",
   "metadata": {},
   "outputs": [
    {
     "name": "stdout",
     "output_type": "stream",
     "text": [
      "True\n",
      "False\n",
      "True\n"
     ]
    }
   ],
   "source": [
    "print(isAnagram(\"anagram\", \"nagaram\"))  # expected output: True\n",
    "print(isAnagram(\"rat\", \"car\"))  # expected output: False\n",
    "print(isAnagram(\"listen\", \"silent\"))  # expected output: True"
   ]
  },
  {
   "cell_type": "code",
   "execution_count": null,
   "id": "bd3301d0",
   "metadata": {},
   "outputs": [],
   "source": []
  }
 ],
 "metadata": {
  "kernelspec": {
   "display_name": "Python 3",
   "language": "python",
   "name": "python3"
  },
  "language_info": {
   "codemirror_mode": {
    "name": "ipython",
    "version": 3
   },
   "file_extension": ".py",
   "mimetype": "text/x-python",
   "name": "python",
   "nbconvert_exporter": "python",
   "pygments_lexer": "ipython3",
   "version": "3.9.13"
  }
 },
 "nbformat": 4,
 "nbformat_minor": 5
}
