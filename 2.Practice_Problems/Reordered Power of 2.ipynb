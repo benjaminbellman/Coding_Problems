{
 "cells": [
  {
   "cell_type": "markdown",
   "id": "5bb1fafa",
   "metadata": {},
   "source": [
    "# Reordered Power of 2"
   ]
  },
  {
   "cell_type": "markdown",
   "id": "9047fd7a",
   "metadata": {},
   "source": [
    "You are given an integer n. We reorder the digits in any order (including the original order) such that the leading digit is not zero.\n",
    "\n",
    "Return true if and only if we can do this so that the resulting number is a power of two.\n",
    "\n",
    "**Example 1:**\n",
    "\n",
    "Input: n = 1\n",
    "Output: true\n",
    "\n",
    "**Example 2:**\n",
    "\n",
    "Input: n = 10\n",
    "Output: false\n",
    "\n",
    "**Constraints:**\n",
    "\n",
    "- 1 <= n <= 109"
   ]
  },
  {
   "cell_type": "code",
   "execution_count": 1,
   "id": "d6230042",
   "metadata": {},
   "outputs": [
    {
     "name": "stdout",
     "output_type": "stream",
     "text": [
      "True\n",
      "False\n"
     ]
    }
   ],
   "source": [
    "def reorderedPowerOf2(n):\n",
    "    from collections import Counter\n",
    "    \n",
    "    # Convert number to a sorted tuple of its digits\n",
    "    def countDigits(x):\n",
    "        return Counter(str(x))\n",
    "    \n",
    "    # Get the digits of n as a sorted tuple\n",
    "    n_digit_count = countDigits(n)\n",
    "    \n",
    "    # Check powers of 2 up to 2^30\n",
    "    power = 1\n",
    "    for _ in range(31):  # because 2^30 is a bit over 10^9\n",
    "        if countDigits(power) == n_digit_count:\n",
    "            return True\n",
    "        power <<= 1  # multiply by 2\n",
    "    \n",
    "    return False\n",
    "\n",
    "# Examples\n",
    "print(reorderedPowerOf2(1))  # Output: true\n",
    "print(reorderedPowerOf2(10)) # Output: false"
   ]
  },
  {
   "cell_type": "code",
   "execution_count": null,
   "id": "a0f599f5",
   "metadata": {},
   "outputs": [],
   "source": []
  }
 ],
 "metadata": {
  "kernelspec": {
   "display_name": "Python 3 (ipykernel)",
   "language": "python",
   "name": "python3"
  },
  "language_info": {
   "codemirror_mode": {
    "name": "ipython",
    "version": 3
   },
   "file_extension": ".py",
   "mimetype": "text/x-python",
   "name": "python",
   "nbconvert_exporter": "python",
   "pygments_lexer": "ipython3",
   "version": "3.8.11"
  }
 },
 "nbformat": 4,
 "nbformat_minor": 5
}
