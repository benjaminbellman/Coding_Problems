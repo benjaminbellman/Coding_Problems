{
 "cells": [
  {
   "cell_type": "markdown",
   "id": "3d95e9e7",
   "metadata": {},
   "source": [
    "# Ugly Number II"
   ]
  },
  {
   "cell_type": "markdown",
   "id": "01cc638c",
   "metadata": {},
   "source": [
    "An ugly number is a positive integer whose prime factors are limited to 2, 3, and 5.\n",
    "\n",
    "Given an integer n, return the nth ugly number.\n",
    "\n",
    " \n",
    "\n",
    "**Example 1:**\n",
    "\n",
    "Input: n = 10\n",
    "Output: 12\n",
    "Explanation: [1, 2, 3, 4, 5, 6, 8, 9, 10, 12] is the sequence of the first 10 ugly numbers.\n",
    "\n",
    "**Example 2:**\n",
    "\n",
    "Input: n = 1\n",
    "Output: 1\n",
    "Explanation: 1 has no prime factors, therefore all of its prime factors are limited to 2, 3, and 5.\n",
    " \n",
    "\n",
    "**Constraints:**\n",
    "\n",
    "1 <= n <= 1690"
   ]
  },
  {
   "cell_type": "code",
   "execution_count": 1,
   "id": "5a9509e6",
   "metadata": {},
   "outputs": [
    {
     "name": "stdout",
     "output_type": "stream",
     "text": [
      "12\n",
      "1\n"
     ]
    }
   ],
   "source": [
    "def get_nth_ugly_number(n):\n",
    "    ugly_numbers = [1]  # Initialize the list with the first ugly number\n",
    "    idx_2 = idx_3 = idx_5 = 0  # Pointers to track the indices for multiplying by 2, 3, and 5 respectively\n",
    "\n",
    "    while len(ugly_numbers) < n:\n",
    "        # Find the next ugly number by multiplying the current numbers in the list with 2, 3, and 5\n",
    "        next_ugly = min(ugly_numbers[idx_2] * 2, ugly_numbers[idx_3] * 3, ugly_numbers[idx_5] * 5)\n",
    "\n",
    "        # Move the pointers forward for the corresponding factor(s)\n",
    "        if next_ugly == ugly_numbers[idx_2] * 2:\n",
    "            idx_2 += 1\n",
    "        if next_ugly == ugly_numbers[idx_3] * 3:\n",
    "            idx_3 += 1\n",
    "        if next_ugly == ugly_numbers[idx_5] * 5:\n",
    "            idx_5 += 1\n",
    "\n",
    "        ugly_numbers.append(next_ugly)  # Add the next ugly number to the list\n",
    "\n",
    "    return ugly_numbers[-1]  # Return the nth ugly number\n",
    "\n",
    "\n",
    "# Testing the code with the given examples\n",
    "print(get_nth_ugly_number(10))  # Output: 12\n",
    "print(get_nth_ugly_number(1))   # Output: 1"
   ]
  },
  {
   "cell_type": "code",
   "execution_count": null,
   "id": "47ec4436",
   "metadata": {},
   "outputs": [],
   "source": []
  }
 ],
 "metadata": {
  "kernelspec": {
   "display_name": "Python 3",
   "language": "python",
   "name": "python3"
  },
  "language_info": {
   "codemirror_mode": {
    "name": "ipython",
    "version": 3
   },
   "file_extension": ".py",
   "mimetype": "text/x-python",
   "name": "python",
   "nbconvert_exporter": "python",
   "pygments_lexer": "ipython3",
   "version": "3.9.13"
  }
 },
 "nbformat": 4,
 "nbformat_minor": 5
}
