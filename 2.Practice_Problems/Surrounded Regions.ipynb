{
 "cells": [
  {
   "cell_type": "markdown",
   "id": "95d219d6",
   "metadata": {},
   "source": [
    "# Surrounded Regions"
   ]
  },
  {
   "cell_type": "markdown",
   "id": "b87fc406",
   "metadata": {},
   "source": [
    "You are given an m x n matrix board containing letters 'X' and 'O', capture regions that are surrounded:\n",
    "\n",
    "Connect: A cell is connected to adjacent cells horizontally or vertically.\n",
    "Region: To form a region connect every 'O' cell.\n",
    "Surround: The region is surrounded with 'X' cells if you can connect the region with 'X' cells and none of the region cells are on the edge of the board.\n",
    "To capture a surrounded region, replace all 'O's with 'X's in-place within the original board. You do not need to return anything.\n",
    "\n",
    "**Example 1:**\n",
    "\n",
    "Input: board = [[\"X\",\"X\",\"X\",\"X\"],[\"X\",\"O\",\"O\",\"X\"],[\"X\",\"X\",\"O\",\"X\"],[\"X\",\"O\",\"X\",\"X\"]]\n",
    "\n",
    "Output: [[\"X\",\"X\",\"X\",\"X\"],[\"X\",\"X\",\"X\",\"X\"],[\"X\",\"X\",\"X\",\"X\"],[\"X\",\"O\",\"X\",\"X\"]]\n",
    "\n",
    "Explanation:\n",
    "\n",
    "In the above diagram, the bottom region is not captured because it is on the edge of the board and cannot be surrounded.\n",
    "\n",
    "**Example 2:**\n",
    "\n",
    "Input: board = [[\"X\"]]\n",
    "\n",
    "Output: [[\"X\"]]\n",
    "\n",
    "**Constraints:**\n",
    "\n",
    "- m == board.length\n",
    "- n == board[i].length\n",
    "- 1 <= m, n <= 200\n",
    "- board[i][j] is 'X' or 'O'."
   ]
  },
  {
   "cell_type": "code",
   "execution_count": 1,
   "id": "4dc682bc",
   "metadata": {},
   "outputs": [],
   "source": [
    "from collections import deque\n",
    "\n",
    "def solve(board):\n",
    "    if not board or not board[0]:\n",
    "        return\n",
    "    m, n = len(board), len(board[0])\n",
    "\n",
    "    def bfs(sr, sc):\n",
    "        q = deque([(sr, sc)])\n",
    "        board[sr][sc] = '#'\n",
    "        while q:\n",
    "            r, c = q.popleft()\n",
    "            for dr, dc in ((1,0), (-1,0), (0,1), (0,-1)):\n",
    "                nr, nc = r + dr, c + dc\n",
    "                if 0 <= nr < m and 0 <= nc < n and board[nr][nc] == 'O':\n",
    "                    board[nr][nc] = '#'\n",
    "                    q.append((nr, nc))\n",
    "\n",
    "    # 1) Mark all border-connected 'O's as '#'\n",
    "    for r in range(m):\n",
    "        if board[r][0] == 'O': bfs(r, 0)\n",
    "        if board[r][n-1] == 'O': bfs(r, n-1)\n",
    "    for c in range(n):\n",
    "        if board[0][c] == 'O': bfs(0, c)\n",
    "        if board[m-1][c] == 'O': bfs(m-1, c)\n",
    "\n",
    "    # 2) Flip the rest\n",
    "    for r in range(m):\n",
    "        for c in range(n):\n",
    "            if board[r][c] == 'O':\n",
    "                board[r][c] = 'X'\n",
    "            elif board[r][c] == '#':\n",
    "                board[r][c] = 'O'"
   ]
  },
  {
   "cell_type": "code",
   "execution_count": null,
   "id": "b7e8fdad",
   "metadata": {},
   "outputs": [],
   "source": []
  }
 ],
 "metadata": {
  "kernelspec": {
   "display_name": "Python 3 (ipykernel)",
   "language": "python",
   "name": "python3"
  },
  "language_info": {
   "codemirror_mode": {
    "name": "ipython",
    "version": 3
   },
   "file_extension": ".py",
   "mimetype": "text/x-python",
   "name": "python",
   "nbconvert_exporter": "python",
   "pygments_lexer": "ipython3",
   "version": "3.8.11"
  }
 },
 "nbformat": 4,
 "nbformat_minor": 5
}
