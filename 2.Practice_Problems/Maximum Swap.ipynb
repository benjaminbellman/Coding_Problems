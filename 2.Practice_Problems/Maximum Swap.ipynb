{
 "cells": [
  {
   "cell_type": "markdown",
   "id": "70dfe8ef",
   "metadata": {},
   "source": [
    "# Maximum Swap"
   ]
  },
  {
   "cell_type": "markdown",
   "id": "3fff4457",
   "metadata": {},
   "source": [
    "You are given an integer num. You can swap two digits at most once to get the maximum valued number.\n",
    "\n",
    "Return the maximum valued number you can get.\n",
    "\n",
    " \n",
    "\n",
    "**Example 1:**\n",
    "\n",
    "Input: num = 2736\n",
    "\n",
    "Output: 7236\n",
    "Explanation: Swap the number 2 and the number 7.\n",
    "\n",
    "**Example 2:**\n",
    "\n",
    "Input: num = 9973\n",
    "\n",
    "Output: 9973\n",
    "Explanation: No swap.\n",
    " \n",
    "\n",
    "**Constraints:**\n",
    "\n",
    "- 0 <= num <= 108"
   ]
  },
  {
   "cell_type": "code",
   "execution_count": 1,
   "id": "188e8c89",
   "metadata": {},
   "outputs": [
    {
     "name": "stdout",
     "output_type": "stream",
     "text": [
      "6732\n",
      "9973\n"
     ]
    }
   ],
   "source": [
    "def maximumSwap(num):\n",
    "    num_str = str(num)\n",
    "    n = len(num_str)\n",
    "    num_list = list(num_str)\n",
    "\n",
    "    # Find the first digit that is smaller than the next digit\n",
    "    i = 0\n",
    "    while i < n - 1 and num_list[i] >= num_list[i + 1]:\n",
    "        i += 1\n",
    "\n",
    "    # If no such digit is found, the number is already maximum\n",
    "    if i == n - 1:\n",
    "        return num\n",
    "\n",
    "    # Find the rightmost digit larger than num[i]\n",
    "    j = n - 1\n",
    "    while num_list[j] <= num_list[i]:\n",
    "        j -= 1\n",
    "\n",
    "    # Swap num[i] and num[j]\n",
    "    num_list[i], num_list[j] = num_list[j], num_list[i]\n",
    "\n",
    "    # Convert the modified list back to an integer\n",
    "    result = int(''.join(num_list))\n",
    "    \n",
    "    return result\n",
    "\n",
    "# Example usage:\n",
    "num1 = 2736\n",
    "print(maximumSwap(num1))  # Output: 7236\n",
    "\n",
    "num2 = 9973\n",
    "print(maximumSwap(num2))  # Output: 9973"
   ]
  },
  {
   "cell_type": "code",
   "execution_count": null,
   "id": "964bd507",
   "metadata": {},
   "outputs": [],
   "source": []
  }
 ],
 "metadata": {
  "kernelspec": {
   "display_name": "Python 3",
   "language": "python",
   "name": "python3"
  },
  "language_info": {
   "codemirror_mode": {
    "name": "ipython",
    "version": 3
   },
   "file_extension": ".py",
   "mimetype": "text/x-python",
   "name": "python",
   "nbconvert_exporter": "python",
   "pygments_lexer": "ipython3",
   "version": "3.9.13"
  }
 },
 "nbformat": 4,
 "nbformat_minor": 5
}
