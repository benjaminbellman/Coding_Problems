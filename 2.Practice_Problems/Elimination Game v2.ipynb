{
 "cells": [
  {
   "cell_type": "markdown",
   "id": "e6881e71",
   "metadata": {},
   "source": [
    "# Elimination Game"
   ]
  },
  {
   "cell_type": "markdown",
   "id": "489c2187",
   "metadata": {},
   "source": [
    "ou have a list arr of all integers in the range [1, n] sorted in a strictly increasing order. Apply the following algorithm on arr:\n",
    "\n",
    "Starting from left to right, remove the first number and every other number afterward until you reach the end of the list.\n",
    "Repeat the previous step again, but this time from right to left, remove the rightmost number and every other number from the remaining numbers.\n",
    "Keep repeating the steps again, alternating left to right and right to left, until a single number remains.\n",
    "Given the integer n, return the last number that remains in arr.\n",
    "\n",
    " \n",
    "\n",
    "**Example 1:**\n",
    "\n",
    "Input: n = 9\n",
    "Output: 6\n",
    "Explanation:\n",
    "arr = [1, 2, 3, 4, 5, 6, 7, 8, 9]\n",
    "arr = [2, 4, 6, 8]\n",
    "arr = [2, 6]\n",
    "arr = [6]\n",
    "\n",
    "**Example 2:**\n",
    "\n",
    "Input: n = 1\n",
    "Output: 1\n",
    " \n",
    "\n",
    "**Constraints:**\n",
    "\n",
    "1 <= n <= 109"
   ]
  },
  {
   "cell_type": "code",
   "execution_count": 2,
   "id": "4bb51ee4",
   "metadata": {},
   "outputs": [
    {
     "name": "stdout",
     "output_type": "stream",
     "text": [
      "6\n",
      "1\n"
     ]
    }
   ],
   "source": [
    "def lastRemaining(n):\n",
    "    if n == 1:\n",
    "        return 1\n",
    "    else:\n",
    "        return 2 * (n // 2 + 1 - lastRemaining(n // 2))\n",
    "\n",
    "# Test the code with the provided examples\n",
    "print(lastRemaining(9))  # Output: 6\n",
    "print(lastRemaining(1))  # Output: 1"
   ]
  }
 ],
 "metadata": {
  "kernelspec": {
   "display_name": "Python 3",
   "language": "python",
   "name": "python3"
  },
  "language_info": {
   "codemirror_mode": {
    "name": "ipython",
    "version": 3
   },
   "file_extension": ".py",
   "mimetype": "text/x-python",
   "name": "python",
   "nbconvert_exporter": "python",
   "pygments_lexer": "ipython3",
   "version": "3.9.13"
  }
 },
 "nbformat": 4,
 "nbformat_minor": 5
}
