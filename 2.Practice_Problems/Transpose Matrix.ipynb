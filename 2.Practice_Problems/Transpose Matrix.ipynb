{
 "cells": [
  {
   "cell_type": "markdown",
   "id": "1c26d937",
   "metadata": {},
   "source": [
    "# Transpose Matrix"
   ]
  },
  {
   "cell_type": "markdown",
   "id": "0f0620a1",
   "metadata": {},
   "source": [
    "Given a 2D integer array matrix, return the transpose of matrix.\n",
    "\n",
    "The transpose of a matrix is the matrix flipped over its main diagonal, switching the matrix's row and column indices.\n",
    "\n",
    "**Example 1:**\n",
    "\n",
    "Input: matrix = [[1,2,3],[4,5,6],[7,8,9]]\n",
    "Output: [[1,4,7],[2,5,8],[3,6,9]]\n",
    "\n",
    "**Example 2:**\n",
    "\n",
    "Input: matrix = [[1,2,3],[4,5,6]]\n",
    "Output: [[1,4],[2,5],[3,6]]\n",
    " \n",
    "**Constraints:**\n",
    "\n",
    "- m == matrix.length\n",
    "- n == matrix[i].length\n",
    "- 1 <= m, n <= 1000\n",
    "- 1 <= m * n <= 105\n",
    "- -109 <= matrix[i][j] <= 109"
   ]
  },
  {
   "cell_type": "code",
   "execution_count": 1,
   "id": "453122ad",
   "metadata": {},
   "outputs": [
    {
     "name": "stdout",
     "output_type": "stream",
     "text": [
      "7\n",
      "11\n",
      "101\n"
     ]
    }
   ],
   "source": [
    "def is_prime(num):\n",
    "    if num <= 1:\n",
    "        return False\n",
    "    if num <= 3:\n",
    "        return True\n",
    "    if num % 2 == 0 or num % 3 == 0:\n",
    "        return False\n",
    "    i = 5\n",
    "    while i * i <= num:\n",
    "        if num % i == 0 or num % (i + 2) == 0:\n",
    "            return False\n",
    "        i += 6\n",
    "    return True\n",
    "\n",
    "def is_palindrome(num):\n",
    "    return str(num) == str(num)[::-1]\n",
    "\n",
    "def next_palindrome(num):\n",
    "    while True:\n",
    "        if is_palindrome(num) and is_prime(num):\n",
    "            return num\n",
    "        num += 1\n",
    "\n",
    "def smallest_prime_palindrome(n):\n",
    "    if n <= 2:\n",
    "        return 2\n",
    "    return next_palindrome(n)\n",
    "\n",
    "# Example usage:\n",
    "print(smallest_prime_palindrome(6))  # Output: 7\n",
    "print(smallest_prime_palindrome(8))  # Output: 11\n",
    "print(smallest_prime_palindrome(13)) # Output: 101"
   ]
  },
  {
   "cell_type": "code",
   "execution_count": null,
   "id": "d67287cc",
   "metadata": {},
   "outputs": [],
   "source": []
  }
 ],
 "metadata": {
  "kernelspec": {
   "display_name": "Python 3 (ipykernel)",
   "language": "python",
   "name": "python3"
  },
  "language_info": {
   "codemirror_mode": {
    "name": "ipython",
    "version": 3
   },
   "file_extension": ".py",
   "mimetype": "text/x-python",
   "name": "python",
   "nbconvert_exporter": "python",
   "pygments_lexer": "ipython3",
   "version": "3.8.11"
  }
 },
 "nbformat": 4,
 "nbformat_minor": 5
}
