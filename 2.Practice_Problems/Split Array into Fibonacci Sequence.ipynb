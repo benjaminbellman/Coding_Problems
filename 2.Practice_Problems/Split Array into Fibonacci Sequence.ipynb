{
 "cells": [
  {
   "cell_type": "markdown",
   "id": "3d3d36e1",
   "metadata": {},
   "source": [
    "# Split Array into Fibonacci Sequence"
   ]
  },
  {
   "cell_type": "markdown",
   "id": "34d12daa",
   "metadata": {},
   "source": [
    "You are given a string of digits num, such as \"123456579\". We can split it into a Fibonacci-like sequence [123, 456, 579].\n",
    "\n",
    "Formally, a Fibonacci-like sequence is a list f of non-negative integers such that:\n",
    "\n",
    "0 <= f[i] < 231, (that is, each integer fits in a 32-bit signed integer type),\n",
    "f.length >= 3, and\n",
    "f[i] + f[i + 1] == f[i + 2] for all 0 <= i < f.length - 2.\n",
    "Note that when splitting the string into pieces, each piece must not have extra leading zeroes, except if the piece is the number 0 itself.\n",
    "\n",
    "Return any Fibonacci-like sequence split from num, or return [] if it cannot be done.\n",
    "\n",
    " \n",
    "\n",
    "**Example 1:**\n",
    "\n",
    "Input: num = \"1101111\"\n",
    "Output: [11,0,11,11]\n",
    "Explanation: The output [110, 1, 111] would also be accepted.\n",
    "\n",
    "**Example 2:**\n",
    "\n",
    "Input: num = \"112358130\"\n",
    "Output: []\n",
    "Explanation: The task is impossible.\n",
    "\n",
    "**Example 3:**\n",
    "\n",
    "Input: num = \"0123\"\n",
    "Output: []\n",
    "Explanation: Leading zeroes are not allowed, so \"01\", \"2\", \"3\" is not valid.\n",
    " \n",
    "**Constraints:**\n",
    "\n",
    "- 1 <= num.length <= 200\n",
    "- num contains only digits."
   ]
  },
  {
   "cell_type": "code",
   "execution_count": 1,
   "id": "461c9fb9",
   "metadata": {},
   "outputs": [
    {
     "name": "stdout",
     "output_type": "stream",
     "text": [
      "[11, 0, 11, 11]\n",
      "[]\n",
      "[]\n"
     ]
    }
   ],
   "source": [
    "def splitIntoFibonacci(num):\n",
    "    def is_valid(sequence):\n",
    "        for i in range(2, len(sequence)):\n",
    "            if sequence[i - 2] + sequence[i - 1] != sequence[i]:\n",
    "                return False\n",
    "        return True\n",
    "\n",
    "    def backtrack(index, sequence):\n",
    "        if index == len(num):\n",
    "            if len(sequence) >= 3 and is_valid(sequence):\n",
    "                return sequence\n",
    "            else:\n",
    "                return []\n",
    "\n",
    "        for i in range(index, len(num)):\n",
    "            if num[index] == '0' and i > index:\n",
    "                break\n",
    "\n",
    "            current_num = int(num[index:i + 1])\n",
    "            if current_num > 2 ** 31 - 1:\n",
    "                break\n",
    "\n",
    "            if len(sequence) < 2 or current_num == sequence[-1] + sequence[-2]:\n",
    "                result = backtrack(i + 1, sequence + [current_num])\n",
    "                if result:\n",
    "                    return result\n",
    "\n",
    "        return []\n",
    "\n",
    "    return backtrack(0, [])\n",
    "\n",
    "# Example usage:\n",
    "num1 = \"1101111\"\n",
    "num2 = \"112358130\"\n",
    "num3 = \"0123\"\n",
    "\n",
    "print(splitIntoFibonacci(num1))  # Output: [11, 0, 11, 11]\n",
    "print(splitIntoFibonacci(num2))  # Output: []\n",
    "print(splitIntoFibonacci(num3))  # Output: []"
   ]
  },
  {
   "cell_type": "code",
   "execution_count": null,
   "id": "edccfacf",
   "metadata": {},
   "outputs": [],
   "source": []
  }
 ],
 "metadata": {
  "kernelspec": {
   "display_name": "Python 3",
   "language": "python",
   "name": "python3"
  },
  "language_info": {
   "codemirror_mode": {
    "name": "ipython",
    "version": 3
   },
   "file_extension": ".py",
   "mimetype": "text/x-python",
   "name": "python",
   "nbconvert_exporter": "python",
   "pygments_lexer": "ipython3",
   "version": "3.9.13"
  }
 },
 "nbformat": 4,
 "nbformat_minor": 5
}
