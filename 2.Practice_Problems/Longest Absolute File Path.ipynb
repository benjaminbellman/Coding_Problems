{
 "cells": [
  {
   "cell_type": "markdown",
   "id": "0206bb6e",
   "metadata": {},
   "source": [
    "# Longest Absolute File Path"
   ]
  },
  {
   "cell_type": "markdown",
   "id": "6e1dd305",
   "metadata": {},
   "source": [
    "Suppose we have a file system that stores both files and directories. An example of one system is represented in the following picture:\n",
    "\n",
    "\n",
    "\n",
    "Here, we have dir as the only directory in the root. dir contains two subdirectories, subdir1 and subdir2. subdir1 contains a file file1.ext and subdirectory subsubdir1. subdir2 contains a subdirectory subsubdir2, which contains a file file2.ext.\n",
    "\n",
    "In text form, it looks like this (with ⟶ representing the tab character):\n",
    "\n",
    "dir\n",
    "⟶ subdir1\n",
    "⟶ ⟶ file1.ext\n",
    "⟶ ⟶ subsubdir1\n",
    "⟶ subdir2\n",
    "⟶ ⟶ subsubdir2\n",
    "⟶ ⟶ ⟶ file2.ext\n",
    "If we were to write this representation in code, it will look like this: \"dir\\n\\tsubdir1\\n\\t\\tfile1.ext\\n\\t\\tsubsubdir1\\n\\tsubdir2\\n\\t\\tsubsubdir2\\n\\t\\t\\tfile2.ext\". Note that the '\\n' and '\\t' are the new-line and tab characters.\n",
    "\n",
    "Every file and directory has a unique absolute path in the file system, which is the order of directories that must be opened to reach the file/directory itself, all concatenated by '/'s. Using the above example, the absolute path to file2.ext is \"dir/subdir2/subsubdir2/file2.ext\". Each directory name consists of letters, digits, and/or spaces. Each file name is of the form name.extension, where name and extension consist of letters, digits, and/or spaces.\n",
    "\n",
    "Given a string input representing the file system in the explained format, return the length of the longest absolute path to a file in the abstracted file system. If there is no file in the system, return 0.\n",
    "\n",
    "Note that the testcases are generated such that the file system is valid and no file or directory name has length 0.\n",
    "\n",
    " \n",
    "\n",
    "**Example 1:**\n",
    "\n",
    "\n",
    "Input: input = \"dir\\n\\tsubdir1\\n\\tsubdir2\\n\\t\\tfile.ext\"\n",
    "Output: 20\n",
    "Explanation: We have only one file, and the absolute path is \"dir/subdir2/file.ext\" of length 20.\n",
    "\n",
    "**Example 2:**\n",
    "\n",
    "\n",
    "Input: input = \"dir\\n\\tsubdir1\\n\\t\\tfile1.ext\\n\\t\\tsubsubdir1\\n\\tsubdir2\\n\\t\\tsubsubdir2\\n\\t\\t\\tfile2.ext\"\n",
    "Output: 32\n",
    "Explanation: We have two files:\n",
    "\"dir/subdir1/file1.ext\" of length 21\n",
    "\"dir/subdir2/subsubdir2/file2.ext\" of length 32.\n",
    "We return 32 since it is the longest absolute path to a file.\n",
    "\n",
    "**Example 3:**\n",
    "\n",
    "Input: input = \"a\"\n",
    "Output: 0\n",
    "Explanation: We do not have any files, just a single directory named \"a\".\n",
    " \n",
    "\n",
    "**Constraints:**\n",
    "\n",
    "1 <= input.length <= 104\n",
    "input may contain lowercase or uppercase English letters, a new line character '\\n', a tab character '\\t', a dot '.', a space ' ', and digits.\n",
    "All file and directory names have positive length."
   ]
  },
  {
   "cell_type": "code",
   "execution_count": 1,
   "id": "23d3d290",
   "metadata": {},
   "outputs": [],
   "source": [
    "def length_longest_path(input):\n",
    "    paths = input.split('\\n')\n",
    "    stack = []\n",
    "    max_length = 0\n",
    "    \n",
    "    for path in paths:\n",
    "        tabs = path.count('\\t')\n",
    "        while len(stack) > tabs:\n",
    "            stack.pop()\n",
    "        \n",
    "        if '.' in path:\n",
    "            length = sum(len(directory) for directory in stack) + len(path) - tabs + len(stack)\n",
    "            max_length = max(max_length, length)\n",
    "        else:\n",
    "            stack.append(path.strip('\\t'))\n",
    "    \n",
    "    return max_length"
   ]
  },
  {
   "cell_type": "code",
   "execution_count": 2,
   "id": "b5771329",
   "metadata": {},
   "outputs": [
    {
     "name": "stdout",
     "output_type": "stream",
     "text": [
      "20\n",
      "32\n",
      "0\n"
     ]
    }
   ],
   "source": [
    "input1 = \"dir\\n\\tsubdir1\\n\\tsubdir2\\n\\t\\tfile.ext\"\n",
    "print(length_longest_path(input1))  # Output: 20\n",
    "\n",
    "input2 = \"dir\\n\\tsubdir1\\n\\t\\tfile1.ext\\n\\t\\tsubsubdir1\\n\\tsubdir2\\n\\t\\tsubsubdir2\\n\\t\\t\\tfile2.ext\"\n",
    "print(length_longest_path(input2))  # Output: 32\n",
    "\n",
    "input3 = \"a\"\n",
    "print(length_longest_path(input3))  # Output: 0"
   ]
  },
  {
   "cell_type": "code",
   "execution_count": null,
   "id": "4d48d2f5",
   "metadata": {},
   "outputs": [],
   "source": []
  }
 ],
 "metadata": {
  "kernelspec": {
   "display_name": "Python 3",
   "language": "python",
   "name": "python3"
  },
  "language_info": {
   "codemirror_mode": {
    "name": "ipython",
    "version": 3
   },
   "file_extension": ".py",
   "mimetype": "text/x-python",
   "name": "python",
   "nbconvert_exporter": "python",
   "pygments_lexer": "ipython3",
   "version": "3.9.13"
  }
 },
 "nbformat": 4,
 "nbformat_minor": 5
}
