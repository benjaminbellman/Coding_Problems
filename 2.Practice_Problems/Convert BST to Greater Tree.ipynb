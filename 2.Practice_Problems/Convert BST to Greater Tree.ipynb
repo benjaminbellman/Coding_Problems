{
 "cells": [
  {
   "cell_type": "markdown",
   "id": "f0238030",
   "metadata": {},
   "source": [
    "# Convert BST to Greater Tree"
   ]
  },
  {
   "cell_type": "markdown",
   "id": "03017a24",
   "metadata": {},
   "source": [
    "Given the root of a Binary Search Tree (BST), convert it to a Greater Tree such that every key of the original BST is changed to the original key plus the sum of all keys greater than the original key in BST.\n",
    "\n",
    "As a reminder, a binary search tree is a tree that satisfies these constraints:\n",
    "\n",
    "- The left subtree of a node contains only nodes with keys less than the node's key.\n",
    "- The right subtree of a node contains only nodes with keys greater than the node's key.\n",
    "- Both the left and right subtrees must also be binary search trees.\n",
    " \n",
    "\n",
    "**Example 1:**\n",
    "\n",
    "\n",
    "Input: root = [4,1,6,0,2,5,7,null,null,null,3,null,null,null,8]\n",
    "\n",
    "Output: [30,36,21,36,35,26,15,null,null,null,33,null,null,null,8]\n",
    "\n",
    "**Example 2:**\n",
    "\n",
    "Input: root = [0,null,1]\n",
    "\n",
    "Output: [1,null,1]\n",
    " \n",
    "\n",
    "**Constraints:**\n",
    "\n",
    "- The number of nodes in the tree is in the range [0, 104].\n",
    "- -104 <= Node.val <= 104\n",
    "- All the values in the tree are unique.\n",
    "- root is guaranteed to be a valid binary search tree."
   ]
  },
  {
   "cell_type": "code",
   "execution_count": 2,
   "id": "f32baa45",
   "metadata": {},
   "outputs": [
    {
     "name": "stdout",
     "output_type": "stream",
     "text": [
      "[30, 36, 36, None, None, 35, None, 33, None, None, 21, 26, None, None, 15, None, 8, None, None]\n",
      "[1, None, 1, None, None]\n"
     ]
    }
   ],
   "source": [
    "# Definition for a binary tree node.\n",
    "class TreeNode:\n",
    "    def __init__(self, val=0, left=None, right=None):\n",
    "        self.val = val\n",
    "        self.left = left\n",
    "        self.right = right\n",
    "\n",
    "class Solution:\n",
    "    def convertBST(self, root: TreeNode) -> TreeNode:\n",
    "        self.sum = 0\n",
    "        \n",
    "        def reverse_in_order(node):\n",
    "            if not node:\n",
    "                return\n",
    "            # Traverse the right subtree first\n",
    "            reverse_in_order(node.right)\n",
    "            \n",
    "            # Update the value of the current node\n",
    "            self.sum += node.val\n",
    "            node.val = self.sum\n",
    "            \n",
    "            # Then traverse the left subtree\n",
    "            reverse_in_order(node.left)\n",
    "            \n",
    "        reverse_in_order(root)\n",
    "        return root\n",
    "\n",
    "# Helper function to create BST from list\n",
    "def insert(root, val):\n",
    "    if not root:\n",
    "        return TreeNode(val)\n",
    "    if val < root.val:\n",
    "        root.left = insert(root.left, val)\n",
    "    else:\n",
    "        root.right = insert(root.right, val)\n",
    "    return root\n",
    "\n",
    "# Helper function to print the tree as list\n",
    "def tree_to_list(root):\n",
    "    if not root:\n",
    "        return [None]\n",
    "    result = [root.val]\n",
    "    left_list = tree_to_list(root.left)\n",
    "    right_list = tree_to_list(root.right)\n",
    "    return result + left_list + right_list\n",
    "\n",
    "# Testing\n",
    "if __name__ == \"__main__\":\n",
    "    # Example 1\n",
    "    root = TreeNode(4)\n",
    "    nodes = [1,6,0,2,5,7,None,None,None,3,None,None,None,8]\n",
    "    for val in nodes:\n",
    "        if val is not None:\n",
    "            insert(root, val)\n",
    "    \n",
    "    sol = Solution()\n",
    "    new_root = sol.convertBST(root)\n",
    "    print(tree_to_list(new_root))  # Expected output: [30,36,21,36,35,26,15,None,None,None,33,None,None,None,8]\n",
    "\n",
    "    # Example 2\n",
    "    root = TreeNode(0)\n",
    "    nodes = [None, 1]\n",
    "    for val in nodes:\n",
    "        if val is not None:\n",
    "            insert(root, val)\n",
    "    \n",
    "    new_root = sol.convertBST(root)\n",
    "    print(tree_to_list(new_root))  # Expected output: [1, None, 1]"
   ]
  }
 ],
 "metadata": {
  "kernelspec": {
   "display_name": "Python 3",
   "language": "python",
   "name": "python3"
  },
  "language_info": {
   "codemirror_mode": {
    "name": "ipython",
    "version": 3
   },
   "file_extension": ".py",
   "mimetype": "text/x-python",
   "name": "python",
   "nbconvert_exporter": "python",
   "pygments_lexer": "ipython3",
   "version": "3.9.13"
  }
 },
 "nbformat": 4,
 "nbformat_minor": 5
}
