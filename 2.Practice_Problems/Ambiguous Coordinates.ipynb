{
 "cells": [
  {
   "cell_type": "markdown",
   "id": "d430976d",
   "metadata": {},
   "source": [
    "# Ambiguous Coordinates"
   ]
  },
  {
   "cell_type": "markdown",
   "id": "696f348b",
   "metadata": {},
   "source": [
    "We had some 2-dimensional coordinates, like \"(1, 3)\" or \"(2, 0.5)\". Then, we removed all commas, decimal points, and spaces and ended up with the string s.\n",
    "\n",
    "For example, \"(1, 3)\" becomes s = \"(13)\" and \"(2, 0.5)\" becomes s = \"(205)\".\n",
    "Return a list of strings representing all possibilities for what our original coordinates could have been.\n",
    "\n",
    "Our original representation never had extraneous zeroes, so we never started with numbers like \"00\", \"0.0\", \"0.00\", \"1.0\", \"001\", \"00.01\", or any other number that can be represented with fewer digits. Also, a decimal point within a number never occurs without at least one digit occurring before it, so we never started with numbers like \".1\".\n",
    "\n",
    "The final answer list can be returned in any order. All coordinates in the final answer have exactly one space between them (occurring after the comma.)\n",
    "\n",
    " \n",
    "\n",
    "**Example 1:**\n",
    "\n",
    "Input: s = \"(123)\"\n",
    "Output: [\"(1, 2.3)\",\"(1, 23)\",\"(1.2, 3)\",\"(12, 3)\"]\n",
    "\n",
    "**Example 2:**\n",
    "\n",
    "Input: s = \"(0123)\"\n",
    "Output: [\"(0, 1.23)\",\"(0, 12.3)\",\"(0, 123)\",\"(0.1, 2.3)\",\"(0.1, 23)\",\"(0.12, 3)\"]\n",
    "Explanation: 0.0, 00, 0001 or 00.01 are not allowed.\n",
    "\n",
    "**Example 3:**\n",
    "\n",
    "Input: s = \"(00011)\"\n",
    "Output: [\"(0, 0.011)\",\"(0.001, 1)\"]\n",
    " \n",
    "\n",
    "**Constraints:**\n",
    "\n",
    "- 4 <= s.length <= 12\n",
    "- s[0] == '(' and s[s.length - 1] == ')'.\n",
    "- The rest of s are digits."
   ]
  },
  {
   "cell_type": "code",
   "execution_count": 1,
   "id": "e489e76e",
   "metadata": {},
   "outputs": [],
   "source": [
    "def ambiguousCoordinates(s):\n",
    "    def add_decimal(number):\n",
    "        n = len(number)\n",
    "        if n == 1 or number[0] != '0':\n",
    "            return [number]\n",
    "        if number[-1] == '0':\n",
    "            return []\n",
    "        return [number[:1] + '.' + number[1:]]\n",
    "    \n",
    "    def generate_combinations(number):\n",
    "        if not number or (number[0] == '0' and number[-1] == '0'):\n",
    "            return []\n",
    "        if number[-1] == '0':\n",
    "            return [number]\n",
    "        if number[0] == '0':\n",
    "            return [number[:1] + '.' + number[1:]]\n",
    "        results = [number]\n",
    "        for i in range(1, len(number)):\n",
    "            results.append(number[:i] + '.' + number[i:])\n",
    "        return results\n",
    "    \n",
    "    s = s[1:-1]\n",
    "    n = len(s)\n",
    "    result = []\n",
    "    for i in range(1, n):\n",
    "        left_numbers = generate_combinations(s[:i])\n",
    "        right_numbers = generate_combinations(s[i:])\n",
    "        for left in left_numbers:\n",
    "            for right in right_numbers:\n",
    "                result.append(f\"({left}, {right})\")\n",
    "    return result"
   ]
  },
  {
   "cell_type": "code",
   "execution_count": 2,
   "id": "57e4f121",
   "metadata": {},
   "outputs": [
    {
     "name": "stdout",
     "output_type": "stream",
     "text": [
      "['(0.1, 23)', '(0.1, 2.3)', '(0.12, 3)']\n"
     ]
    }
   ],
   "source": [
    "s = \"(0123)\"\n",
    "print(ambiguousCoordinates(s))  # Output: [\"(0, 1.23)\", \"(0, 12.3)\", \"(0, 123)\", \"(0.1, 2.3)\", \"(0.1, 23)\", \"(0.12, 3)\"]"
   ]
  },
  {
   "cell_type": "code",
   "execution_count": null,
   "id": "cf4e3a32",
   "metadata": {},
   "outputs": [],
   "source": []
  }
 ],
 "metadata": {
  "kernelspec": {
   "display_name": "Python 3",
   "language": "python",
   "name": "python3"
  },
  "language_info": {
   "codemirror_mode": {
    "name": "ipython",
    "version": 3
   },
   "file_extension": ".py",
   "mimetype": "text/x-python",
   "name": "python",
   "nbconvert_exporter": "python",
   "pygments_lexer": "ipython3",
   "version": "3.9.13"
  }
 },
 "nbformat": 4,
 "nbformat_minor": 5
}
