{
 "cells": [
  {
   "cell_type": "markdown",
   "id": "8c2ffe6e",
   "metadata": {},
   "source": [
    "# Zuma Game"
   ]
  },
  {
   "cell_type": "markdown",
   "id": "88571313",
   "metadata": {},
   "source": [
    "You are playing a variation of the game Zuma.\n",
    "\n",
    "In this variation of Zuma, there is a single row of colored balls on a board, where each ball can be colored red 'R', yellow 'Y', blue 'B', green 'G', or white 'W'. You also have several colored balls in your hand.\n",
    "\n",
    "Your goal is to clear all of the balls from the board. On each turn:\n",
    "\n",
    "- Pick any ball from your hand and insert it in between two balls in the row or on either end of the row.\n",
    "- If there is a group of three or more consecutive balls of the same color, remove the group of balls from the board.\n",
    "- If this removal causes more groups of three or more of the same color to form, then continue removing each group until there are none left.\n",
    "- If there are no more balls on the board, then you win the game.\n",
    "\n",
    "Repeat this process until you either win or do not have any more balls in your hand.\n",
    "Given a string board, representing the row of balls on the board, and a string hand, representing the balls in your hand, return the minimum number of balls you have to insert to clear all the balls from the board. If you cannot clear all the balls from the board using the balls in your hand, return -1.\n",
    "\n",
    " \n",
    "\n",
    "**Example 1:**\n",
    "\n",
    "Input: board = \"WRRBBW\", hand = \"RB\"\n",
    "Output: -1\n",
    "Explanation: It is impossible to clear all the balls. The best you can do is:\n",
    "- Insert 'R' so the board becomes WRRRBBW. WRRRBBW -> WBBW.\n",
    "- Insert 'B' so the board becomes WBBBW. WBBBW -> WW.\n",
    "There are still balls remaining on the board, and you are out of balls to insert.\n",
    "\n",
    "**Example 2:**\n",
    "\n",
    "Input: board = \"WWRRBBWW\", hand = \"WRBRW\"\n",
    "Output: 2\n",
    "Explanation: To make the board empty:\n",
    "- Insert 'R' so the board becomes WWRRRBBWW. WWRRRBBWW -> WWBBWW.\n",
    "- Insert 'B' so the board becomes WWBBBWW. WWBBBWW -> WWWW -> empty.\n",
    "2 balls from your hand were needed to clear the board.\n",
    "\n",
    "**Example 3:**\n",
    "\n",
    "Input: board = \"G\", hand = \"GGGGG\"\n",
    "Output: 2\n",
    "Explanation: To make the board empty:\n",
    "- Insert 'G' so the board becomes GG.\n",
    "- Insert 'G' so the board becomes GGG. GGG -> empty.\n",
    "2 balls from your hand were needed to clear the board.\n",
    " \n",
    "\n",
    "**Constraints:**\n",
    "\n",
    "- 1 <= board.length <= 16\n",
    "- 1 <= hand.length <= 5\n",
    "- board and hand consist of the characters 'R', 'Y', 'B', 'G', and 'W'.\n",
    "- The initial row of balls on the board will not have any groups of three or more consecutive balls of the same color."
   ]
  },
  {
   "cell_type": "code",
   "execution_count": 1,
   "id": "bea19dd9",
   "metadata": {},
   "outputs": [
    {
     "name": "stdout",
     "output_type": "stream",
     "text": [
      "-1\n",
      "2\n",
      "2\n"
     ]
    }
   ],
   "source": [
    "from collections import Counter\n",
    "\n",
    "def removeConsecutive(board):\n",
    "    i = 0\n",
    "    while i < len(board):\n",
    "        j = i\n",
    "        while j < len(board) and board[j] == board[i]:\n",
    "            j += 1\n",
    "        if j - i >= 3:\n",
    "            return removeConsecutive(board[:i] + board[j:])\n",
    "        i = j\n",
    "    return board\n",
    "\n",
    "def minInsert(board, hand_count, memo):\n",
    "    if not board:\n",
    "        return 0\n",
    "    if not any(hand_count.values()):\n",
    "        return -1\n",
    "    if board in memo:\n",
    "        return memo[board]\n",
    "    \n",
    "    result = float('inf')\n",
    "    \n",
    "    i = 0\n",
    "    while i < len(board):\n",
    "        j = i\n",
    "        while j < len(board) and board[i] == board[j]:\n",
    "            j += 1\n",
    "        needed_balls = max(0, 3 - (j - i))\n",
    "        if hand_count[board[i]] >= needed_balls:\n",
    "            new_hand_count = hand_count.copy()\n",
    "            new_hand_count[board[i]] -= needed_balls\n",
    "            next_board = removeConsecutive(board[:i] + board[j:])\n",
    "            next_insert = minInsert(next_board, new_hand_count, memo)\n",
    "            if next_insert != -1:\n",
    "                result = min(result, next_insert + needed_balls)\n",
    "        i = j\n",
    "    \n",
    "    memo[board] = -1 if result == float('inf') else result\n",
    "    return memo[board]\n",
    "\n",
    "def findMinInserts(board, hand):\n",
    "    hand_count = Counter(hand)\n",
    "    memo = {}\n",
    "    return minInsert(board, hand_count, memo)\n",
    "\n",
    "# Example usage\n",
    "print(findMinInserts(\"WRRBBW\", \"RB\"))  # Output: -1\n",
    "print(findMinInserts(\"WWRRBBWW\", \"WRBRW\"))  # Output: 2\n",
    "print(findMinInserts(\"G\", \"GGGGG\"))  # Output: 2"
   ]
  },
  {
   "cell_type": "code",
   "execution_count": null,
   "id": "2df311cf",
   "metadata": {},
   "outputs": [],
   "source": []
  }
 ],
 "metadata": {
  "kernelspec": {
   "display_name": "Python 3",
   "language": "python",
   "name": "python3"
  },
  "language_info": {
   "codemirror_mode": {
    "name": "ipython",
    "version": 3
   },
   "file_extension": ".py",
   "mimetype": "text/x-python",
   "name": "python",
   "nbconvert_exporter": "python",
   "pygments_lexer": "ipython3",
   "version": "3.9.13"
  }
 },
 "nbformat": 4,
 "nbformat_minor": 5
}
