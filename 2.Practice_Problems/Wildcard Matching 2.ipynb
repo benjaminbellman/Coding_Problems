{
 "cells": [
  {
   "cell_type": "markdown",
   "id": "44b0a448",
   "metadata": {},
   "source": [
    "# Wildcard Matching\n"
   ]
  },
  {
   "cell_type": "markdown",
   "id": "793019b2",
   "metadata": {},
   "source": [
    "Given an input string (s) and a pattern (p), implement wildcard pattern matching with support for '?' and '*' where:\n",
    "\n",
    "'?' Matches any single character.\n",
    "'*' Matches any sequence of characters (including the empty sequence).\n",
    "The matching should cover the entire input string (not partial).\n",
    "\n",
    "**Example 1:**\n",
    "\n",
    "Input: s = \"aa\", p = \"a\"\n",
    "Output: false\n",
    "Explanation: \"a\" does not match the entire string \"aa\".\n",
    "\n",
    "**Example 2:**\n",
    "\n",
    "Input: s = \"aa\", p = \"*\"\n",
    "Output: true\n",
    "Explanation: '*' matches any sequence.\n",
    "\n",
    "**Example 3:**\n",
    "\n",
    "Input: s = \"cb\", p = \"?a\"\n",
    "Output: false\n",
    "Explanation: '?' matches 'c', but the second letter is 'a', which does not match 'b'.\n",
    " \n",
    "**Constraints:**\n",
    "\n",
    "- 0 <= s.length, p.length <= 2000\n",
    "- s contains only lowercase English letters.\n",
    "- p contains only lowercase English letters, '?' or '*'."
   ]
  },
  {
   "cell_type": "code",
   "execution_count": 1,
   "id": "572673ca",
   "metadata": {},
   "outputs": [],
   "source": [
    "def isMatch(s: str, p: str) -> bool:\n",
    "    m, n = len(s), len(p)\n",
    "\n",
    "    # dp[i][j] is True if s[0..i-1] matches p[0..j-1]\n",
    "    dp = [[False] * (n + 1) for _ in range(m + 1)]\n",
    "    \n",
    "    # Empty string matches empty pattern\n",
    "    dp[0][0] = True\n",
    "\n",
    "    # Fill in first row for patterns like '*', '**', etc.\n",
    "    for j in range(1, n + 1):\n",
    "        if p[j - 1] == '*':\n",
    "            dp[0][j] = dp[0][j - 1]\n",
    "\n",
    "    for i in range(1, m + 1):\n",
    "        for j in range(1, n + 1):\n",
    "            if p[j - 1] == '*':\n",
    "                # '*' can match empty (dp[i][j-1]) or one/more chars (dp[i-1][j])\n",
    "                dp[i][j] = dp[i][j - 1] or dp[i - 1][j]\n",
    "            elif p[j - 1] == '?' or p[j - 1] == s[i - 1]:\n",
    "                dp[i][j] = dp[i - 1][j - 1]\n",
    "\n",
    "    return dp[m][n]"
   ]
  },
  {
   "cell_type": "code",
   "execution_count": 2,
   "id": "65c06305",
   "metadata": {},
   "outputs": [
    {
     "name": "stdout",
     "output_type": "stream",
     "text": [
      "False\n",
      "True\n",
      "False\n",
      "True\n"
     ]
    }
   ],
   "source": [
    "print(isMatch(\"aa\", \"a\"))     # False\n",
    "print(isMatch(\"aa\", \"*\"))     # True\n",
    "print(isMatch(\"cb\", \"?a\"))    # False\n",
    "print(isMatch(\"adceb\", \"*a*b\"))  # True"
   ]
  },
  {
   "cell_type": "code",
   "execution_count": null,
   "id": "e6239f59",
   "metadata": {},
   "outputs": [],
   "source": []
  }
 ],
 "metadata": {
  "kernelspec": {
   "display_name": "Python 3 (ipykernel)",
   "language": "python",
   "name": "python3"
  },
  "language_info": {
   "codemirror_mode": {
    "name": "ipython",
    "version": 3
   },
   "file_extension": ".py",
   "mimetype": "text/x-python",
   "name": "python",
   "nbconvert_exporter": "python",
   "pygments_lexer": "ipython3",
   "version": "3.8.11"
  }
 },
 "nbformat": 4,
 "nbformat_minor": 5
}
