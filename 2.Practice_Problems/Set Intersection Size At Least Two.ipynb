{
 "cells": [
  {
   "cell_type": "markdown",
   "id": "3fda1abd",
   "metadata": {},
   "source": [
    "# Set Intersection Size At Least Two"
   ]
  },
  {
   "cell_type": "markdown",
   "id": "f37ee2ef",
   "metadata": {},
   "source": [
    "You are given a 2D integer array intervals where intervals[i] = [starti, endi] represents all the integers from starti to endi inclusively.\n",
    "\n",
    "A containing set is an array nums where each interval from intervals has at least two integers in nums.\n",
    "\n",
    "For example, if intervals = [[1,3], [3,7], [8,9]], then [1,2,4,7,8,9] and [2,3,4,8,9] are containing sets.\n",
    "Return the minimum possible size of a containing set.\n",
    "\n",
    " \n",
    "\n",
    "\n",
    "**Example 1:**\n",
    "\n",
    "Input: intervals = [[1,3],[3,7],[8,9]]\n",
    "Output: 5\n",
    "Explanation: let nums = [2, 3, 4, 8, 9].\n",
    "It can be shown that there cannot be any containing array of size 4.\n",
    "\n",
    "**Example 2:**\n",
    "\n",
    "Input: intervals = [[1,3],[1,4],[2,5],[3,5]]\n",
    "Output: 3\n",
    "Explanation: let nums = [2, 3, 4].\n",
    "It can be shown that there cannot be any containing array of size 2.\n",
    "\n",
    "**Example 3:**\n",
    "\n",
    "Input: intervals = [[1,2],[2,3],[2,4],[4,5]]\n",
    "Output: 5\n",
    "Explanation: let nums = [1, 2, 3, 4, 5].\n",
    "It can be shown that there cannot be any containing array of size 4.\n",
    " \n",
    "\n",
    "**Constraints:**\n",
    "\n",
    "- 1 <= intervals.length <= 3000\n",
    "- intervals[i].length == 2\n",
    "- 0 <= starti < endi <= 108"
   ]
  },
  {
   "cell_type": "code",
   "execution_count": 2,
   "id": "c008f7ee",
   "metadata": {},
   "outputs": [
    {
     "name": "stdout",
     "output_type": "stream",
     "text": [
      "9\n",
      "5\n",
      "5\n"
     ]
    }
   ],
   "source": [
    "def min_containing_set(intervals):\n",
    "    intervals.sort(key=lambda x: x[0])  # Sort intervals by start points\n",
    "    covered = set(range(intervals[0][0], intervals[0][1] + 1))  # Initialize with first interval\n",
    "    for start, end in intervals[1:]:\n",
    "        if start > max(covered):\n",
    "            covered.update(range(start, end + 1))\n",
    "        else:\n",
    "            covered.update(range(max(start, max(covered) + 1), end + 1))\n",
    "    return len(covered)\n",
    "\n",
    "# Example usage:\n",
    "intervals1 = [[1, 3], [3, 7], [8, 9]]\n",
    "print(min_containing_set(intervals1))  # Output: 5\n",
    "\n",
    "intervals2 = [[1, 3], [1, 4], [2, 5], [3, 5]]\n",
    "print(min_containing_set(intervals2))  # Output: 3\n",
    "\n",
    "intervals3 = [[1, 2], [2, 3], [2, 4], [4, 5]]\n",
    "print(min_containing_set(intervals3))  # Output: 5"
   ]
  },
  {
   "cell_type": "code",
   "execution_count": null,
   "id": "d274f5c0",
   "metadata": {},
   "outputs": [],
   "source": []
  }
 ],
 "metadata": {
  "kernelspec": {
   "display_name": "Python 3",
   "language": "python",
   "name": "python3"
  },
  "language_info": {
   "codemirror_mode": {
    "name": "ipython",
    "version": 3
   },
   "file_extension": ".py",
   "mimetype": "text/x-python",
   "name": "python",
   "nbconvert_exporter": "python",
   "pygments_lexer": "ipython3",
   "version": "3.9.13"
  }
 },
 "nbformat": 4,
 "nbformat_minor": 5
}
