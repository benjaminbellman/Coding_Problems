{
 "cells": [
  {
   "cell_type": "markdown",
   "id": "3993e17f",
   "metadata": {},
   "source": [
    "# N-Queens"
   ]
  },
  {
   "cell_type": "markdown",
   "id": "a6e39d29",
   "metadata": {},
   "source": [
    "The n-queens puzzle is the problem of placing n queens on an n x n chessboard such that no two queens attack each other.\n",
    "\n",
    "Given an integer n, return all distinct solutions to the n-queens puzzle. You may return the answer in any order.\n",
    "\n",
    "Each solution contains a distinct board configuration of the n-queens' placement, where 'Q' and '.' both indicate a queen and an empty space, respectively.\n",
    "\n",
    "**Example 1:**\n",
    "\n",
    "Input: n = 4\n",
    "\n",
    "Output: [[\".Q..\",\"...Q\",\"Q...\",\"..Q.\"],[\"..Q.\",\"Q...\",\"...Q\",\".Q..\"]]\n",
    "\n",
    "Explanation: There exist two distinct solutions to the 4-queens puzzle as shown above\n",
    "\n",
    "**Example 2:**\n",
    "\n",
    "Input: n = 1\n",
    "Output: [[\"Q\"]]\n",
    "\n",
    "**Constraints:**\n",
    "\n",
    "- 1 <= n <= 9"
   ]
  },
  {
   "cell_type": "code",
   "execution_count": 1,
   "id": "b2770262",
   "metadata": {},
   "outputs": [],
   "source": [
    "def solveNQueens(n):\n",
    "    def backtrack(row, cols, pos_diagonals, neg_diagonals, state):\n",
    "        if row == n:\n",
    "            board = []\n",
    "            for r in state:\n",
    "                line = ['.'] * n\n",
    "                line[r] = 'Q'\n",
    "                board.append(\"\".join(line))\n",
    "            solutions.append(board)\n",
    "            return\n",
    "\n",
    "        for col in range(n):\n",
    "            if col in cols or (row + col) in pos_diagonals or (row - col) in neg_diagonals:\n",
    "                continue\n",
    "\n",
    "            cols.add(col)\n",
    "            pos_diagonals.add(row + col)\n",
    "            neg_diagonals.add(row - col)\n",
    "            state.append(col)\n",
    "\n",
    "            backtrack(row + 1, cols, pos_diagonals, neg_diagonals, state)\n",
    "\n",
    "            # backtrack\n",
    "            cols.remove(col)\n",
    "            pos_diagonals.remove(row + col)\n",
    "            neg_diagonals.remove(row - col)\n",
    "            state.pop()\n",
    "\n",
    "    solutions = []\n",
    "    backtrack(0, set(), set(), set(), [])\n",
    "    return solutions"
   ]
  },
  {
   "cell_type": "code",
   "execution_count": 2,
   "id": "9caae3b5",
   "metadata": {},
   "outputs": [
    {
     "data": {
      "text/plain": [
       "[['.Q..', '...Q', 'Q...', '..Q.'], ['..Q.', 'Q...', '...Q', '.Q..']]"
      ]
     },
     "execution_count": 2,
     "metadata": {},
     "output_type": "execute_result"
    }
   ],
   "source": [
    "[\n",
    " [\".Q..\", \"...Q\", \"Q...\", \"..Q.\"],\n",
    " [\"..Q.\", \"Q...\", \"...Q\", \".Q..\"]\n",
    "]"
   ]
  },
  {
   "cell_type": "code",
   "execution_count": null,
   "id": "cc0fa8d1",
   "metadata": {},
   "outputs": [],
   "source": []
  }
 ],
 "metadata": {
  "kernelspec": {
   "display_name": "Python 3 (ipykernel)",
   "language": "python",
   "name": "python3"
  },
  "language_info": {
   "codemirror_mode": {
    "name": "ipython",
    "version": 3
   },
   "file_extension": ".py",
   "mimetype": "text/x-python",
   "name": "python",
   "nbconvert_exporter": "python",
   "pygments_lexer": "ipython3",
   "version": "3.8.11"
  }
 },
 "nbformat": 4,
 "nbformat_minor": 5
}
