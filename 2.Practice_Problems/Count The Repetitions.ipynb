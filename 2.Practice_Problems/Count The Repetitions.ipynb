{
 "cells": [
  {
   "cell_type": "markdown",
   "id": "0a24b8c0",
   "metadata": {},
   "source": [
    "# Count The Repetitions"
   ]
  },
  {
   "cell_type": "markdown",
   "id": "ec880744",
   "metadata": {},
   "source": [
    "We define str = [s, n] as the string str which consists of the string s concatenated n times.\n",
    "\n",
    "For example, str == [\"abc\", 3] ==\"abcabcabc\".\n",
    "We define that string s1 can be obtained from string s2 if we can remove some characters from s2 such that it becomes s1.\n",
    "\n",
    "For example, s1 = \"abc\" can be obtained from s2 = \"abdbec\" based on our definition by removing the bolded underlined characters.\n",
    "You are given two strings s1 and s2 and two integers n1 and n2. You have the two strings str1 = [s1, n1] and str2 = [s2, n2].\n",
    "\n",
    "Return the maximum integer m such that str = [str2, m] can be obtained from str1.\n",
    "\n",
    " \n",
    "\n",
    "**Example 1:**\n",
    "\n",
    "Input: s1 = \"acb\", n1 = 4, s2 = \"ab\", n2 = 2\n",
    "Output: 2\n",
    "\n",
    "**Example 2:**\n",
    "\n",
    "Input: s1 = \"acb\", n1 = 1, s2 = \"acb\", n2 = 1\n",
    "Output: 1\n",
    " \n",
    "\n",
    "**Constraints:**\n",
    "\n",
    "- 1 <= s1.length, s2.length <= 100\n",
    "- s1 and s2 consist of lowercase English letters.\n",
    "- 1 <= n1, n2 <= 106"
   ]
  },
  {
   "cell_type": "code",
   "execution_count": 1,
   "id": "2b1bc0ff",
   "metadata": {},
   "outputs": [
    {
     "name": "stdout",
     "output_type": "stream",
     "text": [
      "2\n",
      "1\n"
     ]
    }
   ],
   "source": [
    "def max_occurrences(s1, n1, s2, n2):\n",
    "    # Concatenate the strings to form str1 and str2\n",
    "    str1 = s1 * n1\n",
    "    str2 = s2 * n2\n",
    "\n",
    "    # Initialize count and pointer for str2\n",
    "    count = 0\n",
    "    ptr = 0\n",
    "\n",
    "    # Iterate through str1\n",
    "    for char in str1:\n",
    "        if char == str2[ptr]:\n",
    "            ptr += 1\n",
    "            if ptr == len(str2):\n",
    "                count += 1\n",
    "                ptr = 0\n",
    "\n",
    "    return count\n",
    "\n",
    "# Example 1\n",
    "s1_1 = \"acb\"\n",
    "n1_1 = 4\n",
    "s2_1 = \"ab\"\n",
    "n2_1 = 2\n",
    "print(max_occurrences(s1_1, n1_1, s2_1, n2_1))  # Output: 2\n",
    "\n",
    "# Example 2\n",
    "s1_2 = \"acb\"\n",
    "n1_2 = 1\n",
    "s2_2 = \"acb\"\n",
    "n2_2 = 1\n",
    "print(max_occurrences(s1_2, n1_2, s2_2, n2_2))  # Output: 1"
   ]
  },
  {
   "cell_type": "code",
   "execution_count": null,
   "id": "480a5212",
   "metadata": {},
   "outputs": [],
   "source": []
  }
 ],
 "metadata": {
  "kernelspec": {
   "display_name": "Python 3",
   "language": "python",
   "name": "python3"
  },
  "language_info": {
   "codemirror_mode": {
    "name": "ipython",
    "version": 3
   },
   "file_extension": ".py",
   "mimetype": "text/x-python",
   "name": "python",
   "nbconvert_exporter": "python",
   "pygments_lexer": "ipython3",
   "version": "3.9.13"
  }
 },
 "nbformat": 4,
 "nbformat_minor": 5
}
