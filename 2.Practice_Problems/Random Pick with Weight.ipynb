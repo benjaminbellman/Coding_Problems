{
 "cells": [
  {
   "cell_type": "markdown",
   "id": "8b1b2d8f",
   "metadata": {},
   "source": [
    "# Random Pick with Weight"
   ]
  },
  {
   "cell_type": "markdown",
   "id": "b29b2a21",
   "metadata": {},
   "source": [
    "You are given a 0-indexed array of positive integers w where w[i] describes the weight of the ith index.\n",
    "\n",
    "You need to implement the function pickIndex(), which randomly picks an index in the range [0, w.length - 1] (inclusive) and returns it. The probability of picking an index i is w[i] / sum(w).\n",
    "\n",
    "For example, if w = [1, 3], the probability of picking index 0 is 1 / (1 + 3) = 0.25 (i.e., 25%), and the probability of picking index 1 is 3 / (1 + 3) = 0.75 (i.e., 75%).\n",
    " \n",
    "\n",
    "**Example 1:**\n",
    "\n",
    "Input\n",
    "[\"Solution\",\"pickIndex\"]\n",
    "[[[1]],[]]\n",
    "Output\n",
    "[null,0]\n",
    "\n",
    "Explanation\n",
    "Solution solution = new Solution([1]);\n",
    "solution.pickIndex(); // return 0. The only option is to return 0 since there is only one element in w.\n",
    "\n",
    "**Example 2:**\n",
    "\n",
    "Input\n",
    "[\"Solution\",\"pickIndex\",\"pickIndex\",\"pickIndex\",\"pickIndex\",\"pickIndex\"]\n",
    "[[[1,3]],[],[],[],[],[]]\n",
    "Output\n",
    "[null,1,1,1,1,0]\n",
    "\n",
    "Explanation\n",
    "Solution solution = new Solution([1, 3]);\n",
    "solution.pickIndex(); // return 1. It is returning the second element (index = 1) that has a probability of 3/4.\n",
    "solution.pickIndex(); // return 1\n",
    "solution.pickIndex(); // return 1\n",
    "solution.pickIndex(); // return 1\n",
    "solution.pickIndex(); // return 0. It is returning the first element (index = 0) that has a probability of 1/4.\n",
    "\n",
    "Since this is a randomization problem, multiple answers are allowed.\n",
    "All of the following outputs can be considered correct:\n",
    "[null,1,1,1,1,0]\n",
    "[null,1,1,1,1,1]\n",
    "[null,1,1,1,0,0]\n",
    "[null,1,1,1,0,1]\n",
    "[null,1,0,1,0,0]\n",
    "......\n",
    "and so on.\n",
    " \n",
    "\n",
    "**Constraints:**\n",
    "\n",
    "- 1 <= w.length <= 104\n",
    "- 1 <= w[i] <= 105\n",
    "- pickIndex will be called at most 104 times."
   ]
  },
  {
   "cell_type": "code",
   "execution_count": 1,
   "id": "3c2835c5",
   "metadata": {},
   "outputs": [],
   "source": [
    "import random\n",
    "import bisect\n",
    "\n",
    "class Solution:\n",
    "\n",
    "    def __init__(self, w: list[int]):\n",
    "        # Calculate the prefix sum array\n",
    "        for i in range(1, len(w)):\n",
    "            w[i] += w[i-1]\n",
    "        self.prefix_sums = w\n",
    "\n",
    "    def pickIndex(self) -> int:\n",
    "        # Generate a random number\n",
    "        target = random.randint(1, self.prefix_sums[-1])\n",
    "        # Use binary search to find the index\n",
    "        return bisect.bisect_left(self.prefix_sums, target)"
   ]
  },
  {
   "cell_type": "code",
   "execution_count": null,
   "id": "e31ce848",
   "metadata": {},
   "outputs": [],
   "source": []
  }
 ],
 "metadata": {
  "kernelspec": {
   "display_name": "Python 3",
   "language": "python",
   "name": "python3"
  },
  "language_info": {
   "codemirror_mode": {
    "name": "ipython",
    "version": 3
   },
   "file_extension": ".py",
   "mimetype": "text/x-python",
   "name": "python",
   "nbconvert_exporter": "python",
   "pygments_lexer": "ipython3",
   "version": "3.9.13"
  }
 },
 "nbformat": 4,
 "nbformat_minor": 5
}
