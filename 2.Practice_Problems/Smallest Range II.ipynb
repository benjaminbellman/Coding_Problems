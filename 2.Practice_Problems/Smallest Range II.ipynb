{
 "cells": [
  {
   "cell_type": "markdown",
   "id": "e2c0ddd5",
   "metadata": {},
   "source": [
    "# Smallest Range II"
   ]
  },
  {
   "cell_type": "markdown",
   "id": "663251c3",
   "metadata": {},
   "source": [
    "You are given an integer array nums and an integer k.\n",
    "\n",
    "For each index i where 0 <= i < nums.length, change nums[i] to be either nums[i] + k or nums[i] - k.\n",
    "\n",
    "The score of nums is the difference between the maximum and minimum elements in nums.\n",
    "\n",
    "Return the minimum score of nums after changing the values at each index.\n",
    "\n",
    "**Example 1:**\n",
    "\n",
    "Input: nums = [1], k = 0\n",
    "Output: 0\n",
    "Explanation: The score is max(nums) - min(nums) = 1 - 1 = 0.\n",
    "\n",
    "**Example 2:**\n",
    "\n",
    "Input: nums = [0,10], k = 2\n",
    "Output: 6\n",
    "Explanation: Change nums to be [2, 8]. The score is max(nums) - min(nums) = 8 - 2 = 6.\n",
    "\n",
    "**Example 3:**\n",
    "\n",
    "Input: nums = [1,3,6], k = 3\n",
    "Output: 3\n",
    "Explanation: Change nums to be [4, 6, 3]. The score is max(nums) - min(nums) = 6 - 3 = 3.\n",
    "\n",
    "**Constraints:**\n",
    "\n",
    "- 1 <= nums.length <= 104\n",
    "- 0 <= nums[i] <= 104\n",
    "- 0 <= k <= 104"
   ]
  },
  {
   "cell_type": "code",
   "execution_count": 1,
   "id": "162d1ea6",
   "metadata": {},
   "outputs": [
    {
     "name": "stdout",
     "output_type": "stream",
     "text": [
      "0\n",
      "6\n",
      "-1\n"
     ]
    }
   ],
   "source": [
    "def min_score(nums, k):\n",
    "    # Compute the initial min and max values\n",
    "    min_num = min(nums)\n",
    "    max_num = max(nums)\n",
    "    \n",
    "    # Calculate the possible minimum and maximum values after transformation\n",
    "    min_transformed = min_num + k\n",
    "    max_transformed = max_num - k\n",
    "    \n",
    "    # The minimum score is the minimum difference between any possible max and min\n",
    "    min_score = max_num - min_num\n",
    "    min_score = min(min_score, (max_num - k) - (min_num + k))\n",
    "    min_score = min(min_score, (max_num + k) - (min_num - k))\n",
    "    \n",
    "    return min_score\n",
    "\n",
    "# Example usage:\n",
    "print(min_score([1], 0))      # Output: 0\n",
    "print(min_score([0,10], 2))   # Output: 6\n",
    "print(min_score([1,3,6], 3))  # Output: 3"
   ]
  },
  {
   "cell_type": "code",
   "execution_count": null,
   "id": "289fe3df",
   "metadata": {},
   "outputs": [],
   "source": []
  }
 ],
 "metadata": {
  "kernelspec": {
   "display_name": "Python 3 (ipykernel)",
   "language": "python",
   "name": "python3"
  },
  "language_info": {
   "codemirror_mode": {
    "name": "ipython",
    "version": 3
   },
   "file_extension": ".py",
   "mimetype": "text/x-python",
   "name": "python",
   "nbconvert_exporter": "python",
   "pygments_lexer": "ipython3",
   "version": "3.8.11"
  }
 },
 "nbformat": 4,
 "nbformat_minor": 5
}
