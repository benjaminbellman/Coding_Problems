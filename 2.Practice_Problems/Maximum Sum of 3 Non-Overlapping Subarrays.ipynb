{
 "cells": [
  {
   "cell_type": "markdown",
   "id": "6296f6f2",
   "metadata": {},
   "source": [
    "# Maximum Sum of 3 Non-Overlapping Subarrays"
   ]
  },
  {
   "cell_type": "markdown",
   "id": "e49986d2",
   "metadata": {},
   "source": [
    "Given an integer array nums and an integer k, find three non-overlapping subarrays of length k with maximum sum and return them.\n",
    "\n",
    "Return the result as a list of indices representing the starting position of each interval (0-indexed). If there are multiple answers, return the lexicographically smallest one.\n",
    "\n",
    " \n",
    "\n",
    "**Example 1:**\n",
    "\n",
    "Input: nums = [1,2,1,2,6,7,5,1], k = 2\n",
    "\n",
    "Output: [0,3,5]\n",
    "Explanation: Subarrays [1, 2], [2, 6], [7, 5] correspond to the starting indices [0, 3, 5].\n",
    "We could have also taken [2, 1], but an answer of [1, 3, 5] would be lexicographically larger.\n",
    "\n",
    "**Example 2:**\n",
    "\n",
    "Input: nums = [1,2,1,2,1,2,1,2,1], k = 2\n",
    "\n",
    "Output: [0,2,4]\n",
    " \n",
    "\n",
    "**Constraints:**\n",
    "\n",
    "- 1 <= nums.length <= 2 * 104\n",
    "- 1 <= nums[i] < 216\n",
    "- 1 <= k <= floor(nums.length / 3)"
   ]
  },
  {
   "cell_type": "code",
   "execution_count": 1,
   "id": "371ed8ff",
   "metadata": {},
   "outputs": [
    {
     "name": "stdout",
     "output_type": "stream",
     "text": [
      "[0, 3, 5]\n",
      "[0, 2, 4]\n"
     ]
    }
   ],
   "source": [
    "def maxSumOfThreeSubarrays(nums, k):\n",
    "    n = len(nums)\n",
    "    sums = [0] * (n - k + 1)\n",
    "    \n",
    "    # Calculate the sum of each possible subarray of length k\n",
    "    window_sum = sum(nums[:k])\n",
    "    sums[0] = window_sum\n",
    "    for i in range(1, n - k + 1):\n",
    "        window_sum += nums[i + k - 1] - nums[i - 1]\n",
    "        sums[i] = window_sum\n",
    "    \n",
    "    # Initialize left_max and right_max arrays to store the maximum sum subarray indices\n",
    "    left_max = [0] * (n - k + 1)\n",
    "    right_max = [0] * (n - k + 1)\n",
    "    \n",
    "    # Find the index of the maximum sum subarray from the left\n",
    "    max_sum_index = 0\n",
    "    for i in range(n - k + 1):\n",
    "        if sums[i] > sums[max_sum_index]:\n",
    "            max_sum_index = i\n",
    "        left_max[i] = max_sum_index\n",
    "    \n",
    "    # Find the index of the maximum sum subarray from the right\n",
    "    max_sum_index = n - k\n",
    "    for i in range(n - k, -1, -1):\n",
    "        if sums[i] >= sums[max_sum_index]:\n",
    "            max_sum_index = i\n",
    "        right_max[i] = max_sum_index\n",
    "    \n",
    "    max_sum = 0\n",
    "    result = [0, 0, 0]\n",
    "    \n",
    "    # Iterate through possible middle subarrays\n",
    "    for i in range(k, n - 2 * k + 1):\n",
    "        left = left_max[i - k]\n",
    "        right = right_max[i + k]\n",
    "        total_sum = sums[i] + sums[left] + sums[right]\n",
    "        \n",
    "        if total_sum > max_sum:\n",
    "            max_sum = total_sum\n",
    "            result = [left, i, right]\n",
    "    \n",
    "    return result\n",
    "\n",
    "# Example usage:\n",
    "nums1 = [1, 2, 1, 2, 6, 7, 5, 1]\n",
    "k1 = 2\n",
    "output1 = maxSumOfThreeSubarrays(nums1, k1)\n",
    "print(output1)  # Output: [0, 3, 5]\n",
    "\n",
    "nums2 = [1, 2, 1, 2, 1, 2, 1, 2, 1]\n",
    "k2 = 2\n",
    "output2 = maxSumOfThreeSubarrays(nums2, k2)\n",
    "print(output2)  # Output: [0, 2, 4]"
   ]
  },
  {
   "cell_type": "code",
   "execution_count": null,
   "id": "a0c77f5d",
   "metadata": {},
   "outputs": [],
   "source": []
  }
 ],
 "metadata": {
  "kernelspec": {
   "display_name": "Python 3",
   "language": "python",
   "name": "python3"
  },
  "language_info": {
   "codemirror_mode": {
    "name": "ipython",
    "version": 3
   },
   "file_extension": ".py",
   "mimetype": "text/x-python",
   "name": "python",
   "nbconvert_exporter": "python",
   "pygments_lexer": "ipython3",
   "version": "3.9.13"
  }
 },
 "nbformat": 4,
 "nbformat_minor": 5
}
