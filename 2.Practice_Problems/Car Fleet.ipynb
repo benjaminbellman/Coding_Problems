{
 "cells": [
  {
   "cell_type": "markdown",
   "id": "d3307c13",
   "metadata": {},
   "source": [
    "# Car Fleet"
   ]
  },
  {
   "cell_type": "markdown",
   "id": "a7bf83c3",
   "metadata": {},
   "source": [
    "There are n cars at given miles away from the starting mile 0, traveling to reach the mile target.\n",
    "\n",
    "You are given two integer array position and speed, both of length n, where position[i] is the starting mile of the ith car and speed[i] is the speed of the ith car in miles per hour.\n",
    "\n",
    "A car cannot pass another car, but it can catch up and then travel next to it at the speed of the slower car.\n",
    "\n",
    "A car fleet is a car or cars driving next to each other. The speed of the car fleet is the minimum speed of any car in the fleet.\n",
    "\n",
    "If a car catches up to a car fleet at the mile target, it will still be considered as part of the car fleet.\n",
    "\n",
    "Return the number of car fleets that will arrive at the destination.\n",
    "\n",
    "**Example 1:**\n",
    "\n",
    "Input: target = 12, position = [10,8,0,5,3], speed = [2,4,1,1,3]\n",
    "\n",
    "Output: 3\n",
    "\n",
    "Explanation:\n",
    "\n",
    "The cars starting at 10 (speed 2) and 8 (speed 4) become a fleet, meeting each other at 12. The fleet forms at target.\n",
    "The car starting at 0 (speed 1) does not catch up to any other car, so it is a fleet by itself.\n",
    "The cars starting at 5 (speed 1) and 3 (speed 3) become a fleet, meeting each other at 6. The fleet moves at speed 1 until it reaches target.\n",
    "\n",
    "**Example 2:**\n",
    "\n",
    "Input: target = 10, position = [3], speed = [3]\n",
    "\n",
    "Output: 1\n",
    "\n",
    "Explanation:\n",
    "\n",
    "There is only one car, hence there is only one fleet.\n",
    "\n",
    "**Example 3:**\n",
    "\n",
    "Input: target = 100, position = [0,2,4], speed = [4,2,1]\n",
    "\n",
    "Output: 1\n",
    "\n",
    "Explanation:\n",
    "\n",
    "The cars starting at 0 (speed 4) and 2 (speed 2) become a fleet, meeting each other at 4. The car starting at 4 (speed 1) travels to 5.\n",
    "Then, the fleet at 4 (speed 2) and the car at position 5 (speed 1) become one fleet, meeting each other at 6. The fleet moves at speed 1 until it reaches target.\n",
    " \n",
    "\n",
    "**Constraints:**\n",
    "\n",
    "- n == position.length == speed.length\n",
    "- 1 <= n <= 105\n",
    "- 0 < target <= 106\n",
    "- 0 <= position[i] < target\n",
    "- All the values of position are unique.\n",
    "- 0 < speed[i] <= 106"
   ]
  },
  {
   "cell_type": "code",
   "execution_count": 1,
   "id": "3fec7832",
   "metadata": {},
   "outputs": [
    {
     "name": "stdout",
     "output_type": "stream",
     "text": [
      "3\n"
     ]
    }
   ],
   "source": [
    "def carFleet(target, position, speed):\n",
    "    cars = sorted(zip(position, speed), reverse=True)  # Sort by position in descending order\n",
    "    fleets = 0\n",
    "    max_time = -1.0\n",
    "    \n",
    "    for pos, spd in cars:\n",
    "        time_to_target = (target - pos) / spd\n",
    "        if time_to_target > max_time:\n",
    "            max_time = time_to_target\n",
    "            fleets += 1\n",
    "    \n",
    "    return fleets\n",
    "\n",
    "# Example usage:\n",
    "target = 12\n",
    "position = [10, 8, 0, 5, 3]\n",
    "speed = [2, 4, 1, 1, 3]\n",
    "print(carFleet(target, position, speed))  # Output: 3"
   ]
  },
  {
   "cell_type": "code",
   "execution_count": null,
   "id": "64be8605",
   "metadata": {},
   "outputs": [],
   "source": []
  }
 ],
 "metadata": {
  "kernelspec": {
   "display_name": "Python 3 (ipykernel)",
   "language": "python",
   "name": "python3"
  },
  "language_info": {
   "codemirror_mode": {
    "name": "ipython",
    "version": 3
   },
   "file_extension": ".py",
   "mimetype": "text/x-python",
   "name": "python",
   "nbconvert_exporter": "python",
   "pygments_lexer": "ipython3",
   "version": "3.8.11"
  }
 },
 "nbformat": 4,
 "nbformat_minor": 5
}
