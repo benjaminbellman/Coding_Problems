{
 "cells": [
  {
   "cell_type": "markdown",
   "id": "2c97ca39",
   "metadata": {},
   "source": [
    "# Longest Chunked Palindrome Decomposition"
   ]
  },
  {
   "cell_type": "markdown",
   "id": "d2e377a8",
   "metadata": {},
   "source": [
    "You are given a string text. You should split it to k substrings (subtext1, subtext2, ..., subtextk) such that:\n",
    "\n",
    "subtexti is a non-empty string.\n",
    "The concatenation of all the substrings is equal to text (i.e., subtext1 + subtext2 + ... + subtextk == text).\n",
    "subtexti == subtextk - i + 1 for all valid values of i (i.e., 1 <= i <= k).\n",
    "Return the largest possible value of k.\n",
    "\n",
    "**Example 1:**\n",
    "\n",
    "Input: text = \"ghiabcdefhelloadamhelloabcdefghi\"\n",
    "Output: 7\n",
    "Explanation: We can split the string on \"(ghi)(abcdef)(hello)(adam)(hello)(abcdef)(ghi)\".\n",
    "\n",
    "**Example 2:**\n",
    "\n",
    "Input: text = \"merchant\"\n",
    "Output: 1\n",
    "Explanation: We can split the string on \"(merchant)\".\n",
    "\n",
    "**Example 3:**\n",
    "\n",
    "Input: text = \"antaprezatepzapreanta\"\n",
    "Output: 11\n",
    "Explanation: We can split the string on \"(a)(nt)(a)(pre)(za)(tep)(za)(pre)(a)(nt)(a)\".\n",
    " \n",
    "\n",
    "**Constraints:**\n",
    "\n",
    "- 1 <= text.length <= 1000\n",
    "- text consists only of lowercase English characters."
   ]
  },
  {
   "cell_type": "code",
   "execution_count": 1,
   "id": "31e2899c",
   "metadata": {},
   "outputs": [
    {
     "name": "stdout",
     "output_type": "stream",
     "text": [
      "7\n",
      "1\n",
      "11\n"
     ]
    }
   ],
   "source": [
    "def max_symmetric_split(text: str) -> int:\n",
    "    left, right = 0, len(text)\n",
    "    parts = []\n",
    "    \n",
    "    while left < right:\n",
    "        for i in range(1, (right - left) // 2 + 1):\n",
    "            if text[left:left + i] == text[right - i:right]:\n",
    "                parts.append(text[left:left + i])\n",
    "                left += i\n",
    "                right -= i\n",
    "                break\n",
    "        else:\n",
    "            break  # No more matching substrings\n",
    "    \n",
    "    return len(parts) * 2 + (1 if left < right else 0)\n",
    "\n",
    "# Test cases\n",
    "print(max_symmetric_split(\"ghiabcdefhelloadamhelloabcdefghi\"))  # Output: 7\n",
    "print(max_symmetric_split(\"merchant\"))  # Output: 1\n",
    "print(max_symmetric_split(\"antaprezatepzapreanta\"))  # Output: 11"
   ]
  },
  {
   "cell_type": "code",
   "execution_count": null,
   "id": "5eca5bc6",
   "metadata": {},
   "outputs": [],
   "source": []
  }
 ],
 "metadata": {
  "kernelspec": {
   "display_name": "Python 3 (ipykernel)",
   "language": "python",
   "name": "python3"
  },
  "language_info": {
   "codemirror_mode": {
    "name": "ipython",
    "version": 3
   },
   "file_extension": ".py",
   "mimetype": "text/x-python",
   "name": "python",
   "nbconvert_exporter": "python",
   "pygments_lexer": "ipython3",
   "version": "3.8.11"
  }
 },
 "nbformat": 4,
 "nbformat_minor": 5
}
