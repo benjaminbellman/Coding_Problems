{
 "cells": [
  {
   "cell_type": "markdown",
   "id": "cfbefd6e",
   "metadata": {},
   "source": [
    "# Critical Connections in a Network"
   ]
  },
  {
   "cell_type": "markdown",
   "id": "c4a1d8c4",
   "metadata": {},
   "source": [
    "There are n servers numbered from 0 to n - 1 connected by undirected server-to-server connections forming a network where connections[i] = [ai, bi] represents a connection between servers ai and bi. Any server can reach other servers directly or indirectly through the network.\n",
    "\n",
    "A critical connection is a connection that, if removed, will make some servers unable to reach some other server.\n",
    "\n",
    "Return all critical connections in the network in any order.\n",
    "\n",
    "**Example 1:**\n",
    "\n",
    "Input: n = 4, connections = [[0,1],[1,2],[2,0],[1,3]]\n",
    "Output: [[1,3]]\n",
    "Explanation: [[3,1]] is also accepted.\n",
    "\n",
    "**Example 2:**\n",
    "\n",
    "Input: n = 2, connections = [[0,1]]\n",
    "Output: [[0,1]]\n",
    " \n",
    "**Constraints:**\n",
    "\n",
    "- 2 <= n <= 105\n",
    "- n - 1 <= connections.length <= 105\n",
    "- 0 <= ai, bi <= n - 1\n",
    "- ai != bi\n",
    "- There are no repeated connections."
   ]
  },
  {
   "cell_type": "code",
   "execution_count": 1,
   "id": "7da5f563",
   "metadata": {},
   "outputs": [],
   "source": [
    "from collections import defaultdict\n",
    "\n",
    "def criticalConnections(n, connections):\n",
    "    graph = defaultdict(list)\n",
    "    \n",
    "    # Build graph\n",
    "    for u, v in connections:\n",
    "        graph[u].append(v)\n",
    "        graph[v].append(u)\n",
    "        \n",
    "    disc = [-1] * n  # discovery times\n",
    "    low = [-1] * n   # low-link values\n",
    "    time = [0]       # clock\n",
    "    res = []\n",
    "\n",
    "    def dfs(u, parent):\n",
    "        disc[u] = low[u] = time[0]\n",
    "        time[0] += 1\n",
    "        for v in graph[u]:\n",
    "            if v == parent:\n",
    "                continue\n",
    "            if disc[v] == -1:\n",
    "                dfs(v, u)\n",
    "                low[u] = min(low[u], low[v])\n",
    "                if low[v] > disc[u]:\n",
    "                    res.append([u, v])\n",
    "            else:\n",
    "                low[u] = min(low[u], disc[v])\n",
    "\n",
    "    # Start DFS from node 0\n",
    "    dfs(0, -1)\n",
    "    return res"
   ]
  },
  {
   "cell_type": "code",
   "execution_count": null,
   "id": "5379e533",
   "metadata": {},
   "outputs": [],
   "source": []
  }
 ],
 "metadata": {
  "kernelspec": {
   "display_name": "Python 3 (ipykernel)",
   "language": "python",
   "name": "python3"
  },
  "language_info": {
   "codemirror_mode": {
    "name": "ipython",
    "version": 3
   },
   "file_extension": ".py",
   "mimetype": "text/x-python",
   "name": "python",
   "nbconvert_exporter": "python",
   "pygments_lexer": "ipython3",
   "version": "3.8.11"
  }
 },
 "nbformat": 4,
 "nbformat_minor": 5
}
