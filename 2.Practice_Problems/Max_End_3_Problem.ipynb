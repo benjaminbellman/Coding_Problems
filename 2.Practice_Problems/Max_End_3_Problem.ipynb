{
 "cells": [
  {
   "cell_type": "markdown",
   "id": "548bd796",
   "metadata": {},
   "source": [
    "# max_end3"
   ]
  },
  {
   "cell_type": "markdown",
   "id": "37d4c32d",
   "metadata": {},
   "source": [
    "Given an array of ints length 3, figure out which is larger, the first or last element in the array, and set all the other elements to be that value. Return the changed array.\n",
    "\n",
    "\n",
    "- max_end3([1, 2, 3]) → [3, 3, 3]\n",
    "- max_end3([11, 5, 9]) → [11, 11, 11]\n",
    "- max_end3([2, 11, 3]) → [3, 3, 3]"
   ]
  },
  {
   "cell_type": "code",
   "execution_count": 1,
   "id": "fc7a5614",
   "metadata": {},
   "outputs": [],
   "source": [
    "def max_end3(nums):\n",
    "    # Find the maximum value between the first and last element\n",
    "    max_val = max(nums[0], nums[-1])\n",
    "    \n",
    "    # Create a new list with all elements set to the maximum value\n",
    "    result = [max_val] * 3\n",
    "    \n",
    "    return result"
   ]
  },
  {
   "cell_type": "code",
   "execution_count": 2,
   "id": "0eeeb008",
   "metadata": {},
   "outputs": [
    {
     "name": "stdout",
     "output_type": "stream",
     "text": [
      "[3, 3, 3]\n",
      "[11, 11, 11]\n",
      "[3, 3, 3]\n"
     ]
    }
   ],
   "source": [
    "print(max_end3([1, 2, 3]))   # Output: [3, 3, 3]\n",
    "print(max_end3([11, 5, 9]))  # Output: [11, 11, 11]\n",
    "print(max_end3([2, 11, 3]))  # Output: [3, 3, 3]"
   ]
  },
  {
   "cell_type": "code",
   "execution_count": null,
   "id": "fb63d521",
   "metadata": {},
   "outputs": [],
   "source": []
  }
 ],
 "metadata": {
  "kernelspec": {
   "display_name": "Python 3",
   "language": "python",
   "name": "python3"
  },
  "language_info": {
   "codemirror_mode": {
    "name": "ipython",
    "version": 3
   },
   "file_extension": ".py",
   "mimetype": "text/x-python",
   "name": "python",
   "nbconvert_exporter": "python",
   "pygments_lexer": "ipython3",
   "version": "3.9.13"
  }
 },
 "nbformat": 4,
 "nbformat_minor": 5
}
