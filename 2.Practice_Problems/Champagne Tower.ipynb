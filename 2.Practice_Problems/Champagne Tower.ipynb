{
 "cells": [
  {
   "cell_type": "markdown",
   "id": "c365ecd0",
   "metadata": {},
   "source": [
    "# Champagne Tower"
   ]
  },
  {
   "attachments": {
    "image.png": {
     "image/png": "[encoded data removed]"
    }
   },
   "cell_type": "markdown",
   "id": "a842ea68",
   "metadata": {},
   "source": [
    "We stack glasses in a pyramid, where the first row has 1 glass, the second row has 2 glasses, and so on until the 100th row.  Each glass holds one cup of champagne.\n",
    "\n",
    "Then, some champagne is poured into the first glass at the top.  When the topmost glass is full, any excess liquid poured will fall equally to the glass immediately to the left and right of it.  When those glasses become full, any excess champagne will fall equally to the left and right of those glasses, and so on.  (A glass at the bottom row has its excess champagne fall on the floor.)\n",
    "\n",
    "For example, after one cup of champagne is poured, the top most glass is full.  After two cups of champagne are poured, the two glasses on the second row are half full.  After three cups of champagne are poured, those two cups become full - there are 3 full glasses total now.  After four cups of champagne are poured, the third row has the middle glass half full, and the two outside glasses are a quarter full, as pictured below.\n",
    "\n",
    "![image.png](attachment:image.png)\n",
    "\n",
    "Now after pouring some non-negative integer cups of champagne, return how full the jth glass in the ith row is (both i and j are 0-indexed.)\n",
    "\n",
    "\n",
    "**Example 1:**\n",
    "\n",
    "Input: poured = 1, query_row = 1, query_glass = 1\n",
    "\n",
    "Output: 0.00000\n",
    "Explanation: We poured 1 cup of champange to the top glass of the tower (which is indexed as (0, 0)). There will be no excess liquid so all the glasses under the top glass will remain empty.\n",
    "\n",
    "**Example 2:**\n",
    "\n",
    "Input: poured = 2, query_row = 1, query_glass = 1\n",
    "\n",
    "Output: 0.50000\n",
    "Explanation: We poured 2 cups of champange to the top glass of the tower (which is indexed as (0, 0)). There is one cup of excess liquid. The glass indexed as (1, 0) and the glass indexed as (1, 1) will share the excess liquid equally, and each will get half cup of champange.\n",
    "Example 3:\n",
    "\n",
    "Input: poured = 100000009, query_row = 33, query_glass = 17\n",
    "Output: 1.00000\n",
    "\n",
    "\n",
    "**Constraints:**\n",
    "\n",
    "- 0 <= poured <= 109\n",
    "- 0 <= query_glass <= query_row < 100"
   ]
  },
  {
   "cell_type": "code",
   "execution_count": 1,
   "id": "976a6676",
   "metadata": {},
   "outputs": [
    {
     "name": "stdout",
     "output_type": "stream",
     "text": [
      "0.0\n",
      "0.5\n",
      "1.0\n"
     ]
    }
   ],
   "source": [
    "def champagneTower(poured, query_row, query_glass):\n",
    "    # Initialize the pyramid with all glasses empty\n",
    "    pyramid = [[0.0] * (row + 1) for row in range(query_row + 1)]\n",
    "    pyramid[0][0] = poured\n",
    "    \n",
    "    for row in range(query_row):\n",
    "        for col in range(len(pyramid[row])):\n",
    "            # Calculate excess champagne for the current glass\n",
    "            excess = max(0, pyramid[row][col] - 1)\n",
    "            # Distribute excess equally to the left and right glasses in the next row\n",
    "            pyramid[row + 1][col] += excess / 2\n",
    "            pyramid[row + 1][col + 1] += excess / 2\n",
    "    \n",
    "    return min(1.0, pyramid[query_row][query_glass])\n",
    "\n",
    "# Example usage\n",
    "print(champagneTower(1, 1, 1))  # Output: 0.0\n",
    "print(champagneTower(2, 1, 1))  # Output: 0.5\n",
    "print(champagneTower(100000009, 33, 17))  # Output: 1.0"
   ]
  }
 ],
 "metadata": {
  "kernelspec": {
   "display_name": "Python 3",
   "language": "python",
   "name": "python3"
  },
  "language_info": {
   "codemirror_mode": {
    "name": "ipython",
    "version": 3
   },
   "file_extension": ".py",
   "mimetype": "text/x-python",
   "name": "python",
   "nbconvert_exporter": "python",
   "pygments_lexer": "ipython3",
   "version": "3.9.13"
  }
 },
 "nbformat": 4,
 "nbformat_minor": 5
}
