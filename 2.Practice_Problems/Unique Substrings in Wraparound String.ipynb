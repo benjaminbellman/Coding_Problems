{
 "cells": [
  {
   "cell_type": "markdown",
   "id": "02196c50",
   "metadata": {},
   "source": [
    "# Unique Substrings in Wraparound String"
   ]
  },
  {
   "cell_type": "markdown",
   "id": "8e3c63f5",
   "metadata": {},
   "source": [
    "We define the string base to be the infinite wraparound string of \"abcdefghijklmnopqrstuvwxyz\", so base will look like this:\n",
    "\n",
    "\"...zabcdefghijklmnopqrstuvwxyzabcdefghijklmnopqrstuvwxyzabcd....\".\n",
    "Given a string s, return the number of unique non-empty substrings of s are present in base.\n",
    "\n",
    " \n",
    "\n",
    "**Example 1:**\n",
    "\n",
    "Input: s = \"a\"\n",
    "Output: 1\n",
    "Explanation: Only the substring \"a\" of s is in base.\n",
    "\n",
    "**Example 2:**\n",
    "\n",
    "Input: s = \"cac\"\n",
    "Output: 2\n",
    "Explanation: There are two substrings (\"a\", \"c\") of s in base.\n",
    "\n",
    "**Example 3:**\n",
    "\n",
    "Input: s = \"zab\"\n",
    "Output: 6\n",
    "Explanation: There are six substrings (\"z\", \"a\", \"b\", \"za\", \"ab\", and \"zab\") of s in base.\n",
    " \n",
    "\n",
    "**Constraints:**\n",
    "\n",
    "- 1 <= s.length <= 105\n",
    "- s consists of lowercase English letters."
   ]
  },
  {
   "cell_type": "code",
   "execution_count": 1,
   "id": "7a5b74e5",
   "metadata": {},
   "outputs": [
    {
     "name": "stdout",
     "output_type": "stream",
     "text": [
      "1\n",
      "3\n",
      "6\n"
     ]
    }
   ],
   "source": [
    "def find_unique_substrings_in_base(s):\n",
    "    # Initialize a list to store the count of unique substrings ending with each character in 's'\n",
    "    dp = [0] * 26  # There are 26 letters in the English alphabet\n",
    "\n",
    "    # Initialize variables to keep track of the current substring length and total count\n",
    "    cur_length = 0\n",
    "    total_count = 0\n",
    "\n",
    "    for i in range(len(s)):\n",
    "        # Check if the current character is the consecutive character in the 'base' string\n",
    "        if i > 0 and (ord(s[i]) - ord(s[i - 1]) == 1 or (ord(s[i]) == ord(s[i - 1]) - 25)):\n",
    "            cur_length += 1\n",
    "        else:\n",
    "            cur_length = 1\n",
    "\n",
    "        # Update the count of substrings ending with the current character\n",
    "        char_index = ord(s[i]) - ord('a')\n",
    "        dp[char_index] = max(dp[char_index], cur_length)\n",
    "\n",
    "        # Add the count of substrings ending with the current character to the total count\n",
    "        total_count += dp[char_index]\n",
    "\n",
    "    return total_count\n",
    "\n",
    "# Test cases\n",
    "print(find_unique_substrings_in_base(\"a\"))   # Output: 1\n",
    "print(find_unique_substrings_in_base(\"cac\")) # Output: 2\n",
    "print(find_unique_substrings_in_base(\"zab\")) # Output: 6"
   ]
  },
  {
   "cell_type": "code",
   "execution_count": null,
   "id": "98a64413",
   "metadata": {},
   "outputs": [],
   "source": []
  }
 ],
 "metadata": {
  "kernelspec": {
   "display_name": "Python 3",
   "language": "python",
   "name": "python3"
  },
  "language_info": {
   "codemirror_mode": {
    "name": "ipython",
    "version": 3
   },
   "file_extension": ".py",
   "mimetype": "text/x-python",
   "name": "python",
   "nbconvert_exporter": "python",
   "pygments_lexer": "ipython3",
   "version": "3.9.13"
  }
 },
 "nbformat": 4,
 "nbformat_minor": 5
}
