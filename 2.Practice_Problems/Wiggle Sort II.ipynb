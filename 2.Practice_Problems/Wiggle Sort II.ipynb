{
 "cells": [
  {
   "cell_type": "markdown",
   "id": "2a1e215e",
   "metadata": {},
   "source": [
    "# Wiggle Sort II"
   ]
  },
  {
   "cell_type": "markdown",
   "id": "051d1eff",
   "metadata": {},
   "source": [
    "Given an integer array nums, reorder it such that nums[0] < nums[1] > nums[2] < nums[3]....\n",
    "\n",
    "You may assume the input array always has a valid answer.\n",
    "\n",
    " \n",
    "\n",
    "**Example 1:**\n",
    "\n",
    "Input: nums = [1,5,1,1,6,4]\n",
    "Output: [1,6,1,5,1,4]\n",
    "Explanation: [1,4,1,5,1,6] is also accepted.\n",
    "\n",
    "**Example 2:**\n",
    "\n",
    "Input: nums = [1,3,2,2,3,1]\n",
    "Output: [2,3,1,3,1,2]\n",
    " \n",
    "\n",
    "**Constraints:**\n",
    "\n",
    "1 <= nums.length <= 5 * 104\n",
    "0 <= nums[i] <= 5000\n",
    "It is guaranteed that there will be an answer for the given input nums."
   ]
  },
  {
   "cell_type": "code",
   "execution_count": 2,
   "id": "0e55ad58",
   "metadata": {},
   "outputs": [
    {
     "name": "stdout",
     "output_type": "stream",
     "text": [
      "Input: [1, 5, 1, 1, 6, 4]\n",
      "Output: [1, 6, 1, 5, 1, 4]\n",
      "\n",
      "Input: [1, 3, 2, 2, 3, 1]\n",
      "Output: [2, 3, 1, 3, 1, 2]\n"
     ]
    }
   ],
   "source": [
    "def wiggleSort(nums):\n",
    "    nums.sort()  # Sort the input array in ascending order\n",
    "    mid = (len(nums) + 1) // 2  # Adjusted midpoint for odd-length arrays\n",
    "    nums[::2], nums[1::2] = nums[:mid][::-1], nums[mid:][::-1]\n",
    "    # Rearrange the sorted array to satisfy the desired condition\n",
    "    return nums\n",
    "\n",
    "# Test Example 1\n",
    "nums1 = [1, 5, 1, 1, 6, 4]\n",
    "print(\"Input:\", nums1)\n",
    "print(\"Output:\", wiggleSort(nums1))\n",
    "print()\n",
    "\n",
    "# Test Example 2\n",
    "nums2 = [1, 3, 2, 2, 3, 1]\n",
    "print(\"Input:\", nums2)\n",
    "print(\"Output:\", wiggleSort(nums2))"
   ]
  },
  {
   "cell_type": "code",
   "execution_count": null,
   "id": "3e255188",
   "metadata": {},
   "outputs": [],
   "source": []
  }
 ],
 "metadata": {
  "kernelspec": {
   "display_name": "Python 3",
   "language": "python",
   "name": "python3"
  },
  "language_info": {
   "codemirror_mode": {
    "name": "ipython",
    "version": 3
   },
   "file_extension": ".py",
   "mimetype": "text/x-python",
   "name": "python",
   "nbconvert_exporter": "python",
   "pygments_lexer": "ipython3",
   "version": "3.9.13"
  }
 },
 "nbformat": 4,
 "nbformat_minor": 5
}
