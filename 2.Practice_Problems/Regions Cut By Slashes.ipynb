{
 "cells": [
  {
   "cell_type": "markdown",
   "id": "dea5fc30",
   "metadata": {},
   "source": [
    "# Regions Cut By Slashes"
   ]
  },
  {
   "cell_type": "markdown",
   "id": "12e75585",
   "metadata": {},
   "source": [
    "An n x n grid is composed of 1 x 1 squares where each 1 x 1 square consists of a '/', '\\', or blank space ' '. These characters divide the square into contiguous regions.\n",
    "\n",
    "Given the grid grid represented as a string array, return the number of regions.\n",
    "\n",
    "Note that backslash characters are escaped, so a '\\' is represented as '\\\\'.\n",
    "\n",
    "**Example 1:**\n",
    "\n",
    "Input: grid = [\" /\",\"/ \"]\n",
    "Output: 2\n",
    "\n",
    "**Example 2:**\n",
    "\n",
    "Input: grid = [\" /\",\"  \"]\n",
    "Output: 1\n",
    "\n",
    "**Example 3:**\n",
    "\n",
    "Input: grid = [\"/\\\\\",\"\\\\/\"]\n",
    "Output: 5\n",
    "Explanation: Recall that because \\ characters are escaped, \"\\\\/\" refers to \\/, and \"/\\\\\" refers to /\\.\n",
    "\n",
    "**Constraints:**\n",
    "\n",
    "- n == grid.length == grid[i].length\n",
    "- 1 <= n <= 30\n",
    "- grid[i][j] is either '/', '\\', or ' '."
   ]
  },
  {
   "cell_type": "code",
   "execution_count": 1,
   "id": "504a6c9a",
   "metadata": {},
   "outputs": [],
   "source": [
    "class UnionFind:\n",
    "    def __init__(self, size):\n",
    "        self.parent = list(range(size))\n",
    "        self.rank = [1] * size\n",
    "\n",
    "    def find(self, x):\n",
    "        if self.parent[x] != x:\n",
    "            self.parent[x] = self.find(self.parent[x])\n",
    "        return self.parent[x]\n",
    "\n",
    "    def union(self, x, y):\n",
    "        rootX = self.find(x)\n",
    "        rootY = self.find(y)\n",
    "\n",
    "        if rootX != rootY:\n",
    "            if self.rank[rootX] > self.rank[rootY]:\n",
    "                self.parent[rootY] = rootX\n",
    "            elif self.rank[rootX] < self.rank[rootY]:\n",
    "                self.parent[rootX] = rootY\n",
    "            else:\n",
    "                self.parent[rootY] = rootX\n",
    "                self.rank[rootX] += 1\n",
    "\n",
    "def regionsBySlashes(grid):\n",
    "    n = len(grid)\n",
    "    uf = UnionFind(n * n * 4)\n",
    "    \n",
    "    for r in range(n):\n",
    "        for c in range(n):\n",
    "            index = 4 * (r * n + c)\n",
    "            if grid[r][c] == ' ':\n",
    "                # Union all four triangles within the cell\n",
    "                uf.union(index, index + 1)\n",
    "                uf.union(index, index + 2)\n",
    "                uf.union(index, index + 3)\n",
    "            elif grid[r][c] == '/':\n",
    "                # Union top-right with bottom-left, and top-left with bottom-right\n",
    "                uf.union(index, index + 3)\n",
    "                uf.union(index + 1, index + 2)\n",
    "            elif grid[r][c] == '\\\\':\n",
    "                # Union top-left with bottom-right, and top-right with bottom-left\n",
    "                uf.union(index, index + 1)\n",
    "                uf.union(index + 2, index + 3)\n",
    "                \n",
    "            # Union with neighboring cells\n",
    "            if c + 1 < n:  # Right neighbor\n",
    "                uf.union(index + 1, 4 * (r * n + c + 1) + 3)\n",
    "            if r + 1 < n:  # Bottom neighbor\n",
    "                uf.union(index + 2, 4 * ((r + 1) * n + c))\n",
    "\n",
    "    # Count the number of distinct regions\n",
    "    region_count = sum(1 for i in range(4 * n * n) if uf.find(i) == i)\n",
    "    return region_count"
   ]
  },
  {
   "cell_type": "code",
   "execution_count": null,
   "id": "32cf665b",
   "metadata": {},
   "outputs": [],
   "source": []
  }
 ],
 "metadata": {
  "kernelspec": {
   "display_name": "Python 3 (ipykernel)",
   "language": "python",
   "name": "python3"
  },
  "language_info": {
   "codemirror_mode": {
    "name": "ipython",
    "version": 3
   },
   "file_extension": ".py",
   "mimetype": "text/x-python",
   "name": "python",
   "nbconvert_exporter": "python",
   "pygments_lexer": "ipython3",
   "version": "3.8.11"
  }
 },
 "nbformat": 4,
 "nbformat_minor": 5
}
