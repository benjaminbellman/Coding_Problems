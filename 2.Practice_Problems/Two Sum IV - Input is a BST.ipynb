{
 "cells": [
  {
   "cell_type": "markdown",
   "id": "10ec389c",
   "metadata": {},
   "source": [
    "# Two Sum IV - Input is a BST"
   ]
  },
  {
   "cell_type": "markdown",
   "id": "9bd4508b",
   "metadata": {},
   "source": [
    "Given the root of a binary search tree and an integer k, return true if there exist two elements in the BST such that their sum is equal to k, or false otherwise.\n",
    "\n",
    " \n",
    "\n",
    "**Example 1:**\n",
    "\n",
    "\n",
    "Input: root = [5,3,6,2,4,null,7], k = 9\n",
    "\n",
    "Output: true\n",
    "\n",
    "**Example 2:**\n",
    "\n",
    "\n",
    "Input: root = [5,3,6,2,4,null,7], k = 28\n",
    "\n",
    "Output: false\n",
    " \n",
    "\n",
    "**Constraints:**\n",
    "\n",
    "- The number of nodes in the tree is in the range [1, 104].\n",
    "- -104 <= Node.val <= 104\n",
    "- root is guaranteed to be a valid binary search tree.\n",
    "- -105 <= k <= 105"
   ]
  },
  {
   "cell_type": "code",
   "execution_count": 1,
   "id": "054f76a6",
   "metadata": {},
   "outputs": [],
   "source": [
    "class TreeNode:\n",
    "    def __init__(self, val=0, left=None, right=None):\n",
    "        self.val = val\n",
    "        self.left = left\n",
    "        self.right = right\n",
    "\n",
    "def findTarget(root, k):\n",
    "    def inOrderTraversal(node):\n",
    "        if not node:\n",
    "            return []\n",
    "        return inOrderTraversal(node.left) + [node.val] + inOrderTraversal(node.right)\n",
    "\n",
    "    nums = inOrderTraversal(root)\n",
    "    left, right = 0, len(nums) - 1\n",
    "\n",
    "    while left < right:\n",
    "        current_sum = nums[left] + nums[right]\n",
    "        if current_sum == k:\n",
    "            return True\n",
    "        elif current_sum < k:\n",
    "            left += 1\n",
    "        else:\n",
    "            right -= 1\n",
    "\n",
    "    return False"
   ]
  },
  {
   "cell_type": "code",
   "execution_count": 2,
   "id": "712f7eb2",
   "metadata": {},
   "outputs": [
    {
     "name": "stdout",
     "output_type": "stream",
     "text": [
      "True\n",
      "False\n"
     ]
    }
   ],
   "source": [
    "# Example 1:\n",
    "root1 = TreeNode(5)\n",
    "root1.left = TreeNode(3)\n",
    "root1.right = TreeNode(6)\n",
    "root1.left.left = TreeNode(2)\n",
    "root1.left.right = TreeNode(4)\n",
    "root1.right.right = TreeNode(7)\n",
    "k1 = 9\n",
    "print(findTarget(root1, k1))  # Output: True\n",
    "\n",
    "# Example 2:\n",
    "root2 = TreeNode(5)\n",
    "root2.left = TreeNode(3)\n",
    "root2.right = TreeNode(6)\n",
    "root2.left.left = TreeNode(2)\n",
    "root2.left.right = TreeNode(4)\n",
    "root2.right.right = TreeNode(7)\n",
    "k2 = 28\n",
    "print(findTarget(root2, k2))  # Output: False"
   ]
  },
  {
   "cell_type": "code",
   "execution_count": null,
   "id": "a6d8075d",
   "metadata": {},
   "outputs": [],
   "source": []
  }
 ],
 "metadata": {
  "kernelspec": {
   "display_name": "Python 3",
   "language": "python",
   "name": "python3"
  },
  "language_info": {
   "codemirror_mode": {
    "name": "ipython",
    "version": 3
   },
   "file_extension": ".py",
   "mimetype": "text/x-python",
   "name": "python",
   "nbconvert_exporter": "python",
   "pygments_lexer": "ipython3",
   "version": "3.9.13"
  }
 },
 "nbformat": 4,
 "nbformat_minor": 5
}
