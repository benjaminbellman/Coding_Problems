{
 "cells": [
  {
   "cell_type": "markdown",
   "id": "c9e8f830",
   "metadata": {},
   "source": [
    "# Relative Sort Array"
   ]
  },
  {
   "cell_type": "markdown",
   "id": "0d3499ba",
   "metadata": {},
   "source": [
    "Given two arrays arr1 and arr2, the elements of arr2 are distinct, and all elements in arr2 are also in arr1.\n",
    "\n",
    "Sort the elements of arr1 such that the relative ordering of items in arr1 are the same as in arr2. Elements that do not appear in arr2 should be placed at the end of arr1 in ascending order.\n",
    "\n",
    "**Example 1:**\n",
    "\n",
    "Input: arr1 = [2,3,1,3,2,4,6,7,9,2,19], arr2 = [2,1,4,3,9,6]\n",
    "Output: [2,2,2,1,4,3,3,9,6,7,19]\n",
    "\n",
    "**Example 2:**\n",
    "\n",
    "Input: arr1 = [28,6,22,8,44,17], arr2 = [22,28,8,6]\n",
    "Output: [22,28,8,6,17,44]\n",
    " \n",
    "**Constraints:**\n",
    "\n",
    "- 1 <= arr1.length, arr2.length <= 1000\n",
    "- 0 <= arr1[i], arr2[i] <= 1000\n",
    "- All the elements of arr2 are distinct.\n",
    "- Each arr2[i] is in arr1."
   ]
  },
  {
   "cell_type": "code",
   "execution_count": 1,
   "id": "5c7be873",
   "metadata": {},
   "outputs": [
    {
     "name": "stdout",
     "output_type": "stream",
     "text": [
      "[2, 2, 2, 1, 4, 3, 3, 9, 6, 7, 19]\n",
      "[22, 28, 8, 6, 17, 44]\n"
     ]
    }
   ],
   "source": [
    "from collections import Counter\n",
    "\n",
    "def relativeSortArray(arr1, arr2):\n",
    "    # Count occurrences of elements in arr1\n",
    "    count = Counter(arr1)\n",
    "    \n",
    "    # Sort elements based on arr2 order\n",
    "    result = []\n",
    "    for num in arr2:\n",
    "        result.extend([num] * count[num])  # Add num count[num] times\n",
    "        del count[num]  # Remove from count after processing\n",
    "    \n",
    "    # Sort remaining elements that are not in arr2\n",
    "    remaining = sorted(count.elements())\n",
    "    result.extend(remaining)\n",
    "    \n",
    "    return result\n",
    "\n",
    "# Test cases\n",
    "arr1_1 = [2,3,1,3,2,4,6,7,9,2,19]\n",
    "arr2_1 = [2,1,4,3,9,6]\n",
    "print(relativeSortArray(arr1_1, arr2_1))  # Output: [2,2,2,1,4,3,3,9,6,7,19]\n",
    "\n",
    "arr1_2 = [28,6,22,8,44,17]\n",
    "arr2_2 = [22,28,8,6]\n",
    "print(relativeSortArray(arr1_2, arr2_2))  # Output: [22,28,8,6,17,44]"
   ]
  },
  {
   "cell_type": "code",
   "execution_count": null,
   "id": "29ea9e53",
   "metadata": {},
   "outputs": [],
   "source": []
  }
 ],
 "metadata": {
  "kernelspec": {
   "display_name": "Python 3 (ipykernel)",
   "language": "python",
   "name": "python3"
  },
  "language_info": {
   "codemirror_mode": {
    "name": "ipython",
    "version": 3
   },
   "file_extension": ".py",
   "mimetype": "text/x-python",
   "name": "python",
   "nbconvert_exporter": "python",
   "pygments_lexer": "ipython3",
   "version": "3.8.11"
  }
 },
 "nbformat": 4,
 "nbformat_minor": 5
}
