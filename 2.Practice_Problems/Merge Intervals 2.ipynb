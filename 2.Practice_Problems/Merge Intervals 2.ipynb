{
 "cells": [
  {
   "cell_type": "markdown",
   "id": "743d62f6",
   "metadata": {},
   "source": [
    "# Merge Intervals 2"
   ]
  },
  {
   "cell_type": "markdown",
   "id": "0e85cc21",
   "metadata": {},
   "source": [
    "Given an array of intervals where intervals[i] = [starti, endi], merge all overlapping intervals, and return an array of the non-overlapping intervals that cover all the intervals in the input.\n",
    "\n",
    "**Example 1:**\n",
    "\n",
    "Input: intervals = [[1,3],[2,6],[8,10],[15,18]]\n",
    "Output: [[1,6],[8,10],[15,18]]\n",
    "Explanation: Since intervals [1,3] and [2,6] overlap, merge them into [1,6].\n",
    "\n",
    "**Example 2:**\n",
    "\n",
    "Input: intervals = [[1,4],[4,5]]\n",
    "Output: [[1,5]]\n",
    "Explanation: Intervals [1,4] and [4,5] are considered overlapping.\n",
    " \n",
    "**Constraints:**\n",
    "\n",
    "- 1 <= intervals.length <= 104\n",
    "- intervals[i].length == 2\n",
    "- 0 <= starti <= endi <= 10"
   ]
  },
  {
   "cell_type": "code",
   "execution_count": 1,
   "id": "8ccc91fe",
   "metadata": {},
   "outputs": [],
   "source": [
    "def merge(intervals):\n",
    "    # Step 1: Sort intervals by the start time\n",
    "    intervals.sort(key=lambda x: x[0])\n",
    "\n",
    "    merged = []\n",
    "    for interval in intervals:\n",
    "        # If merged is empty or there is no overlap, add the interval\n",
    "        if not merged or merged[-1][1] < interval[0]:\n",
    "            merged.append(interval)\n",
    "        else:\n",
    "            # There is an overlap, so merge the intervals\n",
    "            merged[-1][1] = max(merged[-1][1], interval[1])\n",
    "    \n",
    "    return merged\n"
   ]
  },
  {
   "cell_type": "code",
   "execution_count": 2,
   "id": "cd781818",
   "metadata": {},
   "outputs": [
    {
     "name": "stdout",
     "output_type": "stream",
     "text": [
      "[[1, 6], [8, 10], [15, 18]]\n",
      "[[1, 5]]\n"
     ]
    }
   ],
   "source": [
    "print(merge([[1,3],[2,6],[8,10],[15,18]]))\n",
    "# Output: [[1,6],[8,10],[15,18]]\n",
    "\n",
    "print(merge([[1,4],[4,5]]))\n",
    "# Output: [[1,5]]"
   ]
  },
  {
   "cell_type": "code",
   "execution_count": null,
   "id": "b96df31e",
   "metadata": {},
   "outputs": [],
   "source": []
  }
 ],
 "metadata": {
  "kernelspec": {
   "display_name": "Python 3 (ipykernel)",
   "language": "python",
   "name": "python3"
  },
  "language_info": {
   "codemirror_mode": {
    "name": "ipython",
    "version": 3
   },
   "file_extension": ".py",
   "mimetype": "text/x-python",
   "name": "python",
   "nbconvert_exporter": "python",
   "pygments_lexer": "ipython3",
   "version": "3.8.11"
  }
 },
 "nbformat": 4,
 "nbformat_minor": 5
}
