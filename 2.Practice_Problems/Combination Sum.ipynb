{
 "cells": [
  {
   "cell_type": "markdown",
   "id": "029d79f8",
   "metadata": {},
   "source": [
    "# Combination Sum"
   ]
  },
  {
   "cell_type": "markdown",
   "id": "6626ecb7",
   "metadata": {},
   "source": [
    "Given an array of distinct integers candidates and a target integer target, return a list of all unique combinations of candidates where the chosen numbers sum to target. You may return the combinations in any order.\n",
    "\n",
    "The same number may be chosen from candidates an unlimited number of times. Two combinations are unique if the frequency of at least one of the chosen numbers is different.\n",
    "\n",
    "The test cases are generated such that the number of unique combinations that sum up to target is less than 150 combinations for the given input.\n",
    "\n",
    " \n",
    "\n",
    "**Example 1:**\n",
    "\n",
    "Input: candidates = [2,3,6,7], target = 7\n",
    "Output: [[2,2,3],[7]]\n",
    "Explanation:\n",
    "2 and 3 are candidates, and 2 + 2 + 3 = 7. Note that 2 can be used multiple times.\n",
    "7 is a candidate, and 7 = 7.\n",
    "These are the only two combinations.\n",
    "\n",
    "**Example 2:**\n",
    "\n",
    "Input: candidates = [2,3,5], target = 8\n",
    "Output: [[2,2,2,2],[2,3,3],[3,5]]\n",
    "\n",
    "**Example 3:**\n",
    "\n",
    "Input: candidates = [2], target = 1\n",
    "Output: []\n",
    " \n",
    "\n",
    "**Constraints:**\n",
    "\n",
    "1 <= candidates.length <= 30\n",
    "2 <= candidates[i] <= 40\n",
    "All elements of candidates are distinct.\n",
    "1 <= target <= 40"
   ]
  },
  {
   "cell_type": "code",
   "execution_count": 1,
   "id": "4c187942",
   "metadata": {},
   "outputs": [],
   "source": [
    "from typing import List\n",
    "\n",
    "def combinationSum(candidates: List[int], target: int) -> List[List[int]]:\n",
    "    res = []\n",
    "\n",
    "    def backtrack(start: int, path: List[int], total: int):\n",
    "        if total == target:\n",
    "            res.append(path[:])\n",
    "            return\n",
    "        if total > target:\n",
    "            return\n",
    "        \n",
    "        for i in range(start, len(candidates)):\n",
    "            path.append(candidates[i])\n",
    "            backtrack(i, path, total + candidates[i])  # not i + 1 because we can reuse same element\n",
    "            path.pop()  # backtrack\n",
    "\n",
    "    backtrack(0, [], 0)\n",
    "    return res"
   ]
  },
  {
   "cell_type": "code",
   "execution_count": 2,
   "id": "79ce7e04",
   "metadata": {},
   "outputs": [
    {
     "name": "stdout",
     "output_type": "stream",
     "text": [
      "[[2, 2, 3], [7]]\n",
      "[[2, 2, 2, 2], [2, 3, 3], [3, 5]]\n",
      "[]\n"
     ]
    }
   ],
   "source": [
    "print(combinationSum([2, 3, 6, 7], 7))  # Output: [[2, 2, 3], [7]]\n",
    "print(combinationSum([2, 3, 5], 8))     # Output: [[2, 2, 2, 2], [2, 3, 3], [3, 5]]\n",
    "print(combinationSum([2], 1))          # Output: []"
   ]
  },
  {
   "cell_type": "code",
   "execution_count": null,
   "id": "accbfc39",
   "metadata": {},
   "outputs": [],
   "source": []
  }
 ],
 "metadata": {
  "kernelspec": {
   "display_name": "Python 3 (ipykernel)",
   "language": "python",
   "name": "python3"
  },
  "language_info": {
   "codemirror_mode": {
    "name": "ipython",
    "version": 3
   },
   "file_extension": ".py",
   "mimetype": "text/x-python",
   "name": "python",
   "nbconvert_exporter": "python",
   "pygments_lexer": "ipython3",
   "version": "3.8.11"
  }
 },
 "nbformat": 4,
 "nbformat_minor": 5
}
