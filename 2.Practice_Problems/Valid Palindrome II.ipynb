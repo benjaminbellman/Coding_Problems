{
 "cells": [
  {
   "cell_type": "markdown",
   "id": "38c7cc5d",
   "metadata": {},
   "source": [
    "# Valid Palindrome II"
   ]
  },
  {
   "cell_type": "markdown",
   "id": "b67de9ac",
   "metadata": {},
   "source": [
    "Given a string s, return true if the s can be palindrome after deleting at most one character from it.\n",
    "\n",
    " \n",
    "\n",
    "**Example 1:**\n",
    "\n",
    "Input: s = \"aba\"\n",
    "\n",
    "Output: true\n",
    "\n",
    "**Example 2:**\n",
    "\n",
    "Input: s = \"abca\"\n",
    "\n",
    "Output: true\n",
    "Explanation: You could delete the character 'c'.\n",
    "Example 3:\n",
    "\n",
    "Input: s = \"abc\"\n",
    "\n",
    "Output: false\n",
    " \n",
    "\n",
    "**Constraints:**\n",
    "\n",
    "- 1 <= s.length <= 105\n",
    "- s consists of lowercase English letters."
   ]
  },
  {
   "cell_type": "code",
   "execution_count": 1,
   "id": "ecc4e8f1",
   "metadata": {},
   "outputs": [
    {
     "name": "stdout",
     "output_type": "stream",
     "text": [
      "True\n",
      "True\n",
      "False\n"
     ]
    }
   ],
   "source": [
    "def is_palindrome(s):\n",
    "    return s == s[::-1]\n",
    "\n",
    "def can_be_palindrome_after_deletion(s):\n",
    "    if is_palindrome(s):\n",
    "        return True\n",
    "\n",
    "    left, right = 0, len(s) - 1\n",
    "\n",
    "    while left < right:\n",
    "        if s[left] != s[right]:\n",
    "            # Try deleting either the character at the left or right position\n",
    "            without_left = s[:left] + s[left+1:]\n",
    "            without_right = s[:right] + s[right+1:]\n",
    "            return is_palindrome(without_left) or is_palindrome(without_right)\n",
    "        left += 1\n",
    "        right -= 1\n",
    "\n",
    "    return False\n",
    "\n",
    "# Example usage:\n",
    "s1 = \"aba\"\n",
    "s2 = \"abca\"\n",
    "s3 = \"abc\"\n",
    "\n",
    "print(can_be_palindrome_after_deletion(s1))  # Output: True\n",
    "print(can_be_palindrome_after_deletion(s2))  # Output: True\n",
    "print(can_be_palindrome_after_deletion(s3))  # Output: False"
   ]
  }
 ],
 "metadata": {
  "kernelspec": {
   "display_name": "Python 3",
   "language": "python",
   "name": "python3"
  },
  "language_info": {
   "codemirror_mode": {
    "name": "ipython",
    "version": 3
   },
   "file_extension": ".py",
   "mimetype": "text/x-python",
   "name": "python",
   "nbconvert_exporter": "python",
   "pygments_lexer": "ipython3",
   "version": "3.9.13"
  }
 },
 "nbformat": 4,
 "nbformat_minor": 5
}
