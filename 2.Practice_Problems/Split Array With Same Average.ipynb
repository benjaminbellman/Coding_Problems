{
 "cells": [
  {
   "cell_type": "markdown",
   "id": "6fe12765",
   "metadata": {},
   "source": [
    "# Split Array With Same Average"
   ]
  },
  {
   "cell_type": "markdown",
   "id": "c35a17ae",
   "metadata": {},
   "source": [
    "You should move each element of nums into one of the two arrays A and B such that A and B are non-empty, and average(A) == average(B).\n",
    "\n",
    "Return true if it is possible to achieve that and false otherwise.\n",
    "\n",
    "Note that for an array arr, average(arr) is the sum of all the elements of arr over the length of arr.\n",
    "\n",
    " \n",
    "\n",
    "**Example 1:**\n",
    "\n",
    "Input: nums = [1,2,3,4,5,6,7,8]\n",
    "Output: true\n",
    "Explanation: We can split the array into [1,4,5,8] and [2,3,6,7], and both of them have an average of 4.5.\n",
    "\n",
    "**Example 2:**\n",
    "\n",
    "Input: nums = [3,1]\n",
    "Output: false\n",
    " \n",
    "\n",
    "**Constraints:**\n",
    "\n",
    "- 1 <= nums.length <= 30\n",
    "- 0 <= nums[i] <= 104"
   ]
  },
  {
   "cell_type": "code",
   "execution_count": 2,
   "id": "8cbb67a8",
   "metadata": {},
   "outputs": [
    {
     "name": "stdout",
     "output_type": "stream",
     "text": [
      "True\n",
      "False\n"
     ]
    }
   ],
   "source": [
    "def splitArraySameAverage(nums):\n",
    "    def backtrack(start, sum_a, count_a, sum_b, count_b):\n",
    "        if count_a > 0 and count_b > 0 and sum_a / count_a == sum_b / count_b:\n",
    "            return True\n",
    "        for i in range(start, len(nums)):\n",
    "            if backtrack(i + 1, sum_a + nums[i], count_a + 1, sum_b, count_b) or \\\n",
    "               backtrack(i + 1, sum_a, count_a, sum_b + nums[i], count_b + 1):\n",
    "                return True\n",
    "        return False\n",
    "\n",
    "    return backtrack(0, 0, 0, 0, 0)\n",
    "\n",
    "# Test cases\n",
    "print(splitArraySameAverage([1,2,3,4,5,6,7,8]))  # Output: True\n",
    "print(splitArraySameAverage([3,1]))  # Output: False"
   ]
  },
  {
   "cell_type": "code",
   "execution_count": null,
   "id": "bb19fd1b",
   "metadata": {},
   "outputs": [],
   "source": []
  }
 ],
 "metadata": {
  "kernelspec": {
   "display_name": "Python 3",
   "language": "python",
   "name": "python3"
  },
  "language_info": {
   "codemirror_mode": {
    "name": "ipython",
    "version": 3
   },
   "file_extension": ".py",
   "mimetype": "text/x-python",
   "name": "python",
   "nbconvert_exporter": "python",
   "pygments_lexer": "ipython3",
   "version": "3.9.13"
  }
 },
 "nbformat": 4,
 "nbformat_minor": 5
}
