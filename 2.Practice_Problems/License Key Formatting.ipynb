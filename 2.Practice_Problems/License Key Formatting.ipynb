{
 "cells": [
  {
   "cell_type": "markdown",
   "id": "20235812",
   "metadata": {},
   "source": [
    "# License Key Formatting"
   ]
  },
  {
   "cell_type": "markdown",
   "id": "e570e6c0",
   "metadata": {},
   "source": [
    "You are given a license key represented as a string s that consists of only alphanumeric characters and dashes. The string is separated into n + 1 groups by n dashes. You are also given an integer k.\n",
    "\n",
    "We want to reformat the string s such that each group contains exactly k characters, except for the first group, which could be shorter than k but still must contain at least one character. Furthermore, there must be a dash inserted between two groups, and you should convert all lowercase letters to uppercase.\n",
    "\n",
    "Return the reformatted license key.\n",
    "\n",
    " \n",
    "\n",
    "**Example 1:**\n",
    "\n",
    "Input: s = \"5F3Z-2e-9-w\", k = 4\n",
    "Output: \"5F3Z-2E9W\"\n",
    "Explanation: The string s has been split into two parts, each part has 4 characters.\n",
    "Note that the two extra dashes are not needed and can be removed.\n",
    "\n",
    "**Example 2:**\n",
    "\n",
    "Input: s = \"2-5g-3-J\", k = 2\n",
    "Output: \"2-5G-3J\"\n",
    "Explanation: The string s has been split into three parts, each part has 2 characters except the first part as it could be shorter as mentioned above.\n",
    " \n",
    "\n",
    "**Constraints:**\n",
    "\n",
    "- 1 <= s.length <= 105\n",
    "- s consists of English letters, digits, and dashes '-'.\n",
    "- 1 <= k <= 104"
   ]
  },
  {
   "cell_type": "code",
   "execution_count": 1,
   "id": "162c68ef",
   "metadata": {},
   "outputs": [
    {
     "name": "stdout",
     "output_type": "stream",
     "text": [
      "5F3Z-2E9W\n",
      "2-5G-3J\n"
     ]
    }
   ],
   "source": [
    "def licenseKeyFormatting(s, k):\n",
    "    # Remove all dashes and convert the string to uppercase\n",
    "    s = s.replace(\"-\", \"\").upper()\n",
    "    \n",
    "    # Determine the length of the processed string\n",
    "    length = len(s)\n",
    "    \n",
    "    # Calculate the length of the first group\n",
    "    first_group_length = length % k if length % k != 0 else k\n",
    "    \n",
    "    # Initialize a list to store each group of characters\n",
    "    groups = []\n",
    "    \n",
    "    # Add the first group to the list\n",
    "    groups.append(s[:first_group_length])\n",
    "    \n",
    "    # Add remaining groups to the list, each of size k\n",
    "    for i in range(first_group_length, length, k):\n",
    "        groups.append(s[i:i + k])\n",
    "    \n",
    "    # Join the groups with dashes and return the final string\n",
    "    return \"-\".join(groups)\n",
    "\n",
    "# Example 1\n",
    "s1 = \"5F3Z-2e-9-w\"\n",
    "k1 = 4\n",
    "print(licenseKeyFormatting(s1, k1))  # Output: \"5F3Z-2E9W\"\n",
    "\n",
    "# Example 2\n",
    "s2 = \"2-5g-3-J\"\n",
    "k2 = 2\n",
    "print(licenseKeyFormatting(s2, k2))  # Output: \"2-5G-3J\""
   ]
  },
  {
   "cell_type": "code",
   "execution_count": null,
   "id": "e1c493b1",
   "metadata": {},
   "outputs": [],
   "source": []
  }
 ],
 "metadata": {
  "kernelspec": {
   "display_name": "Python 3",
   "language": "python",
   "name": "python3"
  },
  "language_info": {
   "codemirror_mode": {
    "name": "ipython",
    "version": 3
   },
   "file_extension": ".py",
   "mimetype": "text/x-python",
   "name": "python",
   "nbconvert_exporter": "python",
   "pygments_lexer": "ipython3",
   "version": "3.9.13"
  }
 },
 "nbformat": 4,
 "nbformat_minor": 5
}
