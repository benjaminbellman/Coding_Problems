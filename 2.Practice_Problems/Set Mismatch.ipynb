{
 "cells": [
  {
   "cell_type": "markdown",
   "id": "6929a1d4",
   "metadata": {},
   "source": [
    "# Set Mismatch"
   ]
  },
  {
   "cell_type": "markdown",
   "id": "43b01f63",
   "metadata": {},
   "source": [
    "You have a set of integers s, which originally contains all the numbers from 1 to n. Unfortunately, due to some error, one of the numbers in s got duplicated to another number in the set, which results in repetition of one number and loss of another number.\n",
    "\n",
    "You are given an integer array nums representing the data status of this set after the error.\n",
    "\n",
    "Find the number that occurs twice and the number that is missing and return them in the form of an array.\n",
    "\n",
    " \n",
    "\n",
    "**Example 1:**\n",
    "\n",
    "Input: nums = [1,2,2,4]\n",
    "\n",
    "Output: [2,3]\n",
    "\n",
    "**Example 2:**\n",
    "\n",
    "Input: nums = [1,1]\n",
    "\n",
    "Output: [1,2]\n",
    " \n",
    "\n",
    "**Constraints:**\n",
    "\n",
    "- 2 <= nums.length <= 104\n",
    "- 1 <= nums[i] <= 104"
   ]
  },
  {
   "cell_type": "code",
   "execution_count": 1,
   "id": "c99b7d7c",
   "metadata": {},
   "outputs": [
    {
     "name": "stdout",
     "output_type": "stream",
     "text": [
      "[2, 3]\n",
      "[1, 2]\n"
     ]
    }
   ],
   "source": [
    "def findDuplicateAndMissing(nums):\n",
    "    n = len(nums)\n",
    "    expected_sum = n * (n + 1) // 2  # The expected sum of numbers from 1 to n\n",
    "\n",
    "    num_set = set()\n",
    "    actual_sum = 0\n",
    "\n",
    "    duplicate = None\n",
    "    for num in nums:\n",
    "        if num in num_set:\n",
    "            duplicate = num\n",
    "        num_set.add(num)\n",
    "        actual_sum += num\n",
    "\n",
    "    missing = expected_sum - actual_sum\n",
    "\n",
    "    return [duplicate, duplicate + missing]\n",
    "\n",
    "# Example usage:\n",
    "nums1 = [1, 2, 2, 4]\n",
    "result1 = findDuplicateAndMissing(nums1)\n",
    "print(result1)  # Output: [2, 3]\n",
    "\n",
    "nums2 = [1, 1]\n",
    "result2 = findDuplicateAndMissing(nums2)\n",
    "print(result2)  # Output: [1, 2]"
   ]
  },
  {
   "cell_type": "code",
   "execution_count": null,
   "id": "52ada727",
   "metadata": {},
   "outputs": [],
   "source": []
  }
 ],
 "metadata": {
  "kernelspec": {
   "display_name": "Python 3",
   "language": "python",
   "name": "python3"
  },
  "language_info": {
   "codemirror_mode": {
    "name": "ipython",
    "version": 3
   },
   "file_extension": ".py",
   "mimetype": "text/x-python",
   "name": "python",
   "nbconvert_exporter": "python",
   "pygments_lexer": "ipython3",
   "version": "3.9.13"
  }
 },
 "nbformat": 4,
 "nbformat_minor": 5
}
