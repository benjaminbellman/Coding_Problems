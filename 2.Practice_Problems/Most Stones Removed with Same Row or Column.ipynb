{
 "cells": [
  {
   "cell_type": "markdown",
   "id": "0e3cec14",
   "metadata": {},
   "source": [
    "# Most Stones Removed with Same Row or Column"
   ]
  },
  {
   "cell_type": "markdown",
   "id": "51c9e13d",
   "metadata": {},
   "source": [
    "On a 2D plane, we place n stones at some integer coordinate points. Each coordinate point may have at most one stone.\n",
    "\n",
    "A stone can be removed if it shares either the same row or the same column as another stone that has not been removed.\n",
    "\n",
    "Given an array stones of length n where stones[i] = [xi, yi] represents the location of the ith stone, return the largest possible number of stones that can be removed.\n",
    "\n",
    " \n",
    "\n",
    "**Example 1:**\n",
    "\n",
    "Input: stones = [[0,0],[0,1],[1,0],[1,2],[2,1],[2,2]]\n",
    "Output: 5\n",
    "Explanation: One way to remove 5 stones is as follows:\n",
    "    1. Remove stone [2,2] because it shares the same row as [2,1].\n",
    "    2. Remove stone [2,1] because it shares the same column as [0,1].\n",
    "    3. Remove stone [1,2] because it shares the same row as [1,0].\n",
    "    4. Remove stone [1,0] because it shares the same column as [0,0].\n",
    "    5. Remove stone [0,1] because it shares the same row as [0,0].\n",
    "Stone [0,0] cannot be removed since it does not share a row/column with another stone still on the plane.\n",
    "\n",
    "**Example 2:**\n",
    "\n",
    "Input: stones = [[0,0],[0,2],[1,1],[2,0],[2,2]]\n",
    "Output: 3\n",
    "Explanation: One way to make 3 moves is as follows:\n",
    "    1. Remove stone [2,2] because it shares the same row as [2,0].\n",
    "    2. Remove stone [2,0] because it shares the same column as [0,0].\n",
    "    3. Remove stone [0,2] because it shares the same row as [0,0].\n",
    "Stones [0,0] and [1,1] cannot be removed since they do not share a row/column with another stone still on the plane.\n",
    "\n",
    "**Example 3:**\n",
    "\n",
    "Input: stones = [[0,0]]\n",
    "Output: 0\n",
    "Explanation: [0,0] is the only stone on the plane, so you cannot remove it.\n",
    " \n",
    "\n",
    "**Constraints:**\n",
    "\n",
    "- 1 <= stones.length <= 1000\n",
    "- 0 <= xi, yi <= 104\n",
    "- No two stones are at the same coordinate point."
   ]
  },
  {
   "cell_type": "code",
   "execution_count": 1,
   "id": "401b47d2",
   "metadata": {},
   "outputs": [
    {
     "name": "stdout",
     "output_type": "stream",
     "text": [
      "5\n"
     ]
    }
   ],
   "source": [
    "class UnionFind:\n",
    "    def __init__(self):\n",
    "        self.parent = {}\n",
    "        self.rank = {}\n",
    "\n",
    "    def find(self, x):\n",
    "        if x != self.parent.setdefault(x, x):\n",
    "            self.parent[x] = self.find(self.parent[x])\n",
    "        return self.parent[x]\n",
    "\n",
    "    def union(self, x, y):\n",
    "        rootX = self.find(x)\n",
    "        rootY = self.find(y)\n",
    "        if rootX != rootY:\n",
    "            if self.rank.setdefault(rootX, 0) > self.rank.setdefault(rootY, 0):\n",
    "                self.parent[rootY] = rootX\n",
    "            elif self.rank[rootX] < self.rank[rootY]:\n",
    "                self.parent[rootX] = rootY\n",
    "            else:\n",
    "                self.parent[rootY] = rootX\n",
    "                self.rank[rootX] += 1\n",
    "\n",
    "def removeStones(stones):\n",
    "    uf = UnionFind()\n",
    "    for x, y in stones:\n",
    "        # Offset columns by adding 10000 to distinguish them from rows\n",
    "        uf.union(x, y + 10000)\n",
    "    \n",
    "    # Count the number of unique components (roots)\n",
    "    unique_components = len({uf.find(x) for x, y in stones} | {uf.find(y + 10000) for x, y in stones})\n",
    "    \n",
    "    return len(stones) - unique_components\n",
    "\n",
    "# Example usage:\n",
    "stones = [[0,0],[0,1],[1,0],[1,2],[2,1],[2,2]]\n",
    "print(removeStones(stones))  # Output: 5"
   ]
  },
  {
   "cell_type": "code",
   "execution_count": null,
   "id": "95a24ae4",
   "metadata": {},
   "outputs": [],
   "source": []
  }
 ],
 "metadata": {
  "kernelspec": {
   "display_name": "Python 3 (ipykernel)",
   "language": "python",
   "name": "python3"
  },
  "language_info": {
   "codemirror_mode": {
    "name": "ipython",
    "version": 3
   },
   "file_extension": ".py",
   "mimetype": "text/x-python",
   "name": "python",
   "nbconvert_exporter": "python",
   "pygments_lexer": "ipython3",
   "version": "3.8.11"
  }
 },
 "nbformat": 4,
 "nbformat_minor": 5
}
