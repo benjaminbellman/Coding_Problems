{
 "cells": [
  {
   "cell_type": "markdown",
   "id": "c532fb35",
   "metadata": {},
   "source": [
    "# Minimum Cost to Hire K Workers"
   ]
  },
  {
   "cell_type": "markdown",
   "id": "46313613",
   "metadata": {},
   "source": [
    "There are n workers. You are given two integer arrays quality and wage where quality[i] is the quality of the ith worker and wage[i] is the minimum wage expectation for the ith worker.\n",
    "\n",
    "We want to hire exactly k workers to form a paid group. To hire a group of k workers, we must pay them according to the following rules:\n",
    "\n",
    "Every worker in the paid group must be paid at least their minimum wage expectation.\n",
    "In the group, each worker's pay must be directly proportional to their quality. This means if a worker’s quality is double that of another worker in the group, then they must be paid twice as much as the other worker.\n",
    "Given the integer k, return the least amount of money needed to form a paid group satisfying the above conditions. Answers within 10-5 of the actual answer will be accepted.\n",
    "\n",
    "**Example 1:**\n",
    "\n",
    "Input: quality = [10,20,5], wage = [70,50,30], k = 2\n",
    "Output: 105.00000\n",
    "Explanation: We pay 70 to 0th worker and 35 to 2nd worker.\n",
    "\n",
    "**Example 2:**\n",
    "\n",
    "Input: quality = [3,1,10,10,1], wage = [4,8,2,2,7], k = 3\n",
    "Output: 30.66667\n",
    "Explanation: We pay 4 to 0th worker, 13.33333 to 2nd and 3rd workers separately.\n",
    "\n",
    "**Constraints:**\n",
    "\n",
    "- n == quality.length == wage.length\n",
    "- 1 <= k <= n <= 104\n",
    "- 1 <= quality[i], wage[i] <= 104"
   ]
  },
  {
   "cell_type": "code",
   "execution_count": 1,
   "id": "b40df504",
   "metadata": {},
   "outputs": [],
   "source": [
    "import heapq\n",
    "\n",
    "def mincostToHireWorkers(quality, wage, k):\n",
    "    n = len(quality)\n",
    "    workers = sorted((wage[i] / quality[i], quality[i], wage[i]) for i in range(n))\n",
    "    \n",
    "    min_cost = float('inf')\n",
    "    sum_quality = 0\n",
    "    max_heap = []\n",
    "    \n",
    "    for ratio, q, w in workers:\n",
    "        heapq.heappush(max_heap, -q)  # push negative quality to use as max-heap\n",
    "        \n",
    "        sum_quality += q\n",
    "        \n",
    "        if len(max_heap) > k:\n",
    "            sum_quality += heapq.heappop(max_heap)  # remove the smallest quality\n",
    "        \n",
    "        if len(max_heap) == k:\n",
    "            min_cost = min(min_cost, sum_quality * ratio)\n",
    "    \n",
    "    return min_cost"
   ]
  },
  {
   "cell_type": "code",
   "execution_count": null,
   "id": "10ff4aa3",
   "metadata": {},
   "outputs": [],
   "source": []
  }
 ],
 "metadata": {
  "kernelspec": {
   "display_name": "Python 3 (ipykernel)",
   "language": "python",
   "name": "python3"
  },
  "language_info": {
   "codemirror_mode": {
    "name": "ipython",
    "version": 3
   },
   "file_extension": ".py",
   "mimetype": "text/x-python",
   "name": "python",
   "nbconvert_exporter": "python",
   "pygments_lexer": "ipython3",
   "version": "3.8.11"
  }
 },
 "nbformat": 4,
 "nbformat_minor": 5
}
