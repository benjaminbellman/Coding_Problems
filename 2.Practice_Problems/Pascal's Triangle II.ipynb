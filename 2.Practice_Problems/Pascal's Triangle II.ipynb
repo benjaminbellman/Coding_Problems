{
 "cells": [
  {
   "cell_type": "markdown",
   "id": "c54a3c7c",
   "metadata": {},
   "source": [
    "# Pascal's Triangle II"
   ]
  },
  {
   "cell_type": "markdown",
   "id": "52373af1",
   "metadata": {},
   "source": [
    "Given an integer rowIndex, return the rowIndexth (0-indexed) row of the Pascal's triangle.\n",
    "\n",
    "In Pascal's triangle, each number is the sum of the two numbers directly above it as shown:\n",
    "\n",
    "**Example 1:**\n",
    "\n",
    "Input: rowIndex = 3\n",
    "Output: [1,3,3,1]\n",
    "\n",
    "**Example 2:**\n",
    "\n",
    "Input: rowIndex = 0\n",
    "Output: [1]\n",
    "\n",
    "**Example 3:**\n",
    "\n",
    "Input: rowIndex = 1\n",
    "Output: [1,1]\n",
    " \n",
    "**Constraints:**\n",
    "\n",
    "- 0 <= rowIndex <= 33"
   ]
  },
  {
   "cell_type": "code",
   "execution_count": 3,
   "id": "c210c9f1",
   "metadata": {},
   "outputs": [],
   "source": [
    "from typing import List\n",
    "\n",
    "def getRow(rowIndex: int) -> List[int]:\n",
    "    row = [1]\n",
    "    for k in range(1, rowIndex + 1):\n",
    "        val = row[-1] * (rowIndex - k + 1) // k\n",
    "        row.append(val)\n",
    "    return row"
   ]
  },
  {
   "cell_type": "code",
   "execution_count": 4,
   "id": "a5d724b9",
   "metadata": {},
   "outputs": [
    {
     "name": "stdout",
     "output_type": "stream",
     "text": [
      "[1, 3, 3, 1]\n",
      "[1]\n",
      "[1, 1]\n"
     ]
    }
   ],
   "source": [
    "print(getRow(3))  # [1, 3, 3, 1]\n",
    "print(getRow(0))  # [1]\n",
    "print(getRow(1))  # [1, 1]"
   ]
  },
  {
   "cell_type": "code",
   "execution_count": null,
   "id": "509620da",
   "metadata": {},
   "outputs": [],
   "source": []
  }
 ],
 "metadata": {
  "kernelspec": {
   "display_name": "Python 3 (ipykernel)",
   "language": "python",
   "name": "python3"
  },
  "language_info": {
   "codemirror_mode": {
    "name": "ipython",
    "version": 3
   },
   "file_extension": ".py",
   "mimetype": "text/x-python",
   "name": "python",
   "nbconvert_exporter": "python",
   "pygments_lexer": "ipython3",
   "version": "3.8.11"
  }
 },
 "nbformat": 4,
 "nbformat_minor": 5
}
