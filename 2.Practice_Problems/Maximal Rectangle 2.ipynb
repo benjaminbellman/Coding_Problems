{
 "cells": [
  {
   "cell_type": "markdown",
   "id": "66a55dd4",
   "metadata": {},
   "source": [
    "# Maximal Rectangle 2"
   ]
  },
  {
   "cell_type": "markdown",
   "id": "44f65bc3",
   "metadata": {},
   "source": [
    "Given a rows x cols binary matrix filled with 0's and 1's, find the largest rectangle containing only 1's and return its area.\n",
    "\n",
    "**Example 1:**\n",
    "\n",
    "Input: matrix = [[\"1\",\"0\",\"1\",\"0\",\"0\"],[\"1\",\"0\",\"1\",\"1\",\"1\"],[\"1\",\"1\",\"1\",\"1\",\"1\"],[\"1\",\"0\",\"0\",\"1\",\"0\"]]\n",
    "Output: 6\n",
    "Explanation: The maximal rectangle is shown in the above picture.\n",
    "\n",
    "**Example 2:**\n",
    "\n",
    "Input: matrix = [[\"0\"]]\n",
    "Output: 0\n",
    "\n",
    "**Example 3:**\n",
    "\n",
    "Input: matrix = [[\"1\"]]\n",
    "Output: 1\n",
    " \n",
    "**Constraints:**\n",
    "\n",
    "- rows == matrix.length\n",
    "- cols == matrix[i].length\n",
    "- 1 <= row, cols <= 200\n",
    "- matrix[i][j] is '0' or '1'."
   ]
  },
  {
   "cell_type": "code",
   "execution_count": 1,
   "id": "0ee8eebd",
   "metadata": {},
   "outputs": [],
   "source": [
    "def maximalRectangle(matrix):\n",
    "    if not matrix or not matrix[0]:\n",
    "        return 0\n",
    "    \n",
    "    rows, cols = len(matrix), len(matrix[0])\n",
    "    heights = [0] * cols\n",
    "    max_area = 0\n",
    "\n",
    "    def largestRectangleArea(heights):\n",
    "        stack = []\n",
    "        max_area = 0\n",
    "        heights.append(0)  # Sentinel value to flush out stack\n",
    "\n",
    "        for i, h in enumerate(heights):\n",
    "            while stack and h < heights[stack[-1]]:\n",
    "                height = heights[stack.pop()]\n",
    "                width = i if not stack else i - stack[-1] - 1\n",
    "                max_area = max(max_area, height * width)\n",
    "            stack.append(i)\n",
    "\n",
    "        heights.pop()  # Clean up sentinel\n",
    "        return max_area\n",
    "\n",
    "    for row in matrix:\n",
    "        for j in range(cols):\n",
    "            heights[j] = heights[j] + 1 if row[j] == '1' else 0\n",
    "        max_area = max(max_area, largestRectangleArea(heights))\n",
    "\n",
    "    return max_area"
   ]
  },
  {
   "cell_type": "code",
   "execution_count": 2,
   "id": "ca873258",
   "metadata": {},
   "outputs": [
    {
     "name": "stdout",
     "output_type": "stream",
     "text": [
      "6\n"
     ]
    }
   ],
   "source": [
    "matrix = [[\"1\",\"0\",\"1\",\"0\",\"0\"],\n",
    "          [\"1\",\"0\",\"1\",\"1\",\"1\"],\n",
    "          [\"1\",\"1\",\"1\",\"1\",\"1\"],\n",
    "          [\"1\",\"0\",\"0\",\"1\",\"0\"]]\n",
    "print(maximalRectangle(matrix))  # Output: 6"
   ]
  },
  {
   "cell_type": "code",
   "execution_count": null,
   "id": "769cf27b",
   "metadata": {},
   "outputs": [],
   "source": []
  }
 ],
 "metadata": {
  "kernelspec": {
   "display_name": "Python 3 (ipykernel)",
   "language": "python",
   "name": "python3"
  },
  "language_info": {
   "codemirror_mode": {
    "name": "ipython",
    "version": 3
   },
   "file_extension": ".py",
   "mimetype": "text/x-python",
   "name": "python",
   "nbconvert_exporter": "python",
   "pygments_lexer": "ipython3",
   "version": "3.8.11"
  }
 },
 "nbformat": 4,
 "nbformat_minor": 5
}
