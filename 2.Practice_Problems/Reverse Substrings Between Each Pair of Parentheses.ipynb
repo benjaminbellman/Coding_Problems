{
 "cells": [
  {
   "cell_type": "markdown",
   "id": "9b9f0585",
   "metadata": {},
   "source": [
    "# Reverse Substrings Between Each Pair of Parentheses"
   ]
  },
  {
   "cell_type": "markdown",
   "id": "fd9141bf",
   "metadata": {},
   "source": [
    "You are given a string s that consists of lower case English letters and brackets.\n",
    "\n",
    "Reverse the strings in each pair of matching parentheses, starting from the innermost one.\n",
    "\n",
    "Your result should not contain any brackets.\n",
    "\n",
    "**Example 1:**\n",
    "\n",
    "Input: s = \"(abcd)\"\n",
    "Output: \"dcba\"\n",
    "\n",
    "**Example 2:**\n",
    "\n",
    "Input: s = \"(u(love)i)\"\n",
    "Output: \"iloveu\"\n",
    "Explanation: The substring \"love\" is reversed first, then the whole string is reversed.\n",
    "\n",
    "**Example 3:**\n",
    "\n",
    "Input: s = \"(ed(et(oc))el)\"\n",
    "Output: \"leetcode\"\n",
    "Explanation: First, we reverse the substring \"oc\", then \"etco\", and finally, the whole string.\n",
    " \n",
    "**Constraints:**\n",
    "\n",
    "- 1 <= s.length <= 2000\n",
    "- s only contains lower case English characters and parentheses.\n",
    "- It is guaranteed that all parentheses are balanced."
   ]
  },
  {
   "cell_type": "code",
   "execution_count": 1,
   "id": "4cc45e23",
   "metadata": {},
   "outputs": [
    {
     "name": "stdout",
     "output_type": "stream",
     "text": [
      "dcba\n",
      "iloveu\n",
      "leetcode\n"
     ]
    }
   ],
   "source": [
    "def reverseParentheses(s: str) -> str:\n",
    "    stack = []\n",
    "    \n",
    "    for char in s:\n",
    "        if char == ')':\n",
    "            temp = []\n",
    "            while stack and stack[-1] != '(':\n",
    "                temp.append(stack.pop())  # Collect characters to reverse\n",
    "            stack.pop()  # Remove the opening '('\n",
    "            stack.extend(temp)  # Push reversed characters back\n",
    "        else:\n",
    "            stack.append(char)  # Push characters and '(' to stack\n",
    "    \n",
    "    return \"\".join(stack)\n",
    "\n",
    "# Example test cases\n",
    "print(reverseParentheses(\"(abcd)\"))  # Output: \"dcba\"\n",
    "print(reverseParentheses(\"(u(love)i)\"))  # Output: \"iloveu\"\n",
    "print(reverseParentheses(\"(ed(et(oc))el)\"))  # Output: \"leetcode\""
   ]
  },
  {
   "cell_type": "code",
   "execution_count": null,
   "id": "6c94ec13",
   "metadata": {},
   "outputs": [],
   "source": []
  }
 ],
 "metadata": {
  "kernelspec": {
   "display_name": "Python 3 (ipykernel)",
   "language": "python",
   "name": "python3"
  },
  "language_info": {
   "codemirror_mode": {
    "name": "ipython",
    "version": 3
   },
   "file_extension": ".py",
   "mimetype": "text/x-python",
   "name": "python",
   "nbconvert_exporter": "python",
   "pygments_lexer": "ipython3",
   "version": "3.8.11"
  }
 },
 "nbformat": 4,
 "nbformat_minor": 5
}
