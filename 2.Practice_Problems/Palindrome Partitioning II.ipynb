{
 "cells": [
  {
   "cell_type": "markdown",
   "id": "1826469f",
   "metadata": {},
   "source": [
    "# Palindrome Partitioning II"
   ]
  },
  {
   "cell_type": "markdown",
   "id": "a732bf11",
   "metadata": {},
   "source": [
    "Given a string s, partition s such that every substring of the partition is a palindrome.\n",
    "\n",
    "Return the minimum cuts needed for a palindrome partitioning of s.\n",
    "\n",
    "**Example 1:**\n",
    "\n",
    "Input: s = \"aab\"\n",
    "Output: 1\n",
    "Explanation: The palindrome partitioning [\"aa\",\"b\"] could be produced using 1 cut.\n",
    "\n",
    "**Example 2:**\n",
    "\n",
    "Input: s = \"a\"\n",
    "Output: 0\n",
    "\n",
    "**Example 3:**\n",
    "\n",
    "Input: s = \"ab\"\n",
    "Output: 1\n",
    " \n",
    "**Constraints:**\n",
    "\n",
    "- 1 <= s.length <= 2000\n",
    "- s consists of lowercase English letters only."
   ]
  },
  {
   "cell_type": "code",
   "execution_count": 1,
   "id": "e1809ed8",
   "metadata": {},
   "outputs": [],
   "source": [
    "def minCut(s: str) -> int:\n",
    "    n = len(s)\n",
    "    if n <= 1:\n",
    "        return 0\n",
    "\n",
    "    cuts = list(range(n))  # cuts[i] = min cuts for s[:i+1]\n",
    "\n",
    "    def expand(l: int, r: int):\n",
    "        while l >= 0 and r < n and s[l] == s[r]:\n",
    "            if l == 0:\n",
    "                cuts[r] = 0\n",
    "            else:\n",
    "                cuts[r] = min(cuts[r], cuts[l - 1] + 1)\n",
    "            l -= 1\n",
    "            r += 1\n",
    "\n",
    "    for i in range(n):\n",
    "        # odd length palindromes centered at i\n",
    "        expand(i, i)\n",
    "        # even length palindromes centered between i-1 and i\n",
    "        expand(i - 1, i)\n",
    "\n",
    "    return cuts[-1]"
   ]
  },
  {
   "cell_type": "code",
   "execution_count": null,
   "id": "986b5c2f",
   "metadata": {},
   "outputs": [],
   "source": []
  }
 ],
 "metadata": {
  "kernelspec": {
   "display_name": "Python 3 (ipykernel)",
   "language": "python",
   "name": "python3"
  },
  "language_info": {
   "codemirror_mode": {
    "name": "ipython",
    "version": 3
   },
   "file_extension": ".py",
   "mimetype": "text/x-python",
   "name": "python",
   "nbconvert_exporter": "python",
   "pygments_lexer": "ipython3",
   "version": "3.8.11"
  }
 },
 "nbformat": 4,
 "nbformat_minor": 5
}
