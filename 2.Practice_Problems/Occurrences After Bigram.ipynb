{
 "cells": [
  {
   "cell_type": "markdown",
   "id": "8866c7d6",
   "metadata": {},
   "source": [
    "# Occurrences After Bigram"
   ]
  },
  {
   "cell_type": "markdown",
   "id": "4ec53257",
   "metadata": {},
   "source": [
    "Given two strings first and second, consider occurrences in some text of the form \"first second third\", where second comes immediately after first, and third comes immediately after second.\n",
    "\n",
    "Return an array of all the words third for each occurrence of \"first second third\".\n",
    "\n",
    "**Example 1:**\n",
    "\n",
    "Input: text = \"alice is a good girl she is a good student\", first = \"a\", second = \"good\"\n",
    "Output: [\"girl\",\"student\"]\n",
    "\n",
    "**Example 2:**\n",
    "\n",
    "Input: text = \"we will we will rock you\", first = \"we\", second = \"will\"\n",
    "Output: [\"we\",\"rock\"]\n",
    " \n",
    "**Constraints:**\n",
    "\n",
    "- 1 <= text.length <= 1000\n",
    "- text consists of lowercase English letters and spaces.\n",
    "- All the words in text are separated by a single space.\n",
    "- 1 <= first.length, second.length <= 10\n",
    "- first and second consist of lowercase English letters.\n",
    "- text will not have any leading or trailing spaces."
   ]
  },
  {
   "cell_type": "code",
   "execution_count": 1,
   "id": "941d7106",
   "metadata": {},
   "outputs": [
    {
     "name": "stdout",
     "output_type": "stream",
     "text": [
      "['girl', 'student']\n",
      "['we', 'rock']\n"
     ]
    }
   ],
   "source": [
    "def findOcurrences(text, first, second):\n",
    "    words = text.split()\n",
    "    result = []\n",
    "    for i in range(len(words) - 2):  # Stop at len(words) - 2 to avoid index out of range\n",
    "        if words[i] == first and words[i + 1] == second:\n",
    "            result.append(words[i + 2])\n",
    "    return result\n",
    "\n",
    "# Example usage:\n",
    "text1 = \"alice is a good girl she is a good student\"\n",
    "first1 = \"a\"\n",
    "second1 = \"good\"\n",
    "print(findOcurrences(text1, first1, second1))  # Output: [\"girl\", \"student\"]\n",
    "\n",
    "text2 = \"we will we will rock you\"\n",
    "first2 = \"we\"\n",
    "second2 = \"will\"\n",
    "print(findOcurrences(text2, first2, second2))  # Output: [\"we\", \"rock\"]"
   ]
  }
 ],
 "metadata": {
  "kernelspec": {
   "display_name": "Python 3 (ipykernel)",
   "language": "python",
   "name": "python3"
  },
  "language_info": {
   "codemirror_mode": {
    "name": "ipython",
    "version": 3
   },
   "file_extension": ".py",
   "mimetype": "text/x-python",
   "name": "python",
   "nbconvert_exporter": "python",
   "pygments_lexer": "ipython3",
   "version": "3.8.11"
  }
 },
 "nbformat": 4,
 "nbformat_minor": 5
}
