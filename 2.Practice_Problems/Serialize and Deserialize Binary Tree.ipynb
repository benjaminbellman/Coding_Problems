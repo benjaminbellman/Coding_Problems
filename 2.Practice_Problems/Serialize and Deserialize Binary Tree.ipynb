{
 "cells": [
  {
   "cell_type": "markdown",
   "id": "a70d67df",
   "metadata": {},
   "source": [
    "# Serialize and Deserialize Binary Tree"
   ]
  },
  {
   "cell_type": "markdown",
   "id": "f5c7b541",
   "metadata": {},
   "source": [
    "Serialization is the process of converting a data structure or object into a sequence of bits so that it can be stored in a file or memory buffer, or transmitted across a network connection link to be reconstructed later in the same or another computer environment.\n",
    "\n",
    "Design an algorithm to serialize and deserialize a binary tree. There is no restriction on how your serialization/deserialization algorithm should work. You just need to ensure that a binary tree can be serialized to a string and this string can be deserialized to the original tree structure.\n",
    "\n",
    "Clarification: The input/output format is the same as how LeetCode serializes a binary tree. You do not necessarily need to follow this format, so please be creative and come up with different approaches yourself.\n",
    "\n",
    " \n",
    "\n",
    "**Example 1:**\n",
    "\n",
    "Input: root = [1,2,3,null,null,4,5]\n",
    "Output: [1,2,3,null,null,4,5]\n",
    "\n",
    "**Example 2:**\n",
    "\n",
    "Input: root = []\n",
    "Output: []\n",
    " \n",
    "\n",
    "**Constraints:**\n",
    "\n",
    "The number of nodes in the tree is in the range [0, 104].\n",
    "-1000 <= Node.val <= 1000"
   ]
  },
  {
   "cell_type": "code",
   "execution_count": 2,
   "id": "cc110c53",
   "metadata": {},
   "outputs": [],
   "source": [
    "class TreeNode:\n",
    "    def __init__(self, val=0, left=None, right=None):\n",
    "        self.val = val\n",
    "        self.left = left\n",
    "        self.right = right"
   ]
  },
  {
   "cell_type": "code",
   "execution_count": 3,
   "id": "42d518c7",
   "metadata": {},
   "outputs": [],
   "source": [
    "class Codec:\n",
    "    def serialize(self, root: TreeNode) -> str:\n",
    "        \"\"\"Encodes a tree to a single string.\n",
    "        \"\"\"\n",
    "        if not root:\n",
    "            return \"\"\n",
    "        res = []\n",
    "        stack = [root]\n",
    "        while stack:\n",
    "            node = stack.pop()\n",
    "            if node:\n",
    "                res.append(str(node.val))\n",
    "                stack.append(node.right)\n",
    "                stack.append(node.left)\n",
    "            else:\n",
    "                res.append(\"null\")\n",
    "        return \",\".join(res)\n",
    "\n",
    "    def deserialize(self, data: str) -> TreeNode:\n",
    "        \"\"\"Decodes your encoded data to tree.\n",
    "        \"\"\"\n",
    "        if not data:\n",
    "            return None\n",
    "        nodes = data.split(\",\")\n",
    "        root = TreeNode(int(nodes[0]))\n",
    "        stack = [root]\n",
    "        i = 1\n",
    "        while stack:\n",
    "            node = stack.pop()\n",
    "            if nodes[i] != \"null\":\n",
    "                left = TreeNode(int(nodes[i]))\n",
    "                node.left = left\n",
    "                stack.append(left)\n",
    "            i += 1\n",
    "            if nodes[i] != \"null\":\n",
    "                right = TreeNode(int(nodes[i]))\n",
    "                node.right = right\n",
    "                stack.append(right)\n",
    "            i += 1\n",
    "        return root"
   ]
  },
  {
   "cell_type": "code",
   "execution_count": 5,
   "id": "97bf8f7b",
   "metadata": {},
   "outputs": [],
   "source": [
    "root = TreeNode(1)\n",
    "root.left = TreeNode(2)\n",
    "root.right = TreeNode(3)\n",
    "root.right.left = TreeNode(4)\n",
    "root.right.right = TreeNode(5)\n",
    "\n",
    "codec = Codec()\n",
    "\n",
    "ser_tree = codec.serialize(root) # '1,2,3,null,null,4,5'\n",
    "\n",
    "deser_tree = codec.deserialize(ser_tree) # root of the original tree\n"
   ]
  }
 ],
 "metadata": {
  "kernelspec": {
   "display_name": "Python 3",
   "language": "python",
   "name": "python3"
  },
  "language_info": {
   "codemirror_mode": {
    "name": "ipython",
    "version": 3
   },
   "file_extension": ".py",
   "mimetype": "text/x-python",
   "name": "python",
   "nbconvert_exporter": "python",
   "pygments_lexer": "ipython3",
   "version": "3.9.13"
  }
 },
 "nbformat": 4,
 "nbformat_minor": 5
}
