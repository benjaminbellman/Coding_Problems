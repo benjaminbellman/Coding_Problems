{
 "cells": [
  {
   "cell_type": "markdown",
   "id": "235595e0",
   "metadata": {},
   "source": [
    "# Add Binary"
   ]
  },
  {
   "cell_type": "markdown",
   "id": "be931946",
   "metadata": {},
   "source": [
    "Given two binary strings a and b, return their sum as a binary string.\n",
    "\n",
    "**Example 1:**\n",
    "\n",
    "Input: a = \"11\", b = \"1\"\n",
    "Output: \"100\"\n",
    "\n",
    "**Example 2:**\n",
    "\n",
    "Input: a = \"1010\", b = \"1011\"\n",
    "Output: \"10101\"\n",
    " \n",
    "**Constraints:**\n",
    "\n",
    "- 1 <= a.length, b.length <= 104\n",
    "- a and b consist only of '0' or '1' characters.\n",
    "- Each string does not contain leading zeros except for the zero itself."
   ]
  },
  {
   "cell_type": "code",
   "execution_count": 1,
   "id": "72a7dc7e",
   "metadata": {},
   "outputs": [],
   "source": [
    "def addBinary(a: str, b: str) -> str:\n",
    "    result = []\n",
    "    carry = 0\n",
    "\n",
    "    i, j = len(a) - 1, len(b) - 1\n",
    "\n",
    "    while i >= 0 or j >= 0 or carry:\n",
    "        digit_a = int(a[i]) if i >= 0 else 0\n",
    "        digit_b = int(b[j]) if j >= 0 else 0\n",
    "\n",
    "        total = digit_a + digit_b + carry\n",
    "        result.append(str(total % 2))\n",
    "        carry = total // 2\n",
    "\n",
    "        i -= 1\n",
    "        j -= 1\n",
    "\n",
    "    return ''.join(reversed(result))"
   ]
  },
  {
   "cell_type": "code",
   "execution_count": 2,
   "id": "9eb67946",
   "metadata": {},
   "outputs": [
    {
     "name": "stdout",
     "output_type": "stream",
     "text": [
      "100\n",
      "10101\n"
     ]
    }
   ],
   "source": [
    "print(addBinary(\"11\", \"1\"))      # Output: \"100\"\n",
    "print(addBinary(\"1010\", \"1011\")) # Output: \"10101\""
   ]
  },
  {
   "cell_type": "code",
   "execution_count": null,
   "id": "f80d079b",
   "metadata": {},
   "outputs": [],
   "source": []
  }
 ],
 "metadata": {
  "kernelspec": {
   "display_name": "Python 3 (ipykernel)",
   "language": "python",
   "name": "python3"
  },
  "language_info": {
   "codemirror_mode": {
    "name": "ipython",
    "version": 3
   },
   "file_extension": ".py",
   "mimetype": "text/x-python",
   "name": "python",
   "nbconvert_exporter": "python",
   "pygments_lexer": "ipython3",
   "version": "3.8.11"
  }
 },
 "nbformat": 4,
 "nbformat_minor": 5
}
