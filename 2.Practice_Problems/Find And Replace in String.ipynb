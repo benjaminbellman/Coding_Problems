{
 "cells": [
  {
   "cell_type": "markdown",
   "id": "3900a357",
   "metadata": {},
   "source": [
    "# Find And Replace in String"
   ]
  },
  {
   "cell_type": "markdown",
   "id": "d77e6c65",
   "metadata": {},
   "source": [
    "You are given a 0-indexed string s that you must perform k replacement operations on. The replacement operations are given as three 0-indexed parallel arrays, indices, sources, and targets, all of length k.\n",
    "\n",
    "To complete the ith replacement operation:\n",
    "\n",
    "Check if the substring sources[i] occurs at index indices[i] in the original string s.\n",
    "If it does not occur, do nothing.\n",
    "Otherwise if it does occur, replace that substring with targets[i].\n",
    "For example, if s = \"abcd\", indices[i] = 0, sources[i] = \"ab\", and targets[i] = \"eee\", then the result of this replacement will be \"eeecd\".\n",
    "\n",
    "All replacement operations must occur simultaneously, meaning the replacement operations should not affect the indexing of each other. The testcases will be generated such that the replacements will not overlap.\n",
    "\n",
    "For example, a testcase with s = \"abc\", indices = [0, 1], and sources = [\"ab\",\"bc\"] will not be generated because the \"ab\" and \"bc\" replacements overlap.\n",
    "Return the resulting string after performing all replacement operations on s.\n",
    "\n",
    "A substring is a contiguous sequence of characters in a string.\n",
    "\n",
    " \n",
    "\n",
    "**Example 1:**\n",
    "\n",
    "\n",
    "Input: s = \"abcd\", indices = [0, 2], sources = [\"a\", \"cd\"], targets = [\"eee\", \"ffff\"]\n",
    "Output: \"eeebffff\"\n",
    "Explanation:\n",
    "\"a\" occurs at index 0 in s, so we replace it with \"eee\".\n",
    "\"cd\" occurs at index 2 in s, so we replace it with \"ffff\".\n",
    "\n",
    "**Example 2:**\n",
    "\n",
    "\n",
    "Input: s = \"abcd\", indices = [0, 2], sources = [\"ab\",\"ec\"], targets = [\"eee\",\"ffff\"]\n",
    "Output: \"eeecd\"\n",
    "Explanation:\n",
    "\"ab\" occurs at index 0 in s, so we replace it with \"eee\".\n",
    "\"ec\" does not occur at index 2 in s, so we do nothing.\n",
    " \n",
    "\n",
    "**Constraints:**\n",
    "\n",
    "- 1 <= s.length <= 1000\n",
    "- k == indices.length == sources.length == targets.length\n",
    "- 1 <= k <= 100\n",
    "- 0 <= indexes[i] < s.length\n",
    "- 1 <= sources[i].length, targets[i].length <= 50\n",
    "- s consists of only lowercase English letters.\n",
    "- sources[i] and targets[i] consist of only lowercase English letters."
   ]
  },
  {
   "cell_type": "code",
   "execution_count": 1,
   "id": "bd6269c5",
   "metadata": {},
   "outputs": [
    {
     "name": "stdout",
     "output_type": "stream",
     "text": [
      "eeebffff\n",
      "eeecd\n"
     ]
    }
   ],
   "source": [
    "def find_replace_string(s, indices, sources, targets):\n",
    "    # Combine indices, sources, and targets into a list of tuples\n",
    "    replacements = list(zip(indices, sources, targets))\n",
    "    \n",
    "    # Sort the replacements in reverse order based on the indices\n",
    "    replacements.sort(key=lambda x: x[0], reverse=True)\n",
    "    \n",
    "    # Perform the replacement operations\n",
    "    for index, source, target in replacements:\n",
    "        if s[index:index + len(source)] == source:\n",
    "            s = s[:index] + target + s[index + len(source):]\n",
    "    \n",
    "    return s\n",
    "\n",
    "# Example usage:\n",
    "s1 = \"abcd\"\n",
    "indices1 = [0, 2]\n",
    "sources1 = [\"a\", \"cd\"]\n",
    "targets1 = [\"eee\", \"ffff\"]\n",
    "print(find_replace_string(s1, indices1, sources1, targets1))  # Output: \"eeebffff\"\n",
    "\n",
    "s2 = \"abcd\"\n",
    "indices2 = [0, 2]\n",
    "sources2 = [\"ab\",\"ec\"]\n",
    "targets2 = [\"eee\",\"ffff\"]\n",
    "print(find_replace_string(s2, indices2, sources2, targets2))  # Output: \"eeecd\""
   ]
  },
  {
   "cell_type": "code",
   "execution_count": null,
   "id": "864b647a",
   "metadata": {},
   "outputs": [],
   "source": []
  }
 ],
 "metadata": {
  "kernelspec": {
   "display_name": "Python 3",
   "language": "python",
   "name": "python3"
  },
  "language_info": {
   "codemirror_mode": {
    "name": "ipython",
    "version": 3
   },
   "file_extension": ".py",
   "mimetype": "text/x-python",
   "name": "python",
   "nbconvert_exporter": "python",
   "pygments_lexer": "ipython3",
   "version": "3.9.13"
  }
 },
 "nbformat": 4,
 "nbformat_minor": 5
}
