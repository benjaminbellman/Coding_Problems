{
 "cells": [
  {
   "cell_type": "markdown",
   "id": "14b42a0c",
   "metadata": {},
   "source": [
    "# Sort Array By Parity II"
   ]
  },
  {
   "cell_type": "markdown",
   "id": "b9aab020",
   "metadata": {},
   "source": [
    "Given an array of integers nums, half of the integers in nums are odd, and the other half are even.\n",
    "\n",
    "Sort the array so that whenever nums[i] is odd, i is odd, and whenever nums[i] is even, i is even.\n",
    "\n",
    "Return any answer array that satisfies this condition.\n",
    "\n",
    "**Example 1:**\n",
    "\n",
    "Input: nums = [4,2,5,7]\n",
    "Output: [4,5,2,7]\n",
    "Explanation: [4,7,2,5], [2,5,4,7], [2,7,4,5] would also have been accepted.\n",
    "\n",
    "**Example 2:**\n",
    "\n",
    "Input: nums = [2,3]\n",
    "Output: [2,3]\n",
    " \n",
    "**Constraints:**\n",
    "\n",
    "- 2 <= nums.length <= 2 * 104\n",
    "- nums.length is even.\n",
    "- Half of the integers in nums are even.\n",
    "- 0 <= nums[i] <= 1000"
   ]
  },
  {
   "cell_type": "code",
   "execution_count": 1,
   "id": "34332834",
   "metadata": {},
   "outputs": [],
   "source": [
    "def sortArrayByParityII(nums):\n",
    "    # Initialize two pointers, one for even index and one for odd index\n",
    "    even_idx, odd_idx = 0, 1\n",
    "    result = [0] * len(nums)  # Array to store the result\n",
    "\n",
    "    # Traverse through each number in nums\n",
    "    for num in nums:\n",
    "        if num % 2 == 0:\n",
    "            result[even_idx] = num  # Place even number at even index\n",
    "            even_idx += 2  # Move the even index pointer to the next even position\n",
    "        else:\n",
    "            result[odd_idx] = num  # Place odd number at odd index\n",
    "            odd_idx += 2  # Move the odd index pointer to the next odd position\n",
    "\n",
    "    return result"
   ]
  },
  {
   "cell_type": "code",
   "execution_count": null,
   "id": "0d907ae4",
   "metadata": {},
   "outputs": [],
   "source": []
  }
 ],
 "metadata": {
  "kernelspec": {
   "display_name": "Python 3 (ipykernel)",
   "language": "python",
   "name": "python3"
  },
  "language_info": {
   "codemirror_mode": {
    "name": "ipython",
    "version": 3
   },
   "file_extension": ".py",
   "mimetype": "text/x-python",
   "name": "python",
   "nbconvert_exporter": "python",
   "pygments_lexer": "ipython3",
   "version": "3.8.11"
  }
 },
 "nbformat": 4,
 "nbformat_minor": 5
}
