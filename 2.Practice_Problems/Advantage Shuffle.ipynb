{
 "cells": [
  {
   "cell_type": "markdown",
   "id": "3b55a267",
   "metadata": {},
   "source": [
    "# Advantage Shuffle"
   ]
  },
  {
   "cell_type": "markdown",
   "id": "df603bca",
   "metadata": {},
   "source": [
    "You are given two integer arrays nums1 and nums2 both of the same length. The advantage of nums1 with respect to nums2 is the number of indices i for which nums1[i] > nums2[i].\n",
    "\n",
    "Return any permutation of nums1 that maximizes its advantage with respect to nums2.\n",
    "\n",
    "**Example 1:**\n",
    "\n",
    "Input: nums1 = [2,7,11,15], nums2 = [1,10,4,11]\n",
    "Output: [2,11,7,15]\n",
    "\n",
    "**Example 2:**\n",
    "\n",
    "Input: nums1 = [12,24,8,32], nums2 = [13,25,32,11]\n",
    "Output: [24,32,8,12]\n",
    "\n",
    "**Constraints:**\n",
    "\n",
    "- 1 <= nums1.length <= 105\n",
    "- nums2.length == nums1.length\n",
    "- 0 <= nums1[i], nums2[i] <= 109"
   ]
  },
  {
   "cell_type": "code",
   "execution_count": 1,
   "id": "9ba8c7f9",
   "metadata": {},
   "outputs": [
    {
     "name": "stdout",
     "output_type": "stream",
     "text": [
      "[2, 11, 7, 15]\n"
     ]
    },
    {
     "ename": "IndexError",
     "evalue": "list index out of range",
     "output_type": "error",
     "traceback": [
      "\u001b[1;31m---------------------------------------------------------------------------\u001b[0m",
      "\u001b[1;31mIndexError\u001b[0m                                Traceback (most recent call last)",
      "\u001b[1;32m~\\AppData\\Local\\Temp/ipykernel_22128/1130425403.py\u001b[0m in \u001b[0;36m<module>\u001b[1;34m\u001b[0m\n\u001b[0;32m     33\u001b[0m \u001b[0mnums1\u001b[0m \u001b[1;33m=\u001b[0m \u001b[1;33m[\u001b[0m\u001b[1;36m12\u001b[0m\u001b[1;33m,\u001b[0m \u001b[1;36m24\u001b[0m\u001b[1;33m,\u001b[0m \u001b[1;36m8\u001b[0m\u001b[1;33m,\u001b[0m \u001b[1;36m32\u001b[0m\u001b[1;33m]\u001b[0m\u001b[1;33m\u001b[0m\u001b[1;33m\u001b[0m\u001b[0m\n\u001b[0;32m     34\u001b[0m \u001b[0mnums2\u001b[0m \u001b[1;33m=\u001b[0m \u001b[1;33m[\u001b[0m\u001b[1;36m13\u001b[0m\u001b[1;33m,\u001b[0m \u001b[1;36m25\u001b[0m\u001b[1;33m,\u001b[0m \u001b[1;36m32\u001b[0m\u001b[1;33m,\u001b[0m \u001b[1;36m11\u001b[0m\u001b[1;33m]\u001b[0m\u001b[1;33m\u001b[0m\u001b[1;33m\u001b[0m\u001b[0m\n\u001b[1;32m---> 35\u001b[1;33m \u001b[0mprint\u001b[0m\u001b[1;33m(\u001b[0m\u001b[0mmaximizeAdvantage\u001b[0m\u001b[1;33m(\u001b[0m\u001b[0mnums1\u001b[0m\u001b[1;33m,\u001b[0m \u001b[0mnums2\u001b[0m\u001b[1;33m)\u001b[0m\u001b[1;33m)\u001b[0m  \u001b[1;31m# Output: [24, 32, 8, 12]\u001b[0m\u001b[1;33m\u001b[0m\u001b[1;33m\u001b[0m\u001b[0m\n\u001b[0m",
      "\u001b[1;32m~\\AppData\\Local\\Temp/ipykernel_22128/1130425403.py\u001b[0m in \u001b[0;36mmaximizeAdvantage\u001b[1;34m(nums1, nums2)\u001b[0m\n\u001b[0;32m     14\u001b[0m \u001b[1;33m\u001b[0m\u001b[0m\n\u001b[0;32m     15\u001b[0m     \u001b[1;32mwhile\u001b[0m \u001b[0mk\u001b[0m \u001b[1;33m<\u001b[0m \u001b[0mlen\u001b[0m\u001b[1;33m(\u001b[0m\u001b[0mnums2\u001b[0m\u001b[1;33m)\u001b[0m\u001b[1;33m:\u001b[0m\u001b[1;33m\u001b[0m\u001b[1;33m\u001b[0m\u001b[0m\n\u001b[1;32m---> 16\u001b[1;33m         \u001b[1;32mif\u001b[0m \u001b[0msorted_nums1\u001b[0m\u001b[1;33m[\u001b[0m\u001b[0mj\u001b[0m\u001b[1;33m]\u001b[0m \u001b[1;33m>\u001b[0m \u001b[0msorted_nums2\u001b[0m\u001b[1;33m[\u001b[0m\u001b[0mk\u001b[0m\u001b[1;33m]\u001b[0m\u001b[1;33m[\u001b[0m\u001b[1;36m0\u001b[0m\u001b[1;33m]\u001b[0m\u001b[1;33m:\u001b[0m\u001b[1;33m\u001b[0m\u001b[1;33m\u001b[0m\u001b[0m\n\u001b[0m\u001b[0;32m     17\u001b[0m             \u001b[1;31m# If nums1[j] can be used to maximize advantage over nums2[k]\u001b[0m\u001b[1;33m\u001b[0m\u001b[1;33m\u001b[0m\u001b[1;33m\u001b[0m\u001b[0m\n\u001b[0;32m     18\u001b[0m             \u001b[0mresult\u001b[0m\u001b[1;33m[\u001b[0m\u001b[0msorted_nums2\u001b[0m\u001b[1;33m[\u001b[0m\u001b[0mk\u001b[0m\u001b[1;33m]\u001b[0m\u001b[1;33m[\u001b[0m\u001b[1;36m1\u001b[0m\u001b[1;33m]\u001b[0m\u001b[1;33m]\u001b[0m \u001b[1;33m=\u001b[0m \u001b[0msorted_nums1\u001b[0m\u001b[1;33m[\u001b[0m\u001b[0mj\u001b[0m\u001b[1;33m]\u001b[0m\u001b[1;33m\u001b[0m\u001b[1;33m\u001b[0m\u001b[0m\n",
      "\u001b[1;31mIndexError\u001b[0m: list index out of range"
     ]
    }
   ],
   "source": [
    "def maximizeAdvantage(nums1, nums2):\n",
    "    # Step 1: Sort nums1\n",
    "    sorted_nums1 = sorted(nums1)\n",
    "    \n",
    "    # Step 2: Create a list of tuples from nums2 and sort it by values\n",
    "    sorted_nums2 = sorted((num, i) for i, num in enumerate(nums2))\n",
    "    \n",
    "    # Initialize result array with the same length as nums2\n",
    "    result = [0] * len(nums2)\n",
    "    \n",
    "    # Step 3: Use two pointers to match nums1 with nums2\n",
    "    j = 0  # Pointer for nums1 (sorted)\n",
    "    k = 0  # Pointer for sorted nums2\n",
    "    \n",
    "    while k < len(nums2):\n",
    "        if sorted_nums1[j] > sorted_nums2[k][0]:\n",
    "            # If nums1[j] can be used to maximize advantage over nums2[k]\n",
    "            result[sorted_nums2[k][1]] = sorted_nums1[j]\n",
    "            j += 1\n",
    "            k += 1\n",
    "        else:\n",
    "            # Otherwise, place the smallest element in nums1 that can't maximize\n",
    "            result[sorted_nums2[k][1]] = sorted_nums1[j]\n",
    "            j += 1\n",
    "    \n",
    "    return result\n",
    "\n",
    "# Example usage\n",
    "nums1 = [2, 7, 11, 15]\n",
    "nums2 = [1, 10, 4, 11]\n",
    "print(maximizeAdvantage(nums1, nums2))  # Output: [2, 11, 7, 15]\n",
    "\n",
    "nums1 = [12, 24, 8, 32]\n",
    "nums2 = [13, 25, 32, 11]\n",
    "print(maximizeAdvantage(nums1, nums2))  # Output: [24, 32, 8, 12]"
   ]
  },
  {
   "cell_type": "code",
   "execution_count": null,
   "id": "41f9c1d2",
   "metadata": {},
   "outputs": [],
   "source": []
  }
 ],
 "metadata": {
  "kernelspec": {
   "display_name": "Python 3 (ipykernel)",
   "language": "python",
   "name": "python3"
  },
  "language_info": {
   "codemirror_mode": {
    "name": "ipython",
    "version": 3
   },
   "file_extension": ".py",
   "mimetype": "text/x-python",
   "name": "python",
   "nbconvert_exporter": "python",
   "pygments_lexer": "ipython3",
   "version": "3.8.11"
  }
 },
 "nbformat": 4,
 "nbformat_minor": 5
}
