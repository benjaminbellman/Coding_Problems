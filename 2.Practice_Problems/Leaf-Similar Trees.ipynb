{
 "cells": [
  {
   "cell_type": "markdown",
   "id": "1c00ca36",
   "metadata": {},
   "source": [
    "# Leaf-Similar Trees"
   ]
  },
  {
   "cell_type": "markdown",
   "id": "7f82a49c",
   "metadata": {},
   "source": [
    "Consider all the leaves of a binary tree, from left to right order, the values of those leaves form a leaf value sequence.\n",
    "\n",
    "\n",
    "\n",
    "For example, in the given tree above, the leaf value sequence is (6, 7, 4, 9, 8).\n",
    "\n",
    "Two binary trees are considered leaf-similar if their leaf value sequence is the same.\n",
    "\n",
    "Return true if and only if the two given trees with head nodes root1 and root2 are leaf-similar.\n",
    "\n",
    "**Example 1:**\n",
    "\n",
    "Input: root1 = [3,5,1,6,2,9,8,null,null,7,4], root2 = [3,5,1,6,7,4,2,null,null,null,null,null,null,9,8]\n",
    "Output: true\n",
    "\n",
    "**Example 2:**\n",
    "\n",
    "Input: root1 = [1,2,3], root2 = [1,3,2]\n",
    "Output: false\n",
    "\n",
    "**Constraints:**\n",
    "\n",
    "- The number of nodes in each tree will be in the range [1, 200].\n",
    "- Both of the given trees will have values in the range [0, 200]."
   ]
  },
  {
   "cell_type": "code",
   "execution_count": 1,
   "id": "c3eb5ee8",
   "metadata": {},
   "outputs": [
    {
     "name": "stdout",
     "output_type": "stream",
     "text": [
      "True\n"
     ]
    }
   ],
   "source": [
    "class TreeNode:\n",
    "    def __init__(self, val=0, left=None, right=None):\n",
    "        self.val = val\n",
    "        self.left = left\n",
    "        self.right = right\n",
    "\n",
    "def leafSimilar(root1: TreeNode, root2: TreeNode) -> bool:\n",
    "    def getLeafValues(root: TreeNode):\n",
    "        if not root:\n",
    "            return []\n",
    "        if not root.left and not root.right:\n",
    "            return [root.val]\n",
    "        return getLeafValues(root.left) + getLeafValues(root.right)\n",
    "    \n",
    "    return getLeafValues(root1) == getLeafValues(root2)\n",
    "\n",
    "# Example usage:\n",
    "# Construct tree 1: [3,5,1,6,2,9,8,null,null,7,4]\n",
    "root1 = TreeNode(3)\n",
    "root1.left = TreeNode(5)\n",
    "root1.right = TreeNode(1)\n",
    "root1.left.left = TreeNode(6)\n",
    "root1.left.right = TreeNode(2)\n",
    "root1.right.left = TreeNode(9)\n",
    "root1.right.right = TreeNode(8)\n",
    "root1.left.right.left = TreeNode(7)\n",
    "root1.left.right.right = TreeNode(4)\n",
    "\n",
    "# Construct tree 2: [3,5,1,6,7,4,2,null,null,null,null,null,null,9,8]\n",
    "root2 = TreeNode(3)\n",
    "root2.left = TreeNode(5)\n",
    "root2.right = TreeNode(1)\n",
    "root2.left.left = TreeNode(6)\n",
    "root2.left.right = TreeNode(7)\n",
    "root2.right.left = TreeNode(4)\n",
    "root2.right.right = TreeNode(2)\n",
    "root2.right.right.left = TreeNode(9)\n",
    "root2.right.right.right = TreeNode(8)\n",
    "\n",
    "print(leafSimilar(root1, root2))  # Output: True"
   ]
  },
  {
   "cell_type": "code",
   "execution_count": null,
   "id": "48433625",
   "metadata": {},
   "outputs": [],
   "source": []
  }
 ],
 "metadata": {
  "kernelspec": {
   "display_name": "Python 3 (ipykernel)",
   "language": "python",
   "name": "python3"
  },
  "language_info": {
   "codemirror_mode": {
    "name": "ipython",
    "version": 3
   },
   "file_extension": ".py",
   "mimetype": "text/x-python",
   "name": "python",
   "nbconvert_exporter": "python",
   "pygments_lexer": "ipython3",
   "version": "3.8.11"
  }
 },
 "nbformat": 4,
 "nbformat_minor": 5
}
