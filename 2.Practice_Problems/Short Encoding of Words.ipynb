{
 "cells": [
  {
   "cell_type": "markdown",
   "id": "ff6b2b49",
   "metadata": {},
   "source": [
    "# Short Encoding of Words"
   ]
  },
  {
   "cell_type": "markdown",
   "id": "d9f5f9ae",
   "metadata": {},
   "source": [
    "A valid encoding of an array of words is any reference string s and array of indices indices such that:\n",
    "\n",
    "- words.length == indices.length\n",
    "- The reference string s ends with the '#' character.\n",
    "- For each index indices[i], the substring of s starting from indices[i] and up to (but not including) the next '#' character is equal to words[i].\n",
    "Given an array of words, return the length of the shortest reference string s possible of any valid encoding of words.\n",
    "\n",
    "**Example 1:**\n",
    "\n",
    "Input: words = [\"time\", \"me\", \"bell\"]\n",
    "Output: 10\n",
    "Explanation: A valid encoding would be s = \"time#bell#\" and indices = [0, 2, 5].\n",
    "words[0] = \"time\", the substring of s starting from indices[0] = 0 to the next '#' is underlined in \"time#bell#\"\n",
    "words[1] = \"me\", the substring of s starting from indices[1] = 2 to the next '#' is underlined in \"time#bell#\"\n",
    "words[2] = \"bell\", the substring of s starting from indices[2] = 5 to the next '#' is underlined in \"time#bell#\"\n",
    "\n",
    "**Example 2:**\n",
    "\n",
    "Input: words = [\"t\"]\n",
    "Output: 2\n",
    "Explanation: A valid encoding would be s = \"t#\" and indices = [0].\n",
    "\n",
    "**Constraints:**\n",
    "\n",
    "- 1 <= words.length <= 2000\n",
    "- 1 <= words[i].length <= 7\n",
    "- words[i] consists of only lowercase letters."
   ]
  },
  {
   "cell_type": "code",
   "execution_count": 1,
   "id": "7c83ab81",
   "metadata": {},
   "outputs": [
    {
     "name": "stdout",
     "output_type": "stream",
     "text": [
      "10\n",
      "2\n"
     ]
    }
   ],
   "source": [
    "def minimumLengthEncoding(words):\n",
    "    # Create a set to store all words\n",
    "    word_set = set(words)\n",
    "    # For each word, check and remove its suffixes from the set\n",
    "    for word in words:\n",
    "        for i in range(1, len(word)):\n",
    "            if word[i:] in word_set:\n",
    "                word_set.remove(word[i:])\n",
    "    # Calculate the length of the shortest reference string\n",
    "    return sum(len(word) + 1 for word in word_set)\n",
    "\n",
    "# Test example\n",
    "words1 = [\"time\", \"me\", \"bell\"]\n",
    "words2 = [\"t\"]\n",
    "print(minimumLengthEncoding(words1))  # Output: 10\n",
    "print(minimumLengthEncoding(words2))  # Output: 2"
   ]
  },
  {
   "cell_type": "code",
   "execution_count": null,
   "id": "a8dfd7c5",
   "metadata": {},
   "outputs": [],
   "source": []
  }
 ],
 "metadata": {
  "kernelspec": {
   "display_name": "Python 3",
   "language": "python",
   "name": "python3"
  },
  "language_info": {
   "codemirror_mode": {
    "name": "ipython",
    "version": 3
   },
   "file_extension": ".py",
   "mimetype": "text/x-python",
   "name": "python",
   "nbconvert_exporter": "python",
   "pygments_lexer": "ipython3",
   "version": "3.9.13"
  }
 },
 "nbformat": 4,
 "nbformat_minor": 5
}
