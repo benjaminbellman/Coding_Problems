{
 "cells": [
  {
   "cell_type": "markdown",
   "id": "869f5513",
   "metadata": {},
   "source": [
    "# Gray Code"
   ]
  },
  {
   "cell_type": "markdown",
   "id": "cfefe1db",
   "metadata": {},
   "source": [
    "An n-bit gray code sequence is a sequence of 2n integers where:\n",
    "\n",
    "Every integer is in the inclusive range [0, 2n - 1],\n",
    "The first integer is 0,\n",
    "An integer appears no more than once in the sequence,\n",
    "The binary representation of every pair of adjacent integers differs by exactly one bit, and\n",
    "The binary representation of the first and last integers differs by exactly one bit.\n",
    "Given an integer n, return any valid n-bit gray code sequence.\n",
    "\n",
    "**Example 1:**\n",
    "\n",
    "Input: n = 2\n",
    "Output: [0,1,3,2]\n",
    "Explanation:\n",
    "The binary representation of [0,1,3,2] is [00,01,11,10].\n",
    "- 00 and 01 differ by one bit\n",
    "- 01 and 11 differ by one bit\n",
    "- 11 and 10 differ by one bit\n",
    "- 10 and 00 differ by one bit\n",
    "[0,2,3,1] is also a valid gray code sequence, whose binary representation is [00,10,11,01].\n",
    "- 00 and 10 differ by one bit\n",
    "- 10 and 11 differ by one bit\n",
    "- 11 and 01 differ by one bit\n",
    "- 01 and 00 differ by one bit\n",
    "\n",
    "**Example 2:**\n",
    "\n",
    "Input: n = 1\n",
    "Output: [0,1]\n",
    "\n",
    "**Constraints:**\n",
    "\n",
    "1 <= n <= 16"
   ]
  },
  {
   "cell_type": "code",
   "execution_count": 1,
   "id": "e235af95",
   "metadata": {},
   "outputs": [
    {
     "ename": "TypeError",
     "evalue": "'type' object is not subscriptable",
     "output_type": "error",
     "traceback": [
      "\u001b[1;31m---------------------------------------------------------------------------\u001b[0m",
      "\u001b[1;31mTypeError\u001b[0m                                 Traceback (most recent call last)",
      "\u001b[1;32m~\\AppData\\Local\\Temp/ipykernel_11680/520451841.py\u001b[0m in \u001b[0;36m<module>\u001b[1;34m\u001b[0m\n\u001b[1;32m----> 1\u001b[1;33m \u001b[1;32mdef\u001b[0m \u001b[0mgrayCode\u001b[0m\u001b[1;33m(\u001b[0m\u001b[0mn\u001b[0m\u001b[1;33m:\u001b[0m \u001b[0mint\u001b[0m\u001b[1;33m)\u001b[0m \u001b[1;33m->\u001b[0m \u001b[0mlist\u001b[0m\u001b[1;33m[\u001b[0m\u001b[0mint\u001b[0m\u001b[1;33m]\u001b[0m\u001b[1;33m:\u001b[0m\u001b[1;33m\u001b[0m\u001b[1;33m\u001b[0m\u001b[0m\n\u001b[0m\u001b[0;32m      2\u001b[0m     \u001b[0mresult\u001b[0m \u001b[1;33m=\u001b[0m \u001b[1;33m[\u001b[0m\u001b[1;36m0\u001b[0m\u001b[1;33m]\u001b[0m\u001b[1;33m\u001b[0m\u001b[1;33m\u001b[0m\u001b[0m\n\u001b[0;32m      3\u001b[0m     \u001b[1;32mfor\u001b[0m \u001b[0mi\u001b[0m \u001b[1;32min\u001b[0m \u001b[0mrange\u001b[0m\u001b[1;33m(\u001b[0m\u001b[0mn\u001b[0m\u001b[1;33m)\u001b[0m\u001b[1;33m:\u001b[0m\u001b[1;33m\u001b[0m\u001b[1;33m\u001b[0m\u001b[0m\n\u001b[0;32m      4\u001b[0m         \u001b[0madd_on\u001b[0m \u001b[1;33m=\u001b[0m \u001b[1;36m1\u001b[0m \u001b[1;33m<<\u001b[0m \u001b[0mi\u001b[0m\u001b[1;33m\u001b[0m\u001b[1;33m\u001b[0m\u001b[0m\n\u001b[0;32m      5\u001b[0m         \u001b[1;31m# Reflect and add the prefix bit\u001b[0m\u001b[1;33m\u001b[0m\u001b[1;33m\u001b[0m\u001b[1;33m\u001b[0m\u001b[0m\n",
      "\u001b[1;31mTypeError\u001b[0m: 'type' object is not subscriptable"
     ]
    }
   ],
   "source": [
    "def grayCode(n: int) -> list[int]:\n",
    "    result = [0]\n",
    "    for i in range(n):\n",
    "        add_on = 1 << i\n",
    "        # Reflect and add the prefix bit\n",
    "        result += [x | add_on for x in reversed(result)]\n",
    "    return result"
   ]
  },
  {
   "cell_type": "code",
   "execution_count": null,
   "id": "45cecae4",
   "metadata": {},
   "outputs": [],
   "source": []
  }
 ],
 "metadata": {
  "kernelspec": {
   "display_name": "Python 3 (ipykernel)",
   "language": "python",
   "name": "python3"
  },
  "language_info": {
   "codemirror_mode": {
    "name": "ipython",
    "version": 3
   },
   "file_extension": ".py",
   "mimetype": "text/x-python",
   "name": "python",
   "nbconvert_exporter": "python",
   "pygments_lexer": "ipython3",
   "version": "3.8.11"
  }
 },
 "nbformat": 4,
 "nbformat_minor": 5
}
