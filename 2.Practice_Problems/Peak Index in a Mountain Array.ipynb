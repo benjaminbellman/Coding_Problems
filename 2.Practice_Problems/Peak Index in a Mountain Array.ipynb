{
 "cells": [
  {
   "cell_type": "markdown",
   "id": "a6b1519b",
   "metadata": {},
   "source": [
    "# Peak Index in a Mountain Array"
   ]
  },
  {
   "cell_type": "markdown",
   "id": "197810ed",
   "metadata": {},
   "source": [
    "You are given an integer mountain array arr of length n where the values increase to a peak element and then decrease.\n",
    "\n",
    "Return the index of the peak element.\n",
    "\n",
    "Your task is to solve it in O(log(n)) time complexity.\n",
    "\n",
    " \n",
    "\n",
    "**Example 1:**\n",
    "\n",
    "Input: arr = [0,1,0]\n",
    "\n",
    "Output: 1\n",
    "\n",
    "**Example 2:**\n",
    "\n",
    "Input: arr = [0,2,1,0]\n",
    "\n",
    "Output: 1\n",
    "\n",
    "**Example 3:**\n",
    "\n",
    "Input: arr = [0,10,5,2]\n",
    "\n",
    "Output: 1\n",
    "\n",
    "**Constraints:**\n",
    "\n",
    "- 3 <= arr.length <= 105\n",
    "- 0 <= arr[i] <= 106\n",
    "- arr is guaranteed to be a mountain array."
   ]
  },
  {
   "cell_type": "code",
   "execution_count": 1,
   "id": "471c1646",
   "metadata": {},
   "outputs": [
    {
     "name": "stdout",
     "output_type": "stream",
     "text": [
      "1\n",
      "1\n",
      "1\n"
     ]
    }
   ],
   "source": [
    "def find_peak_element(arr):\n",
    "    n = len(arr)\n",
    "    left, right = 0, n - 1\n",
    "    \n",
    "    while left < right:\n",
    "        mid = (left + right) // 2\n",
    "        \n",
    "        if arr[mid] > arr[mid + 1]:\n",
    "            # Peak is on the left side including mid\n",
    "            right = mid\n",
    "        else:\n",
    "            # Peak is on the right side excluding mid\n",
    "            left = mid + 1\n",
    "            \n",
    "    return left\n",
    "\n",
    "# Example usage:\n",
    "arr1 = [0, 1, 0]\n",
    "arr2 = [0, 2, 1, 0]\n",
    "arr3 = [0, 10, 5, 2]\n",
    "\n",
    "print(find_peak_element(arr1))  # Output: 1\n",
    "print(find_peak_element(arr2))  # Output: 1\n",
    "print(find_peak_element(arr3))  # Output: 1"
   ]
  },
  {
   "cell_type": "code",
   "execution_count": null,
   "id": "c95601d7",
   "metadata": {},
   "outputs": [],
   "source": []
  }
 ],
 "metadata": {
  "kernelspec": {
   "display_name": "Python 3 (ipykernel)",
   "language": "python",
   "name": "python3"
  },
  "language_info": {
   "codemirror_mode": {
    "name": "ipython",
    "version": 3
   },
   "file_extension": ".py",
   "mimetype": "text/x-python",
   "name": "python",
   "nbconvert_exporter": "python",
   "pygments_lexer": "ipython3",
   "version": "3.8.11"
  }
 },
 "nbformat": 4,
 "nbformat_minor": 5
}
