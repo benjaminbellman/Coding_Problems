{
 "cells": [
  {
   "cell_type": "markdown",
   "id": "f23ab5bf",
   "metadata": {},
   "source": [
    "# Tallest Billboard"
   ]
  },
  {
   "cell_type": "markdown",
   "id": "a1f6148c",
   "metadata": {},
   "source": [
    "You are installing a billboard and want it to have the largest height. The billboard will have two steel supports, one on each side. Each steel support must be an equal height.\n",
    "\n",
    "You are given a collection of rods that can be welded together. For example, if you have rods of lengths 1, 2, and 3, you can weld them together to make a support of length 6.\n",
    "\n",
    "Return the largest possible height of your billboard installation. If you cannot support the billboard, return 0.\n",
    "\n",
    "**Example 1:**\n",
    "\n",
    "Input: rods = [1,2,3,6]\n",
    "Output: 6\n",
    "Explanation: We have two disjoint subsets {1,2,3} and {6}, which have the same sum = 6.\n",
    "\n",
    "**Example 2:**\n",
    "\n",
    "Input: rods = [1,2,3,4,5,6]\n",
    "Output: 10\n",
    "Explanation: We have two disjoint subsets {2,3,5} and {4,6}, which have the same sum = 10.\n",
    "\n",
    "**Example 3:**\n",
    "\n",
    "Input: rods = [1,2]\n",
    "Output: 0\n",
    "Explanation: The billboard cannot be supported, so we return 0.\n",
    " \n",
    "\n",
    "**Constraints:**\n",
    "\n",
    "- 1 <= rods.length <= 20\n",
    "- 1 <= rods[i] <= 1000\n",
    "- sum(rods[i]) <= 5000"
   ]
  },
  {
   "cell_type": "code",
   "execution_count": 1,
   "id": "b2a2eeff",
   "metadata": {},
   "outputs": [
    {
     "name": "stdout",
     "output_type": "stream",
     "text": [
      "6\n",
      "10\n",
      "0\n"
     ]
    }
   ],
   "source": [
    "def tallestBillboard(rods):\n",
    "    dp = {0: 0}  # difference : max height of one side\n",
    "    for rod in rods:\n",
    "        current_dp = dp.copy()\n",
    "        for diff, height in current_dp.items():\n",
    "            # Add rod to one side (increase the difference)\n",
    "            dp[diff + rod] = max(dp.get(diff + rod, 0), height)\n",
    "            # Add rod to the other side (decrease the difference)\n",
    "            dp[abs(diff - rod)] = max(dp.get(abs(diff - rod), 0), height + min(diff, rod))\n",
    "    \n",
    "    return dp.get(0, 0)\n",
    "\n",
    "# Example Usage:\n",
    "print(tallestBillboard([1, 2, 3, 6]))  # Output: 6\n",
    "print(tallestBillboard([1, 2, 3, 4, 5, 6]))  # Output: 10\n",
    "print(tallestBillboard([1, 2]))  # Output: 0"
   ]
  },
  {
   "cell_type": "code",
   "execution_count": null,
   "id": "ad55020c",
   "metadata": {},
   "outputs": [],
   "source": []
  }
 ],
 "metadata": {
  "kernelspec": {
   "display_name": "Python 3 (ipykernel)",
   "language": "python",
   "name": "python3"
  },
  "language_info": {
   "codemirror_mode": {
    "name": "ipython",
    "version": 3
   },
   "file_extension": ".py",
   "mimetype": "text/x-python",
   "name": "python",
   "nbconvert_exporter": "python",
   "pygments_lexer": "ipython3",
   "version": "3.8.11"
  }
 },
 "nbformat": 4,
 "nbformat_minor": 5
}
