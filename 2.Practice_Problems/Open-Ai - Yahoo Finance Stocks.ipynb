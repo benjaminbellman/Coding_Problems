{
 "cells": [
  {
   "cell_type": "markdown",
   "id": "577f17f8",
   "metadata": {},
   "source": [
    "## Open-Ai \n",
    "I gave Open-Ai Chatbox the following prompt: \n",
    "\n",
    "\"Write me code in python that can extract the stock price for 5 random stocks a day from yahoo finance. Store these in a pandas dataframe with the index column as the stock ticker and the opening and closing prices as the first and second columns respectively. The code should run for 100 days, so in total, there would be 500 stocks in the dataframe.\""
   ]
  },
  {
   "cell_type": "markdown",
   "id": "e36ea0fb",
   "metadata": {},
   "source": [
    "It responded: \n",
    "\n",
    "\"Unfortunately, I am unable to provide you with code that can extract stock prices from Yahoo Finance because I am a large language model trained by OpenAI and do not have the ability to browse the web or access external data sources. I can only provide information and answer questions based on my pre-existing knowledge. However, I can provide some general guidance on how you might approach this problem.\n",
    "\n",
    "To extract stock prices from Yahoo Finance, you could use the yfinance library in Python. This library provides a simple interface for accessing stock data from Yahoo Finance. You could use the Ticker class in the yfinance library to get the stock data for a specific ticker symbol. For example:\""
   ]
  },
  {
   "cell_type": "code",
   "execution_count": 4,
   "id": "61d00cd0",
   "metadata": {},
   "outputs": [
    {
     "name": "stdout",
     "output_type": "stream",
     "text": [
      "147.77\n",
      "146.63\n"
     ]
    }
   ],
   "source": [
    "import yfinance as yf\n",
    "\n",
    "# Get the stock data for the company with ticker symbol \"AAPL\"\n",
    "ticker = yf.Ticker(\"AAPL\")\n",
    "\n",
    "# Print the stock's opening and closing prices\n",
    "print(ticker.info['regularMarketOpen'])\n",
    "print(ticker.info['regularMarketPrice'])"
   ]
  },
  {
   "cell_type": "markdown",
   "id": "e32ec3c0",
   "metadata": {},
   "source": [
    "To get 5 random stocks a day, you could use the random module in Python to generate a list of random ticker symbols. For example:"
   ]
  },
  {
   "cell_type": "code",
   "execution_count": 5,
   "id": "8e99523e",
   "metadata": {},
   "outputs": [
    {
     "name": "stdout",
     "output_type": "stream",
     "text": [
      "['GOOG', 'AMZN', 'AAPL', 'FB', 'MSFT']\n"
     ]
    }
   ],
   "source": [
    "import random\n",
    "\n",
    "# Generate a list of 5 random ticker symbols\n",
    "ticker_symbols = random.sample([\"AAPL\", \"GOOG\", \"MSFT\", \"AMZN\", \"FB\"], 5)\n",
    "\n",
    "# Print the list of ticker symbols\n",
    "print(ticker_symbols)"
   ]
  },
  {
   "cell_type": "markdown",
   "id": "c7c85a23",
   "metadata": {},
   "source": [
    "You could then use the Ticker class and the random.sample function to get the opening and closing prices for each of the 5 random ticker symbols. You could store the prices in a Pandas dataframe with the index column as the ticker symbol and the opening and closing prices as the first and second columns, respectively.\n",
    "\n",
    "To run this code for 100 days, you could use a for loop to iterate over the days. For each day, you could generate a list of 5 random ticker symbols and use the Ticker class to get the stock data. You could then append the data to the dataframe.\n",
    "\n",
    "Here is some sample code that shows how you might approach this problem:"
   ]
  },
  {
   "cell_type": "code",
   "execution_count": null,
   "id": "255bfed0",
   "metadata": {},
   "outputs": [],
   "source": [
    "import yfinance as yf\n",
    "import pandas as pd\n",
    "import random\n",
    "\n",
    "# Create an empty dataframe to store the stock data\n",
    "df = pd.DataFrame(columns=[\"Ticker\", \"Open\", \"Close\"])\n",
    "\n",
    "# Loop for 100 days\n",
    "for day in range(100):\n",
    "  # Generate a list of 5 random ticker symbols\n",
    "  ticker_symbols = random.sample([\"AAPL\", \"GOOG\", \"MSFT\", \"AMZN\", \"FB\"], 5)\n",
    "\n",
    "  # Loop through each ticker symbol\n",
    "  for symbol in ticker_symbols:\n",
    "    # Get the stock data for the ticker symbol\n",
    "    ticker = yf.Ticker(symbol)\n",
    "\n",
    "    # Get the opening and closing prices\n",
    "    open_price = ticker.info['regularMarketOpen']\n",
    "    close_price = ticker.info['regularMarketPrice']\n",
    "\n",
    "    # Append the data to the dataframe\n",
    "    df = df.append({\"Ticker\": symbol, \"Open\": open_price, \"Close\": close_price}, ignore_index=True)\n",
    "\n",
    "# Print the dataframe\n",
    "print(df)"
   ]
  },
  {
   "cell_type": "markdown",
   "id": "bf3e81b9",
   "metadata": {},
   "source": [
    "## Conclusion: \n",
    "Powerful helper, but does not have all the answers"
   ]
  }
 ],
 "metadata": {
  "kernelspec": {
   "display_name": "Python 3",
   "language": "python",
   "name": "python3"
  },
  "language_info": {
   "codemirror_mode": {
    "name": "ipython",
    "version": 3
   },
   "file_extension": ".py",
   "mimetype": "text/x-python",
   "name": "python",
   "nbconvert_exporter": "python",
   "pygments_lexer": "ipython3",
   "version": "3.9.13"
  }
 },
 "nbformat": 4,
 "nbformat_minor": 5
}
