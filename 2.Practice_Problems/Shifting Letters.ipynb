{
 "cells": [
  {
   "cell_type": "markdown",
   "id": "e746a551",
   "metadata": {},
   "source": [
    "# Shifting Letters"
   ]
  },
  {
   "cell_type": "markdown",
   "id": "d51165bc",
   "metadata": {},
   "source": [
    "You are given a string s of lowercase English letters and an integer array shifts of the same length.\n",
    "\n",
    "Call the shift() of a letter, the next letter in the alphabet, (wrapping around so that 'z' becomes 'a').\n",
    "\n",
    "For example, shift('a') = 'b', shift('t') = 'u', and shift('z') = 'a'.\n",
    "Now for each shifts[i] = x, we want to shift the first i + 1 letters of s, x times.\n",
    "\n",
    "Return the final string after all such shifts to s are applied.\n",
    "\n",
    " \n",
    "\n",
    "**Example 1:**\n",
    "\n",
    "Input: s = \"abc\", shifts = [3,5,9]\n",
    "Output: \"rpl\"\n",
    "Explanation: We start with \"abc\".\n",
    "After shifting the first 1 letters of s by 3, we have \"dbc\".\n",
    "After shifting the first 2 letters of s by 5, we have \"igc\".\n",
    "After shifting the first 3 letters of s by 9, we have \"rpl\", the answer.\n",
    "\n",
    "**Example 2:**\n",
    "\n",
    "Input: s = \"aaa\", shifts = [1,2,3]\n",
    "Output: \"gfd\"\n",
    " \n",
    "\n",
    "**Constraints:**\n",
    "\n",
    "- 1 <= s.length <= 105\n",
    "- s consists of lowercase English letters.\n",
    "- shifts.length == s.length\n",
    "- 0 <= shifts[i] <= 109"
   ]
  },
  {
   "cell_type": "code",
   "execution_count": 1,
   "id": "53de71b8",
   "metadata": {},
   "outputs": [],
   "source": [
    "def shiftingLetters(s, shifts):\n",
    "    n = len(s)\n",
    "    total_shift = sum(shifts) % 26  # Total shift amount (modulo 26 to handle wrap around)\n",
    "\n",
    "    result = []\n",
    "    for i in range(n):\n",
    "        shift_amount = (ord(s[i]) - ord('a') + total_shift) % 26\n",
    "        new_char = chr(ord('a') + shift_amount)\n",
    "        result.append(new_char)\n",
    "        total_shift = (total_shift - shifts[i]) % 26  # Update total shift for next character\n",
    "\n",
    "    return ''.join(result)"
   ]
  },
  {
   "cell_type": "code",
   "execution_count": null,
   "id": "757dd31b",
   "metadata": {},
   "outputs": [],
   "source": []
  }
 ],
 "metadata": {
  "kernelspec": {
   "display_name": "Python 3 (ipykernel)",
   "language": "python",
   "name": "python3"
  },
  "language_info": {
   "codemirror_mode": {
    "name": "ipython",
    "version": 3
   },
   "file_extension": ".py",
   "mimetype": "text/x-python",
   "name": "python",
   "nbconvert_exporter": "python",
   "pygments_lexer": "ipython3",
   "version": "3.8.11"
  }
 },
 "nbformat": 4,
 "nbformat_minor": 5
}
