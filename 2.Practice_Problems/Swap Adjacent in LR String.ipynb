{
 "cells": [
  {
   "cell_type": "markdown",
   "id": "c768e7bb",
   "metadata": {},
   "source": [
    "# Swap Adjacent in LR String"
   ]
  },
  {
   "cell_type": "markdown",
   "id": "744b1e16",
   "metadata": {},
   "source": [
    "In a string composed of 'L', 'R', and 'X' characters, like \"RXXLRXRXL\", a move consists of either replacing one occurrence of \"XL\" with \"LX\", or replacing one occurrence of \"RX\" with \"XR\". Given the starting string start and the ending string end, return True if and only if there exists a sequence of moves to transform one string to the other.\n",
    "\n",
    " \n",
    "\n",
    "**Example 1:**\n",
    "\n",
    "Input: start = \"RXXLRXRXL\", end = \"XRLXXRRLX\"\n",
    "\n",
    "Output: true\n",
    "Explanation: We can transform start to end following these steps:\n",
    "RXXLRXRXL ->\n",
    "XRXLRXRXL ->\n",
    "XRLXRXRXL ->\n",
    "XRLXXRRXL ->\n",
    "XRLXXRRLX\n",
    "\n",
    "**Example 2:**\n",
    "\n",
    "Input: start = \"X\", end = \"L\"\n",
    "\n",
    "Output: false\n",
    " \n",
    "\n",
    "**Constraints:**\n",
    "\n",
    "- 1 <= start.length <= 104\n",
    "- start.length == end.length\n",
    "- Both start and end will only consist of characters in 'L', 'R', and 'X'."
   ]
  },
  {
   "cell_type": "code",
   "execution_count": 1,
   "id": "7c562985",
   "metadata": {},
   "outputs": [
    {
     "name": "stdout",
     "output_type": "stream",
     "text": [
      "False\n",
      "False\n"
     ]
    }
   ],
   "source": [
    "def canTransform(start: str, end: str) -> bool:\n",
    "    if len(start) != len(end):\n",
    "        return False\n",
    "\n",
    "    i, j = 0, 0  # Pointers for start and end strings\n",
    "    n = len(start)\n",
    "\n",
    "    while i < n and j < n:\n",
    "        # Skip 'X' characters in both strings\n",
    "        while i < n and start[i] == 'X':\n",
    "            i += 1\n",
    "        while j < n and end[j] == 'X':\n",
    "            j += 1\n",
    "\n",
    "        # Check if characters at i and j are different\n",
    "        if (i < n) != (j < n) or start[i] != end[j]:\n",
    "            return False\n",
    "\n",
    "        # Check if 'L' is moving left or 'R' is moving right\n",
    "        if start[i] == 'L' and i < j:\n",
    "            return False\n",
    "        if start[i] == 'R' and i > j:\n",
    "            return False\n",
    "\n",
    "        i += 1\n",
    "        j += 1\n",
    "\n",
    "    # Ensure both pointers reach the end of their respective strings\n",
    "    return i == j == n\n",
    "\n",
    "# Example usage:\n",
    "start1 = \"RXXLRXRXL\"\n",
    "end1 = \"XRLXXRRLX\"\n",
    "print(canTransform(start1, end1))  # Output: True\n",
    "\n",
    "start2 = \"X\"\n",
    "end2 = \"L\"\n",
    "print(canTransform(start2, end2))  # Output: False"
   ]
  },
  {
   "cell_type": "code",
   "execution_count": null,
   "id": "1c53087a",
   "metadata": {},
   "outputs": [],
   "source": []
  }
 ],
 "metadata": {
  "kernelspec": {
   "display_name": "Python 3",
   "language": "python",
   "name": "python3"
  },
  "language_info": {
   "codemirror_mode": {
    "name": "ipython",
    "version": 3
   },
   "file_extension": ".py",
   "mimetype": "text/x-python",
   "name": "python",
   "nbconvert_exporter": "python",
   "pygments_lexer": "ipython3",
   "version": "3.9.13"
  }
 },
 "nbformat": 4,
 "nbformat_minor": 5
}
