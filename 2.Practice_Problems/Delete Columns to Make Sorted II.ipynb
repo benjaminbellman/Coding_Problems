{
 "cells": [
  {
   "cell_type": "markdown",
   "id": "c11bb25a",
   "metadata": {},
   "source": [
    "# Delete Columns to Make Sorted II"
   ]
  },
  {
   "cell_type": "markdown",
   "id": "637303f4",
   "metadata": {},
   "source": [
    "You are given an array of n strings strs, all of the same length.\n",
    "\n",
    "We may choose any deletion indices, and we delete all the characters in those indices for each string.\n",
    "\n",
    "For example, if we have strs = [\"abcdef\",\"uvwxyz\"] and deletion indices {0, 2, 3}, then the final array after deletions is [\"bef\", \"vyz\"].\n",
    "\n",
    "Suppose we chose a set of deletion indices answer such that after deletions, the final array has its elements in lexicographic order (i.e., strs[0] <= strs[1] <= strs[2] <= ... <= strs[n - 1]). Return the minimum possible value of answer.length.\n",
    "\n",
    "**Example 1:**\n",
    "\n",
    "Input: strs = [\"ca\",\"bb\",\"ac\"]\n",
    "Output: 1\n",
    "Explanation: \n",
    "After deleting the first column, strs = [\"a\", \"b\", \"c\"].\n",
    "Now strs is in lexicographic order (ie. strs[0] <= strs[1] <= strs[2]).\n",
    "We require at least 1 deletion since initially strs was not in lexicographic order, so the answer is 1.\n",
    "\n",
    "**Example 2:**\n",
    "\n",
    "Input: strs = [\"xc\",\"yb\",\"za\"]\n",
    "Output: 0\n",
    "Explanation: \n",
    "strs is already in lexicographic order, so we do not need to delete anything.\n",
    "Note that the rows of strs are not necessarily in lexicographic order:\n",
    "i.e., it is NOT necessarily true that (strs[0][0] <= strs[0][1] <= ...)\n",
    "\n",
    "**Example 3:**\n",
    "\n",
    "Input: strs = [\"zyx\",\"wvu\",\"tsr\"]\n",
    "Output: 3\n",
    "Explanation: We have to delete every column."
   ]
  },
  {
   "cell_type": "code",
   "execution_count": 1,
   "id": "40559539",
   "metadata": {},
   "outputs": [],
   "source": [
    "def minDeletionSize(strs):\n",
    "    # Initialize a variable to keep track of the number of columns to delete\n",
    "    delete_count = 0\n",
    "    \n",
    "    # Number of rows and columns in the strs matrix\n",
    "    num_rows = len(strs)\n",
    "    num_cols = len(strs[0])\n",
    "    \n",
    "    # Loop through each column\n",
    "    for col in range(num_cols):\n",
    "        # Check if this column causes any violation of lexicographical order\n",
    "        for row in range(1, num_rows):\n",
    "            if strs[row - 1][col] > strs[row][col]:\n",
    "                delete_count += 1\n",
    "                break  # No need to check further rows for this column, move to the next column\n",
    "    \n",
    "    return delete_count"
   ]
  },
  {
   "cell_type": "code",
   "execution_count": null,
   "id": "2dac1530",
   "metadata": {},
   "outputs": [],
   "source": []
  }
 ],
 "metadata": {
  "kernelspec": {
   "display_name": "Python 3 (ipykernel)",
   "language": "python",
   "name": "python3"
  },
  "language_info": {
   "codemirror_mode": {
    "name": "ipython",
    "version": 3
   },
   "file_extension": ".py",
   "mimetype": "text/x-python",
   "name": "python",
   "nbconvert_exporter": "python",
   "pygments_lexer": "ipython3",
   "version": "3.8.11"
  }
 },
 "nbformat": 4,
 "nbformat_minor": 5
}
