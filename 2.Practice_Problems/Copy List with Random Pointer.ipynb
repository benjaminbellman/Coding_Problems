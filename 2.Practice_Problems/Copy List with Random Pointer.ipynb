{
 "cells": [
  {
   "cell_type": "markdown",
   "id": "f29aa5e6",
   "metadata": {},
   "source": [
    "# Copy List with Random Pointer"
   ]
  },
  {
   "cell_type": "markdown",
   "id": "3c33c78b",
   "metadata": {},
   "source": [
    "A linked list of length n is given such that each node contains an additional random pointer, which could point to any node in the list, or null.\n",
    "\n",
    "Construct a deep copy of the list. The deep copy should consist of exactly n brand new nodes, where each new node has its value set to the value of its corresponding original node. Both the next and random pointer of the new nodes should point to new nodes in the copied list such that the pointers in the original list and copied list represent the same list state. None of the pointers in the new list should point to nodes in the original list.\n",
    "\n",
    "For example, if there are two nodes X and Y in the original list, where X.random --> Y, then for the corresponding two nodes x and y in the copied list, x.random --> y.\n",
    "\n",
    "Return the head of the copied linked list.\n",
    "\n",
    "The linked list is represented in the input/output as a list of n nodes. Each node is represented as a pair of [val, random_index] where:\n",
    "\n",
    "val: an integer representing Node.val\n",
    "random_index: the index of the node (range from 0 to n-1) that the random pointer points to, or null if it does not point to any node.\n",
    "Your code will only be given the head of the original linked list.\n",
    "\n",
    "**Example 1:**\n",
    "\n",
    "Input: head = [[7,null],[13,0],[11,4],[10,2],[1,0]]\n",
    "Output: [[7,null],[13,0],[11,4],[10,2],[1,0]]\n",
    "\n",
    "**Example 2:**\n",
    "\n",
    "Input: head = [[1,1],[2,1]]\n",
    "Output: [[1,1],[2,1]]\n",
    "\n",
    "**Example 3:**\n",
    "\n",
    "Input: head = [[3,null],[3,0],[3,null]]\n",
    "Output: [[3,null],[3,0],[3,null]]\n",
    "\n",
    "**Constraints:**\n",
    "\n",
    "- 0 <= n <= 1000\n",
    "- -104 <= Node.val <= 104\n",
    "- Node.random is null or is pointing to some node in the linked list."
   ]
  },
  {
   "cell_type": "code",
   "execution_count": 1,
   "id": "2ebe3bcf",
   "metadata": {},
   "outputs": [],
   "source": [
    "# Definition for a Node.\n",
    "class Node:\n",
    "    def __init__(self, x: int, next: 'Node' = None, random: 'Node' = None):\n",
    "        self.val = x\n",
    "        self.next = next\n",
    "        self.random = random\n",
    "\n",
    "class Solution:\n",
    "    def copyRandomList(self, head: 'Node') -> 'Node':\n",
    "        if not head:\n",
    "            return None\n",
    "\n",
    "        # 1) Interleave cloned nodes after each original\n",
    "        curr = head\n",
    "        while curr:\n",
    "            nxt = curr.next\n",
    "            copy = Node(curr.val)\n",
    "            curr.next = copy\n",
    "            copy.next = nxt\n",
    "            curr = nxt\n",
    "\n",
    "        # 2) Assign random pointers for clones\n",
    "        curr = head\n",
    "        while curr:\n",
    "            if curr.random:\n",
    "                curr.next.random = curr.random.next\n",
    "            curr = curr.next.next\n",
    "\n",
    "        # 3) Detach: restore original list and extract clone list\n",
    "        curr = head\n",
    "        pseudo_head = Node(0)\n",
    "        copy_curr = pseudo_head\n",
    "        while curr:\n",
    "            copy = curr.next\n",
    "            nxt = copy.next\n",
    "\n",
    "            copy_curr.next = copy\n",
    "            copy_curr = copy\n",
    "\n",
    "            curr.next = nxt  # restore original\n",
    "            curr = nxt\n",
    "\n",
    "        return pseudo_head.next"
   ]
  },
  {
   "cell_type": "code",
   "execution_count": null,
   "id": "7073e47c",
   "metadata": {},
   "outputs": [],
   "source": []
  }
 ],
 "metadata": {
  "kernelspec": {
   "display_name": "Python 3 (ipykernel)",
   "language": "python",
   "name": "python3"
  },
  "language_info": {
   "codemirror_mode": {
    "name": "ipython",
    "version": 3
   },
   "file_extension": ".py",
   "mimetype": "text/x-python",
   "name": "python",
   "nbconvert_exporter": "python",
   "pygments_lexer": "ipython3",
   "version": "3.8.11"
  }
 },
 "nbformat": 4,
 "nbformat_minor": 5
}
