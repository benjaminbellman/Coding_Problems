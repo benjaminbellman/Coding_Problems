{
 "cells": [
  {
   "cell_type": "markdown",
   "id": "787284a4",
   "metadata": {},
   "source": [
    "# Letter Tile Possibilities"
   ]
  },
  {
   "cell_type": "markdown",
   "id": "efb95caa",
   "metadata": {},
   "source": [
    "You have n  tiles, where each tile has one letter tiles[i] printed on it.\n",
    "\n",
    "Return the number of possible non-empty sequences of letters you can make using the letters printed on those tiles.\n",
    "\n",
    "**Example 1:**\n",
    "\n",
    "Input: tiles = \"AAB\"\n",
    "Output: 8\n",
    "Explanation: The possible sequences are \"A\", \"B\", \"AA\", \"AB\", \"BA\", \"AAB\", \"ABA\", \"BAA\".\n",
    "\n",
    "**Example 2:**\n",
    "\n",
    "Input: tiles = \"AAABBC\"\n",
    "Output: 188\n",
    "\n",
    "**Example 3:**\n",
    "\n",
    "Input: tiles = \"V\"\n",
    "Output: 1\n",
    " \n",
    "**Constraints:**\n",
    "\n",
    "- 1 <= tiles.length <= 7\n",
    "- tiles consists of uppercase English letters."
   ]
  },
  {
   "cell_type": "code",
   "execution_count": 1,
   "id": "5eef5547",
   "metadata": {},
   "outputs": [
    {
     "name": "stdout",
     "output_type": "stream",
     "text": [
      "8\n",
      "188\n",
      "1\n"
     ]
    }
   ],
   "source": [
    "from itertools import permutations\n",
    "\n",
    "def num_tile_possibilities(tiles):\n",
    "    unique_sequences = set()\n",
    "    \n",
    "    for i in range(1, len(tiles) + 1):\n",
    "        # Generate all permutations of length i\n",
    "        unique_sequences.update(set(permutations(tiles, i)))\n",
    "    \n",
    "    return len(unique_sequences)\n",
    "\n",
    "# Examples\n",
    "print(num_tile_possibilities(\"AAB\"))      # Output: 8\n",
    "print(num_tile_possibilities(\"AAABBC\"))   # Output: 188\n",
    "print(num_tile_possibilities(\"V\"))        # Output: 1"
   ]
  },
  {
   "cell_type": "code",
   "execution_count": null,
   "id": "f2546734",
   "metadata": {},
   "outputs": [],
   "source": []
  }
 ],
 "metadata": {
  "kernelspec": {
   "display_name": "Python 3 (ipykernel)",
   "language": "python",
   "name": "python3"
  },
  "language_info": {
   "codemirror_mode": {
    "name": "ipython",
    "version": 3
   },
   "file_extension": ".py",
   "mimetype": "text/x-python",
   "name": "python",
   "nbconvert_exporter": "python",
   "pygments_lexer": "ipython3",
   "version": "3.8.11"
  }
 },
 "nbformat": 4,
 "nbformat_minor": 5
}
