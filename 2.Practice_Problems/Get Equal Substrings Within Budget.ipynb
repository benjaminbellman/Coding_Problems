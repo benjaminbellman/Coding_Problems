{
 "cells": [
  {
   "cell_type": "markdown",
   "id": "4fba4ff8",
   "metadata": {},
   "source": [
    "# Get Equal Substrings Within Budget"
   ]
  },
  {
   "cell_type": "markdown",
   "id": "721c1b87",
   "metadata": {},
   "source": [
    "You are given two strings s and t of the same length and an integer maxCost.\n",
    "\n",
    "You want to change s to t. Changing the ith character of s to ith character of t costs |s[i] - t[i]| (i.e., the absolute difference between the ASCII values of the characters).\n",
    "\n",
    "Return the maximum length of a substring of s that can be changed to be the same as the corresponding substring of t with a cost less than or equal to maxCost. If there is no substring from s that can be changed to its corresponding substring from t, return 0.\n",
    "\n",
    "**Example 1:**\n",
    "\n",
    "Input: s = \"abcd\", t = \"bcdf\", maxCost = 3\n",
    "Output: 3\n",
    "Explanation: \"abc\" of s can change to \"bcd\".\n",
    "That costs 3, so the maximum length is 3.\n",
    "\n",
    "**Example 2:**\n",
    "\n",
    "Input: s = \"abcd\", t = \"cdef\", maxCost = 3\n",
    "Output: 1\n",
    "Explanation: Each character in s costs 2 to change to character in t,  so the maximum length is 1.\n",
    "\n",
    "**Example 3:**\n",
    "\n",
    "Input: s = \"abcd\", t = \"acde\", maxCost = 0\n",
    "Output: 1\n",
    "Explanation: You cannot make any change, so the maximum length is 1.\n",
    " \n",
    "**Constraints:**\n",
    "\n",
    "- 1 <= s.length <= 105\n",
    "- t.length == s.length\n",
    "- 0 <= maxCost <= 106\n",
    "- s and t consist of only lowercase English letters."
   ]
  },
  {
   "cell_type": "code",
   "execution_count": 1,
   "id": "7746ddf6",
   "metadata": {},
   "outputs": [],
   "source": [
    "def equalSubstring(s: str, t: str, maxCost: int) -> int:\n",
    "    n = len(s)\n",
    "    left = 0\n",
    "    current_cost = 0\n",
    "    max_length = 0\n",
    "\n",
    "    for right in range(n):\n",
    "        # Calculate the cost of changing s[right] to t[right]\n",
    "        cost = abs(ord(s[right]) - ord(t[right]))\n",
    "        current_cost += cost\n",
    "\n",
    "        # If the total cost exceeds maxCost, shrink the window from the left\n",
    "        while current_cost > maxCost:\n",
    "            current_cost -= abs(ord(s[left]) - ord(t[left]))\n",
    "            left += 1\n",
    "\n",
    "        # Update max_length with the size of the current valid window\n",
    "        max_length = max(max_length, right - left + 1)\n",
    "\n",
    "    return max_length"
   ]
  },
  {
   "cell_type": "code",
   "execution_count": null,
   "id": "8bfa085a",
   "metadata": {},
   "outputs": [],
   "source": []
  }
 ],
 "metadata": {
  "kernelspec": {
   "display_name": "Python 3 (ipykernel)",
   "language": "python",
   "name": "python3"
  },
  "language_info": {
   "codemirror_mode": {
    "name": "ipython",
    "version": 3
   },
   "file_extension": ".py",
   "mimetype": "text/x-python",
   "name": "python",
   "nbconvert_exporter": "python",
   "pygments_lexer": "ipython3",
   "version": "3.8.11"
  }
 },
 "nbformat": 4,
 "nbformat_minor": 5
}
