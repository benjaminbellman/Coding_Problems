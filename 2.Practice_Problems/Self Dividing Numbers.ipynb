{
 "cells": [
  {
   "cell_type": "markdown",
   "id": "6731f7a7",
   "metadata": {},
   "source": [
    "# Self Dividing Numbers"
   ]
  },
  {
   "cell_type": "markdown",
   "id": "67c5d674",
   "metadata": {},
   "source": [
    "A self-dividing number is a number that is divisible by every digit it contains.\n",
    "\n",
    "For example, 128 is a self-dividing number because 128 % 1 == 0, 128 % 2 == 0, and 128 % 8 == 0.\n",
    "A self-dividing number is not allowed to contain the digit zero.\n",
    "\n",
    "Given two integers left and right, return a list of all the self-dividing numbers in the range [left, right].\n",
    "\n",
    " \n",
    "\n",
    "**Example 1:**\n",
    "\n",
    "Input: left = 1, right = 22\n",
    "Output: [1,2,3,4,5,6,7,8,9,11,12,15,22]\n",
    "\n",
    "**Example 2:**\n",
    "\n",
    "Input: left = 47, right = 85\n",
    "Output: [48,55,66,77]\n",
    " \n",
    "\n",
    "**Constraints:**\n",
    "\n",
    "- 1 <= left <= right <= 104"
   ]
  },
  {
   "cell_type": "code",
   "execution_count": 2,
   "id": "102d6ef1",
   "metadata": {},
   "outputs": [
    {
     "name": "stdout",
     "output_type": "stream",
     "text": [
      "[1, 2, 3, 4, 5, 6, 7, 8, 9, 11, 12, 15, 22]\n",
      "[48, 55, 66, 77]\n"
     ]
    }
   ],
   "source": [
    "def is_self_dividing(num):\n",
    "    for digit in str(num):\n",
    "        if digit == '0' or num % int(digit) != 0:\n",
    "            return False\n",
    "    return True\n",
    "\n",
    "def self_dividing_numbers(left, right):\n",
    "    result = []\n",
    "    for num in range(left, right + 1):\n",
    "        if is_self_dividing(num):\n",
    "            result.append(num)\n",
    "    return result\n",
    "\n",
    "# Example usage:\n",
    "left = 1\n",
    "right = 22\n",
    "print(self_dividing_numbers(left, right))  # Output: [1, 2, 3, 4, 5, 6, 7, 8, 9, 11, 12, 15, 22]\n",
    "\n",
    "left = 47\n",
    "right = 85\n",
    "print(self_dividing_numbers(left, right))  # Output: [48, 55, 66, 77]"
   ]
  },
  {
   "cell_type": "code",
   "execution_count": null,
   "id": "ae9720cf",
   "metadata": {},
   "outputs": [],
   "source": []
  }
 ],
 "metadata": {
  "kernelspec": {
   "display_name": "Python 3",
   "language": "python",
   "name": "python3"
  },
  "language_info": {
   "codemirror_mode": {
    "name": "ipython",
    "version": 3
   },
   "file_extension": ".py",
   "mimetype": "text/x-python",
   "name": "python",
   "nbconvert_exporter": "python",
   "pygments_lexer": "ipython3",
   "version": "3.9.13"
  }
 },
 "nbformat": 4,
 "nbformat_minor": 5
}
