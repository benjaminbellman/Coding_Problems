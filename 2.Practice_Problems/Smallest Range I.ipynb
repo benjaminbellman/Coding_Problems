{
 "cells": [
  {
   "cell_type": "markdown",
   "id": "dc6a8e2b",
   "metadata": {},
   "source": [
    "# Smallest Range I"
   ]
  },
  {
   "cell_type": "markdown",
   "id": "01446930",
   "metadata": {},
   "source": [
    "You are given an integer array nums and an integer k.\n",
    "\n",
    "In one operation, you can choose any index i where 0 <= i < nums.length and change nums[i] to nums[i] + x where x is an integer from the range [-k, k]. You can apply this operation at most once for each index i.\n",
    "\n",
    "The score of nums is the difference between the maximum and minimum elements in nums.\n",
    "\n",
    "Return the minimum score of nums after applying the mentioned operation at most once for each index in it.\n",
    "\n",
    "**Example 1:**\n",
    "\n",
    "Input: nums = [1], k = 0\n",
    "Output: 0\n",
    "Explanation: The score is max(nums) - min(nums) = 1 - 1 = 0.\n",
    "\n",
    "**Example 2:**\n",
    "\n",
    "Input: nums = [0,10], k = 2\n",
    "Output: 6\n",
    "Explanation: Change nums to be [2, 8]. The score is max(nums) - min(nums) = 8 - 2 = 6.\n",
    "\n",
    "**Example 3:**\n",
    "\n",
    "Input: nums = [1,3,6], k = 3\n",
    "Output: 0\n",
    "Explanation: Change nums to be [4, 4, 4]. The score is max(nums) - min(nums) = 4 - 4 = 0.\n",
    " \n",
    "**Constraints:**\n",
    "\n",
    "- 1 <= nums.length <= 104\n",
    "- 0 <= nums[i] <= 104\n",
    "- 0 <= k <= 104"
   ]
  },
  {
   "cell_type": "code",
   "execution_count": 1,
   "id": "4910e4bf",
   "metadata": {},
   "outputs": [
    {
     "name": "stdout",
     "output_type": "stream",
     "text": [
      "0\n",
      "6\n",
      "0\n"
     ]
    }
   ],
   "source": [
    "def minimizeScore(nums, k):\n",
    "    # Initial minimum and maximum values\n",
    "    min_val = min(nums)\n",
    "    max_val = max(nums)\n",
    "    \n",
    "    # New minimum value after adjustment\n",
    "    new_min = min_val + k\n",
    "    # New maximum value after adjustment\n",
    "    new_max = max_val - k\n",
    "    \n",
    "    # Calculate the minimum score\n",
    "    min_score = max(0, new_max - new_min)\n",
    "    \n",
    "    return min_score\n",
    "\n",
    "# Example usage:\n",
    "print(minimizeScore([1], 0))  # Output: 0\n",
    "print(minimizeScore([0, 10], 2))  # Output: 6\n",
    "print(minimizeScore([1, 3, 6], 3))  # Output: 0"
   ]
  },
  {
   "cell_type": "code",
   "execution_count": null,
   "id": "8b38b8e3",
   "metadata": {},
   "outputs": [],
   "source": []
  }
 ],
 "metadata": {
  "kernelspec": {
   "display_name": "Python 3 (ipykernel)",
   "language": "python",
   "name": "python3"
  },
  "language_info": {
   "codemirror_mode": {
    "name": "ipython",
    "version": 3
   },
   "file_extension": ".py",
   "mimetype": "text/x-python",
   "name": "python",
   "nbconvert_exporter": "python",
   "pygments_lexer": "ipython3",
   "version": "3.8.11"
  }
 },
 "nbformat": 4,
 "nbformat_minor": 5
}
