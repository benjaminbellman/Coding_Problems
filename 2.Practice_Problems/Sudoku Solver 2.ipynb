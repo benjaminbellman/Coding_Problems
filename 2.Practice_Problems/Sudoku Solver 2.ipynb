{
 "cells": [
  {
   "cell_type": "markdown",
   "id": "b5bde79d",
   "metadata": {},
   "source": [
    "# Sudoku Solver 2"
   ]
  },
  {
   "cell_type": "markdown",
   "id": "95dbea77",
   "metadata": {},
   "source": [
    "Write a program to solve a Sudoku puzzle by filling the empty cells.\n",
    "\n",
    "A sudoku solution must satisfy all of the following rules:\n",
    "\n",
    "Each of the digits 1-9 must occur exactly once in each row.\n",
    "Each of the digits 1-9 must occur exactly once in each column.\n",
    "Each of the digits 1-9 must occur exactly once in each of the 9 3x3 sub-boxes of the grid.\n",
    "The '.' character indicates empty cells.\n",
    "\n",
    "**Example 1:**\n",
    "\n",
    "Input: board = [[\"5\",\"3\",\".\",\".\",\"7\",\".\",\".\",\".\",\".\"],[\"6\",\".\",\".\",\"1\",\"9\",\"5\",\".\",\".\",\".\"],[\".\",\"9\",\"8\",\".\",\".\",\".\",\".\",\"6\",\".\"],[\"8\",\".\",\".\",\".\",\"6\",\".\",\".\",\".\",\"3\"],[\"4\",\".\",\".\",\"8\",\".\",\"3\",\".\",\".\",\"1\"],[\"7\",\".\",\".\",\".\",\"2\",\".\",\".\",\".\",\"6\"],[\".\",\"6\",\".\",\".\",\".\",\".\",\"2\",\"8\",\".\"],[\".\",\".\",\".\",\"4\",\"1\",\"9\",\".\",\".\",\"5\"],[\".\",\".\",\".\",\".\",\"8\",\".\",\".\",\"7\",\"9\"]]\n",
    "Output: [[\"5\",\"3\",\"4\",\"6\",\"7\",\"8\",\"9\",\"1\",\"2\"],[\"6\",\"7\",\"2\",\"1\",\"9\",\"5\",\"3\",\"4\",\"8\"],[\"1\",\"9\",\"8\",\"3\",\"4\",\"2\",\"5\",\"6\",\"7\"],[\"8\",\"5\",\"9\",\"7\",\"6\",\"1\",\"4\",\"2\",\"3\"],[\"4\",\"2\",\"6\",\"8\",\"5\",\"3\",\"7\",\"9\",\"1\"],[\"7\",\"1\",\"3\",\"9\",\"2\",\"4\",\"8\",\"5\",\"6\"],[\"9\",\"6\",\"1\",\"5\",\"3\",\"7\",\"2\",\"8\",\"4\"],[\"2\",\"8\",\"7\",\"4\",\"1\",\"9\",\"6\",\"3\",\"5\"],[\"3\",\"4\",\"5\",\"2\",\"8\",\"6\",\"1\",\"7\",\"9\"]]\n",
    "Explanation: The input board is shown above and the only valid solution is shown below:\n",
    "\n",
    "**Constraints:**\n",
    "\n",
    "- board.length == 9\n",
    "- board[i].length == 9\n",
    "- board[i][j] is a digit or '.'.\n",
    "- It is guaranteed that the input board has only one solution."
   ]
  },
  {
   "cell_type": "code",
   "execution_count": 1,
   "id": "b0dca8d2",
   "metadata": {},
   "outputs": [],
   "source": [
    "def solveSudoku(board):\n",
    "    def is_valid(r, c, ch):\n",
    "        # Check row\n",
    "        for i in range(9):\n",
    "            if board[r][i] == ch:\n",
    "                return False\n",
    "        # Check column\n",
    "        for i in range(9):\n",
    "            if board[i][c] == ch:\n",
    "                return False\n",
    "        # Check 3x3 box\n",
    "        start_row, start_col = 3 * (r // 3), 3 * (c // 3)\n",
    "        for i in range(start_row, start_row + 3):\n",
    "            for j in range(start_col, start_col + 3):\n",
    "                if board[i][j] == ch:\n",
    "                    return False\n",
    "        return True\n",
    "\n",
    "    def backtrack():\n",
    "        for i in range(9):\n",
    "            for j in range(9):\n",
    "                if board[i][j] == '.':\n",
    "                    for ch in '123456789':\n",
    "                        if is_valid(i, j, ch):\n",
    "                            board[i][j] = ch\n",
    "                            if backtrack():\n",
    "                                return True\n",
    "                            board[i][j] = '.'  # Backtrack\n",
    "                    return False  # No valid digit found\n",
    "        return True  # Puzzle solved\n",
    "\n",
    "    backtrack()"
   ]
  },
  {
   "cell_type": "code",
   "execution_count": 2,
   "id": "e9e7fd03",
   "metadata": {},
   "outputs": [
    {
     "name": "stdout",
     "output_type": "stream",
     "text": [
      "['5', '3', '4', '6', '7', '8', '9', '1', '2']\n",
      "['6', '7', '2', '1', '9', '5', '3', '4', '8']\n",
      "['1', '9', '8', '3', '4', '2', '5', '6', '7']\n",
      "['8', '5', '9', '7', '6', '1', '4', '2', '3']\n",
      "['4', '2', '6', '8', '5', '3', '7', '9', '1']\n",
      "['7', '1', '3', '9', '2', '4', '8', '5', '6']\n",
      "['9', '6', '1', '5', '3', '7', '2', '8', '4']\n",
      "['2', '8', '7', '4', '1', '9', '6', '3', '5']\n",
      "['3', '4', '5', '2', '8', '6', '1', '7', '9']\n"
     ]
    }
   ],
   "source": [
    "board = [[\"5\",\"3\",\".\",\".\",\"7\",\".\",\".\",\".\",\".\"],\n",
    "         [\"6\",\".\",\".\",\"1\",\"9\",\"5\",\".\",\".\",\".\"],\n",
    "         [\".\",\"9\",\"8\",\".\",\".\",\".\",\".\",\"6\",\".\"],\n",
    "         [\"8\",\".\",\".\",\".\",\"6\",\".\",\".\",\".\",\"3\"],\n",
    "         [\"4\",\".\",\".\",\"8\",\".\",\"3\",\".\",\".\",\"1\"],\n",
    "         [\"7\",\".\",\".\",\".\",\"2\",\".\",\".\",\".\",\"6\"],\n",
    "         [\".\",\"6\",\".\",\".\",\".\",\".\",\"2\",\"8\",\".\"],\n",
    "         [\".\",\".\",\".\",\"4\",\"1\",\"9\",\".\",\".\",\"5\"],\n",
    "         [\".\",\".\",\".\",\".\",\"8\",\".\",\".\",\"7\",\"9\"]]\n",
    "\n",
    "solveSudoku(board)\n",
    "\n",
    "# Print the solved board\n",
    "for row in board:\n",
    "    print(row)"
   ]
  },
  {
   "cell_type": "code",
   "execution_count": null,
   "id": "57690bfc",
   "metadata": {},
   "outputs": [],
   "source": []
  }
 ],
 "metadata": {
  "kernelspec": {
   "display_name": "Python 3 (ipykernel)",
   "language": "python",
   "name": "python3"
  },
  "language_info": {
   "codemirror_mode": {
    "name": "ipython",
    "version": 3
   },
   "file_extension": ".py",
   "mimetype": "text/x-python",
   "name": "python",
   "nbconvert_exporter": "python",
   "pygments_lexer": "ipython3",
   "version": "3.8.11"
  }
 },
 "nbformat": 4,
 "nbformat_minor": 5
}
