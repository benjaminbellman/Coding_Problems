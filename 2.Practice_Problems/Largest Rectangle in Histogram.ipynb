{
 "cells": [
  {
   "cell_type": "markdown",
   "id": "6e861802",
   "metadata": {},
   "source": [
    "# Largest Rectangle in Histogram"
   ]
  },
  {
   "cell_type": "markdown",
   "id": "91aad588",
   "metadata": {},
   "source": [
    "Given an array of integers heights representing the histogram's bar height where the width of each bar is 1, return the area of the largest rectangle in the histogram.\n",
    "\n",
    "**Example 1:**\n",
    "\n",
    "Input: heights = [2,1,5,6,2,3]\n",
    "Output: 10\n",
    "Explanation: The above is a histogram where width of each bar is 1.\n",
    "The largest rectangle is shown in the red area, which has an area = 10 units.\n",
    "\n",
    "**Example 2:**\n",
    "\n",
    "Input: heights = [2,4]\n",
    "Output: 4\n",
    " \n",
    "**Constraints:\n",
    "\n",
    "- 1 <= heights.length <= 105\n",
    "- 0 <= heights[i] <= 104"
   ]
  },
  {
   "cell_type": "code",
   "execution_count": 1,
   "id": "c4779640",
   "metadata": {},
   "outputs": [],
   "source": [
    "def largestRectangleArea(heights):\n",
    "    stack = []  # stack to keep indices of bars\n",
    "    max_area = 0\n",
    "    heights.append(0)  # Add a sentinel to flush out remaining bars\n",
    "\n",
    "    for i, h in enumerate(heights):\n",
    "        # Pop from stack while current bar is less than bar at stack top\n",
    "        while stack and heights[stack[-1]] > h:\n",
    "            height = heights[stack.pop()]\n",
    "            # Width is current index - index of new stack top - 1\n",
    "            width = i if not stack else i - stack[-1] - 1\n",
    "            max_area = max(max_area, height * width)\n",
    "        stack.append(i)\n",
    "\n",
    "    return max_area"
   ]
  },
  {
   "cell_type": "code",
   "execution_count": null,
   "id": "b62e8ef2",
   "metadata": {},
   "outputs": [],
   "source": []
  }
 ],
 "metadata": {
  "kernelspec": {
   "display_name": "Python 3 (ipykernel)",
   "language": "python",
   "name": "python3"
  },
  "language_info": {
   "codemirror_mode": {
    "name": "ipython",
    "version": 3
   },
   "file_extension": ".py",
   "mimetype": "text/x-python",
   "name": "python",
   "nbconvert_exporter": "python",
   "pygments_lexer": "ipython3",
   "version": "3.8.11"
  }
 },
 "nbformat": 4,
 "nbformat_minor": 5
}
