{
 "cells": [
  {
   "cell_type": "code",
   "execution_count": 11,
   "id": "2534ecd9",
   "metadata": {},
   "outputs": [
    {
     "name": "stdout",
     "output_type": "stream",
     "text": [
      "2\n",
      "4\n",
      "6\n"
     ]
    }
   ],
   "source": [
    "a = [(1,2),(3,4),(5,6)]\n",
    "def get_second_element():\n",
    "    for i in a: \n",
    "        print(i[1])\n",
    "\n",
    "get_second_element()"
   ]
  },
  {
   "cell_type": "code",
   "execution_count": 12,
   "id": "8328c28a",
   "metadata": {},
   "outputs": [
    {
     "data": {
      "text/plain": [
       "<map at 0x157cb761eb0>"
      ]
     },
     "execution_count": 12,
     "metadata": {},
     "output_type": "execute_result"
    }
   ],
   "source": [
    "map((lambda t: t[1]),a)"
   ]
  },
  {
   "cell_type": "code",
   "execution_count": 14,
   "id": "3ead4438",
   "metadata": {},
   "outputs": [
    {
     "name": "stdout",
     "output_type": "stream",
     "text": [
      "[2, 4, 6]\n"
     ]
    }
   ],
   "source": [
    "second = map((lambda t: t[1]),a)\n",
    "print(list(second))"
   ]
  },
  {
   "cell_type": "code",
   "execution_count": 18,
   "id": "ff0cbb92",
   "metadata": {},
   "outputs": [
    {
     "data": {
      "text/plain": [
       "12"
      ]
     },
     "execution_count": 18,
     "metadata": {},
     "output_type": "execute_result"
    }
   ],
   "source": [
    "from functools import reduce\n",
    "reduce((lambda x,y: x+y), map((lambda t: t[1]),a))"
   ]
  },
  {
   "cell_type": "code",
   "execution_count": 22,
   "id": "690a700b",
   "metadata": {},
   "outputs": [
    {
     "data": {
      "text/plain": [
       "[1, 3, 5]"
      ]
     },
     "execution_count": 22,
     "metadata": {},
     "output_type": "execute_result"
    }
   ],
   "source": [
    "def isOdd(x): return x%2 ==1\n",
    "list(filter(isOdd,map((lambda t: t[0]), a)))"
   ]
  },
  {
   "cell_type": "code",
   "execution_count": 29,
   "id": "1378c8d8",
   "metadata": {},
   "outputs": [
    {
     "data": {
      "text/plain": [
       "[range(1, 5), range(7, 10)]"
      ]
     },
     "execution_count": 29,
     "metadata": {},
     "output_type": "execute_result"
    }
   ],
   "source": [
    "from itertools import chain\n",
    "list(chain(map(lambda t: range(t[0],t[1]), [(1,5),(7,10)])))"
   ]
  },
  {
   "cell_type": "code",
   "execution_count": null,
   "id": "80061bf8",
   "metadata": {},
   "outputs": [],
   "source": []
  }
 ],
 "metadata": {
  "kernelspec": {
   "display_name": "Python 3",
   "language": "python",
   "name": "python3"
  },
  "language_info": {
   "codemirror_mode": {
    "name": "ipython",
    "version": 3
   },
   "file_extension": ".py",
   "mimetype": "text/x-python",
   "name": "python",
   "nbconvert_exporter": "python",
   "pygments_lexer": "ipython3",
   "version": "3.9.10"
  }
 },
 "nbformat": 4,
 "nbformat_minor": 5
}
