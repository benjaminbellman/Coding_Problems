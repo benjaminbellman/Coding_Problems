{
 "cells": [
  {
   "cell_type": "markdown",
   "id": "de83e2d4",
   "metadata": {},
   "source": [
    "# Maximum Length of a Concatenated String with Unique Characters"
   ]
  },
  {
   "cell_type": "markdown",
   "id": "7a57e6c1",
   "metadata": {},
   "source": [
    "You are given an array of strings arr. A string s is formed by the concatenation of a subsequence of arr that has unique characters.\n",
    "\n",
    "Return the maximum possible length of s.\n",
    "\n",
    "A subsequence is an array that can be derived from another array by deleting some or no elements without changing the order of the remaining elements.\n",
    "\n",
    "**Example 1:**\n",
    "\n",
    "Input: arr = [\"un\",\"iq\",\"ue\"]\n",
    "Output: 4\n",
    "Explanation: All the valid concatenations are:\n",
    "- \"\"\n",
    "- \"un\"\n",
    "- \"iq\"\n",
    "- \"ue\"\n",
    "- \"uniq\" (\"un\" + \"iq\")\n",
    "- \"ique\" (\"iq\" + \"ue\")\n",
    "Maximum length is 4.\n",
    "\n",
    "**Example 2:**\n",
    "\n",
    "Input: arr = [\"cha\",\"r\",\"act\",\"ers\"]\n",
    "Output: 6\n",
    "Explanation: Possible longest valid concatenations are \"chaers\" (\"cha\" + \"ers\") and \"acters\" (\"act\" + \"ers\").\n",
    "\n",
    "**Example 3:**\n",
    "\n",
    "Input: arr = [\"abcdefghijklmnopqrstuvwxyz\"]\n",
    "Output: 26\n",
    "Explanation: The only string in arr has all 26 characters.\n",
    " \n",
    "**Constraints:**\n",
    "\n",
    "- 1 <= arr.length <= 16\n",
    "- 1 <= arr[i].length <= 26\n",
    "- arr[i] contains only lowercase English letters."
   ]
  },
  {
   "cell_type": "code",
   "execution_count": 1,
   "id": "11469316",
   "metadata": {},
   "outputs": [],
   "source": [
    "def maxLength(arr):\n",
    "    def is_unique(s):\n",
    "        return len(s) == len(set(s))\n",
    "    \n",
    "    def backtrack(index, current):\n",
    "        nonlocal max_len\n",
    "        if is_unique(current):\n",
    "            max_len = max(max_len, len(current))\n",
    "        else:\n",
    "            return\n",
    "        \n",
    "        for i in range(index, len(arr)):\n",
    "            backtrack(i + 1, current + arr[i])\n",
    "    \n",
    "    arr = [s for s in arr if is_unique(s)]  # remove strings with duplicate characters\n",
    "    max_len = 0\n",
    "    backtrack(0, \"\")\n",
    "    return max_len"
   ]
  },
  {
   "cell_type": "code",
   "execution_count": null,
   "id": "124cfaa3",
   "metadata": {},
   "outputs": [],
   "source": []
  }
 ],
 "metadata": {
  "kernelspec": {
   "display_name": "Python 3 (ipykernel)",
   "language": "python",
   "name": "python3"
  },
  "language_info": {
   "codemirror_mode": {
    "name": "ipython",
    "version": 3
   },
   "file_extension": ".py",
   "mimetype": "text/x-python",
   "name": "python",
   "nbconvert_exporter": "python",
   "pygments_lexer": "ipython3",
   "version": "3.8.11"
  }
 },
 "nbformat": 4,
 "nbformat_minor": 5
}
