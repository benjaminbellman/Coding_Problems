{
 "cells": [
  {
   "cell_type": "markdown",
   "id": "455a0541",
   "metadata": {},
   "source": [
    "# K-Similar Strings"
   ]
  },
  {
   "cell_type": "markdown",
   "id": "ba57e896",
   "metadata": {},
   "source": [
    "Strings s1 and s2 are k-similar (for some non-negative integer k) if we can swap the positions of two letters in s1 exactly k times so that the resulting string equals s2.\n",
    "\n",
    "Given two anagrams s1 and s2, return the smallest k for which s1 and s2 are k-similar.\n",
    "\n",
    "**Example 1:**\n",
    "\n",
    "Input: s1 = \"ab\", s2 = \"ba\"\n",
    "Output: 1\n",
    "Explanation: The two string are 1-similar because we can use one swap to change s1 to s2: \"ab\" --> \"ba\".\n",
    "\n",
    "**Example 2:\n",
    "\n",
    "Input: s1 = \"abc\", s2 = \"bca\"\n",
    "Output: 2\n",
    "Explanation: The two strings are 2-similar because we can use two swaps to change s1 to s2: \"abc\" --> \"bac\" --> \"bca\".\n",
    " \n",
    "**Constraints:**\n",
    "\n",
    "- 1 <= s1.length <= 20\n",
    "- s2.length == s1.length\n",
    "- s1 and s2 contain only lowercase letters from the set {'a', 'b', 'c', 'd', 'e', 'f'}.\n",
    "- s2 is an anagram of s1."
   ]
  },
  {
   "cell_type": "code",
   "execution_count": 1,
   "id": "3f5db3ae",
   "metadata": {},
   "outputs": [
    {
     "name": "stdout",
     "output_type": "stream",
     "text": [
      "1\n",
      "2\n"
     ]
    }
   ],
   "source": [
    "from collections import deque\n",
    "\n",
    "def kSimilarity(s1, s2):\n",
    "    if s1 == s2:\n",
    "        return 0\n",
    "    \n",
    "    queue = deque([(s1, 0)])\n",
    "    visited = set([s1])\n",
    "    \n",
    "    while queue:\n",
    "        current, swaps = queue.popleft()\n",
    "        \n",
    "        # Find the first position where characters differ\n",
    "        i = 0\n",
    "        while current[i] == s2[i]:\n",
    "            i += 1\n",
    "        \n",
    "        # Generate all possible next states by swapping current[i] with other j where s2[j] == current[i]\n",
    "        for j in range(i + 1, len(s1)):\n",
    "            if current[j] == s2[i] and current[j] != s2[j]:\n",
    "                next_state = list(current)\n",
    "                next_state[i], next_state[j] = next_state[j], next_state[i]\n",
    "                next_state = ''.join(next_state)\n",
    "                \n",
    "                if next_state == s2:\n",
    "                    return swaps + 1\n",
    "                \n",
    "                if next_state not in visited:\n",
    "                    visited.add(next_state)\n",
    "                    queue.append((next_state, swaps + 1))\n",
    "    \n",
    "    return -1  # Should never reach here under given constraints\n",
    "\n",
    "# Example usage:\n",
    "s1 = \"ab\"\n",
    "s2 = \"ba\"\n",
    "print(kSimilarity(s1, s2))  # Output: 1\n",
    "\n",
    "s1 = \"abc\"\n",
    "s2 = \"bca\"\n",
    "print(kSimilarity(s1, s2))  # Output: 2"
   ]
  },
  {
   "cell_type": "code",
   "execution_count": null,
   "id": "4eecd98c",
   "metadata": {},
   "outputs": [],
   "source": []
  }
 ],
 "metadata": {
  "kernelspec": {
   "display_name": "Python 3 (ipykernel)",
   "language": "python",
   "name": "python3"
  },
  "language_info": {
   "codemirror_mode": {
    "name": "ipython",
    "version": 3
   },
   "file_extension": ".py",
   "mimetype": "text/x-python",
   "name": "python",
   "nbconvert_exporter": "python",
   "pygments_lexer": "ipython3",
   "version": "3.8.11"
  }
 },
 "nbformat": 4,
 "nbformat_minor": 5
}
