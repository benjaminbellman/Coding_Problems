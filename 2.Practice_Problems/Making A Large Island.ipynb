{
 "cells": [
  {
   "cell_type": "markdown",
   "id": "42934695",
   "metadata": {},
   "source": [
    "# Making A Large Island"
   ]
  },
  {
   "cell_type": "markdown",
   "id": "e8661349",
   "metadata": {},
   "source": [
    "You are given an n x n binary matrix grid. You are allowed to change at most one 0 to be 1.\n",
    "\n",
    "Return the size of the largest island in grid after applying this operation.\n",
    "\n",
    "An island is a 4-directionally connected group of 1s.\n",
    "\n",
    " \n",
    "\n",
    "**Example 1:**\n",
    "\n",
    "Input: grid = [[1,0],[0,1]]\n",
    "Output: 3\n",
    "Explanation: Change one 0 to 1 and connect two 1s, then we get an island with area = 3.\n",
    "\n",
    "**Example 2:**\n",
    "\n",
    "Input: grid = [[1,1],[1,0]]\n",
    "Output: 4\n",
    "Explanation: Change the 0 to 1 and make the island bigger, only one island with area = 4.\n",
    "\n",
    "**Example 3:**\n",
    "\n",
    "Input: grid = [[1,1],[1,1]]\n",
    "Output: 4\n",
    "Explanation: Can't change any 0 to 1, only one island with area = 4.\n",
    " \n",
    "\n",
    "**Constraints:**\n",
    "\n",
    "- n == grid.length\n",
    "- n == grid[i].length\n",
    "- 1 <= n <= 500\n",
    "- grid[i][j] is either 0 or 1."
   ]
  },
  {
   "cell_type": "code",
   "execution_count": 1,
   "id": "5434b982",
   "metadata": {},
   "outputs": [
    {
     "name": "stdout",
     "output_type": "stream",
     "text": [
      "3\n",
      "4\n",
      "4\n"
     ]
    }
   ],
   "source": [
    "def largestIsland(grid):\n",
    "    def dfs(i, j, index):\n",
    "        if i < 0 or i >= n or j < 0 or j >= n or grid[i][j] != 1:\n",
    "            return 0\n",
    "        grid[i][j] = index\n",
    "        size = 1\n",
    "        for dx, dy in [(1, 0), (-1, 0), (0, 1), (0, -1)]:\n",
    "            size += dfs(i + dx, j + dy, index)\n",
    "        return size\n",
    "    \n",
    "    n = len(grid)\n",
    "    island_sizes = {0: 0}  # Record the size of each island\n",
    "    \n",
    "    # DFS to label each island with a unique index and record its size\n",
    "    index = 2\n",
    "    for i in range(n):\n",
    "        for j in range(n):\n",
    "            if grid[i][j] == 1:\n",
    "                island_sizes[index] = dfs(i, j, index)\n",
    "                index += 1\n",
    "    \n",
    "    max_size = max(island_sizes.values())\n",
    "    \n",
    "    # Try changing each 0 to 1 and calculate the new island size\n",
    "    for i in range(n):\n",
    "        for j in range(n):\n",
    "            if grid[i][j] == 0:\n",
    "                connected_islands = set(grid[x][y] for x, y in [(i+1, j), (i-1, j), (i, j+1), (i, j-1)] if 0 <= x < n and 0 <= y < n)\n",
    "                total_size = sum(island_sizes[index] for index in connected_islands)\n",
    "                max_size = max(max_size, total_size + 1)\n",
    "    \n",
    "    return max_size\n",
    "\n",
    "# Example usage:\n",
    "grid1 = [[1, 0], [0, 1]]\n",
    "print(largestIsland(grid1))  # Output: 3\n",
    "\n",
    "grid2 = [[1, 1], [1, 0]]\n",
    "print(largestIsland(grid2))  # Output: 4\n",
    "\n",
    "grid3 = [[1, 1], [1, 1]]\n",
    "print(largestIsland(grid3))  # Output: 4"
   ]
  },
  {
   "cell_type": "code",
   "execution_count": null,
   "id": "cd6a7316",
   "metadata": {},
   "outputs": [],
   "source": []
  }
 ],
 "metadata": {
  "kernelspec": {
   "display_name": "Python 3",
   "language": "python",
   "name": "python3"
  },
  "language_info": {
   "codemirror_mode": {
    "name": "ipython",
    "version": 3
   },
   "file_extension": ".py",
   "mimetype": "text/x-python",
   "name": "python",
   "nbconvert_exporter": "python",
   "pygments_lexer": "ipython3",
   "version": "3.9.13"
  }
 },
 "nbformat": 4,
 "nbformat_minor": 5
}
