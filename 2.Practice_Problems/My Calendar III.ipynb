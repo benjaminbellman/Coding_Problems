{
 "cells": [
  {
   "cell_type": "markdown",
   "id": "65c876ca",
   "metadata": {},
   "source": [
    "# My Calendar III"
   ]
  },
  {
   "cell_type": "markdown",
   "id": "d355d714",
   "metadata": {},
   "source": [
    "A k-booking happens when k events have some non-empty intersection (i.e., there is some time that is common to all k events.)\n",
    "\n",
    "You are given some events [startTime, endTime), after each given event, return an integer k representing the maximum k-booking between all the previous events.\n",
    "\n",
    "Implement the MyCalendarThree class:\n",
    "\n",
    "MyCalendarThree() Initializes the object.\n",
    "int book(int startTime, int endTime) Returns an integer k representing the largest integer such that there exists a k-booking in the calendar.\n",
    " \n",
    "\n",
    "**Example 1:**\n",
    "\n",
    "Input\n",
    "    [\"MyCalendarThree\", \"book\", \"book\", \"book\", \"book\", \"book\", \"book\"]\n",
    "    [[], [10, 20], [50, 60], [10, 40], [5, 15], [5, 10], [25, 55]]\n",
    "\n",
    "Output\n",
    "    [null, 1, 1, 2, 3, 3, 3]\n",
    "\n",
    "Explanation\n",
    "\n",
    "    MyCalendarThree myCalendarThree = new MyCalendarThree();\n",
    "    myCalendarThree.book(10, 20); // return 1\n",
    "    myCalendarThree.book(50, 60); // return 1\n",
    "    myCalendarThree.book(10, 40); // return 2\n",
    "    myCalendarThree.book(5, 15); // return 3\n",
    "    myCalendarThree.book(5, 10); // return 3\n",
    "    myCalendarThree.book(25, 55); // return 3\n",
    "\n",
    " \n",
    "\n",
    "**Constraints:**\n",
    "\n",
    "- 0 <= startTime < endTime <= 109\n",
    "- At most 400 calls will be made to book."
   ]
  },
  {
   "cell_type": "code",
   "execution_count": 2,
   "id": "202a6bcd",
   "metadata": {},
   "outputs": [],
   "source": [
    "import collections\n",
    "\n",
    "class MyCalendarThree:\n",
    "\n",
    "    def __init__(self):\n",
    "        self.timeline = collections.Counter()\n",
    "\n",
    "    def book(self, start: int, end: int) -> int:\n",
    "        self.timeline[start] += 1\n",
    "        self.timeline[end] -= 1\n",
    "        \n",
    "        max_booking = 0\n",
    "        active_booking = 0\n",
    "        for count in sorted(self.timeline):\n",
    "            active_booking += self.timeline[count]\n",
    "            max_booking = max(max_booking, active_booking)\n",
    "            \n",
    "        return max_booking"
   ]
  },
  {
   "cell_type": "code",
   "execution_count": 3,
   "id": "ae21bb59",
   "metadata": {},
   "outputs": [
    {
     "name": "stdout",
     "output_type": "stream",
     "text": [
      "1\n",
      "1\n",
      "2\n",
      "3\n",
      "3\n",
      "3\n"
     ]
    }
   ],
   "source": [
    "my_calendar = MyCalendarThree()\n",
    "print(my_calendar.book(10, 20))  # return 1\n",
    "print(my_calendar.book(50, 60))  # return 1\n",
    "print(my_calendar.book(10, 40))  # return 2\n",
    "print(my_calendar.book(5, 15))   # return 3\n",
    "print(my_calendar.book(5, 10))   # return 3\n",
    "print(my_calendar.book(25, 55))  # return 3"
   ]
  },
  {
   "cell_type": "code",
   "execution_count": null,
   "id": "a821e0b2",
   "metadata": {},
   "outputs": [],
   "source": []
  }
 ],
 "metadata": {
  "kernelspec": {
   "display_name": "Python 3",
   "language": "python",
   "name": "python3"
  },
  "language_info": {
   "codemirror_mode": {
    "name": "ipython",
    "version": 3
   },
   "file_extension": ".py",
   "mimetype": "text/x-python",
   "name": "python",
   "nbconvert_exporter": "python",
   "pygments_lexer": "ipython3",
   "version": "3.9.13"
  }
 },
 "nbformat": 4,
 "nbformat_minor": 5
}
