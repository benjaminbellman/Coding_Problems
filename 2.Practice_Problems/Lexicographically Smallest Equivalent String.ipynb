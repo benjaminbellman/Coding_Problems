{
 "cells": [
  {
   "cell_type": "markdown",
   "id": "655969ec",
   "metadata": {},
   "source": [
    "# Lexicographically Smallest Equivalent String"
   ]
  },
  {
   "cell_type": "markdown",
   "id": "950fb7ce",
   "metadata": {},
   "source": [
    "You are given two strings of the same length s1 and s2 and a string baseStr.\n",
    "\n",
    "We say s1[i] and s2[i] are equivalent characters.\n",
    "\n",
    "For example, if s1 = \"abc\" and s2 = \"cde\", then we have 'a' == 'c', 'b' == 'd', and 'c' == 'e'.\n",
    "Equivalent characters follow the usual rules of any equivalence relation:\n",
    "\n",
    "Reflexivity: 'a' == 'a'.\n",
    "Symmetry: 'a' == 'b' implies 'b' == 'a'.\n",
    "Transitivity: 'a' == 'b' and 'b' == 'c' implies 'a' == 'c'.\n",
    "For example, given the equivalency information from s1 = \"abc\" and s2 = \"cde\", \"acd\" and \"aab\" are equivalent strings of baseStr = \"eed\", and \"aab\" is the lexicographically smallest equivalent string of baseStr.\n",
    "\n",
    "Return the lexicographically smallest equivalent string of baseStr by using the equivalency information from s1 and s2.\n",
    "\n",
    "**Example 1:**\n",
    "\n",
    "Input: s1 = \"parker\", s2 = \"morris\", baseStr = \"parser\"\n",
    "Output: \"makkek\"\n",
    "Explanation: Based on the equivalency information in s1 and s2, we can group their characters as [m,p], [a,o], [k,r,s], [e,i].\n",
    "The characters in each group are equivalent and sorted in lexicographical order.\n",
    "So the answer is \"makkek\".\n",
    "\n",
    "**Example 2:**\n",
    "\n",
    "Input: s1 = \"hello\", s2 = \"world\", baseStr = \"hold\"\n",
    "Output: \"hdld\"\n",
    "Explanation: Based on the equivalency information in s1 and s2, we can group their characters as [h,w], [d,e,o], [l,r].\n",
    "So only the second letter 'o' in baseStr is changed to 'd', the answer is \"hdld\".\n",
    "\n",
    "**Example 3:**\n",
    "\n",
    "Input: s1 = \"leetcode\", s2 = \"programs\", baseStr = \"sourcecode\"\n",
    "Output: \"aauaaaaada\"\n",
    "Explanation: We group the equivalent characters in s1 and s2 as [a,o,e,r,s,c], [l,p], [g,t] and [d,m], thus all letters in baseStr except 'u' and 'd' are transformed to 'a', the answer is \"aauaaaaada\".\n",
    "\n",
    "**Constraints:**\n",
    "\n",
    "- 1 <= s1.length, s2.length, baseStr <= 1000\n",
    "- s1.length == s2.length\n",
    "- s1, s2, and baseStr consist of lowercase English letters."
   ]
  },
  {
   "cell_type": "code",
   "execution_count": 1,
   "id": "e2d6dc8f",
   "metadata": {},
   "outputs": [
    {
     "name": "stdout",
     "output_type": "stream",
     "text": [
      "makkek\n",
      "hdld\n",
      "aauaaaaada\n"
     ]
    }
   ],
   "source": [
    "class UnionFind:\n",
    "    def __init__(self):\n",
    "        # Initialize a parent pointer for each letter in the alphabet\n",
    "        self.parent = {ch: ch for ch in \"abcdefghijklmnopqrstuvwxyz\"}\n",
    "    \n",
    "    def find(self, x):\n",
    "        # Find the representative of the set\n",
    "        if self.parent[x] != x:\n",
    "            self.parent[x] = self.find(self.parent[x])  # Path compression\n",
    "        return self.parent[x]\n",
    "    \n",
    "    def union(self, x, y):\n",
    "        # Union two sets by rank\n",
    "        rootX = self.find(x)\n",
    "        rootY = self.find(y)\n",
    "        if rootX != rootY:\n",
    "            # Always attach the larger root to the smaller root (lexicographically)\n",
    "            if rootX < rootY:\n",
    "                self.parent[rootY] = rootX\n",
    "            else:\n",
    "                self.parent[rootX] = rootY\n",
    "\n",
    "def smallestEquivalentString(s1, s2, baseStr):\n",
    "    uf = UnionFind()\n",
    "    \n",
    "    # Unite all pairs of characters\n",
    "    for ch1, ch2 in zip(s1, s2):\n",
    "        uf.union(ch1, ch2)\n",
    "    \n",
    "    # Transform baseStr using the smallest equivalent character\n",
    "    return ''.join(uf.find(ch) for ch in baseStr)\n",
    "\n",
    "# Example usage:\n",
    "s1 = \"parker\"\n",
    "s2 = \"morris\"\n",
    "baseStr = \"parser\"\n",
    "print(smallestEquivalentString(s1, s2, baseStr))  # Output: \"makkek\"\n",
    "\n",
    "s1 = \"hello\"\n",
    "s2 = \"world\"\n",
    "baseStr = \"hold\"\n",
    "print(smallestEquivalentString(s1, s2, baseStr))  # Output: \"hdld\"\n",
    "\n",
    "s1 = \"leetcode\"\n",
    "s2 = \"programs\"\n",
    "baseStr = \"sourcecode\"\n",
    "print(smallestEquivalentString(s1, s2, baseStr))  # Output: \"aauaaaaada\""
   ]
  },
  {
   "cell_type": "code",
   "execution_count": null,
   "id": "c51f7b8f",
   "metadata": {},
   "outputs": [],
   "source": []
  }
 ],
 "metadata": {
  "kernelspec": {
   "display_name": "Python 3 (ipykernel)",
   "language": "python",
   "name": "python3"
  },
  "language_info": {
   "codemirror_mode": {
    "name": "ipython",
    "version": 3
   },
   "file_extension": ".py",
   "mimetype": "text/x-python",
   "name": "python",
   "nbconvert_exporter": "python",
   "pygments_lexer": "ipython3",
   "version": "3.8.11"
  }
 },
 "nbformat": 4,
 "nbformat_minor": 5
}
