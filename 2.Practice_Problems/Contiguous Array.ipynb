{
 "cells": [
  {
   "cell_type": "markdown",
   "id": "89fe1dea",
   "metadata": {},
   "source": [
    "# Contiguous Array"
   ]
  },
  {
   "cell_type": "markdown",
   "id": "037caf8b",
   "metadata": {},
   "source": [
    "Given a binary array nums, return the maximum length of a contiguous subarray with an equal number of 0 and 1.\n",
    "\n",
    " \n",
    "\n",
    "**Example 1:**\n",
    "\n",
    "Input: nums = [0,1]\n",
    "Output: 2\n",
    "Explanation: [0, 1] is the longest contiguous subarray with an equal number of 0 and 1.\n",
    "\n",
    "**Example 2:**\n",
    "\n",
    "Input: nums = [0,1,0]\n",
    "Output: 2\n",
    "Explanation: [0, 1] (or [1, 0]) is a longest contiguous subarray with equal number of 0 and 1.\n",
    " \n",
    "\n",
    "**Constraints:**\n",
    "\n",
    "- 1 <= nums.length <= 105\n",
    "- nums[i] is either 0 or 1."
   ]
  },
  {
   "cell_type": "code",
   "execution_count": 1,
   "id": "e993cd2a",
   "metadata": {},
   "outputs": [],
   "source": [
    "def findMaxLength(nums):\n",
    "    sum_to_index = {0: -1}\n",
    "    cumulative_sum = 0\n",
    "    max_length = 0\n",
    "    \n",
    "    for i, num in enumerate(nums):\n",
    "        if num == 0:\n",
    "            cumulative_sum -= 1\n",
    "        else:\n",
    "            cumulative_sum += 1\n",
    "        \n",
    "        if cumulative_sum in sum_to_index:\n",
    "            max_length = max(max_length, i - sum_to_index[cumulative_sum])\n",
    "        else:\n",
    "            sum_to_index[cumulative_sum] = i\n",
    "            \n",
    "    return max_length"
   ]
  },
  {
   "cell_type": "code",
   "execution_count": 2,
   "id": "a933ee87",
   "metadata": {},
   "outputs": [
    {
     "name": "stdout",
     "output_type": "stream",
     "text": [
      "2\n",
      "2\n",
      "6\n",
      "6\n",
      "0\n",
      "0\n"
     ]
    }
   ],
   "source": [
    "def findMaxLength(nums):\n",
    "    sum_to_index = {0: -1}\n",
    "    cumulative_sum = 0\n",
    "    max_length = 0\n",
    "    \n",
    "    for i, num in enumerate(nums):\n",
    "        if num == 0:\n",
    "            cumulative_sum -= 1\n",
    "        else:\n",
    "            cumulative_sum += 1\n",
    "        \n",
    "        if cumulative_sum in sum_to_index:\n",
    "            max_length = max(max_length, i - sum_to_index[cumulative_sum])\n",
    "        else:\n",
    "            sum_to_index[cumulative_sum] = i\n",
    "            \n",
    "    return max_length\n",
    "\n",
    "# Provided examples\n",
    "print(findMaxLength([0,1]))  # Expected: 2\n",
    "print(findMaxLength([0,1,0]))  # Expected: 2\n",
    "\n",
    "# Additional test cases\n",
    "print(findMaxLength([0,0,1,0,1,1]))  # Expected: 6 ([0,0,1,0,1,1])\n",
    "print(findMaxLength([1,1,1,0,0,1,0,1]))  # Expected: 8 ([1,1,1,0,0,1,0,1])\n",
    "print(findMaxLength([0,0,0,0]))  # Expected: 0 (No subarray with equal number of 0 and 1)\n",
    "print(findMaxLength([1,1,1,1]))  # Expected: 0 (Same reason as above)"
   ]
  },
  {
   "cell_type": "code",
   "execution_count": null,
   "id": "95655f59",
   "metadata": {},
   "outputs": [],
   "source": []
  }
 ],
 "metadata": {
  "kernelspec": {
   "display_name": "Python 3",
   "language": "python",
   "name": "python3"
  },
  "language_info": {
   "codemirror_mode": {
    "name": "ipython",
    "version": 3
   },
   "file_extension": ".py",
   "mimetype": "text/x-python",
   "name": "python",
   "nbconvert_exporter": "python",
   "pygments_lexer": "ipython3",
   "version": "3.9.13"
  }
 },
 "nbformat": 4,
 "nbformat_minor": 5
}
