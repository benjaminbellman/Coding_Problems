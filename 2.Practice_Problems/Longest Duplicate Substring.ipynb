{
 "cells": [
  {
   "cell_type": "markdown",
   "id": "c03a0a1b",
   "metadata": {},
   "source": [
    "# Longest Duplicate Substring"
   ]
  },
  {
   "cell_type": "markdown",
   "id": "e5a759ba",
   "metadata": {},
   "source": [
    "Given a string s, consider all duplicated substrings: (contiguous) substrings of s that occur 2 or more times. The occurrences may overlap.\n",
    "\n",
    "Return any duplicated substring that has the longest possible length. If s does not have a duplicated substring, the answer is \"\".\n",
    "\n",
    "**Example 1:**\n",
    "\n",
    "Input: s = \"banana\"\n",
    "Output: \"ana\"\n",
    "\n",
    "**Example 2:**\n",
    "\n",
    "Input: s = \"abcd\"\n",
    "Output: \"\"\n",
    "\n",
    "**Constraints:**\n",
    "\n",
    "- 2 <= s.length <= 3 * 104\n",
    "- s consists of lowercase English letters."
   ]
  },
  {
   "cell_type": "code",
   "execution_count": 1,
   "id": "a7d36cba",
   "metadata": {},
   "outputs": [
    {
     "name": "stdout",
     "output_type": "stream",
     "text": [
      "ana\n",
      "\n"
     ]
    }
   ],
   "source": [
    "def build_suffix_array(s):\n",
    "    \"\"\"\n",
    "    Constructs the suffix array for the given string s in O(n log n).\n",
    "    Using a common 'doubling' method.\n",
    "    \"\"\"\n",
    "    n = len(s)\n",
    "    # k: current ranking by first 2^k characters\n",
    "    # suffix array initially sorted by first character\n",
    "    ranks = [ord(c) for c in s]\n",
    "    sa = list(range(n))\n",
    "    k = 0\n",
    "    while (1 << k) < n:\n",
    "        # Key for sorting: pair (rank[i], rank[i+2^k]) if exists else -1\n",
    "        key = lambda x: (ranks[x], ranks[x + (1 << k)] if x + (1 << k) < n else -1)\n",
    "        sa.sort(key=key)\n",
    "        \n",
    "        # temporary array new_ranks to re-rank\n",
    "        new_ranks = [0]*n\n",
    "        for i in range(1, n):\n",
    "            new_ranks[sa[i]] = new_ranks[sa[i-1]]\n",
    "            if key(sa[i]) != key(sa[i-1]):\n",
    "                new_ranks[sa[i]] += 1\n",
    "        ranks = new_ranks\n",
    "        k += 1\n",
    "        if ranks[sa[-1]] == n-1:  # all ranks are distinct and sorted\n",
    "            break\n",
    "    return sa\n",
    "\n",
    "def build_lcp(s, sa):\n",
    "    \"\"\"\n",
    "    Construct LCP array using Kasai's algorithm in O(n).\n",
    "    LCP[i] = length of longest common prefix of sa[i] and sa[i-1].\n",
    "    \"\"\"\n",
    "    n = len(s)\n",
    "    rank = [0]*n\n",
    "    for i, pos in enumerate(sa):\n",
    "        rank[pos] = i\n",
    "    lcp = [0]*(n)\n",
    "    h = 0\n",
    "    for i in range(n):\n",
    "        if rank[i] > 0:\n",
    "            j = sa[rank[i]-1]\n",
    "            while i+h < n and j+h < n and s[i+h] == s[j+h]:\n",
    "                h += 1\n",
    "            lcp[rank[i]] = h\n",
    "            if h > 0:\n",
    "                h -= 1\n",
    "    return lcp\n",
    "\n",
    "def longest_repeated_substring(s):\n",
    "    if len(s) <= 1:\n",
    "        return \"\"\n",
    "    sa = build_suffix_array(s)\n",
    "    lcp = build_lcp(s, sa)\n",
    "    max_lcp = max(lcp)\n",
    "    if max_lcp == 0:\n",
    "        return \"\"\n",
    "    idx = lcp.index(max_lcp)\n",
    "    start = sa[idx]\n",
    "    return s[start:start+max_lcp]\n",
    "\n",
    "# Example Usage\n",
    "print(longest_repeated_substring(\"banana\"))  # Expected \"ana\"\n",
    "print(longest_repeated_substring(\"abcd\"))    # Expected \"\""
   ]
  },
  {
   "cell_type": "code",
   "execution_count": null,
   "id": "23a4f0b5",
   "metadata": {},
   "outputs": [],
   "source": []
  }
 ],
 "metadata": {
  "kernelspec": {
   "display_name": "Python 3 (ipykernel)",
   "language": "python",
   "name": "python3"
  },
  "language_info": {
   "codemirror_mode": {
    "name": "ipython",
    "version": 3
   },
   "file_extension": ".py",
   "mimetype": "text/x-python",
   "name": "python",
   "nbconvert_exporter": "python",
   "pygments_lexer": "ipython3",
   "version": "3.8.11"
  }
 },
 "nbformat": 4,
 "nbformat_minor": 5
}
