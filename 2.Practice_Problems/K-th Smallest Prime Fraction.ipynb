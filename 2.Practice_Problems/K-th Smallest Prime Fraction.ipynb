{
 "cells": [
  {
   "cell_type": "markdown",
   "id": "cf2f7ff3",
   "metadata": {},
   "source": [
    "# K-th Smallest Prime Fraction"
   ]
  },
  {
   "cell_type": "markdown",
   "id": "50145730",
   "metadata": {},
   "source": [
    "You are given a sorted integer array arr containing 1 and prime numbers, where all the integers of arr are unique. You are also given an integer k.\n",
    "\n",
    "For every i and j where 0 <= i < j < arr.length, we consider the fraction arr[i] / arr[j].\n",
    "\n",
    "Return the kth smallest fraction considered. Return your answer as an array of integers of size 2, where answer[0] == arr[i] and answer[1] == arr[j].\n",
    "\n",
    " \n",
    "\n",
    "**Example 1:**\n",
    "\n",
    "Input: arr = [1,2,3,5], k = 3\n",
    "\n",
    "Output: [2,5]\n",
    "Explanation: The fractions to be considered in sorted order are:\n",
    "1/5, 1/3, 2/5, 1/2, 3/5, and 2/3.\n",
    "The third fraction is 2/5.\n",
    "\n",
    "**Example 2:**\n",
    "\n",
    "Input: arr = [1,7], k = 1\n",
    "\n",
    "Output: [1,7]\n",
    " \n",
    "\n",
    "**Constraints:**\n",
    "\n",
    "- 2 <= arr.length <= 1000\n",
    "- 1 <= arr[i] <= 3 * 104\n",
    "- arr[0] == 1\n",
    "- arr[i] is a prime number for i > 0.\n",
    "- All the numbers of arr are unique and sorted in strictly increasing order.\n",
    "- 1 <= k <= arr.length * (arr.length - 1) / 2"
   ]
  },
  {
   "cell_type": "code",
   "execution_count": 1,
   "id": "cbe5109c",
   "metadata": {},
   "outputs": [
    {
     "name": "stdout",
     "output_type": "stream",
     "text": [
      "[0, 1]\n",
      "[0, 1]\n"
     ]
    }
   ],
   "source": [
    "def kthSmallestPrimeFraction(arr, k):\n",
    "    def countFractions(mid):\n",
    "        count = 0\n",
    "        left = 0\n",
    "        maxFraction = [0, 1]\n",
    "\n",
    "        for right in range(1, len(arr)):\n",
    "            while arr[left] < arr[right] * mid:\n",
    "                left += 1\n",
    "            count += left\n",
    "            if left > 0 and arr[left - 1] * maxFraction[1] < maxFraction[0] * arr[right]:\n",
    "                maxFraction = [arr[left - 1], arr[right]]\n",
    "\n",
    "        return count, maxFraction\n",
    "\n",
    "    left, right = 0, 1\n",
    "    while True:\n",
    "        mid = left + (right - left) / 2\n",
    "        count, maxFraction = countFractions(mid)\n",
    "\n",
    "        if count == k:\n",
    "            return maxFraction\n",
    "        elif count < k:\n",
    "            left = mid\n",
    "        else:\n",
    "            right = mid\n",
    "\n",
    "    return maxFraction\n",
    "\n",
    "# Example usage\n",
    "arr1 = [1, 2, 3, 5]\n",
    "k1 = 3\n",
    "print(kthSmallestPrimeFraction(arr1, k1))  # Output: [2, 5]\n",
    "\n",
    "arr2 = [1, 7]\n",
    "k2 = 1\n",
    "print(kthSmallestPrimeFraction(arr2, k2))  # Output: [1, 7]"
   ]
  },
  {
   "cell_type": "code",
   "execution_count": null,
   "id": "c34faea2",
   "metadata": {},
   "outputs": [],
   "source": []
  }
 ],
 "metadata": {
  "kernelspec": {
   "display_name": "Python 3",
   "language": "python",
   "name": "python3"
  },
  "language_info": {
   "codemirror_mode": {
    "name": "ipython",
    "version": 3
   },
   "file_extension": ".py",
   "mimetype": "text/x-python",
   "name": "python",
   "nbconvert_exporter": "python",
   "pygments_lexer": "ipython3",
   "version": "3.9.13"
  }
 },
 "nbformat": 4,
 "nbformat_minor": 5
}
