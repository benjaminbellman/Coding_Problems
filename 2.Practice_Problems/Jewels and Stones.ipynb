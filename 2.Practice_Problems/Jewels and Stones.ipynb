{
 "cells": [
  {
   "cell_type": "markdown",
   "id": "bdac8135",
   "metadata": {},
   "source": [
    "# Jewels and Stones"
   ]
  },
  {
   "cell_type": "markdown",
   "id": "93b40579",
   "metadata": {},
   "source": [
    "You're given strings jewels representing the types of stones that are jewels, and stones representing the stones you have. Each character in stones is a type of stone you have. You want to know how many of the stones you have are also jewels.\n",
    "\n",
    "Letters are case sensitive, so \"a\" is considered a different type of stone from \"A\".\n",
    "\n",
    " \n",
    "\n",
    "**Example 1:**\n",
    "\n",
    "Input: jewels = \"aA\", stones = \"aAAbbbb\"\n",
    "\n",
    "Output: 3\n",
    "\n",
    "**Example 2:**\n",
    "\n",
    "Input: jewels = \"z\", stones = \"ZZ\"\n",
    "\n",
    "Output: 0\n",
    " \n",
    "\n",
    "**Constraints:**\n",
    "\n",
    "- 1 <= jewels.length, stones.length <= 50\n",
    "- jewels and stones consist of only English letters.\n",
    "- All the characters of jewels are unique."
   ]
  },
  {
   "cell_type": "code",
   "execution_count": 1,
   "id": "e5a7aa9e",
   "metadata": {},
   "outputs": [],
   "source": [
    "def countJewels(jewels, stones):\n",
    "    jewel_set = set(jewels)\n",
    "    count = 0\n",
    "    for stone in stones:\n",
    "        if stone in jewel_set:\n",
    "            count += 1\n",
    "    return count"
   ]
  },
  {
   "cell_type": "code",
   "execution_count": 2,
   "id": "3793e3bd",
   "metadata": {},
   "outputs": [
    {
     "name": "stdout",
     "output_type": "stream",
     "text": [
      "3\n",
      "0\n"
     ]
    }
   ],
   "source": [
    "jewels1 = \"aA\"\n",
    "stones1 = \"aAAbbbb\"\n",
    "output1 = countJewels(jewels1, stones1)\n",
    "print(output1)  # Output: 3\n",
    "\n",
    "jewels2 = \"z\"\n",
    "stones2 = \"ZZ\"\n",
    "output2 = countJewels(jewels2, stones2)\n",
    "print(output2)  # Output: 0"
   ]
  },
  {
   "cell_type": "code",
   "execution_count": null,
   "id": "baa12dbc",
   "metadata": {},
   "outputs": [],
   "source": []
  }
 ],
 "metadata": {
  "kernelspec": {
   "display_name": "Python 3",
   "language": "python",
   "name": "python3"
  },
  "language_info": {
   "codemirror_mode": {
    "name": "ipython",
    "version": 3
   },
   "file_extension": ".py",
   "mimetype": "text/x-python",
   "name": "python",
   "nbconvert_exporter": "python",
   "pygments_lexer": "ipython3",
   "version": "3.9.13"
  }
 },
 "nbformat": 4,
 "nbformat_minor": 5
}
