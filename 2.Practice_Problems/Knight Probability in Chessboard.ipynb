{
 "cells": [
  {
   "cell_type": "markdown",
   "id": "0164da7f",
   "metadata": {},
   "source": [
    "# Knight Probability in Chessboard"
   ]
  },
  {
   "attachments": {
    "image.png": {
     "image/png": "[encoded data removed]"
    }
   },
   "cell_type": "markdown",
   "id": "84f57de6",
   "metadata": {},
   "source": [
    "On an n x n chessboard, a knight starts at the cell (row, column) and attempts to make exactly k moves. The rows and columns are 0-indexed, so the top-left cell is (0, 0), and the bottom-right cell is (n - 1, n - 1).\n",
    "\n",
    "A chess knight has eight possible moves it can make, as illustrated below. Each move is two cells in a cardinal direction, then one cell in an orthogonal direction.\n",
    "![image.png](attachment:image.png)\n",
    "\n",
    "Each time the knight is to move, it chooses one of eight possible moves uniformly at random (even if the piece would go off the chessboard) and moves there.\n",
    "\n",
    "The knight continues moving until it has made exactly k moves or has moved off the chessboard.\n",
    "\n",
    "Return the probability that the knight remains on the board after it has stopped moving.\n",
    "\n",
    " \n",
    "\n",
    "**Example 1:**\n",
    "\n",
    "Input: n = 3, k = 2, row = 0, column = 0\n",
    "\n",
    "Output: 0.06250\n",
    "Explanation: There are two moves (to (1,2), (2,1)) that will keep the knight on the board.\n",
    "From each of those positions, there are also two moves that will keep the knight on the board.\n",
    "The total probability the knight stays on the board is 0.0625.\n",
    "\n",
    "**Example 2:**\n",
    "\n",
    "Input: n = 1, k = 0, row = 0, column = 0\n",
    "\n",
    "Output: 1.00000\n",
    " \n",
    "\n",
    "**Constraints:**\n",
    "\n",
    "- 1 <= n <= 25\n",
    "- 0 <= k <= 100\n",
    "- 0 <= row, column <= n - 1"
   ]
  },
  {
   "cell_type": "code",
   "execution_count": 1,
   "id": "1ccd4876",
   "metadata": {},
   "outputs": [
    {
     "name": "stdout",
     "output_type": "stream",
     "text": [
      "0.0625\n",
      "1.0\n"
     ]
    }
   ],
   "source": [
    "def knightProbability(n, k, row, column):\n",
    "    # Possible moves for a knight\n",
    "    moves = [(-2, -1), (-2, 1), (-1, -2), (-1, 2),\n",
    "             (1, -2), (1, 2), (2, -1), (2, 1)]\n",
    "\n",
    "    # Initialize a 3D array to store probabilities\n",
    "    dp = [[[0] * n for _ in range(n)] for _ in range(k + 1)]\n",
    "    \n",
    "    # Set initial probability for the starting position\n",
    "    dp[0][row][column] = 1.0\n",
    "    \n",
    "    # Iterate through each move\n",
    "    for move in range(1, k + 1):\n",
    "        for r in range(n):\n",
    "            for c in range(n):\n",
    "                for dr, dc in moves:\n",
    "                    nr, nc = r + dr, c + dc\n",
    "                    if 0 <= nr < n and 0 <= nc < n:\n",
    "                        dp[move][r][c] += dp[move - 1][nr][nc] / 8.0\n",
    "\n",
    "    # Calculate the total probability of the knight staying on the board\n",
    "    result = sum(dp[k][r][c] for r in range(n) for c in range(n))\n",
    "    return result\n",
    "\n",
    "# Example 1\n",
    "print(knightProbability(3, 2, 0, 0))  # Output: 0.0625\n",
    "\n",
    "# Example 2\n",
    "print(knightProbability(1, 0, 0, 0))  # Output: 1.0"
   ]
  },
  {
   "cell_type": "code",
   "execution_count": null,
   "id": "ef33d100",
   "metadata": {},
   "outputs": [],
   "source": []
  }
 ],
 "metadata": {
  "kernelspec": {
   "display_name": "Python 3",
   "language": "python",
   "name": "python3"
  },
  "language_info": {
   "codemirror_mode": {
    "name": "ipython",
    "version": 3
   },
   "file_extension": ".py",
   "mimetype": "text/x-python",
   "name": "python",
   "nbconvert_exporter": "python",
   "pygments_lexer": "ipython3",
   "version": "3.9.13"
  }
 },
 "nbformat": 4,
 "nbformat_minor": 5
}
