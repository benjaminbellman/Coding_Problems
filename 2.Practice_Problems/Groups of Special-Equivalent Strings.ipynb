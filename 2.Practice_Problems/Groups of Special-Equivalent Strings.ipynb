{
 "cells": [
  {
   "cell_type": "markdown",
   "id": "835de999",
   "metadata": {},
   "source": [
    "# Groups of Special-Equivalent Strings"
   ]
  },
  {
   "cell_type": "markdown",
   "id": "7e40f615",
   "metadata": {},
   "source": [
    "You are given an array of strings of the same length words.\n",
    "\n",
    "In one move, you can swap any two even indexed characters or any two odd indexed characters of a string words[i].\n",
    "\n",
    "Two strings words[i] and words[j] are special-equivalent if after any number of moves, words[i] == words[j].\n",
    "\n",
    "For example, words[i] = \"zzxy\" and words[j] = \"xyzz\" are special-equivalent because we may make the moves \"zzxy\" -> \"xzzy\" -> \"xyzz\".\n",
    "A group of special-equivalent strings from words is a non-empty subset of words such that:\n",
    "\n",
    "Every pair of strings in the group are special equivalent, and\n",
    "The group is the largest size possible (i.e., there is not a string words[i] not in the group such that words[i] is special-equivalent to every string in the group).\n",
    "Return the number of groups of special-equivalent strings from words.\n",
    "\n",
    "**Example 1:**\n",
    "\n",
    "Input: words = [\"abcd\",\"cdab\",\"cbad\",\"xyzz\",\"zzxy\",\"zzyx\"]\n",
    "Output: 3\n",
    "Explanation: \n",
    "One group is [\"abcd\", \"cdab\", \"cbad\"], since they are all pairwise special equivalent, and none of the other strings is all pairwise special equivalent to these.\n",
    "The other two groups are [\"xyzz\", \"zzxy\"] and [\"zzyx\"].\n",
    "Note that in particular, \"zzxy\" is not special equivalent to \"zzyx\".\n",
    "\n",
    "**Example 2:**\n",
    "\n",
    "Input: words = [\"abc\",\"acb\",\"bac\",\"bca\",\"cab\",\"cba\"]\n",
    "Output: 3"
   ]
  },
  {
   "cell_type": "code",
   "execution_count": 1,
   "id": "bc8ad179",
   "metadata": {},
   "outputs": [
    {
     "name": "stdout",
     "output_type": "stream",
     "text": [
      "3\n",
      "3\n"
     ]
    }
   ],
   "source": [
    "def numSpecialEquivGroups(words):\n",
    "    def normalize(word):\n",
    "        even_chars = ''.join(sorted(word[i] for i in range(0, len(word), 2)))\n",
    "        odd_chars = ''.join(sorted(word[i] for i in range(1, len(word), 2)))\n",
    "        return (even_chars, odd_chars)\n",
    "    \n",
    "    unique_groups = set(normalize(word) for word in words)\n",
    "    \n",
    "    return len(unique_groups)\n",
    "\n",
    "# Example usage\n",
    "words1 = [\"abcd\", \"cdab\", \"cbad\", \"xyzz\", \"zzxy\", \"zzyx\"]\n",
    "print(numSpecialEquivGroups(words1))  # Output: 3\n",
    "\n",
    "words2 = [\"abc\", \"acb\", \"bac\", \"bca\", \"cab\", \"cba\"]\n",
    "print(numSpecialEquivGroups(words2))  # Output: 3"
   ]
  },
  {
   "cell_type": "code",
   "execution_count": null,
   "id": "f556eda0",
   "metadata": {},
   "outputs": [],
   "source": []
  }
 ],
 "metadata": {
  "kernelspec": {
   "display_name": "Python 3 (ipykernel)",
   "language": "python",
   "name": "python3"
  },
  "language_info": {
   "codemirror_mode": {
    "name": "ipython",
    "version": 3
   },
   "file_extension": ".py",
   "mimetype": "text/x-python",
   "name": "python",
   "nbconvert_exporter": "python",
   "pygments_lexer": "ipython3",
   "version": "3.8.11"
  }
 },
 "nbformat": 4,
 "nbformat_minor": 5
}
