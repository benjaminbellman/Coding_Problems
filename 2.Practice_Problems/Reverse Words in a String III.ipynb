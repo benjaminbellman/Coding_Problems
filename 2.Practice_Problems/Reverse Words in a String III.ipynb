{
 "cells": [
  {
   "cell_type": "markdown",
   "id": "b6988617",
   "metadata": {},
   "source": [
    "# Reverse Words in a String III"
   ]
  },
  {
   "cell_type": "markdown",
   "id": "1d7ccd6c",
   "metadata": {},
   "source": [
    "Given a string s, reverse the order of characters in each word within a sentence while still preserving whitespace and initial word order.\n",
    "\n",
    " \n",
    "\n",
    "**Example 1:**\n",
    "\n",
    "Input: s = \"Let's take LeetCode contest\"\n",
    "Output: \"s'teL ekat edoCteeL tsetnoc\"\n",
    "\n",
    "**Example 2:**\n",
    "\n",
    "Input: s = \"God Ding\"\n",
    "Output: \"doG gniD\"\n",
    " \n",
    "\n",
    "**Constraints:**\n",
    "\n",
    "- 1 <= s.length <= 5 * 104\n",
    "- s contains printable ASCII characters.\n",
    "- s does not contain any leading or trailing spaces.\n",
    "- There is at least one word in s.\n",
    "- All the words in s are separated by a single space."
   ]
  },
  {
   "cell_type": "code",
   "execution_count": 1,
   "id": "feca2634",
   "metadata": {},
   "outputs": [
    {
     "name": "stdout",
     "output_type": "stream",
     "text": [
      "s'teL ekat edoCteeL tsetnoc\n",
      "doG gniD\n"
     ]
    }
   ],
   "source": [
    "def reverseWords(s: str) -> str:\n",
    "    return ' '.join(word[::-1] for word in s.split(' '))\n",
    "\n",
    "# Testing the function\n",
    "s1 = \"Let's take LeetCode contest\"\n",
    "print(reverseWords(s1))  # Output: \"s'teL ekat edoCteeL tsetnoc\"\n",
    "\n",
    "s2 = \"God Ding\"\n",
    "print(reverseWords(s2))  # Output: \"doG gniD\""
   ]
  },
  {
   "cell_type": "code",
   "execution_count": null,
   "id": "56de5573",
   "metadata": {},
   "outputs": [],
   "source": []
  }
 ],
 "metadata": {
  "kernelspec": {
   "display_name": "Python 3",
   "language": "python",
   "name": "python3"
  },
  "language_info": {
   "codemirror_mode": {
    "name": "ipython",
    "version": 3
   },
   "file_extension": ".py",
   "mimetype": "text/x-python",
   "name": "python",
   "nbconvert_exporter": "python",
   "pygments_lexer": "ipython3",
   "version": "3.9.13"
  }
 },
 "nbformat": 4,
 "nbformat_minor": 5
}
