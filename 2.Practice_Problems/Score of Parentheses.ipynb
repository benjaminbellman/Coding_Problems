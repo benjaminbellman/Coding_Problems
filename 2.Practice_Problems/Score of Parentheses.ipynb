{
 "cells": [
  {
   "cell_type": "markdown",
   "id": "ad82751e",
   "metadata": {},
   "source": [
    "# Score of Parentheses"
   ]
  },
  {
   "cell_type": "markdown",
   "id": "78610e26",
   "metadata": {},
   "source": [
    "Given a balanced parentheses string s, return the score of the string.\n",
    "\n",
    "The score of a balanced parentheses string is based on the following rule:\n",
    "\n",
    "\"()\" has score 1.\n",
    "AB has score A + B, where A and B are balanced parentheses strings.\n",
    "(A) has score 2 * A, where A is a balanced parentheses string.\n",
    "\n",
    "**Example 1:**\n",
    "\n",
    "Input: s = \"()\"\n",
    "Output: 1\n",
    "\n",
    "**Example 2:**\n",
    "\n",
    "Input: s = \"(())\"\n",
    "Output: 2\n",
    "\n",
    "**Example 3:**\n",
    "\n",
    "Input: s = \"()()\"\n",
    "Output: 2\n",
    " \n",
    "**Constraints:**\n",
    "\n",
    "- 2 <= s.length <= 50\n",
    "- s consists of only '(' and ')'.\n",
    "- s is a balanced parentheses string."
   ]
  },
  {
   "cell_type": "code",
   "execution_count": 1,
   "id": "937cac12",
   "metadata": {},
   "outputs": [],
   "source": [
    "def scoreOfParentheses(s: str) -> int:\n",
    "    stack = []\n",
    "    \n",
    "    for char in s:\n",
    "        if char == '(':\n",
    "            stack.append(0)\n",
    "        else:  # char == ')'\n",
    "            current_score = 0\n",
    "            while stack and stack[-1] != 0:\n",
    "                current_score += stack.pop()\n",
    "            stack.pop()  # pop the opening '('\n",
    "            stack.append(max(1, 2 * current_score))\n",
    "    \n",
    "    return sum(stack)"
   ]
  },
  {
   "cell_type": "code",
   "execution_count": null,
   "id": "2e875389",
   "metadata": {},
   "outputs": [],
   "source": []
  }
 ],
 "metadata": {
  "kernelspec": {
   "display_name": "Python 3 (ipykernel)",
   "language": "python",
   "name": "python3"
  },
  "language_info": {
   "codemirror_mode": {
    "name": "ipython",
    "version": 3
   },
   "file_extension": ".py",
   "mimetype": "text/x-python",
   "name": "python",
   "nbconvert_exporter": "python",
   "pygments_lexer": "ipython3",
   "version": "3.8.11"
  }
 },
 "nbformat": 4,
 "nbformat_minor": 5
}
