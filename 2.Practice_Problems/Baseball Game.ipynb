{
 "cells": [
  {
   "cell_type": "markdown",
   "id": "be40d825",
   "metadata": {},
   "source": [
    "# Baseball Game"
   ]
  },
  {
   "cell_type": "markdown",
   "id": "9765a877",
   "metadata": {},
   "source": [
    "You are keeping the scores for a baseball game with strange rules. At the beginning of the game, you start with an empty record.\n",
    "\n",
    "You are given a list of strings operations, where operations[i] is the ith operation you must apply to the record and is one of the following:\n",
    "\n",
    "An integer x.\n",
    "Record a new score of x.\n",
    "'+'.\n",
    "Record a new score that is the sum of the previous two scores.\n",
    "'D'.\n",
    "Record a new score that is the double of the previous score.\n",
    "'C'.\n",
    "Invalidate the previous score, removing it from the record.\n",
    "Return the sum of all the scores on the record after applying all the operations.\n",
    "\n",
    "The test cases are generated such that the answer and all intermediate calculations fit in a 32-bit integer and that all operations are valid.\n",
    "\n",
    " \n",
    "\n",
    "**Example 1:**\n",
    "\n",
    "Input: ops = [\"5\",\"2\",\"C\",\"D\",\"+\"]\n",
    "Output: 30\n",
    "Explanation:\n",
    "\"5\" - Add 5 to the record, record is now [5].\n",
    "\"2\" - Add 2 to the record, record is now [5, 2].\n",
    "\"C\" - Invalidate and remove the previous score, record is now [5].\n",
    "\"D\" - Add 2 * 5 = 10 to the record, record is now [5, 10].\n",
    "\"+\" - Add 5 + 10 = 15 to the record, record is now [5, 10, 15].\n",
    "The total sum is 5 + 10 + 15 = 30.\n",
    "\n",
    "**Example 2:**\n",
    "\n",
    "Input: ops = [\"5\",\"-2\",\"4\",\"C\",\"D\",\"9\",\"+\",\"+\"]\n",
    "Output: 27\n",
    "Explanation:\n",
    "\"5\" - Add 5 to the record, record is now [5].\n",
    "\"-2\" - Add -2 to the record, record is now [5, -2].\n",
    "\"4\" - Add 4 to the record, record is now [5, -2, 4].\n",
    "\"C\" - Invalidate and remove the previous score, record is now [5, -2].\n",
    "\"D\" - Add 2 * -2 = -4 to the record, record is now [5, -2, -4].\n",
    "\"9\" - Add 9 to the record, record is now [5, -2, -4, 9].\n",
    "\"+\" - Add -4 + 9 = 5 to the record, record is now [5, -2, -4, 9, 5].\n",
    "\"+\" - Add 9 + 5 = 14 to the record, record is now [5, -2, -4, 9, 5, 14].\n",
    "The total sum is 5 + -2 + -4 + 9 + 5 + 14 = 27.\n",
    "\n",
    "**Example 3:**\n",
    "\n",
    "Input: ops = [\"1\",\"C\"]\n",
    "Output: 0\n",
    "Explanation:\n",
    "\"1\" - Add 1 to the record, record is now [1].\n",
    "\"C\" - Invalidate and remove the previous score, record is now [].\n",
    "Since the record is empty, the total sum is 0.\n",
    " \n",
    "\n",
    "**Constraints:**\n",
    "\n",
    "- 1 <= operations.length <= 1000\n",
    "- operations[i] is \"C\", \"D\", \"+\", or a string representing an integer in the range [-3 * 104, 3 * 104].\n",
    "- For operation \"+\", there will always be at least two previous scores on the record.\n",
    "- For operations \"C\" and \"D\", there will always be at least one previous score on the record.- "
   ]
  },
  {
   "cell_type": "code",
   "execution_count": 1,
   "id": "712f9f36",
   "metadata": {},
   "outputs": [],
   "source": [
    "def calPoints(ops):\n",
    "    stack = []\n",
    "    \n",
    "    for op in ops:\n",
    "        if op == \"C\":\n",
    "            stack.pop()\n",
    "        elif op == \"D\":\n",
    "            stack.append(2 * stack[-1])\n",
    "        elif op == \"+\":\n",
    "            stack.append(stack[-1] + stack[-2])\n",
    "        else:\n",
    "            stack.append(int(op))\n",
    "    \n",
    "    return sum(stack)"
   ]
  },
  {
   "cell_type": "code",
   "execution_count": 2,
   "id": "d74a0f34",
   "metadata": {},
   "outputs": [
    {
     "name": "stdout",
     "output_type": "stream",
     "text": [
      "30\n"
     ]
    }
   ],
   "source": [
    "ops1 = [\"5\",\"2\",\"C\",\"D\",\"+\"]\n",
    "result1 = calPoints(ops1)\n",
    "print(result1)  # Output: 30"
   ]
  },
  {
   "cell_type": "code",
   "execution_count": 3,
   "id": "90eeff17",
   "metadata": {},
   "outputs": [
    {
     "name": "stdout",
     "output_type": "stream",
     "text": [
      "27\n"
     ]
    }
   ],
   "source": [
    "ops2 = [\"5\",\"-2\",\"4\",\"C\",\"D\",\"9\",\"+\",\"+\"]\n",
    "result2 = calPoints(ops2)\n",
    "print(result2)  # Output: 27"
   ]
  },
  {
   "cell_type": "code",
   "execution_count": 4,
   "id": "164f3d46",
   "metadata": {},
   "outputs": [
    {
     "name": "stdout",
     "output_type": "stream",
     "text": [
      "0\n"
     ]
    }
   ],
   "source": [
    "ops3 = [\"1\",\"C\"]\n",
    "result3 = calPoints(ops3)\n",
    "print(result3)  # Output: 0"
   ]
  },
  {
   "cell_type": "code",
   "execution_count": null,
   "id": "466696af",
   "metadata": {},
   "outputs": [],
   "source": []
  }
 ],
 "metadata": {
  "kernelspec": {
   "display_name": "Python 3",
   "language": "python",
   "name": "python3"
  },
  "language_info": {
   "codemirror_mode": {
    "name": "ipython",
    "version": 3
   },
   "file_extension": ".py",
   "mimetype": "text/x-python",
   "name": "python",
   "nbconvert_exporter": "python",
   "pygments_lexer": "ipython3",
   "version": "3.9.13"
  }
 },
 "nbformat": 4,
 "nbformat_minor": 5
}
