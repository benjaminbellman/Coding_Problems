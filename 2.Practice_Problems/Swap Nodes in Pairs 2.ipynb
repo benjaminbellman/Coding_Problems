{
 "cells": [
  {
   "cell_type": "markdown",
   "id": "2a075342",
   "metadata": {},
   "source": [
    "# Swap Nodes in Pairs"
   ]
  },
  {
   "cell_type": "markdown",
   "id": "1ae0cca7",
   "metadata": {},
   "source": [
    "Given a linked list, swap every two adjacent nodes and return its head. You must solve the problem without modifying the values in the list's nodes (i.e., only nodes themselves may be changed.)\n",
    "\n",
    "**Example 1:**\n",
    "\n",
    "Input: head = [1,2,3,4]\n",
    "\n",
    "Output: [2,1,4,3]\n",
    "\n",
    "Explanation:\n",
    "\n",
    "**Example 2:**\n",
    "\n",
    "Input: head = []\n",
    "\n",
    "Output: []\n",
    "\n",
    "**Example 3:**\n",
    "\n",
    "Input: head = [1]\n",
    "\n",
    "Output: [1]\n",
    "\n",
    "**Example 4:**\n",
    "\n",
    "Input: head = [1,2,3]\n",
    "\n",
    "Output: [2,1,3]\n",
    "\n",
    " \n",
    "\n",
    "**Constraints:**\n",
    "\n",
    "- The number of nodes in the list is in the range [0, 100].\n",
    "- 0 <= Node.val <= 100"
   ]
  },
  {
   "cell_type": "code",
   "execution_count": 1,
   "id": "2fb4ad2b",
   "metadata": {},
   "outputs": [],
   "source": [
    "class ListNode:\n",
    "    def __init__(self, val=0, next=None):\n",
    "        self.val = val\n",
    "        self.next = next\n",
    "\n",
    "def swapPairs(head: ListNode) -> ListNode:\n",
    "    dummy = ListNode(0)\n",
    "    dummy.next = head\n",
    "    prev = dummy\n",
    "\n",
    "    while head and head.next:\n",
    "        first = head\n",
    "        second = head.next\n",
    "\n",
    "        # Swapping\n",
    "        prev.next = second\n",
    "        first.next = second.next\n",
    "        second.next = first\n",
    "\n",
    "        # Re-positioning pointers\n",
    "        prev = first\n",
    "        head = first.next\n",
    "\n",
    "    return dummy.next"
   ]
  },
  {
   "cell_type": "code",
   "execution_count": 2,
   "id": "ad026ec3",
   "metadata": {},
   "outputs": [],
   "source": [
    "def swapPairs(head: ListNode) -> ListNode:\n",
    "    if not head or not head.next:\n",
    "        return head\n",
    "    first = head\n",
    "    second = head.next\n",
    "\n",
    "    first.next = swapPairs(second.next)\n",
    "    second.next = first\n",
    "\n",
    "    return second"
   ]
  },
  {
   "cell_type": "code",
   "execution_count": null,
   "id": "12e675cb",
   "metadata": {},
   "outputs": [],
   "source": []
  }
 ],
 "metadata": {
  "kernelspec": {
   "display_name": "Python 3 (ipykernel)",
   "language": "python",
   "name": "python3"
  },
  "language_info": {
   "codemirror_mode": {
    "name": "ipython",
    "version": 3
   },
   "file_extension": ".py",
   "mimetype": "text/x-python",
   "name": "python",
   "nbconvert_exporter": "python",
   "pygments_lexer": "ipython3",
   "version": "3.8.11"
  }
 },
 "nbformat": 4,
 "nbformat_minor": 5
}
