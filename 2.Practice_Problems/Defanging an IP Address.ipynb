{
 "cells": [
  {
   "cell_type": "markdown",
   "id": "fbfcd6aa",
   "metadata": {},
   "source": [
    "# Defanging an IP Address"
   ]
  },
  {
   "cell_type": "markdown",
   "id": "2c358f74",
   "metadata": {},
   "source": [
    "Given a valid (IPv4) IP address, return a defanged version of that IP address.\n",
    "\n",
    "A defanged IP address replaces every period \".\" with \"[.]\".\n",
    "\n",
    "**Example 1:**\n",
    "\n",
    "Input: address = \"1.1.1.1\"\n",
    "Output: \"1[.]1[.]1[.]1\"\n",
    "\n",
    "**Example 2:**\n",
    "\n",
    "Input: address = \"255.100.50.0\"\n",
    "Output: \"255[.]100[.]50[.]0\"\n",
    "\n",
    "**Constraints:**\n",
    "\n",
    "- The given address is a valid IPv4 address."
   ]
  },
  {
   "cell_type": "code",
   "execution_count": 1,
   "id": "cb92d865",
   "metadata": {},
   "outputs": [
    {
     "name": "stdout",
     "output_type": "stream",
     "text": [
      "1[.]1[.]1[.]1\n",
      "255[.]100[.]50[.]0\n"
     ]
    }
   ],
   "source": [
    "def defang_ip_address(address: str) -> str:\n",
    "    return address.replace('.', '[.]')\n",
    "\n",
    "# Example usage:\n",
    "address1 = \"1.1.1.1\"\n",
    "address2 = \"255.100.50.0\"\n",
    "\n",
    "print(defang_ip_address(address1))  # Output: \"1[.]1[.]1[.]1\"\n",
    "print(defang_ip_address(address2))  # Output: \"255[.]100[.]50[.]0\""
   ]
  },
  {
   "cell_type": "code",
   "execution_count": null,
   "id": "be2ba759",
   "metadata": {},
   "outputs": [],
   "source": []
  }
 ],
 "metadata": {
  "kernelspec": {
   "display_name": "Python 3 (ipykernel)",
   "language": "python",
   "name": "python3"
  },
  "language_info": {
   "codemirror_mode": {
    "name": "ipython",
    "version": 3
   },
   "file_extension": ".py",
   "mimetype": "text/x-python",
   "name": "python",
   "nbconvert_exporter": "python",
   "pygments_lexer": "ipython3",
   "version": "3.8.11"
  }
 },
 "nbformat": 4,
 "nbformat_minor": 5
}
