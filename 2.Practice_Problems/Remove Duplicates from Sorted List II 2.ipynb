{
 "cells": [
  {
   "cell_type": "markdown",
   "id": "3cf9da55",
   "metadata": {},
   "source": [
    "# Remove Duplicates from Sorted List II 2"
   ]
  },
  {
   "cell_type": "markdown",
   "id": "842872b9",
   "metadata": {},
   "source": [
    "Given the head of a sorted linked list, delete all nodes that have duplicate numbers, leaving only distinct numbers from the original list. Return the linked list sorted as well.\n",
    "\n",
    "**Example 1:**\n",
    "\n",
    "Input: head = [1,2,3,3,4,4,5]\n",
    "Output: [1,2,5]\n",
    "\n",
    "**Example 2:**\n",
    "\n",
    "Input: head = [1,1,1,2,3]\n",
    "Output: [2,3]\n",
    " \n",
    "**Constraints:**\n",
    "\n",
    "- The number of nodes in the list is in the range [0, 300].\n",
    "- -100 <= Node.val <= 100\n",
    "- The list is guaranteed to be sorted in ascending order."
   ]
  },
  {
   "cell_type": "code",
   "execution_count": 1,
   "id": "aeba2398",
   "metadata": {},
   "outputs": [],
   "source": [
    "class ListNode:\n",
    "    def __init__(self, val=0, next=None):\n",
    "        self.val = val\n",
    "        self.next = next\n",
    "\n",
    "def deleteDuplicates(head):\n",
    "    # Create a dummy node before the head\n",
    "    dummy = ListNode(0)\n",
    "    dummy.next = head\n",
    "    prev = dummy  # Pointer to the node before the current sequence\n",
    "\n",
    "    while head:\n",
    "        # If it's the start of duplicates sublist\n",
    "        if head.next and head.val == head.next.val:\n",
    "            # Skip all nodes with this value\n",
    "            while head.next and head.val == head.next.val:\n",
    "                head = head.next\n",
    "            # Skip the last duplicate\n",
    "            prev.next = head.next\n",
    "        else:\n",
    "            # Move prev pointer if no duplicate detected\n",
    "            prev = prev.next\n",
    "        head = head.next\n",
    "\n",
    "    return dummy.next"
   ]
  },
  {
   "cell_type": "code",
   "execution_count": 2,
   "id": "17ccf2ef",
   "metadata": {},
   "outputs": [
    {
     "name": "stdout",
     "output_type": "stream",
     "text": [
      "[1, 2, 5]\n"
     ]
    }
   ],
   "source": [
    "# Helper to convert list to linked list\n",
    "def build_linked_list(values):\n",
    "    dummy = ListNode(0)\n",
    "    curr = dummy\n",
    "    for val in values:\n",
    "        curr.next = ListNode(val)\n",
    "        curr = curr.next\n",
    "    return dummy.next\n",
    "\n",
    "# Helper to convert linked list to list\n",
    "def linked_list_to_list(head):\n",
    "    res = []\n",
    "    while head:\n",
    "        res.append(head.val)\n",
    "        head = head.next\n",
    "    return res\n",
    "\n",
    "# Test case\n",
    "head = build_linked_list([1, 2, 3, 3, 4, 4, 5])\n",
    "result = deleteDuplicates(head)\n",
    "print(linked_list_to_list(result))  # Output: [1, 2, 5]"
   ]
  },
  {
   "cell_type": "code",
   "execution_count": null,
   "id": "6b9df361",
   "metadata": {},
   "outputs": [],
   "source": []
  }
 ],
 "metadata": {
  "kernelspec": {
   "display_name": "Python 3 (ipykernel)",
   "language": "python",
   "name": "python3"
  },
  "language_info": {
   "codemirror_mode": {
    "name": "ipython",
    "version": 3
   },
   "file_extension": ".py",
   "mimetype": "text/x-python",
   "name": "python",
   "nbconvert_exporter": "python",
   "pygments_lexer": "ipython3",
   "version": "3.8.11"
  }
 },
 "nbformat": 4,
 "nbformat_minor": 5
}
