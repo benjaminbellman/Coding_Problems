{
 "cells": [
  {
   "cell_type": "markdown",
   "id": "3ccad5f4",
   "metadata": {},
   "source": [
    "# Subsets"
   ]
  },
  {
   "cell_type": "markdown",
   "id": "0676bc17",
   "metadata": {},
   "source": [
    "Given an integer array nums of unique elements, return all possible subsets (the power set).\n",
    "\n",
    "The solution set must not contain duplicate subsets. Return the solution in any order.\n",
    "\n",
    "**Example 1:**\n",
    "\n",
    "Input: nums = [1,2,3]\n",
    "Output: [[],[1],[2],[1,2],[3],[1,3],[2,3],[1,2,3]]\n",
    "\n",
    "**Example 2:**\n",
    "\n",
    "Input: nums = [0]\n",
    "Output: [[],[0]]\n",
    " \n",
    "**Constraints:**\n",
    "\n",
    "- 1 <= nums.length <= 10\n",
    "- -10 <= nums[i] <= 10\n",
    "- All the numbers of nums are unique."
   ]
  },
  {
   "cell_type": "code",
   "execution_count": 1,
   "id": "23d268fb",
   "metadata": {},
   "outputs": [],
   "source": [
    "def subsets(nums):\n",
    "    res = []\n",
    "\n",
    "    def backtrack(start, path):\n",
    "        res.append(path[:])  # Add a copy of the current subset\n",
    "        for i in range(start, len(nums)):\n",
    "            path.append(nums[i])        # Choose\n",
    "            backtrack(i + 1, path)      # Explore\n",
    "            path.pop()                  # Un-choose (backtrack)\n",
    "\n",
    "    backtrack(0, [])\n",
    "    return res"
   ]
  },
  {
   "cell_type": "code",
   "execution_count": 2,
   "id": "adafa6a0",
   "metadata": {},
   "outputs": [
    {
     "name": "stdout",
     "output_type": "stream",
     "text": [
      "[[], [1], [1, 2], [1, 2, 3], [1, 3], [2], [2, 3], [3]]\n"
     ]
    }
   ],
   "source": [
    "print(subsets([1, 2, 3]))\n",
    "# Output: [[], [1], [1, 2], [1, 2, 3], [1, 3], [2], [2, 3], [3]]"
   ]
  },
  {
   "cell_type": "code",
   "execution_count": null,
   "id": "07f6c8ab",
   "metadata": {},
   "outputs": [],
   "source": []
  }
 ],
 "metadata": {
  "kernelspec": {
   "display_name": "Python 3 (ipykernel)",
   "language": "python",
   "name": "python3"
  },
  "language_info": {
   "codemirror_mode": {
    "name": "ipython",
    "version": 3
   },
   "file_extension": ".py",
   "mimetype": "text/x-python",
   "name": "python",
   "nbconvert_exporter": "python",
   "pygments_lexer": "ipython3",
   "version": "3.8.11"
  }
 },
 "nbformat": 4,
 "nbformat_minor": 5
}
