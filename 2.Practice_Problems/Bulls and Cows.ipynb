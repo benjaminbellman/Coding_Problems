{
 "cells": [
  {
   "cell_type": "markdown",
   "id": "d4b99753",
   "metadata": {},
   "source": [
    "# Bulls and Cows"
   ]
  },
  {
   "cell_type": "markdown",
   "id": "6b2bc62c",
   "metadata": {},
   "source": [
    "You are playing the Bulls and Cows game with your friend.\n",
    "\n",
    "You write down a secret number and ask your friend to guess what the number is. When your friend makes a guess, you provide a hint with the following info:\n",
    "\n",
    "The number of \"bulls\", which are digits in the guess that are in the correct position.\n",
    "The number of \"cows\", which are digits in the guess that are in your secret number but are located in the wrong position. Specifically, the non-bull digits in the guess that could be rearranged such that they become bulls.\n",
    "Given the secret number secret and your friend's guess guess, return the hint for your friend's guess.\n",
    "\n",
    "The hint should be formatted as \"xAyB\", where x is the number of bulls and y is the number of cows. Note that both secret and guess may contain duplicate digits.\n",
    "\n",
    " \n",
    "\n",
    "**Example 1:**\n",
    "\n",
    "Input: secret = \"1807\", guess = \"7810\"\n",
    "Output: \"1A3B\"\n",
    "Explanation: Bulls are connected with a '|' and cows are underlined:\n",
    "\"1807\"\n",
    "  |\n",
    "\"7810\"\n",
    "\n",
    "**Example 2:**\n",
    "\n",
    "Input: secret = \"1123\", guess = \"0111\"\n",
    "Output: \"1A1B\"\n",
    "Explanation: Bulls are connected with a '|' and cows are underlined:\n",
    "\"1123\"        \"1123\"\n",
    "  |      or     |\n",
    "\"0111\"        \"0111\"\n",
    "Note that only one of the two unmatched 1s is counted as a cow since the non-bull digits can only be rearranged to allow one 1 to be a bull.\n",
    " \n",
    "\n",
    "**Constraints:**\n",
    "\n",
    "1 <= secret.length, guess.length <= 1000\n",
    "secret.length == guess.length\n",
    "secret and guess consist of digits only."
   ]
  },
  {
   "cell_type": "code",
   "execution_count": 1,
   "id": "290380db",
   "metadata": {},
   "outputs": [],
   "source": [
    "def getHint(secret: str, guess: str) -> str:\n",
    "    bulls = 0\n",
    "    cows = 0\n",
    "    secret_counts = {}\n",
    "    for i in range(len(secret)):\n",
    "        if secret[i] == guess[i]:\n",
    "            bulls += 1\n",
    "        else:\n",
    "            secret_counts[secret[i]] = secret_counts.get(secret[i], 0) + 1\n",
    "    for i in range(len(guess)):\n",
    "        if secret[i] != guess[i] and guess[i] in secret_counts and secret_counts[guess[i]] > 0:\n",
    "            cows += 1\n",
    "            secret_counts[guess[i]] -= 1\n",
    "    return str(bulls) + \"A\" + str(cows) + \"B\""
   ]
  },
  {
   "cell_type": "code",
   "execution_count": 2,
   "id": "8181a82a",
   "metadata": {},
   "outputs": [
    {
     "name": "stdout",
     "output_type": "stream",
     "text": [
      "1A3B\n",
      "1A1B\n"
     ]
    }
   ],
   "source": [
    "print(getHint(\"1807\", \"7810\"))  # Output: \"1A3B\"\n",
    "print(getHint(\"1123\", \"0111\"))  # Output: \"1A1B\""
   ]
  },
  {
   "cell_type": "code",
   "execution_count": null,
   "id": "4964283f",
   "metadata": {},
   "outputs": [],
   "source": []
  }
 ],
 "metadata": {
  "kernelspec": {
   "display_name": "Python 3",
   "language": "python",
   "name": "python3"
  },
  "language_info": {
   "codemirror_mode": {
    "name": "ipython",
    "version": 3
   },
   "file_extension": ".py",
   "mimetype": "text/x-python",
   "name": "python",
   "nbconvert_exporter": "python",
   "pygments_lexer": "ipython3",
   "version": "3.9.13"
  }
 },
 "nbformat": 4,
 "nbformat_minor": 5
}
