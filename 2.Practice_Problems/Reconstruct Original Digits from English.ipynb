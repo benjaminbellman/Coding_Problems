{
 "cells": [
  {
   "cell_type": "markdown",
   "id": "12eb2ac3",
   "metadata": {},
   "source": [
    "# Reconstruct Original Digits from English"
   ]
  },
  {
   "cell_type": "markdown",
   "id": "6e054650",
   "metadata": {},
   "source": [
    "Given a string s containing an out-of-order English representation of digits 0-9, return the digits in ascending order.\n",
    "\n",
    " \n",
    "\n",
    "**Example 1:**\n",
    "\n",
    "Input: s = \"owoztneoer\"\n",
    "Output: \"012\"\n",
    "\n",
    "**Example 2:**\n",
    "\n",
    "Input: s = \"fviefuro\"\n",
    "Output: \"45\"\n",
    " \n",
    "\n",
    "**Constraints:**\n",
    "\n",
    "- 1 <= s.length <= 105\n",
    "- s[i] is one of the characters [\"e\",\"g\",\"f\",\"i\",\"h\",\"o\",\"n\",\"s\",\"r\",\"u\",\"t\",\"w\",\"v\",\"x\",\"z\"].\n",
    "- s is guaranteed to be valid."
   ]
  },
  {
   "cell_type": "code",
   "execution_count": 1,
   "id": "86108a0a",
   "metadata": {},
   "outputs": [
    {
     "name": "stdout",
     "output_type": "stream",
     "text": [
      "012\n",
      "45\n"
     ]
    }
   ],
   "source": [
    "def findDigits(s):\n",
    "    digit_count = [0] * 10  # List to keep track of digit frequencies\n",
    "    \n",
    "    # Count the frequency of each character\n",
    "    for char in s:\n",
    "        if char == 'z':\n",
    "            digit_count[0] += 1\n",
    "        elif char == 'o':\n",
    "            digit_count[1] += 1\n",
    "        elif char == 'w':\n",
    "            digit_count[2] += 1\n",
    "        elif char == 'h':\n",
    "            digit_count[3] += 1\n",
    "        elif char == 'u':\n",
    "            digit_count[4] += 1\n",
    "        elif char == 'f':\n",
    "            digit_count[5] += 1\n",
    "        elif char == 'x':\n",
    "            digit_count[6] += 1\n",
    "        elif char == 's':\n",
    "            digit_count[7] += 1\n",
    "        elif char == 'g':\n",
    "            digit_count[8] += 1\n",
    "        elif char == 'i':\n",
    "            digit_count[9] += 1\n",
    "    \n",
    "    # Deduct counts of specific digits from other digits\n",
    "    digit_count[1] -= digit_count[0] + digit_count[2] + digit_count[4]\n",
    "    digit_count[3] -= digit_count[8]\n",
    "    digit_count[5] -= digit_count[4]\n",
    "    digit_count[7] -= digit_count[6]\n",
    "    digit_count[9] -= digit_count[5] + digit_count[6] + digit_count[8]\n",
    "    \n",
    "    # Create the resulting string by joining digits based on their counts\n",
    "    result = \"\"\n",
    "    for digit in range(10):\n",
    "        result += str(digit) * digit_count[digit]\n",
    "    \n",
    "    return result\n",
    "\n",
    "\n",
    "# Testing the provided examples\n",
    "print(findDigits(\"owoztneoer\"))  # Output: \"012\"\n",
    "print(findDigits(\"fviefuro\"))    # Output: \"45\""
   ]
  },
  {
   "cell_type": "code",
   "execution_count": null,
   "id": "20c53ae8",
   "metadata": {},
   "outputs": [],
   "source": []
  }
 ],
 "metadata": {
  "kernelspec": {
   "display_name": "Python 3",
   "language": "python",
   "name": "python3"
  },
  "language_info": {
   "codemirror_mode": {
    "name": "ipython",
    "version": 3
   },
   "file_extension": ".py",
   "mimetype": "text/x-python",
   "name": "python",
   "nbconvert_exporter": "python",
   "pygments_lexer": "ipython3",
   "version": "3.9.13"
  }
 },
 "nbformat": 4,
 "nbformat_minor": 5
}
