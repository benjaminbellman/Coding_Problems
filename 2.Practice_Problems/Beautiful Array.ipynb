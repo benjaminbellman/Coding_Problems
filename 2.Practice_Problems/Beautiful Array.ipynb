{
 "cells": [
  {
   "cell_type": "markdown",
   "id": "14bdae61",
   "metadata": {},
   "source": [
    "# Beautiful Array"
   ]
  },
  {
   "cell_type": "markdown",
   "id": "a6e4bf98",
   "metadata": {},
   "source": [
    "An array nums of length n is beautiful if:\n",
    "\n",
    "- nums is a permutation of the integers in the range [1, n].\n",
    "- For every 0 <= i < j < n, there is no index k with i < k < j where 2 * nums[k] == nums[i] + nums[j].\n",
    "\n",
    "Given the integer n, return any beautiful array nums of length n. There will be at least one valid answer for the given n. \n",
    "\n",
    "**Example 1:**\n",
    "\n",
    "Input: n = 4\n",
    "Output: [2,1,4,3]\n",
    "\n",
    "**Example 2:**\n",
    "\n",
    "Input: n = 5\n",
    "Output: [3,1,2,5,4]\n",
    " \n",
    "\n",
    "**Constraints:**\n",
    "\n",
    "- 1 <= n <= 1000"
   ]
  },
  {
   "cell_type": "code",
   "execution_count": 1,
   "id": "a2d32be1",
   "metadata": {},
   "outputs": [
    {
     "name": "stdout",
     "output_type": "stream",
     "text": [
      "[1, 3, 2, 4]\n",
      "[1, 5, 3, 2, 4]\n"
     ]
    }
   ],
   "source": [
    "def beautifulArray(n: int):\n",
    "    def construct(n):\n",
    "        if n == 1:\n",
    "            return [1]\n",
    "        else:\n",
    "            odd = construct((n + 1) // 2)\n",
    "            even = construct(n // 2)\n",
    "            return [2 * x - 1 for x in odd] + [2 * x for x in even]\n",
    "\n",
    "    return construct(n)\n",
    "\n",
    "# Example usage\n",
    "print(beautifulArray(4))  # Output: [2, 1, 4, 3]\n",
    "print(beautifulArray(5))  # Output: [3, 1, 2, 5, 4]"
   ]
  },
  {
   "cell_type": "code",
   "execution_count": null,
   "id": "cd386434",
   "metadata": {},
   "outputs": [],
   "source": []
  }
 ],
 "metadata": {
  "kernelspec": {
   "display_name": "Python 3 (ipykernel)",
   "language": "python",
   "name": "python3"
  },
  "language_info": {
   "codemirror_mode": {
    "name": "ipython",
    "version": 3
   },
   "file_extension": ".py",
   "mimetype": "text/x-python",
   "name": "python",
   "nbconvert_exporter": "python",
   "pygments_lexer": "ipython3",
   "version": "3.8.11"
  }
 },
 "nbformat": 4,
 "nbformat_minor": 5
}
