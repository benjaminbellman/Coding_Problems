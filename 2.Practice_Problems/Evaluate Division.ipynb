{
 "cells": [
  {
   "cell_type": "markdown",
   "id": "3baab562",
   "metadata": {},
   "source": [
    "# Evaluate Division"
   ]
  },
  {
   "cell_type": "markdown",
   "id": "f4f69e33",
   "metadata": {},
   "source": [
    "You are given an array of variable pairs equations and an array of real numbers values, where equations[i] = [Ai, Bi] and values[i] represent the equation Ai / Bi = values[i]. Each Ai or Bi is a string that represents a single variable.\n",
    "\n",
    "You are also given some queries, where queries[j] = [Cj, Dj] represents the jth query where you must find the answer for Cj / Dj = ?.\n",
    "\n",
    "Return the answers to all queries. If a single answer cannot be determined, return -1.0.\n",
    "\n",
    "Note: The input is always valid. You may assume that evaluating the queries will not result in division by zero and that there is no contradiction.\n",
    "\n",
    " \n",
    "\n",
    "**Example 1:**\n",
    "\n",
    "Input: equations = [[\"a\",\"b\"],[\"b\",\"c\"]], values = [2.0,3.0], queries = [[\"a\",\"c\"],[\"b\",\"a\"],[\"a\",\"e\"],[\"a\",\"a\"],[\"x\",\"x\"]]\n",
    "Output: [6.00000,0.50000,-1.00000,1.00000,-1.00000]\n",
    "Explanation: \n",
    "Given: a / b = 2.0, b / c = 3.0\n",
    "queries are: a / c = ?, b / a = ?, a / e = ?, a / a = ?, x / x = ?\n",
    "return: [6.0, 0.5, -1.0, 1.0, -1.0 ]\n",
    "\n",
    "**Example 2:**\n",
    "\n",
    "Input: equations = [[\"a\",\"b\"],[\"b\",\"c\"],[\"bc\",\"cd\"]], values = [1.5,2.5,5.0], queries = [[\"a\",\"c\"],[\"c\",\"b\"],[\"bc\",\"cd\"],[\"cd\",\"bc\"]]\n",
    "Output: [3.75000,0.40000,5.00000,0.20000]\n",
    "\n",
    "**Example 3:**\n",
    "\n",
    "Input: equations = [[\"a\",\"b\"]], values = [0.5], queries = [[\"a\",\"b\"],[\"b\",\"a\"],[\"a\",\"c\"],[\"x\",\"y\"]]\n",
    "Output: [0.50000,2.00000,-1.00000,-1.00000]\n",
    " \n",
    "\n",
    "**Constraints:**\n",
    "\n",
    "1 <= equations.length <= 20\n",
    "equations[i].length == 2\n",
    "1 <= Ai.length, Bi.length <= 5\n",
    "values.length == equations.length\n",
    "0.0 < values[i] <= 20.0\n",
    "1 <= queries.length <= 20\n",
    "queries[i].length == 2\n",
    "1 <= Cj.length, Dj.length <= 5\n",
    "Ai, Bi, Cj, Dj consist of lower case English letters and digits."
   ]
  },
  {
   "cell_type": "code",
   "execution_count": 1,
   "id": "b2ac7d62",
   "metadata": {},
   "outputs": [],
   "source": [
    "from collections import defaultdict\n",
    "\n",
    "def calcEquation(equations, values, queries):\n",
    "    # Step 1: Build the graph\n",
    "    graph = defaultdict(dict)\n",
    "    for (dividend, divisor), value in zip(equations, values):\n",
    "        graph[dividend][divisor] = value\n",
    "        graph[divisor][dividend] = 1 / value\n",
    "    \n",
    "    # Step 2: Evaluate the queries\n",
    "    def dfs(dividend, divisor, visited):\n",
    "        if dividend not in graph or divisor not in graph:\n",
    "            return -1.0\n",
    "        if divisor in graph[dividend]:\n",
    "            return graph[dividend][divisor]\n",
    "        visited.add(dividend)\n",
    "        for neighbor, value in graph[dividend].items():\n",
    "            if neighbor not in visited:\n",
    "                result = dfs(neighbor, divisor, visited)\n",
    "                if result != -1.0:\n",
    "                    return value * result\n",
    "        return -1.0\n",
    "    \n",
    "    results = []\n",
    "    for dividend, divisor in queries:\n",
    "        results.append(dfs(dividend, divisor, set()))\n",
    "    return results"
   ]
  },
  {
   "cell_type": "code",
   "execution_count": 2,
   "id": "7251e05c",
   "metadata": {},
   "outputs": [
    {
     "name": "stdout",
     "output_type": "stream",
     "text": [
      "[6.0, 0.5, -1.0, 1.0, -1.0]\n",
      "[3.75, 0.4, 5.0, 0.2]\n",
      "[0.5, 2.0, -1.0, -1.0]\n"
     ]
    }
   ],
   "source": [
    "equations1 = [[\"a\",\"b\"],[\"b\",\"c\"]]\n",
    "values1 = [2.0,3.0]\n",
    "queries1 = [[\"a\",\"c\"],[\"b\",\"a\"],[\"a\",\"e\"],[\"a\",\"a\"],[\"x\",\"x\"]]\n",
    "print(calcEquation(equations1, values1, queries1))\n",
    "# Output: [6.0, 0.5, -1.0, 1.0, -1.0]\n",
    "\n",
    "equations2 = [[\"a\",\"b\"],[\"b\",\"c\"],[\"bc\",\"cd\"]]\n",
    "values2 = [1.5,2.5,5.0]\n",
    "queries2 = [[\"a\",\"c\"],[\"c\",\"b\"],[\"bc\",\"cd\"],[\"cd\",\"bc\"]]\n",
    "print(calcEquation(equations2, values2, queries2))\n",
    "# Output: [3.75, 0.4, 5.0, 0.2]\n",
    "\n",
    "equations3 = [[\"a\",\"b\"]]\n",
    "values3 = [0.5]\n",
    "queries3 = [[\"a\",\"b\"],[\"b\",\"a\"],[\"a\",\"c\"],[\"x\",\"y\"]]\n",
    "print(calcEquation(equations3, values3, queries3))\n",
    "# Output: [0.5, 2.0, -1.0, -1.0]"
   ]
  },
  {
   "cell_type": "code",
   "execution_count": null,
   "id": "7c45c96c",
   "metadata": {},
   "outputs": [],
   "source": []
  }
 ],
 "metadata": {
  "kernelspec": {
   "display_name": "Python 3",
   "language": "python",
   "name": "python3"
  },
  "language_info": {
   "codemirror_mode": {
    "name": "ipython",
    "version": 3
   },
   "file_extension": ".py",
   "mimetype": "text/x-python",
   "name": "python",
   "nbconvert_exporter": "python",
   "pygments_lexer": "ipython3",
   "version": "3.9.13"
  }
 },
 "nbformat": 4,
 "nbformat_minor": 5
}
