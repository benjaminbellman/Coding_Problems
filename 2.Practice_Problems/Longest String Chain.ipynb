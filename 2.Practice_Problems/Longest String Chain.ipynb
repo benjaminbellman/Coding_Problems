{
 "cells": [
  {
   "cell_type": "markdown",
   "id": "cc77549d",
   "metadata": {},
   "source": [
    "# Longest String Chain"
   ]
  },
  {
   "cell_type": "markdown",
   "id": "5b2bf0b9",
   "metadata": {},
   "source": [
    "You are given an array of words where each word consists of lowercase English letters.\n",
    "\n",
    "wordA is a predecessor of wordB if and only if we can insert exactly one letter anywhere in wordA without changing the order of the other characters to make it equal to wordB.\n",
    "\n",
    "For example, \"abc\" is a predecessor of \"abac\", while \"cba\" is not a predecessor of \"bcad\".\n",
    "A word chain is a sequence of words [word1, word2, ..., wordk] with k >= 1, where word1 is a predecessor of word2, word2 is a predecessor of word3, and so on. A single word is trivially a word chain with k == 1.\n",
    "\n",
    "Return the length of the longest possible word chain with words chosen from the given list of words.\n",
    "\n",
    "**Example 1:**\n",
    "\n",
    "Input: words = [\"a\",\"b\",\"ba\",\"bca\",\"bda\",\"bdca\"]\n",
    "Output: 4\n",
    "Explanation: One of the longest word chains is [\"a\",\"ba\",\"bda\",\"bdca\"].\n",
    "\n",
    "**Example 2:**\n",
    "\n",
    "Input: words = [\"xbc\",\"pcxbcf\",\"xb\",\"cxbc\",\"pcxbc\"]\n",
    "Output: 5\n",
    "Explanation: All the words can be put in a word chain [\"xb\", \"xbc\", \"cxbc\", \"pcxbc\", \"pcxbcf\"].\n",
    "\n",
    "**Example 3:**\n",
    "\n",
    "Input: words = [\"abcd\",\"dbqca\"]\n",
    "Output: 1\n",
    "Explanation: The trivial word chain [\"abcd\"] is one of the longest word chains.\n",
    "[\"abcd\",\"dbqca\"] is not a valid word chain because the ordering of the letters is changed.\n",
    " \n",
    "**Constraints:**\n",
    "\n",
    "- 1 <= words.length <= 1000\n",
    "- 1 <= words[i].length <= 16\n",
    "- words[i] only consists of lowercase English letters."
   ]
  },
  {
   "cell_type": "code",
   "execution_count": 1,
   "id": "642902de",
   "metadata": {},
   "outputs": [
    {
     "name": "stdout",
     "output_type": "stream",
     "text": [
      "4\n",
      "5\n",
      "1\n"
     ]
    }
   ],
   "source": [
    "def longestStrChain(words):\n",
    "    # 1. Sort words by length\n",
    "    words.sort(key=len)\n",
    "    \n",
    "    dp = {}  # dp[word] = length of the longest chain ending with \"word\"\n",
    "    max_chain_length = 1\n",
    "\n",
    "    for word in words:\n",
    "        dp[word] = 1  # At least the chain can start with this word alone\n",
    "\n",
    "        # 2. Try removing each character in \"word\" to see if we can form a valid predecessor\n",
    "        for i in range(len(word)):\n",
    "            predecessor = word[:i] + word[i+1:]  # remove the i-th character\n",
    "            if predecessor in dp:\n",
    "                dp[word] = max(dp[word], dp[predecessor] + 1)\n",
    "        \n",
    "        # Keep track of the maximum chain length\n",
    "        max_chain_length = max(max_chain_length, dp[word])\n",
    "\n",
    "    return max_chain_length\n",
    "\n",
    "# -----------------------\n",
    "# Example test cases\n",
    "# -----------------------\n",
    "print(longestStrChain([\"a\", \"b\", \"ba\", \"bca\", \"bda\", \"bdca\"]))  # Expect 4\n",
    "print(longestStrChain([\"xbc\",\"pcxbcf\",\"xb\",\"cxbc\",\"pcxbc\"]))    # Expect 5\n",
    "print(longestStrChain([\"abcd\",\"dbqca\"]))                        # Expect 1"
   ]
  },
  {
   "cell_type": "code",
   "execution_count": null,
   "id": "215eb3d0",
   "metadata": {},
   "outputs": [],
   "source": []
  }
 ],
 "metadata": {
  "kernelspec": {
   "display_name": "Python 3 (ipykernel)",
   "language": "python",
   "name": "python3"
  },
  "language_info": {
   "codemirror_mode": {
    "name": "ipython",
    "version": 3
   },
   "file_extension": ".py",
   "mimetype": "text/x-python",
   "name": "python",
   "nbconvert_exporter": "python",
   "pygments_lexer": "ipython3",
   "version": "3.8.11"
  }
 },
 "nbformat": 4,
 "nbformat_minor": 5
}
