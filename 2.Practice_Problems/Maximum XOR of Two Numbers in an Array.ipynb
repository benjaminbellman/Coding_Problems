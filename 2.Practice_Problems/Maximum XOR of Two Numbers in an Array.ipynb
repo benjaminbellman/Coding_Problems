{
 "cells": [
  {
   "cell_type": "markdown",
   "id": "3c77905f",
   "metadata": {},
   "source": [
    "# Maximum XOR of Two Numbers in an Array"
   ]
  },
  {
   "cell_type": "markdown",
   "id": "2a249a25",
   "metadata": {},
   "source": [
    "Given an integer array nums, return the maximum result of nums[i] XOR nums[j], where 0 <= i <= j < n.\n",
    "\n",
    " \n",
    "\n",
    "**Example 1:**\n",
    "\n",
    "Input: nums = [3,10,5,25,2,8]\n",
    "Output: 28\n",
    "Explanation: The maximum result is 5 XOR 25 = 28.\n",
    "\n",
    "**Example 2:**\n",
    "\n",
    "Input: nums = [14,70,53,83,49,91,36,80,92,51,66,70]\n",
    "Output: 127\n",
    " \n",
    "\n",
    "**Constraints:**\n",
    "\n",
    "1 <= nums.length <= 2 * 105\n",
    "0 <= nums[i] <= 231 - 1"
   ]
  },
  {
   "cell_type": "code",
   "execution_count": 1,
   "id": "6d078109",
   "metadata": {},
   "outputs": [
    {
     "name": "stdout",
     "output_type": "stream",
     "text": [
      "28\n",
      "127\n"
     ]
    }
   ],
   "source": [
    "class TrieNode:\n",
    "    def __init__(self):\n",
    "        self.children = {}\n",
    "\n",
    "class Solution:\n",
    "    def findMaximumXOR(self, nums):\n",
    "        # Initialize the root of the trie\n",
    "        root = TrieNode()\n",
    "        \n",
    "        # Calculate the maximum number of bits required to represent the numbers in nums\n",
    "        max_bit = len(bin(max(nums))) - 2\n",
    "        \n",
    "        # Convert each number to its binary representation and insert into the trie\n",
    "        for num in nums:\n",
    "            node = root\n",
    "            for i in range(max_bit, -1, -1):\n",
    "                bit = (num >> i) & 1\n",
    "                if bit not in node.children:\n",
    "                    node.children[bit] = TrieNode()\n",
    "                node = node.children[bit]\n",
    "        \n",
    "        # Calculate the maximum XOR by traversing the trie\n",
    "        max_xor = 0\n",
    "        for num in nums:\n",
    "            node = root\n",
    "            xor = 0\n",
    "            for i in range(max_bit, -1, -1):\n",
    "                bit = (num >> i) & 1\n",
    "                # Try to maximize the XOR by choosing the opposite bit if available\n",
    "                if 1 - bit in node.children:\n",
    "                    xor |= (1 << i)\n",
    "                    node = node.children[1 - bit]\n",
    "                else:\n",
    "                    node = node.children[bit]\n",
    "            max_xor = max(max_xor, xor)\n",
    "        \n",
    "        return max_xor\n",
    "\n",
    "# Testing the provided examples\n",
    "solution = Solution()\n",
    "nums1 = [3, 10, 5, 25, 2, 8]\n",
    "print(solution.findMaximumXOR(nums1))  # Output: 28\n",
    "\n",
    "nums2 = [14, 70, 53, 83, 49, 91, 36, 80, 92, 51, 66, 70]\n",
    "print(solution.findMaximumXOR(nums2))  # Output: 127"
   ]
  },
  {
   "cell_type": "code",
   "execution_count": null,
   "id": "f1bdeb6c",
   "metadata": {},
   "outputs": [],
   "source": []
  }
 ],
 "metadata": {
  "kernelspec": {
   "display_name": "Python 3",
   "language": "python",
   "name": "python3"
  },
  "language_info": {
   "codemirror_mode": {
    "name": "ipython",
    "version": 3
   },
   "file_extension": ".py",
   "mimetype": "text/x-python",
   "name": "python",
   "nbconvert_exporter": "python",
   "pygments_lexer": "ipython3",
   "version": "3.9.13"
  }
 },
 "nbformat": 4,
 "nbformat_minor": 5
}
