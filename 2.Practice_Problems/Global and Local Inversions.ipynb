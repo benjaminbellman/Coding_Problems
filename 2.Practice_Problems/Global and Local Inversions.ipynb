{
 "cells": [
  {
   "cell_type": "markdown",
   "id": "8d83442f",
   "metadata": {},
   "source": [
    "# Global and Local Inversions"
   ]
  },
  {
   "cell_type": "markdown",
   "id": "cf3a1b52",
   "metadata": {},
   "source": [
    "You are given an integer array nums of length n which represents a permutation of all the integers in the range [0, n - 1].\n",
    "\n",
    "The number of global inversions is the number of the different pairs (i, j) where:\n",
    "\n",
    "0 <= i < j < n\n",
    "nums[i] > nums[j]\n",
    "The number of local inversions is the number of indices i where:\n",
    "\n",
    "0 <= i < n - 1\n",
    "nums[i] > nums[i + 1]\n",
    "Return true if the number of global inversions is equal to the number of local inversions.\n",
    "\n",
    " \n",
    "\n",
    "**Example 1:**\n",
    "\n",
    "Input: nums = [1,0,2]\n",
    "\n",
    "Output: true\n",
    "Explanation: There is 1 global inversion and 1 local inversion.\n",
    "\n",
    "**Example 2:**\n",
    "\n",
    "Input: nums = [1,2,0]\n",
    "\n",
    "Output: false\n",
    "Explanation: There are 2 global inversions and 1 local inversion.\n",
    " \n",
    "\n",
    "**Constraints:**\n",
    "\n",
    "- n == nums.length\n",
    "- 1 <= n <= 105\n",
    "- 0 <= nums[i] < n\n",
    "- All the integers of nums are unique.\n",
    "- nums is a permutation of all the numbers in the range [0, n - 1]."
   ]
  },
  {
   "cell_type": "code",
   "execution_count": 1,
   "id": "0213e67b",
   "metadata": {},
   "outputs": [
    {
     "name": "stdout",
     "output_type": "stream",
     "text": [
      "True\n",
      "False\n"
     ]
    }
   ],
   "source": [
    "def isIdealPermutation(nums):\n",
    "    local_inversions = sum(nums[i] > nums[i + 1] for i in range(len(nums) - 1))\n",
    "    global_inversions = 0\n",
    "\n",
    "    for i in range(len(nums)):\n",
    "        for j in range(i + 1, len(nums)):\n",
    "            if nums[i] > nums[j]:\n",
    "                global_inversions += 1\n",
    "\n",
    "    return local_inversions == global_inversions\n",
    "\n",
    "# Test cases\n",
    "print(isIdealPermutation([1, 0, 2]))  # Output: True\n",
    "print(isIdealPermutation([1, 2, 0]))  # Output: False"
   ]
  },
  {
   "cell_type": "code",
   "execution_count": null,
   "id": "4331c911",
   "metadata": {},
   "outputs": [],
   "source": []
  }
 ],
 "metadata": {
  "kernelspec": {
   "display_name": "Python 3",
   "language": "python",
   "name": "python3"
  },
  "language_info": {
   "codemirror_mode": {
    "name": "ipython",
    "version": 3
   },
   "file_extension": ".py",
   "mimetype": "text/x-python",
   "name": "python",
   "nbconvert_exporter": "python",
   "pygments_lexer": "ipython3",
   "version": "3.9.13"
  }
 },
 "nbformat": 4,
 "nbformat_minor": 5
}
