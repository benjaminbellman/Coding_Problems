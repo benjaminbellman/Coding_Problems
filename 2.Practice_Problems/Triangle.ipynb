{
 "cells": [
  {
   "cell_type": "markdown",
   "id": "50a3af40",
   "metadata": {},
   "source": [
    "# Triangle"
   ]
  },
  {
   "cell_type": "markdown",
   "id": "822ee7c1",
   "metadata": {},
   "source": [
    "Given a triangle array, return the minimum path sum from top to bottom.\n",
    "\n",
    "For each step, you may move to an adjacent number of the row below. More formally, if you are on index i on the current row, you may move to either index i or index i + 1 on the next row.\n",
    "\n",
    "**Example 1:**\n",
    "\n",
    "Input: triangle = [[2],[3,4],[6,5,7],[4,1,8,3]]\n",
    "Output: 11\n",
    "Explanation: The triangle looks like:\n",
    "   2\n",
    "  3 4\n",
    " 6 5 7\n",
    "4 1 8 3\n",
    "The minimum path sum from top to bottom is 2 + 3 + 5 + 1 = 11 (underlined above).\n",
    "\n",
    "**Example 2:**\n",
    "\n",
    "Input: triangle = [[-10]]\n",
    "Output: -10\n",
    " \n",
    "**Constraints:**\n",
    "\n",
    "- 1 <= triangle.length <= 200\n",
    "- triangle[0].length == 1\n",
    "- triangle[i].length == triangle[i - 1].length + 1\n",
    "- -104 <= triangle[i][j] <= 104"
   ]
  },
  {
   "cell_type": "code",
   "execution_count": 1,
   "id": "6c044e19",
   "metadata": {},
   "outputs": [],
   "source": [
    "def minimumTotal(triangle):\n",
    "    # Work from the second-last row up to the top\n",
    "    for i in range(len(triangle) - 2, -1, -1):\n",
    "        for j in range(i + 1):\n",
    "            triangle[i][j] += min(triangle[i + 1][j], triangle[i + 1][j + 1])\n",
    "    return triangle[0][0]"
   ]
  },
  {
   "cell_type": "code",
   "execution_count": null,
   "id": "28af189c",
   "metadata": {},
   "outputs": [],
   "source": []
  }
 ],
 "metadata": {
  "kernelspec": {
   "display_name": "Python 3 (ipykernel)",
   "language": "python",
   "name": "python3"
  },
  "language_info": {
   "codemirror_mode": {
    "name": "ipython",
    "version": 3
   },
   "file_extension": ".py",
   "mimetype": "text/x-python",
   "name": "python",
   "nbconvert_exporter": "python",
   "pygments_lexer": "ipython3",
   "version": "3.8.11"
  }
 },
 "nbformat": 4,
 "nbformat_minor": 5
}
