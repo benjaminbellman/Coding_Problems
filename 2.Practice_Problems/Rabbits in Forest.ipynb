{
 "cells": [
  {
   "cell_type": "markdown",
   "id": "8f879784",
   "metadata": {},
   "source": [
    "# Rabbits in Forest"
   ]
  },
  {
   "cell_type": "markdown",
   "id": "e3e96e65",
   "metadata": {},
   "source": [
    "There is a forest with an unknown number of rabbits. We asked n rabbits \"How many rabbits have the same color as you?\" and collected the answers in an integer array answers where answers[i] is the answer of the ith rabbit.\n",
    "\n",
    "Given the array answers, return the minimum number of rabbits that could be in the forest.\n",
    "\n",
    " \n",
    "\n",
    "**Example 1:**\n",
    "\n",
    "Input: answers = [1,1,2]\n",
    "\n",
    "Output: 5\n",
    "Explanation:\n",
    "The two rabbits that answered \"1\" could both be the same color, say red.\n",
    "The rabbit that answered \"2\" can't be red or the answers would be inconsistent.\n",
    "Say the rabbit that answered \"2\" was blue.\n",
    "Then there should be 2 other blue rabbits in the forest that didn't answer into the array.\n",
    "The smallest possible number of rabbits in the forest is therefore 5: 3 that answered plus 2 that didn't.\n",
    "\n",
    "**Example 2:**\n",
    "\n",
    "Input: answers = [10,10,10]\n",
    "\n",
    "Output: 11\n",
    " \n",
    "\n",
    "**Constraints:**\n",
    "\n",
    "- 1 <= answers.length <= 1000\n",
    "- 0 <= answers[i] < 1000"
   ]
  },
  {
   "cell_type": "code",
   "execution_count": 1,
   "id": "ffd48919",
   "metadata": {},
   "outputs": [
    {
     "name": "stdout",
     "output_type": "stream",
     "text": [
      "7\n",
      "12\n"
     ]
    }
   ],
   "source": [
    "def min_rabbits(answers):\n",
    "    count = {}\n",
    "    for ans in answers:\n",
    "        count[ans + 1] = count.get(ans + 1, 0) + 1  # Increment count for each answer by 1\n",
    "    rabbits = sum((ans + count[ans]) // (ans + 1) * (ans + 1) for ans in count)\n",
    "    return rabbits\n",
    "\n",
    "# Example usage:\n",
    "answers1 = [1, 1, 2]\n",
    "print(min_rabbits(answers1))  # Output: 5\n",
    "\n",
    "answers2 = [10, 10, 10]\n",
    "print(min_rabbits(answers2))  # Output: 11"
   ]
  },
  {
   "cell_type": "code",
   "execution_count": null,
   "id": "093433d6",
   "metadata": {},
   "outputs": [],
   "source": []
  }
 ],
 "metadata": {
  "kernelspec": {
   "display_name": "Python 3",
   "language": "python",
   "name": "python3"
  },
  "language_info": {
   "codemirror_mode": {
    "name": "ipython",
    "version": 3
   },
   "file_extension": ".py",
   "mimetype": "text/x-python",
   "name": "python",
   "nbconvert_exporter": "python",
   "pygments_lexer": "ipython3",
   "version": "3.9.13"
  }
 },
 "nbformat": 4,
 "nbformat_minor": 5
}
