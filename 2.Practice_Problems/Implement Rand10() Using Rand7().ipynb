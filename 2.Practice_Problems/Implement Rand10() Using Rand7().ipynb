{
 "cells": [
  {
   "cell_type": "markdown",
   "id": "c46206e5",
   "metadata": {},
   "source": [
    "# Implement Rand10() Using Rand7()"
   ]
  },
  {
   "cell_type": "markdown",
   "id": "d0f86b5c",
   "metadata": {},
   "source": [
    "Given the API rand7() that generates a uniform random integer in the range [1, 7], write a function rand10() that generates a uniform random integer in the range [1, 10]. You can only call the API rand7(), and you shouldn't call any other API. Please do not use a language's built-in random API.\n",
    "\n",
    "Each test case will have one internal argument n, the number of times that your implemented function rand10() will be called while testing. Note that this is not an argument passed to rand10().\n",
    "\n",
    " \n",
    "\n",
    "**Example 1:**\n",
    "\n",
    "Input: n = 1\n",
    "Output: [2]\n",
    "\n",
    "**Example 2:**\n",
    "\n",
    "Input: n = 2\n",
    "Output: [2,8]\n",
    "\n",
    "**Example 3:**\n",
    "\n",
    "Input: n = 3\n",
    "Output: [3,8,10]\n",
    " \n",
    "\n",
    "**Constraints:**\n",
    "\n",
    "- 1 <= n <= 105"
   ]
  },
  {
   "cell_type": "code",
   "execution_count": 1,
   "id": "622de333",
   "metadata": {},
   "outputs": [],
   "source": [
    "def rand7():\n",
    "    # This is the given rand7() API function.\n",
    "    pass\n",
    "\n",
    "def rand10():\n",
    "    while True:\n",
    "        # Generate a random number in the range [1, 49]\n",
    "        num = (rand7() - 1) * 7 + rand7()\n",
    "        \n",
    "        # Reject numbers outside the range [1, 40]\n",
    "        if num <= 40:\n",
    "            return 1 + (num - 1) % 10"
   ]
  },
  {
   "cell_type": "code",
   "execution_count": 7,
   "id": "a578fda4",
   "metadata": {},
   "outputs": [],
   "source": [
    "rand7()"
   ]
  },
  {
   "cell_type": "code",
   "execution_count": null,
   "id": "d677b4ee",
   "metadata": {},
   "outputs": [],
   "source": []
  }
 ],
 "metadata": {
  "kernelspec": {
   "display_name": "Python 3",
   "language": "python",
   "name": "python3"
  },
  "language_info": {
   "codemirror_mode": {
    "name": "ipython",
    "version": 3
   },
   "file_extension": ".py",
   "mimetype": "text/x-python",
   "name": "python",
   "nbconvert_exporter": "python",
   "pygments_lexer": "ipython3",
   "version": "3.9.13"
  }
 },
 "nbformat": 4,
 "nbformat_minor": 5
}
