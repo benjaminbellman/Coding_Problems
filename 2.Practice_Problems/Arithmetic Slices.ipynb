{
 "cells": [
  {
   "cell_type": "markdown",
   "id": "226726fb",
   "metadata": {},
   "source": [
    "# Arithmetic Slices"
   ]
  },
  {
   "cell_type": "markdown",
   "id": "9db627bd",
   "metadata": {},
   "source": [
    "An integer array is called arithmetic if it consists of at least three elements and if the difference between any two consecutive elements is the same.\n",
    "\n",
    "For example, [1,3,5,7,9], [7,7,7,7], and [3,-1,-5,-9] are arithmetic sequences.\n",
    "Given an integer array nums, return the number of arithmetic subarrays of nums.\n",
    "\n",
    "A subarray is a contiguous subsequence of the array.\n",
    "\n",
    " \n",
    "\n",
    "**Example 1:**\n",
    "\n",
    "Input: nums = [1,2,3,4]\n",
    "Output: 3\n",
    "Explanation: We have 3 arithmetic slices in nums: [1, 2, 3], [2, 3, 4] and [1,2,3,4] itself.\n",
    "\n",
    "**Example 2:**\n",
    "\n",
    "Input: nums = [1]\n",
    "Output: 0\n",
    " \n",
    "\n",
    "**Constraints:**\n",
    "\n",
    "1 <= nums.length <= 5000\n",
    "-1000 <= nums[i] <= 1000"
   ]
  },
  {
   "cell_type": "code",
   "execution_count": 1,
   "id": "08a800c7",
   "metadata": {},
   "outputs": [
    {
     "name": "stdout",
     "output_type": "stream",
     "text": [
      "3\n",
      "0\n"
     ]
    }
   ],
   "source": [
    "def numberOfArithmeticSlices(nums):\n",
    "    n = len(nums)\n",
    "    count = 0\n",
    "\n",
    "    for i in range(n - 2):\n",
    "        diff = nums[i + 1] - nums[i]\n",
    "        for j in range(i + 2, n):\n",
    "            if nums[j] - nums[j - 1] == diff:\n",
    "                count += 1\n",
    "            else:\n",
    "                break\n",
    "\n",
    "    return count\n",
    "\n",
    "\n",
    "# Testing the code with the provided examples\n",
    "\n",
    "nums1 = [1, 2, 3, 4]\n",
    "print(numberOfArithmeticSlices(nums1))  # Output: 3\n",
    "\n",
    "nums2 = [1]\n",
    "print(numberOfArithmeticSlices(nums2))  # Output: 0"
   ]
  },
  {
   "cell_type": "code",
   "execution_count": null,
   "id": "1227eaef",
   "metadata": {},
   "outputs": [],
   "source": []
  }
 ],
 "metadata": {
  "kernelspec": {
   "display_name": "Python 3",
   "language": "python",
   "name": "python3"
  },
  "language_info": {
   "codemirror_mode": {
    "name": "ipython",
    "version": 3
   },
   "file_extension": ".py",
   "mimetype": "text/x-python",
   "name": "python",
   "nbconvert_exporter": "python",
   "pygments_lexer": "ipython3",
   "version": "3.9.13"
  }
 },
 "nbformat": 4,
 "nbformat_minor": 5
}
