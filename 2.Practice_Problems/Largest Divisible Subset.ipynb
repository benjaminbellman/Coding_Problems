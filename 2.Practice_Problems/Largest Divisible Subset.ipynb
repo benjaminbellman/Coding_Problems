{
 "cells": [
  {
   "cell_type": "markdown",
   "id": "46345f65",
   "metadata": {},
   "source": [
    "# Largest Divisible Subset"
   ]
  },
  {
   "cell_type": "markdown",
   "id": "ac2485ca",
   "metadata": {},
   "source": [
    "Given a set of distinct positive integers nums, return the largest subset answer such that every pair (answer[i], answer[j]) of elements in this subset satisfies:\n",
    "\n",
    "answer[i] % answer[j] == 0, or\n",
    "answer[j] % answer[i] == 0\n",
    "If there are multiple solutions, return any of them.\n",
    "\n",
    " \n",
    "\n",
    "**Example 1:**\n",
    "\n",
    "Input: nums = [1,2,3]\n",
    "Output: [1,2]\n",
    "Explanation: [1,3] is also accepted.\n",
    "\n",
    "**Example 2:**\n",
    "\n",
    "Input: nums = [1,2,4,8]\n",
    "Output: [1,2,4,8]\n",
    " \n",
    "\n",
    "**Constraints:**\n",
    "\n",
    "1 <= nums.length <= 1000\n",
    "1 <= nums[i] <= 2 * 109\n",
    "All the integers in nums are unique."
   ]
  },
  {
   "cell_type": "code",
   "execution_count": 1,
   "id": "6b8fe96e",
   "metadata": {},
   "outputs": [
    {
     "name": "stdout",
     "output_type": "stream",
     "text": [
      "[1, 2]\n",
      "[1, 2, 4, 8]\n"
     ]
    }
   ],
   "source": [
    "def largestDivisibleSubset(nums):\n",
    "    nums.sort()\n",
    "    n = len(nums)\n",
    "    dp = [1] * n\n",
    "    prev = [-1] * n\n",
    "    max_len, max_idx = 0, 0\n",
    "    \n",
    "    for i in range(n):\n",
    "        for j in range(i):\n",
    "            if nums[i] % nums[j] == 0 and dp[j] + 1 > dp[i]:\n",
    "                dp[i] = dp[j] + 1\n",
    "                prev[i] = j\n",
    "        \n",
    "        if dp[i] > max_len:\n",
    "            max_len = dp[i]\n",
    "            max_idx = i\n",
    "    \n",
    "    result = []\n",
    "    while max_idx != -1:\n",
    "        result.append(nums[max_idx])\n",
    "        max_idx = prev[max_idx]\n",
    "    \n",
    "    return result[::-1]\n",
    "\n",
    "# Testing the code with example inputs\n",
    "nums1 = [1, 2, 3]\n",
    "print(largestDivisibleSubset(nums1))  # Output: [1, 2] or [1, 3]\n",
    "\n",
    "nums2 = [1, 2, 4, 8]\n",
    "print(largestDivisibleSubset(nums2))  # Output: [1, 2, 4, 8]"
   ]
  }
 ],
 "metadata": {
  "kernelspec": {
   "display_name": "Python 3",
   "language": "python",
   "name": "python3"
  },
  "language_info": {
   "codemirror_mode": {
    "name": "ipython",
    "version": 3
   },
   "file_extension": ".py",
   "mimetype": "text/x-python",
   "name": "python",
   "nbconvert_exporter": "python",
   "pygments_lexer": "ipython3",
   "version": "3.9.13"
  }
 },
 "nbformat": 4,
 "nbformat_minor": 5
}
