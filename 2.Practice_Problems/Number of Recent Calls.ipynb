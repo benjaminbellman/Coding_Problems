{
 "cells": [
  {
   "cell_type": "markdown",
   "id": "2ad74108",
   "metadata": {},
   "source": [
    "# Number of Recent Calls"
   ]
  },
  {
   "cell_type": "markdown",
   "id": "11184594",
   "metadata": {},
   "source": [
    "You have a RecentCounter class which counts the number of recent requests within a certain time frame.\n",
    "\n",
    "Implement the RecentCounter class:\n",
    "\n",
    "- RecentCounter() Initializes the counter with zero recent requests.\n",
    "- int ping(int t) Adds a new request at time t, where t represents some time in milliseconds, and returns the number of requests that has happened in the past 3000 milliseconds (including the new request). Specifically, return the number of requests that have happened in the inclusive range [t - 3000, t].\n",
    "\n",
    "It is guaranteed that every call to ping uses a strictly larger value of t than the previous call.\n",
    "\n",
    " \n",
    "\n",
    "**Example 1:**\n",
    "\n",
    "Input\n",
    "[\"RecentCounter\", \"ping\", \"ping\", \"ping\", \"ping\"]\n",
    "[[], [1], [100], [3001], [3002]]\n",
    "Output\n",
    "[null, 1, 2, 3, 3]\n",
    "\n",
    "Explanation\n",
    "RecentCounter recentCounter = new RecentCounter();\n",
    "recentCounter.ping(1);     // requests = [1], range is [-2999,1], return 1\n",
    "recentCounter.ping(100);   // requests = [1, 100], range is [-2900,100], return 2\n",
    "recentCounter.ping(3001);  // requests = [1, 100, 3001], range is [1,3001], return 3\n",
    "recentCounter.ping(3002);  // requests = [1, 100, 3001, 3002], range is [2,3002], return 3\n",
    " \n",
    "\n",
    "**Constraints:**\n",
    "\n",
    "- 1 <= t <= 109\n",
    "- Each test case will call ping with strictly increasing values of t.\n",
    "- At most 104 calls will be made to ping."
   ]
  },
  {
   "cell_type": "code",
   "execution_count": 1,
   "id": "a077da34",
   "metadata": {},
   "outputs": [],
   "source": [
    "from collections import deque\n",
    "\n",
    "class RecentCounter:\n",
    "\n",
    "    def __init__(self):\n",
    "        # Initialize a queue to store timestamps of the requests\n",
    "        self.requests = deque()\n",
    "\n",
    "    def ping(self, t: int) -> int:\n",
    "        # Add the new request timestamp to the queue\n",
    "        self.requests.append(t)\n",
    "        \n",
    "        # Remove timestamps that are older than t - 3000\n",
    "        while self.requests and self.requests[0] < t - 3000:\n",
    "            self.requests.popleft()\n",
    "        \n",
    "        # The size of the queue is the number of valid requests in the last 3000 ms\n",
    "        return len(self.requests)"
   ]
  },
  {
   "cell_type": "code",
   "execution_count": 2,
   "id": "cd392f85",
   "metadata": {},
   "outputs": [
    {
     "name": "stdout",
     "output_type": "stream",
     "text": [
      "1\n",
      "2\n",
      "3\n",
      "3\n"
     ]
    }
   ],
   "source": [
    "# Initialize the RecentCounter\n",
    "recentCounter = RecentCounter()\n",
    "\n",
    "# Example pings\n",
    "print(recentCounter.ping(1))    # requests = [1], return 1\n",
    "print(recentCounter.ping(100))  # requests = [1, 100], return 2\n",
    "print(recentCounter.ping(3001)) # requests = [1, 100, 3001], return 3\n",
    "print(recentCounter.ping(3002)) # requests = [100, 3001, 3002], return 3"
   ]
  },
  {
   "cell_type": "code",
   "execution_count": null,
   "id": "b3953791",
   "metadata": {},
   "outputs": [],
   "source": []
  }
 ],
 "metadata": {
  "kernelspec": {
   "display_name": "Python 3 (ipykernel)",
   "language": "python",
   "name": "python3"
  },
  "language_info": {
   "codemirror_mode": {
    "name": "ipython",
    "version": 3
   },
   "file_extension": ".py",
   "mimetype": "text/x-python",
   "name": "python",
   "nbconvert_exporter": "python",
   "pygments_lexer": "ipython3",
   "version": "3.8.11"
  }
 },
 "nbformat": 4,
 "nbformat_minor": 5
}
