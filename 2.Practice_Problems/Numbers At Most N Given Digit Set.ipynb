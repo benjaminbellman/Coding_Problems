{
 "cells": [
  {
   "cell_type": "markdown",
   "id": "854bc2e0",
   "metadata": {},
   "source": [
    "# Numbers At Most N Given Digit Set"
   ]
  },
  {
   "cell_type": "markdown",
   "id": "c99dbb8b",
   "metadata": {},
   "source": [
    "Given an array of digits which is sorted in non-decreasing order. You can write numbers using each digits[i] as many times as we want. For example, if digits = ['1','3','5'], we may write numbers such as '13', '551', and '1351315'.\n",
    "\n",
    "Return the number of positive integers that can be generated that are less than or equal to a given integer n.\n",
    "\n",
    "**Example 1:**\n",
    "\n",
    "    Input: digits = [\"1\",\"3\",\"5\",\"7\"], n = 100\n",
    "    Output: 20\n",
    "    Explanation: \n",
    "    The 20 numbers that can be written are:\n",
    "    1, 3, 5, 7, 11, 13, 15, 17, 31, 33, 35, 37, 51, 53, 55, 57, 71, 73, 75, 77.\n",
    "\n",
    "**Example 2:**\n",
    "\n",
    "    Input: digits = [\"1\",\"4\",\"9\"], n = 1000000000\n",
    "    Output: 29523\n",
    "    Explanation: \n",
    "    We can write 3 one digit numbers, 9 two digit numbers, 27 three digit numbers,\n",
    "    81 four digit numbers, 243 five digit numbers, 729 six digit numbers,\n",
    "    2187 seven digit numbers, 6561 eight digit numbers, and 19683 nine digit numbers.\n",
    "    In total, this is 29523 integers that can be written using the digits array.\n",
    "\n",
    "**Example 3:**\n",
    "\n",
    "Input: digits = [\"7\"], n = 8\n",
    "Output: 1\n",
    " \n",
    "**Constraints:**\n",
    "\n",
    "- 1 <= digits.length <= 9\n",
    "- digits[i].length == 1\n",
    "- digits[i] is a digit from '1' to '9'.\n",
    "- All the values in digits are unique.\n",
    "- digits is sorted in non-decreasing order.\n",
    "- 1 <= n <= 109"
   ]
  },
  {
   "cell_type": "code",
   "execution_count": 1,
   "id": "7d3809a0",
   "metadata": {},
   "outputs": [
    {
     "name": "stdout",
     "output_type": "stream",
     "text": [
      "20\n",
      "29523\n",
      "1\n"
     ]
    }
   ],
   "source": [
    "def atMostNG(digits, n):\n",
    "    digits = sorted(set(digits))  # Ensure digits are unique and sorted\n",
    "    s = str(n)\n",
    "    k = len(s)\n",
    "    \n",
    "    def countNumbersWithLength(length):\n",
    "        return len(digits) ** length\n",
    "    \n",
    "    def dfs(index, is_tight):\n",
    "        if index == len(s):\n",
    "            return 1\n",
    "        \n",
    "        limit = s[index] if is_tight else '9'\n",
    "        count = 0\n",
    "        \n",
    "        for d in digits:\n",
    "            if d > limit:\n",
    "                break\n",
    "            count += dfs(index + 1, is_tight and d == limit)\n",
    "        \n",
    "        return count\n",
    "    \n",
    "    # Count numbers with fewer digits than n\n",
    "    total_count = sum(countNumbersWithLength(length) for length in range(1, k))\n",
    "    \n",
    "    # Count numbers with exactly the same number of digits as n\n",
    "    total_count += dfs(0, True)\n",
    "    \n",
    "    return total_count\n",
    "\n",
    "# Example Usage\n",
    "digits1 = [\"1\", \"3\", \"5\", \"7\"]\n",
    "n1 = 100\n",
    "print(atMostNG(digits1, n1))  # Output: 20\n",
    "\n",
    "digits2 = [\"1\", \"4\", \"9\"]\n",
    "n2 = 1000000000\n",
    "print(atMostNG(digits2, n2))  # Output: 29523\n",
    "\n",
    "digits3 = [\"7\"]\n",
    "n3 = 8\n",
    "print(atMostNG(digits3, n3))  # Output: 1"
   ]
  },
  {
   "cell_type": "code",
   "execution_count": null,
   "id": "03c0f374",
   "metadata": {},
   "outputs": [],
   "source": []
  }
 ],
 "metadata": {
  "kernelspec": {
   "display_name": "Python 3 (ipykernel)",
   "language": "python",
   "name": "python3"
  },
  "language_info": {
   "codemirror_mode": {
    "name": "ipython",
    "version": 3
   },
   "file_extension": ".py",
   "mimetype": "text/x-python",
   "name": "python",
   "nbconvert_exporter": "python",
   "pygments_lexer": "ipython3",
   "version": "3.8.11"
  }
 },
 "nbformat": 4,
 "nbformat_minor": 5
}
