{
 "cells": [
  {
   "cell_type": "markdown",
   "id": "5479a708",
   "metadata": {},
   "source": [
    "# Reaching Points"
   ]
  },
  {
   "cell_type": "markdown",
   "id": "a50dff08",
   "metadata": {},
   "source": [
    "Given four integers sx, sy, tx, and ty, return true if it is possible to convert the point (sx, sy) to the point (tx, ty) through some operations, or false otherwise.\n",
    "\n",
    "The allowed operation on some point (x, y) is to convert it to either (x, x + y) or (x + y, y).\n",
    "\n",
    " \n",
    "\n",
    "**Example 1:**\n",
    "\n",
    "Input: sx = 1, sy = 1, tx = 3, ty = 5\n",
    "\n",
    "Output: true\n",
    "Explanation:\n",
    "One series of moves that transforms the starting point to the target is:\n",
    "(1, 1) -> (1, 2)\n",
    "(1, 2) -> (3, 2)\n",
    "(3, 2) -> (3, 5)\n",
    "\n",
    "**Example 2:**\n",
    "\n",
    "Input: sx = 1, sy = 1, tx = 2, ty = 2\n",
    "Output: false\n",
    "\n",
    "**Example 3:**\n",
    "\n",
    "Input: sx = 1, sy = 1, tx = 1, ty = 1\n",
    "\n",
    "Output: true\n",
    " \n",
    "\n",
    "**Constraints:**\n",
    "\n",
    "- 1 <= sx, sy, tx, ty <= 109"
   ]
  },
  {
   "cell_type": "code",
   "execution_count": 1,
   "id": "ed3101d1",
   "metadata": {},
   "outputs": [
    {
     "name": "stdout",
     "output_type": "stream",
     "text": [
      "True\n",
      "False\n",
      "True\n"
     ]
    }
   ],
   "source": [
    "def canConvert(sx, sy, tx, ty):\n",
    "    if sx == tx and sy == ty:\n",
    "        return True\n",
    "    if sx > tx or sy > ty:\n",
    "        return False\n",
    "    return canConvert(sx, sx + sy, tx, ty) or canConvert(sx + sy, sy, tx, ty)\n",
    "\n",
    "# Test cases\n",
    "print(canConvert(1, 1, 3, 5))  # Output: True\n",
    "print(canConvert(1, 1, 2, 2))  # Output: False\n",
    "print(canConvert(1, 1, 1, 1))  # Output: True"
   ]
  },
  {
   "cell_type": "code",
   "execution_count": null,
   "id": "9393c679",
   "metadata": {},
   "outputs": [],
   "source": []
  }
 ],
 "metadata": {
  "kernelspec": {
   "display_name": "Python 3",
   "language": "python",
   "name": "python3"
  },
  "language_info": {
   "codemirror_mode": {
    "name": "ipython",
    "version": 3
   },
   "file_extension": ".py",
   "mimetype": "text/x-python",
   "name": "python",
   "nbconvert_exporter": "python",
   "pygments_lexer": "ipython3",
   "version": "3.9.13"
  }
 },
 "nbformat": 4,
 "nbformat_minor": 5
}
