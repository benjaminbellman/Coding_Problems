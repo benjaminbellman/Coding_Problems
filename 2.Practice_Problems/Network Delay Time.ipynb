{
 "cells": [
  {
   "cell_type": "markdown",
   "id": "78bb7a4a",
   "metadata": {},
   "source": [
    "# Network Delay Time"
   ]
  },
  {
   "attachments": {
    "image.png": {
     "image/png": "[encoded data removed]"
    }
   },
   "cell_type": "markdown",
   "id": "a40f0da4",
   "metadata": {},
   "source": [
    "You are given a network of n nodes, labeled from 1 to n. You are also given times, a list of travel times as directed edges times[i] = (ui, vi, wi), where ui is the source node, vi is the target node, and wi is the time it takes for a signal to travel from source to target.\n",
    "\n",
    "We will send a signal from a given node k. Return the minimum time it takes for all the n nodes to receive the signal. If it is impossible for all the n nodes to receive the signal, return -1.\n",
    "\n",
    " \n",
    "\n",
    "**Example 1:**\n",
    "\n",
    "![image.png](attachment:image.png)\n",
    "\n",
    "Input: times = [[2,1,1],[2,3,1],[3,4,1]], n = 4, k = 2\n",
    "\n",
    "Output: 2\n",
    "\n",
    "**xample 2:**\n",
    "\n",
    "Input: times = [[1,2,1]], n = 2, k = 1\n",
    "\n",
    "Output: 1\n",
    "\n",
    "**Example 3:**\n",
    "\n",
    "Input: times = [[1,2,1]], n = 2, k = 2\n",
    "Output: -1\n",
    " \n",
    "\n",
    "**Constraints:**\n",
    "\n",
    "- 1 <= k <= n <= 100\n",
    "- 1 <= times.length <= 6000\n",
    "- times[i].length == 3\n",
    "- 1 <= ui, vi <= n\n",
    "- ui != vi\n",
    "- 0 <= wi <= 100\n",
    "- All the pairs (ui, vi) are unique. (i.e., no multiple edges.)"
   ]
  },
  {
   "cell_type": "code",
   "execution_count": 1,
   "id": "ea97de8e",
   "metadata": {},
   "outputs": [
    {
     "name": "stdout",
     "output_type": "stream",
     "text": [
      "2\n",
      "1\n",
      "-1\n"
     ]
    }
   ],
   "source": [
    "import heapq\n",
    "\n",
    "def network_delay_times(times, n, k):\n",
    "    # Create a dictionary to store the graph\n",
    "    graph = {}\n",
    "    for u, v, w in times:\n",
    "        if u not in graph:\n",
    "            graph[u] = []\n",
    "        graph[u].append((v, w))\n",
    "\n",
    "    # Initialize distances with infinity\n",
    "    distances = {node: float('inf') for node in range(1, n+1)}\n",
    "    distances[k] = 0  # Distance from source node to itself is 0\n",
    "\n",
    "    # Use a priority queue (min heap) to track nodes with their distances\n",
    "    pq = [(0, k)]\n",
    "\n",
    "    while pq:\n",
    "        distance, node = heapq.heappop(pq)\n",
    "        if distance > distances[node]:\n",
    "            continue  # Skip if a shorter distance to this node has been found\n",
    "        if node in graph:\n",
    "            for neighbor, edge_weight in graph[node]:\n",
    "                new_distance = distance + edge_weight\n",
    "                if new_distance < distances[neighbor]:\n",
    "                    distances[neighbor] = new_distance\n",
    "                    heapq.heappush(pq, (new_distance, neighbor))\n",
    "\n",
    "    # Check if all nodes have been reached\n",
    "    max_distance = max(distances.values())\n",
    "    return max_distance if max_distance < float('inf') else -1\n",
    "\n",
    "# Example usage:\n",
    "times1 = [[2, 1, 1], [2, 3, 1], [3, 4, 1]]\n",
    "n1 = 4\n",
    "k1 = 2\n",
    "print(network_delay_times(times1, n1, k1))  # Output: 2\n",
    "\n",
    "times2 = [[1, 2, 1]]\n",
    "n2 = 2\n",
    "k2 = 1\n",
    "print(network_delay_times(times2, n2, k2))  # Output: 1\n",
    "\n",
    "times3 = [[1, 2, 1]]\n",
    "n3 = 2\n",
    "k3 = 2\n",
    "print(network_delay_times(times3, n3, k3))  # Output: -1"
   ]
  },
  {
   "cell_type": "code",
   "execution_count": null,
   "id": "248579f3",
   "metadata": {},
   "outputs": [],
   "source": []
  }
 ],
 "metadata": {
  "kernelspec": {
   "display_name": "Python 3",
   "language": "python",
   "name": "python3"
  },
  "language_info": {
   "codemirror_mode": {
    "name": "ipython",
    "version": 3
   },
   "file_extension": ".py",
   "mimetype": "text/x-python",
   "name": "python",
   "nbconvert_exporter": "python",
   "pygments_lexer": "ipython3",
   "version": "3.9.13"
  }
 },
 "nbformat": 4,
 "nbformat_minor": 5
}
