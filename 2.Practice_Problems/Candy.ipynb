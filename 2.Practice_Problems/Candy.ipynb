{
 "cells": [
  {
   "cell_type": "markdown",
   "id": "5cd4eeae",
   "metadata": {},
   "source": [
    "# Candy"
   ]
  },
  {
   "cell_type": "markdown",
   "id": "ac778a33",
   "metadata": {},
   "source": [
    "There are n children standing in a line. Each child is assigned a rating value given in the integer array ratings.\n",
    "\n",
    "You are giving candies to these children subjected to the following requirements:\n",
    "\n",
    "Each child must have at least one candy.\n",
    "Children with a higher rating get more candies than their neighbors.\n",
    "Return the minimum number of candies you need to have to distribute the candies to the children.\n",
    "\n",
    "**Example 1:**\n",
    "\n",
    "Input: ratings = [1,0,2]\n",
    "Output: 5\n",
    "Explanation: You can allocate to the first, second and third child with 2, 1, 2 candies respectively.\n",
    "\n",
    "**Example 2:**\n",
    "\n",
    "Input: ratings = [1,2,2]\n",
    "Output: 4\n",
    "Explanation: You can allocate to the first, second and third child with 1, 2, 1 candies respectively.\n",
    "The third child gets 1 candy because it satisfies the above two conditions.\n",
    " \n",
    "**Constraints:**\n",
    "\n",
    "- n == ratings.length\n",
    "- 1 <= n <= 2 * 104\n",
    "- 0 <= ratings[i] <= 2 * 104"
   ]
  },
  {
   "cell_type": "code",
   "execution_count": 1,
   "id": "1ae7bf9a",
   "metadata": {},
   "outputs": [],
   "source": [
    "def candy(ratings):\n",
    "    n = len(ratings)\n",
    "    candies = [1] * n\n",
    "\n",
    "    # left to right\n",
    "    for i in range(1, n):\n",
    "        if ratings[i] > ratings[i-1]:\n",
    "            candies[i] = candies[i-1] + 1\n",
    "\n",
    "    # right to left\n",
    "    for i in range(n-2, -1, -1):\n",
    "        if ratings[i] > ratings[i+1]:\n",
    "            candies[i] = max(candies[i], candies[i+1] + 1)\n",
    "\n",
    "    return sum(candies)"
   ]
  },
  {
   "cell_type": "code",
   "execution_count": null,
   "id": "077e3272",
   "metadata": {},
   "outputs": [],
   "source": []
  }
 ],
 "metadata": {
  "kernelspec": {
   "display_name": "Python 3 (ipykernel)",
   "language": "python",
   "name": "python3"
  },
  "language_info": {
   "codemirror_mode": {
    "name": "ipython",
    "version": 3
   },
   "file_extension": ".py",
   "mimetype": "text/x-python",
   "name": "python",
   "nbconvert_exporter": "python",
   "pygments_lexer": "ipython3",
   "version": "3.8.11"
  }
 },
 "nbformat": 4,
 "nbformat_minor": 5
}
