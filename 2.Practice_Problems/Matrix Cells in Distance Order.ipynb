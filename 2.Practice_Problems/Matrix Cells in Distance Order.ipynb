{
 "cells": [
  {
   "cell_type": "markdown",
   "id": "44484b71",
   "metadata": {},
   "source": [
    "# Matrix Cells in Distance Order"
   ]
  },
  {
   "cell_type": "markdown",
   "id": "07762ea3",
   "metadata": {},
   "source": [
    "You are given four integers row, cols, rCenter, and cCenter. There is a rows x cols matrix and you are on the cell with the coordinates (rCenter, cCenter).\n",
    "\n",
    "Return the coordinates of all cells in the matrix, sorted by their distance from (rCenter, cCenter) from the smallest distance to the largest distance. You may return the answer in any order that satisfies this condition.\n",
    "\n",
    "The distance between two cells (r1, c1) and (r2, c2) is |r1 - r2| + |c1 - c2|.\n",
    "\n",
    "**Example 1:**\n",
    "\n",
    "Input: rows = 1, cols = 2, rCenter = 0, cCenter = 0\n",
    "Output: [[0,0],[0,1]]\n",
    "Explanation: The distances from (0, 0) to other cells are: [0,1]\n",
    "\n",
    "**Example 2:**\n",
    "\n",
    "Input: rows = 2, cols = 2, rCenter = 0, cCenter = 1\n",
    "Output: [[0,1],[0,0],[1,1],[1,0]]\n",
    "Explanation: The distances from (0, 1) to other cells are: [0,1,1,2]\n",
    "The answer [[0,1],[1,1],[0,0],[1,0]] would also be accepted as correct.\n",
    "\n",
    "**Example 3:**\n",
    "\n",
    "Input: rows = 2, cols = 3, rCenter = 1, cCenter = 2\n",
    "Output: [[1,2],[0,2],[1,1],[0,1],[1,0],[0,0]]\n",
    "Explanation: The distances from (1, 2) to other cells are: [0,1,1,2,2,3]\n",
    "There are other answers that would also be accepted as correct, such as [[1,2],[1,1],[0,2],[1,0],[0,1],[0,0]].\n",
    " \n",
    "**onstraints:**\n",
    "\n",
    "- 1 <= rows, cols <= 100\n",
    "- 0 <= rCenter < rows\n",
    "- 0 <= cCenter < cols"
   ]
  },
  {
   "cell_type": "code",
   "execution_count": 1,
   "id": "be3ea40f",
   "metadata": {},
   "outputs": [
    {
     "name": "stdout",
     "output_type": "stream",
     "text": [
      "[[0, 0], [0, 1]]\n",
      "[[0, 1], [0, 0], [1, 1], [1, 0]]\n",
      "[[1, 2], [0, 2], [1, 1], [0, 1], [1, 0], [0, 0]]\n"
     ]
    }
   ],
   "source": [
    "def all_cells_distance_order(rows, cols, rCenter, cCenter):\n",
    "    cells = []\n",
    "    \n",
    "    # Gather all cells and their distances\n",
    "    for r in range(rows):\n",
    "        for c in range(cols):\n",
    "            dist = abs(r - rCenter) + abs(c - cCenter)\n",
    "            cells.append((dist, r, c))\n",
    "    \n",
    "    # Sort by distance\n",
    "    cells.sort(key=lambda x: x[0])\n",
    "    \n",
    "    # Extract coordinates from sorted list\n",
    "    return [[r, c] for _, r, c in cells]\n",
    "\n",
    "\n",
    "# Example usage:\n",
    "print(all_cells_distance_order(1, 2, 0, 0))  # [[0,0],[0,1]]\n",
    "print(all_cells_distance_order(2, 2, 0, 1))  # [[0,1],[0,0],[1,1],[1,0]]\n",
    "print(all_cells_distance_order(2, 3, 1, 2))  # [[1,2],[0,2],[1,1],[0,1],[1,0],[0,0]]"
   ]
  },
  {
   "cell_type": "code",
   "execution_count": null,
   "id": "aa6e5889",
   "metadata": {},
   "outputs": [],
   "source": []
  }
 ],
 "metadata": {
  "kernelspec": {
   "display_name": "Python 3 (ipykernel)",
   "language": "python",
   "name": "python3"
  },
  "language_info": {
   "codemirror_mode": {
    "name": "ipython",
    "version": 3
   },
   "file_extension": ".py",
   "mimetype": "text/x-python",
   "name": "python",
   "nbconvert_exporter": "python",
   "pygments_lexer": "ipython3",
   "version": "3.8.11"
  }
 },
 "nbformat": 4,
 "nbformat_minor": 5
}
