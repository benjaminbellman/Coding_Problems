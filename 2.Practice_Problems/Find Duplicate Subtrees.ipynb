{
 "cells": [
  {
   "cell_type": "markdown",
   "id": "8807af58",
   "metadata": {},
   "source": [
    "# Find Duplicate Subtrees"
   ]
  },
  {
   "cell_type": "markdown",
   "id": "1808aff7",
   "metadata": {},
   "source": [
    "Given the root of a binary tree, return all duplicate subtrees.\n",
    "\n",
    "For each kind of duplicate subtrees, you only need to return the root node of any one of them.\n",
    "\n",
    "Two trees are duplicate if they have the same structure with the same node values.\n",
    "\n",
    " \n",
    "\n",
    "**Example 1:**\n",
    "\n",
    "\n",
    "Input: root = [1,2,3,4,null,2,4,null,null,4]\n",
    "\n",
    "Output: [[2,4],[4]]\n",
    "\n",
    "**Example 2:**\n",
    "\n",
    "\n",
    "Input: root = [2,1,1]\n",
    "\n",
    "Output: [[1]]\n",
    "\n",
    "**Example 3:**\n",
    "\n",
    "\n",
    "Input: root = [2,2,2,3,null,3,null]\n",
    "\n",
    "Output: [[2,3],[3]]\n",
    " \n",
    "\n",
    "**Constraints:**\n",
    "\n",
    "- The number of the nodes in the tree will be in the range [1, 5000]\n",
    "- -200 <= Node.val <= 200"
   ]
  },
  {
   "cell_type": "code",
   "execution_count": 1,
   "id": "1b2ba9c0",
   "metadata": {},
   "outputs": [
    {
     "name": "stdout",
     "output_type": "stream",
     "text": [
      "4\n",
      "2\n"
     ]
    }
   ],
   "source": [
    "class TreeNode:\n",
    "    def __init__(self, val=0, left=None, right=None):\n",
    "        self.val = val\n",
    "        self.left = left\n",
    "        self.right = right\n",
    "\n",
    "def findDuplicateSubtrees(root):\n",
    "    def serialize(node):\n",
    "        if not node:\n",
    "            return \"#\"\n",
    "        serial = str(node.val) + \",\" + serialize(node.left) + \",\" + serialize(node.right)\n",
    "        if serial in serial_map:\n",
    "            serial_map[serial].append(node)\n",
    "        else:\n",
    "            serial_map[serial] = [node]\n",
    "        return serial\n",
    "\n",
    "    serial_map = {}\n",
    "    result = []\n",
    "\n",
    "    serialize(root)\n",
    "    \n",
    "    for serial, subtrees in serial_map.items():\n",
    "        if len(subtrees) > 1:\n",
    "            result.append(subtrees[0])  # Adding the root node of any one of the duplicate subtrees\n",
    "\n",
    "    return result\n",
    "\n",
    "# Example usage:\n",
    "# Construct the binary tree\n",
    "root1 = TreeNode(1)\n",
    "root1.left = TreeNode(2)\n",
    "root1.right = TreeNode(3)\n",
    "root1.left.left = TreeNode(4)\n",
    "root1.right.left = TreeNode(2)\n",
    "root1.right.right = TreeNode(4)\n",
    "root1.right.left.left = TreeNode(4)\n",
    "\n",
    "result = findDuplicateSubtrees(root1)\n",
    "for node in result:\n",
    "    print(node.val)  # Output: 2 and 4"
   ]
  }
 ],
 "metadata": {
  "kernelspec": {
   "display_name": "Python 3",
   "language": "python",
   "name": "python3"
  },
  "language_info": {
   "codemirror_mode": {
    "name": "ipython",
    "version": 3
   },
   "file_extension": ".py",
   "mimetype": "text/x-python",
   "name": "python",
   "nbconvert_exporter": "python",
   "pygments_lexer": "ipython3",
   "version": "3.9.13"
  }
 },
 "nbformat": 4,
 "nbformat_minor": 5
}
