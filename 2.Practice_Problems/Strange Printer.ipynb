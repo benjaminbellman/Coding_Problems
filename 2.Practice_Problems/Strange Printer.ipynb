{
 "cells": [
  {
   "cell_type": "markdown",
   "id": "bef12696",
   "metadata": {},
   "source": [
    "# Strange Printer"
   ]
  },
  {
   "cell_type": "markdown",
   "id": "5cadd341",
   "metadata": {},
   "source": [
    "There is a strange printer with the following two special properties:\n",
    "\n",
    "The printer can only print a sequence of the same character each time.\n",
    "At each turn, the printer can print new characters starting from and ending at any place and will cover the original existing characters.\n",
    "Given a string s, return the minimum number of turns the printer needed to print it.\n",
    "\n",
    " \n",
    "\n",
    "**Example 1:**\n",
    "\n",
    "Input: s = \"aaabbb\"\n",
    "\n",
    "Output: 2\n",
    "Explanation: Print \"aaa\" first and then print \"bbb\".\n",
    "\n",
    "**Example 2:**\n",
    "\n",
    "Input: s = \"aba\"\n",
    "\n",
    "Output: 2\n",
    "Explanation: Print \"aaa\" first and then print \"b\" from the second place of the string, which will cover the existing character 'a'.\n",
    " \n",
    "\n",
    "**Constraints:**\n",
    "\n",
    "- 1 <= s.length <= 100\n",
    "- s consists of lowercase English letters."
   ]
  },
  {
   "cell_type": "code",
   "execution_count": 1,
   "id": "727ba767",
   "metadata": {},
   "outputs": [
    {
     "name": "stdout",
     "output_type": "stream",
     "text": [
      "2\n",
      "2\n"
     ]
    }
   ],
   "source": [
    "def minTurnsToPrint(s):\n",
    "    n = len(s)\n",
    "    \n",
    "    # Initialize a 2D DP array to store the minimum turns for each substring.\n",
    "    dp = [[0] * n for _ in range(n)]\n",
    "    \n",
    "    for length in range(1, n + 1):\n",
    "        for i in range(n - length + 1):\n",
    "            j = i + length - 1\n",
    "            \n",
    "            # Initialize with one more than the previous substring.\n",
    "            dp[i][j] = dp[i][j - 1] + 1\n",
    "            \n",
    "            for k in range(i, j):\n",
    "                if s[k] == s[j]:\n",
    "                    dp[i][j] = min(dp[i][j], dp[i][k] + dp[k + 1][j - 1])\n",
    "    \n",
    "    return dp[0][n - 1]\n",
    "\n",
    "# Example usage:\n",
    "s1 = \"aaabbb\"\n",
    "print(minTurnsToPrint(s1))  # Output: 2\n",
    "\n",
    "s2 = \"aba\"\n",
    "print(minTurnsToPrint(s2))  # Output: 2"
   ]
  },
  {
   "cell_type": "code",
   "execution_count": null,
   "id": "eb8b6d6f",
   "metadata": {},
   "outputs": [],
   "source": []
  }
 ],
 "metadata": {
  "kernelspec": {
   "display_name": "Python 3",
   "language": "python",
   "name": "python3"
  },
  "language_info": {
   "codemirror_mode": {
    "name": "ipython",
    "version": 3
   },
   "file_extension": ".py",
   "mimetype": "text/x-python",
   "name": "python",
   "nbconvert_exporter": "python",
   "pygments_lexer": "ipython3",
   "version": "3.9.13"
  }
 },
 "nbformat": 4,
 "nbformat_minor": 5
}
