{
 "cells": [
  {
   "cell_type": "markdown",
   "id": "fb4b0862",
   "metadata": {},
   "source": [
    "# Generate Parentheses 2"
   ]
  },
  {
   "cell_type": "markdown",
   "id": "cc1941f1",
   "metadata": {},
   "source": [
    "Given n pairs of parentheses, write a function to generate all combinations of well-formed parentheses.\n",
    "\n",
    "**Example 1:**\n",
    "\n",
    "Input: n = 3\n",
    "Output: [\"((()))\",\"(()())\",\"(())()\",\"()(())\",\"()()()\"]\n",
    "\n",
    "**Example 2:**\n",
    "\n",
    "Input: n = 1\n",
    "Output: [\"()\"]\n",
    " \n",
    "**Constraints:**\n",
    "\n",
    "- 1 <= n <= 8"
   ]
  },
  {
   "cell_type": "code",
   "execution_count": 1,
   "id": "8643f479",
   "metadata": {},
   "outputs": [],
   "source": [
    "def generate_parenthesis(n):\n",
    "    result = []\n",
    "\n",
    "    def backtrack(current, open_count, close_count):\n",
    "        if len(current) == 2 * n:\n",
    "            result.append(current)\n",
    "            return\n",
    "        if open_count < n:\n",
    "            backtrack(current + '(', open_count + 1, close_count)\n",
    "        if close_count < open_count:\n",
    "            backtrack(current + ')', open_count, close_count + 1)\n",
    "\n",
    "    backtrack(\"\", 0, 0)\n",
    "    return result"
   ]
  },
  {
   "cell_type": "code",
   "execution_count": 2,
   "id": "c7ddc60c",
   "metadata": {},
   "outputs": [
    {
     "name": "stdout",
     "output_type": "stream",
     "text": [
      "['((()))', '(()())', '(())()', '()(())', '()()()']\n"
     ]
    }
   ],
   "source": [
    "print(generate_parenthesis(3))\n",
    "# Output: ['((()))', '(()())', '(())()', '()(())', '()()()']"
   ]
  },
  {
   "cell_type": "code",
   "execution_count": null,
   "id": "9cd2f5a9",
   "metadata": {},
   "outputs": [],
   "source": []
  }
 ],
 "metadata": {
  "kernelspec": {
   "display_name": "Python 3 (ipykernel)",
   "language": "python",
   "name": "python3"
  },
  "language_info": {
   "codemirror_mode": {
    "name": "ipython",
    "version": 3
   },
   "file_extension": ".py",
   "mimetype": "text/x-python",
   "name": "python",
   "nbconvert_exporter": "python",
   "pygments_lexer": "ipython3",
   "version": "3.8.11"
  }
 },
 "nbformat": 4,
 "nbformat_minor": 5
}
