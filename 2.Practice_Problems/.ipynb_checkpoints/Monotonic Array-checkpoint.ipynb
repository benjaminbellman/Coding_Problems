{
 "cells": [
  {
   "cell_type": "markdown",
   "id": "b0b12b8b",
   "metadata": {},
   "source": [
    "# Monotonic Array"
   ]
  },
  {
   "attachments": {},
   "cell_type": "markdown",
   "id": "6932e8b6",
   "metadata": {},
   "source": [
    "An array is monotonic if it is either monotone increasing or monotone decreasing.\n",
    "\n",
    "An array nums is monotone increasing if for all i <= j, nums[i] <= nums[j]. An array nums is monotone decreasing if for all i <= j, nums[i] >= nums[j].\n",
    "\n",
    "Given an integer array nums, return true if the given array is monotonic, or false otherwise.\n",
    "\n",
    "**Example 1:**\n",
    "\n",
    "Input: nums = [1,2,2,3]\n",
    "Output: true\n",
    "\n",
    "**Example 2:**\n",
    "\n",
    "Input: nums = [6,5,4,4]\n",
    "Output: true\n",
    "\n",
    "**Example 3:**\n",
    "\n",
    "Input: nums = [1,3,2]\n",
    "Output: false\n",
    "\n",
    "**Constraints:**\n",
    "\n",
    "- 1 <= nums.length <= 105\n",
    "- -105 <= nums[i] <= 105"
   ]
  },
  {
   "cell_type": "code",
   "execution_count": 1,
   "id": "feba51eb",
   "metadata": {},
   "outputs": [],
   "source": [
    "def isMonotonic(nums):\n",
    "    increasing = decreasing = True\n",
    "    \n",
    "    for i in range(1, len(nums)):\n",
    "        if nums[i] > nums[i - 1]:\n",
    "            decreasing = False\n",
    "        if nums[i] < nums[i - 1]:\n",
    "            increasing = False\n",
    "    \n",
    "    return increasing or decreasing"
   ]
  },
  {
   "cell_type": "code",
   "execution_count": 2,
   "id": "f5d3bfff",
   "metadata": {},
   "outputs": [
    {
     "name": "stdout",
     "output_type": "stream",
     "text": [
      "True\n",
      "True\n",
      "False\n"
     ]
    }
   ],
   "source": [
    "print(isMonotonic([1, 2, 2, 3]))  # Output: True\n",
    "print(isMonotonic([6, 5, 4, 4]))  # Output: True\n",
    "print(isMonotonic([1, 3, 2]))     # Output: False"
   ]
  },
  {
   "cell_type": "code",
   "execution_count": null,
   "id": "172549eb",
   "metadata": {},
   "outputs": [],
   "source": []
  }
 ],
 "metadata": {
  "kernelspec": {
   "display_name": "Python 3 (ipykernel)",
   "language": "python",
   "name": "python3"
  },
  "language_info": {
   "codemirror_mode": {
    "name": "ipython",
    "version": 3
   },
   "file_extension": ".py",
   "mimetype": "text/x-python",
   "name": "python",
   "nbconvert_exporter": "python",
   "pygments_lexer": "ipython3",
   "version": "3.8.11"
  }
 },
 "nbformat": 4,
 "nbformat_minor": 5
}
