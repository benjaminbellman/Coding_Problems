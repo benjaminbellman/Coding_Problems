{
 "cells": [
  {
   "cell_type": "markdown",
   "id": "8ddbaf1b",
   "metadata": {},
   "source": [
    "# Max Consecutive Ones"
   ]
  },
  {
   "cell_type": "markdown",
   "id": "f6bbf9d1",
   "metadata": {},
   "source": [
    "Given a binary array nums, return the maximum number of consecutive 1's in the array.\n",
    "\n",
    " \n",
    "\n",
    "**Example 1:**\n",
    "\n",
    "Input: nums = [1,1,0,1,1,1]\n",
    "Output: 3\n",
    "Explanation: The first two digits or the last three digits are consecutive 1s. The maximum number of consecutive 1s is 3.\n",
    "\n",
    "**Example 2:**\n",
    "\n",
    "Input: nums = [1,0,1,1,0,1]\n",
    "Output: 2\n",
    " \n",
    "\n",
    "**Constraints:**\n",
    "\n",
    "- 1 <= nums.length <= 105\n",
    "- nums[i] is either 0 or 1."
   ]
  },
  {
   "cell_type": "code",
   "execution_count": 1,
   "id": "e6c871be",
   "metadata": {},
   "outputs": [
    {
     "name": "stdout",
     "output_type": "stream",
     "text": [
      "3\n",
      "2\n"
     ]
    }
   ],
   "source": [
    "def findMaxConsecutiveOnes(nums):\n",
    "    max_streak = 0\n",
    "    current_streak = 0\n",
    "    \n",
    "    for num in nums:\n",
    "        if num == 1:\n",
    "            current_streak += 1\n",
    "            max_streak = max(max_streak, current_streak)\n",
    "        else:\n",
    "            current_streak = 0\n",
    "            \n",
    "    return max_streak\n",
    "\n",
    "# Example 1\n",
    "nums1 = [1, 1, 0, 1, 1, 1]\n",
    "print(findMaxConsecutiveOnes(nums1))  # Output should be 3\n",
    "\n",
    "# Example 2\n",
    "nums2 = [1, 0, 1, 1, 0, 1]\n",
    "print(findMaxConsecutiveOnes(nums2))  # Output should be 2"
   ]
  },
  {
   "cell_type": "code",
   "execution_count": null,
   "id": "89b4994b",
   "metadata": {},
   "outputs": [],
   "source": []
  }
 ],
 "metadata": {
  "kernelspec": {
   "display_name": "Python 3",
   "language": "python",
   "name": "python3"
  },
  "language_info": {
   "codemirror_mode": {
    "name": "ipython",
    "version": 3
   },
   "file_extension": ".py",
   "mimetype": "text/x-python",
   "name": "python",
   "nbconvert_exporter": "python",
   "pygments_lexer": "ipython3",
   "version": "3.9.13"
  }
 },
 "nbformat": 4,
 "nbformat_minor": 5
}
