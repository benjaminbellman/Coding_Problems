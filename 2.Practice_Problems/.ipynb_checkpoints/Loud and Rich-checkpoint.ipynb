{
 "cells": [
  {
   "cell_type": "markdown",
   "id": "e44c9d1b",
   "metadata": {},
   "source": [
    "# Loud and Rich"
   ]
  },
  {
   "cell_type": "markdown",
   "id": "e510e6b1",
   "metadata": {},
   "source": [
    "There is a group of n people labeled from 0 to n - 1 where each person has a different amount of money and a different level of quietness.\n",
    "\n",
    "You are given an array richer where richer[i] = [ai, bi] indicates that ai has more money than bi and an integer array quiet where quiet[i] is the quietness of the ith person. All the given data in richer are logically correct (i.e., the data will not lead you to a situation where x is richer than y and y is richer than x at the same time).\n",
    "\n",
    "Return an integer array answer where answer[x] = y if y is the least quiet person (that is, the person y with the smallest value of quiet[y]) among all people who definitely have equal to or more money than the person x.\n",
    "\n",
    " \n",
    "\n",
    "**Example 1:**\n",
    "\n",
    "Input: richer = [[1,0],[2,1],[3,1],[3,7],[4,3],[5,3],[6,3]], quiet = [3,2,5,4,6,1,7,0]\n",
    "Output: [5,5,2,5,4,5,6,7]\n",
    "Explanation: \n",
    "answer[0] = 5.\n",
    "Person 5 has more money than 3, which has more money than 1, which has more money than 0.\n",
    "The only person who is quieter (has lower quiet[x]) is person 7, but it is not clear if they have more money than person 0.\n",
    "answer[7] = 7.\n",
    "Among all people that definitely have equal to or more money than person 7 (which could be persons 3, 4, 5, 6, or 7), the person who is the quietest (has lower quiet[x]) is person 7.\n",
    "The other answers can be filled out with similar reasoning.\n",
    "\n",
    "**Example 2:**\n",
    "\n",
    "Input: richer = [], quiet = [0]\n",
    "Output: [0]\n",
    " \n",
    "\n",
    "**Constraints:**\n",
    "\n",
    "- n == quiet.length\n",
    "- 1 <= n <= 500\n",
    "- 0 <= quiet[i] < n\n",
    "- All the values of quiet are unique.\n",
    "- 0 <= richer.length <= n * (n - 1) / 2\n",
    "- 0 <= ai, bi < n\n",
    "- ai != bi\n",
    "- All the pairs of richer are unique.\n",
    "- The observations in richer are all logically consistent."
   ]
  },
  {
   "cell_type": "code",
   "execution_count": 1,
   "id": "12a057a3",
   "metadata": {},
   "outputs": [
    {
     "name": "stdout",
     "output_type": "stream",
     "text": [
      "[7, 7, 7, 7, 7, 7, 7, 7]\n"
     ]
    }
   ],
   "source": [
    "def loudAndRich(richer, quiet):\n",
    "    n = len(quiet)\n",
    "    if n == 0:\n",
    "        return []\n",
    "\n",
    "    # Step 1: Build the graph\n",
    "    from collections import defaultdict, deque\n",
    "    \n",
    "    graph = defaultdict(list)\n",
    "    indegree = [0] * n\n",
    "    \n",
    "    for a, b in richer:\n",
    "        graph[b].append(a)\n",
    "        indegree[a] += 1\n",
    "    \n",
    "    # Step 2: Topological Sort\n",
    "    queue = deque()\n",
    "    for i in range(n):\n",
    "        if indegree[i] == 0:\n",
    "            queue.append(i)\n",
    "    \n",
    "    topological_order = []\n",
    "    while queue:\n",
    "        node = queue.popleft()\n",
    "        topological_order.append(node)\n",
    "        for neighbor in graph[node]:\n",
    "            indegree[neighbor] -= 1\n",
    "            if indegree[neighbor] == 0:\n",
    "                queue.append(neighbor)\n",
    "    \n",
    "    # Step 3: Find the quietest person for each person\n",
    "    answer = [-1] * n\n",
    "    quietest_person = quiet.index(min(quiet))  # Start with the quietest person overall\n",
    "    \n",
    "    for person in topological_order:\n",
    "        answer[person] = quietest_person\n",
    "        if quiet[person] < quiet[quietest_person]:\n",
    "            quietest_person = person\n",
    "    \n",
    "    return answer\n",
    "\n",
    "# Example usage:\n",
    "richer = [[1,0],[2,1],[3,1],[3,7],[4,3],[5,3],[6,3]]\n",
    "quiet = [3,2,5,4,6,1,7,0]\n",
    "print(loudAndRich(richer, quiet))  # Output: [5,5,2"
   ]
  },
  {
   "cell_type": "code",
   "execution_count": null,
   "id": "6d3b6333",
   "metadata": {},
   "outputs": [],
   "source": []
  }
 ],
 "metadata": {
  "kernelspec": {
   "display_name": "Python 3 (ipykernel)",
   "language": "python",
   "name": "python3"
  },
  "language_info": {
   "codemirror_mode": {
    "name": "ipython",
    "version": 3
   },
   "file_extension": ".py",
   "mimetype": "text/x-python",
   "name": "python",
   "nbconvert_exporter": "python",
   "pygments_lexer": "ipython3",
   "version": "3.8.11"
  }
 },
 "nbformat": 4,
 "nbformat_minor": 5
}
