{
 "cells": [
  {
   "cell_type": "markdown",
   "id": "66c676d4",
   "metadata": {},
   "source": [
    "# Find Mode in Binary Search Tree"
   ]
  },
  {
   "cell_type": "markdown",
   "id": "cb448af6",
   "metadata": {},
   "source": [
    "Given the root of a binary search tree (BST) with duplicates, return all the mode(s) (i.e., the most frequently occurred element) in it.\n",
    "\n",
    "If the tree has more than one mode, return them in any order.\n",
    "\n",
    "Assume a BST is defined as follows:\n",
    "\n",
    "The left subtree of a node contains only nodes with keys less than or equal to the node's key.\n",
    "The right subtree of a node contains only nodes with keys greater than or equal to the node's key.\n",
    "Both the left and right subtrees must also be binary search trees.\n",
    " \n",
    "\n",
    "**Example 1:**\n",
    "\n",
    "\n",
    "Input: root = [1,null,2,2]\n",
    "Output: [2]\n",
    "\n",
    "**Example 2:**\n",
    "\n",
    "Input: root = [0]\n",
    "Output: [0]\n",
    " \n",
    "\n",
    "**Constraints:**\n",
    "\n",
    "- The number of nodes in the tree is in the range [1, 104].\n",
    "- -105 <= Node.val <= 105"
   ]
  },
  {
   "cell_type": "code",
   "execution_count": 1,
   "id": "f57e9ed7",
   "metadata": {},
   "outputs": [],
   "source": [
    "from typing import List\n",
    "\n",
    "class TreeNode:\n",
    "    def __init__(self, val=0, left=None, right=None):\n",
    "        self.val = val\n",
    "        self.left = left\n",
    "        self.right = right"
   ]
  },
  {
   "cell_type": "code",
   "execution_count": 2,
   "id": "2ac12224",
   "metadata": {},
   "outputs": [],
   "source": [
    "# Definition for a binary tree node.\n",
    "# class TreeNode:\n",
    "#     def __init__(self, val=0, left=None, right=None):\n",
    "#         self.val = val\n",
    "#         self.left = left\n",
    "#         self.right = right\n",
    "\n",
    "class Solution:\n",
    "    def findMode(self, root: TreeNode) -> List[int]:\n",
    "        # Dictionary to store the frequency of each element\n",
    "        count = {}\n",
    "        # Variable to store the maximum frequency\n",
    "        max_count = 0\n",
    "        # List to store the mode(s)\n",
    "        modes = []\n",
    "        \n",
    "        # Helper function for in-order traversal\n",
    "        def in_order_traversal(node):\n",
    "            nonlocal max_count\n",
    "            if node is None:\n",
    "                return\n",
    "            in_order_traversal(node.left)\n",
    "            \n",
    "            # Update the count for this element\n",
    "            if node.val in count:\n",
    "                count[node.val] += 1\n",
    "            else:\n",
    "                count[node.val] = 1\n",
    "            \n",
    "            # Update max_count if necessary\n",
    "            max_count = max(max_count, count[node.val])\n",
    "            \n",
    "            in_order_traversal(node.right)\n",
    "        \n",
    "        # Perform the in-order traversal\n",
    "        in_order_traversal(root)\n",
    "        \n",
    "        # Find the mode(s)\n",
    "        for key, value in count.items():\n",
    "            if value == max_count:\n",
    "                modes.append(key)\n",
    "        \n",
    "        return modes"
   ]
  },
  {
   "cell_type": "code",
   "execution_count": null,
   "id": "eb9f7f8f",
   "metadata": {},
   "outputs": [],
   "source": []
  }
 ],
 "metadata": {
  "kernelspec": {
   "display_name": "Python 3",
   "language": "python",
   "name": "python3"
  },
  "language_info": {
   "codemirror_mode": {
    "name": "ipython",
    "version": 3
   },
   "file_extension": ".py",
   "mimetype": "text/x-python",
   "name": "python",
   "nbconvert_exporter": "python",
   "pygments_lexer": "ipython3",
   "version": "3.9.13"
  }
 },
 "nbformat": 4,
 "nbformat_minor": 5
}
