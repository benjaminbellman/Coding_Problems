{
 "cells": [
  {
   "cell_type": "markdown",
   "id": "dd3ed968",
   "metadata": {},
   "source": [
    "# Height Checker"
   ]
  },
  {
   "cell_type": "markdown",
   "id": "fa00078d",
   "metadata": {},
   "source": [
    "A school is trying to take an annual photo of all the students. The students are asked to stand in a single file line in non-decreasing order by height. Let this ordering be represented by the integer array expected where expected[i] is the expected height of the ith student in line.\n",
    "\n",
    "You are given an integer array heights representing the current order that the students are standing in. Each heights[i] is the height of the ith student in line (0-indexed).\n",
    "\n",
    "Return the number of indices where heights[i] != expected[i].\n",
    "\n",
    "**Example 1:**\n",
    "\n",
    "Input: heights = [1,1,4,2,1,3]\n",
    "Output: 3\n",
    "Explanation: \n",
    "heights:  [1,1,4,2,1,3]\n",
    "expected: [1,1,1,2,3,4]\n",
    "Indices 2, 4, and 5 do not match.\n",
    "\n",
    "**Example 2:**\n",
    "\n",
    "Input: heights = [5,1,2,3,4]\n",
    "Output: 5\n",
    "Explanation:\n",
    "heights:  [5,1,2,3,4]\n",
    "expected: [1,2,3,4,5]\n",
    "All indices do not match.\n",
    "\n",
    "**Example 3:**\n",
    "\n",
    "Input: heights = [1,2,3,4,5]\n",
    "Output: 0\n",
    "Explanation:\n",
    "heights:  [1,2,3,4,5]\n",
    "expected: [1,2,3,4,5]\n",
    "All indices match.\n",
    " \n",
    "**Constraints:**\n",
    "\n",
    "- 1 <= heights.length <= 100\n",
    "- 1 <= heights[i] <= 100"
   ]
  },
  {
   "cell_type": "code",
   "execution_count": 1,
   "id": "07309881",
   "metadata": {},
   "outputs": [
    {
     "name": "stdout",
     "output_type": "stream",
     "text": [
      "3\n",
      "5\n",
      "0\n"
     ]
    }
   ],
   "source": [
    "def height_checker(heights):\n",
    "    # Create the expected sorted order of heights\n",
    "    expected = sorted(heights)\n",
    "    # Count indices where heights and expected don't match\n",
    "    return sum(1 for i in range(len(heights)) if heights[i] != expected[i])\n",
    "\n",
    "# Example usage\n",
    "heights1 = [1, 1, 4, 2, 1, 3]\n",
    "heights2 = [5, 1, 2, 3, 4]\n",
    "heights3 = [1, 2, 3, 4, 5]\n",
    "\n",
    "print(height_checker(heights1))  # Output: 3\n",
    "print(height_checker(heights2))  # Output: 5\n",
    "print(height_checker(heights3))  # Output: 0"
   ]
  },
  {
   "cell_type": "code",
   "execution_count": null,
   "id": "3325cee7",
   "metadata": {},
   "outputs": [],
   "source": []
  }
 ],
 "metadata": {
  "kernelspec": {
   "display_name": "Python 3 (ipykernel)",
   "language": "python",
   "name": "python3"
  },
  "language_info": {
   "codemirror_mode": {
    "name": "ipython",
    "version": 3
   },
   "file_extension": ".py",
   "mimetype": "text/x-python",
   "name": "python",
   "nbconvert_exporter": "python",
   "pygments_lexer": "ipython3",
   "version": "3.8.11"
  }
 },
 "nbformat": 4,
 "nbformat_minor": 5
}
