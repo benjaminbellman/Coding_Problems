{
 "cells": [
  {
   "cell_type": "markdown",
   "id": "8a0eaa0a",
   "metadata": {},
   "source": [
    "# Non-negative Integers without Consecutive Ones"
   ]
  },
  {
   "cell_type": "markdown",
   "id": "edf23920",
   "metadata": {},
   "source": [
    "Given a positive integer n, return the number of the integers in the range [0, n] whose binary representations do not contain consecutive ones.\n",
    "\n",
    " \n",
    "\n",
    "**Example 1:**\n",
    "\n",
    "Input: n = 5\n",
    "\n",
    "Output: 5\n",
    "Explanation:\n",
    "Here are the non-negative integers <= 5 with their corresponding binary representations:\n",
    "- 0 : 0\n",
    "- 1 : 1\n",
    "- 2 : 10\n",
    "- 3 : 11\n",
    "- 4 : 100\n",
    "- 5 : 101\n",
    "Among them, only integer 3 disobeys the rule (two consecutive ones) and the other 5 satisfy the rule. \n",
    "\n",
    "**Example 2:**\n",
    "\n",
    "Input: n = 1\n",
    "\n",
    "Output: 2\n",
    "\n",
    "**Example 3:**\n",
    "\n",
    "Input: n = 2\n",
    "\n",
    "Output: 3\n",
    " \n",
    "\n",
    "**Constraints:**\n",
    "\n",
    "- 1 <= n <= 109"
   ]
  },
  {
   "cell_type": "code",
   "execution_count": 2,
   "id": "7fd80672",
   "metadata": {},
   "outputs": [
    {
     "data": {
      "text/plain": [
       "(2, 1, 2)"
      ]
     },
     "execution_count": 2,
     "metadata": {},
     "output_type": "execute_result"
    }
   ],
   "source": [
    "def countIntegersWithoutConsecutiveOnes(n):\n",
    "    \"\"\"\n",
    "    Counts the number of integers in the range [0, n] whose binary representations do not contain consecutive ones.\n",
    "    \"\"\"\n",
    "    # Function to calculate the Fibonacci numbers up to n\n",
    "    def fib(n):\n",
    "        if n <= 1:\n",
    "            return n\n",
    "        a, b = 0, 1\n",
    "        for _ in range(2, n + 1):\n",
    "            a, b = b, a + b\n",
    "        return b\n",
    "\n",
    "    # Convert n to binary and pad with a leading zero for processing\n",
    "    binary_n = '0' + bin(n)[2:]\n",
    "    size = len(binary_n)\n",
    "\n",
    "    # Initialize Fibonacci numbers up to size\n",
    "    fibs = [fib(i) for i in range(size)]\n",
    "\n",
    "    # Count the numbers without consecutive ones\n",
    "    count, prev_bit = 0, '0'\n",
    "    for i in range(1, size):\n",
    "        if binary_n[i] == '1':\n",
    "            count += fibs[size - i - 1]\n",
    "            if prev_bit == '1':\n",
    "                break\n",
    "        prev_bit = binary_n[i]\n",
    "    else:\n",
    "        # Include n itself if it does not have consecutive ones\n",
    "        count += 1\n",
    "\n",
    "    return count\n",
    "\n",
    "# Test the function with the provided examples\n",
    "example1 = countIntegersWithoutConsecutiveOnes(5)\n",
    "example2 = countIntegersWithoutConsecutiveOnes(1)\n",
    "example3 = countIntegersWithoutConsecutiveOnes(2)\n",
    "\n",
    "example1, example2, example3"
   ]
  },
  {
   "cell_type": "code",
   "execution_count": null,
   "id": "01362108",
   "metadata": {},
   "outputs": [],
   "source": []
  }
 ],
 "metadata": {
  "kernelspec": {
   "display_name": "Python 3",
   "language": "python",
   "name": "python3"
  },
  "language_info": {
   "codemirror_mode": {
    "name": "ipython",
    "version": 3
   },
   "file_extension": ".py",
   "mimetype": "text/x-python",
   "name": "python",
   "nbconvert_exporter": "python",
   "pygments_lexer": "ipython3",
   "version": "3.9.13"
  }
 },
 "nbformat": 4,
 "nbformat_minor": 5
}
