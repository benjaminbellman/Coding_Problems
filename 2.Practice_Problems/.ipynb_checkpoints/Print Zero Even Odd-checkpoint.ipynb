{
 "cells": [
  {
   "cell_type": "markdown",
   "id": "ae27fda7",
   "metadata": {},
   "source": [
    "# Print Zero Even Odd"
   ]
  },
  {
   "cell_type": "markdown",
   "id": "33542920",
   "metadata": {},
   "source": [
    "You have a function printNumber that can be called with an integer parameter and prints it to the console.\n",
    "\n",
    "For example, calling printNumber(7) prints 7 to the console.\n",
    "You are given an instance of the class ZeroEvenOdd that has three functions: zero, even, and odd. The same instance of ZeroEvenOdd will be passed to three different threads:\n",
    "\n",
    "Thread A: calls zero() that should only output 0's.\n",
    "Thread B: calls even() that should only output even numbers.\n",
    "Thread C: calls odd() that should only output odd numbers.\n",
    "Modify the given class to output the series \"010203040506...\" where the length of the series must be 2n.\n",
    "\n",
    "Implement the ZeroEvenOdd class:\n",
    "\n",
    "ZeroEvenOdd(int n) Initializes the object with the number n that represents the numbers that should be printed.\n",
    "void zero(printNumber) Calls printNumber to output one zero.\n",
    "void even(printNumber) Calls printNumber to output one even number.\n",
    "void odd(printNumber) Calls printNumber to output one odd number.\n",
    " \n",
    "**Example 1:**\n",
    "\n",
    "Input: n = 2\n",
    "Output: \"0102\"\n",
    "Explanation: There are three threads being fired asynchronously.\n",
    "One of them calls zero(), the other calls even(), and the last one calls odd().\n",
    "\"0102\" is the correct output.\n",
    "\n",
    "**Example 2:**\n",
    "\n",
    "Input: n = 5\n",
    "Output: \"0102030405\"\n",
    "\n",
    "**Constraints:**\n",
    "\n",
    "- 1 <= n <= 1000"
   ]
  },
  {
   "cell_type": "code",
   "execution_count": 1,
   "id": "2b3984f3",
   "metadata": {},
   "outputs": [
    {
     "name": "stdout",
     "output_type": "stream",
     "text": [
      "0102030405"
     ]
    }
   ],
   "source": [
    "import threading\n",
    "\n",
    "class ZeroEvenOdd:\n",
    "    def __init__(self, n):\n",
    "        self.n = n\n",
    "        self.zero_lock = threading.Semaphore(1)  # Start with zero_lock available\n",
    "        self.even_lock = threading.Semaphore(0)  # Block even numbers initially\n",
    "        self.odd_lock = threading.Semaphore(0)   # Block odd numbers initially\n",
    "\n",
    "    def zero(self, printNumber):\n",
    "        for i in range(1, self.n + 1):\n",
    "            self.zero_lock.acquire()\n",
    "            printNumber(0)\n",
    "            if i % 2 == 0:\n",
    "                self.even_lock.release()\n",
    "            else:\n",
    "                self.odd_lock.release()\n",
    "\n",
    "    def even(self, printNumber):\n",
    "        for i in range(2, self.n + 1, 2):\n",
    "            self.even_lock.acquire()\n",
    "            printNumber(i)\n",
    "            self.zero_lock.release()\n",
    "\n",
    "    def odd(self, printNumber):\n",
    "        for i in range(1, self.n + 1, 2):\n",
    "            self.odd_lock.acquire()\n",
    "            printNumber(i)\n",
    "            self.zero_lock.release()\n",
    "\n",
    "# Helper function to test the implementation\n",
    "def printNumber(x):\n",
    "    print(x, end=\"\")\n",
    "\n",
    "# Example usage\n",
    "n = 5\n",
    "zeroEvenOdd = ZeroEvenOdd(n)\n",
    "\n",
    "threadA = threading.Thread(target=zeroEvenOdd.zero, args=(printNumber,))\n",
    "threadB = threading.Thread(target=zeroEvenOdd.even, args=(printNumber,))\n",
    "threadC = threading.Thread(target=zeroEvenOdd.odd, args=(printNumber,))\n",
    "\n",
    "threadA.start()\n",
    "threadB.start()\n",
    "threadC.start()\n",
    "\n",
    "threadA.join()\n",
    "threadB.join()\n",
    "threadC.join()"
   ]
  },
  {
   "cell_type": "code",
   "execution_count": null,
   "id": "8078cf3b",
   "metadata": {},
   "outputs": [],
   "source": []
  }
 ],
 "metadata": {
  "kernelspec": {
   "display_name": "Python 3 (ipykernel)",
   "language": "python",
   "name": "python3"
  },
  "language_info": {
   "codemirror_mode": {
    "name": "ipython",
    "version": 3
   },
   "file_extension": ".py",
   "mimetype": "text/x-python",
   "name": "python",
   "nbconvert_exporter": "python",
   "pygments_lexer": "ipython3",
   "version": "3.8.11"
  }
 },
 "nbformat": 4,
 "nbformat_minor": 5
}
