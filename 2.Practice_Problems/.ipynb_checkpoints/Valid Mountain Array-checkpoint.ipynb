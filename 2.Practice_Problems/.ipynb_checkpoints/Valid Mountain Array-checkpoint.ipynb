{
 "cells": [
  {
   "cell_type": "markdown",
   "id": "aa65eec2",
   "metadata": {},
   "source": [
    "# Valid Mountain Array"
   ]
  },
  {
   "cell_type": "markdown",
   "id": "2496abb6",
   "metadata": {},
   "source": [
    "Given an array of integers arr, return true if and only if it is a valid mountain array.\n",
    "\n",
    "Recall that arr is a mountain array if and only if:\n",
    "\n",
    "arr.length >= 3\n",
    "There exists some i with 0 < i < arr.length - 1 such that:\n",
    "arr[0] < arr[1] < ... < arr[i - 1] < arr[i] \n",
    "arr[i] > arr[i + 1] > ... > arr[arr.length - 1]\n",
    "\n",
    "**Example 1:**\n",
    "\n",
    "Input: arr = [2,1]\n",
    "Output: false\n",
    "\n",
    "**Example 2:**\n",
    "\n",
    "Input: arr = [3,5,5]\n",
    "Output: false\n",
    "\n",
    "**Example 3:**\n",
    "\n",
    "Input: arr = [0,3,2,1]\n",
    "Output: true\n",
    " \n",
    "\n",
    "**Constraints:**\n",
    "\n",
    "- 1 <= arr.length <= 104\n",
    "- 0 <= arr[i] <= 104"
   ]
  },
  {
   "cell_type": "code",
   "execution_count": 1,
   "id": "d3ba748d",
   "metadata": {},
   "outputs": [],
   "source": [
    "def validMountainArray(arr):\n",
    "    n = len(arr)\n",
    "    \n",
    "    if n < 3:\n",
    "        return False\n",
    "    \n",
    "    i = 0\n",
    "    \n",
    "    # Walk up the mountain\n",
    "    while i + 1 < n and arr[i] < arr[i + 1]:\n",
    "        i += 1\n",
    "    \n",
    "    # Peak can't be the first or last element\n",
    "    if i == 0 or i == n - 1:\n",
    "        return False\n",
    "    \n",
    "    # Walk down the mountain\n",
    "    while i + 1 < n and arr[i] > arr[i + 1]:\n",
    "        i += 1\n",
    "    \n",
    "    # If we've reached the end, it's a valid mountain array\n",
    "    return i == n - 1"
   ]
  }
 ],
 "metadata": {
  "kernelspec": {
   "display_name": "Python 3 (ipykernel)",
   "language": "python",
   "name": "python3"
  },
  "language_info": {
   "codemirror_mode": {
    "name": "ipython",
    "version": 3
   },
   "file_extension": ".py",
   "mimetype": "text/x-python",
   "name": "python",
   "nbconvert_exporter": "python",
   "pygments_lexer": "ipython3",
   "version": "3.8.11"
  }
 },
 "nbformat": 4,
 "nbformat_minor": 5
}
