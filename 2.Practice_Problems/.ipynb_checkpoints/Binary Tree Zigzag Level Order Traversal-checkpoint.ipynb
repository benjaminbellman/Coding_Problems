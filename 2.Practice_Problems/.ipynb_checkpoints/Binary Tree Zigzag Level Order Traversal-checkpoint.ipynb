{
 "cells": [
  {
   "cell_type": "markdown",
   "id": "d04a51af",
   "metadata": {},
   "source": [
    "# Binary Tree Zigzag Level Order Traversal"
   ]
  },
  {
   "cell_type": "markdown",
   "id": "5f2ca2e0",
   "metadata": {},
   "source": [
    "Given the root of a binary tree, return the zigzag level order traversal of its nodes' values. (i.e., from left to right, then right to left for the next level and alternate between).\n",
    "\n",
    " \n",
    "\n",
    "**Example 1:**\n",
    "\n",
    "\n",
    "Input: root = [3,9,20,null,null,15,7]\n",
    "Output: [[3],[20,9],[15,7]]\n",
    "\n",
    "**Example 2:**\n",
    "\n",
    "Input: root = [1]\n",
    "Output: [[1]]\n",
    "\n",
    "**Example 3:**\n",
    "\n",
    "Input: root = []\n",
    "Output: []\n",
    " \n",
    "\n",
    "**Constraints:**\n",
    "\n",
    "The number of nodes in the tree is in the range [0, 2000].\n",
    "-100 <= Node.val <= 100"
   ]
  },
  {
   "cell_type": "code",
   "execution_count": 3,
   "id": "9a382220",
   "metadata": {},
   "outputs": [],
   "source": [
    "# Definition for a binary tree node.\n",
    "class TreeNode:\n",
    "     def __init__(self, val=0, left=None, right=None):\n",
    "         self.val = val\n",
    "         self.left = left\n",
    "         self.right = right\n",
    "class Solution:\n",
    "    def zigzagLevelOrder(self, root: TreeNode) -> list[list[int]]:\n",
    "        if not root:\n",
    "            return []\n",
    "        \n",
    "        result, level = [], [root]\n",
    "        direction = 1\n",
    "        \n",
    "        while level:\n",
    "            current_level = []\n",
    "            next_level = []\n",
    "            for node in level:\n",
    "                current_level.append(node.val)\n",
    "                if node.left:\n",
    "                    next_level.append(node.left)\n",
    "                if node.right:\n",
    "                    next_level.append(node.right)\n",
    "            result.append(current_level[::direction])\n",
    "            direction *= -1\n",
    "            level = next_level\n",
    "        \n",
    "        return result"
   ]
  },
  {
   "cell_type": "code",
   "execution_count": 4,
   "id": "52e1813e",
   "metadata": {},
   "outputs": [
    {
     "name": "stdout",
     "output_type": "stream",
     "text": [
      "[[3], [20, 9], [15, 7]]\n",
      "[[1]]\n",
      "[]\n"
     ]
    }
   ],
   "source": [
    "# Example 1\n",
    "root = TreeNode(3, TreeNode(9), TreeNode(20, TreeNode(15), TreeNode(7)))\n",
    "result = Solution().zigzagLevelOrder(root)\n",
    "print(result) # Output: [[3],[20,9],[15,7]]\n",
    "\n",
    "# Example 2\n",
    "root = TreeNode(1)\n",
    "result = Solution().zigzagLevelOrder(root)\n",
    "print(result) # Output: [[1]]\n",
    "\n",
    "# Example 3\n",
    "root = None\n",
    "result = Solution().zigzagLevelOrder(root)\n",
    "print(result) # Output: []"
   ]
  },
  {
   "cell_type": "code",
   "execution_count": null,
   "id": "b9ed7cdb",
   "metadata": {},
   "outputs": [],
   "source": []
  }
 ],
 "metadata": {
  "kernelspec": {
   "display_name": "Python 3",
   "language": "python",
   "name": "python3"
  },
  "language_info": {
   "codemirror_mode": {
    "name": "ipython",
    "version": 3
   },
   "file_extension": ".py",
   "mimetype": "text/x-python",
   "name": "python",
   "nbconvert_exporter": "python",
   "pygments_lexer": "ipython3",
   "version": "3.9.13"
  }
 },
 "nbformat": 4,
 "nbformat_minor": 5
}
