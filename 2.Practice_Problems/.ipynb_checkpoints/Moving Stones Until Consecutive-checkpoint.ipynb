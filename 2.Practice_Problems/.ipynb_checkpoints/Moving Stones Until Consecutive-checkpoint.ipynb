{
 "cells": [
  {
   "cell_type": "markdown",
   "id": "33382c0b",
   "metadata": {},
   "source": [
    "# Moving Stones Until Consecutive"
   ]
  },
  {
   "cell_type": "markdown",
   "id": "cfe2e20b",
   "metadata": {},
   "source": [
    "There are three stones in different positions on the X-axis. You are given three integers a, b, and c, the positions of the stones.\n",
    "\n",
    "In one move, you pick up a stone at an endpoint (i.e., either the lowest or highest position stone), and move it to an unoccupied position between those endpoints. Formally, let's say the stones are currently at positions x, y, and z with x < y < z. You pick up the stone at either position x or position z, and move that stone to an integer position k, with x < k < z and k != y.\n",
    "\n",
    "The game ends when you cannot make any more moves (i.e., the stones are in three consecutive positions).\n",
    "\n",
    "Return an integer array answer of length 2 where:\n",
    "\n",
    "answer[0] is the minimum number of moves you can play, and\n",
    "answer[1] is the maximum number of moves you can play.\n",
    " \n",
    "**Example 1:**\n",
    "\n",
    "Input: a = 1, b = 2, c = 5\n",
    "Output: [1,2]\n",
    "Explanation: Move the stone from 5 to 3, or move the stone from 5 to 4 to 3.\n",
    "\n",
    "**Example 2:**\n",
    "\n",
    "Input: a = 4, b = 3, c = 2\n",
    "Output: [0,0]\n",
    "Explanation: We cannot make any moves.\n",
    "\n",
    "**Example 3:**\n",
    "\n",
    "Input: a = 3, b = 5, c = 1\n",
    "Output: [1,2]\n",
    "Explanation: Move the stone from 1 to 4; or move the stone from 1 to 2 to 4."
   ]
  },
  {
   "cell_type": "code",
   "execution_count": 1,
   "id": "6fd03310",
   "metadata": {},
   "outputs": [
    {
     "name": "stdout",
     "output_type": "stream",
     "text": [
      "[1, 2]\n",
      "[0, 0]\n",
      "[1, 2]\n"
     ]
    }
   ],
   "source": [
    "def num_moves(a: int, b: int, c: int) -> [int, int]:\n",
    "    # Sort the positions\n",
    "    x, y, z = sorted([a, b, c])\n",
    "    \n",
    "    # Check if already consecutive\n",
    "    if (y - x == 1) and (z - y == 1):\n",
    "        return [0, 0]\n",
    "    \n",
    "    # Calculate gaps\n",
    "    gap1 = y - x\n",
    "    gap2 = z - y\n",
    "    \n",
    "    # Determine minimum moves\n",
    "    if gap1 <= 2 or gap2 <= 2:\n",
    "        min_moves = 1\n",
    "    else:\n",
    "        min_moves = 2\n",
    "    \n",
    "    # Calculate maximum moves\n",
    "    max_moves = (z - x) - 2\n",
    "    \n",
    "    return [min_moves, max_moves]\n",
    "\n",
    "# Example usage:\n",
    "print(num_moves(1, 2, 5))  # Output: [1, 2]\n",
    "print(num_moves(4, 3, 2))  # Output: [0, 0]\n",
    "print(num_moves(3, 5, 1))  # Output: [1, 2]"
   ]
  }
 ],
 "metadata": {
  "kernelspec": {
   "display_name": "Python 3 (ipykernel)",
   "language": "python",
   "name": "python3"
  },
  "language_info": {
   "codemirror_mode": {
    "name": "ipython",
    "version": 3
   },
   "file_extension": ".py",
   "mimetype": "text/x-python",
   "name": "python",
   "nbconvert_exporter": "python",
   "pygments_lexer": "ipython3",
   "version": "3.8.11"
  }
 },
 "nbformat": 4,
 "nbformat_minor": 5
}
