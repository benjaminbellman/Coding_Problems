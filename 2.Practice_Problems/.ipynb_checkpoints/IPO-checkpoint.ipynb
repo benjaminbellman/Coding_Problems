{
 "cells": [
  {
   "cell_type": "markdown",
   "id": "06884b4a",
   "metadata": {},
   "source": [
    "# IPO"
   ]
  },
  {
   "cell_type": "markdown",
   "id": "288ad8af",
   "metadata": {},
   "source": [
    "Suppose LeetCode will start its IPO soon. In order to sell a good price of its shares to Venture Capital, LeetCode would like to work on some projects to increase its capital before the IPO. Since it has limited resources, it can only finish at most k distinct projects before the IPO. Help LeetCode design the best way to maximize its total capital after finishing at most k distinct projects.\n",
    "\n",
    "You are given n projects where the ith project has a pure profit profits[i] and a minimum capital of capital[i] is needed to start it.\n",
    "\n",
    "Initially, you have w capital. When you finish a project, you will obtain its pure profit and the profit will be added to your total capital.\n",
    "\n",
    "Pick a list of at most k distinct projects from given projects to maximize your final capital, and return the final maximized capital.\n",
    "\n",
    "The answer is guaranteed to fit in a 32-bit signed integer.\n",
    "\n",
    " \n",
    "\n",
    "**Example 1:**\n",
    "\n",
    "Input: k = 2, w = 0, profits = [1,2,3], capital = [0,1,1]\n",
    "Output: 4\n",
    "Explanation: Since your initial capital is 0, you can only start the project indexed 0.\n",
    "After finishing it you will obtain profit 1 and your capital becomes 1.\n",
    "With capital 1, you can either start the project indexed 1 or the project indexed 2.\n",
    "Since you can choose at most 2 projects, you need to finish the project indexed 2 to get the maximum capital.\n",
    "Therefore, output the final maximized capital, which is 0 + 1 + 3 = 4.\n",
    "\n",
    "**Example 2:**\n",
    "\n",
    "Input: k = 3, w = 0, profits = [1,2,3], capital = [0,1,2]\n",
    "Output: 6\n",
    " \n",
    "\n",
    "**Constraints:**\n",
    "\n",
    "- 1 <= k <= 105\n",
    "- 0 <= w <= 109\n",
    "- n == profits.length\n",
    "- n == capital.length\n",
    "- 1 <= n <= 105\n",
    "- 0 <= profits[i] <= 104\n",
    "- 0 <= capital[i] <= 109"
   ]
  },
  {
   "cell_type": "code",
   "execution_count": 1,
   "id": "e60fa100",
   "metadata": {},
   "outputs": [
    {
     "name": "stdout",
     "output_type": "stream",
     "text": [
      "4\n",
      "6\n"
     ]
    }
   ],
   "source": [
    "import heapq\n",
    "\n",
    "def findMaximizedCapital(k, w, profits, capital):\n",
    "    # Pair up profits and capitals and sort based on capital\n",
    "    projects = sorted(zip(capital, profits))\n",
    "\n",
    "    # Use max heap for profits\n",
    "    max_heap = []\n",
    "\n",
    "    # Index to keep track of projects\n",
    "    i = 0\n",
    "    n = len(profits)\n",
    "\n",
    "    # For each opportunity to start a project\n",
    "    for _ in range(k):\n",
    "        # While there are still projects we can afford\n",
    "        while i < n and projects[i][0] <= w:\n",
    "            # Add the profit of the current project to the max heap (with negative sign to simulate max heap using min heap)\n",
    "            heapq.heappush(max_heap, -projects[i][1])\n",
    "            i += 1\n",
    "\n",
    "        # If there are no affordable projects, break out\n",
    "        if not max_heap:\n",
    "            break\n",
    "\n",
    "        # Pick the project with the max profit and add its profit to w\n",
    "        w -= heapq.heappop(max_heap)\n",
    "\n",
    "    return w\n",
    "\n",
    "# Test\n",
    "print(findMaximizedCapital(2, 0, [1,2,3], [0,1,1]))  # Output: 4\n",
    "print(findMaximizedCapital(3, 0, [1,2,3], [0,1,2]))  # Output: 6"
   ]
  },
  {
   "cell_type": "code",
   "execution_count": null,
   "id": "d3d48bab",
   "metadata": {},
   "outputs": [],
   "source": []
  }
 ],
 "metadata": {
  "kernelspec": {
   "display_name": "Python 3",
   "language": "python",
   "name": "python3"
  },
  "language_info": {
   "codemirror_mode": {
    "name": "ipython",
    "version": 3
   },
   "file_extension": ".py",
   "mimetype": "text/x-python",
   "name": "python",
   "nbconvert_exporter": "python",
   "pygments_lexer": "ipython3",
   "version": "3.9.13"
  }
 },
 "nbformat": 4,
 "nbformat_minor": 5
}
