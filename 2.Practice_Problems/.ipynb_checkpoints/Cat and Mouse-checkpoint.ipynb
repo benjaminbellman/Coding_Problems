{
 "cells": [
  {
   "cell_type": "markdown",
   "id": "9066950e",
   "metadata": {},
   "source": [
    "# Cat and Mouse"
   ]
  },
  {
   "cell_type": "markdown",
   "id": "67012d4d",
   "metadata": {},
   "source": [
    "A game on an undirected graph is played by two players, Mouse and Cat, who alternate turns.\n",
    "\n",
    "The graph is given as follows: graph[a] is a list of all nodes b such that ab is an edge of the graph.\n",
    "\n",
    "The mouse starts at node 1 and goes first, the cat starts at node 2 and goes second, and there is a hole at node 0.\n",
    "\n",
    "During each player's turn, they must travel along one edge of the graph that meets where they are.  For example, if the Mouse is at node 1, it must travel to any node in graph[1].\n",
    "\n",
    "Additionally, it is not allowed for the Cat to travel to the Hole (node 0).\n",
    "\n",
    "Then, the game can end in three ways:\n",
    "\n",
    "If ever the Cat occupies the same node as the Mouse, the Cat wins.\n",
    "If ever the Mouse reaches the Hole, the Mouse wins.\n",
    "If ever a position is repeated (i.e., the players are in the same position as a previous turn, and it is the same player's turn to move), the game is a draw.\n",
    "Given a graph, and assuming both players play optimally, return\n",
    "\n",
    "1 if the mouse wins the game,\n",
    "2 if the cat wins the game, or\n",
    "0 if the game is a draw.\n",
    "\n",
    "**Example 1:**\n",
    "\n",
    "Input: graph = [[2,5],[3],[0,4,5],[1,4,5],[2,3],[0,2,3]]\n",
    "Output: 0\n",
    "\n",
    "**Example 2:**\n",
    "\n",
    "Input: graph = [[1,3],[0],[3],[0,2]]\n",
    "Output: 1\n",
    "\n",
    "**Constraints:**\n",
    "\n",
    "- 3 <= graph.length <= 50\n",
    "- 1 <= graph[i].length < graph.length\n",
    "- 0 <= graph[i][j] < graph.length\n",
    "- graph[i][j] != i\n",
    "- graph[i] is unique.\n",
    "- The mouse and the cat can always move. "
   ]
  },
  {
   "cell_type": "code",
   "execution_count": 1,
   "id": "a0f2e947",
   "metadata": {},
   "outputs": [
    {
     "name": "stdout",
     "output_type": "stream",
     "text": [
      "2\n",
      "2\n"
     ]
    }
   ],
   "source": [
    "from collections import deque\n",
    "\n",
    "def catMouseGame(graph):\n",
    "    n = len(graph)\n",
    "    memo = {}\n",
    "\n",
    "    def bfs():\n",
    "        q = deque([(1, 2, 0)])  # (mouse_position, cat_position, turn)\n",
    "        visited = set()\n",
    "        while q:\n",
    "            mouse, cat, turn = q.popleft()\n",
    "            if (mouse, cat, turn) in visited:\n",
    "                continue\n",
    "            visited.add((mouse, cat, turn))\n",
    "            \n",
    "            if mouse == 0:\n",
    "                memo[(mouse, cat, turn)] = 1  # Mouse wins\n",
    "                continue\n",
    "            if mouse == cat:\n",
    "                memo[(mouse, cat, turn)] = 2  # Cat wins\n",
    "                continue\n",
    "            \n",
    "            if turn == 0:  # Mouse's turn\n",
    "                result = 2  # Assume Cat wins (worst case)\n",
    "                for next_mouse in graph[mouse]:\n",
    "                    if (next_mouse, cat, 1) in memo:\n",
    "                        result = min(result, memo[(next_mouse, cat, 1)])\n",
    "                    else:\n",
    "                        q.append((next_mouse, cat, 1))\n",
    "                memo[(mouse, cat, turn)] = result\n",
    "            else:  # Cat's turn\n",
    "                result = 1  # Assume Mouse wins (worst case)\n",
    "                for next_cat in graph[cat]:\n",
    "                    if next_cat == 0:\n",
    "                        continue\n",
    "                    if (mouse, next_cat, 0) in memo:\n",
    "                        result = max(result, memo[(mouse, next_cat, 0)])\n",
    "                    else:\n",
    "                        q.append((mouse, next_cat, 0))\n",
    "                memo[(mouse, cat, turn)] = result\n",
    "    \n",
    "    bfs()\n",
    "    return memo.get((1, 2, 0), 0)  # Starting state is (mouse=1, cat=2, turn=0)\n",
    "\n",
    "# Example usage:\n",
    "print(catMouseGame([[2,5],[3],[0,4,5],[1,4,5],[2,3],[0,2,3]]))  # Output: 0\n",
    "print(catMouseGame([[1,3],[0],[3],[0,2]]))  # Output: 1"
   ]
  },
  {
   "cell_type": "code",
   "execution_count": null,
   "id": "d875658d",
   "metadata": {},
   "outputs": [],
   "source": []
  }
 ],
 "metadata": {
  "kernelspec": {
   "display_name": "Python 3 (ipykernel)",
   "language": "python",
   "name": "python3"
  },
  "language_info": {
   "codemirror_mode": {
    "name": "ipython",
    "version": 3
   },
   "file_extension": ".py",
   "mimetype": "text/x-python",
   "name": "python",
   "nbconvert_exporter": "python",
   "pygments_lexer": "ipython3",
   "version": "3.8.11"
  }
 },
 "nbformat": 4,
 "nbformat_minor": 5
}
