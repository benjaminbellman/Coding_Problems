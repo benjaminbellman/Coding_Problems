{
 "cells": [
  {
   "cell_type": "markdown",
   "id": "45fd13a5",
   "metadata": {},
   "source": [
    "# Check If Word Is Valid After Substitutions"
   ]
  },
  {
   "cell_type": "markdown",
   "id": "8d77ff4a",
   "metadata": {},
   "source": [
    "Given a string s, determine if it is valid.\n",
    "\n",
    "A string s is valid if, starting with an empty string t = \"\", you can transform t into s after performing the following operation any number of times:\n",
    "\n",
    "Insert string \"abc\" into any position in t. More formally, t becomes tleft + \"abc\" + tright, where t == tleft + tright. Note that tleft and tright may be empty.\n",
    "Return true if s is a valid string, otherwise, return false.\n",
    "\n",
    "**Example 1:**\n",
    "\n",
    "Input: s = \"aabcbc\"\n",
    "Output: true\n",
    "Explanation:\n",
    "\"\" -> \"abc\" -> \"aabcbc\"\n",
    "Thus, \"aabcbc\" is valid.\n",
    "\n",
    "**Example 2:**\n",
    "\n",
    "Input: s = \"abcabcababcc\"\n",
    "Output: true\n",
    "Explanation:\n",
    "\"\" -> \"abc\" -> \"abcabc\" -> \"abcabcabc\" -> \"abcabcababcc\"\n",
    "Thus, \"abcabcababcc\" is valid.\n",
    "\n",
    "**Example 3:**\n",
    "\n",
    "Input: s = \"abccba\"\n",
    "Output: false\n",
    "Explanation: It is impossible to get \"abccba\" using the operation.\n",
    "\n",
    "**Constraints:**\n",
    "\n",
    "- 1 <= s.length <= 2 * 104\n",
    "- s consists of letters 'a', 'b', and 'c'"
   ]
  },
  {
   "cell_type": "code",
   "execution_count": 1,
   "id": "d327055a",
   "metadata": {},
   "outputs": [],
   "source": [
    "def is_valid(s: str) -> bool:\n",
    "    stack = []\n",
    "    for char in s:\n",
    "        stack.append(char)\n",
    "        # Check the last three characters in the stack to see if they form \"abc\"\n",
    "        if len(stack) >= 3 and ''.join(stack[-3:]) == \"abc\":\n",
    "            # Remove the last three characters from the stack\n",
    "            stack.pop()\n",
    "            stack.pop()\n",
    "            stack.pop()\n",
    "    # If stack is empty, the string is valid\n",
    "    return len(stack) == 0"
   ]
  },
  {
   "cell_type": "code",
   "execution_count": null,
   "id": "9597d12d",
   "metadata": {},
   "outputs": [],
   "source": []
  }
 ],
 "metadata": {
  "kernelspec": {
   "display_name": "Python 3 (ipykernel)",
   "language": "python",
   "name": "python3"
  },
  "language_info": {
   "codemirror_mode": {
    "name": "ipython",
    "version": 3
   },
   "file_extension": ".py",
   "mimetype": "text/x-python",
   "name": "python",
   "nbconvert_exporter": "python",
   "pygments_lexer": "ipython3",
   "version": "3.8.11"
  }
 },
 "nbformat": 4,
 "nbformat_minor": 5
}
