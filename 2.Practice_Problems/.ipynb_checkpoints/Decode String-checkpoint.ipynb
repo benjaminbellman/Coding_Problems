{
 "cells": [
  {
   "cell_type": "markdown",
   "id": "4ab71453",
   "metadata": {},
   "source": [
    "# Decode String"
   ]
  },
  {
   "cell_type": "markdown",
   "id": "776be3dc",
   "metadata": {},
   "source": [
    "Given an encoded string, return its decoded string.\n",
    "\n",
    "The encoding rule is: k[encoded_string], where the encoded_string inside the square brackets is being repeated exactly k times. Note that k is guaranteed to be a positive integer.\n",
    "\n",
    "You may assume that the input string is always valid; there are no extra white spaces, square brackets are well-formed, etc. Furthermore, you may assume that the original data does not contain any digits and that digits are only for those repeat numbers, k. For example, there will not be input like 3a or 2[4].\n",
    "\n",
    "The test cases are generated so that the length of the output will never exceed 105.\n",
    "\n",
    " \n",
    "\n",
    "**Example 1:**\n",
    "\n",
    "Input: s = \"3[a]2[bc]\"\n",
    "Output: \"aaabcbc\"\n",
    "\n",
    "**Example 2:**\n",
    "\n",
    "Input: s = \"3[a2[c]]\"\n",
    "Output: \"accaccacc\"\n",
    "\n",
    "**Example 3:**\n",
    "\n",
    "Input: s = \"2[abc]3[cd]ef\"\n",
    "Output: \"abcabccdcdcdef\"\n",
    " \n",
    "\n",
    "**Constraints:**\n",
    "\n",
    "1 <= s.length <= 30\n",
    "s consists of lowercase English letters, digits, and square brackets '[]'.\n",
    "s is guaranteed to be a valid input.\n",
    "All the integers in s are in the range [1, 300]."
   ]
  },
  {
   "cell_type": "code",
   "execution_count": 1,
   "id": "6c4cce23",
   "metadata": {},
   "outputs": [],
   "source": [
    "def decodeString(s: str) -> str:\n",
    "    stack = []\n",
    "    curr_string = \"\"\n",
    "    curr_num = 0\n",
    "    \n",
    "    for char in s:\n",
    "        if char == '[':\n",
    "            stack.append(curr_string)\n",
    "            stack.append(curr_num)\n",
    "            curr_string = \"\"\n",
    "            curr_num = 0\n",
    "        elif char == ']':\n",
    "            num = stack.pop()\n",
    "            prev_string = stack.pop()\n",
    "            curr_string = prev_string + num * curr_string\n",
    "        elif char.isdigit():\n",
    "            curr_num = curr_num * 10 + int(char)\n",
    "        else:\n",
    "            curr_string += char\n",
    "            \n",
    "    return curr_string"
   ]
  },
  {
   "cell_type": "code",
   "execution_count": 2,
   "id": "24af594e",
   "metadata": {},
   "outputs": [
    {
     "name": "stdout",
     "output_type": "stream",
     "text": [
      "aaabcbc\n",
      "accaccacc\n",
      "abcabccdcdcdef\n"
     ]
    }
   ],
   "source": [
    "# Example 1:\n",
    "s = \"3[a]2[bc]\"\n",
    "print(decodeString(s)) # Output: \"aaabcbc\"\n",
    "\n",
    "# Example 2:\n",
    "s = \"3[a2[c]]\"\n",
    "print(decodeString(s)) # Output: \"accaccacc\"\n",
    "\n",
    "# Example 3:\n",
    "s = \"2[abc]3[cd]ef\"\n",
    "print(decodeString(s)) # Output: \"abcabccdcdcdef\""
   ]
  },
  {
   "cell_type": "code",
   "execution_count": null,
   "id": "f1c2542d",
   "metadata": {},
   "outputs": [],
   "source": []
  }
 ],
 "metadata": {
  "kernelspec": {
   "display_name": "Python 3",
   "language": "python",
   "name": "python3"
  },
  "language_info": {
   "codemirror_mode": {
    "name": "ipython",
    "version": 3
   },
   "file_extension": ".py",
   "mimetype": "text/x-python",
   "name": "python",
   "nbconvert_exporter": "python",
   "pygments_lexer": "ipython3",
   "version": "3.9.13"
  }
 },
 "nbformat": 4,
 "nbformat_minor": 5
}
