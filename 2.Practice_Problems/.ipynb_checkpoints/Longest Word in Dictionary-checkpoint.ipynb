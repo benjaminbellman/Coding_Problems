{
 "cells": [
  {
   "cell_type": "markdown",
   "id": "8dd85f8e",
   "metadata": {},
   "source": [
    "# Longest Word in Dictionary"
   ]
  },
  {
   "cell_type": "markdown",
   "id": "ae90d4f3",
   "metadata": {},
   "source": [
    "Given an array of strings words representing an English Dictionary, return the longest word in words that can be built one character at a time by other words in words.\n",
    "\n",
    "If there is more than one possible answer, return the longest word with the smallest lexicographical order. If there is no answer, return the empty string.\n",
    "\n",
    "Note that the word should be built from left to right with each additional character being added to the end of a previous word. \n",
    "\n",
    " \n",
    "\n",
    "**Example 1:**\n",
    "\n",
    "Input: words = [\"w\",\"wo\",\"wor\",\"worl\",\"world\"]\n",
    "\n",
    "Output: \"world\"\n",
    "Explanation: The word \"world\" can be built one character at a time by \"w\", \"wo\", \"wor\", and \"worl\".\n",
    "\n",
    "**Example 2:**\n",
    "\n",
    "Input: words = [\"a\",\"banana\",\"app\",\"appl\",\"ap\",\"apply\",\"apple\"]\n",
    "\n",
    "Output: \"apple\"\n",
    "Explanation: Both \"apply\" and \"apple\" can be built from other words in the dictionary. However, \"apple\" is lexicographically smaller than \"apply\".\n",
    " \n",
    "\n",
    "**Constraints:**\n",
    "\n",
    "- 1 <= words.length <= 1000\n",
    "- 1 <= words[i].length <= 30\n",
    "- words[i] consists of lowercase English letters."
   ]
  },
  {
   "cell_type": "code",
   "execution_count": 1,
   "id": "e1b8ee2d",
   "metadata": {},
   "outputs": [
    {
     "name": "stdout",
     "output_type": "stream",
     "text": [
      "world\n",
      "apple\n"
     ]
    }
   ],
   "source": [
    "class TrieNode:\n",
    "    def __init__(self):\n",
    "        self.children = {}\n",
    "        self.is_end = False\n",
    "\n",
    "class Trie:\n",
    "    def __init__(self):\n",
    "        self.root = TrieNode()\n",
    "    \n",
    "    def insert(self, word):\n",
    "        node = self.root\n",
    "        for char in word:\n",
    "            if char not in node.children:\n",
    "                node.children[char] = TrieNode()\n",
    "            node = node.children[char]\n",
    "        node.is_end = True\n",
    "    \n",
    "    def search_longest_word(self, word):\n",
    "        node = self.root\n",
    "        longest_word = ''\n",
    "        for char in word:\n",
    "            if char in node.children:\n",
    "                node = node.children[char]\n",
    "                if node.is_end:\n",
    "                    if len(word) > len(longest_word):\n",
    "                        longest_word = word\n",
    "                    elif len(word) == len(longest_word):\n",
    "                        longest_word = min(word, longest_word)\n",
    "                else:\n",
    "                    break\n",
    "            else:\n",
    "                break\n",
    "        return longest_word\n",
    "\n",
    "def longest_word(words):\n",
    "    trie = Trie()\n",
    "    for word in words:\n",
    "        trie.insert(word)\n",
    "    \n",
    "    longest_word = ''\n",
    "    for word in words:\n",
    "        if len(word) > len(longest_word) or (len(word) == len(longest_word) and word < longest_word):\n",
    "            result = trie.search_longest_word(word)\n",
    "            if result == word:\n",
    "                longest_word = word\n",
    "    \n",
    "    return longest_word\n",
    "\n",
    "# Example usage:\n",
    "words1 = [\"w\", \"wo\", \"wor\", \"worl\", \"world\"]\n",
    "print(longest_word(words1))  # Output: \"world\"\n",
    "\n",
    "words2 = [\"a\", \"banana\", \"app\", \"appl\", \"ap\", \"apply\", \"apple\"]\n",
    "print(longest_word(words2))  # Output: \"apple\""
   ]
  },
  {
   "cell_type": "code",
   "execution_count": null,
   "id": "0191bb49",
   "metadata": {},
   "outputs": [],
   "source": []
  }
 ],
 "metadata": {
  "kernelspec": {
   "display_name": "Python 3",
   "language": "python",
   "name": "python3"
  },
  "language_info": {
   "codemirror_mode": {
    "name": "ipython",
    "version": 3
   },
   "file_extension": ".py",
   "mimetype": "text/x-python",
   "name": "python",
   "nbconvert_exporter": "python",
   "pygments_lexer": "ipython3",
   "version": "3.9.13"
  }
 },
 "nbformat": 4,
 "nbformat_minor": 5
}
