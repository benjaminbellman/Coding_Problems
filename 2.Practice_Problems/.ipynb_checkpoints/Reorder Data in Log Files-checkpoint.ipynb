{
 "cells": [
  {
   "cell_type": "markdown",
   "id": "676c4179",
   "metadata": {},
   "source": [
    "# Reorder Data in Log Files"
   ]
  },
  {
   "cell_type": "markdown",
   "id": "d6b1ee07",
   "metadata": {},
   "source": [
    "You are given an array of logs. Each log is a space-delimited string of words, where the first word is the identifier.\n",
    "\n",
    "There are two types of logs:\n",
    "\n",
    "Letter-logs: All words (except the identifier) consist of lowercase English letters.\n",
    "Digit-logs: All words (except the identifier) consist of digits.\n",
    "Reorder these logs so that:\n",
    "\n",
    "The letter-logs come before all digit-logs.\n",
    "The letter-logs are sorted lexicographically by their contents. If their contents are the same, then sort them lexicographically by their identifiers.\n",
    "The digit-logs maintain their relative ordering.\n",
    "Return the final order of the logs.\n",
    "\n",
    "**Example 1:**\n",
    "\n",
    "Input: logs = [\"dig1 8 1 5 1\",\"let1 art can\",\"dig2 3 6\",\"let2 own kit dig\",\"let3 art zero\"]\n",
    "Output: [\"let1 art can\",\"let3 art zero\",\"let2 own kit dig\",\"dig1 8 1 5 1\",\"dig2 3 6\"]\n",
    "Explanation:\n",
    "The letter-log contents are all different, so their ordering is \"art can\", \"art zero\", \"own kit dig\".\n",
    "The digit-logs have a relative order of \"dig1 8 1 5 1\", \"dig2 3 6\".\n",
    "\n",
    "**Example 2:**\n",
    "\n",
    "Input: logs = [\"a1 9 2 3 1\",\"g1 act car\",\"zo4 4 7\",\"ab1 off key dog\",\"a8 act zoo\"]\n",
    "Output: [\"g1 act car\",\"a8 act zoo\",\"ab1 off key dog\",\"a1 9 2 3 1\",\"zo4 4 7\"]\n",
    " \n",
    "**Constraints:**\n",
    "\n",
    "- 1 <= logs.length <= 100\n",
    "- 3 <= logs[i].length <= 100\n",
    "- All the tokens of logs[i] are separated by a single space.\n",
    "- logs[i] is guaranteed to have an identifier and at least one word after the identifier."
   ]
  },
  {
   "cell_type": "code",
   "execution_count": 1,
   "id": "526f9eaa",
   "metadata": {},
   "outputs": [
    {
     "name": "stdout",
     "output_type": "stream",
     "text": [
      "['let1 art can', 'let3 art zero', 'let2 own kit dig', 'dig1 8 1 5 1', 'dig2 3 6']\n"
     ]
    }
   ],
   "source": [
    "def reorderLogFiles(logs):\n",
    "    # Helper function to determine if a log is a digit-log\n",
    "    def is_digit_log(log):\n",
    "        return log.split()[1].isdigit()\n",
    "    \n",
    "    # Split the logs into digit-logs and letter-logs\n",
    "    letter_logs = []\n",
    "    digit_logs = []\n",
    "    \n",
    "    for log in logs:\n",
    "        if is_digit_log(log):\n",
    "            digit_logs.append(log)\n",
    "        else:\n",
    "            letter_logs.append(log)\n",
    "    \n",
    "    # Sort letter-logs based on the conditions\n",
    "    letter_logs.sort(key=lambda x: (x.split()[1:], x.split()[0]))\n",
    "    \n",
    "    # Return sorted letter-logs followed by original order of digit-logs\n",
    "    return letter_logs + digit_logs\n",
    "\n",
    "# Example usage:\n",
    "logs = [\"dig1 8 1 5 1\", \"let1 art can\", \"dig2 3 6\", \"let2 own kit dig\", \"let3 art zero\"]\n",
    "output = reorderLogFiles(logs)\n",
    "print(output)"
   ]
  },
  {
   "cell_type": "code",
   "execution_count": null,
   "id": "b3c772ac",
   "metadata": {},
   "outputs": [],
   "source": []
  }
 ],
 "metadata": {
  "kernelspec": {
   "display_name": "Python 3 (ipykernel)",
   "language": "python",
   "name": "python3"
  },
  "language_info": {
   "codemirror_mode": {
    "name": "ipython",
    "version": 3
   },
   "file_extension": ".py",
   "mimetype": "text/x-python",
   "name": "python",
   "nbconvert_exporter": "python",
   "pygments_lexer": "ipython3",
   "version": "3.8.11"
  }
 },
 "nbformat": 4,
 "nbformat_minor": 5
}
