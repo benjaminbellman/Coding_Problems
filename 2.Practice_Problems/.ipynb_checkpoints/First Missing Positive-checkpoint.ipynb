{
 "cells": [
  {
   "cell_type": "markdown",
   "id": "c0ad4095",
   "metadata": {},
   "source": [
    "# First Missing Positive"
   ]
  },
  {
   "cell_type": "markdown",
   "id": "ffa5d692",
   "metadata": {},
   "source": [
    "Write me code in Python which can solve the following problem: Given an unsorted integer array nums, return the smallest missing positive integer.\n",
    "\n",
    "You must implement an algorithm that runs in O(n) time and uses constant extra space.\n",
    "\n",
    " \n",
    "\n",
    "**Example 1:**\n",
    "\n",
    "Input: nums = [1,2,0]\n",
    "Output: 3\n",
    "Explanation: The numbers in the range [1,2] are all in the array.\n",
    "\n",
    "********Example 2:******\n",
    "\n",
    "Input: nums = [3,4,-1,1]\n",
    "Output: 2\n",
    "Explanation: 1 is in the array but 2 is missing.\n",
    "\n",
    "****Example 3:**\n",
    "\n",
    "Input: nums = [7,8,9,11,12]\n",
    "Output: 1\n",
    "Explanation: The smallest positive integer 1 is missing.\n",
    " \n",
    "\n",
    "**Constraints:****\n",
    "\n",
    "1 <= nums.length <= 105\n",
    "-231 <= nums[i] <= 231 - 1"
   ]
  },
  {
   "cell_type": "code",
   "execution_count": 1,
   "id": "fbab8c77",
   "metadata": {},
   "outputs": [],
   "source": [
    "def firstMissingPositive(nums):\n",
    "# Check if 1 is in the array.\n",
    "    if 1 not in nums:\n",
    "        return 1\n",
    "# Check if all the elements are negative.\n",
    "    if all(i <= 0 for i in nums):\n",
    "        return 1\n",
    "\n",
    "# Check if all the elements are positive.\n",
    "    if all(i > 0 for i in nums):\n",
    "        return max(nums) + 1\n",
    "\n",
    "# Remove all the elements which are less than or equal to 0\n",
    "# or greater than the length of the array.\n",
    "    nums = [x for x in nums if x > 0 and x <= len(nums)]\n",
    "\n",
    "# Mark the presence of each element by making the value\n",
    "# at its index negative.\n",
    "    for i in nums:\n",
    "        index = abs(i) - 1\n",
    "        if nums[index] > 0:\n",
    "            nums[index] = -nums[index]\n",
    "\n",
    "# Return the first index which is still positive.\n",
    "    for i in range(len(nums)):\n",
    "        if nums[i] > 0:\n",
    "            return i + 1\n",
    "\n",
    "# If no such index is found, return the next positive integer.\n",
    "    return len(nums) + 1"
   ]
  },
  {
   "cell_type": "markdown",
   "id": "a02b42aa",
   "metadata": {},
   "source": [
    "One way to solve this problem is to first sort the array and then iterate through it to find the smallest missing positive integer. Since sorting an array of length n takes O(n * log(n)) time in the worst case, this approach does not meet the requirement of running in O(n) time.\n",
    "\n",
    "Another approach is to use a set to store the numbers in the array. This allows us to quickly check if a given number is in the array in O(1) time. We can then iterate through the numbers from 1 to the length of the array, and return the first number that is not in the set. This approach uses constant extra space, since the size of the set is not dependent on the size of the array. Here is the implementation of this approach:"
   ]
  },
  {
   "cell_type": "code",
   "execution_count": 2,
   "id": "e72f62fa",
   "metadata": {},
   "outputs": [],
   "source": [
    "def firstMissingPositive(nums):\n",
    "    # Create a set of the numbers in the array\n",
    "    num_set = set(nums)\n",
    "\n",
    "    # Iterate through the numbers from 1 to the length of the array\n",
    "    for i in range(1, len(nums) + 1):\n",
    "        # Return the first number that is not in the set\n",
    "        if i not in num_set:\n",
    "            return i\n",
    "\n",
    "    # If all numbers from 1 to the length of the array are in the set,\n",
    "    # the smallest missing positive integer is the number after the last\n",
    "    # element in the array\n",
    "    return len(nums) + 1"
   ]
  },
  {
   "cell_type": "code",
   "execution_count": 3,
   "id": "d0fb19e2",
   "metadata": {},
   "outputs": [
    {
     "name": "stdout",
     "output_type": "stream",
     "text": [
      "3\n",
      "2\n",
      "1\n"
     ]
    }
   ],
   "source": [
    "# Test 1\n",
    "nums = [1, 2, 0]\n",
    "print(firstMissingPositive(nums))  # Expected output: 3\n",
    "\n",
    "# Test 2\n",
    "nums = [3, 4, -1, 1]\n",
    "print(firstMissingPositive(nums))  # Expected output: 2\n",
    "\n",
    "# Test 3\n",
    "nums = [7, 8, 9, 11, 12]\n",
    "print(firstMissingPositive(nums))  # Expected output: 1\n"
   ]
  }
 ],
 "metadata": {
  "kernelspec": {
   "display_name": "Python 3",
   "language": "python",
   "name": "python3"
  },
  "language_info": {
   "codemirror_mode": {
    "name": "ipython",
    "version": 3
   },
   "file_extension": ".py",
   "mimetype": "text/x-python",
   "name": "python",
   "nbconvert_exporter": "python",
   "pygments_lexer": "ipython3",
   "version": "3.9.13"
  }
 },
 "nbformat": 4,
 "nbformat_minor": 5
}
