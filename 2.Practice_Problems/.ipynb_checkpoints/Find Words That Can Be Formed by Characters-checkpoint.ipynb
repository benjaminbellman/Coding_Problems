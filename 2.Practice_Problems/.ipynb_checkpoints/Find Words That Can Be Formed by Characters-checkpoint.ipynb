{
 "cells": [
  {
   "cell_type": "markdown",
   "id": "38a03290",
   "metadata": {},
   "source": [
    "# Find Words That Can Be Formed by Characters"
   ]
  },
  {
   "cell_type": "markdown",
   "id": "0b449bb4",
   "metadata": {},
   "source": [
    "You are given an array of strings words and a string chars.\n",
    "\n",
    "A string is good if it can be formed by characters from chars (each character can only be used once).\n",
    "\n",
    "Return the sum of lengths of all good strings in words.\n",
    "\n",
    "**Example 1:**\n",
    "\n",
    "Input: words = [\"cat\",\"bt\",\"hat\",\"tree\"], chars = \"atach\"\n",
    "Output: 6\n",
    "Explanation: The strings that can be formed are \"cat\" and \"hat\" so the answer is 3 + 3 = 6.\n",
    "\n",
    "**Example 2:**\n",
    "\n",
    "Input: words = [\"hello\",\"world\",\"leetcode\"], chars = \"welldonehoneyr\"\n",
    "Output: 10\n",
    "Explanation: The strings that can be formed are \"hello\" and \"world\" so the answer is 5 + 5 = 10.\n",
    " \n",
    "**Constraints:**\n",
    "\n",
    "- 1 <= words.length <= 1000\n",
    "- 1 <= words[i].length, chars.length <= 100\n",
    "- words[i] and chars consist of lowercase English letters."
   ]
  },
  {
   "cell_type": "code",
   "execution_count": 1,
   "id": "bc2634c6",
   "metadata": {},
   "outputs": [
    {
     "name": "stdout",
     "output_type": "stream",
     "text": [
      "6\n",
      "10\n"
     ]
    }
   ],
   "source": [
    "from collections import Counter\n",
    "\n",
    "def countCharacters(words, chars):\n",
    "    char_count = Counter(chars)  # Count frequency of characters in chars\n",
    "    total_length = 0\n",
    "\n",
    "    for word in words:\n",
    "        word_count = Counter(word)  # Count frequency of characters in the word\n",
    "        if all(word_count[char] <= char_count[char] for char in word_count):\n",
    "            total_length += len(word)\n",
    "\n",
    "    return total_length\n",
    "\n",
    "# Example cases\n",
    "words1 = [\"cat\",\"bt\",\"hat\",\"tree\"]\n",
    "chars1 = \"atach\"\n",
    "print(countCharacters(words1, chars1))  # Output: 6\n",
    "\n",
    "words2 = [\"hello\",\"world\",\"leetcode\"]\n",
    "chars2 = \"welldonehoneyr\"\n",
    "print(countCharacters(words2, chars2))  # Output: 10"
   ]
  },
  {
   "cell_type": "code",
   "execution_count": null,
   "id": "4b55b6fe",
   "metadata": {},
   "outputs": [],
   "source": []
  }
 ],
 "metadata": {
  "kernelspec": {
   "display_name": "Python 3 (ipykernel)",
   "language": "python",
   "name": "python3"
  },
  "language_info": {
   "codemirror_mode": {
    "name": "ipython",
    "version": 3
   },
   "file_extension": ".py",
   "mimetype": "text/x-python",
   "name": "python",
   "nbconvert_exporter": "python",
   "pygments_lexer": "ipython3",
   "version": "3.8.11"
  }
 },
 "nbformat": 4,
 "nbformat_minor": 5
}
