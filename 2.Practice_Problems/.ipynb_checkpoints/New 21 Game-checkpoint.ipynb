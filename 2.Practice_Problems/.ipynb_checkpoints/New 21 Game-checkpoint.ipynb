{
 "cells": [
  {
   "cell_type": "markdown",
   "id": "c3d6f975",
   "metadata": {},
   "source": [
    "# New 21 Game"
   ]
  },
  {
   "cell_type": "markdown",
   "id": "94004f01",
   "metadata": {},
   "source": [
    "Alice plays the following game, loosely based on the card game \"21\".\n",
    "\n",
    "Alice starts with 0 points and draws numbers while she has less than k points. During each draw, she gains an integer number of points randomly from the range [1, maxPts], where maxPts is an integer. Each draw is independent and the outcomes have equal probabilities.\n",
    "\n",
    "Alice stops drawing numbers when she gets k or more points.\n",
    "\n",
    "Return the probability that Alice has n or fewer points.\n",
    "\n",
    "Answers within 10-5 of the actual answer are considered accepted.\n",
    "\n",
    " \n",
    "\n",
    "**Example 1:**\n",
    "\n",
    "Input: n = 10, k = 1, maxPts = 10\n",
    "Output: 1.00000\n",
    "Explanation: Alice gets a single card, then stops.\n",
    "\n",
    "**Example 2:**\n",
    "\n",
    "Input: n = 6, k = 1, maxPts = 10\n",
    "Output: 0.60000\n",
    "Explanation: Alice gets a single card, then stops.\n",
    "In 6 out of 10 possibilities, she is at or below 6 points.\n",
    "\n",
    "**Example 3:**\n",
    "\n",
    "Input: n = 21, k = 17, maxPts = 10\n",
    "Output: 0.73278\n",
    " \n",
    "\n",
    "**Constraints:**\n",
    "\n",
    "- 0 <= k <= n <= 104\n",
    "- 1 <= maxPts <= 104"
   ]
  },
  {
   "cell_type": "code",
   "execution_count": 1,
   "id": "fbb5aa79",
   "metadata": {},
   "outputs": [
    {
     "name": "stdout",
     "output_type": "stream",
     "text": [
      "1.5937424600999996\n",
      "0.7715609999999999\n",
      "0.9184662517909441\n"
     ]
    }
   ],
   "source": [
    "def probabilityOfPoints(n, k, maxPts):\n",
    "    dp = [0] * (n + 1)\n",
    "    dp[0] = 1.0\n",
    "\n",
    "    for i in range(1, n + 1):\n",
    "        for j in range(1, min(i, maxPts) + 1):\n",
    "            dp[i] += dp[i - j] / maxPts\n",
    "\n",
    "    return sum(dp[k:])\n",
    "\n",
    "# Test cases\n",
    "print(probabilityOfPoints(10, 1, 10))  # Output: 1.0\n",
    "print(probabilityOfPoints(6, 1, 10))   # Output: 0.6\n",
    "print(probabilityOfPoints(21, 17, 10)) # Output: 0.73278"
   ]
  },
  {
   "cell_type": "code",
   "execution_count": null,
   "id": "f57d63bb",
   "metadata": {},
   "outputs": [],
   "source": []
  }
 ],
 "metadata": {
  "kernelspec": {
   "display_name": "Python 3",
   "language": "python",
   "name": "python3"
  },
  "language_info": {
   "codemirror_mode": {
    "name": "ipython",
    "version": 3
   },
   "file_extension": ".py",
   "mimetype": "text/x-python",
   "name": "python",
   "nbconvert_exporter": "python",
   "pygments_lexer": "ipython3",
   "version": "3.9.13"
  }
 },
 "nbformat": 4,
 "nbformat_minor": 5
}
