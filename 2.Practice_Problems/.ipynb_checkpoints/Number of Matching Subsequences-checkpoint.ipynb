{
 "cells": [
  {
   "cell_type": "markdown",
   "id": "e1afb827",
   "metadata": {},
   "source": [
    "# Number of Matching Subsequences"
   ]
  },
  {
   "cell_type": "markdown",
   "id": "c803a508",
   "metadata": {},
   "source": [
    "Given a string s and an array of strings words, return the number of words[i] that is a subsequence of s.\n",
    "\n",
    "A subsequence of a string is a new string generated from the original string with some characters (can be none) deleted without changing the relative order of the remaining characters.\n",
    "\n",
    "For example, \"ace\" is a subsequence of \"abcde\".\n",
    " \n",
    "\n",
    "**Example 1:**\n",
    "\n",
    "Input: s = \"abcde\", words = [\"a\",\"bb\",\"acd\",\"ace\"]\n",
    "\n",
    "Output: 3\n",
    "Explanation: There are three strings in words that are a subsequence of s: \"a\", \"acd\", \"ace\".\n",
    "\n",
    "**Example 2:**\n",
    "\n",
    "Input: s = \"dsahjpjauf\", words = [\"ahjpjau\",\"ja\",\"ahbwzgqnuk\",\"tnmlanowax\"]\n",
    "\n",
    "Output: 2\n",
    " \n",
    "\n",
    "**Constraints:**\n",
    "\n",
    "- 1 <= s.length <= 5 * 104\n",
    "- 1 <= words.length <= 5000\n",
    "- 1 <= words[i].length <= 50\n",
    "- s and words[i] consist of only lowercase English letters."
   ]
  },
  {
   "cell_type": "code",
   "execution_count": 1,
   "id": "a872fc1f",
   "metadata": {},
   "outputs": [
    {
     "name": "stdout",
     "output_type": "stream",
     "text": [
      "3\n",
      "2\n"
     ]
    }
   ],
   "source": [
    "def is_subsequence(word, s):\n",
    "    i = 0\n",
    "    for char in s:\n",
    "        if i < len(word) and word[i] == char:\n",
    "            i += 1\n",
    "    return i == len(word)\n",
    "\n",
    "def count_subsequences(s, words):\n",
    "    count = 0\n",
    "    for word in words:\n",
    "        if is_subsequence(word, s):\n",
    "            count += 1\n",
    "    return count\n",
    "\n",
    "# Example usage:\n",
    "s1 = \"abcde\"\n",
    "words1 = [\"a\", \"bb\", \"acd\", \"ace\"]\n",
    "print(count_subsequences(s1, words1))  # Output: 3\n",
    "\n",
    "s2 = \"dsahjpjauf\"\n",
    "words2 = [\"ahjpjau\", \"ja\", \"ahbwzgqnuk\", \"tnmlanowax\"]\n",
    "print(count_subsequences(s2, words2))  # Output: 2\n"
   ]
  },
  {
   "cell_type": "code",
   "execution_count": null,
   "id": "1d647967",
   "metadata": {},
   "outputs": [],
   "source": []
  }
 ],
 "metadata": {
  "kernelspec": {
   "display_name": "Python 3",
   "language": "python",
   "name": "python3"
  },
  "language_info": {
   "codemirror_mode": {
    "name": "ipython",
    "version": 3
   },
   "file_extension": ".py",
   "mimetype": "text/x-python",
   "name": "python",
   "nbconvert_exporter": "python",
   "pygments_lexer": "ipython3",
   "version": "3.9.13"
  }
 },
 "nbformat": 4,
 "nbformat_minor": 5
}
