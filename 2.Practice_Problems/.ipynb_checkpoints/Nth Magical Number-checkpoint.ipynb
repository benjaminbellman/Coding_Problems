{
 "cells": [
  {
   "cell_type": "markdown",
   "id": "9fe45d8b",
   "metadata": {},
   "source": [
    "# Nth Magical Number"
   ]
  },
  {
   "cell_type": "markdown",
   "id": "4f52948d",
   "metadata": {},
   "source": [
    "A positive integer is magical if it is divisible by either a or b.\n",
    "\n",
    "Given the three integers n, a, and b, return the nth magical number. Since the answer may be very large, return it modulo 109 + 7. \n",
    "\n",
    "**Example 1:**\n",
    "\n",
    "Input: n = 1, a = 2, b = 3\n",
    "Output: 2\n",
    "\n",
    "**Example 2:**\n",
    "\n",
    "Input: n = 4, a = 2, b = 3\n",
    "Output: 6\n",
    "\n",
    "**Constraints:**\n",
    "\n",
    "- 1 <= n <= 109\n",
    "- 2 <= a, b <= 4 * 104"
   ]
  },
  {
   "cell_type": "code",
   "execution_count": 1,
   "id": "2fd89eac",
   "metadata": {},
   "outputs": [
    {
     "name": "stdout",
     "output_type": "stream",
     "text": [
      "2\n",
      "6\n"
     ]
    }
   ],
   "source": [
    "def nth_magical_number(n, a, b):\n",
    "    import math\n",
    "    \n",
    "    MOD = 10**9 + 7\n",
    "    \n",
    "    # Helper function to compute LCM\n",
    "    def lcm(x, y):\n",
    "        return x * y // math.gcd(x, y)\n",
    "    \n",
    "    # Binary search to find the nth magical number\n",
    "    def count_magical_up_to(x):\n",
    "        return x // a + x // b - x // lcm(a, b)\n",
    "    \n",
    "    low, high = 1, 10**18\n",
    "    while low < high:\n",
    "        mid = (low + high) // 2\n",
    "        if count_magical_up_to(mid) < n:\n",
    "            low = mid + 1\n",
    "        else:\n",
    "            high = mid\n",
    "    \n",
    "    return low % MOD\n",
    "\n",
    "# Examples\n",
    "print(nth_magical_number(1, 2, 3))  # Output: 2\n",
    "print(nth_magical_number(4, 2, 3))  # Output: 6"
   ]
  },
  {
   "cell_type": "code",
   "execution_count": null,
   "id": "3c0f2562",
   "metadata": {},
   "outputs": [],
   "source": []
  }
 ],
 "metadata": {
  "kernelspec": {
   "display_name": "Python 3 (ipykernel)",
   "language": "python",
   "name": "python3"
  },
  "language_info": {
   "codemirror_mode": {
    "name": "ipython",
    "version": 3
   },
   "file_extension": ".py",
   "mimetype": "text/x-python",
   "name": "python",
   "nbconvert_exporter": "python",
   "pygments_lexer": "ipython3",
   "version": "3.8.11"
  }
 },
 "nbformat": 4,
 "nbformat_minor": 5
}
