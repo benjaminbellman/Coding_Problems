{
 "cells": [
  {
   "cell_type": "markdown",
   "id": "a4db837f",
   "metadata": {},
   "source": [
    "# Spiral Matrix III"
   ]
  },
  {
   "cell_type": "markdown",
   "id": "532ddd30",
   "metadata": {},
   "source": [
    "You start at the cell (rStart, cStart) of an rows x cols grid facing east. The northwest corner is at the first row and column in the grid, and the southeast corner is at the last row and column.\n",
    "\n",
    "You will walk in a clockwise spiral shape to visit every position in this grid. Whenever you move outside the grid's boundary, we continue our walk outside the grid (but may return to the grid boundary later.). Eventually, we reach all rows * cols spaces of the grid.\n",
    "\n",
    "Return an array of coordinates representing the positions of the grid in the order you visited them.\n",
    "\n",
    "**Example 1:**\n",
    "\n",
    "Input: rows = 1, cols = 4, rStart = 0, cStart = 0\n",
    "Output: [[0,0],[0,1],[0,2],[0,3]]\n",
    "\n",
    "**Example 2:**\n",
    "\n",
    "Input: rows = 5, cols = 6, rStart = 1, cStart = 4\n",
    "Output: [[1,4],[1,5],[2,5],[2,4],[2,3],[1,3],[0,3],[0,4],[0,5],[3,5],[3,4],[3,3],[3,2],[2,2],[1,2],[0,2],[4,5],[4,4],[4,3],[4,2],[4,1],[3,1],[2,1],[1,1],[0,1],[4,0],[3,0],[2,0],[1,0],[0,0]]\n",
    "\n",
    "**Constraints:**\n",
    "\n",
    "- 1 <= rows, cols <= 100\n",
    "- 0 <= rStart < rows\n",
    "- 0 <= cStart < cols"
   ]
  },
  {
   "cell_type": "code",
   "execution_count": 1,
   "id": "df9e2360",
   "metadata": {},
   "outputs": [],
   "source": [
    "def spiralOrder(rows, cols, rStart, cStart):\n",
    "    # Directions represent right, down, left, up\n",
    "    directions = [(0, 1), (1, 0), (0, -1), (-1, 0)]\n",
    "    result = []\n",
    "    visited = set()\n",
    "    \n",
    "    # Start at the given starting position\n",
    "    r, c = rStart, cStart\n",
    "    direction_index = 0  # Start with moving right\n",
    "    \n",
    "    for _ in range(rows * cols):\n",
    "        result.append([r, c])\n",
    "        visited.add((r, c))\n",
    "        \n",
    "        # Calculate next position\n",
    "        next_r = r + directions[direction_index][0]\n",
    "        next_c = c + directions[direction_index][1]\n",
    "        \n",
    "        # Check if the next position is valid\n",
    "        if (0 <= next_r < rows and 0 <= next_c < cols and (next_r, next_c) not in visited):\n",
    "            r, c = next_r, next_c\n",
    "        else:\n",
    "            # Change direction\n",
    "            direction_index = (direction_index + 1) % 4\n",
    "            r += directions[direction_index][0]\n",
    "            c += directions[direction_index][1]\n",
    "    \n",
    "    return result"
   ]
  },
  {
   "cell_type": "code",
   "execution_count": null,
   "id": "91d96e55",
   "metadata": {},
   "outputs": [],
   "source": []
  }
 ],
 "metadata": {
  "kernelspec": {
   "display_name": "Python 3 (ipykernel)",
   "language": "python",
   "name": "python3"
  },
  "language_info": {
   "codemirror_mode": {
    "name": "ipython",
    "version": 3
   },
   "file_extension": ".py",
   "mimetype": "text/x-python",
   "name": "python",
   "nbconvert_exporter": "python",
   "pygments_lexer": "ipython3",
   "version": "3.8.11"
  }
 },
 "nbformat": 4,
 "nbformat_minor": 5
}
