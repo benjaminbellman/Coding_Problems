{
 "cells": [
  {
   "cell_type": "markdown",
   "id": "6b929806",
   "metadata": {},
   "source": [
    "# Wildcard Matching"
   ]
  },
  {
   "cell_type": "markdown",
   "id": "4b4063c1",
   "metadata": {},
   "source": [
    "Given an input string (s) and a pattern (p), implement wildcard pattern matching with support for '?' and '*' where:\n",
    "\n",
    "'?' Matches any single character.\n",
    "'*' Matches any sequence of characters (including the empty sequence).\n",
    "The matching should cover the entire input string (not partial).\n",
    "\n",
    " \n",
    "\n",
    "**Example 1:**\n",
    "\n",
    "Input: s = \"aa\", p = \"a\"\n",
    "Output: false\n",
    "Explanation: \"a\" does not match the entire string \"aa\".\n",
    "\n",
    "**Example 2:**\n",
    "\n",
    "Input: s = \"aa\", p = \"*\"\n",
    "Output: true\n",
    "Explanation: '*' matches any sequence.\n",
    "\n",
    "**Example 3:**\n",
    "\n",
    "Input: s = \"cb\", p = \"?a\"\n",
    "Output: false\n",
    "Explanation: '?' matches 'c', but the second letter is 'a', which does not match 'b'.\n",
    " \n",
    "\n",
    "\n",
    "**Constraints:**\n",
    "\n",
    "0 <= s.length, p.length <= 2000\n",
    "s contains only lowercase English letters.\n",
    "p contains only lowercase English letters, '?' or '*'."
   ]
  },
  {
   "cell_type": "code",
   "execution_count": 1,
   "id": "bd948a1e",
   "metadata": {},
   "outputs": [],
   "source": [
    "class Solution:\n",
    "    def isMatch(self, s: str, p: str) -> bool:\n",
    "        m, n = len(s), len(p)\n",
    "        dp = [[False for j in range(n + 1)] for i in range(m + 1)]\n",
    "        dp[0][0] = True\n",
    "        for j in range(1, n + 1):\n",
    "            if p[j - 1] == '*':\n",
    "                dp[0][j] = dp[0][j - 1]\n",
    "        for i in range(1, m + 1):\n",
    "            for j in range(1, n + 1):\n",
    "                if p[j - 1] == '?' or p[j - 1] == s[i - 1]:\n",
    "                    dp[i][j] = dp[i - 1][j - 1]\n",
    "                elif p[j - 1] == '*':\n",
    "                    dp[i][j] = dp[i][j - 1] or dp[i - 1][j]\n",
    "        return dp[m][n]"
   ]
  },
  {
   "cell_type": "code",
   "execution_count": null,
   "id": "bec02da8",
   "metadata": {},
   "outputs": [],
   "source": []
  }
 ],
 "metadata": {
  "kernelspec": {
   "display_name": "Python 3",
   "language": "python",
   "name": "python3"
  },
  "language_info": {
   "codemirror_mode": {
    "name": "ipython",
    "version": 3
   },
   "file_extension": ".py",
   "mimetype": "text/x-python",
   "name": "python",
   "nbconvert_exporter": "python",
   "pygments_lexer": "ipython3",
   "version": "3.9.13"
  }
 },
 "nbformat": 4,
 "nbformat_minor": 5
}
