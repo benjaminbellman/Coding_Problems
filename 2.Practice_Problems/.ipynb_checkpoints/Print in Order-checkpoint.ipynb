{
 "cells": [
  {
   "cell_type": "markdown",
   "id": "8caa6256",
   "metadata": {},
   "source": [
    "# Print in Order"
   ]
  },
  {
   "cell_type": "markdown",
   "id": "3516f7ce",
   "metadata": {},
   "source": [
    "Suppose we have a class:\n",
    "\n",
    "public class Foo {\n",
    "  public void first() { print(\"first\"); }\n",
    "  public void second() { print(\"second\"); }\n",
    "  public void third() { print(\"third\"); }\n",
    "}\n",
    "The same instance of Foo will be passed to three different threads. Thread A will call first(), thread B will call second(), and thread C will call third(). Design a mechanism and modify the program to ensure that second() is executed after first(), and third() is executed after second().\n",
    "\n",
    "**Note:**\n",
    "\n",
    "We do not know how the threads will be scheduled in the operating system, even though the numbers in the input seem to imply the ordering. The input format you see is mainly to ensure our tests' comprehensiveness.\n",
    "\n",
    "**Example 1:**\n",
    "\n",
    "Input: nums = [1,2,3]\n",
    "Output: \"firstsecondthird\"\n",
    "Explanation: There are three threads being fired asynchronously. The input [1,2,3] means thread A calls first(), thread B calls second(), and thread C calls third(). \"firstsecondthird\" is the correct output.\n",
    "\n",
    "**Example 2:**\n",
    "\n",
    "Input: nums = [1,3,2]\n",
    "Output: \"firstsecondthird\"\n",
    "Explanation: The input [1,3,2] means thread A calls first(), thread B calls third(), and thread C calls second(). \"firstsecondthird\" is the correct output. \n",
    "\n",
    "**Constraints:**\n",
    "\n",
    "- nums is a permutation of [1, 2, 3]."
   ]
  },
  {
   "cell_type": "code",
   "execution_count": 1,
   "id": "2acb560c",
   "metadata": {},
   "outputs": [
    {
     "name": "stdout",
     "output_type": "stream",
     "text": [
      "firstsecondthird"
     ]
    }
   ],
   "source": [
    "import threading\n",
    "\n",
    "class Foo:\n",
    "    def __init__(self):\n",
    "        self.second_event = threading.Event()\n",
    "        self.third_event = threading.Event()\n",
    "\n",
    "    def first(self, printFirst):\n",
    "        # printFirst() outputs \"first\".\n",
    "        printFirst()\n",
    "        # Signal that first() has been executed\n",
    "        self.second_event.set()\n",
    "\n",
    "    def second(self, printSecond):\n",
    "        # Wait for first() to be executed\n",
    "        self.second_event.wait()\n",
    "        # printSecond() outputs \"second\".\n",
    "        printSecond()\n",
    "        # Signal that second() has been executed\n",
    "        self.third_event.set()\n",
    "\n",
    "    def third(self, printThird):\n",
    "        # Wait for second() to be executed\n",
    "        self.third_event.wait()\n",
    "        # printThird() outputs \"third\".\n",
    "        printThird()\n",
    "\n",
    "# Example usage\n",
    "def printFirst(): print(\"first\", end=\"\")\n",
    "def printSecond(): print(\"second\", end=\"\")\n",
    "def printThird(): print(\"third\", end=\"\")\n",
    "\n",
    "foo = Foo()\n",
    "\n",
    "# Creating three threads\n",
    "t1 = threading.Thread(target=foo.first, args=(printFirst,))\n",
    "t2 = threading.Thread(target=foo.second, args=(printSecond,))\n",
    "t3 = threading.Thread(target=foo.third, args=(printThird,))\n",
    "\n",
    "# Starting the threads in different orders\n",
    "t3.start()\n",
    "t2.start()\n",
    "t1.start()\n",
    "\n",
    "# Waiting for all threads to finish\n",
    "t1.join()\n",
    "t2.join()\n",
    "t3.join()"
   ]
  },
  {
   "cell_type": "code",
   "execution_count": null,
   "id": "686cc54b",
   "metadata": {},
   "outputs": [],
   "source": []
  }
 ],
 "metadata": {
  "kernelspec": {
   "display_name": "Python 3 (ipykernel)",
   "language": "python",
   "name": "python3"
  },
  "language_info": {
   "codemirror_mode": {
    "name": "ipython",
    "version": 3
   },
   "file_extension": ".py",
   "mimetype": "text/x-python",
   "name": "python",
   "nbconvert_exporter": "python",
   "pygments_lexer": "ipython3",
   "version": "3.8.11"
  }
 },
 "nbformat": 4,
 "nbformat_minor": 5
}
