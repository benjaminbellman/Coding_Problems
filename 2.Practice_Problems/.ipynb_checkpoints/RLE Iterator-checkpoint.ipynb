{
 "cells": [
  {
   "cell_type": "markdown",
   "id": "e92eed06",
   "metadata": {},
   "source": [
    "# RLE Iterator"
   ]
  },
  {
   "cell_type": "markdown",
   "id": "c5ebc82a",
   "metadata": {},
   "source": [
    "We can use run-length encoding (i.e., RLE) to encode a sequence of integers. In a run-length encoded array of even length encoding (0-indexed), for all even i, encoding[i] tells us the number of times that the non-negative integer value encoding[i + 1] is repeated in the sequence.\n",
    "\n",
    "For example, the sequence arr = [8,8,8,5,5] can be encoded to be encoding = [3,8,2,5]. encoding = [3,8,0,9,2,5] and encoding = [2,8,1,8,2,5] are also valid RLE of arr.\n",
    "Given a run-length encoded array, design an iterator that iterates through it.\n",
    "\n",
    "Implement the RLEIterator class:\n",
    "\n",
    "RLEIterator(int[] encoded) Initializes the object with the encoded array encoded.\n",
    "int next(int n) Exhausts the next n elements and returns the last element exhausted in this way. If there is no element left to exhaust, return -1 instead.\n",
    " \n",
    "**Example 1:**\n",
    "\n",
    "Input\n",
    "[\"RLEIterator\", \"next\", \"next\", \"next\", \"next\"]\n",
    "[[[3, 8, 0, 9, 2, 5]], [2], [1], [1], [2]]\n",
    "Output\n",
    "[null, 8, 8, 5, -1]\n",
    "\n",
    "Explanation\n",
    "RLEIterator rLEIterator = new RLEIterator([3, 8, 0, 9, 2, 5]); // This maps to the sequence [8,8,8,5,5].\n",
    "rLEIterator.next(2); // exhausts 2 terms of the sequence, returning 8. The remaining sequence is now [8, 5, 5].\n",
    "rLEIterator.next(1); // exhausts 1 term of the sequence, returning 8. The remaining sequence is now [5, 5].\n",
    "rLEIterator.next(1); // exhausts 1 term of the sequence, returning 5. The remaining sequence is now [5].\n",
    "rLEIterator.next(2); // exhausts 2 terms, returning -1. This is because the first term exhausted was 5,\n",
    "but the second term did not exist. Since the last term exhausted does not exist, we return -1.\n",
    "\n",
    "**Constraints:**\n",
    "\n",
    "- 2 <= encoding.length <= 1000\n",
    "- encoding.length is even.\n",
    "- 0 <= encoding[i] <= 109\n",
    "- 1 <= n <= 109\n",
    "- At most 1000 calls will be made to next."
   ]
  },
  {
   "cell_type": "code",
   "execution_count": 1,
   "id": "ac25eca6",
   "metadata": {},
   "outputs": [],
   "source": [
    "class RLEIterator:\n",
    "    def __init__(self, encoded):\n",
    "        self.encoded = encoded\n",
    "        self.index = 0\n",
    "        self.current_count = 0\n",
    "        if self.encoded:\n",
    "            self.current_count = self.encoded[self.index]\n",
    "            self.current_value = self.encoded[self.index + 1]\n",
    "    \n",
    "    def next(self, n):\n",
    "        while n > 0 and self.index < len(self.encoded):\n",
    "            if n <= self.current_count:\n",
    "                self.current_count -= n\n",
    "                return self.current_value\n",
    "            else:\n",
    "                n -= self.current_count\n",
    "                self.index += 2\n",
    "                if self.index < len(self.encoded):\n",
    "                    self.current_count = self.encoded[self.index]\n",
    "                    self.current_value = self.encoded[self.index + 1]\n",
    "                else:\n",
    "                    self.current_count = 0\n",
    "        \n",
    "        return -1"
   ]
  },
  {
   "cell_type": "code",
   "execution_count": 2,
   "id": "21c78365",
   "metadata": {},
   "outputs": [
    {
     "name": "stdout",
     "output_type": "stream",
     "text": [
      "8\n",
      "8\n",
      "5\n",
      "-1\n"
     ]
    }
   ],
   "source": [
    "# Initialize the iterator with the encoded array\n",
    "rLEIterator = RLEIterator([3, 8, 0, 9, 2, 5])\n",
    "\n",
    "# Process the requests\n",
    "print(rLEIterator.next(2))  # Output: 8\n",
    "print(rLEIterator.next(1))  # Output: 8\n",
    "print(rLEIterator.next(1))  # Output: 5\n",
    "print(rLEIterator.next(2))  # Output: -1"
   ]
  },
  {
   "cell_type": "code",
   "execution_count": null,
   "id": "2c2e3242",
   "metadata": {},
   "outputs": [],
   "source": []
  }
 ],
 "metadata": {
  "kernelspec": {
   "display_name": "Python 3 (ipykernel)",
   "language": "python",
   "name": "python3"
  },
  "language_info": {
   "codemirror_mode": {
    "name": "ipython",
    "version": 3
   },
   "file_extension": ".py",
   "mimetype": "text/x-python",
   "name": "python",
   "nbconvert_exporter": "python",
   "pygments_lexer": "ipython3",
   "version": "3.8.11"
  }
 },
 "nbformat": 4,
 "nbformat_minor": 5
}
