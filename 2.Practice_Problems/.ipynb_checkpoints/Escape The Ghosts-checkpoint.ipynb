{
 "cells": [
  {
   "cell_type": "markdown",
   "id": "44db6da7",
   "metadata": {},
   "source": [
    "# Escape The Ghosts"
   ]
  },
  {
   "cell_type": "markdown",
   "id": "b83bc51a",
   "metadata": {},
   "source": [
    "You are playing a simplified PAC-MAN game on an infinite 2-D grid. You start at the point [0, 0], and you are given a destination point target = [xtarget, ytarget] that you are trying to get to. There are several ghosts on the map with their starting positions given as a 2D array ghosts, where ghosts[i] = [xi, yi] represents the starting position of the ith ghost. All inputs are integral coordinates.\n",
    "\n",
    "Each turn, you and all the ghosts may independently choose to either move 1 unit in any of the four cardinal directions: north, east, south, or west, or stay still. All actions happen simultaneously.\n",
    "\n",
    "You escape if and only if you can reach the target before any ghost reaches you. If you reach any square (including the target) at the same time as a ghost, it does not count as an escape.\n",
    "\n",
    "Return true if it is possible to escape regardless of how the ghosts move, otherwise return false.\n",
    "\n",
    " \n",
    "\n",
    "**Example 1:**\n",
    "\n",
    "Input: ghosts = [[1,0],[0,3]], target = [0,1]\n",
    "\n",
    "Output: true\n",
    "Explanation: You can reach the destination (0, 1) after 1 turn, while the ghosts located at (1, 0) and (0, 3) cannot catch up with you.\n",
    "\n",
    "**Example 2:**\n",
    "\n",
    "Input: ghosts = [[1,0]], target = [2,0]\n",
    "\n",
    "Output: false\n",
    "Explanation: You need to reach the destination (2, 0), but the ghost at (1, 0) lies between you and the destination.\n",
    "\n",
    "**Example 3:**\n",
    "\n",
    "Input: ghosts = [[2,0]], target = [1,0]\n",
    "\n",
    "Output: false\n",
    "Explanation: The ghost can reach the target at the same time as you.\n",
    " \n",
    "\n",
    "**Constraints:**\n",
    "\n",
    "- 1 <= ghosts.length <= 100\n",
    "- ghosts[i].length == 2\n",
    "- -104 <= xi, yi <= 104\n",
    "- There can be multiple ghosts in the same location.\n",
    "- target.length == 2\n",
    "- -104 <= xtarget, ytarget <= 104"
   ]
  },
  {
   "cell_type": "code",
   "execution_count": 1,
   "id": "5d931db8",
   "metadata": {},
   "outputs": [
    {
     "name": "stdout",
     "output_type": "stream",
     "text": [
      "True\n",
      "False\n",
      "False\n"
     ]
    }
   ],
   "source": [
    "def canEscape(ghosts, target):\n",
    "    def manhattanDistance(point1, point2):\n",
    "        return abs(point1[0] - point2[0]) + abs(point1[1] - point2[1])\n",
    "    \n",
    "    player_distance = manhattanDistance([0, 0], target)\n",
    "    \n",
    "    for ghost in ghosts:\n",
    "        ghost_distance = manhattanDistance(ghost, target)\n",
    "        if ghost_distance <= player_distance:\n",
    "            return False\n",
    "    \n",
    "    return True\n",
    "\n",
    "# Example usage:\n",
    "ghosts1 = [[1, 0], [0, 3]]\n",
    "target1 = [0, 1]\n",
    "print(canEscape(ghosts1, target1))  # Output: True\n",
    "\n",
    "ghosts2 = [[1, 0]]\n",
    "target2 = [2, 0]\n",
    "print(canEscape(ghosts2, target2))  # Output: False\n",
    "\n",
    "ghosts3 = [[2, 0]]\n",
    "target3 = [1, 0]\n",
    "print(canEscape(ghosts3, target3))  # Output: False"
   ]
  },
  {
   "cell_type": "code",
   "execution_count": null,
   "id": "86fb1ab8",
   "metadata": {},
   "outputs": [],
   "source": []
  }
 ],
 "metadata": {
  "kernelspec": {
   "display_name": "Python 3",
   "language": "python",
   "name": "python3"
  },
  "language_info": {
   "codemirror_mode": {
    "name": "ipython",
    "version": 3
   },
   "file_extension": ".py",
   "mimetype": "text/x-python",
   "name": "python",
   "nbconvert_exporter": "python",
   "pygments_lexer": "ipython3",
   "version": "3.9.13"
  }
 },
 "nbformat": 4,
 "nbformat_minor": 5
}
