{
 "cells": [
  {
   "cell_type": "markdown",
   "id": "464e117f",
   "metadata": {},
   "source": [
    "# Check Completeness of a Binary Tree"
   ]
  },
  {
   "cell_type": "markdown",
   "id": "c2112b3a",
   "metadata": {},
   "source": [
    "Given the root of a binary tree, determine if it is a complete binary tree.\n",
    "\n",
    "In a complete binary tree, every level, except possibly the last, is completely filled, and all nodes in the last level are as far left as possible. It can have between 1 and 2h nodes inclusive at the last level h.\n",
    "\n",
    "**Example 1:**\n",
    "\n",
    "Input: root = [1,2,3,4,5,6]\n",
    "Output: true\n",
    "Explanation: Every level before the last is full (ie. levels with node-values {1} and {2, 3}), and all nodes in the last level ({4, 5, 6}) are as far left as possible.\n",
    "\n",
    "**Example 2:**\n",
    "\n",
    "Input: root = [1,2,3,4,5,null,7]\n",
    "Output: false\n",
    "Explanation: The node with value 7 isn't as far left as possible.\n",
    "\n",
    "**Constraints:**\n",
    "\n",
    "- The number of nodes in the tree is in the range [1, 100].\n",
    "- 1 <= Node.val <= 1000"
   ]
  },
  {
   "cell_type": "code",
   "execution_count": 1,
   "id": "c20b2ca8",
   "metadata": {},
   "outputs": [],
   "source": [
    "from collections import deque\n",
    "\n",
    "class TreeNode:\n",
    "    def __init__(self, val=0, left=None, right=None):\n",
    "        self.val = val\n",
    "        self.left = left\n",
    "        self.right = right\n",
    "\n",
    "def isCompleteTree(root: TreeNode) -> bool:\n",
    "    if not root:\n",
    "        return True\n",
    "    \n",
    "    queue = deque([root])\n",
    "    seen_null = False\n",
    "    \n",
    "    while queue:\n",
    "        node = queue.popleft()\n",
    "        \n",
    "        if not node:\n",
    "            seen_null = True\n",
    "        else:\n",
    "            if seen_null:\n",
    "                # If we have seen a null node before, but now we're seeing a non-null node\n",
    "                return False\n",
    "            queue.append(node.left)\n",
    "            queue.append(node.right)\n",
    "    \n",
    "    return True\n",
    "\n",
    "# Example usage:\n",
    "# root = TreeNode(1)\n",
    "# root.left = TreeNode(2)\n",
    "# root.right = TreeNode(3)\n",
    "# root.left.left = TreeNode(4)\n",
    "# root.left.right = TreeNode(5)\n",
    "# root.right.left = TreeNode(6)\n",
    "# print(isCompleteTree(root))  # Output: True"
   ]
  },
  {
   "cell_type": "code",
   "execution_count": null,
   "id": "bbc8200a",
   "metadata": {},
   "outputs": [],
   "source": []
  }
 ],
 "metadata": {
  "kernelspec": {
   "display_name": "Python 3 (ipykernel)",
   "language": "python",
   "name": "python3"
  },
  "language_info": {
   "codemirror_mode": {
    "name": "ipython",
    "version": 3
   },
   "file_extension": ".py",
   "mimetype": "text/x-python",
   "name": "python",
   "nbconvert_exporter": "python",
   "pygments_lexer": "ipython3",
   "version": "3.8.11"
  }
 },
 "nbformat": 4,
 "nbformat_minor": 5
}
