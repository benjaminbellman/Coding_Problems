{
 "cells": [
  {
   "cell_type": "markdown",
   "id": "adee9f69",
   "metadata": {},
   "source": [
    "# Detect Capital"
   ]
  },
  {
   "cell_type": "markdown",
   "id": "baa40101",
   "metadata": {},
   "source": [
    "We define the usage of capitals in a word to be right when one of the following cases holds:\n",
    "\n",
    "All letters in this word are capitals, like \"USA\".\n",
    "All letters in this word are not capitals, like \"leetcode\".\n",
    "Only the first letter in this word is capital, like \"Google\".\n",
    "Given a string word, return true if the usage of capitals in it is right.\n",
    "\n",
    " \n",
    "\n",
    "**Example 1:**\n",
    "\n",
    "Input: word = \"USA\"\n",
    "Output: true\n",
    "\n",
    "**Example 2:**\n",
    "\n",
    "Input: word = \"FlaG\"\n",
    "Output: false\n",
    " \n",
    "\n",
    "**Constraints:**\n",
    "\n",
    "- 1 <= word.length <= 100\n",
    "- word consists of lowercase and uppercase English letters."
   ]
  },
  {
   "cell_type": "code",
   "execution_count": 1,
   "id": "bd031131",
   "metadata": {},
   "outputs": [
    {
     "name": "stdout",
     "output_type": "stream",
     "text": [
      "True\n",
      "False\n"
     ]
    }
   ],
   "source": [
    "def detectCapitalUse(word: str) -> bool:\n",
    "    # All letters are capitals\n",
    "    if word.isupper():\n",
    "        return True\n",
    "    # All letters are not capitals\n",
    "    if word.islower():\n",
    "        return True\n",
    "    # Only the first letter is capital\n",
    "    if word[0].isupper() and word[1:].islower():\n",
    "        return True\n",
    "    # If none of the above conditions are satisfied, return False\n",
    "    return False\n",
    "\n",
    "# Example\n",
    "print(detectCapitalUse(\"USA\"))  # True\n",
    "print(detectCapitalUse(\"FlaG\")) # False"
   ]
  },
  {
   "cell_type": "code",
   "execution_count": null,
   "id": "2edfe217",
   "metadata": {},
   "outputs": [],
   "source": []
  }
 ],
 "metadata": {
  "kernelspec": {
   "display_name": "Python 3",
   "language": "python",
   "name": "python3"
  },
  "language_info": {
   "codemirror_mode": {
    "name": "ipython",
    "version": 3
   },
   "file_extension": ".py",
   "mimetype": "text/x-python",
   "name": "python",
   "nbconvert_exporter": "python",
   "pygments_lexer": "ipython3",
   "version": "3.9.13"
  }
 },
 "nbformat": 4,
 "nbformat_minor": 5
}
