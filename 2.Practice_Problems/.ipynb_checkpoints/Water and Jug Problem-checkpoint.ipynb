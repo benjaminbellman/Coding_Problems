{
 "cells": [
  {
   "cell_type": "markdown",
   "id": "278094bd",
   "metadata": {},
   "source": [
    "# Water and Jug Problem"
   ]
  },
  {
   "cell_type": "markdown",
   "id": "8730a01d",
   "metadata": {},
   "source": [
    "You are given two jugs with capacities jug1Capacity and jug2Capacity liters. There is an infinite amount of water supply available. Determine whether it is possible to measure exactly targetCapacity liters using these two jugs.\n",
    "\n",
    "If targetCapacity liters of water are measurable, you must have targetCapacity liters of water contained within one or both buckets by the end.\n",
    "\n",
    "Operations allowed:\n",
    "\n",
    "Fill any of the jugs with water.\n",
    "Empty any of the jugs.\n",
    "Pour water from one jug into another till the other jug is completely full, or the first jug itself is empty.\n",
    " \n",
    "\n",
    "**Example 1:**\n",
    "\n",
    "Input: jug1Capacity = 3, jug2Capacity = 5, targetCapacity = 4\n",
    "Output: true\n",
    "Explanation: The famous Die Hard example \n",
    "\n",
    "**Example 2:**\n",
    "\n",
    "Input: jug1Capacity = 2, jug2Capacity = 6, targetCapacity = 5\n",
    "Output: false\n",
    "\n",
    "**Example 3:**\n",
    "\n",
    "Input: jug1Capacity = 1, jug2Capacity = 2, targetCapacity = 3\n",
    "Output: true\n",
    " \n",
    "\n",
    "**Constraints:**\n",
    "\n",
    "1 <= jug1Capacity, jug2Capacity, targetCapacity <= 106"
   ]
  },
  {
   "cell_type": "code",
   "execution_count": 1,
   "id": "287a5a22",
   "metadata": {},
   "outputs": [
    {
     "name": "stdout",
     "output_type": "stream",
     "text": [
      "True\n",
      "False\n",
      "True\n"
     ]
    }
   ],
   "source": [
    "from collections import deque\n",
    "\n",
    "def canMeasureWater(jug1Capacity, jug2Capacity, targetCapacity):\n",
    "    if targetCapacity > jug1Capacity + jug2Capacity:\n",
    "        return False\n",
    "    \n",
    "    visited = set()\n",
    "    queue = deque([(0, 0)])\n",
    "    \n",
    "    while queue:\n",
    "        jug1, jug2 = queue.popleft()\n",
    "        \n",
    "        if jug1 + jug2 == targetCapacity:\n",
    "            return True\n",
    "        \n",
    "        if (jug1, jug2) in visited:\n",
    "            continue\n",
    "        \n",
    "        visited.add((jug1, jug2))\n",
    "        \n",
    "        # Fill jug1\n",
    "        if jug1 < jug1Capacity:\n",
    "            queue.append((jug1Capacity, jug2))\n",
    "        \n",
    "        # Fill jug2\n",
    "        if jug2 < jug2Capacity:\n",
    "            queue.append((jug1, jug2Capacity))\n",
    "        \n",
    "        # Empty jug1\n",
    "        if jug1 > 0:\n",
    "            queue.append((0, jug2))\n",
    "        \n",
    "        # Empty jug2\n",
    "        if jug2 > 0:\n",
    "            queue.append((jug1, 0))\n",
    "        \n",
    "        # Pour from jug1 to jug2\n",
    "        pour_amount = min(jug1, jug2Capacity - jug2)\n",
    "        queue.append((jug1 - pour_amount, jug2 + pour_amount))\n",
    "        \n",
    "        # Pour from jug2 to jug1\n",
    "        pour_amount = min(jug2, jug1Capacity - jug1)\n",
    "        queue.append((jug1 + pour_amount, jug2 - pour_amount))\n",
    "    \n",
    "    return False\n",
    "\n",
    "# Testing the code with examples from the prompt\n",
    "\n",
    "# Example 1\n",
    "jug1Capacity = 3\n",
    "jug2Capacity = 5\n",
    "targetCapacity = 4\n",
    "print(canMeasureWater(jug1Capacity, jug2Capacity, targetCapacity))  # Output: True\n",
    "\n",
    "# Example 2\n",
    "jug1Capacity = 2\n",
    "jug2Capacity = 6\n",
    "targetCapacity = 5\n",
    "print(canMeasureWater(jug1Capacity, jug2Capacity, targetCapacity))  # Output: False\n",
    "\n",
    "# Example 3\n",
    "jug1Capacity = 1\n",
    "jug2Capacity = 2\n",
    "targetCapacity = 3\n",
    "print(canMeasureWater(jug1Capacity, jug2Capacity, targetCapacity))  # Output: True"
   ]
  },
  {
   "cell_type": "code",
   "execution_count": null,
   "id": "9fbe2849",
   "metadata": {},
   "outputs": [],
   "source": []
  }
 ],
 "metadata": {
  "kernelspec": {
   "display_name": "Python 3",
   "language": "python",
   "name": "python3"
  },
  "language_info": {
   "codemirror_mode": {
    "name": "ipython",
    "version": 3
   },
   "file_extension": ".py",
   "mimetype": "text/x-python",
   "name": "python",
   "nbconvert_exporter": "python",
   "pygments_lexer": "ipython3",
   "version": "3.9.13"
  }
 },
 "nbformat": 4,
 "nbformat_minor": 5
}
