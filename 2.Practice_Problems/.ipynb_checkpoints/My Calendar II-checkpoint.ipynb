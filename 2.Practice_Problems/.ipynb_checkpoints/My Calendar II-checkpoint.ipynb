{
 "cells": [
  {
   "cell_type": "markdown",
   "id": "999c058a",
   "metadata": {},
   "source": [
    "# My Calendar II"
   ]
  },
  {
   "cell_type": "markdown",
   "id": "7bc4d734",
   "metadata": {},
   "source": [
    "You are implementing a program to use as your calendar. We can add a new event if adding the event will not cause a triple booking.\n",
    "\n",
    "A triple booking happens when three events have some non-empty intersection (i.e., some moment is common to all the three events.).\n",
    "\n",
    "The event can be represented as a pair of integers start and end that represents a booking on the half-open interval [start, end), the range of real numbers x such that start <= x < end.\n",
    "\n",
    "Implement the MyCalendarTwo class:\n",
    "\n",
    "MyCalendarTwo() Initializes the calendar object.\n",
    "boolean book(int start, int end) Returns true if the event can be added to the calendar successfully without causing a triple booking. Otherwise, return false and do not add the event to the calendar.\n",
    " \n",
    "\n",
    "**Example 1:**\n",
    "\n",
    "Input\n",
    "\n",
    "    [\"MyCalendarTwo\", \"book\", \"book\", \"book\", \"book\", \"book\", \"book\"]\n",
    "    [[], [10, 20], [50, 60], [10, 40], [5, 15], [5, 10], [25, 55]]\n",
    "\n",
    "Output\n",
    "\n",
    "    [null, true, true, true, false, true, true]\n",
    "\n",
    "Explanation\n",
    "\n",
    "MyCalendarTwo myCalendarTwo = new MyCalendarTwo();\n",
    "myCalendarTwo.book(10, 20); // return True, The event can be booked. \n",
    "myCalendarTwo.book(50, 60); // return True, The event can be booked. \n",
    "myCalendarTwo.book(10, 40); // return True, The event can be double booked. \n",
    "myCalendarTwo.book(5, 15);  // return False, The event cannot be booked, because it would result in a triple booking.\n",
    "myCalendarTwo.book(5, 10); // return True, The event can be booked, as it does not use time 10 which is already double booked.\n",
    "myCalendarTwo.book(25, 55); // return True, The event can be booked, as the time in [25, 40) will be double booked with the third event, the time [40, 50) will be single booked, and the time [50, 55) will be double booked with the second event.\n",
    " \n",
    "\n",
    "**Constraints:**\n",
    "\n",
    "- 0 <= start < end <= 109\n",
    "- At most 1000 calls will be made to book."
   ]
  },
  {
   "cell_type": "code",
   "execution_count": 1,
   "id": "6fabb935",
   "metadata": {},
   "outputs": [],
   "source": [
    "class MyCalendarTwo:\n",
    "    def __init__(self):\n",
    "        self.calendar = []\n",
    "        self.overlaps = []\n",
    "\n",
    "    def book(self, start: int, end: int) -> bool:\n",
    "        for s, e in self.overlaps:\n",
    "            if start < e and end > s:\n",
    "                return False\n",
    "        \n",
    "        for s, e in self.calendar:\n",
    "            if start < e and end > s:\n",
    "                self.overlaps.append((max(start, s), min(end, e)))\n",
    "        \n",
    "        self.calendar.append((start, end))\n",
    "        return True"
   ]
  },
  {
   "cell_type": "code",
   "execution_count": 2,
   "id": "9999f639",
   "metadata": {},
   "outputs": [
    {
     "name": "stdout",
     "output_type": "stream",
     "text": [
      "True\n",
      "True\n",
      "True\n",
      "False\n",
      "True\n",
      "True\n"
     ]
    }
   ],
   "source": [
    "myCalendarTwo = MyCalendarTwo()\n",
    "print(myCalendarTwo.book(10, 20)) # True\n",
    "print(myCalendarTwo.book(50, 60)) # True\n",
    "print(myCalendarTwo.book(10, 40)) # True\n",
    "print(myCalendarTwo.book(5, 15))  # False\n",
    "print(myCalendarTwo.book(5, 10)) # True\n",
    "print(myCalendarTwo.book(25, 55)) # True"
   ]
  },
  {
   "cell_type": "code",
   "execution_count": null,
   "id": "0ec2daa6",
   "metadata": {},
   "outputs": [],
   "source": []
  }
 ],
 "metadata": {
  "kernelspec": {
   "display_name": "Python 3",
   "language": "python",
   "name": "python3"
  },
  "language_info": {
   "codemirror_mode": {
    "name": "ipython",
    "version": 3
   },
   "file_extension": ".py",
   "mimetype": "text/x-python",
   "name": "python",
   "nbconvert_exporter": "python",
   "pygments_lexer": "ipython3",
   "version": "3.9.13"
  }
 },
 "nbformat": 4,
 "nbformat_minor": 5
}
