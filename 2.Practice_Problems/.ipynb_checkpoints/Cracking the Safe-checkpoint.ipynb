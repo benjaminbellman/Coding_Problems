{
 "cells": [
  {
   "cell_type": "markdown",
   "id": "b2c7d84f",
   "metadata": {},
   "source": [
    "# Cracking the Safe"
   ]
  },
  {
   "cell_type": "markdown",
   "id": "c9038c6f",
   "metadata": {},
   "source": [
    "There is a safe protected by a password. The password is a sequence of n digits where each digit can be in the range [0, k - 1].\n",
    "\n",
    "The safe has a peculiar way of checking the password. When you enter in a sequence, it checks the most recent n digits that were entered each time you type a digit.\n",
    "\n",
    "For example, the correct password is \"345\" and you enter in \"012345\":\n",
    "After typing 0, the most recent 3 digits is \"0\", which is incorrect.\n",
    "After typing 1, the most recent 3 digits is \"01\", which is incorrect.\n",
    "After typing 2, the most recent 3 digits is \"012\", which is incorrect.\n",
    "After typing 3, the most recent 3 digits is \"123\", which is incorrect.\n",
    "After typing 4, the most recent 3 digits is \"234\", which is incorrect.\n",
    "After typing 5, the most recent 3 digits is \"345\", which is correct and the safe unlocks.\n",
    "Return any string of minimum length that will unlock the safe at some point of entering it.\n",
    "\n",
    " \n",
    "\n",
    "**Example 1:**\n",
    "\n",
    "Input: n = 1, k = 2\n",
    "\n",
    "Output: \"10\"\n",
    "Explanation: The password is a single digit, so enter each digit. \"01\" would also unlock the safe.\n",
    "\n",
    "**Example 2:**\n",
    "\n",
    "Input: n = 2, k = 2\n",
    "\n",
    "Output: \"01100\"\n",
    "Explanation: For each possible password:\n",
    "- \"00\" is typed in starting from the 4th digit.\n",
    "- \"01\" is typed in starting from the 1st digit.\n",
    "- \"10\" is typed in starting from the 3rd digit.\n",
    "- \"11\" is typed in starting from the 2nd digit.\n",
    "Thus \"01100\" will unlock the safe. \"10011\", and \"11001\" would also unlock the safe.\n",
    " \n",
    "\n",
    "**Constraints:**\n",
    "\n",
    "- 1 <= n <= 4\n",
    "- 1 <= k <= 10\n",
    "- 1 <= kn <= 4096"
   ]
  },
  {
   "cell_type": "code",
   "execution_count": 1,
   "id": "584b3f82",
   "metadata": {},
   "outputs": [
    {
     "name": "stdout",
     "output_type": "stream",
     "text": [
      "001\n",
      "000110\n"
     ]
    }
   ],
   "source": [
    "def crackSafe(n, k):\n",
    "    total_digits = n * k\n",
    "    visited = set()\n",
    "    password = ['0'] * n\n",
    "\n",
    "    def dfs(node):\n",
    "        if len(visited) == total_digits:\n",
    "            return True\n",
    "        for i in range(k):\n",
    "            new_node = node + str(i)\n",
    "            if new_node not in visited:\n",
    "                visited.add(new_node)\n",
    "                password.append(str(i))\n",
    "                if dfs(new_node[1:]):\n",
    "                    return True\n",
    "                visited.remove(new_node)\n",
    "                password.pop()\n",
    "        return False\n",
    "\n",
    "    dfs('0' * (n - 1))\n",
    "    return ''.join(password)\n",
    "\n",
    "# Example usage:\n",
    "n1, k1 = 1, 2\n",
    "print(crackSafe(n1, k1))  # Output: \"10\"\n",
    "\n",
    "n2, k2 = 2, 2\n",
    "print(crackSafe(n2, k2))  # Output: \"01100\""
   ]
  },
  {
   "cell_type": "code",
   "execution_count": null,
   "id": "20d7b2eb",
   "metadata": {},
   "outputs": [],
   "source": []
  }
 ],
 "metadata": {
  "kernelspec": {
   "display_name": "Python 3",
   "language": "python",
   "name": "python3"
  },
  "language_info": {
   "codemirror_mode": {
    "name": "ipython",
    "version": 3
   },
   "file_extension": ".py",
   "mimetype": "text/x-python",
   "name": "python",
   "nbconvert_exporter": "python",
   "pygments_lexer": "ipython3",
   "version": "3.9.13"
  }
 },
 "nbformat": 4,
 "nbformat_minor": 5
}
