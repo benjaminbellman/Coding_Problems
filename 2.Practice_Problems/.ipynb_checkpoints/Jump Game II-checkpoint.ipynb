{
 "cells": [
  {
   "cell_type": "markdown",
   "id": "38cbf5c7",
   "metadata": {},
   "source": [
    "# Jump Game II"
   ]
  },
  {
   "cell_type": "markdown",
   "id": "d7fd3996",
   "metadata": {},
   "source": [
    "You are given a 0-indexed array of integers nums of length n. You are initially positioned at nums[0].\n",
    "\n",
    "Each element nums[i] represents the maximum length of a forward jump from index i. In other words, if you are at nums[i], you can jump to any nums[i + j] where:\n",
    "\n",
    "0 <= j <= nums[i] and\n",
    "i + j < n\n",
    "Return the minimum number of jumps to reach nums[n - 1]. The test cases are generated such that you can reach nums[n - 1].\n",
    "\n",
    "**Example 1:**\n",
    "\n",
    "Input: nums = [2,3,1,1,4]\n",
    "Output: 2\n",
    "Explanation: The minimum number of jumps to reach the last index is 2. Jump 1 step from index 0 to 1, then 3 steps to the last index.\n",
    "\n",
    "**Example 2:**\n",
    "\n",
    "Input: nums = [2,3,0,1,4]\n",
    "Output: 2\n",
    " \n",
    "**Constraints:**\n",
    "\n",
    "- 1 <= nums.length <= 104\n",
    "- 0 <= nums[i] <= 1000\n",
    "- It's guaranteed that you can reach nums[n - 1]."
   ]
  },
  {
   "cell_type": "code",
   "execution_count": 1,
   "id": "d8b332b5",
   "metadata": {},
   "outputs": [],
   "source": [
    "def jump(nums):\n",
    "    n = len(nums)\n",
    "    jumps = 0\n",
    "    current_end = 0\n",
    "    farthest = 0\n",
    "\n",
    "    for i in range(n - 1):  # we don't need to jump from the last index\n",
    "        farthest = max(farthest, i + nums[i])\n",
    "        if i == current_end:\n",
    "            jumps += 1\n",
    "            current_end = farthest\n",
    "    return jumps"
   ]
  },
  {
   "cell_type": "code",
   "execution_count": null,
   "id": "e8b9898d",
   "metadata": {},
   "outputs": [],
   "source": []
  }
 ],
 "metadata": {
  "kernelspec": {
   "display_name": "Python 3 (ipykernel)",
   "language": "python",
   "name": "python3"
  },
  "language_info": {
   "codemirror_mode": {
    "name": "ipython",
    "version": 3
   },
   "file_extension": ".py",
   "mimetype": "text/x-python",
   "name": "python",
   "nbconvert_exporter": "python",
   "pygments_lexer": "ipython3",
   "version": "3.8.11"
  }
 },
 "nbformat": 4,
 "nbformat_minor": 5
}
