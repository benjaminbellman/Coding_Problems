{
 "cells": [
  {
   "cell_type": "markdown",
   "id": "3ea8ab32",
   "metadata": {},
   "source": [
    "# Delete Columns to Make Sorted III"
   ]
  },
  {
   "cell_type": "markdown",
   "id": "bf44ba3b",
   "metadata": {},
   "source": [
    "You are given an array of n strings strs, all of the same length.\n",
    "\n",
    "We may choose any deletion indices, and we delete all the characters in those indices for each string.\n",
    "\n",
    "For example, if we have strs = [\"abcdef\",\"uvwxyz\"] and deletion indices {0, 2, 3}, then the final array after deletions is [\"bef\", \"vyz\"].\n",
    "\n",
    "Suppose we chose a set of deletion indices answer such that after deletions, the final array has every string (row) in lexicographic order. (i.e., (strs[0][0] <= strs[0][1] <= ... <= strs[0][strs[0].length - 1]), and (strs[1][0] <= strs[1][1] <= ... <= strs[1][strs[1].length - 1]), and so on). Return the minimum possible value of answer.length.\n",
    "\n",
    "**Example 1:**\n",
    "\n",
    "Input: strs = [\"babca\",\"bbazb\"]\n",
    "Output: 3\n",
    "Explanation: After deleting columns 0, 1, and 4, the final array is strs = [\"bc\", \"az\"].\n",
    "Both these rows are individually in lexicographic order (ie. strs[0][0] <= strs[0][1] and strs[1][0] <= strs[1][1]).\n",
    "Note that strs[0] > strs[1] - the array strs is not necessarily in lexicographic order.\n",
    "\n",
    "**Example 2:**\n",
    "\n",
    "Input: strs = [\"edcba\"]\n",
    "Output: 4\n",
    "Explanation: If we delete less than 4 columns, the only row will not be lexicographically sorted.\n",
    "\n",
    "**Example 3:**\n",
    "\n",
    "Input: strs = [\"ghi\",\"def\",\"abc\"]\n",
    "Output: 0\n",
    "Explanation: All rows are already lexicographically sorted."
   ]
  },
  {
   "cell_type": "code",
   "execution_count": 1,
   "id": "802d9d8e",
   "metadata": {},
   "outputs": [],
   "source": [
    "def minDeletionSize(strs):\n",
    "    n, m = len(strs), len(strs[0])\n",
    "    dp = [1] * m  # dp[i] represents the longest sorted sequence ending at column i\n",
    "\n",
    "    for i in range(1, m):\n",
    "        for j in range(i):\n",
    "            if all(strs[k][j] <= strs[k][i] for k in range(n)):\n",
    "                dp[i] = max(dp[i], dp[j] + 1)\n",
    "\n",
    "    return m - max(dp)  # Total columns minus the longest sorted sequence"
   ]
  },
  {
   "cell_type": "code",
   "execution_count": null,
   "id": "602f4555",
   "metadata": {},
   "outputs": [],
   "source": []
  }
 ],
 "metadata": {
  "kernelspec": {
   "display_name": "Python 3 (ipykernel)",
   "language": "python",
   "name": "python3"
  },
  "language_info": {
   "codemirror_mode": {
    "name": "ipython",
    "version": 3
   },
   "file_extension": ".py",
   "mimetype": "text/x-python",
   "name": "python",
   "nbconvert_exporter": "python",
   "pygments_lexer": "ipython3",
   "version": "3.8.11"
  }
 },
 "nbformat": 4,
 "nbformat_minor": 5
}
