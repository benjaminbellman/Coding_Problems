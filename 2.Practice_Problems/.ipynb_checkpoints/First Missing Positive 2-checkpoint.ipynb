{
 "cells": [
  {
   "cell_type": "markdown",
   "id": "902d03a4",
   "metadata": {},
   "source": [
    "# First Missing Positive"
   ]
  },
  {
   "cell_type": "markdown",
   "id": "972652fa",
   "metadata": {},
   "source": [
    "Given an unsorted integer array nums. Return the smallest positive integer that is not present in nums.\n",
    "\n",
    "You must implement an algorithm that runs in O(n) time and uses O(1) auxiliary space.\n",
    "\n",
    "**Example 1:**\n",
    "\n",
    "Input: nums = [1,2,0]\n",
    "Output: 3\n",
    "Explanation: The numbers in the range [1,2] are all in the array.\n",
    "\n",
    "**Example 2:**\n",
    "\n",
    "Input: nums = [3,4,-1,1]\n",
    "Output: 2\n",
    "Explanation: 1 is in the array but 2 is missing.\n",
    "\n",
    "**Example 3:**\n",
    "\n",
    "Input: nums = [7,8,9,11,12]\n",
    "Output: 1\n",
    "Explanation: The smallest positive integer 1 is missing.\n",
    " \n",
    "\n",
    "**Constraints:**\n",
    "\n",
    "- 1 <= nums.length <= 105\n",
    "- -231 <= nums[i] <= 231 - 1"
   ]
  },
  {
   "cell_type": "code",
   "execution_count": 1,
   "id": "361a7869",
   "metadata": {},
   "outputs": [],
   "source": [
    "def firstMissingPositive(nums):\n",
    "    n = len(nums)\n",
    "    \n",
    "    for i in range(n):\n",
    "        while (\n",
    "            1 <= nums[i] <= n and\n",
    "            nums[nums[i] - 1] != nums[i]\n",
    "        ):\n",
    "            # Swap nums[i] with nums[nums[i] - 1]\n",
    "            correct_index = nums[i] - 1\n",
    "            nums[i], nums[correct_index] = nums[correct_index], nums[i]\n",
    "    \n",
    "    # After rearranging, find the first location where index + 1 != value\n",
    "    for i in range(n):\n",
    "        if nums[i] != i + 1:\n",
    "            return i + 1\n",
    "\n",
    "    # If all values from 1 to n are present, return n + 1\n",
    "    return n + 1"
   ]
  },
  {
   "cell_type": "code",
   "execution_count": null,
   "id": "4a2bbb95",
   "metadata": {},
   "outputs": [],
   "source": []
  }
 ],
 "metadata": {
  "kernelspec": {
   "display_name": "Python 3 (ipykernel)",
   "language": "python",
   "name": "python3"
  },
  "language_info": {
   "codemirror_mode": {
    "name": "ipython",
    "version": 3
   },
   "file_extension": ".py",
   "mimetype": "text/x-python",
   "name": "python",
   "nbconvert_exporter": "python",
   "pygments_lexer": "ipython3",
   "version": "3.8.11"
  }
 },
 "nbformat": 4,
 "nbformat_minor": 5
}
