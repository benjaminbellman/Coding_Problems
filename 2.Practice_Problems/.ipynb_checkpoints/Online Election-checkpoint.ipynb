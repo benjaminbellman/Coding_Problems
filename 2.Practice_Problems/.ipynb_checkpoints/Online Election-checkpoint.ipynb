{
 "cells": [
  {
   "cell_type": "markdown",
   "id": "13516b8f",
   "metadata": {},
   "source": [
    "# Online Election"
   ]
  },
  {
   "cell_type": "markdown",
   "id": "e569c21f",
   "metadata": {},
   "source": [
    "You are given two integer arrays persons and times. In an election, the ith vote was cast for persons[i] at time times[i].\n",
    "\n",
    "For each query at a time t, find the person that was leading the election at time t. Votes cast at time t will count towards our query. In the case of a tie, the most recent vote (among tied candidates) wins.\n",
    "\n",
    "Implement the TopVotedCandidate class:\n",
    "\n",
    "TopVotedCandidate(int[] persons, int[] times) Initializes the object with the persons and times arrays.\n",
    "int q(int t) Returns the number of the person that was leading the election at time t according to the mentioned rules.\n",
    " \n",
    "\n",
    "**Example 1:**\n",
    "\n",
    "Input\n",
    "[\"TopVotedCandidate\", \"q\", \"q\", \"q\", \"q\", \"q\", \"q\"]\n",
    "[[[0, 1, 1, 0, 0, 1, 0], [0, 5, 10, 15, 20, 25, 30]], [3], [12], [25], [15], [24], [8]]\n",
    "Output\n",
    "[null, 0, 1, 1, 0, 0, 1]\n",
    "\n",
    "Explanation\n",
    "- TopVotedCandidate topVotedCandidate = new TopVotedCandidate([0, 1, 1, 0, 0, 1, 0], [0, 5, 10, 15, 20, 25, 30]);\n",
    "- topVotedCandidate.q(3); // return 0, At time 3, the votes are [0], and 0 is leading.\n",
    "- topVotedCandidate.q(12); // return 1, At time 12, the votes are [0,1,1], and 1 is leading.\n",
    "- topVotedCandidate.q(25); // return 1, At time 25, the votes are [0,1,1,0,0,1], and 1 is leading (as ties go to the most recent vote.)\n",
    "- topVotedCandidate.q(15); // return 0\n",
    "- topVotedCandidate.q(24); // return 0\n",
    "- topVotedCandidate.q(8); // return 1"
   ]
  },
  {
   "cell_type": "code",
   "execution_count": 1,
   "id": "83a7c835",
   "metadata": {},
   "outputs": [
    {
     "ename": "TypeError",
     "evalue": "'type' object is not subscriptable",
     "output_type": "error",
     "traceback": [
      "\u001b[1;31m---------------------------------------------------------------------------\u001b[0m",
      "\u001b[1;31mTypeError\u001b[0m                                 Traceback (most recent call last)",
      "\u001b[1;32m~\\AppData\\Local\\Temp/ipykernel_1396/320893934.py\u001b[0m in \u001b[0;36m<module>\u001b[1;34m\u001b[0m\n\u001b[1;32m----> 1\u001b[1;33m \u001b[1;32mclass\u001b[0m \u001b[0mTopVotedCandidate\u001b[0m\u001b[1;33m:\u001b[0m\u001b[1;33m\u001b[0m\u001b[1;33m\u001b[0m\u001b[0m\n\u001b[0m\u001b[0;32m      2\u001b[0m     \u001b[1;32mdef\u001b[0m \u001b[0m__init__\u001b[0m\u001b[1;33m(\u001b[0m\u001b[0mself\u001b[0m\u001b[1;33m,\u001b[0m \u001b[0mpersons\u001b[0m\u001b[1;33m:\u001b[0m \u001b[0mlist\u001b[0m\u001b[1;33m[\u001b[0m\u001b[0mint\u001b[0m\u001b[1;33m]\u001b[0m\u001b[1;33m,\u001b[0m \u001b[0mtimes\u001b[0m\u001b[1;33m:\u001b[0m \u001b[0mlist\u001b[0m\u001b[1;33m[\u001b[0m\u001b[0mint\u001b[0m\u001b[1;33m]\u001b[0m\u001b[1;33m)\u001b[0m\u001b[1;33m:\u001b[0m\u001b[1;33m\u001b[0m\u001b[1;33m\u001b[0m\u001b[0m\n\u001b[0;32m      3\u001b[0m         \u001b[0mself\u001b[0m\u001b[1;33m.\u001b[0m\u001b[0mtimes\u001b[0m \u001b[1;33m=\u001b[0m \u001b[0mtimes\u001b[0m\u001b[1;33m\u001b[0m\u001b[1;33m\u001b[0m\u001b[0m\n\u001b[0;32m      4\u001b[0m         \u001b[0mself\u001b[0m\u001b[1;33m.\u001b[0m\u001b[0mleaders\u001b[0m \u001b[1;33m=\u001b[0m \u001b[1;33m[\u001b[0m\u001b[1;33m]\u001b[0m\u001b[1;33m\u001b[0m\u001b[1;33m\u001b[0m\u001b[0m\n\u001b[0;32m      5\u001b[0m         \u001b[0mself\u001b[0m\u001b[1;33m.\u001b[0m\u001b[0mvote_count\u001b[0m \u001b[1;33m=\u001b[0m \u001b[1;33m{\u001b[0m\u001b[1;33m}\u001b[0m\u001b[1;33m\u001b[0m\u001b[1;33m\u001b[0m\u001b[0m\n",
      "\u001b[1;32m~\\AppData\\Local\\Temp/ipykernel_1396/320893934.py\u001b[0m in \u001b[0;36mTopVotedCandidate\u001b[1;34m()\u001b[0m\n\u001b[0;32m      1\u001b[0m \u001b[1;32mclass\u001b[0m \u001b[0mTopVotedCandidate\u001b[0m\u001b[1;33m:\u001b[0m\u001b[1;33m\u001b[0m\u001b[1;33m\u001b[0m\u001b[0m\n\u001b[1;32m----> 2\u001b[1;33m     \u001b[1;32mdef\u001b[0m \u001b[0m__init__\u001b[0m\u001b[1;33m(\u001b[0m\u001b[0mself\u001b[0m\u001b[1;33m,\u001b[0m \u001b[0mpersons\u001b[0m\u001b[1;33m:\u001b[0m \u001b[0mlist\u001b[0m\u001b[1;33m[\u001b[0m\u001b[0mint\u001b[0m\u001b[1;33m]\u001b[0m\u001b[1;33m,\u001b[0m \u001b[0mtimes\u001b[0m\u001b[1;33m:\u001b[0m \u001b[0mlist\u001b[0m\u001b[1;33m[\u001b[0m\u001b[0mint\u001b[0m\u001b[1;33m]\u001b[0m\u001b[1;33m)\u001b[0m\u001b[1;33m:\u001b[0m\u001b[1;33m\u001b[0m\u001b[1;33m\u001b[0m\u001b[0m\n\u001b[0m\u001b[0;32m      3\u001b[0m         \u001b[0mself\u001b[0m\u001b[1;33m.\u001b[0m\u001b[0mtimes\u001b[0m \u001b[1;33m=\u001b[0m \u001b[0mtimes\u001b[0m\u001b[1;33m\u001b[0m\u001b[1;33m\u001b[0m\u001b[0m\n\u001b[0;32m      4\u001b[0m         \u001b[0mself\u001b[0m\u001b[1;33m.\u001b[0m\u001b[0mleaders\u001b[0m \u001b[1;33m=\u001b[0m \u001b[1;33m[\u001b[0m\u001b[1;33m]\u001b[0m\u001b[1;33m\u001b[0m\u001b[1;33m\u001b[0m\u001b[0m\n\u001b[0;32m      5\u001b[0m         \u001b[0mself\u001b[0m\u001b[1;33m.\u001b[0m\u001b[0mvote_count\u001b[0m \u001b[1;33m=\u001b[0m \u001b[1;33m{\u001b[0m\u001b[1;33m}\u001b[0m\u001b[1;33m\u001b[0m\u001b[1;33m\u001b[0m\u001b[0m\n",
      "\u001b[1;31mTypeError\u001b[0m: 'type' object is not subscriptable"
     ]
    }
   ],
   "source": [
    "class TopVotedCandidate:\n",
    "    def __init__(self, persons: list[int], times: list[int]):\n",
    "        self.times = times\n",
    "        self.leaders = []\n",
    "        self.vote_count = {}\n",
    "        self.current_leader = -1\n",
    "        \n",
    "        for person, time in zip(persons, times):\n",
    "            # Update vote count\n",
    "            if person in self.vote_count:\n",
    "                self.vote_count[person] += 1\n",
    "            else:\n",
    "                self.vote_count[person] = 1\n",
    "            \n",
    "            # Determine the current leader\n",
    "            if self.current_leader == -1 or self.vote_count[person] >= self.vote_count[self.current_leader]:\n",
    "                self.current_leader = person\n",
    "            \n",
    "            # Record the leader at this time\n",
    "            self.leaders.append(self.current_leader)\n",
    "    \n",
    "    def q(self, t: int) -> int:\n",
    "        # Binary search for the rightmost time <= t\n",
    "        left, right = 0, len(self.times) - 1\n",
    "        while left <= right:\n",
    "            mid = (left + right) // 2\n",
    "            if self.times[mid] == t:\n",
    "                return self.leaders[mid]\n",
    "            elif self.times[mid] < t:\n",
    "                left = mid + 1\n",
    "            else:\n",
    "                right = mid - 1\n",
    "        \n",
    "        return self.leaders[right]\n",
    "\n",
    "# Example usage\n",
    "topVotedCandidate = TopVotedCandidate([0, 1, 1, 0, 0, 1, 0], [0, 5, 10, 15, 20, 25, 30])\n",
    "print(topVotedCandidate.q(3))   # Output: 0\n",
    "print(topVotedCandidate.q(12))  # Output: 1\n",
    "print(topVotedCandidate.q(25))  # Output: 1\n",
    "print(topVotedCandidate.q(15))  # Output: 0\n",
    "print(topVotedCandidate.q(24))  # Output: 0\n",
    "print(topVotedCandidate.q(8))   # Output: 1"
   ]
  },
  {
   "cell_type": "code",
   "execution_count": null,
   "id": "8b1fa395",
   "metadata": {},
   "outputs": [],
   "source": []
  }
 ],
 "metadata": {
  "kernelspec": {
   "display_name": "Python 3 (ipykernel)",
   "language": "python",
   "name": "python3"
  },
  "language_info": {
   "codemirror_mode": {
    "name": "ipython",
    "version": 3
   },
   "file_extension": ".py",
   "mimetype": "text/x-python",
   "name": "python",
   "nbconvert_exporter": "python",
   "pygments_lexer": "ipython3",
   "version": "3.8.11"
  }
 },
 "nbformat": 4,
 "nbformat_minor": 5
}
