{
 "cells": [
  {
   "cell_type": "markdown",
   "id": "15bcbe89",
   "metadata": {},
   "source": [
    "# Smallest Integer Divisible by K"
   ]
  },
  {
   "cell_type": "markdown",
   "id": "5526505b",
   "metadata": {},
   "source": [
    "Given a positive integer k, you need to find the length of the smallest positive integer n such that n is divisible by k, and n only contains the digit 1.\n",
    "\n",
    "Return the length of n. If there is no such n, return -1.\n",
    "\n",
    "Note: n may not fit in a 64-bit signed integer.\n",
    "\n",
    "**Example 1:**\n",
    "\n",
    "Input: k = 1\n",
    "Output: 1\n",
    "Explanation: The smallest answer is n = 1, which has length 1.\n",
    "\n",
    "**Example 2:**\n",
    "\n",
    "Input: k = 2\n",
    "Output: -1\n",
    "Explanation: There is no such positive integer n divisible by 2.\n",
    "\n",
    "**Example 3:**\n",
    "\n",
    "Input: k = 3\n",
    "Output: 3\n",
    "Explanation: The smallest answer is n = 111, which has length 3.\n",
    " \n",
    "\n",
    "**Constraints:**\n",
    "\n",
    "- 1 <= k <= 105"
   ]
  },
  {
   "cell_type": "code",
   "execution_count": 1,
   "id": "29cadcac",
   "metadata": {},
   "outputs": [],
   "source": [
    "def smallest_n_length(k: int) -> int:\n",
    "    if k % 2 == 0 or k % 5 == 0:\n",
    "        return -1  # If k is divisible by 2 or 5, no such n exists\n",
    "    \n",
    "    remainder = 1\n",
    "    length = 1\n",
    "    \n",
    "    while length <= k:\n",
    "        if remainder % k == 0:\n",
    "            return length\n",
    "        remainder = (remainder * 10 + 1) % k\n",
    "        length += 1\n",
    "    \n",
    "    return -1  # If we loop k times, it means no solution exists"
   ]
  }
 ],
 "metadata": {
  "kernelspec": {
   "display_name": "Python 3 (ipykernel)",
   "language": "python",
   "name": "python3"
  },
  "language_info": {
   "codemirror_mode": {
    "name": "ipython",
    "version": 3
   },
   "file_extension": ".py",
   "mimetype": "text/x-python",
   "name": "python",
   "nbconvert_exporter": "python",
   "pygments_lexer": "ipython3",
   "version": "3.8.11"
  }
 },
 "nbformat": 4,
 "nbformat_minor": 5
}
