{
 "cells": [
  {
   "cell_type": "markdown",
   "id": "aad4d3d2",
   "metadata": {},
   "source": [
    "# Binary String With Substrings Representing 1 To N"
   ]
  },
  {
   "cell_type": "markdown",
   "id": "185c0114",
   "metadata": {},
   "source": [
    "Given a binary string s and a positive integer n, return true if the binary representation of all the integers in the range [1, n] are substrings of s, or false otherwise.\n",
    "\n",
    "A substring is a contiguous sequence of characters within a string.\n",
    "\n",
    "**Example 1:**\n",
    "\n",
    "Input: s = \"0110\", n = 3\n",
    "Output: true\n",
    "\n",
    "**Example 2:**\n",
    "\n",
    "Input: s = \"0110\", n = 4\n",
    "Output: false\n",
    " \n",
    "**Constraints:**\n",
    "\n",
    "- 1 <= s.length <= 1000\n",
    "- s[i] is either '0' or '1'.\n",
    "- 1 <= n <= 109"
   ]
  },
  {
   "cell_type": "code",
   "execution_count": 1,
   "id": "9eb8e0d5",
   "metadata": {},
   "outputs": [
    {
     "name": "stdout",
     "output_type": "stream",
     "text": [
      "True\n",
      "False\n"
     ]
    }
   ],
   "source": [
    "def queryString(s: str, n: int) -> bool:\n",
    "    # Limit n to the possible range based on the length of s\n",
    "    max_possible_n = 2 ** len(s) - 1\n",
    "    if n > max_possible_n:\n",
    "        return False\n",
    "    \n",
    "    # Check all numbers from 1 to n\n",
    "    for i in range(1, n + 1):\n",
    "        binary_representation = bin(i)[2:]  # Get binary representation of i\n",
    "        if binary_representation not in s:\n",
    "            return False\n",
    "    \n",
    "    return True\n",
    "\n",
    "# Example Usage:\n",
    "print(queryString(\"0110\", 3))  # Output: True\n",
    "print(queryString(\"0110\", 4))  # Output: False"
   ]
  },
  {
   "cell_type": "code",
   "execution_count": null,
   "id": "eafaf6b8",
   "metadata": {},
   "outputs": [],
   "source": []
  }
 ],
 "metadata": {
  "kernelspec": {
   "display_name": "Python 3 (ipykernel)",
   "language": "python",
   "name": "python3"
  },
  "language_info": {
   "codemirror_mode": {
    "name": "ipython",
    "version": 3
   },
   "file_extension": ".py",
   "mimetype": "text/x-python",
   "name": "python",
   "nbconvert_exporter": "python",
   "pygments_lexer": "ipython3",
   "version": "3.8.11"
  }
 },
 "nbformat": 4,
 "nbformat_minor": 5
}
