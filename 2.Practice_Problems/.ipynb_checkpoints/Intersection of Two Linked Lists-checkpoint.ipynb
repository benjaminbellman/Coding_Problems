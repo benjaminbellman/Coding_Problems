{
 "cells": [
  {
   "cell_type": "markdown",
   "id": "f6d98dae",
   "metadata": {},
   "source": [
    "# Intersection of Two Linked Lists"
   ]
  },
  {
   "cell_type": "markdown",
   "id": "5e30e492",
   "metadata": {},
   "source": [
    "Given the heads of two singly linked-lists headA and headB, return the node at which the two lists intersect. If the two linked lists have no intersection at all, return null.\n",
    "\n",
    "For example, the following two linked lists begin to intersect at node c1:\n",
    "\n",
    "\n",
    "The test cases are generated such that there are no cycles anywhere in the entire linked structure.\n",
    "\n",
    "Note that the linked lists must retain their original structure after the function returns.\n",
    "\n",
    "Custom Judge:\n",
    "\n",
    "The inputs to the judge are given as follows (your program is not given these inputs):\n",
    "\n",
    "intersectVal - The value of the node where the intersection occurs. This is 0 if there is no intersected node.\n",
    "listA - The first linked list.\n",
    "listB - The second linked list.\n",
    "skipA - The number of nodes to skip ahead in listA (starting from the head) to get to the intersected node.\n",
    "skipB - The number of nodes to skip ahead in listB (starting from the head) to get to the intersected node.\n",
    "The judge will then create the linked structure based on these inputs and pass the two heads, headA and headB to your program. If you correctly return the intersected node, then your solution will be accepted.\n",
    "\n",
    "**Example 1:**\n",
    "\n",
    "Input: intersectVal = 8, listA = [4,1,8,4,5], listB = [5,6,1,8,4,5], skipA = 2, skipB = 3\n",
    "Output: Intersected at '8'\n",
    "Explanation: The intersected node's value is 8 (note that this must not be 0 if the two lists intersect).\n",
    "From the head of A, it reads as [4,1,8,4,5]. From the head of B, it reads as [5,6,1,8,4,5]. There are 2 nodes before the intersected node in A; There are 3 nodes before the intersected node in B.\n",
    "- Note that the intersected node's value is not 1 because the nodes with value 1 in A and B (2nd node in A and 3rd node in B) are different node references. In other words, they point to two different locations in memory, while the nodes with value 8 in A and B (3rd node in A and 4th node in B) point to the same location in memory.\n",
    "\n",
    "**Example 2:**\n",
    "\n",
    "Input: intersectVal = 2, listA = [1,9,1,2,4], listB = [3,2,4], skipA = 3, skipB = 1\n",
    "Output: Intersected at '2'\n",
    "Explanation: The intersected node's value is 2 (note that this must not be 0 if the two lists intersect).\n",
    "From the head of A, it reads as [1,9,1,2,4]. From the head of B, it reads as [3,2,4]. There are 3 nodes before the intersected node in A; There are 1 node before the intersected node in B.\n",
    "\n",
    "**Example 3:**\n",
    "\n",
    "Input: intersectVal = 0, listA = [2,6,4], listB = [1,5], skipA = 3, skipB = 2\n",
    "Output: No intersection\n",
    "Explanation: From the head of A, it reads as [2,6,4]. From the head of B, it reads as [1,5]. Since the two lists do not intersect, intersectVal must be 0, while skipA and skipB can be arbitrary values.\n",
    "Explanation: The two lists do not intersect, so return null.\n",
    " \n",
    "**Constraints:**\n",
    "\n",
    "- The number of nodes of listA is in the m.\n",
    "- The number of nodes of listB is in the n.\n",
    "- 1 <= m, n <= 3 * 104\n",
    "- 1 <= Node.val <= 105\n",
    "- 0 <= skipA <= m\n",
    "- 0 <= skipB <= n\n",
    "- intersectVal is 0 if listA and listB do not intersect.\n",
    "- intersectVal == listA[skipA] == listB[skipB] if listA and listB intersect."
   ]
  },
  {
   "cell_type": "code",
   "execution_count": 1,
   "id": "ab7d0b5f",
   "metadata": {},
   "outputs": [],
   "source": [
    "# Definition for singly-linked list.\n",
    "# class ListNode:\n",
    "#     def __init__(self, x):\n",
    "#         self.val = x\n",
    "#         self.next = None\n",
    "\n",
    "class Solution:\n",
    "    def getIntersectionNode(self, headA: 'ListNode', headB: 'ListNode') -> 'ListNode | None':\n",
    "        if not headA or not headB:\n",
    "            return None\n",
    "\n",
    "        a, b = headA, headB\n",
    "        # After at most m + n steps, a == b (either at intersection or at None)\n",
    "        while a is not b:\n",
    "            a = a.next if a else headB\n",
    "            b = b.next if b else headA\n",
    "        return a  # could be the intersected node or None"
   ]
  },
  {
   "cell_type": "code",
   "execution_count": null,
   "id": "d0767654",
   "metadata": {},
   "outputs": [],
   "source": []
  }
 ],
 "metadata": {
  "kernelspec": {
   "display_name": "Python 3 (ipykernel)",
   "language": "python",
   "name": "python3"
  },
  "language_info": {
   "codemirror_mode": {
    "name": "ipython",
    "version": 3
   },
   "file_extension": ".py",
   "mimetype": "text/x-python",
   "name": "python",
   "nbconvert_exporter": "python",
   "pygments_lexer": "ipython3",
   "version": "3.8.11"
  }
 },
 "nbformat": 4,
 "nbformat_minor": 5
}
