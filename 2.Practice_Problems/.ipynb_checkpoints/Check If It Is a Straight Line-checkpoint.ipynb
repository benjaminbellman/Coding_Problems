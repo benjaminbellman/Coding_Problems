{
 "cells": [
  {
   "cell_type": "markdown",
   "id": "a020320b",
   "metadata": {},
   "source": [
    "# Check If It Is a Straight Line"
   ]
  },
  {
   "cell_type": "markdown",
   "id": "bef350cd",
   "metadata": {},
   "source": [
    "You are given an array coordinates, coordinates[i] = [x, y], where [x, y] represents the coordinate of a point. Check if these points make a straight line in the XY plane.\n",
    "\n",
    "**Example 1:**\n",
    "\n",
    "Input: coordinates = [[1,2],[2,3],[3,4],[4,5],[5,6],[6,7]]\n",
    "Output: true\n",
    "\n",
    "**Example 2:**\n",
    "\n",
    "Input: coordinates = [[1,1],[2,2],[3,4],[4,5],[5,6],[7,7]]\n",
    "Output: false\n",
    "\n",
    "**Constraints:**\n",
    "\n",
    "- 2 <= coordinates.length <= 1000\n",
    "- coordinates[i].length == 2\n",
    "- -10^4 <= coordinates[i][0], coordinates[i][1] <= 10^4\n",
    "- coordinates contains no duplicate point."
   ]
  },
  {
   "cell_type": "code",
   "execution_count": 1,
   "id": "9edb2607",
   "metadata": {},
   "outputs": [],
   "source": [
    "def check_straight_line(coordinates):\n",
    "    x0, y0 = coordinates[0]\n",
    "    x1, y1 = coordinates[1]\n",
    "    \n",
    "    for x, y in coordinates[2:]:\n",
    "        if (y1 - y0) * (x - x0) != (y - y0) * (x1 - x0):\n",
    "            return False\n",
    "    return True"
   ]
  },
  {
   "cell_type": "code",
   "execution_count": 2,
   "id": "2dc4f654",
   "metadata": {},
   "outputs": [
    {
     "name": "stdout",
     "output_type": "stream",
     "text": [
      "True\n",
      "False\n"
     ]
    }
   ],
   "source": [
    "print(check_straight_line([[1,2],[2,3],[3,4],[4,5],[5,6],[6,7]]))  # Output: True\n",
    "print(check_straight_line([[1,1],[2,2],[3,4],[4,5],[5,6],[7,7]]))  # Output: False"
   ]
  },
  {
   "cell_type": "code",
   "execution_count": null,
   "id": "7d8e361c",
   "metadata": {},
   "outputs": [],
   "source": []
  }
 ],
 "metadata": {
  "kernelspec": {
   "display_name": "Python 3 (ipykernel)",
   "language": "python",
   "name": "python3"
  },
  "language_info": {
   "codemirror_mode": {
    "name": "ipython",
    "version": 3
   },
   "file_extension": ".py",
   "mimetype": "text/x-python",
   "name": "python",
   "nbconvert_exporter": "python",
   "pygments_lexer": "ipython3",
   "version": "3.8.11"
  }
 },
 "nbformat": 4,
 "nbformat_minor": 5
}
