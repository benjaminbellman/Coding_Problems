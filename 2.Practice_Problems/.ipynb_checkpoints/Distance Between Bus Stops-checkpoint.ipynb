{
 "cells": [
  {
   "cell_type": "markdown",
   "id": "da9167e3",
   "metadata": {},
   "source": [
    "# Distance Between Bus Stops"
   ]
  },
  {
   "cell_type": "markdown",
   "id": "e97bb580",
   "metadata": {},
   "source": [
    "A bus has n stops numbered from 0 to n - 1 that form a circle. We know the distance between all pairs of neighboring stops where distance[i] is the distance between the stops number i and (i + 1) % n.\n",
    "\n",
    "The bus goes along both directions i.e. clockwise and counterclockwise.\n",
    "\n",
    "Return the shortest distance between the given start and destination stops.\n",
    "\n",
    "**Example 1:**\n",
    "\n",
    "Input: distance = [1,2,3,4], start = 0, destination = 1\n",
    "Output: 1\n",
    "Explanation: Distance between 0 and 1 is 1 or 9, minimum is 1.\n",
    "\n",
    "**Example 2:**\n",
    "\n",
    "Input: distance = [1,2,3,4], start = 0, destination = 2\n",
    "Output: 3\n",
    "Explanation: Distance between 0 and 2 is 3 or 7, minimum is 3.\n",
    " \n",
    "**Example 3:**\n",
    "\n",
    "Input: distance = [1,2,3,4], start = 0, destination = 3\n",
    "Output: 4\n",
    "Explanation: Distance between 0 and 3 is 6 or 4, minimum is 4.\n",
    " \n",
    "**Constraints:**\n",
    "\n",
    "- 1 <= n <= 10^4\n",
    "- distance.length == n\n",
    "- 0 <= start, destination < n\n",
    "- 0 <= distance[i] <= 10^4"
   ]
  },
  {
   "cell_type": "code",
   "execution_count": 1,
   "id": "fc68b593",
   "metadata": {},
   "outputs": [
    {
     "name": "stdout",
     "output_type": "stream",
     "text": [
      "1\n",
      "3\n",
      "4\n"
     ]
    }
   ],
   "source": [
    "def distance_between_bus_stops(distance, start, destination):\n",
    "    if start > destination:\n",
    "        start, destination = destination, start  # Ensure start is always smaller for consistency\n",
    "    \n",
    "    clockwise_distance = sum(distance[start:destination])\n",
    "    total_distance = sum(distance)\n",
    "    counterclockwise_distance = total_distance - clockwise_distance\n",
    "    \n",
    "    return min(clockwise_distance, counterclockwise_distance)\n",
    "\n",
    "# Test cases\n",
    "print(distance_between_bus_stops([1, 2, 3, 4], 0, 1))  # Output: 1\n",
    "print(distance_between_bus_stops([1, 2, 3, 4], 0, 2))  # Output: 3\n",
    "print(distance_between_bus_stops([1, 2, 3, 4], 0, 3))  # Output: 4"
   ]
  },
  {
   "cell_type": "code",
   "execution_count": null,
   "id": "104b3ecc",
   "metadata": {},
   "outputs": [],
   "source": []
  }
 ],
 "metadata": {
  "kernelspec": {
   "display_name": "Python 3 (ipykernel)",
   "language": "python",
   "name": "python3"
  },
  "language_info": {
   "codemirror_mode": {
    "name": "ipython",
    "version": 3
   },
   "file_extension": ".py",
   "mimetype": "text/x-python",
   "name": "python",
   "nbconvert_exporter": "python",
   "pygments_lexer": "ipython3",
   "version": "3.8.11"
  }
 },
 "nbformat": 4,
 "nbformat_minor": 5
}
