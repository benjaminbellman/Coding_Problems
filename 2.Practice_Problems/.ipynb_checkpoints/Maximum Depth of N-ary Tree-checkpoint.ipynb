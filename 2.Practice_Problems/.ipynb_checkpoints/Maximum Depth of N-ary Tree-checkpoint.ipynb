{
 "cells": [
  {
   "cell_type": "markdown",
   "id": "1676b98a",
   "metadata": {},
   "source": [
    "# Maximum Depth of N-ary Tree"
   ]
  },
  {
   "cell_type": "markdown",
   "id": "9dd7a17b",
   "metadata": {},
   "source": [
    "Given a n-ary tree, find its maximum depth.\n",
    "\n",
    "The maximum depth is the number of nodes along the longest path from the root node down to the farthest leaf node.\n",
    "\n",
    "Nary-Tree input serialization is represented in their level order traversal, each group of children is separated by the null value (See examples).\n",
    "\n",
    " \n",
    "\n",
    "**Example 1:**\n",
    "\n",
    "\n",
    "\n",
    "Input: root = [1,null,3,2,4,null,5,6]\n",
    "\n",
    "Output: 3\n",
    "\n",
    "**Example 2:**\n",
    "\n",
    "\n",
    "\n",
    "Input: root = [1,null,2,3,4,5,null,null,6,7,null,8,null,9,10,null,null,11,null,12,null,13,null,null,14]\n",
    "\n",
    "Output: 5\n",
    " \n",
    "\n",
    "**Constraints:**\n",
    "\n",
    "- The total number of nodes is in the range [0, 104].\n",
    "- The depth of the n-ary tree is less than or equal to 1000."
   ]
  },
  {
   "cell_type": "code",
   "execution_count": 1,
   "id": "5659aa8e",
   "metadata": {},
   "outputs": [
    {
     "name": "stdout",
     "output_type": "stream",
     "text": [
      "3\n",
      "5\n"
     ]
    }
   ],
   "source": [
    "class Node:\n",
    "    def __init__(self, val=None, children=None):\n",
    "        self.val = val\n",
    "        self.children = children if children is not None else []\n",
    "\n",
    "def maxDepth(root):\n",
    "    if not root:\n",
    "        return 0\n",
    "\n",
    "    max_depth = 0\n",
    "    for child in root.children:\n",
    "        max_depth = max(max_depth, maxDepth(child))\n",
    "    \n",
    "    return max_depth + 1\n",
    "\n",
    "# Helper function to build the tree from level order input\n",
    "def buildTree(level_order):\n",
    "    if not level_order:\n",
    "        return None\n",
    "    \n",
    "    root = Node(level_order[0])\n",
    "    queue = [root]\n",
    "    i = 2\n",
    "    \n",
    "    while i < len(level_order):\n",
    "        current = queue.pop(0)\n",
    "        while i < len(level_order) and level_order[i] is not None:\n",
    "            child = Node(level_order[i])\n",
    "            current.children.append(child)\n",
    "            queue.append(child)\n",
    "            i += 1\n",
    "        i += 1  # skip the null separator\n",
    "    \n",
    "    return root\n",
    "\n",
    "# Example 1:\n",
    "root1 = buildTree([1, None, 3, 2, 4, None, 5, 6])\n",
    "print(maxDepth(root1))  # Output: 3\n",
    "\n",
    "# Example 2:\n",
    "root2 = buildTree([1, None, 2, 3, 4, 5, None, None, 6, 7, None, 8, None, 9, 10, None, None, 11, None, 12, None, 13, None, None, 14])\n",
    "print(maxDepth(root2))  # Output: 5"
   ]
  },
  {
   "cell_type": "code",
   "execution_count": null,
   "id": "808bad52",
   "metadata": {},
   "outputs": [],
   "source": []
  }
 ],
 "metadata": {
  "kernelspec": {
   "display_name": "Python 3",
   "language": "python",
   "name": "python3"
  },
  "language_info": {
   "codemirror_mode": {
    "name": "ipython",
    "version": 3
   },
   "file_extension": ".py",
   "mimetype": "text/x-python",
   "name": "python",
   "nbconvert_exporter": "python",
   "pygments_lexer": "ipython3",
   "version": "3.9.13"
  }
 },
 "nbformat": 4,
 "nbformat_minor": 5
}
