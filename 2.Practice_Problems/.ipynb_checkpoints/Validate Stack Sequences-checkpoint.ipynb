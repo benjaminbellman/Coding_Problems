{
 "cells": [
  {
   "cell_type": "markdown",
   "id": "b46a3364",
   "metadata": {},
   "source": [
    "# Validate Stack Sequences"
   ]
  },
  {
   "cell_type": "markdown",
   "id": "7c79e140",
   "metadata": {},
   "source": [
    "Given two integer arrays pushed and popped each with distinct values, return true if this could have been the result of a sequence of push and pop operations on an initially empty stack, or false otherwise.\n",
    "\n",
    " \n",
    "\n",
    "**Example 1:**\n",
    "\n",
    "Input: pushed = [1,2,3,4,5], popped = [4,5,3,2,1]\n",
    "Output: true\n",
    "Explanation: We might do the following sequence:\n",
    "push(1), push(2), push(3), push(4),\n",
    "pop() -> 4,\n",
    "push(5),\n",
    "pop() -> 5, pop() -> 3, pop() -> 2, pop() -> 1\n",
    "\n",
    "**Example 2:**\n",
    "\n",
    "Input: pushed = [1,2,3,4,5], popped = [4,3,5,1,2]\n",
    "Output: false\n",
    "Explanation: 1 cannot be popped before 2.\n",
    " \n",
    "\n",
    "**Constraints:**\n",
    "\n",
    "- 1 <= pushed.length <= 1000\n",
    "- 0 <= pushed[i] <= 1000\n",
    "- All the elements of pushed are unique.\n",
    "- popped.length == pushed.length\n",
    "- popped is a permutation of pushed."
   ]
  },
  {
   "cell_type": "code",
   "execution_count": 1,
   "id": "d2b42f86",
   "metadata": {},
   "outputs": [],
   "source": [
    "def validateStackSequences(pushed, popped):\n",
    "    stack = []\n",
    "    i = 0  # pointer for the popped array\n",
    "    \n",
    "    for x in pushed:\n",
    "        stack.append(x)  # push element from pushed array onto the stack\n",
    "        # Pop from stack while the stack's top equals the current element in popped\n",
    "        while stack and stack[-1] == popped[i]:\n",
    "            stack.pop()\n",
    "            i += 1\n",
    "    \n",
    "    # If the stack is empty, then it's a valid sequence\n",
    "    return len(stack) == 0"
   ]
  },
  {
   "cell_type": "code",
   "execution_count": null,
   "id": "efa9f743",
   "metadata": {},
   "outputs": [],
   "source": []
  }
 ],
 "metadata": {
  "kernelspec": {
   "display_name": "Python 3 (ipykernel)",
   "language": "python",
   "name": "python3"
  },
  "language_info": {
   "codemirror_mode": {
    "name": "ipython",
    "version": 3
   },
   "file_extension": ".py",
   "mimetype": "text/x-python",
   "name": "python",
   "nbconvert_exporter": "python",
   "pygments_lexer": "ipython3",
   "version": "3.8.11"
  }
 },
 "nbformat": 4,
 "nbformat_minor": 5
}
