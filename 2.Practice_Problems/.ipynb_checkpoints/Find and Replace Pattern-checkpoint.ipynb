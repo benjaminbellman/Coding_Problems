{
 "cells": [
  {
   "cell_type": "markdown",
   "id": "6d8b8668",
   "metadata": {},
   "source": [
    "# Find and Replace Pattern"
   ]
  },
  {
   "cell_type": "markdown",
   "id": "97949a49",
   "metadata": {},
   "source": [
    "Given a list of strings words and a string pattern, return a list of words[i] that match pattern. You may return the answer in any order.\n",
    "\n",
    "A word matches the pattern if there exists a permutation of letters p so that after replacing every letter x in the pattern with p(x), we get the desired word.\n",
    "\n",
    "Recall that a permutation of letters is a bijection from letters to letters: every letter maps to another letter, and no two letters map to the same letter.\n",
    "\n",
    "**Example 1:**\n",
    "\n",
    "Input: words = [\"abc\",\"deq\",\"mee\",\"aqq\",\"dkd\",\"ccc\"], pattern = \"abb\"\n",
    "Output: [\"mee\",\"aqq\"]\n",
    "Explanation: \"mee\" matches the pattern because there is a permutation {a -> m, b -> e, ...}. \n",
    "\"ccc\" does not match the pattern because {a -> c, b -> c, ...} is not a permutation, since a and b map to the same letter.\n",
    "\n",
    "**Example 2:**\n",
    "\n",
    "Input: words = [\"a\",\"b\",\"c\"], pattern = \"a\"\n",
    "Output: [\"a\",\"b\",\"c\"]\n",
    " \n",
    "\n",
    "**Constraints:**\n",
    "\n",
    "- 1 <= pattern.length <= 20\n",
    "- 1 <= words.length <= 50\n",
    "- words[i].length == pattern.length\n",
    "- pattern and words[i] are lowercase English letters."
   ]
  },
  {
   "cell_type": "code",
   "execution_count": 1,
   "id": "995e8d4f",
   "metadata": {},
   "outputs": [
    {
     "name": "stdout",
     "output_type": "stream",
     "text": [
      "['mee', 'aqq']\n",
      "['a', 'b', 'c']\n"
     ]
    }
   ],
   "source": [
    "def findAndReplacePattern(words, pattern):\n",
    "    def matches(word, pattern):\n",
    "        if len(word) != len(pattern):\n",
    "            return False\n",
    "        \n",
    "        # Create mappings for pattern to word and word to pattern\n",
    "        pattern_to_word = {}\n",
    "        word_to_pattern = {}\n",
    "        \n",
    "        for p, w in zip(pattern, word):\n",
    "            if p in pattern_to_word:\n",
    "                if pattern_to_word[p] != w:\n",
    "                    return False\n",
    "            if w in word_to_pattern:\n",
    "                if word_to_pattern[w] != p:\n",
    "                    return False\n",
    "            pattern_to_word[p] = w\n",
    "            word_to_pattern[w] = p\n",
    "        \n",
    "        return True\n",
    "\n",
    "    return [word for word in words if matches(word, pattern)]\n",
    "\n",
    "# Example usage\n",
    "words = [\"abc\",\"deq\",\"mee\",\"aqq\",\"dkd\",\"ccc\"]\n",
    "pattern = \"abb\"\n",
    "print(findAndReplacePattern(words, pattern))  # Output: [\"mee\", \"aqq\"]\n",
    "\n",
    "words = [\"a\",\"b\",\"c\"]\n",
    "pattern = \"a\"\n",
    "print(findAndReplacePattern(words, pattern))  # Output: [\"a\", \"b\", \"c\"]"
   ]
  },
  {
   "cell_type": "code",
   "execution_count": null,
   "id": "e19915ca",
   "metadata": {},
   "outputs": [],
   "source": []
  }
 ],
 "metadata": {
  "kernelspec": {
   "display_name": "Python 3 (ipykernel)",
   "language": "python",
   "name": "python3"
  },
  "language_info": {
   "codemirror_mode": {
    "name": "ipython",
    "version": 3
   },
   "file_extension": ".py",
   "mimetype": "text/x-python",
   "name": "python",
   "nbconvert_exporter": "python",
   "pygments_lexer": "ipython3",
   "version": "3.8.11"
  }
 },
 "nbformat": 4,
 "nbformat_minor": 5
}
