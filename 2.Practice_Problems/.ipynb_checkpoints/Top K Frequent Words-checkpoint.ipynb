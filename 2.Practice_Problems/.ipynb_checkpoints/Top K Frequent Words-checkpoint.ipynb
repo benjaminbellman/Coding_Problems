{
 "cells": [
  {
   "cell_type": "markdown",
   "id": "aaf1e549",
   "metadata": {},
   "source": [
    "# Top K Frequent Words"
   ]
  },
  {
   "cell_type": "markdown",
   "id": "b6376a8b",
   "metadata": {},
   "source": [
    "Given an array of strings words and an integer k, return the k most frequent strings.\n",
    "\n",
    "Return the answer sorted by the frequency from highest to lowest. Sort the words with the same frequency by their lexicographical order.\n",
    "\n",
    " \n",
    "\n",
    "**Example 1:**\n",
    "\n",
    "Input: words = [\"i\",\"love\",\"leetcode\",\"i\",\"love\",\"coding\"], k = 2\n",
    "Output: [\"i\",\"love\"]\n",
    "Explanation: \"i\" and \"love\" are the two most frequent words.\n",
    "Note that \"i\" comes before \"love\" due to a lower alphabetical order.\n",
    "\n",
    "**Example 2:**\n",
    "\n",
    "Input: words = [\"the\",\"day\",\"is\",\"sunny\",\"the\",\"the\",\"the\",\"sunny\",\"is\",\"is\"], k = 4\n",
    "Output: [\"the\",\"is\",\"sunny\",\"day\"]\n",
    "Explanation: \"the\", \"is\", \"sunny\" and \"day\" are the four most frequent words, with the number of occurrence being 4, 3, 2 and 1 respectively.\n",
    " \n",
    "\n",
    "**Constraints:**\n",
    "\n",
    "- 1 <= words.length <= 500\n",
    "- 1 <= words[i].length <= 10\n",
    "- words[i] consists of lowercase English letters.\n",
    "- k is in the range [1, The number of unique words[i]]"
   ]
  },
  {
   "cell_type": "code",
   "execution_count": 1,
   "id": "58fa0d1d",
   "metadata": {},
   "outputs": [
    {
     "name": "stdout",
     "output_type": "stream",
     "text": [
      "['i', 'love']\n",
      "['the', 'is', 'sunny', 'day']\n"
     ]
    }
   ],
   "source": [
    "from collections import Counter\n",
    "\n",
    "def topKFrequent(words, k):\n",
    "    # Count the frequency of each word\n",
    "    word_count = Counter(words)\n",
    "    \n",
    "    # Sort by frequency (in descending order) and then by lexicographical order\n",
    "    sorted_words = sorted(word_count.keys(), key=lambda w: (-word_count[w], w))\n",
    "    \n",
    "    # Return the top k words\n",
    "    return sorted_words[:k]\n",
    "\n",
    "# Example usage:\n",
    "words1 = [\"i\", \"love\", \"leetcode\", \"i\", \"love\", \"coding\"]\n",
    "k1 = 2\n",
    "print(topKFrequent(words1, k1))  # Output: [\"i\", \"love\"]\n",
    "\n",
    "words2 = [\"the\", \"day\", \"is\", \"sunny\", \"the\", \"the\", \"the\", \"sunny\", \"is\", \"is\"]\n",
    "k2 = 4\n",
    "print(topKFrequent(words2, k2))  # Output: [\"the\", \"is\", \"sunny\", \"day\"]"
   ]
  },
  {
   "cell_type": "code",
   "execution_count": null,
   "id": "34cfa9e0",
   "metadata": {},
   "outputs": [],
   "source": []
  }
 ],
 "metadata": {
  "kernelspec": {
   "display_name": "Python 3",
   "language": "python",
   "name": "python3"
  },
  "language_info": {
   "codemirror_mode": {
    "name": "ipython",
    "version": 3
   },
   "file_extension": ".py",
   "mimetype": "text/x-python",
   "name": "python",
   "nbconvert_exporter": "python",
   "pygments_lexer": "ipython3",
   "version": "3.9.13"
  }
 },
 "nbformat": 4,
 "nbformat_minor": 5
}
