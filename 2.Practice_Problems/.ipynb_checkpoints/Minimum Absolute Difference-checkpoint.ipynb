{
 "cells": [
  {
   "cell_type": "markdown",
   "id": "d3a09c7e",
   "metadata": {},
   "source": [
    "# Minimum Absolute Difference"
   ]
  },
  {
   "cell_type": "markdown",
   "id": "e4f1f1d2",
   "metadata": {},
   "source": [
    "Given an array of distinct integers arr, find all pairs of elements with the minimum absolute difference of any two elements.\n",
    "\n",
    "Return a list of pairs in ascending order(with respect to pairs), each pair [a, b] follows\n",
    "\n",
    "a, b are from arr\n",
    "a < b\n",
    "b - a equals to the minimum absolute difference of any two elements in arr\n",
    " \n",
    "**Example 1:**\n",
    "\n",
    "Input: arr = [4,2,1,3]\n",
    "Output: [[1,2],[2,3],[3,4]]\n",
    "Explanation: The minimum absolute difference is 1. List all pairs with difference equal to 1 in ascending order.\n",
    "\n",
    "**Example 2:**\n",
    "\n",
    "Input: arr = [1,3,6,10,15]\n",
    "Output: [[1,3]]\n",
    "\n",
    "**Example 3:**\n",
    "\n",
    "Input: arr = [3,8,-10,23,19,-4,-14,27]\n",
    "Output: [[-14,-10],[19,23],[23,27]]\n",
    " \n",
    "**Constraints:**\n",
    "\n",
    "- 2 <= arr.length <= 105\n",
    "- -106 <= arr[i] <= 106"
   ]
  },
  {
   "cell_type": "code",
   "execution_count": 1,
   "id": "ee103448",
   "metadata": {},
   "outputs": [],
   "source": [
    "def minimumAbsDifference(arr):\n",
    "    # Step 1: Sort the array\n",
    "    arr.sort()\n",
    "    \n",
    "    # Step 2: Find the minimum difference\n",
    "    min_diff = float('inf')\n",
    "    for i in range(1, len(arr)):\n",
    "        min_diff = min(min_diff, arr[i] - arr[i - 1])\n",
    "    \n",
    "    # Step 3: Collect all pairs with min_diff\n",
    "    result = []\n",
    "    for i in range(1, len(arr)):\n",
    "        if arr[i] - arr[i - 1] == min_diff:\n",
    "            result.append([arr[i - 1], arr[i]])\n",
    "    \n",
    "    return result"
   ]
  },
  {
   "cell_type": "code",
   "execution_count": 2,
   "id": "ac468317",
   "metadata": {},
   "outputs": [
    {
     "name": "stdout",
     "output_type": "stream",
     "text": [
      "[[1, 2], [2, 3], [3, 4]]\n",
      "[[1, 3]]\n",
      "[[-14, -10], [19, 23], [23, 27]]\n"
     ]
    }
   ],
   "source": [
    "print(minimumAbsDifference([4, 2, 1, 3]))  # Output: [[1, 2], [2, 3], [3, 4]]\n",
    "print(minimumAbsDifference([1, 3, 6, 10, 15]))  # Output: [[1, 3]]\n",
    "print(minimumAbsDifference([3, 8, -10, 23, 19, -4, -14, 27]))  # Output: [[-14, -10], [19, 23], [23, 27]]"
   ]
  },
  {
   "cell_type": "code",
   "execution_count": null,
   "id": "63aed861",
   "metadata": {},
   "outputs": [],
   "source": []
  }
 ],
 "metadata": {
  "kernelspec": {
   "display_name": "Python 3 (ipykernel)",
   "language": "python",
   "name": "python3"
  },
  "language_info": {
   "codemirror_mode": {
    "name": "ipython",
    "version": 3
   },
   "file_extension": ".py",
   "mimetype": "text/x-python",
   "name": "python",
   "nbconvert_exporter": "python",
   "pygments_lexer": "ipython3",
   "version": "3.8.11"
  }
 },
 "nbformat": 4,
 "nbformat_minor": 5
}
