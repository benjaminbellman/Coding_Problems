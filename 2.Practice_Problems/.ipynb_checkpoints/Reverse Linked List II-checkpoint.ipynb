{
 "cells": [
  {
   "cell_type": "markdown",
   "id": "effd0b9e",
   "metadata": {},
   "source": [
    "# Reverse Linked List II"
   ]
  },
  {
   "cell_type": "markdown",
   "id": "fa684a55",
   "metadata": {},
   "source": [
    "Given the head of a singly linked list and two integers left and right where left <= right, reverse the nodes of the list from position left to position right, and return the reversed list.\n",
    "\n",
    "**Example 1:**\n",
    "\n",
    "Input: head = [1,2,3,4,5], left = 2, right = 4\n",
    "Output: [1,4,3,2,5]\n",
    "\n",
    "**Example 2:**\n",
    "\n",
    "Input: head = [5], left = 1, right = 1\n",
    "Output: [5]\n",
    " \n",
    "**Constraints:**\n",
    "\n",
    "- The number of nodes in the list is n.\n",
    "- 1 <= n <= 500\n",
    "- -500 <= Node.val <= 500\n",
    "- 1 <= left <= right <= n"
   ]
  },
  {
   "cell_type": "code",
   "execution_count": 1,
   "id": "9851b736",
   "metadata": {},
   "outputs": [],
   "source": [
    "class ListNode:\n",
    "    def __init__(self, val=0, next=None):\n",
    "        self.val = val\n",
    "        self.next = next\n",
    "\n",
    "def reverseBetween(head: ListNode, left: int, right: int) -> ListNode:\n",
    "    if not head or left == right:\n",
    "        return head\n",
    "\n",
    "    dummy = ListNode(0)\n",
    "    dummy.next = head\n",
    "    prev = dummy\n",
    "\n",
    "    # Step 1: Move `prev` to the node before the reversal section\n",
    "    for _ in range(left - 1):\n",
    "        prev = prev.next\n",
    "\n",
    "    # `start` is the first node of the segment to be reversed\n",
    "    start = prev.next\n",
    "    then = start.next\n",
    "\n",
    "    # Step 2: Reverse the sublist between left and right\n",
    "    for _ in range(right - left):\n",
    "        start.next = then.next\n",
    "        then.next = prev.next\n",
    "        prev.next = then\n",
    "        then = start.next\n",
    "\n",
    "    return dummy.next"
   ]
  },
  {
   "cell_type": "code",
   "execution_count": 2,
   "id": "e7705b6d",
   "metadata": {},
   "outputs": [
    {
     "name": "stdout",
     "output_type": "stream",
     "text": [
      "[1, 4, 3, 2, 5]\n"
     ]
    }
   ],
   "source": [
    "# Helper function to create list from Python list\n",
    "def create_linked_list(arr):\n",
    "    dummy = ListNode(0)\n",
    "    curr = dummy\n",
    "    for val in arr:\n",
    "        curr.next = ListNode(val)\n",
    "        curr = curr.next\n",
    "    return dummy.next\n",
    "\n",
    "# Helper function to print linked list as Python list\n",
    "def linked_list_to_list(head):\n",
    "    result = []\n",
    "    while head:\n",
    "        result.append(head.val)\n",
    "        head = head.next\n",
    "    return result\n",
    "\n",
    "# Example usage:\n",
    "head = create_linked_list([1, 2, 3, 4, 5])\n",
    "left, right = 2, 4\n",
    "new_head = reverseBetween(head, left, right)\n",
    "print(linked_list_to_list(new_head))  # Output: [1, 4, 3, 2, 5]"
   ]
  },
  {
   "cell_type": "code",
   "execution_count": null,
   "id": "7ba56d06",
   "metadata": {},
   "outputs": [],
   "source": []
  }
 ],
 "metadata": {
  "kernelspec": {
   "display_name": "Python 3 (ipykernel)",
   "language": "python",
   "name": "python3"
  },
  "language_info": {
   "codemirror_mode": {
    "name": "ipython",
    "version": 3
   },
   "file_extension": ".py",
   "mimetype": "text/x-python",
   "name": "python",
   "nbconvert_exporter": "python",
   "pygments_lexer": "ipython3",
   "version": "3.8.11"
  }
 },
 "nbformat": 4,
 "nbformat_minor": 5
}
