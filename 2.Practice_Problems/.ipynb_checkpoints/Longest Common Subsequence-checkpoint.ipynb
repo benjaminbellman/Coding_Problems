{
 "cells": [
  {
   "cell_type": "markdown",
   "id": "164900d3",
   "metadata": {},
   "source": [
    "# Longest Common Subsequence"
   ]
  },
  {
   "cell_type": "markdown",
   "id": "c7eb55ca",
   "metadata": {},
   "source": [
    "Given two strings text1 and text2, return the length of their longest common subsequence. If there is no common subsequence, return 0.\n",
    "\n",
    "A subsequence of a string is a new string generated from the original string with some characters (can be none) deleted without changing the relative order of the remaining characters.\n",
    "\n",
    "For example, \"ace\" is a subsequence of \"abcde\".\n",
    "A common subsequence of two strings is a subsequence that is common to both strings.\n",
    "\n",
    "**Example 1:**\n",
    "\n",
    "Input: text1 = \"abcde\", text2 = \"ace\" \n",
    "Output: 3  \n",
    "Explanation: The longest common subsequence is \"ace\" and its length is 3.\n",
    "\n",
    "**Example 2:**\n",
    "\n",
    "Input: text1 = \"abc\", text2 = \"abc\"\n",
    "Output: 3\n",
    "Explanation: The longest common subsequence is \"abc\" and its length is 3.\n",
    "\n",
    "**Example 3:**\n",
    "\n",
    "Input: text1 = \"abc\", text2 = \"def\"\n",
    "Output: 0\n",
    "Explanation: There is no such common subsequence, so the result is 0.\n",
    " \n",
    "**Constraints:**\n",
    "\n",
    "- 1 <= text1.length, text2.length <= 1000\n",
    "- text1 and text2 consist of only lowercase English characters."
   ]
  },
  {
   "cell_type": "code",
   "execution_count": 1,
   "id": "e62b1672",
   "metadata": {},
   "outputs": [
    {
     "name": "stdout",
     "output_type": "stream",
     "text": [
      "3\n",
      "3\n",
      "0\n"
     ]
    }
   ],
   "source": [
    "def longest_common_subsequence(text1: str, text2: str) -> int:\n",
    "    m, n = len(text1), len(text2)\n",
    "    # Create a DP table initialized with zeros\n",
    "    dp = [[0] * (n + 1) for _ in range(m + 1)]\n",
    "\n",
    "    # Fill the DP table\n",
    "    for i in range(1, m + 1):\n",
    "        for j in range(1, n + 1):\n",
    "            if text1[i - 1] == text2[j - 1]:\n",
    "                dp[i][j] = dp[i - 1][j - 1] + 1\n",
    "            else:\n",
    "                dp[i][j] = max(dp[i - 1][j], dp[i][j - 1])\n",
    "\n",
    "    return dp[m][n]\n",
    "\n",
    "# Example test cases\n",
    "text1 = \"abcde\"\n",
    "text2 = \"ace\"\n",
    "print(longest_common_subsequence(text1, text2))  # Output: 3\n",
    "\n",
    "text1 = \"abc\"\n",
    "text2 = \"abc\"\n",
    "print(longest_common_subsequence(text1, text2))  # Output: 3\n",
    "\n",
    "text1 = \"abc\"\n",
    "text2 = \"def\"\n",
    "print(longest_common_subsequence(text1, text2))  # Output: 0"
   ]
  },
  {
   "cell_type": "code",
   "execution_count": null,
   "id": "cfe1b1ac",
   "metadata": {},
   "outputs": [],
   "source": []
  }
 ],
 "metadata": {
  "kernelspec": {
   "display_name": "Python 3 (ipykernel)",
   "language": "python",
   "name": "python3"
  },
  "language_info": {
   "codemirror_mode": {
    "name": "ipython",
    "version": 3
   },
   "file_extension": ".py",
   "mimetype": "text/x-python",
   "name": "python",
   "nbconvert_exporter": "python",
   "pygments_lexer": "ipython3",
   "version": "3.8.11"
  }
 },
 "nbformat": 4,
 "nbformat_minor": 5
}
