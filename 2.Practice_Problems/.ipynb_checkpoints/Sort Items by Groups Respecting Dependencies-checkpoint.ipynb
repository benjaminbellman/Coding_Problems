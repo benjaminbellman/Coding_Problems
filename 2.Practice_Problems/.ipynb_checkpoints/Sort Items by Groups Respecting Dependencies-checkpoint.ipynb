{
 "cells": [
  {
   "cell_type": "markdown",
   "id": "865e2b8f",
   "metadata": {},
   "source": [
    "# Sort Items by Groups Respecting Dependencies"
   ]
  },
  {
   "cell_type": "markdown",
   "id": "bce4f097",
   "metadata": {},
   "source": [
    "There are n items each belonging to zero or one of m groups where group[i] is the group that the i-th item belongs to and it's equal to -1 if the i-th item belongs to no group. The items and the groups are zero indexed. A group can have no item belonging to it.\n",
    "\n",
    "Return a sorted list of the items such that:\n",
    "\n",
    "The items that belong to the same group are next to each other in the sorted list.\n",
    "There are some relations between these items where beforeItems[i] is a list containing all the items that should come before the i-th item in the sorted array (to the left of the i-th item).\n",
    "Return any solution if there is more than one solution and return an empty list if there is no solution.\n",
    "\n",
    "**Example 1:**\n",
    "\n",
    "Input: n = 8, m = 2, group = [-1,-1,1,0,0,1,0,-1], beforeItems = [[],[6],[5],[6],[3,6],[],[],[]]\n",
    "Output: [6,3,4,1,5,2,0,7]\n",
    "\n",
    "**Example 2:**\n",
    "\n",
    "Input: n = 8, m = 2, group = [-1,-1,1,0,0,1,0,-1], beforeItems = [[],[6],[5],[6],[3],[],[4],[]]\n",
    "Output: []\n",
    "Explanation: This is the same as example 1 except that 4 needs to be before 6 in the sorted list.\n",
    " \n",
    "**Constraints:**\n",
    "\n",
    "- 1 <= m <= n <= 3 * 104\n",
    "- group.length == beforeItems.length == n\n",
    "- -1 <= group[i] <= m - 1\n",
    "- 0 <= beforeItems[i].length <= n - 1\n",
    "- 0 <= beforeItems[i][j] <= n - 1\n",
    "- i != beforeItems[i][j]\n",
    "- beforeItems[i] does not contain duplicates elements."
   ]
  },
  {
   "cell_type": "code",
   "execution_count": 1,
   "id": "81550496",
   "metadata": {},
   "outputs": [],
   "source": [
    "from collections import defaultdict, deque\n",
    "\n",
    "def sortItems(n, m, group, beforeItems):\n",
    "    # Step 1: Assign unique group ids to items with no group\n",
    "    for i in range(n):\n",
    "        if group[i] == -1:\n",
    "            group[i] = m\n",
    "            m += 1\n",
    "\n",
    "    # Build graphs\n",
    "    item_graph = defaultdict(list)\n",
    "    item_indegree = [0] * n\n",
    "    group_graph = defaultdict(list)\n",
    "    group_indegree = [0] * m\n",
    "\n",
    "    # Build the item and group dependency graph\n",
    "    for curr in range(n):\n",
    "        for prev in beforeItems[curr]:\n",
    "            item_graph[prev].append(curr)\n",
    "            item_indegree[curr] += 1\n",
    "            if group[prev] != group[curr]:\n",
    "                group_graph[group[prev]].append(group[curr])\n",
    "                group_indegree[group[curr]] += 1\n",
    "\n",
    "    # Topological sort helper\n",
    "    def topo_sort(graph, indegree, items):\n",
    "        queue = deque([i for i in items if indegree[i] == 0])\n",
    "        sorted_list = []\n",
    "        while queue:\n",
    "            node = queue.popleft()\n",
    "            sorted_list.append(node)\n",
    "            for nei in graph[node]:\n",
    "                indegree[nei] -= 1\n",
    "                if indegree[nei] == 0:\n",
    "                    queue.append(nei)\n",
    "        return sorted_list if len(sorted_list) == len(items) else []\n",
    "\n",
    "    # Topo sort items\n",
    "    items = list(range(n))\n",
    "    sorted_items = topo_sort(item_graph, item_indegree, items)\n",
    "    if not sorted_items:\n",
    "        return []\n",
    "\n",
    "    # Group items according to their group\n",
    "    group_to_items = defaultdict(list)\n",
    "    for item in sorted_items:\n",
    "        group_to_items[group[item]].append(item)\n",
    "\n",
    "    # Topo sort groups\n",
    "    groups = list(range(m))\n",
    "    sorted_groups = topo_sort(group_graph, group_indegree, groups)\n",
    "    if not sorted_groups:\n",
    "        return []\n",
    "\n",
    "    # Concatenate result by sorted groups\n",
    "    result = []\n",
    "    for grp in sorted_groups:\n",
    "        result.extend(group_to_items[grp])\n",
    "    return result"
   ]
  },
  {
   "cell_type": "code",
   "execution_count": 2,
   "id": "18e5457f",
   "metadata": {},
   "outputs": [
    {
     "name": "stdout",
     "output_type": "stream",
     "text": [
      "[6, 3, 4, 5, 2, 0, 7, 1]\n"
     ]
    }
   ],
   "source": [
    "n = 8\n",
    "m = 2\n",
    "group = [-1,-1,1,0,0,1,0,-1]\n",
    "beforeItems = [[],[6],[5],[6],[3,6],[],[],[]]\n",
    "print(sortItems(n, m, group, beforeItems))\n",
    "# Output: [6,3,4,1,5,2,0,7] or any valid topological order"
   ]
  },
  {
   "cell_type": "code",
   "execution_count": null,
   "id": "7faf1867",
   "metadata": {},
   "outputs": [],
   "source": []
  }
 ],
 "metadata": {
  "kernelspec": {
   "display_name": "Python 3 (ipykernel)",
   "language": "python",
   "name": "python3"
  },
  "language_info": {
   "codemirror_mode": {
    "name": "ipython",
    "version": 3
   },
   "file_extension": ".py",
   "mimetype": "text/x-python",
   "name": "python",
   "nbconvert_exporter": "python",
   "pygments_lexer": "ipython3",
   "version": "3.8.11"
  }
 },
 "nbformat": 4,
 "nbformat_minor": 5
}
