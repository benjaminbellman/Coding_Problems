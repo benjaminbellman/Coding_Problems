{
 "cells": [
  {
   "cell_type": "markdown",
   "id": "b9bb4a20",
   "metadata": {},
   "source": [
    "# Reorganize String"
   ]
  },
  {
   "cell_type": "markdown",
   "id": "f151d2ab",
   "metadata": {},
   "source": [
    "Given a string s, rearrange the characters of s so that any two adjacent characters are not the same.\n",
    "\n",
    "Return any possible rearrangement of s or return \"\" if not possible.\n",
    "\n",
    " \n",
    "\n",
    "**Example 1:**\n",
    "\n",
    "Input: s = \"aab\"\n",
    "\n",
    "Output: \"aba\"\n",
    "\n",
    "**Example 2:**\n",
    "\n",
    "Input: s = \"aaab\"\n",
    "\n",
    "Output: \"\"\n",
    " \n",
    "\n",
    "**Constraints:**\n",
    "\n",
    "- 1 <= s.length <= 500\n",
    "- s consists of lowercase English letters."
   ]
  },
  {
   "cell_type": "code",
   "execution_count": 1,
   "id": "d0888420",
   "metadata": {},
   "outputs": [
    {
     "name": "stdout",
     "output_type": "stream",
     "text": [
      "aba\n",
      "\n"
     ]
    }
   ],
   "source": [
    "from collections import Counter\n",
    "\n",
    "def rearrange_string(s):\n",
    "    counter = Counter(s)\n",
    "    max_freq = max(counter.values())\n",
    "    if max_freq > (len(s) + 1) // 2:\n",
    "        return \"\"\n",
    "\n",
    "    sorted_chars = sorted(counter.keys(), key=lambda x: (-counter[x], x))\n",
    "    result = [None] * len(s)\n",
    "    index = 0\n",
    "\n",
    "    for char in sorted_chars:\n",
    "        frequency = counter[char]\n",
    "        while frequency > 0:\n",
    "            if index >= len(s):\n",
    "                index = 1\n",
    "            result[index] = char\n",
    "            index += 2\n",
    "            frequency -= 1\n",
    "\n",
    "    return \"\".join(result)\n",
    "\n",
    "# Test cases\n",
    "print(rearrange_string(\"aab\"))  # Output: \"aba\"\n",
    "print(rearrange_string(\"aaab\"))  # Output: \"\""
   ]
  },
  {
   "cell_type": "code",
   "execution_count": null,
   "id": "65b34b6f",
   "metadata": {},
   "outputs": [],
   "source": []
  }
 ],
 "metadata": {
  "kernelspec": {
   "display_name": "Python 3",
   "language": "python",
   "name": "python3"
  },
  "language_info": {
   "codemirror_mode": {
    "name": "ipython",
    "version": 3
   },
   "file_extension": ".py",
   "mimetype": "text/x-python",
   "name": "python",
   "nbconvert_exporter": "python",
   "pygments_lexer": "ipython3",
   "version": "3.9.13"
  }
 },
 "nbformat": 4,
 "nbformat_minor": 5
}
