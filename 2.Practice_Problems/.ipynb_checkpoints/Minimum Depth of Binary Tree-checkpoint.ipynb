{
 "cells": [
  {
   "cell_type": "markdown",
   "id": "abff1793",
   "metadata": {},
   "source": [
    "# Minimum Depth of Binary Tree"
   ]
  },
  {
   "cell_type": "markdown",
   "id": "0715238f",
   "metadata": {},
   "source": [
    "Given a binary tree, find its minimum depth.\n",
    "\n",
    "The minimum depth is the number of nodes along the shortest path from the root node down to the nearest leaf node.\n",
    "\n",
    "Note: A leaf is a node with no children.\n",
    "\n",
    "**Example 1:**\n",
    "\n",
    "Input: root = [3,9,20,null,null,15,7]\n",
    "Output: 2\n",
    "\n",
    "**Example 2:**\n",
    "\n",
    "Input: root = [2,null,3,null,4,null,5,null,6]\n",
    "Output: 5\n",
    " \n",
    "**Constraints:**\n",
    "\n",
    "- The number of nodes in the tree is in the range [0, 105].\n",
    "- -1000 <= Node.val <= 1000"
   ]
  },
  {
   "cell_type": "code",
   "execution_count": 1,
   "id": "c90eaa8e",
   "metadata": {},
   "outputs": [],
   "source": [
    "from collections import deque\n",
    "\n",
    "# Definition for a binary tree node.\n",
    "class TreeNode:\n",
    "    def __init__(self, val=0, left=None, right=None):\n",
    "        self.val = val\n",
    "        self.left = left\n",
    "        self.right = right\n",
    "\n",
    "def minDepth(root: TreeNode) -> int:\n",
    "    if not root:\n",
    "        return 0\n",
    "\n",
    "    q = deque([(root, 1)])  # (node, depth)\n",
    "    while q:\n",
    "        node, depth = q.popleft()\n",
    "        # Check leaf\n",
    "        if not node.left and not node.right:\n",
    "            return depth\n",
    "        if node.left:\n",
    "            q.append((node.left, depth + 1))\n",
    "        if node.right:\n",
    "            q.append((node.right, depth + 1))"
   ]
  },
  {
   "cell_type": "code",
   "execution_count": 2,
   "id": "1e8d1e1d",
   "metadata": {},
   "outputs": [],
   "source": [
    "def minDepth_dfs(root: TreeNode) -> int:\n",
    "    if not root:\n",
    "        return 0\n",
    "    left = minDepth_dfs(root.left)\n",
    "    right = minDepth_dfs(root.right)\n",
    "    if not root.left:   # only right child\n",
    "        return right + 1\n",
    "    if not root.right:  # only left child\n",
    "        return left + 1\n",
    "    return min(left, right) + 1"
   ]
  },
  {
   "cell_type": "code",
   "execution_count": null,
   "id": "0893dede",
   "metadata": {},
   "outputs": [],
   "source": []
  }
 ],
 "metadata": {
  "kernelspec": {
   "display_name": "Python 3 (ipykernel)",
   "language": "python",
   "name": "python3"
  },
  "language_info": {
   "codemirror_mode": {
    "name": "ipython",
    "version": 3
   },
   "file_extension": ".py",
   "mimetype": "text/x-python",
   "name": "python",
   "nbconvert_exporter": "python",
   "pygments_lexer": "ipython3",
   "version": "3.8.11"
  }
 },
 "nbformat": 4,
 "nbformat_minor": 5
}
