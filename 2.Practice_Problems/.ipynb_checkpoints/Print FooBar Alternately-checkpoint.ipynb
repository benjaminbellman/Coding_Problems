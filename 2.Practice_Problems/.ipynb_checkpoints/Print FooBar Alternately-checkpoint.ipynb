{
 "cells": [
  {
   "cell_type": "markdown",
   "id": "37c9bd40",
   "metadata": {},
   "source": [
    "# Print FooBar Alternately"
   ]
  },
  {
   "cell_type": "markdown",
   "id": "96d1135c",
   "metadata": {},
   "source": [
    "Suppose you are given the following code:\n",
    "\n",
    "class FooBar {\n",
    "  public void foo() {\n",
    "    for (int i = 0; i < n; i++) {\n",
    "      print(\"foo\");\n",
    "    }\n",
    "  }\n",
    "\n",
    "  public void bar() {\n",
    "    for (int i = 0; i < n; i++) {\n",
    "      print(\"bar\");\n",
    "    }\n",
    "  }\n",
    "}\n",
    "The same instance of FooBar will be passed to two different threads:\n",
    "\n",
    "thread A will call foo(), while\n",
    "thread B will call bar().\n",
    "Modify the given program to output \"foobar\" n times.\n",
    "\n",
    "**Example 1:**\n",
    "\n",
    "Input: n = 1\n",
    "Output: \"foobar\"\n",
    "Explanation: There are two threads being fired asynchronously. One of them calls foo(), while the other calls bar().\n",
    "\"foobar\" is being output 1 time.\n",
    "\n",
    "**Example 2:**\n",
    "\n",
    "Input: n = 2\n",
    "Output: \"foobarfoobar\"\n",
    "Explanation: \"foobar\" is being output 2 times.\n",
    " \n",
    "**Constraints:**\n",
    "\n",
    "- 1 <= n <= 1000"
   ]
  },
  {
   "cell_type": "code",
   "execution_count": 1,
   "id": "923ab814",
   "metadata": {},
   "outputs": [
    {
     "name": "stdout",
     "output_type": "stream",
     "text": [
      "foobarfoobar"
     ]
    }
   ],
   "source": [
    "import threading\n",
    "\n",
    "class FooBar:\n",
    "    def __init__(self, n):\n",
    "        self.n = n\n",
    "        self.foo_semaphore = threading.Semaphore(1)  # Start with foo\n",
    "        self.bar_semaphore = threading.Semaphore(0)  # Wait for foo\n",
    "\n",
    "    def foo(self, printFoo):\n",
    "        for _ in range(self.n):\n",
    "            self.foo_semaphore.acquire()  # Wait for permission to print \"foo\"\n",
    "            printFoo()  # Print \"foo\"\n",
    "            self.bar_semaphore.release()  # Allow \"bar\" to print\n",
    "\n",
    "    def bar(self, printBar):\n",
    "        for _ in range(self.n):\n",
    "            self.bar_semaphore.acquire()  # Wait for \"foo\" to be printed\n",
    "            printBar()  # Print \"bar\"\n",
    "            self.foo_semaphore.release()  # Allow \"foo\" to print next\n",
    "\n",
    "# Example Usage:\n",
    "def printFoo():\n",
    "    print(\"foo\", end=\"\")\n",
    "\n",
    "def printBar():\n",
    "    print(\"bar\", end=\"\")\n",
    "\n",
    "n = 2\n",
    "foobar = FooBar(n)\n",
    "\n",
    "thread1 = threading.Thread(target=foobar.foo, args=(printFoo,))\n",
    "thread2 = threading.Thread(target=foobar.bar, args=(printBar,))\n",
    "\n",
    "thread1.start()\n",
    "thread2.start()\n",
    "\n",
    "thread1.join()\n",
    "thread2.join()"
   ]
  },
  {
   "cell_type": "code",
   "execution_count": null,
   "id": "aa7d6856",
   "metadata": {},
   "outputs": [],
   "source": []
  }
 ],
 "metadata": {
  "kernelspec": {
   "display_name": "Python 3 (ipykernel)",
   "language": "python",
   "name": "python3"
  },
  "language_info": {
   "codemirror_mode": {
    "name": "ipython",
    "version": 3
   },
   "file_extension": ".py",
   "mimetype": "text/x-python",
   "name": "python",
   "nbconvert_exporter": "python",
   "pygments_lexer": "ipython3",
   "version": "3.8.11"
  }
 },
 "nbformat": 4,
 "nbformat_minor": 5
}
