{
 "cells": [
  {
   "cell_type": "markdown",
   "id": "2565fec1",
   "metadata": {},
   "source": [
    "# Find First and Last Position of Element in Sorted Array"
   ]
  },
  {
   "cell_type": "markdown",
   "id": "a9a99c09",
   "metadata": {},
   "source": [
    "Given an array of integers nums sorted in non-decreasing order, find the starting and ending position of a given target value.\n",
    "\n",
    "If target is not found in the array, return [-1, -1].\n",
    "\n",
    "You must write an algorithm with O(log n) runtime complexity.\n",
    "\n",
    "**Example 1:**\n",
    "\n",
    "Input: nums = [5,7,7,8,8,10], target = 8\n",
    "Output: [3,4]\n",
    "\n",
    "**Example 2:**\n",
    "\n",
    "Input: nums = [5,7,7,8,8,10], target = 6\n",
    "Output: [-1,-1]\n",
    "\n",
    "**Example 3:**\n",
    "\n",
    "Input: nums = [], target = 0\n",
    "Output: [-1,-1]\n",
    " \n",
    "**Constraints:**\n",
    "\n",
    "- 0 <= nums.length <= 105\n",
    "- -109 <= nums[i] <= 109\n",
    "- nums is a non-decreasing array.\n",
    "- -109 <= target <= 109"
   ]
  },
  {
   "cell_type": "code",
   "execution_count": 1,
   "id": "aa398870",
   "metadata": {},
   "outputs": [],
   "source": [
    "def searchRange(nums, target):\n",
    "    def findLeft(nums, target):\n",
    "        left, right = 0, len(nums) - 1\n",
    "        left_index = -1\n",
    "        while left <= right:\n",
    "            mid = (left + right) // 2\n",
    "            if nums[mid] < target:\n",
    "                left = mid + 1\n",
    "            else:\n",
    "                right = mid - 1\n",
    "            if nums[mid] == target:\n",
    "                left_index = mid\n",
    "        return left_index\n",
    "\n",
    "    def findRight(nums, target):\n",
    "        left, right = 0, len(nums) - 1\n",
    "        right_index = -1\n",
    "        while left <= right:\n",
    "            mid = (left + right) // 2\n",
    "            if nums[mid] > target:\n",
    "                right = mid - 1\n",
    "            else:\n",
    "                left = mid + 1\n",
    "            if nums[mid] == target:\n",
    "                right_index = mid\n",
    "        return right_index\n",
    "\n",
    "    return [findLeft(nums, target), findRight(nums, target)]"
   ]
  },
  {
   "cell_type": "code",
   "execution_count": 2,
   "id": "92b91582",
   "metadata": {},
   "outputs": [
    {
     "name": "stdout",
     "output_type": "stream",
     "text": [
      "[3, 4]\n",
      "[-1, -1]\n",
      "[-1, -1]\n"
     ]
    }
   ],
   "source": [
    "print(searchRange([5,7,7,8,8,10], 8))  # Output: [3, 4]\n",
    "print(searchRange([5,7,7,8,8,10], 6))  # Output: [-1, -1]\n",
    "print(searchRange([], 0))              # Output: [-1, -1]"
   ]
  },
  {
   "cell_type": "code",
   "execution_count": null,
   "id": "f79b9358",
   "metadata": {},
   "outputs": [],
   "source": []
  }
 ],
 "metadata": {
  "kernelspec": {
   "display_name": "Python 3 (ipykernel)",
   "language": "python",
   "name": "python3"
  },
  "language_info": {
   "codemirror_mode": {
    "name": "ipython",
    "version": 3
   },
   "file_extension": ".py",
   "mimetype": "text/x-python",
   "name": "python",
   "nbconvert_exporter": "python",
   "pygments_lexer": "ipython3",
   "version": "3.8.11"
  }
 },
 "nbformat": 4,
 "nbformat_minor": 5
}
