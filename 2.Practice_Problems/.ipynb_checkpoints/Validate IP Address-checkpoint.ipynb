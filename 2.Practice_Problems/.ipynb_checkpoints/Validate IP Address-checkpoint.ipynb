{
 "cells": [
  {
   "cell_type": "markdown",
   "id": "0b69d212",
   "metadata": {},
   "source": [
    "# Validate IP Address"
   ]
  },
  {
   "cell_type": "markdown",
   "id": "f9a79fb1",
   "metadata": {},
   "source": [
    "Given a string queryIP, return \"IPv4\" if IP is a valid IPv4 address, \"IPv6\" if IP is a valid IPv6 address or \"Neither\" if IP is not a correct IP of any type.\n",
    "\n",
    "A valid IPv4 address is an IP in the form \"x1.x2.x3.x4\" where 0 <= xi <= 255 and xi cannot contain leading zeros. For example, \"192.168.1.1\" and \"192.168.1.0\" are valid IPv4 addresses while \"192.168.01.1\", \"192.168.1.00\", and \"192.168@1.1\" are invalid IPv4 addresses.\n",
    "\n",
    "A valid IPv6 address is an IP in the form \"x1:x2:x3:x4:x5:x6:x7:x8\" where:\n",
    "\n",
    "1 <= xi.length <= 4\n",
    "xi is a hexadecimal string which may contain digits, lowercase English letter ('a' to 'f') and upper-case English letters ('A' to 'F').\n",
    "Leading zeros are allowed in xi.\n",
    "For example, \"2001:0db8:85a3:0000:0000:8a2e:0370:7334\" and \"2001:db8:85a3:0:0:8A2E:0370:7334\" are valid IPv6 addresses, while \"2001:0db8:85a3::8A2E:037j:7334\" and \"02001:0db8:85a3:0000:0000:8a2e:0370:7334\" are invalid IPv6 addresses.\n",
    "\n",
    " \n",
    "\n",
    "**Example 1:**\n",
    "\n",
    "Input: queryIP = \"172.16.254.1\"\n",
    "\n",
    "Output: \"IPv4\"\n",
    "\n",
    "Explanation: This is a valid IPv4 address, return \"IPv4\".\n",
    "\n",
    "**Example 2:**\n",
    "\n",
    "Input: queryIP = \"2001:0db8:85a3:0:0:8A2E:0370:7334\"\n",
    "\n",
    "Output: \"IPv6\"\n",
    "\n",
    "Explanation: This is a valid IPv6 address, return \"IPv6\".\n",
    "\n",
    "**Example 3:**\n",
    "\n",
    "Input: queryIP = \"256.256.256.256\"\n",
    "\n",
    "Output: \"Neither\"\n",
    "\n",
    "Explanation: This is neither a IPv4 address nor a IPv6 address.\n",
    " \n",
    "\n",
    "**Constraints:**\n",
    "\n",
    "- queryIP consists only of English letters, digits and the characters '.' and ':'."
   ]
  },
  {
   "cell_type": "code",
   "execution_count": 1,
   "id": "689da7c1",
   "metadata": {},
   "outputs": [
    {
     "name": "stdout",
     "output_type": "stream",
     "text": [
      "IPv4\n",
      "IPv6\n",
      "Neither\n"
     ]
    }
   ],
   "source": [
    "def validIPAddress(queryIP):\n",
    "    # Helper function to check if a string is a valid IPv4 address\n",
    "    def is_valid_ipv4(s):\n",
    "        parts = s.split('.')\n",
    "        if len(parts) != 4:\n",
    "            return False\n",
    "\n",
    "        for part in parts:\n",
    "            if not part.isdigit() or not 0 <= int(part) <= 255:\n",
    "                return False\n",
    "            if len(part) > 1 and part[0] == '0':  # Leading zeros not allowed\n",
    "                return False\n",
    "\n",
    "        return True\n",
    "\n",
    "    # Helper function to check if a string is a valid IPv6 address\n",
    "    def is_valid_ipv6(s):\n",
    "        parts = s.split(':')\n",
    "        if len(parts) != 8:\n",
    "            return False\n",
    "\n",
    "        for part in parts:\n",
    "            if not 1 <= len(part) <= 4:\n",
    "                return False\n",
    "            if not all(c.isdigit() or c in 'abcdefABCDEF' for c in part):\n",
    "                return False\n",
    "\n",
    "        return True\n",
    "\n",
    "    # Main function logic to check for IPv4 or IPv6\n",
    "    if '.' in queryIP:\n",
    "        return \"IPv4\" if is_valid_ipv4(queryIP) else \"Neither\"\n",
    "    elif ':' in queryIP:\n",
    "        return \"IPv6\" if is_valid_ipv6(queryIP) else \"Neither\"\n",
    "    else:\n",
    "        return \"Neither\"\n",
    "\n",
    "# Test cases\n",
    "print(validIPAddress(\"172.16.254.1\"))  # Output: \"IPv4\"\n",
    "print(validIPAddress(\"2001:0db8:85a3:0:0:8A2E:0370:7334\"))  # Output: \"IPv6\"\n",
    "print(validIPAddress(\"256.256.256.256\"))  # Output: \"Neither\""
   ]
  }
 ],
 "metadata": {
  "kernelspec": {
   "display_name": "Python 3",
   "language": "python",
   "name": "python3"
  },
  "language_info": {
   "codemirror_mode": {
    "name": "ipython",
    "version": 3
   },
   "file_extension": ".py",
   "mimetype": "text/x-python",
   "name": "python",
   "nbconvert_exporter": "python",
   "pygments_lexer": "ipython3",
   "version": "3.9.13"
  }
 },
 "nbformat": 4,
 "nbformat_minor": 5
}
