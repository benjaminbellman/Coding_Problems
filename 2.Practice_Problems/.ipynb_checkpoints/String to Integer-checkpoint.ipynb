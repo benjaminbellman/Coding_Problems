{
 "cells": [
  {
   "cell_type": "markdown",
   "id": "318d6365",
   "metadata": {},
   "source": [
    "# String to Integer"
   ]
  },
  {
   "cell_type": "markdown",
   "id": "2592b676",
   "metadata": {},
   "source": [
    "Implement the myAtoi(string s) function, which converts a string to a 32-bit signed integer (similar to C/C++'s atoi function).\n",
    "\n",
    "The algorithm for myAtoi(string s) is as follows:\n",
    "\n",
    "Read in and ignore any leading whitespace.\n",
    "Check if the next character (if not already at the end of the string) is '-' or '+'. Read this character in if it is either. This determines if the final result is negative or positive respectively. Assume the result is positive if neither is present.\n",
    "Read in next the characters until the next non-digit character or the end of the input is reached. The rest of the string is ignored.\n",
    "Convert these digits into an integer (i.e. \"123\" -> 123, \"0032\" -> 32). If no digits were read, then the integer is 0. Change the sign as necessary (from step 2).\n",
    "If the integer is out of the 32-bit signed integer range [-231, 231 - 1], then clamp the integer so that it remains in the range. Specifically, integers less than -231 should be clamped to -231, and integers greater than 231 - 1 should be clamped to 231 - 1.\n",
    "Return the integer as the final result.\n",
    "Note:\n",
    "\n",
    "Only the space character ' ' is considered a whitespace character.\n",
    "Do not ignore any characters other than the leading whitespace or the rest of the string after the digits.\n",
    " \n",
    "\n",
    "**Example 1:**\n",
    "\n",
    "Input: s = \"42\"\n",
    "Output: 42\n",
    "Explanation: The underlined characters are what is read in, the caret is the current reader position.\n",
    "Step 1: \"42\" (no characters read because there is no leading whitespace)\n",
    "         ^\n",
    "Step 2: \"42\" (no characters read because there is neither a '-' nor '+')\n",
    "         ^\n",
    "Step 3: \"42\" (\"42\" is read in)\n",
    "           ^\n",
    "The parsed integer is 42.\n",
    "Since 42 is in the range [-231, 231 - 1], the final result is 42.\n",
    "\n",
    "**Example 2:**\n",
    "\n",
    "Input: s = \"   -42\"\n",
    "Output: -42\n",
    "\n",
    "Explanation:\n",
    "Step 1: \"   -42\" (leading whitespace is read and ignored)\n",
    "            ^\n",
    "Step 2: \"   -42\" ('-' is read, so the result should be negative)\n",
    "             ^\n",
    "Step 3: \"   -42\" (\"42\" is read in)\n",
    "               ^\n",
    "The parsed integer is -42.\n",
    "Since -42 is in the range [-231, 231 - 1], the final result is -42.\n",
    "\n",
    "**Example 3:**\n",
    "\n",
    "Input: s = \"4193 with words\"\n",
    "Output: 4193\n",
    "Explanation:\n",
    "Step 1: \"4193 with words\" (no characters read because there is no leading whitespace)\n",
    "         ^\n",
    "Step 2: \"4193 with words\" (no characters read because there is neither a '-' nor '+')\n",
    "         ^\n",
    "Step 3: \"4193 with words\" (\"4193\" is read in; reading stops because the next character is a non-digit)\n",
    "             ^\n",
    "The parsed integer is 4193.\n",
    "Since 4193 is in the range [-231, 231 - 1], the final result is 4193.\n",
    " \n",
    "\n",
    "**Constraints:**\n",
    "\n",
    "0 <= s.length <= 200\n",
    "s consists of English letters (lower-case and upper-case), digits (0-9), ' ', '+', '-', and '.'."
   ]
  },
  {
   "cell_type": "code",
   "execution_count": 1,
   "id": "2445573f",
   "metadata": {},
   "outputs": [],
   "source": [
    "import re\n",
    "\n",
    "def myAtoi(s):\n",
    "    # Remove leading whitespace\n",
    "    s = s.lstrip()\n",
    "    \n",
    "    # Check if the next character is '-' or '+'\n",
    "    sign = 1\n",
    "    if s[0] == '-':\n",
    "        sign = -1\n",
    "        s = s[1:]\n",
    "    elif s[0] == '+':\n",
    "        s = s[1:]\n",
    "    \n",
    "    # Read in the next set of digits\n",
    "    digits = re.findall(r'^\\d+', s)\n",
    "    if digits:\n",
    "        # Convert the digits to an integer and apply the sign\n",
    "        num = int(digits[0]) * sign\n",
    "        # Clamp the result if it is out of the 32-bit signed integer range\n",
    "        if num < -2147483648:\n",
    "            return -2147483648\n",
    "        elif num > 2147483647:\n",
    "            return 2147483647\n",
    "        else:\n",
    "            return num\n",
    "    else:\n",
    "        # Return 0 if no digits were read\n",
    "        return 0"
   ]
  },
  {
   "cell_type": "code",
   "execution_count": 2,
   "id": "5d91e582",
   "metadata": {},
   "outputs": [
    {
     "name": "stdout",
     "output_type": "stream",
     "text": [
      "42\n",
      "-42\n",
      "4193\n",
      "-2147483648\n",
      "2147483647\n"
     ]
    }
   ],
   "source": [
    "print(myAtoi(\"42\"))  # Expected output: 42\n",
    "print(myAtoi(\"   -42\"))  # Expected output: -42\n",
    "print(myAtoi(\"4193 with words\"))  # Expected output: 4193\n",
    "print(myAtoi(\"-2147483649\"))  # Expected output: -2147483648\n",
    "print(myAtoi(\"2147483648\"))  # Expected output: 2147483647"
   ]
  },
  {
   "cell_type": "code",
   "execution_count": null,
   "id": "010aefa9",
   "metadata": {},
   "outputs": [],
   "source": []
  }
 ],
 "metadata": {
  "kernelspec": {
   "display_name": "Python 3",
   "language": "python",
   "name": "python3"
  },
  "language_info": {
   "codemirror_mode": {
    "name": "ipython",
    "version": 3
   },
   "file_extension": ".py",
   "mimetype": "text/x-python",
   "name": "python",
   "nbconvert_exporter": "python",
   "pygments_lexer": "ipython3",
   "version": "3.9.13"
  }
 },
 "nbformat": 4,
 "nbformat_minor": 5
}
