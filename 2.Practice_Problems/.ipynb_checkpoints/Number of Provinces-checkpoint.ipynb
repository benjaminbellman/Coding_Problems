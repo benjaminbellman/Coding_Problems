{
 "cells": [
  {
   "cell_type": "markdown",
   "id": "1be3bec4",
   "metadata": {},
   "source": [
    "# Number of Provinces"
   ]
  },
  {
   "cell_type": "markdown",
   "id": "b82c6cb1",
   "metadata": {},
   "source": [
    "There are n cities. Some of them are connected, while some are not. If city a is connected directly with city b, and city b is connected directly with city c, then city a is connected indirectly with city c.\n",
    "\n",
    "A province is a group of directly or indirectly connected cities and no other cities outside of the group.\n",
    "\n",
    "You are given an n x n matrix isConnected where isConnected[i][j] = 1 if the ith city and the jth city are directly connected, and isConnected[i][j] = 0 otherwise.\n",
    "\n",
    "Return the total number of provinces.\n",
    "\n",
    " \n",
    "\n",
    "**Example 1:**\n",
    "\n",
    "\n",
    "Input: isConnected = [[1,1,0],[1,1,0],[0,0,1]]\n",
    "\n",
    "Output: 2\n",
    "\n",
    "**Example 2:**\n",
    "\n",
    "\n",
    "Input: isConnected = [[1,0,0],[0,1,0],[0,0,1]]\n",
    "\n",
    "Output: 3\n",
    " \n",
    "\n",
    "**Constraints:**\n",
    "\n",
    "- 1 <= n <= 200\n",
    "- n == isConnected.length\n",
    "- n == isConnected[i].length\n",
    "- isConnected[i][j] is 1 or 0.\n",
    "- isConnected[i][i] == 1\n",
    "- isConnected[i][j] == isConnected[j][i]"
   ]
  },
  {
   "cell_type": "code",
   "execution_count": 1,
   "id": "fdb5115c",
   "metadata": {},
   "outputs": [],
   "source": [
    "def findCircleNum(isConnected):\n",
    "    def dfs(city):\n",
    "        visited.add(city)\n",
    "        for next_city in range(n):\n",
    "            if isConnected[city][next_city] == 1 and next_city not in visited:\n",
    "                dfs(next_city)\n",
    "                \n",
    "    n = len(isConnected)\n",
    "    visited = set()\n",
    "    count = 0\n",
    "    \n",
    "    for city in range(n):\n",
    "        if city not in visited:\n",
    "            count += 1\n",
    "            dfs(city)\n",
    "            \n",
    "    return count"
   ]
  },
  {
   "cell_type": "code",
   "execution_count": 2,
   "id": "98818beb",
   "metadata": {},
   "outputs": [
    {
     "name": "stdout",
     "output_type": "stream",
     "text": [
      "2\n",
      "3\n"
     ]
    }
   ],
   "source": [
    "isConnected1 = [[1,1,0],[1,1,0],[0,0,1]]\n",
    "print(findCircleNum(isConnected1))  # Output: 2\n",
    "\n",
    "isConnected2 = [[1,0,0],[0,1,0],[0,0,1]]\n",
    "print(findCircleNum(isConnected2))  # Output: 3"
   ]
  },
  {
   "cell_type": "code",
   "execution_count": null,
   "id": "f59c2458",
   "metadata": {},
   "outputs": [],
   "source": []
  }
 ],
 "metadata": {
  "kernelspec": {
   "display_name": "Python 3",
   "language": "python",
   "name": "python3"
  },
  "language_info": {
   "codemirror_mode": {
    "name": "ipython",
    "version": 3
   },
   "file_extension": ".py",
   "mimetype": "text/x-python",
   "name": "python",
   "nbconvert_exporter": "python",
   "pygments_lexer": "ipython3",
   "version": "3.9.13"
  }
 },
 "nbformat": 4,
 "nbformat_minor": 5
}
