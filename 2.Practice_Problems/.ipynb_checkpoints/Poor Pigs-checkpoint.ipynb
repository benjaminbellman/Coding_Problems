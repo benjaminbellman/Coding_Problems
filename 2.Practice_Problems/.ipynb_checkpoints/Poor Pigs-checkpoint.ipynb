{
 "cells": [
  {
   "cell_type": "markdown",
   "id": "a1df7da4",
   "metadata": {},
   "source": [
    "# Poor Pigs"
   ]
  },
  {
   "cell_type": "markdown",
   "id": "685938ed",
   "metadata": {},
   "source": [
    "There are buckets buckets of liquid, where exactly one of the buckets is poisonous. To figure out which one is poisonous, you feed some number of (poor) pigs the liquid to see whether they will die or not. Unfortunately, you only have minutesToTest minutes to determine which bucket is poisonous.\n",
    "\n",
    "You can feed the pigs according to these steps:\n",
    "\n",
    "Choose some live pigs to feed.\n",
    "For each pig, choose which buckets to feed it. The pig will consume all the chosen buckets simultaneously and will take no time. Each pig can feed from any number of buckets, and each bucket can be fed from by any number of pigs.\n",
    "Wait for minutesToDie minutes. You may not feed any other pigs during this time.\n",
    "After minutesToDie minutes have passed, any pigs that have been fed the poisonous bucket will die, and all others will survive.\n",
    "Repeat this process until you run out of time.\n",
    "Given buckets, minutesToDie, and minutesToTest, return the minimum number of pigs needed to figure out which bucket is poisonous within the allotted time.\n",
    "\n",
    " \n",
    "\n",
    "**Example 1:**\n",
    "\n",
    "Input: buckets = 4, minutesToDie = 15, minutesToTest = 15\n",
    "Output: 2\n",
    "Explanation: We can determine the poisonous bucket as follows:\n",
    "At time 0, feed the first pig buckets 1 and 2, and feed the second pig buckets 2 and 3.\n",
    "At time 15, there are 4 possible outcomes:\n",
    "- If only the first pig dies, then bucket 1 must be poisonous.\n",
    "- If only the second pig dies, then bucket 3 must be poisonous.\n",
    "- If both pigs die, then bucket 2 must be poisonous.\n",
    "- If neither pig dies, then bucket 4 must be poisonous.\n",
    "\n",
    "**Example 2:**\n",
    "\n",
    "Input: buckets = 4, minutesToDie = 15, minutesToTest = 30\n",
    "Output: 2\n",
    "Explanation: We can determine the poisonous bucket as follows:\n",
    "At time 0, feed the first pig bucket 1, and feed the second pig bucket 2.\n",
    "At time 15, there are 2 possible outcomes:\n",
    "- If either pig dies, then the poisonous bucket is the one it was fed.\n",
    "- If neither pig dies, then feed the first pig bucket 3, and feed the second pig bucket 4.\n",
    "At time 30, one of the two pigs must die, and the poisonous bucket is the one it was fed.\n",
    " \n",
    "\n",
    "**Constraints:**\n",
    "\n",
    "- 1 <= buckets <= 1000\n",
    "- 1 <= minutesToDie <= minutesToTest <= 100"
   ]
  },
  {
   "cell_type": "code",
   "execution_count": 1,
   "id": "f3b18b02",
   "metadata": {},
   "outputs": [
    {
     "name": "stdout",
     "output_type": "stream",
     "text": [
      "2\n",
      "2\n"
     ]
    }
   ],
   "source": [
    "def min_pigs(buckets, minutesToDie, minutesToTest):\n",
    "    # Calculate the number of trials (feedings) we can perform within the given time\n",
    "    trials = minutesToTest // minutesToDie\n",
    "    \n",
    "    # Calculate the minimum number of pigs needed to determine the poisonous bucket\n",
    "    p = 0\n",
    "    while (trials + 1) ** p < buckets:\n",
    "        p += 1\n",
    "    \n",
    "    return p\n",
    "\n",
    "# Test examples\n",
    "print(min_pigs(4, 15, 15))  # Output: 2\n",
    "print(min_pigs(4, 15, 30))  # Output: 2"
   ]
  },
  {
   "cell_type": "code",
   "execution_count": null,
   "id": "9abccb47",
   "metadata": {},
   "outputs": [],
   "source": []
  }
 ],
 "metadata": {
  "kernelspec": {
   "display_name": "Python 3",
   "language": "python",
   "name": "python3"
  },
  "language_info": {
   "codemirror_mode": {
    "name": "ipython",
    "version": 3
   },
   "file_extension": ".py",
   "mimetype": "text/x-python",
   "name": "python",
   "nbconvert_exporter": "python",
   "pygments_lexer": "ipython3",
   "version": "3.9.13"
  }
 },
 "nbformat": 4,
 "nbformat_minor": 5
}
