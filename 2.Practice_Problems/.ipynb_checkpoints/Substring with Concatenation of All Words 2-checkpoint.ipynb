{
 "cells": [
  {
   "cell_type": "markdown",
   "id": "90436b20",
   "metadata": {},
   "source": [
    "# Substring with Concatenation of All Words 2"
   ]
  },
  {
   "cell_type": "markdown",
   "id": "98db95eb",
   "metadata": {},
   "source": [
    "You are given a string s and an array of strings words. All the strings of words are of the same length.\n",
    "\n",
    "A concatenated string is a string that exactly contains all the strings of any permutation of words concatenated.\n",
    "\n",
    "For example, if words = [\"ab\",\"cd\",\"ef\"], then \"abcdef\", \"abefcd\", \"cdabef\", \"cdefab\", \"efabcd\", and \"efcdab\" are all concatenated strings. \"acdbef\" is not a concatenated string because it is not the concatenation of any permutation of words.\n",
    "Return an array of the starting indices of all the concatenated substrings in s. You can return the answer in any order.\n",
    "\n",
    "**Example 1:**\n",
    "\n",
    "Input: s = \"barfoothefoobarman\", words = [\"foo\",\"bar\"]\n",
    "\n",
    "Output: [0,9]\n",
    "\n",
    "**Explanation:**\n",
    "\n",
    "- The substring starting at 0 is \"barfoo\". It is the concatenation of [\"bar\",\"foo\"] which is a permutation of words.\n",
    "- The substring starting at 9 is \"foobar\". It is the concatenation of [\"foo\",\"bar\"] which is a permutation of words.\n",
    "\n",
    "**Example 2:**\n",
    "\n",
    "Input: s = \"wordgoodgoodgoodbestword\", words = [\"word\",\"good\",\"best\",\"word\"]\n",
    "\n",
    "Output: []\n",
    "\n",
    "Explanation:\n",
    "\n",
    "There is no concatenated substring.\n",
    "\n",
    "**Example 3:**\n",
    "\n",
    "Input: s = \"barfoofoobarthefoobarman\", words = [\"bar\",\"foo\",\"the\"]\n",
    "\n",
    "Output: [6,9,12]\n",
    "\n",
    "**Explanation:**\n",
    "\n",
    "- The substring starting at 6 is \"foobarthe\". It is the concatenation of [\"foo\",\"bar\",\"the\"].\n",
    "- The substring starting at 9 is \"barthefoo\". It is the concatenation of [\"bar\",\"the\",\"foo\"].\n",
    "- The substring starting at 12 is \"thefoobar\". It is the concatenation of [\"the\",\"foo\",\"bar\"].\n",
    "\n",
    "**Constraints:**\n",
    "\n",
    "- 1 <= s.length <= 104\n",
    "- 1 <= words.length <= 5000\n",
    "- 1 <= words[i].length <= 30\n",
    "- s and words[i] consist of lowercase English letters."
   ]
  },
  {
   "cell_type": "code",
   "execution_count": 1,
   "id": "c8983893",
   "metadata": {},
   "outputs": [],
   "source": [
    "from collections import Counter\n",
    "\n",
    "def findSubstring(s, words):\n",
    "    if not s or not words:\n",
    "        return []\n",
    "\n",
    "    word_len = len(words[0])\n",
    "    word_count = len(words)\n",
    "    total_len = word_len * word_count\n",
    "    word_map = Counter(words)\n",
    "    result = []\n",
    "\n",
    "    for i in range(word_len):\n",
    "        left = i\n",
    "        right = i\n",
    "        current_count = 0\n",
    "        window_map = Counter()\n",
    "\n",
    "        while right + word_len <= len(s):\n",
    "            word = s[right:right + word_len]\n",
    "            right += word_len\n",
    "\n",
    "            if word in word_map:\n",
    "                window_map[word] += 1\n",
    "                current_count += 1\n",
    "\n",
    "                while window_map[word] > word_map[word]:\n",
    "                    left_word = s[left:left + word_len]\n",
    "                    window_map[left_word] -= 1\n",
    "                    left += word_len\n",
    "                    current_count -= 1\n",
    "\n",
    "                if current_count == word_count:\n",
    "                    result.append(left)\n",
    "            else:\n",
    "                window_map.clear()\n",
    "                current_count = 0\n",
    "                left = right\n",
    "\n",
    "    return result"
   ]
  },
  {
   "cell_type": "code",
   "execution_count": 2,
   "id": "3853ba8d",
   "metadata": {},
   "outputs": [
    {
     "name": "stdout",
     "output_type": "stream",
     "text": [
      "[0, 9]\n",
      "[]\n",
      "[6, 9, 12]\n"
     ]
    }
   ],
   "source": [
    "print(findSubstring(\"barfoothefoobarman\", [\"foo\",\"bar\"]))  # Output: [0, 9]\n",
    "print(findSubstring(\"wordgoodgoodgoodbestword\", [\"word\",\"good\",\"best\",\"word\"]))  # Output: []\n",
    "print(findSubstring(\"barfoofoobarthefoobarman\", [\"bar\",\"foo\",\"the\"]))  # Output: [6, 9, 12]"
   ]
  },
  {
   "cell_type": "code",
   "execution_count": null,
   "id": "b36bfcec",
   "metadata": {},
   "outputs": [],
   "source": []
  }
 ],
 "metadata": {
  "kernelspec": {
   "display_name": "Python 3 (ipykernel)",
   "language": "python",
   "name": "python3"
  },
  "language_info": {
   "codemirror_mode": {
    "name": "ipython",
    "version": 3
   },
   "file_extension": ".py",
   "mimetype": "text/x-python",
   "name": "python",
   "nbconvert_exporter": "python",
   "pygments_lexer": "ipython3",
   "version": "3.8.11"
  }
 },
 "nbformat": 4,
 "nbformat_minor": 5
}
