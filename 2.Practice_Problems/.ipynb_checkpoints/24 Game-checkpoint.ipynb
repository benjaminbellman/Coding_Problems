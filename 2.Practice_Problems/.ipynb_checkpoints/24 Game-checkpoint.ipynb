{
 "cells": [
  {
   "cell_type": "markdown",
   "id": "c223119d",
   "metadata": {},
   "source": [
    "# 24 Game"
   ]
  },
  {
   "cell_type": "markdown",
   "id": "689fa008",
   "metadata": {},
   "source": [
    "You are given an integer array cards of length 4. You have four cards, each containing a number in the range [1, 9]. You should arrange the numbers on these cards in a mathematical expression using the operators ['+', '-', '*', '/'] and the parentheses '(' and ')' to get the value 24.\n",
    "\n",
    "You are restricted with the following rules:\n",
    "\n",
    "The division operator '/' represents real division, not integer division.\n",
    "For example, 4 / (1 - 2 / 3) = 4 / (1 / 3) = 12.\n",
    "Every operation done is between two numbers. In particular, we cannot use '-' as a unary operator.\n",
    "For example, if cards = [1, 1, 1, 1], the expression \"-1 - 1 - 1 - 1\" is not allowed.\n",
    "You cannot concatenate numbers together\n",
    "For example, if cards = [1, 2, 1, 2], the expression \"12 + 12\" is not valid.\n",
    "Return true if you can get such expression that evaluates to 24, and false otherwise.\n",
    "\n",
    " \n",
    "\n",
    "**Example 1:**\n",
    "\n",
    "Input: cards = [4,1,8,7]\n",
    "\n",
    "Output: true\n",
    "Explanation: (8-4) * (7-1) = 24\n",
    "\n",
    "**Example 2:**\n",
    "\n",
    "Input: cards = [1,2,1,2]\n",
    "\n",
    "Output: false\n",
    " \n",
    "\n",
    "**Constraints:**\n",
    "\n",
    "- cards.length == 4\n",
    "- 1 <= cards[i] <= 9"
   ]
  },
  {
   "cell_type": "code",
   "execution_count": 1,
   "id": "e40b92e6",
   "metadata": {},
   "outputs": [
    {
     "name": "stdout",
     "output_type": "stream",
     "text": [
      "True\n",
      "False\n"
     ]
    }
   ],
   "source": [
    "def judgePoint24(cards):\n",
    "    def dfs(nums):\n",
    "        if len(nums) == 1:\n",
    "            return abs(nums[0] - 24) < 1e-6  # Check if the result is close to 24 due to floating point precision\n",
    "\n",
    "        for i in range(len(nums)):\n",
    "            for j in range(len(nums)):\n",
    "                if i != j:\n",
    "                    new_nums = [nums[k] for k in range(len(nums)) if k != i and k != j]\n",
    "\n",
    "                    # Try all possible operators\n",
    "                    for op in ['+', '-', '*', '/']:\n",
    "                        if (op == '/' and abs(nums[j]) < 1e-6):  # Avoid division by zero\n",
    "                            continue\n",
    "                        if op == '+':\n",
    "                            new_nums.append(nums[i] + nums[j])\n",
    "                        elif op == '-':\n",
    "                            new_nums.append(nums[i] - nums[j])\n",
    "                        elif op == '*':\n",
    "                            new_nums.append(nums[i] * nums[j])\n",
    "                        elif op == '/':\n",
    "                            new_nums.append(nums[i] / nums[j])\n",
    "\n",
    "                        # Recursively call dfs with the updated list of numbers\n",
    "                        if dfs(new_nums):\n",
    "                            return True\n",
    "\n",
    "                        # Backtrack by removing the last element\n",
    "                        new_nums.pop()\n",
    "        return False\n",
    "\n",
    "    return dfs(cards)\n",
    "\n",
    "# Example usage:\n",
    "cards1 = [4, 1, 8, 7]\n",
    "print(judgePoint24(cards1))  # Output: True\n",
    "\n",
    "cards2 = [1, 2, 1, 2]\n",
    "print(judgePoint24(cards2))  # Output: False"
   ]
  },
  {
   "cell_type": "code",
   "execution_count": null,
   "id": "c4d61810",
   "metadata": {},
   "outputs": [],
   "source": []
  }
 ],
 "metadata": {
  "kernelspec": {
   "display_name": "Python 3",
   "language": "python",
   "name": "python3"
  },
  "language_info": {
   "codemirror_mode": {
    "name": "ipython",
    "version": 3
   },
   "file_extension": ".py",
   "mimetype": "text/x-python",
   "name": "python",
   "nbconvert_exporter": "python",
   "pygments_lexer": "ipython3",
   "version": "3.9.13"
  }
 },
 "nbformat": 4,
 "nbformat_minor": 5
}
