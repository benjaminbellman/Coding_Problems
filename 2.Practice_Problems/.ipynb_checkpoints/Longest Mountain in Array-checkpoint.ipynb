{
 "cells": [
  {
   "cell_type": "markdown",
   "id": "d077dfd5",
   "metadata": {},
   "source": [
    "# Longest Mountain in Array"
   ]
  },
  {
   "cell_type": "markdown",
   "id": "eb798853",
   "metadata": {},
   "source": [
    "You may recall that an array arr is a mountain array if and only if:\n",
    "\n",
    "arr.length >= 3\n",
    "There exists some index i (0-indexed) with 0 < i < arr.length - 1 such that:\n",
    "arr[0] < arr[1] < ... < arr[i - 1] < arr[i]\n",
    "arr[i] > arr[i + 1] > ... > arr[arr.length - 1]\n",
    "Given an integer array arr, return the length of the longest subarray, which is a mountain. Return 0 if there is no mountain subarray.\n",
    "\n",
    "**Example 1:**\n",
    "\n",
    "Input: arr = [2,1,4,7,3,2,5]\n",
    "Output: 5\n",
    "Explanation: The largest mountain is [1,4,7,3,2] which has length 5.\n",
    "**Example 2:**\n",
    "\n",
    "Input: arr = [2,2,2]\n",
    "Output: 0\n",
    "Explanation: There is no mountain.\n",
    " \n",
    "\n",
    "**Constraints:**\n",
    "\n",
    "- 1 <= arr.length <= 104\n",
    "- 0 <= arr[i] <= 104"
   ]
  },
  {
   "cell_type": "code",
   "execution_count": 1,
   "id": "1404a12b",
   "metadata": {},
   "outputs": [],
   "source": [
    "def longestMountain(arr):\n",
    "    n = len(arr)\n",
    "    if n < 3:\n",
    "        return 0\n",
    "    \n",
    "    max_length = 0\n",
    "    i = 1\n",
    "    \n",
    "    while i < n - 1:\n",
    "        if arr[i-1] < arr[i] > arr[i+1]:\n",
    "            left = i - 1\n",
    "            right = i + 1\n",
    "            \n",
    "            while left > 0 and arr[left-1] < arr[left]:\n",
    "                left -= 1\n",
    "            while right < n - 1 and arr[right] > arr[right+1]:\n",
    "                right += 1\n",
    "            \n",
    "            current_length = right - left + 1\n",
    "            max_length = max(max_length, current_length)\n",
    "            \n",
    "            # Skip to the end of the mountain for the next iteration\n",
    "            i = right\n",
    "        else:\n",
    "            i += 1\n",
    "    \n",
    "    return max_length"
   ]
  },
  {
   "cell_type": "code",
   "execution_count": null,
   "id": "9676be73",
   "metadata": {},
   "outputs": [],
   "source": []
  }
 ],
 "metadata": {
  "kernelspec": {
   "display_name": "Python 3 (ipykernel)",
   "language": "python",
   "name": "python3"
  },
  "language_info": {
   "codemirror_mode": {
    "name": "ipython",
    "version": 3
   },
   "file_extension": ".py",
   "mimetype": "text/x-python",
   "name": "python",
   "nbconvert_exporter": "python",
   "pygments_lexer": "ipython3",
   "version": "3.8.11"
  }
 },
 "nbformat": 4,
 "nbformat_minor": 5
}
