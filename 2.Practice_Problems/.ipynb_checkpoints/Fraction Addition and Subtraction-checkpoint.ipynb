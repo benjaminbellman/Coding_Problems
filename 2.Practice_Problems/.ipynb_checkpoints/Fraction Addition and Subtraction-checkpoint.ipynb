{
 "cells": [
  {
   "cell_type": "markdown",
   "id": "578302fb",
   "metadata": {},
   "source": [
    "# Fraction Addition and Subtraction"
   ]
  },
  {
   "cell_type": "markdown",
   "id": "356ec8b5",
   "metadata": {},
   "source": [
    "Given a string expression representing an expression of fraction addition and subtraction, return the calculation result in string format.\n",
    "\n",
    "The final result should be an irreducible fraction. If your final result is an integer, change it to the format of a fraction that has a denominator 1. So in this case, 2 should be converted to 2/1.\n",
    "\n",
    " \n",
    "\n",
    "**Example 1:**\n",
    "\n",
    "Input: expression = \"-1/2+1/2\"\n",
    "\n",
    "Output: \"0/1\"\n",
    "\n",
    "**Example 2:**\n",
    "\n",
    "Input: expression = \"-1/2+1/2+1/3\"\n",
    "\n",
    "Output: \"1/3\"\n",
    "\n",
    "**Example 3:**\n",
    "\n",
    "Input: expression = \"1/3-1/2\"\n",
    "\n",
    "Output: \"-1/6\"\n",
    " \n",
    "\n",
    "**Constraints:**\n",
    "\n",
    "- The input string only contains '0' to '9', '/', '+' and '-'. So does the output.\n",
    "- Each fraction (input and output) has the format ±numerator/denominator. If the first input fraction or the output is positive, - then '+' will be omitted.\n",
    "- The input only contains valid irreducible fractions, where the numerator and denominator of each fraction will always be in the range [1, 10]. If the denominator is 1, it means this fraction is actually an integer in a fraction format defined above.\n",
    "- The number of given fractions will be in the range [1, 10].\n",
    "- The numerator and denominator of the final result are guaranteed to be valid and in the range of 32-bit int."
   ]
  },
  {
   "cell_type": "code",
   "execution_count": 2,
   "id": "d22ec97e",
   "metadata": {},
   "outputs": [
    {
     "name": "stdout",
     "output_type": "stream",
     "text": [
      "0 1/3 -1/6\n"
     ]
    }
   ],
   "source": [
    "def calculate_fraction(expression):\n",
    "    import fractions\n",
    "\n",
    "    # Split the expression into fractions\n",
    "    fractions_list = expression.replace('-', '+-').split('+')\n",
    "\n",
    "    # Initialize the sum as 0\n",
    "    total = fractions.Fraction(0)\n",
    "\n",
    "    # Iterate through each fraction and add/subtract it to/from the total\n",
    "    for frac in fractions_list:\n",
    "        if frac:  # Check if the fraction is not empty\n",
    "            total += fractions.Fraction(frac)\n",
    "\n",
    "    # Convert the result to a string\n",
    "    return str(total)\n",
    "\n",
    "# Testing the function with the given examples\n",
    "example1 = \"-1/2+1/2\"\n",
    "example2 = \"-1/2+1/2+1/3\"\n",
    "example3 = \"1/3-1/2\"\n",
    "\n",
    "result1 = calculate_fraction(example1)\n",
    "result2 = calculate_fraction(example2)\n",
    "result3 = calculate_fraction(example3)\n",
    "\n",
    "print(result1, result2, result3)"
   ]
  },
  {
   "cell_type": "code",
   "execution_count": null,
   "id": "5e4aaafd",
   "metadata": {},
   "outputs": [],
   "source": []
  }
 ],
 "metadata": {
  "kernelspec": {
   "display_name": "Python 3",
   "language": "python",
   "name": "python3"
  },
  "language_info": {
   "codemirror_mode": {
    "name": "ipython",
    "version": 3
   },
   "file_extension": ".py",
   "mimetype": "text/x-python",
   "name": "python",
   "nbconvert_exporter": "python",
   "pygments_lexer": "ipython3",
   "version": "3.9.13"
  }
 },
 "nbformat": 4,
 "nbformat_minor": 5
}
