{
 "cells": [
  {
   "cell_type": "markdown",
   "id": "5cd56919",
   "metadata": {},
   "source": [
    "# Stickers to Spell Word"
   ]
  },
  {
   "cell_type": "markdown",
   "id": "df490e84",
   "metadata": {},
   "source": [
    "We are given n different types of stickers. Each sticker has a lowercase English word on it.\n",
    "\n",
    "You would like to spell out the given string target by cutting individual letters from your collection of stickers and rearranging them. You can use each sticker more than once if you want, and you have infinite quantities of each sticker.\n",
    "\n",
    "Return the minimum number of stickers that you need to spell out target. If the task is impossible, return -1.\n",
    "\n",
    "Note: In all test cases, all words were chosen randomly from the 1000 most common US English words, and target was chosen as a concatenation of two random words.\n",
    "\n",
    " \n",
    "\n",
    "**Example 1:**\n",
    "\n",
    "Input: stickers = [\"with\",\"example\",\"science\"], target = \"thehat\"\n",
    "\n",
    "Output: 3\n",
    "Explanation:\n",
    "We can use 2 \"with\" stickers, and 1 \"example\" sticker.\n",
    "After cutting and rearrange the letters of those stickers, we can form the target \"thehat\".\n",
    "Also, this is the minimum number of stickers necessary to form the target string.\n",
    "\n",
    "**Example 2:**\n",
    "\n",
    "Input: stickers = [\"notice\",\"possible\"], target = \"basicbasic\"\n",
    "Output: -1\n",
    "\n",
    "Explanation:\n",
    "We cannot form the target \"basicbasic\" from cutting letters from the given stickers.\n",
    " \n",
    "\n",
    "**Constraints:**\n",
    "\n",
    "- n == stickers.length\n",
    "- 1 <= n <= 50\n",
    "- 1 <= stickers[i].length <= 10\n",
    "- 1 <= target.length <= 15\n",
    "- stickers[i] and target consist of lowercase English letters."
   ]
  },
  {
   "cell_type": "code",
   "execution_count": 1,
   "id": "dfeca682",
   "metadata": {},
   "outputs": [
    {
     "name": "stdout",
     "output_type": "stream",
     "text": [
      "2\n",
      "-1\n"
     ]
    }
   ],
   "source": [
    "def min_stickers(stickers, target):\n",
    "    n = len(stickers)\n",
    "    m = len(target)\n",
    "    \n",
    "    # Create a dictionary to store the frequency of each character in the target\n",
    "    target_freq = {}\n",
    "    for char in target:\n",
    "        target_freq[char] = target_freq.get(char, 0) + 1\n",
    "    \n",
    "    # Create a list to store the stickers as lists of character frequencies\n",
    "    sticker_freqs = []\n",
    "    for sticker in stickers:\n",
    "        sticker_freq = [0] * 26\n",
    "        for char in sticker:\n",
    "            sticker_freq[ord(char) - ord('a')] += 1\n",
    "        sticker_freqs.append(sticker_freq)\n",
    "    \n",
    "    # Initialize dp table with -1, dp[mask] represents the minimum number of stickers needed to spell the string represented by mask\n",
    "    dp = [-1] * (1 << m)\n",
    "    dp[0] = 0\n",
    "    \n",
    "    for mask in range(1 << m):\n",
    "        if dp[mask] == -1:\n",
    "            continue\n",
    "        \n",
    "        for sticker_freq in sticker_freqs:\n",
    "            cur_mask = mask\n",
    "            for i in range(m):\n",
    "                if cur_mask & (1 << i) == 0 and sticker_freq[ord(target[i]) - ord('a')] > 0:\n",
    "                    cur_mask |= (1 << i)\n",
    "                    \n",
    "            if cur_mask != mask:\n",
    "                if dp[cur_mask] == -1:\n",
    "                    dp[cur_mask] = dp[mask] + 1\n",
    "                else:\n",
    "                    dp[cur_mask] = min(dp[cur_mask], dp[mask] + 1)\n",
    "    \n",
    "    return dp[(1 << m) - 1]\n",
    "\n",
    "# Example usage:\n",
    "stickers1 = [\"with\",\"example\",\"science\"]\n",
    "target1 = \"thehat\"\n",
    "print(min_stickers(stickers1, target1))  # Output: 3\n",
    "\n",
    "stickers2 = [\"notice\",\"possible\"]\n",
    "target2 = \"basicbasic\"\n",
    "print(min_stickers(stickers2, target2))  # Output: -1"
   ]
  },
  {
   "cell_type": "code",
   "execution_count": null,
   "id": "9b443149",
   "metadata": {},
   "outputs": [],
   "source": []
  }
 ],
 "metadata": {
  "kernelspec": {
   "display_name": "Python 3",
   "language": "python",
   "name": "python3"
  },
  "language_info": {
   "codemirror_mode": {
    "name": "ipython",
    "version": 3
   },
   "file_extension": ".py",
   "mimetype": "text/x-python",
   "name": "python",
   "nbconvert_exporter": "python",
   "pygments_lexer": "ipython3",
   "version": "3.9.13"
  }
 },
 "nbformat": 4,
 "nbformat_minor": 5
}
