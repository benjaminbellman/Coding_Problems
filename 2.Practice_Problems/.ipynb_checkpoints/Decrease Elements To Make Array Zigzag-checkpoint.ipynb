{
 "cells": [
  {
   "cell_type": "markdown",
   "id": "a9186f90",
   "metadata": {},
   "source": [
    "# Decrease Elements To Make Array Zigzag"
   ]
  },
  {
   "cell_type": "markdown",
   "id": "75278d96",
   "metadata": {},
   "source": [
    "Given an array nums of integers, a move consists of choosing any element and decreasing it by 1.\n",
    "\n",
    "An array A is a zigzag array if either:\n",
    "\n",
    "Every even-indexed element is greater than adjacent elements, ie. A[0] > A[1] < A[2] > A[3] < A[4] > ...\n",
    "OR, every odd-indexed element is greater than adjacent elements, ie. A[0] < A[1] > A[2] < A[3] > A[4] < ...\n",
    "Return the minimum number of moves to transform the given array nums into a zigzag array.\n",
    "\n",
    "**Example 1:**\n",
    "\n",
    "Input: nums = [1,2,3]\n",
    "Output: 2\n",
    "Explanation: We can decrease 2 to 0 or 3 to 1.\n",
    "\n",
    "**Example 2:**\n",
    "\n",
    "Input: nums = [9,6,1,6,2]\n",
    "Output: 4\n",
    " \n",
    "**Constraints:**\n",
    "\n",
    "- 1 <= nums.length <= 1000\n",
    "- 1 <= nums[i] <= 1000"
   ]
  },
  {
   "cell_type": "code",
   "execution_count": 1,
   "id": "6975f47a",
   "metadata": {},
   "outputs": [
    {
     "name": "stdout",
     "output_type": "stream",
     "text": [
      "2\n",
      "4\n"
     ]
    }
   ],
   "source": [
    "def minMovesToMakeZigzag(nums):\n",
    "    n = len(nums)\n",
    "    moves1, moves2 = 0, 0  # Moves for two different zigzag patterns\n",
    "\n",
    "    for i in range(n):\n",
    "        left = nums[i - 1] if i > 0 else float('inf')\n",
    "        right = nums[i + 1] if i < n - 1 else float('inf')\n",
    "        decrease = max(0, nums[i] - min(left, right) + 1)  # Decrease needed\n",
    "        \n",
    "        if i % 2 == 0:\n",
    "            moves1 += decrease\n",
    "        else:\n",
    "            moves2 += decrease\n",
    "\n",
    "    return min(moves1, moves2)\n",
    "\n",
    "# Example test cases\n",
    "print(minMovesToMakeZigzag([1,2,3]))  # Output: 2\n",
    "print(minMovesToMakeZigzag([9,6,1,6,2]))  # Output: 4"
   ]
  }
 ],
 "metadata": {
  "kernelspec": {
   "display_name": "Python 3 (ipykernel)",
   "language": "python",
   "name": "python3"
  },
  "language_info": {
   "codemirror_mode": {
    "name": "ipython",
    "version": 3
   },
   "file_extension": ".py",
   "mimetype": "text/x-python",
   "name": "python",
   "nbconvert_exporter": "python",
   "pygments_lexer": "ipython3",
   "version": "3.8.11"
  }
 },
 "nbformat": 4,
 "nbformat_minor": 5
}
