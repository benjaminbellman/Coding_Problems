{
 "cells": [
  {
   "cell_type": "markdown",
   "id": "05cfd05a",
   "metadata": {},
   "source": [
    "# Perfect Rectangle"
   ]
  },
  {
   "cell_type": "markdown",
   "id": "dceae58a",
   "metadata": {},
   "source": [
    "Given an array rectangles where rectangles[i] = [xi, yi, ai, bi] represents an axis-aligned rectangle. The bottom-left point of the rectangle is (xi, yi) and the top-right point of it is (ai, bi).\n",
    "\n",
    "Return true if all the rectangles together form an exact cover of a rectangular region.\n",
    "\n",
    " \n",
    "\n",
    "**Example 1:**\n",
    "\n",
    "\n",
    "Input: rectangles = [[1,1,3,3],[3,1,4,2],[3,2,4,4],[1,3,2,4],[2,3,3,4]]\n",
    "Output: true\n",
    "Explanation: All 5 rectangles together form an exact cover of a rectangular region.\n",
    "\n",
    "**Example 2:**\n",
    "\n",
    "\n",
    "Input: rectangles = [[1,1,2,3],[1,3,2,4],[3,1,4,2],[3,2,4,4]]\n",
    "Output: false\n",
    "Explanation: Because there is a gap between the two rectangular regions.\n",
    "\n",
    "**Example 3:**\n",
    "\n",
    "\n",
    "Input: rectangles = [[1,1,3,3],[3,1,4,2],[1,3,2,4],[2,2,4,4]]\n",
    "Output: false\n",
    "Explanation: Because two of the rectangles overlap with each other.\n",
    " \n",
    "\n",
    "**Constraints:**\n",
    "\n",
    "1 <= rectangles.length <= 2 * 104\n",
    "rectangles[i].length == 4\n",
    "-105 <= xi, yi, ai, bi <= 105"
   ]
  },
  {
   "cell_type": "code",
   "execution_count": 2,
   "id": "4d9e2ce0",
   "metadata": {},
   "outputs": [],
   "source": [
    "class Solution:\n",
    "    def isRectangleCover(self, rectangles: list[list[int]]) -> bool:\n",
    "        # Calculate the area of the big rectangle\n",
    "        area = 0\n",
    "        x1, y1, x2, y2 = float('inf'), float('inf'), float('-inf'), float('-inf')\n",
    "        for rect in rectangles:\n",
    "            x1, y1 = min(x1, rect[0]), min(y1, rect[1])\n",
    "            x2, y2 = max(x2, rect[2]), max(y2, rect[3])\n",
    "            area += (rect[2] - rect[0]) * (rect[3] - rect[1])\n",
    "\n",
    "        # Check if the area of the big rectangle matches the sum of the areas of the small rectangles\n",
    "        if area != (x2 - x1) * (y2 - y1):\n",
    "            return False\n",
    "\n",
    "        # Check if there are any overlaps or gaps\n",
    "        points = set()\n",
    "        for rect in rectangles:\n",
    "            for p in ((rect[0], rect[1]), (rect[0], rect[3]), (rect[2], rect[1]), (rect[2], rect[3])):\n",
    "                if p in points:\n",
    "                    points.remove(p)\n",
    "                else:\n",
    "                    points.add(p)\n",
    "        return len(points) == 4 and (x1, y1) in points and (x1, y2) in points and (x2, y1) in points and (x2, y2) in points"
   ]
  },
  {
   "cell_type": "code",
   "execution_count": 3,
   "id": "f0f8ca89",
   "metadata": {},
   "outputs": [
    {
     "name": "stdout",
     "output_type": "stream",
     "text": [
      "True\n",
      "False\n",
      "False\n"
     ]
    }
   ],
   "source": [
    "# Test case 1\n",
    "rectangles = [[1,1,3,3],[3,1,4,2],[3,2,4,4],[1,3,2,4],[2,3,3,4]]\n",
    "print(Solution().isRectangleCover(rectangles))  # Output: True\n",
    "\n",
    "# Test case 2\n",
    "rectangles = [[1,1,2,3],[1,3,2,4],[3,1,4,2],[3,2,4,4]]\n",
    "print(Solution().isRectangleCover(rectangles))  # Output: False\n",
    "\n",
    "# Test case 3\n",
    "rectangles = [[1,1,3,3],[3,1,4,2],[1,3,2,4],[2,2,4,4]]\n",
    "print(Solution().isRectangleCover(rectangles))  # Output: False"
   ]
  },
  {
   "cell_type": "code",
   "execution_count": null,
   "id": "e8cc274c",
   "metadata": {},
   "outputs": [],
   "source": []
  }
 ],
 "metadata": {
  "kernelspec": {
   "display_name": "Python 3",
   "language": "python",
   "name": "python3"
  },
  "language_info": {
   "codemirror_mode": {
    "name": "ipython",
    "version": 3
   },
   "file_extension": ".py",
   "mimetype": "text/x-python",
   "name": "python",
   "nbconvert_exporter": "python",
   "pygments_lexer": "ipython3",
   "version": "3.9.13"
  }
 },
 "nbformat": 4,
 "nbformat_minor": 5
}
