{
 "cells": [
  {
   "cell_type": "markdown",
   "id": "f5670468",
   "metadata": {},
   "source": [
    "# Split Array Largest Sum"
   ]
  },
  {
   "cell_type": "markdown",
   "id": "1e0c34a9",
   "metadata": {},
   "source": [
    "Given an integer array nums and an integer k, split nums into k non-empty subarrays such that the largest sum of any subarray is minimized.\n",
    "\n",
    "Return the minimized largest sum of the split.\n",
    "\n",
    "A subarray is a contiguous part of the array.\n",
    "\n",
    " \n",
    "\n",
    "**Example 1:**\n",
    "\n",
    "Input: nums = [7,2,5,10,8], k = 2\n",
    "Output: 18\n",
    "Explanation: There are four ways to split nums into two subarrays.\n",
    "The best way is to split it into [7,2,5] and [10,8], where the largest sum among the two subarrays is only 18.\n",
    "\n",
    "**Example 2:**\n",
    "\n",
    "Input: nums = [1,2,3,4,5], k = 2\n",
    "Output: 9\n",
    "Explanation: There are four ways to split nums into two subarrays.\n",
    "The best way is to split it into [1,2,3] and [4,5], where the largest sum among the two subarrays is only 9.\n",
    " \n",
    "\n",
    "**Constraints:**\n",
    "\n",
    "1 <= nums.length <= 1000\n",
    "0 <= nums[i] <= 106\n",
    "1 <= k <= min(50, nums.length)"
   ]
  },
  {
   "cell_type": "code",
   "execution_count": 1,
   "id": "86aa7882",
   "metadata": {},
   "outputs": [
    {
     "name": "stdout",
     "output_type": "stream",
     "text": [
      "18\n",
      "9\n"
     ]
    }
   ],
   "source": [
    "def splitArray(nums, k):\n",
    "    def is_valid_sum(nums, k, max_sum):\n",
    "        subarray_count = 1\n",
    "        current_sum = 0\n",
    "        for num in nums:\n",
    "            current_sum += num\n",
    "            if current_sum > max_sum:\n",
    "                subarray_count += 1\n",
    "                current_sum = num\n",
    "                if subarray_count > k:\n",
    "                    return False\n",
    "        return True\n",
    "\n",
    "    left = max(nums)\n",
    "    right = sum(nums)\n",
    "\n",
    "    while left < right:\n",
    "        mid = (left + right) // 2\n",
    "        if is_valid_sum(nums, k, mid):\n",
    "            right = mid\n",
    "        else:\n",
    "            left = mid + 1\n",
    "\n",
    "    return left\n",
    "\n",
    "# Testing the code with the given examples\n",
    "nums1 = [7, 2, 5, 10, 8]\n",
    "k1 = 2\n",
    "print(splitArray(nums1, k1))  # Output: 18\n",
    "\n",
    "nums2 = [1, 2, 3, 4, 5]\n",
    "k2 = 2\n",
    "print(splitArray(nums2, k2))  # Output: 9"
   ]
  },
  {
   "cell_type": "code",
   "execution_count": null,
   "id": "0efa4f32",
   "metadata": {},
   "outputs": [],
   "source": []
  }
 ],
 "metadata": {
  "kernelspec": {
   "display_name": "Python 3",
   "language": "python",
   "name": "python3"
  },
  "language_info": {
   "codemirror_mode": {
    "name": "ipython",
    "version": 3
   },
   "file_extension": ".py",
   "mimetype": "text/x-python",
   "name": "python",
   "nbconvert_exporter": "python",
   "pygments_lexer": "ipython3",
   "version": "3.9.13"
  }
 },
 "nbformat": 4,
 "nbformat_minor": 5
}
