{
 "cells": [
  {
   "cell_type": "markdown",
   "id": "8d3f475d",
   "metadata": {},
   "source": [
    "# Score After Flipping Matrix"
   ]
  },
  {
   "cell_type": "markdown",
   "id": "d32bfd94",
   "metadata": {},
   "source": [
    "A move consists of choosing any row or column and toggling each value in that row or column (i.e., changing all 0's to 1's, and all 1's to 0's).\n",
    "\n",
    "Every row of the matrix is interpreted as a binary number, and the score of the matrix is the sum of these numbers.\n",
    "\n",
    "Return the highest possible score after making any number of moves (including zero moves).\n",
    "\n",
    "**Example 1:**\n",
    "\n",
    "Input: grid = [[0,0,1,1],[1,0,1,0],[1,1,0,0]]\n",
    "Output: 39\n",
    "Explanation: 0b1111 + 0b1001 + 0b1111 = 15 + 9 + 15 = 39\n",
    "\n",
    "**Example 2:**\n",
    "\n",
    "Input: grid = [[0]]\n",
    "Output: 1\n",
    "\n",
    "**Constraints:**\n",
    "\n",
    "- m == grid.length\n",
    "- n == grid[i].length\n",
    "- 1 <= m, n <= 20\n",
    "- grid[i][j] is either 0 or 1."
   ]
  },
  {
   "cell_type": "code",
   "execution_count": 1,
   "id": "bbd62e5c",
   "metadata": {},
   "outputs": [],
   "source": [
    "def matrixScore(grid):\n",
    "    m, n = len(grid), len(grid[0])\n",
    "    \n",
    "    # Function to calculate score of the grid\n",
    "    def calculate_score(grid):\n",
    "        score = 0\n",
    "        for row in grid:\n",
    "            score += int(''.join(map(str, row)), 2)\n",
    "        return score\n",
    "    \n",
    "    # Calculate initial score\n",
    "    max_score = calculate_score(grid)\n",
    "    \n",
    "    # Greedy optimization\n",
    "    for col in range(n):\n",
    "        count1s = sum(grid[row][col] for row in range(m))\n",
    "        if count1s < m - count1s:\n",
    "            # Toggle the entire column\n",
    "            for row in range(m):\n",
    "                grid[row][col] = 1 - grid[row][col]\n",
    "    \n",
    "    # Recalculate the score after toggling\n",
    "    max_score = calculate_score(grid)\n",
    "    \n",
    "    return max_score"
   ]
  },
  {
   "cell_type": "code",
   "execution_count": null,
   "id": "eac6b31b",
   "metadata": {},
   "outputs": [],
   "source": []
  }
 ],
 "metadata": {
  "kernelspec": {
   "display_name": "Python 3 (ipykernel)",
   "language": "python",
   "name": "python3"
  },
  "language_info": {
   "codemirror_mode": {
    "name": "ipython",
    "version": 3
   },
   "file_extension": ".py",
   "mimetype": "text/x-python",
   "name": "python",
   "nbconvert_exporter": "python",
   "pygments_lexer": "ipython3",
   "version": "3.8.11"
  }
 },
 "nbformat": 4,
 "nbformat_minor": 5
}
