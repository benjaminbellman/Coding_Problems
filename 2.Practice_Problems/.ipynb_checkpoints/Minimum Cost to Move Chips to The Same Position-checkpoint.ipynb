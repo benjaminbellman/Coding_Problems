{
 "cells": [
  {
   "cell_type": "markdown",
   "id": "41769790",
   "metadata": {},
   "source": [
    "# Minimum Cost to Move Chips to The Same Position"
   ]
  },
  {
   "cell_type": "markdown",
   "id": "2baf589b",
   "metadata": {},
   "source": [
    "We have n chips, where the position of the ith chip is position[i].\n",
    "\n",
    "We need to move all the chips to the same position. In one step, we can change the position of the ith chip from position[i] to:\n",
    "\n",
    "position[i] + 2 or position[i] - 2 with cost = 0.\n",
    "position[i] + 1 or position[i] - 1 with cost = 1.\n",
    "Return the minimum cost needed to move all the chips to the same position.\n",
    "\n",
    "**Example 1:**\n",
    "\n",
    "Input: position = [1,2,3]\n",
    "Output: 1\n",
    "Explanation: First step: Move the chip at position 3 to position 1 with cost = 0.\n",
    "Second step: Move the chip at position 2 to position 1 with cost = 1.\n",
    "Total cost is 1.\n",
    "\n",
    "**Example 2:**\n",
    "\n",
    "Input: position = [2,2,2,3,3]\n",
    "Output: 2\n",
    "Explanation: We can move the two chips at position  3 to position 2. Each move has cost = 1. The total cost = 2.\n",
    "\n",
    "**Example 3:**\n",
    "\n",
    "Input: position = [1,1000000000]\n",
    "Output: 1\n",
    "\n",
    "**Constraints:**\n",
    "\n",
    "- 1 <= position.length <= 100\n",
    "- 1 <= position[i] <= 10^9"
   ]
  },
  {
   "cell_type": "code",
   "execution_count": 1,
   "id": "de1c29ba",
   "metadata": {},
   "outputs": [],
   "source": [
    "def minCostToMoveChips(position):\n",
    "    even = sum(p % 2 == 0 for p in position)\n",
    "    odd = len(position) - even\n",
    "    return min(even, odd)"
   ]
  },
  {
   "cell_type": "code",
   "execution_count": 2,
   "id": "c99a0191",
   "metadata": {},
   "outputs": [],
   "source": [
    "position = [1, 2, 3]\n",
    "# even = 1 (2), odd = 2 (1, 3)\n",
    "# min(1, 2) = 1"
   ]
  },
  {
   "cell_type": "code",
   "execution_count": null,
   "id": "79ff172e",
   "metadata": {},
   "outputs": [],
   "source": []
  }
 ],
 "metadata": {
  "kernelspec": {
   "display_name": "Python 3 (ipykernel)",
   "language": "python",
   "name": "python3"
  },
  "language_info": {
   "codemirror_mode": {
    "name": "ipython",
    "version": 3
   },
   "file_extension": ".py",
   "mimetype": "text/x-python",
   "name": "python",
   "nbconvert_exporter": "python",
   "pygments_lexer": "ipython3",
   "version": "3.8.11"
  }
 },
 "nbformat": 4,
 "nbformat_minor": 5
}
