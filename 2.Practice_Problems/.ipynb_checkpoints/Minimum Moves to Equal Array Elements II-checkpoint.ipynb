{
 "cells": [
  {
   "cell_type": "markdown",
   "id": "3de022df",
   "metadata": {},
   "source": [
    "# Minimum Moves to Equal Array Elements II"
   ]
  },
  {
   "cell_type": "markdown",
   "id": "8a58ebfa",
   "metadata": {},
   "source": [
    "iven an integer array nums of size n, return the minimum number of moves required to make all array elements equal.\n",
    "\n",
    "In one move, you can increment or decrement an element of the array by 1.\n",
    "\n",
    "Test cases are designed so that the answer will fit in a 32-bit integer.\n",
    "\n",
    " \n",
    "\n",
    "**Example 1:**\n",
    "\n",
    "Input: nums = [1,2,3]\n",
    "Output: 2\n",
    "Explanation:\n",
    "Only two moves are needed (remember each move increments or decrements one element):\n",
    "[1,2,3]  =>  [2,2,3]  =>  [2,2,2]\n",
    "\n",
    "**Example 2:**\n",
    "\n",
    "Input: nums = [1,10,2,9]\n",
    "Output: 16\n",
    " \n",
    "\n",
    "**Constraints:**\n",
    "\n",
    "- n == nums.length\n",
    "- 1 <= nums.length <= 105\n",
    "- -109 <= nums[i] <= 109"
   ]
  },
  {
   "cell_type": "code",
   "execution_count": 1,
   "id": "1e1998bc",
   "metadata": {},
   "outputs": [
    {
     "name": "stdout",
     "output_type": "stream",
     "text": [
      "2\n",
      "16\n"
     ]
    }
   ],
   "source": [
    "def min_moves_to_equal(nums):\n",
    "    nums.sort()\n",
    "    n = len(nums)\n",
    "    median = nums[n // 2] if n % 2 == 1 else (nums[n // 2 - 1] + nums[n // 2]) // 2\n",
    "    \n",
    "    moves = 0\n",
    "    for num in nums:\n",
    "        moves += abs(num - median)\n",
    "    \n",
    "    return moves\n",
    "\n",
    "# Test cases\n",
    "print(min_moves_to_equal([1, 2, 3]))  # Output: 2\n",
    "print(min_moves_to_equal([1, 10, 2, 9]))  # Output: 16"
   ]
  },
  {
   "cell_type": "code",
   "execution_count": null,
   "id": "9681dc61",
   "metadata": {},
   "outputs": [],
   "source": []
  }
 ],
 "metadata": {
  "kernelspec": {
   "display_name": "Python 3",
   "language": "python",
   "name": "python3"
  },
  "language_info": {
   "codemirror_mode": {
    "name": "ipython",
    "version": 3
   },
   "file_extension": ".py",
   "mimetype": "text/x-python",
   "name": "python",
   "nbconvert_exporter": "python",
   "pygments_lexer": "ipython3",
   "version": "3.9.13"
  }
 },
 "nbformat": 4,
 "nbformat_minor": 5
}
