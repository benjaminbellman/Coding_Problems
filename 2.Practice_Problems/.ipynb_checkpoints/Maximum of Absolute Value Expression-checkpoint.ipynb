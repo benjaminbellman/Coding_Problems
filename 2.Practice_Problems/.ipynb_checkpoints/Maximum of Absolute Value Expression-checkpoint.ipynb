{
 "cells": [
  {
   "cell_type": "markdown",
   "id": "bae14053",
   "metadata": {},
   "source": [
    "# Maximum of Absolute Value Expression"
   ]
  },
  {
   "cell_type": "markdown",
   "id": "3ae370b8",
   "metadata": {},
   "source": [
    "Given two arrays of integers with equal lengths, return the maximum value of:\n",
    "\n",
    "|arr1[i] - arr1[j]| + |arr2[i] - arr2[j]| + |i - j|\n",
    "\n",
    "where the maximum is taken over all 0 <= i, j < arr1.length.\n",
    "\n",
    "**Example 1:**\n",
    "\n",
    "Input: arr1 = [1,2,3,4], arr2 = [-1,4,5,6]\n",
    "Output: 13\n",
    "\n",
    "**Example 2:**\n",
    "\n",
    "Input: arr1 = [1,-2,-5,0,10], arr2 = [0,-2,-1,-7,-4]\n",
    "Output: 20\n",
    " \n",
    "**Constraints:**\n",
    "\n",
    "- 2 <= arr1.length == arr2.length <= 40000\n",
    "- -10^6 <= arr1[i], arr2[i] <= 10^6"
   ]
  },
  {
   "cell_type": "code",
   "execution_count": 1,
   "id": "b30c5418",
   "metadata": {},
   "outputs": [
    {
     "name": "stdout",
     "output_type": "stream",
     "text": [
      "13\n",
      "20\n"
     ]
    }
   ],
   "source": [
    "def maxAbsValExpr(arr1, arr2):\n",
    "    n = len(arr1)\n",
    "    max1 = max2 = max3 = max4 = float('-inf')\n",
    "    min1 = min2 = min3 = min4 = float('inf')\n",
    "\n",
    "    for i in range(n):\n",
    "        val1 = arr1[i] + arr2[i] + i\n",
    "        val2 = arr1[i] + arr2[i] - i\n",
    "        val3 = arr1[i] - arr2[i] + i\n",
    "        val4 = arr1[i] - arr2[i] - i\n",
    "\n",
    "        max1, min1 = max(max1, val1), min(min1, val1)\n",
    "        max2, min2 = max(max2, val2), min(min2, val2)\n",
    "        max3, min3 = max(max3, val3), min(min3, val3)\n",
    "        max4, min4 = max(max4, val4), min(min4, val4)\n",
    "\n",
    "    return max(max1 - min1, max2 - min2, max3 - min3, max4 - min4)\n",
    "\n",
    "# Example cases\n",
    "print(maxAbsValExpr([1,2,3,4], [-1,4,5,6]))  # Output: 13\n",
    "print(maxAbsValExpr([1,-2,-5,0,10], [0,-2,-1,-7,-4]))  # Output: 20"
   ]
  },
  {
   "cell_type": "code",
   "execution_count": null,
   "id": "9ede7d27",
   "metadata": {},
   "outputs": [],
   "source": []
  }
 ],
 "metadata": {
  "kernelspec": {
   "display_name": "Python 3 (ipykernel)",
   "language": "python",
   "name": "python3"
  },
  "language_info": {
   "codemirror_mode": {
    "name": "ipython",
    "version": 3
   },
   "file_extension": ".py",
   "mimetype": "text/x-python",
   "name": "python",
   "nbconvert_exporter": "python",
   "pygments_lexer": "ipython3",
   "version": "3.8.11"
  }
 },
 "nbformat": 4,
 "nbformat_minor": 5
}
