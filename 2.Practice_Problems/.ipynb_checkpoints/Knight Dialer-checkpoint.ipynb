{
 "cells": [
  {
   "cell_type": "markdown",
   "id": "5f79618a",
   "metadata": {},
   "source": [
    "# Knight Dialer"
   ]
  },
  {
   "cell_type": "markdown",
   "id": "96ca25b7",
   "metadata": {},
   "source": [
    "he chess knight has a unique movement, it may move two squares vertically and one square horizontally, or two squares horizontally and one square vertically (with both forming the shape of an L). The possible movements of chess knight are shown in this diagram:\n",
    "\n",
    "A chess knight can move as indicated in the chess diagram below:\n",
    "\n",
    "\n",
    "We have a chess knight and a phone pad as shown below, the knight can only stand on a numeric cell (i.e. blue cell).\n",
    "\n",
    "\n",
    "Given an integer n, return how many distinct phone numbers of length n we can dial.\n",
    "\n",
    "You are allowed to place the knight on any numeric cell initially and then you should perform n - 1 jumps to dial a number of length n. All jumps should be valid knight jumps.\n",
    "\n",
    "As the answer may be very large, return the answer modulo 109 + 7.\n",
    "\n",
    "**Example 1:**\n",
    "\n",
    "Input: n = 1\n",
    "Output: 10\n",
    "Explanation: We need to dial a number of length 1, so placing the knight over any numeric cell of the 10 cells is sufficient.\n",
    "\n",
    "**Example 2:**\n",
    "\n",
    "Input: n = 2\n",
    "Output: 20\n",
    "Explanation: All the valid number we can dial are [04, 06, 16, 18, 27, 29, 34, 38, 40, 43, 49, 60, 61, 67, 72, 76, 81, 83, 92, 94]\n",
    "\n",
    "**Example 3:**\n",
    "\n",
    "Input: n = 3131\n",
    "Output: 136006598\n",
    "Explanation: Please take care of the mod.\n",
    "\n",
    "**Constraints:**\n",
    "\n",
    "- 1 <= n <= 5000"
   ]
  },
  {
   "cell_type": "code",
   "execution_count": 1,
   "id": "39ccd3ad",
   "metadata": {},
   "outputs": [
    {
     "name": "stdout",
     "output_type": "stream",
     "text": [
      "10\n",
      "20\n",
      "136006598\n"
     ]
    }
   ],
   "source": [
    "MOD = 10**9 + 7\n",
    "\n",
    "def knightDialer(n):\n",
    "    # Moves: the valid knight moves from each digit\n",
    "    moves = {\n",
    "        0: [4, 6],\n",
    "        1: [6, 8],\n",
    "        2: [7, 9],\n",
    "        3: [4, 8],\n",
    "        4: [0, 3, 9],\n",
    "        5: [],     # No valid moves for 5\n",
    "        6: [0, 1, 7],\n",
    "        7: [2, 6],\n",
    "        8: [1, 3],\n",
    "        9: [2, 4]\n",
    "    }\n",
    "\n",
    "    # dp array to store number of valid phone numbers of length i ending at digit d\n",
    "    dp = [[0] * 10 for _ in range(n)]\n",
    "    \n",
    "    # Base case: for n = 1, each digit itself is a valid phone number\n",
    "    for i in range(10):\n",
    "        dp[0][i] = 1\n",
    "    \n",
    "    # Fill dp table for lengths 2 to n\n",
    "    for i in range(1, n):\n",
    "        for digit in range(10):\n",
    "            for move in moves[digit]:\n",
    "                dp[i][digit] = (dp[i][digit] + dp[i-1][move]) % MOD\n",
    "    \n",
    "    # Sum up the counts of phone numbers of length n, ending at any digit\n",
    "    return sum(dp[n-1]) % MOD\n",
    "\n",
    "# Example usage:\n",
    "n1 = 1\n",
    "n2 = 2\n",
    "n3 = 3131\n",
    "\n",
    "print(knightDialer(n1))  # Output: 10\n",
    "print(knightDialer(n2))  # Output: 20\n",
    "print(knightDialer(n3))  # Output: 136006598"
   ]
  },
  {
   "cell_type": "code",
   "execution_count": null,
   "id": "627277c4",
   "metadata": {},
   "outputs": [],
   "source": []
  }
 ],
 "metadata": {
  "kernelspec": {
   "display_name": "Python 3 (ipykernel)",
   "language": "python",
   "name": "python3"
  },
  "language_info": {
   "codemirror_mode": {
    "name": "ipython",
    "version": 3
   },
   "file_extension": ".py",
   "mimetype": "text/x-python",
   "name": "python",
   "nbconvert_exporter": "python",
   "pygments_lexer": "ipython3",
   "version": "3.8.11"
  }
 },
 "nbformat": 4,
 "nbformat_minor": 5
}
