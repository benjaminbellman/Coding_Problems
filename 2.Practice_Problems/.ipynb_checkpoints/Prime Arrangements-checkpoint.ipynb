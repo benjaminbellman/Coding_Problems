{
 "cells": [
  {
   "cell_type": "markdown",
   "id": "e45f1a42",
   "metadata": {},
   "source": [
    "# Prime Arrangements"
   ]
  },
  {
   "cell_type": "markdown",
   "id": "bd77f087",
   "metadata": {},
   "source": [
    "Return the number of permutations of 1 to n so that prime numbers are at prime indices (1-indexed.)\n",
    "\n",
    "(Recall that an integer is prime if and only if it is greater than 1, and cannot be written as a product of two positive integers both smaller than it.)\n",
    "\n",
    "Since the answer may be large, return the answer modulo 10^9 + 7.\n",
    "\n",
    "**Example 1:**\n",
    "\n",
    "Input: n = 5\n",
    "Output: 12\n",
    "Explanation: For example [1,2,5,4,3] is a valid permutation, but [5,2,3,4,1] is not because the prime number 5 is at index 1.\n",
    "\n",
    "**Example 2:**\n",
    "\n",
    "Input: n = 100\n",
    "Output: 682289015\n",
    " \n",
    "**Constraints:**\n",
    "\n",
    "- 1 <= n <= 100"
   ]
  },
  {
   "cell_type": "code",
   "execution_count": 1,
   "id": "f12f3d6d",
   "metadata": {},
   "outputs": [
    {
     "name": "stdout",
     "output_type": "stream",
     "text": [
      "12\n",
      "682289015\n"
     ]
    }
   ],
   "source": [
    "def num_prime_permutations(n):\n",
    "    MOD = 10**9 + 7\n",
    "\n",
    "    # Function to check if a number is prime\n",
    "    def is_prime(num):\n",
    "        if num < 2:\n",
    "            return False\n",
    "        for i in range(2, int(num**0.5) + 1):\n",
    "            if num % i == 0:\n",
    "                return False\n",
    "        return True\n",
    "\n",
    "    # Find number of prime numbers <= n\n",
    "    primes = [i for i in range(1, n+1) if is_prime(i)]\n",
    "    p = len(primes)  # Number of primes\n",
    "    q = n - p        # Number of non-primes\n",
    "\n",
    "    # Precompute factorials modulo MOD\n",
    "    fact = [1] * (n + 1)\n",
    "    for i in range(2, n + 1):\n",
    "        fact[i] = (fact[i - 1] * i) % MOD\n",
    "\n",
    "    # Compute the result\n",
    "    return (fact[p] * fact[q]) % MOD\n",
    "\n",
    "# Example usage:\n",
    "print(num_prime_permutations(5))  # Output: 12\n",
    "print(num_prime_permutations(100))  # Output: 682289015"
   ]
  },
  {
   "cell_type": "code",
   "execution_count": null,
   "id": "e81e0d7d",
   "metadata": {},
   "outputs": [],
   "source": []
  }
 ],
 "metadata": {
  "kernelspec": {
   "display_name": "Python 3 (ipykernel)",
   "language": "python",
   "name": "python3"
  },
  "language_info": {
   "codemirror_mode": {
    "name": "ipython",
    "version": 3
   },
   "file_extension": ".py",
   "mimetype": "text/x-python",
   "name": "python",
   "nbconvert_exporter": "python",
   "pygments_lexer": "ipython3",
   "version": "3.8.11"
  }
 },
 "nbformat": 4,
 "nbformat_minor": 5
}
