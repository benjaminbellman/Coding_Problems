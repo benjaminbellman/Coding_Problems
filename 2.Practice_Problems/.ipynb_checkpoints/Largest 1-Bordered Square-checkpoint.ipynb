{
 "cells": [
  {
   "cell_type": "markdown",
   "id": "ee70c861",
   "metadata": {},
   "source": [
    "# Largest 1-Bordered Square"
   ]
  },
  {
   "cell_type": "markdown",
   "id": "c1c0b462",
   "metadata": {},
   "source": [
    "Given a 2D grid of 0s and 1s, return the number of elements in the largest square subgrid that has all 1s on its border, or 0 if such a subgrid doesn't exist in the grid.\n",
    "\n",
    "**Example 1:**\n",
    "\n",
    "Input: grid = [[1,1,1],[1,0,1],[1,1,1]]\n",
    "Output: 9\n",
    "\n",
    "**Example 2:**\n",
    "\n",
    "Input: grid = [[1,1,0,0]]\n",
    "Output: 1\n",
    " \n",
    "**Constraints:**\n",
    "\n",
    "- 1 <= grid.length <= 100\n",
    "- 1 <= grid[0].length <= 100\n",
    "- grid[i][j] is 0 or 1"
   ]
  },
  {
   "cell_type": "code",
   "execution_count": 1,
   "id": "5bad5d5f",
   "metadata": {},
   "outputs": [],
   "source": [
    "def largestBorderedSquare(grid):\n",
    "    rows, cols = len(grid), len(grid[0])\n",
    "    max_size = 0\n",
    "\n",
    "    # Create two DP tables to store horizontal and vertical prefix sums\n",
    "    hor = [[0] * cols for _ in range(rows)]\n",
    "    ver = [[0] * cols for _ in range(rows)]\n",
    "\n",
    "    # Fill DP tables\n",
    "    for r in range(rows):\n",
    "        for c in range(cols):\n",
    "            if grid[r][c] == 1:\n",
    "                hor[r][c] = hor[r][c-1] + 1 if c > 0 else 1\n",
    "                ver[r][c] = ver[r-1][c] + 1 if r > 0 else 1\n",
    "\n",
    "    # Try to find the largest square\n",
    "    for size in range(min(rows, cols), 0, -1):  # Largest to smallest\n",
    "        for r in range(rows - size + 1):\n",
    "            for c in range(cols - size + 1):\n",
    "                if (hor[r][c+size-1] >= size and  # Top row\n",
    "                    hor[r+size-1][c+size-1] >= size and  # Bottom row\n",
    "                    ver[r+size-1][c] >= size and  # Left column\n",
    "                    ver[r+size-1][c+size-1] >= size):  # Right column\n",
    "                    return size * size  # Return area of largest valid square\n",
    "    \n",
    "    return 0"
   ]
  },
  {
   "cell_type": "code",
   "execution_count": null,
   "id": "0dbc4432",
   "metadata": {},
   "outputs": [],
   "source": []
  }
 ],
 "metadata": {
  "kernelspec": {
   "display_name": "Python 3 (ipykernel)",
   "language": "python",
   "name": "python3"
  },
  "language_info": {
   "codemirror_mode": {
    "name": "ipython",
    "version": 3
   },
   "file_extension": ".py",
   "mimetype": "text/x-python",
   "name": "python",
   "nbconvert_exporter": "python",
   "pygments_lexer": "ipython3",
   "version": "3.8.11"
  }
 },
 "nbformat": 4,
 "nbformat_minor": 5
}
