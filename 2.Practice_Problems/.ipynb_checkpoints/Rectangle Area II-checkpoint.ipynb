{
 "cells": [
  {
   "cell_type": "markdown",
   "id": "58c6323b",
   "metadata": {},
   "source": [
    "# Rectangle Area II"
   ]
  },
  {
   "cell_type": "markdown",
   "id": "cef926b7",
   "metadata": {},
   "source": [
    "You are given a 2D array of axis-aligned rectangles. Each rectangle[i] = [xi1, yi1, xi2, yi2] denotes the ith rectangle where (xi1, yi1) are the coordinates of the bottom-left corner, and (xi2, yi2) are the coordinates of the top-right corner.\n",
    "\n",
    "Calculate the total area covered by all rectangles in the plane. Any area covered by two or more rectangles should only be counted once.\n",
    "\n",
    "Return the total area. Since the answer may be too large, return it modulo 109 + 7.\n",
    "\n",
    " \n",
    "\n",
    "Example 1:\n",
    "\n",
    "\n",
    "Input: rectangles = [[0,0,2,2],[1,0,2,3],[1,0,3,1]]\n",
    "Output: 6\n",
    "Explanation: A total area of 6 is covered by all three rectangles, as illustrated in the picture.\n",
    "From (1,1) to (2,2), the green and red rectangles overlap.\n",
    "From (1,0) to (2,3), all three rectangles overlap.\n",
    "Example 2:\n",
    "\n",
    "Input: rectangles = [[0,0,1000000000,1000000000]]\n",
    "Output: 49\n",
    "Explanation: The answer is 1018 modulo (109 + 7), which is 49.\n",
    " \n",
    "\n",
    "Constraints:\n",
    "\n",
    "- 1 <= rectangles.length <= 200\n",
    "- rectanges[i].length == 4\n",
    "- 0 <= xi1, yi1, xi2, yi2 <= 109\n",
    "- xi1 <= xi2\n",
    "- yi1 <= yi2"
   ]
  },
  {
   "cell_type": "code",
   "execution_count": 1,
   "id": "25319035",
   "metadata": {},
   "outputs": [
    {
     "name": "stdout",
     "output_type": "stream",
     "text": [
      "6\n",
      "49\n"
     ]
    }
   ],
   "source": [
    "def rectangleArea(rectangles):\n",
    "    MOD = 10**9 + 7\n",
    "    \n",
    "    events = []\n",
    "    for x1, y1, x2, y2 in rectangles:\n",
    "        events.append((x1, y1, y2, 1))  # start event\n",
    "        events.append((x2, y1, y2, -1)) # end event\n",
    "    \n",
    "    events.sort()  # sort events by x coordinate, handling end events first if tie\n",
    "    \n",
    "    def calculate_area(active_intervals):\n",
    "        if not active_intervals:\n",
    "            return 0\n",
    "        \n",
    "        active_intervals.sort()\n",
    "        total_length = 0\n",
    "        last_y_start, last_y_end = active_intervals[0]\n",
    "        for y_start, y_end in active_intervals[1:]:\n",
    "            if y_start > last_y_end:\n",
    "                total_length += last_y_end - last_y_start\n",
    "                last_y_start, last_y_end = y_start, y_end\n",
    "            else:\n",
    "                last_y_end = max(last_y_end, y_end)\n",
    "        \n",
    "        total_length += last_y_end - last_y_start\n",
    "        return total_length\n",
    "    \n",
    "    total_area = 0\n",
    "    active_intervals = []\n",
    "    current_x = events[0][0]\n",
    "    \n",
    "    for x, y1, y2, flag in events:\n",
    "        total_area += (x - current_x) * calculate_area(active_intervals)\n",
    "        total_area %= MOD\n",
    "        \n",
    "        if flag == 1:\n",
    "            active_intervals.append((y1, y2))\n",
    "        else:\n",
    "            active_intervals.remove((y1, y2))\n",
    "        \n",
    "        current_x = x\n",
    "    \n",
    "    return total_area\n",
    "\n",
    "# Example usage:\n",
    "rectangles1 = [[0,0,2,2],[1,0,2,3],[1,0,3,1]]\n",
    "print(rectangleArea(rectangles1))  # Output: 6\n",
    "\n",
    "rectangles2 = [[0,0,1000000000,1000000000]]\n",
    "print(rectangleArea(rectangles2))  # Output: 49"
   ]
  },
  {
   "cell_type": "code",
   "execution_count": null,
   "id": "030b1c7f",
   "metadata": {},
   "outputs": [],
   "source": []
  }
 ],
 "metadata": {
  "kernelspec": {
   "display_name": "Python 3 (ipykernel)",
   "language": "python",
   "name": "python3"
  },
  "language_info": {
   "codemirror_mode": {
    "name": "ipython",
    "version": 3
   },
   "file_extension": ".py",
   "mimetype": "text/x-python",
   "name": "python",
   "nbconvert_exporter": "python",
   "pygments_lexer": "ipython3",
   "version": "3.8.11"
  }
 },
 "nbformat": 4,
 "nbformat_minor": 5
}
