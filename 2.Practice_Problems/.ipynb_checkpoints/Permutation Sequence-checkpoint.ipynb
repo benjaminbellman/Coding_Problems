{
 "cells": [
  {
   "cell_type": "markdown",
   "id": "d4243a37",
   "metadata": {},
   "source": [
    "# Permutation Sequence"
   ]
  },
  {
   "cell_type": "markdown",
   "id": "c0ca7aff",
   "metadata": {},
   "source": [
    "The set [1, 2, 3, ..., n] contains a total of n! unique permutations.\n",
    "\n",
    "By listing and labeling all of the permutations in order, we get the following sequence for n = 3:\n",
    "\n",
    "\"123\"\n",
    "\"132\"\n",
    "\"213\"\n",
    "\"231\"\n",
    "\"312\"\n",
    "\"321\"\n",
    "Given n and k, return the kth permutation sequence.\n",
    "\n",
    "**Example 1:**\n",
    "\n",
    "Input: n = 3, k = 3\n",
    "Output: \"213\"\n",
    "\n",
    "**Example 2:**\n",
    "\n",
    "Input: n = 4, k = 9\n",
    "Output: \"2314\"\n",
    "\n",
    "**Example 3:\n",
    "\n",
    "Input: n = 3, k = 1\n",
    "Output: \"123\"\n",
    " \n",
    "**Constraints:**\n",
    "\n",
    "- 1 <= n <= 9\n",
    "- 1 <= k <= n!"
   ]
  },
  {
   "cell_type": "code",
   "execution_count": 1,
   "id": "e75d43e4",
   "metadata": {},
   "outputs": [],
   "source": [
    "def getPermutation(n: int, k: int) -> str:\n",
    "    from math import factorial\n",
    "\n",
    "    numbers = list(map(str, range(1, n + 1)))\n",
    "    k -= 1  # Convert k to 0-based index\n",
    "    result = []\n",
    "\n",
    "    for i in range(n, 0, -1):\n",
    "        f = factorial(i - 1)\n",
    "        index = k // f\n",
    "        result.append(numbers.pop(index))\n",
    "        k %= f\n",
    "\n",
    "    return ''.join(result)"
   ]
  },
  {
   "cell_type": "code",
   "execution_count": 2,
   "id": "9d0fde47",
   "metadata": {},
   "outputs": [
    {
     "name": "stdout",
     "output_type": "stream",
     "text": [
      "213\n",
      "2314\n",
      "123\n"
     ]
    }
   ],
   "source": [
    "print(getPermutation(3, 3))  # Output: \"213\"\n",
    "print(getPermutation(4, 9))  # Output: \"2314\"\n",
    "print(getPermutation(3, 1))  # Output: \"123\""
   ]
  }
 ],
 "metadata": {
  "kernelspec": {
   "display_name": "Python 3 (ipykernel)",
   "language": "python",
   "name": "python3"
  },
  "language_info": {
   "codemirror_mode": {
    "name": "ipython",
    "version": 3
   },
   "file_extension": ".py",
   "mimetype": "text/x-python",
   "name": "python",
   "nbconvert_exporter": "python",
   "pygments_lexer": "ipython3",
   "version": "3.8.11"
  }
 },
 "nbformat": 4,
 "nbformat_minor": 5
}
