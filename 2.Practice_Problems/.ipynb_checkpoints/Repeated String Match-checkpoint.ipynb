{
 "cells": [
  {
   "cell_type": "markdown",
   "id": "1424f77c",
   "metadata": {},
   "source": [
    "# Repeated String Match"
   ]
  },
  {
   "cell_type": "markdown",
   "id": "cba57222",
   "metadata": {},
   "source": [
    "Given two strings a and b, return the minimum number of times you should repeat string a so that string b is a substring of it. If it is impossible for b​​​​​​ to be a substring of a after repeating it, return -1.\n",
    "\n",
    "Notice: string \"abc\" repeated 0 times is \"\", repeated 1 time is \"abc\" and repeated 2 times is \"abcabc\".\n",
    "\n",
    " \n",
    "\n",
    "**Example 1:**\n",
    "\n",
    "Input: a = \"abcd\", b = \"cdabcdab\"\n",
    "\n",
    "Output: 3\n",
    "Explanation: We return 3 because by repeating a three times \"abcdabcdabcd\", b is a substring of it.\n",
    "\n",
    "**Example 2:**\n",
    "\n",
    "Input: a = \"a\", b = \"aa\"\n",
    "\n",
    "Output: 2\n",
    " \n",
    "\n",
    "**Constraints:**\n",
    "\n",
    "- 1 <= a.length, b.length <= 104\n",
    "- a and b consist of lowercase English letters."
   ]
  },
  {
   "cell_type": "code",
   "execution_count": 1,
   "id": "28afec3b",
   "metadata": {},
   "outputs": [
    {
     "name": "stdout",
     "output_type": "stream",
     "text": [
      "3\n",
      "2\n"
     ]
    }
   ],
   "source": [
    "def repeatedStringMatch(a, b):\n",
    "    if b in a:\n",
    "        return 1\n",
    "    \n",
    "    n = len(a)\n",
    "    m = len(b)\n",
    "    max_repeats = (m // n) + 2  # The maximum number of times we need to repeat 'a' to contain 'b'\n",
    "    \n",
    "    for i in range(1, max_repeats):\n",
    "        if b in a * i:\n",
    "            return i\n",
    "    \n",
    "    return -1\n",
    "\n",
    "# Example 1\n",
    "a1 = \"abcd\"\n",
    "b1 = \"cdabcdab\"\n",
    "print(repeatedStringMatch(a1, b1))  # Output: 3\n",
    "\n",
    "# Example 2\n",
    "a2 = \"a\"\n",
    "b2 = \"aa\"\n",
    "print(repeatedStringMatch(a2, b2))  # Output: 2"
   ]
  },
  {
   "cell_type": "code",
   "execution_count": null,
   "id": "a748a88a",
   "metadata": {},
   "outputs": [],
   "source": []
  }
 ],
 "metadata": {
  "kernelspec": {
   "display_name": "Python 3",
   "language": "python",
   "name": "python3"
  },
  "language_info": {
   "codemirror_mode": {
    "name": "ipython",
    "version": 3
   },
   "file_extension": ".py",
   "mimetype": "text/x-python",
   "name": "python",
   "nbconvert_exporter": "python",
   "pygments_lexer": "ipython3",
   "version": "3.9.13"
  }
 },
 "nbformat": 4,
 "nbformat_minor": 5
}
