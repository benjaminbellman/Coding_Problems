{
 "cells": [
  {
   "cell_type": "markdown",
   "id": "ab5346ff",
   "metadata": {},
   "source": [
    "# Falling squares"
   ]
  },
  {
   "cell_type": "markdown",
   "id": "1664509b",
   "metadata": {},
   "source": [
    "There are several squares being dropped onto the X-axis of a 2D plane.\n",
    "\n",
    "You are given a 2D integer array positions where positions[i] = [lefti, sideLengthi] represents the ith square with a side length of sideLengthi that is dropped with its left edge aligned with X-coordinate lefti.\n",
    "\n",
    "Each square is dropped one at a time from a height above any landed squares. It then falls downward (negative Y direction) until it either lands on the top side of another square or on the X-axis. A square brushing the left/right side of another square does not count as landing on it. Once it lands, it freezes in place and cannot be moved.\n",
    "\n",
    "After each square is dropped, you must record the height of the current tallest stack of squares.\n",
    "\n",
    "Return an integer array ans where ans[i] represents the height described above after dropping the ith square.\n",
    "\n",
    " \n",
    "\n",
    "**Example 1:**\n",
    "\n",
    "\n",
    "Input: positions = [[1,2],[2,3],[6,1]]\n",
    "\n",
    "Output: [2,5,5]\n",
    "Explanation:\n",
    "After the first drop, the tallest stack is square 1 with a height of 2.\n",
    "After the second drop, the tallest stack is squares 1 and 2 with a height of 5.\n",
    "After the third drop, the tallest stack is still squares 1 and 2 with a height of 5.\n",
    "Thus, we return an answer of [2, 5, 5].\n",
    "\n",
    "**Example 2:**\n",
    "\n",
    "Input: positions = [[100,100],[200,100]]\n",
    "\n",
    "Output: [100,100]\n",
    "Explanation:\n",
    "After the first drop, the tallest stack is square 1 with a height of 100.\n",
    "After the second drop, the tallest stack is either square 1 or square 2, both with heights of 100.\n",
    "Thus, we return an answer of [100, 100].\n",
    "Note that square 2 only brushes the right side of square 1, which does not count as landing on it.\n",
    " \n",
    "\n",
    "**Constraints:**\n",
    "\n",
    "- 1 <= positions.length <= 1000\n",
    "- 1 <= lefti <= 108\n",
    "- 1 <= sideLengthi <= 106"
   ]
  },
  {
   "cell_type": "code",
   "execution_count": 1,
   "id": "cfbc3aa7",
   "metadata": {},
   "outputs": [
    {
     "name": "stdout",
     "output_type": "stream",
     "text": [
      "[2, 5, 5]\n",
      "[100, 100]\n"
     ]
    }
   ],
   "source": [
    "import heapq\n",
    "\n",
    "def fallingSquares(positions):\n",
    "    # Initialize variables\n",
    "    max_height = 0\n",
    "    heights = []  # To store heights of stacked squares\n",
    "    result = []\n",
    "\n",
    "    # Iterate through each square\n",
    "    for left, sideLength in positions:\n",
    "        right = left + sideLength\n",
    "        curr_height = 0\n",
    "\n",
    "        # Check the overlap with existing squares\n",
    "        for start, end, height in heights:\n",
    "            # If the current square overlaps with the existing square\n",
    "            if not (right <= start or left >= end):\n",
    "                curr_height = max(curr_height, height)\n",
    "\n",
    "        # Add the current square to the heights list\n",
    "        curr_height += sideLength\n",
    "        heights.append((left, right, curr_height))\n",
    "        \n",
    "        # Update max_height\n",
    "        max_height = max(max_height, curr_height)\n",
    "        result.append(max_height)\n",
    "\n",
    "    return result\n",
    "\n",
    "# Test the function\n",
    "positions1 = [[1,2],[2,3],[6,1]]\n",
    "positions2 = [[100,100],[200,100]]\n",
    "\n",
    "print(fallingSquares(positions1))  # Output: [2, 5, 5]\n",
    "print(fallingSquares(positions2))  # Output: [100, 100]"
   ]
  }
 ],
 "metadata": {
  "kernelspec": {
   "display_name": "Python 3",
   "language": "python",
   "name": "python3"
  },
  "language_info": {
   "codemirror_mode": {
    "name": "ipython",
    "version": 3
   },
   "file_extension": ".py",
   "mimetype": "text/x-python",
   "name": "python",
   "nbconvert_exporter": "python",
   "pygments_lexer": "ipython3",
   "version": "3.9.13"
  }
 },
 "nbformat": 4,
 "nbformat_minor": 5
}
