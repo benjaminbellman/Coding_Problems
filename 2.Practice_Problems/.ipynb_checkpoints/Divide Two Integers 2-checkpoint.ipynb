{
 "cells": [
  {
   "cell_type": "markdown",
   "id": "95e0d49f",
   "metadata": {},
   "source": [
    "# Divide Two Integers 2"
   ]
  },
  {
   "cell_type": "markdown",
   "id": "20d06581",
   "metadata": {},
   "source": [
    "Given two integers dividend and divisor, divide two integers without using multiplication, division, and mod operator.\n",
    "\n",
    "The integer division should truncate toward zero, which means losing its fractional part. For example, 8.345 would be truncated to 8, and -2.7335 would be truncated to -2.\n",
    "\n",
    "Return the quotient after dividing dividend by divisor.\n",
    "\n",
    "Note: Assume we are dealing with an environment that could only store integers within the 32-bit signed integer range: [−231, 231 − 1]. For this problem, if the quotient is strictly greater than 231 - 1, then return 231 - 1, and if the quotient is strictly less than -231, then return -231.\n",
    "\n",
    "**Example 1:**\n",
    "\n",
    "Input: dividend = 10, divisor = 3\n",
    "Output: 3\n",
    "Explanation: 10/3 = 3.33333.. which is truncated to 3.\n",
    "\n",
    "**Example 2:**\n",
    "\n",
    "Input: dividend = 7, divisor = -3\n",
    "Output: -2\n",
    "Explanation: 7/-3 = -2.33333.. which is truncated to -2.\n",
    " \n",
    "**Constraints:**\n",
    "\n",
    "- -231 <= dividend, divisor <= 231 - 1\n",
    "- divisor != 0"
   ]
  },
  {
   "cell_type": "code",
   "execution_count": 1,
   "id": "d81f2252",
   "metadata": {},
   "outputs": [],
   "source": [
    "def divide(dividend: int, divisor: int) -> int:\n",
    "    INT_MAX = 2**31 - 1\n",
    "    INT_MIN = -2**31\n",
    "\n",
    "    # Handle overflow case\n",
    "    if dividend == INT_MIN and divisor == -1:\n",
    "        return INT_MAX\n",
    "\n",
    "    # Use negatives for safety\n",
    "    negatives = 2\n",
    "    if dividend > 0:\n",
    "        dividend = -dividend\n",
    "        negatives -= 1\n",
    "    if divisor > 0:\n",
    "        divisor = -divisor\n",
    "        negatives -= 1\n",
    "\n",
    "    quotient = 0\n",
    "    while dividend <= divisor:\n",
    "        power_of_two = 1\n",
    "        value = divisor\n",
    "        # Double value until it's too small\n",
    "        while value >= (INT_MIN >> 1) and dividend <= value + value:\n",
    "            value += value\n",
    "            power_of_two += power_of_two\n",
    "        dividend -= value\n",
    "        quotient += power_of_two\n",
    "\n",
    "    return quotient if negatives != 1 else -quotient"
   ]
  },
  {
   "cell_type": "code",
   "execution_count": 2,
   "id": "ad141aa4",
   "metadata": {},
   "outputs": [
    {
     "name": "stdout",
     "output_type": "stream",
     "text": [
      "3\n",
      "-2\n",
      "2147483647\n"
     ]
    }
   ],
   "source": [
    "print(divide(10, 3))   # Output: 3\n",
    "print(divide(7, -3))   # Output: -2\n",
    "print(divide(-2147483648, -1))  # Output: 2147483647 (overflow case)"
   ]
  },
  {
   "cell_type": "code",
   "execution_count": null,
   "id": "a3c3c64e",
   "metadata": {},
   "outputs": [],
   "source": []
  }
 ],
 "metadata": {
  "kernelspec": {
   "display_name": "Python 3 (ipykernel)",
   "language": "python",
   "name": "python3"
  },
  "language_info": {
   "codemirror_mode": {
    "name": "ipython",
    "version": 3
   },
   "file_extension": ".py",
   "mimetype": "text/x-python",
   "name": "python",
   "nbconvert_exporter": "python",
   "pygments_lexer": "ipython3",
   "version": "3.8.11"
  }
 },
 "nbformat": 4,
 "nbformat_minor": 5
}
