{
 "cells": [
  {
   "cell_type": "markdown",
   "id": "837fcda0",
   "metadata": {},
   "source": [
    "# Two City Scheduling"
   ]
  },
  {
   "cell_type": "markdown",
   "id": "d170f0b3",
   "metadata": {},
   "source": [
    "A company is planning to interview 2n people. Given the array costs where costs[i] = [aCosti, bCosti], the cost of flying the ith person to city a is aCosti, and the cost of flying the ith person to city b is bCosti.\n",
    "\n",
    "Return the minimum cost to fly every person to a city such that exactly n people arrive in each city.\n",
    "\n",
    "**Example 1:**\n",
    "\n",
    "Input: costs = [[10,20],[30,200],[400,50],[30,20]]\n",
    "Output: 110\n",
    "Explanation: \n",
    "The first person goes to city A for a cost of 10.\n",
    "The second person goes to city A for a cost of 30.\n",
    "The third person goes to city B for a cost of 50.\n",
    "The fourth person goes to city B for a cost of 20.\n",
    "\n",
    "The total minimum cost is 10 + 30 + 50 + 20 = 110 to have half the people interviewing in each city.\n",
    "\n",
    "**Example 2:**\n",
    "\n",
    "Input: costs = [[259,770],[448,54],[926,667],[184,139],[840,118],[577,469]]\n",
    "Output: 1859\n",
    "\n",
    "**Example 3:**\n",
    "\n",
    "Input: costs = [[515,563],[451,713],[537,709],[343,819],[855,779],[457,60],[650,359],[631,42]]\n",
    "Output: 3086\n",
    " \n",
    "**Constraints:**\n",
    "\n",
    "- 2 * n == costs.length\n",
    "- 2 <= costs.length <= 100\n",
    "- costs.length is even.\n",
    "- 1 <= aCosti, bCosti <= 1000"
   ]
  },
  {
   "cell_type": "code",
   "execution_count": 1,
   "id": "8c69581a",
   "metadata": {},
   "outputs": [],
   "source": [
    "def twoCitySchedCost(costs):\n",
    "    # Sort costs by the difference between aCost and bCost\n",
    "    costs.sort(key=lambda x: x[0] - x[1])\n",
    "    \n",
    "    n = len(costs) // 2\n",
    "    total_cost = 0\n",
    "    \n",
    "    # Send the first n people to city A and the rest to city B\n",
    "    for i in range(n):\n",
    "        total_cost += costs[i][0]  # Cost for city A\n",
    "    for i in range(n, len(costs)):\n",
    "        total_cost += costs[i][1]  # Cost for city B\n",
    "    \n",
    "    return total_cost"
   ]
  },
  {
   "cell_type": "code",
   "execution_count": null,
   "id": "5fb90fc6",
   "metadata": {},
   "outputs": [],
   "source": []
  }
 ],
 "metadata": {
  "kernelspec": {
   "display_name": "Python 3 (ipykernel)",
   "language": "python",
   "name": "python3"
  },
  "language_info": {
   "codemirror_mode": {
    "name": "ipython",
    "version": 3
   },
   "file_extension": ".py",
   "mimetype": "text/x-python",
   "name": "python",
   "nbconvert_exporter": "python",
   "pygments_lexer": "ipython3",
   "version": "3.8.11"
  }
 },
 "nbformat": 4,
 "nbformat_minor": 5
}
