{
 "cells": [
  {
   "cell_type": "markdown",
   "id": "d4a009ab",
   "metadata": {},
   "source": [
    "# Find Eventual Safe States"
   ]
  },
  {
   "cell_type": "markdown",
   "id": "b49d1626",
   "metadata": {},
   "source": [
    "There is a directed graph of n nodes with each node labeled from 0 to n - 1. The graph is represented by a 0-indexed 2D integer array graph where graph[i] is an integer array of nodes adjacent to node i, meaning there is an edge from node i to each node in graph[i].\n",
    "\n",
    "A node is a terminal node if there are no outgoing edges. A node is a safe node if every possible path starting from that node leads to a terminal node (or another safe node).\n",
    "\n",
    "Return an array containing all the safe nodes of the graph. The answer should be sorted in ascending order.\n",
    "\n",
    " \n",
    "\n",
    "**Example 1:**\n",
    "\n",
    "Illustration of graph\n",
    "Input: graph = [[1,2],[2,3],[5],[0],[5],[],[]]\n",
    "\n",
    "Output: [2,4,5,6]\n",
    "Explanation: The given graph is shown above.\n",
    "Nodes 5 and 6 are terminal nodes as there are no outgoing edges from either of them.\n",
    "Every path starting at nodes 2, 4, 5, and 6 all lead to either node 5 or 6.\n",
    "\n",
    "**Example 2:**\n",
    "\n",
    "Input: graph = [[1,2,3,4],[1,2],[3,4],[0,4],[]]\n",
    "\n",
    "Output: [4]\n",
    "Explanation:\n",
    "Only node 4 is a terminal node, and every path starting at node 4 leads to node 4.\n",
    " \n",
    "\n",
    "**Constraints:**\n",
    "\n",
    "- n == graph.length\n",
    "- 1 <= n <= 104\n",
    "- 0 <= graph[i].length <= n\n",
    "- 0 <= graph[i][j] <= n - 1\n",
    "- graph[i] is sorted in a strictly increasing order.\n",
    "- The graph may contain self-loops.\n",
    "- The number of edges in the graph will be in the range [1, 4 * 104]."
   ]
  },
  {
   "cell_type": "code",
   "execution_count": 1,
   "id": "960f77e7",
   "metadata": {},
   "outputs": [],
   "source": [
    "def eventualSafeNodes(graph):\n",
    "    n = len(graph)\n",
    "    colors = [0] * n  # 0=unvisited, 1=visiting, 2=safe\n",
    "\n",
    "    def dfs(node):\n",
    "        if colors[node] != 0:\n",
    "            return colors[node] == 2\n",
    "        colors[node] = 1  # Mark as visiting\n",
    "        for next_node in graph[node]:\n",
    "            if colors[next_node] == 1 or not dfs(next_node):\n",
    "                return False\n",
    "        colors[node] = 2  # Mark as safe\n",
    "        return True\n",
    "\n",
    "    result = []\n",
    "    for node in range(n):\n",
    "        if dfs(node):\n",
    "            result.append(node)\n",
    "\n",
    "    return result"
   ]
  },
  {
   "cell_type": "code",
   "execution_count": null,
   "id": "0e2c1317",
   "metadata": {},
   "outputs": [],
   "source": []
  }
 ],
 "metadata": {
  "kernelspec": {
   "display_name": "Python 3",
   "language": "python",
   "name": "python3"
  },
  "language_info": {
   "codemirror_mode": {
    "name": "ipython",
    "version": 3
   },
   "file_extension": ".py",
   "mimetype": "text/x-python",
   "name": "python",
   "nbconvert_exporter": "python",
   "pygments_lexer": "ipython3",
   "version": "3.9.13"
  }
 },
 "nbformat": 4,
 "nbformat_minor": 5
}
