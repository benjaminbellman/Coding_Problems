{
 "cells": [
  {
   "cell_type": "markdown",
   "id": "ba3fef62",
   "metadata": {},
   "source": [
    "# Design a HashSet"
   ]
  },
  {
   "cell_type": "markdown",
   "id": "2aa73f07",
   "metadata": {},
   "source": [
    "Design a HashSet without using any built-in hash table libraries.\n",
    "\n",
    "Implement MyHashSet class:\n",
    "\n",
    "void add(key) Inserts the value key into the HashSet.\n",
    "bool contains(key) Returns whether the value key exists in the HashSet or not.\n",
    "void remove(key) Removes the value key in the HashSet. If key does not exist in the HashSet, do nothing.\n",
    " \n",
    "\n",
    "**Example 1:**\n",
    "\n",
    "Input\n",
    "[\"MyHashSet\", \"add\", \"add\", \"contains\", \"contains\", \"add\", \"contains\", \"remove\", \"contains\"]\n",
    "[[], [1], [2], [1], [3], [2], [2], [2], [2]]\n",
    "\n",
    "Output\n",
    "[null, null, null, true, false, null, true, null, false]\n",
    "\n",
    "Explanation\n",
    "MyHashSet myHashSet = new MyHashSet();\n",
    "myHashSet.add(1);      // set = [1]\n",
    "myHashSet.add(2);      // set = [1, 2]\n",
    "myHashSet.contains(1); // return True\n",
    "myHashSet.contains(3); // return False, (not found)\n",
    "myHashSet.add(2);      // set = [1, 2]\n",
    "myHashSet.contains(2); // return True\n",
    "myHashSet.remove(2);   // set = [1]\n",
    "myHashSet.contains(2); // return False, (already removed)\n",
    " \n",
    "\n",
    "**Constraints:**\n",
    "\n",
    "- 0 <= key <= 106\n",
    "- At most 104 calls will be made to add, remove, and contains."
   ]
  },
  {
   "cell_type": "code",
   "execution_count": 1,
   "id": "fe98fb09",
   "metadata": {},
   "outputs": [
    {
     "name": "stdout",
     "output_type": "stream",
     "text": [
      "True\n",
      "False\n",
      "True\n",
      "False\n"
     ]
    }
   ],
   "source": [
    "class ListNode:\n",
    "    def __init__(self, key):\n",
    "        self.key = key\n",
    "        self.next = None\n",
    "\n",
    "class MyHashSet:\n",
    "    def __init__(self):\n",
    "        \"\"\"\n",
    "        Initialize your data structure here.\n",
    "        \"\"\"\n",
    "        self.size = 1000  # Initial size of the array (can be adjusted)\n",
    "        self.buckets = [None] * self.size\n",
    "\n",
    "    def add(self, key: int) -> None:\n",
    "        index = key % self.size\n",
    "        if not self.buckets[index]:\n",
    "            self.buckets[index] = ListNode(key)\n",
    "            return\n",
    "        # If bucket is not empty, check if key already exists\n",
    "        current = self.buckets[index]\n",
    "        while current:\n",
    "            if current.key == key:\n",
    "                return\n",
    "            if not current.next:\n",
    "                break\n",
    "            current = current.next\n",
    "        current.next = ListNode(key)\n",
    "\n",
    "    def remove(self, key: int) -> None:\n",
    "        index = key % self.size\n",
    "        if not self.buckets[index]:\n",
    "            return\n",
    "        if self.buckets[index].key == key:\n",
    "            self.buckets[index] = self.buckets[index].next\n",
    "            return\n",
    "        # If key is not in the first node, search in the linked list\n",
    "        prev, current = None, self.buckets[index]\n",
    "        while current:\n",
    "            if current.key == key:\n",
    "                prev.next = current.next\n",
    "                return\n",
    "            prev, current = current, current.next\n",
    "\n",
    "    def contains(self, key: int) -> bool:\n",
    "        \"\"\"\n",
    "        Returns true if this set contains the specified element\n",
    "        \"\"\"\n",
    "        index = key % self.size\n",
    "        current = self.buckets[index]\n",
    "        while current:\n",
    "            if current.key == key:\n",
    "                return True\n",
    "            current = current.next\n",
    "        return False\n",
    "\n",
    "# Example usage:\n",
    "myHashSet = MyHashSet()\n",
    "myHashSet.add(1)\n",
    "myHashSet.add(2)\n",
    "print(myHashSet.contains(1))  # Output: True\n",
    "print(myHashSet.contains(3))  # Output: False\n",
    "myHashSet.add(2)\n",
    "print(myHashSet.contains(2))  # Output: True\n",
    "myHashSet.remove(2)\n",
    "print(myHashSet.contains(2))  # Output: False"
   ]
  },
  {
   "cell_type": "code",
   "execution_count": null,
   "id": "84d87814",
   "metadata": {},
   "outputs": [],
   "source": []
  }
 ],
 "metadata": {
  "kernelspec": {
   "display_name": "Python 3",
   "language": "python",
   "name": "python3"
  },
  "language_info": {
   "codemirror_mode": {
    "name": "ipython",
    "version": 3
   },
   "file_extension": ".py",
   "mimetype": "text/x-python",
   "name": "python",
   "nbconvert_exporter": "python",
   "pygments_lexer": "ipython3",
   "version": "3.9.13"
  }
 },
 "nbformat": 4,
 "nbformat_minor": 5
}
