{
 "cells": [
  {
   "cell_type": "markdown",
   "id": "cfde3626",
   "metadata": {},
   "source": [
    "# Set Matrix Zeroes"
   ]
  },
  {
   "cell_type": "markdown",
   "id": "6c2ddb49",
   "metadata": {},
   "source": [
    "Given an m x n integer matrix matrix, if an element is 0, set its entire row and column to 0's.\n",
    "\n",
    "You must do it in place.\n",
    "\n",
    "**Example 1:**\n",
    "\n",
    "Input: matrix = [[1,1,1],[1,0,1],[1,1,1]]\n",
    "Output: [[1,0,1],[0,0,0],[1,0,1]]\n",
    "\n",
    "**Example 2:**\n",
    "\n",
    "Input: matrix = [[0,1,2,0],[3,4,5,2],[1,3,1,5]]\n",
    "Output: [[0,0,0,0],[0,4,5,0],[0,3,1,0]]\n",
    " \n",
    "**Constraints:**\n",
    "\n",
    "- m == matrix.length\n",
    "- n == matrix[0].length\n",
    "- 1 <= m, n <= 200\n",
    "- -231 <= matrix[i][j] <= 231 - 1"
   ]
  },
  {
   "cell_type": "code",
   "execution_count": 1,
   "id": "7350679c",
   "metadata": {},
   "outputs": [],
   "source": [
    "def setZeroes(matrix):\n",
    "    m, n = len(matrix), len(matrix[0])\n",
    "    first_row_zero = any(matrix[0][j] == 0 for j in range(n))\n",
    "    first_col_zero = any(matrix[i][0] == 0 for i in range(m))\n",
    "\n",
    "    # Step 1: Use first row and column as markers\n",
    "    for i in range(1, m):\n",
    "        for j in range(1, n):\n",
    "            if matrix[i][j] == 0:\n",
    "                matrix[i][0] = 0\n",
    "                matrix[0][j] = 0\n",
    "\n",
    "    # Step 2: Zero out cells based on markers\n",
    "    for i in range(1, m):\n",
    "        for j in range(1, n):\n",
    "            if matrix[i][0] == 0 or matrix[0][j] == 0:\n",
    "                matrix[i][j] = 0\n",
    "\n",
    "    # Step 3: Zero out the first row if needed\n",
    "    if first_row_zero:\n",
    "        for j in range(n):\n",
    "            matrix[0][j] = 0\n",
    "\n",
    "    # Step 4: Zero out the first column if needed\n",
    "    if first_col_zero:\n",
    "        for i in range(m):\n",
    "            matrix[i][0] = 0"
   ]
  },
  {
   "cell_type": "code",
   "execution_count": 2,
   "id": "a6e54805",
   "metadata": {},
   "outputs": [
    {
     "name": "stdout",
     "output_type": "stream",
     "text": [
      "[[0, 0, 0, 0], [0, 4, 5, 0], [0, 3, 1, 0]]\n"
     ]
    }
   ],
   "source": [
    "matrix = [[0,1,2,0],[3,4,5,2],[1,3,1,5]]\n",
    "setZeroes(matrix)\n",
    "print(matrix)  # Output: [[0,0,0,0],[0,4,5,0],[0,3,1,0]]"
   ]
  },
  {
   "cell_type": "code",
   "execution_count": null,
   "id": "7f155d16",
   "metadata": {},
   "outputs": [],
   "source": []
  }
 ],
 "metadata": {
  "kernelspec": {
   "display_name": "Python 3 (ipykernel)",
   "language": "python",
   "name": "python3"
  },
  "language_info": {
   "codemirror_mode": {
    "name": "ipython",
    "version": 3
   },
   "file_extension": ".py",
   "mimetype": "text/x-python",
   "name": "python",
   "nbconvert_exporter": "python",
   "pygments_lexer": "ipython3",
   "version": "3.8.11"
  }
 },
 "nbformat": 4,
 "nbformat_minor": 5
}
