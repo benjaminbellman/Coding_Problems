{
 "cells": [
  {
   "cell_type": "markdown",
   "id": "b6273758",
   "metadata": {},
   "source": [
    "# Convert to Base -2"
   ]
  },
  {
   "cell_type": "markdown",
   "id": "58d96974",
   "metadata": {},
   "source": [
    "Given an integer n, return a binary string representing its representation in base -2.\n",
    "\n",
    "Note that the returned string should not have leading zeros unless the string is \"0\".\n",
    "\n",
    "**Example 1:**\n",
    "\n",
    "Input: n = 2\n",
    "Output: \"110\"\n",
    "Explantion: (-2)2 + (-2)1 = 2\n",
    "\n",
    "**Example 2:**\n",
    "\n",
    "Input: n = 3\n",
    "Output: \"111\"\n",
    "Explantion: (-2)2 + (-2)1 + (-2)0 = 3\n",
    "\n",
    "**Example 3:**\n",
    "\n",
    "Input: n = 4\n",
    "Output: \"100\"\n",
    "Explantion: (-2)2 = 4\n",
    " \n",
    "**Constraints:**\n",
    "\n",
    "- 0 <= n <= 109"
   ]
  },
  {
   "cell_type": "code",
   "execution_count": 1,
   "id": "c5bce4e1",
   "metadata": {},
   "outputs": [
    {
     "name": "stdout",
     "output_type": "stream",
     "text": [
      "110\n",
      "111\n",
      "100\n"
     ]
    }
   ],
   "source": [
    "def baseNeg2(n: int) -> str:\n",
    "    if n == 0:\n",
    "        return \"0\"\n",
    "    \n",
    "    result = []\n",
    "    while n != 0:\n",
    "        remainder = n % -2\n",
    "        n //= -2\n",
    "        if remainder < 0:\n",
    "            remainder += 2\n",
    "            n += 1\n",
    "        result.append(str(remainder))\n",
    "    \n",
    "    return ''.join(result[::-1])\n",
    "\n",
    "# Examples\n",
    "print(baseNeg2(2))  # Output: \"110\"\n",
    "print(baseNeg2(3))  # Output: \"111\"\n",
    "print(baseNeg2(4))  # Output: \"100\""
   ]
  },
  {
   "cell_type": "code",
   "execution_count": null,
   "id": "ad2c5e7c",
   "metadata": {},
   "outputs": [],
   "source": []
  }
 ],
 "metadata": {
  "kernelspec": {
   "display_name": "Python 3 (ipykernel)",
   "language": "python",
   "name": "python3"
  },
  "language_info": {
   "codemirror_mode": {
    "name": "ipython",
    "version": 3
   },
   "file_extension": ".py",
   "mimetype": "text/x-python",
   "name": "python",
   "nbconvert_exporter": "python",
   "pygments_lexer": "ipython3",
   "version": "3.8.11"
  }
 },
 "nbformat": 4,
 "nbformat_minor": 5
}
