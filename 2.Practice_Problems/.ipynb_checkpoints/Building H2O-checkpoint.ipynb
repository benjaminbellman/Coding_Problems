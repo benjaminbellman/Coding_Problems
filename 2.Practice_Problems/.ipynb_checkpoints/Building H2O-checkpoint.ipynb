{
 "cells": [
  {
   "cell_type": "markdown",
   "id": "266ac8ce",
   "metadata": {},
   "source": [
    "# Building H2O"
   ]
  },
  {
   "cell_type": "markdown",
   "id": "bffa25dd",
   "metadata": {},
   "source": [
    "There are two kinds of threads: oxygen and hydrogen. Your goal is to group these threads to form water molecules.\n",
    "\n",
    "There is a barrier where each thread has to wait until a complete molecule can be formed. Hydrogen and oxygen threads will be given releaseHydrogen and releaseOxygen methods respectively, which will allow them to pass the barrier. These threads should pass the barrier in groups of three, and they must immediately bond with each other to form a water molecule. You must guarantee that all the threads from one molecule bond before any other threads from the next molecule do.\n",
    "\n",
    "In other words:\n",
    "\n",
    "If an oxygen thread arrives at the barrier when no hydrogen threads are present, it must wait for two hydrogen threads.\n",
    "If a hydrogen thread arrives at the barrier when no other threads are present, it must wait for an oxygen thread and another hydrogen thread.\n",
    "We do not have to worry about matching the threads up explicitly; the threads do not necessarily know which other threads they are paired up with. The key is that threads pass the barriers in complete sets; thus, if we examine the sequence of threads that bind and divide them into groups of three, each group should contain one oxygen and two hydrogen threads.\n",
    "\n",
    "Write synchronization code for oxygen and hydrogen molecules that enforces these constraints.\n",
    "\n",
    "**Example 1:**\n",
    "\n",
    "Input: water = \"HOH\"\n",
    "Output: \"HHO\"\n",
    "Explanation: \"HOH\" and \"OHH\" are also valid answers.\n",
    "\n",
    "**Example 2:**\n",
    "\n",
    "Input: water = \"OOHHHH\"\n",
    "Output: \"HHOHHO\"\n",
    "Explanation: \"HOHHHO\", \"OHHHHO\", \"HHOHOH\", \"HOHHOH\", \"OHHHOH\", \"HHOOHH\", \"HOHOHH\" and \"OHHOHH\" are also valid answers.\n",
    " \n",
    "**Constraints:**\n",
    "\n",
    "- 3 * n == water.length\n",
    "- 1 <= n <= 20\n",
    "- water[i] is either 'H' or 'O'.\n",
    "- There will be exactly 2 * n 'H' in water.\n",
    "- There will be exactly n 'O' in water."
   ]
  },
  {
   "cell_type": "code",
   "execution_count": 4,
   "id": "4074e453",
   "metadata": {},
   "outputs": [],
   "source": [
    "import threading\n",
    "\n",
    "class H2O:\n",
    "    def __init__(self):\n",
    "        self.hydrogen_semaphore = threading.Semaphore(2)  # Allows 2 hydrogen atoms\n",
    "        self.oxygen_semaphore = threading.Semaphore(0)    # Allows 1 oxygen atom\n",
    "        self.barrier = threading.Barrier(3)               # Ensures 3 threads sync\n",
    "\n",
    "    def hydrogen(self, releaseHydrogen):\n",
    "        self.hydrogen_semaphore.acquire()  # Allow only 2 hydrogen at a time\n",
    "        releaseHydrogen()  # Print 'H'\n",
    "        self.barrier.wait()  # Wait for O and another H\n",
    "        self.hydrogen_semaphore.release()\n",
    "\n",
    "    def oxygen(self, releaseOxygen):\n",
    "        self.oxygen_semaphore.acquire()  # Allow 1 oxygen at a time\n",
    "        releaseOxygen()  # Print 'O'\n",
    "        self.barrier.wait()  # Wait for 2 H\n",
    "        self.oxygen_semaphore.release()"
   ]
  },
  {
   "cell_type": "code",
   "execution_count": null,
   "id": "dff74c58",
   "metadata": {},
   "outputs": [
    {
     "name": "stdout",
     "output_type": "stream",
     "text": [
      "HH"
     ]
    }
   ],
   "source": [
    "import time\n",
    "from threading import Thread\n",
    "\n",
    "# Define the functions to print Hydrogen and Oxygen\n",
    "def releaseHydrogen():\n",
    "    print(\"H\", end=\"\")\n",
    "\n",
    "def releaseOxygen():\n",
    "    print(\"O\", end=\"\")\n",
    "\n",
    "# Input water molecule string\n",
    "water = \"OOHHHH\"\n",
    "\n",
    "# Create an instance of H2O\n",
    "h2o = H2O()\n",
    "threads = []\n",
    "\n",
    "# Create threads for each atom in the input string\n",
    "for atom in water:\n",
    "    if atom == \"H\":\n",
    "        t = Thread(target=h2o.hydrogen, args=(releaseHydrogen,))\n",
    "    else:\n",
    "        t = Thread(target=h2o.oxygen, args=(releaseOxygen,))\n",
    "    threads.append(t)\n",
    "    t.start()\n",
    "\n",
    "# Wait for all threads to finish\n",
    "for t in threads:\n",
    "    t.join()\n",
    "\n",
    "print()  # New line after output\n"
   ]
  },
  {
   "cell_type": "code",
   "execution_count": null,
   "id": "8dc15485",
   "metadata": {},
   "outputs": [],
   "source": []
  }
 ],
 "metadata": {
  "kernelspec": {
   "display_name": "Python 3 (ipykernel)",
   "language": "python",
   "name": "python3"
  },
  "language_info": {
   "codemirror_mode": {
    "name": "ipython",
    "version": 3
   },
   "file_extension": ".py",
   "mimetype": "text/x-python",
   "name": "python",
   "nbconvert_exporter": "python",
   "pygments_lexer": "ipython3",
   "version": "3.8.11"
  }
 },
 "nbformat": 4,
 "nbformat_minor": 5
}
