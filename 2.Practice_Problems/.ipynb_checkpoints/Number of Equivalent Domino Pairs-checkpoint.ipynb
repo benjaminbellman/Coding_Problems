{
 "cells": [
  {
   "cell_type": "markdown",
   "id": "745bea05",
   "metadata": {},
   "source": [
    "# Number of Equivalent Domino Pairs"
   ]
  },
  {
   "cell_type": "markdown",
   "id": "e9119f74",
   "metadata": {},
   "source": [
    "Given a list of dominoes, dominoes[i] = [a, b] is equivalent to dominoes[j] = [c, d] if and only if either (a == c and b == d), or (a == d and b == c) - that is, one domino can be rotated to be equal to another domino.\n",
    "\n",
    "Return the number of pairs (i, j) for which 0 <= i < j < dominoes.length, and dominoes[i] is equivalent to dominoes[j].\n",
    "\n",
    "**Example 1:**\n",
    "\n",
    "Input: dominoes = [[1,2],[2,1],[3,4],[5,6]]\n",
    "Output: 1\n",
    "\n",
    "**Example 2:**\n",
    "\n",
    "Input: dominoes = [[1,2],[1,2],[1,1],[1,2],[2,2]]\n",
    "Output: 3\n",
    " \n",
    "**Constraints:**\n",
    "\n",
    "- 1 <= dominoes.length <= 4 * 104\n",
    "- dominoes[i].length == 2\n",
    "- 1 <= dominoes[i][j] <= 9"
   ]
  },
  {
   "cell_type": "code",
   "execution_count": 1,
   "id": "c3e00a7c",
   "metadata": {},
   "outputs": [
    {
     "name": "stdout",
     "output_type": "stream",
     "text": [
      "1\n",
      "3\n"
     ]
    }
   ],
   "source": [
    "from collections import defaultdict\n",
    "\n",
    "def numEquivDominoPairs(dominoes):\n",
    "    count = defaultdict(int)\n",
    "    pairs = 0\n",
    "\n",
    "    for a, b in dominoes:\n",
    "        key = tuple(sorted((a, b)))  # Normalize the domino representation\n",
    "        pairs += count[key]  # Add the count of existing equivalent dominoes\n",
    "        count[key] += 1  # Increment the count for this domino\n",
    "\n",
    "    return pairs\n",
    "\n",
    "# Example cases\n",
    "print(numEquivDominoPairs([[1,2],[2,1],[3,4],[5,6]]))  # Output: 1\n",
    "print(numEquivDominoPairs([[1,2],[1,2],[1,1],[1,2],[2,2]]))  # Output: 3"
   ]
  },
  {
   "cell_type": "code",
   "execution_count": null,
   "id": "8643ad7b",
   "metadata": {},
   "outputs": [],
   "source": []
  }
 ],
 "metadata": {
  "kernelspec": {
   "display_name": "Python 3 (ipykernel)",
   "language": "python",
   "name": "python3"
  },
  "language_info": {
   "codemirror_mode": {
    "name": "ipython",
    "version": 3
   },
   "file_extension": ".py",
   "mimetype": "text/x-python",
   "name": "python",
   "nbconvert_exporter": "python",
   "pygments_lexer": "ipython3",
   "version": "3.8.11"
  }
 },
 "nbformat": 4,
 "nbformat_minor": 5
}
