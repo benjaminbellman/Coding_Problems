{
 "cells": [
  {
   "cell_type": "markdown",
   "id": "b7a995c7",
   "metadata": {},
   "source": [
    "# Strong Password Checker"
   ]
  },
  {
   "cell_type": "markdown",
   "id": "6ec31d89",
   "metadata": {},
   "source": [
    "A password is considered strong if the below conditions are all met:\n",
    "\n",
    "- It has at least 6 characters and at most 20 characters.\n",
    "- It contains at least one lowercase letter, at least one uppercase letter, and at least one digit.\n",
    "- It does not contain three repeating characters in a row (i.e., \"Baaabb0\" is weak, but \"Baaba0\" is strong).\n",
    "Given a string password, return the minimum number of steps required to make password strong. if password is already strong, return 0.\n",
    "\n",
    "In one step, you can:\n",
    "\n",
    "- Insert one character to password,\n",
    "- Delete one character from password, or\n",
    "- Replace one character of password with another character.\n",
    " \n",
    "\n",
    "**Example 1:**\n",
    "\n",
    "Input: password = \"a\"\n",
    "Output: 5\n",
    "\n",
    "**Example 2:**\n",
    "\n",
    "Input: password = \"aA1\"\n",
    "Output: 3\n",
    "\n",
    "**Example 3:**\n",
    "\n",
    "Input: password = \"1337C0d3\"\n",
    "Output: 0\n",
    " \n",
    "\n",
    "**Constraints:**\n",
    "\n",
    "1 <= password.length <= 50\n",
    "password consists of letters, digits, dot '.' or exclamation mark '!'."
   ]
  },
  {
   "cell_type": "code",
   "execution_count": 1,
   "id": "9e4b278f",
   "metadata": {},
   "outputs": [
    {
     "name": "stdout",
     "output_type": "stream",
     "text": [
      "6\n",
      "6\n",
      "0\n"
     ]
    }
   ],
   "source": [
    "def strongPasswordChecker(password):\n",
    "    # Check the length of the password\n",
    "    length = len(password)\n",
    "    steps = 0\n",
    "    missing_criteria = 3\n",
    "\n",
    "    # Check if the password meets the length requirement\n",
    "    if length < 6:\n",
    "        steps += 6 - length\n",
    "    elif length > 20:\n",
    "        steps += length - 20\n",
    "\n",
    "    # Check if the password contains at least one lowercase, uppercase, and digit character\n",
    "    if not any(c.islower() for c in password):\n",
    "        missing_criteria -= 1\n",
    "    if not any(c.isupper() for c in password):\n",
    "        missing_criteria -= 1\n",
    "    if not any(c.isdigit() for c in password):\n",
    "        missing_criteria -= 1\n",
    "\n",
    "    # Check for repeating characters\n",
    "    i = 2\n",
    "    repeating = 0\n",
    "    while i < length:\n",
    "        if password[i] == password[i - 1] == password[i - 2]:\n",
    "            repeating += 1\n",
    "            i += 2\n",
    "        else:\n",
    "            i += 1\n",
    "\n",
    "    # Determine the number of steps required based on repeating characters\n",
    "    if length < 6:\n",
    "        steps += max(repeating, missing_criteria)\n",
    "    elif length <= 20:\n",
    "        steps += max(repeating - missing_criteria, 0)\n",
    "    else:\n",
    "        replace = [0] * (length - 20)\n",
    "        i = 2\n",
    "        while i < length:\n",
    "            if (\n",
    "                password[i] == password[i - 1]\n",
    "                == password[i - 2]\n",
    "                and password[i] not in replace\n",
    "            ):\n",
    "                replace.append(password[i])\n",
    "                i += 3\n",
    "            else:\n",
    "                i += 1\n",
    "\n",
    "        replace_count = len(replace)\n",
    "        steps += max(repeating, replace_count, missing_criteria)\n",
    "\n",
    "    return steps\n",
    "\n",
    "\n",
    "# Testing the code with the provided examples\n",
    "print(strongPasswordChecker(\"a\"))  # Output: 5\n",
    "print(strongPasswordChecker(\"aA1\"))  # Output: 3\n",
    "print(strongPasswordChecker(\"1337C0d3\"))  # Output: 0"
   ]
  },
  {
   "cell_type": "code",
   "execution_count": null,
   "id": "0296b355",
   "metadata": {},
   "outputs": [],
   "source": []
  }
 ],
 "metadata": {
  "kernelspec": {
   "display_name": "Python 3",
   "language": "python",
   "name": "python3"
  },
  "language_info": {
   "codemirror_mode": {
    "name": "ipython",
    "version": 3
   },
   "file_extension": ".py",
   "mimetype": "text/x-python",
   "name": "python",
   "nbconvert_exporter": "python",
   "pygments_lexer": "ipython3",
   "version": "3.9.13"
  }
 },
 "nbformat": 4,
 "nbformat_minor": 5
}
