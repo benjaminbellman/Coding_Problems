{
 "cells": [
  {
   "cell_type": "markdown",
   "id": "a1550468",
   "metadata": {},
   "source": [
    "# Best Time to Buy and Sell Stock with Cooldown"
   ]
  },
  {
   "cell_type": "markdown",
   "id": "6ef11efb",
   "metadata": {},
   "source": [
    "You are given an array prices where prices[i] is the price of a given stock on the ith day.\n",
    "\n",
    "Find the maximum profit you can achieve. You may complete as many transactions as you like (i.e., buy one and sell one share of the stock multiple times) with the following restrictions:\n",
    "\n",
    "After you sell your stock, you cannot buy stock on the next day (i.e., cooldown one day).\n",
    "Note: You may not engage in multiple transactions simultaneously (i.e., you must sell the stock before you buy again).\n",
    "\n",
    " \n",
    "\n",
    "**Example 1:**\n",
    "\n",
    "Input: prices = [1,2,3,0,2]\n",
    "Output: 3\n",
    "Explanation: transactions = [buy, sell, cooldown, buy, sell]\n",
    "\n",
    "**Example 2:**\n",
    "\n",
    "Input: prices = [1]\n",
    "Output: 0\n",
    " \n",
    "\n",
    "**Constraints:**\n",
    "\n",
    "1 <= prices.length <= 5000\n",
    "0 <= prices[i] <= 1000"
   ]
  },
  {
   "cell_type": "code",
   "execution_count": 1,
   "id": "c0f1c13a",
   "metadata": {},
   "outputs": [
    {
     "name": "stdout",
     "output_type": "stream",
     "text": [
      "Example 1:  3\n",
      "Example 2:  0\n"
     ]
    }
   ],
   "source": [
    "def maxProfit(prices):\n",
    "    n = len(prices)\n",
    "    if n < 2:\n",
    "        return 0\n",
    "\n",
    "    # Create two arrays to track the maximum profit at each day\n",
    "    # hold[i] represents the maximum profit on the ith day with a stock in hand\n",
    "    # cash[i] represents the maximum profit on the ith day with no stock in hand\n",
    "    hold = [0] * n\n",
    "    cash = [0] * n\n",
    "\n",
    "    hold[0] = -prices[0]  # Buying stock on the first day\n",
    "    cash[0] = 0  # No profit on the first day\n",
    "\n",
    "    for i in range(1, n):\n",
    "        # If we hold the stock on the ith day, the maximum profit is either:\n",
    "        # 1. Continuing to hold the stock from the previous day (hold[i-1])\n",
    "        # 2. Selling the stock on the previous day and buying it again today (cash[i-2] - prices[i])\n",
    "        hold[i] = max(hold[i-1], cash[i-2] - prices[i])\n",
    "\n",
    "        # If we don't hold the stock on the ith day, the maximum profit is either:\n",
    "        # 1. Continuing to have no stock from the previous day (cash[i-1])\n",
    "        # 2. Selling the stock on the previous day (hold[i-1]) and getting the profit\n",
    "        cash[i] = max(cash[i-1], hold[i-1] + prices[i])\n",
    "\n",
    "    return cash[n-1]  # Return the maximum profit on the last day with no stock in hand\n",
    "\n",
    "# Testing the code with examples from the problem\n",
    "prices = [1, 2, 3, 0, 2]\n",
    "print(\"Example 1: \", maxProfit(prices))  # Output: 3\n",
    "\n",
    "prices = [1]\n",
    "print(\"Example 2: \", maxProfit(prices))  # Output: 0"
   ]
  },
  {
   "cell_type": "code",
   "execution_count": null,
   "id": "e3bb31ce",
   "metadata": {},
   "outputs": [],
   "source": []
  }
 ],
 "metadata": {
  "kernelspec": {
   "display_name": "Python 3",
   "language": "python",
   "name": "python3"
  },
  "language_info": {
   "codemirror_mode": {
    "name": "ipython",
    "version": 3
   },
   "file_extension": ".py",
   "mimetype": "text/x-python",
   "name": "python",
   "nbconvert_exporter": "python",
   "pygments_lexer": "ipython3",
   "version": "3.9.13"
  }
 },
 "nbformat": 4,
 "nbformat_minor": 5
}
