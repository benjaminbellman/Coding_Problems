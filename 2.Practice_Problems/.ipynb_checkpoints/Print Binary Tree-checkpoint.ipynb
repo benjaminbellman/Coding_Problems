{
 "cells": [
  {
   "cell_type": "markdown",
   "id": "3b852bd5",
   "metadata": {},
   "source": [
    "# Print Binary Tree"
   ]
  },
  {
   "cell_type": "markdown",
   "id": "f6318a49",
   "metadata": {},
   "source": [
    "Given the root of a binary tree, construct a 0-indexed m x n string matrix res that represents a formatted layout of the tree. The formatted layout matrix should be constructed using the following rules:\n",
    "\n",
    "The height of the tree is height and the number of rows m should be equal to height + 1.\n",
    "The number of columns n should be equal to 2height+1 - 1.\n",
    "Place the root node in the middle of the top row (more formally, at location res[0][(n-1)/2]).\n",
    "For each node that has been placed in the matrix at position res[r][c], place its left child at res[r+1][c-2height-r-1] and its right child at res[r+1][c+2height-r-1].\n",
    "Continue this process until all the nodes in the tree have been placed.\n",
    "Any empty cells should contain the empty string \"\".\n",
    "Return the constructed matrix res.\n",
    "\n",
    " \n",
    "\n",
    "**Example 1:**\n",
    "\n",
    "\n",
    "Input: root = [1,2]\n",
    "\n",
    "Output: \n",
    "[[\"\",\"1\",\"\"],\n",
    " [\"2\",\"\",\"\"]]\n",
    "\n",
    "**Example 2:**\n",
    "\n",
    "\n",
    "Input: root = [1,2,3,null,4]\n",
    "\n",
    "Output: \n",
    "[[\"\",\"\",\"\",\"1\",\"\",\"\",\"\"],\n",
    " [\"\",\"2\",\"\",\"\",\"\",\"3\",\"\"],\n",
    " [\"\",\"\",\"4\",\"\",\"\",\"\",\"\"]]\n",
    " \n",
    "\n",
    "**Constraints:**\n",
    "\n",
    "- The number of nodes in the tree is in the range [1, 210].\n",
    "- -99 <= Node.val <= 99\n",
    "- The depth of the tree will be in the range [1, 10]."
   ]
  },
  {
   "cell_type": "code",
   "execution_count": 1,
   "id": "70340180",
   "metadata": {},
   "outputs": [
    {
     "name": "stdout",
     "output_type": "stream",
     "text": [
      "[['', '1', ''], ['2', '', ''], ['', '', '']]\n",
      "[['', '', '', '1', '', '', ''], ['', '2', '', '', '', '3', ''], ['', '', '', '', '', '', '4'], ['', '', '', '', '', '', '']]\n"
     ]
    }
   ],
   "source": [
    "class TreeNode:\n",
    "    def __init__(self, val=0, left=None, right=None):\n",
    "        self.val = val\n",
    "        self.left = left\n",
    "        self.right = right\n",
    "\n",
    "def printTree(root):\n",
    "    def get_tree_height(node):\n",
    "        if not node:\n",
    "            return 0\n",
    "        return max(get_tree_height(node.left), get_tree_height(node.right)) + 1\n",
    "\n",
    "    height = get_tree_height(root)\n",
    "    m = height + 1\n",
    "    n = 2 ** height - 1\n",
    "    res = [[\"\" for _ in range(n)] for _ in range(m)]\n",
    "\n",
    "    def fill_matrix(node, row, left, right):\n",
    "        if not node:\n",
    "            return\n",
    "        mid = (left + right) // 2\n",
    "        res[row][mid] = str(node.val)\n",
    "        fill_matrix(node.left, row + 1, left, mid - 1)\n",
    "        fill_matrix(node.right, row + 1, mid + 1, right)\n",
    "\n",
    "    fill_matrix(root, 0, 0, n - 1)\n",
    "    return res\n",
    "\n",
    "# Example usage:\n",
    "root1 = TreeNode(1)\n",
    "root1.left = TreeNode(2)\n",
    "print(printTree(root1))\n",
    "\n",
    "root2 = TreeNode(1)\n",
    "root2.left = TreeNode(2)\n",
    "root2.right = TreeNode(3)\n",
    "root2.right.right = TreeNode(4)\n",
    "print(printTree(root2))"
   ]
  },
  {
   "cell_type": "code",
   "execution_count": null,
   "id": "a2f9eaa7",
   "metadata": {},
   "outputs": [],
   "source": []
  }
 ],
 "metadata": {
  "kernelspec": {
   "display_name": "Python 3",
   "language": "python",
   "name": "python3"
  },
  "language_info": {
   "codemirror_mode": {
    "name": "ipython",
    "version": 3
   },
   "file_extension": ".py",
   "mimetype": "text/x-python",
   "name": "python",
   "nbconvert_exporter": "python",
   "pygments_lexer": "ipython3",
   "version": "3.9.13"
  }
 },
 "nbformat": 4,
 "nbformat_minor": 5
}
