{
 "cells": [
  {
   "cell_type": "markdown",
   "id": "0d08ffd8",
   "metadata": {},
   "source": [
    "# Shortest Completing Word"
   ]
  },
  {
   "cell_type": "markdown",
   "id": "daa2b90e",
   "metadata": {},
   "source": [
    "Given a string licensePlate and an array of strings words, find the shortest completing word in words.\n",
    "\n",
    "A completing word is a word that contains all the letters in licensePlate. Ignore numbers and spaces in licensePlate, and treat letters as case insensitive. If a letter appears more than once in licensePlate, then it must appear in the word the same number of times or more.\n",
    "\n",
    "For example, if licensePlate = \"aBc 12c\", then it contains letters 'a', 'b' (ignoring case), and 'c' twice. Possible completing words are \"abccdef\", \"caaacab\", and \"cbca\".\n",
    "\n",
    "Return the shortest completing word in words. It is guaranteed an answer exists. If there are multiple shortest completing words, return the first one that occurs in words.\n",
    "\n",
    " \n",
    "\n",
    "**Example 1:**\n",
    "\n",
    "Input: licensePlate = \"1s3 PSt\", words = [\"step\",\"steps\",\"stripe\",\"stepple\"]\n",
    "Output: \"steps\"\n",
    "Explanation: licensePlate contains letters 's', 'p', 's' (ignoring case), and 't'.\n",
    "\"step\" contains 't' and 'p', but only contains 1 's'.\n",
    "\"steps\" contains 't', 'p', and both 's' characters.\n",
    "\"stripe\" is missing an 's'.\n",
    "\"stepple\" is missing an 's'.\n",
    "Since \"steps\" is the only word containing all the letters, that is the answer.\n",
    "\n",
    "**Example 2:**\n",
    "\n",
    "Input: licensePlate = \"1s3 456\", words = [\"looks\",\"pest\",\"stew\",\"show\"]\n",
    "Output: \"pest\"\n",
    "Explanation: licensePlate only contains the letter 's'. All the words contain 's', but among these \"pest\", \"stew\", and \"show\" are shortest. The answer is \"pest\" because it is the word that appears earliest of the 3.\n",
    " \n",
    "\n",
    "**Constraints:**\n",
    "- 1 <= licensePlate.length <= 7\n",
    "- licensePlate contains digits, letters (uppercase or lowercase), or space ' '.\n",
    "- 1 <= words.length <= 1000\n",
    "- 1 <= words[i].length <= 15\n",
    "- words[i] consists of lower case English letters."
   ]
  },
  {
   "cell_type": "code",
   "execution_count": 1,
   "id": "947de35d",
   "metadata": {},
   "outputs": [
    {
     "name": "stdout",
     "output_type": "stream",
     "text": [
      "steps\n"
     ]
    }
   ],
   "source": [
    "from collections import Counter\n",
    "\n",
    "def shortestCompletingWord(licensePlate, words):\n",
    "    # Count the frequency of letters in the license plate string\n",
    "    plate_freq = Counter(c for c in licensePlate.lower() if c.isalpha())\n",
    "    \n",
    "    # Initialize variables to keep track of shortest completing word\n",
    "    shortest_word = None\n",
    "    shortest_length = float('inf')\n",
    "    \n",
    "    # Iterate through words array to find the shortest completing word\n",
    "    for word in words:\n",
    "        word_freq = Counter(word)\n",
    "        if all(word_freq[char] >= count for char, count in plate_freq.items()):\n",
    "            if len(word) < shortest_length:\n",
    "                shortest_word = word\n",
    "                shortest_length = len(word)\n",
    "    \n",
    "    return shortest_word\n",
    "\n",
    "# Example usage:\n",
    "licensePlate = \"1s3 PSt\"\n",
    "words = [\"step\",\"steps\",\"stripe\",\"stepple\"]\n",
    "print(shortestCompletingWord(licensePlate, words))  # Output: \"steps\""
   ]
  },
  {
   "cell_type": "code",
   "execution_count": null,
   "id": "521616d2",
   "metadata": {},
   "outputs": [],
   "source": []
  }
 ],
 "metadata": {
  "kernelspec": {
   "display_name": "Python 3",
   "language": "python",
   "name": "python3"
  },
  "language_info": {
   "codemirror_mode": {
    "name": "ipython",
    "version": 3
   },
   "file_extension": ".py",
   "mimetype": "text/x-python",
   "name": "python",
   "nbconvert_exporter": "python",
   "pygments_lexer": "ipython3",
   "version": "3.9.13"
  }
 },
 "nbformat": 4,
 "nbformat_minor": 5
}
