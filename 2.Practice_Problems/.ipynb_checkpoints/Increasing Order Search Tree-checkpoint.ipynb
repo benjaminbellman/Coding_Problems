{
 "cells": [
  {
   "cell_type": "markdown",
   "id": "714b9d4f",
   "metadata": {},
   "source": [
    "# Increasing Order Search Tree"
   ]
  },
  {
   "cell_type": "markdown",
   "id": "4bc84aef",
   "metadata": {},
   "source": [
    "Given the root of a binary search tree, rearrange the tree in in-order so that the leftmost node in the tree is now the root of the tree, and every node has no left child and only one right child.\n",
    "\n",
    "**Example 1:**\n",
    "\n",
    "Input: root = [5,3,6,2,4,null,8,1,null,null,null,7,9]\n",
    "Output: [1,null,2,null,3,null,4,null,5,null,6,null,7,null,8,null,9]\n",
    "\n",
    "**Example 2:**\n",
    "\n",
    "Input: root = [5,1,7]\n",
    "Output: [1,null,5,null,7]\n",
    "\n",
    "**Constraints:**\n",
    "\n",
    "- The number of nodes in the given tree will be in the range [1, 100].\n",
    "- 0 <= Node.val <= 1000"
   ]
  },
  {
   "cell_type": "code",
   "execution_count": 1,
   "id": "7d5f9c7d",
   "metadata": {},
   "outputs": [
    {
     "name": "stdout",
     "output_type": "stream",
     "text": [
      "[1, 2, 3, 4, 5, 6, 7, 8, 9]\n",
      "[1, 5, 7]\n"
     ]
    }
   ],
   "source": [
    "class TreeNode:\n",
    "    def __init__(self, val=0, left=None, right=None):\n",
    "        self.val = val\n",
    "        self.left = left\n",
    "        self.right = right\n",
    "\n",
    "def flatten_bst_to_right_skewed(root: TreeNode) -> TreeNode:\n",
    "    def inorder_traversal(node: TreeNode):\n",
    "        if node is None:\n",
    "            return []\n",
    "        # In-order traversal: left -> node -> right\n",
    "        return inorder_traversal(node.left) + [node] + inorder_traversal(node.right)\n",
    "    \n",
    "    # Get nodes in in-order\n",
    "    nodes = inorder_traversal(root)\n",
    "    \n",
    "    # Create a right-skewed tree from the in-order nodes\n",
    "    if not nodes:\n",
    "        return None\n",
    "    \n",
    "    # Initialize the new tree root\n",
    "    new_root = nodes[0]\n",
    "    current = new_root\n",
    "    \n",
    "    # Create the right-skewed tree\n",
    "    for node in nodes[1:]:\n",
    "        current.right = node\n",
    "        current.left = None\n",
    "        current = node\n",
    "    \n",
    "    # Make sure the last node has no right child\n",
    "    current.right = None\n",
    "    \n",
    "    return new_root\n",
    "\n",
    "# Example usage:\n",
    "# Construct the BST from the given input\n",
    "def construct_bst(values):\n",
    "    if not values:\n",
    "        return None\n",
    "    root = TreeNode(values[0])\n",
    "    nodes = [root]\n",
    "    index = 1\n",
    "    for node in nodes:\n",
    "        if node:\n",
    "            if index < len(values):\n",
    "                node.left = TreeNode(values[index]) if values[index] is not None else None\n",
    "                nodes.append(node.left)\n",
    "                index += 1\n",
    "            if index < len(values):\n",
    "                node.right = TreeNode(values[index]) if values[index] is not None else None\n",
    "                nodes.append(node.right)\n",
    "                index += 1\n",
    "    return root\n",
    "\n",
    "# Helper function to print the right-skewed tree in the required format\n",
    "def print_right_skewed_tree(root: TreeNode):\n",
    "    result = []\n",
    "    while root:\n",
    "        result.append(root.val)\n",
    "        root = root.right\n",
    "    return result\n",
    "\n",
    "# Example 1\n",
    "root = construct_bst([5,3,6,2,4,None,8,1,None,None,None,7,9])\n",
    "new_root = flatten_bst_to_right_skewed(root)\n",
    "print(print_right_skewed_tree(new_root))  # Output: [1, 2, 3, 4, 5, 6, 7, 8, 9]\n",
    "\n",
    "# Example 2\n",
    "root = construct_bst([5,1,7])\n",
    "new_root = flatten_bst_to_right_skewed(root)\n",
    "print(print_right_skewed_tree(new_root))  # Output: [1, 5, 7]"
   ]
  },
  {
   "cell_type": "code",
   "execution_count": null,
   "id": "3b02479c",
   "metadata": {},
   "outputs": [],
   "source": []
  }
 ],
 "metadata": {
  "kernelspec": {
   "display_name": "Python 3 (ipykernel)",
   "language": "python",
   "name": "python3"
  },
  "language_info": {
   "codemirror_mode": {
    "name": "ipython",
    "version": 3
   },
   "file_extension": ".py",
   "mimetype": "text/x-python",
   "name": "python",
   "nbconvert_exporter": "python",
   "pygments_lexer": "ipython3",
   "version": "3.8.11"
  }
 },
 "nbformat": 4,
 "nbformat_minor": 5
}
