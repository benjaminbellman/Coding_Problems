{
 "cells": [
  {
   "cell_type": "markdown",
   "id": "6b5b8a91",
   "metadata": {},
   "source": [
    "# Matchsticks to Square"
   ]
  },
  {
   "cell_type": "markdown",
   "id": "6f5a3f5c",
   "metadata": {},
   "source": [
    "You are given an integer array matchsticks where matchsticks[i] is the length of the ith matchstick. You want to use all the matchsticks to make one square. You should not break any stick, but you can link them up, and each matchstick must be used exactly one time.\n",
    "\n",
    "Return true if you can make this square and false otherwise.\n",
    "\n",
    " \n",
    "\n",
    "**Example 1:**\n",
    "\n",
    "\n",
    "Input: matchsticks = [1,1,2,2,2]\n",
    "Output: true\n",
    "Explanation: You can form a square with length 2, one side of the square came two sticks with length 1.\n",
    "\n",
    "**Example 2:**\n",
    "\n",
    "Input: matchsticks = [3,3,3,3,4]\n",
    "Output: false\n",
    "Explanation: You cannot find a way to form a square with all the matchsticks.\n",
    " \n",
    "\n",
    "**Constraints:**\n",
    "\n",
    "- 1 <= matchsticks.length <= 15\n",
    "- 1 <= matchsticks[i] <= 108"
   ]
  },
  {
   "cell_type": "code",
   "execution_count": 1,
   "id": "2c80a3e5",
   "metadata": {},
   "outputs": [
    {
     "name": "stdout",
     "output_type": "stream",
     "text": [
      "True\n",
      "False\n"
     ]
    }
   ],
   "source": [
    "def makesquare(matchsticks):\n",
    "    total_length = sum(matchsticks)\n",
    "    \n",
    "    # If the total length is not divisible by 4, return False\n",
    "    if total_length % 4 != 0:\n",
    "        return False\n",
    "    \n",
    "    target_length = total_length // 4\n",
    "    \n",
    "    # Sort the matchsticks in descending order to optimize the search\n",
    "    matchsticks.sort(reverse=True)\n",
    "    \n",
    "    # Initialize the lengths of the four sides of the square\n",
    "    sides = [0] * 4\n",
    "    \n",
    "    # Define a recursive helper function for backtracking\n",
    "    def backtrack(i):\n",
    "        if i == len(matchsticks):\n",
    "            # All matchsticks are used, check if it forms a square\n",
    "            return sides[0] == sides[1] == sides[2] == sides[3] == target_length\n",
    "        \n",
    "        for j in range(4):\n",
    "            if sides[j] + matchsticks[i] <= target_length:\n",
    "                # Try to add the current matchstick to side j\n",
    "                sides[j] += matchsticks[i]\n",
    "                \n",
    "                if backtrack(i + 1):\n",
    "                    return True\n",
    "                \n",
    "                # Backtrack\n",
    "                sides[j] -= matchsticks[i]\n",
    "        \n",
    "        return False\n",
    "    \n",
    "    return backtrack(0)\n",
    "\n",
    "# Test the function with the example cases\n",
    "print(makesquare([1, 1, 2, 2, 2]))  # Should print True\n",
    "print(makesquare([3, 3, 3, 3, 4]))  # Should print False"
   ]
  }
 ],
 "metadata": {
  "kernelspec": {
   "display_name": "Python 3",
   "language": "python",
   "name": "python3"
  },
  "language_info": {
   "codemirror_mode": {
    "name": "ipython",
    "version": 3
   },
   "file_extension": ".py",
   "mimetype": "text/x-python",
   "name": "python",
   "nbconvert_exporter": "python",
   "pygments_lexer": "ipython3",
   "version": "3.9.13"
  }
 },
 "nbformat": 4,
 "nbformat_minor": 5
}
