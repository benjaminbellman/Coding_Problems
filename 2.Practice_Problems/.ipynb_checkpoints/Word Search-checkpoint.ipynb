{
 "cells": [
  {
   "cell_type": "markdown",
   "id": "3968d5e5",
   "metadata": {},
   "source": [
    "# Word Search"
   ]
  },
  {
   "cell_type": "markdown",
   "id": "a1b7ef62",
   "metadata": {},
   "source": [
    "Given an m x n grid of characters board and a string word, return true if word exists in the grid.\n",
    "\n",
    "The word can be constructed from letters of sequentially adjacent cells, where adjacent cells are horizontally or vertically neighboring. The same letter cell may not be used more than once.\n",
    "\n",
    "**Example 1:**\n",
    "\n",
    "Input: board = [[\"A\",\"B\",\"C\",\"E\"],[\"S\",\"F\",\"C\",\"S\"],[\"A\",\"D\",\"E\",\"E\"]], word = \"ABCCED\"\n",
    "Output: true\n",
    "\n",
    "**Example 2:**\n",
    "\n",
    "\n",
    "Input: board = [[\"A\",\"B\",\"C\",\"E\"],[\"S\",\"F\",\"C\",\"S\"],[\"A\",\"D\",\"E\",\"E\"]], word = \"SEE\"\n",
    "Output: true\n",
    "\n",
    "**Example 3:**\n",
    "\n",
    "\n",
    "Input: board = [[\"A\",\"B\",\"C\",\"E\"],[\"S\",\"F\",\"C\",\"S\"],[\"A\",\"D\",\"E\",\"E\"]], word = \"ABCB\"\n",
    "Output: false\n",
    " \n",
    "**Constraints:**\n",
    "\n",
    "- m == board.length\n",
    "- n = board[i].length\n",
    "- 1 <= m, n <= 6\n",
    "- 1 <= word.length <= 15\n",
    "- board and word consists of only lowercase and uppercase English letters."
   ]
  },
  {
   "cell_type": "code",
   "execution_count": 1,
   "id": "c3f4f247",
   "metadata": {},
   "outputs": [],
   "source": [
    "def exist(board, word):\n",
    "    m, n = len(board), len(board[0])\n",
    "\n",
    "    def dfs(i, j, k):\n",
    "        # If we have matched all characters in the word\n",
    "        if k == len(word):\n",
    "            return True\n",
    "        # Out of bounds or character does not match or already visited\n",
    "        if i < 0 or i >= m or j < 0 or j >= n or board[i][j] != word[k]:\n",
    "            return False\n",
    "\n",
    "        # Temporarily mark the cell as visited\n",
    "        temp = board[i][j]\n",
    "        board[i][j] = \"#\"\n",
    "\n",
    "        # Explore neighbors in 4 directions\n",
    "        res = (dfs(i+1, j, k+1) or\n",
    "               dfs(i-1, j, k+1) or\n",
    "               dfs(i, j+1, k+1) or\n",
    "               dfs(i, j-1, k+1))\n",
    "\n",
    "        # Restore the cell\n",
    "        board[i][j] = temp\n",
    "        return res\n",
    "\n",
    "    for i in range(m):\n",
    "        for j in range(n):\n",
    "            if dfs(i, j, 0):\n",
    "                return True\n",
    "    return False"
   ]
  },
  {
   "cell_type": "code",
   "execution_count": 2,
   "id": "e44af90c",
   "metadata": {},
   "outputs": [
    {
     "name": "stdout",
     "output_type": "stream",
     "text": [
      "True\n",
      "True\n",
      "False\n"
     ]
    }
   ],
   "source": [
    "board = [[\"A\",\"B\",\"C\",\"E\"],\n",
    "         [\"S\",\"F\",\"C\",\"S\"],\n",
    "         [\"A\",\"D\",\"E\",\"E\"]]\n",
    "\n",
    "print(exist(board, \"ABCCED\"))  # Output: True\n",
    "print(exist(board, \"SEE\"))     # Output: True\n",
    "print(exist(board, \"ABCB\"))    # Output: False"
   ]
  },
  {
   "cell_type": "code",
   "execution_count": null,
   "id": "7c9c5bfd",
   "metadata": {},
   "outputs": [],
   "source": []
  }
 ],
 "metadata": {
  "kernelspec": {
   "display_name": "Python 3 (ipykernel)",
   "language": "python",
   "name": "python3"
  },
  "language_info": {
   "codemirror_mode": {
    "name": "ipython",
    "version": 3
   },
   "file_extension": ".py",
   "mimetype": "text/x-python",
   "name": "python",
   "nbconvert_exporter": "python",
   "pygments_lexer": "ipython3",
   "version": "3.8.11"
  }
 },
 "nbformat": 4,
 "nbformat_minor": 5
}
