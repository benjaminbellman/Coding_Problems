{
 "cells": [
  {
   "cell_type": "markdown",
   "id": "458bb2bb",
   "metadata": {},
   "source": [
    "# Complex Number Multiplication"
   ]
  },
  {
   "cell_type": "markdown",
   "id": "bea6b0ee",
   "metadata": {},
   "source": [
    "A complex number can be represented as a string on the form \"real+imaginaryi\" where:\n",
    "\n",
    "real is the real part and is an integer in the range [-100, 100].\n",
    "imaginary is the imaginary part and is an integer in the range [-100, 100].\n",
    "i2 == -1.\n",
    "Given two complex numbers num1 and num2 as strings, return a string of the complex number that represents their multiplications.\n",
    "\n",
    " \n",
    "\n",
    "**Example 1:**\n",
    "\n",
    "Input: num1 = \"1+1i\", num2 = \"1+1i\"\n",
    "\n",
    "Output: \"0+2i\"\n",
    "\n",
    "Explanation: (1 + i) * (1 + i) = 1 + i2 + 2 * i = 2i, and you need convert it to the form of 0+2i.\n",
    "\n",
    "**Example 2:**\n",
    "\n",
    "Input: num1 = \"1+-1i\", num2 = \"1+-1i\"\n",
    "\n",
    "Output: \"0+-2i\"\n",
    "\n",
    "Explanation: (1 - i) * (1 - i) = 1 + i2 - 2 * i = -2i, and you need convert it to the form of 0+-2i.\n",
    " \n",
    "\n",
    "**Constraints:**\n",
    "\n",
    "- num1 and num2 are valid complex numbers."
   ]
  },
  {
   "cell_type": "code",
   "execution_count": 1,
   "id": "299e9e11",
   "metadata": {},
   "outputs": [
    {
     "name": "stdout",
     "output_type": "stream",
     "text": [
      "0+2i\n",
      "0+-2i\n"
     ]
    }
   ],
   "source": [
    "def complex_multiply(num1: str, num2: str) -> str:\n",
    "    # Extracting real and imaginary parts from num1\n",
    "    real1, imaginary1 = map(int, num1[:-1].split('+'))\n",
    "    \n",
    "    # Extracting real and imaginary parts from num2\n",
    "    if '+' in num2:\n",
    "        real2, imaginary2 = map(int, num2[:-1].split('+'))\n",
    "    else:  # Handling the negative imaginary part\n",
    "        real2, imaginary2 = map(int, num2.split('-'))\n",
    "        imaginary2 = -imaginary2\n",
    "    \n",
    "    # Calculating the product\n",
    "    real_product = real1 * real2 - imaginary1 * imaginary2\n",
    "    imaginary_product = real1 * imaginary2 + real2 * imaginary1\n",
    "    \n",
    "    return f\"{real_product}+{imaginary_product}i\"\n",
    "\n",
    "# Testing with the given examples\n",
    "print(complex_multiply(\"1+1i\", \"1+1i\"))  # \"0+2i\"\n",
    "print(complex_multiply(\"1+-1i\", \"1+-1i\"))  # \"0+-2i\""
   ]
  }
 ],
 "metadata": {
  "kernelspec": {
   "display_name": "Python 3",
   "language": "python",
   "name": "python3"
  },
  "language_info": {
   "codemirror_mode": {
    "name": "ipython",
    "version": 3
   },
   "file_extension": ".py",
   "mimetype": "text/x-python",
   "name": "python",
   "nbconvert_exporter": "python",
   "pygments_lexer": "ipython3",
   "version": "3.9.13"
  }
 },
 "nbformat": 4,
 "nbformat_minor": 5
}
