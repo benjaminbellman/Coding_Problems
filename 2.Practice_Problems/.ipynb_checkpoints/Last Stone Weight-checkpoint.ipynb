{
 "cells": [
  {
   "cell_type": "markdown",
   "id": "6e62b528",
   "metadata": {},
   "source": [
    "# Last Stone Weight"
   ]
  },
  {
   "cell_type": "markdown",
   "id": "c8a2dc9d",
   "metadata": {},
   "source": [
    "You are given an array of integers stones where stones[i] is the weight of the ith stone.\n",
    "\n",
    "We are playing a game with the stones. On each turn, we choose the heaviest two stones and smash them together. Suppose the heaviest two stones have weights x and y with x <= y. The result of this smash is:\n",
    "\n",
    "If x == y, both stones are destroyed, and\n",
    "If x != y, the stone of weight x is destroyed, and the stone of weight y has new weight y - x.\n",
    "At the end of the game, there is at most one stone left.\n",
    "\n",
    "Return the weight of the last remaining stone. If there are no stones left, return 0.\n",
    "\n",
    "**Example 1:**\n",
    "\n",
    "Input: stones = [2,7,4,1,8,1]\n",
    "Output: 1\n",
    "Explanation: \n",
    "We combine 7 and 8 to get 1 so the array converts to [2,4,1,1,1] then,\n",
    "we combine 2 and 4 to get 2 so the array converts to [2,1,1,1] then,\n",
    "we combine 2 and 1 to get 1 so the array converts to [1,1,1] then,\n",
    "we combine 1 and 1 to get 0 so the array converts to [1] then that's the value of the last stone.\n",
    "\n",
    "**Example 2:**\n",
    "\n",
    "Input: stones = [1]\n",
    "Output: 1\n",
    " \n",
    "**Constraints:**\n",
    "\n",
    "- 1 <= stones.length <= 30\n",
    "- 1 <= stones[i] <= 1000"
   ]
  },
  {
   "cell_type": "code",
   "execution_count": 1,
   "id": "6d93603e",
   "metadata": {},
   "outputs": [
    {
     "name": "stdout",
     "output_type": "stream",
     "text": [
      "1\n",
      "1\n"
     ]
    }
   ],
   "source": [
    "import heapq\n",
    "\n",
    "def lastStoneWeight(stones):\n",
    "    # Convert stones into a max heap by negating the values\n",
    "    max_heap = [-stone for stone in stones]\n",
    "    heapq.heapify(max_heap)\n",
    "    \n",
    "    while len(max_heap) > 1:\n",
    "        x = -heapq.heappop(max_heap)  # Heaviest stone\n",
    "        y = -heapq.heappop(max_heap)  # Second heaviest stone\n",
    "        \n",
    "        if x != y:\n",
    "            # Push the difference back into the heap\n",
    "            heapq.heappush(max_heap, -(x - y))\n",
    "    \n",
    "    # If no stones left, return 0, else return the weight of the last stone\n",
    "    return -max_heap[0] if max_heap else 0\n",
    "\n",
    "\n",
    "# Example usage:\n",
    "print(lastStoneWeight([2,7,4,1,8,1]))  # Output: 1\n",
    "print(lastStoneWeight([1]))            # Output: 1"
   ]
  },
  {
   "cell_type": "code",
   "execution_count": null,
   "id": "1e5af449",
   "metadata": {},
   "outputs": [],
   "source": []
  }
 ],
 "metadata": {
  "kernelspec": {
   "display_name": "Python 3 (ipykernel)",
   "language": "python",
   "name": "python3"
  },
  "language_info": {
   "codemirror_mode": {
    "name": "ipython",
    "version": 3
   },
   "file_extension": ".py",
   "mimetype": "text/x-python",
   "name": "python",
   "nbconvert_exporter": "python",
   "pygments_lexer": "ipython3",
   "version": "3.8.11"
  }
 },
 "nbformat": 4,
 "nbformat_minor": 5
}
