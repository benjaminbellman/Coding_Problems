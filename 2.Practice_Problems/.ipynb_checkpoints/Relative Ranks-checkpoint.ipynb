{
 "cells": [
  {
   "cell_type": "markdown",
   "id": "61f7ded1",
   "metadata": {},
   "source": [
    "# Relative Ranks"
   ]
  },
  {
   "cell_type": "markdown",
   "id": "23b21059",
   "metadata": {},
   "source": [
    "You are given an integer array score of size n, where score[i] is the score of the ith athlete in a competition. All the scores are guaranteed to be unique.\n",
    "\n",
    "The athletes are placed based on their scores, where the 1st place athlete has the highest score, the 2nd place athlete has the 2nd highest score, and so on. The placement of each athlete determines their rank:\n",
    "\n",
    "The 1st place athlete's rank is \"Gold Medal\".\n",
    "The 2nd place athlete's rank is \"Silver Medal\".\n",
    "The 3rd place athlete's rank is \"Bronze Medal\".\n",
    "For the 4th place to the nth place athlete, their rank is their placement number (i.e., the xth place athlete's rank is \"x\").\n",
    "Return an array answer of size n where answer[i] is the rank of the ith athlete.\n",
    "\n",
    " \n",
    "\n",
    "**Example 1:**\n",
    "\n",
    "Input: score = [5,4,3,2,1]\n",
    "Output: [\"Gold Medal\",\"Silver Medal\",\"Bronze Medal\",\"4\",\"5\"]\n",
    "Explanation: The placements are [1st, 2nd, 3rd, 4th, 5th].\n",
    "\n",
    "**Example 2:**\n",
    "\n",
    "Input: score = [10,3,8,9,4]\n",
    "Output: [\"Gold Medal\",\"5\",\"Bronze Medal\",\"Silver Medal\",\"4\"]\n",
    "Explanation: The placements are [1st, 5th, 3rd, 2nd, 4th].\n",
    "\n",
    " \n",
    "\n",
    "**Constraints:**\n",
    "\n",
    "- n == score.length\n",
    "- 1 <= n <= 104\n",
    "- 0 <= score[i] <= 106\n",
    "- All the values in score are unique."
   ]
  },
  {
   "cell_type": "code",
   "execution_count": 1,
   "id": "31fe13f7",
   "metadata": {},
   "outputs": [
    {
     "name": "stdout",
     "output_type": "stream",
     "text": [
      "['Gold Medal', 'Silver Medal', 'Bronze Medal', '4', '5']\n",
      "['Gold Medal', '5', 'Bronze Medal', 'Silver Medal', '4']\n"
     ]
    }
   ],
   "source": [
    "def findRelativeRanks(score):\n",
    "    n = len(score)\n",
    "    # Step 2: Pair each score with its index\n",
    "    scoreWithIndices = [(score[i], i) for i in range(n)]\n",
    "    # Step 3: Sort the array based on scores in descending order\n",
    "    scoreWithIndices.sort(key=lambda x: -x[0])\n",
    "    # Step 1: Initialize the placements array\n",
    "    placements = [0] * n\n",
    "\n",
    "    for i, (_, idx) in enumerate(scoreWithIndices):\n",
    "        if i == 0:\n",
    "            # Step 4: Fill the placements array based on conditions\n",
    "            placements[idx] = \"Gold Medal\"\n",
    "        elif i == 1:\n",
    "            placements[idx] = \"Silver Medal\"\n",
    "        elif i == 2:\n",
    "            placements[idx] = \"Bronze Medal\"\n",
    "        else:\n",
    "            placements[idx] = str(i + 1)  # converting the placement number to string\n",
    "\n",
    "    # Step 5 and 6 are handled within the loop itself\n",
    "    return placements\n",
    "\n",
    "# Example usage:\n",
    "score1 = [5,4,3,2,1]\n",
    "output1 = findRelativeRanks(score1)\n",
    "print(output1)  # Output: [\"Gold Medal\",\"Silver Medal\",\"Bronze Medal\",\"4\",\"5\"]\n",
    "\n",
    "score2 = [10,3,8,9,4]\n",
    "output2 = findRelativeRanks(score2)\n",
    "print(output2)  # Output: [\"Gold Medal\",\"5\",\"Bronze Medal\",\"Silver Medal\",\"4\"]"
   ]
  },
  {
   "cell_type": "code",
   "execution_count": null,
   "id": "fdb3031a",
   "metadata": {},
   "outputs": [],
   "source": []
  }
 ],
 "metadata": {
  "kernelspec": {
   "display_name": "Python 3",
   "language": "python",
   "name": "python3"
  },
  "language_info": {
   "codemirror_mode": {
    "name": "ipython",
    "version": 3
   },
   "file_extension": ".py",
   "mimetype": "text/x-python",
   "name": "python",
   "nbconvert_exporter": "python",
   "pygments_lexer": "ipython3",
   "version": "3.9.13"
  }
 },
 "nbformat": 4,
 "nbformat_minor": 5
}
