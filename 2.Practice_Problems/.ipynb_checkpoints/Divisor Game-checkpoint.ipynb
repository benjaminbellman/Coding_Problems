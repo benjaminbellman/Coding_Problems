{
 "cells": [
  {
   "cell_type": "markdown",
   "id": "b29317fa",
   "metadata": {},
   "source": [
    "# Divisor Game"
   ]
  },
  {
   "cell_type": "markdown",
   "id": "7b5523ca",
   "metadata": {},
   "source": [
    "Alice and Bob take turns playing a game, with Alice starting first.\n",
    "\n",
    "Initially, there is a number n on the chalkboard. On each player's turn, that player makes a move consisting of:\n",
    "\n",
    "Choosing any x with 0 < x < n and n % x == 0.\n",
    "Replacing the number n on the chalkboard with n - x.\n",
    "Also, if a player cannot make a move, they lose the game.\n",
    "\n",
    "Return true if and only if Alice wins the game, assuming both players play optimally.\n",
    "\n",
    "**Example 1:**\n",
    "\n",
    "Input: n = 2\n",
    "Output: true\n",
    "Explanation: Alice chooses 1, and Bob has no more moves.\n",
    "\n",
    "**Example 2:**\n",
    "\n",
    "Input: n = 3\n",
    "Output: false\n",
    "Explanation: Alice chooses 1, Bob chooses 1, and Alice has no more moves.\n",
    " \n",
    "**Constraints:**\n",
    "\n",
    "- 1 <= n <= 1000"
   ]
  },
  {
   "cell_type": "code",
   "execution_count": 1,
   "id": "c64ea153",
   "metadata": {},
   "outputs": [],
   "source": [
    "def divisorGame(n: int) -> bool:\n",
    "    # Create a DP array where dp[i] is True if i is a winning position\n",
    "    dp = [False] * (n + 1)\n",
    "    dp[1] = False  # Base case: n = 1 is a losing position\n",
    "    \n",
    "    for i in range(2, n + 1):\n",
    "        # Check if there's any valid move x that leads to a losing position\n",
    "        for x in range(1, i):\n",
    "            if i % x == 0 and not dp[i - x]:\n",
    "                dp[i] = True\n",
    "                break\n",
    "    \n",
    "    return dp[n]"
   ]
  },
  {
   "cell_type": "code",
   "execution_count": null,
   "id": "197f82f5",
   "metadata": {},
   "outputs": [],
   "source": []
  }
 ],
 "metadata": {
  "kernelspec": {
   "display_name": "Python 3 (ipykernel)",
   "language": "python",
   "name": "python3"
  },
  "language_info": {
   "codemirror_mode": {
    "name": "ipython",
    "version": 3
   },
   "file_extension": ".py",
   "mimetype": "text/x-python",
   "name": "python",
   "nbconvert_exporter": "python",
   "pygments_lexer": "ipython3",
   "version": "3.8.11"
  }
 },
 "nbformat": 4,
 "nbformat_minor": 5
}
