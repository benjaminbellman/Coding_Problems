{
 "cells": [
  {
   "cell_type": "markdown",
   "id": "1dce177b",
   "metadata": {},
   "source": [
    "# Minimum Path Sum"
   ]
  },
  {
   "cell_type": "markdown",
   "id": "f1bb0100",
   "metadata": {},
   "source": [
    "Given a m x n grid filled with non-negative numbers, find a path from top left to bottom right, which minimizes the sum of all numbers along its path.\n",
    "\n",
    "Note: You can only move either down or right at any point in time.\n",
    "\n",
    "**Example 1:**\n",
    "\n",
    "Input: grid = [[1,3,1],[1,5,1],[4,2,1]]\n",
    "Output: 7\n",
    "Explanation: Because the path 1 → 3 → 1 → 1 → 1 minimizes the sum.\n",
    "\n",
    "**Example 2:**\n",
    "\n",
    "Input: grid = [[1,2,3],[4,5,6]]\n",
    "Output: 12\n",
    "\n",
    "**Constraints:**\n",
    "\n",
    "- m == grid.length\n",
    "- n == grid[i].length\n",
    "- 1 <= m, n <= 200\n",
    "- 0 <= grid[i][j] <= 200"
   ]
  },
  {
   "cell_type": "code",
   "execution_count": 1,
   "id": "dadd170b",
   "metadata": {},
   "outputs": [],
   "source": [
    "def minPathSum(grid):\n",
    "    m, n = len(grid), len(grid[0])\n",
    "    \n",
    "    # Initialize a dp grid with the same size\n",
    "    dp = [[0] * n for _ in range(m)]\n",
    "    \n",
    "    dp[0][0] = grid[0][0]\n",
    "    \n",
    "    # Fill the first row\n",
    "    for j in range(1, n):\n",
    "        dp[0][j] = dp[0][j-1] + grid[0][j]\n",
    "        \n",
    "    # Fill the first column\n",
    "    for i in range(1, m):\n",
    "        dp[i][0] = dp[i-1][0] + grid[i][0]\n",
    "        \n",
    "    # Fill the rest of the dp table\n",
    "    for i in range(1, m):\n",
    "        for j in range(1, n):\n",
    "            dp[i][j] = grid[i][j] + min(dp[i-1][j], dp[i][j-1])\n",
    "    \n",
    "    return dp[m-1][n-1]"
   ]
  },
  {
   "cell_type": "code",
   "execution_count": null,
   "id": "4e03e255",
   "metadata": {},
   "outputs": [],
   "source": []
  }
 ],
 "metadata": {
  "kernelspec": {
   "display_name": "Python 3 (ipykernel)",
   "language": "python",
   "name": "python3"
  },
  "language_info": {
   "codemirror_mode": {
    "name": "ipython",
    "version": 3
   },
   "file_extension": ".py",
   "mimetype": "text/x-python",
   "name": "python",
   "nbconvert_exporter": "python",
   "pygments_lexer": "ipython3",
   "version": "3.8.11"
  }
 },
 "nbformat": 4,
 "nbformat_minor": 5
}
