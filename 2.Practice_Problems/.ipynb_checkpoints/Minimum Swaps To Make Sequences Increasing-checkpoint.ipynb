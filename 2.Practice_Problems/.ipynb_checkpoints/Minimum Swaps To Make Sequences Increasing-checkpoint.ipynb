{
 "cells": [
  {
   "cell_type": "markdown",
   "id": "a6c1fe47",
   "metadata": {},
   "source": [
    "# Minimum Swaps To Make Sequences Increasing"
   ]
  },
  {
   "cell_type": "markdown",
   "id": "353a49c0",
   "metadata": {},
   "source": [
    "You are given two integer arrays of the same length nums1 and nums2. In one operation, you are allowed to swap nums1[i] with nums2[i].\n",
    "\n",
    "For example, if nums1 = [1,2,3,8], and nums2 = [5,6,7,4], you can swap the element at i = 3 to obtain nums1 = [1,2,3,4] and nums2 = [5,6,7,8].\n",
    "Return the minimum number of needed operations to make nums1 and nums2 strictly increasing. The test cases are generated so that the given input always makes it possible.\n",
    "\n",
    "An array arr is strictly increasing if and only if arr[0] < arr[1] < arr[2] < ... < arr[arr.length - 1].\n",
    "\n",
    " \n",
    "\n",
    "**Example 1:**\n",
    "\n",
    "Input: nums1 = [1,3,5,4], nums2 = [1,2,3,7]\n",
    "Output: 1\n",
    "Explanation: \n",
    "Swap nums1[3] and nums2[3]. Then the sequences are:\n",
    "nums1 = [1, 3, 5, 7] and nums2 = [1, 2, 3, 4]\n",
    "which are both strictly increasing.\n",
    "\n",
    "**Example 2:**\n",
    "\n",
    "Input: nums1 = [0,3,5,8,9], nums2 = [2,1,4,6,9]\n",
    "Output: 1\n",
    " \n",
    "\n",
    "**Constraints:**\n",
    "- 2 <= nums1.length <= 105\n",
    "- nums2.length == nums1.length\n",
    "- 0 <= nums1[i], nums2[i] <= 2 * 105"
   ]
  },
  {
   "cell_type": "code",
   "execution_count": 3,
   "id": "31593adf",
   "metadata": {},
   "outputs": [
    {
     "name": "stdout",
     "output_type": "stream",
     "text": [
      "0\n",
      "0\n"
     ]
    }
   ],
   "source": [
    "def min_swaps(nums1, nums2):\n",
    "    n = len(nums1)\n",
    "    swaps = 0\n",
    "    prev_swaps = [0, 0]  # Store the previous swaps needed for comparison\n",
    "    no_swap_here = 0  # Initialize no_swap_here\n",
    "    swap_here = 0  # Initialize swap_here\n",
    "\n",
    "    for i in range(1, n):\n",
    "        if nums1[i] <= nums1[i - 1] or nums2[i] <= nums2[i - 1]:\n",
    "            # Calculate the current swaps needed if we swap or don't swap at this position\n",
    "            swap_here = prev_swaps[1] + 1\n",
    "            no_swap_here = swaps\n",
    "\n",
    "            # Update the swaps needed at this position\n",
    "            swaps = min(swap_here, no_swap_here)\n",
    "\n",
    "        if nums1[i] <= nums2[i - 1] or nums2[i] <= nums1[i - 1]:\n",
    "            # Update the previous swaps needed\n",
    "            prev_swaps[0] = prev_swaps[1] + 1\n",
    "        else:\n",
    "            prev_swaps[0] = prev_swaps[1]\n",
    "\n",
    "        if nums2[i] <= nums1[i - 1] or nums1[i] <= nums2[i - 1]:\n",
    "            prev_swaps[1] = swap_here\n",
    "        else:\n",
    "            prev_swaps[1] = no_swap_here\n",
    "\n",
    "    return swaps\n",
    "\n",
    "# Test cases\n",
    "print(min_swaps([1,3,5,4], [1,2,3,7]))  # Output: 1\n",
    "print(min_swaps([0,3,5,8,9], [2,1,4,6,9]))  # Output: 1"
   ]
  },
  {
   "cell_type": "code",
   "execution_count": null,
   "id": "2bea87b6",
   "metadata": {},
   "outputs": [],
   "source": []
  }
 ],
 "metadata": {
  "kernelspec": {
   "display_name": "Python 3",
   "language": "python",
   "name": "python3"
  },
  "language_info": {
   "codemirror_mode": {
    "name": "ipython",
    "version": 3
   },
   "file_extension": ".py",
   "mimetype": "text/x-python",
   "name": "python",
   "nbconvert_exporter": "python",
   "pygments_lexer": "ipython3",
   "version": "3.9.13"
  }
 },
 "nbformat": 4,
 "nbformat_minor": 5
}
