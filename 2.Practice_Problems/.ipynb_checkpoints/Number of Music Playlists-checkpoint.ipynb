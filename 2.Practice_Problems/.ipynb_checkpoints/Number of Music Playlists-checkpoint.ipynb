{
 "cells": [
  {
   "cell_type": "markdown",
   "id": "202137b2",
   "metadata": {},
   "source": [
    "# Number of Music Playlists"
   ]
  },
  {
   "cell_type": "markdown",
   "id": "2e8044f4",
   "metadata": {},
   "source": [
    "Your music player contains n different songs. You want to listen to goal songs (not necessarily different) during your trip. To avoid boredom, you will create a playlist so that:\n",
    "\n",
    "Every song is played at least once.\n",
    "A song can only be played again only if k other songs have been played.\n",
    "Given n, goal, and k, return the number of possible playlists that you can create. Since the answer can be very large, return it modulo 109 + 7.\n",
    "\n",
    "**Example 1:**\n",
    "\n",
    "    Input: n = 3, goal = 3, k = 1\n",
    "    Output: 6\n",
    "    Explanation: There are 6 possible playlists: [1, 2, 3], [1, 3, 2], [2, 1, 3], [2, 3, 1], [3, 1, 2], and [3, 2, 1].\n",
    "\n",
    "**Example 2:**\n",
    "\n",
    "    Input: n = 2, goal = 3, k = 0\n",
    "    Output: 6\n",
    "    Explanation: There are 6 possible playlists: [1, 1, 2], [1, 2, 1], [2, 1, 1], [2, 2, 1], [2, 1, 2], and [1, 2, 2].\n",
    "\n",
    "**Example 3:**\n",
    "\n",
    "    Input: n = 2, goal = 3, k = 1\n",
    "    Output: 2\n",
    "    Explanation: There are 2 possible playlists: [1, 2, 1] and [2, 1, 2].\n",
    " \n",
    "**Constraints:**\n",
    "\n",
    "- 0 <= k < n <= goal <= 100"
   ]
  },
  {
   "cell_type": "code",
   "execution_count": 1,
   "id": "d00f8d02",
   "metadata": {},
   "outputs": [],
   "source": [
    "MOD = 10**9 + 7\n",
    "\n",
    "def numMusicPlaylists(n, goal, k):\n",
    "    # dp[i][j] will store the number of playlists of length j using i unique songs\n",
    "    dp = [[0] * (goal + 1) for _ in range(n + 1)]\n",
    "    \n",
    "    # Base case: there's exactly one way to have a playlist of length 0 with 0 unique songs\n",
    "    dp[0][0] = 1\n",
    "    \n",
    "    # Fill the DP table\n",
    "    for i in range(1, n + 1):\n",
    "        for j in range(1, goal + 1):\n",
    "            # Add a new song: choose from (n - i + 1) remaining songs\n",
    "            dp[i][j] += dp[i - 1][j - 1] * (n - i + 1)\n",
    "            dp[i][j] %= MOD\n",
    "            # Re-use an old song: choose from i songs that have already been played, but not in the last k\n",
    "            if i > k:\n",
    "                dp[i][j] += dp[i][j - 1] * (i - k)\n",
    "                dp[i][j] %= MOD\n",
    "    \n",
    "    # The answer we want is the number of playlists of length `goal` using `n` unique songs\n",
    "    return dp[n][goal]"
   ]
  },
  {
   "cell_type": "code",
   "execution_count": null,
   "id": "5fa604fb",
   "metadata": {},
   "outputs": [],
   "source": []
  }
 ],
 "metadata": {
  "kernelspec": {
   "display_name": "Python 3 (ipykernel)",
   "language": "python",
   "name": "python3"
  },
  "language_info": {
   "codemirror_mode": {
    "name": "ipython",
    "version": 3
   },
   "file_extension": ".py",
   "mimetype": "text/x-python",
   "name": "python",
   "nbconvert_exporter": "python",
   "pygments_lexer": "ipython3",
   "version": "3.8.11"
  }
 },
 "nbformat": 4,
 "nbformat_minor": 5
}
