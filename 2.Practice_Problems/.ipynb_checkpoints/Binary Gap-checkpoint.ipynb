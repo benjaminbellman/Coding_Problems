{
 "cells": [
  {
   "cell_type": "markdown",
   "id": "c621003c",
   "metadata": {},
   "source": [
    "# Binary Gap"
   ]
  },
  {
   "cell_type": "markdown",
   "id": "925634d4",
   "metadata": {},
   "source": [
    "Given a positive integer n, find and return the longest distance between any two adjacent 1's in the binary representation of n. If there are no two adjacent 1's, return 0.\n",
    "\n",
    "Two 1's are adjacent if there are only 0's separating them (possibly no 0's). The distance between two 1's is the absolute difference between their bit positions. For example, the two 1's in \"1001\" have a distance of 3.\n",
    "\n",
    "**Example 1:**\n",
    "\n",
    "Input: n = 22\n",
    "Output: 2\n",
    "Explanation: 22 in binary is \"10110\".\n",
    "The first adjacent pair of 1's is \"10110\" with a distance of 2.\n",
    "The second adjacent pair of 1's is \"10110\" with a distance of 1.\n",
    "The answer is the largest of these two distances, which is 2.\n",
    "Note that \"10110\" is not a valid pair since there is a 1 separating the two 1's underlined.\n",
    "\n",
    "**Example 2:**\n",
    "\n",
    "Input: n = 8\n",
    "Output: 0\n",
    "Explanation: 8 in binary is \"1000\".\n",
    "There are not any adjacent pairs of 1's in the binary representation of 8, so we return 0.\n",
    "\n",
    "**Example 3:**\n",
    "\n",
    "Input: n = 5\n",
    "Output: 2\n",
    "Explanation: 5 in binary is \"101\".\n",
    " \n",
    "\n",
    "**Constraints:**\n",
    "\n",
    "- 1 <= n <= 109"
   ]
  },
  {
   "cell_type": "code",
   "execution_count": 1,
   "id": "74a4c931",
   "metadata": {},
   "outputs": [
    {
     "name": "stdout",
     "output_type": "stream",
     "text": [
      "2\n",
      "0\n",
      "2\n"
     ]
    }
   ],
   "source": [
    "def longest_distance_between_ones(n):\n",
    "    # Convert n to its binary representation (removing the '0b' prefix)\n",
    "    binary_rep = bin(n)[2:]\n",
    "    \n",
    "    # Initialize variables to track the maximum distance and the previous position of `1`\n",
    "    max_distance = 0\n",
    "    prev_position = -1\n",
    "    \n",
    "    # Iterate through the binary representation\n",
    "    for i, bit in enumerate(binary_rep):\n",
    "        if bit == '1':\n",
    "            if prev_position != -1:  # Check if this is not the first `1`\n",
    "                # Calculate the distance between the current `1` and the previous `1`\n",
    "                distance = i - prev_position\n",
    "                # Update the maximum distance if the current distance is larger\n",
    "                max_distance = max(max_distance, distance)\n",
    "            # Update the previous position to the current position\n",
    "            prev_position = i\n",
    "    \n",
    "    return max_distance\n",
    "\n",
    "# Test cases\n",
    "print(longest_distance_between_ones(22))  # Output: 2\n",
    "print(longest_distance_between_ones(8))   # Output: 0\n",
    "print(longest_distance_between_ones(5))   # Output: 2"
   ]
  },
  {
   "cell_type": "code",
   "execution_count": null,
   "id": "0f5e8103",
   "metadata": {},
   "outputs": [],
   "source": []
  }
 ],
 "metadata": {
  "kernelspec": {
   "display_name": "Python 3 (ipykernel)",
   "language": "python",
   "name": "python3"
  },
  "language_info": {
   "codemirror_mode": {
    "name": "ipython",
    "version": 3
   },
   "file_extension": ".py",
   "mimetype": "text/x-python",
   "name": "python",
   "nbconvert_exporter": "python",
   "pygments_lexer": "ipython3",
   "version": "3.8.11"
  }
 },
 "nbformat": 4,
 "nbformat_minor": 5
}
