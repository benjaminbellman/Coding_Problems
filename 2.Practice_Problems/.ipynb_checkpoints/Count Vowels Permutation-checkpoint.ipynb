{
 "cells": [
  {
   "cell_type": "markdown",
   "id": "f38e3a12",
   "metadata": {},
   "source": [
    "# Count Vowels Permutation"
   ]
  },
  {
   "cell_type": "markdown",
   "id": "e16bd27e",
   "metadata": {},
   "source": [
    "Given an integer n, your task is to count how many strings of length n can be formed under the following rules:\n",
    "\n",
    "Each character is a lower case vowel ('a', 'e', 'i', 'o', 'u')\n",
    "Each vowel 'a' may only be followed by an 'e'.\n",
    "Each vowel 'e' may only be followed by an 'a' or an 'i'.\n",
    "Each vowel 'i' may not be followed by another 'i'.\n",
    "Each vowel 'o' may only be followed by an 'i' or a 'u'.\n",
    "Each vowel 'u' may only be followed by an 'a'.\n",
    "Since the answer may be too large, return it modulo 10^9 + 7.\n",
    "\n",
    "**Example 1:**\n",
    "\n",
    "Input: n = 1\n",
    "Output: 5\n",
    "Explanation: All possible strings are: \"a\", \"e\", \"i\" , \"o\" and \"u\".\n",
    "\n",
    "**Example 2:**\n",
    "\n",
    "Input: n = 2\n",
    "Output: 10\n",
    "Explanation: All possible strings are: \"ae\", \"ea\", \"ei\", \"ia\", \"ie\", \"io\", \"iu\", \"oi\", \"ou\" and \"ua\".\n",
    "\n",
    "**Example 3:** \n",
    "\n",
    "Input: n = 5\n",
    "Output: 68\n",
    "\n",
    "**Constraints:**\n",
    "\n",
    "- 1 <= n <= 2 * 10^4"
   ]
  },
  {
   "cell_type": "code",
   "execution_count": 1,
   "id": "2bafbce5",
   "metadata": {},
   "outputs": [],
   "source": [
    "def count_vowel_strings(n):\n",
    "    MOD = 10**9 + 7\n",
    "\n",
    "    # Initial counts for strings of length 1\n",
    "    a = e = i = o = u = 1\n",
    "\n",
    "    for _ in range(1, n):\n",
    "        a_next = (e + u) % MOD\n",
    "        e_next = (a + i) % MOD\n",
    "        i_next = (e + o) % MOD\n",
    "        o_next = i % MOD\n",
    "        u_next = (i + o) % MOD\n",
    "\n",
    "        a, e, i, o, u = a_next, e_next, i_next, o_next, u_next\n",
    "\n",
    "    return (a + e + i + o + u) % MOD"
   ]
  },
  {
   "cell_type": "code",
   "execution_count": 2,
   "id": "ab4b4402",
   "metadata": {},
   "outputs": [
    {
     "name": "stdout",
     "output_type": "stream",
     "text": [
      "5\n",
      "9\n",
      "50\n"
     ]
    }
   ],
   "source": [
    "print(count_vowel_strings(1))  # Output: 5\n",
    "print(count_vowel_strings(2))  # Output: 10\n",
    "print(count_vowel_strings(5))  # Output: 68"
   ]
  },
  {
   "cell_type": "code",
   "execution_count": null,
   "id": "af592e02",
   "metadata": {},
   "outputs": [],
   "source": []
  }
 ],
 "metadata": {
  "kernelspec": {
   "display_name": "Python 3 (ipykernel)",
   "language": "python",
   "name": "python3"
  },
  "language_info": {
   "codemirror_mode": {
    "name": "ipython",
    "version": 3
   },
   "file_extension": ".py",
   "mimetype": "text/x-python",
   "name": "python",
   "nbconvert_exporter": "python",
   "pygments_lexer": "ipython3",
   "version": "3.8.11"
  }
 },
 "nbformat": 4,
 "nbformat_minor": 5
}
