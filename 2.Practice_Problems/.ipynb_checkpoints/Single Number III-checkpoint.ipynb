{
 "cells": [
  {
   "cell_type": "markdown",
   "id": "119357b1",
   "metadata": {},
   "source": [
    "# Single Number III"
   ]
  },
  {
   "cell_type": "markdown",
   "id": "34ce0593",
   "metadata": {},
   "source": [
    "Given an integer array nums, in which exactly two elements appear only once and all the other elements appear exactly twice. Find the two elements that appear only once. You can return the answer in any order.\n",
    "\n",
    "You must write an algorithm that runs in linear runtime complexity and uses only constant extra space.\n",
    "\n",
    " \n",
    "\n",
    "**Example 1:**\n",
    "\n",
    "Input: nums = [1,2,1,3,2,5]\n",
    "Output: [3,5]\n",
    "Explanation:  [5, 3] is also a valid answer.\n",
    "\n",
    "**Example 2:**\n",
    "\n",
    "Input: nums = [-1,0]\n",
    "Output: [-1,0]\n",
    "\n",
    "**Example 3:**\n",
    "\n",
    "Input: nums = [0,1]\n",
    "Output: [1,0]\n",
    " \n",
    "\n",
    "**Constraints:**\n",
    "\n",
    "2 <= nums.length <= 3 * 104\n",
    "-231 <= nums[i] <= 231 - 1\n",
    "Each integer in nums will appear twice, only two integers will appear once."
   ]
  },
  {
   "cell_type": "code",
   "execution_count": 1,
   "id": "34a89fa3",
   "metadata": {},
   "outputs": [],
   "source": [
    "def find_single_numbers(nums):\n",
    "    # Step 1: Find the XOR of all the numbers in the array\n",
    "    xor_result = 0\n",
    "    for num in nums:\n",
    "        xor_result ^= num\n",
    "\n",
    "    # Step 2: Find the rightmost set bit in the XOR result\n",
    "    rightmost_set_bit = 1\n",
    "    while (rightmost_set_bit & xor_result) == 0:\n",
    "        rightmost_set_bit <<= 1\n",
    "\n",
    "    # Step 3: Partition the numbers into two groups based on the rightmost set bit\n",
    "    group1, group2 = 0, 0\n",
    "    for num in nums:\n",
    "        if num & rightmost_set_bit:\n",
    "            group1 ^= num\n",
    "        else:\n",
    "            group2 ^= num\n",
    "\n",
    "    # Step 4: Return the two single numbers\n",
    "    return [group1, group2]"
   ]
  },
  {
   "cell_type": "code",
   "execution_count": 2,
   "id": "bf594373",
   "metadata": {},
   "outputs": [],
   "source": [
    "assert find_single_numbers([1,2,1,3,2,5]) == [3, 5]\n",
    "assert find_single_numbers([-1,0]) == [-1, 0]\n",
    "assert find_single_numbers([0,1]) == [1, 0]"
   ]
  },
  {
   "cell_type": "code",
   "execution_count": null,
   "id": "387c1fea",
   "metadata": {},
   "outputs": [],
   "source": []
  }
 ],
 "metadata": {
  "kernelspec": {
   "display_name": "Python 3",
   "language": "python",
   "name": "python3"
  },
  "language_info": {
   "codemirror_mode": {
    "name": "ipython",
    "version": 3
   },
   "file_extension": ".py",
   "mimetype": "text/x-python",
   "name": "python",
   "nbconvert_exporter": "python",
   "pygments_lexer": "ipython3",
   "version": "3.9.13"
  }
 },
 "nbformat": 4,
 "nbformat_minor": 5
}
