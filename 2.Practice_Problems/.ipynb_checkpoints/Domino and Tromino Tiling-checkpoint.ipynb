{
 "cells": [
  {
   "cell_type": "markdown",
   "id": "20f2972f",
   "metadata": {},
   "source": [
    "# Domino and Tromino Tiling"
   ]
  },
  {
   "cell_type": "markdown",
   "id": "c233e71f",
   "metadata": {},
   "source": [
    "You have two types of tiles: a 2 x 1 domino shape and a tromino shape. You may rotate these shapes.\n",
    "\n",
    "\n",
    "Given an integer n, return the number of ways to tile an 2 x n board. Since the answer may be very large, return it modulo 109 + 7.\n",
    "\n",
    "In a tiling, every square must be covered by a tile. Two tilings are different if and only if there are two 4-directionally adjacent cells on the board such that exactly one of the tilings has both squares occupied by a tile.\n",
    "\n",
    " \n",
    "\n",
    "**Example 1:**\n",
    "\n",
    "Input: n = 3\n",
    "\n",
    "Output: 5\n",
    "Explanation: The five different ways are show above.\n",
    "\n",
    "**Example 2:**\n",
    "\n",
    "Input: n = 1\n",
    "\n",
    "Output: 1\n",
    " \n",
    "\n",
    "**Constraints:**\n",
    "\n",
    "- 1 <= n <= 1000\n"
   ]
  },
  {
   "cell_type": "code",
   "execution_count": 1,
   "id": "63e26ed0",
   "metadata": {},
   "outputs": [
    {
     "name": "stdout",
     "output_type": "stream",
     "text": [
      "5\n",
      "1\n"
     ]
    }
   ],
   "source": [
    "def numTilings(n):\n",
    "    MOD = 10**9 + 7\n",
    "    dp = [0] * (n + 1)\n",
    "    dp[0] = 1\n",
    "    dp[1] = 1\n",
    "    if n > 1:\n",
    "        dp[2] = 2\n",
    "    for i in range(3, n + 1):\n",
    "        dp[i] = (2 * dp[i - 1] + dp[i - 3]) % MOD\n",
    "    return dp[n]\n",
    "\n",
    "# Test cases\n",
    "print(numTilings(3))  # Output: 5\n",
    "print(numTilings(1))  # Output: 1"
   ]
  },
  {
   "cell_type": "code",
   "execution_count": null,
   "id": "c90a4ad6",
   "metadata": {},
   "outputs": [],
   "source": []
  }
 ],
 "metadata": {
  "kernelspec": {
   "display_name": "Python 3",
   "language": "python",
   "name": "python3"
  },
  "language_info": {
   "codemirror_mode": {
    "name": "ipython",
    "version": 3
   },
   "file_extension": ".py",
   "mimetype": "text/x-python",
   "name": "python",
   "nbconvert_exporter": "python",
   "pygments_lexer": "ipython3",
   "version": "3.9.13"
  }
 },
 "nbformat": 4,
 "nbformat_minor": 5
}
