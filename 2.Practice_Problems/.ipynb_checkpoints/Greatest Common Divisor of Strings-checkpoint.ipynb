{
 "cells": [
  {
   "cell_type": "markdown",
   "id": "dfed0e35",
   "metadata": {},
   "source": [
    "# Greatest Common Divisor of Strings"
   ]
  },
  {
   "cell_type": "markdown",
   "id": "316118a3",
   "metadata": {},
   "source": [
    "For two strings s and t, we say \"t divides s\" if and only if s = t + t + t + ... + t + t (i.e., t is concatenated with itself one or more times).\n",
    "\n",
    "Given two strings str1 and str2, return the largest string x such that x divides both str1 and str2.\n",
    "\n",
    "**Example 1:**\n",
    "\n",
    "Input: str1 = \"ABCABC\", str2 = \"ABC\"\n",
    "Output: \"ABC\"\n",
    "\n",
    "**Example 2:**\n",
    "\n",
    "Input: str1 = \"ABABAB\", str2 = \"ABAB\"\n",
    "Output: \"AB\"\n",
    "\n",
    "**Example 3:**\n",
    "\n",
    "Input: str1 = \"LEET\", str2 = \"CODE\"\n",
    "Output: \"\"\n",
    "\n",
    "**Constraints:**\n",
    "\n",
    "- 1 <= str1.length, str2.length <= 1000\n",
    "- str1 and str2 consist of English uppercase letters."
   ]
  },
  {
   "cell_type": "code",
   "execution_count": 1,
   "id": "57a06b14",
   "metadata": {},
   "outputs": [
    {
     "name": "stdout",
     "output_type": "stream",
     "text": [
      "ABC\n",
      "AB\n",
      "\n"
     ]
    }
   ],
   "source": [
    "from math import gcd\n",
    "\n",
    "def gcdOfStrings(str1, str2):\n",
    "    # Check if str1 + str2 == str2 + str1, which means they have a common base\n",
    "    if str1 + str2 != str2 + str1:\n",
    "        return \"\"\n",
    "    \n",
    "    # Compute the GCD of the lengths of the two strings\n",
    "    gcd_length = gcd(len(str1), len(str2))\n",
    "    \n",
    "    # The greatest common divisor string\n",
    "    return str1[:gcd_length]\n",
    "\n",
    "# Examples\n",
    "print(gcdOfStrings(\"ABCABC\", \"ABC\"))  # Output: \"ABC\"\n",
    "print(gcdOfStrings(\"ABABAB\", \"ABAB\"))  # Output: \"AB\"\n",
    "print(gcdOfStrings(\"LEET\", \"CODE\"))    # Output: \"\""
   ]
  },
  {
   "cell_type": "code",
   "execution_count": null,
   "id": "e5acbe3c",
   "metadata": {},
   "outputs": [],
   "source": []
  }
 ],
 "metadata": {
  "kernelspec": {
   "display_name": "Python 3 (ipykernel)",
   "language": "python",
   "name": "python3"
  },
  "language_info": {
   "codemirror_mode": {
    "name": "ipython",
    "version": 3
   },
   "file_extension": ".py",
   "mimetype": "text/x-python",
   "name": "python",
   "nbconvert_exporter": "python",
   "pygments_lexer": "ipython3",
   "version": "3.8.11"
  }
 },
 "nbformat": 4,
 "nbformat_minor": 5
}
