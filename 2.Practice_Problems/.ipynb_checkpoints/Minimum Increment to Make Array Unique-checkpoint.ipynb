{
 "cells": [
  {
   "cell_type": "markdown",
   "id": "c7084dcd",
   "metadata": {},
   "source": [
    "# Minimum Increment to Make Array Unique"
   ]
  },
  {
   "cell_type": "markdown",
   "id": "50f3da92",
   "metadata": {},
   "source": [
    "You are given an integer array nums. In one move, you can pick an index i where 0 <= i < nums.length and increment nums[i] by 1.\n",
    "\n",
    "Return the minimum number of moves to make every value in nums unique.\n",
    "\n",
    "The test cases are generated so that the answer fits in a 32-bit integer.\n",
    "\n",
    "**Example 1:**\n",
    "\n",
    "Input: nums = [1,2,2]\n",
    "Output: 1\n",
    "Explanation: After 1 move, the array could be [1, 2, 3].\n",
    "\n",
    "**Example 2:**\n",
    "\n",
    "Input: nums = [3,2,1,2,1,7]\n",
    "Output: 6\n",
    "Explanation: After 6 moves, the array could be [3, 4, 1, 2, 5, 7].\n",
    "It can be shown that it is impossible for the array to have all unique values with 5 or less moves.\n",
    " \n",
    "**Constraints:**\n",
    "\n",
    "- 1 <= nums.length <= 105\n",
    "- 0 <= nums[i] <= 105"
   ]
  },
  {
   "cell_type": "code",
   "execution_count": 1,
   "id": "36b3ff5d",
   "metadata": {},
   "outputs": [],
   "source": [
    "def minIncrementForUnique(nums):\n",
    "    # Sort the array\n",
    "    nums.sort()\n",
    "    \n",
    "    moves = 0\n",
    "    \n",
    "    # Traverse the sorted array\n",
    "    for i in range(1, len(nums)):\n",
    "        # If the current element is not greater than the previous one\n",
    "        if nums[i] <= nums[i - 1]:\n",
    "            # Calculate how many increments are needed\n",
    "            increment_needed = nums[i - 1] - nums[i] + 1\n",
    "            # Increment the current element\n",
    "            nums[i] += increment_needed\n",
    "            # Add the number of moves to the total\n",
    "            moves += increment_needed\n",
    "            \n",
    "    return moves"
   ]
  },
  {
   "cell_type": "code",
   "execution_count": 2,
   "id": "601099eb",
   "metadata": {},
   "outputs": [
    {
     "name": "stdout",
     "output_type": "stream",
     "text": [
      "1\n"
     ]
    }
   ],
   "source": [
    "nums = [1, 2, 2]\n",
    "print(minIncrementForUnique(nums))  # Output: 1"
   ]
  },
  {
   "cell_type": "code",
   "execution_count": null,
   "id": "84cc8ad5",
   "metadata": {},
   "outputs": [],
   "source": []
  }
 ],
 "metadata": {
  "kernelspec": {
   "display_name": "Python 3 (ipykernel)",
   "language": "python",
   "name": "python3"
  },
  "language_info": {
   "codemirror_mode": {
    "name": "ipython",
    "version": 3
   },
   "file_extension": ".py",
   "mimetype": "text/x-python",
   "name": "python",
   "nbconvert_exporter": "python",
   "pygments_lexer": "ipython3",
   "version": "3.8.11"
  }
 },
 "nbformat": 4,
 "nbformat_minor": 5
}
