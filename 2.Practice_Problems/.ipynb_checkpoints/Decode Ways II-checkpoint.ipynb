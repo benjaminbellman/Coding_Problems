{
 "cells": [
  {
   "cell_type": "markdown",
   "id": "c74e1446",
   "metadata": {},
   "source": [
    "# Decode Ways II"
   ]
  },
  {
   "cell_type": "markdown",
   "id": "8c5f7480",
   "metadata": {},
   "source": [
    "A message containing letters from A-Z can be encoded into numbers using the following mapping:\n",
    "\n",
    "'A' -> \"1\"\n",
    "'B' -> \"2\"\n",
    "...\n",
    "'Z' -> \"26\"\n",
    "To decode an encoded message, all the digits must be grouped then mapped back into letters using the reverse of the mapping above (there may be multiple ways). For example, \"11106\" can be mapped into:\n",
    "\n",
    "\"AAJF\" with the grouping (1 1 10 6)\n",
    "\"KJF\" with the grouping (11 10 6)\n",
    "Note that the grouping (1 11 06) is invalid because \"06\" cannot be mapped into 'F' since \"6\" is different from \"06\".\n",
    "\n",
    "In addition to the mapping above, an encoded message may contain the '*' character, which can represent any digit from '1' to '9' ('0' is excluded). For example, the encoded message \"1*\" may represent any of the encoded messages \"11\", \"12\", \"13\", \"14\", \"15\", \"16\", \"17\", \"18\", or \"19\". Decoding \"1*\" is equivalent to decoding any of the encoded messages it can represent.\n",
    "\n",
    "Given a string s consisting of digits and '*' characters, return the number of ways to decode it.\n",
    "\n",
    "Since the answer may be very large, return it modulo 109 + 7.\n",
    "\n",
    " \n",
    "\n",
    "**Example 1:**\n",
    "\n",
    "Input: s = \"*\"\n",
    "\n",
    "Output: 9\n",
    "Explanation: The encoded message can represent any of the encoded messages \"1\", \"2\", \"3\", \"4\", \"5\", \"6\", \"7\", \"8\", or \"9\".\n",
    "Each of these can be decoded to the strings \"A\", \"B\", \"C\", \"D\", \"E\", \"F\", \"G\", \"H\", and \"I\" respectively.\n",
    "Hence, there are a total of 9 ways to decode \"*\".\n",
    "\n",
    "**Example 2:**\n",
    "\n",
    "Input: s = \"1*\"\n",
    "\n",
    "Output: 18\n",
    "Explanation: The encoded message can represent any of the encoded messages \"11\", \"12\", \"13\", \"14\", \"15\", \"16\", \"17\", \"18\", or \"19\".\n",
    "Each of these encoded messages have 2 ways to be decoded (e.g. \"11\" can be decoded to \"AA\" or \"K\").\n",
    "Hence, there are a total of 9 * 2 = 18 ways to decode \"1*\".\n",
    "\n",
    "**Example 3:**\n",
    "\n",
    "Input: s = \"2*\"\n",
    "\n",
    "Output: 15\n",
    "Explanation: The encoded message can represent any of the encoded messages \"21\", \"22\", \"23\", \"24\", \"25\", \"26\", \"27\", \"28\", or \"29\".\n",
    "\"21\", \"22\", \"23\", \"24\", \"25\", and \"26\" have 2 ways of being decoded, but \"27\", \"28\", and \"29\" only have 1 way.\n",
    "Hence, there are a total of (6 * 2) + (3 * 1) = 12 + 3 = 15 ways to decode \"2*\".\n",
    " \n",
    "\n",
    "**Constraints:**\n",
    "\n",
    "- 1 <= s.length <= 105\n",
    "- s[i] is a digit or '*'."
   ]
  },
  {
   "cell_type": "code",
   "execution_count": 1,
   "id": "a7c48351",
   "metadata": {},
   "outputs": [
    {
     "name": "stdout",
     "output_type": "stream",
     "text": [
      "9\n",
      "18\n",
      "15\n"
     ]
    }
   ],
   "source": [
    "def numDecodings(s):\n",
    "    MOD = 10**9 + 7\n",
    "    n = len(s)\n",
    "    \n",
    "    # Initialize dp array\n",
    "    dp = [0] * (n + 1)\n",
    "    dp[0] = 1  # There is one way to decode an empty string\n",
    "    \n",
    "    # Fill in the dp array\n",
    "    for i in range(1, n + 1):\n",
    "        if s[i - 1] == '*':\n",
    "            dp[i] = 9 * dp[i - 1]  # '*' can represent 1-9\n",
    "        elif s[i - 1] != '0':\n",
    "            dp[i] = dp[i - 1]\n",
    "        \n",
    "        if i > 1:\n",
    "            if s[i - 2] == '1':\n",
    "                if s[i - 1] == '*':\n",
    "                    dp[i] = (dp[i] + 9 * dp[i - 2]) % MOD  # '1*' can represent 11-19\n",
    "                else:\n",
    "                    dp[i] = (dp[i] + dp[i - 2]) % MOD\n",
    "            \n",
    "            elif s[i - 2] == '2':\n",
    "                if s[i - 1] == '*':\n",
    "                    dp[i] = (dp[i] + 6 * dp[i - 2]) % MOD  # '2*' can represent 21-26\n",
    "                elif '1' <= s[i - 1] <= '6':\n",
    "                    dp[i] = (dp[i] + dp[i - 2]) % MOD\n",
    "        \n",
    "    return dp[n]\n",
    "\n",
    "# Test cases\n",
    "print(numDecodings(\"*\"))  # Output: 9\n",
    "print(numDecodings(\"1*\"))  # Output: 18\n",
    "print(numDecodings(\"2*\"))  # Output: 15"
   ]
  },
  {
   "cell_type": "code",
   "execution_count": null,
   "id": "2ec70270",
   "metadata": {},
   "outputs": [],
   "source": []
  }
 ],
 "metadata": {
  "kernelspec": {
   "display_name": "Python 3",
   "language": "python",
   "name": "python3"
  },
  "language_info": {
   "codemirror_mode": {
    "name": "ipython",
    "version": 3
   },
   "file_extension": ".py",
   "mimetype": "text/x-python",
   "name": "python",
   "nbconvert_exporter": "python",
   "pygments_lexer": "ipython3",
   "version": "3.9.13"
  }
 },
 "nbformat": 4,
 "nbformat_minor": 5
}
