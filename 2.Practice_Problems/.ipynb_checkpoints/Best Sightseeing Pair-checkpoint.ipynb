{
 "cells": [
  {
   "cell_type": "markdown",
   "id": "0d41fa76",
   "metadata": {},
   "source": [
    "# Best Sightseeing Pair"
   ]
  },
  {
   "cell_type": "markdown",
   "id": "287fd5b0",
   "metadata": {},
   "source": [
    "You are given an integer array values where values[i] represents the value of the ith sightseeing spot. Two sightseeing spots i and j have a distance j - i between them.\n",
    "\n",
    "The score of a pair (i < j) of sightseeing spots is values[i] + values[j] + i - j: the sum of the values of the sightseeing spots, minus the distance between them.\n",
    "\n",
    "Return the maximum score of a pair of sightseeing spots.\n",
    "\n",
    "**Example 1:**\n",
    "\n",
    "Input: values = [8,1,5,2,6]\n",
    "Output: 11\n",
    "Explanation: i = 0, j = 2, values[i] + values[j] + i - j = 8 + 5 + 0 - 2 = 11\n",
    "\n",
    "**Example 2:**\n",
    "\n",
    "Input: values = [1,2]\n",
    "Output: 2\n",
    "\n",
    "**Constraints:**\n",
    "\n",
    "- 2 <= values.length <= 5 * 104\n",
    "- 1 <= values[i] <= 1000"
   ]
  },
  {
   "cell_type": "code",
   "execution_count": 1,
   "id": "e4e72c33",
   "metadata": {},
   "outputs": [],
   "source": [
    "def maxScoreSightseeingPair(values):\n",
    "    max_score = 0\n",
    "    max_i = values[0]  # Initialize max_i as values[0] + 0 since i = 0 initially\n",
    "\n",
    "    for j in range(1, len(values)):\n",
    "        # Update the maximum score with the current j\n",
    "        max_score = max(max_score, max_i + values[j] - j)\n",
    "        # Update max_i to include the current values[j] + j\n",
    "        max_i = max(max_i, values[j] + j)\n",
    "    \n",
    "    return max_score"
   ]
  },
  {
   "cell_type": "code",
   "execution_count": 2,
   "id": "219221b8",
   "metadata": {},
   "outputs": [
    {
     "name": "stdout",
     "output_type": "stream",
     "text": [
      "11\n"
     ]
    }
   ],
   "source": [
    "values = [8, 1, 5, 2, 6]\n",
    "print(maxScoreSightseeingPair(values))  # Output: 11"
   ]
  },
  {
   "cell_type": "code",
   "execution_count": 3,
   "id": "9d8efd81",
   "metadata": {},
   "outputs": [
    {
     "name": "stdout",
     "output_type": "stream",
     "text": [
      "2\n"
     ]
    }
   ],
   "source": [
    "values = [1, 2]\n",
    "print(maxScoreSightseeingPair(values))  # Output: 2"
   ]
  },
  {
   "cell_type": "code",
   "execution_count": null,
   "id": "9e7a19d9",
   "metadata": {},
   "outputs": [],
   "source": []
  }
 ],
 "metadata": {
  "kernelspec": {
   "display_name": "Python 3 (ipykernel)",
   "language": "python",
   "name": "python3"
  },
  "language_info": {
   "codemirror_mode": {
    "name": "ipython",
    "version": 3
   },
   "file_extension": ".py",
   "mimetype": "text/x-python",
   "name": "python",
   "nbconvert_exporter": "python",
   "pygments_lexer": "ipython3",
   "version": "3.8.11"
  }
 },
 "nbformat": 4,
 "nbformat_minor": 5
}
