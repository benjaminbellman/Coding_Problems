{
 "cells": [
  {
   "cell_type": "markdown",
   "id": "e5209528",
   "metadata": {},
   "source": [
    " # Target Sum"
   ]
  },
  {
   "cell_type": "markdown",
   "id": "7fb22334",
   "metadata": {},
   "source": [
    "You are given an integer array nums and an integer target.\n",
    "\n",
    "You want to build an expression out of nums by adding one of the symbols '+' and '-' before each integer in nums and then concatenate all the integers.\n",
    "\n",
    "For example, if nums = [2, 1], you can add a '+' before 2 and a '-' before 1 and concatenate them to build the expression \"+2-1\".\n",
    "Return the number of different expressions that you can build, which evaluates to target.\n",
    "\n",
    " \n",
    "\n",
    "**Example 1:**\n",
    "\n",
    "Input: nums = [1,1,1,1,1], target = 3\n",
    "Output: 5\n",
    "Explanation: There are 5 ways to assign symbols to make the sum of nums be target 3.\n",
    "\n",
    "-1 + 1 + 1 + 1 + 1 = 3\n",
    "+1 - 1 + 1 + 1 + 1 = 3\n",
    "+1 + 1 - 1 + 1 + 1 = 3\n",
    "+1 + 1 + 1 - 1 + 1 = 3\n",
    "+1 + 1 + 1 + 1 - 1 = 3\n",
    "\n",
    "**Example 2:**\n",
    "\n",
    "Input: nums = [1], target = 1\n",
    "Output: 1\n",
    " \n",
    "\n",
    "**Constraints:**\n",
    "\n",
    "- 1 <= nums.length <= 20\n",
    "- 0 <= nums[i] <= 1000\n",
    "- 0 <= sum(nums[i]) <= 1000\n",
    "- -1000 <= target <= 1000"
   ]
  },
  {
   "cell_type": "code",
   "execution_count": 1,
   "id": "49494467",
   "metadata": {},
   "outputs": [
    {
     "name": "stdout",
     "output_type": "stream",
     "text": [
      "5\n",
      "1\n"
     ]
    }
   ],
   "source": [
    "from collections import defaultdict\n",
    "\n",
    "def findTargetSumWays(nums, target):\n",
    "    dp = defaultdict(int)\n",
    "    dp[0] = 1  # Base case: there is one way to make sum 0: using 0 numbers\n",
    "\n",
    "    # Iterate through the array and update the DP table\n",
    "    for num in nums:\n",
    "        next_dp = defaultdict(int)\n",
    "        for sum_, count in dp.items():\n",
    "            next_dp[sum_ + num] += count\n",
    "            next_dp[sum_ - num] += count\n",
    "        dp = next_dp\n",
    "\n",
    "    return dp[target]\n",
    "\n",
    "# Test the function\n",
    "print(findTargetSumWays([1, 1, 1, 1, 1], 3))  # Output should be 5\n",
    "print(findTargetSumWays([1], 1))  # Output should be 1"
   ]
  },
  {
   "cell_type": "code",
   "execution_count": null,
   "id": "89e6f606",
   "metadata": {},
   "outputs": [],
   "source": []
  }
 ],
 "metadata": {
  "kernelspec": {
   "display_name": "Python 3",
   "language": "python",
   "name": "python3"
  },
  "language_info": {
   "codemirror_mode": {
    "name": "ipython",
    "version": 3
   },
   "file_extension": ".py",
   "mimetype": "text/x-python",
   "name": "python",
   "nbconvert_exporter": "python",
   "pygments_lexer": "ipython3",
   "version": "3.9.13"
  }
 },
 "nbformat": 4,
 "nbformat_minor": 5
}
