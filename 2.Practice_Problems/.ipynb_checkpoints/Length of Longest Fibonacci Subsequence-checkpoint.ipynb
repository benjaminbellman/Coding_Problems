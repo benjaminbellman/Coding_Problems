{
 "cells": [
  {
   "cell_type": "markdown",
   "id": "35a30e60",
   "metadata": {},
   "source": [
    "# Length of Longest Fibonacci Subsequence"
   ]
  },
  {
   "cell_type": "markdown",
   "id": "f9a3349d",
   "metadata": {},
   "source": [
    "A sequence x1, x2, ..., xn is Fibonacci-like if:\n",
    "\n",
    "- n >= 3\n",
    "- xi + xi+1 == xi+2 for all i + 2 <= n\n",
    "\n",
    "Given a strictly increasing array arr of positive integers forming a sequence, return the length of the longest Fibonacci-like subsequence of arr. If one does not exist, return 0.\n",
    "\n",
    "A subsequence is derived from another sequence arr by deleting any number of elements (including none) from arr, without changing the order of the remaining elements. For example, [3, 5, 8] is a subsequence of [3, 4, 5, 6, 7, 8].\n",
    "\n",
    "**Example 1:**\n",
    "\n",
    "Input: arr = [1,2,3,4,5,6,7,8]\n",
    "Output: 5\n",
    "Explanation: The longest subsequence that is fibonacci-like: [1,2,3,5,8].\n",
    "\n",
    "**Example 2:**\n",
    "\n",
    "Input: arr = [1,3,7,11,12,14,18]\n",
    "Output: 3\n",
    "Explanation: The longest subsequence that is fibonacci-like: [1,11,12], [3,11,14] or [7,11,18].\n",
    "\n",
    "**Constraints:**\n",
    "\n",
    "- 3 <= arr.length <= 1000\n",
    "- 1 <= arr[i] < arr[i + 1] <= 109"
   ]
  },
  {
   "cell_type": "code",
   "execution_count": 1,
   "id": "fc4ce222",
   "metadata": {},
   "outputs": [
    {
     "name": "stdout",
     "output_type": "stream",
     "text": [
      "5\n",
      "3\n"
     ]
    }
   ],
   "source": [
    "def lenLongestFibSubseq(arr):\n",
    "    if len(arr) < 3:\n",
    "        return 0\n",
    "    \n",
    "    # Dictionary to store indices of each number for quick lookup\n",
    "    index = {num: i for i, num in enumerate(arr)}\n",
    "    \n",
    "    # Dictionary to store the length of Fibonacci-like subsequences\n",
    "    dp = {}\n",
    "    \n",
    "    max_length = 0\n",
    "    \n",
    "    # Iterate over pairs (j, k) with j < k\n",
    "    for k in range(len(arr)):\n",
    "        for j in range(k):\n",
    "            # Calculate the potential previous number in the sequence\n",
    "            i = index.get(arr[k] - arr[j], -1)\n",
    "            \n",
    "            if i >= 0 and i < j:\n",
    "                # If such an i exists, extend the subsequence ending in arr[j] and arr[k]\n",
    "                dp[j, k] = dp.get((i, j), 2) + 1\n",
    "            else:\n",
    "                # Otherwise, start a new sequence with these two elements\n",
    "                dp[j, k] = 2\n",
    "            \n",
    "            # Update maximum length found\n",
    "            max_length = max(max_length, dp[j, k])\n",
    "    \n",
    "    return max_length if max_length >= 3 else 0\n",
    "\n",
    "# Example usage\n",
    "arr1 = [1, 2, 3, 4, 5, 6, 7, 8]\n",
    "print(lenLongestFibSubseq(arr1))  # Output: 5\n",
    "\n",
    "arr2 = [1, 3, 7, 11, 12, 14, 18]\n",
    "print(lenLongestFibSubseq(arr2))  # Output: 3"
   ]
  },
  {
   "cell_type": "code",
   "execution_count": null,
   "id": "6c4aae27",
   "metadata": {},
   "outputs": [],
   "source": []
  }
 ],
 "metadata": {
  "kernelspec": {
   "display_name": "Python 3 (ipykernel)",
   "language": "python",
   "name": "python3"
  },
  "language_info": {
   "codemirror_mode": {
    "name": "ipython",
    "version": 3
   },
   "file_extension": ".py",
   "mimetype": "text/x-python",
   "name": "python",
   "nbconvert_exporter": "python",
   "pygments_lexer": "ipython3",
   "version": "3.8.11"
  }
 },
 "nbformat": 4,
 "nbformat_minor": 5
}
