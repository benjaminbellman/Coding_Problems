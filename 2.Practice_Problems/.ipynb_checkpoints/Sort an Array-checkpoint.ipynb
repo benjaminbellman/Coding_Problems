{
 "cells": [
  {
   "cell_type": "markdown",
   "id": "68a08cc6",
   "metadata": {},
   "source": [
    "# Sort an Array"
   ]
  },
  {
   "cell_type": "markdown",
   "id": "6e2e8619",
   "metadata": {},
   "source": [
    "Given an array of integers nums, sort the array in ascending order and return it.\n",
    "\n",
    "You must solve the problem without using any built-in functions in O(nlog(n)) time complexity and with the smallest space complexity possible.\n",
    "\n",
    "**Example 1:**\n",
    "\n",
    "Input: nums = [5,2,3,1]\n",
    "Output: [1,2,3,5]\n",
    "Explanation: After sorting the array, the positions of some numbers are not changed (for example, 2 and 3), while the positions of other numbers are changed (for example, 1 and 5).\n",
    "\n",
    "**Example 2:**\n",
    "\n",
    "Input: nums = [5,1,1,2,0,0]\n",
    "Output: [0,0,1,1,2,5]\n",
    "Explanation: Note that the values of nums are not necessairly unique.\n",
    " \n",
    "\n",
    "**Constraints:**\n",
    "\n",
    "- 1 <= nums.length <= 5 * 104\n",
    "- -5 * 104 <= nums[i] <= 5 * 104"
   ]
  },
  {
   "cell_type": "code",
   "execution_count": 1,
   "id": "dbe7529d",
   "metadata": {},
   "outputs": [
    {
     "name": "stdout",
     "output_type": "stream",
     "text": [
      "[1, 2, 3, 5]\n",
      "[0, 0, 1, 1, 2, 5]\n"
     ]
    }
   ],
   "source": [
    "def merge_sort(nums):\n",
    "    if len(nums) <= 1:\n",
    "        return nums\n",
    "    \n",
    "    def merge(left, right):\n",
    "        sorted_array = []\n",
    "        i = j = 0\n",
    "        while i < len(left) and j < len(right):\n",
    "            if left[i] <= right[j]:\n",
    "                sorted_array.append(left[i])\n",
    "                i += 1\n",
    "            else:\n",
    "                sorted_array.append(right[j])\n",
    "                j += 1\n",
    "        \n",
    "        while i < len(left):\n",
    "            sorted_array.append(left[i])\n",
    "            i += 1\n",
    "        \n",
    "        while j < len(right):\n",
    "            sorted_array.append(right[j])\n",
    "            j += 1\n",
    "        \n",
    "        return sorted_array\n",
    "    \n",
    "    def sort(array):\n",
    "        if len(array) <= 1:\n",
    "            return array\n",
    "        mid = len(array) // 2\n",
    "        left = sort(array[:mid])\n",
    "        right = sort(array[mid:])\n",
    "        return merge(left, right)\n",
    "    \n",
    "    return sort(nums)\n",
    "\n",
    "# Example usage\n",
    "nums1 = [5, 2, 3, 1]\n",
    "print(merge_sort(nums1))  # Output: [1, 2, 3, 5]\n",
    "\n",
    "nums2 = [5, 1, 1, 2, 0, 0]\n",
    "print(merge_sort(nums2))  # Output: [0, 0, 1, 1, 2, 5]"
   ]
  },
  {
   "cell_type": "code",
   "execution_count": null,
   "id": "ba996439",
   "metadata": {},
   "outputs": [],
   "source": []
  }
 ],
 "metadata": {
  "kernelspec": {
   "display_name": "Python 3 (ipykernel)",
   "language": "python",
   "name": "python3"
  },
  "language_info": {
   "codemirror_mode": {
    "name": "ipython",
    "version": 3
   },
   "file_extension": ".py",
   "mimetype": "text/x-python",
   "name": "python",
   "nbconvert_exporter": "python",
   "pygments_lexer": "ipython3",
   "version": "3.8.11"
  }
 },
 "nbformat": 4,
 "nbformat_minor": 5
}
