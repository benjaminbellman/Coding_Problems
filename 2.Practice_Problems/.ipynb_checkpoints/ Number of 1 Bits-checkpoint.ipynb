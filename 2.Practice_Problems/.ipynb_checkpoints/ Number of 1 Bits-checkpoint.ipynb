{
 "cells": [
  {
   "cell_type": "markdown",
   "id": "53b5606b",
   "metadata": {},
   "source": [
    "#  Number of 1 Bits"
   ]
  },
  {
   "cell_type": "markdown",
   "id": "d103fda4",
   "metadata": {},
   "source": [
    "Write a function that takes the binary representation of an unsigned integer and returns the number of '1' bits it has (also known as the Hamming weight).\n",
    "\n",
    "Note:\n",
    "\n",
    "Note that in some languages, such as Java, there is no unsigned integer type. In this case, the input will be given as a signed integer type. It should not affect your implementation, as the integer's internal binary representation is the same, whether it is signed or unsigned.\n",
    "In Java, the compiler represents the signed integers using 2's complement notation. Therefore, in Example 3, the input represents the signed integer. -3.\n",
    " \n",
    "\n",
    "**Example 1:**\n",
    "\n",
    "Input: n = 00000000000000000000000000001011\n",
    "Output: 3\n",
    "Explanation: The input binary string 00000000000000000000000000001011 has a total of three '1' bits.\n",
    "\n",
    "**Example 2:**\n",
    "\n",
    "Input: n = 00000000000000000000000010000000\n",
    "Output: 1\n",
    "Explanation: The input binary string 00000000000000000000000010000000 has a total of one '1' bit.\n",
    "\n",
    "**Example 3:**\n",
    "\n",
    "Input: n = 11111111111111111111111111111101\n",
    "Output: 31\n",
    "Explanation: The input binary string 11111111111111111111111111111101 has a total of thirty one '1' bits.\n",
    " \n",
    "\n",
    "**Constraints:**\n",
    "\n",
    "The input must be a binary string of length 32.\n"
   ]
  },
  {
   "cell_type": "code",
   "execution_count": 1,
   "id": "aaf046aa",
   "metadata": {},
   "outputs": [],
   "source": [
    "def hammingWeight(n: str) -> int:\n",
    "    count = 0\n",
    "    for i in range(len(n)):\n",
    "        if n[i] == '1':\n",
    "            count += 1\n",
    "    return count"
   ]
  },
  {
   "cell_type": "code",
   "execution_count": 2,
   "id": "9ccc2bec",
   "metadata": {},
   "outputs": [
    {
     "name": "stdout",
     "output_type": "stream",
     "text": [
      "Output 1:  3\n",
      "Output 2:  1\n",
      "Output 3:  31\n"
     ]
    }
   ],
   "source": [
    "# Example 1\n",
    "input_1 = \"00000000000000000000000000001011\"\n",
    "output_1 = hammingWeight(input_1)\n",
    "print(\"Output 1: \", output_1)\n",
    "# Expected Output: 3\n",
    "\n",
    "# Example 2\n",
    "input_2 = \"00000000000000000000000010000000\"\n",
    "output_2 = hammingWeight(input_2)\n",
    "print(\"Output 2: \", output_2)\n",
    "# Expected Output: 1\n",
    "\n",
    "# Example 3\n",
    "input_3 = \"11111111111111111111111111111101\"\n",
    "output_3 = hammingWeight(input_3)\n",
    "print(\"Output 3: \", output_3)\n",
    "# Expected Output: 31"
   ]
  },
  {
   "cell_type": "code",
   "execution_count": null,
   "id": "07ad7e65",
   "metadata": {},
   "outputs": [],
   "source": []
  }
 ],
 "metadata": {
  "kernelspec": {
   "display_name": "Python 3",
   "language": "python",
   "name": "python3"
  },
  "language_info": {
   "codemirror_mode": {
    "name": "ipython",
    "version": 3
   },
   "file_extension": ".py",
   "mimetype": "text/x-python",
   "name": "python",
   "nbconvert_exporter": "python",
   "pygments_lexer": "ipython3",
   "version": "3.9.13"
  }
 },
 "nbformat": 4,
 "nbformat_minor": 5
}
