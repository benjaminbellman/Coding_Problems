{
 "cells": [
  {
   "cell_type": "markdown",
   "id": "7316a0a6",
   "metadata": {},
   "source": [
    "# Cut Off Trees for Golf Event"
   ]
  },
  {
   "attachments": {
    "image.png": {
     "image/png": "[encoded data removed]"
    }
   },
   "cell_type": "markdown",
   "id": "9e82ad1a",
   "metadata": {},
   "source": [
    "You are asked to cut off all the trees in a forest for a golf event. The forest is represented as an m x n matrix. In this matrix:\n",
    "\n",
    "0 means the cell cannot be walked through.\n",
    "1 represents an empty cell that can be walked through.\n",
    "A number greater than 1 represents a tree in a cell that can be walked through, and this number is the tree's height.\n",
    "In one step, you can walk in any of the four directions: north, east, south, and west. If you are standing in a cell with a tree, you can choose whether to cut it off.\n",
    "\n",
    "You must cut off the trees in order from shortest to tallest. When you cut off a tree, the value at its cell becomes 1 (an empty cell).\n",
    "\n",
    "Starting from the point (0, 0), return the minimum steps you need to walk to cut off all the trees. If you cannot cut off all the trees, return -1.\n",
    "\n",
    "Note: The input is generated such that no two trees have the same height, and there is at least one tree needs to be cut off.\n",
    "\n",
    " \n",
    "\n",
    "**Example 1:**\n",
    "\n",
    "![image.png](attachment:image.png)\n",
    "Input: forest = [[1,2,3],[0,0,4],[7,6,5]]\n",
    "\n",
    "Output: 6\n",
    "Explanation: Following the path above allows you to cut off the trees from shortest to tallest in 6 steps.\n",
    "\n",
    "**Example 2:**\n",
    "\n",
    "\n",
    "Input: forest = [[1,2,3],[0,0,0],[7,6,5]]\n",
    "\n",
    "Output: -1\n",
    "Explanation: The trees in the bottom row cannot be accessed as the middle row is blocked.\n",
    "\n",
    "**Example 3:**\n",
    "\n",
    "Input: forest = [[2,3,4],[0,0,5],[8,7,6]]\n",
    "\n",
    "Output: 6\n",
    "Explanation: You can follow the same path as Example 1 to cut off all the trees.\n",
    "Note that you can cut off the first tree at (0, 0) before making any steps.\n",
    " \n",
    "\n",
    "**Constraints:**\n",
    "\n",
    "- m == forest.length\n",
    "- n == forest[i].length\n",
    "- 1 <= m, n <= 50\n",
    "- 0 <= forest[i][j] <= 109\n",
    "- Heights of all trees are distinct."
   ]
  },
  {
   "cell_type": "code",
   "execution_count": 1,
   "id": "c06dfa5e",
   "metadata": {},
   "outputs": [
    {
     "name": "stdout",
     "output_type": "stream",
     "text": [
      "6\n"
     ]
    }
   ],
   "source": [
    "import heapq\n",
    "from typing import List\n",
    "\n",
    "def cutOffTree(forest: List[List[int]]) -> int:\n",
    "    # Helper function to calculate minimum steps between two points using BFS\n",
    "    def min_steps_bfs(start, end):\n",
    "        directions = [(1, 0), (-1, 0), (0, 1), (0, -1)]\n",
    "        queue = [(0, start)]\n",
    "        visited = set()\n",
    "        \n",
    "        while queue:\n",
    "            steps, curr = heapq.heappop(queue)\n",
    "            if curr == end:\n",
    "                return steps\n",
    "            if curr in visited:\n",
    "                continue\n",
    "            visited.add(curr)\n",
    "            for dx, dy in directions:\n",
    "                x, y = curr[0] + dx, curr[1] + dy\n",
    "                if 0 <= x < m and 0 <= y < n and forest[x][y] != 0:\n",
    "                    heapq.heappush(queue, (steps + 1, (x, y)))\n",
    "        \n",
    "        return -1\n",
    "    \n",
    "    m, n = len(forest), len(forest[0])\n",
    "    trees = []\n",
    "    \n",
    "    # Create a list of trees with their positions and heights\n",
    "    for i in range(m):\n",
    "        for j in range(n):\n",
    "            if forest[i][j] > 1:\n",
    "                trees.append((forest[i][j], (i, j)))\n",
    "    \n",
    "    # Sort trees by height\n",
    "    trees.sort()\n",
    "    \n",
    "    start = (0, 0)\n",
    "    total_steps = 0\n",
    "    \n",
    "    for _, tree_pos in trees:\n",
    "        steps = min_steps_bfs(start, tree_pos)\n",
    "        if steps == -1:\n",
    "            return -1\n",
    "        total_steps += steps\n",
    "        start = tree_pos\n",
    "    \n",
    "    return total_steps\n",
    "\n",
    "# Example usage:\n",
    "forest = [[1, 2, 3], [0, 0, 4], [7, 6, 5]]\n",
    "print(cutOffTree(forest))  # Output: 6"
   ]
  },
  {
   "cell_type": "code",
   "execution_count": null,
   "id": "be2b9e57",
   "metadata": {},
   "outputs": [],
   "source": []
  }
 ],
 "metadata": {
  "kernelspec": {
   "display_name": "Python 3",
   "language": "python",
   "name": "python3"
  },
  "language_info": {
   "codemirror_mode": {
    "name": "ipython",
    "version": 3
   },
   "file_extension": ".py",
   "mimetype": "text/x-python",
   "name": "python",
   "nbconvert_exporter": "python",
   "pygments_lexer": "ipython3",
   "version": "3.9.13"
  }
 },
 "nbformat": 4,
 "nbformat_minor": 5
}
