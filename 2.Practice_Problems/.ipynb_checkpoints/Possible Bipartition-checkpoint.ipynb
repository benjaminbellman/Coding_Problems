{
 "cells": [
  {
   "cell_type": "markdown",
   "id": "37e32afd",
   "metadata": {},
   "source": [
    "# Possible Bipartition"
   ]
  },
  {
   "cell_type": "markdown",
   "id": "1dfc1a03",
   "metadata": {},
   "source": [
    "We want to split a group of n people (labeled from 1 to n) into two groups of any size. Each person may dislike some other people, and they should not go into the same group.\n",
    "\n",
    "Given the integer n and the array dislikes where dislikes[i] = [ai, bi] indicates that the person labeled ai does not like the person labeled bi, return true if it is possible to split everyone into two groups in this way.\n",
    "\n",
    "**Example 1:**\n",
    "\n",
    "Input: n = 4, dislikes = [[1,2],[1,3],[2,4]]\n",
    "Output: true\n",
    "Explanation: The first group has [1,4], and the second group has [2,3].\n",
    "\n",
    "**Example 2:**\n",
    "\n",
    "Input: n = 3, dislikes = [[1,2],[1,3],[2,3]]\n",
    "Output: false\n",
    "Explanation: We need at least 3 groups to divide them. We cannot put them in two groups.\n",
    " \n",
    "**Constraints:**\n",
    "\n",
    "- 1 <= n <= 2000\n",
    "- 0 <= dislikes.length <= 104\n",
    "- dislikes[i].length == 2\n",
    "- 1 <= ai < bi <= n\n",
    "- All the pairs of dislikes are unique."
   ]
  },
  {
   "cell_type": "code",
   "execution_count": 1,
   "id": "6c4d194a",
   "metadata": {},
   "outputs": [],
   "source": [
    "from collections import deque, defaultdict\n",
    "\n",
    "def possible_bipartition(n, dislikes):\n",
    "    # Create adjacency list for the graph\n",
    "    graph = defaultdict(list)\n",
    "    for a, b in dislikes:\n",
    "        graph[a].append(b)\n",
    "        graph[b].append(a)\n",
    "    \n",
    "    # Initialize color array. -1 means no color assigned yet.\n",
    "    color = [-1] * (n + 1)\n",
    "    \n",
    "    # Function to perform BFS\n",
    "    def bfs(start):\n",
    "        queue = deque([start])\n",
    "        color[start] = 0  # Start coloring with 0\n",
    "        while queue:\n",
    "            node = queue.popleft()\n",
    "            current_color = color[node]\n",
    "            next_color = 1 - current_color  # Toggle between 0 and 1\n",
    "            for neighbor in graph[node]:\n",
    "                if color[neighbor] == -1:\n",
    "                    # Color the neighbor with the opposite color\n",
    "                    color[neighbor] = next_color\n",
    "                    queue.append(neighbor)\n",
    "                elif color[neighbor] == current_color:\n",
    "                    # If the neighbor has the same color, it's not bipartite\n",
    "                    return False\n",
    "        return True\n",
    "    \n",
    "    # Perform BFS for each component\n",
    "    for person in range(1, n + 1):\n",
    "        if color[person] == -1:  # Not colored yet\n",
    "            if not bfs(person):\n",
    "                return False\n",
    "    \n",
    "    return True"
   ]
  },
  {
   "cell_type": "code",
   "execution_count": null,
   "id": "1c484da9",
   "metadata": {},
   "outputs": [],
   "source": []
  }
 ],
 "metadata": {
  "kernelspec": {
   "display_name": "Python 3 (ipykernel)",
   "language": "python",
   "name": "python3"
  },
  "language_info": {
   "codemirror_mode": {
    "name": "ipython",
    "version": 3
   },
   "file_extension": ".py",
   "mimetype": "text/x-python",
   "name": "python",
   "nbconvert_exporter": "python",
   "pygments_lexer": "ipython3",
   "version": "3.8.11"
  }
 },
 "nbformat": 4,
 "nbformat_minor": 5
}
