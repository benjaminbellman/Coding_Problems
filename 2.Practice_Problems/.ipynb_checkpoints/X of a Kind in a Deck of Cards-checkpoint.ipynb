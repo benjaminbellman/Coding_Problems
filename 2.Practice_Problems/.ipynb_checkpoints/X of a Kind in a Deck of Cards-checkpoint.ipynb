{
 "cells": [
  {
   "cell_type": "markdown",
   "id": "f003fbf5",
   "metadata": {},
   "source": [
    "# X of a Kind in a Deck of Cards"
   ]
  },
  {
   "cell_type": "markdown",
   "id": "07ec6dfb",
   "metadata": {},
   "source": [
    "You are given an integer array deck where deck[i] represents the number written on the ith card.\n",
    "\n",
    "Partition the cards into one or more groups such that:\n",
    "\n",
    "Each group has exactly x cards where x > 1, and\n",
    "All the cards in one group have the same integer written on them.\n",
    "Return true if such partition is possible, or false otherwise.\n",
    "\n",
    "**Example 1:**\n",
    "\n",
    "Input: deck = [1,2,3,4,4,3,2,1]\n",
    "Output: true\n",
    "Explanation: Possible partition [1,1],[2,2],[3,3],[4,4].\n",
    "\n",
    "**Example 2:**\n",
    "\n",
    "Input: deck = [1,1,1,2,2,2,3,3]\n",
    "Output: false\n",
    "Explanation: No possible partition.\n",
    " \n",
    "**Constraints:**\n",
    "\n",
    "- 1 <= deck.length <= 104\n",
    "- 0 <= deck[i] < 104"
   ]
  },
  {
   "cell_type": "code",
   "execution_count": 1,
   "id": "ea6bc0f9",
   "metadata": {},
   "outputs": [],
   "source": [
    "from collections import Counter\n",
    "from math import gcd\n",
    "from functools import reduce\n",
    "\n",
    "def hasGroupsSizeX(deck):\n",
    "    # Step 1: Count frequencies of each card number\n",
    "    count = Counter(deck)\n",
    "    \n",
    "    # Step 2: Find the GCD of all frequency counts\n",
    "    freq_values = list(count.values())\n",
    "    overall_gcd = reduce(gcd, freq_values)\n",
    "    \n",
    "    # Step 3: Check if the GCD is greater than 1\n",
    "    return overall_gcd > 1"
   ]
  },
  {
   "cell_type": "code",
   "execution_count": null,
   "id": "145e9e38",
   "metadata": {},
   "outputs": [],
   "source": []
  }
 ],
 "metadata": {
  "kernelspec": {
   "display_name": "Python 3 (ipykernel)",
   "language": "python",
   "name": "python3"
  },
  "language_info": {
   "codemirror_mode": {
    "name": "ipython",
    "version": 3
   },
   "file_extension": ".py",
   "mimetype": "text/x-python",
   "name": "python",
   "nbconvert_exporter": "python",
   "pygments_lexer": "ipython3",
   "version": "3.8.11"
  }
 },
 "nbformat": 4,
 "nbformat_minor": 5
}
