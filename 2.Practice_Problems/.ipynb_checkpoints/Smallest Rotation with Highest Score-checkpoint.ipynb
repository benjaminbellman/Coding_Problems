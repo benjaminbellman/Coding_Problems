{
 "cells": [
  {
   "cell_type": "markdown",
   "id": "31f5caed",
   "metadata": {},
   "source": [
    "# Smallest Rotation with Highest Score"
   ]
  },
  {
   "cell_type": "markdown",
   "id": "d845c725",
   "metadata": {},
   "source": [
    "You are given an array nums. You can rotate it by a non-negative integer k so that the array becomes [nums[k], nums[k + 1], ... nums[nums.length - 1], nums[0], nums[1], ..., nums[k-1]]. Afterward, any entries that are less than or equal to their index are worth one point.\n",
    "\n",
    "For example, if we have nums = [2,4,1,3,0], and we rotate by k = 2, it becomes [1,3,0,2,4]. This is worth 3 points because 1 > 0 [no points], 3 > 1 [no points], 0 <= 2 [one point], 2 <= 3 [one point], 4 <= 4 [one point].\n",
    "Return the rotation index k that corresponds to the highest score we can achieve if we rotated nums by it. If there are multiple answers, return the smallest such index k.\n",
    "\n",
    " \n",
    "\n",
    "**Example 1:**\n",
    "\n",
    "Input: nums = [2,3,1,4,0]\n",
    "\n",
    "Output: 3\n",
    "Explanation: Scores for each k are listed below: \n",
    "k = 0,  nums = [2,3,1,4,0],    score 2\n",
    "k = 1,  nums = [3,1,4,0,2],    score 3\n",
    "k = 2,  nums = [1,4,0,2,3],    score 3\n",
    "k = 3,  nums = [4,0,2,3,1],    score 4\n",
    "k = 4,  nums = [0,2,3,1,4],    score 3\n",
    "So we should choose k = 3, which has the highest score.\n",
    "\n",
    "**Example 2:**\n",
    "\n",
    "Input: nums = [1,3,0,2,4]\n",
    "\n",
    "Output: 0\n",
    "Explanation: nums will always have 3 points no matter how it shifts.\n",
    "So we will choose the smallest k, which is 0.\n",
    " \n",
    "\n",
    "**Constraints:**\n",
    "\n",
    "- 1 <= nums.length <= 105\n",
    "- 0 <= nums[i] < nums.length"
   ]
  },
  {
   "cell_type": "code",
   "execution_count": 1,
   "id": "4f5ae2d0",
   "metadata": {},
   "outputs": [
    {
     "name": "stdout",
     "output_type": "stream",
     "text": [
      "3\n",
      "0\n"
     ]
    }
   ],
   "source": [
    "def max_rotation_index(nums):\n",
    "    max_score = 0\n",
    "    rotation_index = 0\n",
    "    \n",
    "    for k in range(len(nums)):\n",
    "        score = sum(1 for i, num in enumerate(nums[k:] + nums[:k]) if num <= i)\n",
    "        if score > max_score:\n",
    "            max_score = score\n",
    "            rotation_index = k\n",
    "    \n",
    "    return rotation_index\n",
    "\n",
    "# Example usage:\n",
    "nums1 = [2, 3, 1, 4, 0]\n",
    "nums2 = [1, 3, 0, 2, 4]\n",
    "print(max_rotation_index(nums1))  # Output: 3\n",
    "print(max_rotation_index(nums2))  # Output: 0"
   ]
  },
  {
   "cell_type": "code",
   "execution_count": null,
   "id": "499c1c82",
   "metadata": {},
   "outputs": [],
   "source": []
  }
 ],
 "metadata": {
  "kernelspec": {
   "display_name": "Python 3",
   "language": "python",
   "name": "python3"
  },
  "language_info": {
   "codemirror_mode": {
    "name": "ipython",
    "version": 3
   },
   "file_extension": ".py",
   "mimetype": "text/x-python",
   "name": "python",
   "nbconvert_exporter": "python",
   "pygments_lexer": "ipython3",
   "version": "3.9.13"
  }
 },
 "nbformat": 4,
 "nbformat_minor": 5
}
