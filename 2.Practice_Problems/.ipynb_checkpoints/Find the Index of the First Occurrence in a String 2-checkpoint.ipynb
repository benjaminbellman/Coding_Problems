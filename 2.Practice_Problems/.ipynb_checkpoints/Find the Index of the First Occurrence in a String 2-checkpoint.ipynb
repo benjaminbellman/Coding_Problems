{
 "cells": [
  {
   "cell_type": "markdown",
   "id": "e5c09205",
   "metadata": {},
   "source": [
    "# Find the Index of the First Occurrence in a String"
   ]
  },
  {
   "cell_type": "markdown",
   "id": "8ec264ba",
   "metadata": {},
   "source": [
    "Given two strings needle and haystack, return the index of the first occurrence of needle in haystack, or -1 if needle is not part of haystack.\n",
    "\n",
    "**Example 1:**\n",
    "\n",
    "Input: haystack = \"sadbutsad\", needle = \"sad\"\n",
    "Output: 0\n",
    "Explanation: \"sad\" occurs at index 0 and 6.\n",
    "The first occurrence is at index 0, so we return 0.\n",
    "\n",
    "**Example 2:**\n",
    "\n",
    "Input: haystack = \"leetcode\", needle = \"leeto\"\n",
    "Output: -1\n",
    "Explanation: \"leeto\" did not occur in \"leetcode\", so we return -1.\n",
    " \n",
    "**Constraints:**\n",
    "\n",
    "- 1 <= haystack.length, needle.length <= 104\n",
    "- haystack and needle consist of only lowercase English characters."
   ]
  },
  {
   "cell_type": "code",
   "execution_count": 1,
   "id": "0b93cccb",
   "metadata": {},
   "outputs": [],
   "source": [
    "def strStr(haystack: str, needle: str) -> int:\n",
    "    return haystack.find(needle)"
   ]
  },
  {
   "cell_type": "code",
   "execution_count": 2,
   "id": "c0c75147",
   "metadata": {},
   "outputs": [
    {
     "name": "stdout",
     "output_type": "stream",
     "text": [
      "0\n",
      "-1\n"
     ]
    }
   ],
   "source": [
    "print(strStr(\"sadbutsad\", \"sad\"))     # Output: 0\n",
    "print(strStr(\"leetcode\", \"leeto\"))    # Output: -1"
   ]
  },
  {
   "cell_type": "code",
   "execution_count": null,
   "id": "def4742c",
   "metadata": {},
   "outputs": [],
   "source": []
  }
 ],
 "metadata": {
  "kernelspec": {
   "display_name": "Python 3 (ipykernel)",
   "language": "python",
   "name": "python3"
  },
  "language_info": {
   "codemirror_mode": {
    "name": "ipython",
    "version": 3
   },
   "file_extension": ".py",
   "mimetype": "text/x-python",
   "name": "python",
   "nbconvert_exporter": "python",
   "pygments_lexer": "ipython3",
   "version": "3.8.11"
  }
 },
 "nbformat": 4,
 "nbformat_minor": 5
}
