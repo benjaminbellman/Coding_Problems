{
 "cells": [
  {
   "cell_type": "markdown",
   "id": "23d48186",
   "metadata": {},
   "source": [
    "# Degree of an Array"
   ]
  },
  {
   "cell_type": "markdown",
   "id": "b7efaa1e",
   "metadata": {},
   "source": [
    "Given a non-empty array of non-negative integers nums, the degree of this array is defined as the maximum frequency of any one of its elements.\n",
    "\n",
    "Your task is to find the smallest possible length of a (contiguous) subarray of nums, that has the same degree as nums.\n",
    "\n",
    " \n",
    "\n",
    "**Example 1:**\n",
    "\n",
    "Input: nums = [1,2,2,3,1]\n",
    "\n",
    "Output: 2\n",
    "Explanation: \n",
    "The input array has a degree of 2 because both elements 1 and 2 appear twice.\n",
    "Of the subarrays that have the same degree:\n",
    "[1, 2, 2, 3, 1], [1, 2, 2, 3], [2, 2, 3, 1], [1, 2, 2], [2, 2, 3], [2, 2]\n",
    "The shortest length is 2. So return 2.\n",
    "\n",
    "**Example 2:**\n",
    "\n",
    "Input: nums = [1,2,2,3,1,4,2]\n",
    "\n",
    "Output: 6\n",
    "Explanation: \n",
    "The degree is 3 because the element 2 is repeated 3 times.\n",
    "So [2,2,3,1,4,2] is the shortest subarray, therefore returning 6.\n",
    " \n",
    "\n",
    "**Constraints:**\n",
    "\n",
    "- nums.length will be between 1 and 50,000.\n",
    "- nums[i] will be an integer between 0 and 49,999."
   ]
  },
  {
   "cell_type": "code",
   "execution_count": 1,
   "id": "29cfb407",
   "metadata": {},
   "outputs": [
    {
     "name": "stdout",
     "output_type": "stream",
     "text": [
      "2\n",
      "6\n"
     ]
    }
   ],
   "source": [
    "def findShortestSubarray(nums):\n",
    "    first_occurrence = {}\n",
    "    last_occurrence = {}\n",
    "    frequency = {}\n",
    "\n",
    "    for i, num in enumerate(nums):\n",
    "        if num not in first_occurrence:\n",
    "            first_occurrence[num] = i\n",
    "        last_occurrence[num] = i\n",
    "        frequency[num] = frequency.get(num, 0) + 1\n",
    "\n",
    "    max_degree = max(frequency.values())\n",
    "    min_length = len(nums)\n",
    "\n",
    "    for num, freq in frequency.items():\n",
    "        if freq == max_degree:\n",
    "            min_length = min(min_length, last_occurrence[num] - first_occurrence[num] + 1)\n",
    "\n",
    "    return min_length\n",
    "\n",
    "# Test cases\n",
    "nums1 = [1,2,2,3,1]\n",
    "nums2 = [1,2,2,3,1,4,2]\n",
    "\n",
    "print(findShortestSubarray(nums1))  # Output: 2\n",
    "print(findShortestSubarray(nums2))  # Output: 6"
   ]
  },
  {
   "cell_type": "code",
   "execution_count": null,
   "id": "e19bae20",
   "metadata": {},
   "outputs": [],
   "source": []
  }
 ],
 "metadata": {
  "kernelspec": {
   "display_name": "Python 3",
   "language": "python",
   "name": "python3"
  },
  "language_info": {
   "codemirror_mode": {
    "name": "ipython",
    "version": 3
   },
   "file_extension": ".py",
   "mimetype": "text/x-python",
   "name": "python",
   "nbconvert_exporter": "python",
   "pygments_lexer": "ipython3",
   "version": "3.9.13"
  }
 },
 "nbformat": 4,
 "nbformat_minor": 5
}
