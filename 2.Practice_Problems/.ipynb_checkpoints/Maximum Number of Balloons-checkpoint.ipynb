{
 "cells": [
  {
   "cell_type": "markdown",
   "id": "dfdfc557",
   "metadata": {},
   "source": [
    "# Maximum Number of Balloons"
   ]
  },
  {
   "cell_type": "markdown",
   "id": "372f8b44",
   "metadata": {},
   "source": [
    "Given a string text, you want to use the characters of text to form as many instances of the word \"balloon\" as possible.\n",
    "\n",
    "You can use each character in text at most once. Return the maximum number of instances that can be formed.\n",
    "\n",
    "**Example 1:**\n",
    "\n",
    "Input: text = \"nlaebolko\"\n",
    "Output: 1\n",
    "\n",
    "**Example 2:**\n",
    "\n",
    "Input: text = \"loonbalxballpoon\"\n",
    "Output: 2\n",
    "\n",
    "**Example 3:**\n",
    "\n",
    "Input: text = \"leetcode\"\n",
    "Output: 0\n",
    " \n",
    "**Constraints:**\n",
    "\n",
    "- 1 <= text.length <= 104\n",
    "- text consists of lower case English letters only."
   ]
  },
  {
   "cell_type": "code",
   "execution_count": 1,
   "id": "4863812f",
   "metadata": {},
   "outputs": [
    {
     "name": "stdout",
     "output_type": "stream",
     "text": [
      "1\n",
      "2\n",
      "0\n"
     ]
    }
   ],
   "source": [
    "from collections import Counter\n",
    "\n",
    "def maxNumberOfBalloons(text: str) -> int:\n",
    "    # Count the frequency of each letter in the input text\n",
    "    freq = Counter(text)\n",
    "    \n",
    "    # Calculate the possible full words \"balloon\" we can form\n",
    "    return min(freq['b'], freq['a'], freq['l'] // 2, freq['o'] // 2, freq['n'])\n",
    "\n",
    "# Example test cases\n",
    "print(maxNumberOfBalloons(\"nlaebolko\"))  # Output: 1\n",
    "print(maxNumberOfBalloons(\"loonbalxballpoon\"))  # Output: 2\n",
    "print(maxNumberOfBalloons(\"leetcode\"))  # Output: 0"
   ]
  },
  {
   "cell_type": "code",
   "execution_count": null,
   "id": "85a751dd",
   "metadata": {},
   "outputs": [],
   "source": []
  }
 ],
 "metadata": {
  "kernelspec": {
   "display_name": "Python 3 (ipykernel)",
   "language": "python",
   "name": "python3"
  },
  "language_info": {
   "codemirror_mode": {
    "name": "ipython",
    "version": 3
   },
   "file_extension": ".py",
   "mimetype": "text/x-python",
   "name": "python",
   "nbconvert_exporter": "python",
   "pygments_lexer": "ipython3",
   "version": "3.8.11"
  }
 },
 "nbformat": 4,
 "nbformat_minor": 5
}
