{
 "cells": [
  {
   "cell_type": "markdown",
   "id": "80fb0f9a",
   "metadata": {},
   "source": [
    "# K-Concatenation Maximum Sum"
   ]
  },
  {
   "cell_type": "markdown",
   "id": "b1d8c7ee",
   "metadata": {},
   "source": [
    "Given an integer array arr and an integer k, modify the array by repeating it k times.\n",
    "\n",
    "For example, if arr = [1, 2] and k = 3 then the modified array will be [1, 2, 1, 2, 1, 2].\n",
    "\n",
    "Return the maximum sub-array sum in the modified array. Note that the length of the sub-array can be 0 and its sum in that case is 0.\n",
    "\n",
    "As the answer can be very large, return the answer modulo 109 + 7.\n",
    "\n",
    "**Example 1:**\n",
    "\n",
    "Input: arr = [1,2], k = 3\n",
    "Output: 9\n",
    "\n",
    "**Example 2:**\n",
    "\n",
    "Input: arr = [1,-2,1], k = 5\n",
    "Output: 2\n",
    "\n",
    "**Example 3:**\n",
    "\n",
    "Input: arr = [-1,-2], k = 7\n",
    "Output: 0\n",
    " \n",
    "**Constraints:**\n",
    "\n",
    "- 1 <= arr.length <= 105\n",
    "- 1 <= k <= 105\n",
    "- -104 <= arr[i] <= 104"
   ]
  },
  {
   "cell_type": "code",
   "execution_count": 1,
   "id": "334c45bc",
   "metadata": {},
   "outputs": [],
   "source": [
    "def max_subarray_sum_k_concat(arr, k):\n",
    "    MOD = 10**9 + 7\n",
    "    \n",
    "    def kadane(a):\n",
    "        max_ending_here = max_so_far = 0\n",
    "        for x in a:\n",
    "            max_ending_here = max(0, max_ending_here + x)\n",
    "            max_so_far = max(max_so_far, max_ending_here)\n",
    "        return max_so_far\n",
    "\n",
    "    max_kadane = kadane(arr)\n",
    "    total_sum = sum(arr)\n",
    "    \n",
    "    # Max prefix sum\n",
    "    prefix_sum = curr = 0\n",
    "    for num in arr:\n",
    "        curr += num\n",
    "        prefix_sum = max(prefix_sum, curr)\n",
    "    \n",
    "    # Max suffix sum\n",
    "    suffix_sum = curr = 0\n",
    "    for num in reversed(arr):\n",
    "        curr += num\n",
    "        suffix_sum = max(suffix_sum, curr)\n",
    "\n",
    "    if k == 1:\n",
    "        return max_kadane % MOD\n",
    "\n",
    "    if total_sum <= 0:\n",
    "        return max(prefix_sum + suffix_sum, max_kadane) % MOD\n",
    "    else:\n",
    "        return (prefix_sum + suffix_sum + (k - 2) * total_sum) % MOD"
   ]
  },
  {
   "cell_type": "code",
   "execution_count": 2,
   "id": "1acf6dd4",
   "metadata": {},
   "outputs": [],
   "source": [
    "arr = [1, -2, 1]\n",
    "k = 5"
   ]
  },
  {
   "cell_type": "code",
   "execution_count": null,
   "id": "d3e7ba1c",
   "metadata": {},
   "outputs": [],
   "source": []
  }
 ],
 "metadata": {
  "kernelspec": {
   "display_name": "Python 3 (ipykernel)",
   "language": "python",
   "name": "python3"
  },
  "language_info": {
   "codemirror_mode": {
    "name": "ipython",
    "version": 3
   },
   "file_extension": ".py",
   "mimetype": "text/x-python",
   "name": "python",
   "nbconvert_exporter": "python",
   "pygments_lexer": "ipython3",
   "version": "3.8.11"
  }
 },
 "nbformat": 4,
 "nbformat_minor": 5
}
