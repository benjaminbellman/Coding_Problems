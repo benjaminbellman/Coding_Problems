{
 "cells": [
  {
   "cell_type": "markdown",
   "id": "b862b4f2",
   "metadata": {},
   "source": [
    "# Minimum Number of Refueling Stops"
   ]
  },
  {
   "cell_type": "markdown",
   "id": "cfaa3a45",
   "metadata": {},
   "source": [
    "A car travels from a starting position to a destination which is target miles east of the starting position.\n",
    "\n",
    "There are gas stations along the way. The gas stations are represented as an array stations where stations[i] = [positioni, fueli] indicates that the ith gas station is positioni miles east of the starting position and has fueli liters of gas.\n",
    "\n",
    "The car starts with an infinite tank of gas, which initially has startFuel liters of fuel in it. It uses one liter of gas per one mile that it drives. When the car reaches a gas station, it may stop and refuel, transferring all the gas from the station into the car.\n",
    "\n",
    "Return the minimum number of refueling stops the car must make in order to reach its destination. If it cannot reach the destination, return -1.\n",
    "\n",
    "Note that if the car reaches a gas station with 0 fuel left, the car can still refuel there. If the car reaches the destination with 0 fuel left, it is still considered to have arrived.\n",
    "\n",
    "**Example 1:**\n",
    "\n",
    "Input: target = 1, startFuel = 1, stations = []\n",
    "Output: 0\n",
    "Explanation: We can reach the target without refueling.\n",
    "\n",
    "**Example 2:**\n",
    "\n",
    "Input: target = 100, startFuel = 1, stations = [[10,100]]\n",
    "Output: -1\n",
    "Explanation: We can not reach the target (or even the first gas station).\n",
    "\n",
    "**Example 3:**\n",
    "\n",
    "Input: target = 100, startFuel = 10, stations = [[10,60],[20,30],[30,30],[60,40]]\n",
    "Output: 2\n",
    "Explanation: We start with 10 liters of fuel.\n",
    "We drive to position 10, expending 10 liters of fuel.  We refuel from 0 liters to 60 liters of gas.\n",
    "Then, we drive from position 10 to position 60 (expending 50 liters of fuel),\n",
    "and refuel from 10 liters to 50 liters of gas.  We then drive to and reach the target.\n",
    "We made 2 refueling stops along the way, so we return 2.\n",
    " \n",
    "**Constraints:**\n",
    "\n",
    "- 1 <= target, startFuel <= 109\n",
    "- 0 <= stations.length <= 500\n",
    "- 1 <= positioni < positioni+1 < target\n",
    "- 1 <= fueli < 109"
   ]
  },
  {
   "cell_type": "code",
   "execution_count": 1,
   "id": "214b7e9b",
   "metadata": {},
   "outputs": [],
   "source": [
    "import heapq\n",
    "\n",
    "def minRefuelStops(target, startFuel, stations):\n",
    "    # Add the target as a gas station with 0 fuel at the end to simplify processing\n",
    "    stations.append([target, 0])\n",
    "    \n",
    "    # Max-heap (priority queue) to store fuel at gas stations we passed by\n",
    "    max_heap = []\n",
    "    \n",
    "    currentFuel = startFuel\n",
    "    currentPosition = 0\n",
    "    stops = 0\n",
    "    \n",
    "    for position, fuel in stations:\n",
    "        # Calculate the fuel needed to reach the next station\n",
    "        distance = position - currentPosition\n",
    "        \n",
    "        # Use fuel from the max-heap to cover the distance if needed\n",
    "        while currentFuel < distance:\n",
    "            if not max_heap:\n",
    "                return -1\n",
    "            # Refuel at the station with the maximum fuel we passed by\n",
    "            currentFuel -= heapq.heappop(max_heap)\n",
    "            stops += 1\n",
    "        \n",
    "        # Update the current position and fuel\n",
    "        currentFuel -= distance\n",
    "        currentPosition = position\n",
    "        \n",
    "        # Add the fuel from the current gas station to the max-heap\n",
    "        heapq.heappush(max_heap, -fuel)\n",
    "    \n",
    "    return stops"
   ]
  },
  {
   "cell_type": "code",
   "execution_count": null,
   "id": "21089925",
   "metadata": {},
   "outputs": [],
   "source": []
  }
 ],
 "metadata": {
  "kernelspec": {
   "display_name": "Python 3 (ipykernel)",
   "language": "python",
   "name": "python3"
  },
  "language_info": {
   "codemirror_mode": {
    "name": "ipython",
    "version": 3
   },
   "file_extension": ".py",
   "mimetype": "text/x-python",
   "name": "python",
   "nbconvert_exporter": "python",
   "pygments_lexer": "ipython3",
   "version": "3.8.11"
  }
 },
 "nbformat": 4,
 "nbformat_minor": 5
}
