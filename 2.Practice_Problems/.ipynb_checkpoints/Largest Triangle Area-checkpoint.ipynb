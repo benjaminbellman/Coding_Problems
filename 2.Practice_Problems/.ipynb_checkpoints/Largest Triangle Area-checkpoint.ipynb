{
 "cells": [
  {
   "cell_type": "markdown",
   "id": "2e9a4db4",
   "metadata": {},
   "source": [
    "# Largest Triangle Area"
   ]
  },
  {
   "attachments": {
    "image.png": {
     "image/png": "[encoded data removed]"
    }
   },
   "cell_type": "markdown",
   "id": "fd916e19",
   "metadata": {},
   "source": [
    "Given an array of points on the X-Y plane points where points[i] = [xi, yi], return the area of the largest triangle that can be formed by any three different points. Answers within 10-5 of the actual answer will be accepted.\n",
    "\n",
    " \n",
    "\n",
    "**Example 1:**\n",
    "\n",
    "![image.png](attachment:image.png)\n",
    "Input: points = [[0,0],[0,1],[1,0],[0,2],[2,0]]\n",
    "Output: 2.00000\n",
    "Explanation: The five points are shown in the above figure. The red triangle is the largest.\n",
    "\n",
    "**Example 2:**\n",
    "\n",
    "Input: points = [[1,0],[0,0],[0,1]]\n",
    "Output: 0.50000\n",
    " \n",
    "\n",
    "**Constraints:**\n",
    "\n",
    "- 3 <= points.length <= 50\n",
    "- -50 <= xi, yi <= 50\n",
    "- All the given points are unique."
   ]
  },
  {
   "cell_type": "code",
   "execution_count": 1,
   "id": "7c16e95b",
   "metadata": {},
   "outputs": [],
   "source": [
    "def largestTriangleArea(points):\n",
    "    def area(x1, y1, x2, y2, x3, y3):\n",
    "        return abs((x1*(y2-y3) + x2*(y3-y1) + x3*(y1-y2)) / 2)\n",
    "\n",
    "    max_area = 0\n",
    "    n = len(points)\n",
    "    for i in range(n):\n",
    "        for j in range(i + 1, n):\n",
    "            for k in range(j + 1, n):\n",
    "                x1, y1 = points[i]\n",
    "                x2, y2 = points[j]\n",
    "                x3, y3 = points[k]\n",
    "                max_area = max(max_area, area(x1, y1, x2, y2, x3, y3))\n",
    "\n",
    "    return max_area"
   ]
  },
  {
   "cell_type": "code",
   "execution_count": 2,
   "id": "20b0f254",
   "metadata": {},
   "outputs": [
    {
     "name": "stdout",
     "output_type": "stream",
     "text": [
      "2.0\n",
      "0.5\n"
     ]
    }
   ],
   "source": [
    "points1 = [[0,0],[0,1],[1,0],[0,2],[2,0]]\n",
    "print(largestTriangleArea(points1))  # Output: 2.0\n",
    "\n",
    "points2 = [[1,0],[0,0],[0,1]]\n",
    "print(largestTriangleArea(points2))  # Output: 0.5"
   ]
  },
  {
   "cell_type": "code",
   "execution_count": null,
   "id": "cb1da239",
   "metadata": {},
   "outputs": [],
   "source": []
  }
 ],
 "metadata": {
  "kernelspec": {
   "display_name": "Python 3",
   "language": "python",
   "name": "python3"
  },
  "language_info": {
   "codemirror_mode": {
    "name": "ipython",
    "version": 3
   },
   "file_extension": ".py",
   "mimetype": "text/x-python",
   "name": "python",
   "nbconvert_exporter": "python",
   "pygments_lexer": "ipython3",
   "version": "3.9.13"
  }
 },
 "nbformat": 4,
 "nbformat_minor": 5
}
