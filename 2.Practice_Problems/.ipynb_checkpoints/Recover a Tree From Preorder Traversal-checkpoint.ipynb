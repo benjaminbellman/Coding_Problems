{
 "cells": [
  {
   "cell_type": "markdown",
   "id": "17f84d21",
   "metadata": {},
   "source": [
    "# Recover a Tree From Preorder Traversal"
   ]
  },
  {
   "cell_type": "markdown",
   "id": "fda81490",
   "metadata": {},
   "source": [
    "We run a preorder depth-first search (DFS) on the root of a binary tree.\n",
    "\n",
    "At each node in this traversal, we output D dashes (where D is the depth of this node), then we output the value of this node.  If the depth of a node is D, the depth of its immediate child is D + 1.  The depth of the root node is 0.\n",
    "\n",
    "If a node has only one child, that child is guaranteed to be the left child.\n",
    "\n",
    "Given the output traversal of this traversal, recover the tree and return its root.\n",
    "\n",
    "**Example 1:**\n",
    "\n",
    "Input: traversal = \"1-2--3--4-5--6--7\"\n",
    "Output: [1,2,5,3,4,6,7]\n",
    "\n",
    "**Example 2:**\n",
    "\n",
    "Input: traversal = \"1-2--3---4-5--6---7\"\n",
    "Output: [1,2,5,3,null,6,null,4,null,7]\n",
    "\n",
    "**Example 3:**\n",
    "\n",
    "Input: traversal = \"1-401--349---90--88\"\n",
    "Output: [1,401,null,349,88,90]\n",
    " \n",
    "**Constraints:**\n",
    "\n",
    "- The number of nodes in the original tree is in the range [1, 1000].\n",
    "- 1 <= Node.val <= 109"
   ]
  },
  {
   "cell_type": "code",
   "execution_count": 1,
   "id": "f492f3e4",
   "metadata": {},
   "outputs": [
    {
     "name": "stdout",
     "output_type": "stream",
     "text": [
      "[1, 2, 5, 3, 4, 6, 7]\n",
      "[1, 2, 5, 3, None, 6, None, 4, None, 7]\n",
      "[1, 401, None, 349, 88, 90]\n"
     ]
    }
   ],
   "source": [
    "class TreeNode:\n",
    "    def __init__(self, val=0, left=None, right=None):\n",
    "        self.val = val\n",
    "        self.left = left\n",
    "        self.right = right\n",
    "\n",
    "def recoverFromPreorder(traversal: str) -> TreeNode:\n",
    "    stack = []\n",
    "    i = 0\n",
    "    while i < len(traversal):\n",
    "        level = 0\n",
    "        # Count the dashes to determine the depth\n",
    "        while i < len(traversal) and traversal[i] == '-':\n",
    "            level += 1\n",
    "            i += 1\n",
    "        \n",
    "        # Read the number (node value)\n",
    "        value = 0\n",
    "        while i < len(traversal) and traversal[i].isdigit():\n",
    "            value = value * 10 + int(traversal[i])\n",
    "            i += 1\n",
    "        \n",
    "        node = TreeNode(value)\n",
    "        # Adjust the stack to find the parent\n",
    "        while len(stack) > level:\n",
    "            stack.pop()\n",
    "        \n",
    "        # Attach the node to its parent\n",
    "        if stack:\n",
    "            if not stack[-1].left:\n",
    "                stack[-1].left = node\n",
    "            else:\n",
    "                stack[-1].right = node\n",
    "        \n",
    "        # Add the current node to the stack\n",
    "        stack.append(node)\n",
    "    \n",
    "    return stack[0]  # The root of the tree\n",
    "\n",
    "# Example usage:\n",
    "traversal1 = \"1-2--3--4-5--6--7\"\n",
    "traversal2 = \"1-2--3---4-5--6---7\"\n",
    "traversal3 = \"1-401--349---90--88\"\n",
    "\n",
    "root1 = recoverFromPreorder(traversal1)\n",
    "root2 = recoverFromPreorder(traversal2)\n",
    "root3 = recoverFromPreorder(traversal3)\n",
    "\n",
    "# A helper function to convert the tree into a list format for validation\n",
    "def tree_to_list(root):\n",
    "    from collections import deque\n",
    "    if not root:\n",
    "        return []\n",
    "    result = []\n",
    "    queue = deque([root])\n",
    "    while queue:\n",
    "        node = queue.popleft()\n",
    "        if node:\n",
    "            result.append(node.val)\n",
    "            queue.append(node.left)\n",
    "            queue.append(node.right)\n",
    "        else:\n",
    "            result.append(None)\n",
    "    # Remove trailing None values\n",
    "    while result and result[-1] is None:\n",
    "        result.pop()\n",
    "    return result\n",
    "\n",
    "print(tree_to_list(root1))  # Output: [1, 2, 5, 3, 4, 6, 7]\n",
    "print(tree_to_list(root2))  # Output: [1, 2, 5, 3, None, 6, None, 4, None, 7]\n",
    "print(tree_to_list(root3))  # Output: [1, 401, None, 349, 88, 90]"
   ]
  },
  {
   "cell_type": "code",
   "execution_count": null,
   "id": "3420fe73",
   "metadata": {},
   "outputs": [],
   "source": []
  }
 ],
 "metadata": {
  "kernelspec": {
   "display_name": "Python 3 (ipykernel)",
   "language": "python",
   "name": "python3"
  },
  "language_info": {
   "codemirror_mode": {
    "name": "ipython",
    "version": 3
   },
   "file_extension": ".py",
   "mimetype": "text/x-python",
   "name": "python",
   "nbconvert_exporter": "python",
   "pygments_lexer": "ipython3",
   "version": "3.8.11"
  }
 },
 "nbformat": 4,
 "nbformat_minor": 5
}
