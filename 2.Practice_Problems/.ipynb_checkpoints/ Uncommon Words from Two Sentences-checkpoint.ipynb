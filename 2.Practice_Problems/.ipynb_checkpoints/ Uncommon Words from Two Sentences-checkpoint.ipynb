{
 "cells": [
  {
   "cell_type": "markdown",
   "id": "9dad0ed1",
   "metadata": {},
   "source": [
    "#  Uncommon Words from Two Sentences"
   ]
  },
  {
   "cell_type": "markdown",
   "id": "a6f6861f",
   "metadata": {},
   "source": [
    "A sentence is a string of single-space separated words where each word consists only of lowercase letters.\n",
    "\n",
    "A word is uncommon if it appears exactly once in one of the sentences, and does not appear in the other sentence.\n",
    "\n",
    "Given two sentences s1 and s2, return a list of all the uncommon words. You may return the answer in any order.\n",
    "\n",
    "**Example 1:**\n",
    "\n",
    "Input: s1 = \"this apple is sweet\", s2 = \"this apple is sour\"\n",
    "Output: [\"sweet\",\"sour\"]\n",
    "\n",
    "**Example 2:**\n",
    "\n",
    "Input: s1 = \"apple apple\", s2 = \"banana\"\n",
    "Output: [\"banana\"]\n",
    "\n",
    "**Constraints:**\n",
    "\n",
    "- 1 <= s1.length, s2.length <= 200\n",
    "- s1 and s2 consist of lowercase English letters and spaces.\n",
    "- s1 and s2 do not have leading or trailing spaces.\n",
    "- All the words in s1 and s2 are separated by a single space."
   ]
  },
  {
   "cell_type": "code",
   "execution_count": 1,
   "id": "36408425",
   "metadata": {},
   "outputs": [
    {
     "name": "stdout",
     "output_type": "stream",
     "text": [
      "['sweet', 'sour']\n",
      "['banana']\n"
     ]
    }
   ],
   "source": [
    "from collections import Counter\n",
    "\n",
    "def uncommonWords(s1, s2):\n",
    "    # Split sentences into words\n",
    "    words1 = s1.split()\n",
    "    words2 = s2.split()\n",
    "    \n",
    "    # Count occurrences of each word in both sentences\n",
    "    count1 = Counter(words1)\n",
    "    count2 = Counter(words2)\n",
    "    \n",
    "    # Find uncommon words in both sentences\n",
    "    uncommon = []\n",
    "    \n",
    "    # Words in s1 that are uncommon\n",
    "    for word in count1:\n",
    "        if count1[word] == 1 and word not in count2:\n",
    "            uncommon.append(word)\n",
    "    \n",
    "    # Words in s2 that are uncommon\n",
    "    for word in count2:\n",
    "        if count2[word] == 1 and word not in count1:\n",
    "            uncommon.append(word)\n",
    "    \n",
    "    return uncommon\n",
    "\n",
    "# Example usage\n",
    "s1 = \"this apple is sweet\"\n",
    "s2 = \"this apple is sour\"\n",
    "print(uncommonWords(s1, s2))  # Output: [\"sweet\", \"sour\"]\n",
    "\n",
    "s1 = \"apple apple\"\n",
    "s2 = \"banana\"\n",
    "print(uncommonWords(s1, s2))  # Output: [\"banana\"]"
   ]
  },
  {
   "cell_type": "code",
   "execution_count": null,
   "id": "ecc304c3",
   "metadata": {},
   "outputs": [],
   "source": []
  }
 ],
 "metadata": {
  "kernelspec": {
   "display_name": "Python 3 (ipykernel)",
   "language": "python",
   "name": "python3"
  },
  "language_info": {
   "codemirror_mode": {
    "name": "ipython",
    "version": 3
   },
   "file_extension": ".py",
   "mimetype": "text/x-python",
   "name": "python",
   "nbconvert_exporter": "python",
   "pygments_lexer": "ipython3",
   "version": "3.8.11"
  }
 },
 "nbformat": 4,
 "nbformat_minor": 5
}
