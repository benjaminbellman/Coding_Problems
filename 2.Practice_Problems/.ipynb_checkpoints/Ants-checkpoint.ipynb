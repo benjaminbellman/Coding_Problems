{
 "cells": [
  {
   "cell_type": "markdown",
   "metadata": {},
   "source": [
    "# Ants on a Triangle \n",
    "\n",
    "There are three ants on different vertices of a triangle. What is the probability of\n",
    "collision (between any two or all of them) if they start walking on the sides of the triangle? \n",
    "\n",
    "Assume that each ant randomly picks a direction, with either direction being equally likely to be chosen, and that they walk at the same speed.\n",
    "\n",
    "Similarly, find the probability of collision with n ants on an n-vertex polygon. "
   ]
  },
  {
   "cell_type": "code",
   "execution_count": 46,
   "metadata": {},
   "outputs": [
    {
     "name": "stdout",
     "output_type": "stream",
     "text": [
      "0.7536\n"
     ]
    }
   ],
   "source": [
    "## Ben Version\n",
    "\n",
    "import numpy as np\n",
    "\n",
    "scenario_outcomes = 0\n",
    "for i in range(0,10000):\n",
    "    outcomes = []\n",
    "    for i in range(0,3): \n",
    "        result = np.random.randint(0,2)\n",
    "        outcomes.append(int(result))\n",
    "    if sum(outcomes) != 0 and sum(outcomes) != 3:\n",
    "        scenario_outcomes += 1\n",
    "print(scenario_outcomes/10000)"
   ]
  },
  {
   "cell_type": "code",
   "execution_count": 49,
   "metadata": {},
   "outputs": [
    {
     "name": "stdout",
     "output_type": "stream",
     "text": [
      "0.746\n"
     ]
    }
   ],
   "source": [
    "## Lou Version\n",
    "\n",
    "import numpy as np\n",
    "\n",
    "num_simulations = 1000\n",
    "num_ants = 3\n",
    "\n",
    "def all_left(ant_directions):\n",
    "    to_left = [direction == 0 for direction in ant_directions]\n",
    "    return all(to_left)\n",
    "\n",
    "def all_right(ant_directions):\n",
    "    to_left = [direction == 1 for direction in ant_directions]\n",
    "    return all(to_left)\n",
    "\n",
    "count_collisions = 0\n",
    "for i in range(num_simulations):\n",
    "    ant_directions = []\n",
    "    for ant in range(num_ants):\n",
    "        # 0 means left, 1 means right\n",
    "        # each direction is chosen with equal likelihood\n",
    "        direction = np.random.randint(0,2)\n",
    "        ant_directions.append(direction)\n",
    "        \n",
    "    if all_left(ant_directions) or all_right(ant_directions):\n",
    "        continue\n",
    "    # if the ants don't all go in the same direction, they will collide\n",
    "    else:\n",
    "        count_collisions += 1\n",
    "\n",
    "print(count_collisions / num_simulations)"
   ]
  },
  {
   "cell_type": "code",
   "execution_count": null,
   "metadata": {},
   "outputs": [],
   "source": []
  }
 ],
 "metadata": {
  "kernelspec": {
   "display_name": "Python 3",
   "language": "python",
   "name": "python3"
  },
  "language_info": {
   "codemirror_mode": {
    "name": "ipython",
    "version": 3
   },
   "file_extension": ".py",
   "mimetype": "text/x-python",
   "name": "python",
   "nbconvert_exporter": "python",
   "pygments_lexer": "ipython3",
   "version": "3.8.3"
  }
 },
 "nbformat": 4,
 "nbformat_minor": 4
}
