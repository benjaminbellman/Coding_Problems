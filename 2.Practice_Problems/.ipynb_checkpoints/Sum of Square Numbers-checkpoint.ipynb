{
 "cells": [
  {
   "cell_type": "markdown",
   "id": "f179cf06",
   "metadata": {},
   "source": [
    "# Sum of Square Numbers"
   ]
  },
  {
   "cell_type": "markdown",
   "id": "eb66713b",
   "metadata": {},
   "source": [
    "Given a non-negative integer c, decide whether there're two integers a and b such that a2 + b2 = c.\n",
    "\n",
    " \n",
    "\n",
    "**Example 1:**\n",
    "\n",
    "Input: c = 5\n",
    "\n",
    "Output: true\n",
    "Explanation: 1 * 1 + 2 * 2 = 5\n",
    "\n",
    "**Example 2:**\n",
    "\n",
    "Input: c = 3\n",
    "\n",
    "Output: false\n",
    " \n",
    "\n",
    "**Constraints:**\n",
    "\n",
    "- 0 <= c <= 231 - 1"
   ]
  },
  {
   "cell_type": "code",
   "execution_count": 1,
   "id": "8e9116d6",
   "metadata": {},
   "outputs": [
    {
     "name": "stdout",
     "output_type": "stream",
     "text": [
      "True\n",
      "False\n"
     ]
    }
   ],
   "source": [
    "def judgeSquareSum(c):\n",
    "    left, right = 0, int(c**0.5)\n",
    "    \n",
    "    while left <= right:\n",
    "        current_sum = left**2 + right**2\n",
    "        if current_sum == c:\n",
    "            return True\n",
    "        elif current_sum < c:\n",
    "            left += 1\n",
    "        else:\n",
    "            right -= 1\n",
    "    \n",
    "    return False\n",
    "\n",
    "# Example usage:\n",
    "c1 = 5\n",
    "print(judgeSquareSum(c1))  # Output: True\n",
    "\n",
    "c2 = 3\n",
    "print(judgeSquareSum(c2))  # Output: False"
   ]
  },
  {
   "cell_type": "code",
   "execution_count": null,
   "id": "668ee62e",
   "metadata": {},
   "outputs": [],
   "source": []
  }
 ],
 "metadata": {
  "kernelspec": {
   "display_name": "Python 3",
   "language": "python",
   "name": "python3"
  },
  "language_info": {
   "codemirror_mode": {
    "name": "ipython",
    "version": 3
   },
   "file_extension": ".py",
   "mimetype": "text/x-python",
   "name": "python",
   "nbconvert_exporter": "python",
   "pygments_lexer": "ipython3",
   "version": "3.9.13"
  }
 },
 "nbformat": 4,
 "nbformat_minor": 5
}
