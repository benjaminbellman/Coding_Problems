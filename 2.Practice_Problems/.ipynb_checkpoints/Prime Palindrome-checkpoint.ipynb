{
 "cells": [
  {
   "cell_type": "markdown",
   "id": "cebadd6a",
   "metadata": {},
   "source": [
    "# Prime Palindrome"
   ]
  },
  {
   "cell_type": "markdown",
   "id": "7c4c6e60",
   "metadata": {},
   "source": [
    "Given an integer n, return the smallest prime palindrome greater than or equal to n.\n",
    "\n",
    "An integer is prime if it has exactly two divisors: 1 and itself. Note that 1 is not a prime number.\n",
    "\n",
    "For example, 2, 3, 5, 7, 11, and 13 are all primes.\n",
    "An integer is a palindrome if it reads the same from left to right as it does from right to left.\n",
    "\n",
    "For example, 101 and 12321 are palindromes.\n",
    "The test cases are generated so that the answer always exists and is in the range [2, 2 * 108].\n",
    "\n",
    " \n",
    "\n",
    "**Example 1:**\n",
    "\n",
    "Input: n = 6\n",
    "Output: 7\n",
    "\n",
    "**Example 2:**\n",
    "\n",
    "Input: n = 8\n",
    "Output: 11\n",
    "\n",
    "**Example 3:**\n",
    "\n",
    "Input: n = 13\n",
    "Output: 101\n",
    " \n",
    "\n",
    "**Constraints:**\n",
    "\n",
    "- 1 <= n <= 108"
   ]
  },
  {
   "cell_type": "code",
   "execution_count": 1,
   "id": "b9b90644",
   "metadata": {},
   "outputs": [
    {
     "name": "stdout",
     "output_type": "stream",
     "text": [
      "7\n",
      "11\n",
      "101\n"
     ]
    }
   ],
   "source": [
    "def is_prime(num):\n",
    "    if num <= 1:\n",
    "        return False\n",
    "    if num <= 3:\n",
    "        return True\n",
    "    if num % 2 == 0 or num % 3 == 0:\n",
    "        return False\n",
    "    i = 5\n",
    "    while i * i <= num:\n",
    "        if num % i == 0 or num % (i + 2) == 0:\n",
    "            return False\n",
    "        i += 6\n",
    "    return True\n",
    "\n",
    "def is_palindrome(num):\n",
    "    return str(num) == str(num)[::-1]\n",
    "\n",
    "def next_palindrome(num):\n",
    "    while True:\n",
    "        if is_palindrome(num) and is_prime(num):\n",
    "            return num\n",
    "        num += 1\n",
    "\n",
    "def smallest_prime_palindrome(n):\n",
    "    if n <= 2:\n",
    "        return 2\n",
    "    return next_palindrome(n)\n",
    "\n",
    "# Example usage:\n",
    "print(smallest_prime_palindrome(6))  # Output: 7\n",
    "print(smallest_prime_palindrome(8))  # Output: 11\n",
    "print(smallest_prime_palindrome(13)) # Output: 101"
   ]
  },
  {
   "cell_type": "code",
   "execution_count": null,
   "id": "74c8a900",
   "metadata": {},
   "outputs": [],
   "source": []
  }
 ],
 "metadata": {
  "kernelspec": {
   "display_name": "Python 3 (ipykernel)",
   "language": "python",
   "name": "python3"
  },
  "language_info": {
   "codemirror_mode": {
    "name": "ipython",
    "version": 3
   },
   "file_extension": ".py",
   "mimetype": "text/x-python",
   "name": "python",
   "nbconvert_exporter": "python",
   "pygments_lexer": "ipython3",
   "version": "3.8.11"
  }
 },
 "nbformat": 4,
 "nbformat_minor": 5
}
