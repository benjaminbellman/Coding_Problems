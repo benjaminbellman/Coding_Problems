{
 "cells": [
  {
   "cell_type": "markdown",
   "id": "4cc61774",
   "metadata": {},
   "source": [
    "# Rotate Image"
   ]
  },
  {
   "cell_type": "markdown",
   "id": "4236bfca",
   "metadata": {},
   "source": [
    "You are given an n x n 2D matrix representing an image, rotate the image by 90 degrees (clockwise).\n",
    "\n",
    "You have to rotate the image in-place, which means you have to modify the input 2D matrix directly. DO NOT allocate another 2D matrix and do the rotation.\n",
    "\n",
    " \n",
    "\n",
    "**Example 1:**\n",
    "\n",
    "\n",
    "Input: matrix = [[1,2,3],[4,5,6],[7,8,9]]\n",
    "Output: [[7,4,1],[8,5,2],[9,6,3]]\n",
    "\n",
    "**Example 2:**\n",
    "\n",
    "\n",
    "Input: matrix = [[5,1,9,11],[2,4,8,10],[13,3,6,7],[15,14,12,16]]\n",
    "Output: [[15,13,2,5],[14,3,4,1],[12,6,8,9],[16,7,10,11]]\n",
    " \n",
    "\n",
    "Constraints:\n",
    "\n",
    "- n == matrix.length == matrix[i].length\n",
    "- 1 <= n <= 20\n",
    "- -1000 <= matrix[i][j] <= 1000"
   ]
  },
  {
   "cell_type": "markdown",
   "id": "94b964c4",
   "metadata": {},
   "source": [
    "To solve this problem, we can follow these steps:\n",
    "\n",
    "1. Transpose the matrix. This means that we will swap the rows and columns of the matrix.\n",
    "2. Reverse the rows of the transposed matrix. This will give us the rotated matrix.\n",
    "\n",
    "Here is the Python code that implements these steps:"
   ]
  },
  {
   "cell_type": "code",
   "execution_count": 1,
   "id": "404c9a6d",
   "metadata": {},
   "outputs": [
    {
     "name": "stdout",
     "output_type": "stream",
     "text": [
      "[[7, 4, 1], [8, 5, 2], [9, 6, 3]]\n",
      "[[15, 13, 2, 5], [14, 3, 4, 1], [12, 6, 8, 9], [16, 7, 10, 11]]\n"
     ]
    }
   ],
   "source": [
    "def rotate_matrix(matrix):\n",
    "    # Transpose the matrix\n",
    "    for i in range(len(matrix)):\n",
    "        for j in range(i, len(matrix[0])):\n",
    "            matrix[i][j], matrix[j][i] = matrix[j][i], matrix[i][j]\n",
    "\n",
    "    # Reverse the rows of the transposed matrix\n",
    "    for row in matrix:\n",
    "        row.reverse()\n",
    "\n",
    "# Example usage\n",
    "matrix = [[1,2,3],[4,5,6],[7,8,9]]\n",
    "rotate_matrix(matrix)\n",
    "print(matrix) # [[7,4,1],[8,5,2],[9,6,3]]\n",
    "\n",
    "matrix = [[5,1,9,11],[2,4,8,10],[13,3,6,7],[15,14,12,16]]\n",
    "rotate_matrix(matrix)\n",
    "print(matrix) # [[15,13,2,5],[14,3,4,1],[12,6,8,9],[16,7,10,11]]"
   ]
  },
  {
   "cell_type": "code",
   "execution_count": null,
   "id": "463c9de8",
   "metadata": {},
   "outputs": [],
   "source": []
  }
 ],
 "metadata": {
  "kernelspec": {
   "display_name": "Python 3",
   "language": "python",
   "name": "python3"
  },
  "language_info": {
   "codemirror_mode": {
    "name": "ipython",
    "version": 3
   },
   "file_extension": ".py",
   "mimetype": "text/x-python",
   "name": "python",
   "nbconvert_exporter": "python",
   "pygments_lexer": "ipython3",
   "version": "3.9.13"
  }
 },
 "nbformat": 4,
 "nbformat_minor": 5
}
