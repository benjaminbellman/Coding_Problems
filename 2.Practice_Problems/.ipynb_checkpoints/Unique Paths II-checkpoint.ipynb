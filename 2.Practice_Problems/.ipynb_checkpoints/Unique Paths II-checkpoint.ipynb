{
 "cells": [
  {
   "cell_type": "markdown",
   "id": "0566ef00",
   "metadata": {},
   "source": [
    "# Unique Paths II"
   ]
  },
  {
   "cell_type": "markdown",
   "id": "b759b8d8",
   "metadata": {},
   "source": [
    "You are given an m x n integer array grid. There is a robot initially located at the top-left corner (i.e., grid[0][0]). The robot tries to move to the bottom-right corner (i.e., grid[m - 1][n - 1]). The robot can only move either down or right at any point in time.\n",
    "\n",
    "An obstacle and space are marked as 1 or 0 respectively in grid. A path that the robot takes cannot include any square that is an obstacle.\n",
    "\n",
    "Return the number of possible unique paths that the robot can take to reach the bottom-right corner.\n",
    "\n",
    "The testcases are generated so that the answer will be less than or equal to 2 * 109.\n",
    "\n",
    "**Example 1:**\n",
    "\n",
    "Input: obstacleGrid = [[0,0,0],[0,1,0],[0,0,0]]\n",
    "Output: 2\n",
    "Explanation: There is one obstacle in the middle of the 3x3 grid above.\n",
    "There are two ways to reach the bottom-right corner:\n",
    "1. Right -> Right -> Down -> Down\n",
    "2. Down -> Down -> Right -> Right\n",
    "\n",
    "**Example 2:**\n",
    "\n",
    "Input: obstacleGrid = [[0,1],[0,0]]\n",
    "Output: 1\n",
    " \n",
    "**Constraints:**\n",
    "\n",
    "- m == obstacleGrid.length\n",
    "- n == obstacleGrid[i].length\n",
    "- 1 <= m, n <= 100\n",
    "- obstacleGrid[i][j] is 0 or 1."
   ]
  },
  {
   "cell_type": "code",
   "execution_count": 1,
   "id": "22f71b70",
   "metadata": {},
   "outputs": [],
   "source": [
    "def uniquePathsWithObstacles(obstacleGrid):\n",
    "    m, n = len(obstacleGrid), len(obstacleGrid[0])\n",
    "    dp = [[0] * n for _ in range(m)]\n",
    "\n",
    "    # Initialize start position\n",
    "    if obstacleGrid[0][0] == 0:\n",
    "        dp[0][0] = 1\n",
    "\n",
    "    # Fill the dp table\n",
    "    for i in range(m):\n",
    "        for j in range(n):\n",
    "            if obstacleGrid[i][j] == 1:\n",
    "                dp[i][j] = 0  # Obstacle cell\n",
    "            else:\n",
    "                if i > 0:\n",
    "                    dp[i][j] += dp[i - 1][j]\n",
    "                if j > 0:\n",
    "                    dp[i][j] += dp[i][j - 1]\n",
    "\n",
    "    return dp[m - 1][n - 1]"
   ]
  },
  {
   "cell_type": "code",
   "execution_count": 2,
   "id": "25c34e3b",
   "metadata": {},
   "outputs": [
    {
     "name": "stdout",
     "output_type": "stream",
     "text": [
      "2\n"
     ]
    }
   ],
   "source": [
    "obstacleGrid = [[0,0,0],[0,1,0],[0,0,0]]\n",
    "print(uniquePathsWithObstacles(obstacleGrid))  # Output: 2"
   ]
  },
  {
   "cell_type": "code",
   "execution_count": null,
   "id": "17a6e21e",
   "metadata": {},
   "outputs": [],
   "source": []
  }
 ],
 "metadata": {
  "kernelspec": {
   "display_name": "Python 3 (ipykernel)",
   "language": "python",
   "name": "python3"
  },
  "language_info": {
   "codemirror_mode": {
    "name": "ipython",
    "version": 3
   },
   "file_extension": ".py",
   "mimetype": "text/x-python",
   "name": "python",
   "nbconvert_exporter": "python",
   "pygments_lexer": "ipython3",
   "version": "3.8.11"
  }
 },
 "nbformat": 4,
 "nbformat_minor": 5
}
