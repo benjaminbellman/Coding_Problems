{
 "cells": [
  {
   "cell_type": "markdown",
   "id": "673ff2eb",
   "metadata": {},
   "source": [
    "# Range Module"
   ]
  },
  {
   "cell_type": "markdown",
   "id": "4cc16fa5",
   "metadata": {},
   "source": [
    "A Range Module is a module that tracks ranges of numbers. Design a data structure to track the ranges represented as half-open intervals and query about them.\n",
    "\n",
    "A half-open interval [left, right) denotes all the real numbers x where left <= x < right.\n",
    "\n",
    "Implement the RangeModule class:\n",
    "\n",
    "RangeModule() Initializes the object of the data structure.\n",
    "void addRange(int left, int right) Adds the half-open interval [left, right), tracking every real number in that interval. Adding an interval that partially overlaps with currently tracked numbers should add any numbers in the interval [left, right) that are not already tracked.\n",
    "boolean queryRange(int left, int right) Returns true if every real number in the interval [left, right) is currently being tracked, and false otherwise.\n",
    "void removeRange(int left, int right) Stops tracking every real number currently being tracked in the half-open interval [left, right).\n",
    " \n",
    "\n",
    "**Example 1:**\n",
    "\n",
    "Input\n",
    "[\"RangeModule\", \"addRange\", \"removeRange\", \"queryRange\", \"queryRange\", \"queryRange\"]\n",
    "[[], [10, 20], [14, 16], [10, 14], [13, 15], [16, 17]]\n",
    "Output\n",
    "[null, null, null, true, false, true]\n",
    "\n",
    "**Explanation**\n",
    "\n",
    "    RangeModule rangeModule = new RangeModule();\n",
    "    rangeModule.addRange(10, 20);\n",
    "    rangeModule.removeRange(14, 16);\n",
    "    rangeModule.queryRange(10, 14); // return True,(Every number in [10, 14) is being tracked)\n",
    "    rangeModule.queryRange(13, 15); // return False,(Numbers like 14, 14.03, 14.17 in [13, 15) are not being tracked)\n",
    "    rangeModule.queryRange(16, 17); // return True, (The number 16 in [16, 17) is still being tracked, despite the remove operation)\n",
    " \n",
    "\n",
    "**Constraints:**\n",
    "\n",
    "- 1 <= left < right <= 109\n",
    "- At most 104 calls will be made to addRange, queryRange, and removeRange."
   ]
  },
  {
   "cell_type": "code",
   "execution_count": 1,
   "id": "a6ebd1ce",
   "metadata": {},
   "outputs": [
    {
     "name": "stdout",
     "output_type": "stream",
     "text": [
      "True\n",
      "False\n",
      "True\n"
     ]
    }
   ],
   "source": [
    "class RangeModule:\n",
    "    def __init__(self):\n",
    "        self.intervals = []\n",
    "\n",
    "    def addRange(self, left: int, right: int) -> None:\n",
    "        new_intervals = []\n",
    "        inserted = False\n",
    "        for interval in self.intervals:\n",
    "            if interval[1] < left:\n",
    "                new_intervals.append(interval)\n",
    "            elif interval[0] > right:\n",
    "                if not inserted:\n",
    "                    new_intervals.append((left, right))\n",
    "                    inserted = True\n",
    "                new_intervals.append(interval)\n",
    "            else:\n",
    "                left = min(left, interval[0])\n",
    "                right = max(right, interval[1])\n",
    "        if not inserted:\n",
    "            new_intervals.append((left, right))\n",
    "        self.intervals = new_intervals\n",
    "\n",
    "    def removeRange(self, left: int, right: int) -> None:\n",
    "        new_intervals = []\n",
    "        for interval in self.intervals:\n",
    "            if interval[1] <= left or interval[0] >= right:\n",
    "                new_intervals.append(interval)\n",
    "            else:\n",
    "                if interval[0] < left:\n",
    "                    new_intervals.append((interval[0], left))\n",
    "                if interval[1] > right:\n",
    "                    new_intervals.append((right, interval[1]))\n",
    "        self.intervals = new_intervals\n",
    "\n",
    "    def queryRange(self, left: int, right: int) -> bool:\n",
    "        for interval in self.intervals:\n",
    "            if interval[0] <= left and interval[1] >= right:\n",
    "                return True\n",
    "        return False\n",
    "\n",
    "# Example usage:\n",
    "rangeModule = RangeModule()\n",
    "rangeModule.addRange(10, 20)\n",
    "rangeModule.removeRange(14, 16)\n",
    "print(rangeModule.queryRange(10, 14))  # Output: True\n",
    "print(rangeModule.queryRange(13, 15))  # Output: False\n",
    "print(rangeModule.queryRange(16, 17))  # Output: True"
   ]
  },
  {
   "cell_type": "code",
   "execution_count": null,
   "id": "61ab8dd7",
   "metadata": {},
   "outputs": [],
   "source": []
  }
 ],
 "metadata": {
  "kernelspec": {
   "display_name": "Python 3",
   "language": "python",
   "name": "python3"
  },
  "language_info": {
   "codemirror_mode": {
    "name": "ipython",
    "version": 3
   },
   "file_extension": ".py",
   "mimetype": "text/x-python",
   "name": "python",
   "nbconvert_exporter": "python",
   "pygments_lexer": "ipython3",
   "version": "3.9.13"
  }
 },
 "nbformat": 4,
 "nbformat_minor": 5
}
