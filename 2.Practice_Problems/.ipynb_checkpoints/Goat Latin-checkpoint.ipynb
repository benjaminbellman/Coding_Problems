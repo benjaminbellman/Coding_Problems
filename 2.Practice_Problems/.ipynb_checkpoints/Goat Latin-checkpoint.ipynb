{
 "cells": [
  {
   "cell_type": "markdown",
   "id": "c4ffeb44",
   "metadata": {},
   "source": [
    "# Goat Latin"
   ]
  },
  {
   "cell_type": "markdown",
   "id": "814fb8d3",
   "metadata": {},
   "source": [
    "You are given a string sentence that consist of words separated by spaces. Each word consists of lowercase and uppercase letters only.\n",
    "\n",
    "We would like to convert the sentence to \"Goat Latin\" (a made-up language similar to Pig Latin.) The rules of Goat Latin are as follows:\n",
    "\n",
    "- If a word begins with a vowel ('a', 'e', 'i', 'o', or 'u'), append \"ma\" to the end of the word.\n",
    "- For example, the word \"apple\" becomes \"applema\".\n",
    "- If a word begins with a consonant (i.e., not a vowel), remove the first letter and append it to the end, then add \"ma\".\n",
    "- For example, the word \"goat\" becomes \"oatgma\".\n",
    "- Add one letter 'a' to the end of each word per its word index in the sentence, starting with 1.\n",
    "- For example, the first word gets \"a\" added to the end, the second word gets \"aa\" added to the end, and so on.\n",
    "- Return the final sentence representing the conversion from sentence to Goat Latin.\n",
    "\n",
    " \n",
    "\n",
    "**Example 1:**\n",
    "\n",
    "Input: sentence = \"I speak Goat Latin\"\n",
    "Output: \"Imaa peaksmaaa oatGmaaaa atinLmaaaaa\"\n",
    "\n",
    "**Example 2:**\n",
    "\n",
    "Input: sentence = \"The quick brown fox jumped over the lazy dog\"\n",
    "Output: \"heTmaa uickqmaaa rownbmaaaa oxfmaaaaa umpedjmaaaaaa overmaaaaaaa hetmaaaaaaaa azylmaaaaaaaaa ogdmaaaaaaaaaa\"\n",
    " \n",
    "**Constraints:**\n",
    "\n",
    "- 1 <= sentence.length <= 150\n",
    "- sentence consists of English letters and spaces.\n",
    "- sentence has no leading or trailing spaces.\n",
    "- All the words in sentence are separated by a single space."
   ]
  },
  {
   "cell_type": "code",
   "execution_count": 1,
   "id": "896b2dbc",
   "metadata": {},
   "outputs": [
    {
     "name": "stdout",
     "output_type": "stream",
     "text": [
      "Imaa peaksmaaa oatGmaaaa atinLmaaaaa\n",
      "heTmaa uickqmaaa rownbmaaaa oxfmaaaaa umpedjmaaaaaa overmaaaaaaa hetmaaaaaaaa azylmaaaaaaaaa ogdmaaaaaaaaaa\n"
     ]
    }
   ],
   "source": [
    "def to_goat_latin(sentence):\n",
    "    vowels = {'a', 'e', 'i', 'o', 'u'}\n",
    "    words = sentence.split()\n",
    "    goat_words = []\n",
    "    for i, word in enumerate(words, 1):\n",
    "        if word[0].lower() in vowels:\n",
    "            goat_word = word + 'ma' + 'a'*i\n",
    "        else:\n",
    "            goat_word = word[1:] + word[0] + 'ma' + 'a'*i\n",
    "        goat_words.append(goat_word)\n",
    "    return ' '.join(goat_words)\n",
    "\n",
    "# Example usage:\n",
    "sentence1 = \"I speak Goat Latin\"\n",
    "sentence2 = \"The quick brown fox jumped over the lazy dog\"\n",
    "\n",
    "print(to_goat_latin(sentence1))  # Output: \"Imaa peaksmaaa oatGmaaaa atinLmaaaaa\"\n",
    "print(to_goat_latin(sentence2))  # Output: \"heTmaa uickqmaaa rownbmaaaa oxfmaaaaa umpedjmaaaaaa overmaaaaaaa hetmaaaaaaaa azylmaaaaaaaaa ogdmaaaaaaaaaa\""
   ]
  },
  {
   "cell_type": "code",
   "execution_count": null,
   "id": "1ef00e18",
   "metadata": {},
   "outputs": [],
   "source": []
  }
 ],
 "metadata": {
  "kernelspec": {
   "display_name": "Python 3",
   "language": "python",
   "name": "python3"
  },
  "language_info": {
   "codemirror_mode": {
    "name": "ipython",
    "version": 3
   },
   "file_extension": ".py",
   "mimetype": "text/x-python",
   "name": "python",
   "nbconvert_exporter": "python",
   "pygments_lexer": "ipython3",
   "version": "3.9.13"
  }
 },
 "nbformat": 4,
 "nbformat_minor": 5
}
