{
 "cells": [
  {
   "cell_type": "markdown",
   "id": "73b1b792",
   "metadata": {},
   "source": [
    "# Super Palindromes"
   ]
  },
  {
   "cell_type": "markdown",
   "id": "29c6ac41",
   "metadata": {},
   "source": [
    "Let's say a positive integer is a super-palindrome if it is a palindrome, and it is also the square of a palindrome.\n",
    "\n",
    "Given two positive integers left and right represented as strings, return the number of super-palindromes integers in the inclusive range [left, right].\n",
    "\n",
    "**Example 1:**\n",
    "\n",
    "Input: left = \"4\", right = \"1000\"\n",
    "Output: 4\n",
    "Explanation: 4, 9, 121, and 484 are superpalindromes.\n",
    "Note that 676 is not a superpalindrome: 26 * 26 = 676, but 26 is not a palindrome.\n",
    "\n",
    "**Example 2:**\n",
    "\n",
    "Input: left = \"1\", right = \"2\"\n",
    "Output: 1\n",
    " \n",
    "**Constraints:**\n",
    "\n",
    "- 1 <= left.length, right.length <= 18\n",
    "- left and right consist of only digits.\n",
    "- left and right cannot have leading zeros.\n",
    "- left and right represent integers in the range [1, 1018 - 1].\n",
    "- left is less than or equal to right."
   ]
  },
  {
   "cell_type": "code",
   "execution_count": 1,
   "id": "8ca10522",
   "metadata": {},
   "outputs": [
    {
     "name": "stdout",
     "output_type": "stream",
     "text": [
      "2\n",
      "1\n"
     ]
    }
   ],
   "source": [
    "def is_palindrome(s):\n",
    "    return s == s[::-1]\n",
    "\n",
    "def generate_palindromes(max_sqrt):\n",
    "    palindromes = set()\n",
    "    for length in range(1, 10):  # Generate palindromes with up to 18 digits (9 digits max for sqrt)\n",
    "        # Odd length palindromes\n",
    "        for i in range(1, 10):\n",
    "            s = str(i)\n",
    "            while len(s) <= length:\n",
    "                palindromes.add(int(s))\n",
    "                s = s + str(i)\n",
    "        # Even length palindromes\n",
    "        for i in range(1, 10):\n",
    "            s = str(i)\n",
    "            while len(s) <= length:\n",
    "                palindromes.add(int(s))\n",
    "                s = str(i) + s + str(i)\n",
    "    \n",
    "    return palindromes\n",
    "\n",
    "def count_super_palindromes(left, right):\n",
    "    left, right = int(left), int(right)\n",
    "    max_sqrt = int(right**0.5) + 1\n",
    "    palindromes = generate_palindromes(max_sqrt)\n",
    "    super_palindromes = []\n",
    "    \n",
    "    for p in palindromes:\n",
    "        square = p * p\n",
    "        if square > right:\n",
    "            break\n",
    "        if square >= left and is_palindrome(str(square)):\n",
    "            super_palindromes.append(square)\n",
    "    \n",
    "    return len(super_palindromes)\n",
    "\n",
    "# Example usage\n",
    "print(count_super_palindromes(\"4\", \"1000\"))  # Output: 4\n",
    "print(count_super_palindromes(\"1\", \"2\"))     # Output: 1"
   ]
  },
  {
   "cell_type": "code",
   "execution_count": null,
   "id": "0f5d4e5d",
   "metadata": {},
   "outputs": [],
   "source": []
  }
 ],
 "metadata": {
  "kernelspec": {
   "display_name": "Python 3 (ipykernel)",
   "language": "python",
   "name": "python3"
  },
  "language_info": {
   "codemirror_mode": {
    "name": "ipython",
    "version": 3
   },
   "file_extension": ".py",
   "mimetype": "text/x-python",
   "name": "python",
   "nbconvert_exporter": "python",
   "pygments_lexer": "ipython3",
   "version": "3.8.11"
  }
 },
 "nbformat": 4,
 "nbformat_minor": 5
}
