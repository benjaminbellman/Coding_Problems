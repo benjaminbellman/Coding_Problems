{
 "cells": [
  {
   "cell_type": "markdown",
   "id": "bffc5f36",
   "metadata": {},
   "source": [
    "# Grumpy Bookstore Owner"
   ]
  },
  {
   "cell_type": "markdown",
   "id": "8e4bab7f",
   "metadata": {},
   "source": [
    "here is a bookstore owner that has a store open for n minutes. You are given an integer array customers of length n where customers[i] is the number of the customers that enter the store at the start of the ith minute and all those customers leave after the end of that minute.\n",
    "\n",
    "During certain minutes, the bookstore owner is grumpy. You are given a binary array grumpy where grumpy[i] is 1 if the bookstore owner is grumpy during the ith minute, and is 0 otherwise.\n",
    "\n",
    "When the bookstore owner is grumpy, the customers entering during that minute are not satisfied. Otherwise, they are satisfied.\n",
    "\n",
    "The bookstore owner knows a secret technique to remain not grumpy for minutes consecutive minutes, but this technique can only be used once.\n",
    "\n",
    "Return the maximum number of customers that can be satisfied throughout the day.\n",
    "\n",
    "**Example 1:**\n",
    "\n",
    "Input: customers = [1,0,1,2,1,1,7,5], grumpy = [0,1,0,1,0,1,0,1], minutes = 3\n",
    "\n",
    "Output: 16\n",
    "\n",
    "Explanation:\n",
    "\n",
    "The bookstore owner keeps themselves not grumpy for the last 3 minutes.\n",
    "\n",
    "The maximum number of customers that can be satisfied = 1 + 1 + 1 + 1 + 7 + 5 = 16.\n",
    "\n",
    "**Example 2:**\n",
    "\n",
    "Input: customers = [1], grumpy = [0], minutes = 1\n",
    "\n",
    "Output: 1\n",
    "\n",
    "**Constraints:**\n",
    "\n",
    "- n == customers.length == grumpy.length\n",
    "- 1 <= minutes <= n <= 2 * 104\n",
    "- 0 <= customers[i] <= 1000\n",
    "- grumpy[i] is either 0 or 1."
   ]
  },
  {
   "cell_type": "code",
   "execution_count": 1,
   "id": "2535872d",
   "metadata": {},
   "outputs": [
    {
     "name": "stdout",
     "output_type": "stream",
     "text": [
      "16\n",
      "1\n"
     ]
    }
   ],
   "source": [
    "def maxSatisfied(customers, grumpy, minutes):\n",
    "    n = len(customers)\n",
    "    \n",
    "    # Step 1: Calculate satisfied customers without the technique\n",
    "    satisfied = sum(customers[i] for i in range(n) if grumpy[i] == 0)\n",
    "    \n",
    "    # Step 2: Calculate the extra satisfied customers using the technique\n",
    "    extra = 0\n",
    "    current_extra = sum(customers[i] for i in range(minutes) if grumpy[i] == 1)\n",
    "    extra = current_extra\n",
    "    \n",
    "    for i in range(minutes, n):\n",
    "        if grumpy[i] == 1:\n",
    "            current_extra += customers[i]\n",
    "        if grumpy[i - minutes] == 1:\n",
    "            current_extra -= customers[i - minutes]\n",
    "        extra = max(extra, current_extra)\n",
    "    \n",
    "    # Step 3: Combine results\n",
    "    return satisfied + extra\n",
    "\n",
    "# Example usage\n",
    "customers1 = [1, 0, 1, 2, 1, 1, 7, 5]\n",
    "grumpy1 = [0, 1, 0, 1, 0, 1, 0, 1]\n",
    "minutes1 = 3\n",
    "print(maxSatisfied(customers1, grumpy1, minutes1))  # Output: 16\n",
    "\n",
    "customers2 = [1]\n",
    "grumpy2 = [0]\n",
    "minutes2 = 1\n",
    "print(maxSatisfied(customers2, grumpy2, minutes2))  # Output: 1"
   ]
  },
  {
   "cell_type": "code",
   "execution_count": null,
   "id": "b36b0fef",
   "metadata": {},
   "outputs": [],
   "source": []
  }
 ],
 "metadata": {
  "kernelspec": {
   "display_name": "Python 3 (ipykernel)",
   "language": "python",
   "name": "python3"
  },
  "language_info": {
   "codemirror_mode": {
    "name": "ipython",
    "version": 3
   },
   "file_extension": ".py",
   "mimetype": "text/x-python",
   "name": "python",
   "nbconvert_exporter": "python",
   "pygments_lexer": "ipython3",
   "version": "3.8.11"
  }
 },
 "nbformat": 4,
 "nbformat_minor": 5
}
