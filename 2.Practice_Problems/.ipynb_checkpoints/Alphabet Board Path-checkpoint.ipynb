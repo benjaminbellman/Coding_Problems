{
 "cells": [
  {
   "cell_type": "markdown",
   "id": "32b035be",
   "metadata": {},
   "source": [
    "# Alphabet Board Path"
   ]
  },
  {
   "cell_type": "markdown",
   "id": "b880fb55",
   "metadata": {},
   "source": [
    "On an alphabet board, we start at position (0, 0), corresponding to character board[0][0].\n",
    "\n",
    "Here, board = [\"abcde\", \"fghij\", \"klmno\", \"pqrst\", \"uvwxy\", \"z\"], as shown in the diagram below.\n",
    "\n",
    "We may make the following moves:\n",
    "\n",
    "'U' moves our position up one row, if the position exists on the board;\n",
    "'D' moves our position down one row, if the position exists on the board;\n",
    "'L' moves our position left one column, if the position exists on the board;\n",
    "'R' moves our position right one column, if the position exists on the board;\n",
    "'!' adds the character board[r][c] at our current position (r, c) to the answer.\n",
    "(Here, the only positions that exist on the board are positions with letters on them.)\n",
    "\n",
    "Return a sequence of moves that makes our answer equal to target in the minimum number of moves.  You may return any path that does so.\n",
    "\n",
    "**Example 1:**\n",
    "\n",
    "Input: target = \"leet\"\n",
    "Output: \"DDR!UURRR!!DDD!\"\n",
    "\n",
    "**Example 2:**\n",
    "\n",
    "Input: target = \"code\"\n",
    "Output: \"RR!DDRR!UUL!R!\"\n",
    " \n",
    "**Constraints:**\n",
    "\n",
    "- 1 <= target.length <= 100\n",
    "- target consists only of English lowercase letters."
   ]
  },
  {
   "cell_type": "code",
   "execution_count": 1,
   "id": "207107fb",
   "metadata": {},
   "outputs": [
    {
     "name": "stdout",
     "output_type": "stream",
     "text": [
      "DDR!UURRR!!DDD!\n",
      "RR!DDRR!UUL!R!\n"
     ]
    }
   ],
   "source": [
    "def alphabetBoardPath(target: str) -> str:\n",
    "    # Create a dictionary mapping each character to its board position (row, col)\n",
    "    board = {chr(97 + i): (i // 5, i % 5) for i in range(26)}\n",
    "    \n",
    "    result = []\n",
    "    x, y = 0, 0  # Start at 'a' (0,0)\n",
    "\n",
    "    for char in target:\n",
    "        nx, ny = board[char]  # Target position\n",
    "        dx, dy = nx - x, ny - y  # Compute differences\n",
    "        \n",
    "        # Move 'U' before 'L' when necessary (important for 'z')\n",
    "        if dx < 0:\n",
    "            result.append('U' * abs(dx))\n",
    "        if dy < 0:\n",
    "            result.append('L' * abs(dy))\n",
    "        if dx > 0:\n",
    "            result.append('D' * abs(dx))\n",
    "        if dy > 0:\n",
    "            result.append('R' * abs(dy))\n",
    "\n",
    "        result.append('!')  # Select the letter\n",
    "\n",
    "        # Update current position\n",
    "        x, y = nx, ny\n",
    "\n",
    "    return ''.join(result)\n",
    "\n",
    "# Example test cases\n",
    "print(alphabetBoardPath(\"leet\"))  # Expected: \"DDR!UURRR!!DDD!\"\n",
    "print(alphabetBoardPath(\"code\"))  # Expected: \"RR!DDRR!UUL!R!\""
   ]
  },
  {
   "cell_type": "code",
   "execution_count": null,
   "id": "8fe4a395",
   "metadata": {},
   "outputs": [],
   "source": []
  }
 ],
 "metadata": {
  "kernelspec": {
   "display_name": "Python 3 (ipykernel)",
   "language": "python",
   "name": "python3"
  },
  "language_info": {
   "codemirror_mode": {
    "name": "ipython",
    "version": 3
   },
   "file_extension": ".py",
   "mimetype": "text/x-python",
   "name": "python",
   "nbconvert_exporter": "python",
   "pygments_lexer": "ipython3",
   "version": "3.8.11"
  }
 },
 "nbformat": 4,
 "nbformat_minor": 5
}
