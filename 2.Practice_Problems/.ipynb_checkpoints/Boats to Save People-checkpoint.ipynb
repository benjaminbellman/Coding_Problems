{
 "cells": [
  {
   "cell_type": "markdown",
   "id": "3313aa84",
   "metadata": {},
   "source": [
    "# Boats to Save People"
   ]
  },
  {
   "cell_type": "markdown",
   "id": "2ad54124",
   "metadata": {},
   "source": [
    "You are given an array people where people[i] is the weight of the ith person, and an infinite number of boats where each boat can carry a maximum weight of limit. Each boat carries at most two people at the same time, provided the sum of the weight of those people is at most limit.\n",
    "\n",
    "Return the minimum number of boats to carry every given person.\n",
    "\n",
    "**Example 1:**\n",
    "\n",
    "Input: people = [1,2], limit = 3\n",
    "Output: 1\n",
    "Explanation: 1 boat (1, 2)\n",
    "\n",
    "**Example 2:**\n",
    "\n",
    "Input: people = [3,2,2,1], limit = 3\n",
    "Output: 3\n",
    "Explanation: 3 boats (1, 2), (2) and (3)\n",
    "\n",
    "**Example 3:**\n",
    "\n",
    "Input: people = [3,5,3,4], limit = 5\n",
    "Output: 4\n",
    "Explanation: 4 boats (3), (3), (4), (5)\n",
    "\n",
    "**Constraints:**\n",
    "\n",
    "- 1 <= people.length <= 5 * 104\n",
    "- 1 <= people[i] <= limit <= 3 * 104"
   ]
  },
  {
   "cell_type": "code",
   "execution_count": 1,
   "id": "67ce57d6",
   "metadata": {},
   "outputs": [],
   "source": [
    "def numRescueBoats(people, limit):\n",
    "    people.sort()  # Sort the array\n",
    "    left, right = 0, len(people) - 1\n",
    "    boats = 0\n",
    "    \n",
    "    while left <= right:\n",
    "        if people[left] + people[right] <= limit:\n",
    "            left += 1  # Use the lightest person\n",
    "        right -= 1  # Use the heaviest person\n",
    "        boats += 1  # We used one boat\n",
    "    \n",
    "    return boats"
   ]
  },
  {
   "cell_type": "code",
   "execution_count": null,
   "id": "bc160697",
   "metadata": {},
   "outputs": [],
   "source": []
  }
 ],
 "metadata": {
  "kernelspec": {
   "display_name": "Python 3 (ipykernel)",
   "language": "python",
   "name": "python3"
  },
  "language_info": {
   "codemirror_mode": {
    "name": "ipython",
    "version": 3
   },
   "file_extension": ".py",
   "mimetype": "text/x-python",
   "name": "python",
   "nbconvert_exporter": "python",
   "pygments_lexer": "ipython3",
   "version": "3.8.11"
  }
 },
 "nbformat": 4,
 "nbformat_minor": 5
}
