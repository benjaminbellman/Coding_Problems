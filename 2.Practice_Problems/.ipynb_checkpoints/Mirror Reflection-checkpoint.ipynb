{
 "cells": [
  {
   "cell_type": "markdown",
   "id": "515608d6",
   "metadata": {},
   "source": [
    "# Mirror Reflection"
   ]
  },
  {
   "cell_type": "markdown",
   "id": "fc95df5d",
   "metadata": {},
   "source": [
    "There is a special square room with mirrors on each of the four walls. Except for the southwest corner, there are receptors on each of the remaining corners, numbered 0, 1, and 2.\n",
    "\n",
    "The square room has walls of length p and a laser ray from the southwest corner first meets the east wall at a distance q from the 0th receptor.\n",
    "\n",
    "Given the two integers p and q, return the number of the receptor that the ray meets first.\n",
    "\n",
    "The test cases are guaranteed so that the ray will meet a receptor eventually.\n",
    "\n",
    " \n",
    "\n",
    "**Example 1:**\n",
    "\n",
    "Input: p = 2, q = 1\n",
    "Output: 2\n",
    "Explanation: The ray meets receptor 2 the first time it gets reflected back to the left wall.\n",
    "\n",
    "**Example 2:**\n",
    "\n",
    "Input: p = 3, q = 1\n",
    "Output: 1\n",
    " \n",
    "**Constraints:**\n",
    "\n",
    "- 1 <= q <= p <= 1000"
   ]
  },
  {
   "cell_type": "code",
   "execution_count": 1,
   "id": "1fc0ca09",
   "metadata": {},
   "outputs": [],
   "source": [
    "def mirrorReflection(p: int, q: int) -> int:\n",
    "    x, y = 0, 0\n",
    "    dx, dy = 1, 1\n",
    "    \n",
    "    while True:\n",
    "        # Move to next collision point\n",
    "        if dx == 1:\n",
    "            collision_x = p\n",
    "        elif dx == -1:\n",
    "            collision_x = 0\n",
    "        else:\n",
    "            collision_x = float('inf')\n",
    "        \n",
    "        if dy == 1:\n",
    "            collision_y = p\n",
    "        elif dy == -1:\n",
    "            collision_y = 0\n",
    "        else:\n",
    "            collision_y = float('inf')\n",
    "        \n",
    "        # Determine which wall will be hit first\n",
    "        t_x = (collision_x - x) / dx if dx != 0 else float('inf')\n",
    "        t_y = (collision_y - y) / dy if dy != 0 else float('inf')\n",
    "        \n",
    "        t = min(t_x, t_y)\n",
    "        \n",
    "        x += dx * t\n",
    "        y += dy * t\n",
    "        \n",
    "        if x == p and y == p:\n",
    "            return 2\n",
    "        elif x == p and y == 0:\n",
    "            return 1\n",
    "        elif x == 0 and y == p:\n",
    "            return 0\n",
    "        \n",
    "        # Reflect the ray\n",
    "        if x == p or x == 0:\n",
    "            dx *= -1\n",
    "        if y == p or y == 0:\n",
    "            dy *= -1"
   ]
  },
  {
   "cell_type": "code",
   "execution_count": null,
   "id": "ab9c7a84",
   "metadata": {},
   "outputs": [],
   "source": []
  }
 ],
 "metadata": {
  "kernelspec": {
   "display_name": "Python 3 (ipykernel)",
   "language": "python",
   "name": "python3"
  },
  "language_info": {
   "codemirror_mode": {
    "name": "ipython",
    "version": 3
   },
   "file_extension": ".py",
   "mimetype": "text/x-python",
   "name": "python",
   "nbconvert_exporter": "python",
   "pygments_lexer": "ipython3",
   "version": "3.8.11"
  }
 },
 "nbformat": 4,
 "nbformat_minor": 5
}
