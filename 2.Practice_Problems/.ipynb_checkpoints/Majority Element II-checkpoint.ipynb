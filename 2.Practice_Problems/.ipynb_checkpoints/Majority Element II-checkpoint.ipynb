{
 "cells": [
  {
   "cell_type": "markdown",
   "id": "b8d49c56",
   "metadata": {},
   "source": [
    "# Majority Element II"
   ]
  },
  {
   "cell_type": "markdown",
   "id": "66da1ffd",
   "metadata": {},
   "source": [
    "Given an integer array of size n, find all elements that appear more than ⌊ n/3 ⌋ times.\n",
    "\n",
    " \n",
    "\n",
    "**Example 1:**\n",
    "\n",
    "Input: nums = [3,2,3]\n",
    "Output: [3]\n",
    "\n",
    "**Example 2:**\n",
    "\n",
    "Input: nums = [1]\n",
    "Output: [1]\n",
    "\n",
    "**Example 3:**\n",
    "\n",
    "Input: nums = [1,2]\n",
    "Output: [1,2]\n",
    " \n",
    "\n",
    "**Constraints:**\n",
    "\n",
    "1 <= nums.length <= 5 * 104\n",
    "-109 <= nums[i] <= 109\n",
    " "
   ]
  },
  {
   "cell_type": "code",
   "execution_count": 1,
   "id": "a0cac8d8",
   "metadata": {},
   "outputs": [],
   "source": [
    "from typing import List\n",
    "\n",
    "def majorityElement(nums: List[int]) -> List[int]:\n",
    "    n = len(nums)\n",
    "    freq = {}\n",
    "    result = []\n",
    "    \n",
    "    for num in nums:\n",
    "        if num in freq:\n",
    "            freq[num] += 1\n",
    "        else:\n",
    "            freq[num] = 1\n",
    "            \n",
    "        if freq[num] > n//3 and num not in result:\n",
    "            result.append(num)\n",
    "    \n",
    "    # Sort the result list\n",
    "    result.sort()\n",
    "    \n",
    "    return result"
   ]
  },
  {
   "cell_type": "code",
   "execution_count": 2,
   "id": "c0e7eee9",
   "metadata": {},
   "outputs": [],
   "source": [
    "assert majorityElement([3,2,3]) == [3]\n",
    "assert majorityElement([1]) == [1]\n",
    "assert majorityElement([1,2]) == [1,2]"
   ]
  },
  {
   "cell_type": "code",
   "execution_count": null,
   "id": "518fafee",
   "metadata": {},
   "outputs": [],
   "source": []
  }
 ],
 "metadata": {
  "kernelspec": {
   "display_name": "Python 3",
   "language": "python",
   "name": "python3"
  },
  "language_info": {
   "codemirror_mode": {
    "name": "ipython",
    "version": 3
   },
   "file_extension": ".py",
   "mimetype": "text/x-python",
   "name": "python",
   "nbconvert_exporter": "python",
   "pygments_lexer": "ipython3",
   "version": "3.9.13"
  }
 },
 "nbformat": 4,
 "nbformat_minor": 5
}
