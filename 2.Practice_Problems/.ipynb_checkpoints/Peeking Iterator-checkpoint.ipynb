{
 "cells": [
  {
   "cell_type": "markdown",
   "id": "e3722212",
   "metadata": {},
   "source": [
    "# Peeking Iterator"
   ]
  },
  {
   "cell_type": "markdown",
   "id": "cddd4dd2",
   "metadata": {},
   "source": [
    "Design an iterator that supports the peek operation on an existing iterator in addition to the hasNext and the next operations.\n",
    "\n",
    "Implement the PeekingIterator class:\n",
    "\n",
    "PeekingIterator(Iterator<int> nums) Initializes the object with the given integer iterator iterator.\n",
    "int next() Returns the next element in the array and moves the pointer to the next element.\n",
    "boolean hasNext() Returns true if there are still elements in the array.\n",
    "int peek() Returns the next element in the array without moving the pointer.\n",
    "Note: Each language may have a different implementation of the constructor and Iterator, but they all support the int next() and boolean hasNext() functions.\n",
    "\n",
    " \n",
    "\n",
    "**Example 1:**\n",
    "\n",
    "Input\n",
    "[\"PeekingIterator\", \"next\", \"peek\", \"next\", \"next\", \"hasNext\"]\n",
    "[[[1, 2, 3]], [], [], [], [], []]\n",
    "Output\n",
    "[null, 1, 2, 2, 3, false]\n",
    "\n",
    "Explanation\n",
    "PeekingIterator peekingIterator = new PeekingIterator([1, 2, 3]); // [1,2,3]\n",
    "peekingIterator.next();    // return 1, the pointer moves to the next element [1,2,3].\n",
    "peekingIterator.peek();    // return 2, the pointer does not move [1,2,3].\n",
    "peekingIterator.next();    // return 2, the pointer moves to the next element [1,2,3]\n",
    "peekingIterator.next();    // return 3, the pointer moves to the next element [1,2,3]\n",
    "peekingIterator.hasNext(); // return False\n",
    " \n",
    "\n",
    "Constraints:\n",
    "\n",
    "- 1 <= nums.length <= 1000\n",
    "- 1 <= nums[i] <= 1000\n",
    "- All the calls to next and peek are valid.\n",
    "- At most 1000 calls will be made to next, hasNext, and peek."
   ]
  },
  {
   "cell_type": "code",
   "execution_count": 9,
   "id": "71d70ac4",
   "metadata": {},
   "outputs": [],
   "source": [
    "class PeekingIterator:\n",
    "    def __init__(self, iterator):\n",
    "        self.iterator = iter(iterator)\n",
    "        self.has_peeked = False\n",
    "        self.peeked_value = None\n",
    "        \n",
    "    def peek(self):\n",
    "        if not self.has_peeked:\n",
    "            self.peeked_value = next(self.iterator)\n",
    "            self.has_peeked = True\n",
    "        return self.peeked_value\n",
    "        \n",
    "    def next(self):\n",
    "        if self.has_peeked:\n",
    "            self.has_peeked = False\n",
    "            return self.peeked_value\n",
    "        else:\n",
    "            return next(self.iterator)\n",
    "        \n",
    "    def hasNext(self):\n",
    "        return self.has_peeked or iter(self.iterator).__next__(None)"
   ]
  },
  {
   "cell_type": "code",
   "execution_count": 10,
   "id": "5f7efaf7",
   "metadata": {},
   "outputs": [
    {
     "ename": "TypeError",
     "evalue": "'PeekingIterator' object is not callable",
     "output_type": "error",
     "traceback": [
      "\u001b[1;31m---------------------------------------------------------------------------\u001b[0m",
      "\u001b[1;31mTypeError\u001b[0m                                 Traceback (most recent call last)",
      "Input \u001b[1;32mIn [10]\u001b[0m, in \u001b[0;36m<module>\u001b[1;34m\u001b[0m\n\u001b[0;32m      1\u001b[0m \u001b[38;5;66;03m# Example usage\u001b[39;00m\n\u001b[0;32m      2\u001b[0m nums \u001b[38;5;241m=\u001b[39m [\u001b[38;5;241m1\u001b[39m, \u001b[38;5;241m2\u001b[39m, \u001b[38;5;241m3\u001b[39m]\n\u001b[1;32m----> 3\u001b[0m it \u001b[38;5;241m=\u001b[39m PeekingIterator(\u001b[38;5;28;43miter\u001b[39;49m\u001b[43m(\u001b[49m\u001b[43mnums\u001b[49m\u001b[43m)\u001b[49m)\n\u001b[0;32m      4\u001b[0m \u001b[38;5;28mprint\u001b[39m(it\u001b[38;5;241m.\u001b[39mnext())    \u001b[38;5;66;03m# Output: 1\u001b[39;00m\n\u001b[0;32m      5\u001b[0m \u001b[38;5;28mprint\u001b[39m(it\u001b[38;5;241m.\u001b[39mpeek())    \u001b[38;5;66;03m# Output: 2\u001b[39;00m\n",
      "\u001b[1;31mTypeError\u001b[0m: 'PeekingIterator' object is not callable"
     ]
    }
   ],
   "source": [
    "# Example usage\n",
    "nums = [1, 2, 3]\n",
    "it = PeekingIterator(iter(nums))\n",
    "print(it.next())    # Output: 1\n",
    "print(it.peek())    # Output: 2\n",
    "print(it.next())    # Output: 2\n",
    "print(it.next())    # Output: 3\n",
    "print(it.hasNext()) # Output: False"
   ]
  },
  {
   "cell_type": "code",
   "execution_count": null,
   "id": "fa1698a0",
   "metadata": {},
   "outputs": [],
   "source": []
  }
 ],
 "metadata": {
  "kernelspec": {
   "display_name": "Python 3",
   "language": "python",
   "name": "python3"
  },
  "language_info": {
   "codemirror_mode": {
    "name": "ipython",
    "version": 3
   },
   "file_extension": ".py",
   "mimetype": "text/x-python",
   "name": "python",
   "nbconvert_exporter": "python",
   "pygments_lexer": "ipython3",
   "version": "3.9.13"
  }
 },
 "nbformat": 4,
 "nbformat_minor": 5
}
