{
 "cells": [
  {
   "cell_type": "markdown",
   "id": "a807f519",
   "metadata": {},
   "source": [
    "# Group Anagrams"
   ]
  },
  {
   "cell_type": "markdown",
   "id": "b2364ede",
   "metadata": {},
   "source": [
    "Given an array of strings strs, group the anagrams together. You can return the answer in any order.\n",
    "\n",
    "An Anagram is a word or phrase formed by rearranging the letters of a different word or phrase, typically using all the original letters exactly once.\n",
    "\n",
    " \n",
    "\n",
    "**Example 1:**\n",
    "\n",
    "Input: strs = [\"eat\",\"tea\",\"tan\",\"ate\",\"nat\",\"bat\"]\n",
    "Output: [[\"bat\"],[\"nat\",\"tan\"],[\"ate\",\"eat\",\"tea\"]]\n",
    "\n",
    "**Example 2:**\n",
    "\n",
    "Input: strs = [\"\"]\n",
    "Output: [[\"\"]]\n",
    "\n",
    "**Example 3:**\n",
    "\n",
    "Input: strs = [\"a\"]\n",
    "Output: [[\"a\"]]\n",
    " \n",
    "\n",
    "**Constraints:**\n",
    "\n",
    "- 1 <= strs.length <= 104\n",
    "- 0 <= strs[i].length <= 100\n",
    "- strs[i] consists of lowercase English letters."
   ]
  },
  {
   "cell_type": "code",
   "execution_count": 1,
   "id": "6eba41fe",
   "metadata": {},
   "outputs": [],
   "source": [
    "from collections import defaultdict\n",
    "\n",
    "def groupAnagrams(strs):\n",
    "    \"\"\"\n",
    "    Given an array of strings strs, group the anagrams together.\n",
    "    Returns the answer in any order.\n",
    "    \"\"\"\n",
    "    # Create a dictionary to store the anagrams\n",
    "    anagrams = defaultdict(list)\n",
    "    \n",
    "    # Iterate through each word in the input list\n",
    "    for word in strs:\n",
    "        # Sort the letters of the word to get a key for the dictionary\n",
    "        key = \"\".join(sorted(word))\n",
    "        \n",
    "        # Add the word to the list of anagrams with the same key\n",
    "        anagrams[key].append(word)\n",
    "    \n",
    "    # Return the values (anagram lists) of the dictionary as the answer\n",
    "    return list(anagrams.values())"
   ]
  },
  {
   "cell_type": "code",
   "execution_count": 2,
   "id": "8666a781",
   "metadata": {},
   "outputs": [
    {
     "name": "stdout",
     "output_type": "stream",
     "text": [
      "[['eat', 'tea', 'ate'], ['tan', 'nat'], ['bat']]\n",
      "[['']]\n",
      "[['a']]\n"
     ]
    }
   ],
   "source": [
    "# Test case 1\n",
    "strs1 = [\"eat\",\"tea\",\"tan\",\"ate\",\"nat\",\"bat\"]\n",
    "print(groupAnagrams(strs1))\n",
    "# Output: [[\"eat\",\"tea\",\"ate\"],[\"tan\",\"nat\"],[\"bat\"]]\n",
    "\n",
    "# Test case 2\n",
    "strs2 = [\"\"]\n",
    "print(groupAnagrams(strs2))\n",
    "# Output: [[\"\"]]\n",
    "\n",
    "# Test case 3\n",
    "strs3 = [\"a\"]\n",
    "print(groupAnagrams(strs3))\n",
    "# Output: [[\"a\"]]"
   ]
  },
  {
   "cell_type": "code",
   "execution_count": null,
   "id": "9e4f3796",
   "metadata": {},
   "outputs": [],
   "source": []
  }
 ],
 "metadata": {
  "kernelspec": {
   "display_name": "Python 3",
   "language": "python",
   "name": "python3"
  },
  "language_info": {
   "codemirror_mode": {
    "name": "ipython",
    "version": 3
   },
   "file_extension": ".py",
   "mimetype": "text/x-python",
   "name": "python",
   "nbconvert_exporter": "python",
   "pygments_lexer": "ipython3",
   "version": "3.9.13"
  }
 },
 "nbformat": 4,
 "nbformat_minor": 5
}
