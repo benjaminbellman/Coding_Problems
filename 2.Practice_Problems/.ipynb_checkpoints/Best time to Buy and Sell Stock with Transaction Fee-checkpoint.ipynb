{
 "cells": [
  {
   "cell_type": "markdown",
   "id": "aed9bd7e",
   "metadata": {},
   "source": [
    "# Best time to Buy and Sell Stock with Transaction Fee"
   ]
  },
  {
   "cell_type": "markdown",
   "id": "83d7e843",
   "metadata": {},
   "source": [
    "You are given an array prices where prices[i] is the price of a given stock on the ith day, and an integer fee representing a transaction fee.\n",
    "\n",
    "Find the maximum profit you can achieve. You may complete as many transactions as you like, but you need to pay the transaction fee for each transaction.\n",
    "\n",
    "Note:\n",
    "\n",
    "You may not engage in multiple transactions simultaneously (i.e., you must sell the stock before you buy again).\n",
    "The transaction fee is only charged once for each stock purchase and sale.\n",
    " \n",
    "\n",
    "**Example 1:**\n",
    "\n",
    "Input: prices = [1,3,2,8,4,9], fee = 2\n",
    "\n",
    "Output: 8\n",
    "Explanation: The maximum profit can be achieved by:\n",
    "- Buying at prices[0] = 1\n",
    "- Selling at prices[3] = 8\n",
    "- Buying at prices[4] = 4\n",
    "- Selling at prices[5] = 9\n",
    "The total profit is ((8 - 1) - 2) + ((9 - 4) - 2) = 8.\n",
    "\n",
    "**Example 2:**\n",
    "\n",
    "Input: prices = [1,3,7,5,10,3], fee = 3\n",
    "\n",
    "Output: 6\n",
    " \n",
    "\n",
    "**Constraints:**\n",
    "\n",
    "- 1 <= prices.length <= 5 * 104\n",
    "- 1 <= prices[i] < 5 * 104\n",
    "- 0 <= fee < 5 * 104"
   ]
  },
  {
   "cell_type": "code",
   "execution_count": 1,
   "id": "86ae45f4",
   "metadata": {},
   "outputs": [
    {
     "name": "stdout",
     "output_type": "stream",
     "text": [
      "8\n",
      "6\n"
     ]
    }
   ],
   "source": [
    "def maxProfit(prices, fee):\n",
    "    if not prices:\n",
    "        return 0\n",
    "\n",
    "    n = len(prices)\n",
    "    # Define two arrays to keep track of the maximum profit if holding a stock or not holding a stock\n",
    "    hold = [0] * n\n",
    "    unhold = [0] * n\n",
    "\n",
    "    hold[0] = -prices[0]  # Initially, if we buy on the first day, we'll have negative profit\n",
    "\n",
    "    for i in range(1, n):\n",
    "        # If we hold the stock, we can either continue holding it or sell it\n",
    "        # If we continue holding, profit remains the same, if we sell, we add prices[i] and subtract fee\n",
    "        hold[i] = max(hold[i - 1], unhold[i - 1] - prices[i])\n",
    "\n",
    "        # If we don't hold the stock, we can either remain not holding or buy it\n",
    "        # If we remain not holding, profit remains the same, if we buy, we add prices[i] to the profit\n",
    "        unhold[i] = max(unhold[i - 1], hold[i - 1] + prices[i] - fee)\n",
    "\n",
    "    # Return the maximum profit achieved by not holding the stock (unhold[n - 1])\n",
    "    return unhold[n - 1]\n",
    "\n",
    "# Example usage:\n",
    "prices1 = [1, 3, 2, 8, 4, 9]\n",
    "fee1 = 2\n",
    "print(maxProfit(prices1, fee1))  # Output: 8\n",
    "\n",
    "prices2 = [1, 3, 7, 5, 10, 3]\n",
    "fee2 = 3\n",
    "print(maxProfit(prices2, fee2))  # Output: 6"
   ]
  },
  {
   "cell_type": "code",
   "execution_count": null,
   "id": "15cd3006",
   "metadata": {},
   "outputs": [],
   "source": []
  }
 ],
 "metadata": {
  "kernelspec": {
   "display_name": "Python 3",
   "language": "python",
   "name": "python3"
  },
  "language_info": {
   "codemirror_mode": {
    "name": "ipython",
    "version": 3
   },
   "file_extension": ".py",
   "mimetype": "text/x-python",
   "name": "python",
   "nbconvert_exporter": "python",
   "pygments_lexer": "ipython3",
   "version": "3.9.13"
  }
 },
 "nbformat": 4,
 "nbformat_minor": 5
}
