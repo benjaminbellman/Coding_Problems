{
 "cells": [
  {
   "cell_type": "markdown",
   "id": "4e08ddb4",
   "metadata": {},
   "source": [
    "# Distinct Subsequences"
   ]
  },
  {
   "cell_type": "markdown",
   "id": "bd2a916d",
   "metadata": {},
   "source": [
    "Given two strings s and t, return the number of distinct subsequences of s which equals t.\n",
    "\n",
    "The test cases are generated so that the answer fits on a 32-bit signed integer.\n",
    "\n",
    "**Example 1:**\n",
    "\n",
    "Input: s = \"rabbbit\", t = \"rabbit\"\n",
    "Output: 3\n",
    "Explanation:\n",
    "As shown below, there are 3 ways you can generate \"rabbit\" from s.\n",
    "rabbbit\n",
    "rabbbit\n",
    "rabbbit\n",
    "\n",
    "**Example 2:**\n",
    "\n",
    "Input: s = \"babgbag\", t = \"bag\"\n",
    "Output: 5\n",
    "Explanation:\n",
    "As shown below, there are 5 ways you can generate \"bag\" from s.\n",
    "babgbag\n",
    "babgbag\n",
    "babgbag\n",
    "babgbag\n",
    "babgbag\n",
    " \n",
    "**Constraints:**\n",
    "\n",
    "- 1 <= s.length, t.length <= 1000\n",
    "- s and t consist of English letters."
   ]
  },
  {
   "cell_type": "code",
   "execution_count": 1,
   "id": "efd81edd",
   "metadata": {},
   "outputs": [],
   "source": [
    "def numDistinct(s: str, t: str) -> int:\n",
    "    n = len(t)\n",
    "    dp = [0] * (n + 1)\n",
    "    dp[0] = 1\n",
    "    for ch in s:\n",
    "        for j in range(n, 0, -1):\n",
    "            if ch == t[j - 1]:\n",
    "                dp[j] += dp[j - 1]\n",
    "    return dp[n]"
   ]
  },
  {
   "cell_type": "code",
   "execution_count": null,
   "id": "8a457e8b",
   "metadata": {},
   "outputs": [],
   "source": []
  }
 ],
 "metadata": {
  "kernelspec": {
   "display_name": "Python 3 (ipykernel)",
   "language": "python",
   "name": "python3"
  },
  "language_info": {
   "codemirror_mode": {
    "name": "ipython",
    "version": 3
   },
   "file_extension": ".py",
   "mimetype": "text/x-python",
   "name": "python",
   "nbconvert_exporter": "python",
   "pygments_lexer": "ipython3",
   "version": "3.8.11"
  }
 },
 "nbformat": 4,
 "nbformat_minor": 5
}
