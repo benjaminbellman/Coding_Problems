{
 "cells": [
  {
   "cell_type": "markdown",
   "id": "f0c65eb5",
   "metadata": {},
   "source": [
    "# Power of Two"
   ]
  },
  {
   "cell_type": "markdown",
   "id": "67cfc1b9",
   "metadata": {},
   "source": [
    "Given an integer n, return true if it is a power of two. Otherwise, return false.\n",
    "\n",
    "An integer n is a power of two, if there exists an integer x such that n == 2x.\n",
    "\n",
    " \n",
    "\n",
    "**Example 1:**\n",
    "\n",
    "Input: n = 1\n",
    "Output: true\n",
    "Explanation: 20 = 1\n",
    "\n",
    "**Example 2:**\n",
    "\n",
    "Input: n = 16\n",
    "Output: true\n",
    "Explanation: 24 = 16\n",
    "\n",
    "**Example 3:**\n",
    "\n",
    "Input: n = 3\n",
    "Output: false\n",
    " \n",
    "\n",
    "Constraints:\n",
    "\n",
    "-231 <= n <= 231 - 1"
   ]
  },
  {
   "cell_type": "code",
   "execution_count": 1,
   "id": "c50f2c10",
   "metadata": {},
   "outputs": [],
   "source": [
    "def isPowerOfTwo(n: int) -> bool:\n",
    "    if n <= 0:\n",
    "        return False\n",
    "    while n > 1:\n",
    "        if n % 2 != 0:\n",
    "            return False\n",
    "        n //= 2\n",
    "    return True"
   ]
  },
  {
   "cell_type": "code",
   "execution_count": 2,
   "id": "34cfbc52",
   "metadata": {},
   "outputs": [],
   "source": [
    "# Example 1\n",
    "assert isPowerOfTwo(1) == True\n",
    "\n",
    "# Example 2\n",
    "assert isPowerOfTwo(16) == True\n",
    "\n",
    "# Example 3\n",
    "assert isPowerOfTwo(3) == False"
   ]
  },
  {
   "cell_type": "code",
   "execution_count": null,
   "id": "d9f30e6b",
   "metadata": {},
   "outputs": [],
   "source": []
  }
 ],
 "metadata": {
  "kernelspec": {
   "display_name": "Python 3",
   "language": "python",
   "name": "python3"
  },
  "language_info": {
   "codemirror_mode": {
    "name": "ipython",
    "version": 3
   },
   "file_extension": ".py",
   "mimetype": "text/x-python",
   "name": "python",
   "nbconvert_exporter": "python",
   "pygments_lexer": "ipython3",
   "version": "3.9.13"
  }
 },
 "nbformat": 4,
 "nbformat_minor": 5
}
