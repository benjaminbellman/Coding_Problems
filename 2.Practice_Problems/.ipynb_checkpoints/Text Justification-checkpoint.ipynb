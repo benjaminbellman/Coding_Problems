{
 "cells": [
  {
   "cell_type": "markdown",
   "id": "c5beda2b",
   "metadata": {},
   "source": [
    "# Text Justification"
   ]
  },
  {
   "cell_type": "markdown",
   "id": "1b93f463",
   "metadata": {},
   "source": [
    "Given an array of strings words and a width maxWidth, format the text such that each line has exactly maxWidth characters and is fully (left and right) justified.\n",
    "\n",
    "You should pack your words in a greedy approach; that is, pack as many words as you can in each line. Pad extra spaces ' ' when necessary so that each line has exactly maxWidth characters.\n",
    "\n",
    "Extra spaces between words should be distributed as evenly as possible. If the number of spaces on a line does not divide evenly between words, the empty slots on the left will be assigned more spaces than the slots on the right.\n",
    "\n",
    "For the last line of text, it should be left-justified, and no extra space is inserted between words.\n",
    "\n",
    "**Note:**\n",
    "\n",
    "A word is defined as a character sequence consisting of non-space characters only.\n",
    "Each word's length is guaranteed to be greater than 0 and not exceed maxWidth.\n",
    "The input array words contains at least one word.\n",
    " \n",
    "**Example 1:**\n",
    "\n",
    "Input: words = [\"This\", \"is\", \"an\", \"example\", \"of\", \"text\", \"justification.\"], maxWidth = 16\n",
    "Output:\n",
    "[\n",
    "   \"This    is    an\",\n",
    "   \"example  of text\",\n",
    "   \"justification.  \"\n",
    "]\n",
    "\n",
    "**Example 2:**\n",
    "\n",
    "Input: words = [\"What\",\"must\",\"be\",\"acknowledgment\",\"shall\",\"be\"], maxWidth = 16\n",
    "Output:\n",
    "[\n",
    "  \"What   must   be\",\n",
    "  \"acknowledgment  \",\n",
    "  \"shall be        \"\n",
    "]\n",
    "Explanation: Note that the last line is \"shall be    \" instead of \"shall     be\", because the last line must be left-justified instead of fully-justified.\n",
    "Note that the second line is also left-justified because it contains only one word.\n",
    "\n",
    "**Example 3:**\n",
    "\n",
    "Input: words = [\"Science\",\"is\",\"what\",\"we\",\"understand\",\"well\",\"enough\",\"to\",\"explain\",\"to\",\"a\",\"computer.\",\"Art\",\"is\",\"everything\",\"else\",\"we\",\"do\"], maxWidth = 20\n",
    "Output:\n",
    "[\n",
    "  \"Science  is  what we\",\n",
    "  \"understand      well\",\n",
    "  \"enough to explain to\",\n",
    "  \"a  computer.  Art is\",\n",
    "  \"everything  else  we\",\n",
    "  \"do                  \"\n",
    "]\n",
    " \n",
    "**Constraints:**\n",
    "\n",
    "- 1 <= words.length <= 300\n",
    "- 1 <= words[i].length <= 20\n",
    "- words[i] consists of only English letters and symbols.\n",
    "- 1 <= maxWidth <= 100\n",
    "- words[i].length <= maxWidth"
   ]
  },
  {
   "cell_type": "code",
   "execution_count": 1,
   "id": "82ecafae",
   "metadata": {},
   "outputs": [],
   "source": [
    "from typing import List\n",
    "\n",
    "def fullJustify(words: List[str], maxWidth: int) -> List[str]:\n",
    "    res = []\n",
    "    i = 0\n",
    "    n = len(words)\n",
    "\n",
    "    while i < n:\n",
    "        # Determine how many words can fit in the current line\n",
    "        line_len = len(words[i])\n",
    "        j = i + 1\n",
    "        while j < n and line_len + len(words[j]) + (j - i) <= maxWidth:\n",
    "            line_len += len(words[j])\n",
    "            j += 1\n",
    "        \n",
    "        line = \"\"\n",
    "        num_words = j - i\n",
    "        num_spaces = maxWidth - line_len\n",
    "\n",
    "        # Check if it's the last line or only one word\n",
    "        if j == n or num_words == 1:\n",
    "            line = \" \".join(words[i:j])\n",
    "            line += \" \" * (maxWidth - len(line))\n",
    "        else:\n",
    "            space_between_words = num_spaces // (num_words - 1)\n",
    "            extra_spaces = num_spaces % (num_words - 1)\n",
    "            for k in range(i, j - 1):\n",
    "                line += words[k]\n",
    "                spaces_to_add = space_between_words + (1 if k - i < extra_spaces else 0)\n",
    "                line += \" \" * spaces_to_add\n",
    "            line += words[j - 1]  # Add the last word in the line\n",
    "\n",
    "        res.append(line)\n",
    "        i = j\n",
    "\n",
    "    return res"
   ]
  },
  {
   "cell_type": "code",
   "execution_count": 2,
   "id": "2ae3079a",
   "metadata": {},
   "outputs": [
    {
     "name": "stdout",
     "output_type": "stream",
     "text": [
      "This    is    an\n",
      "example  of text\n",
      "justification.  \n"
     ]
    }
   ],
   "source": [
    "words = [\"This\", \"is\", \"an\", \"example\", \"of\", \"text\", \"justification.\"]\n",
    "maxWidth = 16\n",
    "print(\"\\n\".join(fullJustify(words, maxWidth)))"
   ]
  },
  {
   "cell_type": "code",
   "execution_count": null,
   "id": "b2a08a4a",
   "metadata": {},
   "outputs": [],
   "source": []
  }
 ],
 "metadata": {
  "kernelspec": {
   "display_name": "Python 3 (ipykernel)",
   "language": "python",
   "name": "python3"
  },
  "language_info": {
   "codemirror_mode": {
    "name": "ipython",
    "version": 3
   },
   "file_extension": ".py",
   "mimetype": "text/x-python",
   "name": "python",
   "nbconvert_exporter": "python",
   "pygments_lexer": "ipython3",
   "version": "3.8.11"
  }
 },
 "nbformat": 4,
 "nbformat_minor": 5
}
