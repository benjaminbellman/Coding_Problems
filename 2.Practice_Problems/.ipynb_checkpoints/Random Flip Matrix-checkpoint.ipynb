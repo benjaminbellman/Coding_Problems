{
 "cells": [
  {
   "cell_type": "markdown",
   "id": "ac8bbf04",
   "metadata": {},
   "source": [
    "# Random Flip Matrix"
   ]
  },
  {
   "cell_type": "markdown",
   "id": "71d9fe55",
   "metadata": {},
   "source": [
    "There is an m x n binary grid matrix with all the values set 0 initially. Design an algorithm to randomly pick an index (i, j) where matrix[i][j] == 0 and flips it to 1. All the indices (i, j) where matrix[i][j] == 0 should be equally likely to be returned.\n",
    "\n",
    "Optimize your algorithm to minimize the number of calls made to the built-in random function of your language and optimize the time and space complexity.\n",
    "\n",
    "Implement the Solution class:\n",
    "\n",
    "Solution(int m, int n) Initializes the object with the size of the binary matrix m and n.\n",
    "int[] flip() Returns a random index [i, j] of the matrix where matrix[i][j] == 0 and flips it to 1.\n",
    "void reset() Resets all the values of the matrix to be 0.\n",
    " \n",
    "\n",
    "**Example 1:**\n",
    "\n",
    "Input\n",
    "[\"Solution\", \"flip\", \"flip\", \"flip\", \"reset\", \"flip\"]\n",
    "[[3, 1], [], [], [], [], []]\n",
    "Output\n",
    "[null, [1, 0], [2, 0], [0, 0], null, [2, 0]]\n",
    "\n",
    "Explanation\n",
    "Solution solution = new Solution(3, 1);\n",
    "solution.flip();  // return [1, 0], [0,0], [1,0], and [2,0] should be equally likely to be returned.\n",
    "solution.flip();  // return [2, 0], Since [1,0] was returned, [2,0] and [0,0]\n",
    "solution.flip();  // return [0, 0], Based on the previously returned indices, only [0,0] can be returned.\n",
    "solution.reset(); // All the values are reset to 0 and can be returned.\n",
    "solution.flip();  // return [2, 0], [0,0], [1,0], and [2,0] should be equally likely to be returned.\n",
    " \n",
    "\n",
    "**Constraints:**\n",
    "\n",
    "- 1 <= m, n <= 104\n",
    "- There will be at least one free cell for each call to flip.\n",
    "- At most 1000 calls will be made to flip and reset."
   ]
  },
  {
   "cell_type": "code",
   "execution_count": 1,
   "id": "6fdeb14b",
   "metadata": {},
   "outputs": [],
   "source": [
    "import random\n",
    "\n",
    "class Solution:\n",
    "\n",
    "    def __init__(self, m: int, n: int):\n",
    "        self.m, self.n = m, n\n",
    "        self.available = list(range(m * n))\n",
    "\n",
    "    def flip(self) -> [int]:\n",
    "        # Pick a random index from the list of available cells\n",
    "        idx = random.choice(self.available)\n",
    "        self.available.remove(idx)\n",
    "\n",
    "        # Convert the unique ID back to (i, j) and return\n",
    "        i, j = divmod(idx, self.n)\n",
    "        return [i, j]\n",
    "\n",
    "    def reset(self) -> None:\n",
    "        # Repopulate the list of available cells\n",
    "        self.available = list(range(self.m * self.n))"
   ]
  },
  {
   "cell_type": "code",
   "execution_count": null,
   "id": "894857c6",
   "metadata": {},
   "outputs": [],
   "source": []
  }
 ],
 "metadata": {
  "kernelspec": {
   "display_name": "Python 3",
   "language": "python",
   "name": "python3"
  },
  "language_info": {
   "codemirror_mode": {
    "name": "ipython",
    "version": 3
   },
   "file_extension": ".py",
   "mimetype": "text/x-python",
   "name": "python",
   "nbconvert_exporter": "python",
   "pygments_lexer": "ipython3",
   "version": "3.9.13"
  }
 },
 "nbformat": 4,
 "nbformat_minor": 5
}
