{
 "cells": [
  {
   "cell_type": "markdown",
   "id": "5837b477",
   "metadata": {},
   "source": [
    "# Design a HashMap"
   ]
  },
  {
   "cell_type": "markdown",
   "id": "0e70f26e",
   "metadata": {},
   "source": [
    "Design a HashMap without using any built-in hash table libraries.\n",
    "\n",
    "Implement the MyHashMap class:\n",
    "\n",
    "MyHashMap() initializes the object with an empty map.\n",
    "void put(int key, int value) inserts a (key, value) pair into the HashMap. If the key already exists in the map, update the corresponding value.\n",
    "int get(int key) returns the value to which the specified key is mapped, or -1 if this map contains no mapping for the key.\n",
    "void remove(key) removes the key and its corresponding value if the map contains the mapping for the key.\n",
    " \n",
    "\n",
    "**Example 1:**\n",
    "\n",
    "Input\n",
    "[\"MyHashMap\", \"put\", \"put\", \"get\", \"get\", \"put\", \"get\", \"remove\", \"get\"]\n",
    "[[], [1, 1], [2, 2], [1], [3], [2, 1], [2], [2], [2]]\n",
    "Output\n",
    "[null, null, null, 1, -1, null, 1, null, -1]\n",
    "\n",
    "Explanation\n",
    "\n",
    "    MyHashMap myHashMap = new MyHashMap();\n",
    "    myHashMap.put(1, 1); // The map is now [[1,1]]\n",
    "    myHashMap.put(2, 2); // The map is now [[1,1], [2,2]]\n",
    "    myHashMap.get(1);    // return 1, The map is now [[1,1], [2,2]]\n",
    "    myHashMap.get(3);    // return -1 (i.e., not found), The map is now [[1,1], [2,2]]\n",
    "    myHashMap.put(2, 1); // The map is now [[1,1], [2,1]] (i.e., update the existing value)\n",
    "    myHashMap.get(2);    // return 1, The map is now [[1,1], [2,1]]\n",
    "    myHashMap.remove(2); // remove the mapping for 2, The map is now [[1,1]]\n",
    "    myHashMap.get(2);    // return -1 (i.e., not found), The map is now [[1,1]]\n",
    " \n",
    "\n",
    "**Constraints:**\n",
    "\n",
    "- 0 <= key, value <= 106\n",
    "- At most 104 calls will be made to put, get, and remove."
   ]
  },
  {
   "cell_type": "code",
   "execution_count": 2,
   "id": "87e8fafb",
   "metadata": {},
   "outputs": [
    {
     "name": "stdout",
     "output_type": "stream",
     "text": [
      "1\n",
      "-1\n",
      "1\n",
      "-1\n"
     ]
    }
   ],
   "source": [
    "class ListNode:\n",
    "    def __init__(self, key, value):\n",
    "        self.key = key\n",
    "        self.value = value\n",
    "        self.next = None\n",
    "\n",
    "class MyHashMap:\n",
    "    def __init__(self):\n",
    "        self.size = 10000\n",
    "        self.buckets = [None] * self.size\n",
    "\n",
    "    def hash_function(self, key):\n",
    "        return key % self.size\n",
    "\n",
    "    def put(self, key, value):\n",
    "        index = self.hash_function(key)\n",
    "        if not self.buckets[index]:\n",
    "            self.buckets[index] = ListNode(-1, -1)  # Dummy node\n",
    "        prev = self.find(self.buckets[index], key)\n",
    "        if not prev.next:\n",
    "            prev.next = ListNode(key, value)\n",
    "        else:\n",
    "            prev.next.value = value\n",
    "\n",
    "    def get(self, key):\n",
    "        index = self.hash_function(key)\n",
    "        if not self.buckets[index]:\n",
    "            return -1\n",
    "        prev = self.find(self.buckets[index], key)\n",
    "        if prev.next:\n",
    "            return prev.next.value\n",
    "        return -1\n",
    "\n",
    "    def remove(self, key):\n",
    "        index = self.hash_function(key)\n",
    "        if not self.buckets[index]:\n",
    "            return\n",
    "        prev = self.find(self.buckets[index], key)\n",
    "        if prev.next:\n",
    "            prev.next = prev.next.next\n",
    "\n",
    "    def find(self, head, key):\n",
    "        curr = head\n",
    "        prev = None\n",
    "        while curr and curr.key != key:\n",
    "            prev = curr\n",
    "            curr = curr.next\n",
    "        return prev\n",
    "\n",
    "# Example usage:\n",
    "myHashMap = MyHashMap()\n",
    "myHashMap.put(1, 1)\n",
    "myHashMap.put(2, 2)\n",
    "print(myHashMap.get(1))   # Output: 1\n",
    "print(myHashMap.get(3))   # Output: -1\n",
    "myHashMap.put(2, 1)\n",
    "print(myHashMap.get(2))   # Output: 1\n",
    "myHashMap.remove(2)\n",
    "print(myHashMap.get(2))   # Output: -1"
   ]
  },
  {
   "cell_type": "code",
   "execution_count": null,
   "id": "42798454",
   "metadata": {},
   "outputs": [],
   "source": []
  }
 ],
 "metadata": {
  "kernelspec": {
   "display_name": "Python 3",
   "language": "python",
   "name": "python3"
  },
  "language_info": {
   "codemirror_mode": {
    "name": "ipython",
    "version": 3
   },
   "file_extension": ".py",
   "mimetype": "text/x-python",
   "name": "python",
   "nbconvert_exporter": "python",
   "pygments_lexer": "ipython3",
   "version": "3.9.13"
  }
 },
 "nbformat": 4,
 "nbformat_minor": 5
}
