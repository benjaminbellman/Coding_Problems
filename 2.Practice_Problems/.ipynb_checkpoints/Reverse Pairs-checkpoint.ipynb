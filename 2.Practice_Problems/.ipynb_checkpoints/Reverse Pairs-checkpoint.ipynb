{
 "cells": [
  {
   "cell_type": "markdown",
   "id": "f58596a7",
   "metadata": {},
   "source": [
    "# Reverse Pairs"
   ]
  },
  {
   "cell_type": "markdown",
   "id": "2dcdc8b4",
   "metadata": {},
   "source": [
    "Given an integer array nums, return the number of reverse pairs in the array.\n",
    "\n",
    "A reverse pair is a pair (i, j) where:\n",
    "\n",
    "0 <= i < j < nums.length and\n",
    "nums[i] > 2 * nums[j].\n",
    " \n",
    "\n",
    "**Example 1:**\n",
    "\n",
    "Input: nums = [1,3,2,3,1]\n",
    "\n",
    "Output: 2\n",
    "\n",
    "Explanation: The reverse pairs are:\n",
    "\n",
    "(1, 4) --> nums[1] = 3, nums[4] = 1, 3 > 2 * 1\n",
    "\n",
    "(3, 4) --> nums[3] = 3, nums[4] = 1, 3 > 2 * 1\n",
    "\n",
    "**Example 2:**\n",
    "\n",
    "Input: nums = [2,4,3,5,1]\n",
    "\n",
    "Output: 3\n",
    "\n",
    "Explanation: The reverse pairs are:\n",
    "\n",
    "(1, 4) --> nums[1] = 4, nums[4] = 1, 4 > 2 * 1\n",
    "\n",
    "(2, 4) --> nums[2] = 3, nums[4] = 1, 3 > 2 * 1\n",
    "\n",
    "(3, 4) --> nums[3] = 5, nums[4] = 1, 5 > 2 * 1\n",
    " \n",
    "\n",
    "**Constraints:**\n",
    "\n",
    "- 1 <= nums.length <= 5 * 104\n",
    "- -231 <= nums[i] <= 231 - 1"
   ]
  },
  {
   "cell_type": "code",
   "execution_count": 1,
   "id": "41a8fadf",
   "metadata": {},
   "outputs": [
    {
     "name": "stdout",
     "output_type": "stream",
     "text": [
      "2\n",
      "3\n"
     ]
    }
   ],
   "source": [
    "def merge_and_count(nums, start, mid, end):\n",
    "    count = 0\n",
    "    j = mid + 1\n",
    "    \n",
    "    for i in range(start, mid + 1):\n",
    "        while j <= end and nums[i] > 2 * nums[j]:\n",
    "            j += 1\n",
    "        count += (j - mid - 1)\n",
    "    \n",
    "    temp = []\n",
    "    i, j = start, mid + 1\n",
    "    while i <= mid and j <= end:\n",
    "        if nums[i] <= nums[j]:\n",
    "            temp.append(nums[i])\n",
    "            i += 1\n",
    "        else:\n",
    "            temp.append(nums[j])\n",
    "            j += 1\n",
    "    \n",
    "    while i <= mid:\n",
    "        temp.append(nums[i])\n",
    "        i += 1\n",
    "    \n",
    "    while j <= end:\n",
    "        temp.append(nums[j])\n",
    "        j += 1\n",
    "    \n",
    "    for i in range(len(temp)):\n",
    "        nums[start + i] = temp[i]\n",
    "    \n",
    "    return count\n",
    "\n",
    "def countReversePairsUtil(nums, start, end):\n",
    "    if start >= end:\n",
    "        return 0\n",
    "    \n",
    "    mid = (start + end) // 2\n",
    "    count = countReversePairsUtil(nums, start, mid)\n",
    "    count += countReversePairsUtil(nums, mid + 1, end)\n",
    "    count += merge_and_count(nums, start, mid, end)\n",
    "    \n",
    "    return count\n",
    "\n",
    "def countReversePairs(nums):\n",
    "    return countReversePairsUtil(nums, 0, len(nums) - 1)\n",
    "\n",
    "# Test the function\n",
    "print(countReversePairs([1, 3, 2, 3, 1]))  # Output should be 2\n",
    "print(countReversePairs([2, 4, 3, 5, 1]))  # Output should be 3"
   ]
  },
  {
   "cell_type": "code",
   "execution_count": null,
   "id": "d72adc52",
   "metadata": {},
   "outputs": [],
   "source": []
  }
 ],
 "metadata": {
  "kernelspec": {
   "display_name": "Python 3",
   "language": "python",
   "name": "python3"
  },
  "language_info": {
   "codemirror_mode": {
    "name": "ipython",
    "version": 3
   },
   "file_extension": ".py",
   "mimetype": "text/x-python",
   "name": "python",
   "nbconvert_exporter": "python",
   "pygments_lexer": "ipython3",
   "version": "3.9.13"
  }
 },
 "nbformat": 4,
 "nbformat_minor": 5
}
