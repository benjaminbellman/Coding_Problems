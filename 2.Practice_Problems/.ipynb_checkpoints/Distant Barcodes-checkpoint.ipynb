{
 "cells": [
  {
   "cell_type": "markdown",
   "id": "bfe9d7e4",
   "metadata": {},
   "source": [
    "# Distant Barcodes"
   ]
  },
  {
   "cell_type": "markdown",
   "id": "730359e4",
   "metadata": {},
   "source": [
    "In a warehouse, there is a row of barcodes, where the ith barcode is barcodes[i].\n",
    "\n",
    "Rearrange the barcodes so that no two adjacent barcodes are equal. You may return any answer, and it is guaranteed an answer exists.\n",
    "\n",
    "**Example 1:**\n",
    "\n",
    "Input: barcodes = [1,1,1,2,2,2]\n",
    "Output: [2,1,2,1,2,1]\n",
    "\n",
    "**Example 2:**\n",
    "\n",
    "Input: barcodes = [1,1,1,1,2,2,3,3]\n",
    "Output: [1,3,1,3,1,2,1,2]\n",
    " \n",
    "**Constraints:**\n",
    "\n",
    "- 1 <= barcodes.length <= 10000\n",
    "- 1 <= barcodes[i] <= 10000"
   ]
  },
  {
   "cell_type": "code",
   "execution_count": 1,
   "id": "99bf5a7e",
   "metadata": {},
   "outputs": [
    {
     "name": "stdout",
     "output_type": "stream",
     "text": [
      "[1, 2, 1, 2, 1, 2]\n",
      "[1, 2, 1, 2, 1, 3, 1, 3]\n"
     ]
    }
   ],
   "source": [
    "from collections import Counter\n",
    "import heapq\n",
    "\n",
    "def rearrange_barcodes(barcodes):\n",
    "    # Count the frequencies of the barcodes\n",
    "    freq = Counter(barcodes)\n",
    "    \n",
    "    # Use a max-heap (negative frequencies for max-heap)\n",
    "    max_heap = [(-count, num) for num, count in freq.items()]\n",
    "    heapq.heapify(max_heap)\n",
    "    \n",
    "    # Resultant list\n",
    "    result = [0] * len(barcodes)\n",
    "    index = 0\n",
    "    \n",
    "    # Place the elements\n",
    "    while max_heap:\n",
    "        count, num = heapq.heappop(max_heap)\n",
    "        for _ in range(-count):\n",
    "            result[index] = num\n",
    "            index += 2\n",
    "            if index >= len(barcodes):\n",
    "                index = 1  # Start filling odd indices\n",
    "    \n",
    "    return result\n",
    "\n",
    "# Example usage\n",
    "barcodes1 = [1, 1, 1, 2, 2, 2]\n",
    "barcodes2 = [1, 1, 1, 1, 2, 2, 3, 3]\n",
    "\n",
    "print(rearrange_barcodes(barcodes1))  # Output: [2, 1, 2, 1, 2, 1]\n",
    "print(rearrange_barcodes(barcodes2))  # Output: [1, 3, 1, 3, 1, 2, 1, 2]"
   ]
  },
  {
   "cell_type": "code",
   "execution_count": null,
   "id": "6d70416f",
   "metadata": {},
   "outputs": [],
   "source": []
  }
 ],
 "metadata": {
  "kernelspec": {
   "display_name": "Python 3 (ipykernel)",
   "language": "python",
   "name": "python3"
  },
  "language_info": {
   "codemirror_mode": {
    "name": "ipython",
    "version": 3
   },
   "file_extension": ".py",
   "mimetype": "text/x-python",
   "name": "python",
   "nbconvert_exporter": "python",
   "pygments_lexer": "ipython3",
   "version": "3.8.11"
  }
 },
 "nbformat": 4,
 "nbformat_minor": 5
}
