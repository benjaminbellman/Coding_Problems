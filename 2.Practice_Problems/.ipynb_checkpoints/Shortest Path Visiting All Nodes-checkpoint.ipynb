{
 "cells": [
  {
   "cell_type": "markdown",
   "id": "aca34c22",
   "metadata": {},
   "source": [
    "# Shortest Path Visiting All Nodes"
   ]
  },
  {
   "cell_type": "markdown",
   "id": "95e35c77",
   "metadata": {},
   "source": [
    "You have an undirected, connected graph of n nodes labeled from 0 to n - 1. You are given an array graph where graph[i] is a list of all the nodes connected with node i by an edge.\n",
    "\n",
    "Return the length of the shortest path that visits every node. You may start and stop at any node, you may revisit nodes multiple times, and you may reuse edges.\n",
    "\n",
    " \n",
    "\n",
    "**Example 1:**\n",
    "\n",
    "\n",
    "Input: graph = [[1,2,3],[0],[0],[0]]\n",
    "Output: 4\n",
    "Explanation: One possible path is [1,0,2,0,3]\n",
    "\n",
    "**Example 2:**\n",
    "\n",
    "\n",
    "Input: graph = [[1],[0,2,4],[1,3,4],[2],[1,2]]\n",
    "Output: 4\n",
    "Explanation: One possible path is [0,1,4,2,3]\n",
    " \n",
    "\n",
    "**Constraints:**\n",
    "\n",
    "- n == graph.length\n",
    "- 1 <= n <= 12\n",
    "- 0 <= graph[i].length < n\n",
    "- graph[i] does not contain i.\n",
    "- If graph[a] contains b, then graph[b] contains a.\n",
    "- The input graph is always connected."
   ]
  },
  {
   "cell_type": "code",
   "execution_count": 1,
   "id": "fd9e7201",
   "metadata": {},
   "outputs": [
    {
     "name": "stdout",
     "output_type": "stream",
     "text": [
      "inf\n",
      "4\n"
     ]
    }
   ],
   "source": [
    "def shortestPathLength(graph):\n",
    "    from collections import deque\n",
    "    \n",
    "    n = len(graph)\n",
    "    if n == 1:\n",
    "        return 0\n",
    "    \n",
    "    # Step 1: Initialize DP table\n",
    "    dp = [[float('inf')] * n for _ in range(1 << n)]\n",
    "    \n",
    "    # Initialize base cases: starting from each node i\n",
    "    for i in range(n):\n",
    "        dp[1 << i][i] = 0\n",
    "    \n",
    "    # Step 2: Fill DP table\n",
    "    for mask in range(1 << n):\n",
    "        for u in range(n):\n",
    "            if dp[mask][u] == float('inf'):\n",
    "                continue\n",
    "            for v in graph[u]:\n",
    "                new_mask = mask | (1 << v)\n",
    "                if dp[mask][u] + 1 < dp[new_mask][v]:\n",
    "                    dp[new_mask][v] = dp[mask][u] + 1\n",
    "    \n",
    "    # Step 3: Find the minimum path length\n",
    "    min_path_length = float('inf')\n",
    "    full_mask = (1 << n) - 1\n",
    "    for i in range(n):\n",
    "        min_path_length = min(min_path_length, dp[full_mask][i])\n",
    "    \n",
    "    return min_path_length\n",
    "\n",
    "# Example usage:\n",
    "graph1 = [[1,2,3],[0],[0],[0]]\n",
    "graph2 = [[1],[0,2,4],[1,3,4],[2],[1,2]]\n",
    "\n",
    "print(shortestPathLength(graph1))  # Output: 4\n",
    "print(shortestPathLength(graph2))  # Output: 4"
   ]
  },
  {
   "cell_type": "code",
   "execution_count": null,
   "id": "1308bd98",
   "metadata": {},
   "outputs": [],
   "source": []
  }
 ],
 "metadata": {
  "kernelspec": {
   "display_name": "Python 3 (ipykernel)",
   "language": "python",
   "name": "python3"
  },
  "language_info": {
   "codemirror_mode": {
    "name": "ipython",
    "version": 3
   },
   "file_extension": ".py",
   "mimetype": "text/x-python",
   "name": "python",
   "nbconvert_exporter": "python",
   "pygments_lexer": "ipython3",
   "version": "3.8.11"
  }
 },
 "nbformat": 4,
 "nbformat_minor": 5
}
