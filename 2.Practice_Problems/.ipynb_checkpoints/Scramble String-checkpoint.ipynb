{
 "cells": [
  {
   "cell_type": "markdown",
   "id": "1e8be2b6",
   "metadata": {},
   "source": [
    "#  Scramble String"
   ]
  },
  {
   "cell_type": "markdown",
   "id": "4df2dcf5",
   "metadata": {},
   "source": [
    "We can scramble a string s to get a string t using the following algorithm:\n",
    "\n",
    "If the length of the string is 1, stop.\n",
    "If the length of the string is > 1, do the following:\n",
    "Split the string into two non-empty substrings at a random index, i.e., if the string is s, divide it to x and y where s = x + y.\n",
    "Randomly decide to swap the two substrings or to keep them in the same order. i.e., after this step, s may become s = x + y or s = y + x.\n",
    "Apply step 1 recursively on each of the two substrings x and y.\n",
    "Given two strings s1 and s2 of the same length, return true if s2 is a scrambled string of s1, otherwise, return false.\n",
    "\n",
    "**Example 1:**\n",
    "\n",
    "Input: s1 = \"great\", s2 = \"rgeat\"\n",
    "Output: true\n",
    "Explanation: One possible scenario applied on s1 is:\n",
    "\"great\" --> \"gr/eat\" // divide at random index.\n",
    "\"gr/eat\" --> \"gr/eat\" // random decision is not to swap the two substrings and keep them in order.\n",
    "\"gr/eat\" --> \"g/r / e/at\" // apply the same algorithm recursively on both substrings. divide at random index each of them.\n",
    "\"g/r / e/at\" --> \"r/g / e/at\" // random decision was to swap the first substring and to keep the second substring in the same order.\n",
    "\"r/g / e/at\" --> \"r/g / e/ a/t\" // again apply the algorithm recursively, divide \"at\" to \"a/t\".\n",
    "\"r/g / e/ a/t\" --> \"r/g / e/ a/t\" // random decision is to keep both substrings in the same order.\n",
    "The algorithm stops now, and the result string is \"rgeat\" which is s2.\n",
    "As one possible scenario led s1 to be scrambled to s2, we return true.\n",
    "\n",
    "**Example 2:**\n",
    "\n",
    "Input: s1 = \"abcde\", s2 = \"caebd\"\n",
    "Output: false\n",
    "\n",
    "**Example 3:**\n",
    "\n",
    "Input: s1 = \"a\", s2 = \"a\"\n",
    "Output: true\n",
    " \n",
    "**Constraints:**\n",
    "\n",
    "- s1.length == s2.length\n",
    "- 1 <= s1.length <= 30\n",
    "- s1 and s2 consist of lowercase English letters."
   ]
  },
  {
   "cell_type": "code",
   "execution_count": 1,
   "id": "03f25abf",
   "metadata": {},
   "outputs": [],
   "source": [
    "from functools import lru_cache\n",
    "\n",
    "def isScramble(s1: str, s2: str) -> bool:\n",
    "    @lru_cache(None)\n",
    "    def helper(a, b):\n",
    "        if a == b:\n",
    "            return True\n",
    "        if sorted(a) != sorted(b):\n",
    "            return False\n",
    "        \n",
    "        n = len(a)\n",
    "        for i in range(1, n):\n",
    "            # No swap\n",
    "            if helper(a[:i], b[:i]) and helper(a[i:], b[i:]):\n",
    "                return True\n",
    "            # Swap\n",
    "            if helper(a[:i], b[-i:]) and helper(a[i:], b[:-i]):\n",
    "                return True\n",
    "        return False\n",
    "    \n",
    "    return helper(s1, s2)"
   ]
  },
  {
   "cell_type": "code",
   "execution_count": null,
   "id": "507e43c9",
   "metadata": {},
   "outputs": [],
   "source": []
  }
 ],
 "metadata": {
  "kernelspec": {
   "display_name": "Python 3 (ipykernel)",
   "language": "python",
   "name": "python3"
  },
  "language_info": {
   "codemirror_mode": {
    "name": "ipython",
    "version": 3
   },
   "file_extension": ".py",
   "mimetype": "text/x-python",
   "name": "python",
   "nbconvert_exporter": "python",
   "pygments_lexer": "ipython3",
   "version": "3.8.11"
  }
 },
 "nbformat": 4,
 "nbformat_minor": 5
}
