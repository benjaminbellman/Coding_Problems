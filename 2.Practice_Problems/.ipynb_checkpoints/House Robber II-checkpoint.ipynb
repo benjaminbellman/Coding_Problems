{
 "cells": [
  {
   "cell_type": "markdown",
   "id": "6c1ae576",
   "metadata": {},
   "source": [
    "# House Robber II"
   ]
  },
  {
   "cell_type": "markdown",
   "id": "8b114972",
   "metadata": {},
   "source": [
    "You are a professional robber planning to rob houses along a street. Each house has a certain amount of money stashed. All houses at this place are arranged in a circle. That means the first house is the neighbor of the last one. Meanwhile, adjacent houses have a security system connected, and it will automatically contact the police if two adjacent houses were broken into on the same night.\n",
    "\n",
    "Given an integer array nums representing the amount of money of each house, return the maximum amount of money you can rob tonight without alerting the police.\n",
    "\n",
    " \n",
    "\n",
    "**Example 1:**\n",
    "\n",
    "Input: nums = [2,3,2]\n",
    "Output: 3\n",
    "Explanation: You cannot rob house 1 (money = 2) and then rob house 3 (money = 2), because they are adjacent houses.\n",
    "\n",
    "**Example 2:**\n",
    "\n",
    "Input: nums = [1,2,3,1]\n",
    "Output: 4\n",
    "Explanation: Rob house 1 (money = 1) and then rob house 3 (money = 3).\n",
    "Total amount you can rob = 1 + 3 = 4.\n",
    "\n",
    "**Example 3:**\n",
    "\n",
    "Input: nums = [1,2,3]\n",
    "Output: 3\n",
    " \n",
    "\n",
    "**Constraints:**\n",
    "\n",
    "1 <= nums.length <= 100\n",
    "0 <= nums[i] <= 1000"
   ]
  },
  {
   "cell_type": "code",
   "execution_count": 1,
   "id": "402a4e38",
   "metadata": {},
   "outputs": [],
   "source": [
    "def rob(nums):\n",
    "    if len(nums) == 1:\n",
    "        return nums[0]\n",
    "    \n",
    "    # Case 1: rob the first house and skip the last house\n",
    "    dp1 = [0] * len(nums)\n",
    "    dp1[0] = nums[0]\n",
    "    dp1[1] = max(nums[0], nums[1])\n",
    "    for i in range(2, len(nums) - 1):\n",
    "        dp1[i] = max(dp1[i-1], dp1[i-2] + nums[i])\n",
    "    \n",
    "    # Case 2: skip the first house and rob the last house\n",
    "    dp2 = [0] * len(nums)\n",
    "    dp2[1] = nums[1]\n",
    "    for i in range(2, len(nums)):\n",
    "        dp2[i] = max(dp2[i-1], dp2[i-2] + nums[i])\n",
    "    \n",
    "    return max(dp1[-2], dp2[-1])"
   ]
  },
  {
   "cell_type": "code",
   "execution_count": 2,
   "id": "820e5f19",
   "metadata": {},
   "outputs": [
    {
     "name": "stdout",
     "output_type": "stream",
     "text": [
      "3\n",
      "4\n",
      "3\n"
     ]
    }
   ],
   "source": [
    "# Example 1\n",
    "nums = [2,3,2]\n",
    "print(rob(nums))  # Output: 3\n",
    "\n",
    "# Example 2\n",
    "nums = [1,2,3,1]\n",
    "print(rob(nums))  # Output: 4\n",
    "\n",
    "# Example 3\n",
    "nums = [1,2,3]\n",
    "print(rob(nums))  # Output: 3"
   ]
  }
 ],
 "metadata": {
  "kernelspec": {
   "display_name": "Python 3",
   "language": "python",
   "name": "python3"
  },
  "language_info": {
   "codemirror_mode": {
    "name": "ipython",
    "version": 3
   },
   "file_extension": ".py",
   "mimetype": "text/x-python",
   "name": "python",
   "nbconvert_exporter": "python",
   "pygments_lexer": "ipython3",
   "version": "3.9.13"
  }
 },
 "nbformat": 4,
 "nbformat_minor": 5
}
