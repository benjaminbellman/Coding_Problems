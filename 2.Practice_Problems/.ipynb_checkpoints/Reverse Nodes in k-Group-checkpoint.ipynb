{
 "cells": [
  {
   "cell_type": "markdown",
   "id": "808bc464",
   "metadata": {},
   "source": [
    "# Reverse Nodes in k-Group"
   ]
  },
  {
   "cell_type": "markdown",
   "id": "c5e31402",
   "metadata": {},
   "source": [
    "Given the head of a linked list, reverse the nodes of the list k at a time, and return the modified list.\n",
    "\n",
    "k is a positive integer and is less than or equal to the length of the linked list. If the number of nodes is not a multiple of k then left-out nodes, in the end, should remain as it is.\n",
    "\n",
    "You may not alter the values in the list's nodes, only nodes themselves may be changed.\n",
    "\n",
    "**Example 1:**\n",
    "\n",
    "\n",
    "Input: head = [1,2,3,4,5], k = 2\n",
    "Output: [2,1,4,3,5]\n",
    "\n",
    "**Example 2:**\n",
    "\n",
    "Input: head = [1,2,3,4,5], k = 3\n",
    "Output: [3,2,1,4,5]\n",
    " \n",
    "**Constraints:**\n",
    "\n",
    "- The number of nodes in the list is n.\n",
    "- 1 <= k <= n <= 5000\n",
    "- 0 <= Node.val <= 1000"
   ]
  },
  {
   "cell_type": "code",
   "execution_count": 1,
   "id": "d34c5985",
   "metadata": {},
   "outputs": [],
   "source": [
    "class ListNode:\n",
    "    def __init__(self, val=0, next=None):\n",
    "        self.val = val\n",
    "        self.next = next\n",
    "\n",
    "def reverseKGroup(head: ListNode, k: int) -> ListNode:\n",
    "    def get_kth(curr, k):\n",
    "        while curr and k > 0:\n",
    "            curr = curr.next\n",
    "            k -= 1\n",
    "        return curr\n",
    "\n",
    "    dummy = ListNode(0)\n",
    "    dummy.next = head\n",
    "    group_prev = dummy\n",
    "\n",
    "    while True:\n",
    "        kth = get_kth(group_prev, k)\n",
    "        if not kth:\n",
    "            break\n",
    "        group_next = kth.next\n",
    "\n",
    "        # Reverse k nodes\n",
    "        prev, curr = kth.next, group_prev.next\n",
    "        for _ in range(k):\n",
    "            tmp = curr.next\n",
    "            curr.next = prev\n",
    "            prev = curr\n",
    "            curr = tmp\n",
    "\n",
    "        tmp = group_prev.next\n",
    "        group_prev.next = kth\n",
    "        group_prev = tmp\n",
    "\n",
    "    return dummy.next"
   ]
  },
  {
   "cell_type": "code",
   "execution_count": null,
   "id": "fe48c187",
   "metadata": {},
   "outputs": [],
   "source": []
  }
 ],
 "metadata": {
  "kernelspec": {
   "display_name": "Python 3 (ipykernel)",
   "language": "python",
   "name": "python3"
  },
  "language_info": {
   "codemirror_mode": {
    "name": "ipython",
    "version": 3
   },
   "file_extension": ".py",
   "mimetype": "text/x-python",
   "name": "python",
   "nbconvert_exporter": "python",
   "pygments_lexer": "ipython3",
   "version": "3.8.11"
  }
 },
 "nbformat": 4,
 "nbformat_minor": 5
}
