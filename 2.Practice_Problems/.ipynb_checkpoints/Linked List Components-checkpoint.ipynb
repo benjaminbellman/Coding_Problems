{
 "cells": [
  {
   "cell_type": "markdown",
   "id": "42942e62",
   "metadata": {},
   "source": [
    "# Linked List Components"
   ]
  },
  {
   "cell_type": "markdown",
   "id": "e5d0e838",
   "metadata": {},
   "source": [
    "You are given the head of a linked list containing unique integer values and an integer array nums that is a subset of the linked list values.\n",
    "\n",
    "Return the number of connected components in nums where two values are connected if they appear consecutively in the linked list.\n",
    "\n",
    "**Example 1:**\n",
    "\n",
    "Input: head = [0,1,2,3], nums = [0,1,3]\n",
    "Output: 2\n",
    "Explanation: 0 and 1 are connected, so [0, 1] and [3] are the two connected components.\n",
    "\n",
    "**Example 2:**\n",
    "\n",
    "\n",
    "Input: head = [0,1,2,3,4], nums = [0,3,1,4]\n",
    "Output: 2\n",
    "Explanation: 0 and 1 are connected, 3 and 4 are connected, so [0, 1] and [3, 4] are the two connected components.\n",
    "\n",
    "**Constraints:**\n",
    "\n",
    "- The number of nodes in the linked list is n.\n",
    "- 1 <= n <= 104\n",
    "- 0 <= Node.val < n\n",
    "- All the values Node.val are unique.\n",
    "- 1 <= nums.length <= n\n",
    "- 0 <= nums[i] < n\n",
    "- All the values of nums are unique."
   ]
  },
  {
   "cell_type": "code",
   "execution_count": 1,
   "id": "0f1abb06",
   "metadata": {},
   "outputs": [
    {
     "name": "stdout",
     "output_type": "stream",
     "text": [
      "2\n",
      "2\n"
     ]
    }
   ],
   "source": [
    "class ListNode:\n",
    "    def __init__(self, val=0, next=None):\n",
    "        self.val = val\n",
    "        self.next = next\n",
    "\n",
    "def countComponents(head, nums):\n",
    "    nums_set = set(nums)\n",
    "    connected_components = 0\n",
    "    current = head\n",
    "\n",
    "    while current:\n",
    "        if current.val in nums_set and (current.next is None or current.next.val not in nums_set):\n",
    "            connected_components += 1\n",
    "        current = current.next\n",
    "\n",
    "    return connected_components\n",
    "\n",
    "# Example usage:\n",
    "head1 = ListNode(0, ListNode(1, ListNode(2, ListNode(3))))\n",
    "nums1 = [0, 1, 3]\n",
    "print(countComponents(head1, nums1))  # Output: 2\n",
    "\n",
    "head2 = ListNode(0, ListNode(1, ListNode(2, ListNode(3, ListNode(4)))))\n",
    "nums2 = [0, 3, 1, 4]\n",
    "print(countComponents(head2, nums2))  # Output: 2"
   ]
  },
  {
   "cell_type": "code",
   "execution_count": null,
   "id": "adf18eea",
   "metadata": {},
   "outputs": [],
   "source": []
  }
 ],
 "metadata": {
  "kernelspec": {
   "display_name": "Python 3",
   "language": "python",
   "name": "python3"
  },
  "language_info": {
   "codemirror_mode": {
    "name": "ipython",
    "version": 3
   },
   "file_extension": ".py",
   "mimetype": "text/x-python",
   "name": "python",
   "nbconvert_exporter": "python",
   "pygments_lexer": "ipython3",
   "version": "3.9.13"
  }
 },
 "nbformat": 4,
 "nbformat_minor": 5
}
