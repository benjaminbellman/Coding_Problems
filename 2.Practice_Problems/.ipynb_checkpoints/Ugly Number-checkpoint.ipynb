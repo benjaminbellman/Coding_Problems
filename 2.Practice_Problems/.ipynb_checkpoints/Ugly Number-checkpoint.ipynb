{
 "cells": [
  {
   "cell_type": "markdown",
   "id": "1f4763db",
   "metadata": {},
   "source": [
    "# Ugly Number"
   ]
  },
  {
   "cell_type": "markdown",
   "id": "a66543e2",
   "metadata": {},
   "source": [
    "An ugly number is a positive integer whose prime factors are limited to 2, 3, and 5.\n",
    "\n",
    "Given an integer n, return true if n is an ugly number.\n",
    "\n",
    " \n",
    "\n",
    "**Example 1:**\n",
    "\n",
    "Input: n = 6\n",
    "Output: true\n",
    "Explanation: 6 = 2 × 3\n",
    "\n",
    "**Example 2:**\n",
    "\n",
    "Input: n = 1\n",
    "Output: true\n",
    "Explanation: 1 has no prime factors, therefore all of its prime factors are limited to 2, 3, and 5.\n",
    "\n",
    "**Example 3:**\n",
    "\n",
    "Input: n = 14\n",
    "Output: false\n",
    "Explanation: 14 is not ugly since it includes the prime factor 7.\n",
    " \n",
    "\n",
    "**Constraints:**\n",
    "\n",
    "-231 <= n <= 231 - 1"
   ]
  },
  {
   "cell_type": "code",
   "execution_count": 1,
   "id": "95f664f1",
   "metadata": {},
   "outputs": [],
   "source": [
    "def isUgly(n: int) -> bool:\n",
    "    if n <= 0:\n",
    "        return False\n",
    "    while n % 2 == 0:\n",
    "        n //= 2\n",
    "    while n % 3 == 0:\n",
    "        n //= 3\n",
    "    while n % 5 == 0:\n",
    "        n //= 5\n",
    "    return n == 1"
   ]
  },
  {
   "cell_type": "code",
   "execution_count": 2,
   "id": "99f5f809",
   "metadata": {},
   "outputs": [
    {
     "name": "stdout",
     "output_type": "stream",
     "text": [
      "True\n",
      "True\n",
      "False\n",
      "False\n"
     ]
    }
   ],
   "source": [
    "print(isUgly(6))   # Output: True\n",
    "print(isUgly(1))   # Output: True\n",
    "print(isUgly(14))  # Output: False\n",
    "print(isUgly(-8))  # Output: False"
   ]
  },
  {
   "cell_type": "code",
   "execution_count": null,
   "id": "e224b833",
   "metadata": {},
   "outputs": [],
   "source": []
  }
 ],
 "metadata": {
  "kernelspec": {
   "display_name": "Python 3",
   "language": "python",
   "name": "python3"
  },
  "language_info": {
   "codemirror_mode": {
    "name": "ipython",
    "version": 3
   },
   "file_extension": ".py",
   "mimetype": "text/x-python",
   "name": "python",
   "nbconvert_exporter": "python",
   "pygments_lexer": "ipython3",
   "version": "3.9.13"
  }
 },
 "nbformat": 4,
 "nbformat_minor": 5
}
