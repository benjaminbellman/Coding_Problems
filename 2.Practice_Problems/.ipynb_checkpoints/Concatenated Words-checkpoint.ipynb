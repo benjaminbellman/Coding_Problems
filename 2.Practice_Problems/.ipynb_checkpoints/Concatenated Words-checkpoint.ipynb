{
 "cells": [
  {
   "cell_type": "markdown",
   "id": "ca41d5e7",
   "metadata": {},
   "source": [
    "# Concatenated Words"
   ]
  },
  {
   "cell_type": "markdown",
   "id": "8a1b0892",
   "metadata": {},
   "source": [
    "Given an array of strings words (without duplicates), return all the concatenated words in the given list of words.\n",
    "\n",
    "A concatenated word is defined as a string that is comprised entirely of at least two shorter words (not necesssarily distinct) in the given array.\n",
    "\n",
    " \n",
    "\n",
    "**Example 1:**\n",
    "\n",
    "Input: words = [\"cat\",\"cats\",\"catsdogcats\",\"dog\",\"dogcatsdog\",\"hippopotamuses\",\"rat\",\"ratcatdogcat\"]\n",
    "Output: [\"catsdogcats\",\"dogcatsdog\",\"ratcatdogcat\"]\n",
    "Explanation: \"catsdogcats\" can be concatenated by \"cats\", \"dog\" and \"cats\"; \n",
    "\"dogcatsdog\" can be concatenated by \"dog\", \"cats\" and \"dog\"; \n",
    "\"ratcatdogcat\" can be concatenated by \"rat\", \"cat\", \"dog\" and \"cat\".\n",
    "\n",
    "**Example 2:**\n",
    "\n",
    "Input: words = [\"cat\",\"dog\",\"catdog\"]\n",
    "Output: [\"catdog\"]\n",
    " \n",
    "\n",
    "**Constraints:**\n",
    "\n",
    "- 1 <= words.length <= 104\n",
    "- 1 <= words[i].length <= 30\n",
    "- words[i] consists of only lowercase English letters.\n",
    "- All the strings of words are unique.\n",
    "- 1 <= sum(words[i].length) <= 105"
   ]
  },
  {
   "cell_type": "code",
   "execution_count": 1,
   "id": "46f0449d",
   "metadata": {},
   "outputs": [
    {
     "name": "stdout",
     "output_type": "stream",
     "text": [
      "['dogcatsdog', 'catsdogcats', 'ratcatdogcat']\n",
      "['catdog']\n"
     ]
    }
   ],
   "source": [
    "def findAllConcatenatedWords(words):\n",
    "    def canConstruct(word, wordSet):\n",
    "        if word in wordSet:\n",
    "            return True\n",
    "        n = len(word)\n",
    "        dp = [False] * (n + 1)\n",
    "        dp[0] = True\n",
    "        for i in range(1, n + 1):\n",
    "            for j in range(i):\n",
    "                if dp[j] and word[j:i] in wordSet:\n",
    "                    dp[i] = True\n",
    "                    break\n",
    "        return dp[n]\n",
    "\n",
    "    words.sort(key=len)\n",
    "    wordSet = set()\n",
    "    result = []\n",
    "    for word in words:\n",
    "        if canConstruct(word, wordSet):\n",
    "            result.append(word)\n",
    "        wordSet.add(word)\n",
    "    return result\n",
    "\n",
    "# Example Usage\n",
    "words1 = [\"cat\",\"cats\",\"catsdogcats\",\"dog\",\"dogcatsdog\",\"hippopotamuses\",\"rat\",\"ratcatdogcat\"]\n",
    "print(findAllConcatenatedWords(words1))\n",
    "\n",
    "words2 = [\"cat\",\"dog\",\"catdog\"]\n",
    "print(findAllConcatenatedWords(words2))"
   ]
  },
  {
   "cell_type": "code",
   "execution_count": null,
   "id": "70629f50",
   "metadata": {},
   "outputs": [],
   "source": []
  }
 ],
 "metadata": {
  "kernelspec": {
   "display_name": "Python 3",
   "language": "python",
   "name": "python3"
  },
  "language_info": {
   "codemirror_mode": {
    "name": "ipython",
    "version": 3
   },
   "file_extension": ".py",
   "mimetype": "text/x-python",
   "name": "python",
   "nbconvert_exporter": "python",
   "pygments_lexer": "ipython3",
   "version": "3.9.13"
  }
 },
 "nbformat": 4,
 "nbformat_minor": 5
}
