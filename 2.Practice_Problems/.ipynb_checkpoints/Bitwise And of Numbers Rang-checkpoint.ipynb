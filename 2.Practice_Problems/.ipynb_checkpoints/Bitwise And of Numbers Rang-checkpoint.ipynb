{
 "cells": [
  {
   "cell_type": "markdown",
   "id": "bf1840e2",
   "metadata": {},
   "source": [
    "# Bitwise AND of Numbers Range"
   ]
  },
  {
   "cell_type": "markdown",
   "id": "160feb89",
   "metadata": {},
   "source": [
    "Given two integers left and right that represent the range [left, right], return the bitwise AND of all numbers in this range, inclusive.\n",
    "\n",
    " \n",
    "\n",
    "**Example 1:**\n",
    "\n",
    "Input: left = 5, right = 7\n",
    "Output: 4\n",
    "\n",
    "**Example 2:**\n",
    "\n",
    "Input: left = 0, right = 0\n",
    "Output: 0\n",
    "\n",
    "**Example 3:**\n",
    "\n",
    "Input: left = 1, right = 2147483647\n",
    "Output: 0\n",
    " \n",
    "\n",
    "Constraints:\n",
    "\n",
    "0 <= left <= right <= 231 - 1"
   ]
  },
  {
   "cell_type": "code",
   "execution_count": 1,
   "id": "a551b83b",
   "metadata": {},
   "outputs": [],
   "source": [
    "class Solution:\n",
    "    def rangeBitwiseAnd(self, left: int, right: int) -> int:\n",
    "        shift = 0\n",
    "        while left != right:\n",
    "            left >>= 1\n",
    "            right >>= 1\n",
    "            shift += 1\n",
    "        return left << shift"
   ]
  },
  {
   "cell_type": "code",
   "execution_count": 2,
   "id": "eb68fe35",
   "metadata": {},
   "outputs": [
    {
     "name": "stdout",
     "output_type": "stream",
     "text": [
      "4\n",
      "0\n",
      "0\n"
     ]
    }
   ],
   "source": [
    "solution = Solution()\n",
    "\n",
    "print(solution.rangeBitwiseAnd(5, 7))    # Output: 4\n",
    "print(solution.rangeBitwiseAnd(0, 0))    # Output: 0\n",
    "print(solution.rangeBitwiseAnd(1, 2147483647))    # Output: 0"
   ]
  }
 ],
 "metadata": {
  "kernelspec": {
   "display_name": "Python 3",
   "language": "python",
   "name": "python3"
  },
  "language_info": {
   "codemirror_mode": {
    "name": "ipython",
    "version": 3
   },
   "file_extension": ".py",
   "mimetype": "text/x-python",
   "name": "python",
   "nbconvert_exporter": "python",
   "pygments_lexer": "ipython3",
   "version": "3.9.13"
  }
 },
 "nbformat": 4,
 "nbformat_minor": 5
}
