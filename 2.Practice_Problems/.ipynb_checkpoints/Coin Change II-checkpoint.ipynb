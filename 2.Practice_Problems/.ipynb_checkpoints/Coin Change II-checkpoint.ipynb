{
 "cells": [
  {
   "cell_type": "markdown",
   "id": "11760c79",
   "metadata": {},
   "source": [
    "# Coin Change II"
   ]
  },
  {
   "cell_type": "markdown",
   "id": "bb99b6ca",
   "metadata": {},
   "source": [
    "You are given an integer array coins representing coins of different denominations and an integer amount representing a total amount of money.\n",
    "\n",
    "Return the number of combinations that make up that amount. If that amount of money cannot be made up by any combination of the coins, return 0.\n",
    "\n",
    "You may assume that you have an infinite number of each kind of coin.\n",
    "\n",
    "The answer is guaranteed to fit into a signed 32-bit integer.\n",
    "\n",
    " \n",
    "\n",
    "**Example 1:**\n",
    "\n",
    "Input: amount = 5, coins = [1,2,5]\n",
    "Output: 4\n",
    "Explanation: there are four ways to make up the amount:\n",
    "5=5\n",
    "5=2+2+1\n",
    "5=2+1+1+1\n",
    "5=1+1+1+1+1\n",
    "\n",
    "**Example 2:**\n",
    "\n",
    "Input: amount = 3, coins = [2]\n",
    "Output: 0\n",
    "Explanation: the amount of 3 cannot be made up just with coins of 2.\n",
    "\n",
    "**Example 3:**\n",
    "\n",
    "Input: amount = 10, coins = [10]\n",
    "Output: 1\n",
    " \n",
    "\n",
    "**Constraints:**\n",
    "\n",
    "- 1 <= coins.length <= 300\n",
    "- 1 <= coins[i] <= 5000\n",
    "- All the values of coins are unique.\n",
    "- 0 <= amount <= 5000"
   ]
  },
  {
   "cell_type": "code",
   "execution_count": 1,
   "id": "0dc4f7c1",
   "metadata": {},
   "outputs": [
    {
     "name": "stdout",
     "output_type": "stream",
     "text": [
      "4\n",
      "0\n",
      "1\n"
     ]
    }
   ],
   "source": [
    "def coinCombinations(amount, coins):\n",
    "    dp = [0] * (amount + 1)\n",
    "    dp[0] = 1\n",
    "\n",
    "    for coin in coins:\n",
    "        for i in range(coin, amount + 1):\n",
    "            dp[i] += dp[i - coin]\n",
    "\n",
    "    return dp[amount]\n",
    "\n",
    "# Test the function with the given examples\n",
    "print(coinCombinations(5, [1, 2, 5]))  # Output: 4\n",
    "print(coinCombinations(3, [2]))  # Output: 0\n",
    "print(coinCombinations(10, [10]))  # Output: 1"
   ]
  },
  {
   "cell_type": "code",
   "execution_count": null,
   "id": "60537433",
   "metadata": {},
   "outputs": [],
   "source": []
  }
 ],
 "metadata": {
  "kernelspec": {
   "display_name": "Python 3",
   "language": "python",
   "name": "python3"
  },
  "language_info": {
   "codemirror_mode": {
    "name": "ipython",
    "version": 3
   },
   "file_extension": ".py",
   "mimetype": "text/x-python",
   "name": "python",
   "nbconvert_exporter": "python",
   "pygments_lexer": "ipython3",
   "version": "3.9.13"
  }
 },
 "nbformat": 4,
 "nbformat_minor": 5
}
