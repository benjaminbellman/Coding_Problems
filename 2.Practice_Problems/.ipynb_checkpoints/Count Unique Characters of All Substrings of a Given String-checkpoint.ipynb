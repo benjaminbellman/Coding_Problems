{
 "cells": [
  {
   "cell_type": "markdown",
   "id": "804fffef",
   "metadata": {},
   "source": [
    "# Count Unique Characters of All Substrings of a Given String"
   ]
  },
  {
   "cell_type": "markdown",
   "id": "3bf71a01",
   "metadata": {},
   "source": [
    "Let's define a function countUniqueChars(s) that returns the number of unique characters in s.\n",
    "\n",
    "For example, calling countUniqueChars(s) if s = \"LEETCODE\" then \"L\", \"T\", \"C\", \"O\", \"D\" are the unique characters since they appear only once in s, therefore countUniqueChars(s) = 5.\n",
    "Given a string s, return the sum of countUniqueChars(t) where t is a substring of s. The test cases are generated such that the answer fits in a 32-bit integer.\n",
    "\n",
    "Notice that some substrings can be repeated so in this case you have to count the repeated ones too.\n",
    "\n",
    "**Example 1:**\n",
    "\n",
    "Input: s = \"ABC\"\n",
    "Output: 10\n",
    "Explanation: All possible substrings are: \"A\",\"B\",\"C\",\"AB\",\"BC\" and \"ABC\".\n",
    "Every substring is composed with only unique letters.\n",
    "Sum of lengths of all substring is 1 + 1 + 1 + 2 + 2 + 3 = 10\n",
    "\n",
    "**Example 2:**\n",
    "\n",
    "Input: s = \"ABA\"\n",
    "Output: 8\n",
    "Explanation: The same as example 1, except countUniqueChars(\"ABA\") = 1.\n",
    "\n",
    "**Example 3:**\n",
    "\n",
    "Input: s = \"LEETCODE\"\n",
    "Output: 92\n",
    " \n",
    "\n",
    "**Constraints:**\n",
    "\n",
    "- 1 <= s.length <= 105\n",
    "- s consists of uppercase English letters only."
   ]
  },
  {
   "cell_type": "code",
   "execution_count": 1,
   "id": "15a71aa2",
   "metadata": {},
   "outputs": [
    {
     "name": "stdout",
     "output_type": "stream",
     "text": [
      "10\n",
      "9\n",
      "105\n"
     ]
    }
   ],
   "source": [
    "def countUniqueChars(s):\n",
    "    unique_chars = set()\n",
    "    for char in s:\n",
    "        unique_chars.add(char)\n",
    "    return len(unique_chars)\n",
    "\n",
    "def sumOfUniqueSubstrings(s):\n",
    "    total_count = 0\n",
    "    n = len(s)\n",
    "    for i in range(n):\n",
    "        for j in range(i + 1, n + 1):\n",
    "            total_count += countUniqueChars(s[i:j])\n",
    "    return total_count\n",
    "\n",
    "# Test cases\n",
    "print(sumOfUniqueSubstrings(\"ABC\"))  # Output: 10\n",
    "print(sumOfUniqueSubstrings(\"ABA\"))  # Output: 8\n",
    "print(sumOfUniqueSubstrings(\"LEETCODE\"))  # Output: 92"
   ]
  },
  {
   "cell_type": "code",
   "execution_count": null,
   "id": "40e8e0e1",
   "metadata": {},
   "outputs": [],
   "source": []
  }
 ],
 "metadata": {
  "kernelspec": {
   "display_name": "Python 3",
   "language": "python",
   "name": "python3"
  },
  "language_info": {
   "codemirror_mode": {
    "name": "ipython",
    "version": 3
   },
   "file_extension": ".py",
   "mimetype": "text/x-python",
   "name": "python",
   "nbconvert_exporter": "python",
   "pygments_lexer": "ipython3",
   "version": "3.9.13"
  }
 },
 "nbformat": 4,
 "nbformat_minor": 5
}
