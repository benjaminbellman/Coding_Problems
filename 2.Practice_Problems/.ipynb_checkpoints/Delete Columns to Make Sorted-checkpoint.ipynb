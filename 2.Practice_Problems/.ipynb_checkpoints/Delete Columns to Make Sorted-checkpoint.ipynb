{
 "cells": [
  {
   "cell_type": "markdown",
   "id": "57c0d87b",
   "metadata": {},
   "source": [
    "# Delete Columns to Make Sorted"
   ]
  },
  {
   "cell_type": "markdown",
   "id": "7b88e415",
   "metadata": {},
   "source": [
    "You are given an array of n strings strs, all of the same length.\n",
    "\n",
    "The strings can be arranged such that there is one on each line, making a grid.\n",
    "\n",
    "For example, strs = [\"abc\", \"bce\", \"cae\"] can be arranged as follows:\n",
    "abc\n",
    "bce\n",
    "cae\n",
    "You want to delete the columns that are not sorted lexicographically. In the above example (0-indexed), columns 0 ('a', 'b', 'c') and 2 ('c', 'e', 'e') are sorted, while column 1 ('b', 'c', 'a') is not, so you would delete column 1.\n",
    "\n",
    "Return the number of columns that you will delete.\n",
    "\n",
    " \n",
    "\n",
    "**Example 1:**\n",
    "\n",
    "    \n",
    "    Input: strs = [\"cba\",\"daf\",\"ghi\"]\n",
    "    \n",
    "    Output: 1\n",
    "    \n",
    "    Explanation: The grid looks as follows:\n",
    "      \n",
    "      cba\n",
    "      \n",
    "      daf\n",
    "      \n",
    "      ghi\n",
    "    \n",
    "    Columns 0 and 2 are sorted, but column 1 is not, so you only need to delete 1 column.\n",
    "\n",
    "**Example 2:**\n",
    "\n",
    "    \n",
    "    Input: strs = [\"a\",\"b\"]\n",
    "    \n",
    "    Output: 0\n",
    "    \n",
    "    Explanation: The grid looks as follows:\n",
    "      \n",
    "      a\n",
    "      \n",
    "      b\n",
    "    \n",
    "    Column 0 is the only column and is sorted, so you will not delete any columns.\n",
    "\n",
    "**Example 3:**\n",
    "\n",
    "    \n",
    "    Input: strs = [\"zyx\",\"wvu\",\"tsr\"]\n",
    "    \n",
    "    Output: 3\n",
    "    \n",
    "    Explanation: The grid looks as follows:\n",
    "      \n",
    "      zyx\n",
    "      \n",
    "      wvu\n",
    "      \n",
    "      tsr\n",
    "    \n",
    "    All 3 columns are not sorted, so you will delete all 3."
   ]
  },
  {
   "cell_type": "code",
   "execution_count": 1,
   "id": "e416f1f1",
   "metadata": {},
   "outputs": [],
   "source": [
    "def minDeletionSize(strs):\n",
    "    num_of_cols = len(strs[0])  # All strings have the same length, so take the first one\n",
    "    num_of_rows = len(strs)\n",
    "    delete_count = 0\n",
    "    \n",
    "    for col in range(num_of_cols):\n",
    "        for row in range(1, num_of_rows):\n",
    "            if strs[row][col] < strs[row - 1][col]:  # Check if the column is sorted\n",
    "                delete_count += 1\n",
    "                break  # No need to check this column further, move to the next column\n",
    "                \n",
    "    return delete_count"
   ]
  },
  {
   "cell_type": "code",
   "execution_count": null,
   "id": "7322e723",
   "metadata": {},
   "outputs": [],
   "source": []
  }
 ],
 "metadata": {
  "kernelspec": {
   "display_name": "Python 3 (ipykernel)",
   "language": "python",
   "name": "python3"
  },
  "language_info": {
   "codemirror_mode": {
    "name": "ipython",
    "version": 3
   },
   "file_extension": ".py",
   "mimetype": "text/x-python",
   "name": "python",
   "nbconvert_exporter": "python",
   "pygments_lexer": "ipython3",
   "version": "3.8.11"
  }
 },
 "nbformat": 4,
 "nbformat_minor": 5
}
