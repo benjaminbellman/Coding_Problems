{
 "cells": [
  {
   "cell_type": "markdown",
   "id": "ee7a8bef",
   "metadata": {},
   "source": [
    "# My Calendar I"
   ]
  },
  {
   "cell_type": "markdown",
   "id": "551fc6a7",
   "metadata": {},
   "source": [
    "You are implementing a program to use as your calendar. We can add a new event if adding the event will not cause a double booking.\n",
    "\n",
    "A double booking happens when two events have some non-empty intersection (i.e., some moment is common to both events.).\n",
    "\n",
    "The event can be represented as a pair of integers start and end that represents a booking on the half-open interval [start, end), the range of real numbers x such that start <= x < end.\n",
    "\n",
    "Implement the MyCalendar class:\n",
    "\n",
    "MyCalendar() Initializes the calendar object.\n",
    "boolean book(int start, int end) Returns true if the event can be added to the calendar successfully without causing a double booking. Otherwise, return false and do not add the event to the calendar.\n",
    " \n",
    "\n",
    "**Example 1:**\n",
    "\n",
    "Input\n",
    "[\"MyCalendar\", \"book\", \"book\", \"book\"]\n",
    "[[], [10, 20], [15, 25], [20, 30]]\n",
    "Output\n",
    "[null, true, false, true]\n",
    "\n",
    "Explanation\n",
    "MyCalendar myCalendar = new MyCalendar();\n",
    "myCalendar.book(10, 20); // return True\n",
    "myCalendar.book(15, 25); // return False, It can not be booked because time 15 is already booked by another event.\n",
    "myCalendar.book(20, 30); // return True, The event can be booked, as the first event takes every time less than 20, but not including 20.\n",
    " \n",
    "\n",
    "**Constraints:**\n",
    "\n",
    "- 0 <= start < end <= 109\n",
    "- At most 1000 calls will be made to book."
   ]
  },
  {
   "cell_type": "code",
   "execution_count": 1,
   "id": "2d37f666",
   "metadata": {},
   "outputs": [
    {
     "name": "stdout",
     "output_type": "stream",
     "text": [
      "True\n",
      "False\n",
      "True\n"
     ]
    }
   ],
   "source": [
    "class MyCalendar:\n",
    "\n",
    "    def __init__(self):\n",
    "        self.events = []\n",
    "\n",
    "    def book(self, start: int, end: int) -> bool:\n",
    "        for booked_start, booked_end in self.events:\n",
    "            if start < booked_end and end > booked_start:\n",
    "                return False\n",
    "        self.events.append((start, end))\n",
    "        return True\n",
    "\n",
    "# Example usage:\n",
    "myCalendar = MyCalendar()\n",
    "print(myCalendar.book(10, 20)) # Output: True\n",
    "print(myCalendar.book(15, 25)) # Output: False\n",
    "print(myCalendar.book(20, 30)) # Output: True"
   ]
  },
  {
   "cell_type": "code",
   "execution_count": null,
   "id": "76b61d19",
   "metadata": {},
   "outputs": [],
   "source": []
  }
 ],
 "metadata": {
  "kernelspec": {
   "display_name": "Python 3",
   "language": "python",
   "name": "python3"
  },
  "language_info": {
   "codemirror_mode": {
    "name": "ipython",
    "version": 3
   },
   "file_extension": ".py",
   "mimetype": "text/x-python",
   "name": "python",
   "nbconvert_exporter": "python",
   "pygments_lexer": "ipython3",
   "version": "3.9.13"
  }
 },
 "nbformat": 4,
 "nbformat_minor": 5
}
