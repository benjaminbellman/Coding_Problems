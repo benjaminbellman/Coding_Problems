{
 "cells": [
  {
   "cell_type": "markdown",
   "id": "e5b12abd",
   "metadata": {},
   "source": [
    "# Shortest Subarray with Sum at Least K"
   ]
  },
  {
   "cell_type": "markdown",
   "id": "817257f0",
   "metadata": {},
   "source": [
    "Given an integer array nums and an integer k, return the length of the shortest non-empty subarray of nums with a sum of at least k. If there is no such subarray, return -1.\n",
    "\n",
    "A subarray is a contiguous part of an array.\n",
    "\n",
    "**Example 1:**\n",
    "\n",
    "Input: nums = [1], k = 1\n",
    "Output: 1\n",
    "\n",
    "**Example 2:**\n",
    "\n",
    "Input: nums = [1,2], k = 4\n",
    "Output: -1\n",
    "\n",
    "**Example 3:**\n",
    "\n",
    "Input: nums = [2,-1,2], k = 3\n",
    "Output: 3\n",
    " \n",
    "\n",
    "**Constraints:**\n",
    "\n",
    "- 1 <= nums.length <= 105\n",
    "- -105 <= nums[i] <= 105\n",
    "- 1 <= k <= 109"
   ]
  },
  {
   "cell_type": "code",
   "execution_count": 1,
   "id": "dba96244",
   "metadata": {},
   "outputs": [],
   "source": [
    "from collections import deque\n",
    "\n",
    "def shortestSubarray(nums, k):\n",
    "    n = len(nums)\n",
    "    prefix = [0] * (n + 1)\n",
    "    for i in range(n):\n",
    "        prefix[i+1] = prefix[i] + nums[i]\n",
    "    \n",
    "    min_length = float('inf')\n",
    "    deque_index = deque()\n",
    "    \n",
    "    for i in range(n + 1):\n",
    "        while deque_index and prefix[i] - prefix[deque_index[0]] >= k:\n",
    "            min_length = min(min_length, i - deque_index.popleft())\n",
    "        while deque_index and prefix[i] <= prefix[deque_index[-1]]:\n",
    "            deque_index.pop()\n",
    "        deque_index.append(i)\n",
    "    \n",
    "    return min_length if min_length != float('inf') else -1"
   ]
  },
  {
   "cell_type": "code",
   "execution_count": null,
   "id": "e17516a7",
   "metadata": {},
   "outputs": [],
   "source": []
  }
 ],
 "metadata": {
  "kernelspec": {
   "display_name": "Python 3 (ipykernel)",
   "language": "python",
   "name": "python3"
  },
  "language_info": {
   "codemirror_mode": {
    "name": "ipython",
    "version": 3
   },
   "file_extension": ".py",
   "mimetype": "text/x-python",
   "name": "python",
   "nbconvert_exporter": "python",
   "pygments_lexer": "ipython3",
   "version": "3.8.11"
  }
 },
 "nbformat": 4,
 "nbformat_minor": 5
}
