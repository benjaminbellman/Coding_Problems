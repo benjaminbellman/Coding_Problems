{
 "cells": [
  {
   "cell_type": "markdown",
   "id": "2a8065ed",
   "metadata": {},
   "source": [
    "# Simplify Path"
   ]
  },
  {
   "cell_type": "markdown",
   "id": "3c12269a",
   "metadata": {},
   "source": [
    "Given a string path, which is an absolute path (starting with a slash '/') to a file or directory in a Unix-style file system, convert it to the simplified canonical path.\n",
    "\n",
    "In a Unix-style file system, a period '.' refers to the current directory, a double period '..' refers to the directory up a level, and any multiple consecutive slashes (i.e. '//') are treated as a single slash '/'. For this problem, any other format of periods such as '...' are treated as file/directory names.\n",
    "\n",
    "The canonical path should have the following format:\n",
    "\n",
    "The path starts with a single slash '/'.\n",
    "Any two directories are separated by a single slash '/'.\n",
    "The path does not end with a trailing '/'.\n",
    "The path only contains the directories on the path from the root directory to the target file or directory (i.e., no period '.' or double period '..')\n",
    "Return the simplified canonical path.\n",
    "\n",
    " \n",
    "\n",
    "**Example 1:**\n",
    "\n",
    "Input: path = \"/home/\"\n",
    "Output: \"/home\"\n",
    "Explanation: Note that there is no trailing slash after the last directory name.\n",
    "\n",
    "**Example 2:**\n",
    "\n",
    "Input: path = \"/../\"\n",
    "Output: \"/\"\n",
    "Explanation: Going one level up from the root directory is a no-op, as the root level is the highest level you can go.\n",
    "\n",
    "**Example 3:**\n",
    "\n",
    "Input: path = \"/home//foo/\"\n",
    "Output: \"/home/foo\"\n",
    "Explanation: In the canonical path, multiple consecutive slashes are replaced by a single one.\n",
    " \n",
    "\n",
    "**Constraints:**\n",
    "\n",
    "1 <= path.length <= 3000\n",
    "path consists of English letters, digits, period '.', slash '/' or '_'.\n",
    "path is a valid absolute Unix path."
   ]
  },
  {
   "cell_type": "code",
   "execution_count": 1,
   "id": "4c484a0c",
   "metadata": {},
   "outputs": [],
   "source": [
    "def simplifyPath(path: str) -> str:\n",
    "    # Split the path by slashes\n",
    "    parts = path.split('/')\n",
    "    \n",
    "    # Initialize a stack to keep track of directories\n",
    "    stack = []\n",
    "    \n",
    "    # Iterate over each part of the path\n",
    "    for part in parts:\n",
    "        # Ignore empty parts and current directory (\".\")\n",
    "        if part == \"\" or part == \".\":\n",
    "            continue\n",
    "        \n",
    "        # If we encounter a directory up (\"..\"), pop the last directory from the stack\n",
    "        elif part == \"..\":\n",
    "            if stack:\n",
    "                stack.pop()\n",
    "        \n",
    "        # Otherwise, append the directory to the stack\n",
    "        else:\n",
    "            stack.append(part)\n",
    "    \n",
    "    # Join the directories in the stack to form the canonical path\n",
    "    canonical_path = '/' + '/'.join(stack)\n",
    "    \n",
    "    return canonical_path"
   ]
  },
  {
   "cell_type": "code",
   "execution_count": 2,
   "id": "6e832811",
   "metadata": {},
   "outputs": [
    {
     "name": "stdout",
     "output_type": "stream",
     "text": [
      "/home\n",
      "/\n",
      "/home/foo\n"
     ]
    }
   ],
   "source": [
    "# Example 1\n",
    "path1 = \"/home/\"\n",
    "print(simplifyPath(path1))  # Output: \"/home\"\n",
    "\n",
    "# Example 2\n",
    "path2 = \"/../\"\n",
    "print(simplifyPath(path2))  # Output: \"/\"\n",
    "\n",
    "# Example 3\n",
    "path3 = \"/home//foo/\"\n",
    "print(simplifyPath(path3))  # Output: \"/home/foo\""
   ]
  },
  {
   "cell_type": "code",
   "execution_count": null,
   "id": "34193198",
   "metadata": {},
   "outputs": [],
   "source": []
  }
 ],
 "metadata": {
  "kernelspec": {
   "display_name": "Python 3",
   "language": "python",
   "name": "python3"
  },
  "language_info": {
   "codemirror_mode": {
    "name": "ipython",
    "version": 3
   },
   "file_extension": ".py",
   "mimetype": "text/x-python",
   "name": "python",
   "nbconvert_exporter": "python",
   "pygments_lexer": "ipython3",
   "version": "3.9.13"
  }
 },
 "nbformat": 4,
 "nbformat_minor": 5
}
