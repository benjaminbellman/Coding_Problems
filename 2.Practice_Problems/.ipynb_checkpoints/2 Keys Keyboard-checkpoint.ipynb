{
 "cells": [
  {
   "cell_type": "markdown",
   "id": "7dfeac75",
   "metadata": {},
   "source": [
    "# 2 Keys Keyboard"
   ]
  },
  {
   "cell_type": "markdown",
   "id": "fb3cf196",
   "metadata": {},
   "source": [
    "There is only one character 'A' on the screen of a notepad. You can perform one of two operations on this notepad for each step:\n",
    "\n",
    "Copy All: You can copy all the characters present on the screen (a partial copy is not allowed).\n",
    "Paste: You can paste the characters which are copied last time.\n",
    "Given an integer n, return the minimum number of operations to get the character 'A' exactly n times on the screen.\n",
    "\n",
    " \n",
    "\n",
    "**Example 1:**\n",
    "\n",
    "Input: n = 3\n",
    "\n",
    "Output: 3\n",
    "Explanation: Initially, we have one character 'A'.\n",
    "In step 1, we use Copy All operation.\n",
    "In step 2, we use Paste operation to get 'AA'.\n",
    "In step 3, we use Paste operation to get 'AAA'.\n",
    "\n",
    "**Example 2:**\n",
    "\n",
    "Input: n = 1\n",
    "\n",
    "Output: 0\n",
    " \n",
    "\n",
    "**Constraints:**\n",
    "\n",
    "- 1 <= n <= 1000"
   ]
  },
  {
   "cell_type": "code",
   "execution_count": 1,
   "id": "ad9e16d9",
   "metadata": {},
   "outputs": [
    {
     "name": "stdout",
     "output_type": "stream",
     "text": [
      "3\n",
      "0\n"
     ]
    }
   ],
   "source": [
    "def minSteps(n):\n",
    "    if n == 1:\n",
    "        return 0\n",
    "    \n",
    "    # Initialize a list to store the minimum steps required for each value of i\n",
    "    dp = [0] * (n + 1)\n",
    "    \n",
    "    for i in range(2, n + 1):\n",
    "        dp[i] = i  # At least i operations required\n",
    "        \n",
    "        for j in range(2, i):\n",
    "            if i % j == 0:\n",
    "                dp[i] = min(dp[i], dp[j] + i // j)\n",
    "    \n",
    "    return dp[n]\n",
    "\n",
    "# Test cases\n",
    "print(minSteps(3))  # Output: 3\n",
    "print(minSteps(1))  # Output: 0"
   ]
  }
 ],
 "metadata": {
  "kernelspec": {
   "display_name": "Python 3",
   "language": "python",
   "name": "python3"
  },
  "language_info": {
   "codemirror_mode": {
    "name": "ipython",
    "version": 3
   },
   "file_extension": ".py",
   "mimetype": "text/x-python",
   "name": "python",
   "nbconvert_exporter": "python",
   "pygments_lexer": "ipython3",
   "version": "3.9.13"
  }
 },
 "nbformat": 4,
 "nbformat_minor": 5
}
