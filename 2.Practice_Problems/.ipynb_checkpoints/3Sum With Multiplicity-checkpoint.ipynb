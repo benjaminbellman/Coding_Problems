{
 "cells": [
  {
   "cell_type": "markdown",
   "id": "9d0f0d52",
   "metadata": {},
   "source": [
    "# 3Sum With Multiplicity"
   ]
  },
  {
   "cell_type": "markdown",
   "id": "ba154fc7",
   "metadata": {},
   "source": [
    "Given an integer array arr, and an integer target, return the number of tuples i, j, k such that i < j < k and arr[i] + arr[j] + arr[k] == target.\n",
    "\n",
    "As the answer can be very large, return it modulo 109 + 7.\n",
    "\n",
    "**Example 1:**\n",
    "\n",
    "    Input: arr = [1,1,2,2,3,3,4,4,5,5], target = 8\n",
    "    Output: 20\n",
    "    Explanation: \n",
    "    Enumerating by the values (arr[i], arr[j], arr[k]):\n",
    "    (1, 2, 5) occurs 8 times;\n",
    "    (1, 3, 4) occurs 8 times;\n",
    "    (2, 2, 4) occurs 2 times;\n",
    "    (2, 3, 3) occurs 2 times.\n",
    "\n",
    "**Example 2:**\n",
    "\n",
    "    Input: arr = [1,1,2,2,2,2], target = 5\n",
    "    Output: 12\n",
    "    Explanation: \n",
    "    arr[i] = 1, arr[j] = arr[k] = 2 occurs 12 times:\n",
    "    We choose one 1 from [1,1] in 2 ways,\n",
    "    and two 2s from [2,2,2,2] in 6 ways.\n",
    "\n",
    "**Example 3:**\n",
    "\n",
    "Input: arr = [2,1,3], target = 6\n",
    "Output: 1\n",
    "Explanation: (1, 2, 3) occured one time in the array so we return 1.\n",
    " \n",
    "\n",
    "**Constraints:**\n",
    "\n",
    "- 3 <= arr.length <= 3000\n",
    "- 0 <= arr[i] <= 100\n",
    "- 0 <= target <= 300"
   ]
  },
  {
   "cell_type": "code",
   "execution_count": 1,
   "id": "45d18c01",
   "metadata": {},
   "outputs": [],
   "source": [
    "from collections import Counter\n",
    "\n",
    "def threeSumMulti(arr, target):\n",
    "    MOD = 10**9 + 7\n",
    "    count = Counter(arr)\n",
    "    keys = sorted(count.keys())\n",
    "    n = len(keys)\n",
    "    result = 0\n",
    "    \n",
    "    # Iterate through all combinations of keys (i, j, k)\n",
    "    for i in range(n):\n",
    "        for j in range(i, n):\n",
    "            k = target - keys[i] - keys[j]\n",
    "            if k < keys[j]:\n",
    "                continue\n",
    "            if k in count:\n",
    "                # Now we have arr[i], arr[j], arr[k]\n",
    "                if i == j == k:\n",
    "                    # All three elements are the same\n",
    "                    result += count[keys[i]] * (count[keys[i]] - 1) * (count[keys[i]] - 2) // 6\n",
    "                elif i == j != k:\n",
    "                    # Two elements are the same, the third is different\n",
    "                    result += count[keys[i]] * (count[keys[i]] - 1) // 2 * count[k]\n",
    "                elif i < j < k:\n",
    "                    # All three elements are different\n",
    "                    result += count[keys[i]] * count[keys[j]] * count[k]\n",
    "    \n",
    "    return result % MOD"
   ]
  },
  {
   "cell_type": "code",
   "execution_count": null,
   "id": "f62a9c66",
   "metadata": {},
   "outputs": [],
   "source": []
  }
 ],
 "metadata": {
  "kernelspec": {
   "display_name": "Python 3 (ipykernel)",
   "language": "python",
   "name": "python3"
  },
  "language_info": {
   "codemirror_mode": {
    "name": "ipython",
    "version": 3
   },
   "file_extension": ".py",
   "mimetype": "text/x-python",
   "name": "python",
   "nbconvert_exporter": "python",
   "pygments_lexer": "ipython3",
   "version": "3.8.11"
  }
 },
 "nbformat": 4,
 "nbformat_minor": 5
}
