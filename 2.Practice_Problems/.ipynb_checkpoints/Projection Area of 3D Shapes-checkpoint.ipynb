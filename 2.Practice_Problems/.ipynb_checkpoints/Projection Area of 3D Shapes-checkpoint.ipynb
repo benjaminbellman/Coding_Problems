{
 "cells": [
  {
   "cell_type": "markdown",
   "id": "83b33f36",
   "metadata": {},
   "source": [
    "# Projection Area of 3D Shapes"
   ]
  },
  {
   "cell_type": "markdown",
   "id": "2a74941c",
   "metadata": {},
   "source": [
    "ou are given an n x n grid where we place some 1 x 1 x 1 cubes that are axis-aligned with the x, y, and z axes.\n",
    "\n",
    "Each value v = grid[i][j] represents a tower of v cubes placed on top of the cell (i, j).\n",
    "\n",
    "We view the projection of these cubes onto the xy, yz, and zx planes.\n",
    "\n",
    "A projection is like a shadow, that maps our 3-dimensional figure to a 2-dimensional plane. We are viewing the \"shadow\" when looking at the cubes from the top, the front, and the side.\n",
    "\n",
    "Return the total area of all three projections.\n",
    "\n",
    "**Example 1:**\n",
    "\n",
    "Input: grid = [[1,2],[3,4]]\n",
    "Output: 17\n",
    "Explanation: Here are the three projections (\"shadows\") of the shape made with each axis-aligned plane.\n",
    "\n",
    "**Example 2:**\n",
    "\n",
    "Input: grid = [[2]]\n",
    "Output: 5\n",
    "\n",
    "**Example 3:**\n",
    "\n",
    "Input: grid = [[1,0],[0,2]]\n",
    "Output: 8\n",
    " \n",
    "**Constraints:**\n",
    "\n",
    "- n == grid.length == grid[i].length\n",
    "- 1 <= n <= 50\n",
    "- 0 <= grid[i][j] <= 50"
   ]
  },
  {
   "cell_type": "code",
   "execution_count": 1,
   "id": "6553db48",
   "metadata": {},
   "outputs": [
    {
     "name": "stdout",
     "output_type": "stream",
     "text": [
      "23\n",
      "6\n",
      "9\n"
     ]
    }
   ],
   "source": [
    "def projectionArea(grid):\n",
    "    n = len(grid)\n",
    "    \n",
    "    # xy-projection area\n",
    "    xy_area = sum(sum(row) for row in grid)\n",
    "    \n",
    "    # yz-projection area\n",
    "    yz_area = sum(max(grid[i][j] for i in range(n)) for j in range(n))\n",
    "    \n",
    "    # zx-projection area\n",
    "    zx_area = sum(max(row) for row in grid)\n",
    "    \n",
    "    # Total area\n",
    "    total_area = xy_area + yz_area + zx_area\n",
    "    return total_area\n",
    "\n",
    "# Example usage:\n",
    "grid1 = [[1,2],[3,4]]\n",
    "grid2 = [[2]]\n",
    "grid3 = [[1,0],[0,2]]\n",
    "\n",
    "print(projectionArea(grid1))  # Output: 17\n",
    "print(projectionArea(grid2))  # Output: 5\n",
    "print(projectionArea(grid3))  # Output: 8"
   ]
  },
  {
   "cell_type": "code",
   "execution_count": null,
   "id": "2fe0d4bb",
   "metadata": {},
   "outputs": [],
   "source": []
  }
 ],
 "metadata": {
  "kernelspec": {
   "display_name": "Python 3 (ipykernel)",
   "language": "python",
   "name": "python3"
  },
  "language_info": {
   "codemirror_mode": {
    "name": "ipython",
    "version": 3
   },
   "file_extension": ".py",
   "mimetype": "text/x-python",
   "name": "python",
   "nbconvert_exporter": "python",
   "pygments_lexer": "ipython3",
   "version": "3.8.11"
  }
 },
 "nbformat": 4,
 "nbformat_minor": 5
}
