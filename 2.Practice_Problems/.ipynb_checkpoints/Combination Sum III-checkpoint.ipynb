{
 "cells": [
  {
   "cell_type": "markdown",
   "id": "36b51dc8",
   "metadata": {},
   "source": [
    "# Combination Sum III"
   ]
  },
  {
   "cell_type": "markdown",
   "id": "383e2874",
   "metadata": {},
   "source": [
    "Find all valid combinations of k numbers that sum up to n such that the following conditions are true:\n",
    "\n",
    "Only numbers 1 through 9 are used.\n",
    "Each number is used at most once.\n",
    "Return a list of all possible valid combinations. The list must not contain the same combination twice, and the combinations may be returned in any order.\n",
    "\n",
    " \n",
    "\n",
    "**Example 1:**\n",
    "\n",
    "Input: k = 3, n = 7\n",
    "Output: [[1,2,4]]\n",
    "Explanation:\n",
    "1 + 2 + 4 = 7\n",
    "There are no other valid combinations.\n",
    "\n",
    "**Example 2:**\n",
    "\n",
    "Input: k = 3, n = 9\n",
    "Output: [[1,2,6],[1,3,5],[2,3,4]]\n",
    "Explanation:\n",
    "1 + 2 + 6 = 9\n",
    "1 + 3 + 5 = 9\n",
    "2 + 3 + 4 = 9\n",
    "There are no other valid combinations.\n",
    "\n",
    "**Example 3:**\n",
    "\n",
    "Input: k = 4, n = 1\n",
    "Output: []\n",
    "Explanation: There are no valid combinations.\n",
    "Using 4 different numbers in the range [1,9], the smallest sum we can get is 1+2+3+4 = 10 and since 10 > 1, there are no valid combination.\n",
    " \n",
    "\n",
    "**Constraints:**\n",
    "\n",
    "2 <= k <= 9\n",
    "1 <= n <= 60"
   ]
  },
  {
   "cell_type": "code",
   "execution_count": 1,
   "id": "04098a1c",
   "metadata": {},
   "outputs": [],
   "source": [
    "def combinationSum3(k, n):\n",
    "    def backtrack(start, k, n, path, res):\n",
    "        if k == 0 and n == 0:\n",
    "            res.append(path)\n",
    "            return\n",
    "        if k == 0 or n == 0:\n",
    "            return\n",
    "        for i in range(start, 10):\n",
    "            if i > n:\n",
    "                break\n",
    "            backtrack(i + 1, k - 1, n - i, path + [i], res)\n",
    "\n",
    "    res = []\n",
    "    backtrack(1, k, n, [], res)\n",
    "    return res"
   ]
  },
  {
   "cell_type": "code",
   "execution_count": 2,
   "id": "973975db",
   "metadata": {},
   "outputs": [
    {
     "name": "stdout",
     "output_type": "stream",
     "text": [
      "[[1, 2, 4]]\n",
      "[[1, 2, 6], [1, 3, 5], [2, 3, 4]]\n",
      "[]\n"
     ]
    }
   ],
   "source": [
    "# Example 1\n",
    "print(combinationSum3(3, 7))  # Output: [[1, 2, 4]]\n",
    "\n",
    "# Example 2\n",
    "print(combinationSum3(3, 9))  # Output: [[1, 2, 6], [1, 3, 5], [2, 3, 4]]\n",
    "\n",
    "# Example 3\n",
    "print(combinationSum3(4, 1))  # Output: []"
   ]
  },
  {
   "cell_type": "code",
   "execution_count": null,
   "id": "229ba2a8",
   "metadata": {},
   "outputs": [],
   "source": []
  }
 ],
 "metadata": {
  "kernelspec": {
   "display_name": "Python 3",
   "language": "python",
   "name": "python3"
  },
  "language_info": {
   "codemirror_mode": {
    "name": "ipython",
    "version": 3
   },
   "file_extension": ".py",
   "mimetype": "text/x-python",
   "name": "python",
   "nbconvert_exporter": "python",
   "pygments_lexer": "ipython3",
   "version": "3.9.13"
  }
 },
 "nbformat": 4,
 "nbformat_minor": 5
}
