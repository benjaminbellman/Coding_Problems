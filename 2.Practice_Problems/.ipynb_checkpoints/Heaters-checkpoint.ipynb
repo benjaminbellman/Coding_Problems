{
 "cells": [
  {
   "cell_type": "markdown",
   "id": "0fb6b9fb",
   "metadata": {},
   "source": [
    "# Heaters"
   ]
  },
  {
   "cell_type": "markdown",
   "id": "cce47ac8",
   "metadata": {},
   "source": [
    "Winter is coming! During the contest, your first job is to design a standard heater with a fixed warm radius to warm all the houses.\n",
    "\n",
    "Every house can be warmed, as long as the house is within the heater's warm radius range. \n",
    "\n",
    "Given the positions of houses and heaters on a horizontal line, return the minimum radius standard of heaters so that those heaters could cover all houses.\n",
    "\n",
    "Notice that all the heaters follow your radius standard, and the warm radius will the same.\n",
    "\n",
    " \n",
    "\n",
    "**Example 1:**\n",
    "\n",
    "Input: houses = [1,2,3], heaters = [2]\n",
    "Output: 1\n",
    "Explanation: The only heater was placed in the position 2, and if we use the radius 1 standard, then all the houses can be warmed.\n",
    "\n",
    "**Example 2:**\n",
    "\n",
    "Input: houses = [1,2,3,4], heaters = [1,4]\n",
    "Output: 1\n",
    "Explanation: The two heater was placed in the position 1 and 4. We need to use radius 1 standard, then all the houses can be warmed.\n",
    "\n",
    "**Example 3:**\n",
    "\n",
    "Input: houses = [1,5], heaters = [2]\n",
    "Output: 3\n",
    " \n",
    "\n",
    "**Constraints:**\n",
    "\n",
    "- 1 <= houses.length, heaters.length <= 3 * 104\n",
    "- 1 <= houses[i], heaters[i] <= 109"
   ]
  },
  {
   "cell_type": "code",
   "execution_count": 1,
   "id": "5f9e004b",
   "metadata": {},
   "outputs": [
    {
     "name": "stdout",
     "output_type": "stream",
     "text": [
      "1\n",
      "1\n",
      "3\n"
     ]
    }
   ],
   "source": [
    "def find_min_radius(houses, heaters):\n",
    "    houses.sort()\n",
    "    heaters.sort()\n",
    "    \n",
    "    # Initialize radius to 0\n",
    "    radius = 0\n",
    "    \n",
    "    # Initialize the pointer for heaters array\n",
    "    j = 0\n",
    "    \n",
    "    # Loop through each house\n",
    "    for house in houses:\n",
    "        # Find the closest heater for the current house\n",
    "        closest_distance = float('inf')\n",
    "        \n",
    "        # Loop through heaters starting from the j-th heater\n",
    "        for i in range(j, len(heaters)):\n",
    "            distance = abs(house - heaters[i])\n",
    "            \n",
    "            # Update closest_distance if we find a closer heater\n",
    "            if distance < closest_distance:\n",
    "                closest_distance = distance\n",
    "                j = i # Update j, so that we don't have to start from the beginning next time\n",
    "                \n",
    "        # Update the radius if needed\n",
    "        radius = max(radius, closest_distance)\n",
    "    \n",
    "    return radius\n",
    "\n",
    "# Test the function with example cases\n",
    "print(find_min_radius([1, 2, 3], [2]))  # Output should be 1\n",
    "print(find_min_radius([1, 2, 3, 4], [1, 4]))  # Output should be 1\n",
    "print(find_min_radius([1, 5], [2]))  # Output should be 3"
   ]
  }
 ],
 "metadata": {
  "kernelspec": {
   "display_name": "Python 3",
   "language": "python",
   "name": "python3"
  },
  "language_info": {
   "codemirror_mode": {
    "name": "ipython",
    "version": 3
   },
   "file_extension": ".py",
   "mimetype": "text/x-python",
   "name": "python",
   "nbconvert_exporter": "python",
   "pygments_lexer": "ipython3",
   "version": "3.9.13"
  }
 },
 "nbformat": 4,
 "nbformat_minor": 5
}
