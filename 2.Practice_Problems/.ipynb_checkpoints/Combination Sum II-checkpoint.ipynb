{
 "cells": [
  {
   "cell_type": "markdown",
   "id": "41b8a37d",
   "metadata": {},
   "source": [
    "# Combination Sum II"
   ]
  },
  {
   "cell_type": "markdown",
   "id": "371094b1",
   "metadata": {},
   "source": [
    "Given a collection of candidate numbers (candidates) and a target number (target), find all unique combinations in candidates where the candidate numbers sum to target.\n",
    "\n",
    "Each number in candidates may only be used once in the combination.\n",
    "\n",
    "Note: The solution set must not contain duplicate combinations.\n",
    "\n",
    "**Example 1:**\n",
    "\n",
    "Input: candidates = [10,1,2,7,6,1,5], target = 8\n",
    "Output: \n",
    "[\n",
    "[1,1,6],\n",
    "[1,2,5],\n",
    "[1,7],\n",
    "[2,6]\n",
    "]\n",
    "\n",
    "**Example 2:**\n",
    "\n",
    "Input: candidates = [2,5,2,1,2], target = 5\n",
    "Output: \n",
    "[\n",
    "[1,2,2],\n",
    "[5]\n",
    "]\n",
    "\n",
    "**Constraints:**\n",
    "\n",
    "- 1 <= candidates.length <= 100\n",
    "- 1 <= candidates[i] <= 50\n",
    "- 1 <= target <= 30"
   ]
  },
  {
   "cell_type": "code",
   "execution_count": 1,
   "id": "2fdfc806",
   "metadata": {},
   "outputs": [],
   "source": [
    "from typing import List\n",
    "\n",
    "def combinationSum2(candidates: List[int], target: int) -> List[List[int]]:\n",
    "    results = []\n",
    "    candidates.sort()\n",
    "\n",
    "    def backtrack(start, path, remaining):\n",
    "        if remaining == 0:\n",
    "            results.append(path[:])\n",
    "            return\n",
    "        for i in range(start, len(candidates)):\n",
    "            # Skip duplicates\n",
    "            if i > start and candidates[i] == candidates[i - 1]:\n",
    "                continue\n",
    "            # If the number is greater than the remaining target, break early\n",
    "            if candidates[i] > remaining:\n",
    "                break\n",
    "            # Include candidates[i] and move forward\n",
    "            backtrack(i + 1, path + [candidates[i]], remaining - candidates[i])\n",
    "\n",
    "    backtrack(0, [], target)\n",
    "    return results"
   ]
  },
  {
   "cell_type": "code",
   "execution_count": 2,
   "id": "351a097c",
   "metadata": {},
   "outputs": [
    {
     "name": "stdout",
     "output_type": "stream",
     "text": [
      "[[1, 1, 6], [1, 2, 5], [1, 7], [2, 6]]\n",
      "[[1, 2, 2], [5]]\n"
     ]
    }
   ],
   "source": [
    "print(combinationSum2([10,1,2,7,6,1,5], 8))\n",
    "# Output: [[1,1,6],[1,2,5],[1,7],[2,6]]\n",
    "\n",
    "print(combinationSum2([2,5,2,1,2], 5))\n",
    "# Output: [[1,2,2],[5]]"
   ]
  },
  {
   "cell_type": "code",
   "execution_count": null,
   "id": "d5739195",
   "metadata": {},
   "outputs": [],
   "source": []
  }
 ],
 "metadata": {
  "kernelspec": {
   "display_name": "Python 3 (ipykernel)",
   "language": "python",
   "name": "python3"
  },
  "language_info": {
   "codemirror_mode": {
    "name": "ipython",
    "version": 3
   },
   "file_extension": ".py",
   "mimetype": "text/x-python",
   "name": "python",
   "nbconvert_exporter": "python",
   "pygments_lexer": "ipython3",
   "version": "3.8.11"
  }
 },
 "nbformat": 4,
 "nbformat_minor": 5
}
