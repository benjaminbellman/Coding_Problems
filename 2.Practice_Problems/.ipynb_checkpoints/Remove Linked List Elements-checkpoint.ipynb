{
 "cells": [
  {
   "cell_type": "markdown",
   "id": "9a1c7a3a",
   "metadata": {},
   "source": [
    "# Remove Linked List Elements"
   ]
  },
  {
   "cell_type": "markdown",
   "id": "ee034f89",
   "metadata": {},
   "source": [
    "Given the head of a linked list and an integer val, remove all the nodes of the linked list that has Node.val == val, and return the new head.\n",
    "\n",
    " \n",
    "\n",
    "**Example 1:**\n",
    "\n",
    "\n",
    "Input: head = [1,2,6,3,4,5,6], val = 6\n",
    "Output: [1,2,3,4,5]\n",
    "\n",
    "**Example 2:**\n",
    "\n",
    "Input: head = [], val = 1\n",
    "Output: []\n",
    "\n",
    "**Example 3:**\n",
    "\n",
    "Input: head = [7,7,7,7], val = 7\n",
    "Output: []\n",
    " \n",
    "\n",
    "**Constraints:**\n",
    "\n",
    "The number of nodes in the list is in the range [0, 104].\n",
    "1 <= Node.val <= 50\n",
    "0 <= val <= 50"
   ]
  },
  {
   "cell_type": "code",
   "execution_count": 1,
   "id": "2ed77b24",
   "metadata": {},
   "outputs": [],
   "source": [
    "class ListNode:\n",
    "    def __init__(self, val=0, next=None):\n",
    "        self.val = val\n",
    "        self.next = next\n",
    "\n",
    "def removeElements(head: ListNode, val: int) -> ListNode:\n",
    "    while head and head.val == val:\n",
    "        head = head.next\n",
    "    if not head:\n",
    "        return None\n",
    "    prev, curr = head, head.next\n",
    "    while curr:\n",
    "        if curr.val == val:\n",
    "            prev.next = curr.next\n",
    "        else:\n",
    "            prev = curr\n",
    "        curr = curr.next\n",
    "    return head"
   ]
  },
  {
   "cell_type": "code",
   "execution_count": 2,
   "id": "21090c43",
   "metadata": {},
   "outputs": [
    {
     "name": "stdout",
     "output_type": "stream",
     "text": [
      "1 2 3 4 5 "
     ]
    }
   ],
   "source": [
    "# Example 1\n",
    "head = ListNode(1, ListNode(2, ListNode(6, ListNode(3, ListNode(4, ListNode(5, ListNode(6)))))))\n",
    "val = 6\n",
    "new_head = removeElements(head, val)\n",
    "while new_head:\n",
    "    print(new_head.val, end=' ')\n",
    "    new_head = new_head.next\n",
    "# Output: 1 2 3 4 5\n",
    "\n",
    "# Example 2\n",
    "head = None\n",
    "val = 1\n",
    "new_head = removeElements(head, val)\n",
    "while new_head:\n",
    "    print(new_head.val, end=' ')\n",
    "    new_head = new_head.next\n",
    "# Output: \n",
    "\n",
    "# Example 3\n",
    "head = ListNode(7, ListNode(7, ListNode(7, ListNode(7))))\n",
    "val = 7\n",
    "new_head = removeElements(head, val)\n",
    "while new_head:\n",
    "    print(new_head.val, end=' ')\n",
    "    new_head = new_head.next\n",
    "# Output: "
   ]
  }
 ],
 "metadata": {
  "kernelspec": {
   "display_name": "Python 3",
   "language": "python",
   "name": "python3"
  },
  "language_info": {
   "codemirror_mode": {
    "name": "ipython",
    "version": 3
   },
   "file_extension": ".py",
   "mimetype": "text/x-python",
   "name": "python",
   "nbconvert_exporter": "python",
   "pygments_lexer": "ipython3",
   "version": "3.9.13"
  }
 },
 "nbformat": 4,
 "nbformat_minor": 5
}
