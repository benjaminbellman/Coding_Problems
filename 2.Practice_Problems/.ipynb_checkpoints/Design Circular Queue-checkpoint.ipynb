{
 "cells": [
  {
   "cell_type": "markdown",
   "id": "dc2f88bc",
   "metadata": {},
   "source": [
    "# Design Circular Queue"
   ]
  },
  {
   "cell_type": "markdown",
   "id": "459a56e8",
   "metadata": {},
   "source": [
    "Design your implementation of the circular queue. The circular queue is a linear data structure in which the operations are performed based on FIFO (First In First Out) principle, and the last position is connected back to the first position to make a circle. It is also called \"Ring Buffer\".\n",
    "\n",
    "One of the benefits of the circular queue is that we can make use of the spaces in front of the queue. In a normal queue, once the queue becomes full, we cannot insert the next element even if there is a space in front of the queue. But using the circular queue, we can use the space to store new values.\n",
    "\n",
    "Implement the MyCircularQueue class:\n",
    "\n",
    "- MyCircularQueue(k) Initializes the object with the size of the queue to be k.\n",
    "- int Front() Gets the front item from the queue. If the queue is empty, return -1.\n",
    "- int Rear() Gets the last item from the queue. If the queue is empty, return -1.\n",
    "- boolean enQueue(int value) Inserts an element into the circular queue. Return true if the operation is successful.\n",
    "- boolean deQueue() Deletes an element from the circular queue. Return true if the operation is successful.\n",
    "- boolean isEmpty() Checks whether the circular queue is empty or not.\n",
    "- boolean isFull() Checks whether the circular queue is full or not.\n",
    "- You must solve the problem without using the built-in queue data structure in your programming language. \n",
    "\n",
    " \n",
    "\n",
    "**Example 1:**\n",
    "\n",
    "Input\n",
    "\n",
    "[\"MyCircularQueue\", \"enQueue\", \"enQueue\", \"enQueue\", \"enQueue\", \"Rear\", \"isFull\", \"deQueue\", \"enQueue\", \"Rear\"]\n",
    "[[3], [1], [2], [3], [4], [], [], [], [4], []]\n",
    "\n",
    "Output\n",
    "\n",
    "[null, true, true, true, false, 3, true, true, true, 4]\n",
    "\n",
    "Explanation\n",
    "MyCircularQueue myCircularQueue = new MyCircularQueue(3);\n",
    "myCircularQueue.enQueue(1); // return True\n",
    "myCircularQueue.enQueue(2); // return True\n",
    "myCircularQueue.enQueue(3); // return True\n",
    "myCircularQueue.enQueue(4); // return False\n",
    "myCircularQueue.Rear();     // return 3\n",
    "myCircularQueue.isFull();   // return True\n",
    "myCircularQueue.deQueue();  // return True\n",
    "myCircularQueue.enQueue(4); // return True\n",
    "myCircularQueue.Rear();     // return 4\n",
    " \n",
    "\n",
    "**Constraints:**\n",
    "\n",
    "- 1 <= k <= 1000\n",
    "- 0 <= value <= 1000\n",
    "- At most 3000 calls will be made to enQueue, deQueue, Front, Rear, isEmpty, and isFull."
   ]
  },
  {
   "cell_type": "code",
   "execution_count": 1,
   "id": "033aaec0",
   "metadata": {},
   "outputs": [],
   "source": [
    "class MyCircularQueue:\n",
    "\n",
    "    def __init__(self, k: int):\n",
    "        self.queue = [0] * k\n",
    "        self.maxSize = k\n",
    "        self.front = 0\n",
    "        self.rear = -1\n",
    "        self.size = 0\n",
    "\n",
    "    def enQueue(self, value: int) -> bool:\n",
    "        if self.isFull():\n",
    "            return False\n",
    "        self.rear = (self.rear + 1) % self.maxSize\n",
    "        self.queue[self.rear] = value\n",
    "        self.size += 1\n",
    "        return True\n",
    "\n",
    "    def deQueue(self) -> bool:\n",
    "        if self.isEmpty():\n",
    "            return False\n",
    "        self.front = (self.front + 1) % self.maxSize\n",
    "        self.size -= 1\n",
    "        return True\n",
    "\n",
    "    def Front(self) -> int:\n",
    "        return -1 if self.isEmpty() else self.queue[self.front]\n",
    "\n",
    "    def Rear(self) -> int:\n",
    "        return -1 if self.isEmpty() else self.queue[self.rear]\n",
    "\n",
    "    def isEmpty(self) -> bool:\n",
    "        return self.size == 0\n",
    "\n",
    "    def isFull(self) -> bool:\n",
    "        return self.size == self.maxSize"
   ]
  },
  {
   "cell_type": "code",
   "execution_count": null,
   "id": "03fb6337",
   "metadata": {},
   "outputs": [],
   "source": []
  }
 ],
 "metadata": {
  "kernelspec": {
   "display_name": "Python 3",
   "language": "python",
   "name": "python3"
  },
  "language_info": {
   "codemirror_mode": {
    "name": "ipython",
    "version": 3
   },
   "file_extension": ".py",
   "mimetype": "text/x-python",
   "name": "python",
   "nbconvert_exporter": "python",
   "pygments_lexer": "ipython3",
   "version": "3.9.13"
  }
 },
 "nbformat": 4,
 "nbformat_minor": 5
}
