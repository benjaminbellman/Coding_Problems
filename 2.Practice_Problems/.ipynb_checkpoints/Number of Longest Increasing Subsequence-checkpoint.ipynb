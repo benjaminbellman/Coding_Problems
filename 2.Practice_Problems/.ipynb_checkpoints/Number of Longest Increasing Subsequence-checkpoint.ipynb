{
 "cells": [
  {
   "cell_type": "markdown",
   "id": "1a54bd48",
   "metadata": {},
   "source": [
    "# Number of Longest Increasing Subsequence"
   ]
  },
  {
   "cell_type": "markdown",
   "id": "469ff76a",
   "metadata": {},
   "source": [
    "Given an integer array nums, return the number of longest increasing subsequences.\n",
    "\n",
    "Notice that the sequence has to be strictly increasing.\n",
    "\n",
    " \n",
    "\n",
    "**Example 1:**\n",
    "\n",
    "Input: nums = [1,3,5,4,7]\n",
    "\n",
    "Output: 2\n",
    "Explanation: The two longest increasing subsequences are [1, 3, 4, 7] and [1, 3, 5, 7].\n",
    "\n",
    "**Example 2:**\n",
    "\n",
    "Input: nums = [2,2,2,2,2]\n",
    "\n",
    "Output: 5\n",
    "Explanation: The length of the longest increasing subsequence is 1, and there are 5 increasing subsequences of length 1, so output 5.\n",
    " \n",
    "\n",
    "**Constraints:**\n",
    "\n",
    "- 1 <= nums.length <= 2000\n",
    "- -106 <= nums[i] <= 106"
   ]
  },
  {
   "cell_type": "code",
   "execution_count": 1,
   "id": "11350c4f",
   "metadata": {},
   "outputs": [
    {
     "name": "stdout",
     "output_type": "stream",
     "text": [
      "2\n",
      "5\n"
     ]
    }
   ],
   "source": [
    "def findNumberOfLIS(nums):\n",
    "    n = len(nums)\n",
    "    if n <= 1:\n",
    "        return n\n",
    "\n",
    "    lengths = [1] * n  # Length of longest increasing subsequence ending at index i\n",
    "    counts = [1] * n   # Number of longest increasing subsequences ending at index i\n",
    "\n",
    "    for i in range(1, n):\n",
    "        for j in range(i):\n",
    "            if nums[i] > nums[j]:\n",
    "                if lengths[i] == lengths[j] + 1:\n",
    "                    counts[i] += counts[j]\n",
    "                elif lengths[i] < lengths[j] + 1:\n",
    "                    lengths[i] = lengths[j] + 1\n",
    "                    counts[i] = counts[j]\n",
    "\n",
    "    max_length = max(lengths)\n",
    "    result = 0\n",
    "    for i in range(n):\n",
    "        if lengths[i] == max_length:\n",
    "            result += counts[i]\n",
    "\n",
    "    return result\n",
    "\n",
    "# Example usage:\n",
    "nums1 = [1, 3, 5, 4, 7]\n",
    "print(findNumberOfLIS(nums1))  # Output: 2\n",
    "\n",
    "nums2 = [2, 2, 2, 2, 2]\n",
    "print(findNumberOfLIS(nums2))  # Output: 5"
   ]
  },
  {
   "cell_type": "code",
   "execution_count": null,
   "id": "7cc204fc",
   "metadata": {},
   "outputs": [],
   "source": []
  }
 ],
 "metadata": {
  "kernelspec": {
   "display_name": "Python 3",
   "language": "python",
   "name": "python3"
  },
  "language_info": {
   "codemirror_mode": {
    "name": "ipython",
    "version": 3
   },
   "file_extension": ".py",
   "mimetype": "text/x-python",
   "name": "python",
   "nbconvert_exporter": "python",
   "pygments_lexer": "ipython3",
   "version": "3.9.13"
  }
 },
 "nbformat": 4,
 "nbformat_minor": 5
}
