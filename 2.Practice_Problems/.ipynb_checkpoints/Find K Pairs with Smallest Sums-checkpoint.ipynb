{
 "cells": [
  {
   "cell_type": "markdown",
   "id": "dc53a814",
   "metadata": {},
   "source": [
    "# Find K Pairs with Smallest Sums"
   ]
  },
  {
   "cell_type": "markdown",
   "id": "73475a76",
   "metadata": {},
   "source": [
    "You are given two integer arrays nums1 and nums2 sorted in ascending order and an integer k.\n",
    "\n",
    "Define a pair (u, v) which consists of one element from the first array and one element from the second array.\n",
    "\n",
    "Return the k pairs (u1, v1), (u2, v2), ..., (uk, vk) with the smallest sums.\n",
    "\n",
    " \n",
    "\n",
    "**Example 1:**\n",
    "\n",
    "Input: nums1 = [1,7,11], nums2 = [2,4,6], k = 3\n",
    "Output: [[1,2],[1,4],[1,6]]\n",
    "Explanation: The first 3 pairs are returned from the sequence: [1,2],[1,4],[1,6],[7,2],[7,4],[11,2],[7,6],[11,4],[11,6]\n",
    "\n",
    "**Example 2:**\n",
    "\n",
    "Input: nums1 = [1,1,2], nums2 = [1,2,3], k = 2\n",
    "Output: [[1,1],[1,1]]\n",
    "Explanation: The first 2 pairs are returned from the sequence: [1,1],[1,1],[1,2],[2,1],[1,2],[2,2],[1,3],[1,3],[2,3]\n",
    "\n",
    "**Example 3:**\n",
    "\n",
    "Input: nums1 = [1,2], nums2 = [3], k = 3\n",
    "Output: [[1,3],[2,3]]\n",
    "Explanation: All possible pairs are returned from the sequence: [1,3],[2,3]\n",
    " \n",
    "\n",
    "**Constraints:**\n",
    "\n",
    "1 <= nums1.length, nums2.length <= 105\n",
    "-109 <= nums1[i], nums2[i] <= 109\n",
    "nums1 and nums2 both are sorted in ascending order.\n",
    "1 <= k <= 104"
   ]
  },
  {
   "cell_type": "code",
   "execution_count": 1,
   "id": "ae3bbfa1",
   "metadata": {},
   "outputs": [],
   "source": [
    "import heapq\n",
    "\n",
    "def kSmallestPairs(nums1, nums2, k):\n",
    "    min_heap = []\n",
    "    \n",
    "    for i in range(min(k, len(nums1))):\n",
    "        for j in range(min(k, len(nums2))):\n",
    "            pair_sum = nums1[i] + nums2[j]\n",
    "            heapq.heappush(min_heap, (pair_sum, nums1[i], nums2[j]))\n",
    "    \n",
    "    result = []\n",
    "    while len(result) < k and min_heap:\n",
    "        _, num1, num2 = heapq.heappop(min_heap)\n",
    "        result.append([num1, num2])\n",
    "        \n",
    "        if num1 < nums1[-1] and num1 == min_heap[0][1]:\n",
    "            next_sum = num1 + nums2[nums2.index(num2) + 1]\n",
    "            next_num2 = nums2[nums2.index(num2) + 1] if nums2.index(num2) + 1 < len(nums2) else None\n",
    "            heapq.heappush(min_heap, (next_sum, num1, next_num2))\n",
    "        \n",
    "        if num2 < nums2[-1]:\n",
    "            next_sum = nums1[nums1.index(num1) + 1] + num2\n",
    "            next_num1 = nums1[nums1.index(num1) + 1] if nums1.index(num1) + 1 < len(nums1) else None\n",
    "            heapq.heappush(min_heap, (next_sum, next_num1, num2))\n",
    "    \n",
    "    return result\n"
   ]
  },
  {
   "cell_type": "code",
   "execution_count": 2,
   "id": "c989ed33",
   "metadata": {},
   "outputs": [
    {
     "name": "stdout",
     "output_type": "stream",
     "text": [
      "[[1, 2], [1, 4], [1, 4]]\n",
      "[[1, 1], [1, 1]]\n",
      "[[1, 3], [2, 3]]\n"
     ]
    }
   ],
   "source": [
    "nums1 = [1, 7, 11]\n",
    "nums2 = [2, 4, 6]\n",
    "k = 3\n",
    "print(kSmallestPairs(nums1, nums2, k))\n",
    "# Output: [[1, 2], [1, 4], [1, 6]]\n",
    "\n",
    "nums1 = [1, 1, 2]\n",
    "nums2 = [1, 2, 3]\n",
    "k = 2\n",
    "print(kSmallestPairs(nums1, nums2, k))\n",
    "# Output: [[1, 1], [1, 1]]\n",
    "\n",
    "nums1 = [1, 2]\n",
    "nums2 = [3]\n",
    "k = 3\n",
    "print(kSmallestPairs(nums1, nums2, k))\n",
    "# Output: [[1, 3], [2, 3]]\n"
   ]
  },
  {
   "cell_type": "code",
   "execution_count": null,
   "id": "226d422d",
   "metadata": {},
   "outputs": [],
   "source": []
  }
 ],
 "metadata": {
  "kernelspec": {
   "display_name": "Python 3",
   "language": "python",
   "name": "python3"
  },
  "language_info": {
   "codemirror_mode": {
    "name": "ipython",
    "version": 3
   },
   "file_extension": ".py",
   "mimetype": "text/x-python",
   "name": "python",
   "nbconvert_exporter": "python",
   "pygments_lexer": "ipython3",
   "version": "3.9.13"
  }
 },
 "nbformat": 4,
 "nbformat_minor": 5
}
