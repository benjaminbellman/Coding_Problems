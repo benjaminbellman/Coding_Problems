{
 "cells": [
  {
   "cell_type": "markdown",
   "id": "29d91e72",
   "metadata": {},
   "source": [
    "# Medium Article PRoblem"
   ]
  },
  {
   "cell_type": "markdown",
   "id": "4802fbdf",
   "metadata": {},
   "source": [
    "Write a program that accepts input in this form: s3t1z5. Here any character is followed by a number. The program should return a string where the character is repeated for the corresponding number of times."
   ]
  },
  {
   "cell_type": "code",
   "execution_count": 1,
   "id": "1e48bc59",
   "metadata": {},
   "outputs": [
    {
     "name": "stdout",
     "output_type": "stream",
     "text": [
      "Input: s3t1z5, Output: ssstzzzzz\n",
      "Input: a2b4c1, Output: aabbbbc\n"
     ]
    }
   ],
   "source": [
    "def repeat_characters(input_string):\n",
    "    output_string = \"\"\n",
    "    i = 0\n",
    "    while i < len(input_string):\n",
    "        char = input_string[i]\n",
    "        count = int(input_string[i+1])\n",
    "        output_string += char * count\n",
    "        i += 2\n",
    "    return output_string\n",
    "\n",
    "# Testing the code with examples\n",
    "input_1 = \"s3t1z5\"\n",
    "output_1 = repeat_characters(input_1)\n",
    "print(f\"Input: {input_1}, Output: {output_1}\")\n",
    "\n",
    "input_2 = \"a2b4c1\"\n",
    "output_2 = repeat_characters(input_2)\n",
    "print(f\"Input: {input_2}, Output: {output_2}\")"
   ]
  },
  {
   "cell_type": "code",
   "execution_count": null,
   "id": "6acd97c1",
   "metadata": {},
   "outputs": [],
   "source": []
  }
 ],
 "metadata": {
  "kernelspec": {
   "display_name": "Python 3",
   "language": "python",
   "name": "python3"
  },
  "language_info": {
   "codemirror_mode": {
    "name": "ipython",
    "version": 3
   },
   "file_extension": ".py",
   "mimetype": "text/x-python",
   "name": "python",
   "nbconvert_exporter": "python",
   "pygments_lexer": "ipython3",
   "version": "3.9.13"
  }
 },
 "nbformat": 4,
 "nbformat_minor": 5
}
