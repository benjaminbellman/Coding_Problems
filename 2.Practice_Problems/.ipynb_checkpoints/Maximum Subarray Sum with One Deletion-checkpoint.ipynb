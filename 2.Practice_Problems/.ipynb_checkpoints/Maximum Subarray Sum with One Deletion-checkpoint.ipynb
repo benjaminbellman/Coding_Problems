{
 "cells": [
  {
   "cell_type": "markdown",
   "id": "b69786c1",
   "metadata": {},
   "source": [
    "# Maximum Subarray Sum with One Deletion"
   ]
  },
  {
   "cell_type": "markdown",
   "id": "1c7b1ddd",
   "metadata": {},
   "source": [
    "Given an array of integers, return the maximum sum for a non-empty subarray (contiguous elements) with at most one element deletion. In other words, you want to choose a subarray and optionally delete one element from it so that there is still at least one element left and the sum of the remaining elements is maximum possible.\n",
    "\n",
    "Note that the subarray needs to be non-empty after deleting one element.\n",
    "\n",
    "**Example 1:**\n",
    "\n",
    "Input: arr = [1,-2,0,3]\n",
    "Output: 4\n",
    "Explanation: Because we can choose [1, -2, 0, 3] and drop -2, thus the subarray [1, 0, 3] becomes the maximum value.\n",
    "\n",
    "**Example 2:**\n",
    "\n",
    "Input: arr = [1,-2,-2,3]\n",
    "Output: 3\n",
    "Explanation: We just choose [3] and it's the maximum sum.\n",
    "\n",
    "**Example 3:**\n",
    "\n",
    "Input: arr = [-1,-1,-1,-1]\n",
    "Output: -1\n",
    "Explanation: The final subarray needs to be non-empty. You can't choose [-1] and delete -1 from it, then get an empty subarray to make the sum equals to 0.\n",
    "\n",
    "**Constraints:**\n",
    "- 1 <= arr.length <= 105\n",
    "- -104 <= arr[i] <= 104"
   ]
  },
  {
   "cell_type": "code",
   "execution_count": 1,
   "id": "dab3cae5",
   "metadata": {},
   "outputs": [],
   "source": [
    "def maximumSum(arr):\n",
    "    n = len(arr)\n",
    "    \n",
    "    # Initialize variables for Kadane's and one-deletion DP approach\n",
    "    max_sum = arr[0]\n",
    "    dp_no_del = arr[0]  # Max sum subarray without deletion\n",
    "    dp_one_del = float('-inf')  # Max sum subarray with one deletion\n",
    "    \n",
    "    for i in range(1, n):\n",
    "        dp_one_del = max(dp_no_del, dp_one_del + arr[i])\n",
    "        dp_no_del = max(dp_no_del + arr[i], arr[i])\n",
    "        max_sum = max(max_sum, dp_no_del, dp_one_del)\n",
    "    \n",
    "    return max_sum"
   ]
  },
  {
   "cell_type": "code",
   "execution_count": null,
   "id": "03411b93",
   "metadata": {},
   "outputs": [],
   "source": []
  }
 ],
 "metadata": {
  "kernelspec": {
   "display_name": "Python 3 (ipykernel)",
   "language": "python",
   "name": "python3"
  },
  "language_info": {
   "codemirror_mode": {
    "name": "ipython",
    "version": 3
   },
   "file_extension": ".py",
   "mimetype": "text/x-python",
   "name": "python",
   "nbconvert_exporter": "python",
   "pygments_lexer": "ipython3",
   "version": "3.8.11"
  }
 },
 "nbformat": 4,
 "nbformat_minor": 5
}
