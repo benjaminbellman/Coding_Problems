{
 "cells": [
  {
   "cell_type": "markdown",
   "id": "fae71997",
   "metadata": {},
   "source": [
    "# Split Linked List in Parts"
   ]
  },
  {
   "cell_type": "markdown",
   "id": "cbca5d12",
   "metadata": {},
   "source": [
    "Given the head of a singly linked list and an integer k, split the linked list into k consecutive linked list parts.\n",
    "\n",
    "The length of each part should be as equal as possible: no two parts should have a size differing by more than one. This may lead to some parts being null.\n",
    "\n",
    "The parts should be in the order of occurrence in the input list, and parts occurring earlier should always have a size greater than or equal to parts occurring later.\n",
    "\n",
    "Return an array of the k parts.\n",
    "\n",
    " \n",
    "\n",
    "**Example 1:**\n",
    "\n",
    "\n",
    "Input: head = [1,2,3], k = 5\n",
    "\n",
    "Output: [[1],[2],[3],[],[]]\n",
    "Explanation:\n",
    "The first element output[0] has output[0].val = 1, output[0].next = null.\n",
    "The last element output[4] is null, but its string representation as a ListNode is [].\n",
    "\n",
    "**Example 2:**\n",
    "\n",
    "\n",
    "Input: head = [1,2,3,4,5,6,7,8,9,10], k = 3\n",
    "\n",
    "Output: [[1,2,3,4],[5,6,7],[8,9,10]]\n",
    "Explanation:\n",
    "The input has been split into consecutive parts with size difference at most 1, and earlier parts are a larger size than the later parts.\n",
    " \n",
    "\n",
    "**Constraints:**\n",
    "\n",
    "- The number of nodes in the list is in the range [0, 1000].\n",
    "- 0 <= Node.val <= 1000\n",
    "- 1 <= k <= 50"
   ]
  },
  {
   "cell_type": "code",
   "execution_count": 1,
   "id": "8d026506",
   "metadata": {},
   "outputs": [
    {
     "name": "stdout",
     "output_type": "stream",
     "text": [
      "[<__main__.ListNode object at 0x00000211DF63A070>, <__main__.ListNode object at 0x00000211DF6256D0>, <__main__.ListNode object at 0x00000211DF625670>, None, None]\n",
      "[<__main__.ListNode object at 0x00000211DF625640>, <__main__.ListNode object at 0x00000211DF6251C0>, <__main__.ListNode object at 0x00000211DF625400>]\n"
     ]
    }
   ],
   "source": [
    "class ListNode:\n",
    "    def __init__(self, val=0, next=None):\n",
    "        self.val = val\n",
    "        self.next = next\n",
    "\n",
    "def splitListToParts(head, k):\n",
    "    # Step 1: Find the length of the linked list\n",
    "    length = 0\n",
    "    curr = head\n",
    "    while curr:\n",
    "        length += 1\n",
    "        curr = curr.next\n",
    "    \n",
    "    # Step 2: Calculate the size of each part and the number of extra nodes\n",
    "    part_size = length // k\n",
    "    extra_nodes = length % k\n",
    "    \n",
    "    # Step 3: Split the linked list into k parts\n",
    "    result = []\n",
    "    curr = head\n",
    "    for i in range(k):\n",
    "        part_head = curr\n",
    "        part_length = part_size + (1 if i < extra_nodes else 0) if curr else 0\n",
    "        \n",
    "        # Move to the end of the current part\n",
    "        for _ in range(part_length - 1):\n",
    "            if curr:\n",
    "                curr = curr.next\n",
    "        \n",
    "        # Save the current part\n",
    "        if curr:\n",
    "            next_node = curr.next\n",
    "            curr.next = None\n",
    "            result.append(part_head)\n",
    "            curr = next_node\n",
    "        else:\n",
    "            result.append(None)\n",
    "    \n",
    "    return result\n",
    "\n",
    "# Test cases\n",
    "head1 = ListNode(1)\n",
    "head1.next = ListNode(2)\n",
    "head1.next.next = ListNode(3)\n",
    "print(splitListToParts(head1, 5))  # Output: [[1],[2],[3],[],[]]\n",
    "\n",
    "head2 = ListNode(1)\n",
    "head2.next = ListNode(2)\n",
    "head2.next.next = ListNode(3)\n",
    "head2.next.next.next = ListNode(4)\n",
    "head2.next.next.next.next = ListNode(5)\n",
    "head2.next.next.next.next.next = ListNode(6)\n",
    "head2.next.next.next.next.next.next = ListNode(7)\n",
    "head2.next.next.next.next.next.next.next = ListNode(8)\n",
    "head2.next.next.next.next.next.next.next.next = ListNode(9)\n",
    "head2.next.next.next.next.next.next.next.next.next = ListNode(10)\n",
    "print(splitListToParts(head2, 3))  # Output: [[1,2,3,4],[5,6,7],[8,9,10]]"
   ]
  },
  {
   "cell_type": "code",
   "execution_count": null,
   "id": "c20b4198",
   "metadata": {},
   "outputs": [],
   "source": []
  }
 ],
 "metadata": {
  "kernelspec": {
   "display_name": "Python 3",
   "language": "python",
   "name": "python3"
  },
  "language_info": {
   "codemirror_mode": {
    "name": "ipython",
    "version": 3
   },
   "file_extension": ".py",
   "mimetype": "text/x-python",
   "name": "python",
   "nbconvert_exporter": "python",
   "pygments_lexer": "ipython3",
   "version": "3.9.13"
  }
 },
 "nbformat": 4,
 "nbformat_minor": 5
}
