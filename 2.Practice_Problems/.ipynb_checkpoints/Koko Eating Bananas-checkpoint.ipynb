{
 "cells": [
  {
   "cell_type": "markdown",
   "id": "6d0e1b8c",
   "metadata": {},
   "source": [
    "# Koko Eating Bananas"
   ]
  },
  {
   "cell_type": "markdown",
   "id": "86fad5d0",
   "metadata": {},
   "source": [
    "Koko loves to eat bananas. There are n piles of bananas, the ith pile has piles[i] bananas. The guards have gone and will come back in h hours.\n",
    "\n",
    "Koko can decide her bananas-per-hour eating speed of k. Each hour, she chooses some pile of bananas and eats k bananas from that pile. If the pile has less than k bananas, she eats all of them instead and will not eat any more bananas during this hour.\n",
    "\n",
    "Koko likes to eat slowly but still wants to finish eating all the bananas before the guards return.\n",
    "\n",
    "Return the minimum integer k such that she can eat all the bananas within h hours.\n",
    "\n",
    "\n",
    "**Example 1:**\n",
    "\n",
    "Input: piles = [3,6,7,11], h = 8\n",
    "Output: 4\n",
    "\n",
    "**Example 2:**\n",
    "\n",
    "Input: piles = [30,11,23,4,20], h = 5\n",
    "Output: 30\n",
    "\n",
    "**Example 3:**\n",
    "\n",
    "Input: piles = [30,11,23,4,20], h = 6\n",
    "Output: 23\n",
    " \n",
    "\n",
    "**Constraints:**\n",
    "\n",
    "- 1 <= piles.length <= 104\n",
    "- piles.length <= h <= 109\n",
    "- 1 <= piles[i] <= 109"
   ]
  },
  {
   "cell_type": "code",
   "execution_count": 1,
   "id": "217cdba7",
   "metadata": {},
   "outputs": [],
   "source": [
    "def min_eating_speed(piles, h):\n",
    "    # define the search range for the possible values of k\n",
    "    left, right = 1, max(piles)\n",
    "    \n",
    "    while left <= right:\n",
    "        # find the mid-point of the search range\n",
    "        mid = (left + right) // 2\n",
    "        \n",
    "        # check if Koko can finish eating all the bananas within h hours\n",
    "        hours = sum((p - 1) // mid + 1 for p in piles)\n",
    "        if hours <= h:\n",
    "            # Koko can finish within h hours, so try to find a smaller value of k\n",
    "            right = mid - 1\n",
    "        else:\n",
    "            # Koko can't finish within h hours, so try to find a larger value of k\n",
    "            left = mid + 1\n",
    "    \n",
    "    # return the minimum possible value of k\n",
    "    return left"
   ]
  },
  {
   "cell_type": "code",
   "execution_count": 2,
   "id": "bf554c1c",
   "metadata": {},
   "outputs": [
    {
     "name": "stdout",
     "output_type": "stream",
     "text": [
      "4\n",
      "30\n",
      "23\n"
     ]
    }
   ],
   "source": [
    "# example 1\n",
    "piles = [3,6,7,11]\n",
    "h = 8\n",
    "print(min_eating_speed(piles, h)) # Output: 4\n",
    "\n",
    "# example 2\n",
    "piles = [30,11,23,4,20]\n",
    "h = 5\n",
    "print(min_eating_speed(piles, h)) # Output: 30\n",
    "\n",
    "# example 3\n",
    "piles = [30,11,23,4,20]\n",
    "h = 6\n",
    "print(min_eating_speed(piles, h)) # Output: 23"
   ]
  },
  {
   "cell_type": "code",
   "execution_count": null,
   "id": "d8182adc",
   "metadata": {},
   "outputs": [],
   "source": []
  }
 ],
 "metadata": {
  "kernelspec": {
   "display_name": "Python 3",
   "language": "python",
   "name": "python3"
  },
  "language_info": {
   "codemirror_mode": {
    "name": "ipython",
    "version": 3
   },
   "file_extension": ".py",
   "mimetype": "text/x-python",
   "name": "python",
   "nbconvert_exporter": "python",
   "pygments_lexer": "ipython3",
   "version": "3.9.13"
  }
 },
 "nbformat": 4,
 "nbformat_minor": 5
}
