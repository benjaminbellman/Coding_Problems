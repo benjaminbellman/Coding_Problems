{
 "cells": [
  {
   "cell_type": "markdown",
   "id": "26d6bab4",
   "metadata": {},
   "source": [
    "# Next Greater Element III"
   ]
  },
  {
   "cell_type": "markdown",
   "id": "8626f5ad",
   "metadata": {},
   "source": [
    "Given a positive integer n, find the smallest integer which has exactly the same digits existing in the integer n and is greater in value than n. If no such positive integer exists, return -1.\n",
    "\n",
    "Note that the returned integer should fit in 32-bit integer, if there is a valid answer but it does not fit in 32-bit integer, return -1.\n",
    "\n",
    " \n",
    "\n",
    "**Example 1:**\n",
    "\n",
    "Input: n = 12\n",
    "Output: 21\n",
    "\n",
    "**Example 2:**\n",
    "\n",
    "Input: n = 21\n",
    "Output: -1\n",
    " \n",
    "\n",
    "**Constraints:**\n",
    "\n",
    "- 1 <= n <= 231 - 1"
   ]
  },
  {
   "cell_type": "code",
   "execution_count": 1,
   "id": "1cb78acb",
   "metadata": {},
   "outputs": [
    {
     "name": "stdout",
     "output_type": "stream",
     "text": [
      "21\n",
      "-1\n"
     ]
    }
   ],
   "source": [
    "def nextGreaterElement(n):\n",
    "    # Convert n to a list of digits\n",
    "    digits = list(str(n))\n",
    "\n",
    "    # Start from the end and find the first digit that increases\n",
    "    i = len(digits) - 2\n",
    "    while i >= 0 and digits[i] >= digits[i+1]:\n",
    "        i -= 1\n",
    "\n",
    "    # If no such digit exists, return -1\n",
    "    if i == -1:\n",
    "        return -1\n",
    "\n",
    "    # Find the smallest digit to the right of digits[i] that's larger than it\n",
    "    j = len(digits) - 1\n",
    "    while digits[j] <= digits[i]:\n",
    "        j -= 1\n",
    "\n",
    "    # Swap digits[i] and digits[j]\n",
    "    digits[i], digits[j] = digits[j], digits[i]\n",
    "\n",
    "    # Sort the digits to the right of digits[i] in ascending order\n",
    "    digits[i+1:] = sorted(digits[i+1:])\n",
    "\n",
    "    # Convert back to integer\n",
    "    result = int(\"\".join(digits))\n",
    "\n",
    "    # Check if the result fits in a 32-bit integer and is larger than n\n",
    "    if result > n and result <= 2**31 - 1:\n",
    "        return result\n",
    "    else:\n",
    "        return -1\n",
    "\n",
    "# Test the function\n",
    "print(nextGreaterElement(12))  # 21\n",
    "print(nextGreaterElement(21))  # -1"
   ]
  },
  {
   "cell_type": "code",
   "execution_count": null,
   "id": "1f4ce576",
   "metadata": {},
   "outputs": [],
   "source": []
  }
 ],
 "metadata": {
  "kernelspec": {
   "display_name": "Python 3",
   "language": "python",
   "name": "python3"
  },
  "language_info": {
   "codemirror_mode": {
    "name": "ipython",
    "version": 3
   },
   "file_extension": ".py",
   "mimetype": "text/x-python",
   "name": "python",
   "nbconvert_exporter": "python",
   "pygments_lexer": "ipython3",
   "version": "3.9.13"
  }
 },
 "nbformat": 4,
 "nbformat_minor": 5
}
