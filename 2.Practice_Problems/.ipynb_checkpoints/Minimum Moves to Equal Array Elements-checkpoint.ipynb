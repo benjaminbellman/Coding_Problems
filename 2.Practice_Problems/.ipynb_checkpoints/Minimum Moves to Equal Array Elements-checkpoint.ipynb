{
 "cells": [
  {
   "cell_type": "markdown",
   "id": "caa06781",
   "metadata": {},
   "source": [
    "# Minimum Moves to Equal Array Elements\n"
   ]
  },
  {
   "cell_type": "markdown",
   "id": "5dfcab72",
   "metadata": {},
   "source": [
    "Given an integer array nums of size n, return the minimum number of moves required to make all array elements equal.\n",
    "\n",
    "In one move, you can increment n - 1 elements of the array by 1.\n",
    "\n",
    " \n",
    "\n",
    "**Example 1:**\n",
    "\n",
    "Input: nums = [1,2,3]\n",
    "Output: 3\n",
    "Explanation: Only three moves are needed (remember each move increments two elements):\n",
    "[1,2,3]  =>  [2,3,3]  =>  [3,4,3]  =>  [4,4,4]\n",
    "\n",
    "**Example 2:**\n",
    "\n",
    "Input: nums = [1,1,1]\n",
    "Output: 0\n",
    " \n",
    "\n",
    "**Constraints:**\n",
    "\n",
    "- n == nums.length\n",
    "- 1 <= nums.length <= 105\n",
    "- -109 <= nums[i] <= 109\n",
    "- The answer is guaranteed to fit in a 32-bit integer."
   ]
  },
  {
   "cell_type": "code",
   "execution_count": 1,
   "id": "388bf509",
   "metadata": {},
   "outputs": [
    {
     "name": "stdout",
     "output_type": "stream",
     "text": [
      "7\n",
      "1\n"
     ]
    }
   ],
   "source": [
    "def min_moves_to_make_equal(nums):\n",
    "    n = len(nums)\n",
    "    min_element = min(nums)\n",
    "    sum_of_elements = sum(nums)\n",
    "    target_sum = (n - 1) * (sum_of_elements - min_element)\n",
    "    return target_sum - n * min_element\n",
    "\n",
    "# Test cases\n",
    "print(min_moves_to_make_equal([1, 2, 3]))  # Output: 3\n",
    "print(min_moves_to_make_equal([1, 1, 1]))  # Output: 0"
   ]
  },
  {
   "cell_type": "code",
   "execution_count": null,
   "id": "bf5f011f",
   "metadata": {},
   "outputs": [],
   "source": []
  }
 ],
 "metadata": {
  "kernelspec": {
   "display_name": "Python 3",
   "language": "python",
   "name": "python3"
  },
  "language_info": {
   "codemirror_mode": {
    "name": "ipython",
    "version": 3
   },
   "file_extension": ".py",
   "mimetype": "text/x-python",
   "name": "python",
   "nbconvert_exporter": "python",
   "pygments_lexer": "ipython3",
   "version": "3.9.13"
  }
 },
 "nbformat": 4,
 "nbformat_minor": 5
}
