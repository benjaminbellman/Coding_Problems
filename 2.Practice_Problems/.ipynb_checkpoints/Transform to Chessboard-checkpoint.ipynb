{
 "cells": [
  {
   "cell_type": "markdown",
   "id": "ccf48e1f",
   "metadata": {},
   "source": [
    "# Transform to Chessboard"
   ]
  },
  {
   "cell_type": "markdown",
   "id": "5116c5c0",
   "metadata": {},
   "source": [
    "You are given an n x n binary grid board. In each move, you can swap any two rows with each other, or any two columns with each other.\n",
    "\n",
    "Return the minimum number of moves to transform the board into a chessboard board. If the task is impossible, return -1.\n",
    "\n",
    "A chessboard board is a board where no 0's and no 1's are 4-directionally adjacent.\n",
    "\n",
    " \n",
    "\n",
    "**Example 1:**\n",
    "\n",
    "\n",
    "Input: board = [[0,1,1,0],[0,1,1,0],[1,0,0,1],[1,0,0,1]]\n",
    "\n",
    "Output: 2\n",
    "Explanation: One potential sequence of moves is shown.\n",
    "The first move swaps the first and second column.\n",
    "The second move swaps the second and third row.\n",
    "\n",
    "**Example 2:**\n",
    "\n",
    "\n",
    "Input: board = [[0,1],[1,0]]\n",
    "\n",
    "Output: 0\n",
    "Explanation: Also note that the board with 0 in the top left corner, is also a valid chessboard.\n",
    "\n",
    "**Example 3:**\n",
    "\n",
    "\n",
    "Input: board = [[1,0],[1,0]]\n",
    "\n",
    "Output: -1\n",
    "Explanation: No matter what sequence of moves you make, you cannot end with a valid chessboard.\n",
    " \n",
    "\n",
    "**Constraints:**\n",
    "\n",
    "- n == board.length\n",
    "- n == board[i].length\n",
    "- 2 <= n <= 30\n",
    "- board[i][j] is either 0 or 1."
   ]
  },
  {
   "cell_type": "code",
   "execution_count": 1,
   "id": "7f39d2e1",
   "metadata": {},
   "outputs": [
    {
     "name": "stdout",
     "output_type": "stream",
     "text": [
      "-1\n",
      "-1\n",
      "-1\n"
     ]
    }
   ],
   "source": [
    "def movesToChessboard(board):\n",
    "    n = len(board)\n",
    "    \n",
    "    # Check if the first row starts with 0 or 1\n",
    "    if board[0][0] != board[0][1] and board[0][0] != board[1][0]:\n",
    "        start_with_zero = True\n",
    "    else:\n",
    "        start_with_zero = False\n",
    "    \n",
    "    # Check if the board is a valid chessboard\n",
    "    for i in range(n):\n",
    "        for j in range(n):\n",
    "            if (start_with_zero and board[0][0] != board[i][j]) or \\\n",
    "               (not start_with_zero and board[0][0] == board[i][j]):\n",
    "                return -1\n",
    "    \n",
    "    # Count the number of swaps needed for rows and columns\n",
    "    row_swaps = sum(board[0][i] != i % 2 for i in range(n))\n",
    "    col_swaps = sum(board[i][0] != i % 2 for i in range(n))\n",
    "    \n",
    "    # If n is odd, adjust the number of swaps\n",
    "    if n % 2 == 1:\n",
    "        if row_swaps % 2 == 1:\n",
    "            row_swaps = n - row_swaps\n",
    "        if col_swaps % 2 == 1:\n",
    "            col_swaps = n - col_swaps\n",
    "    \n",
    "    return (row_swaps + col_swaps) // 2\n",
    "\n",
    "# Test cases\n",
    "print(movesToChessboard([[0,1,1,0],[0,1,1,0],[1,0,0,1],[1,0,0,1]]))  # Output: 2\n",
    "print(movesToChessboard([[0,1],[1,0]]))  # Output: 0\n",
    "print(movesToChessboard([[1,0],[1,0]]))  # Output: -1"
   ]
  },
  {
   "cell_type": "code",
   "execution_count": null,
   "id": "b4f2229b",
   "metadata": {},
   "outputs": [],
   "source": []
  }
 ],
 "metadata": {
  "kernelspec": {
   "display_name": "Python 3",
   "language": "python",
   "name": "python3"
  },
  "language_info": {
   "codemirror_mode": {
    "name": "ipython",
    "version": 3
   },
   "file_extension": ".py",
   "mimetype": "text/x-python",
   "name": "python",
   "nbconvert_exporter": "python",
   "pygments_lexer": "ipython3",
   "version": "3.9.13"
  }
 },
 "nbformat": 4,
 "nbformat_minor": 5
}
