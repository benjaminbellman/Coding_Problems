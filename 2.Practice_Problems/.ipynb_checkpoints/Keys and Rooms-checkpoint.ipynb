{
 "cells": [
  {
   "cell_type": "markdown",
   "id": "d1f6071d",
   "metadata": {},
   "source": [
    "# Keys and Rooms"
   ]
  },
  {
   "cell_type": "markdown",
   "id": "12c6e2f7",
   "metadata": {},
   "source": [
    "There are n rooms labeled from 0 to n - 1 and all the rooms are locked except for room 0. Your goal is to visit all the rooms. However, you cannot enter a locked room without having its key.\n",
    "\n",
    "When you visit a room, you may find a set of distinct keys in it. Each key has a number on it, denoting which room it unlocks, and you can take all of them with you to unlock the other rooms.\n",
    "\n",
    "Given an array rooms where rooms[i] is the set of keys that you can obtain if you visited room i, return true if you can visit all the rooms, or false otherwise.\n",
    "\n",
    " \n",
    "\n",
    "**Example 1:**\n",
    "\n",
    "Input: rooms = [[1],[2],[3],[]]\n",
    "Output: true\n",
    "Explanation: \n",
    "We visit room 0 and pick up key 1.\n",
    "We then visit room 1 and pick up key 2.\n",
    "We then visit room 2 and pick up key 3.\n",
    "We then visit room 3.\n",
    "Since we were able to visit every room, we return true.\n",
    "\n",
    "**Example 2:**\n",
    "\n",
    "Input: rooms = [[1,3],[3,0,1],[2],[0]]\n",
    "Output: false\n",
    "Explanation: We can not enter room number 2 since the only key that unlocks it is in that room.\n",
    " \n",
    "\n",
    "**Constraints:**\n",
    "\n",
    "- n == rooms.length\n",
    "- 2 <= n <= 1000\n",
    "- 0 <= rooms[i].length <= 1000\n",
    "- 1 <= sum(rooms[i].length) <= 3000\n",
    "- 0 <= rooms[i][j] < n\n",
    "- All the values of rooms[i] are unique."
   ]
  },
  {
   "cell_type": "code",
   "execution_count": 1,
   "id": "ff892207",
   "metadata": {},
   "outputs": [],
   "source": [
    "def canVisitAllRooms(rooms):\n",
    "    n = len(rooms)\n",
    "    visited = set()\n",
    "\n",
    "    def dfs(room):\n",
    "        visited.add(room)\n",
    "        for key in rooms[room]:\n",
    "            if key not in visited:\n",
    "                dfs(key)\n",
    "\n",
    "    dfs(0)\n",
    "    return len(visited) == n"
   ]
  },
  {
   "cell_type": "code",
   "execution_count": 2,
   "id": "28429117",
   "metadata": {},
   "outputs": [
    {
     "name": "stdout",
     "output_type": "stream",
     "text": [
      "True\n",
      "False\n"
     ]
    }
   ],
   "source": [
    "rooms1 = [[1],[2],[3],[]]\n",
    "print(canVisitAllRooms(rooms1))  # Output: True\n",
    "\n",
    "rooms2 = [[1,3],[3,0,1],[2],[0]]\n",
    "print(canVisitAllRooms(rooms2))  # Output: False"
   ]
  },
  {
   "cell_type": "code",
   "execution_count": null,
   "id": "aceeb155",
   "metadata": {},
   "outputs": [],
   "source": []
  }
 ],
 "metadata": {
  "kernelspec": {
   "display_name": "Python 3",
   "language": "python",
   "name": "python3"
  },
  "language_info": {
   "codemirror_mode": {
    "name": "ipython",
    "version": 3
   },
   "file_extension": ".py",
   "mimetype": "text/x-python",
   "name": "python",
   "nbconvert_exporter": "python",
   "pygments_lexer": "ipython3",
   "version": "3.9.13"
  }
 },
 "nbformat": 4,
 "nbformat_minor": 5
}
