{
 "cells": [
  {
   "cell_type": "markdown",
   "id": "ead5b457",
   "metadata": {},
   "source": [
    "# Number of Lines To Write String"
   ]
  },
  {
   "cell_type": "markdown",
   "id": "7b29a3c1",
   "metadata": {},
   "source": [
    "You are given a string s of lowercase English letters and an array widths denoting how many pixels wide each lowercase English letter is. Specifically, widths[0] is the width of 'a', widths[1] is the width of 'b', and so on.\n",
    "\n",
    "You are trying to write s across several lines, where each line is no longer than 100 pixels. Starting at the beginning of s, write as many letters on the first line such that the total width does not exceed 100 pixels. Then, from where you stopped in s, continue writing as many letters as you can on the second line. Continue this process until you have written all of s.\n",
    "\n",
    "Return an array result of length 2 where:\n",
    "\n",
    "result[0] is the total number of lines.\n",
    "result[1] is the width of the last line in pixels.\n",
    " \n",
    "\n",
    "**Example 1:**\n",
    "\n",
    "Input: widths = [10,10,10,10,10,10,10,10,10,10,10,10,10,10,10,10,10,10,10,10,10,10,10,10,10,10], s = \"abcdefghijklmnopqrstuvwxyz\"\n",
    "\n",
    "Output: [3,60]\n",
    "Explanation: You can write s as follows:\n",
    "abcdefghij  // 100 pixels wide\n",
    "klmnopqrst  // 100 pixels wide\n",
    "uvwxyz      // 60 pixels wide\n",
    "There are a total of 3 lines, and the last line is 60 pixels wide.\n",
    "\n",
    "**Example 2:**\n",
    "\n",
    "Input: widths = [4,10,10,10,10,10,10,10,10,10,10,10,10,10,10,10,10,10,10,10,10,10,10,10,10,10], s = \"bbbcccdddaaa\"\n",
    "\n",
    "Output: [2,4]\n",
    "Explanation: You can write s as follows:\n",
    "bbbcccdddaa  // 98 pixels wide\n",
    "a            // 4 pixels wide\n",
    "There are a total of 2 lines, and the last line is 4 pixels wide.\n",
    " \n",
    "\n",
    "**Constraints**:\n",
    "\n",
    "- widths.length == 26\n",
    "- 2 <= widths[i] <= 10\n",
    "- 1 <= s.length <= 1000\n",
    "- s contains only lowercase English letters."
   ]
  },
  {
   "cell_type": "code",
   "execution_count": 1,
   "id": "6b383a28",
   "metadata": {},
   "outputs": [
    {
     "name": "stdout",
     "output_type": "stream",
     "text": [
      "[3, 60]\n",
      "[1, 84]\n"
     ]
    }
   ],
   "source": [
    "def number_of_lines(widths, s):\n",
    "    lines = 1\n",
    "    current_width = 0\n",
    "\n",
    "    for char in s:\n",
    "        char_width = widths[ord(char) - ord('a')]\n",
    "        if current_width + char_width <= 100:\n",
    "            current_width += char_width\n",
    "        else:\n",
    "            lines += 1\n",
    "            current_width = char_width\n",
    "\n",
    "    return [lines, current_width]\n",
    "\n",
    "# Example usage:\n",
    "widths_example1 = [10] * 26  # Each letter is 10 pixels wide\n",
    "s_example1 = \"abcdefghijklmnopqrstuvwxyz\"\n",
    "output_example1 = number_of_lines(widths_example1, s_example1)\n",
    "print(output_example1)  # Output: [3, 60]\n",
    "\n",
    "widths_example2 = [4, 10] * 13  # Alternating widths for 'a' and 'b'\n",
    "s_example2 = \"bbbcccdddaaa\"\n",
    "output_example2 = number_of_lines(widths_example2, s_example2)\n",
    "print(output_example2)  # Output: [2, 4]"
   ]
  },
  {
   "cell_type": "code",
   "execution_count": null,
   "id": "f7335248",
   "metadata": {},
   "outputs": [],
   "source": []
  }
 ],
 "metadata": {
  "kernelspec": {
   "display_name": "Python 3",
   "language": "python",
   "name": "python3"
  },
  "language_info": {
   "codemirror_mode": {
    "name": "ipython",
    "version": 3
   },
   "file_extension": ".py",
   "mimetype": "text/x-python",
   "name": "python",
   "nbconvert_exporter": "python",
   "pygments_lexer": "ipython3",
   "version": "3.9.13"
  }
 },
 "nbformat": 4,
 "nbformat_minor": 5
}
