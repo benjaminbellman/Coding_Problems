{
 "cells": [
  {
   "cell_type": "markdown",
   "id": "8b1a2b34",
   "metadata": {},
   "source": [
    "# Find Minimum in Rotated Sorted Array II"
   ]
  },
  {
   "cell_type": "markdown",
   "id": "3fc35dc4",
   "metadata": {},
   "source": [
    "Suppose an array of length n sorted in ascending order is rotated between 1 and n times. For example, the array nums = [0,1,4,4,5,6,7] might become:\n",
    "\n",
    "[4,5,6,7,0,1,4] if it was rotated 4 times.\n",
    "[0,1,4,4,5,6,7] if it was rotated 7 times.\n",
    "Notice that rotating an array [a[0], a[1], a[2], ..., a[n-1]] 1 time results in the array [a[n-1], a[0], a[1], a[2], ..., a[n-2]].\n",
    "\n",
    "Given the sorted rotated array nums that may contain duplicates, return the minimum element of this array.\n",
    "\n",
    "You must decrease the overall operation steps as much as possible.\n",
    "\n",
    "**Example 1:**\n",
    "\n",
    "Input: nums = [1,3,5]\n",
    "Output: 1\n",
    "\n",
    "**Example 2:**\n",
    "\n",
    "Input: nums = [2,2,2,0,1]\n",
    "Output: 0\n",
    " \n",
    "**Constraints:**\n",
    "\n",
    "- n == nums.length\n",
    "- 1 <= n <= 5000\n",
    "- -5000 <= nums[i] <= 5000\n",
    "- nums is sorted and rotated between 1 and n times."
   ]
  },
  {
   "cell_type": "code",
   "execution_count": 1,
   "id": "b2a63343",
   "metadata": {},
   "outputs": [],
   "source": [
    "def findMin(nums):\n",
    "    lo, hi = 0, len(nums) - 1\n",
    "    while lo < hi:\n",
    "        mid = (lo + hi) // 2\n",
    "        if nums[mid] < nums[hi]:\n",
    "            hi = mid\n",
    "        elif nums[mid] > nums[hi]:\n",
    "            lo = mid + 1\n",
    "        else:  # nums[mid] == nums[hi]\n",
    "            hi -= 1\n",
    "    return nums[lo]"
   ]
  },
  {
   "cell_type": "code",
   "execution_count": null,
   "id": "c5825d30",
   "metadata": {},
   "outputs": [],
   "source": []
  }
 ],
 "metadata": {
  "kernelspec": {
   "display_name": "Python 3 (ipykernel)",
   "language": "python",
   "name": "python3"
  },
  "language_info": {
   "codemirror_mode": {
    "name": "ipython",
    "version": 3
   },
   "file_extension": ".py",
   "mimetype": "text/x-python",
   "name": "python",
   "nbconvert_exporter": "python",
   "pygments_lexer": "ipython3",
   "version": "3.8.11"
  }
 },
 "nbformat": 4,
 "nbformat_minor": 5
}
