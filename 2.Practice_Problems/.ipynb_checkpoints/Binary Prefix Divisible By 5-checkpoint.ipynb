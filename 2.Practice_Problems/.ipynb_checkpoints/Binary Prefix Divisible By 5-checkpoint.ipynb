{
 "cells": [
  {
   "cell_type": "markdown",
   "id": "534db0f3",
   "metadata": {},
   "source": [
    "# Binary Prefix Divisible By 5"
   ]
  },
  {
   "cell_type": "markdown",
   "id": "f39c20f8",
   "metadata": {},
   "source": [
    "You are given a binary array nums (0-indexed).\n",
    "\n",
    "We define xi as the number whose binary representation is the subarray nums[0..i] (from most-significant-bit to least-significant-bit).\n",
    "\n",
    "For example, if nums = [1,0,1], then x0 = 1, x1 = 2, and x2 = 5.\n",
    "Return an array of booleans answer where answer[i] is true if xi is divisible by 5.\n",
    "\n",
    "**Example 1:**\n",
    "\n",
    "Input: nums = [0,1,1]\n",
    "Output: [true,false,false]\n",
    "Explanation: The input numbers in binary are 0, 01, 011; which are 0, 1, and 3 in base-10.\n",
    "Only the first number is divisible by 5, so answer[0] is true.\n",
    "\n",
    "**Example 2:**\n",
    "\n",
    "Input: nums = [1,1,1]\n",
    "Output: [false,false,false] \n",
    "\n",
    "**Constraints:**\n",
    "\n",
    "- 1 <= nums.length <= 105\n",
    "- nums[i] is either 0 or 1."
   ]
  },
  {
   "cell_type": "code",
   "execution_count": 1,
   "id": "9873557f",
   "metadata": {},
   "outputs": [
    {
     "name": "stdout",
     "output_type": "stream",
     "text": [
      "[True, False, False]\n",
      "[False, False, False]\n"
     ]
    }
   ],
   "source": [
    "def prefixesDivBy5(nums):\n",
    "    answer = []\n",
    "    current = 0  # Initialize the prefix sum modulo 5\n",
    "    for num in nums:\n",
    "        current = (current * 2 + num) % 5\n",
    "        answer.append(current == 0)  # Check if the current value is divisible by 5\n",
    "    return answer\n",
    "\n",
    "# Example usage:\n",
    "nums1 = [0, 1, 1]\n",
    "nums2 = [1, 1, 1]\n",
    "\n",
    "print(prefixesDivBy5(nums1))  # Output: [True, False, False]\n",
    "print(prefixesDivBy5(nums2))  # Output: [False, False, False]"
   ]
  },
  {
   "cell_type": "code",
   "execution_count": null,
   "id": "aec0bbbf",
   "metadata": {},
   "outputs": [],
   "source": []
  }
 ],
 "metadata": {
  "kernelspec": {
   "display_name": "Python 3 (ipykernel)",
   "language": "python",
   "name": "python3"
  },
  "language_info": {
   "codemirror_mode": {
    "name": "ipython",
    "version": 3
   },
   "file_extension": ".py",
   "mimetype": "text/x-python",
   "name": "python",
   "nbconvert_exporter": "python",
   "pygments_lexer": "ipython3",
   "version": "3.8.11"
  }
 },
 "nbformat": 4,
 "nbformat_minor": 5
}
