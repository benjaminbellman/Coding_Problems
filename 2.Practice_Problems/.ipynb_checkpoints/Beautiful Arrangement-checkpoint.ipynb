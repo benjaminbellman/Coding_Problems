{
 "cells": [
  {
   "cell_type": "markdown",
   "id": "9b5c8941",
   "metadata": {},
   "source": [
    "# Beautiful Arrangement"
   ]
  },
  {
   "cell_type": "markdown",
   "id": "fdf94eef",
   "metadata": {},
   "source": [
    "Suppose you have n integers labeled 1 through n. A permutation of those n integers perm (1-indexed) is considered a beautiful arrangement if for every i (1 <= i <= n), either of the following is true:\n",
    "\n",
    "perm[i] is divisible by i.\n",
    "i is divisible by perm[i].\n",
    "Given an integer n, return the number of the beautiful arrangements that you can construct.\n",
    "\n",
    " \n",
    "\n",
    "**Example 1:**\n",
    "\n",
    "Input: n = 2\n",
    "Output: 2\n",
    "Explanation: \n",
    "The first beautiful arrangement is [1,2]:\n",
    "    - perm[1] = 1 is divisible by i = 1\n",
    "    - perm[2] = 2 is divisible by i = 2\n",
    "The second beautiful arrangement is [2,1]:\n",
    "    - perm[1] = 2 is divisible by i = 1\n",
    "    - i = 2 is divisible by perm[2] = 1\n",
    "\n",
    "**Example 2:**\n",
    "\n",
    "Input: n = 1\n",
    "Output: 1\n",
    " \n",
    "\n",
    "**Constraints:**\n",
    "\n",
    "- 1 <= n <= 15"
   ]
  },
  {
   "cell_type": "code",
   "execution_count": 1,
   "id": "c773b78c",
   "metadata": {},
   "outputs": [
    {
     "name": "stdout",
     "output_type": "stream",
     "text": [
      "2\n",
      "1\n"
     ]
    }
   ],
   "source": [
    "def countArrangement(n):\n",
    "    def count(i, X):\n",
    "        # If we have a valid permutation\n",
    "        if i == 1:\n",
    "            return 1\n",
    "        return sum(count(i - 1, X - {x})\n",
    "                   for x in X\n",
    "                   if x % i == 0 or i % x == 0)\n",
    "    return count(n, set(range(1, n + 1)))\n",
    "\n",
    "# Test the function\n",
    "print(countArrangement(2)) # Output: 2\n",
    "print(countArrangement(1)) # Output: 1"
   ]
  }
 ],
 "metadata": {
  "kernelspec": {
   "display_name": "Python 3",
   "language": "python",
   "name": "python3"
  },
  "language_info": {
   "codemirror_mode": {
    "name": "ipython",
    "version": 3
   },
   "file_extension": ".py",
   "mimetype": "text/x-python",
   "name": "python",
   "nbconvert_exporter": "python",
   "pygments_lexer": "ipython3",
   "version": "3.9.13"
  }
 },
 "nbformat": 4,
 "nbformat_minor": 5
}
