{
 "cells": [
  {
   "cell_type": "markdown",
   "id": "d3087832",
   "metadata": {},
   "source": [
    "# Maximum Product Subarray"
   ]
  },
  {
   "cell_type": "markdown",
   "id": "17ea23f2",
   "metadata": {},
   "source": [
    "Given an integer array nums, find a subarray that has the largest product, and return the product.\n",
    "\n",
    "The test cases are generated so that the answer will fit in a 32-bit integer.\n",
    "\n",
    "Note that the product of an array with a single element is the value of that element.\n",
    "\n",
    "**Example 1:**\n",
    "\n",
    "Input: nums = [2,3,-2,4]\n",
    "Output: 6\n",
    "Explanation: [2,3] has the largest product 6.\n",
    "\n",
    "**Example 2:**\n",
    "\n",
    "Input: nums = [-2,0,-1]\n",
    "Output: 0\n",
    "Explanation: The result cannot be 2, because [-2,-1] is not a subarray.\n",
    "\n",
    "**Constraints:**\n",
    "\n",
    "- 1 <= nums.length <= 2 * 104\n",
    "- -10 <= nums[i] <= 10\n",
    "- The product of any subarray of nums is guaranteed to fit in a 32-bit integer."
   ]
  },
  {
   "cell_type": "code",
   "execution_count": 1,
   "id": "f5956b22",
   "metadata": {},
   "outputs": [],
   "source": [
    "def maxProduct(nums):\n",
    "    max_end = min_end = ans = nums[0]\n",
    "    for x in nums[1:]:\n",
    "        if x < 0:\n",
    "            max_end, min_end = min_end, max_end\n",
    "        max_end = max(x, max_end * x)\n",
    "        min_end = min(x, min_end * x)\n",
    "        ans = max(ans, max_end)\n",
    "    return ans"
   ]
  },
  {
   "cell_type": "code",
   "execution_count": null,
   "id": "be967e25",
   "metadata": {},
   "outputs": [],
   "source": []
  }
 ],
 "metadata": {
  "kernelspec": {
   "display_name": "Python 3 (ipykernel)",
   "language": "python",
   "name": "python3"
  },
  "language_info": {
   "codemirror_mode": {
    "name": "ipython",
    "version": 3
   },
   "file_extension": ".py",
   "mimetype": "text/x-python",
   "name": "python",
   "nbconvert_exporter": "python",
   "pygments_lexer": "ipython3",
   "version": "3.8.11"
  }
 },
 "nbformat": 4,
 "nbformat_minor": 5
}
