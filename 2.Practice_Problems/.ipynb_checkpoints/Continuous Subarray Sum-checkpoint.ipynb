{
 "cells": [
  {
   "cell_type": "markdown",
   "id": "b61aacb1",
   "metadata": {},
   "source": [
    "# Continuous Subarray Sum"
   ]
  },
  {
   "cell_type": "markdown",
   "id": "f1cb0a75",
   "metadata": {},
   "source": [
    "Given an integer array nums and an integer k, return true if nums has a good subarray or false otherwise.\n",
    "\n",
    "A good subarray is a subarray where:\n",
    "\n",
    "- its length is at least two, and\n",
    "- the sum of the elements of the subarray is a multiple of k.\n",
    "\n",
    "Note that:\n",
    "\n",
    "- A subarray is a contiguous part of the array.\n",
    "- An integer x is a multiple of k if there exists an integer n such that x = n * k. 0 is always a multiple of k.\n",
    " \n",
    "\n",
    "**Example 1:**\n",
    "\n",
    "Input: nums = [23,2,4,6,7], k = 6\n",
    "Output: true\n",
    "Explanation: [2, 4] is a continuous subarray of size 2 whose elements sum up to 6.\n",
    "\n",
    "**Example 2:**\n",
    "\n",
    "Input: nums = [23,2,6,4,7], k = 6\n",
    "Output: true\n",
    "Explanation: [23, 2, 6, 4, 7] is an continuous subarray of size 5 whose elements sum up to 42.\n",
    "42 is a multiple of 6 because 42 = 7 * 6 and 7 is an integer.\n",
    "\n",
    "**Example 3:**\n",
    "\n",
    "Input: nums = [23,2,6,4,7], k = 13\n",
    "Output: false\n",
    " \n",
    "\n",
    "**Constraints:**\n",
    "\n",
    "- 1 <= nums.length <= 105\n",
    "- 0 <= nums[i] <= 109\n",
    "- 0 <= sum(nums[i]) <= 231 - 1\n",
    "- 1 <= k <= 231 - 1"
   ]
  },
  {
   "cell_type": "code",
   "execution_count": 1,
   "id": "64d2f2c4",
   "metadata": {},
   "outputs": [],
   "source": [
    "def checkSubarraySum(nums, k):\n",
    "    if len(nums) < 2:\n",
    "        return False\n",
    "    \n",
    "    # To handle the case where subarray starts from index 0\n",
    "    prefix_sum = {0: -1}\n",
    "    running_sum = 0\n",
    "    \n",
    "    for i, num in enumerate(nums):\n",
    "        running_sum += num\n",
    "        if k != 0:  # To prevent division by zero\n",
    "            running_sum %= k\n",
    "        \n",
    "        # If running_sum was seen before, we found a subarray\n",
    "        if running_sum in prefix_sum:\n",
    "            # Ensure the length of subarray is at least 2\n",
    "            if i - prefix_sum[running_sum] > 1:\n",
    "                return True\n",
    "        else:\n",
    "            # If not seen before, add it to our prefix sums\n",
    "            prefix_sum[running_sum] = i\n",
    "    \n",
    "    return False"
   ]
  },
  {
   "cell_type": "code",
   "execution_count": 2,
   "id": "42f0652c",
   "metadata": {},
   "outputs": [
    {
     "name": "stdout",
     "output_type": "stream",
     "text": [
      "True\n",
      "True\n",
      "False\n"
     ]
    }
   ],
   "source": [
    "nums1 = [23,2,4,6,7]\n",
    "k1 = 6\n",
    "print(checkSubarraySum(nums1, k1))  # True\n",
    "\n",
    "nums2 = [23,2,6,4,7]\n",
    "k2 = 6\n",
    "print(checkSubarraySum(nums2, k2))  # True\n",
    "\n",
    "nums3 = [23,2,6,4,7]\n",
    "k3 = 13\n",
    "print(checkSubarraySum(nums3, k3))  # False"
   ]
  }
 ],
 "metadata": {
  "kernelspec": {
   "display_name": "Python 3",
   "language": "python",
   "name": "python3"
  },
  "language_info": {
   "codemirror_mode": {
    "name": "ipython",
    "version": 3
   },
   "file_extension": ".py",
   "mimetype": "text/x-python",
   "name": "python",
   "nbconvert_exporter": "python",
   "pygments_lexer": "ipython3",
   "version": "3.9.13"
  }
 },
 "nbformat": 4,
 "nbformat_minor": 5
}
