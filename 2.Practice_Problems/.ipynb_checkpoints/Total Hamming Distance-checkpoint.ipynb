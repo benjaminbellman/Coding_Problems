{
 "cells": [
  {
   "cell_type": "markdown",
   "id": "4964a057",
   "metadata": {},
   "source": [
    "# Total Hamming Distance"
   ]
  },
  {
   "cell_type": "markdown",
   "id": "bbb48a5b",
   "metadata": {},
   "source": [
    "The Hamming distance between two integers is the number of positions at which the corresponding bits are different.\n",
    "\n",
    "Given an integer array nums, return the sum of Hamming distances between all the pairs of the integers in nums.\n",
    "\n",
    " \n",
    "\n",
    "**Example 1:**\n",
    "\n",
    "Input: nums = [4,14,2]\n",
    "Output: 6\n",
    "Explanation: In binary representation, the 4 is 0100, 14 is 1110, and 2 is 0010 (just\n",
    "showing the four bits relevant in this case).\n",
    "The answer will be:\n",
    "HammingDistance(4, 14) + HammingDistance(4, 2) + HammingDistance(14, 2) = 2 + 2 + 2 = 6.\n",
    "\n",
    "**Example 2:**\n",
    "\n",
    "Input: nums = [4,14,4]\n",
    "Output: 4\n",
    " \n",
    "\n",
    "**Constraints:**\n",
    "\n",
    "- 1 <= nums.length <= 104\n",
    "- 0 <= nums[i] <= 109\n",
    "- The answer for the given input will fit in a 32-bit integer."
   ]
  },
  {
   "cell_type": "code",
   "execution_count": 1,
   "id": "dc8a3b30",
   "metadata": {},
   "outputs": [
    {
     "name": "stdout",
     "output_type": "stream",
     "text": [
      "6\n",
      "4\n"
     ]
    }
   ],
   "source": [
    "def totalHammingDistance(nums):\n",
    "    total_distance = 0\n",
    "    n = len(nums)\n",
    "    \n",
    "    # Iterate through each bit position (32 bits in a 32-bit integer)\n",
    "    for bit in range(32):\n",
    "        count_ones = 0\n",
    "        for num in nums:\n",
    "            # Count the number of integers with a '1' at the current bit position\n",
    "            count_ones += (num >> bit) & 1\n",
    "        \n",
    "        # Calculate the number of integers with a '0' at the current bit position\n",
    "        count_zeros = n - count_ones\n",
    "        \n",
    "        # Add the Hamming distance for this bit position to the total\n",
    "        total_distance += count_ones * count_zeros\n",
    "    \n",
    "    return total_distance\n",
    "\n",
    "# Test cases\n",
    "nums1 = [4, 14, 2]\n",
    "print(totalHammingDistance(nums1))  # Output: 6\n",
    "\n",
    "nums2 = [4, 14, 4]\n",
    "print(totalHammingDistance(nums2))  # Output: 4"
   ]
  },
  {
   "cell_type": "code",
   "execution_count": null,
   "id": "7c743d3b",
   "metadata": {},
   "outputs": [],
   "source": []
  }
 ],
 "metadata": {
  "kernelspec": {
   "display_name": "Python 3",
   "language": "python",
   "name": "python3"
  },
  "language_info": {
   "codemirror_mode": {
    "name": "ipython",
    "version": 3
   },
   "file_extension": ".py",
   "mimetype": "text/x-python",
   "name": "python",
   "nbconvert_exporter": "python",
   "pygments_lexer": "ipython3",
   "version": "3.9.13"
  }
 },
 "nbformat": 4,
 "nbformat_minor": 5
}
