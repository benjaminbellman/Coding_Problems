{
 "cells": [
  {
   "cell_type": "markdown",
   "id": "52ecfb5b",
   "metadata": {},
   "source": [
    "# Keyboard Row"
   ]
  },
  {
   "cell_type": "markdown",
   "id": "efc84b2f",
   "metadata": {},
   "source": [
    "Given an array of strings words, return the words that can be typed using letters of the alphabet on only one row of American keyboard like the image below.\n",
    "\n",
    "In the American keyboard:\n",
    "\n",
    "the first row consists of the characters \"qwertyuiop\",\n",
    "the second row consists of the characters \"asdfghjkl\", and\n",
    "the third row consists of the characters \"zxcvbnm\".\n",
    "\n",
    " \n",
    "\n",
    "**Example 1:**\n",
    "\n",
    "Input: words = [\"Hello\",\"Alaska\",\"Dad\",\"Peace\"]\n",
    "Output: [\"Alaska\",\"Dad\"]\n",
    "\n",
    "**Example 2:**\n",
    "\n",
    "Input: words = [\"omk\"]\n",
    "Output: []\n",
    "\n",
    "**Example 3:**\n",
    "\n",
    "Input: words = [\"adsdf\",\"sfd\"]\n",
    "Output: [\"adsdf\",\"sfd\"]\n",
    " \n",
    "\n",
    "**Constraints:**\n",
    "\n",
    "- 1 <= words.length <= 20\n",
    "- 1 <= words[i].length <= 100\n",
    "- words[i] consists of English letters (both lowercase and uppercase). "
   ]
  },
  {
   "cell_type": "code",
   "execution_count": 1,
   "id": "a9f77841",
   "metadata": {},
   "outputs": [
    {
     "name": "stdout",
     "output_type": "stream",
     "text": [
      "['Alaska', 'Dad']\n",
      "[]\n",
      "['adsdf', 'sfd']\n"
     ]
    }
   ],
   "source": [
    "def findWords(words):\n",
    "    row1 = set('qwertyuiop')\n",
    "    row2 = set('asdfghjkl')\n",
    "    row3 = set('zxcvbnm')\n",
    "    \n",
    "    output = []\n",
    "    \n",
    "    for word in words:\n",
    "        lower_word = word.lower()  # Convert to lowercase to make the comparison case-insensitive\n",
    "        word_set = set(lower_word)\n",
    "        \n",
    "        if word_set.issubset(row1) or word_set.issubset(row2) or word_set.issubset(row3):\n",
    "            output.append(word)\n",
    "            \n",
    "    return output\n",
    "\n",
    "# Example usage\n",
    "print(findWords([\"Hello\", \"Alaska\", \"Dad\", \"Peace\"]))  # Output should be [\"Alaska\", \"Dad\"]\n",
    "print(findWords([\"omk\"]))  # Output should be []\n",
    "print(findWords([\"adsdf\", \"sfd\"]))  # Output should be [\"adsdf\", \"sfd\"]"
   ]
  },
  {
   "cell_type": "code",
   "execution_count": null,
   "id": "ed9b0996",
   "metadata": {},
   "outputs": [],
   "source": []
  }
 ],
 "metadata": {
  "kernelspec": {
   "display_name": "Python 3",
   "language": "python",
   "name": "python3"
  },
  "language_info": {
   "codemirror_mode": {
    "name": "ipython",
    "version": 3
   },
   "file_extension": ".py",
   "mimetype": "text/x-python",
   "name": "python",
   "nbconvert_exporter": "python",
   "pygments_lexer": "ipython3",
   "version": "3.9.13"
  }
 },
 "nbformat": 4,
 "nbformat_minor": 5
}
