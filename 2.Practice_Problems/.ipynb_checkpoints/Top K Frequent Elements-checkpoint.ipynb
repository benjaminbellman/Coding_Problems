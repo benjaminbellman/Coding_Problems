{
 "cells": [
  {
   "cell_type": "markdown",
   "id": "6a8051e8",
   "metadata": {},
   "source": [
    "# Top K Frequent Elements"
   ]
  },
  {
   "cell_type": "markdown",
   "id": "51b410eb",
   "metadata": {},
   "source": [
    "Given an integer array nums and an integer k, return the k most frequent elements. You may return the answer in any order.\n",
    "\n",
    " \n",
    "\n",
    "**Example 1:**\n",
    "\n",
    "Input: nums = [1,1,1,2,2,3], k = 2\n",
    "Output: [1,2]\n",
    "\n",
    "**Example 2:**\n",
    "\n",
    "Input: nums = [1], k = 1\n",
    "Output: [1]\n",
    " \n",
    "\n",
    "**Constraints:**\n",
    "\n",
    "1 <= nums.length <= 105\n",
    "-104 <= nums[i] <= 104\n",
    "k is in the range [1, the number of unique elements in the array].\n",
    "It is guaranteed that the answer is unique.\n",
    " "
   ]
  },
  {
   "cell_type": "code",
   "execution_count": 1,
   "id": "96cfa25d",
   "metadata": {},
   "outputs": [],
   "source": [
    "import heapq\n",
    "\n",
    "def topKFrequent(nums, k):\n",
    "    freq_dict = {}\n",
    "    for num in nums:\n",
    "        freq_dict[num] = freq_dict.get(num, 0) + 1\n",
    "    \n",
    "    heap = []\n",
    "    for num, freq in freq_dict.items():\n",
    "        heapq.heappush(heap, (-freq, num))\n",
    "    \n",
    "    top_k = []\n",
    "    for i in range(k):\n",
    "        freq, num = heapq.heappop(heap)\n",
    "        top_k.append(num)\n",
    "    \n",
    "    return top_k"
   ]
  },
  {
   "cell_type": "code",
   "execution_count": 2,
   "id": "3a46aa04",
   "metadata": {},
   "outputs": [
    {
     "name": "stdout",
     "output_type": "stream",
     "text": [
      "[1, 2]\n",
      "[1]\n"
     ]
    }
   ],
   "source": [
    "print(topKFrequent([1,1,1,2,2,3], 2))\n",
    "# Output: [1, 2]\n",
    "\n",
    "print(topKFrequent([1], 1))\n",
    "# Output: [1]"
   ]
  },
  {
   "cell_type": "code",
   "execution_count": null,
   "id": "3f7a0597",
   "metadata": {},
   "outputs": [],
   "source": []
  }
 ],
 "metadata": {
  "kernelspec": {
   "display_name": "Python 3",
   "language": "python",
   "name": "python3"
  },
  "language_info": {
   "codemirror_mode": {
    "name": "ipython",
    "version": 3
   },
   "file_extension": ".py",
   "mimetype": "text/x-python",
   "name": "python",
   "nbconvert_exporter": "python",
   "pygments_lexer": "ipython3",
   "version": "3.9.13"
  }
 },
 "nbformat": 4,
 "nbformat_minor": 5
}
