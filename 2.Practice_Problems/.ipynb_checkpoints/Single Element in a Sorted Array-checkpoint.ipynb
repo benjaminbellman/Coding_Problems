{
 "cells": [
  {
   "cell_type": "markdown",
   "id": "4dab9cea",
   "metadata": {},
   "source": [
    "# Single Element in a Sorted Array"
   ]
  },
  {
   "cell_type": "markdown",
   "id": "c405aece",
   "metadata": {},
   "source": [
    "You are given a sorted array consisting of only integers where every element appears exactly twice, except for one element which appears exactly once.\n",
    "\n",
    "Return the single element that appears only once.\n",
    "\n",
    "Your solution must run in O(log n) time and O(1) space.\n",
    "\n",
    " \n",
    "\n",
    "**Example 1:**\n",
    "\n",
    "Input: nums = [1,1,2,3,3,4,4,8,8]\n",
    "\n",
    "Output: 2\n",
    "\n",
    "**Example 2:**\n",
    "\n",
    "Input: nums = [3,3,7,7,10,11,11]\n",
    "\n",
    "Output: 10\n",
    " \n",
    "\n",
    "**Constraints:**\n",
    "\n",
    "- 1 <= nums.length <= 105\n",
    "- 0 <= nums[i] <= 105"
   ]
  },
  {
   "cell_type": "code",
   "execution_count": 1,
   "id": "5ef7898c",
   "metadata": {},
   "outputs": [
    {
     "name": "stdout",
     "output_type": "stream",
     "text": [
      "2\n",
      "10\n"
     ]
    }
   ],
   "source": [
    "def singleNonDuplicate(nums):\n",
    "    # Define the start and end pointers.\n",
    "    start, end = 0, len(nums) - 1\n",
    "    \n",
    "    # While start is less than end.\n",
    "    while start < end:\n",
    "        # Calculate the mid point.\n",
    "        mid = (start + end) // 2\n",
    "\n",
    "        # Check if the index is even.\n",
    "        if mid % 2 == 0:\n",
    "            # If the mid element is equal to the next element, \n",
    "            # then the single element is on the right side.\n",
    "            if nums[mid] == nums[mid+1]:\n",
    "                start = mid + 2\n",
    "            else:\n",
    "                # Otherwise, the single element is on the left side.\n",
    "                end = mid\n",
    "        else:\n",
    "            # If the mid element is equal to the previous element, \n",
    "            # then the single element is on the right side.\n",
    "            if nums[mid] == nums[mid-1]:\n",
    "                start = mid + 1\n",
    "            else:\n",
    "                # Otherwise, the single element is on the left side.\n",
    "                end = mid - 1\n",
    "\n",
    "    # Return the single element.\n",
    "    return nums[start]\n",
    "\n",
    "# Test\n",
    "print(singleNonDuplicate([1,1,2,3,3,4,4,8,8]))  # Output: 2\n",
    "print(singleNonDuplicate([3,3,7,7,10,11,11]))  # Output: 10"
   ]
  }
 ],
 "metadata": {
  "kernelspec": {
   "display_name": "Python 3",
   "language": "python",
   "name": "python3"
  },
  "language_info": {
   "codemirror_mode": {
    "name": "ipython",
    "version": 3
   },
   "file_extension": ".py",
   "mimetype": "text/x-python",
   "name": "python",
   "nbconvert_exporter": "python",
   "pygments_lexer": "ipython3",
   "version": "3.9.13"
  }
 },
 "nbformat": 4,
 "nbformat_minor": 5
}
