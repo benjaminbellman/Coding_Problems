{
 "cells": [
  {
   "cell_type": "markdown",
   "id": "8c49415f",
   "metadata": {},
   "source": [
    "# Non-decreasing Subsequences"
   ]
  },
  {
   "cell_type": "markdown",
   "id": "0b0ee41f",
   "metadata": {},
   "source": [
    "Given an integer array nums, return all the different possible non-decreasing subsequences of the given array with at least two elements. You may return the answer in any order.\n",
    "\n",
    " \n",
    "\n",
    "**Example 1:**\n",
    "\n",
    "Input: nums = [4,6,7,7]\n",
    "Output: [[4,6],[4,6,7],[4,6,7,7],[4,7],[4,7,7],[6,7],[6,7,7],[7,7]]\n",
    "\n",
    "**Example 2:**\n",
    "\n",
    "Input: nums = [4,4,3,2,1]\n",
    "Output: [[4,4]]\n",
    " \n",
    "\n",
    "**Constraints:**\n",
    "\n",
    "- 1 <= nums.length <= 15\n",
    "- -100 <= nums[i] <= 100"
   ]
  },
  {
   "cell_type": "code",
   "execution_count": 1,
   "id": "b6930e95",
   "metadata": {},
   "outputs": [
    {
     "name": "stdout",
     "output_type": "stream",
     "text": [
      "[[4, 6], [4, 6, 7], [4, 6, 7, 7], [4, 7], [4, 7, 7], [6, 7], [6, 7, 7], [7, 7]]\n",
      "[[4, 4]]\n"
     ]
    }
   ],
   "source": [
    "def find_subsequences(nums):\n",
    "    res = []\n",
    "    \n",
    "    def backtrack(start=0, path=[]):\n",
    "        if len(path) > 1:\n",
    "            res.append(path[:])\n",
    "        \n",
    "        visited = set()\n",
    "        for i in range(start, len(nums)):\n",
    "            if nums[i] in visited:\n",
    "                continue\n",
    "            \n",
    "            if not path or nums[i] >= path[-1]:\n",
    "                visited.add(nums[i])\n",
    "                backtrack(i + 1, path + [nums[i]])\n",
    "\n",
    "    backtrack()\n",
    "    return res\n",
    "\n",
    "# Example 1\n",
    "nums1 = [4, 6, 7, 7]\n",
    "print(find_subsequences(nums1))\n",
    "# Output: [[4, 6], [4, 6, 7], [4, 6, 7, 7], [4, 7], [4, 7, 7], [6, 7], [6, 7, 7], [7, 7]]\n",
    "\n",
    "# Example 2\n",
    "nums2 = [4, 4, 3, 2, 1]\n",
    "print(find_subsequences(nums2))\n",
    "# Output: [[4, 4]]"
   ]
  },
  {
   "cell_type": "code",
   "execution_count": null,
   "id": "1da0f432",
   "metadata": {},
   "outputs": [],
   "source": []
  }
 ],
 "metadata": {
  "kernelspec": {
   "display_name": "Python 3",
   "language": "python",
   "name": "python3"
  },
  "language_info": {
   "codemirror_mode": {
    "name": "ipython",
    "version": 3
   },
   "file_extension": ".py",
   "mimetype": "text/x-python",
   "name": "python",
   "nbconvert_exporter": "python",
   "pygments_lexer": "ipython3",
   "version": "3.9.13"
  }
 },
 "nbformat": 4,
 "nbformat_minor": 5
}
