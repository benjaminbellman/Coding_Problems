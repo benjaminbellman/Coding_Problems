{
 "cells": [
  {
   "cell_type": "markdown",
   "id": "25d6041c",
   "metadata": {},
   "source": [
    "# Magic Squares In Grid"
   ]
  },
  {
   "cell_type": "markdown",
   "id": "0256a5df",
   "metadata": {},
   "source": [
    "A 3 x 3 magic square is a 3 x 3 grid filled with distinct numbers from 1 to 9 such that each row, column, and both diagonals all have the same sum.\n",
    "\n",
    "Given a row x col grid of integers, how many 3 x 3 \"magic square\" subgrids are there?  (Each subgrid is contiguous).\n",
    "\n",
    "**Example 1:**\n",
    "\n",
    "Input: grid = [[4,3,8,4],[9,5,1,9],[2,7,6,2]]\n",
    "Output: 1\n",
    "Explanation: \n",
    "The following subgrid is a 3 x 3 magic square:\n",
    "\n",
    "while this one is not:\n",
    "\n",
    "In total, there is only one magic square inside the given grid.\n",
    "\n",
    "**Example 2:**\n",
    "\n",
    "Input: grid = [[8]]\n",
    "Output: 0\n",
    " \n",
    "**Constraints:**\n",
    "\n",
    "- row == grid.length\n",
    "- col == grid[i].length\n",
    "- 1 <= row, col <= 10\n",
    "- 0 <= grid[i][j] <= 15"
   ]
  },
  {
   "cell_type": "code",
   "execution_count": 1,
   "id": "c85d81ee",
   "metadata": {},
   "outputs": [
    {
     "name": "stdout",
     "output_type": "stream",
     "text": [
      "1\n",
      "0\n"
     ]
    }
   ],
   "source": [
    "def is_magic_square(subgrid):\n",
    "    # Check if the subgrid is a magic square\n",
    "    target_sum = sum(subgrid[0])  # Sum of the first row, which should be equal to all other rows, columns, and diagonals\n",
    "    return all(sum(row) == target_sum for row in subgrid) \\\n",
    "        and all(sum(col) == target_sum for col in zip(*subgrid)) \\\n",
    "        and sum(subgrid[i][i] for i in range(3)) == target_sum \\\n",
    "        and sum(subgrid[i][2-i] for i in range(3)) == target_sum\n",
    "\n",
    "def num_magic_squares(grid):\n",
    "    if not grid:\n",
    "        return 0\n",
    "    \n",
    "    row, col = len(grid), len(grid[0])\n",
    "    count = 0\n",
    "    \n",
    "    for i in range(row - 2):\n",
    "        for j in range(col - 2):\n",
    "            subgrid = [grid[i+k][j:j+3] for k in range(3)]\n",
    "            if is_magic_square(subgrid):\n",
    "                count += 1\n",
    "    \n",
    "    return count\n",
    "\n",
    "# Test Example 1\n",
    "grid1 = [[4,3,8,4],[9,5,1,9],[2,7,6,2]]\n",
    "print(num_magic_squares(grid1))  # Output: 1\n",
    "\n",
    "# Test Example 2\n",
    "grid2 = [[8]]\n",
    "print(num_magic_squares(grid2))  # Output: 0"
   ]
  },
  {
   "cell_type": "code",
   "execution_count": null,
   "id": "d3de6519",
   "metadata": {},
   "outputs": [],
   "source": []
  }
 ],
 "metadata": {
  "kernelspec": {
   "display_name": "Python 3",
   "language": "python",
   "name": "python3"
  },
  "language_info": {
   "codemirror_mode": {
    "name": "ipython",
    "version": 3
   },
   "file_extension": ".py",
   "mimetype": "text/x-python",
   "name": "python",
   "nbconvert_exporter": "python",
   "pygments_lexer": "ipython3",
   "version": "3.9.13"
  }
 },
 "nbformat": 4,
 "nbformat_minor": 5
}
