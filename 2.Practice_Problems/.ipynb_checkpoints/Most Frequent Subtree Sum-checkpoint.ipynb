{
 "cells": [
  {
   "cell_type": "markdown",
   "id": "4493e904",
   "metadata": {},
   "source": [
    "# Most Frequent Subtree Sum"
   ]
  },
  {
   "cell_type": "markdown",
   "id": "3108bcce",
   "metadata": {},
   "source": [
    "Given the root of a binary tree, return the most frequent subtree sum. If there is a tie, return all the values with the highest frequency in any order.\n",
    "\n",
    "The subtree sum of a node is defined as the sum of all the node values formed by the subtree rooted at that node (including the node itself).\n",
    "\n",
    " \n",
    "\n",
    "**Example 1:**\n",
    "\n",
    "\n",
    "Input: root = [5,2,-3]\n",
    "Output: [2,-3,4]\n",
    "\n",
    "**Example 2:**\n",
    "\n",
    "\n",
    "Input: root = [5,2,-5]\n",
    "Output: [2]\n",
    " \n",
    "\n",
    "**Constraints:**\n",
    "\n",
    "- The number of nodes in the tree is in the range [1, 104].\n",
    "- -105 <= Node.val <= 105"
   ]
  },
  {
   "cell_type": "code",
   "execution_count": 2,
   "id": "9af8fe9a",
   "metadata": {},
   "outputs": [
    {
     "name": "stdout",
     "output_type": "stream",
     "text": [
      "[2, -3, 4]\n",
      "[2]\n"
     ]
    }
   ],
   "source": [
    "from collections import defaultdict\n",
    "\n",
    "# Definition for a binary tree node.\n",
    "class TreeNode:\n",
    "    def __init__(self, val=0, left=None, right=None):\n",
    "        self.val = val\n",
    "        self.left = left\n",
    "        self.right = right\n",
    "        \n",
    "def findFrequentTreeSum(root):\n",
    "    if not root:\n",
    "        return []\n",
    "    \n",
    "    sum_freq_map = defaultdict(int)\n",
    "    \n",
    "    def dfs(node):\n",
    "        if not node:\n",
    "            return 0\n",
    "        left_sum = dfs(node.left)\n",
    "        right_sum = dfs(node.right)\n",
    "        subtree_sum = node.val + left_sum + right_sum\n",
    "        sum_freq_map[subtree_sum] += 1\n",
    "        return subtree_sum\n",
    "        \n",
    "    dfs(root)\n",
    "    max_freq = max(sum_freq_map.values())\n",
    "    return [sum_key for sum_key, freq in sum_freq_map.items() if freq == max_freq]\n",
    "\n",
    "# Example Usage:\n",
    "root1 = TreeNode(5, TreeNode(2), TreeNode(-3))\n",
    "print(findFrequentTreeSum(root1))  # Output: [2, -3, 4]\n",
    "\n",
    "root2 = TreeNode(5, TreeNode(2), TreeNode(-5))\n",
    "print(findFrequentTreeSum(root2))  # Output: [2]"
   ]
  },
  {
   "cell_type": "code",
   "execution_count": null,
   "id": "9a4f7aea",
   "metadata": {},
   "outputs": [],
   "source": []
  }
 ],
 "metadata": {
  "kernelspec": {
   "display_name": "Python 3",
   "language": "python",
   "name": "python3"
  },
  "language_info": {
   "codemirror_mode": {
    "name": "ipython",
    "version": 3
   },
   "file_extension": ".py",
   "mimetype": "text/x-python",
   "name": "python",
   "nbconvert_exporter": "python",
   "pygments_lexer": "ipython3",
   "version": "3.9.13"
  }
 },
 "nbformat": 4,
 "nbformat_minor": 5
}
