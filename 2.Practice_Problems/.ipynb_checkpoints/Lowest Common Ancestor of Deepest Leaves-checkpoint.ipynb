{
 "cells": [
  {
   "cell_type": "markdown",
   "id": "88852aaf",
   "metadata": {},
   "source": [
    "# Lowest Common Ancestor of Deepest Leaves"
   ]
  },
  {
   "cell_type": "markdown",
   "id": "2f9676fa",
   "metadata": {},
   "source": [
    "Given the root of a binary tree, return the lowest common ancestor of its deepest leaves.\n",
    "\n",
    "Recall that:\n",
    "\n",
    "The node of a binary tree is a leaf if and only if it has no children\n",
    "The depth of the root of the tree is 0. if the depth of a node is d, the depth of each of its children is d + 1.\n",
    "The lowest common ancestor of a set S of nodes, is the node A with the largest depth such that every node in S is in the subtree with root A.\n",
    "\n",
    "**Example 1:**\n",
    "\n",
    "Input: root = [3,5,1,6,2,0,8,null,null,7,4]\n",
    "Output: [2,7,4]\n",
    "Explanation: We return the node with value 2, colored in yellow in the diagram.\n",
    "The nodes coloured in blue are the deepest leaf-nodes of the tree.\n",
    "Note that nodes 6, 0, and 8 are also leaf nodes, but the depth of them is 2, but the depth of nodes 7 and 4 is 3.\n",
    "\n",
    "**Example 2:**\n",
    "\n",
    "Input: root = [1]\n",
    "Output: [1]\n",
    "Explanation: The root is the deepest node in the tree, and it's the lca of itself.\n",
    "\n",
    "**Example 3:**\n",
    "\n",
    "Input: root = [0,1,3,null,2]\n",
    "Output: [2]\n",
    "Explanation: The deepest leaf node in the tree is 2, the lca of one node is itself.\n",
    "\n",
    "**Constraints:**\n",
    "\n",
    "- The number of nodes in the tree will be in the range [1, 1000].\n",
    "- 0 <= Node.val <= 1000\n",
    "- The values of the nodes in the tree are unique."
   ]
  },
  {
   "cell_type": "code",
   "execution_count": 1,
   "id": "e8b31343",
   "metadata": {},
   "outputs": [],
   "source": [
    "# Definition for a binary tree node.\n",
    "class TreeNode:\n",
    "    def __init__(self, val=0, left=None, right=None):\n",
    "        self.val = val\n",
    "        self.left = left\n",
    "        self.right = right\n",
    "\n",
    "class Solution:\n",
    "    def lcaDeepestLeaves(self, root: TreeNode) -> TreeNode:\n",
    "        def dfs(node):\n",
    "            if not node:\n",
    "                return (None, 0)  # (LCA, Depth)\n",
    "            \n",
    "            left_lca, left_depth = dfs(node.left)\n",
    "            right_lca, right_depth = dfs(node.right)\n",
    "            \n",
    "            if left_depth > right_depth:\n",
    "                return (left_lca, left_depth + 1)\n",
    "            elif right_depth > left_depth:\n",
    "                return (right_lca, right_depth + 1)\n",
    "            else:\n",
    "                return (node, left_depth + 1)  # LCA when both sides are equal\n",
    "        \n",
    "        return dfs(root)[0]  # Return the LCA node"
   ]
  },
  {
   "cell_type": "code",
   "execution_count": null,
   "id": "e1bb517e",
   "metadata": {},
   "outputs": [],
   "source": []
  }
 ],
 "metadata": {
  "kernelspec": {
   "display_name": "Python 3 (ipykernel)",
   "language": "python",
   "name": "python3"
  },
  "language_info": {
   "codemirror_mode": {
    "name": "ipython",
    "version": 3
   },
   "file_extension": ".py",
   "mimetype": "text/x-python",
   "name": "python",
   "nbconvert_exporter": "python",
   "pygments_lexer": "ipython3",
   "version": "3.8.11"
  }
 },
 "nbformat": 4,
 "nbformat_minor": 5
}
