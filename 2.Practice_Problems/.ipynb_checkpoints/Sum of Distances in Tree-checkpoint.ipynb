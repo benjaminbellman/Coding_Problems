{
 "cells": [
  {
   "cell_type": "markdown",
   "id": "c798fbdd",
   "metadata": {},
   "source": [
    "# Sum of Distances in Tree"
   ]
  },
  {
   "cell_type": "markdown",
   "id": "7cb7009d",
   "metadata": {},
   "source": [
    "There is an undirected connected tree with n nodes labeled from 0 to n - 1 and n - 1 edges.\n",
    "\n",
    "You are given the integer n and the array edges where edges[i] = [ai, bi] indicates that there is an edge between nodes ai and bi in the tree.\n",
    "\n",
    "Return an array answer of length n where answer[i] is the sum of the distances between the ith node in the tree and all other nodes.\n",
    "\n",
    " \n",
    "\n",
    "**Example 1:**\n",
    "\n",
    "\n",
    "Input: n = 6, edges = [[0,1],[0,2],[2,3],[2,4],[2,5]]\n",
    "Output: [8,12,6,10,10,10]\n",
    "Explanation: The tree is shown above.\n",
    "We can see that dist(0,1) + dist(0,2) + dist(0,3) + dist(0,4) + dist(0,5)\n",
    "equals 1 + 1 + 2 + 2 + 2 = 8.\n",
    "Hence, answer[0] = 8, and so on.\n",
    "\n",
    "**Example 2:**\n",
    "\n",
    "\n",
    "Input: n = 1, edges = []\n",
    "Output: [0]\n",
    "\n",
    "**Example 3:**\n",
    "\n",
    "\n",
    "Input: n = 2, edges = [[1,0]]\n",
    "Output: [1,1]\n",
    " \n",
    "\n",
    "**Constraints:**\n",
    "\n",
    "- 1 <= n <= 3 * 104\n",
    "- edges.length == n - 1\n",
    "- edges[i].length == 2\n",
    "- 0 <= ai, bi < n\n",
    "- ai != bi\n",
    "- The given input represents a valid tree."
   ]
  },
  {
   "cell_type": "code",
   "execution_count": 1,
   "id": "8f5918b6",
   "metadata": {},
   "outputs": [
    {
     "name": "stdout",
     "output_type": "stream",
     "text": [
      "[8, 12, 6, 10, 10, 10]\n"
     ]
    }
   ],
   "source": [
    "from collections import defaultdict\n",
    "\n",
    "def sumOfDistancesInTree(n, edges):\n",
    "    # Step 1: Build adjacency list\n",
    "    graph = defaultdict(list)\n",
    "    for u, v in edges:\n",
    "        graph[u].append(v)\n",
    "        graph[v].append(u)\n",
    "\n",
    "    # Step 2: Perform DFS to calculate subtree sizes and distances\n",
    "    subtree_sizes = [0] * n\n",
    "    subtree_distances = [0] * n\n",
    "    visited = [False] * n\n",
    "\n",
    "    def dfs(node, parent):\n",
    "        visited[node] = True\n",
    "        subtree_sizes[node] = 1\n",
    "        for child in graph[node]:\n",
    "            if not visited[child]:\n",
    "                dfs(child, node)\n",
    "                subtree_sizes[node] += subtree_sizes[child]\n",
    "                subtree_distances[node] += subtree_distances[child] + subtree_sizes[child]\n",
    "\n",
    "    dfs(0, -1)\n",
    "\n",
    "    # Step 3: Calculate answer array using dynamic programming\n",
    "    answer = [0] * n\n",
    "    answer[0] = subtree_distances[0]\n",
    "\n",
    "    def dp(node, parent):\n",
    "        for child in graph[node]:\n",
    "            if child != parent:\n",
    "                answer[child] = answer[node] - subtree_sizes[child] + (n - subtree_sizes[child])\n",
    "                dp(child, node)\n",
    "\n",
    "    dp(0, -1)\n",
    "    return answer\n",
    "\n",
    "# Example usage:\n",
    "n = 6\n",
    "edges = [[0,1],[0,2],[2,3],[2,4],[2,5]]\n",
    "print(sumOfDistancesInTree(n, edges))  # Output: [8, 12, 6, 10, 10, 10]"
   ]
  },
  {
   "cell_type": "code",
   "execution_count": null,
   "id": "88132713",
   "metadata": {},
   "outputs": [],
   "source": []
  }
 ],
 "metadata": {
  "kernelspec": {
   "display_name": "Python 3",
   "language": "python",
   "name": "python3"
  },
  "language_info": {
   "codemirror_mode": {
    "name": "ipython",
    "version": 3
   },
   "file_extension": ".py",
   "mimetype": "text/x-python",
   "name": "python",
   "nbconvert_exporter": "python",
   "pygments_lexer": "ipython3",
   "version": "3.9.13"
  }
 },
 "nbformat": 4,
 "nbformat_minor": 5
}
