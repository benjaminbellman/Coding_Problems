{
 "cells": [
  {
   "cell_type": "markdown",
   "id": "274f9458",
   "metadata": {},
   "source": [
    "# Maximum Product of Three Numbers"
   ]
  },
  {
   "cell_type": "markdown",
   "id": "2e6d8aa4",
   "metadata": {},
   "source": [
    "Given an integer array nums, find three numbers whose product is maximum and return the maximum product.\n",
    "\n",
    " \n",
    "\n",
    "**Example 1:**\n",
    "\n",
    "Input: nums = [1,2,3]\n",
    "\n",
    "Output: 6\n",
    "\n",
    "**Example 2:**\n",
    "\n",
    "Input: nums = [1,2,3,4]\n",
    "\n",
    "Output: 24\n",
    "\n",
    "**Example 3:**\n",
    "\n",
    "Input: nums = [-1,-2,-3]\n",
    "\n",
    "Output: -6\n",
    " \n",
    "\n",
    "**Constraints:**\n",
    "\n",
    "- 3 <= nums.length <= 104\n",
    "- -1000 <= nums[i] <= 1000"
   ]
  },
  {
   "cell_type": "code",
   "execution_count": 1,
   "id": "4e270428",
   "metadata": {},
   "outputs": [
    {
     "data": {
      "text/plain": [
       "(6, 24, -6)"
      ]
     },
     "execution_count": 1,
     "metadata": {},
     "output_type": "execute_result"
    }
   ],
   "source": [
    "def max_product_three(nums):\n",
    "    # Sort the list to easily find the largest and smallest values\n",
    "    nums.sort()\n",
    "    # The maximum product can be either (largest * second largest * third largest)\n",
    "    # or (smallest * second smallest * largest) in case of negative numbers\n",
    "    return max(nums[-1] * nums[-2] * nums[-3], nums[0] * nums[1] * nums[-1])\n",
    "\n",
    "# Test the function with the provided examples\n",
    "example1 = [1, 2, 3]\n",
    "example2 = [1, 2, 3, 4]\n",
    "example3 = [-1, -2, -3]\n",
    "\n",
    "max_product_example1 = max_product_three(example1)\n",
    "max_product_example2 = max_product_three(example2)\n",
    "max_product_example3 = max_product_three(example3)\n",
    "\n",
    "max_product_example1, max_product_example2, max_product_example3"
   ]
  },
  {
   "cell_type": "code",
   "execution_count": null,
   "id": "cc19ac8c",
   "metadata": {},
   "outputs": [],
   "source": []
  }
 ],
 "metadata": {
  "kernelspec": {
   "display_name": "Python 3",
   "language": "python",
   "name": "python3"
  },
  "language_info": {
   "codemirror_mode": {
    "name": "ipython",
    "version": 3
   },
   "file_extension": ".py",
   "mimetype": "text/x-python",
   "name": "python",
   "nbconvert_exporter": "python",
   "pygments_lexer": "ipython3",
   "version": "3.9.13"
  }
 },
 "nbformat": 4,
 "nbformat_minor": 5
}
