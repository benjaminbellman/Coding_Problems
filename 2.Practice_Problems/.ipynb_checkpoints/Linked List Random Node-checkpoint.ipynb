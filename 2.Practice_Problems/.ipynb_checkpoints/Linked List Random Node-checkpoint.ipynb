{
 "cells": [
  {
   "cell_type": "markdown",
   "id": "1bcc8390",
   "metadata": {},
   "source": [
    "# Linked List Random Node"
   ]
  },
  {
   "cell_type": "markdown",
   "id": "97187723",
   "metadata": {},
   "source": [
    "Given a singly linked list, return a random node's value from the linked list. Each node must have the same probability of being chosen.\n",
    "\n",
    "Implement the Solution class:\n",
    "\n",
    "Solution(ListNode head) Initializes the object with the head of the singly-linked list head.\n",
    "int getRandom() Chooses a node randomly from the list and returns its value. All the nodes of the list should be equally likely to be chosen.\n",
    " \n",
    "\n",
    "**Example 1:**\n",
    "\n",
    "\n",
    "Input\n",
    "[\"Solution\", \"getRandom\", \"getRandom\", \"getRandom\", \"getRandom\", \"getRandom\"]\n",
    "[[[1, 2, 3]], [], [], [], [], []]\n",
    "Output\n",
    "[null, 1, 3, 2, 2, 3]\n",
    "\n",
    "**Explanation**\n",
    "\n",
    "Solution solution = new Solution([1, 2, 3]);\n",
    "solution.getRandom(); // return 1\n",
    "solution.getRandom(); // return 3\n",
    "solution.getRandom(); // return 2\n",
    "solution.getRandom(); // return 2\n",
    "solution.getRandom(); // return 3\n",
    "// getRandom() should return either 1, 2, or 3 randomly. Each element should have equal probability of returning.\n",
    " \n",
    "\n",
    "**Constraints:**\n",
    "\n",
    "The number of nodes in the linked list will be in the range [1, 104].\n",
    "-104 <= Node.val <= 104\n",
    "At most 104 calls will be made to getRandom."
   ]
  },
  {
   "cell_type": "code",
   "execution_count": 1,
   "id": "12544219",
   "metadata": {},
   "outputs": [],
   "source": [
    "import random\n",
    "\n",
    "class Solution:\n",
    "    def __init__(self, head):\n",
    "        self.head = head\n",
    "\n",
    "    def getRandom(self):\n",
    "        count = 0\n",
    "        result = None\n",
    "        curr = self.head\n",
    "\n",
    "        while curr:\n",
    "            count += 1\n",
    "            # Randomly select a node with 1/count probability\n",
    "            if random.randint(1, count) == count:\n",
    "                result = curr.val\n",
    "            curr = curr.next\n",
    "\n",
    "        return result"
   ]
  },
  {
   "cell_type": "code",
   "execution_count": 2,
   "id": "7db73bbb",
   "metadata": {},
   "outputs": [
    {
     "name": "stdout",
     "output_type": "stream",
     "text": [
      "3\n",
      "3\n",
      "3\n",
      "1\n",
      "2\n"
     ]
    }
   ],
   "source": [
    "# Define the ListNode class\n",
    "class ListNode:\n",
    "    def __init__(self, val=0, next=None):\n",
    "        self.val = val\n",
    "        self.next = next\n",
    "\n",
    "# Create the linked list [1, 2, 3]\n",
    "head = ListNode(1)\n",
    "head.next = ListNode(2)\n",
    "head.next.next = ListNode(3)\n",
    "\n",
    "# Create an instance of the Solution class\n",
    "solution = Solution(head)\n",
    "\n",
    "# Test the getRandom function\n",
    "print(solution.getRandom())  # return 1\n",
    "print(solution.getRandom())  # return 3\n",
    "print(solution.getRandom())  # return 2\n",
    "print(solution.getRandom())  # return 2\n",
    "print(solution.getRandom())  # return 3"
   ]
  },
  {
   "cell_type": "code",
   "execution_count": null,
   "id": "b2f26c6a",
   "metadata": {},
   "outputs": [],
   "source": []
  }
 ],
 "metadata": {
  "kernelspec": {
   "display_name": "Python 3",
   "language": "python",
   "name": "python3"
  },
  "language_info": {
   "codemirror_mode": {
    "name": "ipython",
    "version": 3
   },
   "file_extension": ".py",
   "mimetype": "text/x-python",
   "name": "python",
   "nbconvert_exporter": "python",
   "pygments_lexer": "ipython3",
   "version": "3.9.13"
  }
 },
 "nbformat": 4,
 "nbformat_minor": 5
}
