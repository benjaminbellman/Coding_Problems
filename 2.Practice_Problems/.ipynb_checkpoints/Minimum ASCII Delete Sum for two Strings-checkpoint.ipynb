{
 "cells": [
  {
   "cell_type": "markdown",
   "id": "92f5d561",
   "metadata": {},
   "source": [
    "# Minimum ASCII Delete Sum for two Strings"
   ]
  },
  {
   "cell_type": "markdown",
   "id": "31a28a8d",
   "metadata": {},
   "source": [
    "Given two strings s1 and s2, return the lowest ASCII sum of deleted characters to make two strings equal.\n",
    "\n",
    " \n",
    "\n",
    "**Example 1:**\n",
    "\n",
    "Input: s1 = \"sea\", s2 = \"eat\"\n",
    "\n",
    "Output: 231\n",
    "\n",
    "Explanation: Deleting \"s\" from \"sea\" adds the ASCII value of \"s\" (115) to the sum.\n",
    "Deleting \"t\" from \"eat\" adds 116 to the sum.\n",
    "At the end, both strings are equal, and 115 + 116 = 231 is the minimum sum possible to achieve this.\n",
    "\n",
    "**Example 2:**\n",
    "\n",
    "Input: s1 = \"delete\", s2 = \"leet\"\n",
    "\n",
    "Output: 403\n",
    "\n",
    "Explanation: Deleting \"dee\" from \"delete\" to turn the string into \"let\",\n",
    "adds 100[d] + 101[e] + 101[e] to the sum.\n",
    "Deleting \"e\" from \"leet\" adds 101[e] to the sum.\n",
    "At the end, both strings are equal to \"let\", and the answer is 100+101+101+101 = 403.\n",
    "If instead we turned both strings into \"lee\" or \"eet\", we would get answers of 433 or 417, which are higher.\n",
    " \n",
    "\n",
    "**Constraints:**\n",
    "\n",
    "- 1 <= s1.length, s2.length <= 1000\n",
    "- s1 and s2 consist of lowercase English letters."
   ]
  },
  {
   "cell_type": "code",
   "execution_count": 1,
   "id": "d3827ebe",
   "metadata": {},
   "outputs": [
    {
     "name": "stdout",
     "output_type": "stream",
     "text": [
      "231\n",
      "403\n"
     ]
    }
   ],
   "source": [
    "def minimumDeleteSum(s1, s2):\n",
    "    m, n = len(s1), len(s2)\n",
    "    # Initialize a DP table with dimensions (m+1) x (n+1)\n",
    "    dp = [[0] * (n + 1) for _ in range(m + 1)]\n",
    "    \n",
    "    # Fill the DP table\n",
    "    for i in range(1, m + 1):\n",
    "        dp[i][0] = dp[i - 1][0] + ord(s1[i - 1])\n",
    "    for j in range(1, n + 1):\n",
    "        dp[0][j] = dp[0][j - 1] + ord(s2[j - 1])\n",
    "    for i in range(1, m + 1):\n",
    "        for j in range(1, n + 1):\n",
    "            if s1[i - 1] == s2[j - 1]:\n",
    "                dp[i][j] = dp[i - 1][j - 1]\n",
    "            else:\n",
    "                dp[i][j] = min(dp[i - 1][j] + ord(s1[i - 1]), dp[i][j - 1] + ord(s2[j - 1]))\n",
    "    \n",
    "    return dp[m][n]\n",
    "\n",
    "# Example usage:\n",
    "s1 = \"sea\"\n",
    "s2 = \"eat\"\n",
    "print(minimumDeleteSum(s1, s2))  # Output: 231\n",
    "\n",
    "s1 = \"delete\"\n",
    "s2 = \"leet\"\n",
    "print(minimumDeleteSum(s1, s2))  # Output: 403"
   ]
  }
 ],
 "metadata": {
  "kernelspec": {
   "display_name": "Python 3",
   "language": "python",
   "name": "python3"
  },
  "language_info": {
   "codemirror_mode": {
    "name": "ipython",
    "version": 3
   },
   "file_extension": ".py",
   "mimetype": "text/x-python",
   "name": "python",
   "nbconvert_exporter": "python",
   "pygments_lexer": "ipython3",
   "version": "3.9.13"
  }
 },
 "nbformat": 4,
 "nbformat_minor": 5
}
