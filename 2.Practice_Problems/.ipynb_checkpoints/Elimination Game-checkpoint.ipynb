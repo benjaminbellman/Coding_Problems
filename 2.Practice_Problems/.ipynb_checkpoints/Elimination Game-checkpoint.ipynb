{
 "cells": [
  {
   "cell_type": "markdown",
   "id": "8b194f5e",
   "metadata": {},
   "source": [
    "# Elimination Game"
   ]
  },
  {
   "cell_type": "markdown",
   "id": "b56b96e6",
   "metadata": {},
   "source": [
    "You have a list arr of all integers in the range [1, n] sorted in a strictly increasing order. Apply the following algorithm on arr:\n",
    "\n",
    "Starting from left to right, remove the first number and every other number afterward until you reach the end of the list.\n",
    "Repeat the previous step again, but this time from right to left, remove the rightmost number and every other number from the remaining numbers.\n",
    "Keep repeating the steps again, alternating left to right and right to left, until a single number remains.\n",
    "Given the integer n, return the last number that remains in arr.\n",
    "\n",
    " \n",
    "\n",
    "**Example 1:**\n",
    "\n",
    "Input: n = 9\n",
    "Output: 6\n",
    "Explanation:\n",
    "arr = [1, 2, 3, 4, 5, 6, 7, 8, 9]\n",
    "arr = [2, 4, 6, 8]\n",
    "arr = [2, 6]\n",
    "arr = [6]\n",
    "\n",
    "**Example 2:**\n",
    "\n",
    "Input: n = 1\n",
    "Output: 1\n",
    " \n",
    "\n",
    "**Constraints:**\n",
    "\n",
    "1 <= n <= 109"
   ]
  },
  {
   "cell_type": "code",
   "execution_count": 1,
   "id": "c85f47ba",
   "metadata": {},
   "outputs": [
    {
     "name": "stdout",
     "output_type": "stream",
     "text": [
      "6\n",
      "1\n"
     ]
    }
   ],
   "source": [
    "def last_remaining(n):\n",
    "    left_to_right = True  # flag to indicate whether to go from left to right or right to left\n",
    "    remaining = n  # variable to store the number of remaining elements in arr\n",
    "    step = 1  # variable to store the step size\n",
    "\n",
    "    # variable to store the first element of the remaining elements\n",
    "    # this will change depending on whether we are going from left to right or right to left\n",
    "    first_element = 1 if left_to_right else 2 if remaining % 2 == 0 else 1\n",
    "\n",
    "    while remaining > 1:\n",
    "        # if we are going from left to right, remove the first element and every other element afterward\n",
    "        if left_to_right:\n",
    "            first_element += step  # move to the next element to be removed\n",
    "        # if we are going from right to left, remove the last element and every other element before it\n",
    "        else:\n",
    "            first_element += step * (remaining % 2)  # move to the next element to be removed\n",
    "\n",
    "        remaining //= 2  # reduce the number of remaining elements by half\n",
    "        step *= 2  # double the step size\n",
    "        left_to_right = not left_to_right  # toggle the flag for next iteration\n",
    "\n",
    "    return first_element\n",
    "\n",
    "# Testing the code with the given examples\n",
    "print(last_remaining(9))  # Expected output: 6\n",
    "print(last_remaining(1))  # Expected output: 1"
   ]
  }
 ],
 "metadata": {
  "kernelspec": {
   "display_name": "Python 3",
   "language": "python",
   "name": "python3"
  },
  "language_info": {
   "codemirror_mode": {
    "name": "ipython",
    "version": 3
   },
   "file_extension": ".py",
   "mimetype": "text/x-python",
   "name": "python",
   "nbconvert_exporter": "python",
   "pygments_lexer": "ipython3",
   "version": "3.9.13"
  }
 },
 "nbformat": 4,
 "nbformat_minor": 5
}
