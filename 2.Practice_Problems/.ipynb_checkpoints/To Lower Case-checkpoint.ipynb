{
 "cells": [
  {
   "cell_type": "markdown",
   "id": "982c1e29",
   "metadata": {},
   "source": [
    "# To Lower Case"
   ]
  },
  {
   "cell_type": "markdown",
   "id": "c903d4ea",
   "metadata": {},
   "source": [
    "Given a string s, return the string after replacing every uppercase letter with the same lowercase letter.\n",
    "\n",
    " \n",
    "\n",
    "**Example 1:**\n",
    "\n",
    "Input: s = \"Hello\"\n",
    "\n",
    "Output: \"hello\"\n",
    "\n",
    "**Example 2:**\n",
    "\n",
    "Input: s = \"here\"\n",
    "\n",
    "Output: \"here\"\n",
    "\n",
    "**Example 3:**\n",
    "\n",
    "Input: s = \"LOVELY\"\n",
    "Output: \"lovely\"\n",
    " \n",
    "\n",
    "**Constraints:**\n",
    "\n",
    "- 1 <= s.length <= 100\n",
    "- s consists of printable ASCII characters."
   ]
  },
  {
   "cell_type": "code",
   "execution_count": 1,
   "id": "c286a36e",
   "metadata": {},
   "outputs": [
    {
     "name": "stdout",
     "output_type": "stream",
     "text": [
      "hello\n",
      "here\n",
      "lovely\n"
     ]
    }
   ],
   "source": [
    "def replace_uppercase_with_lowercase(s):\n",
    "    return s.lower()\n",
    "\n",
    "# Test cases\n",
    "print(replace_uppercase_with_lowercase(\"Hello\"))  # Output: \"hello\"\n",
    "print(replace_uppercase_with_lowercase(\"here\"))   # Output: \"here\"\n",
    "print(replace_uppercase_with_lowercase(\"LOVELY\")) # Output: \"lovely\""
   ]
  },
  {
   "cell_type": "code",
   "execution_count": null,
   "id": "de495a9b",
   "metadata": {},
   "outputs": [],
   "source": []
  }
 ],
 "metadata": {
  "kernelspec": {
   "display_name": "Python 3",
   "language": "python",
   "name": "python3"
  },
  "language_info": {
   "codemirror_mode": {
    "name": "ipython",
    "version": 3
   },
   "file_extension": ".py",
   "mimetype": "text/x-python",
   "name": "python",
   "nbconvert_exporter": "python",
   "pygments_lexer": "ipython3",
   "version": "3.9.13"
  }
 },
 "nbformat": 4,
 "nbformat_minor": 5
}
