{
 "cells": [
  {
   "cell_type": "markdown",
   "id": "95b1effa",
   "metadata": {},
   "source": [
    "# 3 sum closest"
   ]
  },
  {
   "cell_type": "markdown",
   "id": "e8e031d9",
   "metadata": {},
   "source": [
    "Given an integer array nums of length n and an integer target, find three integers in nums such that the sum is closest to target.\n",
    "\n",
    "Return the sum of the three integers.\n",
    "\n",
    "You may assume that each input would have exactly one solution.\n",
    "\n",
    " \n",
    "\n",
    "**Example 1:**\n",
    "\n",
    "Input: nums = [-1,2,1,-4], target = 1\n",
    "Output: 2\n",
    "Explanation: The sum that is closest to the target is 2. (-1 + 2 + 1 = 2).\n",
    "\n",
    "**Example 2:**\n",
    "\n",
    "Input: nums = [0,0,0], target = 1\n",
    "Output: 0\n",
    "Explanation: The sum that is closest to the target is 0. (0 + 0 + 0 = 0).\n",
    " \n",
    "\n",
    "**Constraints:**\n",
    "\n",
    "3 <= nums.length <= 500\n",
    "-1000 <= nums[i] <= 1000\n",
    "-104 <= target <= 104"
   ]
  },
  {
   "cell_type": "code",
   "execution_count": 2,
   "id": "53939773",
   "metadata": {},
   "outputs": [],
   "source": [
    "def threeSumClosest(nums, target):\n",
    "    # Sort the input array\n",
    "    nums.sort()\n",
    "    closest = float('inf')\n",
    "    # Iterate through the array\n",
    "    for i in range(len(nums) - 2):\n",
    "        # Set the left and right pointers\n",
    "        left = i + 1\n",
    "        right = len(nums) - 1\n",
    "        # Find the sum that is closest to the target\n",
    "        while left < right:\n",
    "            curr_sum = nums[i] + nums[left] + nums[right]\n",
    "            if abs(curr_sum - target) < abs(closest - target):\n",
    "                closest = curr_sum\n",
    "            if curr_sum < target:\n",
    "                left += 1\n",
    "            elif curr_sum > target:\n",
    "                right -= 1\n",
    "            else:\n",
    "                # Return the target if we find an exact match\n",
    "                return target\n",
    "    return closest"
   ]
  },
  {
   "cell_type": "code",
   "execution_count": 3,
   "id": "2b647048",
   "metadata": {},
   "outputs": [
    {
     "data": {
      "text/plain": [
       "2"
      ]
     },
     "execution_count": 3,
     "metadata": {},
     "output_type": "execute_result"
    }
   ],
   "source": [
    "threeSumClosest([-1,2,1,-4], 1)"
   ]
  },
  {
   "cell_type": "code",
   "execution_count": null,
   "id": "5a74b8f4",
   "metadata": {},
   "outputs": [],
   "source": []
  }
 ],
 "metadata": {
  "kernelspec": {
   "display_name": "Python 3",
   "language": "python",
   "name": "python3"
  },
  "language_info": {
   "codemirror_mode": {
    "name": "ipython",
    "version": 3
   },
   "file_extension": ".py",
   "mimetype": "text/x-python",
   "name": "python",
   "nbconvert_exporter": "python",
   "pygments_lexer": "ipython3",
   "version": "3.9.13"
  }
 },
 "nbformat": 4,
 "nbformat_minor": 5
}
