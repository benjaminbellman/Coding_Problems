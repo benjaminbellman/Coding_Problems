{
 "cells": [
  {
   "cell_type": "markdown",
   "id": "85cfe03d",
   "metadata": {},
   "source": [
    "# Exam Room"
   ]
  },
  {
   "cell_type": "markdown",
   "id": "9346fee2",
   "metadata": {},
   "source": [
    "There is an exam room with n seats in a single row labeled from 0 to n - 1.\n",
    "\n",
    "When a student enters the room, they must sit in the seat that maximizes the distance to the closest person. If there are multiple such seats, they sit in the seat with the lowest number. If no one is in the room, then the student sits at seat number 0.\n",
    "\n",
    "Design a class that simulates the mentioned exam room.\n",
    "\n",
    "Implement the ExamRoom class:\n",
    "\n",
    "ExamRoom(int n) Initializes the object of the exam room with the number of the seats n.\n",
    "int seat() Returns the label of the seat at which the next student will set.\n",
    "void leave(int p) Indicates that the student sitting at seat p will leave the room. It is guaranteed that there will be a student sitting at seat p.\n",
    " \n",
    "\n",
    "**Example 1:**\n",
    "\n",
    "Input\n",
    "[\"ExamRoom\", \"seat\", \"seat\", \"seat\", \"seat\", \"leave\", \"seat\"]\n",
    "[[10], [], [], [], [], [4], []]\n",
    "Output\n",
    "[null, 0, 9, 4, 2, null, 5]\n",
    "\n",
    "Explanation\n",
    "ExamRoom examRoom = new ExamRoom(10);\n",
    "examRoom.seat(); // return 0, no one is in the room, then the student sits at seat number 0.\n",
    "examRoom.seat(); // return 9, the student sits at the last seat number 9.\n",
    "examRoom.seat(); // return 4, the student sits at the last seat number 4.\n",
    "examRoom.seat(); // return 2, the student sits at the last seat number 2.\n",
    "examRoom.leave(4);\n",
    "examRoom.seat(); // return 5, the student sits at the last seat number 5.\n",
    "\n",
    "**Constraints:**\n",
    "\n",
    "- 1 <= n <= 109\n",
    "- It is guaranteed that there is a student sitting at seat p.\n",
    "- At most 104 calls will be made to seat and leave."
   ]
  },
  {
   "cell_type": "code",
   "execution_count": 1,
   "id": "4fff30fa",
   "metadata": {},
   "outputs": [],
   "source": [
    "class ExamRoom:\n",
    "    def __init__(self, n: int):\n",
    "        self.n = n\n",
    "        self.seated = []\n",
    "\n",
    "    def seat(self) -> int:\n",
    "        if not self.seated:\n",
    "            # If no one is seated, sit at seat 0\n",
    "            self.seated.append(0)\n",
    "            return 0\n",
    "        \n",
    "        max_dist = self.seated[0]  # Max distance to the first person\n",
    "        best_seat = 0\n",
    "        prev_seat = None\n",
    "        \n",
    "        # Calculate distances between consecutive seated students\n",
    "        for i in range(len(self.seated)):\n",
    "            if i == 0:\n",
    "                dist = self.seated[i]  # Distance from seat 0 to the first person\n",
    "            else:\n",
    "                dist = (self.seated[i] - self.seated[i-1]) // 2\n",
    "            \n",
    "            if dist > max_dist:\n",
    "                max_dist = dist\n",
    "                best_seat = self.seated[i-1] + dist if prev_seat is None else self.seated[i-1] + dist // 2\n",
    "            \n",
    "            prev_seat = self.seated[i]\n",
    "        \n",
    "        # Check distance to the last seat\n",
    "        if self.n - 1 - self.seated[-1] > max_dist:\n",
    "            best_seat = self.n - 1\n",
    "        \n",
    "        # Insert the best_seat into seated list while maintaining order\n",
    "        bisect.insort(self.seated, best_seat)\n",
    "        return best_seat\n",
    "    \n",
    "    def leave(self, p: int) -> None:\n",
    "        self.seated.remove(p)"
   ]
  },
  {
   "cell_type": "code",
   "execution_count": null,
   "id": "797747e6",
   "metadata": {},
   "outputs": [],
   "source": []
  }
 ],
 "metadata": {
  "kernelspec": {
   "display_name": "Python 3 (ipykernel)",
   "language": "python",
   "name": "python3"
  },
  "language_info": {
   "codemirror_mode": {
    "name": "ipython",
    "version": 3
   },
   "file_extension": ".py",
   "mimetype": "text/x-python",
   "name": "python",
   "nbconvert_exporter": "python",
   "pygments_lexer": "ipython3",
   "version": "3.8.11"
  }
 },
 "nbformat": 4,
 "nbformat_minor": 5
}
