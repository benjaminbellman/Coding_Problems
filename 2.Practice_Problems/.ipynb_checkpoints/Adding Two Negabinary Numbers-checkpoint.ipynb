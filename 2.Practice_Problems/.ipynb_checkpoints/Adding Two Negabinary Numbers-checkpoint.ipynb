{
 "cells": [
  {
   "cell_type": "markdown",
   "id": "a18ce758",
   "metadata": {},
   "source": [
    "# Adding Two Negabinary Numbers"
   ]
  },
  {
   "cell_type": "markdown",
   "id": "d20b4319",
   "metadata": {},
   "source": [
    "Given two numbers arr1 and arr2 in base -2, return the result of adding them together.\n",
    "\n",
    "Each number is given in array format:  as an array of 0s and 1s, from most significant bit to least significant bit.  For example, arr = [1,1,0,1] represents the number (-2)^3 + (-2)^2 + (-2)^0 = -3.  A number arr in array, format is also guaranteed to have no leading zeros: either arr == [0] or arr[0] == 1.\n",
    "\n",
    "Return the result of adding arr1 and arr2 in the same format: as an array of 0s and 1s with no leading zeros.\n",
    "\n",
    "**Example 1:**\n",
    "\n",
    "Input: arr1 = [1,1,1,1,1], arr2 = [1,0,1]\n",
    "Output: [1,0,0,0,0]\n",
    "Explanation: arr1 represents 11, arr2 represents 5, the output represents 16.\n",
    "\n",
    "**Example 2:**\n",
    "\n",
    "Input: arr1 = [0], arr2 = [0]\n",
    "Output: [0]\n",
    "\n",
    "**Example 3:**\n",
    "\n",
    "Input: arr1 = [0], arr2 = [1]\n",
    "Output: [1]\n",
    " \n",
    "**Constraints:**\n",
    "\n",
    "- 1 <= arr1.length, arr2.length <= 1000\n",
    "- arr1[i] and arr2[i] are 0 or 1\n",
    "- arr1 and arr2 have no leading zeros"
   ]
  },
  {
   "cell_type": "code",
   "execution_count": 1,
   "id": "c0b798a1",
   "metadata": {},
   "outputs": [
    {
     "name": "stdout",
     "output_type": "stream",
     "text": [
      "[1, 0, 0, 0, 0]\n",
      "[0]\n",
      "[1]\n"
     ]
    }
   ],
   "source": [
    "def addNegabinary(arr1, arr2):\n",
    "    # Convert base -2 array to integer\n",
    "    def to_decimal(arr):\n",
    "        result = 0\n",
    "        n = len(arr)\n",
    "        for i in range(n):\n",
    "            result += arr[i] * ((-2) ** (n - 1 - i))\n",
    "        return result\n",
    "    \n",
    "    # Convert integer to base -2 array\n",
    "    def to_negabinary(num):\n",
    "        if num == 0:\n",
    "            return [0]\n",
    "        result = []\n",
    "        while num != 0:\n",
    "            remainder = num % -2\n",
    "            num //= -2\n",
    "            if remainder < 0:\n",
    "                remainder += 2\n",
    "                num += 1\n",
    "            result.append(remainder)\n",
    "        return result[::-1]\n",
    "    \n",
    "    # Convert arr1 and arr2 to decimal\n",
    "    num1 = to_decimal(arr1)\n",
    "    num2 = to_decimal(arr2)\n",
    "    \n",
    "    # Add the numbers\n",
    "    total = num1 + num2\n",
    "    \n",
    "    # Convert back to base -2\n",
    "    return to_negabinary(total)\n",
    "\n",
    "# Example usage\n",
    "print(addNegabinary([1, 1, 1, 1, 1], [1, 0, 1]))  # Output: [1, 0, 0, 0, 0]\n",
    "print(addNegabinary([0], [0]))                    # Output: [0]\n",
    "print(addNegabinary([0], [1]))                    # Output: [1]"
   ]
  },
  {
   "cell_type": "code",
   "execution_count": null,
   "id": "1c8611d5",
   "metadata": {},
   "outputs": [],
   "source": []
  }
 ],
 "metadata": {
  "kernelspec": {
   "display_name": "Python 3 (ipykernel)",
   "language": "python",
   "name": "python3"
  },
  "language_info": {
   "codemirror_mode": {
    "name": "ipython",
    "version": 3
   },
   "file_extension": ".py",
   "mimetype": "text/x-python",
   "name": "python",
   "nbconvert_exporter": "python",
   "pygments_lexer": "ipython3",
   "version": "3.8.11"
  }
 },
 "nbformat": 4,
 "nbformat_minor": 5
}
