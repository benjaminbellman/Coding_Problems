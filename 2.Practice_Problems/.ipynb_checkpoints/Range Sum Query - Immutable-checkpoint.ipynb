{
 "cells": [
  {
   "cell_type": "markdown",
   "id": "d94aadcf",
   "metadata": {},
   "source": [
    "# Range Sum Query - Immutable"
   ]
  },
  {
   "cell_type": "markdown",
   "id": "47844681",
   "metadata": {},
   "source": [
    "Given an integer array nums, handle multiple queries of the following type:\n",
    "\n",
    "Calculate the sum of the elements of nums between indices left and right inclusive where left <= right.\n",
    "Implement the NumArray class:\n",
    "\n",
    "NumArray(int[] nums) Initializes the object with the integer array nums.\n",
    "int sumRange(int left, int right) Returns the sum of the elements of nums between indices left and right inclusive (i.e. nums[left] + nums[left + 1] + ... + nums[right]).\n",
    " \n",
    "\n",
    "**Example 1:**\n",
    "\n",
    "Input\n",
    "[\"NumArray\", \"sumRange\", \"sumRange\", \"sumRange\"]\n",
    "[[[-2, 0, 3, -5, 2, -1]], [0, 2], [2, 5], [0, 5]]\n",
    "Output\n",
    "[null, 1, -1, -3]\n",
    "\n",
    "**Explanation**\n",
    "\n",
    "NumArray numArray = new NumArray([-2, 0, 3, -5, 2, -1]);\n",
    "numArray.sumRange(0, 2); // return (-2) + 0 + 3 = 1\n",
    "numArray.sumRange(2, 5); // return 3 + (-5) + 2 + (-1) = -1\n",
    "numArray.sumRange(0, 5); // return (-2) + 0 + 3 + (-5) + 2 + (-1) = -3\n",
    " \n",
    "\n",
    "**Constraints:**\n",
    "\n",
    "1 <= nums.length <= 104\n",
    "-105 <= nums[i] <= 105\n",
    "0 <= left <= right < nums.length\n",
    "At most 104 calls will be made to sumRange."
   ]
  },
  {
   "cell_type": "code",
   "execution_count": 1,
   "id": "7ebc7ff6",
   "metadata": {},
   "outputs": [],
   "source": [
    "class NumArray:\n",
    "    def __init__(self, nums):\n",
    "        self.prefix_sum = [0] * (len(nums) + 1)\n",
    "        for i in range(len(nums)):\n",
    "            self.prefix_sum[i + 1] = self.prefix_sum[i] + nums[i]\n",
    "\n",
    "    def sumRange(self, left, right):\n",
    "        return self.prefix_sum[right + 1] - self.prefix_sum[left]"
   ]
  },
  {
   "cell_type": "code",
   "execution_count": 2,
   "id": "cd804ca9",
   "metadata": {},
   "outputs": [
    {
     "name": "stdout",
     "output_type": "stream",
     "text": [
      "1\n",
      "-1\n",
      "-3\n"
     ]
    }
   ],
   "source": [
    "nums = [-2, 0, 3, -5, 2, -1]\n",
    "numArray = NumArray(nums)\n",
    "\n",
    "print(numArray.sumRange(0, 2))  # Output: 1\n",
    "print(numArray.sumRange(2, 5))  # Output: -1\n",
    "print(numArray.sumRange(0, 5))  # Output: -3"
   ]
  },
  {
   "cell_type": "code",
   "execution_count": null,
   "id": "6dd4d1eb",
   "metadata": {},
   "outputs": [],
   "source": []
  }
 ],
 "metadata": {
  "kernelspec": {
   "display_name": "Python 3",
   "language": "python",
   "name": "python3"
  },
  "language_info": {
   "codemirror_mode": {
    "name": "ipython",
    "version": 3
   },
   "file_extension": ".py",
   "mimetype": "text/x-python",
   "name": "python",
   "nbconvert_exporter": "python",
   "pygments_lexer": "ipython3",
   "version": "3.9.13"
  }
 },
 "nbformat": 4,
 "nbformat_minor": 5
}
