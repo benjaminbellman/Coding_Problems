{
 "cells": [
  {
   "cell_type": "markdown",
   "id": "b90651ec",
   "metadata": {},
   "source": [
    "# Maximum Difference Between Node and Ancestor"
   ]
  },
  {
   "cell_type": "markdown",
   "id": "2a969f16",
   "metadata": {},
   "source": [
    "Given the root of a binary tree, find the maximum value v for which there exist different nodes a and b where v = |a.val - b.val| and a is an ancestor of b.\n",
    "\n",
    "A node a is an ancestor of b if either: any child of a is equal to b or any child of a is an ancestor of b.\n",
    "\n",
    "**Example 1:**\n",
    "\n",
    "Input: root = [8,3,10,1,6,null,14,null,null,4,7,13]\n",
    "Output: 7\n",
    "Explanation: We have various ancestor-node differences, some of which are given below :\n",
    "|8 - 3| = 5\n",
    "|3 - 7| = 4\n",
    "|8 - 1| = 7\n",
    "|10 - 13| = 3\n",
    "Among all possible differences, the maximum value of 7 is obtained by |8 - 1| = 7.\n",
    "\n",
    "**Example 2:**\n",
    "\n",
    "Input: root = [1,null,2,null,0,3]\n",
    "Output: 3\n",
    " \n",
    "**Constraints:**\n",
    "\n",
    "- The number of nodes in the tree is in the range [2, 5000].\n",
    "- 0 <= Node.val <= 105"
   ]
  },
  {
   "cell_type": "code",
   "execution_count": 1,
   "id": "5e07809a",
   "metadata": {},
   "outputs": [],
   "source": [
    "class TreeNode:\n",
    "    def __init__(self, val=0, left=None, right=None):\n",
    "        self.val = val\n",
    "        self.left = left\n",
    "        self.right = right\n",
    "\n",
    "def maxAncestorDiff(root):\n",
    "    def dfs(node, max_val, min_val):\n",
    "        if not node:\n",
    "            return max_val - min_val\n",
    "        \n",
    "        # Update max and min values along the current path\n",
    "        max_val = max(max_val, node.val)\n",
    "        min_val = min(min_val, node.val)\n",
    "        \n",
    "        # Recursively calculate for left and right subtrees\n",
    "        left_diff = dfs(node.left, max_val, min_val)\n",
    "        right_diff = dfs(node.right, max_val, min_val)\n",
    "        \n",
    "        # Return the maximum difference found in the subtree\n",
    "        return max(left_diff, right_diff)\n",
    "    \n",
    "    # Start DFS with the root's value as both max and min\n",
    "    return dfs(root, root.val, root.val)"
   ]
  },
  {
   "cell_type": "code",
   "execution_count": null,
   "id": "b6f643a5",
   "metadata": {},
   "outputs": [],
   "source": []
  }
 ],
 "metadata": {
  "kernelspec": {
   "display_name": "Python 3 (ipykernel)",
   "language": "python",
   "name": "python3"
  },
  "language_info": {
   "codemirror_mode": {
    "name": "ipython",
    "version": 3
   },
   "file_extension": ".py",
   "mimetype": "text/x-python",
   "name": "python",
   "nbconvert_exporter": "python",
   "pygments_lexer": "ipython3",
   "version": "3.8.11"
  }
 },
 "nbformat": 4,
 "nbformat_minor": 5
}
