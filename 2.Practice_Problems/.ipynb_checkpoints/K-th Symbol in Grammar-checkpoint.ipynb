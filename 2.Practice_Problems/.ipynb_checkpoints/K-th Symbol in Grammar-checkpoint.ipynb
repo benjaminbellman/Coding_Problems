{
 "cells": [
  {
   "cell_type": "markdown",
   "id": "489cb577",
   "metadata": {},
   "source": [
    "# K-th Symbol in Grammar"
   ]
  },
  {
   "cell_type": "markdown",
   "id": "1e412204",
   "metadata": {},
   "source": [
    "We build a table of n rows (1-indexed). We start by writing 0 in the 1st row. Now in every subsequent row, we look at the previous row and replace each occurrence of 0 with 01, and each occurrence of 1 with 10.\n",
    "\n",
    "For example, for n = 3, the 1st row is 0, the 2nd row is 01, and the 3rd row is 0110.\n",
    "Given two integer n and k, return the kth (1-indexed) symbol in the nth row of a table of n rows.\n",
    "\n",
    " \n",
    "\n",
    "**Example 1:**\n",
    "\n",
    "Input: n = 1, k = 1\n",
    "Output: 0\n",
    "Explanation: row 1: 0\n",
    "\n",
    "**Example 2:**\n",
    "\n",
    "Input: n = 2, k = 1\n",
    "Output: 0\n",
    "Explanation: \n",
    "row 1: 0\n",
    "row 2: 01\n",
    "\n",
    "**Example 3:**\n",
    "\n",
    "Input: n = 2, k = 2\n",
    "Output: 1\n",
    "Explanation: \n",
    "row 1: 0\n",
    "row 2: 01\n",
    " \n",
    "\n",
    "**Constraints:**\n",
    "\n",
    "- 1 <= n <= 30\n",
    "- 1 <= k <= 2n - 1"
   ]
  },
  {
   "cell_type": "code",
   "execution_count": 1,
   "id": "feb3565a",
   "metadata": {},
   "outputs": [
    {
     "name": "stdout",
     "output_type": "stream",
     "text": [
      "0\n",
      "0\n",
      "1\n"
     ]
    }
   ],
   "source": [
    "def kthSymbol(n, k):\n",
    "    if n == 1 and k == 1:\n",
    "        return 0\n",
    "    mid = 2**(n-1) // 2\n",
    "    if k <= mid:\n",
    "        return kthSymbol(n-1, k)\n",
    "    else:\n",
    "        return 1 - kthSymbol(n-1, k - mid)\n",
    "\n",
    "# Examples\n",
    "print(kthSymbol(1, 1))  # Output: 0\n",
    "print(kthSymbol(2, 1))  # Output: 0\n",
    "print(kthSymbol(2, 2))  # Output: 1"
   ]
  },
  {
   "cell_type": "code",
   "execution_count": null,
   "id": "4c594851",
   "metadata": {},
   "outputs": [],
   "source": []
  }
 ],
 "metadata": {
  "kernelspec": {
   "display_name": "Python 3",
   "language": "python",
   "name": "python3"
  },
  "language_info": {
   "codemirror_mode": {
    "name": "ipython",
    "version": 3
   },
   "file_extension": ".py",
   "mimetype": "text/x-python",
   "name": "python",
   "nbconvert_exporter": "python",
   "pygments_lexer": "ipython3",
   "version": "3.9.13"
  }
 },
 "nbformat": 4,
 "nbformat_minor": 5
}
