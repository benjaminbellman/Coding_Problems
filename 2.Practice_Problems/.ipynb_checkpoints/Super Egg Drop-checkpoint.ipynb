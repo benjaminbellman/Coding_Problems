{
 "cells": [
  {
   "cell_type": "markdown",
   "id": "13e89e92",
   "metadata": {},
   "source": [
    "# Super Egg Drop"
   ]
  },
  {
   "cell_type": "markdown",
   "id": "470c7c05",
   "metadata": {},
   "source": [
    "You are given k identical eggs and you have access to a building with n floors labeled from 1 to n.\n",
    "\n",
    "You know that there exists a floor f where 0 <= f <= n such that any egg dropped at a floor higher than f will break, and any egg dropped at or below floor f will not break.\n",
    "\n",
    "Each move, you may take an unbroken egg and drop it from any floor x (where 1 <= x <= n). If the egg breaks, you can no longer use it. However, if the egg does not break, you may reuse it in future moves.\n",
    "\n",
    "Return the minimum number of moves that you need to determine with certainty what the value of f is.\n",
    "\n",
    "**Example 1:**\n",
    "\n",
    "Input: k = 1, n = 2\n",
    "Output: 2\n",
    "Explanation: \n",
    "Drop the egg from floor 1. If it breaks, we know that f = 0.\n",
    "Otherwise, drop the egg from floor 2. If it breaks, we know that f = 1.\n",
    "If it does not break, then we know f = 2.\n",
    "Hence, we need at minimum 2 moves to determine with certainty what the value of f is.\n",
    "\n",
    "**Example 2:**\n",
    "\n",
    "Input: k = 2, n = 6\n",
    "Output: 3\n",
    "\n",
    "**Example 3:**\n",
    "\n",
    "Input: k = 3, n = 14\n",
    "Output: 4 \n",
    "\n",
    "**Constraints:**\n",
    "\n",
    "- 1 <= k <= 100\n",
    "- 1 <= n <= 104"
   ]
  },
  {
   "cell_type": "code",
   "execution_count": 1,
   "id": "5d85b50c",
   "metadata": {},
   "outputs": [],
   "source": [
    "def superEggDrop(k: int, n: int) -> int:\n",
    "    # Initialize the DP table\n",
    "    dp = [[0] * (n + 1) for _ in range(k + 1)]\n",
    "    \n",
    "    # Base cases\n",
    "    for i in range(1, k + 1):\n",
    "        dp[i][0] = 0  # 0 floors need 0 moves\n",
    "        dp[i][1] = 1  # 1 floor needs 1 move\n",
    "    \n",
    "    for j in range(1, n + 1):\n",
    "        dp[1][j] = j  # 1 egg needs j moves for j floors\n",
    "    \n",
    "    # Fill the DP table\n",
    "    for i in range(2, k + 1):\n",
    "        for j in range(2, n + 1):\n",
    "            low, high = 1, j\n",
    "            while low + 1 < high:\n",
    "                mid = (low + high) // 2\n",
    "                break_count = dp[i-1][mid-1]  # Egg breaks\n",
    "                no_break_count = dp[i][j-mid]  # Egg does not break\n",
    "                if break_count < no_break_count:\n",
    "                    low = mid\n",
    "                else:\n",
    "                    high = mid\n",
    "            dp[i][j] = 1 + min(max(dp[i-1][low-1], dp[i][j-low]), max(dp[i-1][high-1], dp[i][j-high]))\n",
    "    \n",
    "    return dp[k][n]"
   ]
  },
  {
   "cell_type": "code",
   "execution_count": null,
   "id": "70ded9cc",
   "metadata": {},
   "outputs": [],
   "source": []
  }
 ],
 "metadata": {
  "kernelspec": {
   "display_name": "Python 3 (ipykernel)",
   "language": "python",
   "name": "python3"
  },
  "language_info": {
   "codemirror_mode": {
    "name": "ipython",
    "version": 3
   },
   "file_extension": ".py",
   "mimetype": "text/x-python",
   "name": "python",
   "nbconvert_exporter": "python",
   "pygments_lexer": "ipython3",
   "version": "3.8.11"
  }
 },
 "nbformat": 4,
 "nbformat_minor": 5
}
