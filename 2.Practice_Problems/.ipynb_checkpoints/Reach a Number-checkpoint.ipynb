{
 "cells": [
  {
   "cell_type": "markdown",
   "id": "c98f3108",
   "metadata": {},
   "source": [
    "# Reach a Number"
   ]
  },
  {
   "cell_type": "markdown",
   "id": "8634b179",
   "metadata": {},
   "source": [
    "You are standing at position 0 on an infinite number line. There is a destination at position target.\n",
    "\n",
    "You can make some number of moves numMoves so that:\n",
    "\n",
    "On each move, you can either go left or right.\n",
    "During the ith move (starting from i == 1 to i == numMoves), you take i steps in the chosen direction.\n",
    "Given the integer target, return the minimum number of moves required (i.e., the minimum numMoves) to reach the destination.\n",
    "\n",
    " \n",
    "\n",
    "**Example 1:**\n",
    "\n",
    "Input: target = 2\n",
    "\n",
    "Output: 3\n",
    "Explanation:\n",
    "On the 1st move, we step from 0 to 1 (1 step).\n",
    "On the 2nd move, we step from 1 to -1 (2 steps).\n",
    "On the 3rd move, we step from -1 to 2 (3 steps).\n",
    "\n",
    "**Example 2:**\n",
    "\n",
    "Input: target = 3\n",
    "\n",
    "Output: 2\n",
    "Explanation:\n",
    "On the 1st move, we step from 0 to 1 (1 step).\n",
    "On the 2nd move, we step from 1 to 3 (2 steps).\n",
    " \n",
    "\n",
    "**Constraints:**\n",
    "- -109 <= target <= 109\n",
    "- target != 0"
   ]
  },
  {
   "cell_type": "code",
   "execution_count": 1,
   "id": "4b2bc186",
   "metadata": {},
   "outputs": [
    {
     "name": "stdout",
     "output_type": "stream",
     "text": [
      "3\n",
      "2\n"
     ]
    }
   ],
   "source": [
    "def reachNumber(target):\n",
    "    target = abs(target)\n",
    "    moves = 0\n",
    "    total = 0\n",
    "\n",
    "    while total < target or (total - target) % 2 != 0:\n",
    "        moves += 1\n",
    "        total += moves\n",
    "\n",
    "    return moves\n",
    "\n",
    "# Example usage:\n",
    "print(reachNumber(2))  # Output: 3\n",
    "print(reachNumber(3))  # Output: 2"
   ]
  },
  {
   "cell_type": "code",
   "execution_count": null,
   "id": "5480de18",
   "metadata": {},
   "outputs": [],
   "source": []
  }
 ],
 "metadata": {
  "kernelspec": {
   "display_name": "Python 3",
   "language": "python",
   "name": "python3"
  },
  "language_info": {
   "codemirror_mode": {
    "name": "ipython",
    "version": 3
   },
   "file_extension": ".py",
   "mimetype": "text/x-python",
   "name": "python",
   "nbconvert_exporter": "python",
   "pygments_lexer": "ipython3",
   "version": "3.9.13"
  }
 },
 "nbformat": 4,
 "nbformat_minor": 5
}
