{
 "cells": [
  {
   "cell_type": "markdown",
   "id": "2958ff1f",
   "metadata": {},
   "source": [
    "# Remove All Adjacent Duplicates In String"
   ]
  },
  {
   "cell_type": "markdown",
   "id": "182c31e4",
   "metadata": {},
   "source": [
    "You are given a string s consisting of lowercase English letters. A duplicate removal consists of choosing two adjacent and equal letters and removing them.\n",
    "\n",
    "We repeatedly make duplicate removals on s until we no longer can.\n",
    "\n",
    "Return the final string after all such duplicate removals have been made. It can be proven that the answer is unique.\n",
    "\n",
    "**Example 1:**\n",
    "\n",
    "Input: s = \"abbaca\"\n",
    "Output: \"ca\"\n",
    "Explanation: \n",
    "For example, in \"abbaca\" we could remove \"bb\" since the letters are adjacent and equal, and this is the only possible move.  The result of this move is that the string is \"aaca\", of which only \"aa\" is possible, so the final string is \"ca\".\n",
    "\n",
    "**Example 2:**\n",
    "\n",
    "Input: s = \"azxxzy\"\n",
    "Output: \"ay\"\n",
    "\n",
    "**Constraints:**\n",
    "\n",
    "- 1 <= s.length <= 105\n",
    "- s consists of lowercase English letters."
   ]
  },
  {
   "cell_type": "code",
   "execution_count": 1,
   "id": "5b037703",
   "metadata": {},
   "outputs": [
    {
     "name": "stdout",
     "output_type": "stream",
     "text": [
      "ca\n",
      "ay\n"
     ]
    }
   ],
   "source": [
    "def remove_duplicates(s: str) -> str:\n",
    "    stack = []\n",
    "\n",
    "    for char in s:\n",
    "        if stack and stack[-1] == char:\n",
    "            stack.pop()   # remove the matching pair\n",
    "        else:\n",
    "            stack.append(char)\n",
    "\n",
    "    # The content of the stack is the resulting string\n",
    "    return \"\".join(stack)\n",
    "\n",
    "# Example usage:\n",
    "if __name__ == \"__main__\":\n",
    "    s1 = \"abbaca\"\n",
    "    print(remove_duplicates(s1))  # Output: \"ca\"\n",
    "\n",
    "    s2 = \"azxxzy\"\n",
    "    print(remove_duplicates(s2))  # Output: \"ay\""
   ]
  },
  {
   "cell_type": "code",
   "execution_count": null,
   "id": "7006d8a9",
   "metadata": {},
   "outputs": [],
   "source": []
  }
 ],
 "metadata": {
  "kernelspec": {
   "display_name": "Python 3 (ipykernel)",
   "language": "python",
   "name": "python3"
  },
  "language_info": {
   "codemirror_mode": {
    "name": "ipython",
    "version": 3
   },
   "file_extension": ".py",
   "mimetype": "text/x-python",
   "name": "python",
   "nbconvert_exporter": "python",
   "pygments_lexer": "ipython3",
   "version": "3.8.11"
  }
 },
 "nbformat": 4,
 "nbformat_minor": 5
}
