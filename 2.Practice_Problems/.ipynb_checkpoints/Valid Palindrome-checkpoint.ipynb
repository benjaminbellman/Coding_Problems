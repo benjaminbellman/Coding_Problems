{
 "cells": [
  {
   "cell_type": "markdown",
   "id": "9d5b6204",
   "metadata": {},
   "source": [
    "# Valid Palindrome"
   ]
  },
  {
   "cell_type": "markdown",
   "id": "296ee86a",
   "metadata": {},
   "source": [
    "A phrase is a palindrome if, after converting all uppercase letters into lowercase letters and removing all non-alphanumeric characters, it reads the same forward and backward. Alphanumeric characters include letters and numbers.\n",
    "\n",
    "Given a string s, return true if it is a palindrome, or false otherwise.\n",
    "\n",
    "**Example 1:**\n",
    "\n",
    "Input: s = \"A man, a plan, a canal: Panama\"\n",
    "Output: true\n",
    "Explanation: \"amanaplanacanalpanama\" is a palindrome.\n",
    "\n",
    "**Example 2:**\n",
    "\n",
    "Input: s = \"race a car\"\n",
    "Output: false\n",
    "Explanation: \"raceacar\" is not a palindrome.\n",
    "\n",
    "**Example 3:**\n",
    "\n",
    "Input: s = \" \"\n",
    "Output: true\n",
    "Explanation: s is an empty string \"\" after removing non-alphanumeric characters.\n",
    "Since an empty string reads the same forward and backward, it is a palindrome.\n",
    " \n",
    "**Constraints:**\n",
    "\n",
    "- 1 <= s.length <= 2 * 105\n",
    "- s consists only of printable ASCII characters."
   ]
  },
  {
   "cell_type": "code",
   "execution_count": 1,
   "id": "4c209595",
   "metadata": {},
   "outputs": [],
   "source": [
    "import re\n",
    "\n",
    "def isPalindrome(s: str) -> bool:\n",
    "    # Keep only alphanumeric characters and lowercase them\n",
    "    filtered = re.sub(r'[^a-zA-Z0-9]', '', s).lower()\n",
    "    # Compare with its reverse\n",
    "    return filtered == filtered[::-1]"
   ]
  },
  {
   "cell_type": "code",
   "execution_count": null,
   "id": "26ca52ee",
   "metadata": {},
   "outputs": [],
   "source": []
  }
 ],
 "metadata": {
  "kernelspec": {
   "display_name": "py37",
   "language": "python",
   "name": "py37"
  },
  "language_info": {
   "codemirror_mode": {
    "name": "ipython",
    "version": 3
   },
   "file_extension": ".py",
   "mimetype": "text/x-python",
   "name": "python",
   "nbconvert_exporter": "python",
   "pygments_lexer": "ipython3",
   "version": "3.7.0"
  }
 },
 "nbformat": 4,
 "nbformat_minor": 5
}
