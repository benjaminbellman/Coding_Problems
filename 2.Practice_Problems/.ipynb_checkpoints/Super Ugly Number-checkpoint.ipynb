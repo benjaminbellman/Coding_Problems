{
 "cells": [
  {
   "cell_type": "markdown",
   "id": "0c4db2b5",
   "metadata": {},
   "source": [
    "# Super Ugly Number"
   ]
  },
  {
   "cell_type": "markdown",
   "id": "de206b36",
   "metadata": {},
   "source": [
    "A super ugly number is a positive integer whose prime factors are in the array primes.\n",
    "\n",
    "Given an integer n and an array of integers primes, return the nth super ugly number.\n",
    "\n",
    "The nth super ugly number is guaranteed to fit in a 32-bit signed integer.\n",
    "\n",
    " \n",
    "\n",
    "**Example 1:**\n",
    "\n",
    "Input: n = 12, primes = [2,7,13,19]\n",
    "Output: 32\n",
    "Explanation: [1,2,4,7,8,13,14,16,19,26,28,32] is the sequence of the first 12 super ugly numbers given primes = [2,7,13,19].\n",
    "\n",
    "**Example 2:**\n",
    "\n",
    "Input: n = 1, primes = [2,3,5]\n",
    "Output: 1\n",
    "Explanation: 1 has no prime factors, therefore all of its prime factors are in the array primes = [2,3,5].\n",
    " \n",
    "\n",
    "**Constraints:**\n",
    "\n",
    "1 <= n <= 105\n",
    "1 <= primes.length <= 100\n",
    "2 <= primes[i] <= 1000\n",
    "primes[i] is guaranteed to be a prime number.\n",
    "All the values of primes are unique and sorted in ascending order."
   ]
  },
  {
   "cell_type": "code",
   "execution_count": 1,
   "id": "221ea838",
   "metadata": {},
   "outputs": [
    {
     "name": "stdout",
     "output_type": "stream",
     "text": [
      "32\n",
      "1\n"
     ]
    }
   ],
   "source": [
    "import heapq\n",
    "\n",
    "def nthSuperUglyNumber(n, primes):\n",
    "    ugly_numbers = [1]  # Initialize with the first super ugly number (1)\n",
    "    heap = [(prime, prime, 0) for prime in primes]  # Initialize the heap with prime numbers\n",
    "\n",
    "    while len(ugly_numbers) < n:\n",
    "        num, prime, index = heapq.heappop(heap)\n",
    "        if num != ugly_numbers[-1]:  # Avoid duplicates\n",
    "            ugly_numbers.append(num)\n",
    "\n",
    "        heapq.heappush(heap, (prime * ugly_numbers[index + 1], prime, index + 1))\n",
    "\n",
    "    return ugly_numbers[-1]\n",
    "\n",
    "# Testing with the examples\n",
    "n = 12\n",
    "primes = [2, 7, 13, 19]\n",
    "print(nthSuperUglyNumber(n, primes))  # Output: 32\n",
    "\n",
    "n = 1\n",
    "primes = [2, 3, 5]\n",
    "print(nthSuperUglyNumber(n, primes))  # Output: 1"
   ]
  },
  {
   "cell_type": "code",
   "execution_count": null,
   "id": "11ba2a59",
   "metadata": {},
   "outputs": [],
   "source": []
  }
 ],
 "metadata": {
  "kernelspec": {
   "display_name": "Python 3",
   "language": "python",
   "name": "python3"
  },
  "language_info": {
   "codemirror_mode": {
    "name": "ipython",
    "version": 3
   },
   "file_extension": ".py",
   "mimetype": "text/x-python",
   "name": "python",
   "nbconvert_exporter": "python",
   "pygments_lexer": "ipython3",
   "version": "3.9.13"
  }
 },
 "nbformat": 4,
 "nbformat_minor": 5
}
