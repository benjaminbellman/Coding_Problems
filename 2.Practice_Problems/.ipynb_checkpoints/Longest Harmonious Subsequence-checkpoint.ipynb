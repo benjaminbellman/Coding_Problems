{
 "cells": [
  {
   "cell_type": "markdown",
   "id": "d35f21f1",
   "metadata": {},
   "source": [
    "# Longest Harmonious Subsequence"
   ]
  },
  {
   "cell_type": "markdown",
   "id": "95fb53de",
   "metadata": {},
   "source": [
    "We define a harmonious array as an array where the difference between its maximum value and its minimum value is exactly 1.\n",
    "\n",
    "Given an integer array nums, return the length of its longest harmonious subsequence among all its possible subsequences.\n",
    "\n",
    "A subsequence of array is a sequence that can be derived from the array by deleting some or no elements without changing the order of the remaining elements.\n",
    "\n",
    " \n",
    "\n",
    "**Example 1:**\n",
    "\n",
    "Input: nums = [1,3,2,2,5,2,3,7]\n",
    "\n",
    "Output: 5\n",
    "Explanation: The longest harmonious subsequence is [3,2,2,2,3].\n",
    "\n",
    "**Example 2:**\n",
    "\n",
    "Input: nums = [1,2,3,4]\n",
    "\n",
    "Output: 2\n",
    "\n",
    "**Example 3:**\n",
    "\n",
    "Input: nums = [1,1,1,1]\n",
    "\n",
    "Output: 0\n",
    " \n",
    "\n",
    "**Constraints:**\n",
    "\n",
    "- 1 <= nums.length <= 2 * 104\n",
    "- -109 <= nums[i] <= 109"
   ]
  },
  {
   "cell_type": "code",
   "execution_count": 2,
   "id": "7b7ebbd1",
   "metadata": {},
   "outputs": [
    {
     "data": {
      "text/plain": [
       "(5, 2, 0)"
      ]
     },
     "execution_count": 2,
     "metadata": {},
     "output_type": "execute_result"
    }
   ],
   "source": [
    "def findLHS(nums):\n",
    "    \"\"\"\n",
    "    This function finds the length of the longest harmonious subsequence in an array.\n",
    "    A harmonious subsequence is defined as a subsequence where the difference between \n",
    "    its maximum and minimum values is exactly 1.\n",
    "    \"\"\"\n",
    "    # Create a dictionary to store the frequency of each number\n",
    "    frequency = {}\n",
    "    for num in nums:\n",
    "        if num in frequency:\n",
    "            frequency[num] += 1\n",
    "        else:\n",
    "            frequency[num] = 1\n",
    "\n",
    "    max_length = 0\n",
    "    # Iterate through the dictionary to find the longest harmonious subsequence\n",
    "    for num in frequency:\n",
    "        if num + 1 in frequency:\n",
    "            max_length = max(max_length, frequency[num] + frequency[num + 1])\n",
    "\n",
    "    return max_length\n",
    "\n",
    "# Test the function with the provided examples\n",
    "example1 = [1,3,2,2,5,2,3,7]\n",
    "example2 = [1,2,3,4]\n",
    "example3 = [1,1,1,1]\n",
    "\n",
    "output1 = findLHS(example1)\n",
    "output2 = findLHS(example2)\n",
    "output3 = findLHS(example3)\n",
    "\n",
    "output1, output2, output3"
   ]
  },
  {
   "cell_type": "code",
   "execution_count": null,
   "id": "9381d6a5",
   "metadata": {},
   "outputs": [],
   "source": []
  }
 ],
 "metadata": {
  "kernelspec": {
   "display_name": "Python 3",
   "language": "python",
   "name": "python3"
  },
  "language_info": {
   "codemirror_mode": {
    "name": "ipython",
    "version": 3
   },
   "file_extension": ".py",
   "mimetype": "text/x-python",
   "name": "python",
   "nbconvert_exporter": "python",
   "pygments_lexer": "ipython3",
   "version": "3.9.13"
  }
 },
 "nbformat": 4,
 "nbformat_minor": 5
}
