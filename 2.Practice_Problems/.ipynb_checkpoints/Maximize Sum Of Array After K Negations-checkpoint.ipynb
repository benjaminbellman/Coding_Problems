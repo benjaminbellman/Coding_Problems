{
 "cells": [
  {
   "cell_type": "markdown",
   "id": "1b0b917b",
   "metadata": {},
   "source": [
    "# Maximize Sum Of Array After K Negations"
   ]
  },
  {
   "cell_type": "markdown",
   "id": "c4db45ec",
   "metadata": {},
   "source": [
    "Given an integer array nums and an integer k, modify the array in the following way:\n",
    "\n",
    "choose an index i and replace nums[i] with -nums[i].\n",
    "You should apply this process exactly k times. You may choose the same index i multiple times.\n",
    "\n",
    "Return the largest possible sum of the array after modifying it in this way.\n",
    "\n",
    "**Example 1:**\n",
    "\n",
    "Input: nums = [4,2,3], k = 1\n",
    "Output: 5\n",
    "Explanation: Choose index 1 and nums becomes [4,-2,3].\n",
    "\n",
    "**Example 2:**\n",
    "\n",
    "Input: nums = [3,-1,0,2], k = 3\n",
    "Output: 6\n",
    "Explanation: Choose indices (1, 2, 2) and nums becomes [3,1,0,2].\n",
    "\n",
    "**Example 3:**\n",
    "\n",
    "Input: nums = [2,-3,-1,5,-4], k = 2\n",
    "Output: 13\n",
    "Explanation: Choose indices (1, 4) and nums becomes [2,3,-1,5,4].\n",
    " \n",
    "\n",
    "**Constraints:**\n",
    "\n",
    "- 1 <= nums.length <= 104\n",
    "- -100 <= nums[i] <= 100\n",
    "- 1 <= k <= 104"
   ]
  },
  {
   "cell_type": "code",
   "execution_count": 1,
   "id": "5acc261c",
   "metadata": {},
   "outputs": [],
   "source": [
    "def largestSumAfterKNegations(nums, k):\n",
    "    # Sort the array to prioritize the smallest (most negative) numbers\n",
    "    nums.sort()\n",
    "    \n",
    "    # Flip negatives to positive until k is exhausted or no more negatives\n",
    "    for i in range(len(nums)):\n",
    "        if k > 0 and nums[i] < 0:\n",
    "            nums[i] = -nums[i]\n",
    "            k -= 1\n",
    "    \n",
    "    # If k is still odd, flip the smallest number\n",
    "    if k % 2 == 1:\n",
    "        nums.sort()  # Re-sort to find the smallest number\n",
    "        nums[0] = -nums[0]  # Flip the smallest number\n",
    "    \n",
    "    # Return the sum of the modified array\n",
    "    return sum(nums)"
   ]
  },
  {
   "cell_type": "code",
   "execution_count": null,
   "id": "e4cb17f5",
   "metadata": {},
   "outputs": [],
   "source": []
  }
 ],
 "metadata": {
  "kernelspec": {
   "display_name": "Python 3 (ipykernel)",
   "language": "python",
   "name": "python3"
  },
  "language_info": {
   "codemirror_mode": {
    "name": "ipython",
    "version": 3
   },
   "file_extension": ".py",
   "mimetype": "text/x-python",
   "name": "python",
   "nbconvert_exporter": "python",
   "pygments_lexer": "ipython3",
   "version": "3.8.11"
  }
 },
 "nbformat": 4,
 "nbformat_minor": 5
}
