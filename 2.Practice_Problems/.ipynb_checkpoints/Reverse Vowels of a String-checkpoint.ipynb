{
 "cells": [
  {
   "cell_type": "markdown",
   "id": "00b02220",
   "metadata": {},
   "source": [
    "# Reverse Vowels of a String\n"
   ]
  },
  {
   "cell_type": "markdown",
   "id": "44b806c2",
   "metadata": {},
   "source": [
    "Given a string s, reverse only all the vowels in the string and return it.\n",
    "\n",
    "The vowels are 'a', 'e', 'i', 'o', and 'u', and they can appear in both lower and upper cases, more than once.\n",
    "\n",
    " \n",
    "\n",
    "**Example 1:**\n",
    "\n",
    "Input: s = \"hello\"\n",
    "Output: \"holle\"\n",
    "\n",
    "**Example 2:**\n",
    "\n",
    "Input: s = \"leetcode\"\n",
    "Output: \"leotcede\"\n",
    " \n",
    "\n",
    "**Constraints:**\n",
    "\n",
    "1 <= s.length <= 3 * 105\n",
    "s consist of printable ASCII characters."
   ]
  },
  {
   "cell_type": "code",
   "execution_count": 1,
   "id": "6a9934f0",
   "metadata": {},
   "outputs": [],
   "source": [
    "def reverse_vowels(s):\n",
    "    vowels = set('aeiouAEIOU')\n",
    "    s = list(s)\n",
    "    left, right = 0, len(s) - 1\n",
    "\n",
    "    while left < right:\n",
    "        if s[left] in vowels and s[right] in vowels:\n",
    "            s[left], s[right] = s[right], s[left]\n",
    "            left += 1\n",
    "            right -= 1\n",
    "        elif s[left] in vowels:\n",
    "            right -= 1\n",
    "        else:\n",
    "            left += 1\n",
    "\n",
    "    return ''.join(s)"
   ]
  },
  {
   "cell_type": "code",
   "execution_count": 2,
   "id": "e9953ffb",
   "metadata": {},
   "outputs": [
    {
     "name": "stdout",
     "output_type": "stream",
     "text": [
      "holle\n",
      "leotcede\n"
     ]
    }
   ],
   "source": [
    "# Example 1\n",
    "s = \"hello\"\n",
    "print(reverse_vowels(s))\n",
    "# Output: \"holle\"\n",
    "\n",
    "# Example 2\n",
    "s = \"leetcode\"\n",
    "print(reverse_vowels(s))\n",
    "# Output: \"leotcede\""
   ]
  },
  {
   "cell_type": "code",
   "execution_count": null,
   "id": "74131d4e",
   "metadata": {},
   "outputs": [],
   "source": []
  }
 ],
 "metadata": {
  "kernelspec": {
   "display_name": "Python 3",
   "language": "python",
   "name": "python3"
  },
  "language_info": {
   "codemirror_mode": {
    "name": "ipython",
    "version": 3
   },
   "file_extension": ".py",
   "mimetype": "text/x-python",
   "name": "python",
   "nbconvert_exporter": "python",
   "pygments_lexer": "ipython3",
   "version": "3.9.13"
  }
 },
 "nbformat": 4,
 "nbformat_minor": 5
}
