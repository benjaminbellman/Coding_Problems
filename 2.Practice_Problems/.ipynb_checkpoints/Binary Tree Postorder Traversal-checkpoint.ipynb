{
 "cells": [
  {
   "cell_type": "markdown",
   "id": "2fa5b40b",
   "metadata": {},
   "source": [
    "# Binary Tree Postorder Traversal"
   ]
  },
  {
   "cell_type": "markdown",
   "id": "6082ce1c",
   "metadata": {},
   "source": [
    "Given the root of a binary tree, return the postorder traversal of its nodes' values.\n",
    "\n",
    "**Example 1:**\n",
    "\n",
    "Input: root = [1,null,2,3]\n",
    "\n",
    "Output: [3,2,1]\n",
    "\n",
    "Explanation:\n",
    "\n",
    "**Example 2:**\n",
    "\n",
    "Input: root = [1,2,3,4,5,null,8,null,null,6,7,9]\n",
    "\n",
    "Output: [4,6,7,5,2,9,8,3,1]\n",
    "\n",
    "Explanation:\n",
    "\n",
    "**Example 3:**\n",
    "\n",
    "Input: root = []\n",
    "\n",
    "Output: []\n",
    "\n",
    "**Example 4:**\n",
    "\n",
    "Input: root = [1]\n",
    "\n",
    "Output: [1]\n",
    "\n",
    "**Constraints:**\n",
    "\n",
    "- The number of the nodes in the tree is in the range [0, 100].\n",
    "- -100 <= Node.val <= 100"
   ]
  },
  {
   "cell_type": "code",
   "execution_count": 1,
   "id": "07f52aed",
   "metadata": {},
   "outputs": [],
   "source": [
    "# Definition for a binary tree node.\n",
    "class TreeNode:\n",
    "    def __init__(self, val=0, left=None, right=None):\n",
    "        self.val = val\n",
    "        self.left = left\n",
    "        self.right = right\n",
    "\n",
    "class Solution:\n",
    "    def postorderTraversal(self, root: TreeNode):\n",
    "        result = []\n",
    "\n",
    "        def dfs(node):\n",
    "            if not node:\n",
    "                return\n",
    "            dfs(node.left)      # visit left\n",
    "            dfs(node.right)     # visit right\n",
    "            result.append(node.val)  # visit root\n",
    "\n",
    "        dfs(root)\n",
    "        return result"
   ]
  },
  {
   "cell_type": "code",
   "execution_count": null,
   "id": "b5980f2a",
   "metadata": {},
   "outputs": [],
   "source": []
  }
 ],
 "metadata": {
  "kernelspec": {
   "display_name": "Python 3 (ipykernel)",
   "language": "python",
   "name": "python3"
  },
  "language_info": {
   "codemirror_mode": {
    "name": "ipython",
    "version": 3
   },
   "file_extension": ".py",
   "mimetype": "text/x-python",
   "name": "python",
   "nbconvert_exporter": "python",
   "pygments_lexer": "ipython3",
   "version": "3.8.11"
  }
 },
 "nbformat": 4,
 "nbformat_minor": 5
}
