{
 "cells": [
  {
   "cell_type": "markdown",
   "id": "81543a0f",
   "metadata": {},
   "source": [
    "# Snapshot Array"
   ]
  },
  {
   "cell_type": "markdown",
   "id": "ca62892a",
   "metadata": {},
   "source": [
    "Implement a SnapshotArray that supports the following interface:\n",
    "\n",
    "SnapshotArray(int length) initializes an array-like data structure with the given length. Initially, each element equals 0.\n",
    "void set(index, val) sets the element at the given index to be equal to val.\n",
    "int snap() takes a snapshot of the array and returns the snap_id: the total number of times we called snap() minus 1.\n",
    "int get(index, snap_id) returns the value at the given index, at the time we took the snapshot with the given snap_id\n",
    "\n",
    "**Example 1:**\n",
    "\n",
    "Input: [\"SnapshotArray\",\"set\",\"snap\",\"set\",\"get\"]\n",
    "[[3],[0,5],[],[0,6],[0,0]]\n",
    "Output: [null,null,0,null,5]\n",
    "Explanation: \n",
    "SnapshotArray snapshotArr = new SnapshotArray(3); // set the length to be 3\n",
    "snapshotArr.set(0,5);  // Set array[0] = 5\n",
    "snapshotArr.snap();  // Take a snapshot, return snap_id = 0\n",
    "snapshotArr.set(0,6);\n",
    "snapshotArr.get(0,0);  // Get the value of array[0] with snap_id = 0, return 5\n",
    " \n",
    "**Constraints:**\n",
    "\n",
    "- 1 <= length <= 5 * 104\n",
    "- 0 <= index < length\n",
    "- 0 <= val <= 109\n",
    "- 0 <= snap_id < (the total number of times we call snap())\n",
    "- At most 5 * 104 calls will be made to set, snap, and get."
   ]
  },
  {
   "cell_type": "code",
   "execution_count": 1,
   "id": "e861e342",
   "metadata": {},
   "outputs": [
    {
     "name": "stdout",
     "output_type": "stream",
     "text": [
      "0\n",
      "5\n"
     ]
    }
   ],
   "source": [
    "import bisect\n",
    "\n",
    "class SnapshotArray:\n",
    "    def __init__(self, length: int):\n",
    "        # Store changes for each index with a list of (snap_id, value) pairs\n",
    "        self.data = [{0: 0} for _ in range(length)]\n",
    "        self.snap_id = 0  # Keeps track of the snapshot count\n",
    "\n",
    "    def set(self, index: int, val: int) -> None:\n",
    "        # Store the value with the current snap_id\n",
    "        self.data[index][self.snap_id] = val\n",
    "\n",
    "    def snap(self) -> int:\n",
    "        # Return the current snap_id and increment for the next snapshot\n",
    "        self.snap_id += 1\n",
    "        return self.snap_id - 1\n",
    "\n",
    "    def get(self, index: int, snap_id: int) -> int:\n",
    "        # Retrieve the largest available snapshot value using binary search\n",
    "        snaps = self.data[index]\n",
    "        keys = sorted(snaps.keys())  # Sort snap_ids\n",
    "        pos = bisect.bisect_right(keys, snap_id) - 1\n",
    "        return snaps[keys[pos]]\n",
    "\n",
    "# Example Usage:\n",
    "snapshotArr = SnapshotArray(3)  # Initialize with length 3\n",
    "snapshotArr.set(0, 5)  # Set array[0] = 5\n",
    "print(snapshotArr.snap())  # Take a snapshot, return snap_id = 0\n",
    "snapshotArr.set(0, 6)  # Update array[0] = 6\n",
    "print(snapshotArr.get(0, 0))  # Get array[0] at snap_id = 0, should return 5"
   ]
  },
  {
   "cell_type": "code",
   "execution_count": null,
   "id": "3be8cc25",
   "metadata": {},
   "outputs": [],
   "source": []
  }
 ],
 "metadata": {
  "kernelspec": {
   "display_name": "Python 3 (ipykernel)",
   "language": "python",
   "name": "python3"
  },
  "language_info": {
   "codemirror_mode": {
    "name": "ipython",
    "version": 3
   },
   "file_extension": ".py",
   "mimetype": "text/x-python",
   "name": "python",
   "nbconvert_exporter": "python",
   "pygments_lexer": "ipython3",
   "version": "3.8.11"
  }
 },
 "nbformat": 4,
 "nbformat_minor": 5
}
