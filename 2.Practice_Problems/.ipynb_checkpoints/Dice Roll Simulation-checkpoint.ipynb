{
 "cells": [
  {
   "cell_type": "markdown",
   "id": "bc07af0d",
   "metadata": {},
   "source": [
    "# Dice Roll Simulation"
   ]
  },
  {
   "cell_type": "markdown",
   "id": "501f14ad",
   "metadata": {},
   "source": [
    "A die simulator generates a random number from 1 to 6 for each roll. You introduced a constraint to the generator such that it cannot roll the number i more than rollMax[i] (1-indexed) consecutive times.\n",
    "\n",
    "Given an array of integers rollMax and an integer n, return the number of distinct sequences that can be obtained with exact n rolls. Since the answer may be too large, return it modulo 109 + 7.\n",
    "\n",
    "Two sequences are considered different if at least one element differs from each other.\n",
    "\n",
    "**Example 1:**\n",
    "\n",
    "Input: n = 2, rollMax = [1,1,2,2,2,3]\n",
    "Output: 34\n",
    "Explanation: There will be 2 rolls of die, if there are no constraints on the die, there are 6 * 6 = 36 possible combinations. In this case, looking at rollMax array, the numbers 1 and 2 appear at most once consecutively, therefore sequences (1,1) and (2,2) cannot occur, so the final answer is 36-2 = 34.\n",
    "\n",
    "**Example 2:**\n",
    "\n",
    "Input: n = 2, rollMax = [1,1,1,1,1,1]\n",
    "Output: 30\n",
    "\n",
    "**Example 3:**\n",
    "\n",
    "Input: n = 3, rollMax = [1,1,1,2,2,3]\n",
    "Output: 181\n",
    "\n",
    "**Constraints:**\n",
    "\n",
    "- 1 <= n <= 5000\n",
    "- rollMax.length == 6\n",
    "- 1 <= rollMax[i] <= 15"
   ]
  },
  {
   "cell_type": "code",
   "execution_count": 1,
   "id": "19e14adc",
   "metadata": {},
   "outputs": [],
   "source": [
    "MOD = 10**9 + 7\n",
    "\n",
    "def dieSimulator(n, rollMax):\n",
    "    dp = [[[0] * 16 for _ in range(6)] for _ in range(n + 1)]\n",
    "    \n",
    "    # Base case: first roll\n",
    "    for j in range(6):\n",
    "        dp[1][j][1] = 1\n",
    "    \n",
    "    for i in range(2, n + 1):\n",
    "        for j in range(6):  # current die face\n",
    "            for prev in range(6):  # previous die face\n",
    "                for k in range(1, rollMax[prev] + 1):\n",
    "                    if j == prev:\n",
    "                        if k + 1 <= rollMax[j]:\n",
    "                            dp[i][j][k + 1] = (dp[i][j][k + 1] + dp[i - 1][j][k]) % MOD\n",
    "                    else:\n",
    "                        dp[i][j][1] = (dp[i][j][1] + dp[i - 1][prev][k]) % MOD\n",
    "    \n",
    "    result = 0\n",
    "    for j in range(6):\n",
    "        for k in range(1, rollMax[j] + 1):\n",
    "            result = (result + dp[n][j][k]) % MOD\n",
    "    \n",
    "    return result"
   ]
  },
  {
   "cell_type": "code",
   "execution_count": 2,
   "id": "b0de460b",
   "metadata": {},
   "outputs": [
    {
     "name": "stdout",
     "output_type": "stream",
     "text": [
      "34\n",
      "30\n",
      "181\n"
     ]
    }
   ],
   "source": [
    "print(dieSimulator(2, [1,1,2,2,2,3]))  # Output: 34\n",
    "print(dieSimulator(2, [1,1,1,1,1,1]))  # Output: 30\n",
    "print(dieSimulator(3, [1,1,1,2,2,3]))  # Output: 181"
   ]
  },
  {
   "cell_type": "code",
   "execution_count": null,
   "id": "fb6ca72d",
   "metadata": {},
   "outputs": [],
   "source": []
  }
 ],
 "metadata": {
  "kernelspec": {
   "display_name": "Python 3 (ipykernel)",
   "language": "python",
   "name": "python3"
  },
  "language_info": {
   "codemirror_mode": {
    "name": "ipython",
    "version": 3
   },
   "file_extension": ".py",
   "mimetype": "text/x-python",
   "name": "python",
   "nbconvert_exporter": "python",
   "pygments_lexer": "ipython3",
   "version": "3.8.11"
  }
 },
 "nbformat": 4,
 "nbformat_minor": 5
}
