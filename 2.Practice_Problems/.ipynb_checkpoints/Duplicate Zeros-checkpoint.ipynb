{
 "cells": [
  {
   "cell_type": "markdown",
   "id": "b6ad6297",
   "metadata": {},
   "source": [
    "# Duplicate Zeros"
   ]
  },
  {
   "cell_type": "markdown",
   "id": "92da5ea4",
   "metadata": {},
   "source": [
    "Given a fixed-length integer array arr, duplicate each occurrence of zero, shifting the remaining elements to the right.\n",
    "\n",
    "Note that elements beyond the length of the original array are not written. Do the above modifications to the input array in place and do not return anything.\n",
    "\n",
    "**Example 1:**\n",
    "\n",
    "Input: arr = [1,0,2,3,0,4,5,0]\n",
    "Output: [1,0,0,2,3,0,0,4]\n",
    "Explanation: After calling your function, the input array is modified to: [1,0,0,2,3,0,0,4]\n",
    "\n",
    "**Example 2:**\n",
    "\n",
    "Input: arr = [1,2,3]\n",
    "Output: [1,2,3]\n",
    "Explanation: After calling your function, the input array is modified to: [1,2,3]\n",
    "\n",
    "**Constraints:**\n",
    "\n",
    "- 1 <= arr.length <= 104\n",
    "- 0 <= arr[i] <= 9"
   ]
  },
  {
   "cell_type": "code",
   "execution_count": 1,
   "id": "12332ee7",
   "metadata": {},
   "outputs": [
    {
     "name": "stdout",
     "output_type": "stream",
     "text": [
      "[1, 0, 0, 2, 3, 0, 0, 4]\n",
      "[1, 2, 3]\n"
     ]
    }
   ],
   "source": [
    "def duplicateZeros(arr):\n",
    "    # First pass: Count the zeros\n",
    "    zeros = 0\n",
    "    length = len(arr)\n",
    "    for num in arr:\n",
    "        if num == 0:\n",
    "            zeros += 1\n",
    "    \n",
    "    # Second pass: Start from the end and shift elements\n",
    "    i = length - 1  # Original array index\n",
    "    j = length + zeros - 1  # Modified array index\n",
    "    \n",
    "    while i < j:\n",
    "        # Check if we are within bounds of the original array\n",
    "        if j < length:\n",
    "            arr[j] = arr[i]\n",
    "        \n",
    "        if arr[i] == 0:\n",
    "            j -= 1\n",
    "            if j < length:\n",
    "                arr[j] = 0\n",
    "        \n",
    "        i -= 1\n",
    "        j -= 1\n",
    "\n",
    "# Example Usage\n",
    "arr1 = [1, 0, 2, 3, 0, 4, 5, 0]\n",
    "duplicateZeros(arr1)\n",
    "print(arr1)  # Output: [1, 0, 0, 2, 3, 0, 0, 4]\n",
    "\n",
    "arr2 = [1, 2, 3]\n",
    "duplicateZeros(arr2)\n",
    "print(arr2)  # Output: [1, 2, 3]"
   ]
  },
  {
   "cell_type": "code",
   "execution_count": null,
   "id": "df54f36c",
   "metadata": {},
   "outputs": [],
   "source": []
  }
 ],
 "metadata": {
  "kernelspec": {
   "display_name": "Python 3 (ipykernel)",
   "language": "python",
   "name": "python3"
  },
  "language_info": {
   "codemirror_mode": {
    "name": "ipython",
    "version": 3
   },
   "file_extension": ".py",
   "mimetype": "text/x-python",
   "name": "python",
   "nbconvert_exporter": "python",
   "pygments_lexer": "ipython3",
   "version": "3.8.11"
  }
 },
 "nbformat": 4,
 "nbformat_minor": 5
}
