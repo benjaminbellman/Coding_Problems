{
 "cells": [
  {
   "cell_type": "markdown",
   "id": "5aea3324",
   "metadata": {},
   "source": [
    "# Maximum Nesting Depth of Two Valid Parentheses Strings"
   ]
  },
  {
   "cell_type": "markdown",
   "id": "759fc020",
   "metadata": {},
   "source": [
    "A string is a valid parentheses string (denoted VPS) if and only if it consists of \"(\" and \")\" characters only, and:\n",
    "\n",
    "It is the empty string, or\n",
    "It can be written as AB (A concatenated with B), where A and B are VPS's, or\n",
    "It can be written as (A), where A is a VPS.\n",
    "We can similarly define the nesting depth depth(S) of any VPS S as follows:\n",
    "\n",
    "depth(\"\") = 0\n",
    "depth(A + B) = max(depth(A), depth(B)), where A and B are VPS's\n",
    "depth(\"(\" + A + \")\") = 1 + depth(A), where A is a VPS.\n",
    "For example,  \"\", \"()()\", and \"()(()())\" are VPS's (with nesting depths 0, 1, and 2), and \")(\" and \"(()\" are not VPS's.\n",
    "\n",
    "Given a VPS seq, split it into two disjoint subsequences A and B, such that A and B are VPS's (and A.length + B.length = seq.length).\n",
    "\n",
    "Now choose any such A and B such that max(depth(A), depth(B)) is the minimum possible value.\n",
    "\n",
    "Return an answer array (of length seq.length) that encodes such a choice of A and B:  answer[i] = 0 if seq[i] is part of A, else answer[i] = 1.  Note that even though multiple answers may exist, you may return any of them.\n",
    "\n",
    "**Example 1:**\n",
    "\n",
    "Input: seq = \"(()())\"\n",
    "Output: [0,1,1,1,1,0]\n",
    "\n",
    "**Example 2:**\n",
    "\n",
    "Input: seq = \"()(())()\"\n",
    "Output: [0,0,0,1,1,0,1,1]\n",
    "\n",
    "**Constraints:**\n",
    "\n",
    "- 1 <= seq.size <= 10000"
   ]
  },
  {
   "cell_type": "code",
   "execution_count": 1,
   "id": "d70b0a94",
   "metadata": {},
   "outputs": [
    {
     "name": "stdout",
     "output_type": "stream",
     "text": [
      "[1, 0, 0, 0, 0, 1]\n",
      "[1, 1, 1, 0, 0, 1, 1, 1]\n"
     ]
    }
   ],
   "source": [
    "def maxDepthAfterSplit(seq: str):\n",
    "    result = []\n",
    "    depth = 0\n",
    "    for char in seq:\n",
    "        if char == '(':\n",
    "            depth += 1\n",
    "            result.append(depth % 2)  # Assign 0 if depth is even, 1 if odd\n",
    "        else:\n",
    "            result.append(depth % 2)  # Assign 0 if depth is even, 1 if odd\n",
    "            depth -= 1\n",
    "    return result\n",
    "\n",
    "# Example test cases\n",
    "print(maxDepthAfterSplit(\"(()())\"))  # Output: [0,1,1,1,1,0]\n",
    "print(maxDepthAfterSplit(\"()(())()\"))  # Output: [0,0,0,1,1,0,1,1]"
   ]
  },
  {
   "cell_type": "code",
   "execution_count": null,
   "id": "dd656492",
   "metadata": {},
   "outputs": [],
   "source": []
  }
 ],
 "metadata": {
  "kernelspec": {
   "display_name": "Python 3 (ipykernel)",
   "language": "python",
   "name": "python3"
  },
  "language_info": {
   "codemirror_mode": {
    "name": "ipython",
    "version": 3
   },
   "file_extension": ".py",
   "mimetype": "text/x-python",
   "name": "python",
   "nbconvert_exporter": "python",
   "pygments_lexer": "ipython3",
   "version": "3.8.11"
  }
 },
 "nbformat": 4,
 "nbformat_minor": 5
}
