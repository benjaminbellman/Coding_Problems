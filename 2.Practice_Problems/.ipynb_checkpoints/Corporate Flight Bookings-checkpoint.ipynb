{
 "cells": [
  {
   "cell_type": "markdown",
   "id": "70942799",
   "metadata": {},
   "source": [
    "# Corporate Flight Bookings"
   ]
  },
  {
   "cell_type": "markdown",
   "id": "80aad38a",
   "metadata": {},
   "source": [
    "There are n flights that are labeled from 1 to n.\n",
    "\n",
    "You are given an array of flight bookings bookings, where bookings[i] = [firsti, lasti, seatsi] represents a booking for flights firsti through lasti (inclusive) with seatsi seats reserved for each flight in the range.\n",
    "\n",
    "Return an array answer of length n, where answer[i] is the total number of seats reserved for flight i.\n",
    "\n",
    "**Example 1:**\n",
    "\n",
    "Input: bookings = [[1,2,10],[2,3,20],[2,5,25]], n = 5\n",
    "Output: [10,55,45,25,25]\n",
    "Explanation:\n",
    "Flight labels:        1   2   3   4   5\n",
    "Booking 1 reserved:  10  10\n",
    "Booking 2 reserved:      20  20\n",
    "Booking 3 reserved:      25  25  25  25\n",
    "Total seats:         10  55  45  25  25\n",
    "Hence, answer = [10,55,45,25,25]\n",
    "\n",
    "**Example 2:**\n",
    "\n",
    "Input: bookings = [[1,2,10],[2,2,15]], n = 2\n",
    "Output: [10,25]\n",
    "Explanation:\n",
    "Flight labels:        1   2\n",
    "Booking 1 reserved:  10  10\n",
    "Booking 2 reserved:      15\n",
    "Total seats:         10  25\n",
    "Hence, answer = [10,25]\n",
    "\n",
    "**Constraints:**\n",
    "\n",
    "- 1 <= n <= 2 * 104\n",
    "- 1 <= bookings.length <= 2 * 104\n",
    "- bookings[i].length == 3\n",
    "- 1 <= firsti <= lasti <= n\n",
    "- 1 <= seatsi <= 104"
   ]
  },
  {
   "cell_type": "code",
   "execution_count": 1,
   "id": "fae5195d",
   "metadata": {},
   "outputs": [
    {
     "name": "stdout",
     "output_type": "stream",
     "text": [
      "[10, 55, 45, 25, 25]\n",
      "[10, 25]\n"
     ]
    }
   ],
   "source": [
    "def corpFlightBookings(bookings, n):\n",
    "    # Step 1: Initialize difference array\n",
    "    diff = [0] * (n + 1)\n",
    "\n",
    "    # Step 2: Apply the range updates\n",
    "    for first, last, seats in bookings:\n",
    "        diff[first] += seats\n",
    "        if last + 1 <= n:\n",
    "            diff[last + 1] -= seats\n",
    "\n",
    "    # Step 3: Compute prefix sum to get final reservations\n",
    "    result = [0] * n\n",
    "    result[0] = diff[1]\n",
    "    for i in range(1, n):\n",
    "        result[i] = result[i - 1] + diff[i + 1]\n",
    "\n",
    "    return result\n",
    "\n",
    "# Example Test Cases\n",
    "print(corpFlightBookings([[1,2,10],[2,3,20],[2,5,25]], 5)) # Output: [10, 55, 45, 25, 25]\n",
    "print(corpFlightBookings([[1,2,10],[2,2,15]], 2)) # Output: [10, 25]"
   ]
  },
  {
   "cell_type": "code",
   "execution_count": null,
   "id": "85cd845d",
   "metadata": {},
   "outputs": [],
   "source": []
  }
 ],
 "metadata": {
  "kernelspec": {
   "display_name": "Python 3 (ipykernel)",
   "language": "python",
   "name": "python3"
  },
  "language_info": {
   "codemirror_mode": {
    "name": "ipython",
    "version": 3
   },
   "file_extension": ".py",
   "mimetype": "text/x-python",
   "name": "python",
   "nbconvert_exporter": "python",
   "pygments_lexer": "ipython3",
   "version": "3.8.11"
  }
 },
 "nbformat": 4,
 "nbformat_minor": 5
}
