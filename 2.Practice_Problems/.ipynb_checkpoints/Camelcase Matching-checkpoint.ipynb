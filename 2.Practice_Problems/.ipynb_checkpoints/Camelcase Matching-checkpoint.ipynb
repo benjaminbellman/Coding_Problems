{
 "cells": [
  {
   "cell_type": "markdown",
   "id": "95a22347",
   "metadata": {},
   "source": [
    "# Camelcase Matching"
   ]
  },
  {
   "cell_type": "markdown",
   "id": "e36aae24",
   "metadata": {},
   "source": [
    "Given an array of strings queries and a string pattern, return a boolean array answer where answer[i] is true if queries[i] matches pattern, and false otherwise.\n",
    "\n",
    "A query word queries[i] matches pattern if you can insert lowercase English letters pattern so that it equals the query. You may insert each character at any position and you may not insert any characters.\n",
    "\n",
    "**Example 1:**\n",
    "\n",
    "Input: queries = [\"FooBar\",\"FooBarTest\",\"FootBall\",\"FrameBuffer\",\"ForceFeedBack\"], pattern = \"FB\"\n",
    "Output: [true,false,true,true,false]\n",
    "Explanation: \"FooBar\" can be generated like this \"F\" + \"oo\" + \"B\" + \"ar\".\n",
    "\"FootBall\" can be generated like this \"F\" + \"oot\" + \"B\" + \"all\".\n",
    "\"FrameBuffer\" can be generated like this \"F\" + \"rame\" + \"B\" + \"uffer\".\n",
    "\n",
    "**Example 2:**\n",
    "\n",
    "Input: queries = [\"FooBar\",\"FooBarTest\",\"FootBall\",\"FrameBuffer\",\"ForceFeedBack\"], pattern = \"FoBa\"\n",
    "Output: [true,false,true,false,false]\n",
    "Explanation: \"FooBar\" can be generated like this \"Fo\" + \"o\" + \"Ba\" + \"r\".\n",
    "\"FootBall\" can be generated like this \"Fo\" + \"ot\" + \"Ba\" + \"ll\".\n",
    "\n",
    "**Example 3:**\n",
    "\n",
    "Input: queries = [\"FooBar\",\"FooBarTest\",\"FootBall\",\"FrameBuffer\",\"ForceFeedBack\"], pattern = \"FoBaT\"\n",
    "Output: [false,true,false,false,false]\n",
    "Explanation: \"FooBarTest\" can be generated like this \"Fo\" + \"o\" + \"Ba\" + \"r\" + \"T\" + \"est\".\n",
    " \n",
    "\n",
    "**Constraints:**\n",
    "\n",
    "- 1 <= pattern.length, queries.length <= 100\n",
    "- 1 <= queries[i].length <= 100\n",
    "- queries[i] and pattern consist of English letters."
   ]
  },
  {
   "cell_type": "code",
   "execution_count": 1,
   "id": "987ba8b0",
   "metadata": {},
   "outputs": [
    {
     "name": "stdout",
     "output_type": "stream",
     "text": [
      "[True, False, True, True, False]\n",
      "[True, False, True, False, False]\n",
      "[False, True, False, False, False]\n"
     ]
    }
   ],
   "source": [
    "def camelMatch(queries, pattern):\n",
    "    def matches(query, pattern):\n",
    "        i, j = 0, 0  # Pointers for query and pattern\n",
    "        while i < len(query):\n",
    "            if j < len(pattern) and query[i] == pattern[j]:\n",
    "                # Match pattern character\n",
    "                j += 1\n",
    "            elif query[i].isupper():\n",
    "                # Invalid if uppercase letter not in pattern\n",
    "                return False\n",
    "            i += 1\n",
    "        # Ensure all pattern characters are matched\n",
    "        return j == len(pattern)\n",
    "\n",
    "    # Process each query and return the results\n",
    "    return [matches(query, pattern) for query in queries]\n",
    "\n",
    "# Example usage\n",
    "queries1 = [\"FooBar\", \"FooBarTest\", \"FootBall\", \"FrameBuffer\", \"ForceFeedBack\"]\n",
    "pattern1 = \"FB\"\n",
    "print(camelMatch(queries1, pattern1))  # Output: [True, False, True, True, False]\n",
    "\n",
    "queries2 = [\"FooBar\", \"FooBarTest\", \"FootBall\", \"FrameBuffer\", \"ForceFeedBack\"]\n",
    "pattern2 = \"FoBa\"\n",
    "print(camelMatch(queries2, pattern2))  # Output: [True, False, True, False, False]\n",
    "\n",
    "queries3 = [\"FooBar\", \"FooBarTest\", \"FootBall\", \"FrameBuffer\", \"ForceFeedBack\"]\n",
    "pattern3 = \"FoBaT\"\n",
    "print(camelMatch(queries3, pattern3))  # Output: [False, True, False, False, False]"
   ]
  },
  {
   "cell_type": "code",
   "execution_count": null,
   "id": "f7897b48",
   "metadata": {},
   "outputs": [],
   "source": []
  }
 ],
 "metadata": {
  "kernelspec": {
   "display_name": "Python 3 (ipykernel)",
   "language": "python",
   "name": "python3"
  },
  "language_info": {
   "codemirror_mode": {
    "name": "ipython",
    "version": 3
   },
   "file_extension": ".py",
   "mimetype": "text/x-python",
   "name": "python",
   "nbconvert_exporter": "python",
   "pygments_lexer": "ipython3",
   "version": "3.8.11"
  }
 },
 "nbformat": 4,
 "nbformat_minor": 5
}
