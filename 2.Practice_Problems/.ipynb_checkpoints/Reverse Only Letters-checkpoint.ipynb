{
 "cells": [
  {
   "cell_type": "markdown",
   "id": "d67683d5",
   "metadata": {},
   "source": [
    "# Reverse Only Letters"
   ]
  },
  {
   "cell_type": "markdown",
   "id": "35ecfefe",
   "metadata": {},
   "source": [
    "Given a string s, reverse the string according to the following rules:\n",
    "\n",
    "All the characters that are not English letters remain in the same position.\n",
    "All the English letters (lowercase or uppercase) should be reversed.\n",
    "Return s after reversing it.\n",
    "\n",
    "**Example 1:**\n",
    "\n",
    "Input: s = \"ab-cd\"\n",
    "Output: \"dc-ba\"\n",
    "\n",
    "**Example 2:**\n",
    "\n",
    "Input: s = \"a-bC-dEf-ghIj\"\n",
    "Output: \"j-Ih-gfE-dCba\"\n",
    "\n",
    "**Example 3:**\n",
    "\n",
    "Input: s = \"Test1ng-Leet=code-Q!\"\n",
    "Output: \"Qedo1ct-eeLg=ntse-T!\"\n",
    "\n",
    "**Constraints:**\n",
    "\n",
    "- 1 <= s.length <= 100\n",
    "- s consists of characters with ASCII values in the range [33, 122].\n",
    "- s does not contain '\\\"' or '\\\\'."
   ]
  },
  {
   "cell_type": "code",
   "execution_count": 1,
   "id": "92107e4e",
   "metadata": {},
   "outputs": [
    {
     "name": "stdout",
     "output_type": "stream",
     "text": [
      "dc-ba\n",
      "j-Ih-gfE-dCba\n",
      "Qedo1ct-eeLg=ntse-T!\n"
     ]
    }
   ],
   "source": [
    "def reverseOnlyLetters(s: str) -> str:\n",
    "    # Step 1: Collect all English letters from the string\n",
    "    letters = [c for c in s if c.isalpha()]\n",
    "    \n",
    "    # Step 2: Reverse the list of letters\n",
    "    letters.reverse()\n",
    "    \n",
    "    # Step 3: Reconstruct the string with reversed letters\n",
    "    result = []\n",
    "    for c in s:\n",
    "        if c.isalpha():\n",
    "            result.append(letters.pop(0))\n",
    "        else:\n",
    "            result.append(c)\n",
    "    \n",
    "    return ''.join(result)\n",
    "\n",
    "# Example usage:\n",
    "print(reverseOnlyLetters(\"ab-cd\"))          # Output: \"dc-ba\"\n",
    "print(reverseOnlyLetters(\"a-bC-dEf-ghIj\"))  # Output: \"j-Ih-gfE-dCba\"\n",
    "print(reverseOnlyLetters(\"Test1ng-Leet=code-Q!\"))  # Output: \"Qedo1ct-eeLg=ntse-T!\""
   ]
  },
  {
   "cell_type": "code",
   "execution_count": null,
   "id": "f25a63e4",
   "metadata": {},
   "outputs": [],
   "source": []
  }
 ],
 "metadata": {
  "kernelspec": {
   "display_name": "Python 3 (ipykernel)",
   "language": "python",
   "name": "python3"
  },
  "language_info": {
   "codemirror_mode": {
    "name": "ipython",
    "version": 3
   },
   "file_extension": ".py",
   "mimetype": "text/x-python",
   "name": "python",
   "nbconvert_exporter": "python",
   "pygments_lexer": "ipython3",
   "version": "3.8.11"
  }
 },
 "nbformat": 4,
 "nbformat_minor": 5
}
