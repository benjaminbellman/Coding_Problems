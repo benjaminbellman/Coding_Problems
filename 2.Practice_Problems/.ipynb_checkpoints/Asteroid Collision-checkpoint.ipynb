{
 "cells": [
  {
   "cell_type": "markdown",
   "id": "a5f96bcd",
   "metadata": {},
   "source": [
    "# Asteroid Collision"
   ]
  },
  {
   "cell_type": "markdown",
   "id": "120f8e4b",
   "metadata": {},
   "source": [
    "We are given an array asteroids of integers representing asteroids in a row.\n",
    "\n",
    "For each asteroid, the absolute value represents its size, and the sign represents its direction (positive meaning right, negative meaning left). Each asteroid moves at the same speed.\n",
    "\n",
    "Find out the state of the asteroids after all collisions. If two asteroids meet, the smaller one will explode. If both are the same size, both will explode. Two asteroids moving in the same direction will never meet.\n",
    "\n",
    " \n",
    "\n",
    "**Example 1:**\n",
    "\n",
    "Input: asteroids = [5,10,-5]\n",
    "\n",
    "Output: [5,10]\n",
    "Explanation: The 10 and -5 collide resulting in 10. The 5 and 10 never collide.\n",
    "\n",
    "**Example 2:**\n",
    "\n",
    "Input: asteroids = [8,-8]\n",
    "\n",
    "Output: []\n",
    "Explanation: The 8 and -8 collide exploding each other.\n",
    "\n",
    "**Example 3:**\n",
    "\n",
    "Input: asteroids = [10,2,-5]\n",
    "Output: [10]\n",
    "Explanation: The 2 and -5 collide resulting in -5. The 10 and -5 collide resulting in 10.\n",
    " \n",
    "\n",
    "**Constraints:**\n",
    "\n",
    "- 2 <= asteroids.length <= 104\n",
    "- -1000 <= asteroids[i] <= 1000"
   ]
  },
  {
   "cell_type": "code",
   "execution_count": 1,
   "id": "612139f4",
   "metadata": {},
   "outputs": [
    {
     "name": "stdout",
     "output_type": "stream",
     "text": [
      "[5, 10]\n",
      "[]\n",
      "[10]\n"
     ]
    }
   ],
   "source": [
    "def asteroidCollision(asteroids):\n",
    "    stack = []\n",
    "\n",
    "    for asteroid in asteroids:\n",
    "        while stack and asteroid < 0 < stack[-1]:\n",
    "            if stack[-1] < -asteroid:\n",
    "                stack.pop()\n",
    "                continue\n",
    "            elif stack[-1] == -asteroid:\n",
    "                stack.pop()\n",
    "            break\n",
    "        else:\n",
    "            stack.append(asteroid)\n",
    "\n",
    "    return stack\n",
    "\n",
    "# Test cases\n",
    "print(asteroidCollision([5,10,-5]))   # Output: [5, 10]\n",
    "print(asteroidCollision([8,-8]))      # Output: []\n",
    "print(asteroidCollision([10,2,-5]))   # Output: [10]"
   ]
  }
 ],
 "metadata": {
  "kernelspec": {
   "display_name": "Python 3",
   "language": "python",
   "name": "python3"
  },
  "language_info": {
   "codemirror_mode": {
    "name": "ipython",
    "version": 3
   },
   "file_extension": ".py",
   "mimetype": "text/x-python",
   "name": "python",
   "nbconvert_exporter": "python",
   "pygments_lexer": "ipython3",
   "version": "3.9.13"
  }
 },
 "nbformat": 4,
 "nbformat_minor": 5
}
