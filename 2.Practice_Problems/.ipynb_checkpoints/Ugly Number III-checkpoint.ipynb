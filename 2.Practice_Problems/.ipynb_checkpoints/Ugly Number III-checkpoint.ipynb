{
 "cells": [
  {
   "cell_type": "markdown",
   "id": "e94d28a5",
   "metadata": {},
   "source": [
    "# Ugly Number III"
   ]
  },
  {
   "cell_type": "markdown",
   "id": "2d004ec7",
   "metadata": {},
   "source": [
    "An ugly number is a positive integer that is divisible by a, b, or c.\n",
    "\n",
    "Given four integers n, a, b, and c, return the nth ugly number.\n",
    "\n",
    "**Example 1:**\n",
    "\n",
    "Input: n = 3, a = 2, b = 3, c = 5\n",
    "Output: 4\n",
    "Explanation: The ugly numbers are 2, 3, 4, 5, 6, 8, 9, 10... The 3rd is 4.\n",
    "\n",
    "**Example 2:**\n",
    "\n",
    "Input: n = 4, a = 2, b = 3, c = 4\n",
    "Output: 6\n",
    "Explanation: The ugly numbers are 2, 3, 4, 6, 8, 9, 10, 12... The 4th is 6.\n",
    "\n",
    "**Example 3:**\n",
    "\n",
    "Input: n = 5, a = 2, b = 11, c = 13\n",
    "Output: 10\n",
    "Explanation: The ugly numbers are 2, 4, 6, 8, 10, 11, 12, 13... The 5th is 10.\n",
    " \n",
    "**Constraints:**\n",
    "\n",
    "- 1 <= n, a, b, c <= 109\n",
    "- 1 <= a * b * c <= 1018\n",
    "- It is guaranteed that the result will be in range [1, 2 * 109]."
   ]
  },
  {
   "cell_type": "code",
   "execution_count": 1,
   "id": "586f8ae1",
   "metadata": {},
   "outputs": [],
   "source": [
    "import math\n",
    "\n",
    "def lcm(x, y):\n",
    "    return x * y // math.gcd(x, y)\n",
    "\n",
    "def nthUglyNumber(n, a, b, c):\n",
    "    # Calculate least common multiples\n",
    "    ab = lcm(a, b)\n",
    "    ac = lcm(a, c)\n",
    "    bc = lcm(b, c)\n",
    "    abc = lcm(ab, c)\n",
    "    \n",
    "    def count(x):\n",
    "        # Inclusion-Exclusion to count ugly numbers ≤ x\n",
    "        return (x // a) + (x // b) + (x // c) - (x // ab) - (x // ac) - (x // bc) + (x // abc)\n",
    "    \n",
    "    # Binary search to find the nth ugly number\n",
    "    left, right = 1, 2 * 10**9\n",
    "    while left < right:\n",
    "        mid = (left + right) // 2\n",
    "        if count(mid) < n:\n",
    "            left = mid + 1\n",
    "        else:\n",
    "            right = mid\n",
    "    return left\n"
   ]
  },
  {
   "cell_type": "code",
   "execution_count": 2,
   "id": "4e2ef55b",
   "metadata": {},
   "outputs": [
    {
     "name": "stdout",
     "output_type": "stream",
     "text": [
      "4\n",
      "6\n",
      "10\n"
     ]
    }
   ],
   "source": [
    "print(nthUglyNumber(3, 2, 3, 5))  # Output: 4\n",
    "print(nthUglyNumber(4, 2, 3, 4))  # Output: 6\n",
    "print(nthUglyNumber(5, 2, 11, 13))  # Output: 10"
   ]
  },
  {
   "cell_type": "code",
   "execution_count": null,
   "id": "ec687784",
   "metadata": {},
   "outputs": [],
   "source": []
  }
 ],
 "metadata": {
  "kernelspec": {
   "display_name": "Python 3 (ipykernel)",
   "language": "python",
   "name": "python3"
  },
  "language_info": {
   "codemirror_mode": {
    "name": "ipython",
    "version": 3
   },
   "file_extension": ".py",
   "mimetype": "text/x-python",
   "name": "python",
   "nbconvert_exporter": "python",
   "pygments_lexer": "ipython3",
   "version": "3.8.11"
  }
 },
 "nbformat": 4,
 "nbformat_minor": 5
}
