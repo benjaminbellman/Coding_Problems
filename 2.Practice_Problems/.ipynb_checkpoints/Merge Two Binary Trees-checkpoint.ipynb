{
 "cells": [
  {
   "cell_type": "markdown",
   "id": "5b89e5ce",
   "metadata": {},
   "source": [
    "# Merge Two Binary Trees"
   ]
  },
  {
   "cell_type": "markdown",
   "id": "3867d23d",
   "metadata": {},
   "source": [
    "You are given two binary trees root1 and root2.\n",
    "\n",
    "Imagine that when you put one of them to cover the other, some nodes of the two trees are overlapped while the others are not. You need to merge the two trees into a new binary tree. The merge rule is that if two nodes overlap, then sum node values up as the new value of the merged node. Otherwise, the NOT null node will be used as the node of the new tree.\n",
    "\n",
    "Return the merged tree.\n",
    "\n",
    "Note: The merging process must start from the root nodes of both trees.\n",
    "\n",
    " \n",
    "\n",
    "**Example 1:**\n",
    "\n",
    "\n",
    "Input: root1 = [1,3,2,5], root2 = [2,1,3,null,4,null,7]\n",
    "\n",
    "Output: [3,4,5,5,4,null,7]\n",
    "\n",
    "**Example 2:**\n",
    "\n",
    "Input: root1 = [1], root2 = [1,2]\n",
    "\n",
    "Output: [2,2]\n",
    " \n",
    "\n",
    "**Constraints:**\n",
    "\n",
    "- The number of nodes in both trees is in the range [0, 2000].\n",
    "- -104 <= Node.val <= 104"
   ]
  },
  {
   "cell_type": "code",
   "execution_count": 1,
   "id": "05093403",
   "metadata": {},
   "outputs": [],
   "source": [
    "class TreeNode:\n",
    "    def __init__(self, val=0, left=None, right=None):\n",
    "        self.val = val\n",
    "        self.left = left\n",
    "        self.right = right\n",
    "\n",
    "def mergeTrees(root1, root2):\n",
    "    # If either node is None, return the other\n",
    "    if not root1:\n",
    "        return root2\n",
    "    if not root2:\n",
    "        return root1\n",
    "\n",
    "    # Merge the values\n",
    "    merged = TreeNode(root1.val + root2.val)\n",
    "\n",
    "    # Recursively merge left and right children\n",
    "    merged.left = mergeTrees(root1.left, root2.left)\n",
    "    merged.right = mergeTrees(root1.right, root2.right)\n",
    "\n",
    "    return merged\n",
    "\n",
    "# Helper function to create a binary tree from a list\n",
    "def createTree(values):\n",
    "    if not values:\n",
    "        return None\n",
    "    root = TreeNode(values[0])\n",
    "    queue = [root]\n",
    "    i = 1\n",
    "    while i < len(values):\n",
    "        node = queue.pop(0)\n",
    "        if values[i] is not None:\n",
    "            node.left = TreeNode(values[i])\n",
    "            queue.append(node.left)\n",
    "        i += 1\n",
    "        if i < len(values) and values[i] is not None:\n",
    "            node.right = TreeNode(values[i])\n",
    "            queue.append(node.right)\n",
    "        i += 1\n",
    "    return root\n",
    "\n",
    "# Example usage\n",
    "root1 = createTree([1,3,2,5])\n",
    "root2 = createTree([2,1,3,None,4,None,7])\n",
    "merged_root = mergeTrees(root1, root2)"
   ]
  },
  {
   "cell_type": "code",
   "execution_count": 2,
   "id": "f6348c19",
   "metadata": {},
   "outputs": [
    {
     "data": {
      "text/plain": [
       "<__main__.TreeNode at 0x1d0407f83a0>"
      ]
     },
     "execution_count": 2,
     "metadata": {},
     "output_type": "execute_result"
    }
   ],
   "source": [
    "merged_root"
   ]
  },
  {
   "cell_type": "code",
   "execution_count": null,
   "id": "4d73a9c3",
   "metadata": {},
   "outputs": [],
   "source": []
  }
 ],
 "metadata": {
  "kernelspec": {
   "display_name": "Python 3",
   "language": "python",
   "name": "python3"
  },
  "language_info": {
   "codemirror_mode": {
    "name": "ipython",
    "version": 3
   },
   "file_extension": ".py",
   "mimetype": "text/x-python",
   "name": "python",
   "nbconvert_exporter": "python",
   "pygments_lexer": "ipython3",
   "version": "3.9.13"
  }
 },
 "nbformat": 4,
 "nbformat_minor": 5
}
