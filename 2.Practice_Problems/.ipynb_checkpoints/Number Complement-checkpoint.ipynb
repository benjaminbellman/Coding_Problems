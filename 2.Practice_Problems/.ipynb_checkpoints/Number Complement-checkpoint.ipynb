{
 "cells": [
  {
   "cell_type": "markdown",
   "id": "cde2afac",
   "metadata": {},
   "source": [
    "# Number Complement"
   ]
  },
  {
   "cell_type": "markdown",
   "id": "8ee4b9c2",
   "metadata": {},
   "source": [
    "The complement of an integer is the integer you get when you flip all the 0's to 1's and all the 1's to 0's in its binary representation.\n",
    "\n",
    "For example, The integer 5 is \"101\" in binary and its complement is \"010\" which is the integer 2.\n",
    "Given an integer num, return its complement.\n",
    "\n",
    " \n",
    "\n",
    "**Example 1:**\n",
    "\n",
    "Input: num = 5\n",
    "Output: 2\n",
    "Explanation: The binary representation of 5 is 101 (no leading zero bits), and its complement is 010. So you need to output 2.\n",
    "\n",
    "**Example 2:**\n",
    "\n",
    "Input: num = 1\n",
    "Output: 0\n",
    "Explanation: The binary representation of 1 is 1 (no leading zero bits), and its complement is 0. So you need to output 0.\n",
    " \n",
    "\n",
    "**Constraints:**\n",
    "\n",
    "- 1 <= num < 231"
   ]
  },
  {
   "cell_type": "code",
   "execution_count": 1,
   "id": "4254536e",
   "metadata": {},
   "outputs": [
    {
     "name": "stdout",
     "output_type": "stream",
     "text": [
      "2\n",
      "0\n"
     ]
    }
   ],
   "source": [
    "def findComplement(num):\n",
    "    # Convert the given integer to its binary representation (without '0b' prefix)\n",
    "    binary_str = bin(num)[2:]\n",
    "    \n",
    "    # Flip the bits\n",
    "    complement_str = ''.join('1' if bit == '0' else '0' for bit in binary_str)\n",
    "    \n",
    "    # Convert the flipped binary representation back to an integer\n",
    "    complement = int(complement_str, 2)\n",
    "    \n",
    "    return complement\n",
    "\n",
    "# Example usage\n",
    "print(findComplement(5))  # Output should be 2\n",
    "print(findComplement(1))  # Output should be 0"
   ]
  }
 ],
 "metadata": {
  "kernelspec": {
   "display_name": "Python 3",
   "language": "python",
   "name": "python3"
  },
  "language_info": {
   "codemirror_mode": {
    "name": "ipython",
    "version": 3
   },
   "file_extension": ".py",
   "mimetype": "text/x-python",
   "name": "python",
   "nbconvert_exporter": "python",
   "pygments_lexer": "ipython3",
   "version": "3.9.13"
  }
 },
 "nbformat": 4,
 "nbformat_minor": 5
}
