{
 "cells": [
  {
   "cell_type": "markdown",
   "id": "65375101",
   "metadata": {},
   "source": [
    "# Swap For Longest Repeated Character Substring"
   ]
  },
  {
   "cell_type": "markdown",
   "id": "402a14aa",
   "metadata": {},
   "source": [
    "You are given a string text. You can swap two of the characters in the text.\n",
    "\n",
    "Return the length of the longest substring with repeated characters.\n",
    "\n",
    "**Example 1:**\n",
    "\n",
    "Input: text = \"ababa\"\n",
    "Output: 3\n",
    "Explanation: We can swap the first 'b' with the last 'a', or the last 'b' with the first 'a'. Then, the longest repeated character substring is \"aaa\" with length 3.\n",
    "\n",
    "**Example 2:**\n",
    "\n",
    "Input: text = \"aaabaaa\"\n",
    "Output: 6\n",
    "Explanation: Swap 'b' with the last 'a' (or the first 'a'), and we get longest repeated character substring \"aaaaaa\" with length 6.\n",
    "\n",
    "**Example 3:**\n",
    "\n",
    "Input: text = \"aaaaa\"\n",
    "Output: 5\n",
    "Explanation: No need to swap, longest repeated character substring is \"aaaaa\" with length is 5.\n",
    " \n",
    "**Constraints:**\n",
    "\n",
    "- 1 <= text.length <= 2 * 104\n",
    "- text consist of lowercase English characters only."
   ]
  },
  {
   "cell_type": "code",
   "execution_count": 1,
   "id": "19036bdc",
   "metadata": {},
   "outputs": [
    {
     "name": "stdout",
     "output_type": "stream",
     "text": [
      "2\n",
      "4\n",
      "5\n"
     ]
    }
   ],
   "source": [
    "def maxRepAfterSwap(text: str) -> int:\n",
    "    from collections import Counter\n",
    "    \n",
    "    # Step 1: Count the frequency of each character\n",
    "    freq = Counter(text)\n",
    "    \n",
    "    # Step 2: Identify contiguous blocks of the same character\n",
    "    groups = []  # (character, length, start index)\n",
    "    n = len(text)\n",
    "    i = 0\n",
    "    \n",
    "    while i < n:\n",
    "        j = i\n",
    "        while j < n and text[j] == text[i]:\n",
    "            j += 1\n",
    "        groups.append((text[i], j - i, i))\n",
    "        i = j  # Move to the next different character\n",
    "    \n",
    "    # Step 3: Compute the max possible length of a repeated character substring\n",
    "    max_length = max(length for _, length, _ in groups)  # Initial max length\n",
    "    \n",
    "    # Step 4: Check swap scenarios\n",
    "    for k in range(len(groups)):\n",
    "        char, length, index = groups[k]\n",
    "        \n",
    "        # Case 1: Can we increase this block by one using extra available characters?\n",
    "        if freq[char] > length:\n",
    "            max_length = max(max_length, length + 1)\n",
    "        \n",
    "        # Case 2: Check if we can merge two blocks separated by one character\n",
    "        if k > 0 and k < len(groups) - 1:\n",
    "            prev_char, prev_length, prev_index = groups[k - 1]\n",
    "            next_char, next_length, next_index = groups[k + 1]\n",
    "            \n",
    "            if prev_char == next_char and next_index == index + length + 1:\n",
    "                possible_length = prev_length + next_length\n",
    "                if freq[prev_char] > possible_length:  # Extra available swap\n",
    "                    possible_length += 1\n",
    "                max_length = max(max_length, possible_length)\n",
    "    \n",
    "    return max_length\n",
    "\n",
    "# Example test cases\n",
    "print(maxRepAfterSwap(\"ababa\"))     # Output: 3\n",
    "print(maxRepAfterSwap(\"aaabaaa\"))   # Output: 6\n",
    "print(maxRepAfterSwap(\"aaaaa\"))     # Output: 5"
   ]
  },
  {
   "cell_type": "code",
   "execution_count": null,
   "id": "93a2d1ee",
   "metadata": {},
   "outputs": [],
   "source": []
  }
 ],
 "metadata": {
  "kernelspec": {
   "display_name": "Python 3 (ipykernel)",
   "language": "python",
   "name": "python3"
  },
  "language_info": {
   "codemirror_mode": {
    "name": "ipython",
    "version": 3
   },
   "file_extension": ".py",
   "mimetype": "text/x-python",
   "name": "python",
   "nbconvert_exporter": "python",
   "pygments_lexer": "ipython3",
   "version": "3.8.11"
  }
 },
 "nbformat": 4,
 "nbformat_minor": 5
}
