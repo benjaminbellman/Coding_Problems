{
 "cells": [
  {
   "cell_type": "markdown",
   "id": "26eafd35",
   "metadata": {},
   "source": [
    "# Patching Array"
   ]
  },
  {
   "cell_type": "markdown",
   "id": "8624478a",
   "metadata": {},
   "source": [
    "Given a sorted integer array nums and an integer n, add/patch elements to the array such that any number in the range [1, n] inclusive can be formed by the sum of some elements in the array.\n",
    "\n",
    "Return the minimum number of patches required.\n",
    "\n",
    " \n",
    "\n",
    "**Example 1:**\n",
    "\n",
    "Input: nums = [1,3], n = 6\n",
    "Output: 1\n",
    "Explanation:\n",
    "Combinations of nums are [1], [3], [1,3], which form possible sums of: 1, 3, 4.\n",
    "Now if we add/patch 2 to nums, the combinations are: [1], [2], [3], [1,3], [2,3], [1,2,3].\n",
    "Possible sums are 1, 2, 3, 4, 5, 6, which now covers the range [1, 6].\n",
    "So we only need 1 patch.\n",
    "\n",
    "**Example 2:**\n",
    "\n",
    "Input: nums = [1,5,10], n = 20\n",
    "Output: 2\n",
    "Explanation: The two patches can be [2, 4].\n",
    "\n",
    "**Example 3:**\n",
    "\n",
    "Input: nums = [1,2,2], n = 5\n",
    "Output: 0\n",
    " \n",
    "\n",
    "**Constraints:**\n",
    "\n",
    "1 <= nums.length <= 1000\n",
    "1 <= nums[i] <= 104\n",
    "nums is sorted in ascending order.\n",
    "1 <= n <= 231 - 1"
   ]
  },
  {
   "cell_type": "code",
   "execution_count": 1,
   "id": "5419c359",
   "metadata": {},
   "outputs": [
    {
     "name": "stdout",
     "output_type": "stream",
     "text": [
      "1\n",
      "2\n",
      "0\n"
     ]
    }
   ],
   "source": [
    "def minPatches(nums, n):\n",
    "    patches = 0\n",
    "    covered_range = 0\n",
    "    i = 0\n",
    "\n",
    "    while covered_range < n:\n",
    "        if i < len(nums) and nums[i] <= covered_range + 1:\n",
    "            covered_range += nums[i]\n",
    "            i += 1\n",
    "        else:\n",
    "            covered_range += covered_range + 1\n",
    "            patches += 1\n",
    "\n",
    "    return patches\n",
    "\n",
    "# Testing the code with the given examples\n",
    "nums1 = [1, 3]\n",
    "n1 = 6\n",
    "print(minPatches(nums1, n1))  # Output: 1\n",
    "\n",
    "nums2 = [1, 5, 10]\n",
    "n2 = 20\n",
    "print(minPatches(nums2, n2))  # Output: 2\n",
    "\n",
    "nums3 = [1, 2, 2]\n",
    "n3 = 5\n",
    "print(minPatches(nums3, n3))  # Output: 0"
   ]
  }
 ],
 "metadata": {
  "kernelspec": {
   "display_name": "Python 3",
   "language": "python",
   "name": "python3"
  },
  "language_info": {
   "codemirror_mode": {
    "name": "ipython",
    "version": 3
   },
   "file_extension": ".py",
   "mimetype": "text/x-python",
   "name": "python",
   "nbconvert_exporter": "python",
   "pygments_lexer": "ipython3",
   "version": "3.9.13"
  }
 },
 "nbformat": 4,
 "nbformat_minor": 5
}
