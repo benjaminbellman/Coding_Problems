{
 "cells": [
  {
   "cell_type": "markdown",
   "id": "c9e02c7b",
   "metadata": {},
   "source": [
    "# Flower Planting With No Adjacent"
   ]
  },
  {
   "cell_type": "markdown",
   "id": "13a00d7c",
   "metadata": {},
   "source": [
    "You have n gardens, labeled from 1 to n, and an array paths where paths[i] = [xi, yi] describes a bidirectional path between garden xi to garden yi. In each garden, you want to plant one of 4 types of flowers.\n",
    "\n",
    "All gardens have at most 3 paths coming into or leaving it.\n",
    "\n",
    "Your task is to choose a flower type for each garden such that, for any two gardens connected by a path, they have different types of flowers.\n",
    "\n",
    "Return any such a choice as an array answer, where answer[i] is the type of flower planted in the (i+1)th garden. The flower types are denoted 1, 2, 3, or 4. It is guaranteed an answer exists.\n",
    "\n",
    "**Example 1:**\n",
    "\n",
    "Input: n = 3, paths = [[1,2],[2,3],[3,1]]\n",
    "Output: [1,2,3]\n",
    "Explanation:\n",
    "Gardens 1 and 2 have different types.\n",
    "Gardens 2 and 3 have different types.\n",
    "Gardens 3 and 1 have different types.\n",
    "Hence, [1,2,3] is a valid answer. Other valid answers include [1,2,4], [1,4,2], and [3,2,1].\n",
    "\n",
    "**Example 2:**\n",
    "\n",
    "Input: n = 4, paths = [[1,2],[3,4]]\n",
    "Output: [1,2,1,2]\n",
    "\n",
    "**Example 3:**\n",
    "\n",
    "Input: n = 4, paths = [[1,2],[2,3],[3,4],[4,1],[1,3],[2,4]]\n",
    "Output: [1,2,3,4]\n",
    " \n",
    "**Constraints:**\n",
    "\n",
    "- 1 <= n <= 104\n",
    "- 0 <= paths.length <= 2 * 104\n",
    "- paths[i].length == 2\n",
    "- 1 <= xi, yi <= n\n",
    "- xi != yi\n",
    "- Every garden has at most 3 paths coming into or leaving it."
   ]
  },
  {
   "cell_type": "code",
   "execution_count": 1,
   "id": "02fbdf55",
   "metadata": {},
   "outputs": [
    {
     "name": "stdout",
     "output_type": "stream",
     "text": [
      "[1, 2, 3]\n",
      "[1, 2, 1, 2]\n",
      "[1, 2, 3, 4]\n"
     ]
    }
   ],
   "source": [
    "def gardenNoAdj(n, paths):\n",
    "    # Build adjacency list for the gardens\n",
    "    graph = [[] for _ in range(n)]\n",
    "    for x, y in paths:\n",
    "        graph[x-1].append(y-1)\n",
    "        graph[y-1].append(x-1)\n",
    "\n",
    "    # Result array to store the flower type for each garden\n",
    "    res = [0] * n\n",
    "\n",
    "    # We have 4 possible flower types: 1, 2, 3, 4\n",
    "    # Since each garden has at most degree 3, we can just greedily assign\n",
    "    # a flower type different from its neighbors.\n",
    "    for i in range(n):\n",
    "        # Find the colors used by neighbors\n",
    "        used = {res[nei] for nei in graph[i] if res[nei] != 0}\n",
    "\n",
    "        # Assign the first available color from 1 to 4 that's not used\n",
    "        for color in range(1, 5):\n",
    "            if color not in used:\n",
    "                res[i] = color\n",
    "                break\n",
    "\n",
    "    return res\n",
    "\n",
    "# Example usage:\n",
    "print(gardenNoAdj(3, [[1,2],[2,3],[3,1]]))  # Output could be [1, 2, 3]\n",
    "print(gardenNoAdj(4, [[1,2],[3,4]]))        # Output could be [1, 2, 1, 2]\n",
    "print(gardenNoAdj(4, [[1,2],[2,3],[3,4],[4,1],[1,3],[2,4]])) # Output could be [1,2,3,4]"
   ]
  },
  {
   "cell_type": "code",
   "execution_count": null,
   "id": "2a944d2b",
   "metadata": {},
   "outputs": [],
   "source": []
  }
 ],
 "metadata": {
  "kernelspec": {
   "display_name": "Python 3 (ipykernel)",
   "language": "python",
   "name": "python3"
  },
  "language_info": {
   "codemirror_mode": {
    "name": "ipython",
    "version": 3
   },
   "file_extension": ".py",
   "mimetype": "text/x-python",
   "name": "python",
   "nbconvert_exporter": "python",
   "pygments_lexer": "ipython3",
   "version": "3.8.11"
  }
 },
 "nbformat": 4,
 "nbformat_minor": 5
}
