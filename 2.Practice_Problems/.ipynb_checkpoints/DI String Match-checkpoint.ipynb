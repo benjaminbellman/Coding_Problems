{
 "cells": [
  {
   "cell_type": "markdown",
   "id": "7f099de8",
   "metadata": {},
   "source": [
    "# DI String Match"
   ]
  },
  {
   "cell_type": "markdown",
   "id": "7c787002",
   "metadata": {},
   "source": [
    "A permutation perm of n + 1 integers of all the integers in the range [0, n] can be represented as a string s of length n where:\n",
    "\n",
    "    - s[i] == 'I' if perm[i] < perm[i + 1], and\n",
    "    - s[i] == 'D' if perm[i] > perm[i + 1].\n",
    "Given a string s, reconstruct the permutation perm and return it. If there are multiple valid permutations perm, return any of them.\n",
    "\n",
    "**Example 1:**\n",
    "\n",
    "Input: s = \"IDID\"\n",
    "Output: [0,4,1,3,2]\n",
    "\n",
    "**Example 2:**\n",
    "\n",
    "Input: s = \"III\"\n",
    "Output: [0,1,2,3]\n",
    "\n",
    "**Example 3:**\n",
    "\n",
    "Input: s = \"DDI\"\n",
    "Output: [3,2,0,1]\n",
    " \n",
    "\n",
    "**Constraints:**\n",
    "\n",
    "- 1 <= s.length <= 105\n",
    "- s[i] is either 'I' or 'D'."
   ]
  },
  {
   "cell_type": "code",
   "execution_count": 1,
   "id": "9c5fcd94",
   "metadata": {},
   "outputs": [],
   "source": [
    "def diStringMatch(s: str):\n",
    "    n = len(s)\n",
    "    low, high = 0, n\n",
    "    result = []\n",
    "    \n",
    "    for char in s:\n",
    "        if char == 'I':\n",
    "            result.append(low)\n",
    "            low += 1\n",
    "        else:  # char == 'D'\n",
    "            result.append(high)\n",
    "            high -= 1\n",
    "    \n",
    "    # Append the last remaining number\n",
    "    result.append(low)  # low and high should be the same at this point\n",
    "    \n",
    "    return result"
   ]
  },
  {
   "cell_type": "code",
   "execution_count": null,
   "id": "a0d6e20d",
   "metadata": {},
   "outputs": [],
   "source": []
  }
 ],
 "metadata": {
  "kernelspec": {
   "display_name": "Python 3 (ipykernel)",
   "language": "python",
   "name": "python3"
  },
  "language_info": {
   "codemirror_mode": {
    "name": "ipython",
    "version": 3
   },
   "file_extension": ".py",
   "mimetype": "text/x-python",
   "name": "python",
   "nbconvert_exporter": "python",
   "pygments_lexer": "ipython3",
   "version": "3.8.11"
  }
 },
 "nbformat": 4,
 "nbformat_minor": 5
}
