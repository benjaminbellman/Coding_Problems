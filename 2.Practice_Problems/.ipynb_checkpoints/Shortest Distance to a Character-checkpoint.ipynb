{
 "cells": [
  {
   "cell_type": "markdown",
   "id": "3425909e",
   "metadata": {},
   "source": [
    "# Shortest Distance to a Character"
   ]
  },
  {
   "cell_type": "markdown",
   "id": "333aceee",
   "metadata": {},
   "source": [
    "Given a string s and a character c that occurs in s, return an array of integers answer where answer.length == s.length and answer[i] is the distance from index i to the closest occurrence of character c in s.\n",
    "\n",
    "The distance between two indices i and j is abs(i - j), where abs is the absolute value function.\n",
    "\n",
    " \n",
    "\n",
    "**Example 1:**\n",
    "\n",
    "Input: s = \"loveleetcode\", c = \"e\"\n",
    "Output: [3,2,1,0,1,0,0,1,2,2,1,0]\n",
    "Explanation: The character 'e' appears at indices 3, 5, 6, and 11 (0-indexed).\n",
    "The closest occurrence of 'e' for index 0 is at index 3, so the distance is abs(0 - 3) = 3.\n",
    "The closest occurrence of 'e' for index 1 is at index 3, so the distance is abs(1 - 3) = 2.\n",
    "For index 4, there is a tie between the 'e' at index 3 and the 'e' at index 5, but the distance is still the same: abs(4 - 3) == abs(4 - 5) = 1.\n",
    "The closest occurrence of 'e' for index 8 is at index 6, so the distance is abs(8 - 6) = 2.\n",
    "\n",
    "**Example 2:**\n",
    "\n",
    "Input: s = \"aaab\", c = \"b\"\n",
    "Output: [3,2,1,0]\n",
    " \n",
    "\n",
    "**Constraints:**\n",
    "\n",
    "- 1 <= s.length <= 104\n",
    "- s[i] and c are lowercase English letters.\n",
    "- It is guaranteed that c occurs at least once in s."
   ]
  },
  {
   "cell_type": "code",
   "execution_count": 1,
   "id": "cbda5619",
   "metadata": {},
   "outputs": [],
   "source": [
    "def shortest_distance_to_char(s, c):\n",
    "    n = len(s)\n",
    "    answer = [float('inf')] * n\n",
    "    prev = float('-inf')\n",
    "    \n",
    "    # Iterate from left to right to find distances to the left\n",
    "    for i in range(n):\n",
    "        if s[i] == c:\n",
    "            prev = i\n",
    "        answer[i] = min(answer[i], abs(i - prev))\n",
    "    \n",
    "    prev = float('inf')\n",
    "    \n",
    "    # Iterate from right to left to find distances to the right\n",
    "    for i in range(n - 1, -1, -1):\n",
    "        if s[i] == c:\n",
    "            prev = i\n",
    "        answer[i] = min(answer[i], abs(i - prev))\n",
    "    \n",
    "    return answer"
   ]
  },
  {
   "cell_type": "code",
   "execution_count": 2,
   "id": "ee41c0f1",
   "metadata": {},
   "outputs": [
    {
     "name": "stdout",
     "output_type": "stream",
     "text": [
      "[3, 2, 1, 0, 1, 0, 0, 1, 2, 2, 1, 0]\n",
      "[3, 2, 1, 0]\n"
     ]
    }
   ],
   "source": [
    "# Example 1\n",
    "s1 = \"loveleetcode\"\n",
    "c1 = \"e\"\n",
    "print(shortest_distance_to_char(s1, c1))  # Output: [3, 2, 1, 0, 1, 0, 0, 1, 2, 2, 1, 0]\n",
    "\n",
    "# Example 2\n",
    "s2 = \"aaab\"\n",
    "c2 = \"b\"\n",
    "print(shortest_distance_to_char(s2, c2))  # Output: [3, 2, 1, 0]"
   ]
  },
  {
   "cell_type": "code",
   "execution_count": null,
   "id": "685dcdfa",
   "metadata": {},
   "outputs": [],
   "source": []
  }
 ],
 "metadata": {
  "kernelspec": {
   "display_name": "Python 3",
   "language": "python",
   "name": "python3"
  },
  "language_info": {
   "codemirror_mode": {
    "name": "ipython",
    "version": 3
   },
   "file_extension": ".py",
   "mimetype": "text/x-python",
   "name": "python",
   "nbconvert_exporter": "python",
   "pygments_lexer": "ipython3",
   "version": "3.9.13"
  }
 },
 "nbformat": 4,
 "nbformat_minor": 5
}
