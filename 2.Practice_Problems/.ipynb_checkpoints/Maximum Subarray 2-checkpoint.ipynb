{
 "cells": [
  {
   "cell_type": "markdown",
   "id": "ec5bc9ce",
   "metadata": {},
   "source": [
    "# Maximum Subarray 2"
   ]
  },
  {
   "cell_type": "markdown",
   "id": "84b10d13",
   "metadata": {},
   "source": [
    "Given an integer array nums, find the subarray with the largest sum, and return its sum.\n",
    "\n",
    "**Example 1:**\n",
    "\n",
    "Input: nums = [-2,1,-3,4,-1,2,1,-5,4]\n",
    "Output: 6\n",
    "Explanation: The subarray [4,-1,2,1] has the largest sum 6.\n",
    "\n",
    "**Example 2:**\n",
    "\n",
    "Input: nums = [1]\n",
    "Output: 1\n",
    "Explanation: The subarray [1] has the largest sum 1.\n",
    "\n",
    "**Example 3:**\n",
    "\n",
    "Input: nums = [5,4,-1,7,8]\n",
    "Output: 23\n",
    "Explanation: The subarray [5,4,-1,7,8] has the largest sum 23.\n",
    " \n",
    "**Constraints:**\n",
    "\n",
    "- 1 <= nums.length <= 105\n",
    "- -104 <= nums[i] <= 104"
   ]
  },
  {
   "cell_type": "code",
   "execution_count": 1,
   "id": "b5e8a5e0",
   "metadata": {},
   "outputs": [],
   "source": [
    "def max_sub_array(nums):\n",
    "    max_current = max_global = nums[0]\n",
    "    \n",
    "    for num in nums[1:]:\n",
    "        max_current = max(num, max_current + num)\n",
    "        max_global = max(max_global, max_current)\n",
    "    \n",
    "    return max_global"
   ]
  },
  {
   "cell_type": "code",
   "execution_count": 2,
   "id": "2991236c",
   "metadata": {},
   "outputs": [
    {
     "name": "stdout",
     "output_type": "stream",
     "text": [
      "6\n",
      "1\n",
      "23\n"
     ]
    }
   ],
   "source": [
    "print(max_sub_array([-2,1,-3,4,-1,2,1,-5,4]))  # Output: 6\n",
    "print(max_sub_array([1]))                     # Output: 1\n",
    "print(max_sub_array([5,4,-1,7,8]))            # Output: 23"
   ]
  },
  {
   "cell_type": "code",
   "execution_count": null,
   "id": "52b09418",
   "metadata": {},
   "outputs": [],
   "source": []
  }
 ],
 "metadata": {
  "kernelspec": {
   "display_name": "Python 3 (ipykernel)",
   "language": "python",
   "name": "python3"
  },
  "language_info": {
   "codemirror_mode": {
    "name": "ipython",
    "version": 3
   },
   "file_extension": ".py",
   "mimetype": "text/x-python",
   "name": "python",
   "nbconvert_exporter": "python",
   "pygments_lexer": "ipython3",
   "version": "3.8.11"
  }
 },
 "nbformat": 4,
 "nbformat_minor": 5
}
