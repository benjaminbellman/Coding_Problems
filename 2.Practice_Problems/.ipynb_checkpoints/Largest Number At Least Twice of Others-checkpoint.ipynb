{
 "cells": [
  {
   "cell_type": "markdown",
   "id": "b22c6277",
   "metadata": {},
   "source": [
    "# Largest Number At Least Twice of Others"
   ]
  },
  {
   "cell_type": "markdown",
   "id": "548b6530",
   "metadata": {},
   "source": [
    "- You are given an integer array nums where the largest integer is unique.\n",
    "\n",
    "Determine whether the largest element in the array is at least twice as much as every other number in the array. If it is, return the index of the largest element, or return -1 otherwise.\n",
    "\n",
    " \n",
    "\n",
    "**Example 1:**\n",
    "\n",
    "Input: nums = [3,6,1,0]\n",
    "Output: 1\n",
    "Explanation: 6 is the largest integer.\n",
    "For every other number in the array x, 6 is at least twice as big as x.\n",
    "The index of value 6 is 1, so we return 1.\n",
    "\n",
    "**Example 2:**\n",
    "\n",
    "Input: nums = [1,2,3,4]\n",
    "Output: -1\n",
    "Explanation: 4 is less than twice the value of 3, so we return -1.\n",
    "\n",
    "**Constraints:**\n",
    "- 2 <= nums.length <= 50\n",
    "- 0 <= nums[i] <= 100\n",
    "- The largest element in nums is unique."
   ]
  },
  {
   "cell_type": "code",
   "execution_count": 1,
   "id": "5e0b1d21",
   "metadata": {},
   "outputs": [
    {
     "name": "stdout",
     "output_type": "stream",
     "text": [
      "1\n",
      "-1\n"
     ]
    }
   ],
   "source": [
    "def dominantIndex(nums):\n",
    "    max_num = max(nums)\n",
    "    max_index = nums.index(max_num)\n",
    "    \n",
    "    for num in nums:\n",
    "        if num != max_num and max_num < 2 * num:\n",
    "            return -1\n",
    "    \n",
    "    return max_index\n",
    "\n",
    "# Example usage:\n",
    "nums1 = [3, 6, 1, 0]\n",
    "print(dominantIndex(nums1))  # Output: 1\n",
    "\n",
    "nums2 = [1, 2, 3, 4]\n",
    "print(dominantIndex(nums2))  # Output: -1"
   ]
  },
  {
   "cell_type": "code",
   "execution_count": null,
   "id": "1cab20e8",
   "metadata": {},
   "outputs": [],
   "source": []
  }
 ],
 "metadata": {
  "kernelspec": {
   "display_name": "Python 3",
   "language": "python",
   "name": "python3"
  },
  "language_info": {
   "codemirror_mode": {
    "name": "ipython",
    "version": 3
   },
   "file_extension": ".py",
   "mimetype": "text/x-python",
   "name": "python",
   "nbconvert_exporter": "python",
   "pygments_lexer": "ipython3",
   "version": "3.9.13"
  }
 },
 "nbformat": 4,
 "nbformat_minor": 5
}
