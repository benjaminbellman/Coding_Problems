{
 "cells": [
  {
   "cell_type": "markdown",
   "id": "dc47d3c9",
   "metadata": {},
   "source": [
    "# Lexicographical Numbers"
   ]
  },
  {
   "cell_type": "markdown",
   "id": "3ede15e7",
   "metadata": {},
   "source": [
    "Given an integer n, return all the numbers in the range [1, n] sorted in lexicographical order.\n",
    "\n",
    "You must write an algorithm that runs in O(n) time and uses O(1) extra space. \n",
    "\n",
    " \n",
    "\n",
    "**Example 1:**\n",
    "\n",
    "Input: n = 13\n",
    "Output: [1,10,11,12,13,2,3,4,5,6,7,8,9]\n",
    "\n",
    "**Example 2:**\n",
    "\n",
    "Input: n = 2\n",
    "Output: [1,2]\n",
    " \n",
    "\n",
    "**Constraints:**\n",
    "\n",
    "1 <= n <= 5 * 104"
   ]
  },
  {
   "cell_type": "code",
   "execution_count": 2,
   "id": "09e69107",
   "metadata": {},
   "outputs": [],
   "source": [
    "class Solution:\n",
    "    def lexicalOrder(self, n: int) -> list[int]:\n",
    "        result = []\n",
    "        current = 1\n",
    "        for i in range(n):\n",
    "            result.append(current)\n",
    "            if current * 10 <= n:\n",
    "                current *= 10\n",
    "            else:\n",
    "                if current >= n:\n",
    "                    current //= 10\n",
    "                current += 1\n",
    "                while current % 10 == 0:\n",
    "                    current //= 10\n",
    "        return result"
   ]
  },
  {
   "cell_type": "code",
   "execution_count": 6,
   "id": "4a825588",
   "metadata": {},
   "outputs": [],
   "source": [
    "solution = Solution()\n",
    "assert solution.lexicalOrder(13) == [1,10,11,12,13,2,3,4,5,6,7,8,9]\n",
    "assert solution.lexicalOrder(2) == [1,2]"
   ]
  },
  {
   "cell_type": "code",
   "execution_count": null,
   "id": "cdbc92b8",
   "metadata": {},
   "outputs": [],
   "source": []
  }
 ],
 "metadata": {
  "kernelspec": {
   "display_name": "Python 3",
   "language": "python",
   "name": "python3"
  },
  "language_info": {
   "codemirror_mode": {
    "name": "ipython",
    "version": 3
   },
   "file_extension": ".py",
   "mimetype": "text/x-python",
   "name": "python",
   "nbconvert_exporter": "python",
   "pygments_lexer": "ipython3",
   "version": "3.9.13"
  }
 },
 "nbformat": 4,
 "nbformat_minor": 5
}
