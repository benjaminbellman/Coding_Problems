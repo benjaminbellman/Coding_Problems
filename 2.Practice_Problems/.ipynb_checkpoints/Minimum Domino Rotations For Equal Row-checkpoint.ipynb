{
 "cells": [
  {
   "cell_type": "markdown",
   "id": "1ae8ef9b",
   "metadata": {},
   "source": [
    "# Minimum Domino Rotations For Equal Row"
   ]
  },
  {
   "cell_type": "markdown",
   "id": "4d534361",
   "metadata": {},
   "source": [
    "In a row of dominoes, tops[i] and bottoms[i] represent the top and bottom halves of the ith domino. (A domino is a tile with two numbers from 1 to 6 - one on each half of the tile.)\n",
    "\n",
    "We may rotate the ith domino, so that tops[i] and bottoms[i] swap values.\n",
    "\n",
    "Return the minimum number of rotations so that all the values in tops are the same, or all the values in bottoms are the same.\n",
    "\n",
    "If it cannot be done, return -1.\n",
    "\n",
    "**Example 1:**\n",
    "\n",
    "Input: tops = [2,1,2,4,2,2], bottoms = [5,2,6,2,3,2]\n",
    "Output: 2\n",
    "Explanation: \n",
    "The first figure represents the dominoes as given by tops and bottoms: before we do any rotations.\n",
    "If we rotate the second and fourth dominoes, we can make every value in the top row equal to 2, as indicated by the second figure.\n",
    "\n",
    "**Example 2:**\n",
    "\n",
    "Input: tops = [3,5,1,2,3], bottoms = [3,6,3,3,4]\n",
    "Output: -1\n",
    "Explanation: \n",
    "In this case, it is not possible to rotate the dominoes to make one row of values equal.\n",
    " \n",
    "\n",
    "**Constraints:**\n",
    "\n",
    "- 2 <= tops.length <= 2 * 104\n",
    "- bottoms.length == tops.length\n",
    "- 1 <= tops[i], bottoms[i] <= 6"
   ]
  },
  {
   "cell_type": "code",
   "execution_count": 1,
   "id": "1d6bed5c",
   "metadata": {},
   "outputs": [],
   "source": [
    "def minDominoRotations(tops, bottoms):\n",
    "    def check(x):\n",
    "        rotations_top = rotations_bottom = 0\n",
    "        for i in range(len(tops)):\n",
    "            if tops[i] != x and bottoms[i] != x:\n",
    "                return float('inf')  # Impossible to make all elements equal to x\n",
    "            elif tops[i] != x:  # Need to rotate top to make it x\n",
    "                rotations_top += 1\n",
    "            elif bottoms[i] != x:  # Need to rotate bottom to make it x\n",
    "                rotations_bottom += 1\n",
    "        return min(rotations_top, rotations_bottom)\n",
    "\n",
    "    # We only need to check tops[0] and bottoms[0]\n",
    "    rotations = min(check(tops[0]), check(bottoms[0]))\n",
    "    return -1 if rotations == float('inf') else rotations"
   ]
  },
  {
   "cell_type": "code",
   "execution_count": null,
   "id": "964d3a3b",
   "metadata": {},
   "outputs": [],
   "source": []
  }
 ],
 "metadata": {
  "kernelspec": {
   "display_name": "Python 3 (ipykernel)",
   "language": "python",
   "name": "python3"
  },
  "language_info": {
   "codemirror_mode": {
    "name": "ipython",
    "version": 3
   },
   "file_extension": ".py",
   "mimetype": "text/x-python",
   "name": "python",
   "nbconvert_exporter": "python",
   "pygments_lexer": "ipython3",
   "version": "3.8.11"
  }
 },
 "nbformat": 4,
 "nbformat_minor": 5
}
