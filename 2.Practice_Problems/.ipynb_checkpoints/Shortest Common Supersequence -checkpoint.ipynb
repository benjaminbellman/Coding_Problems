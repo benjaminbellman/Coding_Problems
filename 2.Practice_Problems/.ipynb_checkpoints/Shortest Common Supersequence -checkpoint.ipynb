{
 "cells": [
  {
   "cell_type": "markdown",
   "id": "dede0808",
   "metadata": {},
   "source": [
    "# Shortest Common Supersequence "
   ]
  },
  {
   "cell_type": "markdown",
   "id": "5eff8765",
   "metadata": {},
   "source": [
    "Given two strings str1 and str2, return the shortest string that has both str1 and str2 as subsequences. If there are multiple valid strings, return any of them.\n",
    "\n",
    "A string s is a subsequence of string t if deleting some number of characters from t (possibly 0) results in the string s.\n",
    "\n",
    "**Example 1:**\n",
    "\n",
    "Input: str1 = \"abac\", str2 = \"cab\"\n",
    "Output: \"cabac\"\n",
    "Explanation: \n",
    "str1 = \"abac\" is a subsequence of \"cabac\" because we can delete the first \"c\".\n",
    "str2 = \"cab\" is a subsequence of \"cabac\" because we can delete the last \"ac\".\n",
    "The answer provided is the shortest such string that satisfies these properties.\n",
    "\n",
    "**Example 2:**\n",
    "\n",
    "Input: str1 = \"aaaaaaaa\", str2 = \"aaaaaaaa\"\n",
    "Output: \"aaaaaaaa\"\n",
    "\n",
    "**Constraints:**\n",
    "\n",
    "- 1 <= str1.length, str2.length <= 1000\n",
    "- str1 and str2 consist of lowercase English letters."
   ]
  },
  {
   "cell_type": "code",
   "execution_count": 1,
   "id": "33751a57",
   "metadata": {},
   "outputs": [
    {
     "name": "stdout",
     "output_type": "stream",
     "text": [
      "cabac\n"
     ]
    }
   ],
   "source": [
    "def shortestCommonSupersequence(str1, str2):\n",
    "    # Step 1: Compute LCS using Dynamic Programming\n",
    "    m, n = len(str1), len(str2)\n",
    "    dp = [[0] * (n + 1) for _ in range(m + 1)]\n",
    "    \n",
    "    for i in range(1, m + 1):\n",
    "        for j in range(1, n + 1):\n",
    "            if str1[i - 1] == str2[j - 1]:\n",
    "                dp[i][j] = dp[i - 1][j - 1] + 1\n",
    "            else:\n",
    "                dp[i][j] = max(dp[i - 1][j], dp[i][j - 1])\n",
    "    \n",
    "    # Step 2: Backtrack to find the LCS\n",
    "    i, j = m, n\n",
    "    lcs = []\n",
    "    while i > 0 and j > 0:\n",
    "        if str1[i - 1] == str2[j - 1]:\n",
    "            lcs.append(str1[i - 1])\n",
    "            i -= 1\n",
    "            j -= 1\n",
    "        elif dp[i - 1][j] > dp[i][j - 1]:\n",
    "            i -= 1\n",
    "        else:\n",
    "            j -= 1\n",
    "    lcs = lcs[::-1]\n",
    "    \n",
    "    # Step 3: Merge str1 and str2 based on LCS\n",
    "    result = []\n",
    "    i = j = 0\n",
    "    for char in lcs:\n",
    "        while i < len(str1) and str1[i] != char:\n",
    "            result.append(str1[i])\n",
    "            i += 1\n",
    "        while j < len(str2) and str2[j] != char:\n",
    "            result.append(str2[j])\n",
    "            j += 1\n",
    "        result.append(char)\n",
    "        i += 1\n",
    "        j += 1\n",
    "    \n",
    "    result.extend(str1[i:])\n",
    "    result.extend(str2[j:])\n",
    "    \n",
    "    return ''.join(result)\n",
    "\n",
    "# Example usage\n",
    "str1 = \"abac\"\n",
    "str2 = \"cab\"\n",
    "print(shortestCommonSupersequence(str1, str2))  # Output: \"cabac\""
   ]
  },
  {
   "cell_type": "code",
   "execution_count": null,
   "id": "5a86e6b1",
   "metadata": {},
   "outputs": [],
   "source": []
  }
 ],
 "metadata": {
  "kernelspec": {
   "display_name": "Python 3 (ipykernel)",
   "language": "python",
   "name": "python3"
  },
  "language_info": {
   "codemirror_mode": {
    "name": "ipython",
    "version": 3
   },
   "file_extension": ".py",
   "mimetype": "text/x-python",
   "name": "python",
   "nbconvert_exporter": "python",
   "pygments_lexer": "ipython3",
   "version": "3.8.11"
  }
 },
 "nbformat": 4,
 "nbformat_minor": 5
}
