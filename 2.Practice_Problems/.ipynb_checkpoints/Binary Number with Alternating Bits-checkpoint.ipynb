{
 "cells": [
  {
   "cell_type": "markdown",
   "id": "3d78b2ce",
   "metadata": {},
   "source": [
    "# Binary Number with Alternating Bits"
   ]
  },
  {
   "cell_type": "markdown",
   "id": "78e58c7f",
   "metadata": {},
   "source": [
    "Given a positive integer, check whether it has alternating bits: namely, if two adjacent bits will always have different values.\n",
    "\n",
    " \n",
    "\n",
    "**Example 1:**\n",
    "\n",
    "Input: n = 5\n",
    "\n",
    "Output: true\n",
    "Explanation: The binary representation of 5 is: 101\n",
    "\n",
    "**Example 2:**\n",
    "\n",
    "Input: n = 7\n",
    "\n",
    "Output: false\n",
    "Explanation: The binary representation of 7 is: 111.\n",
    "\n",
    "**xample 3:**\n",
    "\n",
    "Input: n = 11\n",
    "\n",
    "Output: false\n",
    "Explanation: The binary representation of 11 is: 1011.\n",
    " \n",
    "\n",
    "**Constraints:**\n",
    "\n",
    "- 1 <= n <= 231 - 1"
   ]
  },
  {
   "cell_type": "code",
   "execution_count": 1,
   "id": "a04a8e32",
   "metadata": {},
   "outputs": [
    {
     "name": "stdout",
     "output_type": "stream",
     "text": [
      "True\n",
      "False\n",
      "False\n"
     ]
    }
   ],
   "source": [
    "def has_alternating_bits(n):\n",
    "    # Convert the integer to its binary representation\n",
    "    binary = bin(n)[2:]\n",
    "\n",
    "    # Check if adjacent bits are the same\n",
    "    for i in range(len(binary) - 1):\n",
    "        if binary[i] == binary[i + 1]:\n",
    "            return False\n",
    "    return True\n",
    "\n",
    "# Test cases\n",
    "print(has_alternating_bits(5))  # Output: True\n",
    "print(has_alternating_bits(7))  # Output: False\n",
    "print(has_alternating_bits(11)) # Output: False"
   ]
  },
  {
   "cell_type": "code",
   "execution_count": null,
   "id": "f04c030c",
   "metadata": {},
   "outputs": [],
   "source": []
  }
 ],
 "metadata": {
  "kernelspec": {
   "display_name": "Python 3",
   "language": "python",
   "name": "python3"
  },
  "language_info": {
   "codemirror_mode": {
    "name": "ipython",
    "version": 3
   },
   "file_extension": ".py",
   "mimetype": "text/x-python",
   "name": "python",
   "nbconvert_exporter": "python",
   "pygments_lexer": "ipython3",
   "version": "3.9.13"
  }
 },
 "nbformat": 4,
 "nbformat_minor": 5
}
