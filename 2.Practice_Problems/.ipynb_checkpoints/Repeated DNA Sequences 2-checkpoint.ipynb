{
 "cells": [
  {
   "cell_type": "markdown",
   "id": "e6aa24ec",
   "metadata": {},
   "source": [
    "# Repeated DNA Sequences"
   ]
  },
  {
   "cell_type": "markdown",
   "id": "7ed20ba3",
   "metadata": {},
   "source": [
    "The DNA sequence is composed of a series of nucleotides abbreviated as 'A', 'C', 'G', and 'T'.\n",
    "\n",
    "For example, \"ACGAATTCCG\" is a DNA sequence.\n",
    "When studying DNA, it is useful to identify repeated sequences within the DNA.\n",
    "\n",
    "Given a string s that represents a DNA sequence, return all the 10-letter-long sequences (substrings) that occur more than once in a DNA molecule. You may return the answer in any order.\n",
    "\n",
    "**Example 1:**\n",
    "\n",
    "Input: s = \"AAAAACCCCCAAAAACCCCCCAAAAAGGGTTT\"\n",
    "Output: [\"AAAAACCCCC\",\"CCCCCAAAAA\"]\n",
    "\n",
    "**Example 2:**\n",
    "\n",
    "Input: s = \"AAAAAAAAAAAAA\"\n",
    "Output: [\"AAAAAAAAAA\"]\n",
    " \n",
    "**Constraints:**\n",
    "\n",
    "- 1 <= s.length <= 105\n",
    "- s[i] is either 'A', 'C', 'G', or 'T'."
   ]
  },
  {
   "cell_type": "code",
   "execution_count": 1,
   "id": "15457f53",
   "metadata": {},
   "outputs": [
    {
     "ename": "TypeError",
     "evalue": "'type' object is not subscriptable",
     "output_type": "error",
     "traceback": [
      "\u001b[1;31m---------------------------------------------------------------------------\u001b[0m",
      "\u001b[1;31mTypeError\u001b[0m                                 Traceback (most recent call last)",
      "\u001b[1;32m~\\AppData\\Local\\Temp/ipykernel_3416/120313162.py\u001b[0m in \u001b[0;36m<module>\u001b[1;34m\u001b[0m\n\u001b[1;32m----> 1\u001b[1;33m \u001b[1;32mdef\u001b[0m \u001b[0mfindRepeatedDnaSequences\u001b[0m\u001b[1;33m(\u001b[0m\u001b[0ms\u001b[0m\u001b[1;33m:\u001b[0m \u001b[0mstr\u001b[0m\u001b[1;33m)\u001b[0m \u001b[1;33m->\u001b[0m \u001b[0mlist\u001b[0m\u001b[1;33m[\u001b[0m\u001b[0mstr\u001b[0m\u001b[1;33m]\u001b[0m\u001b[1;33m:\u001b[0m\u001b[1;33m\u001b[0m\u001b[1;33m\u001b[0m\u001b[0m\n\u001b[0m\u001b[0;32m      2\u001b[0m     \u001b[0mn\u001b[0m \u001b[1;33m=\u001b[0m \u001b[0mlen\u001b[0m\u001b[1;33m(\u001b[0m\u001b[0ms\u001b[0m\u001b[1;33m)\u001b[0m\u001b[1;33m\u001b[0m\u001b[1;33m\u001b[0m\u001b[0m\n\u001b[0;32m      3\u001b[0m     \u001b[0mL\u001b[0m \u001b[1;33m=\u001b[0m \u001b[1;36m10\u001b[0m\u001b[1;33m\u001b[0m\u001b[1;33m\u001b[0m\u001b[0m\n\u001b[0;32m      4\u001b[0m     \u001b[1;32mif\u001b[0m \u001b[0mn\u001b[0m \u001b[1;33m<\u001b[0m \u001b[0mL\u001b[0m\u001b[1;33m:\u001b[0m\u001b[1;33m\u001b[0m\u001b[1;33m\u001b[0m\u001b[0m\n\u001b[0;32m      5\u001b[0m         \u001b[1;32mreturn\u001b[0m \u001b[1;33m[\u001b[0m\u001b[1;33m]\u001b[0m\u001b[1;33m\u001b[0m\u001b[1;33m\u001b[0m\u001b[0m\n",
      "\u001b[1;31mTypeError\u001b[0m: 'type' object is not subscriptable"
     ]
    }
   ],
   "source": [
    "def findRepeatedDnaSequences(s: str) -> list[str]:\n",
    "    n = len(s)\n",
    "    L = 10\n",
    "    if n < L:\n",
    "        return []\n",
    "\n",
    "    # Map nucleotides to 2-bit codes\n",
    "    code = {'A': 0, 'C': 1, 'G': 2, 'T': 3}\n",
    "    seen = set()       # hashes seen once\n",
    "    repeats = set()    # hashes seen >1\n",
    "    res = set()\n",
    "\n",
    "    mask = (1 << (2*L)) - 1  # keep last 20 bits\n",
    "    h = 0\n",
    "\n",
    "    # build hash for first L chars\n",
    "    for i in range(L):\n",
    "        h = (h << 2) | code[s[i]]\n",
    "    seen.add(h)\n",
    "\n",
    "    # slide the window\n",
    "    for i in range(L, n):\n",
    "        h = ((h << 2) | code[s[i]]) & mask\n",
    "        if h in repeats:\n",
    "            # already recorded as repeat; skip work\n",
    "            continue\n",
    "        if h in seen:\n",
    "            repeats.add(h)\n",
    "            res.add(s[i-L+1:i+1])\n",
    "        else:\n",
    "            seen.add(h)\n",
    "\n",
    "    return list(res)"
   ]
  },
  {
   "cell_type": "code",
   "execution_count": null,
   "id": "b469b888",
   "metadata": {},
   "outputs": [],
   "source": []
  }
 ],
 "metadata": {
  "kernelspec": {
   "display_name": "Python 3 (ipykernel)",
   "language": "python",
   "name": "python3"
  },
  "language_info": {
   "codemirror_mode": {
    "name": "ipython",
    "version": 3
   },
   "file_extension": ".py",
   "mimetype": "text/x-python",
   "name": "python",
   "nbconvert_exporter": "python",
   "pygments_lexer": "ipython3",
   "version": "3.8.11"
  }
 },
 "nbformat": 4,
 "nbformat_minor": 5
}
