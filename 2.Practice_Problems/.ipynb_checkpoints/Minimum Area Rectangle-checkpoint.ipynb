{
 "cells": [
  {
   "cell_type": "markdown",
   "id": "e33bca28",
   "metadata": {},
   "source": [
    "# Minimum Area Rectangle"
   ]
  },
  {
   "cell_type": "markdown",
   "id": "8106749f",
   "metadata": {},
   "source": [
    "You are given an array of points in the X-Y plane points where points[i] = [xi, yi].\n",
    "\n",
    "Return the minimum area of a rectangle formed from these points, with sides parallel to the X and Y axes. If there is not any such rectangle, return 0.\n",
    "\n",
    "**Example 1:**\n",
    "\n",
    "Input: points = [[1,1],[1,3],[3,1],[3,3],[2,2]]\n",
    "Output: 4\n",
    "\n",
    "**Example 2:**\n",
    "\n",
    "\n",
    "Input: points = [[1,1],[1,3],[3,1],[3,3],[4,1],[4,3]]\n",
    "Output: 2\n",
    " \n",
    "**Constraints:**\n",
    "\n",
    "- 1 <= points.length <= 500\n",
    "- points[i].length == 2\n",
    "- 0 <= xi, yi <= 4 * 104\n",
    "- All the given points are unique."
   ]
  },
  {
   "cell_type": "code",
   "execution_count": 1,
   "id": "05703610",
   "metadata": {},
   "outputs": [
    {
     "name": "stdout",
     "output_type": "stream",
     "text": [
      "4\n",
      "2\n"
     ]
    }
   ],
   "source": [
    "def minAreaRect(points):\n",
    "    # Store points in a set for quick lookup\n",
    "    point_set = set(map(tuple, points))\n",
    "    min_area = float('inf')\n",
    "    \n",
    "    # Iterate through all pairs of points\n",
    "    for i in range(len(points)):\n",
    "        for j in range(i + 1, len(points)):\n",
    "            x1, y1 = points[i]\n",
    "            x2, y2 = points[j]\n",
    "            \n",
    "            # Check if they form a diagonal (not on the same line)\n",
    "            if x1 != x2 and y1 != y2:\n",
    "                # Check if the other two points exist to form the rectangle\n",
    "                if (x1, y2) in point_set and (x2, y1) in point_set:\n",
    "                    # Calculate the area of the rectangle\n",
    "                    area = abs(x2 - x1) * abs(y2 - y1)\n",
    "                    min_area = min(min_area, area)\n",
    "    \n",
    "    # If no rectangle was found, return 0, otherwise return the minimum area\n",
    "    return 0 if min_area == float('inf') else min_area\n",
    "\n",
    "# Example usage:\n",
    "points1 = [[1, 1], [1, 3], [3, 1], [3, 3], [2, 2]]\n",
    "points2 = [[1, 1], [1, 3], [3, 1], [3, 3], [4, 1], [4, 3]]\n",
    "\n",
    "print(minAreaRect(points1))  # Output: 4\n",
    "print(minAreaRect(points2))  # Output: 2"
   ]
  },
  {
   "cell_type": "code",
   "execution_count": null,
   "id": "e2d9a3c8",
   "metadata": {},
   "outputs": [],
   "source": []
  }
 ],
 "metadata": {
  "kernelspec": {
   "display_name": "Python 3 (ipykernel)",
   "language": "python",
   "name": "python3"
  },
  "language_info": {
   "codemirror_mode": {
    "name": "ipython",
    "version": 3
   },
   "file_extension": ".py",
   "mimetype": "text/x-python",
   "name": "python",
   "nbconvert_exporter": "python",
   "pygments_lexer": "ipython3",
   "version": "3.8.11"
  }
 },
 "nbformat": 4,
 "nbformat_minor": 5
}
