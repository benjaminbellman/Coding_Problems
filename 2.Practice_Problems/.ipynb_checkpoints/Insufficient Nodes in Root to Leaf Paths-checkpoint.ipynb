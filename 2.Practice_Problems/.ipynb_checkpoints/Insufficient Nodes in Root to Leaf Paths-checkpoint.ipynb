{
 "cells": [
  {
   "cell_type": "markdown",
   "id": "fe546623",
   "metadata": {},
   "source": [
    "# Insufficient Nodes in Root to Leaf Paths"
   ]
  },
  {
   "cell_type": "markdown",
   "id": "86c36ac0",
   "metadata": {},
   "source": [
    "Given the root of a binary tree and an integer limit, delete all insufficient nodes in the tree simultaneously, and return the root of the resulting binary tree.\n",
    "\n",
    "A node is insufficient if every root to leaf path intersecting this node has a sum strictly less than limit.\n",
    "\n",
    "A leaf is a node with no children.\n",
    "\n",
    "**Example 1:**\n",
    "\n",
    "Input: root = [1,2,3,4,-99,-99,7,8,9,-99,-99,12,13,-99,14], limit = 1\n",
    "Output: [1,2,3,4,null,null,7,8,9,null,14]\n",
    "\n",
    "**Example 2:**\n",
    "\n",
    "Input: root = [5,4,8,11,null,17,4,7,1,null,null,5,3], limit = 22\n",
    "Output: [5,4,8,11,null,17,4,7,null,null,null,5]\n",
    "\n",
    "**Example 3:**\n",
    "\n",
    "Input: root = [1,2,-3,-5,null,4,null], limit = -1\n",
    "Output: [1,null,-3,4]\n",
    " \n",
    "**Constraints:**\n",
    "\n",
    "- The number of nodes in the tree is in the range [1, 5000].\n",
    "- -105 <= Node.val <= 105\n",
    "- -109 <= limit <= 109"
   ]
  },
  {
   "cell_type": "code",
   "execution_count": 1,
   "id": "7946338a",
   "metadata": {},
   "outputs": [],
   "source": [
    "class TreeNode:\n",
    "    def __init__(self, val=0, left=None, right=None):\n",
    "        self.val = val\n",
    "        self.left = left\n",
    "        self.right = right\n",
    "\n",
    "def sufficientSubset(root, limit):\n",
    "    def dfs(node, current_sum):\n",
    "        if not node:\n",
    "            return None\n",
    "        \n",
    "        # Update the current path sum\n",
    "        current_sum += node.val\n",
    "        \n",
    "        # If it's a leaf, check if it's sufficient\n",
    "        if not node.left and not node.right:\n",
    "            return None if current_sum < limit else node\n",
    "        \n",
    "        # Recur for left and right subtrees\n",
    "        node.left = dfs(node.left, current_sum)\n",
    "        node.right = dfs(node.right, current_sum)\n",
    "        \n",
    "        # If both children are pruned, prune this node too\n",
    "        if not node.left and not node.right:\n",
    "            return None\n",
    "        \n",
    "        return node\n",
    "    \n",
    "    # Start DFS from the root\n",
    "    return dfs(root, 0)"
   ]
  },
  {
   "cell_type": "code",
   "execution_count": 2,
   "id": "cb751bdc",
   "metadata": {},
   "outputs": [],
   "source": [
    "root = TreeNode(1,\n",
    "    TreeNode(2, TreeNode(4, TreeNode(8), TreeNode(9)), TreeNode(-99)),\n",
    "    TreeNode(3, TreeNode(-99, TreeNode(12), TreeNode(13)), TreeNode(7, None, TreeNode(14)))\n",
    ")\n",
    "limit = 1\n",
    "output = sufficientSubset(root, limit)"
   ]
  },
  {
   "cell_type": "code",
   "execution_count": 3,
   "id": "89f492c9",
   "metadata": {},
   "outputs": [],
   "source": [
    "root = TreeNode(5,\n",
    "    TreeNode(4, TreeNode(11, TreeNode(7), TreeNode(1)), None),\n",
    "    TreeNode(8, TreeNode(17), TreeNode(4, TreeNode(5), TreeNode(3)))\n",
    ")\n",
    "limit = 22\n",
    "output = sufficientSubset(root, limit)"
   ]
  },
  {
   "cell_type": "code",
   "execution_count": null,
   "id": "8526be4c",
   "metadata": {},
   "outputs": [],
   "source": []
  }
 ],
 "metadata": {
  "kernelspec": {
   "display_name": "Python 3 (ipykernel)",
   "language": "python",
   "name": "python3"
  },
  "language_info": {
   "codemirror_mode": {
    "name": "ipython",
    "version": 3
   },
   "file_extension": ".py",
   "mimetype": "text/x-python",
   "name": "python",
   "nbconvert_exporter": "python",
   "pygments_lexer": "ipython3",
   "version": "3.8.11"
  }
 },
 "nbformat": 4,
 "nbformat_minor": 5
}
