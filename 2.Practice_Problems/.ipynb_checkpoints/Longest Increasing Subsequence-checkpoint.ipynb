{
 "cells": [
  {
   "cell_type": "markdown",
   "id": "32420d49",
   "metadata": {},
   "source": [
    "# Longest Increasing Subsequence"
   ]
  },
  {
   "cell_type": "markdown",
   "id": "a8739342",
   "metadata": {},
   "source": [
    "Given an integer array nums, return the length of the longest strictly increasing \n",
    "subsequence\n",
    ".\n",
    "\n",
    " \n",
    "\n",
    "**Example 1:**\n",
    "\n",
    "Input: nums = [10,9,2,5,3,7,101,18]\n",
    "Output: 4\n",
    "Explanation: The longest increasing subsequence is [2,3,7,101], therefore the length is 4.\n",
    "\n",
    "**Example 2:**\n",
    "\n",
    "Input: nums = [0,1,0,3,2,3]\n",
    "Output: 4\n",
    "\n",
    "**Example 3:**\n",
    "\n",
    "Input: nums = [7,7,7,7,7,7,7]\n",
    "Output: 1\n",
    " \n",
    "\n",
    "Constraints:\n",
    "\n",
    "1 <= nums.length <= 2500\n",
    "-104 <= nums[i] <= 104\n",
    " \n",
    "\n",
    "Follow up: Can you come up with an algorithm that runs in O(n log(n)) time complexity?"
   ]
  },
  {
   "cell_type": "code",
   "execution_count": 1,
   "id": "da598e8b",
   "metadata": {},
   "outputs": [],
   "source": [
    "def lengthOfLIS(nums):\n",
    "    if not nums:\n",
    "        return 0\n",
    "    n = len(nums)\n",
    "    dp = [1] * n\n",
    "    for i in range(n):\n",
    "        for j in range(i):\n",
    "            if nums[j] < nums[i]:\n",
    "                dp[i] = max(dp[i], dp[j] + 1)\n",
    "    return max(dp)"
   ]
  },
  {
   "cell_type": "code",
   "execution_count": 2,
   "id": "3c9d53c0",
   "metadata": {},
   "outputs": [],
   "source": [
    "def lengthOfLIS(nums):\n",
    "    if not nums:\n",
    "        return 0\n",
    "    n = len(nums)\n",
    "    dp = []\n",
    "    for num in nums:\n",
    "        if not dp or num > dp[-1]:\n",
    "            dp.append(num)\n",
    "        else:\n",
    "            idx = bisect.bisect_left(dp, num)\n",
    "            dp[idx] = num\n",
    "    return len(dp)"
   ]
  },
  {
   "cell_type": "code",
   "execution_count": 3,
   "id": "8fad117f",
   "metadata": {},
   "outputs": [
    {
     "name": "stdout",
     "output_type": "stream",
     "text": [
      "4\n",
      "4\n",
      "1\n"
     ]
    }
   ],
   "source": [
    "import bisect\n",
    "\n",
    "def lengthOfLIS(nums):\n",
    "    if not nums:\n",
    "        return 0\n",
    "    n = len(nums)\n",
    "    dp = []\n",
    "    for num in nums:\n",
    "        if not dp or num > dp[-1]:\n",
    "            dp.append(num)\n",
    "        else:\n",
    "            idx = bisect.bisect_left(dp, num)\n",
    "            dp[idx] = num\n",
    "    return len(dp)\n",
    "\n",
    "nums1 = [10,9,2,5,3,7,101,18] \n",
    "print(lengthOfLIS(nums1)) # 4\n",
    "\n",
    "nums2 = [0,1,0,3,2,3]\n",
    "print(lengthOfLIS(nums2)) # 4\n",
    "\n",
    "nums3 = [7,7,7,7,7,7,7]\n",
    "print(lengthOfLIS(nums3)) # 1"
   ]
  },
  {
   "cell_type": "code",
   "execution_count": null,
   "id": "539d9cf9",
   "metadata": {},
   "outputs": [],
   "source": []
  }
 ],
 "metadata": {
  "kernelspec": {
   "display_name": "Python 3",
   "language": "python",
   "name": "python3"
  },
  "language_info": {
   "codemirror_mode": {
    "name": "ipython",
    "version": 3
   },
   "file_extension": ".py",
   "mimetype": "text/x-python",
   "name": "python",
   "nbconvert_exporter": "python",
   "pygments_lexer": "ipython3",
   "version": "3.9.13"
  }
 },
 "nbformat": 4,
 "nbformat_minor": 5
}
