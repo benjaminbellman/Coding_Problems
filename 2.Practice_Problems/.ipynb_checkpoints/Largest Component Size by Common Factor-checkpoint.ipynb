{
 "cells": [
  {
   "cell_type": "markdown",
   "id": "269e7a38",
   "metadata": {},
   "source": [
    "# Largest Component Size by Common Factor"
   ]
  },
  {
   "cell_type": "markdown",
   "id": "9d441c67",
   "metadata": {},
   "source": [
    "You are given an integer array of unique positive integers nums. Consider the following graph:\n",
    "\n",
    "There are nums.length nodes, labeled nums[0] to nums[nums.length - 1],\n",
    "There is an undirected edge between nums[i] and nums[j] if nums[i] and nums[j] share a common factor greater than 1.\n",
    "Return the size of the largest connected component in the graph.\n",
    "\n",
    "**Example 1:**\n",
    "\n",
    "Input: nums = [4,6,15,35]\n",
    "Output: 4\n",
    "\n",
    "**Example 2:**\n",
    "\n",
    "Input: nums = [20,50,9,63]\n",
    "Output: 2\n",
    "\n",
    "**Example 3:**\n",
    "\n",
    "Input: nums = [2,3,6,7,4,12,21,39]\n",
    "Output: 8\n",
    " \n",
    "**Constraints:**\n",
    "\n",
    "- 1 <= nums.length <= 2 * 104\n",
    "- 1 <= nums[i] <= 105\n",
    "- All the values of nums are unique."
   ]
  },
  {
   "cell_type": "code",
   "execution_count": 1,
   "id": "e0a76255",
   "metadata": {},
   "outputs": [
    {
     "name": "stdout",
     "output_type": "stream",
     "text": [
      "4\n",
      "2\n",
      "8\n"
     ]
    }
   ],
   "source": [
    "import math\n",
    "from collections import defaultdict\n",
    "\n",
    "class UnionFind:\n",
    "    def __init__(self, n):\n",
    "        self.parent = list(range(n))\n",
    "        self.size = [1] * n\n",
    "    \n",
    "    def find(self, x):\n",
    "        if self.parent[x] != x:\n",
    "            self.parent[x] = self.find(self.parent[x])\n",
    "        return self.parent[x]\n",
    "    \n",
    "    def union(self, x, y):\n",
    "        rootX = self.find(x)\n",
    "        rootY = self.find(y)\n",
    "        if rootX != rootY:\n",
    "            if self.size[rootX] < self.size[rootY]:\n",
    "                rootX, rootY = rootY, rootX\n",
    "            self.parent[rootY] = rootX\n",
    "            self.size[rootX] += self.size[rootY]\n",
    "\n",
    "def largestComponentSize(nums):\n",
    "    # Step 1: Create a Union-Find structure\n",
    "    n = len(nums)\n",
    "    max_num = max(nums)\n",
    "    uf = UnionFind(max_num + 1)\n",
    "    \n",
    "    # Step 2: Create a map to find prime factors and union them\n",
    "    prime_to_index = {}\n",
    "    \n",
    "    def get_prime_factors(num):\n",
    "        prime_factors = set()\n",
    "        # Check for number of 2's\n",
    "        while num % 2 == 0:\n",
    "            prime_factors.add(2)\n",
    "            num //= 2\n",
    "        # Check for odd factors\n",
    "        for i in range(3, int(math.sqrt(num)) + 1, 2):\n",
    "            while num % i == 0:\n",
    "                prime_factors.add(i)\n",
    "                num //= i\n",
    "        # If num is still greater than 2, it must be prime\n",
    "        if num > 2:\n",
    "            prime_factors.add(num)\n",
    "        return prime_factors\n",
    "\n",
    "    # Step 3: For each number in nums, union its prime factors\n",
    "    for num in nums:\n",
    "        prime_factors = get_prime_factors(num)\n",
    "        for prime in prime_factors:\n",
    "            if prime in prime_to_index:\n",
    "                uf.union(prime_to_index[prime], num)\n",
    "            prime_to_index[prime] = num\n",
    "    \n",
    "    # Step 4: Count the size of each connected component\n",
    "    component_size = defaultdict(int)\n",
    "    for num in nums:\n",
    "        root = uf.find(num)\n",
    "        component_size[root] += 1\n",
    "    \n",
    "    # Step 5: Return the size of the largest component\n",
    "    return max(component_size.values())\n",
    "\n",
    "# Example test cases\n",
    "nums1 = [4, 6, 15, 35]\n",
    "nums2 = [20, 50, 9, 63]\n",
    "nums3 = [2, 3, 6, 7, 4, 12, 21, 39]\n",
    "\n",
    "print(largestComponentSize(nums1))  # Output: 4\n",
    "print(largestComponentSize(nums2))  # Output: 2\n",
    "print(largestComponentSize(nums3))  # Output: 8"
   ]
  },
  {
   "cell_type": "code",
   "execution_count": null,
   "id": "2186c22d",
   "metadata": {},
   "outputs": [],
   "source": []
  }
 ],
 "metadata": {
  "kernelspec": {
   "display_name": "Python 3 (ipykernel)",
   "language": "python",
   "name": "python3"
  },
  "language_info": {
   "codemirror_mode": {
    "name": "ipython",
    "version": 3
   },
   "file_extension": ".py",
   "mimetype": "text/x-python",
   "name": "python",
   "nbconvert_exporter": "python",
   "pygments_lexer": "ipython3",
   "version": "3.8.11"
  }
 },
 "nbformat": 4,
 "nbformat_minor": 5
}
