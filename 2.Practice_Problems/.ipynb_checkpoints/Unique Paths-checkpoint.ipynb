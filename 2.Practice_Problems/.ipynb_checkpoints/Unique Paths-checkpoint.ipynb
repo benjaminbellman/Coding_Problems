{
 "cells": [
  {
   "cell_type": "markdown",
   "id": "df18799f",
   "metadata": {},
   "source": [
    "# Unique Paths"
   ]
  },
  {
   "cell_type": "markdown",
   "id": "07c222d6",
   "metadata": {},
   "source": [
    "There is a robot on an m x n grid. The robot is initially located at the top-left corner (i.e., grid[0][0]). The robot tries to move to the bottom-right corner (i.e., grid[m - 1][n - 1]). The robot can only move either down or right at any point in time.\n",
    "\n",
    "Given the two integers m and n, return the number of possible unique paths that the robot can take to reach the bottom-right corner.\n",
    "\n",
    "The test cases are generated so that the answer will be less than or equal to 2 * 109.\n",
    "\n",
    "**Example 1:**\n",
    "\n",
    "Input: m = 3, n = 7\n",
    "Output: 28\n",
    "\n",
    "**Example 2:**\n",
    "\n",
    "Input: m = 3, n = 2\n",
    "Output: 3\n",
    "Explanation: From the top-left corner, there are a total of 3 ways to reach the bottom-right corner:\n",
    "1. Right -> Down -> Down\n",
    "2. Down -> Down -> Right\n",
    "3. Down -> Right -> Down\n",
    " \n",
    "**Constraints:**\n",
    "\n",
    "- 1 <= m, n <= 100"
   ]
  },
  {
   "cell_type": "code",
   "execution_count": 1,
   "id": "682776fc",
   "metadata": {},
   "outputs": [],
   "source": [
    "import math\n",
    "\n",
    "def uniquePaths(m: int, n: int) -> int:\n",
    "    return math.comb(m + n - 2, m - 1)"
   ]
  },
  {
   "cell_type": "code",
   "execution_count": null,
   "id": "df06dee3",
   "metadata": {},
   "outputs": [],
   "source": []
  }
 ],
 "metadata": {
  "kernelspec": {
   "display_name": "Python 3 (ipykernel)",
   "language": "python",
   "name": "python3"
  },
  "language_info": {
   "codemirror_mode": {
    "name": "ipython",
    "version": 3
   },
   "file_extension": ".py",
   "mimetype": "text/x-python",
   "name": "python",
   "nbconvert_exporter": "python",
   "pygments_lexer": "ipython3",
   "version": "3.8.11"
  }
 },
 "nbformat": 4,
 "nbformat_minor": 5
}
