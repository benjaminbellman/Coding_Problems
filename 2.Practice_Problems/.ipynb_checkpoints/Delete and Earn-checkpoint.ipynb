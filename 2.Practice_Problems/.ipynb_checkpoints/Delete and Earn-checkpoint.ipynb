{
 "cells": [
  {
   "cell_type": "markdown",
   "id": "a4df0cf7",
   "metadata": {},
   "source": [
    "# Delete and Earn"
   ]
  },
  {
   "cell_type": "markdown",
   "id": "4c4ea7b1",
   "metadata": {},
   "source": [
    "You are given an integer array nums. You want to maximize the number of points you get by performing the following operation any number of times:\n",
    "\n",
    "Pick any nums[i] and delete it to earn nums[i] points. Afterwards, you must delete every element equal to nums[i] - 1 and every element equal to nums[i] + 1.\n",
    "Return the maximum number of points you can earn by applying the above operation some number of times.\n",
    "\n",
    " \n",
    "\n",
    "**Example 1:**\n",
    "\n",
    "Input: nums = [3,4,2]\n",
    "\n",
    "Output: 6\n",
    "Explanation: You can perform the following operations:\n",
    "- Delete 4 to earn 4 points. Consequently, 3 is also deleted. nums = [2].\n",
    "- Delete 2 to earn 2 points. nums = [].\n",
    "You earn a total of 6 points.\n",
    "\n",
    "**Example 2:**\n",
    "\n",
    "Input: nums = [2,2,3,3,3,4]\n",
    "\n",
    "Output: 9\n",
    "Explanation: You can perform the following operations:\n",
    "- Delete a 3 to earn 3 points. All 2's and 4's are also deleted. nums = [3,3].\n",
    "- Delete a 3 again to earn 3 points. nums = [3].\n",
    "- Delete a 3 once more to earn 3 points. nums = [].\n",
    "You earn a total of 9 points.\n",
    " \n",
    "\n",
    "**Constraints:**\n",
    "\n",
    "- 1 <= nums.length <= 2 * 104\n",
    "- 1 <= nums[i] <= 104"
   ]
  },
  {
   "cell_type": "code",
   "execution_count": 1,
   "id": "67c1e418",
   "metadata": {},
   "outputs": [
    {
     "name": "stdout",
     "output_type": "stream",
     "text": [
      "6\n",
      "9\n"
     ]
    }
   ],
   "source": [
    "def deleteAndEarn(nums):\n",
    "    if not nums:\n",
    "        return 0\n",
    "    \n",
    "    # Calculate the maximum element in the array\n",
    "    max_num = max(nums)\n",
    "    \n",
    "    # Initialize an array to store the sum of values for each number\n",
    "    sums = [0] * (max_num + 1)\n",
    "    \n",
    "    # Calculate the sum of values for each number\n",
    "    for num in nums:\n",
    "        sums[num] += num\n",
    "    \n",
    "    # Initialize variables to store the previous and current maximum values\n",
    "    prev_max = 0\n",
    "    curr_max = 0\n",
    "    \n",
    "    # Iterate through the array to calculate the maximum points\n",
    "    for i in range(len(sums)):\n",
    "        temp = curr_max\n",
    "        curr_max = max(curr_max, prev_max + sums[i])\n",
    "        prev_max = temp\n",
    "    \n",
    "    return curr_max\n",
    "\n",
    "# Example usage\n",
    "nums1 = [3, 4, 2]\n",
    "print(deleteAndEarn(nums1))  # Output: 6\n",
    "\n",
    "nums2 = [2, 2, 3, 3, 3, 4]\n",
    "print(deleteAndEarn(nums2))  # Output: 9"
   ]
  },
  {
   "cell_type": "code",
   "execution_count": null,
   "id": "1fb6a0a5",
   "metadata": {},
   "outputs": [],
   "source": []
  }
 ],
 "metadata": {
  "kernelspec": {
   "display_name": "Python 3",
   "language": "python",
   "name": "python3"
  },
  "language_info": {
   "codemirror_mode": {
    "name": "ipython",
    "version": 3
   },
   "file_extension": ".py",
   "mimetype": "text/x-python",
   "name": "python",
   "nbconvert_exporter": "python",
   "pygments_lexer": "ipython3",
   "version": "3.9.13"
  }
 },
 "nbformat": 4,
 "nbformat_minor": 5
}
