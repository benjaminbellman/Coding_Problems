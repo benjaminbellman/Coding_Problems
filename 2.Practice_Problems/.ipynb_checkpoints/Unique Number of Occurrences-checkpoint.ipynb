{
 "cells": [
  {
   "cell_type": "markdown",
   "id": "7de841e3",
   "metadata": {},
   "source": [
    "# Unique Number of Occurrences"
   ]
  },
  {
   "cell_type": "markdown",
   "id": "20249494",
   "metadata": {},
   "source": [
    "Given an array of integers arr, return true if the number of occurrences of each value in the array is unique or false otherwise.\n",
    "\n",
    "**Example 1:**\n",
    "\n",
    "Input: arr = [1,2,2,1,1,3]\n",
    "Output: true\n",
    "Explanation: The value 1 has 3 occurrences, 2 has 2 and 3 has 1. No two values have the same number of occurrences.\n",
    "\n",
    "**Example 2:**\n",
    "\n",
    "Input: arr = [1,2]\n",
    "Output: false\n",
    "\n",
    "**Example 3:**\n",
    "\n",
    "Input: arr = [-3,0,1,-3,1,1,1,-3,10,0]\n",
    "Output: true\n",
    " \n",
    "**Constraints:**\n",
    "\n",
    "- 1 <= arr.length <= 1000\n",
    "- -1000 <= arr[i] <= 1000"
   ]
  },
  {
   "cell_type": "code",
   "execution_count": 1,
   "id": "f15a7cbe",
   "metadata": {},
   "outputs": [],
   "source": [
    "from collections import Counter\n",
    "\n",
    "def uniqueOccurrences(arr):\n",
    "    count = Counter(arr)\n",
    "    occurrences = list(count.values())\n",
    "    return len(occurrences) == len(set(occurrences))"
   ]
  },
  {
   "cell_type": "code",
   "execution_count": 2,
   "id": "c9f14bb5",
   "metadata": {},
   "outputs": [
    {
     "name": "stdout",
     "output_type": "stream",
     "text": [
      "True\n",
      "False\n",
      "True\n"
     ]
    }
   ],
   "source": [
    "print(uniqueOccurrences([1,2,2,1,1,3]))         # Output: True\n",
    "print(uniqueOccurrences([1,2]))                 # Output: False\n",
    "print(uniqueOccurrences([-3,0,1,-3,1,1,1,-3,10,0]))  # Output: True"
   ]
  },
  {
   "cell_type": "code",
   "execution_count": null,
   "id": "ab7c35f9",
   "metadata": {},
   "outputs": [],
   "source": []
  }
 ],
 "metadata": {
  "kernelspec": {
   "display_name": "Python 3 (ipykernel)",
   "language": "python",
   "name": "python3"
  },
  "language_info": {
   "codemirror_mode": {
    "name": "ipython",
    "version": 3
   },
   "file_extension": ".py",
   "mimetype": "text/x-python",
   "name": "python",
   "nbconvert_exporter": "python",
   "pygments_lexer": "ipython3",
   "version": "3.8.11"
  }
 },
 "nbformat": 4,
 "nbformat_minor": 5
}
