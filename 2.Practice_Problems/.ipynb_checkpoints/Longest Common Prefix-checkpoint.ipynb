{
 "cells": [
  {
   "cell_type": "markdown",
   "id": "a74b799c",
   "metadata": {},
   "source": [
    "# Longest Common Prefix"
   ]
  },
  {
   "cell_type": "markdown",
   "id": "86847686",
   "metadata": {},
   "source": [
    "Write a function to find the longest common prefix string amongst an array of strings.\n",
    "\n",
    "If there is no common prefix, return an empty string \"\".\n",
    "\n",
    " \n",
    "\n",
    "**Example 1:**\n",
    "\n",
    "Input: strs = [\"flower\",\"flow\",\"flight\"]\n",
    "Output: \"fl\"\n",
    "\n",
    "**Example 2:**\n",
    "\n",
    "Input: strs = [\"dog\",\"racecar\",\"car\"]\n",
    "Output: \"\"\n",
    "Explanation: There is no common prefix among the input strings.\n",
    " \n",
    "\n",
    "**Constraints:**\n",
    "\n",
    "1 <= strs.length <= 200\n",
    "0 <= strs[i].length <= 200\n",
    "strs[i] consists of only lowercase English letters."
   ]
  },
  {
   "cell_type": "code",
   "execution_count": 1,
   "id": "8868c926",
   "metadata": {},
   "outputs": [],
   "source": [
    "def longestCommonPrefix(strs):\n",
    "    if not strs:\n",
    "        return \"\"\n",
    "\n",
    "    # find the length of the shortest string in the array\n",
    "    min_len = min([len(s) for s in strs])\n",
    "\n",
    "    # iterate over the characters in the first string\n",
    "    for i in range(min_len):\n",
    "        char = strs[0][i]\n",
    "        # compare the character to the corresponding character in the other strings\n",
    "        for j in range(1, len(strs)):\n",
    "            if strs[j][i] != char:\n",
    "                return strs[0][:i] # the common prefix ends here\n",
    "    return strs[0][:min_len] # all strings have the same prefix up to the length of the shortest string"
   ]
  },
  {
   "cell_type": "code",
   "execution_count": 2,
   "id": "a246f53a",
   "metadata": {},
   "outputs": [
    {
     "name": "stdout",
     "output_type": "stream",
     "text": [
      "fl\n",
      "\n",
      "ap\n",
      "a\n",
      "\n"
     ]
    }
   ],
   "source": [
    "print(longestCommonPrefix([\"flower\",\"flow\",\"flight\"])) # \"fl\"\n",
    "print(longestCommonPrefix([\"dog\",\"racecar\",\"car\"])) # \"\"\n",
    "print(longestCommonPrefix([\"apple\",\"ape\",\"april\"])) # \"ap\"\n",
    "print(longestCommonPrefix([\"a\"])) # \"a\"\n",
    "print(longestCommonPrefix([])) # \"\""
   ]
  },
  {
   "cell_type": "code",
   "execution_count": null,
   "id": "7fb814e4",
   "metadata": {},
   "outputs": [],
   "source": []
  }
 ],
 "metadata": {
  "kernelspec": {
   "display_name": "Python 3",
   "language": "python",
   "name": "python3"
  },
  "language_info": {
   "codemirror_mode": {
    "name": "ipython",
    "version": 3
   },
   "file_extension": ".py",
   "mimetype": "text/x-python",
   "name": "python",
   "nbconvert_exporter": "python",
   "pygments_lexer": "ipython3",
   "version": "3.9.13"
  }
 },
 "nbformat": 4,
 "nbformat_minor": 5
}
