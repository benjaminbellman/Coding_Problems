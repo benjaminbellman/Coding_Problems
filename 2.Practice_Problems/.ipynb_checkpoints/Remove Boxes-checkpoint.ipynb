{
 "cells": [
  {
   "cell_type": "markdown",
   "id": "e179fc7e",
   "metadata": {},
   "source": [
    "# Remove Boxes"
   ]
  },
  {
   "cell_type": "markdown",
   "id": "2f517669",
   "metadata": {},
   "source": [
    "You are given several boxes with different colors represented by different positive numbers.\n",
    "\n",
    "You may experience several rounds to remove boxes until there is no box left. Each time you can choose some continuous boxes with the same color (i.e., composed of k boxes, k >= 1), remove them and get k * k points.\n",
    "\n",
    "Return the maximum points you can get.\n",
    "\n",
    " \n",
    "\n",
    "**Example 1:**\n",
    "\n",
    "Input: boxes = [1,3,2,2,2,3,4,3,1]\n",
    "\n",
    "Output: 23\n",
    "Explanation:\n",
    "[1, 3, 2, 2, 2, 3, 4, 3, 1] \n",
    "\n",
    "----> [1, 3, 3, 4, 3, 1] (3*3=9 points) \n",
    "\n",
    "----> [1, 3, 3, 3, 1] (1*1=1 points) \n",
    "\n",
    "----> [1, 1] (3*3=9 points) \n",
    "\n",
    "----> [] (2*2=4 points)\n",
    "\n",
    "**Example 2:**\n",
    "\n",
    "Input: boxes = [1,1,1]\n",
    "\n",
    "Output: 9\n",
    "Example 3:\n",
    "\n",
    "Input: boxes = [1]\n",
    "Output: 1\n",
    " \n",
    "\n",
    "**Constraints:**\n",
    "\n",
    "- 1 <= boxes.length <= 100\n",
    "- 1 <= boxes[i] <= 100"
   ]
  },
  {
   "cell_type": "code",
   "execution_count": 1,
   "id": "33aab21a",
   "metadata": {},
   "outputs": [
    {
     "name": "stdout",
     "output_type": "stream",
     "text": [
      "23\n",
      "9\n",
      "1\n"
     ]
    }
   ],
   "source": [
    "def removeBoxes(boxes):\n",
    "    # memoization table\n",
    "    memo = {}\n",
    "    \n",
    "    def dp(l, r, k):\n",
    "        if l > r: return 0\n",
    "        if (l, r, k) in memo: return memo[(l, r, k)]\n",
    "        \n",
    "        # continuously remove all boxes of the same as boxes[r]\n",
    "        while r > l and boxes[r] == boxes[r-1]:\n",
    "            r -= 1\n",
    "            k += 1\n",
    "        \n",
    "        # using memorization to store and retrieve results\n",
    "        memo[(l, r, k)] = dp(l, r-1, 0) + (k+1) * (k+1)\n",
    "        for i in range(l, r):\n",
    "            if boxes[i] == boxes[r]:\n",
    "                memo[(l, r, k)] = max(memo[(l, r, k)], dp(l, i, k+1) + dp(i+1, r-1, 0))\n",
    "        \n",
    "        return memo[(l, r, k)]\n",
    "    \n",
    "    return dp(0, len(boxes)-1, 0)\n",
    "\n",
    "# Testing the function\n",
    "print(removeBoxes([1,3,2,2,2,3,4,3,1]))  # Expected: 23\n",
    "print(removeBoxes([1,1,1]))              # Expected: 9\n",
    "print(removeBoxes([1]))                  # Expected: 1"
   ]
  },
  {
   "cell_type": "code",
   "execution_count": null,
   "id": "a5e9066d",
   "metadata": {},
   "outputs": [],
   "source": []
  }
 ],
 "metadata": {
  "kernelspec": {
   "display_name": "Python 3",
   "language": "python",
   "name": "python3"
  },
  "language_info": {
   "codemirror_mode": {
    "name": "ipython",
    "version": 3
   },
   "file_extension": ".py",
   "mimetype": "text/x-python",
   "name": "python",
   "nbconvert_exporter": "python",
   "pygments_lexer": "ipython3",
   "version": "3.9.13"
  }
 },
 "nbformat": 4,
 "nbformat_minor": 5
}
