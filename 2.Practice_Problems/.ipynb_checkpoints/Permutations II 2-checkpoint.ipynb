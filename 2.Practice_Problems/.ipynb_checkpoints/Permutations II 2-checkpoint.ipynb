{
 "cells": [
  {
   "cell_type": "markdown",
   "id": "2a8e4f72",
   "metadata": {},
   "source": [
    "# Permutations II2"
   ]
  },
  {
   "cell_type": "markdown",
   "id": "3d061ee7",
   "metadata": {},
   "source": [
    "Given a collection of numbers, nums, that might contain duplicates, return all possible unique permutations in any order.\n",
    "\n",
    "**Example 1:**\n",
    "\n",
    "Input: nums = [1,1,2]\n",
    "Output:\n",
    "[[1,1,2],\n",
    " [1,2,1],\n",
    " [2,1,1]]\n",
    "\n",
    "**Example 2:**\n",
    "\n",
    "Input: nums = [1,2,3]\n",
    "Output: [[1,2,3],[1,3,2],[2,1,3],[2,3,1],[3,1,2],[3,2,1]]\n",
    " \n",
    "**Constraints:**\n",
    "\n",
    "- 1 <= nums.length <= 8\n",
    "- -10 <= nums[i] <= 10"
   ]
  },
  {
   "cell_type": "code",
   "execution_count": 1,
   "id": "7e7ad4d9",
   "metadata": {},
   "outputs": [],
   "source": [
    "from typing import List\n",
    "\n",
    "def permuteUnique(nums: List[int]) -> List[List[int]]:\n",
    "    res = []\n",
    "    nums.sort()\n",
    "    used = [False] * len(nums)\n",
    "\n",
    "    def backtrack(path):\n",
    "        if len(path) == len(nums):\n",
    "            res.append(path[:])\n",
    "            return\n",
    "\n",
    "        for i in range(len(nums)):\n",
    "            if used[i]:\n",
    "                continue\n",
    "\n",
    "            if i > 0 and nums[i] == nums[i-1] and not used[i-1]:\n",
    "                continue  # Skip duplicates\n",
    "\n",
    "            used[i] = True\n",
    "            path.append(nums[i])\n",
    "            backtrack(path)\n",
    "            path.pop()\n",
    "            used[i] = False\n",
    "\n",
    "    backtrack([])\n",
    "    return res"
   ]
  },
  {
   "cell_type": "code",
   "execution_count": 2,
   "id": "28f7c313",
   "metadata": {},
   "outputs": [
    {
     "name": "stdout",
     "output_type": "stream",
     "text": [
      "[[1, 1, 2], [1, 2, 1], [2, 1, 1]]\n",
      "[[1, 2, 3], [1, 3, 2], [2, 1, 3], [2, 3, 1], [3, 1, 2], [3, 2, 1]]\n"
     ]
    }
   ],
   "source": [
    "print(permuteUnique([1,1,2]))\n",
    "# Output: [[1,1,2], [1,2,1], [2,1,1]]\n",
    "\n",
    "print(permuteUnique([1,2,3]))\n",
    "# Output: [[1,2,3],[1,3,2],[2,1,3],[2,3,1],[3,1,2],[3,2,1]]"
   ]
  },
  {
   "cell_type": "code",
   "execution_count": null,
   "id": "8c4ce896",
   "metadata": {},
   "outputs": [],
   "source": []
  }
 ],
 "metadata": {
  "kernelspec": {
   "display_name": "Python 3 (ipykernel)",
   "language": "python",
   "name": "python3"
  },
  "language_info": {
   "codemirror_mode": {
    "name": "ipython",
    "version": 3
   },
   "file_extension": ".py",
   "mimetype": "text/x-python",
   "name": "python",
   "nbconvert_exporter": "python",
   "pygments_lexer": "ipython3",
   "version": "3.8.11"
  }
 },
 "nbformat": 4,
 "nbformat_minor": 5
}
