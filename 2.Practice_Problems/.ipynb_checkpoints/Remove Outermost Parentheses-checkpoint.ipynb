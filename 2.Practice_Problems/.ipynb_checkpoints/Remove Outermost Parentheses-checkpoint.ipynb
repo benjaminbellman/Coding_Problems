{
 "cells": [
  {
   "cell_type": "markdown",
   "id": "cddac261",
   "metadata": {},
   "source": [
    "# Remove Outermost Parentheses"
   ]
  },
  {
   "cell_type": "markdown",
   "id": "61ad3b8c",
   "metadata": {},
   "source": [
    "A valid parentheses string is either empty \"\", \"(\" + A + \")\", or A + B, where A and B are valid parentheses strings, and + represents string concatenation.\n",
    "\n",
    "For example, \"\", \"()\", \"(())()\", and \"(()(()))\" are all valid parentheses strings.\n",
    "A valid parentheses string s is primitive if it is nonempty, and there does not exist a way to split it into s = A + B, with A and B nonempty valid parentheses strings.\n",
    "\n",
    "Given a valid parentheses string s, consider its primitive decomposition: s = P1 + P2 + ... + Pk, where Pi are primitive valid parentheses strings.\n",
    "\n",
    "Return s after removing the outermost parentheses of every primitive string in the primitive decomposition of s.\n",
    "\n",
    "**Example 1:**\n",
    "\n",
    "Input: s = \"(()())(())\"\n",
    "Output: \"()()()\"\n",
    "Explanation: \n",
    "The input string is \"(()())(())\", with primitive decomposition \"(()())\" + \"(())\".\n",
    "After removing outer parentheses of each part, this is \"()()\" + \"()\" = \"()()()\".\n",
    "\n",
    "**Example 2:**\n",
    "\n",
    "Input: s = \"(()())(())(()(()))\"\n",
    "Output: \"()()()()(())\"\n",
    "Explanation: \n",
    "The input string is \"(()())(())(()(()))\", with primitive decomposition \"(()())\" + \"(())\" + \"(()(()))\".\n",
    "After removing outer parentheses of each part, this is \"()()\" + \"()\" + \"()(())\" = \"()()()()(())\".\n",
    "\n",
    "**Example 3:**\n",
    "\n",
    "Input: s = \"()()\"\n",
    "Output: \"\"\n",
    "Explanation: \n",
    "The input string is \"()()\", with primitive decomposition \"()\" + \"()\".\n",
    "After removing outer parentheses of each part, this is \"\" + \"\" = \"\".\n",
    "\n",
    "**Constraints:**\n",
    "\n",
    "- 1 <= s.length <= 105\n",
    "- s[i] is either '(' or ')'.\n",
    "- s is a valid parentheses string."
   ]
  },
  {
   "cell_type": "code",
   "execution_count": 1,
   "id": "08982b29",
   "metadata": {},
   "outputs": [
    {
     "name": "stdout",
     "output_type": "stream",
     "text": [
      "()()()\n",
      "()()()()(())\n",
      "\n"
     ]
    }
   ],
   "source": [
    "def removeOuterParentheses(s: str) -> str:\n",
    "    result = []\n",
    "    balance = 0  # Track the balance of parentheses\n",
    "    for char in s:\n",
    "        if char == '(':\n",
    "            if balance > 0:  # Only add to result if not the outermost '('\n",
    "                result.append(char)\n",
    "            balance += 1\n",
    "        elif char == ')':\n",
    "            balance -= 1\n",
    "            if balance > 0:  # Only add to result if not the outermost ')'\n",
    "                result.append(char)\n",
    "    return ''.join(result)\n",
    "\n",
    "# Examples:\n",
    "print(removeOuterParentheses(\"(()())(())\"))          # Output: \"()()()\"\n",
    "print(removeOuterParentheses(\"(()())(())(()(()))\"))  # Output: \"()()()()(())\"\n",
    "print(removeOuterParentheses(\"()()\"))               # Output: \"\""
   ]
  },
  {
   "cell_type": "code",
   "execution_count": null,
   "id": "134089db",
   "metadata": {},
   "outputs": [],
   "source": []
  }
 ],
 "metadata": {
  "kernelspec": {
   "display_name": "Python 3 (ipykernel)",
   "language": "python",
   "name": "python3"
  },
  "language_info": {
   "codemirror_mode": {
    "name": "ipython",
    "version": 3
   },
   "file_extension": ".py",
   "mimetype": "text/x-python",
   "name": "python",
   "nbconvert_exporter": "python",
   "pygments_lexer": "ipython3",
   "version": "3.8.11"
  }
 },
 "nbformat": 4,
 "nbformat_minor": 5
}
