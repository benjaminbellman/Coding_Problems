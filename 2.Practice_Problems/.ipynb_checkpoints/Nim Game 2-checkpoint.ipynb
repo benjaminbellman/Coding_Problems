{
 "cells": [
  {
   "cell_type": "markdown",
   "id": "b47bda1c",
   "metadata": {},
   "source": [
    "# Nim Game 2"
   ]
  },
  {
   "cell_type": "markdown",
   "id": "4c241179",
   "metadata": {},
   "source": [
    "You are playing the following Nim Game with your friend:\n",
    "\n",
    "Initially, there is a heap of stones on the table.\n",
    "You and your friend will alternate taking turns, and you go first.\n",
    "On each turn, the person whose turn it is will remove 1 to 3 stones from the heap.\n",
    "The one who removes the last stone is the winner.\n",
    "Given n, the number of stones in the heap, return true if you can win the game assuming both you and your friend play optimally, otherwise return false.\n",
    "\n",
    " \n",
    "\n",
    "**Example 1:**\n",
    "\n",
    "Input: n = 4\n",
    "Output: false\n",
    "Explanation: These are the possible outcomes:\n",
    "1. You remove 1 stone. Your friend removes 3 stones, including the last stone. Your friend wins.\n",
    "2. You remove 2 stones. Your friend removes 2 stones, including the last stone. Your friend wins.\n",
    "3. You remove 3 stones. Your friend removes the last stone. Your friend wins.\n",
    "In all outcomes, your friend wins.\n",
    "\n",
    "**Example 2:**\n",
    "\n",
    "Input: n = 1\n",
    "Output: true\n",
    "\n",
    "**Example 3:**\n",
    "\n",
    "Input: n = 2\n",
    "Output: true\n",
    " \n",
    "\n",
    "**Constraints:**\n",
    "\n",
    "1 <= n <= 231 - 1"
   ]
  },
  {
   "cell_type": "code",
   "execution_count": 1,
   "id": "f68bd46b",
   "metadata": {},
   "outputs": [],
   "source": [
    "def can_win_nim(n):\n",
    "    \"\"\"\n",
    "    Return True if you can win the Nim Game with n stones, assuming both players play optimally. \n",
    "    Otherwise, return False.\n",
    "    \"\"\"\n",
    "    if n % 4 == 0:\n",
    "        # If n is a multiple of 4, you can't win\n",
    "        return False\n",
    "    else:\n",
    "        # Otherwise, you can always remove stones to leave a multiple of 4 for your friend to deal with\n",
    "        return True"
   ]
  },
  {
   "cell_type": "code",
   "execution_count": 2,
   "id": "e683c71f",
   "metadata": {},
   "outputs": [
    {
     "name": "stdout",
     "output_type": "stream",
     "text": [
      "False\n",
      "True\n",
      "True\n"
     ]
    }
   ],
   "source": [
    "print(can_win_nim(4))  # expected output: False\n",
    "print(can_win_nim(1))  # expected output: True\n",
    "print(can_win_nim(2))  # expected output: True"
   ]
  },
  {
   "cell_type": "code",
   "execution_count": null,
   "id": "6497a5a9",
   "metadata": {},
   "outputs": [],
   "source": []
  }
 ],
 "metadata": {
  "kernelspec": {
   "display_name": "Python 3",
   "language": "python",
   "name": "python3"
  },
  "language_info": {
   "codemirror_mode": {
    "name": "ipython",
    "version": 3
   },
   "file_extension": ".py",
   "mimetype": "text/x-python",
   "name": "python",
   "nbconvert_exporter": "python",
   "pygments_lexer": "ipython3",
   "version": "3.9.13"
  }
 },
 "nbformat": 4,
 "nbformat_minor": 5
}
