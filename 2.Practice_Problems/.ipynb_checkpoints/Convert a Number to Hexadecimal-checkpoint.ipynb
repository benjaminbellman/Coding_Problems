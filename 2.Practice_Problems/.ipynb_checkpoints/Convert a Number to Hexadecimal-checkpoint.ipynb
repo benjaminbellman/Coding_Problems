{
 "cells": [
  {
   "cell_type": "markdown",
   "id": "3fa09c5b",
   "metadata": {},
   "source": [
    "# Convert a Number to Hexadecimal"
   ]
  },
  {
   "cell_type": "markdown",
   "id": "3b1137db",
   "metadata": {},
   "source": [
    "Given an integer num, return a string representing its hexadecimal representation. For negative integers, two’s complement method is used.\n",
    "\n",
    "All the letters in the answer string should be lowercase characters, and there should not be any leading zeros in the answer except for the zero itself.\n",
    "\n",
    "Note: You are not allowed to use any built-in library method to directly solve this problem.\n",
    "\n",
    " \n",
    "\n",
    "**Example 1:**\n",
    "\n",
    "Input: num = 26\n",
    "Output: \"1a\"\n",
    "\n",
    "**Example 2:**\n",
    "\n",
    "Input: num = -1\n",
    "Output: \"ffffffff\"\n",
    " \n",
    "\n",
    "**Constraints:**\n",
    "\n",
    "-231 <= num <= 231 - 1"
   ]
  },
  {
   "cell_type": "code",
   "execution_count": 1,
   "id": "07835131",
   "metadata": {},
   "outputs": [
    {
     "name": "stdout",
     "output_type": "stream",
     "text": [
      "1a\n",
      "ffffffff\n"
     ]
    }
   ],
   "source": [
    "def toHex(num):\n",
    "    if num == 0:\n",
    "        return '0'\n",
    "    \n",
    "    # Create a mapping of decimal values to hexadecimal digits\n",
    "    hex_map = '0123456789abcdef'\n",
    "    \n",
    "    # Convert negative numbers to their two's complement equivalent\n",
    "    if num < 0:\n",
    "        num += 2**32\n",
    "    \n",
    "    hex_str = ''\n",
    "    \n",
    "    while num > 0:\n",
    "        # Get the remainder after dividing by 16\n",
    "        remainder = num % 16\n",
    "        \n",
    "        # Append the corresponding hexadecimal digit to the result\n",
    "        hex_str = hex_map[remainder] + hex_str\n",
    "        \n",
    "        # Divide the number by 16\n",
    "        num //= 16\n",
    "    \n",
    "    return hex_str\n",
    "\n",
    "# Testing the function with example inputs\n",
    "print(toHex(26))  # Output: \"1a\"\n",
    "print(toHex(-1))  # Output: \"ffffffff\""
   ]
  },
  {
   "cell_type": "code",
   "execution_count": null,
   "id": "85a2fe61",
   "metadata": {},
   "outputs": [],
   "source": []
  }
 ],
 "metadata": {
  "kernelspec": {
   "display_name": "Python 3",
   "language": "python",
   "name": "python3"
  },
  "language_info": {
   "codemirror_mode": {
    "name": "ipython",
    "version": 3
   },
   "file_extension": ".py",
   "mimetype": "text/x-python",
   "name": "python",
   "nbconvert_exporter": "python",
   "pygments_lexer": "ipython3",
   "version": "3.9.13"
  }
 },
 "nbformat": 4,
 "nbformat_minor": 5
}
