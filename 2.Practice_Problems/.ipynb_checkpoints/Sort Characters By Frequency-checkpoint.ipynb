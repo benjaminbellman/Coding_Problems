{
 "cells": [
  {
   "cell_type": "markdown",
   "id": "51cdd150",
   "metadata": {},
   "source": [
    "# Sort Characters By Frequency"
   ]
  },
  {
   "cell_type": "markdown",
   "id": "0742ab2d",
   "metadata": {},
   "source": [
    "Given a string s, sort it in decreasing order based on the frequency of the characters. The frequency of a character is the number of times it appears in the string.\n",
    "\n",
    "Return the sorted string. If there are multiple answers, return any of them.\n",
    "\n",
    " \n",
    "\n",
    "**Example 1:**\n",
    "\n",
    "Input: s = \"tree\"\n",
    "Output: \"eert\"\n",
    "Explanation: 'e' appears twice while 'r' and 't' both appear once.\n",
    "So 'e' must appear before both 'r' and 't'. Therefore \"eetr\" is also a valid answer.\n",
    "\n",
    "**Example 2:**\n",
    "\n",
    "Input: s = \"cccaaa\"\n",
    "Output: \"aaaccc\"\n",
    "Explanation: Both 'c' and 'a' appear three times, so both \"cccaaa\" and \"aaaccc\" are valid answers.\n",
    "Note that \"cacaca\" is incorrect, as the same characters must be together.\n",
    "\n",
    "**Example 3:**\n",
    "\n",
    "Input: s = \"Aabb\"\n",
    "Output: \"bbAa\"\n",
    "Explanation: \"bbaA\" is also a valid answer, but \"Aabb\" is incorrect.\n",
    "Note that 'A' and 'a' are treated as two different characters.\n",
    " \n",
    "\n",
    "**Constraints:**\n",
    "\n",
    "- 1 <= s.length <= 5 * 105\n",
    "- s consists of uppercase and lowercase English letters and digits."
   ]
  },
  {
   "cell_type": "code",
   "execution_count": 1,
   "id": "835ea2c2",
   "metadata": {},
   "outputs": [],
   "source": [
    "def frequencySort(s):\n",
    "    # Count the frequency of each character\n",
    "    char_freq = {}\n",
    "    for char in s:\n",
    "        char_freq[char] = char_freq.get(char, 0) + 1\n",
    "\n",
    "    # Sort the characters based on their frequencies in decreasing order\n",
    "    sorted_chars = sorted(char_freq.keys(), key=lambda x: (-char_freq[x], x))\n",
    "\n",
    "    # Build the sorted string\n",
    "    sorted_string = ''.join(char * char_freq[char] for char in sorted_chars)\n",
    "\n",
    "    return sorted_string"
   ]
  },
  {
   "cell_type": "code",
   "execution_count": 2,
   "id": "9a976161",
   "metadata": {},
   "outputs": [
    {
     "name": "stdout",
     "output_type": "stream",
     "text": [
      "eert\n",
      "aaaccc\n",
      "bbAa\n"
     ]
    }
   ],
   "source": [
    "print(frequencySort(\"tree\"))   # Output: \"eetr\" or \"eert\"\n",
    "print(frequencySort(\"cccaaa\"))  # Output: \"aaaccc\" or \"cccaaa\"\n",
    "print(frequencySort(\"Aabb\"))    # Output: \"bbAa\" or \"bbaA\""
   ]
  },
  {
   "cell_type": "code",
   "execution_count": null,
   "id": "bed46c5e",
   "metadata": {},
   "outputs": [],
   "source": []
  }
 ],
 "metadata": {
  "kernelspec": {
   "display_name": "Python 3",
   "language": "python",
   "name": "python3"
  },
  "language_info": {
   "codemirror_mode": {
    "name": "ipython",
    "version": 3
   },
   "file_extension": ".py",
   "mimetype": "text/x-python",
   "name": "python",
   "nbconvert_exporter": "python",
   "pygments_lexer": "ipython3",
   "version": "3.9.13"
  }
 },
 "nbformat": 4,
 "nbformat_minor": 5
}
