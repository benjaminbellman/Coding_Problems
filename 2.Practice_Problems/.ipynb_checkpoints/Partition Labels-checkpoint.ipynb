{
 "cells": [
  {
   "cell_type": "markdown",
   "id": "78dd54cc",
   "metadata": {},
   "source": [
    "# Partition Labels"
   ]
  },
  {
   "cell_type": "markdown",
   "id": "d98cb4e7",
   "metadata": {},
   "source": [
    "You are given a string s. We want to partition the string into as many parts as possible so that each letter appears in at most one part.\n",
    "\n",
    "Note that the partition is done so that after concatenating all the parts in order, the resultant string should be s.\n",
    "\n",
    "Return a list of integers representing the size of these parts.\n",
    "\n",
    " \n",
    "\n",
    "**Example 1:**\n",
    "\n",
    "Input: s = \"ababcbacadefegdehijhklij\"\n",
    "\n",
    "Output: [9,7,8]\n",
    "Explanation:\n",
    "The partition is \"ababcbaca\", \"defegde\", \"hijhklij\".\n",
    "This is a partition so that each letter appears in at most one part.\n",
    "A partition like \"ababcbacadefegde\", \"hijhklij\" is incorrect, because it splits s into less parts.\n",
    "\n",
    "**Example 2:**\n",
    "\n",
    "Input: s = \"eccbbbbdec\"\n",
    "Output: [10]\n",
    " \n",
    "\n",
    "**Constraints:**\n",
    "\n",
    "- 1 <= s.length <= 500\n",
    "- s consists of lowercase English letters."
   ]
  },
  {
   "cell_type": "code",
   "execution_count": 1,
   "id": "3f0d7828",
   "metadata": {},
   "outputs": [],
   "source": [
    "def partitionLabels(s):\n",
    "    last_occurrence = {char: i for i, char in enumerate(s)}\n",
    "    partitions = []\n",
    "    start, end = 0, 0\n",
    "    \n",
    "    for i, char in enumerate(s):\n",
    "        end = max(end, last_occurrence[char])\n",
    "        if i == end:\n",
    "            partitions.append(end - start + 1)\n",
    "            start = i + 1\n",
    "    \n",
    "    return partitions"
   ]
  },
  {
   "cell_type": "code",
   "execution_count": 2,
   "id": "5c3a0498",
   "metadata": {},
   "outputs": [
    {
     "name": "stdout",
     "output_type": "stream",
     "text": [
      "[9, 7, 8]\n",
      "[10]\n"
     ]
    }
   ],
   "source": [
    "s = \"ababcbacadefegdehijhklij\"\n",
    "print(partitionLabels(s))  # Output: [9, 7, 8]\n",
    "\n",
    "s = \"eccbbbbdec\"\n",
    "print(partitionLabels(s))  # Output: [10]"
   ]
  },
  {
   "cell_type": "code",
   "execution_count": null,
   "id": "8fcaf588",
   "metadata": {},
   "outputs": [],
   "source": []
  }
 ],
 "metadata": {
  "kernelspec": {
   "display_name": "Python 3",
   "language": "python",
   "name": "python3"
  },
  "language_info": {
   "codemirror_mode": {
    "name": "ipython",
    "version": 3
   },
   "file_extension": ".py",
   "mimetype": "text/x-python",
   "name": "python",
   "nbconvert_exporter": "python",
   "pygments_lexer": "ipython3",
   "version": "3.9.13"
  }
 },
 "nbformat": 4,
 "nbformat_minor": 5
}
