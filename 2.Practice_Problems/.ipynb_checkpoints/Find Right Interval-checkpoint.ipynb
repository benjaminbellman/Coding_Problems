{
 "cells": [
  {
   "cell_type": "markdown",
   "id": "c07fde8b",
   "metadata": {},
   "source": [
    "# Find Right Interval"
   ]
  },
  {
   "cell_type": "markdown",
   "id": "965339f1",
   "metadata": {},
   "source": [
    "You are given an array of intervals, where intervals[i] = [starti, endi] and each starti is unique.\n",
    "\n",
    "The right interval for an interval i is an interval j such that startj >= endi and startj is minimized. Note that i may equal j.\n",
    "\n",
    "Return an array of right interval indices for each interval i. If no right interval exists for interval i, then put -1 at index i.\n",
    "\n",
    " \n",
    "\n",
    "**Example 1:**\n",
    "\n",
    "Input: intervals = [[1,2]]\n",
    "Output: [-1]\n",
    "Explanation: There is only one interval in the collection, so it outputs -1.\n",
    "\n",
    "**Example 2:**\n",
    "\n",
    "Input: intervals = [[3,4],[2,3],[1,2]]\n",
    "Output: [-1,0,1]\n",
    "Explanation: There is no right interval for [3,4].\n",
    "The right interval for [2,3] is [3,4] since start0 = 3 is the smallest start that is >= end1 = 3.\n",
    "The right interval for [1,2] is [2,3] since start1 = 2 is the smallest start that is >= end2 = 2.\n",
    "\n",
    "**Example 3:**\n",
    "\n",
    "Input: intervals = [[1,4],[2,3],[3,4]]\n",
    "Output: [-1,2,-1]\n",
    "Explanation: There is no right interval for [1,4] and [3,4].\n",
    "The right interval for [2,3] is [3,4] since start2 = 3 is the smallest start that is >= end1 = 3.\n",
    " \n",
    "\n",
    "**Constraints:**\n",
    "\n",
    "1 <= intervals.length <= 2 * 104\n",
    "intervals[i].length == 2\n",
    "-106 <= starti <= endi <= 106\n",
    "The start point of each interval is unique."
   ]
  },
  {
   "cell_type": "code",
   "execution_count": 1,
   "id": "08081d56",
   "metadata": {},
   "outputs": [
    {
     "name": "stdout",
     "output_type": "stream",
     "text": [
      "[-1]\n",
      "[-1, 2, 1]\n",
      "[-1, 2, -1]\n"
     ]
    }
   ],
   "source": [
    "def findRightInterval(intervals):\n",
    "    sorted_intervals = sorted([(interval[0], i) for i, interval in enumerate(intervals)])\n",
    "\n",
    "    def binary_search(target):\n",
    "        low, high = 0, len(sorted_intervals)\n",
    "        while low < high:\n",
    "            mid = (low + high) // 2\n",
    "            if sorted_intervals[mid][0] < target:\n",
    "                low = mid + 1\n",
    "            else:\n",
    "                high = mid\n",
    "        return low if low < len(sorted_intervals) else -1\n",
    "\n",
    "    return [binary_search(interval[1]) for interval in intervals]\n",
    "\n",
    "\n",
    "# Testing the code with the provided examples\n",
    "intervals1 = [[1, 2]]\n",
    "print(findRightInterval(intervals1))  # Expected output: [-1]\n",
    "\n",
    "intervals2 = [[3, 4], [2, 3], [1, 2]]\n",
    "print(findRightInterval(intervals2))  # Expected output: [-1, 0, 1]\n",
    "\n",
    "intervals3 = [[1, 4], [2, 3], [3, 4]]\n",
    "print(findRightInterval(intervals3))  # Expected output: [-1, 2, -1]"
   ]
  }
 ],
 "metadata": {
  "kernelspec": {
   "display_name": "Python 3",
   "language": "python",
   "name": "python3"
  },
  "language_info": {
   "codemirror_mode": {
    "name": "ipython",
    "version": 3
   },
   "file_extension": ".py",
   "mimetype": "text/x-python",
   "name": "python",
   "nbconvert_exporter": "python",
   "pygments_lexer": "ipython3",
   "version": "3.9.13"
  }
 },
 "nbformat": 4,
 "nbformat_minor": 5
}
