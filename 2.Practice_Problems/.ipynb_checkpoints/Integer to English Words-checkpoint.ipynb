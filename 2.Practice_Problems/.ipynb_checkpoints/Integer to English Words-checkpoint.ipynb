{
 "cells": [
  {
   "cell_type": "markdown",
   "id": "ea400401",
   "metadata": {},
   "source": [
    "# Integer to English Words"
   ]
  },
  {
   "cell_type": "markdown",
   "id": "bc3a6d15",
   "metadata": {},
   "source": [
    "Convert a non-negative integer num to its English words representation.\n",
    "\n",
    " \n",
    "\n",
    "**Example 1:**\n",
    "\n",
    "Input: num = 123\n",
    "Output: \"One Hundred Twenty Three\"\n",
    "\n",
    "**Example 2:**\n",
    "\n",
    "Input: num = 12345\n",
    "Output: \"Twelve Thousand Three Hundred Forty Five\"\n",
    "\n",
    "**Example 3:**\n",
    "\n",
    "Input: num = 1234567\n",
    "Output: \"One Million Two Hundred Thirty Four Thousand Five Hundred Sixty Seven\"\n",
    " \n",
    "\n",
    "**Constraints:**\n",
    "\n",
    "0 <= num <= 231 - 1"
   ]
  },
  {
   "cell_type": "code",
   "execution_count": 1,
   "id": "59319774",
   "metadata": {},
   "outputs": [],
   "source": [
    "class Solution:\n",
    "    def numberToWords(self, num: int) -> str:\n",
    "        if num == 0:\n",
    "            return \"Zero\"\n",
    "        \n",
    "        # define three arrays for the words\n",
    "        ones = [\"\", \"One\", \"Two\", \"Three\", \"Four\", \"Five\", \"Six\", \"Seven\", \"Eight\", \"Nine\", \"Ten\",\n",
    "                \"Eleven\", \"Twelve\", \"Thirteen\", \"Fourteen\", \"Fifteen\", \"Sixteen\", \"Seventeen\", \"Eighteen\", \"Nineteen\"]\n",
    "        tens = [\"\", \"\", \"Twenty\", \"Thirty\", \"Forty\", \"Fifty\", \"Sixty\", \"Seventy\", \"Eighty\", \"Ninety\"]\n",
    "        thousands = [\"\", \"Thousand\", \"Million\", \"Billion\"]\n",
    "        \n",
    "        i = 0\n",
    "        words = \"\"\n",
    "        \n",
    "        while num > 0:\n",
    "            if num % 1000 != 0:\n",
    "                word = self.helper(num % 1000, ones, tens)\n",
    "                word += thousands[i]\n",
    "                words = word + \" \" + words\n",
    "            num //= 1000\n",
    "            i += 1\n",
    "        \n",
    "        return words.strip()\n",
    "    \n",
    "    def helper(self, num, ones, tens):\n",
    "        if num == 0:\n",
    "            return \"\"\n",
    "        elif num < 20:\n",
    "            return ones[num] + \" \"\n",
    "        elif num < 100:\n",
    "            return tens[num//10] + \" \" + self.helper(num%10, ones, tens)\n",
    "        else:\n",
    "            return ones[num//100] + \" Hundred \" + self.helper(num%100, ones, tens)"
   ]
  },
  {
   "cell_type": "code",
   "execution_count": 2,
   "id": "2c48897f",
   "metadata": {},
   "outputs": [
    {
     "name": "stdout",
     "output_type": "stream",
     "text": [
      "One Hundred Twenty Three\n",
      "Twelve Thousand Three Hundred Forty Five\n",
      "One Million Two Hundred Thirty Four Thousand Five Hundred Sixty Seven\n"
     ]
    }
   ],
   "source": [
    "s = Solution()\n",
    "\n",
    "# Example 1\n",
    "num = 123\n",
    "print(s.numberToWords(num)) # Output: \"One Hundred Twenty Three\"\n",
    "\n",
    "# Example 2\n",
    "num = 12345\n",
    "print(s.numberToWords(num)) # Output: \"Twelve Thousand Three Hundred Forty Five\"\n",
    "\n",
    "# Example 3\n",
    "num = 1234567\n",
    "print(s.numberToWords(num)) # Output: \"One Million Two Hundred Thirty Four Thousand Five Hundred Sixty Seven\""
   ]
  },
  {
   "cell_type": "code",
   "execution_count": null,
   "id": "f2c8d735",
   "metadata": {},
   "outputs": [],
   "source": []
  }
 ],
 "metadata": {
  "kernelspec": {
   "display_name": "Python 3",
   "language": "python",
   "name": "python3"
  },
  "language_info": {
   "codemirror_mode": {
    "name": "ipython",
    "version": 3
   },
   "file_extension": ".py",
   "mimetype": "text/x-python",
   "name": "python",
   "nbconvert_exporter": "python",
   "pygments_lexer": "ipython3",
   "version": "3.9.13"
  }
 },
 "nbformat": 4,
 "nbformat_minor": 5
}
