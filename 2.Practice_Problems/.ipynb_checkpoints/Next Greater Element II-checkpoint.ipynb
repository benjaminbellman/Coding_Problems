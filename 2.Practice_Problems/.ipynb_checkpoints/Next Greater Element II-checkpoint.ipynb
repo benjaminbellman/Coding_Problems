{
 "cells": [
  {
   "cell_type": "markdown",
   "id": "08b11cec",
   "metadata": {},
   "source": [
    "# Next Greater Element II"
   ]
  },
  {
   "cell_type": "markdown",
   "id": "733c4e78",
   "metadata": {},
   "source": [
    "Given a circular integer array nums (i.e., the next element of nums[nums.length - 1] is nums[0]), return the next greater number for every element in nums.\n",
    "\n",
    "The next greater number of a number x is the first greater number to its traversing-order next in the array, which means you could search circularly to find its next greater number. If it doesn't exist, return -1 for this number.\n",
    "\n",
    " \n",
    "\n",
    "**Example 1:**\n",
    "\n",
    "Input: nums = [1,2,1]\n",
    "Output: [2,-1,2]\n",
    "Explanation: The first 1's next greater number is 2; \n",
    "The number 2 can't find next greater number. \n",
    "The second 1's next greater number needs to search circularly, which is also 2.\n",
    "\n",
    "**Example 2:**\n",
    "\n",
    "Input: nums = [1,2,3,4,3]\n",
    "Output: [2,3,4,-1,4]\n",
    " \n",
    "\n",
    "**Constraints:**\n",
    "\n",
    "- 1 <= nums.length <= 104\n",
    "- -109 <= nums[i] <= 109"
   ]
  },
  {
   "cell_type": "code",
   "execution_count": 1,
   "id": "a2c2809f",
   "metadata": {},
   "outputs": [
    {
     "name": "stdout",
     "output_type": "stream",
     "text": [
      "[2, -1, 2]\n",
      "[2, 3, 4, -1, 4]\n"
     ]
    }
   ],
   "source": [
    "def nextGreaterElements(nums):\n",
    "    n = len(nums)\n",
    "    result = [-1] * n  # Initialize result array with -1\n",
    "    stack = []  # Stack to keep track of indices\n",
    "    for i in range(n * 2):  # Iterate through the array twice to handle circular nature\n",
    "        while stack and nums[i % n] > nums[stack[-1]]:  # Found the next greater element\n",
    "            result[stack.pop()] = nums[i % n]\n",
    "        stack.append(i % n)  # Push the current index onto the stack\n",
    "    return result\n",
    "\n",
    "# Example Usage:\n",
    "nums1 = [1, 2, 1]\n",
    "print(nextGreaterElements(nums1))  # Output: [2, -1, 2]\n",
    "\n",
    "nums2 = [1, 2, 3, 4, 3]\n",
    "print(nextGreaterElements(nums2))  # Output: [2, 3, 4, -1, 4]"
   ]
  },
  {
   "cell_type": "code",
   "execution_count": null,
   "id": "070ad8e9",
   "metadata": {},
   "outputs": [],
   "source": []
  }
 ],
 "metadata": {
  "kernelspec": {
   "display_name": "Python 3",
   "language": "python",
   "name": "python3"
  },
  "language_info": {
   "codemirror_mode": {
    "name": "ipython",
    "version": 3
   },
   "file_extension": ".py",
   "mimetype": "text/x-python",
   "name": "python",
   "nbconvert_exporter": "python",
   "pygments_lexer": "ipython3",
   "version": "3.9.13"
  }
 },
 "nbformat": 4,
 "nbformat_minor": 5
}
