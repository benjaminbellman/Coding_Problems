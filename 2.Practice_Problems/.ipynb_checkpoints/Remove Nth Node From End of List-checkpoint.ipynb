{
 "cells": [
  {
   "cell_type": "markdown",
   "id": "56cbe6ce",
   "metadata": {},
   "source": [
    "# Remove Nth Node From End of List"
   ]
  },
  {
   "cell_type": "markdown",
   "id": "1fc96c65",
   "metadata": {},
   "source": [
    "Given the head of a linked list, remove the nth node from the end of the list and return its head.\n",
    " \n",
    "**Example 1:**\n",
    "\n",
    "Input: head = [1,2,3,4,5], n = 2\n",
    "Output: [1,2,3,5]\n",
    "\n",
    "**Example 2:**\n",
    "\n",
    "Input: head = [1], n = 1\n",
    "Output: []\n",
    "\n",
    "**Example 3:**\n",
    "\n",
    "Input: head = [1,2], n = 1\n",
    "Output: [1]\n",
    " \n",
    "**Constraints:**\n",
    "\n",
    "- The number of nodes in the list is sz.\n",
    "- 1 <= sz <= 30\n",
    "- 0 <= Node.val <= 100\n",
    "- 1 <= n <= sz\n"
   ]
  },
  {
   "cell_type": "code",
   "execution_count": 1,
   "id": "d9a7c331",
   "metadata": {},
   "outputs": [],
   "source": [
    "class ListNode:\n",
    "    def __init__(self, val=0, next=None):\n",
    "        self.val = val\n",
    "        self.next = next\n",
    "\n",
    "def removeNthFromEnd(head: ListNode, n: int) -> ListNode:\n",
    "    dummy = ListNode(0, head)\n",
    "    first = second = dummy\n",
    "\n",
    "    # Move first n+1 steps ahead so there's a gap of n between first and second\n",
    "    for _ in range(n + 1):\n",
    "        first = first.next\n",
    "\n",
    "    # Move both pointers until first reaches the end\n",
    "    while first:\n",
    "        first = first.next\n",
    "        second = second.next\n",
    "\n",
    "    # Remove the nth node\n",
    "    second.next = second.next.next\n",
    "\n",
    "    return dummy.next"
   ]
  },
  {
   "cell_type": "code",
   "execution_count": 2,
   "id": "bc3dd210",
   "metadata": {},
   "outputs": [],
   "source": [
    "head = ListNode(1, ListNode(2, ListNode(3, ListNode(4, ListNode(5)))))\n",
    "n = 2"
   ]
  },
  {
   "cell_type": "code",
   "execution_count": null,
   "id": "a58dffe6",
   "metadata": {},
   "outputs": [],
   "source": []
  }
 ],
 "metadata": {
  "kernelspec": {
   "display_name": "Python 3 (ipykernel)",
   "language": "python",
   "name": "python3"
  },
  "language_info": {
   "codemirror_mode": {
    "name": "ipython",
    "version": 3
   },
   "file_extension": ".py",
   "mimetype": "text/x-python",
   "name": "python",
   "nbconvert_exporter": "python",
   "pygments_lexer": "ipython3",
   "version": "3.8.11"
  }
 },
 "nbformat": 4,
 "nbformat_minor": 5
}
