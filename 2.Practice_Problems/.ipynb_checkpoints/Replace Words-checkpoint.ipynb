{
 "cells": [
  {
   "cell_type": "markdown",
   "id": "b6f689aa",
   "metadata": {},
   "source": [
    "# Replace Words"
   ]
  },
  {
   "cell_type": "markdown",
   "id": "4bad6931",
   "metadata": {},
   "source": [
    "In English, we have a concept called root, which can be followed by some other word to form another longer word - let's call this word successor. For example, when the root \"an\" is followed by the successor word \"other\", we can form a new word \"another\".\n",
    "\n",
    "Given a dictionary consisting of many roots and a sentence consisting of words separated by spaces, replace all the successors in the sentence with the root forming it. If a successor can be replaced by more than one root, replace it with the root that has the shortest length.\n",
    "\n",
    "Return the sentence after the replacement.\n",
    "\n",
    "**Example 1:**\n",
    "\n",
    "Input: dictionary = [\"cat\",\"bat\",\"rat\"], sentence = \"the cattle was rattled by the battery\"\n",
    "\n",
    "Output: \"the cat was rat by the bat\"\n",
    "\n",
    "**Example 2:**\n",
    "\n",
    "Input: dictionary = [\"a\",\"b\",\"c\"], sentence = \"aadsfasf absbs bbab cadsfafs\"\n",
    "\n",
    "Output: \"a a b c\"\n",
    " \n",
    "\n",
    "**Constraints:**\n",
    "\n",
    "- 1 <= dictionary.length <= 1000\n",
    "- 1 <= dictionary[i].length <= 100\n",
    "- dictionary[i] consists of only lower-case letters.\n",
    "- 1 <= sentence.length <= 106\n",
    "- sentence consists of only lower-case letters and spaces.\n",
    "- The number of words in sentence is in the range [1, 1000]\n",
    "- The length of each word in sentence is in the range [1, 1000]\n",
    "- Every two consecutive words in sentence will be separated by exactly one space.\n",
    "- sentence does not have leading or trailing spaces."
   ]
  },
  {
   "cell_type": "code",
   "execution_count": 1,
   "id": "fea46157",
   "metadata": {},
   "outputs": [
    {
     "name": "stdout",
     "output_type": "stream",
     "text": [
      "the cattle was rattled by the battery\n",
      "aadsfasf absbs bbab cadsfafs\n"
     ]
    }
   ],
   "source": [
    "def replaceWords(dictionary, sentence):\n",
    "    # Create a set of roots for faster lookup\n",
    "    root_set = set(dictionary)\n",
    "    \n",
    "    # Split the sentence into words\n",
    "    words = sentence.split()\n",
    "    \n",
    "    # Function to find the shortest root for a word\n",
    "    def find_shortest_root(word):\n",
    "        shortest = word\n",
    "        for root in dictionary:\n",
    "            if word.startswith(root) and len(root) < len(shortest):\n",
    "                shortest = root\n",
    "        return shortest\n",
    "    \n",
    "    # Replace words in the sentence\n",
    "    modified_words = [find_shortest_root(word) if word in root_set else word for word in words]\n",
    "    \n",
    "    # Join the modified words back into a sentence\n",
    "    result = ' '.join(modified_words)\n",
    "    \n",
    "    return result\n",
    "\n",
    "# Example usage:\n",
    "dictionary1 = [\"cat\", \"bat\", \"rat\"]\n",
    "sentence1 = \"the cattle was rattled by the battery\"\n",
    "output1 = replaceWords(dictionary1, sentence1)\n",
    "print(output1)  # Output: \"the cat was rat by the bat\"\n",
    "\n",
    "dictionary2 = [\"a\", \"b\", \"c\"]\n",
    "sentence2 = \"aadsfasf absbs bbab cadsfafs\"\n",
    "output2 = replaceWords(dictionary2, sentence2)\n",
    "print(output2)  # Output: \"a a b c\""
   ]
  }
 ],
 "metadata": {
  "kernelspec": {
   "display_name": "Python 3",
   "language": "python",
   "name": "python3"
  },
  "language_info": {
   "codemirror_mode": {
    "name": "ipython",
    "version": 3
   },
   "file_extension": ".py",
   "mimetype": "text/x-python",
   "name": "python",
   "nbconvert_exporter": "python",
   "pygments_lexer": "ipython3",
   "version": "3.9.13"
  }
 },
 "nbformat": 4,
 "nbformat_minor": 5
}
