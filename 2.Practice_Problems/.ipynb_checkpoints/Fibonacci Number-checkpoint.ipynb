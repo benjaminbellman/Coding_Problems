{
 "cells": [
  {
   "cell_type": "markdown",
   "id": "94af01d8",
   "metadata": {},
   "source": [
    "# Fibonacci Number"
   ]
  },
  {
   "cell_type": "markdown",
   "id": "800ee73d",
   "metadata": {},
   "source": [
    "The Fibonacci numbers, commonly denoted F(n) form a sequence, called the Fibonacci sequence, such that each number is the sum of the two preceding ones, starting from 0 and 1. That is,\n",
    "\n",
    "F(0) = 0, F(1) = 1\n",
    "F(n) = F(n - 1) + F(n - 2), for n > 1.\n",
    "Given n, calculate F(n).\n",
    "\n",
    " \n",
    "\n",
    "**Example 1:**\n",
    "\n",
    "Input: n = 2\n",
    "Output: 1\n",
    "Explanation: F(2) = F(1) + F(0) = 1 + 0 = 1.\n",
    "\n",
    "**Example 2:**\n",
    "\n",
    "Input: n = 3\n",
    "Output: 2\n",
    "Explanation: F(3) = F(2) + F(1) = 1 + 1 = 2.\n",
    "\n",
    "**Example 3:**\n",
    "\n",
    "Input: n = 4\n",
    "Output: 3\n",
    "Explanation: F(4) = F(3) + F(2) = 2 + 1 = 3.\n",
    " \n",
    "\n",
    "**Constraints:**\n",
    "\n",
    "- 0 <= n <= 30"
   ]
  },
  {
   "cell_type": "code",
   "execution_count": 1,
   "id": "30c80e34",
   "metadata": {},
   "outputs": [
    {
     "name": "stdout",
     "output_type": "stream",
     "text": [
      "3\n"
     ]
    }
   ],
   "source": [
    "def fib(n: int) -> int:\n",
    "    if n <= 1:\n",
    "        return n\n",
    "    a, b = 0, 1\n",
    "    for i in range(2, n + 1):\n",
    "        c = a + b\n",
    "        a = b\n",
    "        b = c\n",
    "    return b\n",
    "\n",
    "# Example Usage:\n",
    "n = 4\n",
    "output = fib(n)\n",
    "print(output)  # Output: 3"
   ]
  },
  {
   "cell_type": "code",
   "execution_count": null,
   "id": "3241578d",
   "metadata": {},
   "outputs": [],
   "source": []
  }
 ],
 "metadata": {
  "kernelspec": {
   "display_name": "Python 3",
   "language": "python",
   "name": "python3"
  },
  "language_info": {
   "codemirror_mode": {
    "name": "ipython",
    "version": 3
   },
   "file_extension": ".py",
   "mimetype": "text/x-python",
   "name": "python",
   "nbconvert_exporter": "python",
   "pygments_lexer": "ipython3",
   "version": "3.9.13"
  }
 },
 "nbformat": 4,
 "nbformat_minor": 5
}
