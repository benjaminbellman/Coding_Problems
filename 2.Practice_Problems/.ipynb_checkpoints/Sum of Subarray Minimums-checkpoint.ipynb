{
 "cells": [
  {
   "cell_type": "markdown",
   "id": "4a22ccdf",
   "metadata": {},
   "source": [
    "# Sum of Subarray Minimums"
   ]
  },
  {
   "cell_type": "markdown",
   "id": "7454283c",
   "metadata": {},
   "source": [
    "Given an array of integers arr, find the sum of min(b), where b ranges over every (contiguous) subarray of arr. Since the answer may be large, return the answer modulo 109 + 7.\n",
    "\n",
    "**Example 1:**\n",
    "\n",
    "Input: arr = [3,1,2,4]\n",
    "Output: 17\n",
    "Explanation: \n",
    "Subarrays are [3], [1], [2], [4], [3,1], [1,2], [2,4], [3,1,2], [1,2,4], [3,1,2,4]. \n",
    "Minimums are 3, 1, 2, 4, 1, 1, 2, 1, 1, 1.\n",
    "Sum is 17.\n",
    "\n",
    "**Example 2:**\n",
    "\n",
    "Input: arr = [11,81,94,43,3]\n",
    "Output: 444\n",
    " \n",
    "\n",
    "**Constraints:**\n",
    "\n",
    "- 1 <= arr.length <= 3 * 104\n",
    "- 1 <= arr[i] <= 3 * 104"
   ]
  },
  {
   "cell_type": "code",
   "execution_count": 1,
   "id": "b86cd202",
   "metadata": {},
   "outputs": [
    {
     "name": "stdout",
     "output_type": "stream",
     "text": [
      "30\n",
      "1108\n"
     ]
    }
   ],
   "source": [
    "def sum_of_subarray_mins(arr):\n",
    "    MOD = 10**9 + 7\n",
    "    n = len(arr)\n",
    "    \n",
    "    # Initialize arrays for next greater and previous greater elements\n",
    "    next_greater = [n] * n\n",
    "    prev_greater = [-1] * n\n",
    "    \n",
    "    # Monotonic stack to find next greater element indices\n",
    "    stack = []\n",
    "    for i in range(n):\n",
    "        while stack and arr[stack[-1]] < arr[i]:\n",
    "            next_greater[stack.pop()] = i\n",
    "        stack.append(i)\n",
    "    \n",
    "    # Clear stack to reuse it for previous greater elements\n",
    "    stack = []\n",
    "    for i in range(n-1, -1, -1):\n",
    "        while stack and arr[stack[-1]] <= arr[i]:  # Note: `<=` to maintain the correct range\n",
    "            prev_greater[stack.pop()] = i\n",
    "        stack.append(i)\n",
    "    \n",
    "    # Calculate the sum of minimums of all subarrays\n",
    "    result = 0\n",
    "    for i in range(n):\n",
    "        left_count = i - prev_greater[i]\n",
    "        right_count = next_greater[i] - i\n",
    "        result = (result + arr[i] * left_count * right_count) % MOD\n",
    "    \n",
    "    return result\n",
    "\n",
    "# Example usage:\n",
    "arr1 = [3,1,2,4]\n",
    "print(sum_of_subarray_mins(arr1))  # Output: 17\n",
    "\n",
    "arr2 = [11,81,94,43,3]\n",
    "print(sum_of_subarray_mins(arr2))  # Output: 444"
   ]
  },
  {
   "cell_type": "code",
   "execution_count": null,
   "id": "5553df3c",
   "metadata": {},
   "outputs": [],
   "source": []
  }
 ],
 "metadata": {
  "kernelspec": {
   "display_name": "Python 3 (ipykernel)",
   "language": "python",
   "name": "python3"
  },
  "language_info": {
   "codemirror_mode": {
    "name": "ipython",
    "version": 3
   },
   "file_extension": ".py",
   "mimetype": "text/x-python",
   "name": "python",
   "nbconvert_exporter": "python",
   "pygments_lexer": "ipython3",
   "version": "3.8.11"
  }
 },
 "nbformat": 4,
 "nbformat_minor": 5
}
