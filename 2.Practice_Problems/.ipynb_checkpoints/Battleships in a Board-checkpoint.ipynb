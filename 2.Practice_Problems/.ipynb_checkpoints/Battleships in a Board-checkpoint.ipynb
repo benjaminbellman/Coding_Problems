{
 "cells": [
  {
   "cell_type": "markdown",
   "id": "7bec8468",
   "metadata": {},
   "source": [
    "# Battleships in a Board"
   ]
  },
  {
   "attachments": {
    "image.png": {
     "image/png": "[encoded data removed]"
    }
   },
   "cell_type": "markdown",
   "id": "e77d03e0",
   "metadata": {},
   "source": [
    "Given an m x n matrix board where each cell is a battleship 'X' or empty '.', return the number of the battleships on board.\n",
    "\n",
    "Battleships can only be placed horizontally or vertically on board. In other words, they can only be made of the shape 1 x k (1 row, k columns) or k x 1 (k rows, 1 column), where k can be of any size. At least one horizontal or vertical cell separates between two battleships (i.e., there are no adjacent battleships).\n",
    "\n",
    " \n",
    "\n",
    "**Example 1:**\n",
    "![image.png](attachment:image.png)\n",
    "\n",
    "Input: board = [[\"X\",\".\",\".\",\"X\"],[\".\",\".\",\".\",\"X\"],[\".\",\".\",\".\",\"X\"]]\n",
    "Output: 2\n",
    "\n",
    "**Example 2:**\n",
    "\n",
    "Input: board = [[\".\"]]\n",
    "Output: 0\n",
    " \n",
    "\n",
    "**Constraints:**\n",
    "\n",
    "- m == board.length\n",
    "- n == board[i].length\n",
    "- 1 <= m, n <= 200\n",
    "board[i][j] is either '.' or 'X'."
   ]
  },
  {
   "cell_type": "code",
   "execution_count": 1,
   "id": "7c528e4f",
   "metadata": {},
   "outputs": [],
   "source": [
    "def countBattleships(board):\n",
    "    if not board:\n",
    "        return 0\n",
    "\n",
    "    count = 0\n",
    "    rows, cols = len(board), len(board[0])\n",
    "\n",
    "    for i in range(rows):\n",
    "        for j in range(cols):\n",
    "            if board[i][j] == 'X':\n",
    "                if i > 0 and board[i-1][j] == 'X':\n",
    "                    continue  # Skip if there's a battleship above\n",
    "                if j > 0 and board[i][j-1] == 'X':\n",
    "                    continue  # Skip if there's a battleship to the left\n",
    "                count += 1\n",
    "\n",
    "    return count"
   ]
  },
  {
   "cell_type": "code",
   "execution_count": 2,
   "id": "a4ad921f",
   "metadata": {},
   "outputs": [
    {
     "name": "stdout",
     "output_type": "stream",
     "text": [
      "2\n",
      "0\n"
     ]
    }
   ],
   "source": [
    "# Example 1\n",
    "board1 = [[\"X\",\".\",\".\",\"X\"],[\".\",\".\",\".\",\"X\"],[\".\",\".\",\".\",\"X\"]]\n",
    "print(countBattleships(board1))  # Output: 2\n",
    "\n",
    "# Example 2\n",
    "board2 = [[\".\"]]\n",
    "print(countBattleships(board2))  # Output: 0"
   ]
  },
  {
   "cell_type": "code",
   "execution_count": null,
   "id": "7194f85f",
   "metadata": {},
   "outputs": [],
   "source": []
  }
 ],
 "metadata": {
  "kernelspec": {
   "display_name": "Python 3",
   "language": "python",
   "name": "python3"
  },
  "language_info": {
   "codemirror_mode": {
    "name": "ipython",
    "version": 3
   },
   "file_extension": ".py",
   "mimetype": "text/x-python",
   "name": "python",
   "nbconvert_exporter": "python",
   "pygments_lexer": "ipython3",
   "version": "3.9.13"
  }
 },
 "nbformat": 4,
 "nbformat_minor": 5
}
