{
 "cells": [
  {
   "cell_type": "markdown",
   "id": "f30dc328",
   "metadata": {},
   "source": [
    "# Maximum Gap"
   ]
  },
  {
   "cell_type": "markdown",
   "id": "e5850ad3",
   "metadata": {},
   "source": [
    "Given an integer array nums, return the maximum difference between two successive elements in its sorted form. If the array contains less than two elements, return 0.\n",
    "\n",
    "You must write an algorithm that runs in linear time and uses linear extra space.\n",
    "\n",
    " \n",
    "\n",
    "**Example 1:**\n",
    "\n",
    "Input: nums = [3,6,9,1]\n",
    "Output: 3\n",
    "Explanation: The sorted form of the array is [1,3,6,9], either (3,6) or (6,9) has the maximum difference 3.\n",
    "\n",
    "**Example 2:**\n",
    "\n",
    "Input: nums = [10]\n",
    "Output: 0\n",
    "Explanation: The array contains less than 2 elements, therefore return 0.\n",
    " \n",
    "\n",
    "**Constraints:**\n",
    "\n",
    "1 <= nums.length <= 105\n",
    "0 <= nums[i] <= 109"
   ]
  },
  {
   "cell_type": "code",
   "execution_count": 1,
   "id": "409ba0d8",
   "metadata": {},
   "outputs": [],
   "source": [
    "def maximum_gap(nums):\n",
    "    if len(nums) < 2:\n",
    "        return 0\n",
    "        \n",
    "    # Find the maximum number in the list\n",
    "    max_num = max(nums)\n",
    "    \n",
    "    # Perform radix sort on the list\n",
    "    exp = 1\n",
    "    while max_num // exp > 0:\n",
    "        buckets = [list() for _ in range(10)]\n",
    "        for num in nums:\n",
    "            buckets[(num // exp) % 10].append(num)\n",
    "        nums = [num for bucket in buckets for num in bucket]\n",
    "        exp *= 10\n",
    "    \n",
    "    # Find the maximum gap between successive elements\n",
    "    max_gap = 0\n",
    "    for i in range(1, len(nums)):\n",
    "        max_gap = max(max_gap, nums[i] - nums[i-1])\n",
    "        \n",
    "    return max_gap"
   ]
  },
  {
   "cell_type": "code",
   "execution_count": 2,
   "id": "3165215f",
   "metadata": {},
   "outputs": [],
   "source": [
    "assert maximum_gap([3,6,9,1]) == 3\n",
    "assert maximum_gap([10]) == 0\n",
    "assert maximum_gap([1, 10, 5]) == 5\n",
    "assert maximum_gap([1, 1000000000]) == 999999999"
   ]
  },
  {
   "cell_type": "code",
   "execution_count": null,
   "id": "6d276d13",
   "metadata": {},
   "outputs": [],
   "source": []
  }
 ],
 "metadata": {
  "kernelspec": {
   "display_name": "Python 3",
   "language": "python",
   "name": "python3"
  },
  "language_info": {
   "codemirror_mode": {
    "name": "ipython",
    "version": 3
   },
   "file_extension": ".py",
   "mimetype": "text/x-python",
   "name": "python",
   "nbconvert_exporter": "python",
   "pygments_lexer": "ipython3",
   "version": "3.9.13"
  }
 },
 "nbformat": 4,
 "nbformat_minor": 5
}
