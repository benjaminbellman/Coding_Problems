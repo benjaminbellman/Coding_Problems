{
 "cells": [
  {
   "cell_type": "markdown",
   "id": "b7390ed0",
   "metadata": {},
   "source": [
    "# Freedom Trail"
   ]
  },
  {
   "cell_type": "markdown",
   "id": "15ccf980",
   "metadata": {},
   "source": [
    "In the video game Fallout 4, the quest \"Road to Freedom\" requires players to reach a metal dial called the \"Freedom Trail Ring\" and use the dial to spell a specific keyword to open the door.\n",
    "\n",
    "Given a string ring that represents the code engraved on the outer ring and another string key that represents the keyword that needs to be spelled, return the minimum number of steps to spell all the characters in the keyword.\n",
    "\n",
    "Initially, the first character of the ring is aligned at the \"12:00\" direction. You should spell all the characters in key one by one by rotating ring clockwise or anticlockwise to make each character of the string key aligned at the \"12:00\" direction and then by pressing the center button.\n",
    "\n",
    "At the stage of rotating the ring to spell the key character key[i]:\n",
    "\n",
    "You can rotate the ring clockwise or anticlockwise by one place, which counts as one step. The final purpose of the rotation is to align one of ring's characters at the \"12:00\" direction, where this character must equal key[i].\n",
    "If the character key[i] has been aligned at the \"12:00\" direction, press the center button to spell, which also counts as one step. After the pressing, you could begin to spell the next character in the key (next stage). Otherwise, you have finished all the spelling.\n",
    " \n",
    "\n",
    "**Example 1:**\n",
    "\n",
    "\n",
    "Input: ring = \"godding\", key = \"gd\"\n",
    "Output: 4\n",
    "Explanation:\n",
    "For the first key character 'g', since it is already in place, we just need 1 step to spell this character. \n",
    "For the second key character 'd', we need to rotate the ring \"godding\" anticlockwise by two steps to make it become \"ddinggo\".\n",
    "Also, we need 1 more step for spelling.\n",
    "So the final output is 4.\n",
    "\n",
    "**Example 2:**\n",
    "\n",
    "Input: ring = \"godding\", key = \"godding\"\n",
    "Output: 13\n",
    " \n",
    "\n",
    "**Constraints:**\n",
    "\n",
    "- 1 <= ring.length, key.length <= 100\n",
    "- ring and key consist of only lower case English letters.\n",
    "- It is guaranteed that key could always be spelled by rotating ring."
   ]
  },
  {
   "cell_type": "code",
   "execution_count": 3,
   "id": "7a1bc5e1",
   "metadata": {},
   "outputs": [
    {
     "name": "stdout",
     "output_type": "stream",
     "text": [
      "4\n"
     ]
    }
   ],
   "source": [
    "class Solution:\n",
    "    def findRotateSteps(self, ring: str, key: str) -> int:\n",
    "        m, n = len(key), len(ring)\n",
    "        dp = [[float('inf')] * n for _ in range(m)]\n",
    "        for j in range(n):\n",
    "            if ring[j] == key[0]:\n",
    "                dp[0][j] = min(j, n - j) + 1\n",
    "        \n",
    "        for i in range(1, m):\n",
    "            for j in range(n):\n",
    "                if ring[j] == key[i]:\n",
    "                    for k in range(n):\n",
    "                        if ring[k] == key[i - 1]:\n",
    "                            diff = abs(j - k)\n",
    "                            steps = min(diff, n - diff)\n",
    "                            dp[i][j] = min(dp[i][j], dp[i - 1][k] + steps + 1)\n",
    "        \n",
    "        return min(dp[m - 1])\n",
    "\n",
    "# Example Usage:\n",
    "solution = Solution()\n",
    "ring = \"godding\"\n",
    "key = \"gd\"\n",
    "output = solution.findRotateSteps(ring, key)\n",
    "print(output)  # Output: 4"
   ]
  },
  {
   "cell_type": "code",
   "execution_count": null,
   "id": "95666b13",
   "metadata": {},
   "outputs": [],
   "source": []
  }
 ],
 "metadata": {
  "kernelspec": {
   "display_name": "Python 3",
   "language": "python",
   "name": "python3"
  },
  "language_info": {
   "codemirror_mode": {
    "name": "ipython",
    "version": 3
   },
   "file_extension": ".py",
   "mimetype": "text/x-python",
   "name": "python",
   "nbconvert_exporter": "python",
   "pygments_lexer": "ipython3",
   "version": "3.9.13"
  }
 },
 "nbformat": 4,
 "nbformat_minor": 5
}
