{
 "cells": [
  {
   "cell_type": "markdown",
   "id": "6bba9473",
   "metadata": {},
   "source": [
    "# Minimum Cost Tree From Leaf Values"
   ]
  },
  {
   "cell_type": "markdown",
   "id": "72f7d8f5",
   "metadata": {},
   "source": [
    "Given an array arr of positive integers, consider all binary trees such that:\n",
    "\n",
    "Each node has either 0 or 2 children;\n",
    "The values of arr correspond to the values of each leaf in an in-order traversal of the tree.\n",
    "The value of each non-leaf node is equal to the product of the largest leaf value in its left and right subtree, respectively.\n",
    "Among all possible binary trees considered, return the smallest possible sum of the values of each non-leaf node. It is guaranteed this sum fits into a 32-bit integer.\n",
    "\n",
    "A node is a leaf if and only if it has zero children.\n",
    "\n",
    "**Example 1:**\n",
    "\n",
    "Input: arr = [6,2,4]\n",
    "Output: 32\n",
    "Explanation: There are two possible trees shown.\n",
    "The first has a non-leaf node sum 36, and the second has non-leaf node sum 32.\n",
    "\n",
    "**Example 2:**\n",
    "\n",
    "Input: arr = [4,11]\n",
    "Output: 44\n",
    "\n",
    "**Constraints:**\n",
    "\n",
    "- 2 <= arr.length <= 40\n",
    "- 1 <= arr[i] <= 15\n",
    "- It is guaranteed that the answer fits into a 32-bit signed integer (i.e., it is less than 231)."
   ]
  },
  {
   "cell_type": "code",
   "execution_count": 1,
   "id": "96ada831",
   "metadata": {},
   "outputs": [
    {
     "name": "stdout",
     "output_type": "stream",
     "text": [
      "32\n",
      "44\n"
     ]
    }
   ],
   "source": [
    "def minNonLeafSum(arr):\n",
    "    stack = []\n",
    "    result = 0\n",
    "\n",
    "    for num in arr:\n",
    "        while stack and stack[-1] <= num:\n",
    "            mid = stack.pop()\n",
    "            left = stack[-1] if stack else float('inf')\n",
    "            result += mid * min(left, num)\n",
    "\n",
    "        stack.append(num)\n",
    "\n",
    "    while len(stack) > 1:\n",
    "        result += stack.pop() * stack[-1]\n",
    "\n",
    "    return result\n",
    "\n",
    "# Example test cases\n",
    "print(minNonLeafSum([6,2,4]))  # Output: 32\n",
    "print(minNonLeafSum([4,11]))   # Output: 44"
   ]
  },
  {
   "cell_type": "code",
   "execution_count": null,
   "id": "2baab044",
   "metadata": {},
   "outputs": [],
   "source": []
  }
 ],
 "metadata": {
  "kernelspec": {
   "display_name": "Python 3 (ipykernel)",
   "language": "python",
   "name": "python3"
  },
  "language_info": {
   "codemirror_mode": {
    "name": "ipython",
    "version": 3
   },
   "file_extension": ".py",
   "mimetype": "text/x-python",
   "name": "python",
   "nbconvert_exporter": "python",
   "pygments_lexer": "ipython3",
   "version": "3.8.11"
  }
 },
 "nbformat": 4,
 "nbformat_minor": 5
}
