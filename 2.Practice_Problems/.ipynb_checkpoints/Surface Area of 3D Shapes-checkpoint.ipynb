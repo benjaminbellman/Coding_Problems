{
 "cells": [
  {
   "cell_type": "markdown",
   "id": "0c17bab4",
   "metadata": {},
   "source": [
    "# Surface Area of 3D Shapes"
   ]
  },
  {
   "cell_type": "markdown",
   "id": "f5c150d9",
   "metadata": {},
   "source": [
    "You are given an n x n grid where you have placed some 1 x 1 x 1 cubes. Each value v = grid[i][j] represents a tower of v cubes placed on top of cell (i, j).\n",
    "\n",
    "After placing these cubes, you have decided to glue any directly adjacent cubes to each other, forming several irregular 3D shapes.\n",
    "\n",
    "Return the total surface area of the resulting shapes.\n",
    "\n",
    "Note: The bottom face of each shape counts toward its surface area.\n",
    "\n",
    "**Example 1:**\n",
    "\n",
    "Input: grid = [[1,2],[3,4]]\n",
    "Output: 34\n",
    "\n",
    "**Example 2:**\n",
    "\n",
    "Input: grid = [[1,1,1],[1,0,1],[1,1,1]]\n",
    "Output: 32\n",
    "\n",
    "**Example 3:**\n",
    "\n",
    "Input: grid = [[2,2,2],[2,1,2],[2,2,2]]\n",
    "Output: 46\n",
    "\n",
    "**Constraints:**\n",
    "\n",
    "- n == grid.length == grid[i].length\n",
    "- 1 <= n <= 50\n",
    "- 0 <= grid[i][j] <= 50"
   ]
  },
  {
   "cell_type": "code",
   "execution_count": 1,
   "id": "52789508",
   "metadata": {},
   "outputs": [],
   "source": [
    "def surfaceArea(grid):\n",
    "    n = len(grid)\n",
    "    total_surface_area = 0\n",
    "    \n",
    "    # Iterate through each cell in the grid\n",
    "    for i in range(n):\n",
    "        for j in range(n):\n",
    "            # Number of cubes at cell (i, j)\n",
    "            v = grid[i][j]\n",
    "            \n",
    "            if v == 0:\n",
    "                continue\n",
    "            \n",
    "            # Add top face and bottom face\n",
    "            total_surface_area += 2\n",
    "            \n",
    "            # Add side faces (6 faces per cube, minus overlaps with neighbors)\n",
    "            total_surface_area += 4 * v\n",
    "            \n",
    "            # Check left neighbor\n",
    "            if i > 0:\n",
    "                total_surface_area -= 2 * min(v, grid[i-1][j])\n",
    "                \n",
    "            # Check right neighbor\n",
    "            if i < n - 1:\n",
    "                total_surface_area -= 2 * min(v, grid[i+1][j])\n",
    "                \n",
    "            # Check top neighbor\n",
    "            if j > 0:\n",
    "                total_surface_area -= 2 * min(v, grid[i][j-1])\n",
    "                \n",
    "            # Check bottom neighbor\n",
    "            if j < n - 1:\n",
    "                total_surface_area -= 2 * min(v, grid[i][j+1])\n",
    "    \n",
    "    return total_surface_area"
   ]
  },
  {
   "cell_type": "code",
   "execution_count": null,
   "id": "c0fb57b1",
   "metadata": {},
   "outputs": [],
   "source": []
  }
 ],
 "metadata": {
  "kernelspec": {
   "display_name": "Python 3 (ipykernel)",
   "language": "python",
   "name": "python3"
  },
  "language_info": {
   "codemirror_mode": {
    "name": "ipython",
    "version": 3
   },
   "file_extension": ".py",
   "mimetype": "text/x-python",
   "name": "python",
   "nbconvert_exporter": "python",
   "pygments_lexer": "ipython3",
   "version": "3.8.11"
  }
 },
 "nbformat": 4,
 "nbformat_minor": 5
}
