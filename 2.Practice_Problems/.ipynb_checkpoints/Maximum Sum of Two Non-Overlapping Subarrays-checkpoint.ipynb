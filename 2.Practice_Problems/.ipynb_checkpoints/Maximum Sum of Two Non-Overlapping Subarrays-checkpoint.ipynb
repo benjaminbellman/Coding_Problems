{
 "cells": [
  {
   "cell_type": "markdown",
   "id": "6ecfd25d",
   "metadata": {},
   "source": [
    "# Maximum Sum of Two Non-Overlapping Subarrays"
   ]
  },
  {
   "cell_type": "markdown",
   "id": "8c831a6b",
   "metadata": {},
   "source": [
    "Given an integer array nums and two integers firstLen and secondLen, return the maximum sum of elements in two non-overlapping subarrays with lengths firstLen and secondLen.\n",
    "\n",
    "The array with length firstLen could occur before or after the array with length secondLen, but they have to be non-overlapping.\n",
    "\n",
    "A subarray is a contiguous part of an array.\n",
    "\n",
    "**Example 1:**\n",
    "\n",
    "Input: nums = [0,6,5,2,2,5,1,9,4], firstLen = 1, secondLen = 2\n",
    "Output: 20\n",
    "Explanation: One choice of subarrays is [9] with length 1, and [6,5] with length 2.\n",
    "\n",
    "**Example 2:**\n",
    "\n",
    "Input: nums = [3,8,1,3,2,1,8,9,0], firstLen = 3, secondLen = 2\n",
    "Output: 29\n",
    "Explanation: One choice of subarrays is [3,8,1] with length 3, and [8,9] with length 2.\n",
    "\n",
    "**Example 3:**\n",
    "\n",
    "Input: nums = [2,1,5,6,0,9,5,0,3,8], firstLen = 4, secondLen = 3\n",
    "Output: 31\n",
    "Explanation: One choice of subarrays is [5,6,0,9] with length 4, and [0,3,8] with length 3.\n",
    " \n",
    "**Constraints:**\n",
    "\n",
    "- 1 <= firstLen, secondLen <= 1000\n",
    "- 2 <= firstLen + secondLen <= 1000\n",
    "- firstLen + secondLen <= nums.length <= 1000\n",
    "- 0 <= nums[i] <= 1000"
   ]
  },
  {
   "cell_type": "code",
   "execution_count": 1,
   "id": "318e0a2d",
   "metadata": {},
   "outputs": [
    {
     "name": "stdout",
     "output_type": "stream",
     "text": [
      "20\n",
      "29\n",
      "31\n"
     ]
    }
   ],
   "source": [
    "def maxSumTwoNoOverlap(nums, firstLen, secondLen):\n",
    "    n = len(nums)\n",
    "    prefix = [0] * (n+1)\n",
    "    for i in range(1, n+1):\n",
    "        prefix[i] = prefix[i-1] + nums[i-1]\n",
    "\n",
    "    def subarray_sum(start, length):\n",
    "        return prefix[start+length] - prefix[start]\n",
    "\n",
    "    # Compute max subarray sums from the left for firstLen and secondLen\n",
    "    max_left_first = [0]*n\n",
    "    max_left_first[firstLen-1] = subarray_sum(0, firstLen)\n",
    "    for i in range(firstLen, n):\n",
    "        max_left_first[i] = max(max_left_first[i-1], subarray_sum(i-firstLen+1, firstLen))\n",
    "\n",
    "    max_left_second = [0]*n\n",
    "    max_left_second[secondLen-1] = subarray_sum(0, secondLen)\n",
    "    for i in range(secondLen, n):\n",
    "        max_left_second[i] = max(max_left_second[i-1], subarray_sum(i-secondLen+1, secondLen))\n",
    "\n",
    "    # Compute max subarray sums from the right for firstLen and secondLen\n",
    "    max_right_first = [0]*n\n",
    "    max_right_first[n-firstLen] = subarray_sum(n-firstLen, firstLen)\n",
    "    for i in range(n-firstLen-1, -1, -1):\n",
    "        max_right_first[i] = max(max_right_first[i+1], subarray_sum(i, firstLen))\n",
    "\n",
    "    max_right_second = [0]*n\n",
    "    max_right_second[n-secondLen] = subarray_sum(n-secondLen, secondLen)\n",
    "    for i in range(n-secondLen-1, -1, -1):\n",
    "        max_right_second[i] = max(max_right_second[i+1], subarray_sum(i, secondLen))\n",
    "\n",
    "    # Now, consider all partitions for the two scenarios:\n",
    "    # 1. firstLen on the left, secondLen on the right\n",
    "    res = 0\n",
    "    for i in range(firstLen-1, n-secondLen):\n",
    "        res = max(res, max_left_first[i] + max_right_second[i+1])\n",
    "\n",
    "    # 2. secondLen on the left, firstLen on the right\n",
    "    for i in range(secondLen-1, n-firstLen):\n",
    "        res = max(res, max_left_second[i] + max_right_first[i+1])\n",
    "\n",
    "    return res\n",
    "\n",
    "\n",
    "# Example tests\n",
    "print(maxSumTwoNoOverlap([0,6,5,2,2,5,1,9,4], 1, 2))  # Output: 20\n",
    "print(maxSumTwoNoOverlap([3,8,1,3,2,1,8,9,0], 3, 2)) # Output: 29\n",
    "print(maxSumTwoNoOverlap([2,1,5,6,0,9,5,0,3,8], 4, 3)) # Output: 31"
   ]
  },
  {
   "cell_type": "code",
   "execution_count": null,
   "id": "2cc208d7",
   "metadata": {},
   "outputs": [],
   "source": []
  }
 ],
 "metadata": {
  "kernelspec": {
   "display_name": "Python 3 (ipykernel)",
   "language": "python",
   "name": "python3"
  },
  "language_info": {
   "codemirror_mode": {
    "name": "ipython",
    "version": 3
   },
   "file_extension": ".py",
   "mimetype": "text/x-python",
   "name": "python",
   "nbconvert_exporter": "python",
   "pygments_lexer": "ipython3",
   "version": "3.8.11"
  }
 },
 "nbformat": 4,
 "nbformat_minor": 5
}
