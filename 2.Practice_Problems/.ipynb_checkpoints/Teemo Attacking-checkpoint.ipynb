{
 "cells": [
  {
   "cell_type": "markdown",
   "id": "4446e52d",
   "metadata": {},
   "source": [
    "# Teemo Attacking"
   ]
  },
  {
   "cell_type": "markdown",
   "id": "d1295b38",
   "metadata": {},
   "source": [
    "Our hero Teemo is attacking an enemy Ashe with poison attacks! When Teemo attacks Ashe, Ashe gets poisoned for a exactly duration seconds. More formally, an attack at second t will mean Ashe is poisoned during the inclusive time interval [t, t + duration - 1]. If Teemo attacks again before the poison effect ends, the timer for it is reset, and the poison effect will end duration seconds after the new attack.\n",
    "\n",
    "You are given a non-decreasing integer array timeSeries, where timeSeries[i] denotes that Teemo attacks Ashe at second timeSeries[i], and an integer duration.\n",
    "\n",
    "Return the total number of seconds that Ashe is poisoned.\n",
    "\n",
    " \n",
    "\n",
    "**Example 1:**\n",
    "\n",
    "Input: timeSeries = [1,4], duration = 2\n",
    "Output: 4\n",
    "Explanation: Teemo's attacks on Ashe go as follows:\n",
    "- At second 1, Teemo attacks, and Ashe is poisoned for seconds 1 and 2.\n",
    "- At second 4, Teemo attacks, and Ashe is poisoned for seconds 4 and 5.\n",
    "Ashe is poisoned for seconds 1, 2, 4, and 5, which is 4 seconds in total.\n",
    "\n",
    "**Example 2:**\n",
    "\n",
    "Input: timeSeries = [1,2], duration = 2\n",
    "Output: 3\n",
    "Explanation: Teemo's attacks on Ashe go as follows:\n",
    "- At second 1, Teemo attacks, and Ashe is poisoned for seconds 1 and 2.\n",
    "- At second 2 however, Teemo attacks again and resets the poison timer. Ashe is poisoned for seconds 2 and 3.\n",
    "Ashe is poisoned for seconds 1, 2, and 3, which is 3 seconds in total.\n",
    " \n",
    "\n",
    "**Constraints:**\n",
    "\n",
    "- 1 <= timeSeries.length <= 104\n",
    "- 0 <= timeSeries[i], duration <= 107\n",
    "- timeSeries is sorted in non-decreasing order."
   ]
  },
  {
   "cell_type": "code",
   "execution_count": 1,
   "id": "897e6ed8",
   "metadata": {},
   "outputs": [
    {
     "name": "stdout",
     "output_type": "stream",
     "text": [
      "4\n",
      "3\n"
     ]
    }
   ],
   "source": [
    "def findPoisonedDuration(timeSeries, duration):\n",
    "    if not timeSeries or duration == 0:\n",
    "        return 0\n",
    "    \n",
    "    total_time_poisoned = 0\n",
    "    n = len(timeSeries)\n",
    "    \n",
    "    # Iterate through each attack time\n",
    "    for i in range(n - 1):\n",
    "        # If the time gap between two attacks is smaller than duration, then we only count the time gap.\n",
    "        # Otherwise, count the full duration of the poison.\n",
    "        total_time_poisoned += min(timeSeries[i + 1] - timeSeries[i], duration)\n",
    "        \n",
    "    # Add the duration for the last attack\n",
    "    total_time_poisoned += duration\n",
    "    \n",
    "    return total_time_poisoned\n",
    "\n",
    "# Example 1\n",
    "print(findPoisonedDuration([1, 4], 2))  # Output should be 4\n",
    "\n",
    "# Example 2\n",
    "print(findPoisonedDuration([1, 2], 2))  # Output should be 3"
   ]
  }
 ],
 "metadata": {
  "kernelspec": {
   "display_name": "Python 3",
   "language": "python",
   "name": "python3"
  },
  "language_info": {
   "codemirror_mode": {
    "name": "ipython",
    "version": 3
   },
   "file_extension": ".py",
   "mimetype": "text/x-python",
   "name": "python",
   "nbconvert_exporter": "python",
   "pygments_lexer": "ipython3",
   "version": "3.9.13"
  }
 },
 "nbformat": 4,
 "nbformat_minor": 5
}
