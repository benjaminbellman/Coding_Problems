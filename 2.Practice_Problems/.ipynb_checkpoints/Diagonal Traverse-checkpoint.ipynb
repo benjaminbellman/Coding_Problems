{
 "cells": [
  {
   "cell_type": "markdown",
   "id": "95e87e61",
   "metadata": {},
   "source": [
    "# Diagonal Traverse"
   ]
  },
  {
   "cell_type": "markdown",
   "id": "4a49b435",
   "metadata": {},
   "source": [
    "Given an m x n matrix mat, return an array of all the elements of the array in a diagonal order.\n",
    "\n",
    " \n",
    "\n",
    "**Example 1:**\n",
    "\n",
    "\n",
    "Input: mat = [[1,2,3],[4,5,6],[7,8,9]]\n",
    "Output: [1,2,4,7,5,3,6,8,9]\n",
    "\n",
    "**Example 2:**\n",
    "\n",
    "Input: mat = [[1,2],[3,4]]\n",
    "Output: [1,2,3,4]\n",
    " \n",
    "\n",
    "**Constraints:**\n",
    "\n",
    "- m == mat.length\n",
    "- n == mat[i].length\n",
    "- 1 <= m, n <= 104\n",
    "- 1 <= m * n <= 104\n",
    "- -105 <= mat[i][j] <= 105"
   ]
  },
  {
   "cell_type": "code",
   "execution_count": 1,
   "id": "bb070d7b",
   "metadata": {},
   "outputs": [
    {
     "name": "stdout",
     "output_type": "stream",
     "text": [
      "[1, 2, 4, 7, 5, 3, 6, 8, 9]\n",
      "[1, 2, 3, 4]\n"
     ]
    }
   ],
   "source": [
    "def findDiagonalOrder(mat):\n",
    "    if not mat or not mat[0]:\n",
    "        return []\n",
    "    \n",
    "    m, n = len(mat), len(mat[0])\n",
    "    result = []\n",
    "    row, col = 0, 0\n",
    "    direction = 1  # 1 for up-right, -1 for down-left\n",
    "    \n",
    "    while len(result) < m * n:\n",
    "        result.append(mat[row][col])\n",
    "        \n",
    "        if direction == 1:  # Moving up-right\n",
    "            new_row, new_col = row - 1, col + 1\n",
    "        else:  # Moving down-left\n",
    "            new_row, new_col = row + 1, col - 1\n",
    "        \n",
    "        # Check if we're out of bounds\n",
    "        if new_row < 0 or new_row == m or new_col < 0 or new_col == n:\n",
    "            if direction == 1:  # Moving up-right\n",
    "                if new_col == n:\n",
    "                    row += 1\n",
    "                else:\n",
    "                    col += 1\n",
    "            else:  # Moving down-left\n",
    "                if new_row == m:\n",
    "                    col += 1\n",
    "                else:\n",
    "                    row += 1\n",
    "            \n",
    "            # Change direction\n",
    "            direction *= -1\n",
    "        else:\n",
    "            row, col = new_row, new_col\n",
    "    \n",
    "    return result\n",
    "\n",
    "# Example 1\n",
    "mat1 = [[1,2,3],[4,5,6],[7,8,9]]\n",
    "print(findDiagonalOrder(mat1))  # Output: [1,2,4,7,5,3,6,8,9]\n",
    "\n",
    "# Example 2\n",
    "mat2 = [[1,2],[3,4]]\n",
    "print(findDiagonalOrder(mat2))  # Output: [1,2,3,4]"
   ]
  },
  {
   "cell_type": "code",
   "execution_count": null,
   "id": "95f9771a",
   "metadata": {},
   "outputs": [],
   "source": []
  }
 ],
 "metadata": {
  "kernelspec": {
   "display_name": "Python 3",
   "language": "python",
   "name": "python3"
  },
  "language_info": {
   "codemirror_mode": {
    "name": "ipython",
    "version": 3
   },
   "file_extension": ".py",
   "mimetype": "text/x-python",
   "name": "python",
   "nbconvert_exporter": "python",
   "pygments_lexer": "ipython3",
   "version": "3.9.13"
  }
 },
 "nbformat": 4,
 "nbformat_minor": 5
}
