{
 "cells": [
  {
   "cell_type": "markdown",
   "id": "bdb87418",
   "metadata": {},
   "source": [
    "# Toeplitz Matrix"
   ]
  },
  {
   "cell_type": "markdown",
   "id": "6e7a1c98",
   "metadata": {},
   "source": [
    "Given an m x n matrix, return true if the matrix is Toeplitz. Otherwise, return false.\n",
    "\n",
    "A matrix is Toeplitz if every diagonal from top-left to bottom-right has the same elements.\n",
    "\n",
    " \n",
    "\n",
    "**Example 1:**\n",
    "\n",
    "\n",
    "Input: matrix = [[1,2,3,4],[5,1,2,3],[9,5,1,2]]\n",
    "\n",
    "Output: true\n",
    "Explanation:\n",
    "In the above grid, the diagonals are:\n",
    "\"[9]\", \"[5, 5]\", \"[1, 1, 1]\", \"[2, 2, 2]\", \"[3, 3]\", \"[4]\".\n",
    "In each diagonal all elements are the same, so the answer is True.\n",
    "\n",
    "**Example 2:**\n",
    "\n",
    "\n",
    "Input: matrix = [[1,2],[2,2]]\n",
    "\n",
    "Output: false\n",
    "Explanation:\n",
    "The diagonal \"[1, 2]\" has different elements.\n",
    " \n",
    "\n",
    "**Constraints:**\n",
    "\n",
    "- m == matrix.length\n",
    "- n == matrix[i].length\n",
    "- 1 <= m, n <= 20\n",
    "- 0 <= matrix[i][j] <= 99"
   ]
  },
  {
   "cell_type": "code",
   "execution_count": 1,
   "id": "1f5642ad",
   "metadata": {},
   "outputs": [],
   "source": [
    "def isToeplitzMatrix(matrix):\n",
    "    m, n = len(matrix), len(matrix[0])\n",
    "    \n",
    "    # Check diagonals starting from the top row\n",
    "    for i in range(m):\n",
    "        for j in range(n):\n",
    "            # Check if element is not in the top row or leftmost column\n",
    "            if i > 0 and j > 0:\n",
    "                # If current element is not equal to element diagonally above and to the left, return False\n",
    "                if matrix[i][j] != matrix[i - 1][j - 1]:\n",
    "                    return False\n",
    "                \n",
    "    return True"
   ]
  },
  {
   "cell_type": "code",
   "execution_count": 2,
   "id": "5198dc02",
   "metadata": {},
   "outputs": [
    {
     "name": "stdout",
     "output_type": "stream",
     "text": [
      "True\n",
      "False\n"
     ]
    }
   ],
   "source": [
    "matrix1 = [[1,2,3,4],[5,1,2,3],[9,5,1,2]]\n",
    "matrix2 = [[1,2],[2,2]]\n",
    "\n",
    "print(isToeplitzMatrix(matrix1))  # Output: True\n",
    "print(isToeplitzMatrix(matrix2))  # Output: False"
   ]
  },
  {
   "cell_type": "code",
   "execution_count": null,
   "id": "fe7031a5",
   "metadata": {},
   "outputs": [],
   "source": []
  }
 ],
 "metadata": {
  "kernelspec": {
   "display_name": "Python 3",
   "language": "python",
   "name": "python3"
  },
  "language_info": {
   "codemirror_mode": {
    "name": "ipython",
    "version": 3
   },
   "file_extension": ".py",
   "mimetype": "text/x-python",
   "name": "python",
   "nbconvert_exporter": "python",
   "pygments_lexer": "ipython3",
   "version": "3.9.13"
  }
 },
 "nbformat": 4,
 "nbformat_minor": 5
}
