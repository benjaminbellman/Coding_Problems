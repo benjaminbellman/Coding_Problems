{
 "cells": [
  {
   "cell_type": "markdown",
   "id": "b9318cdb",
   "metadata": {},
   "source": [
    "# Valid Square"
   ]
  },
  {
   "cell_type": "markdown",
   "id": "bb0c6465",
   "metadata": {},
   "source": [
    "Given the coordinates of four points in 2D space p1, p2, p3 and p4, return true if the four points construct a square.\n",
    "\n",
    "The coordinate of a point pi is represented as [xi, yi]. The input is not given in any order.\n",
    "\n",
    "A valid square has four equal sides with positive length and four equal angles (90-degree angles).\n",
    "\n",
    " \n",
    "\n",
    "**Example 1:**\n",
    "\n",
    "Input: p1 = [0,0], p2 = [1,1], p3 = [1,0], p4 = [0,1]\n",
    "\n",
    "Output: true\n",
    "\n",
    "**Example 2:**\n",
    "\n",
    "Input: p1 = [0,0], p2 = [1,1], p3 = [1,0], p4 = [0,12]\n",
    "\n",
    "Output: false\n",
    "\n",
    "**Example 3:**\n",
    "\n",
    "Input: p1 = [1,0], p2 = [-1,0], p3 = [0,1], p4 = [0,-1]\n",
    "\n",
    "Output: true\n",
    " \n",
    "\n",
    "**Constraints:**\n",
    "\n",
    "- p1.length == p2.length == p3.length == p4.length == 2\n",
    "- -104 <= xi, yi <= 104"
   ]
  },
  {
   "cell_type": "code",
   "execution_count": 1,
   "id": "40b3ee3a",
   "metadata": {},
   "outputs": [
    {
     "data": {
      "text/plain": [
       "[False, False, False]"
      ]
     },
     "execution_count": 1,
     "metadata": {},
     "output_type": "execute_result"
    }
   ],
   "source": [
    "def is_square(p1, p2, p3, p4):\n",
    "    def dist_squared(p1, p2):\n",
    "        \"\"\"Calculate the squared distance between two points.\"\"\"\n",
    "        return (p1[0] - p2[0])**2 + (p1[1] - p2[1])**2\n",
    "\n",
    "    def is_right_angle(p1, p2, p3):\n",
    "        \"\"\"Check if the angle formed by three points is a right angle.\"\"\"\n",
    "        return dist_squared(p1, p2) + dist_squared(p2, p3) == dist_squared(p1, p3)\n",
    "\n",
    "    # Calculate distances between every pair of points\n",
    "    distances = [\n",
    "        dist_squared(p1, p2),\n",
    "        dist_squared(p1, p3),\n",
    "        dist_squared(p1, p4),\n",
    "        dist_squared(p2, p3),\n",
    "        dist_squared(p2, p4),\n",
    "        dist_squared(p3, p4)\n",
    "    ]\n",
    "\n",
    "    # Find unique distances (sides and diagonals of the quadrilateral)\n",
    "    unique_distances = set(distances)\n",
    "\n",
    "    # A square must have exactly 2 unique distances: sides and diagonals\n",
    "    if len(unique_distances) != 2:\n",
    "        return False\n",
    "\n",
    "    # The longer distance in a square is the diagonal, which should be twice the side's length\n",
    "    side, diagonal = min(unique_distances), max(unique_distances)\n",
    "    if diagonal != 2 * side:\n",
    "        return False\n",
    "\n",
    "    # Check if all angles are right angles\n",
    "    return all([\n",
    "        is_right_angle(p1, p2, p4),\n",
    "        is_right_angle(p2, p1, p3),\n",
    "        is_right_angle(p3, p2, p4),\n",
    "        is_right_angle(p4, p1, p3)\n",
    "    ])\n",
    "\n",
    "# Test the function with the provided examples\n",
    "test_cases = [\n",
    "    ([0,0], [1,1], [1,0], [0,1]),  # Example 1\n",
    "    ([0,0], [1,1], [1,0], [0,12]), # Example 2\n",
    "    ([1,0], [-1,0], [0,1], [0,-1]) # Example 3\n",
    "]\n",
    "\n",
    "[is_square(*test_case) for test_case in test_cases]"
   ]
  },
  {
   "cell_type": "code",
   "execution_count": null,
   "id": "b3f4bd4c",
   "metadata": {},
   "outputs": [],
   "source": []
  }
 ],
 "metadata": {
  "kernelspec": {
   "display_name": "Python 3",
   "language": "python",
   "name": "python3"
  },
  "language_info": {
   "codemirror_mode": {
    "name": "ipython",
    "version": 3
   },
   "file_extension": ".py",
   "mimetype": "text/x-python",
   "name": "python",
   "nbconvert_exporter": "python",
   "pygments_lexer": "ipython3",
   "version": "3.9.13"
  }
 },
 "nbformat": 4,
 "nbformat_minor": 5
}
