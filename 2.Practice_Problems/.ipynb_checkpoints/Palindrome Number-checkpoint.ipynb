{
 "cells": [
  {
   "cell_type": "markdown",
   "id": "3e30665f",
   "metadata": {},
   "source": [
    "# Palindrome Number"
   ]
  },
  {
   "cell_type": "markdown",
   "id": "b6ad7be6",
   "metadata": {},
   "source": [
    "**Example 1:**\n",
    "\n",
    "Input: x = 121\n",
    "Output: true\n",
    "Explanation: 121 reads as 121 from left to right and from right to left.\n",
    "\n",
    "**Example 2:**\n",
    "\n",
    "Input: x = -121\n",
    "Output: false\n",
    "Explanation: From left to right, it reads -121. From right to left, it becomes 121-. Therefore it is not a palindrome.\n",
    "\n",
    "**Example 3:**\n",
    "\n",
    "Input: x = 10\n",
    "Output: false\n",
    "Explanation: Reads 01 from right to left. Therefore it is not a palindrome.\n",
    " \n",
    "**Constraints:**\n",
    "\n",
    "- -231 <= x <= 231 - 1"
   ]
  },
  {
   "cell_type": "code",
   "execution_count": 1,
   "id": "43ddf62b",
   "metadata": {},
   "outputs": [],
   "source": [
    "def is_palindrome(x: int) -> bool:\n",
    "    # Edge cases\n",
    "    if x < 0 or (x % 10 == 0 and x != 0):\n",
    "        return False\n",
    "\n",
    "    reversed_half = 0\n",
    "    while x > reversed_half:\n",
    "        reversed_half = reversed_half * 10 + x % 10\n",
    "        x //= 10\n",
    "\n",
    "    # For even-length numbers, x should equal reversed_half.\n",
    "    # For odd-length numbers, reversed_half // 10 will remove the middle digit.\n",
    "    return x == reversed_half or x == reversed_half // 10"
   ]
  },
  {
   "cell_type": "code",
   "execution_count": null,
   "id": "05132a06",
   "metadata": {},
   "outputs": [],
   "source": []
  }
 ],
 "metadata": {
  "kernelspec": {
   "display_name": "Python 3 (ipykernel)",
   "language": "python",
   "name": "python3"
  },
  "language_info": {
   "codemirror_mode": {
    "name": "ipython",
    "version": 3
   },
   "file_extension": ".py",
   "mimetype": "text/x-python",
   "name": "python",
   "nbconvert_exporter": "python",
   "pygments_lexer": "ipython3",
   "version": "3.8.11"
  }
 },
 "nbformat": 4,
 "nbformat_minor": 5
}
