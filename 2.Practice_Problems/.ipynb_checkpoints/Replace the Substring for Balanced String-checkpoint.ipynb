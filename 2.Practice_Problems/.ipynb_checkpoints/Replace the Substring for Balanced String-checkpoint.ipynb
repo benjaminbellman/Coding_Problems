{
 "cells": [
  {
   "cell_type": "markdown",
   "id": "3c1c0e1b",
   "metadata": {},
   "source": [
    "# Replace the Substring for Balanced String"
   ]
  },
  {
   "cell_type": "markdown",
   "id": "6e956be3",
   "metadata": {},
   "source": [
    "You are given a string s of length n containing only four kinds of characters: 'Q', 'W', 'E', and 'R'.\n",
    "\n",
    "A string is said to be balanced if each of its characters appears n / 4 times where n is the length of the string.\n",
    "\n",
    "Return the minimum length of the substring that can be replaced with any other string of the same length to make s balanced. If s is already balanced, return 0.\n",
    "\n",
    "**Example 1:**\n",
    "\n",
    "Input: s = \"QWER\"\n",
    "Output: 0\n",
    "Explanation: s is already balanced.\n",
    "\n",
    "**Example 2:**\n",
    "\n",
    "Input: s = \"QQWE\"\n",
    "Output: 1\n",
    "Explanation: We need to replace a 'Q' to 'R', so that \"RQWE\" (or \"QRWE\") is balanced.\n",
    "\n",
    "**Example 3:**\n",
    "\n",
    "Input: s = \"QQQW\"\n",
    "Output: 2\n",
    "Explanation: We can replace the first \"QQ\" to \"ER\". \n",
    " \n",
    "**Constraints:**\n",
    "\n",
    "- n == s.length\n",
    "- 4 <= n <= 105\n",
    "- n is a multiple of 4.\n",
    "- s contains only 'Q', 'W', 'E', and 'R'."
   ]
  },
  {
   "cell_type": "code",
   "execution_count": 1,
   "id": "3c230478",
   "metadata": {},
   "outputs": [],
   "source": [
    "from collections import Counter\n",
    "\n",
    "def balancedString(s: str) -> int:\n",
    "    n = len(s)\n",
    "    target = n // 4\n",
    "    count = Counter(s)\n",
    "\n",
    "    # Early return if already balanced\n",
    "    if all(count[c] == target for c in 'QWER'):\n",
    "        return 0\n",
    "\n",
    "    min_len = n\n",
    "    left = 0\n",
    "    excess = {c: count[c] - target for c in 'QWER' if count[c] > target}\n",
    "    \n",
    "    current = Counter()\n",
    "\n",
    "    for right in range(n):\n",
    "        current[s[right]] += 1\n",
    "\n",
    "        while all(current[c] >= excess.get(c, 0) for c in excess):\n",
    "            min_len = min(min_len, right - left + 1)\n",
    "            current[s[left]] -= 1\n",
    "            left += 1\n",
    "\n",
    "    return min_len"
   ]
  },
  {
   "cell_type": "code",
   "execution_count": null,
   "id": "76729dcc",
   "metadata": {},
   "outputs": [],
   "source": []
  }
 ],
 "metadata": {
  "kernelspec": {
   "display_name": "Python 3 (ipykernel)",
   "language": "python",
   "name": "python3"
  },
  "language_info": {
   "codemirror_mode": {
    "name": "ipython",
    "version": 3
   },
   "file_extension": ".py",
   "mimetype": "text/x-python",
   "name": "python",
   "nbconvert_exporter": "python",
   "pygments_lexer": "ipython3",
   "version": "3.8.11"
  }
 },
 "nbformat": 4,
 "nbformat_minor": 5
}
