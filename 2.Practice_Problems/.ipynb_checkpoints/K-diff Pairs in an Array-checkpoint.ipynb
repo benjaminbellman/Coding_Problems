{
 "cells": [
  {
   "cell_type": "markdown",
   "id": "e22a6afe",
   "metadata": {},
   "source": [
    "# K-diff Pairs in an Array"
   ]
  },
  {
   "cell_type": "markdown",
   "id": "8e50e03c",
   "metadata": {},
   "source": [
    "Given an array of integers nums and an integer k, return the number of unique k-diff pairs in the array.\n",
    "\n",
    "A k-diff pair is an integer pair (nums[i], nums[j]), where the following are true:\n",
    "\n",
    "0 <= i, j < nums.length\n",
    "i != j\n",
    "|nums[i] - nums[j]| == k\n",
    "Notice that |val| denotes the absolute value of val.\n",
    "\n",
    " \n",
    "\n",
    "**Example 1:**\n",
    "\n",
    "Input: nums = [3,1,4,1,5], k = 2\n",
    "Output: 2\n",
    "Explanation: There are two 2-diff pairs in the array, (1, 3) and (3, 5).\n",
    "Although we have two 1s in the input, we should only return the number of unique pairs.\n",
    "\n",
    "**Example 2:**\n",
    "\n",
    "Input: nums = [1,2,3,4,5], k = 1\n",
    "Output: 4\n",
    "Explanation: There are four 1-diff pairs in the array, (1, 2), (2, 3), (3, 4) and (4, 5).\n",
    "\n",
    "**Example 3:**\n",
    "\n",
    "Input: nums = [1,3,1,5,4], k = 0\n",
    "Output: 1\n",
    "Explanation: There is one 0-diff pair in the array, (1, 1).\n",
    " \n",
    "\n",
    "**Constraints:**\n",
    "\n",
    "- 1 <= nums.length <= 104\n",
    "- -107 <= nums[i] <= 107\n",
    "- 0 <= k <= 107"
   ]
  },
  {
   "cell_type": "code",
   "execution_count": 1,
   "id": "ff08dd50",
   "metadata": {},
   "outputs": [
    {
     "name": "stdout",
     "output_type": "stream",
     "text": [
      "2\n",
      "4\n",
      "1\n"
     ]
    }
   ],
   "source": [
    "def findPairs(nums, k):\n",
    "    if k < 0:\n",
    "        return 0\n",
    "\n",
    "    num_counts = {}\n",
    "    unique_pairs = set()\n",
    "\n",
    "    for num in nums:\n",
    "        if num in num_counts:\n",
    "            num_counts[num] += 1\n",
    "        else:\n",
    "            num_counts[num] = 1\n",
    "\n",
    "    for num in num_counts:\n",
    "        if k == 0:\n",
    "            if num_counts[num] >= 2:\n",
    "                unique_pairs.add((num, num))\n",
    "        else:\n",
    "            if num + k in num_counts:\n",
    "                unique_pairs.add((num, num + k))\n",
    "            if num - k in num_counts:\n",
    "                unique_pairs.add((num - k, num))\n",
    "\n",
    "    return len(unique_pairs)\n",
    "\n",
    "# Example usage:\n",
    "nums1 = [3, 1, 4, 1, 5]\n",
    "k1 = 2\n",
    "print(findPairs(nums1, k1))  # Output: 2\n",
    "\n",
    "nums2 = [1, 2, 3, 4, 5]\n",
    "k2 = 1\n",
    "print(findPairs(nums2, k2))  # Output: 4\n",
    "\n",
    "nums3 = [1, 3, 1, 5, 4]\n",
    "k3 = 0\n",
    "print(findPairs(nums3, k3))  # Output: 1"
   ]
  },
  {
   "cell_type": "code",
   "execution_count": null,
   "id": "213dead3",
   "metadata": {},
   "outputs": [],
   "source": []
  }
 ],
 "metadata": {
  "kernelspec": {
   "display_name": "Python 3",
   "language": "python",
   "name": "python3"
  },
  "language_info": {
   "codemirror_mode": {
    "name": "ipython",
    "version": 3
   },
   "file_extension": ".py",
   "mimetype": "text/x-python",
   "name": "python",
   "nbconvert_exporter": "python",
   "pygments_lexer": "ipython3",
   "version": "3.9.13"
  }
 },
 "nbformat": 4,
 "nbformat_minor": 5
}
