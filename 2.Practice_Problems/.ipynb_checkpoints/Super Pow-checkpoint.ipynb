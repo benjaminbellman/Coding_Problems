{
 "cells": [
  {
   "cell_type": "markdown",
   "id": "91260f48",
   "metadata": {},
   "source": [
    "# Super Pow"
   ]
  },
  {
   "cell_type": "markdown",
   "id": "0a2bf7c5",
   "metadata": {},
   "source": [
    "Your task is to calculate ab mod 1337 where a is a positive integer and b is an extremely large positive integer given in the form of an array.\n",
    "\n",
    " \n",
    "\n",
    "**Example 1:**\n",
    "\n",
    "Input: a = 2, b = [3]\n",
    "Output: 8\n",
    "\n",
    "**Example 2:**\n",
    "\n",
    "Input: a = 2, b = [1,0]\n",
    "Output: 1024\n",
    "\n",
    "**Example 3:**\n",
    "\n",
    "Input: a = 1, b = [4,3,3,8,5,2]\n",
    "Output: 1\n",
    " \n",
    "\n",
    "**Constraints:**\n",
    "\n",
    "1 <= a <= 231 - 1\n",
    "1 <= b.length <= 2000\n",
    "0 <= b[i] <= 9\n",
    "b does not contain leading zeros."
   ]
  },
  {
   "cell_type": "code",
   "execution_count": 1,
   "id": "5f2bf01f",
   "metadata": {},
   "outputs": [
    {
     "name": "stdout",
     "output_type": "stream",
     "text": [
      "8\n",
      "1024\n",
      "1\n"
     ]
    }
   ],
   "source": [
    "def superPow(a, b):\n",
    "    if a == 1:\n",
    "        return 1\n",
    "    a %= 1337\n",
    "\n",
    "    result = 1\n",
    "    for digit in b:\n",
    "        result = pow(result, 10, 1337) * pow(a, digit, 1337)\n",
    "        result %= 1337\n",
    "    return result\n",
    "\n",
    "# Test examples\n",
    "print(superPow(2, [3]))  # Output: 8\n",
    "print(superPow(2, [1, 0]))  # Output: 1024\n",
    "print(superPow(1, [4, 3, 3, 8, 5, 2]))  # Output: 1"
   ]
  }
 ],
 "metadata": {
  "kernelspec": {
   "display_name": "Python 3",
   "language": "python",
   "name": "python3"
  },
  "language_info": {
   "codemirror_mode": {
    "name": "ipython",
    "version": 3
   },
   "file_extension": ".py",
   "mimetype": "text/x-python",
   "name": "python",
   "nbconvert_exporter": "python",
   "pygments_lexer": "ipython3",
   "version": "3.9.13"
  }
 },
 "nbformat": 4,
 "nbformat_minor": 5
}
