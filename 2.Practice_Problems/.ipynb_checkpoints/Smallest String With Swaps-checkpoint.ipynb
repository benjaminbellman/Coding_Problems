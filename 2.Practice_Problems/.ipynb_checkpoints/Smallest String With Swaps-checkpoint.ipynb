{
 "cells": [
  {
   "cell_type": "markdown",
   "id": "fba9abbe",
   "metadata": {},
   "source": [
    "# Smallest String With Swaps"
   ]
  },
  {
   "cell_type": "markdown",
   "id": "2a128243",
   "metadata": {},
   "source": [
    "You are given a string s, and an array of pairs of indices in the string pairs where pairs[i] = [a, b] indicates 2 indices(0-indexed) of the string.\n",
    "\n",
    "You can swap the characters at any pair of indices in the given pairs any number of times.\n",
    "\n",
    "Return the lexicographically smallest string that s can be changed to after using the swaps.\n",
    "\n",
    "**Example 1:**\n",
    "\n",
    "Input: s = \"dcab\", pairs = [[0,3],[1,2]]\n",
    "Output: \"bacd\"\n",
    "Explaination: \n",
    "Swap s[0] and s[3], s = \"bcad\"\n",
    "Swap s[1] and s[2], s = \"bacd\"\n",
    "\n",
    "**Example 2:**\n",
    "\n",
    "Input: s = \"dcab\", pairs = [[0,3],[1,2],[0,2]]\n",
    "Output: \"abcd\"\n",
    "Explaination: \n",
    "Swap s[0] and s[3], s = \"bcad\"\n",
    "Swap s[0] and s[2], s = \"acbd\"\n",
    "Swap s[1] and s[2], s = \"abcd\"\n",
    "\n",
    "**Example 3:**\n",
    "\n",
    "Input: s = \"cba\", pairs = [[0,1],[1,2]]\n",
    "Output: \"abc\"\n",
    "Explaination: \n",
    "Swap s[0] and s[1], s = \"bca\"\n",
    "Swap s[1] and s[2], s = \"bac\"\n",
    "Swap s[0] and s[1], s = \"abc\"\n",
    " \n",
    "**Constraints:**\n",
    "\n",
    "- 1 <= s.length <= 10^5\n",
    "- 0 <= pairs.length <= 10^5\n",
    "- 0 <= pairs[i][0], pairs[i][1] < s.length\n",
    "- s only contains lower case English letters."
   ]
  },
  {
   "cell_type": "code",
   "execution_count": 1,
   "id": "c906dfa1",
   "metadata": {},
   "outputs": [],
   "source": [
    "from collections import defaultdict\n",
    "\n",
    "class UnionFind:\n",
    "    def __init__(self, size):\n",
    "        self.parent = list(range(size))\n",
    "        \n",
    "    def find(self, x):\n",
    "        if self.parent[x] != x:\n",
    "            self.parent[x] = self.find(self.parent[x])  # Path compression\n",
    "        return self.parent[x]\n",
    "    \n",
    "    def union(self, x, y):\n",
    "        self.parent[self.find(x)] = self.find(y)\n",
    "\n",
    "def smallestStringWithSwaps(s, pairs):\n",
    "    n = len(s)\n",
    "    uf = UnionFind(n)\n",
    "\n",
    "    # Step 1: Union-Find to build components\n",
    "    for a, b in pairs:\n",
    "        uf.union(a, b)\n",
    "    \n",
    "    # Step 2: Group all indices by their root parent\n",
    "    components = defaultdict(list)\n",
    "    for i in range(n):\n",
    "        root = uf.find(i)\n",
    "        components[root].append(i)\n",
    "    \n",
    "    # Step 3: For each component, sort the characters and assign back\n",
    "    res = list(s)\n",
    "    for indices in components.values():\n",
    "        chars = [res[i] for i in indices]\n",
    "        chars.sort()\n",
    "        for i, char in zip(sorted(indices), chars):\n",
    "            res[i] = char\n",
    "            \n",
    "    return ''.join(res)"
   ]
  },
  {
   "cell_type": "code",
   "execution_count": 2,
   "id": "31042bab",
   "metadata": {},
   "outputs": [
    {
     "name": "stdout",
     "output_type": "stream",
     "text": [
      "bacd\n"
     ]
    }
   ],
   "source": [
    "s = \"dcab\"\n",
    "pairs = [[0,3],[1,2]]\n",
    "print(smallestStringWithSwaps(s, pairs))  # Output: \"bacd\""
   ]
  },
  {
   "cell_type": "code",
   "execution_count": null,
   "id": "4aac2ddb",
   "metadata": {},
   "outputs": [],
   "source": []
  }
 ],
 "metadata": {
  "kernelspec": {
   "display_name": "Python 3 (ipykernel)",
   "language": "python",
   "name": "python3"
  },
  "language_info": {
   "codemirror_mode": {
    "name": "ipython",
    "version": 3
   },
   "file_extension": ".py",
   "mimetype": "text/x-python",
   "name": "python",
   "nbconvert_exporter": "python",
   "pygments_lexer": "ipython3",
   "version": "3.8.11"
  }
 },
 "nbformat": 4,
 "nbformat_minor": 5
}
