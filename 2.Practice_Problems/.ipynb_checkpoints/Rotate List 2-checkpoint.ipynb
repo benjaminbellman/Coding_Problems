{
 "cells": [
  {
   "cell_type": "markdown",
   "id": "e89eb318",
   "metadata": {},
   "source": [
    "# Rotate List 2"
   ]
  },
  {
   "cell_type": "markdown",
   "id": "2e371e52",
   "metadata": {},
   "source": [
    "Given the head of a linked list, rotate the list to the right by k places.\n",
    "\n",
    "**Example 1:**\n",
    "\n",
    "Input: head = [1,2,3,4,5], k = 2\n",
    "Output: [4,5,1,2,3]\n",
    "\n",
    "**Example 2:**\n",
    "\n",
    "Input: head = [0,1,2], k = 4\n",
    "Output: [2,0,1]"
   ]
  },
  {
   "cell_type": "code",
   "execution_count": 1,
   "id": "ce2ed33f",
   "metadata": {},
   "outputs": [],
   "source": [
    "class ListNode:\n",
    "    def __init__(self, val=0, next=None):\n",
    "        self.val = val\n",
    "        self.next = next\n",
    "\n",
    "def rotateRight(head, k):\n",
    "    if not head or not head.next or k == 0:\n",
    "        return head\n",
    "\n",
    "    # Step 1: Compute the length and get the tail\n",
    "    length = 1\n",
    "    tail = head\n",
    "    while tail.next:\n",
    "        tail = tail.next\n",
    "        length += 1\n",
    "\n",
    "    # Step 2: Compute effective rotations needed\n",
    "    k = k % length\n",
    "    if k == 0:\n",
    "        return head\n",
    "\n",
    "    # Step 3: Connect tail to head (circular list)\n",
    "    tail.next = head\n",
    "\n",
    "    # Step 4: Find new tail: (length - k - 1) steps from head\n",
    "    new_tail = head\n",
    "    for _ in range(length - k - 1):\n",
    "        new_tail = new_tail.next\n",
    "\n",
    "    # Step 5: Break the circle and get new head\n",
    "    new_head = new_tail.next\n",
    "    new_tail.next = None\n",
    "\n",
    "    return new_head"
   ]
  },
  {
   "cell_type": "code",
   "execution_count": 2,
   "id": "379252a3",
   "metadata": {},
   "outputs": [
    {
     "name": "stdout",
     "output_type": "stream",
     "text": [
      "[4, 5, 1, 2, 3]\n",
      "[2, 0, 1]\n"
     ]
    }
   ],
   "source": [
    "# Convert list to linked list\n",
    "def build_linked_list(values):\n",
    "    dummy = ListNode()\n",
    "    curr = dummy\n",
    "    for val in values:\n",
    "        curr.next = ListNode(val)\n",
    "        curr = curr.next\n",
    "    return dummy.next\n",
    "\n",
    "# Convert linked list to list\n",
    "def linked_list_to_list(head):\n",
    "    result = []\n",
    "    while head:\n",
    "        result.append(head.val)\n",
    "        head = head.next\n",
    "    return result\n",
    "\n",
    "# Example Usage\n",
    "head = build_linked_list([1,2,3,4,5])\n",
    "rotated = rotateRight(head, 2)\n",
    "print(linked_list_to_list(rotated))  # Output: [4, 5, 1, 2, 3]\n",
    "\n",
    "head2 = build_linked_list([0,1,2])\n",
    "rotated2 = rotateRight(head2, 4)\n",
    "print(linked_list_to_list(rotated2))  # Output: [2, 0, 1]"
   ]
  },
  {
   "cell_type": "code",
   "execution_count": null,
   "id": "c332d07a",
   "metadata": {},
   "outputs": [],
   "source": []
  }
 ],
 "metadata": {
  "kernelspec": {
   "display_name": "Python 3 (ipykernel)",
   "language": "python",
   "name": "python3"
  },
  "language_info": {
   "codemirror_mode": {
    "name": "ipython",
    "version": 3
   },
   "file_extension": ".py",
   "mimetype": "text/x-python",
   "name": "python",
   "nbconvert_exporter": "python",
   "pygments_lexer": "ipython3",
   "version": "3.8.11"
  }
 },
 "nbformat": 4,
 "nbformat_minor": 5
}
