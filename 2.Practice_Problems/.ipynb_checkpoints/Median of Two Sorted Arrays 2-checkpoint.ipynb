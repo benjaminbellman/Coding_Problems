{
 "cells": [
  {
   "cell_type": "markdown",
   "id": "3d821dbf",
   "metadata": {},
   "source": [
    "# Median of Two Sorted Arrays 2"
   ]
  },
  {
   "cell_type": "markdown",
   "id": "4b5b6de1",
   "metadata": {},
   "source": [
    "Given two sorted arrays nums1 and nums2 of size m and n respectively, return the median of the two sorted arrays.\n",
    "\n",
    "The overall run time complexity should be O(log (m+n)).\n",
    "\n",
    "**Example 1:**\n",
    "\n",
    "Input: nums1 = [1,3], nums2 = [2]\n",
    "Output: 2.00000\n",
    "Explanation: merged array = [1,2,3] and median is 2.\n",
    "\n",
    "**Example 2:**\n",
    "\n",
    "Input: nums1 = [1,2], nums2 = [3,4]\n",
    "Output: 2.50000\n",
    "Explanation: merged array = [1,2,3,4] and median is (2 + 3) / 2 = 2.5.\n",
    " \n",
    "**Constraints:**\n",
    "\n",
    "- nums1.length == m\n",
    "- nums2.length == n\n",
    "- 0 <= m <= 1000\n",
    "- 0 <= n <= 1000\n",
    "- 1 <= m + n <= 2000\n",
    "- -106 <= nums1[i], nums2[i] <= 106"
   ]
  },
  {
   "cell_type": "code",
   "execution_count": 1,
   "id": "fb30f6a9",
   "metadata": {},
   "outputs": [],
   "source": [
    "def findMedianSortedArrays(nums1, nums2):\n",
    "    # Ensure nums1 is the smaller array\n",
    "    if len(nums1) > len(nums2):\n",
    "        nums1, nums2 = nums2, nums1\n",
    "    \n",
    "    x, y = len(nums1), len(nums2)\n",
    "    low, high = 0, x\n",
    "    \n",
    "    while low <= high:\n",
    "        partitionX = (low + high) // 2\n",
    "        partitionY = (x + y + 1) // 2 - partitionX\n",
    "        \n",
    "        # Handle edge cases with infinity\n",
    "        maxLeftX = float('-inf') if partitionX == 0 else nums1[partitionX - 1]\n",
    "        minRightX = float('inf') if partitionX == x else nums1[partitionX]\n",
    "        \n",
    "        maxLeftY = float('-inf') if partitionY == 0 else nums2[partitionY - 1]\n",
    "        minRightY = float('inf') if partitionY == y else nums2[partitionY]\n",
    "        \n",
    "        if maxLeftX <= minRightY and maxLeftY <= minRightX:\n",
    "            if (x + y) % 2 == 0:\n",
    "                return (max(maxLeftX, maxLeftY) + min(minRightX, minRightY)) / 2\n",
    "            else:\n",
    "                return max(maxLeftX, maxLeftY)\n",
    "        elif maxLeftX > minRightY:\n",
    "            high = partitionX - 1\n",
    "        else:\n",
    "            low = partitionX + 1"
   ]
  },
  {
   "cell_type": "code",
   "execution_count": 2,
   "id": "d9380346",
   "metadata": {},
   "outputs": [
    {
     "data": {
      "text/plain": [
       "2"
      ]
     },
     "execution_count": 2,
     "metadata": {},
     "output_type": "execute_result"
    }
   ],
   "source": [
    "findMedianSortedArrays([1, 3], [2])\n",
    "# Output: 2.0"
   ]
  },
  {
   "cell_type": "code",
   "execution_count": 3,
   "id": "04a41029",
   "metadata": {},
   "outputs": [
    {
     "data": {
      "text/plain": [
       "2.5"
      ]
     },
     "execution_count": 3,
     "metadata": {},
     "output_type": "execute_result"
    }
   ],
   "source": [
    "findMedianSortedArrays([1, 2], [3, 4])\n",
    "# Output: 2.5"
   ]
  },
  {
   "cell_type": "code",
   "execution_count": null,
   "id": "efad5519",
   "metadata": {},
   "outputs": [],
   "source": []
  }
 ],
 "metadata": {
  "kernelspec": {
   "display_name": "Python 3 (ipykernel)",
   "language": "python",
   "name": "python3"
  },
  "language_info": {
   "codemirror_mode": {
    "name": "ipython",
    "version": 3
   },
   "file_extension": ".py",
   "mimetype": "text/x-python",
   "name": "python",
   "nbconvert_exporter": "python",
   "pygments_lexer": "ipython3",
   "version": "3.8.11"
  }
 },
 "nbformat": 4,
 "nbformat_minor": 5
}
