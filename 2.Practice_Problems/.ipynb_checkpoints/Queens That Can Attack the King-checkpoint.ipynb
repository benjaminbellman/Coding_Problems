{
 "cells": [
  {
   "cell_type": "markdown",
   "id": "fdd84506",
   "metadata": {},
   "source": [
    "# Queens That Can Attack the King"
   ]
  },
  {
   "cell_type": "markdown",
   "id": "402ddbf5",
   "metadata": {},
   "source": [
    "On a 0-indexed 8 x 8 chessboard, there can be multiple black queens and one white king.\n",
    "\n",
    "You are given a 2D integer array queens where queens[i] = [xQueeni, yQueeni] represents the position of the ith black queen on the chessboard. You are also given an integer array king of length 2 where king = [xKing, yKing] represents the position of the white king.\n",
    "\n",
    "Return the coordinates of the black queens that can directly attack the king. You may return the answer in any order.\n",
    "\n",
    "**Example 1:**\n",
    "\n",
    "Input: queens = [[0,1],[1,0],[4,0],[0,4],[3,3],[2,4]], king = [0,0]\n",
    "Output: [[0,1],[1,0],[3,3]]\n",
    "Explanation: The diagram above shows the three queens that can directly attack the king and the three queens that cannot attack the king (i.e., marked with red dashes).\n",
    "\n",
    "**Example 2:**\n",
    "\n",
    "Input: queens = [[0,0],[1,1],[2,2],[3,4],[3,5],[4,4],[4,5]], king = [3,3]\n",
    "Output: [[2,2],[3,4],[4,4]]\n",
    "Explanation: The diagram above shows the three queens that can directly attack the king and the three queens that cannot attack the king (i.e., marked with red dashes).\n",
    " \n",
    "**Constraints:**\n",
    "\n",
    "- 1 <= queens.length < 64\n",
    "- queens[i].length == king.length == 2\n",
    "- 0 <= xQueeni, yQueeni, xKing, yKing < 8\n",
    "- All the given positions are unique."
   ]
  },
  {
   "cell_type": "code",
   "execution_count": 1,
   "id": "7c4cbd84",
   "metadata": {},
   "outputs": [],
   "source": [
    "def queensAttacktheKing(queens, king):\n",
    "    board = [[False] * 8 for _ in range(8)]\n",
    "    for qx, qy in queens:\n",
    "        board[qx][qy] = True\n",
    "\n",
    "    directions = [(-1, 0), (1, 0), (0, -1), (0, 1),    # vertical and horizontal\n",
    "                  (-1, -1), (-1, 1), (1, -1), (1, 1)]  # diagonals\n",
    "\n",
    "    result = []\n",
    "    for dx, dy in directions:\n",
    "        x, y = king\n",
    "        while 0 <= x < 8 and 0 <= y < 8:\n",
    "            x += dx\n",
    "            y += dy\n",
    "            if 0 <= x < 8 and 0 <= y < 8 and board[x][y]:\n",
    "                result.append([x, y])\n",
    "                break  # stop searching this direction once a queen is found\n",
    "\n",
    "    return result"
   ]
  },
  {
   "cell_type": "code",
   "execution_count": 2,
   "id": "26597cd6",
   "metadata": {},
   "outputs": [
    {
     "name": "stdout",
     "output_type": "stream",
     "text": [
      "[[1, 0], [0, 1], [3, 3]]\n",
      "[[3, 4], [2, 2], [4, 4]]\n"
     ]
    }
   ],
   "source": [
    "print(queensAttacktheKing([[0,1],[1,0],[4,0],[0,4],[3,3],[2,4]], [0,0]))\n",
    "# Output: [[0,1],[1,0],[3,3]]\n",
    "\n",
    "print(queensAttacktheKing([[0,0],[1,1],[2,2],[3,4],[3,5],[4,4],[4,5]], [3,3]))\n",
    "# Output: [[2,2],[3,4],[4,4]]"
   ]
  },
  {
   "cell_type": "code",
   "execution_count": null,
   "id": "f3ba2344",
   "metadata": {},
   "outputs": [],
   "source": []
  }
 ],
 "metadata": {
  "kernelspec": {
   "display_name": "Python 3 (ipykernel)",
   "language": "python",
   "name": "python3"
  },
  "language_info": {
   "codemirror_mode": {
    "name": "ipython",
    "version": 3
   },
   "file_extension": ".py",
   "mimetype": "text/x-python",
   "name": "python",
   "nbconvert_exporter": "python",
   "pygments_lexer": "ipython3",
   "version": "3.8.11"
  }
 },
 "nbformat": 4,
 "nbformat_minor": 5
}
