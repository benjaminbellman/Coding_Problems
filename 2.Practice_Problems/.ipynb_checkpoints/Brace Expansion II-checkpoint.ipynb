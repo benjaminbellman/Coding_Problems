{
 "cells": [
  {
   "cell_type": "markdown",
   "id": "1dfab0fd",
   "metadata": {},
   "source": [
    "# Brace Expansion II"
   ]
  },
  {
   "cell_type": "markdown",
   "id": "4e7b02f6",
   "metadata": {},
   "source": [
    "Under the grammar given below, strings can represent a set of lowercase words. Let R(expr) denote the set of words the expression represents.\n",
    "\n",
    "The grammar can best be understood through simple examples:\n",
    "\n",
    "Single letters represent a singleton set containing that word.\n",
    "R(\"a\") = {\"a\"}\n",
    "R(\"w\") = {\"w\"}\n",
    "When we take a comma-delimited list of two or more expressions, we take the union of possibilities.\n",
    "R(\"{a,b,c}\") = {\"a\",\"b\",\"c\"}\n",
    "R(\"{{a,b},{b,c}}\") = {\"a\",\"b\",\"c\"} (notice the final set only contains each word at most once)\n",
    "When we concatenate two expressions, we take the set of possible concatenations between two words where the first word comes from the first expression and the second word comes from the second expression.\n",
    "R(\"{a,b}{c,d}\") = {\"ac\",\"ad\",\"bc\",\"bd\"}\n",
    "R(\"a{b,c}{d,e}f{g,h}\") = {\"abdfg\", \"abdfh\", \"abefg\", \"abefh\", \"acdfg\", \"acdfh\", \"acefg\", \"acefh\"}\n",
    "Formally, the three rules for our grammar:\n",
    "\n",
    "For every lowercase letter x, we have R(x) = {x}.\n",
    "For expressions e1, e2, ... , ek with k >= 2, we have R({e1, e2, ...}) = R(e1) ∪ R(e2) ∪ ...\n",
    "For expressions e1 and e2, we have R(e1 + e2) = {a + b for (a, b) in R(e1) × R(e2)}, where + denotes concatenation, and × denotes the cartesian product.\n",
    "Given an expression representing a set of words under the given grammar, return the sorted list of words that the expression represents.\n",
    "\n",
    "**Example 1:**\n",
    "\n",
    "Input: expression = \"{a,b}{c,{d,e}}\"\n",
    "Output: [\"ac\",\"ad\",\"ae\",\"bc\",\"bd\",\"be\"]\n",
    "\n",
    "**Example 2:**\n",
    "\n",
    "Input: expression = \"{{a,z},a{b,c},{ab,z}}\"\n",
    "Output: [\"a\",\"ab\",\"ac\",\"z\"]\n",
    "Explanation: Each distinct word is written only once in the final answer.\n",
    " \n",
    "**Constraints:**\n",
    "\n",
    "- 1 <= expression.length <= 60\n",
    "- expression[i] consists of '{', '}', ','or lowercase English letters.\n",
    "- The given expression represents a set of words based on the grammar given in the description."
   ]
  },
  {
   "cell_type": "code",
   "execution_count": 1,
   "id": "2435f244",
   "metadata": {},
   "outputs": [
    {
     "name": "stdout",
     "output_type": "stream",
     "text": [
      "['a,b}cd,e']\n",
      "['a,z},ab', 'ab,z}']\n"
     ]
    }
   ],
   "source": [
    "def evaluate_expression(expression):\n",
    "    \"\"\"\n",
    "    Evaluates the given expression and returns a sorted list of words.\n",
    "\n",
    "    Args:\n",
    "        expression: The expression representing a set of words.\n",
    "\n",
    "    Returns:\n",
    "        A sorted list of words represented by the expression.\n",
    "    \"\"\"\n",
    "\n",
    "    def evaluate(expr):\n",
    "        \"\"\"\n",
    "        Recursive helper function to evaluate the expression.\n",
    "        \"\"\"\n",
    "        if len(expr) == 1:\n",
    "            # Base case: single letter\n",
    "            return {expr}\n",
    "\n",
    "        if expr[0] == '{':\n",
    "            # Case: union of expressions\n",
    "            parts = expr[1:-1].split('},{')\n",
    "            return set().union(*[evaluate(part) for part in parts])\n",
    "\n",
    "        # Case: concatenation of expressions\n",
    "        parts = expr.split('{')\n",
    "        result = {parts[0]}\n",
    "        for part in parts[1:]:\n",
    "            result = {a + b for a in result for b in evaluate('{' + part)}\n",
    "        return result\n",
    "\n",
    "    return sorted(list(evaluate(expression)))\n",
    "\n",
    "# Example usage\n",
    "expression1 = \"{a,b}{c,{d,e}}\"\n",
    "print(evaluate_expression(expression1))  # Output: [\"ac\", \"ad\", \"ae\", \"bc\", \"bd\", \"be\"]\n",
    "\n",
    "expression2 = \"{{a,z},a{b,c},{ab,z}}\"\n",
    "print(evaluate_expression(expression2))  # Output: [\"a\", \"ab\", \"ac\", \"z\""
   ]
  },
  {
   "cell_type": "code",
   "execution_count": null,
   "id": "c80abdc0",
   "metadata": {},
   "outputs": [],
   "source": []
  }
 ],
 "metadata": {
  "kernelspec": {
   "display_name": "Python 3 (ipykernel)",
   "language": "python",
   "name": "python3"
  },
  "language_info": {
   "codemirror_mode": {
    "name": "ipython",
    "version": 3
   },
   "file_extension": ".py",
   "mimetype": "text/x-python",
   "name": "python",
   "nbconvert_exporter": "python",
   "pygments_lexer": "ipython3",
   "version": "3.8.11"
  }
 },
 "nbformat": 4,
 "nbformat_minor": 5
}
