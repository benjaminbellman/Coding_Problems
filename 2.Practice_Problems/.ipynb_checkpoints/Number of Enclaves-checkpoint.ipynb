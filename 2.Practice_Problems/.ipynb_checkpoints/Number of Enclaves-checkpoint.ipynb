{
 "cells": [
  {
   "cell_type": "markdown",
   "id": "46c823ec",
   "metadata": {},
   "source": [
    "# Number of Enclaves"
   ]
  },
  {
   "cell_type": "markdown",
   "id": "0002e1dc",
   "metadata": {},
   "source": [
    "You are given an m x n binary matrix grid, where 0 represents a sea cell and 1 represents a land cell.\n",
    "\n",
    "A move consists of walking from one land cell to another adjacent (4-directionally) land cell or walking off the boundary of the grid.\n",
    "\n",
    "Return the number of land cells in grid for which we cannot walk off the boundary of the grid in any number of moves.\n",
    "\n",
    "**Example 1:**\n",
    "\n",
    "Input: grid = [[0,0,0,0],[1,0,1,0],[0,1,1,0],[0,0,0,0]]\n",
    "Output: 3\n",
    "Explanation: There are three 1s that are enclosed by 0s, and one 1 that is not enclosed because its on the boundary.\n",
    "\n",
    "**Example 2:**\n",
    "\n",
    "\n",
    "Input: grid = [[0,1,1,0],[0,0,1,0],[0,0,1,0],[0,0,0,0]]\n",
    "Output: 0\n",
    "Explanation: All 1s are either on the boundary or can reach the boundary.\n",
    " \n",
    "**Constraints:**\n",
    "\n",
    "- m == grid.length\n",
    "- n == grid[i].length\n",
    "- 1 <= m, n <= 500\n",
    "- grid[i][j] is either 0 or 1."
   ]
  },
  {
   "cell_type": "code",
   "execution_count": 1,
   "id": "3a840cfc",
   "metadata": {},
   "outputs": [],
   "source": [
    "def numEnclaves(grid):\n",
    "    m, n = len(grid), len(grid[0])\n",
    "    \n",
    "    def dfs(x, y):\n",
    "        if x < 0 or x >= m or y < 0 or y >= n or grid[x][y] != 1:\n",
    "            return\n",
    "        grid[x][y] = -1  # Mark as visited\n",
    "        dfs(x + 1, y)\n",
    "        dfs(x - 1, y)\n",
    "        dfs(x, y + 1)\n",
    "        dfs(x, y - 1)\n",
    "\n",
    "    # Mark all boundary-connected land cells\n",
    "    for i in range(m):\n",
    "        if grid[i][0] == 1:\n",
    "            dfs(i, 0)\n",
    "        if grid[i][n - 1] == 1:\n",
    "            dfs(i, n - 1)\n",
    "    for j in range(n):\n",
    "        if grid[0][j] == 1:\n",
    "            dfs(0, j)\n",
    "        if grid[m - 1][j] == 1:\n",
    "            dfs(m - 1, j)\n",
    "\n",
    "    # Count the remaining land cells\n",
    "    count = 0\n",
    "    for i in range(m):\n",
    "        for j in range(n):\n",
    "            if grid[i][j] == 1:\n",
    "                count += 1\n",
    "    \n",
    "    return count"
   ]
  },
  {
   "cell_type": "code",
   "execution_count": null,
   "id": "afe5e568",
   "metadata": {},
   "outputs": [],
   "source": []
  }
 ],
 "metadata": {
  "kernelspec": {
   "display_name": "Python 3 (ipykernel)",
   "language": "python",
   "name": "python3"
  },
  "language_info": {
   "codemirror_mode": {
    "name": "ipython",
    "version": 3
   },
   "file_extension": ".py",
   "mimetype": "text/x-python",
   "name": "python",
   "nbconvert_exporter": "python",
   "pygments_lexer": "ipython3",
   "version": "3.8.11"
  }
 },
 "nbformat": 4,
 "nbformat_minor": 5
}
