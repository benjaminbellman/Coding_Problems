{
 "cells": [
  {
   "cell_type": "markdown",
   "id": "4fd776fa",
   "metadata": {},
   "source": [
    "# Statistics from a Large Sample"
   ]
  },
  {
   "cell_type": "markdown",
   "id": "99baedba",
   "metadata": {},
   "source": [
    "You are given a large sample of integers in the range [0, 255]. Since the sample is so large, it is represented by an array count where count[k] is the number of times that k appears in the sample.\n",
    "\n",
    "Calculate the following statistics:\n",
    "\n",
    "minimum: The minimum element in the sample.\n",
    "maximum: The maximum element in the sample.\n",
    "mean: The average of the sample, calculated as the total sum of all elements divided by the total number of elements.\n",
    "median:\n",
    "If the sample has an odd number of elements, then the median is the middle element once the sample is sorted.\n",
    "If the sample has an even number of elements, then the median is the average of the two middle elements once the sample is sorted.\n",
    "mode: The number that appears the most in the sample. It is guaranteed to be unique.\n",
    "Return the statistics of the sample as an array of floating-point numbers [minimum, maximum, mean, median, mode]. Answers within 10-5 of the actual answer will be accepted.\n",
    "\n",
    "**Example 1:**\n",
    "\n",
    "Input: count = [0,1,3,4,0,0,0,0,0,0,0,0,0,0,0,0,0,0,0,0,0,0,0,0,0,0,0,0,0,0,0,0,0,0,0,0,0,0,0,0,0,0,0,0,0,0,0,0,0,0,0,0,0,0,0,0,0,0,0,0,0,0,0,0,0,0,0,0,0,0,0,0,0,0,0,0,0,0,0,0,0,0,0,0,0,0,0,0,0,0,0,0,0,0,0,0,0,0,0,0,0,0,0,0,0,0,0,0,0,0,0,0,0,0,0,0,0,0,0,0,0,0,0,0,0,0,0,0,0,0,0,0,0,0,0,0,0,0,0,0,0,0,0,0,0,0,0,0,0,0,0,0,0,0,0,0,0,0,0,0,0,0,0,0,0,0,0,0,0,0,0,0,0,0,0,0,0,0,0,0,0,0,0,0,0,0,0,0,0,0,0,0,0,0,0,0,0,0,0,0,0,0,0,0,0,0,0,0,0,0,0,0,0,0,0,0,0,0,0,0,0,0,0,0,0,0,0,0,0,0,0,0,0,0,0,0,0,0,0,0,0,0,0,0,0,0,0,0,0,0,0,0,0,0,0,0]\n",
    "Output: [1.00000,3.00000,2.37500,2.50000,3.00000]\n",
    "Explanation: The sample represented by count is [1,2,2,2,3,3,3,3].\n",
    "The minimum and maximum are 1 and 3 respectively.\n",
    "The mean is (1+2+2+2+3+3+3+3) / 8 = 19 / 8 = 2.375.\n",
    "Since the size of the sample is even, the median is the average of the two middle elements 2 and 3, which is 2.5.\n",
    "The mode is 3 as it appears the most in the sample.\n",
    "\n",
    "**Example 2:**\n",
    "\n",
    "Input: count = [0,4,3,2,2,0,0,0,0,0,0,0,0,0,0,0,0,0,0,0,0,0,0,0,0,0,0,0,0,0,0,0,0,0,0,0,0,0,0,0,0,0,0,0,0,0,0,0,0,0,0,0,0,0,0,0,0,0,0,0,0,0,0,0,0,0,0,0,0,0,0,0,0,0,0,0,0,0,0,0,0,0,0,0,0,0,0,0,0,0,0,0,0,0,0,0,0,0,0,0,0,0,0,0,0,0,0,0,0,0,0,0,0,0,0,0,0,0,0,0,0,0,0,0,0,0,0,0,0,0,0,0,0,0,0,0,0,0,0,0,0,0,0,0,0,0,0,0,0,0,0,0,0,0,0,0,0,0,0,0,0,0,0,0,0,0,0,0,0,0,0,0,0,0,0,0,0,0,0,0,0,0,0,0,0,0,0,0,0,0,0,0,0,0,0,0,0,0,0,0,0,0,0,0,0,0,0,0,0,0,0,0,0,0,0,0,0,0,0,0,0,0,0,0,0,0,0,0,0,0,0,0,0,0,0,0,0,0,0,0,0,0,0,0,0,0,0,0,0,0,0,0,0,0,0,0]\n",
    "Output: [1.00000,4.00000,2.18182,2.00000,1.00000]\n",
    "Explanation: The sample represented by count is [1,1,1,1,2,2,2,3,3,4,4].\n",
    "The minimum and maximum are 1 and 4 respectively.\n",
    "The mean is (1+1+1+1+2+2+2+3+3+4+4) / 11 = 24 / 11 = 2.18181818... (for display purposes, the output shows the rounded number 2.18182).\n",
    "Since the size of the sample is odd, the median is the middle element 2.\n",
    "The mode is 1 as it appears the most in the sample.\n",
    "\n",
    "**Constraints:**\n",
    "\n",
    "- count.length == 256\n",
    "- 0 <= count[i] <= 109\n",
    "- 1 <= sum(count) <= 109\n",
    "- The mode of the sample that count represents is unique."
   ]
  },
  {
   "cell_type": "code",
   "execution_count": 1,
   "id": "b9dea624",
   "metadata": {},
   "outputs": [
    {
     "name": "stdout",
     "output_type": "stream",
     "text": [
      "[1.0, 3.0, 2.375, 2.5, 3.0]\n",
      "[1.0, 4.0, 2.18182, 2.0, 1.0]\n"
     ]
    }
   ],
   "source": [
    "def calculate_statistics(count):\n",
    "    # Initialize variables\n",
    "    total_elements = sum(count)\n",
    "    total_sum = sum(i * count[i] for i in range(256))\n",
    "    minimum = next(i for i in range(256) if count[i] > 0)\n",
    "    maximum = next(i for i in range(255, -1, -1) if count[i] > 0)\n",
    "\n",
    "    # Calculate mean\n",
    "    mean = total_sum / total_elements\n",
    "\n",
    "    # Find mode\n",
    "    mode = max(range(256), key=lambda x: count[x])\n",
    "\n",
    "    # Find median\n",
    "    cumulative_count = 0\n",
    "    median_left = None\n",
    "    median_right = None\n",
    "    for i in range(256):\n",
    "        cumulative_count += count[i]\n",
    "        if median_left is None and cumulative_count >= (total_elements + 1) // 2:\n",
    "            median_left = i\n",
    "        if median_right is None and cumulative_count >= (total_elements + 2) // 2:\n",
    "            median_right = i\n",
    "            break\n",
    "    median = (median_left + median_right) / 2\n",
    "\n",
    "    return [float(minimum), float(maximum), round(mean, 5), round(median, 5), float(mode)]\n",
    "\n",
    "# Example input and test\n",
    "count_1 = [0,1,3,4,0,0,0,0,0,0,0,0,0,0,0,0,0,0,0,0,0,0,0,0,0,0,0,0,0,0,0,0,0,0,0,0,0,0,0,0,0,0,0,0,0,0,0,0,0,0,0,0,0,0,0,0,0,0,0,0,0,0,0,0,0,0,0,0,0,0,0,0,0,0,0,0,0,0,0,0,0,0,0,0,0,0,0,0,0,0,0,0,0,0,0,0,0,0,0,0,0,0,0,0,0,0,0,0,0,0,0,0,0,0,0,0,0,0,0,0,0,0,0,0,0,0,0,0,0,0,0,0,0,0,0,0,0,0,0,0,0,0,0,0,0,0,0,0,0,0,0,0,0,0,0,0,0,0,0,0,0,0,0,0,0,0,0,0,0,0,0,0,0,0,0,0,0,0,0,0,0,0,0,0,0,0,0,0,0,0,0,0,0,0,0,0,0,0,0,0,0,0,0,0,0,0,0,0,0,0,0,0,0,0,0,0,0,0,0,0,0,0,0,0,0,0,0,0,0,0,0,0,0,0,0,0,0,0,0,0,0,0,0,0,0,0,0,0,0,0,0,0,0,0,0,0]\n",
    "count_2 = [0,4,3,2,2,0,0,0,0,0,0,0,0,0,0,0,0,0,0,0,0,0,0,0,0,0,0,0,0,0,0,0,0,0,0,0,0,0,0,0,0,0,0,0,0,0,0,0,0,0,0,0,0,0,0,0,0,0,0,0,0,0,0,0,0,0,0,0,0,0,0,0,0,0,0,0,0,0,0,0,0,0,0,0,0,0,0,0,0,0,0,0,0,0,0,0,0,0,0,0,0,0,0,0,0,0,0,0,0,0,0,0,0,0,0,0,0,0,0,0,0,0,0,0,0,0,0,0,0,0,0,0,0,0,0,0,0,0,0,0,0,0,0,0,0,0,0,0,0,0,0,0,0,0,0,0,0,0,0,0,0,0,0,0,0,0,0,0,0,0,0,0,0,0,0,0,0,0,0,0,0,0,0,0,0,0,0,0,0,0,0,0,0,0,0,0,0,0,0,0,0,0,0,0,0,0,0,0,0,0,0,0,0,0,0,0,0,0,0,0,0,0,0,0,0,0,0,0,0,0,0,0,0,0,0,0,0,0,0,0,0,0,0,0,0,0,0,0,0,0,0,0,0,0,0,0]\n",
    "\n",
    "output_1 = calculate_statistics(count_1)\n",
    "output_2 = calculate_statistics(count_2)\n",
    "\n",
    "print(output_1)\n",
    "print(output_2)"
   ]
  },
  {
   "cell_type": "code",
   "execution_count": null,
   "id": "48c32a10",
   "metadata": {},
   "outputs": [],
   "source": []
  }
 ],
 "metadata": {
  "kernelspec": {
   "display_name": "Python 3 (ipykernel)",
   "language": "python",
   "name": "python3"
  },
  "language_info": {
   "codemirror_mode": {
    "name": "ipython",
    "version": 3
   },
   "file_extension": ".py",
   "mimetype": "text/x-python",
   "name": "python",
   "nbconvert_exporter": "python",
   "pygments_lexer": "ipython3",
   "version": "3.8.11"
  }
 },
 "nbformat": 4,
 "nbformat_minor": 5
}
