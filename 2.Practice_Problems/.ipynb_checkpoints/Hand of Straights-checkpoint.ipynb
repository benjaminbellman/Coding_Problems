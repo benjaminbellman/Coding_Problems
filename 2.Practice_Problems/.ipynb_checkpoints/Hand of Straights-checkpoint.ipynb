{
 "cells": [
  {
   "cell_type": "markdown",
   "id": "e905b41c",
   "metadata": {},
   "source": [
    "# Hand of Straights"
   ]
  },
  {
   "cell_type": "markdown",
   "id": "b3c37fd9",
   "metadata": {},
   "source": [
    "Alice has some number of cards and she wants to rearrange the cards into groups so that each group is of size groupSize, and consists of groupSize consecutive cards.\n",
    "\n",
    "Given an integer array hand where hand[i] is the value written on the ith card and an integer groupSize, return true if she can rearrange the cards, or false otherwise.\n",
    "\n",
    " \n",
    "\n",
    "**Example 1:**\n",
    "\n",
    "Input: hand = [1,2,3,6,2,3,4,7,8], groupSize = 3\n",
    "Output: true\n",
    "Explanation: Alice's hand can be rearranged as [1,2,3],[2,3,4],[6,7,8]\n",
    "\n",
    "**Example 2:**\n",
    "\n",
    "Input: hand = [1,2,3,4,5], groupSize = 4\n",
    "Output: false\n",
    "Explanation: Alice's hand can not be rearranged into groups of 4.\n",
    "\n",
    "\n",
    "**Constraints:**\n",
    "\n",
    "- 1 <= hand.length <= 104\n",
    "- 0 <= hand[i] <= 109\n",
    "- 1 <= groupSize <= hand.length"
   ]
  },
  {
   "cell_type": "code",
   "execution_count": 1,
   "id": "348fcbe5",
   "metadata": {},
   "outputs": [],
   "source": [
    "def isPossible(hand, groupSize):\n",
    "    from collections import defaultdict\n",
    "    \n",
    "    # Step 1: Count frequencies of each card\n",
    "    count_map = defaultdict(int)\n",
    "    for card in hand:\n",
    "        count_map[card] += 1\n",
    "        \n",
    "    # Step 2: Sort the unique card values\n",
    "    unique_cards = sorted(count_map.keys())\n",
    "    \n",
    "    # Step 3: Try to form groups\n",
    "    for card in unique_cards:\n",
    "        if count_map[card] > 0:\n",
    "            # We have some cards of this type, try to form a group starting from this card\n",
    "            current_count = count_map[card]\n",
    "            for i in range(groupSize):\n",
    "                if count_map[card + i] < current_count:\n",
    "                    return False\n",
    "                count_map[card + i] -= current_count\n",
    "        \n",
    "    # Step 4: If we managed to form all groups successfully\n",
    "    return True"
   ]
  },
  {
   "cell_type": "code",
   "execution_count": null,
   "id": "8fe97e40",
   "metadata": {},
   "outputs": [],
   "source": []
  }
 ],
 "metadata": {
  "kernelspec": {
   "display_name": "Python 3 (ipykernel)",
   "language": "python",
   "name": "python3"
  },
  "language_info": {
   "codemirror_mode": {
    "name": "ipython",
    "version": 3
   },
   "file_extension": ".py",
   "mimetype": "text/x-python",
   "name": "python",
   "nbconvert_exporter": "python",
   "pygments_lexer": "ipython3",
   "version": "3.8.11"
  }
 },
 "nbformat": 4,
 "nbformat_minor": 5
}
