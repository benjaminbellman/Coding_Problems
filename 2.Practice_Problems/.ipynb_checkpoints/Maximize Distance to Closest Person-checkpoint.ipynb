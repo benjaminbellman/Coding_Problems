{
 "cells": [
  {
   "cell_type": "markdown",
   "id": "15765ed8",
   "metadata": {},
   "source": [
    "# Maximize Distance to Closest Person"
   ]
  },
  {
   "cell_type": "markdown",
   "id": "2332b3d7",
   "metadata": {},
   "source": [
    "You are given an array representing a row of seats where seats[i] = 1 represents a person sitting in the ith seat, and seats[i] = 0 represents that the ith seat is empty (0-indexed).\n",
    "\n",
    "There is at least one empty seat, and at least one person sitting.\n",
    "\n",
    "Alex wants to sit in the seat such that the distance between him and the closest person to him is maximized. \n",
    "\n",
    "Return that maximum distance to the closest person.\n",
    "\n",
    " \n",
    "\n",
    "**Example 1:**\n",
    "\n",
    "\n",
    "Input: seats = [1,0,0,0,1,0,1]\n",
    "Output: 2\n",
    "Explanation: \n",
    "If Alex sits in the second open seat (i.e. seats[2]), then the closest person has distance 2.\n",
    "If Alex sits in any other open seat, the closest person has distance 1.\n",
    "Thus, the maximum distance to the closest person is 2.\n",
    "\n",
    "**Example 2:**\n",
    "\n",
    "Input: seats = [1,0,0,0]\n",
    "Output: 3\n",
    "Explanation: \n",
    "If Alex sits in the last seat (i.e. seats[3]), the closest person is 3 seats away.\n",
    "This is the maximum distance possible, so the answer is 3.\n",
    "\n",
    "**Example 3:**\n",
    "\n",
    "Input: seats = [0,1]\n",
    "Output: 1\n",
    " \n",
    "\n",
    "**Constraints:**\n",
    "\n",
    "- 2 <= seats.length <= 2 * 104\n",
    "- seats[i] is 0 or 1.\n",
    "- At least one seat is empty.\n",
    "- At least one seat is occupied."
   ]
  },
  {
   "cell_type": "code",
   "execution_count": 2,
   "id": "a2eb47ae",
   "metadata": {},
   "outputs": [],
   "source": [
    "def maxDistToClosest(seats):\n",
    "    n = len(seats)\n",
    "    max_distance = 0\n",
    "    i = 0\n",
    "    \n",
    "    # Find the first person sitting\n",
    "    while seats[i] == 0:\n",
    "        i += 1\n",
    "    \n",
    "    # Leftmost edge case\n",
    "    max_distance = i\n",
    "    \n",
    "    # Continue to find the next groups\n",
    "    while i < n:\n",
    "        while i < n and seats[i] == 1:\n",
    "            i += 1\n",
    "        j = i\n",
    "        \n",
    "        while i < n and seats[i] == 0:\n",
    "            i += 1\n",
    "        \n",
    "        # Last group"
   ]
  },
  {
   "cell_type": "code",
   "execution_count": null,
   "id": "83667178",
   "metadata": {},
   "outputs": [],
   "source": []
  }
 ],
 "metadata": {
  "kernelspec": {
   "display_name": "Python 3 (ipykernel)",
   "language": "python",
   "name": "python3"
  },
  "language_info": {
   "codemirror_mode": {
    "name": "ipython",
    "version": 3
   },
   "file_extension": ".py",
   "mimetype": "text/x-python",
   "name": "python",
   "nbconvert_exporter": "python",
   "pygments_lexer": "ipython3",
   "version": "3.8.11"
  }
 },
 "nbformat": 4,
 "nbformat_minor": 5
}
