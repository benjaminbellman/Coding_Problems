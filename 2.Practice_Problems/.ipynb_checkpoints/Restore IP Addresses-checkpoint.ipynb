{
 "cells": [
  {
   "cell_type": "markdown",
   "id": "5a292b66",
   "metadata": {},
   "source": [
    "# Restore IP Addresses"
   ]
  },
  {
   "cell_type": "markdown",
   "id": "e6c186d3",
   "metadata": {},
   "source": [
    "A valid IP address consists of exactly four integers separated by single dots. Each integer is between 0 and 255 (inclusive) and cannot have leading zeros.\n",
    "\n",
    "For example, \"0.1.2.201\" and \"192.168.1.1\" are valid IP addresses, but \"0.011.255.245\", \"192.168.1.312\" and \"192.168@1.1\" are invalid IP addresses.\n",
    "Given a string s containing only digits, return all possible valid IP addresses that can be formed by inserting dots into s. You are not allowed to reorder or remove any digits in s. You may return the valid IP addresses in any order.\n",
    "\n",
    "**Example 1:**\n",
    "\n",
    "Input: s = \"25525511135\"\n",
    "Output: [\"255.255.11.135\",\"255.255.111.35\"]\n",
    "\n",
    "**Example 2:**\n",
    "\n",
    "Input: s = \"0000\"\n",
    "Output: [\"0.0.0.0\"]\n",
    "\n",
    "**Example 3:**\n",
    "\n",
    "Input: s = \"101023\"\n",
    "Output: [\"1.0.10.23\",\"1.0.102.3\",\"10.1.0.23\",\"10.10.2.3\",\"101.0.2.3\"]\n",
    " \n",
    "**Constraints:**\n",
    "\n",
    "- 1 <= s.length <= 20\n",
    "- s consists of digits only."
   ]
  },
  {
   "cell_type": "code",
   "execution_count": 1,
   "id": "fa54aa0c",
   "metadata": {},
   "outputs": [],
   "source": [
    "from typing import List\n",
    "\n",
    "class Solution:\n",
    "    def restoreIpAddresses(self, s: str) -> List[str]:\n",
    "        result = []\n",
    "\n",
    "        def is_valid(segment):\n",
    "            # Segment should be <= 255 and not have leading zeros (unless it's \"0\")\n",
    "            if len(segment) == 0 or (segment[0] == '0' and len(segment) > 1):\n",
    "                return False\n",
    "            return 0 <= int(segment) <= 255\n",
    "\n",
    "        def backtrack(start, path):\n",
    "            # Base case: 4 segments and end of string\n",
    "            if len(path) == 4:\n",
    "                if start == len(s):\n",
    "                    result.append(\".\".join(path))\n",
    "                return\n",
    "\n",
    "            for length in range(1, 4):  # segment length: 1 to 3\n",
    "                if start + length > len(s):\n",
    "                    break\n",
    "                segment = s[start:start + length]\n",
    "                if is_valid(segment):\n",
    "                    backtrack(start + length, path + [segment])\n",
    "\n",
    "        backtrack(0, [])\n",
    "        return result"
   ]
  },
  {
   "cell_type": "code",
   "execution_count": null,
   "id": "9c9de7ac",
   "metadata": {},
   "outputs": [],
   "source": []
  }
 ],
 "metadata": {
  "kernelspec": {
   "display_name": "Python 3 (ipykernel)",
   "language": "python",
   "name": "python3"
  },
  "language_info": {
   "codemirror_mode": {
    "name": "ipython",
    "version": 3
   },
   "file_extension": ".py",
   "mimetype": "text/x-python",
   "name": "python",
   "nbconvert_exporter": "python",
   "pygments_lexer": "ipython3",
   "version": "3.8.11"
  }
 },
 "nbformat": 4,
 "nbformat_minor": 5
}
