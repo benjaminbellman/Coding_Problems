{
 "cells": [
  {
   "cell_type": "markdown",
   "id": "cf04fb24",
   "metadata": {},
   "source": [
    "# Longest Valid Parentheses"
   ]
  },
  {
   "cell_type": "markdown",
   "id": "b7668233",
   "metadata": {},
   "source": [
    "Given a string containing just the characters '(' and ')', return the length of the longest valid (well-formed) parentheses substring.\n",
    "\n",
    "**Example 1:**\n",
    "\n",
    "Input: s = \"(()\"\n",
    "Output: 2\n",
    "Explanation: The longest valid parentheses substring is \"()\".\n",
    "\n",
    "**Example 2:**\n",
    "\n",
    "Input: s = \")()())\"\n",
    "Output: 4\n",
    "Explanation: The longest valid parentheses substring is \"()()\".\n",
    "\n",
    "**Example 3:**\n",
    "\n",
    "Input: s = \"\"\n",
    "Output: 0\n",
    " \n",
    "**Constraints:**\n",
    "\n",
    "- 0 <= s.length <= 3 * 104\n",
    "- s[i] is '(', or ')'."
   ]
  },
  {
   "cell_type": "code",
   "execution_count": 1,
   "id": "8aeadcc2",
   "metadata": {},
   "outputs": [],
   "source": [
    "def longestValidParentheses(s: str) -> int:\n",
    "    max_len = 0\n",
    "    left = right = 0\n",
    "\n",
    "    # Left to right\n",
    "    for char in s:\n",
    "        if char == '(':\n",
    "            left += 1\n",
    "        else:\n",
    "            right += 1\n",
    "        if left == right:\n",
    "            max_len = max(max_len, 2 * right)\n",
    "        elif right > left:\n",
    "            left = right = 0\n",
    "\n",
    "    # Right to left\n",
    "    left = right = 0\n",
    "    for char in reversed(s):\n",
    "        if char == ')':\n",
    "            right += 1\n",
    "        else:\n",
    "            left += 1\n",
    "        if left == right:\n",
    "            max_len = max(max_len, 2 * left)\n",
    "        elif left > right:\n",
    "            left = right = 0\n",
    "\n",
    "    return max_len"
   ]
  },
  {
   "cell_type": "code",
   "execution_count": 2,
   "id": "8892871e",
   "metadata": {},
   "outputs": [
    {
     "name": "stdout",
     "output_type": "stream",
     "text": [
      "2\n",
      "4\n",
      "0\n"
     ]
    }
   ],
   "source": [
    "print(longestValidParentheses(\"(()\"))      # Output: 2\n",
    "print(longestValidParentheses(\")()())\"))   # Output: 4\n",
    "print(longestValidParentheses(\"\"))         # Output: 0"
   ]
  },
  {
   "cell_type": "code",
   "execution_count": null,
   "id": "0b6b0aef",
   "metadata": {},
   "outputs": [],
   "source": []
  }
 ],
 "metadata": {
  "kernelspec": {
   "display_name": "Python 3 (ipykernel)",
   "language": "python",
   "name": "python3"
  },
  "language_info": {
   "codemirror_mode": {
    "name": "ipython",
    "version": 3
   },
   "file_extension": ".py",
   "mimetype": "text/x-python",
   "name": "python",
   "nbconvert_exporter": "python",
   "pygments_lexer": "ipython3",
   "version": "3.8.11"
  }
 },
 "nbformat": 4,
 "nbformat_minor": 5
}
