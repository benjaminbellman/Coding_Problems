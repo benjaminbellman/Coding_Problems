{
 "cells": [
  {
   "cell_type": "markdown",
   "id": "d429ed9d",
   "metadata": {},
   "source": [
    "# Find the Shortest Superstring"
   ]
  },
  {
   "cell_type": "markdown",
   "id": "70b58572",
   "metadata": {},
   "source": [
    "Given an array of strings words, return the smallest string that contains each string in words as a substring. If there are multiple valid strings of the smallest length, return any of them.\n",
    "\n",
    "You may assume that no string in words is a substring of another string in words.\n",
    "\n",
    "**Example 1:**\n",
    "\n",
    "Input: words = [\"alex\",\"loves\",\"leetcode\"]\n",
    "Output: \"alexlovesleetcode\"\n",
    "Explanation: All permutations of \"alex\",\"loves\",\"leetcode\" would also be accepted.\n",
    "\n",
    "**Example 2:**\n",
    "\n",
    "Input: words = [\"catg\",\"ctaagt\",\"gcta\",\"ttca\",\"atgcatc\"]\n",
    "Output: \"gctaagttcatgcatc\"\n",
    " \n",
    "\n",
    "**Constraints:**\n",
    "\n",
    "- 1 <= words.length <= 12\n",
    "- 1 <= words[i].length <= 20\n",
    "- words[i] consists of lowercase English letters.\n",
    "- All the strings of words are unique"
   ]
  },
  {
   "cell_type": "code",
   "execution_count": 1,
   "id": "cc1f2998",
   "metadata": {},
   "outputs": [
    {
     "name": "stdout",
     "output_type": "stream",
     "text": [
      "leetcodelovesalex\n",
      "gctaagttcatgcatc\n"
     ]
    }
   ],
   "source": [
    "from functools import lru_cache\n",
    "\n",
    "def overlap(a, b):\n",
    "    \"\"\"Returns the maximum overlap between the end of a and the start of b.\"\"\"\n",
    "    max_overlap = 0\n",
    "    for i in range(1, min(len(a), len(b)) + 1):\n",
    "        if a[-i:] == b[:i]:\n",
    "            max_overlap = i\n",
    "    return max_overlap\n",
    "\n",
    "def shortestSuperstring(words):\n",
    "    n = len(words)\n",
    "    # Precompute all overlaps between each pair of words.\n",
    "    overlaps = [[0] * n for _ in range(n)]\n",
    "    for i in range(n):\n",
    "        for j in range(n):\n",
    "            if i != j:\n",
    "                overlaps[i][j] = overlap(words[i], words[j])\n",
    "\n",
    "    # dp[mask][i] will hold the shortest superstring that contains all words in mask\n",
    "    # and ends with the i-th word.\n",
    "    dp = [[\"\"] * n for _ in range(1 << n)]\n",
    "    parent = [[-1] * n for _ in range(1 << n)]\n",
    "    \n",
    "    # Initialize dp for each single word (mask with just one word).\n",
    "    for i in range(n):\n",
    "        dp[1 << i][i] = words[i]\n",
    "\n",
    "    # Iterate over all possible masks and all possible last words.\n",
    "    for mask in range(1 << n):\n",
    "        for i in range(n):\n",
    "            if mask & (1 << i):  # If i-th word is in the current mask.\n",
    "                prev_mask = mask ^ (1 << i)  # Mask without the i-th word.\n",
    "                for j in range(n):\n",
    "                    if prev_mask & (1 << j):  # If j-th word is in the previous mask.\n",
    "                        candidate = dp[prev_mask][j] + words[i][overlaps[j][i]:]\n",
    "                        if dp[mask][i] == \"\" or len(candidate) < len(dp[mask][i]):\n",
    "                            dp[mask][i] = candidate\n",
    "                            parent[mask][i] = j\n",
    "\n",
    "    # Find the shortest superstring by looking at the last mask (all words included).\n",
    "    final_mask = (1 << n) - 1\n",
    "    min_superstring = None\n",
    "    last_word = -1\n",
    "    for i in range(n):\n",
    "        if min_superstring is None or len(dp[final_mask][i]) < len(min_superstring):\n",
    "            min_superstring = dp[final_mask][i]\n",
    "            last_word = i\n",
    "\n",
    "    # Reconstruct the path of words used to form the superstring.\n",
    "    result = []\n",
    "    mask = final_mask\n",
    "    while last_word != -1:\n",
    "        result.append(words[last_word])\n",
    "        next_last_word = parent[mask][last_word]\n",
    "        mask ^= (1 << last_word)\n",
    "        last_word = next_last_word\n",
    "\n",
    "    # The result is formed by reversing the path since we backtracked.\n",
    "    result.reverse()\n",
    "    \n",
    "    return min_superstring\n",
    "\n",
    "# Example 1\n",
    "words1 = [\"alex\", \"loves\", \"leetcode\"]\n",
    "print(shortestSuperstring(words1))  # Output: \"alexlovesleetcode\"\n",
    "\n",
    "# Example 2\n",
    "words2 = [\"catg\", \"ctaagt\", \"gcta\", \"ttca\", \"atgcatc\"]\n",
    "print(shortestSuperstring(words2))  # Output: \"gctaagttcatgcatc\""
   ]
  },
  {
   "cell_type": "code",
   "execution_count": null,
   "id": "f8ba76cd",
   "metadata": {},
   "outputs": [],
   "source": []
  }
 ],
 "metadata": {
  "kernelspec": {
   "display_name": "Python 3 (ipykernel)",
   "language": "python",
   "name": "python3"
  },
  "language_info": {
   "codemirror_mode": {
    "name": "ipython",
    "version": 3
   },
   "file_extension": ".py",
   "mimetype": "text/x-python",
   "name": "python",
   "nbconvert_exporter": "python",
   "pygments_lexer": "ipython3",
   "version": "3.8.11"
  }
 },
 "nbformat": 4,
 "nbformat_minor": 5
}
