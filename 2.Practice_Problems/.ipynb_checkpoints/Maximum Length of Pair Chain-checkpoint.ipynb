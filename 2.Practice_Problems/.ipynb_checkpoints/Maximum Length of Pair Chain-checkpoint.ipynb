{
 "cells": [
  {
   "cell_type": "markdown",
   "id": "a090dc85",
   "metadata": {},
   "source": [
    "# Maximum Length of Pair Chain"
   ]
  },
  {
   "cell_type": "markdown",
   "id": "e6c81f57",
   "metadata": {},
   "source": [
    "You are given an array of n pairs pairs where pairs[i] = [lefti, righti] and lefti < righti.\n",
    "\n",
    "A pair p2 = [c, d] follows a pair p1 = [a, b] if b < c. A chain of pairs can be formed in this fashion.\n",
    "\n",
    "Return the length longest chain which can be formed.\n",
    "\n",
    "You do not need to use up all the given intervals. You can select pairs in any order.\n",
    "\n",
    " \n",
    "\n",
    "**Example 1:**\n",
    "\n",
    "Input: pairs = [[1,2],[2,3],[3,4]]\n",
    "\n",
    "Output: 2\n",
    "Explanation: The longest chain is [1,2] -> [3,4].\n",
    "\n",
    "**Example 2:**\n",
    "\n",
    "Input: pairs = [[1,2],[7,8],[4,5]]\n",
    "\n",
    "Output: 3\n",
    "Explanation: The longest chain is [1,2] -> [4,5] -> [7,8].\n",
    " \n",
    "\n",
    "**Constraints:**\n",
    "\n",
    "- n == pairs.length\n",
    "- 1 <= n <= 1000\n",
    "- -1000 <= lefti < righti <= 1000"
   ]
  },
  {
   "cell_type": "code",
   "execution_count": 1,
   "id": "369ac99e",
   "metadata": {},
   "outputs": [
    {
     "name": "stdout",
     "output_type": "stream",
     "text": [
      "2\n",
      "3\n"
     ]
    }
   ],
   "source": [
    "def findLongestChain(pairs):\n",
    "    # Sort the pairs based on the end values (righti)\n",
    "    pairs.sort(key=lambda x: x[1])\n",
    "    \n",
    "    # Initialize variables\n",
    "    max_length = 1\n",
    "    prev_end = pairs[0][1]\n",
    "    \n",
    "    # Iterate through the sorted pairs\n",
    "    for i in range(1, len(pairs)):\n",
    "        if pairs[i][0] > prev_end:\n",
    "            # If the current pair can follow the previous one, update the chain\n",
    "            max_length += 1\n",
    "            prev_end = pairs[i][1]\n",
    "    \n",
    "    return max_length\n",
    "\n",
    "# Example usage:\n",
    "pairs1 = [[1, 2], [2, 3], [3, 4]]\n",
    "print(findLongestChain(pairs1))  # Output: 2\n",
    "\n",
    "pairs2 = [[1, 2], [7, 8], [4, 5]]\n",
    "print(findLongestChain(pairs2))  # Output: 3"
   ]
  },
  {
   "cell_type": "code",
   "execution_count": null,
   "id": "ffb19bd0",
   "metadata": {},
   "outputs": [],
   "source": []
  }
 ],
 "metadata": {
  "kernelspec": {
   "display_name": "Python 3",
   "language": "python",
   "name": "python3"
  },
  "language_info": {
   "codemirror_mode": {
    "name": "ipython",
    "version": 3
   },
   "file_extension": ".py",
   "mimetype": "text/x-python",
   "name": "python",
   "nbconvert_exporter": "python",
   "pygments_lexer": "ipython3",
   "version": "3.9.13"
  }
 },
 "nbformat": 4,
 "nbformat_minor": 5
}
