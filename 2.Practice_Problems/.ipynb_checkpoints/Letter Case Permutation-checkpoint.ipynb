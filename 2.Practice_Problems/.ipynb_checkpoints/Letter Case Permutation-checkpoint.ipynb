{
 "cells": [
  {
   "cell_type": "markdown",
   "id": "9e1f5fd0",
   "metadata": {},
   "source": [
    "# Letter Case Permutation"
   ]
  },
  {
   "cell_type": "markdown",
   "id": "f40aaaec",
   "metadata": {},
   "source": [
    "Given a string s, you can transform every letter individually to be lowercase or uppercase to create another string.\n",
    "\n",
    "Return a list of all possible strings we could create. Return the output in any order.\n",
    "\n",
    "**Example 1:**\n",
    "\n",
    "Input: s = \"a1b2\"\n",
    "\n",
    "Output: [\"a1b2\",\"a1B2\",\"A1b2\",\"A1B2\"]\n",
    "\n",
    "**Example 2:**\n",
    "\n",
    "Input: s = \"3z4\"\n",
    "\n",
    "Output: [\"3z4\",\"3Z4\"]\n",
    " \n",
    "\n",
    "**Constraints:**\n",
    "\n",
    "- 1 <= s.length <= 12\n",
    "- s consists of lowercase English letters, uppercase English letters, and digits."
   ]
  },
  {
   "cell_type": "code",
   "execution_count": 1,
   "id": "1c509018",
   "metadata": {},
   "outputs": [
    {
     "name": "stdout",
     "output_type": "stream",
     "text": [
      "['a1b2', 'a1B2', 'A1b2', 'A1B2']\n",
      "['3z4', '3Z4']\n"
     ]
    }
   ],
   "source": [
    "def letterCasePermutation(s):\n",
    "    def backtrack(start, path):\n",
    "        if start == len(s):\n",
    "            result.append(''.join(path))\n",
    "            return\n",
    "\n",
    "        if s[start].isalpha():\n",
    "            # Convert to lowercase\n",
    "            path.append(s[start].lower())\n",
    "            backtrack(start + 1, path)\n",
    "            path.pop()\n",
    "\n",
    "            # Convert to uppercase\n",
    "            path.append(s[start].upper())\n",
    "            backtrack(start + 1, path)\n",
    "            path.pop()\n",
    "        else:\n",
    "            # If it's a digit, no need to change case\n",
    "            path.append(s[start])\n",
    "            backtrack(start + 1, path)\n",
    "            path.pop()\n",
    "\n",
    "    result = []\n",
    "    backtrack(0, [])\n",
    "    return result\n",
    "\n",
    "# Example usage\n",
    "s1 = \"a1b2\"\n",
    "print(letterCasePermutation(s1))  # Output: [\"a1b2\",\"a1B2\",\"A1b2\",\"A1B2\"]\n",
    "\n",
    "s2 = \"3z4\"\n",
    "print(letterCasePermutation(s2))  # Output: [\"3z4\",\"3Z4\"]"
   ]
  },
  {
   "cell_type": "code",
   "execution_count": null,
   "id": "32de237b",
   "metadata": {},
   "outputs": [],
   "source": []
  }
 ],
 "metadata": {
  "kernelspec": {
   "display_name": "Python 3",
   "language": "python",
   "name": "python3"
  },
  "language_info": {
   "codemirror_mode": {
    "name": "ipython",
    "version": 3
   },
   "file_extension": ".py",
   "mimetype": "text/x-python",
   "name": "python",
   "nbconvert_exporter": "python",
   "pygments_lexer": "ipython3",
   "version": "3.9.13"
  }
 },
 "nbformat": 4,
 "nbformat_minor": 5
}
