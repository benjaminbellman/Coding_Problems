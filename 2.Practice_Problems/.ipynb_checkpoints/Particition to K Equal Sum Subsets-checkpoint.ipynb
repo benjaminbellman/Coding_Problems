{
 "cells": [
  {
   "cell_type": "markdown",
   "id": "b9d2b75a",
   "metadata": {},
   "source": [
    "# Particition to K Equal Sum Subsets"
   ]
  },
  {
   "cell_type": "markdown",
   "id": "d1816418",
   "metadata": {},
   "source": [
    "Given an integer array nums and an integer k, return true if it is possible to divide this array into k non-empty subsets whose sums are all equal.\n",
    "\n",
    " \n",
    "\n",
    "**Example 1:**\n",
    "\n",
    "Input: nums = [4,3,2,3,5,2,1], k = 4\n",
    "\n",
    "Output: true\n",
    "Explanation: It is possible to divide it into 4 subsets (5), (1, 4), (2,3), (2,3) with equal sums.\n",
    "\n",
    "**Example 2:**\n",
    "\n",
    "Input: nums = [1,2,3,4], k = 3\n",
    "\n",
    "Output: false\n",
    " \n",
    "\n",
    "**Constraints:**\n",
    "\n",
    "- 1 <= k <= nums.length <= 16\n",
    "- 1 <= nums[i] <= 104\n",
    "- The frequency of each element is in the range [1, 4]."
   ]
  },
  {
   "cell_type": "code",
   "execution_count": 1,
   "id": "7f28f7ff",
   "metadata": {},
   "outputs": [
    {
     "name": "stdout",
     "output_type": "stream",
     "text": [
      "True\n",
      "False\n"
     ]
    }
   ],
   "source": [
    "def canPartitionKSubsets(nums, k):\n",
    "    total_sum = sum(nums)\n",
    "    if total_sum % k != 0:\n",
    "        return False\n",
    "    target = total_sum // k\n",
    "    nums.sort(reverse=True)  # Sort in descending order for optimization\n",
    "    visited = [False] * len(nums)\n",
    "\n",
    "    def backtrack(start, k, curr_sum):\n",
    "        if k == 1:\n",
    "            return True\n",
    "        if curr_sum == target:\n",
    "            return backtrack(0, k - 1, 0)\n",
    "        for i in range(start, len(nums)):\n",
    "            if not visited[i] and curr_sum + nums[i] <= target:\n",
    "                visited[i] = True\n",
    "                if backtrack(i + 1, k, curr_sum + nums[i]):\n",
    "                    return True\n",
    "                visited[i] = False\n",
    "        return False\n",
    "\n",
    "    return backtrack(0, k, 0)\n",
    "\n",
    "# Test cases\n",
    "nums1 = [4, 3, 2, 3, 5, 2, 1]\n",
    "k1 = 4\n",
    "print(canPartitionKSubsets(nums1, k1))  # Output: True\n",
    "\n",
    "nums2 = [1, 2, 3, 4]\n",
    "k2 = 3\n",
    "print(canPartitionKSubsets(nums2, k2))  # Output: False"
   ]
  },
  {
   "cell_type": "code",
   "execution_count": null,
   "id": "21912338",
   "metadata": {},
   "outputs": [],
   "source": []
  }
 ],
 "metadata": {
  "kernelspec": {
   "display_name": "Python 3",
   "language": "python",
   "name": "python3"
  },
  "language_info": {
   "codemirror_mode": {
    "name": "ipython",
    "version": 3
   },
   "file_extension": ".py",
   "mimetype": "text/x-python",
   "name": "python",
   "nbconvert_exporter": "python",
   "pygments_lexer": "ipython3",
   "version": "3.9.13"
  }
 },
 "nbformat": 4,
 "nbformat_minor": 5
}
