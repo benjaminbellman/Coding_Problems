{
 "cells": [
  {
   "cell_type": "markdown",
   "id": "39c4ad09",
   "metadata": {},
   "source": [
    "# Longest Uncommon Subsequence I"
   ]
  },
  {
   "cell_type": "markdown",
   "id": "15422e04",
   "metadata": {},
   "source": [
    "Given two strings a and b, return the length of the longest uncommon subsequence between a and b. If the longest uncommon subsequence does not exist, return -1.\n",
    "\n",
    "An uncommon subsequence between two strings is a string that is a subsequence of one but not the other.\n",
    "\n",
    "A subsequence of a string s is a string that can be obtained after deleting any number of characters from s.\n",
    "\n",
    "For example, \"abc\" is a subsequence of \"aebdc\" because you can delete the underlined characters in \"aebdc\" to get \"abc\". Other subsequences of \"aebdc\" include \"aebdc\", \"aeb\", and \"\" (empty string).\n",
    " \n",
    "\n",
    "**Example 1:**\n",
    "\n",
    "Input: a = \"aba\", b = \"cdc\"\n",
    "Output: 3\n",
    "Explanation: One longest uncommon subsequence is \"aba\" because \"aba\" is a subsequence of \"aba\" but not \"cdc\".\n",
    "Note that \"cdc\" is also a longest uncommon subsequence.\n",
    "\n",
    "**Example 2:**\n",
    "\n",
    "Input: a = \"aaa\", b = \"bbb\"\n",
    "Output: 3\n",
    "Explanation: The longest uncommon subsequences are \"aaa\" and \"bbb\".\n",
    "\n",
    "**Example 3:**\n",
    "\n",
    "Input: a = \"aaa\", b = \"aaa\"\n",
    "Output: -1\n",
    "Explanation: Every subsequence of string a is also a subsequence of string b. Similarly, every subsequence of string b is also a subsequence of string a.\n",
    " \n",
    "\n",
    "**Constraints:**\n",
    "\n",
    "- 1 <= a.length, b.length <= 100\n",
    "- a and b consist of lower-case English letters."
   ]
  },
  {
   "cell_type": "code",
   "execution_count": 1,
   "id": "41a4f868",
   "metadata": {},
   "outputs": [],
   "source": [
    "def findLUSlength(a: str, b: str) -> int:\n",
    "    if a == b:\n",
    "        return -1\n",
    "    return max(len(a), len(b))"
   ]
  },
  {
   "cell_type": "code",
   "execution_count": null,
   "id": "64f14cd9",
   "metadata": {},
   "outputs": [],
   "source": []
  }
 ],
 "metadata": {
  "kernelspec": {
   "display_name": "Python 3",
   "language": "python",
   "name": "python3"
  },
  "language_info": {
   "codemirror_mode": {
    "name": "ipython",
    "version": 3
   },
   "file_extension": ".py",
   "mimetype": "text/x-python",
   "name": "python",
   "nbconvert_exporter": "python",
   "pygments_lexer": "ipython3",
   "version": "3.9.13"
  }
 },
 "nbformat": 4,
 "nbformat_minor": 5
}
