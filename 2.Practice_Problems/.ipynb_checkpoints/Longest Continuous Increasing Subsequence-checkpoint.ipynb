{
 "cells": [
  {
   "cell_type": "markdown",
   "id": "8c65fca3",
   "metadata": {},
   "source": [
    "# Longest Continuous Increasing Subsequence"
   ]
  },
  {
   "cell_type": "markdown",
   "id": "464b5ee5",
   "metadata": {},
   "source": [
    "Given an unsorted array of integers nums, return the length of the longest continuous increasing subsequence (i.e. subarray). The subsequence must be strictly increasing.\n",
    "\n",
    "A continuous increasing subsequence is defined by two indices l and r (l < r) such that it is [nums[l], nums[l + 1], ..., nums[r - 1], nums[r]] and for each l <= i < r, nums[i] < nums[i + 1].\n",
    "\n",
    " \n",
    "\n",
    "**Example 1:**\n",
    "\n",
    "Input: nums = [1,3,5,4,7]\n",
    "\n",
    "Output: 3\n",
    "Explanation: The longest continuous increasing subsequence is [1,3,5] with length 3.\n",
    "Even though [1,3,5,7] is an increasing subsequence, it is not continuous as elements 5 and 7 are separated by element\n",
    "4.\n",
    "\n",
    "**Example 2:**\n",
    "\n",
    "Input: nums = [2,2,2,2,2]\n",
    "\n",
    "Output: 1\n",
    "Explanation: The longest continuous increasing subsequence is [2] with length 1. Note that it must be strictly\n",
    "increasing.\n",
    " \n",
    "\n",
    "**Constraints:**\n",
    "\n",
    "- 1 <= nums.length <= 104\n",
    "- -109 <= nums[i] <= 109"
   ]
  },
  {
   "cell_type": "code",
   "execution_count": 1,
   "id": "598b91ff",
   "metadata": {},
   "outputs": [
    {
     "name": "stdout",
     "output_type": "stream",
     "text": [
      "Output 1: 3\n",
      "Output 2: 1\n"
     ]
    }
   ],
   "source": [
    "def findLengthOfLCIS(nums):\n",
    "    if not nums:\n",
    "        return 0\n",
    "\n",
    "    max_length = 1  # Initialize the maximum subsequence length to 1 (minimum possible)\n",
    "    current_length = 1  # Initialize the current subsequence length to 1\n",
    "\n",
    "    for i in range(1, len(nums)):\n",
    "        if nums[i] > nums[i - 1]:\n",
    "            current_length += 1\n",
    "        else:\n",
    "            current_length = 1  # Reset the current length if the sequence breaks\n",
    "\n",
    "        max_length = max(max_length, current_length)  # Update the maximum length\n",
    "\n",
    "    return max_length\n",
    "\n",
    "# Example usage:\n",
    "nums1 = [1, 3, 5, 4, 7]\n",
    "result1 = findLengthOfLCIS(nums1)\n",
    "print(\"Output 1:\", result1)  # Output should be 3\n",
    "\n",
    "nums2 = [2, 2, 2, 2, 2]\n",
    "result2 = findLengthOfLCIS(nums2)\n",
    "print(\"Output 2:\", result2)  # Output should be 1"
   ]
  },
  {
   "cell_type": "code",
   "execution_count": null,
   "id": "ed5732d7",
   "metadata": {},
   "outputs": [],
   "source": []
  }
 ],
 "metadata": {
  "kernelspec": {
   "display_name": "Python 3",
   "language": "python",
   "name": "python3"
  },
  "language_info": {
   "codemirror_mode": {
    "name": "ipython",
    "version": 3
   },
   "file_extension": ".py",
   "mimetype": "text/x-python",
   "name": "python",
   "nbconvert_exporter": "python",
   "pygments_lexer": "ipython3",
   "version": "3.9.13"
  }
 },
 "nbformat": 4,
 "nbformat_minor": 5
}
