{
 "cells": [
  {
   "cell_type": "markdown",
   "id": "96199f90",
   "metadata": {},
   "source": [
    "# Construct the Rectangle"
   ]
  },
  {
   "cell_type": "markdown",
   "id": "4371a175",
   "metadata": {},
   "source": [
    "A web developer needs to know how to design a web page's size. So, given a specific rectangular web page’s area, your job by now is to design a rectangular web page, whose length L and width W satisfy the following requirements:\n",
    "\n",
    "The area of the rectangular web page you designed must equal to the given target area.\n",
    "The width W should not be larger than the length L, which means L >= W.\n",
    "The difference between length L and width W should be as small as possible.\n",
    "Return an array [L, W] where L and W are the length and width of the web page you designed in sequence.\n",
    "\n",
    " \n",
    "\n",
    "**Example 1:**\n",
    "\n",
    "Input: area = 4\n",
    "Output: [2,2]\n",
    "Explanation: The target area is 4, and all the possible ways to construct it are [1,4], [2,2], [4,1]. \n",
    "But according to requirement 2, [1,4] is illegal; according to requirement 3,  [4,1] is not optimal compared to [2,2]. So the length L is 2, and the width W is 2.\n",
    "\n",
    "**Example 2:**\n",
    "\n",
    "Input: area = 37\n",
    "Output: [37,1]\n",
    "\n",
    "**Example 3:**\n",
    "\n",
    "Input: area = 122122\n",
    "Output: [427,286]\n",
    " \n",
    "\n",
    "**Constraints:**\n",
    "\n",
    "- 1 <= area <= 107"
   ]
  },
  {
   "cell_type": "code",
   "execution_count": 1,
   "id": "0f680804",
   "metadata": {},
   "outputs": [
    {
     "name": "stdout",
     "output_type": "stream",
     "text": [
      "[2, 2]\n",
      "[37, 1]\n",
      "[427, 286]\n"
     ]
    }
   ],
   "source": [
    "import math\n",
    "\n",
    "def designWebPage(area):\n",
    "    # Start with the square root of the area, rounding down\n",
    "    sqrt_area = int(math.sqrt(area))\n",
    "\n",
    "    # Initialize length and width to 1 and area (worst-case scenario)\n",
    "    L, W = area, 1\n",
    "\n",
    "    # Loop from sqrt_area down to 1 to find an optimal divisor\n",
    "    for i in range(sqrt_area, 0, -1):\n",
    "        if area % i == 0:\n",
    "            L, W = area // i, i\n",
    "            break\n",
    "\n",
    "    return [L, W]\n",
    "\n",
    "# Example usage\n",
    "print(designWebPage(4))  # Output should be [2, 2]\n",
    "print(designWebPage(37))  # Output should be [37, 1]\n",
    "print(designWebPage(122122))  # Output should be [427, 286]"
   ]
  }
 ],
 "metadata": {
  "kernelspec": {
   "display_name": "Python 3",
   "language": "python",
   "name": "python3"
  },
  "language_info": {
   "codemirror_mode": {
    "name": "ipython",
    "version": 3
   },
   "file_extension": ".py",
   "mimetype": "text/x-python",
   "name": "python",
   "nbconvert_exporter": "python",
   "pygments_lexer": "ipython3",
   "version": "3.9.13"
  }
 },
 "nbformat": 4,
 "nbformat_minor": 5
}
