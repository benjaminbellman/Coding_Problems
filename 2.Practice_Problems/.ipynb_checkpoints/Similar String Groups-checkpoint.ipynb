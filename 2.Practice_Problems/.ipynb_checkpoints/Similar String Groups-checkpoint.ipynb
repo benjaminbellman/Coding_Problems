{
 "cells": [
  {
   "cell_type": "markdown",
   "id": "7e907ab3",
   "metadata": {},
   "source": [
    "# Similar String Groups"
   ]
  },
  {
   "cell_type": "markdown",
   "id": "0ebd905c",
   "metadata": {},
   "source": [
    "Two strings, X and Y, are considered similar if either they are identical or we can make them equivalent by swapping at most two letters (in distinct positions) within the string X.\n",
    "\n",
    "For example, \"tars\" and \"rats\" are similar (swapping at positions 0 and 2), and \"rats\" and \"arts\" are similar, but \"star\" is not similar to \"tars\", \"rats\", or \"arts\".\n",
    "\n",
    "Together, these form two connected groups by similarity: {\"tars\", \"rats\", \"arts\"} and {\"star\"}.  Notice that \"tars\" and \"arts\" are in the same group even though they are not similar.  Formally, each group is such that a word is in the group if and only if it is similar to at least one other word in the group.\n",
    "\n",
    "We are given a list strs of strings where every string in strs is an anagram of every other string in strs. How many groups are there?\n",
    "\n",
    " \n",
    "\n",
    "**Example 1:**\n",
    "\n",
    "Input: strs = [\"tars\",\"rats\",\"arts\",\"star\"]\n",
    "Output: 2\n",
    "\n",
    "**Example 2:**\n",
    "\n",
    "Input: strs = [\"omv\",\"ovm\"]\n",
    "Output: 1\n",
    " \n",
    "\n",
    "**Constraints:**\n",
    "\n",
    "- 1 <= strs.length <= 300\n",
    "- 1 <= strs[i].length <= 300\n",
    "- strs[i] consists of lowercase letters only.\n",
    "- All words in strs have the same length and are anagrams of each other."
   ]
  },
  {
   "cell_type": "code",
   "execution_count": 1,
   "id": "9fe229f9",
   "metadata": {},
   "outputs": [
    {
     "name": "stdout",
     "output_type": "stream",
     "text": [
      "2\n",
      "1\n"
     ]
    }
   ],
   "source": [
    "from collections import defaultdict, deque\n",
    "\n",
    "def are_similar(s1, s2):\n",
    "    diff_count = 0\n",
    "    for c1, c2 in zip(s1, s2):\n",
    "        if c1 != c2:\n",
    "            diff_count += 1\n",
    "            if diff_count > 2:\n",
    "                return False\n",
    "    return True\n",
    "\n",
    "def num_similar_groups(strs):\n",
    "    graph = defaultdict(list)\n",
    "    visited = set()\n",
    "    groups = 0\n",
    "    \n",
    "    # Build the graph based on similarity\n",
    "    for i in range(len(strs)):\n",
    "        for j in range(i + 1, len(strs)):\n",
    "            if are_similar(strs[i], strs[j]):\n",
    "                graph[strs[i]].append(strs[j])\n",
    "                graph[strs[j]].append(strs[i])\n",
    "    \n",
    "    # Perform BFS to count connected components\n",
    "    for s in strs:\n",
    "        if s not in visited:\n",
    "            groups += 1\n",
    "            queue = deque([s])\n",
    "            visited.add(s)\n",
    "            while queue:\n",
    "                node = queue.popleft()\n",
    "                for neighbor in graph[node]:\n",
    "                    if neighbor not in visited:\n",
    "                        visited.add(neighbor)\n",
    "                        queue.append(neighbor)\n",
    "    \n",
    "    return groups\n",
    "\n",
    "# Example usage\n",
    "strs1 = [\"tars\", \"rats\", \"arts\", \"star\"]\n",
    "print(num_similar_groups(strs1))  # Output: 2\n",
    "\n",
    "strs2 = [\"omv\", \"ovm\"]\n",
    "print(num_similar_groups(strs2))  # Output: 1"
   ]
  },
  {
   "cell_type": "code",
   "execution_count": null,
   "id": "38f20019",
   "metadata": {},
   "outputs": [],
   "source": []
  }
 ],
 "metadata": {
  "kernelspec": {
   "display_name": "Python 3",
   "language": "python",
   "name": "python3"
  },
  "language_info": {
   "codemirror_mode": {
    "name": "ipython",
    "version": 3
   },
   "file_extension": ".py",
   "mimetype": "text/x-python",
   "name": "python",
   "nbconvert_exporter": "python",
   "pygments_lexer": "ipython3",
   "version": "3.9.13"
  }
 },
 "nbformat": 4,
 "nbformat_minor": 5
}
