{
 "cells": [
  {
   "cell_type": "markdown",
   "id": "0e8a2a5a",
   "metadata": {},
   "source": [
    "# Grid Illumination"
   ]
  },
  {
   "cell_type": "markdown",
   "id": "630f8cbc",
   "metadata": {},
   "source": [
    "There is a 2D grid of size n x n where each cell of this grid has a lamp that is initially turned off.\n",
    "\n",
    "You are given a 2D array of lamp positions lamps, where lamps[i] = [rowi, coli] indicates that the lamp at grid[rowi][coli] is turned on. Even if the same lamp is listed more than once, it is turned on.\n",
    "\n",
    "When a lamp is turned on, it illuminates its cell and all other cells in the same row, column, or diagonal.\n",
    "\n",
    "You are also given another 2D array queries, where queries[j] = [rowj, colj]. For the jth query, determine whether grid[rowj][colj] is illuminated or not. After answering the jth query, turn off the lamp at grid[rowj][colj] and its 8 adjacent lamps if they exist. A lamp is adjacent if its cell shares either a side or corner with grid[rowj][colj].\n",
    "\n",
    "Return an array of integers ans, where ans[j] should be 1 if the cell in the jth query was illuminated, or 0 if the lamp was not.\n",
    "\n",
    "**Example 1:**\n",
    "\n",
    "Input: n = 5, lamps = [[0,0],[4,4]], queries = [[1,1],[1,0]]\n",
    "Output: [1,0]\n",
    "Explanation: We have the initial grid with all lamps turned off. In the above picture we see the grid after turning on the lamp at grid[0][0] then turning on the lamp at grid[4][4].\n",
    "The 0th query asks if the lamp at grid[1][1] is illuminated or not (the blue square). It is illuminated, so set ans[0] = 1. Then, we turn off all lamps in the red square.\n",
    "\n",
    "The 1st query asks if the lamp at grid[1][0] is illuminated or not (the blue square). It is not illuminated, so set ans[1] = 0. Then, we turn off all lamps in the red rectangle.\n",
    "\n",
    "**Example 2:**\n",
    "\n",
    "Input: n = 5, lamps = [[0,0],[4,4]], queries = [[1,1],[1,1]]\n",
    "Output: [1,1]\n",
    "\n",
    "**Example 3:**\n",
    "\n",
    "Input: n = 5, lamps = [[0,0],[0,4]], queries = [[0,4],[0,1],[1,4]]\n",
    "Output: [1,1,0]\n",
    "\n",
    "**Constraints:**\n",
    "\n",
    "- 1 <= n <= 109\n",
    "- 0 <= lamps.length <= 20000\n",
    "- 0 <= queries.length <= 20000\n",
    "- lamps[i].length == 2\n",
    "- 0 <= rowi, coli < n\n",
    "- queries[j].length == 2\n",
    "- 0 <= rowj, colj < n"
   ]
  },
  {
   "cell_type": "code",
   "execution_count": 1,
   "id": "3fd46bfa",
   "metadata": {},
   "outputs": [
    {
     "name": "stdout",
     "output_type": "stream",
     "text": [
      "Output for Test Case 1: [1, 0]\n",
      "Output for Test Case 2: [1, 1]\n",
      "Output for Test Case 3: [1, 1, 0]\n"
     ]
    }
   ],
   "source": [
    "from collections import defaultdict\n",
    "\n",
    "def grid_illumination(n, lamps, queries):\n",
    "    # Initialize dictionaries to keep track of illuminated rows, columns, and diagonals\n",
    "    rows, cols, diags, anti_diags = defaultdict(int), defaultdict(int), defaultdict(int), defaultdict(int)\n",
    "    lamp_positions = set()\n",
    "    \n",
    "    # Initialize all lamps and update illumination counts\n",
    "    for r, c in lamps:\n",
    "        if (r, c) not in lamp_positions:\n",
    "            lamp_positions.add((r, c))\n",
    "            rows[r] += 1\n",
    "            cols[c] += 1\n",
    "            diags[r - c] += 1\n",
    "            anti_diags[r + c] += 1\n",
    "    \n",
    "    # Direction vectors for turning off adjacent cells (including the cell itself)\n",
    "    directions = [(0, 0), (0, 1), (0, -1), (1, 0), (-1, 0), (1, 1), (1, -1), (-1, 1), (-1, -1)]\n",
    "    result = []\n",
    "    \n",
    "    # Process each query\n",
    "    for qr, qc in queries:\n",
    "        # Check if cell is illuminated\n",
    "        if rows[qr] > 0 or cols[qc] > 0 or diags[qr - qc] > 0 or anti_diags[qr + qc] > 0:\n",
    "            result.append(1)\n",
    "        else:\n",
    "            result.append(0)\n",
    "        \n",
    "        # Turn off the lamp and adjacent lamps\n",
    "        for dr, dc in directions:\n",
    "            nr, nc = qr + dr, qc + dc\n",
    "            if (nr, nc) in lamp_positions:\n",
    "                lamp_positions.remove((nr, nc))\n",
    "                rows[nr] -= 1\n",
    "                cols[nc] -= 1\n",
    "                diags[nr - nc] -= 1\n",
    "                anti_diags[nr + nc] -= 1\n",
    "                \n",
    "                # Remove counts if they become zero to avoid negative counts\n",
    "                if rows[nr] == 0: del rows[nr]\n",
    "                if cols[nc] == 0: del cols[nc]\n",
    "                if diags[nr - nc] == 0: del diags[nr - nc]\n",
    "                if anti_diags[nr + nc] == 0: del anti_diags[nr + nc]\n",
    "\n",
    "    return result\n",
    "\n",
    "# Test the function with provided examples\n",
    "test_case_1 = (5, [[0,0],[4,4]], [[1,1],[1,0]])\n",
    "test_case_2 = (5, [[0,0],[4,4]], [[1,1],[1,1]])\n",
    "test_case_3 = (5, [[0,0],[0,4]], [[0,4],[0,1],[1,4]])\n",
    "\n",
    "output_1 = grid_illumination(*test_case_1)\n",
    "output_2 = grid_illumination(*test_case_2)\n",
    "output_3 = grid_illumination(*test_case_3)\n",
    "\n",
    "print(\"Output for Test Case 1:\", output_1)\n",
    "print(\"Output for Test Case 2:\", output_2)\n",
    "print(\"Output for Test Case 3:\", output_3)"
   ]
  },
  {
   "cell_type": "code",
   "execution_count": null,
   "id": "915ecd17",
   "metadata": {},
   "outputs": [],
   "source": []
  }
 ],
 "metadata": {
  "kernelspec": {
   "display_name": "Python 3 (ipykernel)",
   "language": "python",
   "name": "python3"
  },
  "language_info": {
   "codemirror_mode": {
    "name": "ipython",
    "version": 3
   },
   "file_extension": ".py",
   "mimetype": "text/x-python",
   "name": "python",
   "nbconvert_exporter": "python",
   "pygments_lexer": "ipython3",
   "version": "3.8.11"
  }
 },
 "nbformat": 4,
 "nbformat_minor": 5
}
