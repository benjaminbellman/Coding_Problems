{
 "cells": [
  {
   "cell_type": "markdown",
   "id": "9e7f1930",
   "metadata": {},
   "source": [
    "# Palindromic Substrings"
   ]
  },
  {
   "cell_type": "markdown",
   "id": "fa8bb76c",
   "metadata": {},
   "source": [
    "Given a string s, return the number of palindromic substrings in it.\n",
    "\n",
    "A string is a palindrome when it reads the same backward as forward.\n",
    "\n",
    "A substring is a contiguous sequence of characters within the string.\n",
    "\n",
    "\n",
    "**Example 1:**\n",
    "\n",
    "Input: s = \"abc\"\n",
    "\n",
    "Output: 3\n",
    "Explanation: Three palindromic strings: \"a\", \"b\", \"c\".\n",
    "\n",
    "**Example 2:**\n",
    "\n",
    "Input: s = \"aaa\"\n",
    "\n",
    "Output: 6\n",
    "Explanation: Six palindromic strings: \"a\", \"a\", \"a\", \"aa\", \"aa\", \"aaa\".\n",
    " \n",
    "\n",
    "**Constraints:**\n",
    "\n",
    "- 1 <= s.length <= 1000\n",
    "- s consists of lowercase English letters."
   ]
  },
  {
   "cell_type": "code",
   "execution_count": 1,
   "id": "1db97048",
   "metadata": {},
   "outputs": [
    {
     "name": "stdout",
     "output_type": "stream",
     "text": [
      "3\n",
      "6\n"
     ]
    }
   ],
   "source": [
    "def countSubstrings(s):\n",
    "    n = len(s)\n",
    "    count = 0\n",
    "    dp = [[False] * n for _ in range(n)]\n",
    "\n",
    "    # All individual characters are palindromes.\n",
    "    for i in range(n):\n",
    "        dp[i][i] = True\n",
    "        count += 1\n",
    "\n",
    "    # Check for palindromic substrings of length 2.\n",
    "    for i in range(n - 1):\n",
    "        if s[i] == s[i + 1]:\n",
    "            dp[i][i + 1] = True\n",
    "            count += 1\n",
    "\n",
    "    # Check for palindromic substrings of length 3 or more.\n",
    "    for length in range(3, n + 1):\n",
    "        for i in range(n - length + 1):\n",
    "            j = i + length - 1\n",
    "            if s[i] == s[j] and dp[i + 1][j - 1]:\n",
    "                dp[i][j] = True\n",
    "                count += 1\n",
    "\n",
    "    return count\n",
    "\n",
    "# Example usage:\n",
    "s1 = \"abc\"\n",
    "print(countSubstrings(s1))  # Output: 3\n",
    "\n",
    "s2 = \"aaa\"\n",
    "print(countSubstrings(s2))  # Output: 6"
   ]
  },
  {
   "cell_type": "code",
   "execution_count": null,
   "id": "7ee531ab",
   "metadata": {},
   "outputs": [],
   "source": []
  }
 ],
 "metadata": {
  "kernelspec": {
   "display_name": "Python 3",
   "language": "python",
   "name": "python3"
  },
  "language_info": {
   "codemirror_mode": {
    "name": "ipython",
    "version": 3
   },
   "file_extension": ".py",
   "mimetype": "text/x-python",
   "name": "python",
   "nbconvert_exporter": "python",
   "pygments_lexer": "ipython3",
   "version": "3.9.13"
  }
 },
 "nbformat": 4,
 "nbformat_minor": 5
}
