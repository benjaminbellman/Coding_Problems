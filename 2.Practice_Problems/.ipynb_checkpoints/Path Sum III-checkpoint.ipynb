{
 "cells": [
  {
   "cell_type": "markdown",
   "id": "c0c4840d",
   "metadata": {},
   "source": [
    "# Path Sum III"
   ]
  },
  {
   "cell_type": "markdown",
   "id": "d9c89d92",
   "metadata": {},
   "source": [
    "Given the root of a binary tree and an integer targetSum, return the number of paths where the sum of the values along the path equals targetSum.\n",
    "\n",
    "The path does not need to start or end at the root or a leaf, but it must go downwards (i.e., traveling only from parent nodes to child nodes).\n",
    "\n",
    " \n",
    "\n",
    "**Example 1:**\n",
    "\n",
    "\n",
    "Input: root = [10,5,-3,3,2,null,11,3,-2,null,1], targetSum = 8\n",
    "Output: 3\n",
    "Explanation: The paths that sum to 8 are shown.\n",
    "\n",
    "**Example 2:**\n",
    "\n",
    "Input: root = [5,4,8,11,null,13,4,7,2,null,null,5,1], targetSum = 22\n",
    "Output: 3\n",
    " \n",
    "\n",
    "**Constraints:**\n",
    "\n",
    "The number of nodes in the tree is in the range [0, 1000].\n",
    "-109 <= Node.val <= 109\n",
    "-1000 <= targetSum <= 1000"
   ]
  },
  {
   "cell_type": "code",
   "execution_count": 1,
   "id": "8f338863",
   "metadata": {},
   "outputs": [],
   "source": [
    "class TreeNode:\n",
    "    def __init__(self, val=0, left=None, right=None):\n",
    "        self.val = val\n",
    "        self.left = left\n",
    "        self.right = right\n",
    "\n",
    "def pathSum(root, targetSum):\n",
    "    def dfs(node, target):\n",
    "        if not node:\n",
    "            return 0\n",
    "        count = 0\n",
    "        if node.val == target:\n",
    "            count += 1\n",
    "        count += dfs(node.left, target - node.val)\n",
    "        count += dfs(node.right, target - node.val)\n",
    "        return count\n",
    "\n",
    "    if not root:\n",
    "        return 0\n",
    "    total = dfs(root, targetSum)\n",
    "    total += pathSum(root.left, targetSum)\n",
    "    total += pathSum(root.right, targetSum)\n",
    "    return total"
   ]
  },
  {
   "cell_type": "code",
   "execution_count": 2,
   "id": "a34016ff",
   "metadata": {},
   "outputs": [
    {
     "name": "stdout",
     "output_type": "stream",
     "text": [
      "3\n",
      "3\n"
     ]
    }
   ],
   "source": [
    "# Example 1\n",
    "root1 = TreeNode(10)\n",
    "root1.left = TreeNode(5)\n",
    "root1.right = TreeNode(-3)\n",
    "root1.left.left = TreeNode(3)\n",
    "root1.left.right = TreeNode(2)\n",
    "root1.right.right = TreeNode(11)\n",
    "root1.left.left.left = TreeNode(3)\n",
    "root1.left.left.right = TreeNode(-2)\n",
    "root1.left.right.right = TreeNode(1)\n",
    "\n",
    "targetSum1 = 8\n",
    "result1 = pathSum(root1, targetSum1)\n",
    "print(result1)  # Output: 3\n",
    "\n",
    "\n",
    "# Example 2\n",
    "root2 = TreeNode(5)\n",
    "root2.left = TreeNode(4)\n",
    "root2.right = TreeNode(8)\n",
    "root2.left.left = TreeNode(11)\n",
    "root2.right.left = TreeNode(13)\n",
    "root2.right.right = TreeNode(4)\n",
    "root2.left.left.left = TreeNode(7)\n",
    "root2.left.left.right = TreeNode(2)\n",
    "root2.right.right.left = TreeNode(5)\n",
    "root2.right.right.right = TreeNode(1)\n",
    "\n",
    "targetSum2 = 22\n",
    "result2 = pathSum(root2, targetSum2)\n",
    "print(result2)  # Output: 3"
   ]
  },
  {
   "cell_type": "code",
   "execution_count": null,
   "id": "4c457927",
   "metadata": {},
   "outputs": [],
   "source": []
  }
 ],
 "metadata": {
  "kernelspec": {
   "display_name": "Python 3",
   "language": "python",
   "name": "python3"
  },
  "language_info": {
   "codemirror_mode": {
    "name": "ipython",
    "version": 3
   },
   "file_extension": ".py",
   "mimetype": "text/x-python",
   "name": "python",
   "nbconvert_exporter": "python",
   "pygments_lexer": "ipython3",
   "version": "3.9.13"
  }
 },
 "nbformat": 4,
 "nbformat_minor": 5
}
