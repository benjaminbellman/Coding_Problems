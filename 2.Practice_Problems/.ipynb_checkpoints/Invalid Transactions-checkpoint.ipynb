{
 "cells": [
  {
   "cell_type": "markdown",
   "id": "525c6abd",
   "metadata": {},
   "source": [
    "# Invalid Transactions"
   ]
  },
  {
   "cell_type": "markdown",
   "id": "dfc83721",
   "metadata": {},
   "source": [
    "A transaction is possibly invalid if:\n",
    "\n",
    "the amount exceeds $1000, or;\n",
    "if it occurs within (and including) 60 minutes of another transaction with the same name in a different city.\n",
    "You are given an array of strings transaction where transactions[i] consists of comma-separated values representing the name, time (in minutes), amount, and city of the transaction.\n",
    "\n",
    "Return a list of transactions that are possibly invalid. You may return the answer in any order.\n",
    "\n",
    "**Example 1:**\n",
    "\n",
    "Input: transactions = [\"alice,20,800,mtv\",\"alice,50,100,beijing\"]\n",
    "Output: [\"alice,20,800,mtv\",\"alice,50,100,beijing\"]\n",
    "Explanation: The first transaction is invalid because the second transaction occurs within a difference of 60 minutes, have the same name and is in a different city. Similarly the second one is invalid too.\n",
    "\n",
    "**Example 2:**\n",
    "\n",
    "Input: transactions = [\"alice,20,800,mtv\",\"alice,50,1200,mtv\"]\n",
    "Output: [\"alice,50,1200,mtv\"]\n",
    "\n",
    "**Example 3:**\n",
    "\n",
    "Input: transactions = [\"alice,20,800,mtv\",\"bob,50,1200,mtv\"]\n",
    "Output: [\"bob,50,1200,mtv\"]\n",
    " \n",
    "**Constraints:**\n",
    "\n",
    "- transactions.length <= 1000\n",
    "- Each transactions[i] takes the form \"{name},{time},{amount},{city}\"\n",
    "- Each {name} and {city} consist of lowercase English letters, and have lengths between 1 and 10.\n",
    "- Each {time} consist of digits, and represent an integer between 0 and 1000.\n",
    "- Each {amount} consist of digits, and represent an integer between 0 and 2000."
   ]
  },
  {
   "cell_type": "code",
   "execution_count": 1,
   "id": "73f1a7b1",
   "metadata": {},
   "outputs": [
    {
     "data": {
      "text/plain": [
       "(['alice,20,800,mtv', 'alice,50,100,beijing'],\n",
       " ['alice,50,1200,mtv'],\n",
       " ['bob,50,1200,mtv'])"
      ]
     },
     "execution_count": 1,
     "metadata": {},
     "output_type": "execute_result"
    }
   ],
   "source": [
    "from collections import defaultdict\n",
    "\n",
    "def find_invalid_transactions(transactions):\n",
    "    invalid_transactions = set()\n",
    "    transactions_list = []\n",
    "\n",
    "    # Parse transactions\n",
    "    for transaction in transactions:\n",
    "        name, time, amount, city = transaction.split(',')\n",
    "        time, amount = int(time), int(amount)\n",
    "        transactions_list.append((name, time, amount, city, transaction))\n",
    "\n",
    "    # Check for invalid transactions\n",
    "    transactions_by_name = defaultdict(list)\n",
    "\n",
    "    for name, time, amount, city, transaction in transactions_list:\n",
    "        # If amount exceeds $1000, it's invalid\n",
    "        if amount > 1000:\n",
    "            invalid_transactions.add(transaction)\n",
    "        \n",
    "        # Store transactions by name for comparison\n",
    "        transactions_by_name[name].append((time, city, transaction))\n",
    "\n",
    "    # Check for transactions within 60 minutes in different cities\n",
    "    for name, trans in transactions_by_name.items():\n",
    "        trans.sort()  # Sort by time\n",
    "        \n",
    "        for i in range(len(trans)):\n",
    "            for j in range(i + 1, len(trans)):\n",
    "                time1, city1, transaction1 = trans[i]\n",
    "                time2, city2, transaction2 = trans[j]\n",
    "\n",
    "                if abs(time1 - time2) <= 60 and city1 != city2:\n",
    "                    invalid_transactions.add(transaction1)\n",
    "                    invalid_transactions.add(transaction2)\n",
    "\n",
    "    return list(invalid_transactions)\n",
    "\n",
    "# Test cases\n",
    "transactions1 = [\"alice,20,800,mtv\",\"alice,50,100,beijing\"]\n",
    "transactions2 = [\"alice,20,800,mtv\",\"alice,50,1200,mtv\"]\n",
    "transactions3 = [\"alice,20,800,mtv\",\"bob,50,1200,mtv\"]\n",
    "\n",
    "# Running the function on test cases\n",
    "output1 = find_invalid_transactions(transactions1)\n",
    "output2 = find_invalid_transactions(transactions2)\n",
    "output3 = find_invalid_transactions(transactions3)\n",
    "\n",
    "output1, output2, output3"
   ]
  },
  {
   "cell_type": "code",
   "execution_count": null,
   "id": "0f15af2a",
   "metadata": {},
   "outputs": [],
   "source": []
  }
 ],
 "metadata": {
  "kernelspec": {
   "display_name": "Python 3 (ipykernel)",
   "language": "python",
   "name": "python3"
  },
  "language_info": {
   "codemirror_mode": {
    "name": "ipython",
    "version": 3
   },
   "file_extension": ".py",
   "mimetype": "text/x-python",
   "name": "python",
   "nbconvert_exporter": "python",
   "pygments_lexer": "ipython3",
   "version": "3.8.11"
  }
 },
 "nbformat": 4,
 "nbformat_minor": 5
}
