{
 "cells": [
  {
   "cell_type": "markdown",
   "id": "b291d36c",
   "metadata": {},
   "source": [
    "# Task Scheduler"
   ]
  },
  {
   "cell_type": "markdown",
   "id": "50e3602a",
   "metadata": {},
   "source": [
    "Given a characters array tasks, representing the tasks a CPU needs to do, where each letter represents a different task. Tasks could be done in any order. Each task is done in one unit of time. For each unit of time, the CPU could complete either one task or just be idle.\n",
    "\n",
    "However, there is a non-negative integer n that represents the cooldown period between two same tasks (the same letter in the array), that is that there must be at least n units of time between any two same tasks.\n",
    "\n",
    "Return the least number of units of times that the CPU will take to finish all the given tasks.\n",
    "\n",
    " \n",
    "\n",
    "**Example 1:**\n",
    "\n",
    "Input: tasks = [\"A\",\"A\",\"A\",\"B\",\"B\",\"B\"], n = 2\n",
    "\n",
    "Output: 8\n",
    "\n",
    "Explanation: \n",
    "A -> B -> idle -> A -> B -> idle -> A -> B\n",
    "There is at least 2 units of time between any two same tasks.\n",
    "\n",
    "**Example 2:**\n",
    "\n",
    "Input: tasks = [\"A\",\"A\",\"A\",\"B\",\"B\",\"B\"], n = 0\n",
    "\n",
    "Output: 6\n",
    "\n",
    "Explanation: On this case any permutation of size 6 would work since n = 0.\n",
    "[\"A\",\"A\",\"A\",\"B\",\"B\",\"B\"]\n",
    "[\"A\",\"B\",\"A\",\"B\",\"A\",\"B\"]\n",
    "[\"B\",\"B\",\"B\",\"A\",\"A\",\"A\"]\n",
    "...\n",
    "And so on.\n",
    "\n",
    "**Example 3:**\n",
    "\n",
    "Input: tasks = [\"A\",\"A\",\"A\",\"A\",\"A\",\"A\",\"B\",\"C\",\"D\",\"E\",\"F\",\"G\"], n = 2\n",
    "\n",
    "Output: 16\n",
    "\n",
    "Explanation: \n",
    "One possible solution is\n",
    "A -> B -> C -> A -> D -> E -> A -> F -> G -> A -> idle -> idle -> A -> idle -> idle -> A\n",
    " \n",
    "\n",
    "**Constraints:**\n",
    "\n",
    "- 1 <= task.length <= 104\n",
    "- tasks[i] is upper-case English letter.\n",
    "- The integer n is in the range [0, 100]."
   ]
  },
  {
   "cell_type": "code",
   "execution_count": 1,
   "id": "68c80af9",
   "metadata": {},
   "outputs": [
    {
     "data": {
      "text/plain": [
       "(8, 6, 16)"
      ]
     },
     "execution_count": 1,
     "metadata": {},
     "output_type": "execute_result"
    }
   ],
   "source": [
    "from collections import Counter\n",
    "import heapq\n",
    "\n",
    "def least_interval(tasks, n):\n",
    "    if n == 0:\n",
    "        # If there is no cooldown, the time taken is simply the number of tasks\n",
    "        return len(tasks)\n",
    "\n",
    "    # Count the frequency of each task\n",
    "    task_counts = Counter(tasks)\n",
    "    # Create a max-heap from the negative values of task counts (since heapq is a min-heap)\n",
    "    max_heap = [-count for count in task_counts.values()]\n",
    "    heapq.heapify(max_heap)\n",
    "\n",
    "    time = 0\n",
    "    # List to store tasks that are in the cooldown period\n",
    "    cooldown = []\n",
    "\n",
    "    while max_heap or cooldown:\n",
    "        time += 1\n",
    "\n",
    "        if max_heap:\n",
    "            # Pop the task with the highest frequency\n",
    "            current = heapq.heappop(max_heap) + 1 # Increment because we are using negative values\n",
    "            if current:  # If there are more instances of this task, add it to cooldown\n",
    "                cooldown.append((current, time + n))\n",
    "\n",
    "        if cooldown and cooldown[0][1] == time:\n",
    "            # If the cooldown of a task is finished, add it back to the heap\n",
    "            heapq.heappush(max_heap, cooldown.pop(0)[0])\n",
    "\n",
    "    return time\n",
    "\n",
    "# Test the function with the provided examples\n",
    "example1 = least_interval([\"A\", \"A\", \"A\", \"B\", \"B\", \"B\"], 2)\n",
    "example2 = least_interval([\"A\", \"A\", \"A\", \"B\", \"B\", \"B\"], 0)\n",
    "example3 = least_interval([\"A\", \"A\", \"A\", \"A\", \"A\", \"A\", \"B\", \"C\", \"D\", \"E\", \"F\", \"G\"], 2)\n",
    "\n",
    "example1, example2, example3"
   ]
  }
 ],
 "metadata": {
  "kernelspec": {
   "display_name": "Python 3",
   "language": "python",
   "name": "python3"
  },
  "language_info": {
   "codemirror_mode": {
    "name": "ipython",
    "version": 3
   },
   "file_extension": ".py",
   "mimetype": "text/x-python",
   "name": "python",
   "nbconvert_exporter": "python",
   "pygments_lexer": "ipython3",
   "version": "3.9.13"
  }
 },
 "nbformat": 4,
 "nbformat_minor": 5
}
