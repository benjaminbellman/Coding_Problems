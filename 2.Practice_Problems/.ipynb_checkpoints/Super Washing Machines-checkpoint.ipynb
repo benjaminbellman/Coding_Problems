{
 "cells": [
  {
   "cell_type": "markdown",
   "id": "70f28f8b",
   "metadata": {},
   "source": [
    "# Super Washing Machines"
   ]
  },
  {
   "cell_type": "markdown",
   "id": "25b843cd",
   "metadata": {},
   "source": [
    "You have n super washing machines on a line. Initially, each washing machine has some dresses or is empty.\n",
    "\n",
    "For each move, you could choose any m (1 <= m <= n) washing machines, and pass one dress of each washing machine to one of its adjacent washing machines at the same time.\n",
    "\n",
    "Given an integer array machines representing the number of dresses in each washing machine from left to right on the line, return the minimum number of moves to make all the washing machines have the same number of dresses. If it is not possible to do it, return -1.\n",
    "\n",
    " \n",
    "\n",
    "**Example 1:**\n",
    "\n",
    "Input: machines = [1,0,5]\n",
    "Output: 3\n",
    "Explanation:\n",
    "1st move:    1     0 <-- 5    =>    1     1     4\n",
    "2nd move:    1 <-- 1 <-- 4    =>    2     1     3\n",
    "3rd move:    2     1 <-- 3    =>    2     2     2\n",
    "\n",
    "**Example 2:**\n",
    "\n",
    "Input: machines = [0,3,0]\n",
    "Output: 2\n",
    "Explanation:\n",
    "1st move:    0 <-- 3     0    =>    1     2     0\n",
    "2nd move:    1     2 --> 0    =>    1     1     1\n",
    "\n",
    "**Example 3:**\n",
    "\n",
    "Input: machines = [0,2,0]\n",
    "Output: -1\n",
    "Explanation:\n",
    "It's impossible to make all three washing machines have the same number of dresses.\n",
    " \n",
    "\n",
    "**Constraints:**\n",
    "\n",
    "- n == machines.length\n",
    "- 1 <= n <= 104\n",
    "- 0 <= machines[i] <= 105"
   ]
  },
  {
   "cell_type": "code",
   "execution_count": 1,
   "id": "abf8c01e",
   "metadata": {},
   "outputs": [
    {
     "name": "stdout",
     "output_type": "stream",
     "text": [
      "3\n",
      "2\n",
      "-1\n"
     ]
    }
   ],
   "source": [
    "def findMinMoves(machines):\n",
    "    total_dresses = sum(machines)\n",
    "    n = len(machines)\n",
    "    if total_dresses % n != 0:\n",
    "        return -1  # It's impossible to redistribute the dresses equally.\n",
    "    avg = total_dresses // n\n",
    "    excess = [m - avg for m in machines]\n",
    "    max_moves = running_total = 0\n",
    "    for e in excess:\n",
    "        running_total += e\n",
    "        max_moves = max(max_moves, abs(running_total), e)\n",
    "    return max_moves\n",
    "\n",
    "# Example Usage:\n",
    "machines1 = [1,0,5]\n",
    "machines2 = [0,3,0]\n",
    "machines3 = [0,2,0]\n",
    "\n",
    "print(findMinMoves(machines1))  # Output: 3\n",
    "print(findMinMoves(machines2))  # Output: 2\n",
    "print(findMinMoves(machines3))  # Output: -1"
   ]
  },
  {
   "cell_type": "code",
   "execution_count": null,
   "id": "627ecc66",
   "metadata": {},
   "outputs": [],
   "source": []
  }
 ],
 "metadata": {
  "kernelspec": {
   "display_name": "Python 3",
   "language": "python",
   "name": "python3"
  },
  "language_info": {
   "codemirror_mode": {
    "name": "ipython",
    "version": 3
   },
   "file_extension": ".py",
   "mimetype": "text/x-python",
   "name": "python",
   "nbconvert_exporter": "python",
   "pygments_lexer": "ipython3",
   "version": "3.9.13"
  }
 },
 "nbformat": 4,
 "nbformat_minor": 5
}
