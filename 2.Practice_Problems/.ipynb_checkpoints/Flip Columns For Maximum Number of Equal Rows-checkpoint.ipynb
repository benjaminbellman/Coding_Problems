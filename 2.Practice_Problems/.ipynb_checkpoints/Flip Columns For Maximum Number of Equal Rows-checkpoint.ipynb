{
 "cells": [
  {
   "cell_type": "markdown",
   "id": "05dd7154",
   "metadata": {},
   "source": [
    "# Flip Columns For Maximum Number of Equal Rows"
   ]
  },
  {
   "cell_type": "markdown",
   "id": "ec8cd035",
   "metadata": {},
   "source": [
    "You are given an m x n binary matrix matrix.\n",
    "\n",
    "You can choose any number of columns in the matrix and flip every cell in that column (i.e., Change the value of the cell from 0 to 1 or vice versa).\n",
    "\n",
    "Return the maximum number of rows that have all values equal after some number of flips.\n",
    "\n",
    "**Example 1:**\n",
    "\n",
    "Input: matrix = [[0,1],[1,1]]\n",
    "Output: 1\n",
    "Explanation: After flipping no values, 1 row has all values equal.\n",
    "\n",
    "**Example 2:**\n",
    "\n",
    "Input: matrix = [[0,1],[1,0]]\n",
    "Output: 2\n",
    "Explanation: After flipping values in the first column, both rows have equal values.\n",
    "\n",
    "**Example 3:**\n",
    "\n",
    "Input: matrix = [[0,0,0],[0,0,1],[1,1,0]]\n",
    "Output: 2\n",
    "Explanation: After flipping values in the first two columns, the last two rows have equal values.\n",
    " \n",
    "**Constraints:**\n",
    "\n",
    "- m == matrix.length\n",
    "- n == matrix[i].length\n",
    "- 1 <= m, n <= 300\n",
    "- matrix[i][j] is either 0 or 1."
   ]
  },
  {
   "cell_type": "code",
   "execution_count": 1,
   "id": "725b5c30",
   "metadata": {},
   "outputs": [
    {
     "name": "stdout",
     "output_type": "stream",
     "text": [
      "1\n",
      "2\n",
      "2\n"
     ]
    }
   ],
   "source": [
    "from collections import defaultdict\n",
    "\n",
    "def maxEqualRowsAfterFlips(matrix):\n",
    "    def transform(row):\n",
    "        # Get the pattern of the row when it is \"normalized\" to start with 0\n",
    "        return tuple(cell ^ row[0] for cell in row)\n",
    "\n",
    "    pattern_count = defaultdict(int)\n",
    "    \n",
    "    for row in matrix:\n",
    "        base_pattern = transform(row)\n",
    "        pattern_count[base_pattern] += 1\n",
    "    \n",
    "    return max(pattern_count.values())\n",
    "\n",
    "# Example Usage\n",
    "matrix1 = [[0, 1], [1, 1]]\n",
    "matrix2 = [[0, 1], [1, 0]]\n",
    "matrix3 = [[0, 0, 0], [0, 0, 1], [1, 1, 0]]\n",
    "\n",
    "print(maxEqualRowsAfterFlips(matrix1))  # Output: 1\n",
    "print(maxEqualRowsAfterFlips(matrix2))  # Output: 2\n",
    "print(maxEqualRowsAfterFlips(matrix3))  # Output: 2"
   ]
  },
  {
   "cell_type": "code",
   "execution_count": null,
   "id": "92991e18",
   "metadata": {},
   "outputs": [],
   "source": []
  }
 ],
 "metadata": {
  "kernelspec": {
   "display_name": "Python 3 (ipykernel)",
   "language": "python",
   "name": "python3"
  },
  "language_info": {
   "codemirror_mode": {
    "name": "ipython",
    "version": 3
   },
   "file_extension": ".py",
   "mimetype": "text/x-python",
   "name": "python",
   "nbconvert_exporter": "python",
   "pygments_lexer": "ipython3",
   "version": "3.8.11"
  }
 },
 "nbformat": 4,
 "nbformat_minor": 5
}
