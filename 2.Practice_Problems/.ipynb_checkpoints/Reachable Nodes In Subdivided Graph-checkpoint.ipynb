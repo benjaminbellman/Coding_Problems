{
 "cells": [
  {
   "cell_type": "markdown",
   "id": "a259be27",
   "metadata": {},
   "source": [
    "# Reachable Nodes In Subdivided Graph"
   ]
  },
  {
   "cell_type": "markdown",
   "id": "5faa4717",
   "metadata": {},
   "source": [
    "You are given an undirected graph (the \"original graph\") with n nodes labeled from 0 to n - 1. You decide to subdivide each edge in the graph into a chain of nodes, with the number of new nodes varying between each edge.\n",
    "\n",
    "The graph is given as a 2D array of edges where edges[i] = [ui, vi, cnti] indicates that there is an edge between nodes ui and vi in the original graph, and cnti is the total number of new nodes that you will subdivide the edge into. Note that cnti == 0 means you will not subdivide the edge.\n",
    "\n",
    "To subdivide the edge [ui, vi], replace it with (cnti + 1) new edges and cnti new nodes. The new nodes are x1, x2, ..., xcnti, and the new edges are [ui, x1], [x1, x2], [x2, x3], ..., [xcnti-1, xcnti], [xcnti, vi].\n",
    "\n",
    "In this new graph, you want to know how many nodes are reachable from the node 0, where a node is reachable if the distance is maxMoves or less.\n",
    "\n",
    "Given the original graph and maxMoves, return the number of nodes that are reachable from node 0 in the new graph.\n",
    "\n",
    "**Example 1:**\n",
    "\n",
    "Input: edges = [[0,1,10],[0,2,1],[1,2,2]], maxMoves = 6, n = 3\n",
    "Output: 13\n",
    "Explanation: The edge subdivisions are shown in the image above.\n",
    "The nodes that are reachable are highlighted in yellow.\n",
    "\n",
    "**Example 2:**\n",
    "\n",
    "Input: edges = [[0,1,4],[1,2,6],[0,2,8],[1,3,1]], maxMoves = 10, n = 4\n",
    "Output: 23\n",
    "\n",
    "**Example 3:**\n",
    "\n",
    "Input: edges = [[1,2,4],[1,4,5],[1,3,1],[2,3,4],[3,4,5]], maxMoves = 17, n = 5\n",
    "Output: 1\n",
    "Explanation: Node 0 is disconnected from the rest of the graph, so only node 0 is reachable.\n",
    " \n",
    "\n",
    "**Constraints:**\n",
    "\n",
    "- 0 <= edges.length <= min(n * (n - 1) / 2, 104)\n",
    "- edges[i].length == 3\n",
    "- 0 <= ui < vi < n\n",
    "- There are no multiple edges in the graph.\n",
    "- 0 <= cnti <= 104\n",
    "- 0 <= maxMoves <= 109\n",
    "- 1 <= n <= 3000"
   ]
  },
  {
   "cell_type": "code",
   "execution_count": 1,
   "id": "f5cd68a0",
   "metadata": {},
   "outputs": [
    {
     "name": "stdout",
     "output_type": "stream",
     "text": [
      "13\n"
     ]
    }
   ],
   "source": [
    "from collections import deque, defaultdict\n",
    "\n",
    "def reachableNodes(edges, maxMoves, n):\n",
    "    # Step 1: Construct the expanded graph\n",
    "    graph = defaultdict(list)\n",
    "    \n",
    "    for u, v, cnt in edges:\n",
    "        if cnt > 0:\n",
    "            # Create intermediate nodes\n",
    "            previous = u\n",
    "            for i in range(cnt):\n",
    "                new_node = n + i\n",
    "                graph[previous].append(new_node)\n",
    "                graph[new_node].append(previous)\n",
    "                previous = new_node\n",
    "            graph[previous].append(v)\n",
    "            graph[v].append(previous)\n",
    "        else:\n",
    "            graph[u].append(v)\n",
    "            graph[v].append(u)\n",
    "\n",
    "    # Step 2: Perform BFS to find shortest distances from node 0\n",
    "    distances = {i: float('inf') for i in range(n + len(edges) * 10000)}\n",
    "    distances[0] = 0\n",
    "    queue = deque([0])\n",
    "    \n",
    "    while queue:\n",
    "        current = queue.popleft()\n",
    "        current_distance = distances[current]\n",
    "        \n",
    "        for neighbor in graph[current]:\n",
    "            if distances[neighbor] == float('inf'):  # If not visited\n",
    "                distances[neighbor] = current_distance + 1\n",
    "                if distances[neighbor] <= maxMoves:\n",
    "                    queue.append(neighbor)\n",
    "    \n",
    "    # Step 3: Count nodes within maxMoves\n",
    "    reachable_count = sum(1 for dist in distances.values() if dist <= maxMoves)\n",
    "    \n",
    "    return reachable_count\n",
    "\n",
    "# Example usage\n",
    "edges = [[0,1,10],[0,2,1],[1,2,2]]\n",
    "maxMoves = 6\n",
    "n = 3\n",
    "print(reachableNodes(edges, maxMoves, n))  # Output: 13"
   ]
  },
  {
   "cell_type": "code",
   "execution_count": null,
   "id": "64bdbfbb",
   "metadata": {},
   "outputs": [],
   "source": []
  }
 ],
 "metadata": {
  "kernelspec": {
   "display_name": "Python 3 (ipykernel)",
   "language": "python",
   "name": "python3"
  },
  "language_info": {
   "codemirror_mode": {
    "name": "ipython",
    "version": 3
   },
   "file_extension": ".py",
   "mimetype": "text/x-python",
   "name": "python",
   "nbconvert_exporter": "python",
   "pygments_lexer": "ipython3",
   "version": "3.8.11"
  }
 },
 "nbformat": 4,
 "nbformat_minor": 5
}
