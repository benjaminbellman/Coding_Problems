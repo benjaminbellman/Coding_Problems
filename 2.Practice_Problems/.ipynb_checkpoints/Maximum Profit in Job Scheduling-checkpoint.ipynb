{
 "cells": [
  {
   "cell_type": "markdown",
   "id": "d40995ff",
   "metadata": {},
   "source": [
    "# Maximum Profit in Job Scheduling"
   ]
  },
  {
   "cell_type": "markdown",
   "id": "4c2566db",
   "metadata": {},
   "source": [
    "We have n jobs, where every job is scheduled to be done from startTime[i] to endTime[i], obtaining a profit of profit[i].\n",
    "\n",
    "You're given the startTime, endTime and profit arrays, return the maximum profit you can take such that there are no two jobs in the subset with overlapping time range.\n",
    "\n",
    "If you choose a job that ends at time X you will be able to start another job that starts at time X.\n",
    "\n",
    "**Example 1:**\n",
    "\n",
    "Input: startTime = [1,2,3,3], endTime = [3,4,5,6], profit = [50,10,40,70]\n",
    "Output: 120\n",
    "Explanation: The subset chosen is the first and fourth job. \n",
    "Time range [1-3]+[3-6] , we get profit of 120 = 50 + 70.\n",
    "\n",
    "**Example 2:**\n",
    "\n",
    "Input: startTime = [1,2,3,4,6], endTime = [3,5,10,6,9], profit = [20,20,100,70,60]\n",
    "Output: 150\n",
    "Explanation: The subset chosen is the first, fourth and fifth job. \n",
    "Profit obtained 150 = 20 + 70 + 60.\n",
    "\n",
    "**Example 3:**\n",
    "\n",
    "Input: startTime = [1,1,1], endTime = [2,3,4], profit = [5,6,4]\n",
    "Output: 6\n",
    " \n",
    "**Constraints:**\n",
    "\n",
    "- 1 <= startTime.length == endTime.length == profit.length <= 5 * 104\n",
    "- 1 <= startTime[i] < endTime[i] <= 109\n",
    "- 1 <= profit[i] <= 104"
   ]
  },
  {
   "cell_type": "code",
   "execution_count": 1,
   "id": "2b47b694",
   "metadata": {},
   "outputs": [],
   "source": [
    "from bisect import bisect_right\n",
    "\n",
    "def jobScheduling(startTime, endTime, profit):\n",
    "    jobs = sorted(zip(startTime, endTime, profit), key=lambda x: x[1])\n",
    "    n = len(jobs)\n",
    "    \n",
    "    # Arrays to perform binary search\n",
    "    end_times = [job[1] for job in jobs]\n",
    "    dp = [0] * (n + 1)  # dp[0] = 0 base case\n",
    "\n",
    "    for i in range(1, n + 1):\n",
    "        start, end, prof = jobs[i - 1]\n",
    "        # Find the last job that ends <= start\n",
    "        index = bisect_right(end_times, start)  # returns index where start could be inserted\n",
    "        dp[i] = max(dp[i - 1], dp[index] + prof)\n",
    "\n",
    "    return dp[n]"
   ]
  },
  {
   "cell_type": "code",
   "execution_count": 2,
   "id": "037bfe51",
   "metadata": {},
   "outputs": [
    {
     "name": "stdout",
     "output_type": "stream",
     "text": [
      "120\n",
      "150\n",
      "6\n"
     ]
    }
   ],
   "source": [
    "print(jobScheduling([1,2,3,3], [3,4,5,6], [50,10,40,70]))  # ➜ 120\n",
    "print(jobScheduling([1,2,3,4,6], [3,5,10,6,9], [20,20,100,70,60]))  # ➜ 150\n",
    "print(jobScheduling([1,1,1], [2,3,4], [5,6,4]))  # ➜ 6"
   ]
  },
  {
   "cell_type": "code",
   "execution_count": null,
   "id": "368238b0",
   "metadata": {},
   "outputs": [],
   "source": []
  }
 ],
 "metadata": {
  "kernelspec": {
   "display_name": "Python 3 (ipykernel)",
   "language": "python",
   "name": "python3"
  },
  "language_info": {
   "codemirror_mode": {
    "name": "ipython",
    "version": 3
   },
   "file_extension": ".py",
   "mimetype": "text/x-python",
   "name": "python",
   "nbconvert_exporter": "python",
   "pygments_lexer": "ipython3",
   "version": "3.8.11"
  }
 },
 "nbformat": 4,
 "nbformat_minor": 5
}
