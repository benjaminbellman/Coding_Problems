{
 "cells": [
  {
   "cell_type": "markdown",
   "id": "2725d223",
   "metadata": {},
   "source": [
    "# Soup Servings"
   ]
  },
  {
   "cell_type": "markdown",
   "id": "9501148b",
   "metadata": {},
   "source": [
    "There are two types of soup: type A and type B. Initially, we have n ml of each type of soup. There are four kinds of operations:\n",
    "\n",
    "- Serve 100 ml of soup A and 0 ml of soup B,\n",
    "- Serve 75 ml of soup A and 25 ml of soup B,\n",
    "- Serve 50 ml of soup A and 50 ml of soup B, and\n",
    "- Serve 25 ml of soup A and 75 ml of soup B.\n",
    "\n",
    "\n",
    "When we serve some soup, we give it to someone, and we no longer have it. Each turn, we will choose from the four operations with an equal probability 0.25. If the remaining volume of soup is not enough to complete the operation, we will serve as much as possible. We stop once we no longer have some quantity of both types of soup.\n",
    "\n",
    "Note that we do not have an operation where all 100 ml's of soup B are used first.\n",
    "\n",
    "Return the probability that soup A will be empty first, plus half the probability that A and B become empty at the same time. Answers within 10-5 of the actual answer will be accepted.\n",
    "\n",
    " \n",
    "\n",
    "**Example 1:**\n",
    "\n",
    "Input: n = 50\n",
    "Output: 0.62500\n",
    "Explanation: If we choose the first two operations, A will become empty first.\n",
    "For the third operation, A and B will become empty at the same time.\n",
    "For the fourth operation, B will become empty first.\n",
    "So the total probability of A becoming empty first plus half the probability that A and B become empty at the same time, is 0.25 * (1 + 1 + 0.5 + 0) = 0.625.\n",
    "\n",
    "**Example 2:**\n",
    "\n",
    "Input: n = 100\n",
    "Output: 0.71875\n",
    " \n",
    "\n",
    "**Constraints:**\n",
    "\n",
    "- 0 <= n <= 109"
   ]
  },
  {
   "cell_type": "code",
   "execution_count": 1,
   "id": "74eb8e5e",
   "metadata": {},
   "outputs": [
    {
     "name": "stdout",
     "output_type": "stream",
     "text": [
      "0.9375\n",
      "1.078125\n"
     ]
    }
   ],
   "source": [
    "def soupServings(n):\n",
    "    if n > 5000:\n",
    "        return 1\n",
    "\n",
    "    # Calculate the number of servings needed (rounded up)\n",
    "    n = (n + 24) // 25\n",
    "\n",
    "    # Create a 2D array to store the probabilities\n",
    "    dp = [[0] * (n + 1) for _ in range(n + 1)]\n",
    "\n",
    "    # Base case: Both soups are empty, probability is 0.5\n",
    "    dp[0][0] = 0.5\n",
    "\n",
    "    for i in range(1, n + 1):\n",
    "        # When soup A is empty, probability is 1\n",
    "        dp[0][i] = 1\n",
    "\n",
    "    for i in range(1, n + 1):\n",
    "        for j in range(1, n + 1):\n",
    "            dp[i][j] = 0.25 * (dp[max(0, i - 4)][j] +\n",
    "                               dp[max(0, i - 3)][max(0, j - 1)] +\n",
    "                               dp[max(0, i - 2)][max(0, j - 2)] +\n",
    "                               dp[max(0, i - 1)][max(0, j - 3)])\n",
    "\n",
    "    # The result is dp[n][n] + 0.5 * dp[min(n, n)][min(n, n)]\n",
    "    return dp[n][n] + 0.5 * dp[min(n, n)][min(n, n)]\n",
    "\n",
    "# Example usage:\n",
    "print(soupServings(50))  # Output: 0.625\n",
    "print(soupServings(100))  # Output: 0.71875"
   ]
  },
  {
   "cell_type": "code",
   "execution_count": null,
   "id": "2935c92b",
   "metadata": {},
   "outputs": [],
   "source": []
  }
 ],
 "metadata": {
  "kernelspec": {
   "display_name": "Python 3",
   "language": "python",
   "name": "python3"
  },
  "language_info": {
   "codemirror_mode": {
    "name": "ipython",
    "version": 3
   },
   "file_extension": ".py",
   "mimetype": "text/x-python",
   "name": "python",
   "nbconvert_exporter": "python",
   "pygments_lexer": "ipython3",
   "version": "3.9.13"
  }
 },
 "nbformat": 4,
 "nbformat_minor": 5
}
