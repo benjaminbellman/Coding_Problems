{
 "cells": [
  {
   "cell_type": "markdown",
   "id": "9f5e950b",
   "metadata": {},
   "source": [
    "# Find Smallest Letter Greater Than Target"
   ]
  },
  {
   "cell_type": "markdown",
   "id": "ab3878d9",
   "metadata": {},
   "source": [
    "You are given an array of characters letters that is sorted in non-decreasing order, and a character target. There are at least two different characters in letters.\n",
    "\n",
    "Return the smallest character in letters that is lexicographically greater than target. If such a character does not exist, return the first character in letters.\n",
    "\n",
    " \n",
    "\n",
    "**Example 1:**\n",
    "\n",
    "Input: letters = [\"c\",\"f\",\"j\"], target = \"a\"\n",
    "\n",
    "Output: \"c\"\n",
    "Explanation: The smallest character that is lexicographically greater than 'a' in letters is 'c'.\n",
    "\n",
    "**Example 2:**\n",
    "\n",
    "Input: letters = [\"c\",\"f\",\"j\"], target = \"c\"\n",
    "\n",
    "Output: \"f\"\n",
    "Explanation: The smallest character that is lexicographically greater than 'c' in letters is 'f'.\n",
    "\n",
    "**Example 3:**\n",
    "\n",
    "Input: letters = [\"x\",\"x\",\"y\",\"y\"], target = \"z\"\n",
    "Output: \"x\"\n",
    "Explanation: There are no characters in letters that is lexicographically greater than 'z' so we return letters[0].\n",
    " \n",
    "\n",
    "**Constraints:**\n",
    "\n",
    "- 2 <= letters.length <= 104\n",
    "- letters[i] is a lowercase English letter.\n",
    "- letters is sorted in non-decreasing order.\n",
    "- letters contains at least two different characters.\n",
    "- target is a lowercase English letter."
   ]
  },
  {
   "cell_type": "code",
   "execution_count": 1,
   "id": "b998b4a1",
   "metadata": {},
   "outputs": [
    {
     "name": "stdout",
     "output_type": "stream",
     "text": [
      "c\n",
      "f\n",
      "x\n"
     ]
    }
   ],
   "source": [
    "def next_greatest_letter(letters, target):\n",
    "    for letter in letters:\n",
    "        if letter > target:\n",
    "            return letter\n",
    "    return letters[0]  # If no greater character found, return the first character\n",
    "\n",
    "# Example usage:\n",
    "letters1 = [\"c\", \"f\", \"j\"]\n",
    "target1 = \"a\"\n",
    "print(next_greatest_letter(letters1, target1))  # Output: \"c\"\n",
    "\n",
    "letters2 = [\"c\", \"f\", \"j\"]\n",
    "target2 = \"c\"\n",
    "print(next_greatest_letter(letters2, target2))  # Output: \"f\"\n",
    "\n",
    "letters3 = [\"x\", \"x\", \"y\", \"y\"]\n",
    "target3 = \"z\"\n",
    "print(next_greatest_letter(letters3, target3))  # Output: \"x\""
   ]
  }
 ],
 "metadata": {
  "kernelspec": {
   "display_name": "Python 3",
   "language": "python",
   "name": "python3"
  },
  "language_info": {
   "codemirror_mode": {
    "name": "ipython",
    "version": 3
   },
   "file_extension": ".py",
   "mimetype": "text/x-python",
   "name": "python",
   "nbconvert_exporter": "python",
   "pygments_lexer": "ipython3",
   "version": "3.9.13"
  }
 },
 "nbformat": 4,
 "nbformat_minor": 5
}
