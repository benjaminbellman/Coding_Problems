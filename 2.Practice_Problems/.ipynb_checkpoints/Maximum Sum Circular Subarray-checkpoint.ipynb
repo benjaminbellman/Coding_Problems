{
 "cells": [
  {
   "cell_type": "markdown",
   "id": "1a8baae7",
   "metadata": {},
   "source": [
    "# Maximum Sum Circular Subarray"
   ]
  },
  {
   "cell_type": "markdown",
   "id": "dbfa4de2",
   "metadata": {},
   "source": [
    "Given a circular integer array nums of length n, return the maximum possible sum of a non-empty subarray of nums.\n",
    "\n",
    "A circular array means the end of the array connects to the beginning of the array. Formally, the next element of nums[i] is nums[(i + 1) % n] and the previous element of nums[i] is nums[(i - 1 + n) % n].\n",
    "\n",
    "A subarray may only include each element of the fixed buffer nums at most once. Formally, for a subarray nums[i], nums[i + 1], ..., nums[j], there does not exist i <= k1, k2 <= j with k1 % n == k2 % n.\n",
    "\n",
    "**Example 1:**\n",
    "\n",
    "Input: nums = [1,-2,3,-2]\n",
    "Output: 3\n",
    "Explanation: Subarray [3] has maximum sum 3.\n",
    "\n",
    "**Example 2:**\n",
    "\n",
    "Input: nums = [5,-3,5]\n",
    "Output: 10\n",
    "Explanation: Subarray [5,5] has maximum sum 5 + 5 = 10.\n",
    "\n",
    "**Example 3:**\n",
    "\n",
    "Input: nums = [-3,-2,-3]\n",
    "Output: -2\n",
    "Explanation: Subarray [-2] has maximum sum -2.\n",
    "\n",
    "Constraints:\n",
    "\n",
    "- n == nums.length\n",
    "- 1 <= n <= 3 * 104\n",
    "- -3 * 104 <= nums[i] <= 3 * 104"
   ]
  },
  {
   "cell_type": "code",
   "execution_count": 1,
   "id": "cf1d6f5a",
   "metadata": {},
   "outputs": [
    {
     "name": "stdout",
     "output_type": "stream",
     "text": [
      "3\n",
      "10\n",
      "-2\n"
     ]
    }
   ],
   "source": [
    "def maxSubarraySumCircular(nums):\n",
    "    def kadane(nums):\n",
    "        max_sum = curr_sum = nums[0]\n",
    "        for num in nums[1:]:\n",
    "            curr_sum = max(num, curr_sum + num)\n",
    "            max_sum = max(max_sum, curr_sum)\n",
    "        return max_sum\n",
    "\n",
    "    total_sum = sum(nums)\n",
    "    max_kadane = kadane(nums)\n",
    "    \n",
    "    # To find the minimum subarray sum\n",
    "    nums_inverted = [-num for num in nums]\n",
    "    max_inverted_kadane = kadane(nums_inverted)\n",
    "    \n",
    "    max_circular = total_sum + max_inverted_kadane  # Equivalent to total_sum - min_subarray_sum\n",
    "\n",
    "    return max(max_kadane, max_circular) if max_circular > 0 else max_kadane\n",
    "\n",
    "# Example usage:\n",
    "print(maxSubarraySumCircular([1, -2, 3, -2]))  # Output: 3\n",
    "print(maxSubarraySumCircular([5, -3, 5]))      # Output: 10\n",
    "print(maxSubarraySumCircular([-3, -2, -3]))    # Output: -2"
   ]
  },
  {
   "cell_type": "code",
   "execution_count": null,
   "id": "1420e486",
   "metadata": {},
   "outputs": [],
   "source": []
  }
 ],
 "metadata": {
  "kernelspec": {
   "display_name": "Python 3 (ipykernel)",
   "language": "python",
   "name": "python3"
  },
  "language_info": {
   "codemirror_mode": {
    "name": "ipython",
    "version": 3
   },
   "file_extension": ".py",
   "mimetype": "text/x-python",
   "name": "python",
   "nbconvert_exporter": "python",
   "pygments_lexer": "ipython3",
   "version": "3.8.11"
  }
 },
 "nbformat": 4,
 "nbformat_minor": 5
}
