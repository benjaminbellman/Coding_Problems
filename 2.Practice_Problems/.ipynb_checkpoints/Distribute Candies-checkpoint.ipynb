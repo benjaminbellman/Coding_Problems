{
 "cells": [
  {
   "cell_type": "markdown",
   "id": "7364bd1d",
   "metadata": {},
   "source": [
    "# Distribute Candies"
   ]
  },
  {
   "cell_type": "markdown",
   "id": "2265c997",
   "metadata": {},
   "source": [
    "Alice has n candies, where the ith candy is of type candyType[i]. Alice noticed that she started to gain weight, so she visited a doctor.\n",
    "\n",
    "The doctor advised Alice to only eat n / 2 of the candies she has (n is always even). Alice likes her candies very much, and she wants to eat the maximum number of different types of candies while still following the doctor's advice.\n",
    "\n",
    "Given the integer array candyType of length n, return the maximum number of different types of candies she can eat if she only eats n / 2 of them.\n",
    "\n",
    " \n",
    "\n",
    "**Example 1:**\n",
    "\n",
    "Input: candyType = [1,1,2,2,3,3]\n",
    "\n",
    "Output: 3\n",
    "Explanation: Alice can only eat 6 / 2 = 3 candies. Since there are only 3 types, she can eat one of each type.\n",
    "\n",
    "**Example 2:**\n",
    "\n",
    "Input: candyType = [1,1,2,3]\n",
    "\n",
    "Output: 2\n",
    "Explanation: Alice can only eat 4 / 2 = 2 candies. Whether she eats types [1,2], [1,3], or [2,3], she still can only eat 2 different types.\n",
    "\n",
    "**Example 3:**\n",
    "\n",
    "Input: candyType = [6,6,6,6]\n",
    "\n",
    "Output: 1\n",
    "Explanation: Alice can only eat 4 / 2 = 2 candies. Even though she can eat 2 candies, she only has 1 type.\n",
    " \n",
    "\n",
    "**Constraints:**\n",
    "\n",
    "- n == candyType.length\n",
    "- 2 <= n <= 104\n",
    "- n is even.\n",
    "- -105 <= candyType[i] <= 105"
   ]
  },
  {
   "cell_type": "code",
   "execution_count": 1,
   "id": "f9256fc8",
   "metadata": {},
   "outputs": [
    {
     "name": "stdout",
     "output_type": "stream",
     "text": [
      "3\n",
      "2\n",
      "1\n"
     ]
    }
   ],
   "source": [
    "def max_candy_types(candyType):\n",
    "    # Number of candies Alice can eat\n",
    "    num_candies = len(candyType) // 2\n",
    "    # Unique types of candies\n",
    "    unique_candies = set(candyType)\n",
    "    # Maximum types of candies Alice can eat is the minimum of num_candies and the length of unique_candies\n",
    "    return min(num_candies, len(unique_candies))\n",
    "\n",
    "# Example usage\n",
    "candyType1 = [1, 1, 2, 2, 3, 3]\n",
    "candyType2 = [1, 1, 2, 3]\n",
    "candyType3 = [6, 6, 6, 6]\n",
    "\n",
    "print(max_candy_types(candyType1)) # Output: 3\n",
    "print(max_candy_types(candyType2)) # Output: 2\n",
    "print(max_candy_types(candyType3)) # Output: 1"
   ]
  },
  {
   "cell_type": "code",
   "execution_count": null,
   "id": "f5cd41cd",
   "metadata": {},
   "outputs": [],
   "source": []
  }
 ],
 "metadata": {
  "kernelspec": {
   "display_name": "Python 3",
   "language": "python",
   "name": "python3"
  },
  "language_info": {
   "codemirror_mode": {
    "name": "ipython",
    "version": 3
   },
   "file_extension": ".py",
   "mimetype": "text/x-python",
   "name": "python",
   "nbconvert_exporter": "python",
   "pygments_lexer": "ipython3",
   "version": "3.9.13"
  }
 },
 "nbformat": 4,
 "nbformat_minor": 5
}
