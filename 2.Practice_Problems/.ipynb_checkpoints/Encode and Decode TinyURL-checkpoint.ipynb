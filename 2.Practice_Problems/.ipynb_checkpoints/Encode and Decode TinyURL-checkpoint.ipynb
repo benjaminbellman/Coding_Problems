{
 "cells": [
  {
   "cell_type": "markdown",
   "id": "ca29e59e",
   "metadata": {},
   "source": [
    "# Encode and Decode TinyURL"
   ]
  },
  {
   "cell_type": "markdown",
   "id": "937dab6b",
   "metadata": {},
   "source": [
    "Note: This is a companion problem to the System Design problem: Design TinyURL.\n",
    "TinyURL is a URL shortening service where you enter a URL such as https://leetcode.com/problems/design-tinyurl and it returns a short URL such as http://tinyurl.com/4e9iAk. Design a class to encode a URL and decode a tiny URL.\n",
    "\n",
    "There is no restriction on how your encode/decode algorithm should work. You just need to ensure that a URL can be encoded to a tiny URL and the tiny URL can be decoded to the original URL.\n",
    "\n",
    "Implement the Solution class:\n",
    "\n",
    "- Solution() Initializes the object of the system.\n",
    "- String encode(String longUrl) Returns a tiny URL for the given longUrl.\n",
    "- String decode(String shortUrl) Returns the original long URL for the given shortUrl. It is guaranteed that the given shortUrl was encoded by the same object.\n",
    " \n",
    "\n",
    "**Example 1:**\n",
    "\n",
    "Input: url = \"https://leetcode.com/problems/design-tinyurl\"\n",
    "Output: \"https://leetcode.com/problems/design-tinyurl\"\n",
    "\n",
    "Explanation:\n",
    "\n",
    "Solution obj = new Solution();\n",
    "\n",
    "string tiny = obj.encode(url); // returns the encoded tiny url.\n",
    "\n",
    "string ans = obj.decode(tiny); // returns the original url after decoding it.\n",
    " \n",
    "\n",
    "**Constraints:**\n",
    "\n",
    "- 1 <= url.length <= 104\n",
    "- url is guranteed to be a valid URL."
   ]
  },
  {
   "cell_type": "code",
   "execution_count": 3,
   "id": "e78b2aff",
   "metadata": {},
   "outputs": [
    {
     "name": "stdout",
     "output_type": "stream",
     "text": [
      "http://tinyurl.com/b\n",
      "https://leetcode.com/problems/design-tinyurl\n"
     ]
    }
   ],
   "source": [
    "class Solution:\n",
    "\n",
    "    def __init__(self):\n",
    "        self.BASE62 = \"abcdefghijklmnopqrstuvwxyzABCDEFGHIJKLMNOPQRSTUVWXYZ0123456789\"\n",
    "        self.url_to_short = {}\n",
    "        self.short_to_url = {}\n",
    "        self.counter = 1\n",
    "\n",
    "    def encode(self, longUrl: str) -> str:\n",
    "        \"\"\"Encodes a URL to a shortened URL.\"\"\"\n",
    "        shortUrl = self.base62_encode(self.counter)\n",
    "        self.counter += 1\n",
    "        self.url_to_short[longUrl] = shortUrl\n",
    "        self.short_to_url[shortUrl] = longUrl\n",
    "        return \"http://tinyurl.com/\" + shortUrl\n",
    "\n",
    "    def decode(self, shortUrl: str) -> str:\n",
    "        \"\"\"Decodes a shortened URL to its original URL.\"\"\"\n",
    "        base62_key = shortUrl.replace(\"http://tinyurl.com/\", \"\")\n",
    "        return self.short_to_url[base62_key]\n",
    "\n",
    "    def base62_encode(self, num):\n",
    "        encoded = []\n",
    "        while num:\n",
    "            remainder = num % 62\n",
    "            encoded.append(self.BASE62[remainder])\n",
    "            num //= 62\n",
    "        return ''.join(encoded[::-1])\n",
    "\n",
    "# Example usage:\n",
    "url = \"https://leetcode.com/problems/design-tinyurl\"\n",
    "obj = Solution()\n",
    "tiny = obj.encode(url)\n",
    "print(tiny)  # prints the tiny URL\n",
    "ans = obj.decode(tiny)\n",
    "print(ans)  # should print the original URL"
   ]
  }
 ],
 "metadata": {
  "kernelspec": {
   "display_name": "Python 3",
   "language": "python",
   "name": "python3"
  },
  "language_info": {
   "codemirror_mode": {
    "name": "ipython",
    "version": 3
   },
   "file_extension": ".py",
   "mimetype": "text/x-python",
   "name": "python",
   "nbconvert_exporter": "python",
   "pygments_lexer": "ipython3",
   "version": "3.9.13"
  }
 },
 "nbformat": 4,
 "nbformat_minor": 5
}
