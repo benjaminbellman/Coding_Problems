{
 "cells": [
  {
   "cell_type": "markdown",
   "id": "d3f5b4bf",
   "metadata": {},
   "source": [
    "# Number of Submatrices That Sum to Target"
   ]
  },
  {
   "cell_type": "markdown",
   "id": "ef6db967",
   "metadata": {},
   "source": [
    "Given a matrix and a target, return the number of non-empty submatrices that sum to target.\n",
    "\n",
    "A submatrix x1, y1, x2, y2 is the set of all cells matrix[x][y] with x1 <= x <= x2 and y1 <= y <= y2.\n",
    "\n",
    "Two submatrices (x1, y1, x2, y2) and (x1', y1', x2', y2') are different if they have some coordinate that is different: for example, if x1 != x1'.\n",
    "\n",
    "**Example 1:**\n",
    "\n",
    "Input: matrix = [[0,1,0],[1,1,1],[0,1,0]], target = 0\n",
    "Output: 4\n",
    "Explanation: The four 1x1 submatrices that only contain 0.\n",
    "\n",
    "**Example 2:**\n",
    "\n",
    "Input: matrix = [[1,-1],[-1,1]], target = 0\n",
    "Output: 5\n",
    "Explanation: The two 1x2 submatrices, plus the two 2x1 submatrices, plus the 2x2 submatrix.\n",
    "\n",
    "**Example 3:**\n",
    "\n",
    "Input: matrix = [[904]], target = 0\n",
    "Output: 0\n",
    " \n",
    "**Constraints:**\n",
    "\n",
    "- 1 <= matrix.length <= 100\n",
    "- 1 <= matrix[0].length <= 100\n",
    "- -1000 <= matrix[i][j] <= 1000\n",
    "- -10^8 <= target <= 10^8"
   ]
  },
  {
   "cell_type": "code",
   "execution_count": 1,
   "id": "f0293b58",
   "metadata": {},
   "outputs": [],
   "source": [
    "def numSubmatrixSumTarget(matrix, target):\n",
    "    rows, cols = len(matrix), len(matrix[0])\n",
    "    result = 0\n",
    "    \n",
    "    # Iterate over all pairs of rows\n",
    "    for r1 in range(rows):\n",
    "        # Initialize an array to store column sums for the range [r1, r2]\n",
    "        row_sums = [0] * cols\n",
    "        for r2 in range(r1, rows):\n",
    "            # Update row_sums with the elements of the current row r2\n",
    "            for c in range(cols):\n",
    "                row_sums[c] += matrix[r2][c]\n",
    "            \n",
    "            # Use a hashmap to find subarrays with the target sum\n",
    "            prefix_count = {0: 1}\n",
    "            curr_sum = 0\n",
    "            for sum_val in row_sums:\n",
    "                curr_sum += sum_val\n",
    "                result += prefix_count.get(curr_sum - target, 0)\n",
    "                prefix_count[curr_sum] = prefix_count.get(curr_sum, 0) + 1\n",
    "    \n",
    "    return result"
   ]
  },
  {
   "cell_type": "code",
   "execution_count": null,
   "id": "936f844f",
   "metadata": {},
   "outputs": [],
   "source": []
  }
 ],
 "metadata": {
  "kernelspec": {
   "display_name": "Python 3 (ipykernel)",
   "language": "python",
   "name": "python3"
  },
  "language_info": {
   "codemirror_mode": {
    "name": "ipython",
    "version": 3
   },
   "file_extension": ".py",
   "mimetype": "text/x-python",
   "name": "python",
   "nbconvert_exporter": "python",
   "pygments_lexer": "ipython3",
   "version": "3.8.11"
  }
 },
 "nbformat": 4,
 "nbformat_minor": 5
}
