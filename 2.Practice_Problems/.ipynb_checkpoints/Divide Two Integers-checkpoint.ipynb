{
 "cells": [
  {
   "cell_type": "markdown",
   "id": "37cfe6fb",
   "metadata": {},
   "source": [
    "# Divide Two Integers\n"
   ]
  },
  {
   "cell_type": "markdown",
   "id": "07982358",
   "metadata": {},
   "source": [
    "Given two integers dividend and divisor, divide two integers without using multiplication, division, and mod operator.\n",
    "\n",
    "The integer division should truncate toward zero, which means losing its fractional part. For example, 8.345 would be truncated to 8, and -2.7335 would be truncated to -2.\n",
    "\n",
    "Return the quotient after dividing dividend by divisor.\n",
    "\n",
    "Note: Assume we are dealing with an environment that could only store integers within the 32-bit signed integer range: [−231, 231 − 1]. For this problem, if the quotient is strictly greater than 231 - 1, then return 231 - 1, and if the quotient is strictly less than -231, then return -231.\n",
    "\n",
    " \n",
    "\n",
    "**Example 1:**\n",
    "\n",
    "Input: dividend = 10, divisor = 3\n",
    "Output: 3\n",
    "Explanation: 10/3 = 3.33333.. which is truncated to 3.\n",
    "\n",
    "**Example 2:**\n",
    "\n",
    "Input: dividend = 7, divisor = -3\n",
    "Output: -2\n",
    "Explanation: 7/-3 = -2.33333.. which is truncated to -2.\n",
    " \n",
    "\n",
    "**Constraints:**\n",
    "\n",
    "-231 <= dividend, divisor <= 231 - 1\n",
    "divisor != 0"
   ]
  },
  {
   "cell_type": "code",
   "execution_count": 1,
   "id": "0bd5eb4c",
   "metadata": {},
   "outputs": [],
   "source": [
    "def divide(dividend: int, divisor: int) -> int:\n",
    "    # Check for the special case where the divisor is 0\n",
    "    if divisor == 0:\n",
    "        raise ValueError(\"Division by zero is not allowed\")\n",
    "\n",
    "    # Handle the case where the dividend is the minimum possible\n",
    "    # 32-bit signed integer and the divisor is -1, which would\n",
    "    # cause an overflow\n",
    "    if dividend == -2147483648 and divisor == -1:\n",
    "        return 2147483647\n",
    "\n",
    "    # Calculate the quotient and the remainder by using the\n",
    "    # built-in divmod() function\n",
    "    quotient, remainder = divmod(dividend, divisor)\n",
    "\n",
    "    # If the quotient is strictly greater than 231 - 1, return 231 - 1\n",
    "    if quotient > 2147483647:\n",
    "        return 2147483647\n",
    "\n",
    "    # If the quotient is strictly less than -231, return -231\n",
    "    if quotient < -2147483648:\n",
    "        return -2147483648\n",
    "\n",
    "    # Otherwise, return the quotient\n",
    "    return quotient"
   ]
  },
  {
   "cell_type": "code",
   "execution_count": 3,
   "id": "f665d435",
   "metadata": {},
   "outputs": [],
   "source": [
    "def divide(dividend, divisor):\n",
    "    # Check for edge cases where the quotient is outside of the valid range.\n",
    "    if dividend == -2147483648 and divisor == -1:\n",
    "        return 2147483647\n",
    "    if divisor == 0:\n",
    "        return None\n",
    "\n",
    "    # Use the sign of the two numbers to determine the sign of the quotient.\n",
    "    # If either the dividend or the divisor is negative, the quotient will be negative.\n",
    "    negative = (dividend < 0) != (divisor < 0)\n",
    "    dividend = abs(dividend)\n",
    "    divisor = abs(divisor)\n",
    "\n",
    "    quotient = 0\n",
    "    while dividend >= divisor:\n",
    "        quotient += 1\n",
    "        dividend -= divisor\n",
    "\n",
    "    # If the quotient is negative, negate it.\n",
    "    if negative:\n",
    "        quotient = -quotient\n",
    "\n",
    "    return quotient"
   ]
  },
  {
   "cell_type": "code",
   "execution_count": null,
   "id": "232afb0d",
   "metadata": {},
   "outputs": [],
   "source": []
  }
 ],
 "metadata": {
  "kernelspec": {
   "display_name": "Python 3",
   "language": "python",
   "name": "python3"
  },
  "language_info": {
   "codemirror_mode": {
    "name": "ipython",
    "version": 3
   },
   "file_extension": ".py",
   "mimetype": "text/x-python",
   "name": "python",
   "nbconvert_exporter": "python",
   "pygments_lexer": "ipython3",
   "version": "3.9.13"
  }
 },
 "nbformat": 4,
 "nbformat_minor": 5
}
