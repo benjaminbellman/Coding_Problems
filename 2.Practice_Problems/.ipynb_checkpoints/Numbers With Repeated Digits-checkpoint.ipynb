{
 "cells": [
  {
   "cell_type": "markdown",
   "id": "908ec284",
   "metadata": {},
   "source": [
    "# Numbers With Repeated Digits"
   ]
  },
  {
   "cell_type": "markdown",
   "id": "cf730759",
   "metadata": {},
   "source": [
    "**Example 1:**\n",
    "\n",
    "Input: n = 20\n",
    "Output: 1\n",
    "Explanation: The only positive number (<= 20) with at least 1 repeated digit is 11.\n",
    "\n",
    "**Example 2:**\n",
    "\n",
    "Input: n = 100\n",
    "Output: 10\n",
    "Explanation: The positive numbers (<= 100) with atleast 1 repeated digit are 11, 22, 33, 44, 55, 66, 77, 88, 99, and 100.\n",
    "\n",
    "**Example 3:**\n",
    "\n",
    "Input: n = 1000\n",
    "Output: 262\n",
    "\n",
    "**Constraints:**\n",
    "\n",
    "- 1 <= n <= 109"
   ]
  },
  {
   "cell_type": "code",
   "execution_count": 1,
   "id": "483c7792",
   "metadata": {},
   "outputs": [
    {
     "name": "stdout",
     "output_type": "stream",
     "text": [
      "1\n",
      "10\n",
      "262\n"
     ]
    }
   ],
   "source": [
    "def numDupDigitsAtMostN(n):\n",
    "    def count_no_repeat(n):\n",
    "        \"\"\"Count numbers without repeated digits <= n.\"\"\"\n",
    "        digits = list(map(int, str(n)))\n",
    "        n_digits = len(digits)\n",
    "        used = [0] * 10\n",
    "        \n",
    "        # Count numbers with unique digits for numbers with length < n_digits\n",
    "        count = 0\n",
    "        for i in range(1, n_digits):\n",
    "            count += 9 * perm(9, i - 1)\n",
    "        \n",
    "        # Count numbers with the same number of digits\n",
    "        for i in range(n_digits):\n",
    "            for d in range(1 if i == 0 else 0, digits[i]):\n",
    "                if not used[d]:\n",
    "                    count += perm(9 - i, n_digits - i - 1)\n",
    "            if used[digits[i]]:\n",
    "                break\n",
    "            used[digits[i]] = 1\n",
    "        else:\n",
    "            count += 1\n",
    "        \n",
    "        return count\n",
    "    \n",
    "    def perm(a, b):\n",
    "        \"\"\"Calculate permutations aPb = a! / (a-b)!.\"\"\"\n",
    "        if b == 0:\n",
    "            return 1\n",
    "        res = 1\n",
    "        for i in range(b):\n",
    "            res *= (a - i)\n",
    "        return res\n",
    "    \n",
    "    return n - count_no_repeat(n)\n",
    "\n",
    "# Example usage:\n",
    "print(numDupDigitsAtMostN(20))    # Output: 1\n",
    "print(numDupDigitsAtMostN(100))   # Output: 10\n",
    "print(numDupDigitsAtMostN(1000))  # Output: 262"
   ]
  },
  {
   "cell_type": "code",
   "execution_count": null,
   "id": "18889d58",
   "metadata": {},
   "outputs": [],
   "source": []
  }
 ],
 "metadata": {
  "kernelspec": {
   "display_name": "Python 3 (ipykernel)",
   "language": "python",
   "name": "python3"
  },
  "language_info": {
   "codemirror_mode": {
    "name": "ipython",
    "version": 3
   },
   "file_extension": ".py",
   "mimetype": "text/x-python",
   "name": "python",
   "nbconvert_exporter": "python",
   "pygments_lexer": "ipython3",
   "version": "3.8.11"
  }
 },
 "nbformat": 4,
 "nbformat_minor": 5
}
