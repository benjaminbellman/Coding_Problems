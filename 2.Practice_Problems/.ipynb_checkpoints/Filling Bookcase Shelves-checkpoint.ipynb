{
 "cells": [
  {
   "cell_type": "markdown",
   "id": "38bbc0ac",
   "metadata": {},
   "source": [
    "# Filling Bookcase Shelves"
   ]
  },
  {
   "cell_type": "markdown",
   "id": "0ebd1c4d",
   "metadata": {},
   "source": [
    "You are given an array books where books[i] = [thicknessi, heighti] indicates the thickness and height of the ith book. You are also given an integer shelfWidth.\n",
    "\n",
    "We want to place these books in order onto bookcase shelves that have a total width shelfWidth.\n",
    "\n",
    "We choose some of the books to place on this shelf such that the sum of their thickness is less than or equal to shelfWidth, then build another level of the shelf of the bookcase so that the total height of the bookcase has increased by the maximum height of the books we just put down. We repeat this process until there are no more books to place.\n",
    "\n",
    "Note that at each step of the above process, the order of the books we place is the same order as the given sequence of books.\n",
    "\n",
    "For example, if we have an ordered list of 5 books, we might place the first and second book onto the first shelf, the third book on the second shelf, and the fourth and fifth book on the last shelf.\n",
    "Return the minimum possible height that the total bookshelf can be after placing shelves in this manner.\n",
    "\n",
    "**Example 1:**\n",
    "\n",
    "Input: books = [[1,1],[2,3],[2,3],[1,1],[1,1],[1,1],[1,2]], shelfWidth = 4\n",
    "Output: 6\n",
    "Explanation:\n",
    "The sum of the heights of the 3 shelves is 1 + 3 + 2 = 6.\n",
    "Notice that book number 2 does not have to be on the first shelf.\n",
    "\n",
    "**Example 2:**\n",
    "\n",
    "Input: books = [[1,3],[2,4],[3,2]], shelfWidth = 6\n",
    "Output: 4\n",
    "\n",
    "**Constraints:**\n",
    "\n",
    "- 1 <= books.length <= 1000\n",
    "- 1 <= thicknessi <= shelfWidth <= 1000\n",
    "- 1 <= heighti <= 1000"
   ]
  },
  {
   "cell_type": "code",
   "execution_count": 1,
   "id": "78253079",
   "metadata": {},
   "outputs": [
    {
     "name": "stdout",
     "output_type": "stream",
     "text": [
      "6\n",
      "4\n"
     ]
    }
   ],
   "source": [
    "def minHeightShelves(books, shelfWidth):\n",
    "    n = len(books)\n",
    "    dp = [0] * (n + 1)  # dp[i] is the minimum height for the first i books\n",
    "    dp[0] = 0  # Base case: no books, height is 0\n",
    "\n",
    "    for i in range(1, n + 1):\n",
    "        width = 0  # Current shelf width\n",
    "        height = 0  # Current shelf height\n",
    "        dp[i] = float('inf')  # Initialize with infinity\n",
    "\n",
    "        # Iterate backward to decide which books to place on the current shelf\n",
    "        for j in range(i - 1, -1, -1):\n",
    "            width += books[j][0]  # Add thickness of book[j]\n",
    "            if width > shelfWidth:\n",
    "                break  # If width exceeds shelfWidth, stop placing books on this shelf\n",
    "            height = max(height, books[j][1])  # Update shelf height\n",
    "            dp[i] = min(dp[i], dp[j] + height)  # Update dp[i]\n",
    "\n",
    "    return dp[n]\n",
    "\n",
    "# Example Usage\n",
    "books1 = [[1,1],[2,3],[2,3],[1,1],[1,1],[1,1],[1,2]]\n",
    "shelfWidth1 = 4\n",
    "print(minHeightShelves(books1, shelfWidth1))  # Output: 6\n",
    "\n",
    "books2 = [[1,3],[2,4],[3,2]]\n",
    "shelfWidth2 = 6\n",
    "print(minHeightShelves(books2, shelfWidth2))  # Output: 4"
   ]
  },
  {
   "cell_type": "code",
   "execution_count": null,
   "id": "99b9f676",
   "metadata": {},
   "outputs": [],
   "source": []
  }
 ],
 "metadata": {
  "kernelspec": {
   "display_name": "Python 3 (ipykernel)",
   "language": "python",
   "name": "python3"
  },
  "language_info": {
   "codemirror_mode": {
    "name": "ipython",
    "version": 3
   },
   "file_extension": ".py",
   "mimetype": "text/x-python",
   "name": "python",
   "nbconvert_exporter": "python",
   "pygments_lexer": "ipython3",
   "version": "3.8.11"
  }
 },
 "nbformat": 4,
 "nbformat_minor": 5
}
