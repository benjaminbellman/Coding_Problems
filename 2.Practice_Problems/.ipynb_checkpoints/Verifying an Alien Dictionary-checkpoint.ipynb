{
 "cells": [
  {
   "cell_type": "markdown",
   "id": "b60c039d",
   "metadata": {},
   "source": [
    "# Verifying an Alien Dictionary"
   ]
  },
  {
   "cell_type": "markdown",
   "id": "09fb806f",
   "metadata": {},
   "source": [
    "In an alien language, surprisingly, they also use English lowercase letters, but possibly in a different order. The order of the alphabet is some permutation of lowercase letters.\n",
    "\n",
    "Given a sequence of words written in the alien language, and the order of the alphabet, return true if and only if the given words are sorted lexicographically in this alien language.\n",
    "\n",
    "**Example 1:**\n",
    "\n",
    "Input: words = [\"hello\",\"leetcode\"], order = \"hlabcdefgijkmnopqrstuvwxyz\"\n",
    "Output: true\n",
    "Explanation: As 'h' comes before 'l' in this language, then the sequence is sorted.\n",
    "\n",
    "**Example 2:**\n",
    "\n",
    "Input: words = [\"word\",\"world\",\"row\"], order = \"worldabcefghijkmnpqstuvxyz\"\n",
    "Output: false\n",
    "Explanation: As 'd' comes after 'l' in this language, then words[0] > words[1], hence the sequence is unsorted.\n",
    "\n",
    "**Example 3:**\n",
    "\n",
    "Input: words = [\"apple\",\"app\"], order = \"abcdefghijklmnopqrstuvwxyz\"\n",
    "Output: false\n",
    "Explanation: The first three characters \"app\" match, and the second string is shorter (in size.) According to lexicographical rules \"apple\" > \"app\", because 'l' > '∅', where '∅' is defined as the blank character which is less than any other character (More info).\n",
    " \n",
    "**Constraints:**\n",
    "\n",
    "- 1 <= words.length <= 100\n",
    "- 1 <= words[i].length <= 20\n",
    "- order.length == 26\n",
    "- All characters in words[i] and order are English lowercase letters."
   ]
  },
  {
   "cell_type": "code",
   "execution_count": 1,
   "id": "81ebb538",
   "metadata": {},
   "outputs": [],
   "source": [
    "def isAlienSorted(words, order):\n",
    "    # Create a mapping of each character to its index in the alien order\n",
    "    order_map = {char: i for i, char in enumerate(order)}\n",
    "    \n",
    "    # Helper function to compare two words according to the alien order\n",
    "    def compare(word1, word2):\n",
    "        for i in range(min(len(word1), len(word2))):\n",
    "            if word1[i] != word2[i]:\n",
    "                return order_map[word1[i]] < order_map[word2[i]]\n",
    "        # If we reach here, the words are identical up to the length of the shorter word\n",
    "        return len(word1) <= len(word2)\n",
    "\n",
    "    # Compare each word with the next word in the list\n",
    "    for i in range(len(words) - 1):\n",
    "        if not compare(words[i], words[i + 1]):\n",
    "            return False\n",
    "    \n",
    "    return True"
   ]
  },
  {
   "cell_type": "code",
   "execution_count": null,
   "id": "747968c2",
   "metadata": {},
   "outputs": [],
   "source": []
  }
 ],
 "metadata": {
  "kernelspec": {
   "display_name": "Python 3 (ipykernel)",
   "language": "python",
   "name": "python3"
  },
  "language_info": {
   "codemirror_mode": {
    "name": "ipython",
    "version": 3
   },
   "file_extension": ".py",
   "mimetype": "text/x-python",
   "name": "python",
   "nbconvert_exporter": "python",
   "pygments_lexer": "ipython3",
   "version": "3.8.11"
  }
 },
 "nbformat": 4,
 "nbformat_minor": 5
}
