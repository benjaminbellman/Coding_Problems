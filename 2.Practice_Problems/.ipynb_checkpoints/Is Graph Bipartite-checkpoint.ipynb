{
 "cells": [
  {
   "cell_type": "markdown",
   "id": "f686c130",
   "metadata": {},
   "source": [
    "# Is Graph Bipartite?"
   ]
  },
  {
   "cell_type": "markdown",
   "id": "93d29fa0",
   "metadata": {},
   "source": [
    "There is an undirected graph with n nodes, where each node is numbered between 0 and n - 1. You are given a 2D array graph, where graph[u] is an array of nodes that node u is adjacent to. More formally, for each v in graph[u], there is an undirected edge between node u and node v. The graph has the following properties:\n",
    "\n",
    "- There are no self-edges (graph[u] does not contain u).\n",
    "- There are no parallel edges (graph[u] does not contain duplicate values).\n",
    "- If v is in graph[u], then u is in graph[v] (the graph is undirected).\n",
    "- The graph may not be connected, meaning there may be two nodes u and v such that there is no path between them.\n",
    "A graph is bipartite if the nodes can be partitioned into two independent sets A and B such that every edge in the graph connects a node in set A and a node in set B.\n",
    "\n",
    "Return true if and only if it is bipartite.\n",
    "\n",
    " \n",
    "\n",
    "**Example 1:**\n",
    "\n",
    "\n",
    "Input: graph = [[1,2,3],[0,2],[0,1,3],[0,2]]\n",
    "\n",
    "Output: false\n",
    "Explanation: There is no way to partition the nodes into two independent sets such that every edge connects a node in one and a node in the other.\n",
    "\n",
    "**Example 2:\n",
    "\n",
    "\n",
    "Input: graph = [[1,3],[0,2],[1,3],[0,2]]\n",
    "\n",
    "Output: true\n",
    "Explanation: We can partition the nodes into two sets: {0, 2} and {1, 3}.\n",
    " \n",
    "\n",
    "**Constraints:**\n",
    "\n",
    "- graph.length == n\n",
    "- 1 <= n <= 100\n",
    "- 0 <= graph[u].length < n\n",
    "- 0 <= graph[u][i] <= n - 1\n",
    "- graph[u] does not contain u.\n",
    "- All the values of graph[u] are unique.\n",
    "- If graph[u] contains v, then graph[v] contains u."
   ]
  },
  {
   "cell_type": "code",
   "execution_count": 1,
   "id": "a63f297c",
   "metadata": {},
   "outputs": [
    {
     "name": "stdout",
     "output_type": "stream",
     "text": [
      "False\n",
      "True\n"
     ]
    }
   ],
   "source": [
    "def isBipartite(graph):\n",
    "    n = len(graph)\n",
    "    colors = [-1] * n  # Initialize colors for each node (-1: uncolored, 0: color A, 1: color B)\n",
    "\n",
    "    def dfs(node, color):\n",
    "        colors[node] = color\n",
    "        for neighbor in graph[node]:\n",
    "            if colors[neighbor] == -1:  # Unvisited neighbor\n",
    "                if not dfs(neighbor, 1 - color):  # Try coloring neighbor with opposite color\n",
    "                    return False\n",
    "            elif colors[neighbor] == color:  # Neighbor has same color as current node\n",
    "                return False\n",
    "        return True\n",
    "\n",
    "    for node in range(n):\n",
    "        if colors[node] == -1:  # Start DFS from uncolored nodes\n",
    "            if not dfs(node, 0):  # Color node with color 0\n",
    "                return False\n",
    "    return True\n",
    "\n",
    "# Example usage:\n",
    "graph1 = [[1, 2, 3], [0, 2], [0, 1, 3], [0, 2]]\n",
    "print(isBipartite(graph1))  # Output: False\n",
    "\n",
    "graph2 = [[1, 3], [0, 2], [1, 3], [0, 2]]\n",
    "print(isBipartite(graph2))  # Output: True"
   ]
  },
  {
   "cell_type": "code",
   "execution_count": null,
   "id": "9dff9612",
   "metadata": {},
   "outputs": [],
   "source": []
  }
 ],
 "metadata": {
  "kernelspec": {
   "display_name": "Python 3",
   "language": "python",
   "name": "python3"
  },
  "language_info": {
   "codemirror_mode": {
    "name": "ipython",
    "version": 3
   },
   "file_extension": ".py",
   "mimetype": "text/x-python",
   "name": "python",
   "nbconvert_exporter": "python",
   "pygments_lexer": "ipython3",
   "version": "3.9.13"
  }
 },
 "nbformat": 4,
 "nbformat_minor": 5
}
