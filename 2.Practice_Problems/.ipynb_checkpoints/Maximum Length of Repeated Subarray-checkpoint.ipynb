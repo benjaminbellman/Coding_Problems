{
 "cells": [
  {
   "cell_type": "markdown",
   "id": "d34fba6b",
   "metadata": {},
   "source": [
    "# Maximum Length of Repeated Subarray"
   ]
  },
  {
   "cell_type": "markdown",
   "id": "9378fddf",
   "metadata": {},
   "source": [
    "Given two integer arrays nums1 and nums2, return the maximum length of a subarray that appears in both arrays.\n",
    "\n",
    " \n",
    "\n",
    "**Example 1:**\n",
    "\n",
    "Input: nums1 = [1,2,3,2,1], nums2 = [3,2,1,4,7]\n",
    "\n",
    "Output: 3\n",
    "Explanation: The repeated subarray with maximum length is [3,2,1].\n",
    "\n",
    "**Example 2:**\n",
    "\n",
    "Input: nums1 = [0,0,0,0,0], nums2 = [0,0,0,0,0]\n",
    "\n",
    "Output: 5\n",
    "Explanation: The repeated subarray with maximum length is [0,0,0,0,0].\n",
    " \n",
    "\n",
    "**Constraints:**\n",
    "\n",
    "1 <= nums1.length, nums2.length <= 1000\n",
    "0 <= nums1[i], nums2[i] <= 100"
   ]
  },
  {
   "cell_type": "code",
   "execution_count": 1,
   "id": "c20001f9",
   "metadata": {},
   "outputs": [
    {
     "name": "stdout",
     "output_type": "stream",
     "text": [
      "3\n",
      "5\n"
     ]
    }
   ],
   "source": [
    "def findLength(nums1, nums2):\n",
    "    m, n = len(nums1), len(nums2)\n",
    "    dp = [[0] * (n + 1) for _ in range(m + 1)]\n",
    "    max_length = 0\n",
    "    \n",
    "    for i in range(1, m + 1):\n",
    "        for j in range(1, n + 1):\n",
    "            if nums1[i - 1] == nums2[j - 1]:\n",
    "                dp[i][j] = dp[i - 1][j - 1] + 1\n",
    "                max_length = max(max_length, dp[i][j])\n",
    "    \n",
    "    return max_length\n",
    "\n",
    "# Example usage:\n",
    "nums1 = [1, 2, 3, 2, 1]\n",
    "nums2 = [3, 2, 1, 4, 7]\n",
    "print(findLength(nums1, nums2))  # Output: 3\n",
    "\n",
    "nums1 = [0, 0, 0, 0, 0]\n",
    "nums2 = [0, 0, 0, 0, 0]\n",
    "print(findLength(nums1, nums2))  # Output: 5"
   ]
  }
 ],
 "metadata": {
  "kernelspec": {
   "display_name": "Python 3",
   "language": "python",
   "name": "python3"
  },
  "language_info": {
   "codemirror_mode": {
    "name": "ipython",
    "version": 3
   },
   "file_extension": ".py",
   "mimetype": "text/x-python",
   "name": "python",
   "nbconvert_exporter": "python",
   "pygments_lexer": "ipython3",
   "version": "3.9.13"
  }
 },
 "nbformat": 4,
 "nbformat_minor": 5
}
