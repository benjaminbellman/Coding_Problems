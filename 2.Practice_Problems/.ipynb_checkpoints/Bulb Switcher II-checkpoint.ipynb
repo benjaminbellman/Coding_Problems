{
 "cells": [
  {
   "cell_type": "markdown",
   "id": "aea4e2df",
   "metadata": {},
   "source": [
    "# Bulb Switcher II"
   ]
  },
  {
   "cell_type": "markdown",
   "id": "a2725ab4",
   "metadata": {},
   "source": [
    "There is a room with n bulbs labeled from 1 to n that all are turned on initially, and four buttons on the wall. Each of the four buttons has a different functionality where:\n",
    "\n",
    "Button 1: Flips the status of all the bulbs.\n",
    "Button 2: Flips the status of all the bulbs with even labels (i.e., 2, 4, ...).\n",
    "Button 3: Flips the status of all the bulbs with odd labels (i.e., 1, 3, ...).\n",
    "Button 4: Flips the status of all the bulbs with a label j = 3k + 1 where k = 0, 1, 2, ... (i.e., 1, 4, 7, 10, ...).\n",
    "You must make exactly presses button presses in total. For each press, you may pick any of the four buttons to press.\n",
    "\n",
    "Given the two integers n and presses, return the number of different possible statuses after performing all presses button presses.\n",
    "\n",
    " \n",
    "\n",
    "**Example 1:**\n",
    "\n",
    "Input: n = 1, presses = 1\n",
    "\n",
    "Output: 2\n",
    "Explanation: Status can be:\n",
    "- [off] by pressing button 1\n",
    "- [on] by pressing button 2\n",
    "\n",
    "**Example 2:**\n",
    "\n",
    "Input: n = 2, presses = 1\n",
    "\n",
    "Output: 3\n",
    "Explanation: Status can be:\n",
    "- [off, off] by pressing button 1\n",
    "- [on, off] by pressing button 2\n",
    "- [off, on] by pressing button 3\n",
    "\n",
    "**Example 3:**\n",
    "\n",
    "Input: n = 3, presses = 1\n",
    "\n",
    "Output: 4\n",
    "Explanation: Status can be:\n",
    "- [off, off, off] by pressing button 1\n",
    "- [off, on, off] by pressing button 2\n",
    "- [on, off, on] by pressing button 3\n",
    "- [off, on, on] by pressing button 4\n",
    " \n",
    "\n",
    "**Constraints:**\n",
    "\n",
    "- 1 <= n <= 1000\n",
    "- 0 <= presses <= 1000"
   ]
  },
  {
   "cell_type": "code",
   "execution_count": 1,
   "id": "5e562438",
   "metadata": {},
   "outputs": [
    {
     "name": "stdout",
     "output_type": "stream",
     "text": [
      "3\n",
      "2\n",
      "2\n"
     ]
    }
   ],
   "source": [
    "def numStatusBulbs(n, presses):\n",
    "    # Initialize a 2D array dp with dimensions (n+1) x (presses+1)\n",
    "    dp = [[0] * (presses + 1) for _ in range(n + 1)]\n",
    "    \n",
    "    # Base case: When no button presses are made, all bulbs are on\n",
    "    for i in range(n + 1):\n",
    "        dp[i][0] = 1\n",
    "    \n",
    "    # Iterate through button presses\n",
    "    for j in range(1, presses + 1):\n",
    "        for i in range(1, n + 1):\n",
    "            # Initialize dp[i][j] with the number of possible statuses after j-1 presses\n",
    "            dp[i][j] = dp[i][j - 1]\n",
    "            \n",
    "            # Button 1: Flip the status of all bulbs\n",
    "            dp[i][j] += dp[n - i + 1][j - 1] - dp[i][j - 1]\n",
    "            \n",
    "            # Button 2: Flip the status of all bulbs with even labels\n",
    "            if i % 2 == 0:\n",
    "                dp[i][j] += dp[i // 2][j - 1]\n",
    "            \n",
    "            # Button 3: Flip the status of all bulbs with odd labels\n",
    "            if i % 2 == 1:\n",
    "                dp[i][j] += dp[i // 2][j - 1]\n",
    "            \n",
    "            # Button 4: Flip the status of all bulbs with labels j = 3k + 1\n",
    "            if i % 3 == 1:\n",
    "                dp[i][j] += dp[i // 3][j - 1]\n",
    "    \n",
    "    # The result is the number of different possible statuses after presses button presses for all bulbs\n",
    "    return dp[n][presses]\n",
    "\n",
    "# Example usage:\n",
    "n1, presses1 = 1, 1\n",
    "print(numStatusBulbs(n1, presses1))  # Output: 2\n",
    "\n",
    "n2, presses2 = 2, 1\n",
    "print(numStatusBulbs(n2, presses2))  # Output: 3\n",
    "\n",
    "n3, presses3 = 3, 1\n",
    "print(numStatusBulbs(n3, presses3))  # Output: 4"
   ]
  },
  {
   "cell_type": "code",
   "execution_count": null,
   "id": "cab351ac",
   "metadata": {},
   "outputs": [],
   "source": []
  }
 ],
 "metadata": {
  "kernelspec": {
   "display_name": "Python 3",
   "language": "python",
   "name": "python3"
  },
  "language_info": {
   "codemirror_mode": {
    "name": "ipython",
    "version": 3
   },
   "file_extension": ".py",
   "mimetype": "text/x-python",
   "name": "python",
   "nbconvert_exporter": "python",
   "pygments_lexer": "ipython3",
   "version": "3.9.13"
  }
 },
 "nbformat": 4,
 "nbformat_minor": 5
}
