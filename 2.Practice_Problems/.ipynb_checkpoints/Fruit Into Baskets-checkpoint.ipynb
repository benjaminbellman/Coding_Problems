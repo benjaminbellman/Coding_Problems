{
 "cells": [
  {
   "cell_type": "markdown",
   "id": "c608b840",
   "metadata": {},
   "source": [
    "# Fruit Into Baskets"
   ]
  },
  {
   "cell_type": "markdown",
   "id": "4db79bb9",
   "metadata": {},
   "source": [
    "You are visiting a farm that has a single row of fruit trees arranged from left to right. The trees are represented by an integer array fruits where fruits[i] is the type of fruit the ith tree produces.\n",
    "\n",
    "You want to collect as much fruit as possible. However, the owner has some strict rules that you must follow:\n",
    "\n",
    "You only have two baskets, and each basket can only hold a single type of fruit. There is no limit on the amount of fruit each basket can hold.\n",
    "Starting from any tree of your choice, you must pick exactly one fruit from every tree (including the start tree) while moving to the right. The picked fruits must fit in one of your baskets.\n",
    "Once you reach a tree with fruit that cannot fit in your baskets, you must stop.\n",
    "Given the integer array fruits, return the maximum number of fruits you can pick.\n",
    "\n",
    "**Example 1:**\n",
    "\n",
    "Input: fruits = [1,2,1]\n",
    "Output: 3\n",
    "Explanation: We can pick from all 3 trees.\n",
    "\n",
    "**Example 2:**\n",
    "\n",
    "Input: fruits = [0,1,2,2]\n",
    "Output: 3\n",
    "Explanation: We can pick from trees [1,2,2].\n",
    "If we had started at the first tree, we would only pick from trees [0,1].\n",
    "\n",
    "**Example 3:**\n",
    "\n",
    "Input: fruits = [1,2,3,2,2]\n",
    "Output: 4\n",
    "Explanation: We can pick from trees [2,3,2,2].\n",
    "If we had started at the first tree, we would only pick from trees [1,2].\n",
    "\n",
    "**Constraints:**\n",
    "\n",
    "- 1 <= fruits.length <= 105\n",
    "- 0 <= fruits[i] < fruits.length"
   ]
  },
  {
   "cell_type": "code",
   "execution_count": 1,
   "id": "2511920a",
   "metadata": {},
   "outputs": [
    {
     "name": "stdout",
     "output_type": "stream",
     "text": [
      "3\n",
      "3\n",
      "4\n"
     ]
    }
   ],
   "source": [
    "def total_fruit(fruits):\n",
    "    left = 0\n",
    "    fruit_count = {}\n",
    "    max_fruits = 0\n",
    "\n",
    "    for right in range(len(fruits)):\n",
    "        # Add the fruit at `right` to the basket\n",
    "        fruit = fruits[right]\n",
    "        if fruit in fruit_count:\n",
    "            fruit_count[fruit] += 1\n",
    "        else:\n",
    "            fruit_count[fruit] = 1\n",
    "        \n",
    "        # If we have more than 2 types of fruit, shrink the window from the left\n",
    "        while len(fruit_count) > 2:\n",
    "            left_fruit = fruits[left]\n",
    "            fruit_count[left_fruit] -= 1\n",
    "            if fruit_count[left_fruit] == 0:\n",
    "                del fruit_count[left_fruit]\n",
    "            left += 1\n",
    "        \n",
    "        # Calculate the maximum fruits collected so far\n",
    "        max_fruits = max(max_fruits, right - left + 1)\n",
    "    \n",
    "    return max_fruits\n",
    "\n",
    "# Example usage\n",
    "print(total_fruit([1, 2, 1]))        # Output: 3\n",
    "print(total_fruit([0, 1, 2, 2]))     # Output: 3\n",
    "print(total_fruit([1, 2, 3, 2, 2]))  # Output: 4"
   ]
  },
  {
   "cell_type": "code",
   "execution_count": null,
   "id": "d2232bfc",
   "metadata": {},
   "outputs": [],
   "source": []
  }
 ],
 "metadata": {
  "kernelspec": {
   "display_name": "Python 3 (ipykernel)",
   "language": "python",
   "name": "python3"
  },
  "language_info": {
   "codemirror_mode": {
    "name": "ipython",
    "version": 3
   },
   "file_extension": ".py",
   "mimetype": "text/x-python",
   "name": "python",
   "nbconvert_exporter": "python",
   "pygments_lexer": "ipython3",
   "version": "3.8.11"
  }
 },
 "nbformat": 4,
 "nbformat_minor": 5
}
