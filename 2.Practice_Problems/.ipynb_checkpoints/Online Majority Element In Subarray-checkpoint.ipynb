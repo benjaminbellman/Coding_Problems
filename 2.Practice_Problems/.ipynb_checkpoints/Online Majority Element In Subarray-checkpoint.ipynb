{
 "cells": [
  {
   "cell_type": "markdown",
   "id": "b4eb92ad",
   "metadata": {},
   "source": [
    "# Online Majority Element In Subarray"
   ]
  },
  {
   "cell_type": "markdown",
   "id": "84521107",
   "metadata": {},
   "source": [
    "Design a data structure that efficiently finds the majority element of a given subarray.\n",
    "\n",
    "The majority element of a subarray is an element that occurs threshold times or more in the subarray.\n",
    "\n",
    "Implementing the MajorityChecker class:\n",
    "\n",
    "MajorityChecker(int[] arr) Initializes the instance of the class with the given array arr.\n",
    "int query(int left, int right, int threshold) returns the element in the subarray arr[left...right] that occurs at least threshold times, or -1 if no such element exists.\n",
    " \n",
    "**Example 1:**\n",
    "\n",
    "Input\n",
    "[\"MajorityChecker\", \"query\", \"query\", \"query\"]\n",
    "[[[1, 1, 2, 2, 1, 1]], [0, 5, 4], [0, 3, 3], [2, 3, 2]]\n",
    "Output\n",
    "[null, 1, -1, 2]\n",
    "\n",
    "Explanation\n",
    "MajorityChecker majorityChecker = new MajorityChecker([1, 1, 2, 2, 1, 1]);\n",
    "majorityChecker.query(0, 5, 4); // return 1\n",
    "majorityChecker.query(0, 3, 3); // return -1\n",
    "majorityChecker.query(2, 3, 2); // return 2\n",
    " \n",
    "\n",
    "**Constraints:**\n",
    "\n",
    "- 1 <= arr.length <= 2 * 104\n",
    "- 1 <= arr[i] <= 2 * 104\n",
    "- 0 <= left <= right < arr.length\n",
    "- threshold <= right - left + 1\n",
    "- 2 * threshold > right - left + 1\n",
    "- At most 104 calls will be made to query."
   ]
  },
  {
   "cell_type": "code",
   "execution_count": 1,
   "id": "cda25846",
   "metadata": {},
   "outputs": [],
   "source": [
    "import random\n",
    "import bisect\n",
    "from collections import defaultdict\n",
    "\n",
    "class MajorityChecker:\n",
    "    def __init__(self, arr):\n",
    "        self.arr = arr\n",
    "        self.indices = defaultdict(list)\n",
    "\n",
    "        # Store indices of each number\n",
    "        for i, num in enumerate(arr):\n",
    "            self.indices[num].append(i)\n",
    "\n",
    "    def query(self, left, right, threshold):\n",
    "        # We only need to check a few random elements because if there is a majority, it will appear often\n",
    "        for _ in range(20):  # Random sampling to increase probability of finding the majority\n",
    "            candidate = self.arr[random.randint(left, right)]\n",
    "            \n",
    "            # Binary search to count occurrences of candidate in range\n",
    "            occur_list = self.indices[candidate]\n",
    "            lo = bisect.bisect_left(occur_list, left)\n",
    "            hi = bisect.bisect_right(occur_list, right)\n",
    "            count = hi - lo\n",
    "\n",
    "            if count >= threshold:\n",
    "                return candidate\n",
    "\n",
    "        return -1"
   ]
  },
  {
   "cell_type": "code",
   "execution_count": null,
   "id": "ddc03fd9",
   "metadata": {},
   "outputs": [],
   "source": []
  }
 ],
 "metadata": {
  "kernelspec": {
   "display_name": "Python 3 (ipykernel)",
   "language": "python",
   "name": "python3"
  },
  "language_info": {
   "codemirror_mode": {
    "name": "ipython",
    "version": 3
   },
   "file_extension": ".py",
   "mimetype": "text/x-python",
   "name": "python",
   "nbconvert_exporter": "python",
   "pygments_lexer": "ipython3",
   "version": "3.8.11"
  }
 },
 "nbformat": 4,
 "nbformat_minor": 5
}
