{
 "cells": [
  {
   "cell_type": "markdown",
   "id": "ff6c7ab3",
   "metadata": {},
   "source": [
    "# Online Stock Span"
   ]
  },
  {
   "cell_type": "markdown",
   "id": "1970cd6a",
   "metadata": {},
   "source": [
    "Design an algorithm that collects daily price quotes for some stock and returns the span of that stock's price for the current day.\n",
    "\n",
    "The span of the stock's price in one day is the maximum number of consecutive days (starting from that day and going backward) for which the stock price was less than or equal to the price of that day.\n",
    "\n",
    "For example, if the prices of the stock in the last four days is [7,2,1,2] and the price of the stock today is 2, then the span of today is 4 because starting from today, the price of the stock was less than or equal 2 for 4 consecutive days.\n",
    "Also, if the prices of the stock in the last four days is [7,34,1,2] and the price of the stock today is 8, then the span of today is 3 because starting from today, the price of the stock was less than or equal 8 for 3 consecutive days.\n",
    "Implement the StockSpanner class:\n",
    "\n",
    "StockSpanner() Initializes the object of the class.\n",
    "int next(int price) Returns the span of the stock's price given that today's price is price.\n",
    " \n",
    "\n",
    "**Example 1:**\n",
    "\n",
    "Input\n",
    "[\"StockSpanner\", \"next\", \"next\", \"next\", \"next\", \"next\", \"next\", \"next\"]\n",
    "[[], [100], [80], [60], [70], [60], [75], [85]]\n",
    "Output\n",
    "[null, 1, 1, 1, 2, 1, 4, 6]\n",
    "\n",
    "**Explanation**\n",
    "- StockSpanner stockSpanner = new StockSpanner();\n",
    "- stockSpanner.next(100); // return 1\n",
    "- stockSpanner.next(80);  // return 1\n",
    "- stockSpanner.next(60);  // return 1\n",
    "- stockSpanner.next(70);  // return 2\n",
    "- stockSpanner.next(60);  // return 1\n",
    "- stockSpanner.next(75);  // return 4, because the last 4 prices (including today's price of 75) were less than or equal to - today's price.\n",
    "- stockSpanner.next(85);  // return 6\n",
    " \n",
    "\n",
    "**Constraints:**\n",
    "\n",
    "- 1 <= price <= 105\n",
    "- At most 104 calls will be made to next."
   ]
  },
  {
   "cell_type": "code",
   "execution_count": 1,
   "id": "0f52f4e4",
   "metadata": {},
   "outputs": [],
   "source": [
    "class StockSpanner:\n",
    "    def __init__(self):\n",
    "        self.stack = []  # Stack to store the indices of stock prices\n",
    "        self.index = 0   # Index to keep track of the current day\n",
    "\n",
    "    def next(self, price: int) -> int:\n",
    "        # While stack is not empty and the price at the index in stack is less than or equal to current price\n",
    "        while self.stack and self.stack[-1][1] <= price:\n",
    "            self.stack.pop()  # Pop the stack if condition is met\n",
    "        \n",
    "        # If stack is empty, the span is the whole range of days so far plus one\n",
    "        if not self.stack:\n",
    "            span = self.index + 1\n",
    "        else:\n",
    "            # Otherwise, calculate span based on the last index in the stack\n",
    "            span = self.index - self.stack[-1][0]\n",
    "        \n",
    "        # Push the current index and price onto the stack\n",
    "        self.stack.append((self.index, price))\n",
    "        self.index += 1\n",
    "        \n",
    "        return span"
   ]
  },
  {
   "cell_type": "code",
   "execution_count": null,
   "id": "3bea193b",
   "metadata": {},
   "outputs": [],
   "source": []
  }
 ],
 "metadata": {
  "kernelspec": {
   "display_name": "Python 3 (ipykernel)",
   "language": "python",
   "name": "python3"
  },
  "language_info": {
   "codemirror_mode": {
    "name": "ipython",
    "version": 3
   },
   "file_extension": ".py",
   "mimetype": "text/x-python",
   "name": "python",
   "nbconvert_exporter": "python",
   "pygments_lexer": "ipython3",
   "version": "3.8.11"
  }
 },
 "nbformat": 4,
 "nbformat_minor": 5
}
