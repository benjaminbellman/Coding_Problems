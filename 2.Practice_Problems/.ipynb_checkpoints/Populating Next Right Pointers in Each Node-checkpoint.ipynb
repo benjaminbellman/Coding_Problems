{
 "cells": [
  {
   "cell_type": "markdown",
   "id": "a31554f3",
   "metadata": {},
   "source": [
    "# Populating Next Right Pointers in Each Node"
   ]
  },
  {
   "cell_type": "markdown",
   "id": "5e4b97dc",
   "metadata": {},
   "source": [
    "You are given a perfect binary tree where all leaves are on the same level, and every parent has two children. The binary tree has the following definition:\n",
    "\n",
    "struct Node {\n",
    "  int val;\n",
    "  Node *left;\n",
    "  Node *right;\n",
    "  Node *next;\n",
    "}\n",
    "Populate each next pointer to point to its next right node. If there is no next right node, the next pointer should be set to NULL.\n",
    "\n",
    "Initially, all next pointers are set to NULL.\n",
    "\n",
    "**Example 1:**\n",
    "\n",
    "Input: root = [1,2,3,4,5,6,7]\n",
    "Output: [1,#,2,3,#,4,5,6,7,#]\n",
    "Explanation: Given the above perfect binary tree (Figure A), your function should populate each next pointer to point to its next right node, just like in Figure B. The serialized output is in level order as connected by the next pointers, with '#' signifying the end of each level.\n",
    "\n",
    "**Example 2:**\n",
    "\n",
    "Input: root = []\n",
    "Output: []\n",
    " \n",
    "**Constraints:**\n",
    "\n",
    "- The number of nodes in the tree is in the range [0, 212 - 1].\n",
    "- -1000 <= Node.val <= 1000"
   ]
  },
  {
   "cell_type": "code",
   "execution_count": 3,
   "id": "e296b3d6",
   "metadata": {},
   "outputs": [],
   "source": [
    "# Definition for a Node.\n",
    "class Node:\n",
    "    def __init__(self, val=0, left=None, right=None, next=None):\n",
    "        self.val = val\n",
    "        self.left = left\n",
    "        self.right = right\n",
    "        self.next = next\n",
    "\n",
    "class Solution:\n",
    "    def connect(self, root: 'Node') -> 'Node':\n",
    "        if not root:\n",
    "            return root\n",
    "\n",
    "        leftmost = root\n",
    "        # Since it's a perfect tree, check left child to know if next level exists\n",
    "        while leftmost.left:\n",
    "            cur = leftmost\n",
    "            while cur:\n",
    "                # Connect within the same parent\n",
    "                cur.left.next = cur.right\n",
    "                # Connect across parents\n",
    "                if cur.next:\n",
    "                    cur.right.next = cur.next.left\n",
    "                cur = cur.next\n",
    "            leftmost = leftmost.left\n",
    "\n",
    "        return root"
   ]
  },
  {
   "cell_type": "code",
   "execution_count": null,
   "id": "b983ac55",
   "metadata": {},
   "outputs": [],
   "source": []
  }
 ],
 "metadata": {
  "kernelspec": {
   "display_name": "Python 3 (ipykernel)",
   "language": "python",
   "name": "python3"
  },
  "language_info": {
   "codemirror_mode": {
    "name": "ipython",
    "version": 3
   },
   "file_extension": ".py",
   "mimetype": "text/x-python",
   "name": "python",
   "nbconvert_exporter": "python",
   "pygments_lexer": "ipython3",
   "version": "3.8.11"
  }
 },
 "nbformat": 4,
 "nbformat_minor": 5
}
