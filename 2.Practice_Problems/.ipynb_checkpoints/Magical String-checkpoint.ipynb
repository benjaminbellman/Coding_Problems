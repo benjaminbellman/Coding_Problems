{
 "cells": [
  {
   "cell_type": "markdown",
   "id": "28e02371",
   "metadata": {},
   "source": [
    "# Magical String"
   ]
  },
  {
   "cell_type": "markdown",
   "id": "d1fe98c8",
   "metadata": {},
   "source": [
    "A magical string s consists of only '1' and '2' and obeys the following rules:\n",
    "\n",
    "The string s is magical because concatenating the number of contiguous occurrences of characters '1' and '2' generates the string s itself.\n",
    "The first few elements of s is s = \"1221121221221121122……\". If we group the consecutive 1's and 2's in s, it will be \"1 22 11 2 1 22 1 22 11 2 11 22 ......\" and the occurrences of 1's or 2's in each group are \"1 2 2 1 1 2 1 2 2 1 2 2 ......\". You can see that the occurrence sequence is s itself.\n",
    "\n",
    "Given an integer n, return the number of 1's in the first n number in the magical string s.\n",
    "\n",
    " \n",
    "\n",
    "**Example 1:**\n",
    "\n",
    "Input: n = 6\n",
    "Output: 3\n",
    "Explanation: The first 6 elements of magical string s is \"122112\" and it contains three 1's, so return 3.\n",
    "\n",
    "**Example 2:**\n",
    "\n",
    "Input: n = 1\n",
    "Output: 1\n",
    " \n",
    "\n",
    "**Constraints:**\n",
    "\n",
    "- 1 <= n <= 105"
   ]
  },
  {
   "cell_type": "code",
   "execution_count": 1,
   "id": "493f1921",
   "metadata": {},
   "outputs": [
    {
     "name": "stdout",
     "output_type": "stream",
     "text": [
      "3\n",
      "1\n"
     ]
    }
   ],
   "source": [
    "def magical_string(n):\n",
    "    # Initialize the magical string and a counter for '1's\n",
    "    s = ['1', '2', '2']\n",
    "    count_ones = 1  # The first '1' is at the start\n",
    "    \n",
    "    # Initialize the pointer i\n",
    "    i = 2\n",
    "    \n",
    "    # While loop to construct the string up to length n\n",
    "    while len(s) < n:\n",
    "        # Look at the number at the i-th index of s to see how many times\n",
    "        # to append the next character\n",
    "        num_to_append = int(s[i])\n",
    "        \n",
    "        # Determine what the next character to append is ('1' or '2')\n",
    "        next_char = '1' if s[-1] == '2' else '2'\n",
    "        \n",
    "        # Append next_char num_to_append times\n",
    "        s.extend([next_char] * num_to_append)\n",
    "        \n",
    "        # Update the count of '1's if next_char is '1'\n",
    "        if next_char == '1':\n",
    "            count_ones += num_to_append\n",
    "            \n",
    "        # Move the pointer i to the next position\n",
    "        i += 1\n",
    "    \n",
    "    # If s has more than n characters, count how many '1's are among the first n characters\n",
    "    return sum(1 for c in s[:n] if c == '1')\n",
    "\n",
    "# Test the function with the provided examples\n",
    "print(magical_string(6))  # Output should be 3\n",
    "print(magical_string(1))  # Output should be 1"
   ]
  },
  {
   "cell_type": "code",
   "execution_count": null,
   "id": "b4b94655",
   "metadata": {},
   "outputs": [],
   "source": []
  }
 ],
 "metadata": {
  "kernelspec": {
   "display_name": "Python 3",
   "language": "python",
   "name": "python3"
  },
  "language_info": {
   "codemirror_mode": {
    "name": "ipython",
    "version": 3
   },
   "file_extension": ".py",
   "mimetype": "text/x-python",
   "name": "python",
   "nbconvert_exporter": "python",
   "pygments_lexer": "ipython3",
   "version": "3.9.13"
  }
 },
 "nbformat": 4,
 "nbformat_minor": 5
}
