{
 "cells": [
  {
   "cell_type": "markdown",
   "id": "626ee3ae",
   "metadata": {},
   "source": [
    "# K Inverse Pairs Array"
   ]
  },
  {
   "cell_type": "markdown",
   "id": "a1df03d5",
   "metadata": {},
   "source": [
    "For an integer array nums, an inverse pair is a pair of integers [i, j] where 0 <= i < j < nums.length and nums[i] > nums[j].\n",
    "\n",
    "Given two integers n and k, return the number of different arrays consist of numbers from 1 to n such that there are exactly k inverse pairs. Since the answer can be huge, return it modulo 109 + 7.\n",
    "\n",
    " \n",
    "\n",
    "**Example 1:**\n",
    "\n",
    "Input: n = 3, k = 0\n",
    "\n",
    "Output: 1\n",
    "\n",
    "Explanation: Only the array [1,2,3] which consists of numbers from 1 to 3 has exactly 0 inverse pairs.\n",
    "\n",
    "**Example 2:**\n",
    "\n",
    "Input: n = 3, k = 1\n",
    "\n",
    "Output: 2\n",
    "\n",
    "Explanation: The array [1,3,2] and [2,1,3] have exactly 1 inverse pair.\n",
    " \n",
    "\n",
    "**Constraints:**\n",
    "\n",
    "- 1 <= n <= 1000\n",
    "- 0 <= k <= 1000"
   ]
  },
  {
   "cell_type": "code",
   "execution_count": 1,
   "id": "69b8ada9",
   "metadata": {},
   "outputs": [
    {
     "data": {
      "text/plain": [
       "(1, 2)"
      ]
     },
     "execution_count": 1,
     "metadata": {},
     "output_type": "execute_result"
    }
   ],
   "source": [
    "def countArrangement(n, k):\n",
    "    MOD = 10**9 + 7\n",
    "    dp = [[0 for _ in range(k+1)] for _ in range(n+1)]\n",
    "    dp[0][0] = 1\n",
    "\n",
    "    for i in range(1, n+1):\n",
    "        for j in range(k+1):\n",
    "            val = 0\n",
    "            for p in range(min(j, i-1)+1):\n",
    "                val += dp[i-1][j-p]\n",
    "                val %= MOD\n",
    "            dp[i][j] = val\n",
    "\n",
    "    return dp[n][k]\n",
    "\n",
    "# Test the function with the provided examples\n",
    "example1 = countArrangement(3, 0)  # Expected output: 1\n",
    "example2 = countArrangement(3, 1)  # Expected output: 2\n",
    "\n",
    "example1, example2"
   ]
  }
 ],
 "metadata": {
  "kernelspec": {
   "display_name": "Python 3",
   "language": "python",
   "name": "python3"
  },
  "language_info": {
   "codemirror_mode": {
    "name": "ipython",
    "version": 3
   },
   "file_extension": ".py",
   "mimetype": "text/x-python",
   "name": "python",
   "nbconvert_exporter": "python",
   "pygments_lexer": "ipython3",
   "version": "3.9.13"
  }
 },
 "nbformat": 4,
 "nbformat_minor": 5
}
