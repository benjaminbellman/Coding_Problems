{
 "cells": [
  {
   "cell_type": "markdown",
   "id": "e8632318",
   "metadata": {},
   "source": [
    "# 3 Sum"
   ]
  },
  {
   "cell_type": "markdown",
   "id": "331ed4c8",
   "metadata": {},
   "source": [
    "https://leetcode.com/problems/3sum/"
   ]
  },
  {
   "cell_type": "markdown",
   "id": "d4088f14",
   "metadata": {},
   "source": [
    "Given an integer array nums, return all the triplets [nums[i], nums[j], nums[k]] such that i != j, i != k, and j != k, and nums[i] + nums[j] + nums[k] == 0.\n",
    "\n",
    "Notice that the solution set must not contain duplicate triplets.\n",
    "\n",
    " \n",
    "\n",
    "**Example 1:**\n",
    "\n",
    "Input: nums = [-1,0,1,2,-1,-4]\n",
    "Output: [[-1,-1,2],[-1,0,1]]\n",
    "Explanation: \n",
    "nums[0] + nums[1] + nums[2] = (-1) + 0 + 1 = 0.\n",
    "nums[1] + nums[2] + nums[4] = 0 + 1 + (-1) = 0.\n",
    "nums[0] + nums[3] + nums[4] = (-1) + 2 + (-1) = 0.\n",
    "The distinct triplets are [-1,0,1] and [-1,-1,2].\n",
    "Notice that the order of the output and the order of the triplets does not matter.\n",
    "\n",
    "**Example 2:**\n",
    "\n",
    "Input: nums = [0,1,1]\n",
    "Output: []\n",
    "Explanation: The only possible triplet does not sum up to 0.\n",
    "\n",
    "**Example 3:**\n",
    "\n",
    "Input: nums = [0,0,0]\n",
    "Output: [[0,0,0]]\n",
    "Explanation: The only possible triplet sums up to 0.\n",
    " \n",
    "\n",
    "Constraints:\n",
    "\n",
    "3 <= nums.length <= 3000\n",
    "-105 <= nums[i] <= 105"
   ]
  },
  {
   "cell_type": "code",
   "execution_count": 1,
   "id": "cbcc60c6",
   "metadata": {},
   "outputs": [],
   "source": [
    "def triplet_sum_to_zero(nums):\n",
    "    # sort the array\n",
    "    nums.sort()\n",
    "\n",
    "    triplets = []\n",
    "    n = len(nums)\n",
    "\n",
    "    # iterate over the array\n",
    "    for i in range(n-2):\n",
    "        # skip this number if it is the same as the previous number\n",
    "        if i > 0 and nums[i] == nums[i-1]:\n",
    "            continue\n",
    "\n",
    "        # initialize left and right pointers\n",
    "        left = i + 1\n",
    "        right = n - 1\n",
    "\n",
    "        # iterate until the left pointer is less than the right pointer\n",
    "        while left < right:\n",
    "            # if the sum of the three numbers is zero, add the triplet to the list of triplets\n",
    "            if nums[i] + nums[left] + nums[right] == 0:\n",
    "                triplets.append([nums[i], nums[left], nums[right]])\n",
    "\n",
    "                # skip the current number and move to the next one on the left\n",
    "                left += 1\n",
    "                while left < right and nums[left] == nums[left-1]:\n",
    "                    left += 1\n",
    "\n",
    "                # skip the current number and move to the next one on the right\n",
    "                right -= 1\n",
    "                while left < right and nums[right] == nums[right+1]:\n",
    "                    right -= 1\n",
    "            # if the sum of the three numbers is less than zero, move to the next number on the left\n",
    "            elif nums[i] + nums[left] + nums[right] < 0:\n",
    "                left += 1\n",
    "            # if the sum of the three numbers is greater than zero, move to the next number on the right\n",
    "            else:\n",
    "                right -= 1\n",
    "\n",
    "    return triplets"
   ]
  },
  {
   "cell_type": "code",
   "execution_count": 2,
   "id": "e5db8f3e",
   "metadata": {},
   "outputs": [
    {
     "name": "stdout",
     "output_type": "stream",
     "text": [
      "[[-1, -1, 2], [-1, 0, 1]]\n",
      "[]\n"
     ]
    }
   ],
   "source": [
    "nums = [-1, 0, 1, 2, -1, -4]\n",
    "print(triplet_sum_to_zero(nums))  # [[-1,-1,2],[-1,0,1]]\n",
    "\n",
    "nums = [0, 1, 1]\n",
    "print(triplet_sum_to_zero(nums))  # []"
   ]
  },
  {
   "cell_type": "code",
   "execution_count": null,
   "id": "4a34ceaf",
   "metadata": {},
   "outputs": [],
   "source": []
  }
 ],
 "metadata": {
  "kernelspec": {
   "display_name": "Python 3",
   "language": "python",
   "name": "python3"
  },
  "language_info": {
   "codemirror_mode": {
    "name": "ipython",
    "version": 3
   },
   "file_extension": ".py",
   "mimetype": "text/x-python",
   "name": "python",
   "nbconvert_exporter": "python",
   "pygments_lexer": "ipython3",
   "version": "3.9.13"
  }
 },
 "nbformat": 4,
 "nbformat_minor": 5
}
