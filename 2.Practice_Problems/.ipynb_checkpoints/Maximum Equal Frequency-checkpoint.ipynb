{
 "cells": [
  {
   "cell_type": "markdown",
   "id": "6741a5e7",
   "metadata": {},
   "source": [
    "# Maximum Equal Frequency"
   ]
  },
  {
   "cell_type": "markdown",
   "id": "b5473597",
   "metadata": {},
   "source": [
    "Given an array nums of positive integers, return the longest possible length of an array prefix of nums, such that it is possible to remove exactly one element from this prefix so that every number that has appeared in it will have the same number of occurrences.\n",
    "\n",
    "If after removing one element there are no remaining elements, it's still considered that every appeared number has the same number of ocurrences (0).\n",
    "\n",
    "**Example 1:**\n",
    "\n",
    "Input: nums = [2,2,1,1,5,3,3,5]\n",
    "Output: 7\n",
    "Explanation: For the subarray [2,2,1,1,5,3,3] of length 7, if we remove nums[4] = 5, we will get [2,2,1,1,3,3], so that each number will appear exactly twice.\n",
    "\n",
    "**Example 2:**\n",
    "\n",
    "Input: nums = [1,1,1,2,2,2,3,3,3,4,4,4,5]\n",
    "Output: 13\n",
    " \n",
    "**Constraints:**\n",
    "\n",
    "- 2 <= nums.length <= 105\n",
    "- 1 <= nums[i] <= 105"
   ]
  },
  {
   "cell_type": "code",
   "execution_count": 1,
   "id": "4f6a8f68",
   "metadata": {},
   "outputs": [],
   "source": [
    "from collections import defaultdict\n",
    "\n",
    "def maxEqualFreq(nums):\n",
    "    count = defaultdict(int)  # num -> count\n",
    "    freq = defaultdict(int)   # count -> number of nums with that count\n",
    "    max_freq = 0\n",
    "    result = 0\n",
    "\n",
    "    for i, num in enumerate(nums):\n",
    "        if count[num] > 0:\n",
    "            freq[count[num]] -= 1\n",
    "        count[num] += 1\n",
    "        freq[count[num]] += 1\n",
    "        max_freq = max(max_freq, count[num])\n",
    "\n",
    "        total = i + 1\n",
    "\n",
    "        if (\n",
    "            max_freq == 1 or\n",
    "            (freq[max_freq] * max_freq + freq[max_freq - 1] * (max_freq - 1) == total and freq[max_freq] == 1) or\n",
    "            (freq[max_freq] * max_freq + 1 == total and freq[1] == 1)\n",
    "        ):\n",
    "            result = total\n",
    "\n",
    "    return result"
   ]
  },
  {
   "cell_type": "code",
   "execution_count": null,
   "id": "292647fd",
   "metadata": {},
   "outputs": [],
   "source": []
  }
 ],
 "metadata": {
  "kernelspec": {
   "display_name": "Python 3 (ipykernel)",
   "language": "python",
   "name": "python3"
  },
  "language_info": {
   "codemirror_mode": {
    "name": "ipython",
    "version": 3
   },
   "file_extension": ".py",
   "mimetype": "text/x-python",
   "name": "python",
   "nbconvert_exporter": "python",
   "pygments_lexer": "ipython3",
   "version": "3.8.11"
  }
 },
 "nbformat": 4,
 "nbformat_minor": 5
}
