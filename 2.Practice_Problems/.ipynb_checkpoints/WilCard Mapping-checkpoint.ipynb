{
 "cells": [
  {
   "cell_type": "markdown",
   "id": "4b9de4c5",
   "metadata": {},
   "source": [
    "# Wilcard Matching"
   ]
  },
  {
   "cell_type": "markdown",
   "id": "6aa899d6",
   "metadata": {},
   "source": [
    "Given an input string (s) and a pattern (p), implement wildcard pattern matching with support for '?' and '*' where:\n",
    "\n",
    "'?' Matches any single character.\n",
    "'*' Matches any sequence of characters (including the empty sequence).\n",
    "The matching should cover the entire input string (not partial).\n",
    "\n",
    " \n",
    "\n",
    "**Example 1:**\n",
    "\n",
    "Input: s = \"aa\", p = \"a\"\n",
    "Output: false\n",
    "Explanation: \"a\" does not match the entire string \"aa\".\n",
    "\n",
    "**Example 2:**\n",
    "\n",
    "Input: s = \"aa\", p = \"*\"\n",
    "Output: true\n",
    "Explanation: '*' matches any sequence.\n",
    "\n",
    "**Example 3:**\n",
    "\n",
    "Input: s = \"cb\", p = \"?a\"\n",
    "Output: false\n",
    "Explanation: '?' matches 'c', but the second letter is 'a', which does not match 'b'.\n",
    " \n",
    "\n",
    "**Constraints:****\n",
    "\n",
    "0 <= s.length, p.length <= 2000\n",
    "s contains only lowercase English letters.\n",
    "p contains only lowercase English letters, '?' or '*'."
   ]
  },
  {
   "cell_type": "code",
   "execution_count": 1,
   "id": "0aa62597",
   "metadata": {},
   "outputs": [
    {
     "name": "stdout",
     "output_type": "stream",
     "text": [
      "False\n",
      "True\n",
      "False\n"
     ]
    }
   ],
   "source": [
    "def match(s, p):\n",
    "  # Check if the string and pattern are empty\n",
    "  if len(s) == 0 and len(p) == 0:\n",
    "    return True\n",
    "\n",
    "  # Check if the pattern is empty\n",
    "  if len(p) == 0:\n",
    "    return False\n",
    "\n",
    "  # If the pattern is not empty, check the first character\n",
    "  if p[0] == '*':\n",
    "    # If the first character is a '*', try matching the rest of the pattern\n",
    "    # with the rest of the string, or with the empty string\n",
    "    return match(s, p[1:]) or match(s[1:], p)\n",
    "  elif p[0] == '?' or s[0] == p[0]:\n",
    "    # If the first character is a '?', or if the first characters of the\n",
    "    # string and pattern match, try matching the rest of the string and pattern\n",
    "    return match(s[1:], p[1:])\n",
    "  else:\n",
    "    # If the first characters of the string and pattern do not match, return false\n",
    "    return False\n",
    "\n",
    "# Test the match() function\n",
    "s1 = \"aa\"\n",
    "p1 = \"a\"\n",
    "print(match(s1, p1)) # should print False\n",
    "\n",
    "s2 = \"aa\"\n",
    "p2 = \"*\"\n",
    "print(match(s2, p2)) # should print True\n",
    "\n",
    "s3 = \"cb\"\n",
    "p3 = \"?a\"\n",
    "print(match(s3, p3)) # should print False\n"
   ]
  },
  {
   "cell_type": "code",
   "execution_count": null,
   "id": "f4a39da0",
   "metadata": {},
   "outputs": [],
   "source": []
  }
 ],
 "metadata": {
  "kernelspec": {
   "display_name": "Python 3",
   "language": "python",
   "name": "python3"
  },
  "language_info": {
   "codemirror_mode": {
    "name": "ipython",
    "version": 3
   },
   "file_extension": ".py",
   "mimetype": "text/x-python",
   "name": "python",
   "nbconvert_exporter": "python",
   "pygments_lexer": "ipython3",
   "version": "3.9.13"
  }
 },
 "nbformat": 4,
 "nbformat_minor": 5
}
