{
 "cells": [
  {
   "cell_type": "markdown",
   "id": "0da8d389",
   "metadata": {},
   "source": [
    "# Zigzag Conversion 2"
   ]
  },
  {
   "cell_type": "markdown",
   "id": "00bf3c1c",
   "metadata": {},
   "source": [
    "The string \"PAYPALISHIRING\" is written in a zigzag pattern on a given number of rows like this: (you may want to display this pattern in a fixed font for better legibility)\n",
    "\n",
    "P   A   H   N\n",
    "A P L S I I G\n",
    "Y   I   R\n",
    "And then read line by line: \"PAHNAPLSIIGYIR\"\n",
    "\n",
    "Write the code that will take a string and make this conversion given a number of rows:\n",
    "\n",
    "string convert(string s, int numRows);\n",
    " \n",
    "**Example 1:**\n",
    "\n",
    "Input: s = \"PAYPALISHIRING\", numRows = 3\n",
    "Output: \"PAHNAPLSIIGYIR\"\n",
    "\n",
    "**Example 2:**\n",
    "\n",
    "Input: s = \"PAYPALISHIRING\", numRows = 4\n",
    "Output: \"PINALSIGYAHRPI\"\n",
    "Explanation:\n",
    "P     I    N\n",
    "A   L S  I G\n",
    "Y A   H R\n",
    "P     I\n",
    "\n",
    "**Example 3:**\n",
    "\n",
    "Input: s = \"A\", numRows = 1\n",
    "Output: \"A\"\n",
    " \n",
    "**Constraints:**\n",
    "\n",
    "- 1 <= s.length <= 1000\n",
    "- s consists of English letters (lower-case and upper-case), ',' and '.'.\n",
    "- 1 <= numRows <= 1000"
   ]
  },
  {
   "cell_type": "code",
   "execution_count": 4,
   "id": "a806c550",
   "metadata": {},
   "outputs": [],
   "source": [
    "def convert(s: str, numRows: int) -> str:\n",
    "    if numRows == 1 or numRows >= len(s):\n",
    "        return s\n",
    "\n",
    "    rows = [''] * numRows\n",
    "    current_row = 0\n",
    "    going_down = False\n",
    "\n",
    "    for c in s:\n",
    "        rows[current_row] += c\n",
    "        # Change direction at the top or bottom row\n",
    "        if current_row == 0 or current_row == numRows - 1:\n",
    "            going_down = not going_down\n",
    "        current_row += 1 if going_down else -1\n",
    "\n",
    "    return ''.join(rows)"
   ]
  },
  {
   "cell_type": "code",
   "execution_count": 3,
   "id": "52bc2251",
   "metadata": {},
   "outputs": [
    {
     "name": "stdout",
     "output_type": "stream",
     "text": [
      "PAHNAPLSIIGYIR\n",
      "PINALSIGYAHRPI\n",
      "A\n"
     ]
    }
   ],
   "source": [
    "print(convert(\"PAYPALISHIRING\", 3))  # Output: \"PAHNAPLSIIGYIR\"\n",
    "print(convert(\"PAYPALISHIRING\", 4))  # Output: \"PINALSIGYAHRPI\"\n",
    "print(convert(\"A\", 1))               # Output: \"A\""
   ]
  }
 ],
 "metadata": {
  "kernelspec": {
   "display_name": "Python 3 (ipykernel)",
   "language": "python",
   "name": "python3"
  },
  "language_info": {
   "codemirror_mode": {
    "name": "ipython",
    "version": 3
   },
   "file_extension": ".py",
   "mimetype": "text/x-python",
   "name": "python",
   "nbconvert_exporter": "python",
   "pygments_lexer": "ipython3",
   "version": "3.8.11"
  }
 },
 "nbformat": 4,
 "nbformat_minor": 5
}
