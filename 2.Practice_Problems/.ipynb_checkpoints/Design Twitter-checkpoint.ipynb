{
 "cells": [
  {
   "cell_type": "markdown",
   "id": "db00647a",
   "metadata": {},
   "source": [
    "# Design Twitter"
   ]
  },
  {
   "cell_type": "markdown",
   "id": "a750d405",
   "metadata": {},
   "source": [
    "Design a simplified version of Twitter where users can post tweets, follow/unfollow another user, and is able to see the 10 most recent tweets in the user's news feed.\n",
    "\n",
    "Implement the Twitter class:\n",
    "\n",
    "Twitter() Initializes your twitter object.\n",
    "void postTweet(int userId, int tweetId) Composes a new tweet with ID tweetId by the user userId. Each call to this function will be made with a unique tweetId.\n",
    "List<Integer> getNewsFeed(int userId) Retrieves the 10 most recent tweet IDs in the user's news feed. Each item in the news feed must be posted by users who the user followed or by the user themself. Tweets must be ordered from most recent to least recent.\n",
    "void follow(int followerId, int followeeId) The user with ID followerId started following the user with ID followeeId.\n",
    "void unfollow(int followerId, int followeeId) The user with ID followerId started unfollowing the user with ID followeeId.\n",
    " \n",
    "\n",
    "**Example 1:**\n",
    "\n",
    "Input\n",
    "\n",
    "    [\"Twitter\", \"postTweet\", \"getNewsFeed\", \"follow\", \"postTweet\", \"getNewsFeed\", \"unfollow\", \"getNewsFeed\"]\n",
    "\n",
    "    [[], [1, 5], [1], [1, 2], [2, 6], [1], [1, 2], [1]]\n",
    "    \n",
    "Output\n",
    "\n",
    "    [null, null, [5], null, null, [6, 5], null, [5]]\n",
    "\n",
    "**Explanation**\n",
    "Twitter twitter = new Twitter();\n",
    "twitter.postTweet(1, 5); // User 1 posts a new tweet (id = 5).\n",
    "twitter.getNewsFeed(1);  // User 1's news feed should return a list with 1 tweet id -> [5]. return [5]\n",
    "twitter.follow(1, 2);    // User 1 follows user 2.\n",
    "twitter.postTweet(2, 6); // User 2 posts a new tweet (id = 6).\n",
    "twitter.getNewsFeed(1);  // User 1's news feed should return a list with 2 tweet ids -> [6, 5]. Tweet id 6 should precede tweet id 5 because it is posted after tweet id 5.\n",
    "twitter.unfollow(1, 2);  // User 1 unfollows user 2.\n",
    "twitter.getNewsFeed(1);  // User 1's news feed should return a list with 1 tweet id -> [5], since user 1 is no longer following user 2.\n",
    " \n",
    "\n",
    "**Constraints:**\n",
    "\n",
    "1 <= userId, followerId, followeeId <= 500\n",
    "0 <= tweetId <= 104\n",
    "All the tweets have unique IDs.\n",
    "At most 3 * 104 calls will be made to postTweet, getNewsFeed, follow, and unfollow."
   ]
  },
  {
   "cell_type": "code",
   "execution_count": 3,
   "id": "6dfef202",
   "metadata": {},
   "outputs": [],
   "source": [
    "from collections import defaultdict, deque\n",
    "from itertools import islice\n",
    "\n",
    "\n",
    "class Twitter:\n",
    "    def __init__(self):\n",
    "        self.tweets = defaultdict(deque)\n",
    "        self.followees = defaultdict(set)\n",
    "        self.timestamp = 0\n",
    "\n",
    "    def postTweet(self, userId, tweetId):\n",
    "        self.timestamp += 1\n",
    "        self.tweets[userId].appendleft((self.timestamp, tweetId))\n",
    "\n",
    "    def getNewsFeed(self, userId):\n",
    "        tweets = deque(sorted(\n",
    "            [tweet for user in self.followees[userId] | {userId} for tweet in self.tweets[user]],\n",
    "            key=lambda x: x[0],\n",
    "            reverse=True\n",
    "        ))\n",
    "\n",
    "        return [tweet[1] for tweet in islice(tweets, 10)]\n",
    "\n",
    "    def follow(self, followerId, followeeId):\n",
    "        if followerId != followeeId:\n",
    "            self.followees[followerId].add(followeeId)\n",
    "\n",
    "    def unfollow(self, followerId, followeeId):\n",
    "        self.followees[followerId].discard(followeeId)"
   ]
  },
  {
   "cell_type": "code",
   "execution_count": 4,
   "id": "c072b6f0",
   "metadata": {},
   "outputs": [
    {
     "name": "stdout",
     "output_type": "stream",
     "text": [
      "[5]\n",
      "[6, 5]\n",
      "[5]\n"
     ]
    }
   ],
   "source": [
    "twitter = Twitter()\n",
    "twitter.postTweet(1, 5)\n",
    "print(twitter.getNewsFeed(1))  # [5]\n",
    "twitter.follow(1, 2)\n",
    "twitter.postTweet(2, 6)\n",
    "print(twitter.getNewsFeed(1))  # [6, 5]\n",
    "twitter.unfollow(1, 2)\n",
    "print(twitter.getNewsFeed(1))  # [5]"
   ]
  },
  {
   "cell_type": "code",
   "execution_count": null,
   "id": "3eb1d09d",
   "metadata": {},
   "outputs": [],
   "source": []
  }
 ],
 "metadata": {
  "kernelspec": {
   "display_name": "Python 3",
   "language": "python",
   "name": "python3"
  },
  "language_info": {
   "codemirror_mode": {
    "name": "ipython",
    "version": 3
   },
   "file_extension": ".py",
   "mimetype": "text/x-python",
   "name": "python",
   "nbconvert_exporter": "python",
   "pygments_lexer": "ipython3",
   "version": "3.9.13"
  }
 },
 "nbformat": 4,
 "nbformat_minor": 5
}
