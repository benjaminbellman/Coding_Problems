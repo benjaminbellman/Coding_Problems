{
 "cells": [
  {
   "cell_type": "markdown",
   "id": "3c54b7fe",
   "metadata": {},
   "source": [
    "# Can Make Palindrome from Substring"
   ]
  },
  {
   "cell_type": "markdown",
   "id": "5361f74e",
   "metadata": {},
   "source": [
    "You are given a string s and array queries where queries[i] = [lefti, righti, ki]. We may rearrange the substring s[lefti...righti] for each query and then choose up to ki of them to replace with any lowercase English letter.\n",
    "\n",
    "If the substring is possible to be a palindrome string after the operations above, the result of the query is true. Otherwise, the result is false.\n",
    "\n",
    "Return a boolean array answer where answer[i] is the result of the ith query queries[i].\n",
    "\n",
    "Note that each letter is counted individually for replacement, so if, for example s[lefti...righti] = \"aaa\", and ki = 2, we can only replace two of the letters. Also, note that no query modifies the initial string s.\n",
    "\n",
    "**Example 1:**\n",
    "\n",
    "Input: s = \"abcda\", queries = [[3,3,0],[1,2,0],[0,3,1],[0,3,2],[0,4,1]]\n",
    "Output: [true,false,false,true,true]\n",
    "Explanation:\n",
    "queries[0]: substring = \"d\", is palidrome.\n",
    "queries[1]: substring = \"bc\", is not palidrome.\n",
    "queries[2]: substring = \"abcd\", is not palidrome after replacing only 1 character.\n",
    "queries[3]: substring = \"abcd\", could be changed to \"abba\" which is palidrome. Also this can be changed to \"baab\" first rearrange it \"bacd\" then replace \"cd\" with \"ab\".\n",
    "queries[4]: substring = \"abcda\", could be changed to \"abcba\" which is palidrome.\n",
    "\n",
    "**Example 2:**\n",
    "\n",
    "Input: s = \"lyb\", queries = [[0,1,0],[2,2,1]]\n",
    "Output: [false,true]\n",
    " \n",
    "**Constraints:**\n",
    "\n",
    "- 1 <= s.length, queries.length <= 105\n",
    "- 0 <= lefti <= righti < s.length\n",
    "- 0 <= ki <= s.length\n",
    "- s consists of lowercase English letters."
   ]
  },
  {
   "cell_type": "code",
   "execution_count": 1,
   "id": "c8fb06a8",
   "metadata": {},
   "outputs": [],
   "source": [
    "from typing import List\n",
    "\n",
    "def canMakePalindromeQueries(s: str, queries: List[List[int]]) -> List[bool]:\n",
    "    n = len(s)\n",
    "    prefix = [[0] * 26 for _ in range(n + 1)]  # Prefix frequency array\n",
    "\n",
    "    # Build prefix frequency array\n",
    "    for i in range(n):\n",
    "        prefix[i + 1] = prefix[i][:]  # Copy previous frequencies\n",
    "        prefix[i + 1][ord(s[i]) - ord('a')] += 1  # Update current character count\n",
    "\n",
    "    result = []\n",
    "    \n",
    "    # Process each query\n",
    "    for left, right, k in queries:\n",
    "        # Compute character frequencies in range [left, right]\n",
    "        char_freq = [prefix[right + 1][c] - prefix[left][c] for c in range(26)]\n",
    "        \n",
    "        # Count characters with odd frequency\n",
    "        odd_count = sum(1 for count in char_freq if count % 2 == 1)\n",
    "        \n",
    "        # Check if it can be converted to a palindrome\n",
    "        result.append(odd_count // 2 <= k)\n",
    "\n",
    "    return result"
   ]
  },
  {
   "cell_type": "code",
   "execution_count": null,
   "id": "e18b1b63",
   "metadata": {},
   "outputs": [],
   "source": []
  }
 ],
 "metadata": {
  "kernelspec": {
   "display_name": "Python 3 (ipykernel)",
   "language": "python",
   "name": "python3"
  },
  "language_info": {
   "codemirror_mode": {
    "name": "ipython",
    "version": 3
   },
   "file_extension": ".py",
   "mimetype": "text/x-python",
   "name": "python",
   "nbconvert_exporter": "python",
   "pygments_lexer": "ipython3",
   "version": "3.8.11"
  }
 },
 "nbformat": 4,
 "nbformat_minor": 5
}
