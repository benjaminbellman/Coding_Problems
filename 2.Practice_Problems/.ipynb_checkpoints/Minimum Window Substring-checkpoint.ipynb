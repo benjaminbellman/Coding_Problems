{
 "cells": [
  {
   "cell_type": "markdown",
   "id": "86588d79",
   "metadata": {},
   "source": [
    "# Minimum Window Substring"
   ]
  },
  {
   "cell_type": "markdown",
   "id": "c46dd5e3",
   "metadata": {},
   "source": [
    "Given two strings s and t of lengths m and n respectively, return the minimum window substring of s such that every character in t (including duplicates) is included in the window. If there is no such substring, return the empty string \"\".\n",
    "\n",
    "The testcases will be generated such that the answer is unique.\n",
    "\n",
    "**Example 1:**\n",
    "\n",
    "Input: s = \"ADOBECODEBANC\", t = \"ABC\"\n",
    "Output: \"BANC\"\n",
    "Explanation: The minimum window substring \"BANC\" includes 'A', 'B', and 'C' from string t.\n",
    "\n",
    "**Example 2:**\n",
    "\n",
    "Input: s = \"a\", t = \"a\"\n",
    "Output: \"a\"\n",
    "Explanation: The entire string s is the minimum window.\n",
    "\n",
    "**Example 3:**\n",
    "\n",
    "Input: s = \"a\", t = \"aa\"\n",
    "Output: \"\"\n",
    "Explanation: Both 'a's from t must be included in the window.\n",
    "Since the largest window of s only has one 'a', return empty string.\n",
    " \n",
    "**Constraints:**\n",
    "\n",
    "- m == s.length\n",
    "- n == t.length\n",
    "- 1 <= m, n <= 105\n",
    "- s and t consist of uppercase and lowercase English letters."
   ]
  },
  {
   "cell_type": "code",
   "execution_count": 1,
   "id": "f4ecca75",
   "metadata": {},
   "outputs": [],
   "source": [
    "from collections import Counter, defaultdict\n",
    "\n",
    "def min_window(s: str, t: str) -> str:\n",
    "    if not s or not t:\n",
    "        return \"\"\n",
    "    \n",
    "    t_count = Counter(t)\n",
    "    window_count = defaultdict(int)\n",
    "    \n",
    "    have, need = 0, len(t_count)\n",
    "    res, res_len = [-1, -1], float('inf')\n",
    "    l = 0\n",
    "    \n",
    "    for r in range(len(s)):\n",
    "        char = s[r]\n",
    "        window_count[char] += 1\n",
    "        \n",
    "        if char in t_count and window_count[char] == t_count[char]:\n",
    "            have += 1\n",
    "        \n",
    "        while have == need:\n",
    "            # Update result if smaller window is found\n",
    "            if (r - l + 1) < res_len:\n",
    "                res = [l, r]\n",
    "                res_len = r - l + 1\n",
    "            \n",
    "            # Pop from the left of the window\n",
    "            window_count[s[l]] -= 1\n",
    "            if s[l] in t_count and window_count[s[l]] < t_count[s[l]]:\n",
    "                have -= 1\n",
    "            l += 1\n",
    "    \n",
    "    l, r = res\n",
    "    return s[l:r+1] if res_len != float('inf') else \"\""
   ]
  },
  {
   "cell_type": "code",
   "execution_count": null,
   "id": "3a90803f",
   "metadata": {},
   "outputs": [],
   "source": []
  }
 ],
 "metadata": {
  "kernelspec": {
   "display_name": "Python 3 (ipykernel)",
   "language": "python",
   "name": "python3"
  },
  "language_info": {
   "codemirror_mode": {
    "name": "ipython",
    "version": 3
   },
   "file_extension": ".py",
   "mimetype": "text/x-python",
   "name": "python",
   "nbconvert_exporter": "python",
   "pygments_lexer": "ipython3",
   "version": "3.8.11"
  }
 },
 "nbformat": 4,
 "nbformat_minor": 5
}
