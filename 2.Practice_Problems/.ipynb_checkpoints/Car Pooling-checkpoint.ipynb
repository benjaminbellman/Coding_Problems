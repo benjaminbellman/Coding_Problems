{
 "cells": [
  {
   "cell_type": "markdown",
   "id": "00ba4f53",
   "metadata": {},
   "source": [
    "# Car Pooling"
   ]
  },
  {
   "cell_type": "markdown",
   "id": "357a676b",
   "metadata": {},
   "source": [
    "There is a car with capacity empty seats. The vehicle only drives east (i.e., it cannot turn around and drive west).\n",
    "\n",
    "You are given the integer capacity and an array trips where trips[i] = [numPassengersi, fromi, toi] indicates that the ith trip has numPassengersi passengers and the locations to pick them up and drop them off are fromi and toi respectively. The locations are given as the number of kilometers due east from the car's initial location.\n",
    "\n",
    "Return true if it is possible to pick up and drop off all passengers for all the given trips, or false otherwise.\n",
    "\n",
    "**Example 1:**\n",
    "\n",
    "Input: trips = [[2,1,5],[3,3,7]], capacity = 4\n",
    "Output: false\n",
    "\n",
    "**Example 2:**\n",
    "\n",
    "Input: trips = [[2,1,5],[3,3,7]], capacity = 5\n",
    "Output: true\n",
    " \n",
    "**Constraints:**\n",
    "\n",
    "- 1 <= trips.length <= 1000\n",
    "- trips[i].length == 3\n",
    "- 1 <= numPassengersi <= 100\n",
    "- 0 <= fromi < toi <= 1000\n",
    "- 1 <= capacity <= 105"
   ]
  },
  {
   "cell_type": "code",
   "execution_count": 1,
   "id": "67830cc5",
   "metadata": {},
   "outputs": [],
   "source": [
    "def carPooling(trips, capacity):\n",
    "    # Create an array to store changes in passengers at each location\n",
    "    changes = [0] * 1001  # Since locations range from 0 to 1000\n",
    "    \n",
    "    # Populate changes array\n",
    "    for numPassengers, from_, to in trips:\n",
    "        changes[from_] += numPassengers\n",
    "        changes[to] -= numPassengers\n",
    "    \n",
    "    # Simulate the journey and check capacity\n",
    "    current_passengers = 0\n",
    "    for passengers_change in changes:\n",
    "        current_passengers += passengers_change\n",
    "        if current_passengers > capacity:\n",
    "            return False\n",
    "    \n",
    "    return True"
   ]
  },
  {
   "cell_type": "code",
   "execution_count": null,
   "id": "115f2f6d",
   "metadata": {},
   "outputs": [],
   "source": []
  }
 ],
 "metadata": {
  "kernelspec": {
   "display_name": "Python 3 (ipykernel)",
   "language": "python",
   "name": "python3"
  },
  "language_info": {
   "codemirror_mode": {
    "name": "ipython",
    "version": 3
   },
   "file_extension": ".py",
   "mimetype": "text/x-python",
   "name": "python",
   "nbconvert_exporter": "python",
   "pygments_lexer": "ipython3",
   "version": "3.8.11"
  }
 },
 "nbformat": 4,
 "nbformat_minor": 5
}
