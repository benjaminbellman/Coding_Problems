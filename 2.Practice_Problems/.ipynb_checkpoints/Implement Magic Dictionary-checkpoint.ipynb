{
 "cells": [
  {
   "cell_type": "markdown",
   "id": "c1bf152e",
   "metadata": {},
   "source": [
    "# Implement Magic Dictionary"
   ]
  },
  {
   "cell_type": "markdown",
   "id": "0edc4cf6",
   "metadata": {},
   "source": [
    "Design a data structure that is initialized with a list of different words. Provided a string, you should determine if you can change exactly one character in this string to match any word in the data structure.\n",
    "\n",
    "Implement the MagicDictionary class:\n",
    "\n",
    "MagicDictionary() Initializes the object.\n",
    "void buildDict(String[] dictionary) Sets the data structure with an array of distinct strings dictionary.\n",
    "bool search(String searchWord) Returns true if you can change exactly one character in searchWord to match any string in the data structure, otherwise returns false.\n",
    " \n",
    "\n",
    "**Example 1:**\n",
    "\n",
    "Input\n",
    "[\"MagicDictionary\", \"buildDict\", \"search\", \"search\", \"search\", \"search\"]\n",
    "[[], [[\"hello\", \"leetcode\"]], [\"hello\"], [\"hhllo\"], [\"hell\"], [\"leetcoded\"]]\n",
    "Output\n",
    "[null, null, false, true, false, false]\n",
    "\n",
    "Explanation\n",
    "MagicDictionary magicDictionary = new MagicDictionary();\n",
    "magicDictionary.buildDict([\"hello\", \"leetcode\"]);\n",
    "magicDictionary.search(\"hello\"); // return False\n",
    "magicDictionary.search(\"hhllo\"); // We can change the second 'h' to 'e' to match \"hello\" so we return True\n",
    "magicDictionary.search(\"hell\"); // return False\n",
    "magicDictionary.search(\"leetcoded\"); // return False\n",
    " \n",
    "\n",
    "**Constraints:**\n",
    "\n",
    "- 1 <= dictionary.length <= 100\n",
    "- 1 <= dictionary[i].length <= 100\n",
    "- dictionary[i] consists of only lower-case English letters.\n",
    "- All the strings in dictionary are distinct.\n",
    "- 1 <= searchWord.length <= 100\n",
    "- searchWord consists of only lower-case English letters.\n",
    "- buildDict will be called only once before search.\n",
    "- At most 100 calls will be made to search."
   ]
  },
  {
   "cell_type": "code",
   "execution_count": 1,
   "id": "6a9ae8c5",
   "metadata": {},
   "outputs": [],
   "source": [
    "class TrieNode:\n",
    "    def __init__(self):\n",
    "        self.children = {}\n",
    "        self.is_end_of_word = False\n",
    "\n",
    "class MagicDictionary:\n",
    "    def __init__(self):\n",
    "        self.root = TrieNode()\n",
    "\n",
    "    def buildDict(self, dictionary):\n",
    "        for word in dictionary:\n",
    "            self.insert(word)\n",
    "\n",
    "    def insert(self, word):\n",
    "        node = self.root\n",
    "        for char in word:\n",
    "            if char not in node.children:\n",
    "                node.children[char] = TrieNode()\n",
    "            node = node.children[char]\n",
    "        node.is_end_of_word = True\n",
    "\n",
    "    def search(self, searchWord):\n",
    "        return self.search_helper(self.root, searchWord, 0, 1)\n",
    "\n",
    "    def search_helper(self, node, searchWord, index, remaining_changes):\n",
    "        if index == len(searchWord):\n",
    "            return node.is_end_of_word and remaining_changes == 0\n",
    "\n",
    "        if remaining_changes < 0:\n",
    "            return False\n",
    "\n",
    "        char = searchWord[index]\n",
    "        for child_char, child_node in node.children.items():\n",
    "            if char == child_char:\n",
    "                if self.search_helper(child_node, searchWord, index + 1, remaining_changes):\n",
    "                    return True\n",
    "            elif remaining_changes > 0:\n",
    "                if self.search_helper(child_node, searchWord, index + 1, remaining_changes - 1):\n",
    "                    return True\n",
    "\n",
    "        return False"
   ]
  },
  {
   "cell_type": "code",
   "execution_count": 2,
   "id": "d6b36624",
   "metadata": {},
   "outputs": [
    {
     "name": "stdout",
     "output_type": "stream",
     "text": [
      "False\n",
      "True\n",
      "False\n",
      "False\n"
     ]
    }
   ],
   "source": [
    "magicDictionary = MagicDictionary()\n",
    "magicDictionary.buildDict([\"hello\", \"leetcode\"])\n",
    "print(magicDictionary.search(\"hello\"))      # Output: False\n",
    "print(magicDictionary.search(\"hhllo\"))      # Output: True\n",
    "print(magicDictionary.search(\"hell\"))       # Output: False\n",
    "print(magicDictionary.search(\"leetcoded\"))  # Output: False"
   ]
  },
  {
   "cell_type": "code",
   "execution_count": null,
   "id": "382b3204",
   "metadata": {},
   "outputs": [],
   "source": []
  }
 ],
 "metadata": {
  "kernelspec": {
   "display_name": "Python 3",
   "language": "python",
   "name": "python3"
  },
  "language_info": {
   "codemirror_mode": {
    "name": "ipython",
    "version": 3
   },
   "file_extension": ".py",
   "mimetype": "text/x-python",
   "name": "python",
   "nbconvert_exporter": "python",
   "pygments_lexer": "ipython3",
   "version": "3.9.13"
  }
 },
 "nbformat": 4,
 "nbformat_minor": 5
}
