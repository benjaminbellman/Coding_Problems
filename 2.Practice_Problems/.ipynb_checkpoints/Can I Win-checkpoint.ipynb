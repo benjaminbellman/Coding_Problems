{
 "cells": [
  {
   "cell_type": "markdown",
   "id": "f98114ac",
   "metadata": {},
   "source": [
    "# Can I Win"
   ]
  },
  {
   "cell_type": "markdown",
   "id": "a72be864",
   "metadata": {},
   "source": [
    "In the \"100 game\" two players take turns adding, to a running total, any integer from 1 to 10. The player who first causes the running total to reach or exceed 100 wins.\n",
    "\n",
    "What if we change the game so that players cannot re-use integers?\n",
    "\n",
    "For example, two players might take turns drawing from a common pool of numbers from 1 to 15 without replacement until they reach a total >= 100.\n",
    "\n",
    "Given two integers maxChoosableInteger and desiredTotal, return true if the first player to move can force a win, otherwise, return false. Assume both players play optimally.\n",
    "\n",
    " \n",
    "\n",
    "**Example 1:**\n",
    "\n",
    "Input: maxChoosableInteger = 10, desiredTotal = 11\n",
    "Output: false\n",
    "Explanation:\n",
    "No matter which integer the first player choose, the first player will lose.\n",
    "The first player can choose an integer from 1 up to 10.\n",
    "If the first player choose 1, the second player can only choose integers from 2 up to 10.\n",
    "The second player will win by choosing 10 and get a total = 11, which is >= desiredTotal.\n",
    "Same with other integers chosen by the first player, the second player will always win.\n",
    "\n",
    "**Example 2:**\n",
    "\n",
    "Input: maxChoosableInteger = 10, desiredTotal = 0\n",
    "Output: true\n",
    "\n",
    "**Example 3:**\n",
    "\n",
    "Input: maxChoosableInteger = 10, desiredTotal = 1\n",
    "Output: true\n",
    " \n",
    "\n",
    "**Constraints:**\n",
    "\n",
    "- 1 <= maxChoosableInteger <= 20\n",
    "- 0 <= desiredTotal <= 300"
   ]
  },
  {
   "cell_type": "code",
   "execution_count": 1,
   "id": "e36ecc79",
   "metadata": {},
   "outputs": [
    {
     "name": "stdout",
     "output_type": "stream",
     "text": [
      "False\n",
      "True\n",
      "True\n"
     ]
    }
   ],
   "source": [
    "def canWin(maxChoosableInteger, desiredTotal):\n",
    "    if desiredTotal <= 0:\n",
    "        return True\n",
    "    \n",
    "    if (maxChoosableInteger * (maxChoosableInteger + 1)) // 2 < desiredTotal:\n",
    "        return False\n",
    "\n",
    "    memo = {}\n",
    "\n",
    "    def can_win_recursive(remaining, total):\n",
    "        if total >= desiredTotal:\n",
    "            return False\n",
    "\n",
    "        if tuple(remaining) in memo:\n",
    "            return memo[tuple(remaining)]\n",
    "\n",
    "        for i in range(len(remaining)):\n",
    "            if not can_win_recursive(remaining[:i] + remaining[i+1:], total + remaining[i]):\n",
    "                memo[tuple(remaining)] = True\n",
    "                return True\n",
    "        \n",
    "        memo[tuple(remaining)] = False\n",
    "        return False\n",
    "\n",
    "    return can_win_recursive(list(range(1, maxChoosableInteger + 1)), 0)\n",
    "\n",
    "# Test cases\n",
    "print(canWin(10, 11))  # Output: False\n",
    "print(canWin(10, 0))   # Output: True\n",
    "print(canWin(10, 1))   # Output: True"
   ]
  },
  {
   "cell_type": "code",
   "execution_count": null,
   "id": "df0a36f9",
   "metadata": {},
   "outputs": [],
   "source": []
  }
 ],
 "metadata": {
  "kernelspec": {
   "display_name": "Python 3",
   "language": "python",
   "name": "python3"
  },
  "language_info": {
   "codemirror_mode": {
    "name": "ipython",
    "version": 3
   },
   "file_extension": ".py",
   "mimetype": "text/x-python",
   "name": "python",
   "nbconvert_exporter": "python",
   "pygments_lexer": "ipython3",
   "version": "3.9.13"
  }
 },
 "nbformat": 4,
 "nbformat_minor": 5
}
