{
 "cells": [
  {
   "cell_type": "markdown",
   "id": "75a0308b",
   "metadata": {},
   "source": [
    "# Fair Candy Swap"
   ]
  },
  {
   "cell_type": "markdown",
   "id": "eb4606bf",
   "metadata": {},
   "source": [
    "Alice and Bob have a different total number of candies. You are given two integer arrays aliceSizes and bobSizes where aliceSizes[i] is the number of candies of the ith box of candy that Alice has and bobSizes[j] is the number of candies of the jth box of candy that Bob has.\n",
    "\n",
    "Since they are friends, they would like to exchange one candy box each so that after the exchange, they both have the same total amount of candy. The total amount of candy a person has is the sum of the number of candies in each box they have.\n",
    "\n",
    "Return an integer array answer where answer[0] is the number of candies in the box that Alice must exchange, and answer[1] is the number of candies in the box that Bob must exchange. If there are multiple answers, you may return any one of them. It is guaranteed that at least one answer exists.\n",
    "\n",
    "**Example 1:**\n",
    "\n",
    "Input: aliceSizes = [1,1], bobSizes = [2,2]\n",
    "Output: [1,2]\n",
    "\n",
    "**Example 2:**\n",
    "\n",
    "Input: aliceSizes = [1,2], bobSizes = [2,3]\n",
    "Output: [1,2]\n",
    "\n",
    "**Example 3:**\n",
    "\n",
    "Input: aliceSizes = [2], bobSizes = [1,3]\n",
    "Output: [2,3]\n",
    " \n",
    "\n",
    "**Constraints:**\n",
    "\n",
    "- 1 <= aliceSizes.length, bobSizes.length <= 104\n",
    "- 1 <= aliceSizes[i], bobSizes[j] <= 105\n",
    "- Alice and Bob have a different total number of candies.\n",
    "- There will be at least one valid answer for the given input."
   ]
  },
  {
   "cell_type": "code",
   "execution_count": 1,
   "id": "c4bf4de5",
   "metadata": {},
   "outputs": [
    {
     "name": "stdout",
     "output_type": "stream",
     "text": [
      "[1, 2]\n",
      "[1, 2]\n",
      "[2, 3]\n"
     ]
    }
   ],
   "source": [
    "def fairCandySwap(aliceSizes, bobSizes):\n",
    "    sumAlice = sum(aliceSizes)\n",
    "    sumBob = sum(bobSizes)\n",
    "    \n",
    "    # Calculate the difference / 2\n",
    "    delta = (sumAlice - sumBob) // 2\n",
    "    \n",
    "    # Convert bobSizes to a set for quick lookup\n",
    "    bobSet = set(bobSizes)\n",
    "    \n",
    "    # Find the appropriate pair\n",
    "    for x in aliceSizes:\n",
    "        y = x - delta\n",
    "        if y in bobSet:\n",
    "            return [x, y]\n",
    "\n",
    "    # Since the problem guarantees at least one valid answer, we do not need to handle the case where no answer is found.\n",
    "\n",
    "# Example usage\n",
    "print(fairCandySwap([1, 1], [2, 2]))  # Output: [1, 2]\n",
    "print(fairCandySwap([1, 2], [2, 3]))  # Output: [1, 2]\n",
    "print(fairCandySwap([2], [1, 3]))     # Output: [2, 3]"
   ]
  },
  {
   "cell_type": "code",
   "execution_count": null,
   "id": "ae563efb",
   "metadata": {},
   "outputs": [],
   "source": []
  }
 ],
 "metadata": {
  "kernelspec": {
   "display_name": "Python 3 (ipykernel)",
   "language": "python",
   "name": "python3"
  },
  "language_info": {
   "codemirror_mode": {
    "name": "ipython",
    "version": 3
   },
   "file_extension": ".py",
   "mimetype": "text/x-python",
   "name": "python",
   "nbconvert_exporter": "python",
   "pygments_lexer": "ipython3",
   "version": "3.8.11"
  }
 },
 "nbformat": 4,
 "nbformat_minor": 5
}
