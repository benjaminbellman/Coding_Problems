{
 "cells": [
  {
   "cell_type": "markdown",
   "id": "1305f2c1",
   "metadata": {},
   "source": [
    "# Remove All Adjacent Duplicates in String II"
   ]
  },
  {
   "cell_type": "markdown",
   "id": "f0f936db",
   "metadata": {},
   "source": [
    "You are given a string s and an integer k, a k duplicate removal consists of choosing k adjacent and equal letters from s and removing them, causing the left and the right side of the deleted substring to concatenate together.\n",
    "\n",
    "We repeatedly make k duplicate removals on s until we no longer can.\n",
    "\n",
    "Return the final string after all such duplicate removals have been made. It is guaranteed that the answer is unique.\n",
    "\n",
    "**Example 1:**\n",
    "\n",
    "Input: s = \"abcd\", k = 2\n",
    "Output: \"abcd\"\n",
    "Explanation: There's nothing to delete.\n",
    "\n",
    "**Example 2:**\n",
    "\n",
    "Input: s = \"deeedbbcccbdaa\", k = 3\n",
    "Output: \"aa\"\n",
    "Explanation: \n",
    "First delete \"eee\" and \"ccc\", get \"ddbbbdaa\"\n",
    "Then delete \"bbb\", get \"dddaa\"\n",
    "Finally delete \"ddd\", get \"aa\"\n",
    "\n",
    "**Example 3:**\n",
    "\n",
    "Input: s = \"pbbcggttciiippooaais\", k = 2\n",
    "Output: \"ps\"\n",
    " \n",
    "**Constraints:**\n",
    "\n",
    "- 1 <= s.length <= 105\n",
    "- 2 <= k <= 104\n",
    "- s only contains lowercase English letters."
   ]
  },
  {
   "cell_type": "code",
   "execution_count": 1,
   "id": "c67c50cc",
   "metadata": {},
   "outputs": [],
   "source": [
    "def removeDuplicates(s: str, k: int) -> str:\n",
    "    stack = []  # Each element is [char, count]\n",
    "\n",
    "    for char in s:\n",
    "        if stack and stack[-1][0] == char:\n",
    "            stack[-1][1] += 1  # Increment the count\n",
    "            if stack[-1][1] == k:\n",
    "                stack.pop()  # Remove if count reaches k\n",
    "        else:\n",
    "            stack.append([char, 1])\n",
    "\n",
    "    # Rebuild the final string\n",
    "    return ''.join(char * count for char, count in stack)"
   ]
  },
  {
   "cell_type": "code",
   "execution_count": null,
   "id": "b22cc48f",
   "metadata": {},
   "outputs": [],
   "source": []
  }
 ],
 "metadata": {
  "kernelspec": {
   "display_name": "Python 3 (ipykernel)",
   "language": "python",
   "name": "python3"
  },
  "language_info": {
   "codemirror_mode": {
    "name": "ipython",
    "version": 3
   },
   "file_extension": ".py",
   "mimetype": "text/x-python",
   "name": "python",
   "nbconvert_exporter": "python",
   "pygments_lexer": "ipython3",
   "version": "3.8.11"
  }
 },
 "nbformat": 4,
 "nbformat_minor": 5
}
