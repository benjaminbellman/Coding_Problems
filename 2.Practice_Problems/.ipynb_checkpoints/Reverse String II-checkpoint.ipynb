{
 "cells": [
  {
   "cell_type": "markdown",
   "id": "c420420a",
   "metadata": {},
   "source": [
    "# Reverse String II"
   ]
  },
  {
   "cell_type": "markdown",
   "id": "ba2c88c7",
   "metadata": {},
   "source": [
    "Given a string s and an integer k, reverse the first k characters for every 2k characters counting from the start of the string.\n",
    "\n",
    "If there are fewer than k characters left, reverse all of them. If there are less than 2k but greater than or equal to k characters, then reverse the first k characters and leave the other as original.\n",
    "\n",
    " \n",
    "\n",
    "**Example 1:**\n",
    "\n",
    "Input: s = \"abcdefg\", k = 2\n",
    "\n",
    "Output: \"bacdfeg\"\n",
    "\n",
    "**Example 2:**\n",
    "\n",
    "Input: s = \"abcd\", k = 2\n",
    "\n",
    "Output: \"bacd\"\n",
    " \n",
    "\n",
    "**Constraints:**\n",
    "\n",
    "- 1 <= s.length <= 104\n",
    "- s consists of only lowercase English letters.\n",
    "- 1 <= k <= 104"
   ]
  },
  {
   "cell_type": "code",
   "execution_count": 1,
   "id": "9c150bbe",
   "metadata": {},
   "outputs": [
    {
     "name": "stdout",
     "output_type": "stream",
     "text": [
      "bacdfeg\n",
      "bacd\n"
     ]
    }
   ],
   "source": [
    "def reverseStr(s: str, k: int) -> str:\n",
    "    n = len(s)\n",
    "    result = []\n",
    "\n",
    "    for i in range(0, n, 2*k):\n",
    "        # Reverse the first k characters\n",
    "        result.append(s[i:i+k][::-1])\n",
    "        # Append the next k characters as they are\n",
    "        result.append(s[i+k:i+2*k])\n",
    "\n",
    "    return ''.join(result)\n",
    "\n",
    "# Test cases\n",
    "s1, k1 = \"abcdefg\", 2\n",
    "print(reverseStr(s1, k1))  # Expected output: \"bacdfeg\"\n",
    "\n",
    "s2, k2 = \"abcd\", 2\n",
    "print(reverseStr(s2, k2))  # Expected output: \"bacd\""
   ]
  },
  {
   "cell_type": "code",
   "execution_count": null,
   "id": "bf22f554",
   "metadata": {},
   "outputs": [],
   "source": []
  }
 ],
 "metadata": {
  "kernelspec": {
   "display_name": "Python 3",
   "language": "python",
   "name": "python3"
  },
  "language_info": {
   "codemirror_mode": {
    "name": "ipython",
    "version": 3
   },
   "file_extension": ".py",
   "mimetype": "text/x-python",
   "name": "python",
   "nbconvert_exporter": "python",
   "pygments_lexer": "ipython3",
   "version": "3.9.13"
  }
 },
 "nbformat": 4,
 "nbformat_minor": 5
}
