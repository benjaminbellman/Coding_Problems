{
 "cells": [
  {
   "cell_type": "markdown",
   "id": "c65258a7",
   "metadata": {},
   "source": [
    "# Word Pattern"
   ]
  },
  {
   "cell_type": "markdown",
   "id": "7f132358",
   "metadata": {},
   "source": [
    "Given a pattern and a string s, find if s follows the same pattern.\n",
    "\n",
    "Here follow means a full match, such that there is a bijection between a letter in pattern and a non-empty word in s.\n",
    "\n",
    " \n",
    "\n",
    "**Example 1:**\n",
    "\n",
    "Input: pattern = \"abba\", s = \"dog cat cat dog\"\n",
    "Output: true\n",
    "\n",
    "**Example 2:**\n",
    "\n",
    "Input: pattern = \"abba\", s = \"dog cat cat fish\"\n",
    "Output: false\n",
    "\n",
    "**Example 3:**\n",
    "\n",
    "Input: pattern = \"aaaa\", s = \"dog cat cat dog\"\n",
    "Output: false\n",
    " \n",
    "\n",
    "**Constraints:**\n",
    "\n",
    "1 <= pattern.length <= 300\n",
    "pattern contains only lower-case English letters.\n",
    "1 <= s.length <= 3000\n",
    "s contains only lowercase English letters and spaces ' '.\n",
    "s does not contain any leading or trailing spaces.\n",
    "All the words in s are separated by a single space."
   ]
  },
  {
   "cell_type": "code",
   "execution_count": 1,
   "id": "0bc10941",
   "metadata": {},
   "outputs": [],
   "source": [
    "def wordPattern(pattern: str, s: str) -> bool:\n",
    "    words = s.split()\n",
    "    if len(pattern) != len(words):\n",
    "        return False\n",
    "    \n",
    "    p_to_w = {}\n",
    "    w_to_p = {}\n",
    "    for i in range(len(pattern)):\n",
    "        if pattern[i] not in p_to_w:\n",
    "            if words[i] in w_to_p:\n",
    "                return False\n",
    "            p_to_w[pattern[i]] = words[i]\n",
    "            w_to_p[words[i]] = pattern[i]\n",
    "        elif p_to_w[pattern[i]] != words[i]:\n",
    "            return False\n",
    "    \n",
    "    return True"
   ]
  },
  {
   "cell_type": "code",
   "execution_count": 2,
   "id": "a53d1a90",
   "metadata": {},
   "outputs": [
    {
     "name": "stdout",
     "output_type": "stream",
     "text": [
      "True\n",
      "False\n",
      "False\n"
     ]
    }
   ],
   "source": [
    "print(wordPattern(\"abba\", \"dog cat cat dog\")) # True\n",
    "print(wordPattern(\"abba\", \"dog cat cat fish\")) # False\n",
    "print(wordPattern(\"aaaa\", \"dog cat cat dog\")) # False"
   ]
  },
  {
   "cell_type": "code",
   "execution_count": null,
   "id": "e67c36ca",
   "metadata": {},
   "outputs": [],
   "source": []
  }
 ],
 "metadata": {
  "kernelspec": {
   "display_name": "Python 3",
   "language": "python",
   "name": "python3"
  },
  "language_info": {
   "codemirror_mode": {
    "name": "ipython",
    "version": 3
   },
   "file_extension": ".py",
   "mimetype": "text/x-python",
   "name": "python",
   "nbconvert_exporter": "python",
   "pygments_lexer": "ipython3",
   "version": "3.9.13"
  }
 },
 "nbformat": 4,
 "nbformat_minor": 5
}
