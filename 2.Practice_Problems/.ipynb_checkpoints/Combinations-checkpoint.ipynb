{
 "cells": [
  {
   "cell_type": "markdown",
   "id": "4c37e26b",
   "metadata": {},
   "source": [
    "# Combinations"
   ]
  },
  {
   "cell_type": "markdown",
   "id": "8e33567e",
   "metadata": {},
   "source": [
    "Given two integers n and k, return all possible combinations of k numbers chosen from the range [1, n].\n",
    "\n",
    "You may return the answer in any order.\n",
    "\n",
    "**Example 1:**\n",
    "\n",
    "Input: n = 4, k = 2\n",
    "Output: [[1,2],[1,3],[1,4],[2,3],[2,4],[3,4]]\n",
    "Explanation: There are 4 choose 2 = 6 total combinations.\n",
    "Note that combinations are unordered, i.e., [1,2] and [2,1] are considered to be the same combination.\n",
    "\n",
    "**Example 2:**\n",
    "\n",
    "Input: n = 1, k = 1\n",
    "Output: [[1]]\n",
    "Explanation: There is 1 choose 1 = 1 total combination.\n",
    " \n",
    "**Constraints:**\n",
    "\n",
    "- 1 <= n <= 20\n",
    "- 1 <= k <= n"
   ]
  },
  {
   "cell_type": "code",
   "execution_count": 1,
   "id": "4371c112",
   "metadata": {},
   "outputs": [],
   "source": [
    "def combine(n, k):\n",
    "    result = []\n",
    "\n",
    "    def backtrack(start, path):\n",
    "        # Base case: if the combination is of length k\n",
    "        if len(path) == k:\n",
    "            result.append(path[:])\n",
    "            return\n",
    "        \n",
    "        # Explore further numbers starting from `start`\n",
    "        for i in range(start, n + 1):\n",
    "            path.append(i)\n",
    "            backtrack(i + 1, path)\n",
    "            path.pop()\n",
    "\n",
    "    backtrack(1, [])\n",
    "    return result"
   ]
  },
  {
   "cell_type": "code",
   "execution_count": 2,
   "id": "34044780",
   "metadata": {},
   "outputs": [
    {
     "name": "stdout",
     "output_type": "stream",
     "text": [
      "[[1, 2], [1, 3], [1, 4], [2, 3], [2, 4], [3, 4]]\n"
     ]
    }
   ],
   "source": [
    "print(combine(4, 2))\n",
    "# Output: [[1, 2], [1, 3], [1, 4], [2, 3], [2, 4], [3, 4]]"
   ]
  },
  {
   "cell_type": "code",
   "execution_count": null,
   "id": "10011f50",
   "metadata": {},
   "outputs": [],
   "source": []
  }
 ],
 "metadata": {
  "kernelspec": {
   "display_name": "Python 3 (ipykernel)",
   "language": "python",
   "name": "python3"
  },
  "language_info": {
   "codemirror_mode": {
    "name": "ipython",
    "version": 3
   },
   "file_extension": ".py",
   "mimetype": "text/x-python",
   "name": "python",
   "nbconvert_exporter": "python",
   "pygments_lexer": "ipython3",
   "version": "3.8.11"
  }
 },
 "nbformat": 4,
 "nbformat_minor": 5
}
