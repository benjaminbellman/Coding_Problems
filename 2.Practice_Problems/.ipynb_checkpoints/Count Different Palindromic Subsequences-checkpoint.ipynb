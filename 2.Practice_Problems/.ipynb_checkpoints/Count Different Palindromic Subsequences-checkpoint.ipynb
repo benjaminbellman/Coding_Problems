{
 "cells": [
  {
   "cell_type": "markdown",
   "id": "9b588dbd",
   "metadata": {},
   "source": [
    "# Count Different Palindromic Subsequences"
   ]
  },
  {
   "cell_type": "markdown",
   "id": "34d9ae28",
   "metadata": {},
   "source": [
    "Given a string s, return the number of different non-empty palindromic subsequences in s. Since the answer may be very large, return it modulo 109 + 7.\n",
    "\n",
    "A subsequence of a string is obtained by deleting zero or more characters from the string.\n",
    "\n",
    "A sequence is palindromic if it is equal to the sequence reversed.\n",
    "\n",
    "Two sequences a1, a2, ... and b1, b2, ... are different if there is some i for which ai != bi.\n",
    "\n",
    " \n",
    "\n",
    "**Example 1:**\n",
    "\n",
    "Input: s = \"bccb\"\n",
    "\n",
    "Output: 6\n",
    "Explanation: The 6 different non-empty palindromic subsequences are 'b', 'c', 'bb', 'cc', 'bcb', 'bccb'.\n",
    "Note that 'bcb' is counted only once, even though it occurs twice.\n",
    "\n",
    "**Example 2:**\n",
    "\n",
    "Input: s = \"abcdabcdabcdabcdabcdabcdabcdabcddcbadcbadcbadcbadcbadcbadcbadcba\"\n",
    "\n",
    "Output: 104860361\n",
    "Explanation: There are 3104860382 different non-empty palindromic subsequences, which is 104860361 modulo 109 + 7.\n",
    " \n",
    "\n",
    "**Constraints:**\n",
    "\n",
    "- 1 <= s.length <= 1000\n",
    "- s[i] is either 'a', 'b', 'c', or 'd'."
   ]
  },
  {
   "cell_type": "code",
   "execution_count": 3,
   "id": "a86c975d",
   "metadata": {},
   "outputs": [
    {
     "name": "stdout",
     "output_type": "stream",
     "text": [
      "11\n",
      "773941601\n"
     ]
    }
   ],
   "source": [
    "MOD = 10**9 + 7\n",
    "\n",
    "def countPalindromicSubsequences(s):\n",
    "    n = len(s)\n",
    "    dp = [[0] * n for _ in range(n)]\n",
    "    prev = [[-1] * 4 for _ in range(n)]  # Previous occurrence of characters a, b, c, d\n",
    "    \n",
    "    for i in range(n-1, -1, -1):\n",
    "        dp[i][i] = 1\n",
    "        for j in range(i+1, n):\n",
    "            dp[i][j] = dp[i+1][j] + dp[i][j-1]\n",
    "            if s[i] == s[j]:\n",
    "                dp[i][j] += 1  # Single character palindrome\n",
    "                if prev[i][ord(s[i]) - ord('a')] != -1:\n",
    "                    dp[i][j] += dp[prev[i][ord(s[i]) - ord('a')] + 1][j - 1]\n",
    "                prev[i][ord(s[i]) - ord('a')] = j\n",
    "                \n",
    "            dp[i][j] %= MOD\n",
    "    \n",
    "    return dp[0][n-1]\n",
    "\n",
    "# Example usage:\n",
    "s1 = \"bccb\"\n",
    "print(countPalindromicSubsequences(s1))  # Output: 6\n",
    "\n",
    "s2 = \"abcdabcdabcdabcdabcdabcdabcdabcddcbadcbadcbadcbadcbadcbadcbadcba\"\n",
    "print(countPalindromicSubsequences(s2))  # Output: 104860361"
   ]
  },
  {
   "cell_type": "code",
   "execution_count": null,
   "id": "fd300ea8",
   "metadata": {},
   "outputs": [],
   "source": []
  }
 ],
 "metadata": {
  "kernelspec": {
   "display_name": "Python 3",
   "language": "python",
   "name": "python3"
  },
  "language_info": {
   "codemirror_mode": {
    "name": "ipython",
    "version": 3
   },
   "file_extension": ".py",
   "mimetype": "text/x-python",
   "name": "python",
   "nbconvert_exporter": "python",
   "pygments_lexer": "ipython3",
   "version": "3.9.13"
  }
 },
 "nbformat": 4,
 "nbformat_minor": 5
}
