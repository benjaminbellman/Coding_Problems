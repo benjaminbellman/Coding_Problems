{
 "cells": [
  {
   "cell_type": "markdown",
   "id": "069f50a4",
   "metadata": {},
   "source": [
    "# Zigzag Conversion"
   ]
  },
  {
   "cell_type": "markdown",
   "id": "69ad2537",
   "metadata": {},
   "source": [
    "The string \"PAYPALISHIRING\" is written in a zigzag pattern on a given number of rows like this: (you may want to display this pattern in a fixed font for better legibility)\n",
    "\n",
    "P   A   H   N\n",
    "A P L S I I G\n",
    "Y   I   R\n",
    "And then read line by line: \"PAHNAPLSIIGYIR\"\n",
    "\n",
    "Write the code that will take a string and make this conversion given a number of rows:\n",
    "\n",
    "string convert(string s, int numRows);\n",
    " \n",
    "\n",
    "**Example 1:**\n",
    "\n",
    "Input: s = \"PAYPALISHIRING\", numRows = 3\n",
    "Output: \"PAHNAPLSIIGYIR\"\n",
    "\n",
    "**Example 2:**\n",
    "\n",
    "Input: s = \"PAYPALISHIRING\", numRows = 4\n",
    "Output: \"PINALSIGYAHRPI\"\n",
    "Explanation:\n",
    "P     I    N\n",
    "A   L S  I G\n",
    "Y A   H R\n",
    "P     I\n",
    "\n",
    "**Example 3:**\n",
    "\n",
    "Input: s = \"A\", numRows = 1\n",
    "Output: \"A\"\n",
    " \n",
    "\n",
    "**Constraints:**\n",
    "\n",
    "1 <= s.length <= 1000\n",
    "s consists of English letters (lower-case and upper-case), ',' and '.'.\n",
    "1 <= numRows <= 1000"
   ]
  },
  {
   "cell_type": "code",
   "execution_count": 1,
   "id": "5243d325",
   "metadata": {},
   "outputs": [],
   "source": [
    "def convert(s: str, numRows: int) -> str:\n",
    "    if numRows == 1 or numRows >= len(s):\n",
    "        return s\n",
    "    \n",
    "    zigzag = ['' for _ in range(numRows)]\n",
    "    row, step = 0, 1\n",
    "    \n",
    "    for char in s:\n",
    "        zigzag[row] += char\n",
    "        if row == 0:\n",
    "            step = 1\n",
    "        elif row == numRows - 1:\n",
    "            step = -1\n",
    "        row += step\n",
    "    \n",
    "    return ''.join(zigzag)"
   ]
  },
  {
   "cell_type": "code",
   "execution_count": 2,
   "id": "989046b1",
   "metadata": {},
   "outputs": [
    {
     "name": "stdout",
     "output_type": "stream",
     "text": [
      "PAHNAPLSIIGYIR\n",
      "PINALSIGYAHRPI\n",
      "A\n"
     ]
    }
   ],
   "source": [
    "# Example 1\n",
    "s1 = \"PAYPALISHIRING\"\n",
    "numRows1 = 3\n",
    "print(convert(s1, numRows1))  # Output: \"PAHNAPLSIIGYIR\"\n",
    "\n",
    "# Example 2\n",
    "s2 = \"PAYPALISHIRING\"\n",
    "numRows2 = 4\n",
    "print(convert(s2, numRows2))  # Output: \"PINALSIGYAHRPI\"\n",
    "\n",
    "# Example 3\n",
    "s3 = \"A\"\n",
    "numRows3 = 1\n",
    "print(convert(s3, numRows3))  # Output: \"A\""
   ]
  },
  {
   "cell_type": "code",
   "execution_count": null,
   "id": "69c943a0",
   "metadata": {},
   "outputs": [],
   "source": []
  }
 ],
 "metadata": {
  "kernelspec": {
   "display_name": "Python 3",
   "language": "python",
   "name": "python3"
  },
  "language_info": {
   "codemirror_mode": {
    "name": "ipython",
    "version": 3
   },
   "file_extension": ".py",
   "mimetype": "text/x-python",
   "name": "python",
   "nbconvert_exporter": "python",
   "pygments_lexer": "ipython3",
   "version": "3.9.13"
  }
 },
 "nbformat": 4,
 "nbformat_minor": 5
}
