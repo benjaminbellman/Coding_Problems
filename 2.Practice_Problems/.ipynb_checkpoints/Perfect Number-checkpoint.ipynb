{
 "cells": [
  {
   "cell_type": "markdown",
   "id": "a3063e42",
   "metadata": {},
   "source": [
    "# Perfect Number"
   ]
  },
  {
   "cell_type": "markdown",
   "id": "b4c0194c",
   "metadata": {},
   "source": [
    "A perfect number is a positive integer that is equal to the sum of its positive divisors, excluding the number itself. A divisor of an integer x is an integer that can divide x evenly.\n",
    "\n",
    "Given an integer n, return true if n is a perfect number, otherwise return false.\n",
    "\n",
    " \n",
    "\n",
    "**Example 1:**\n",
    "\n",
    "Input: num = 28\n",
    "Output: true\n",
    "Explanation: 28 = 1 + 2 + 4 + 7 + 14\n",
    "1, 2, 4, 7, and 14 are all divisors of 28.\n",
    "\n",
    "**Example 2:**\n",
    "\n",
    "Input: num = 7\n",
    "Output: false\n",
    " \n",
    "\n",
    "**Constraints:**\n",
    "\n",
    "- 1 <= num <= 108"
   ]
  },
  {
   "cell_type": "code",
   "execution_count": 1,
   "id": "3c8a3cfd",
   "metadata": {},
   "outputs": [
    {
     "name": "stdout",
     "output_type": "stream",
     "text": [
      "True\n",
      "False\n"
     ]
    }
   ],
   "source": [
    "def checkPerfectNumber(num: int) -> bool:\n",
    "    if num <= 1:\n",
    "        return False  # 0 and 1 are not perfect numbers\n",
    "    \n",
    "    div_sum = 1  # 1 is always a divisor of any number\n",
    "    for i in range(2, int(num**0.5) + 1):\n",
    "        if num % i == 0:\n",
    "            if i == num // i:\n",
    "                div_sum += i  # if divisors are square root of num\n",
    "            else:\n",
    "                div_sum += i + num // i  # sum up the divisors\n",
    "    \n",
    "    return div_sum == num\n",
    "\n",
    "# Test the function with example inputs\n",
    "print(checkPerfectNumber(28))  # Output: True\n",
    "print(checkPerfectNumber(7))   # Output: False"
   ]
  },
  {
   "cell_type": "code",
   "execution_count": null,
   "id": "fa88e6e9",
   "metadata": {},
   "outputs": [],
   "source": []
  }
 ],
 "metadata": {
  "kernelspec": {
   "display_name": "Python 3",
   "language": "python",
   "name": "python3"
  },
  "language_info": {
   "codemirror_mode": {
    "name": "ipython",
    "version": 3
   },
   "file_extension": ".py",
   "mimetype": "text/x-python",
   "name": "python",
   "nbconvert_exporter": "python",
   "pygments_lexer": "ipython3",
   "version": "3.9.13"
  }
 },
 "nbformat": 4,
 "nbformat_minor": 5
}
