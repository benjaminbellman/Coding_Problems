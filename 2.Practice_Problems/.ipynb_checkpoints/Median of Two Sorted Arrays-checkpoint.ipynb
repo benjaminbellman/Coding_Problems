{
 "cells": [
  {
   "cell_type": "markdown",
   "id": "a2b9464b",
   "metadata": {},
   "source": [
    "# Median of Two Sorted Arrays"
   ]
  },
  {
   "cell_type": "markdown",
   "id": "06803ae9",
   "metadata": {},
   "source": [
    "Given two sorted arrays nums1 and nums2 of size m and n respectively, return the median of the two sorted arrays.\n",
    "\n",
    "The overall run time complexity should be O(log (m+n)).\n",
    "\n",
    " \n",
    "\n",
    "**Example 1:**\n",
    "\n",
    "Input: nums1 = [1,3], nums2 = [2]\n",
    "Output: 2.00000\n",
    "Explanation: merged array = [1,2,3] and median is 2.\n",
    "\n",
    "**Example 2:**\n",
    "\n",
    "Input: nums1 = [1,2], nums2 = [3,4]\n",
    "Output: 2.50000\n",
    "Explanation: merged array = [1,2,3,4] and median is (2 + 3) / 2 = 2.5.\n",
    " \n",
    "\n",
    "\n",
    "**Constraints:**\n",
    "\n",
    "nums1.length == m\n",
    "nums2.length == n\n",
    "0 <= m <= 1000\n",
    "0 <= n <= 1000\n",
    "1 <= m + n <= 2000\n",
    "-106 <= nums1[i], nums2[i] <= 106"
   ]
  },
  {
   "cell_type": "code",
   "execution_count": 2,
   "id": "e129a009",
   "metadata": {},
   "outputs": [],
   "source": [
    "class Solution:\n",
    "    def findMedianSortedArrays(self, nums1: list[int], nums2: list[int]) -> float:\n",
    "        m, n = len(nums1), len(nums2)\n",
    "        if m > n:\n",
    "            nums1, nums2, m, n = nums2, nums1, n, m\n",
    "        i_min, i_max, half_len = 0, m, (m + n + 1) // 2\n",
    "        while i_min <= i_max:\n",
    "            i = (i_min + i_max) // 2\n",
    "            j = half_len - i\n",
    "            if i < m and nums2[j-1] > nums1[i]:\n",
    "                i_min = i + 1\n",
    "            elif i > 0 and nums1[i-1] > nums2[j]:\n",
    "                i_max = i - 1\n",
    "            else:\n",
    "                if i == 0: max_of_left = nums2[j-1]\n",
    "                elif j == 0: max_of_left = nums1[i-1]\n",
    "                else: max_of_left = max(nums1[i-1], nums2[j-1])\n",
    "                if (m + n) % 2 == 1:\n",
    "                    return max_of_left\n",
    "                if i == m: min_of_right = nums2[j]\n",
    "                elif j == n: min_of_right = nums1[i]\n",
    "                else: min_of_right = min(nums1[i], nums2[j])\n",
    "                return (max_of_left + min_of_right) / 2.0"
   ]
  },
  {
   "cell_type": "code",
   "execution_count": 3,
   "id": "a177a7ac",
   "metadata": {},
   "outputs": [
    {
     "name": "stdout",
     "output_type": "stream",
     "text": [
      "2\n",
      "2.5\n"
     ]
    }
   ],
   "source": [
    "solution = Solution()\n",
    "\n",
    "# Example 1\n",
    "nums1 = [1, 3]\n",
    "nums2 = [2]\n",
    "result = solution.findMedianSortedArrays(nums1, nums2)\n",
    "print(result) # Output: 2.00000\n",
    "\n",
    "# Example 2\n",
    "nums1 = [1, 2]\n",
    "nums2 = [3, 4]\n",
    "result = solution.findMedianSortedArrays(nums1, nums2)\n",
    "print(result) # Output: 2.50000"
   ]
  },
  {
   "cell_type": "code",
   "execution_count": null,
   "id": "ee1108b0",
   "metadata": {},
   "outputs": [],
   "source": []
  }
 ],
 "metadata": {
  "kernelspec": {
   "display_name": "Python 3",
   "language": "python",
   "name": "python3"
  },
  "language_info": {
   "codemirror_mode": {
    "name": "ipython",
    "version": 3
   },
   "file_extension": ".py",
   "mimetype": "text/x-python",
   "name": "python",
   "nbconvert_exporter": "python",
   "pygments_lexer": "ipython3",
   "version": "3.9.13"
  }
 },
 "nbformat": 4,
 "nbformat_minor": 5
}
