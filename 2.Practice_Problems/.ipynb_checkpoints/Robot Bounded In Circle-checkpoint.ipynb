{
 "cells": [
  {
   "cell_type": "markdown",
   "id": "482d257c",
   "metadata": {},
   "source": [
    "# Robot Bounded In Circle"
   ]
  },
  {
   "cell_type": "markdown",
   "id": "73a9e1d1",
   "metadata": {},
   "source": [
    "On an infinite plane, a robot initially stands at (0, 0) and faces north. Note that:\n",
    "\n",
    "The north direction is the positive direction of the y-axis.\n",
    "The south direction is the negative direction of the y-axis.\n",
    "The east direction is the positive direction of the x-axis.\n",
    "The west direction is the negative direction of the x-axis.\n",
    "The robot can receive one of three instructions:\n",
    "\n",
    "\"G\": go straight 1 unit.\n",
    "\"L\": turn 90 degrees to the left (i.e., anti-clockwise direction).\n",
    "\"R\": turn 90 degrees to the right (i.e., clockwise direction).\n",
    "The robot performs the instructions given in order, and repeats them forever.\n",
    "\n",
    "Return true if and only if there exists a circle in the plane such that the robot never leaves the circle.\n",
    "\n",
    "**Example 1:**\n",
    "\n",
    "Input: instructions = \"GGLLGG\"\n",
    "Output: true\n",
    "Explanation: The robot is initially at (0, 0) facing the north direction.\n",
    "\"G\": move one step. Position: (0, 1). Direction: North.\n",
    "\"G\": move one step. Position: (0, 2). Direction: North.\n",
    "\"L\": turn 90 degrees anti-clockwise. Position: (0, 2). Direction: West.\n",
    "\"L\": turn 90 degrees anti-clockwise. Position: (0, 2). Direction: South.\n",
    "\"G\": move one step. Position: (0, 1). Direction: South.\n",
    "\"G\": move one step. Position: (0, 0). Direction: South.\n",
    "Repeating the instructions, the robot goes into the cycle: (0, 0) --> (0, 1) --> (0, 2) --> (0, 1) --> (0, 0).\n",
    "Based on that, we return true.\n",
    "\n",
    "**Example 2:**\n",
    "\n",
    "Input: instructions = \"GG\"\n",
    "Output: false\n",
    "Explanation: The robot is initially at (0, 0) facing the north direction.\n",
    "\"G\": move one step. Position: (0, 1). Direction: North.\n",
    "\"G\": move one step. Position: (0, 2). Direction: North.\n",
    "Repeating the instructions, keeps advancing in the north direction and does not go into cycles.\n",
    "Based on that, we return false.\n",
    "\n",
    "**Example 3:**\n",
    "\n",
    "Input: instructions = \"GL\"\n",
    "Output: true\n",
    "Explanation: The robot is initially at (0, 0) facing the north direction.\n",
    "\"G\": move one step. Position: (0, 1). Direction: North.\n",
    "\"L\": turn 90 degrees anti-clockwise. Position: (0, 1). Direction: West.\n",
    "\"G\": move one step. Position: (-1, 1). Direction: West.\n",
    "\"L\": turn 90 degrees anti-clockwise. Position: (-1, 1). Direction: South.\n",
    "\"G\": move one step. Position: (-1, 0). Direction: South.\n",
    "\"L\": turn 90 degrees anti-clockwise. Position: (-1, 0). Direction: East.\n",
    "\"G\": move one step. Position: (0, 0). Direction: East.\n",
    "\"L\": turn 90 degrees anti-clockwise. Position: (0, 0). Direction: North.\n",
    "Repeating the instructions, the robot goes into the cycle: (0, 0) --> (0, 1) --> (-1, 1) --> (-1, 0) --> (0, 0).\n",
    "Based on that, we return true.\n",
    " \n",
    "**Constraints:**\n",
    "\n",
    "- 1 <= instructions.length <= 100\n",
    "- instructions[i] is 'G', 'L' or, 'R'."
   ]
  },
  {
   "cell_type": "code",
   "execution_count": 1,
   "id": "4b4e9901",
   "metadata": {},
   "outputs": [
    {
     "name": "stdout",
     "output_type": "stream",
     "text": [
      "True\n",
      "False\n",
      "True\n"
     ]
    }
   ],
   "source": [
    "def isRobotBounded(instructions: str) -> bool:\n",
    "    # Directions: North=0, East=1, South=2, West=3\n",
    "    directions = [(0,1), (1,0), (0,-1), (-1,0)]\n",
    "    x, y = 0, 0\n",
    "    dir_idx = 0  # Initially facing north\n",
    "\n",
    "    for instr in instructions:\n",
    "        if instr == 'G':\n",
    "            dx, dy = directions[dir_idx]\n",
    "            x, y = x + dx, y + dy\n",
    "        elif instr == 'L':\n",
    "            # turn left: decrement direction index\n",
    "            dir_idx = (dir_idx - 1) % 4\n",
    "        elif instr == 'R':\n",
    "            # turn right: increment direction index\n",
    "            dir_idx = (dir_idx + 1) % 4\n",
    "\n",
    "    # After executing all instructions once:\n",
    "    # 1. If the robot returns to the starting point (0,0),\n",
    "    #    it must be in a loop and hence bounded.\n",
    "    if (x == 0 and y == 0):\n",
    "        return True\n",
    "\n",
    "    # 2. If the robot does not face north anymore,\n",
    "    #    it will eventually turn in a loop due to repeated instruction sets.\n",
    "    if dir_idx != 0:\n",
    "        return True\n",
    "\n",
    "    # Otherwise, it keeps going in a straight line and is unbounded.\n",
    "    return False\n",
    "\n",
    "# Example usage:\n",
    "print(isRobotBounded(\"GGLLGG\"))  # True\n",
    "print(isRobotBounded(\"GG\"))      # False\n",
    "print(isRobotBounded(\"GL\"))      # True"
   ]
  },
  {
   "cell_type": "code",
   "execution_count": null,
   "id": "fe1cee17",
   "metadata": {},
   "outputs": [],
   "source": []
  }
 ],
 "metadata": {
  "kernelspec": {
   "display_name": "Python 3 (ipykernel)",
   "language": "python",
   "name": "python3"
  },
  "language_info": {
   "codemirror_mode": {
    "name": "ipython",
    "version": 3
   },
   "file_extension": ".py",
   "mimetype": "text/x-python",
   "name": "python",
   "nbconvert_exporter": "python",
   "pygments_lexer": "ipython3",
   "version": "3.8.11"
  }
 },
 "nbformat": 4,
 "nbformat_minor": 5
}
