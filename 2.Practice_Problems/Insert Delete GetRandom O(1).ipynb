{
 "cells": [
  {
   "cell_type": "markdown",
   "id": "41e49ee2",
   "metadata": {},
   "source": [
    "# Insert Delete GetRandom O(1)"
   ]
  },
  {
   "cell_type": "markdown",
   "id": "8e239fda",
   "metadata": {},
   "source": [
    "Implement the RandomizedSet class:\n",
    "\n",
    "RandomizedSet() Initializes the RandomizedSet object.\n",
    "bool insert(int val) Inserts an item val into the set if not present. Returns true if the item was not present, false otherwise.\n",
    "bool remove(int val) Removes an item val from the set if present. Returns true if the item was present, false otherwise.\n",
    "int getRandom() Returns a random element from the current set of elements (it's guaranteed that at least one element exists when this method is called). Each element must have the same probability of being returned.\n",
    "You must implement the functions of the class such that each function works in average O(1) time complexity.\n",
    "\n",
    " \n",
    "\n",
    "**Example 1:**\n",
    "\n",
    "Input\n",
    "[\"RandomizedSet\", \"insert\", \"remove\", \"insert\", \"getRandom\", \"remove\", \"insert\", \"getRandom\"]\n",
    "[[], [1], [2], [2], [], [1], [2], []]\n",
    "Output\n",
    "[null, true, false, true, 2, true, false, 2]\n",
    "\n",
    "**Explanation**\n",
    "RandomizedSet randomizedSet = new RandomizedSet();\n",
    "randomizedSet.insert(1); // Inserts 1 to the set. Returns true as 1 was inserted successfully.\n",
    "randomizedSet.remove(2); // Returns false as 2 does not exist in the set.\n",
    "randomizedSet.insert(2); // Inserts 2 to the set, returns true. Set now contains [1,2].\n",
    "randomizedSet.getRandom(); // getRandom() should return either 1 or 2 randomly.\n",
    "randomizedSet.remove(1); // Removes 1 from the set, returns true. Set now contains [2].\n",
    "randomizedSet.insert(2); // 2 was already in the set, so return false.\n",
    "randomizedSet.getRandom(); // Since 2 is the only number in the set, getRandom() will always return 2.\n",
    " \n",
    "\n",
    "**Constraints:**\n",
    "\n",
    "-231 <= val <= 231 - 1\n",
    "At most 2 * 105 calls will be made to insert, remove, and getRandom.\n",
    "There will be at least one element in the data structure when getRandom is called."
   ]
  },
  {
   "cell_type": "code",
   "execution_count": 1,
   "id": "0365c4b5",
   "metadata": {},
   "outputs": [],
   "source": [
    "import random\n",
    "\n",
    "class RandomizedSet:\n",
    "    def __init__(self):\n",
    "        self.nums = []\n",
    "        self.val_to_index = {}\n",
    "\n",
    "    def insert(self, val: int) -> bool:\n",
    "        if val in self.val_to_index:\n",
    "            return False\n",
    "        self.val_to_index[val] = len(self.nums)\n",
    "        self.nums.append(val)\n",
    "        return True\n",
    "\n",
    "    def remove(self, val: int) -> bool:\n",
    "        if val not in self.val_to_index:\n",
    "            return False\n",
    "        index = self.val_to_index[val]\n",
    "        last_num = self.nums[-1]\n",
    "        self.nums[index] = last_num\n",
    "        self.val_to_index[last_num] = index\n",
    "        self.nums.pop()\n",
    "        del self.val_to_index[val]\n",
    "        return True\n",
    "\n",
    "    def getRandom(self) -> int:\n",
    "        return random.choice(self.nums)"
   ]
  },
  {
   "cell_type": "code",
   "execution_count": 2,
   "id": "7583a19b",
   "metadata": {},
   "outputs": [
    {
     "name": "stdout",
     "output_type": "stream",
     "text": [
      "True\n",
      "False\n",
      "True\n",
      "1\n",
      "True\n",
      "False\n",
      "2\n"
     ]
    }
   ],
   "source": [
    "randomizedSet = RandomizedSet()\n",
    "print(randomizedSet.insert(1))  # Inserts 1 to the set. Returns True.\n",
    "print(randomizedSet.remove(2))  # Returns False as 2 does not exist in the set.\n",
    "print(randomizedSet.insert(2))  # Inserts 2 to the set, returns True. Set now contains [1,2].\n",
    "print(randomizedSet.getRandom())  # Returns either 1 or 2 randomly.\n",
    "print(randomizedSet.remove(1))  # Removes 1 from the set, returns True. Set now contains [2].\n",
    "print(randomizedSet.insert(2))  # 2 was already in the set, so return False.\n",
    "print(randomizedSet.getRandom())  # Since 2 is the only number in the set, getRandom() will always return 2."
   ]
  },
  {
   "cell_type": "code",
   "execution_count": null,
   "id": "0146cd22",
   "metadata": {},
   "outputs": [],
   "source": []
  }
 ],
 "metadata": {
  "kernelspec": {
   "display_name": "Python 3",
   "language": "python",
   "name": "python3"
  },
  "language_info": {
   "codemirror_mode": {
    "name": "ipython",
    "version": 3
   },
   "file_extension": ".py",
   "mimetype": "text/x-python",
   "name": "python",
   "nbconvert_exporter": "python",
   "pygments_lexer": "ipython3",
   "version": "3.9.13"
  }
 },
 "nbformat": 4,
 "nbformat_minor": 5
}
