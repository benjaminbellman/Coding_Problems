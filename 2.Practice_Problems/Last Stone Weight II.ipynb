{
 "cells": [
  {
   "cell_type": "markdown",
   "id": "3f35aaba",
   "metadata": {},
   "source": [
    "# Last Stone Weight II"
   ]
  },
  {
   "cell_type": "markdown",
   "id": "8f4edfa5",
   "metadata": {},
   "source": [
    "You are given an array of integers stones where stones[i] is the weight of the ith stone.\n",
    "\n",
    "We are playing a game with the stones. On each turn, we choose any two stones and smash them together. Suppose the stones have weights x and y with x <= y. The result of this smash is:\n",
    "\n",
    "If x == y, both stones are destroyed, and\n",
    "If x != y, the stone of weight x is destroyed, and the stone of weight y has new weight y - x.\n",
    "At the end of the game, there is at most one stone left.\n",
    "\n",
    "Return the smallest possible weight of the left stone. If there are no stones left, return 0.\n",
    "\n",
    "**Example 1:**\n",
    "\n",
    "Input: stones = [2,7,4,1,8,1]\n",
    "Output: 1\n",
    "Explanation:\n",
    "We can combine 2 and 4 to get 2, so the array converts to [2,7,1,8,1] then,\n",
    "we can combine 7 and 8 to get 1, so the array converts to [2,1,1,1] then,\n",
    "we can combine 2 and 1 to get 1, so the array converts to [1,1,1] then,\n",
    "we can combine 1 and 1 to get 0, so the array converts to [1], then that's the optimal value.\n",
    "\n",
    "**Example 2:**\n",
    "\n",
    "Input: stones = [31,26,33,21,40]\n",
    "Output: 5\n",
    "\n",
    "**Constraints:**\n",
    "\n",
    "- 1 <= stones.length <= 30\n",
    "- 1 <= stones[i] <= 100"
   ]
  },
  {
   "cell_type": "code",
   "execution_count": 1,
   "id": "89cba695",
   "metadata": {},
   "outputs": [],
   "source": [
    "def lastStoneWeightII(stones):\n",
    "    S = sum(stones)\n",
    "    dp = [False] * (S + 1)\n",
    "    dp[0] = True\n",
    "\n",
    "    for w in stones:\n",
    "        for sumVal in range(S, w - 1, -1):\n",
    "            if dp[sumVal - w]:\n",
    "                dp[sumVal] = True\n",
    "\n",
    "    bestPossible = 0\n",
    "    half = S // 2\n",
    "    for sumVal in range(half + 1):\n",
    "        if dp[sumVal]:\n",
    "            bestPossible = max(bestPossible, sumVal)\n",
    "\n",
    "    return S - 2 * bestPossible"
   ]
  }
 ],
 "metadata": {
  "kernelspec": {
   "display_name": "Python 3 (ipykernel)",
   "language": "python",
   "name": "python3"
  },
  "language_info": {
   "codemirror_mode": {
    "name": "ipython",
    "version": 3
   },
   "file_extension": ".py",
   "mimetype": "text/x-python",
   "name": "python",
   "nbconvert_exporter": "python",
   "pygments_lexer": "ipython3",
   "version": "3.8.11"
  }
 },
 "nbformat": 4,
 "nbformat_minor": 5
}
