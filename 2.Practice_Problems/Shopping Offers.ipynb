{
 "cells": [
  {
   "cell_type": "markdown",
   "id": "6eb92baf",
   "metadata": {},
   "source": [
    "# Shopping Offers"
   ]
  },
  {
   "cell_type": "markdown",
   "id": "fcbf3777",
   "metadata": {},
   "source": [
    "In LeetCode Store, there are n items to sell. Each item has a price. However, there are some special offers, and a special offer consists of one or more different kinds of items with a sale price.\n",
    "\n",
    "You are given an integer array price where price[i] is the price of the ith item, and an integer array needs where needs[i] is the number of pieces of the ith item you want to buy.\n",
    "\n",
    "You are also given an array special where special[i] is of size n + 1 where special[i][j] is the number of pieces of the jth item in the ith offer and special[i][n] (i.e., the last integer in the array) is the price of the ith offer.\n",
    "\n",
    "Return the lowest price you have to pay for exactly certain items as given, where you could make optimal use of the special offers. You are not allowed to buy more items than you want, even if that would lower the overall price. You could use any of the special offers as many times as you want.\n",
    "\n",
    " \n",
    "\n",
    "**Example 1:**\n",
    "\n",
    "Input: price = [2,5], special = [[3,0,5],[1,2,10]], needs = [3,2]\n",
    "\n",
    "Output: 14\n",
    "Explanation: There are two kinds of items, A and B. Their prices are $2 and $5 respectively. \n",
    "In special offer 1, you can pay $5 for 3A and 0B\n",
    "In special offer 2, you can pay $10 for 1A and 2B. \n",
    "You need to buy 3A and 2B, so you may pay $10 for 1A and 2B (special offer #2), and $4 for 2A.\n",
    "**Example 2:**\n",
    "\n",
    "Input: price = [2,3,4], special = [[1,1,0,4],[2,2,1,9]], needs = [1,2,1]\n",
    "\n",
    "Output: 11\n",
    "Explanation: The price of A is $2, and $3 for B, $4 for C. \n",
    "You may pay $4 for 1A and 1B, and $9 for 2A ,2B and 1C. \n",
    "You need to buy 1A ,2B and 1C, so you may pay $4 for 1A and 1B (special offer #1), and $3 for 1B, $4 for 1C. \n",
    "You cannot add more items, though only $9 for 2A ,2B and 1C.\n",
    " \n",
    "\n",
    "**Constraints:**\n",
    "\n",
    "- n == price.length == needs.length\n",
    "- 1 <= n <= 6\n",
    "- 0 <= price[i], needs[i] <= 10\n",
    "- 1 <= special.length <= 100\n",
    "- special[i].length == n + 1\n",
    "- 0 <= special[i][j] <= 50"
   ]
  },
  {
   "cell_type": "code",
   "execution_count": 1,
   "id": "e0f47d06",
   "metadata": {},
   "outputs": [
    {
     "name": "stdout",
     "output_type": "stream",
     "text": [
      "14\n",
      "11\n"
     ]
    }
   ],
   "source": [
    "def shoppingOffers(price, special, needs):\n",
    "    def dfs(needs):\n",
    "        if tuple(needs) in memo:\n",
    "            return memo[tuple(needs)]\n",
    "\n",
    "        total_price = sum(needs[i] * price[i] for i in range(len(needs)))\n",
    "\n",
    "        for offer in special:\n",
    "            can_apply_offer = True\n",
    "            new_needs = needs.copy()\n",
    "            for i in range(len(needs)):\n",
    "                if needs[i] < offer[i]:\n",
    "                    can_apply_offer = False\n",
    "                    break\n",
    "                new_needs[i] -= offer[i]\n",
    "\n",
    "            if can_apply_offer:\n",
    "                total_price = min(total_price, offer[-1] + dfs(new_needs))\n",
    "\n",
    "        memo[tuple(needs)] = total_price\n",
    "        return total_price\n",
    "\n",
    "    memo = {}\n",
    "    return dfs(needs)\n",
    "\n",
    "# Example 1\n",
    "price1 = [2, 5]\n",
    "special1 = [[3, 0, 5], [1, 2, 10]]\n",
    "needs1 = [3, 2]\n",
    "print(shoppingOffers(price1, special1, needs1))  # Output: 14\n",
    "\n",
    "# Example 2\n",
    "price2 = [2, 3, 4]\n",
    "special2 = [[1, 1, 0, 4], [2, 2, 1, 9]]\n",
    "needs2 = [1, 2, 1]\n",
    "print(shoppingOffers(price2, special2, needs2))  # Output: 11"
   ]
  },
  {
   "cell_type": "code",
   "execution_count": null,
   "id": "d9fc083c",
   "metadata": {},
   "outputs": [],
   "source": []
  }
 ],
 "metadata": {
  "kernelspec": {
   "display_name": "Python 3",
   "language": "python",
   "name": "python3"
  },
  "language_info": {
   "codemirror_mode": {
    "name": "ipython",
    "version": 3
   },
   "file_extension": ".py",
   "mimetype": "text/x-python",
   "name": "python",
   "nbconvert_exporter": "python",
   "pygments_lexer": "ipython3",
   "version": "3.9.13"
  }
 },
 "nbformat": 4,
 "nbformat_minor": 5
}
