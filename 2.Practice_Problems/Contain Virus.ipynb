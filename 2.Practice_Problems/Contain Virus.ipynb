{
 "cells": [
  {
   "cell_type": "markdown",
   "id": "d548bc9b",
   "metadata": {},
   "source": [
    "# Contain Virus"
   ]
  },
  {
   "cell_type": "markdown",
   "id": "1ef4328c",
   "metadata": {},
   "source": [
    "A virus is spreading rapidly, and your task is to quarantine the infected area by installing walls.\n",
    "\n",
    "The world is modeled as an m x n binary grid isInfected, where isInfected[i][j] == 0 represents uninfected cells, and isInfected[i][j] == 1 represents cells contaminated with the virus. A wall (and only one wall) can be installed between any two 4-directionally adjacent cells, on the shared boundary.\n",
    "\n",
    "Every night, the virus spreads to all neighboring cells in all four directions unless blocked by a wall. Resources are limited. Each day, you can install walls around only one region (i.e., the affected area (continuous block of infected cells) that threatens the most uninfected cells the following night). There will never be a tie.\n",
    "\n",
    "Return the number of walls used to quarantine all the infected regions. If the world will become fully infected, return the number of walls used.\n",
    "\n",
    " \n",
    "\n",
    "**Example 1:**\n",
    "\n",
    "\n",
    "Input: isInfected = [[0,1,0,0,0,0,0,1],[0,1,0,0,0,0,0,1],[0,0,0,0,0,0,0,1],[0,0,0,0,0,0,0,0]]\n",
    "\n",
    "Output: 10\n",
    "Explanation: There are 2 contaminated regions.\n",
    "On the first day, add 5 walls to quarantine the viral region on the left. The board after the virus spreads is:\n",
    "\n",
    "On the second day, add 5 walls to quarantine the viral region on the right. The virus is fully contained.\n",
    "\n",
    "**Example 2:**\n",
    "\n",
    "\n",
    "Input: isInfected = [[1,1,1],[1,0,1],[1,1,1]]\n",
    "\n",
    "Output: 4\n",
    "Explanation: Even though there is only one cell saved, there are 4 walls built.\n",
    "Notice that walls are only built on the shared boundary of two different cells.\n",
    "\n",
    "**Example 3:**\n",
    "\n",
    "Input: isInfected = [[1,1,1,0,0,0,0,0,0],[1,0,1,0,1,1,1,1,1],[1,1,1,0,0,0,0,0,0]]\n",
    "\n",
    "Output: 13\n",
    "Explanation: The region on the left only builds two new walls.\n",
    " \n",
    "\n",
    "**Constraints:**\n",
    "\n",
    "- m == isInfected.length\n",
    "- n == isInfected[i].length\n",
    "- 1 <= m, n <= 50\n",
    "- isInfected[i][j] is either 0 or 1.\n",
    "- There is always a contiguous viral region throughout the described process that will infect strictly more uncontaminated squares in the next round."
   ]
  },
  {
   "cell_type": "code",
   "execution_count": 1,
   "id": "1f33c915",
   "metadata": {},
   "outputs": [
    {
     "name": "stdout",
     "output_type": "stream",
     "text": [
      "0\n",
      "0\n",
      "0\n"
     ]
    }
   ],
   "source": [
    "def containment_walls(isInfected):\n",
    "    m, n = len(isInfected), len(isInfected[0])\n",
    "    total_walls = 0\n",
    "    infected_count = 0\n",
    "    max_infected = 0\n",
    "\n",
    "    def dfs(i, j):\n",
    "        nonlocal infected_count\n",
    "        if i < 0 or i >= m or j < 0 or j >= n or isInfected[i][j] == 0:\n",
    "            return\n",
    "        isInfected[i][j] = 0\n",
    "        infected_count += 1\n",
    "        dfs(i + 1, j)\n",
    "        dfs(i - 1, j)\n",
    "        dfs(i, j + 1)\n",
    "        dfs(i, j - 1)\n",
    "\n",
    "    for i in range(m):\n",
    "        for j in range(n):\n",
    "            if isInfected[i][j] == 1:\n",
    "                infected_count = 0\n",
    "                dfs(i, j)\n",
    "                max_infected = max(max_infected, infected_count)\n",
    "\n",
    "    for i in range(m):\n",
    "        for j in range(n):\n",
    "            if isInfected[i][j] == 1:\n",
    "                walls = 4 - sum(isInfected[i + di][j + dj] for di, dj in [(0, 1), (0, -1), (1, 0), (-1, 0)] if 0 <= i + di < m and 0 <= j + dj < n)\n",
    "                total_walls += walls\n",
    "\n",
    "    return total_walls\n",
    "\n",
    "# Example usage:\n",
    "isInfected1 = [[0,1,0,0,0,0,0,1],[0,1,0,0,0,0,0,1],[0,0,0,0,0,0,0,1],[0,0,0,0,0,0,0,0]]\n",
    "print(containment_walls(isInfected1))  # Output: 10\n",
    "\n",
    "isInfected2 = [[1,1,1],[1,0,1],[1,1,1]]\n",
    "print(containment_walls(isInfected2))  # Output: 4\n",
    "\n",
    "isInfected3 = [[1,1,1,0,0,0,0,0,0],[1,0,1,0,1,1,1,1,1],[1,1,1,0,0,0,0,0,0]]\n",
    "print(containment_walls(isInfected3))  # Output: 13"
   ]
  },
  {
   "cell_type": "code",
   "execution_count": null,
   "id": "8c853315",
   "metadata": {},
   "outputs": [],
   "source": []
  }
 ],
 "metadata": {
  "kernelspec": {
   "display_name": "Python 3",
   "language": "python",
   "name": "python3"
  },
  "language_info": {
   "codemirror_mode": {
    "name": "ipython",
    "version": 3
   },
   "file_extension": ".py",
   "mimetype": "text/x-python",
   "name": "python",
   "nbconvert_exporter": "python",
   "pygments_lexer": "ipython3",
   "version": "3.9.13"
  }
 },
 "nbformat": 4,
 "nbformat_minor": 5
}
