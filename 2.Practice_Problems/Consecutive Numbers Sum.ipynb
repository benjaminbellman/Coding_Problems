{
 "cells": [
  {
   "cell_type": "markdown",
   "id": "ee73cdf3",
   "metadata": {},
   "source": [
    "# Consecutive Numbers Sum"
   ]
  },
  {
   "cell_type": "markdown",
   "id": "21622927",
   "metadata": {},
   "source": [
    "Given an integer n, return the number of ways you can write n as the sum of consecutive positive integers.\n",
    "\n",
    "**Example 1:**\n",
    "\n",
    "Input: n = 5\n",
    "Output: 2\n",
    "Explanation: 5 = 2 + 3\n",
    "\n",
    "**Example 2:**\n",
    "\n",
    "Input: n = 9\n",
    "Output: 3\n",
    "Explanation: 9 = 4 + 5 = 2 + 3 + 4\n",
    "\n",
    "**Example 3:**\n",
    "\n",
    "Input: n = 15\n",
    "Output: 4\n",
    "Explanation: 15 = 8 + 7 = 4 + 5 + 6 = 1 + 2 + 3 + 4 + 5\n",
    " \n",
    "\n",
    "**Constraints:**\n",
    "\n",
    "- 1 <= n <= 109"
   ]
  },
  {
   "cell_type": "code",
   "execution_count": 1,
   "id": "c5151806",
   "metadata": {},
   "outputs": [],
   "source": [
    "def consecutiveNumbersSum(n):\n",
    "    count = 0\n",
    "    for length in range(1, n + 1):\n",
    "        total = (length * (length + 1)) // 2\n",
    "        if total > n:\n",
    "            break\n",
    "        if (n - total) % length == 0:\n",
    "            count += 1\n",
    "    return count"
   ]
  },
  {
   "cell_type": "code",
   "execution_count": null,
   "id": "4aeba6cb",
   "metadata": {},
   "outputs": [],
   "source": []
  }
 ],
 "metadata": {
  "kernelspec": {
   "display_name": "Python 3",
   "language": "python",
   "name": "python3"
  },
  "language_info": {
   "codemirror_mode": {
    "name": "ipython",
    "version": 3
   },
   "file_extension": ".py",
   "mimetype": "text/x-python",
   "name": "python",
   "nbconvert_exporter": "python",
   "pygments_lexer": "ipython3",
   "version": "3.9.13"
  }
 },
 "nbformat": 4,
 "nbformat_minor": 5
}
