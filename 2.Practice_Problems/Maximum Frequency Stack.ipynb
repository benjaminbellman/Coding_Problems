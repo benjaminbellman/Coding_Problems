{
 "cells": [
  {
   "cell_type": "markdown",
   "id": "89b5705c",
   "metadata": {},
   "source": [
    "# Maximum Frequency Stack"
   ]
  },
  {
   "cell_type": "markdown",
   "id": "1b3f6f77",
   "metadata": {},
   "source": [
    "Design a stack-like data structure to push elements to the stack and pop the most frequent element from the stack.\n",
    "\n",
    "Implement the FreqStack class:\n",
    "\n",
    "- FreqStack() constructs an empty frequency stack.\n",
    "- void push(int val) pushes an integer val onto the top of the stack.\n",
    "- int pop() removes and returns the most frequent element in the stack.\n",
    "If there is a tie for the most frequent element, the element closest to the stack's top is removed and returned.\n",
    " \n",
    "\n",
    "**Example 1:**\n",
    "\n",
    "Input\n",
    "[\"FreqStack\", \"push\", \"push\", \"push\", \"push\", \"push\", \"push\", \"pop\", \"pop\", \"pop\", \"pop\"]\n",
    "[[], [5], [7], [5], [7], [4], [5], [], [], [], []]\n",
    "Output\n",
    "[null, null, null, null, null, null, null, 5, 7, 5, 4]\n",
    "\n",
    "Explanation\n",
    "FreqStack freqStack = new FreqStack();\n",
    "freqStack.push(5); // The stack is [5]\n",
    "freqStack.push(7); // The stack is [5,7]\n",
    "freqStack.push(5); // The stack is [5,7,5]\n",
    "freqStack.push(7); // The stack is [5,7,5,7]\n",
    "freqStack.push(4); // The stack is [5,7,5,7,4]\n",
    "freqStack.push(5); // The stack is [5,7,5,7,4,5]\n",
    "freqStack.pop();   // return 5, as 5 is the most frequent. The stack becomes [5,7,5,7,4].\n",
    "freqStack.pop();   // return 7, as 5 and 7 is the most frequent, but 7 is closest to the top. The stack becomes [5,7,5,4].\n",
    "freqStack.pop();   // return 5, as 5 is the most frequent. The stack becomes [5,7,4].\n",
    "freqStack.pop();   // return 4, as 4, 5 and 7 is the most frequent, but 4 is closest to the top. The stack becomes [5,7].\n",
    " \n",
    "\n",
    "**Constraints:**\n",
    "\n",
    "- 0 <= val <= 109\n",
    "- At most 2 * 104 calls will be made to push and pop.\n",
    "- It is guaranteed that there will be at least one element in the stack before calling pop."
   ]
  },
  {
   "cell_type": "code",
   "execution_count": 1,
   "id": "3e5d2318",
   "metadata": {},
   "outputs": [],
   "source": [
    "class FreqStack:\n",
    "    def __init__(self):\n",
    "        self.freq_map = {}\n",
    "        self.group_map = {}\n",
    "        self.max_freq = 0\n",
    "\n",
    "    def push(self, val: int) -> None:\n",
    "        # Update the frequency of the element\n",
    "        freq = self.freq_map.get(val, 0) + 1\n",
    "        self.freq_map[val] = freq\n",
    "        \n",
    "        # Update the group_map with the new frequency\n",
    "        if freq not in self.group_map:\n",
    "            self.group_map[freq] = []\n",
    "        self.group_map[freq].append(val)\n",
    "        \n",
    "        # Update the maximum frequency\n",
    "        if freq > self.max_freq:\n",
    "            self.max_freq = freq\n",
    "\n",
    "    def pop(self) -> int:\n",
    "        # Get the stack of elements with the current maximum frequency\n",
    "        val = self.group_map[self.max_freq].pop()\n",
    "        \n",
    "        # Update the frequency map\n",
    "        self.freq_map[val] -= 1\n",
    "        if self.freq_map[val] == 0:\n",
    "            del self.freq_map[val]\n",
    "        \n",
    "        # Update the group_map\n",
    "        if not self.group_map[self.max_freq]:\n",
    "            del self.group_map[self.max_freq]\n",
    "            self.max_freq -= 1\n",
    "        \n",
    "        return val"
   ]
  },
  {
   "cell_type": "code",
   "execution_count": null,
   "id": "1f2fa0f8",
   "metadata": {},
   "outputs": [],
   "source": []
  }
 ],
 "metadata": {
  "kernelspec": {
   "display_name": "Python 3 (ipykernel)",
   "language": "python",
   "name": "python3"
  },
  "language_info": {
   "codemirror_mode": {
    "name": "ipython",
    "version": 3
   },
   "file_extension": ".py",
   "mimetype": "text/x-python",
   "name": "python",
   "nbconvert_exporter": "python",
   "pygments_lexer": "ipython3",
   "version": "3.8.11"
  }
 },
 "nbformat": 4,
 "nbformat_minor": 5
}
