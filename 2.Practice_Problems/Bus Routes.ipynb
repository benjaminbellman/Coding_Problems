{
 "cells": [
  {
   "cell_type": "markdown",
   "id": "07d502ad",
   "metadata": {},
   "source": [
    "# Bus Routes"
   ]
  },
  {
   "cell_type": "markdown",
   "id": "cc29a8b8",
   "metadata": {},
   "source": [
    "You are given an array routes representing bus routes where routes[i] is a bus route that the ith bus repeats forever.\n",
    "\n",
    "For example, if routes[0] = [1, 5, 7], this means that the 0th bus travels in the sequence 1 -> 5 -> 7 -> 1 -> 5 -> 7 -> 1 -> ... forever.\n",
    "You will start at the bus stop source (You are not on any bus initially), and you want to go to the bus stop target. You can travel between bus stops by buses only.\n",
    "\n",
    "Return the least number of buses you must take to travel from source to target. Return -1 if it is not possible.\n",
    "\n",
    " \n",
    "\n",
    "**Example 1:**\n",
    "\n",
    "Input: routes = [[1,2,7],[3,6,7]], source = 1, target = 6\n",
    "Output: 2\n",
    "Explanation: The best strategy is take the first bus to the bus stop 7, then take the second bus to the bus stop 6.\n",
    "\n",
    "**Example 2:**\n",
    "\n",
    "Input: routes = [[7,12],[4,5,15],[6],[15,19],[9,12,13]], source = 15, target = 12\n",
    "Output: -1\n",
    "\n",
    "**Constraints:**\n",
    "\n",
    "- 1 <= routes.length <= 500.\n",
    "- 1 <= routes[i].length <= 105\n",
    "- All the values of routes[i] are unique.\n",
    "- sum(routes[i].length) <= 105\n",
    "- 0 <= routes[i][j] < 106\n",
    "- 0 <= source, target < 106"
   ]
  },
  {
   "cell_type": "code",
   "execution_count": 1,
   "id": "fdc22b64",
   "metadata": {},
   "outputs": [
    {
     "name": "stdout",
     "output_type": "stream",
     "text": [
      "2\n",
      "-1\n"
     ]
    }
   ],
   "source": [
    "from collections import defaultdict, deque\n",
    "\n",
    "def numBusesToDestination(routes, source, target):\n",
    "    if source == target:\n",
    "        return 0\n",
    "\n",
    "    # Create a graph where each bus stop is a node and each route is an edge between stops\n",
    "    graph = defaultdict(set)\n",
    "    for i, route in enumerate(routes):\n",
    "        for stop in route:\n",
    "            graph[stop].add(i)\n",
    "\n",
    "    # Initialize visited stops, visited routes, and the queue for BFS\n",
    "    visited_stops = set()\n",
    "    visited_routes = set()\n",
    "    queue = deque([(source, 0)])  # (stop, num_buses)\n",
    "\n",
    "    while queue:\n",
    "        stop, num_buses = queue.popleft()\n",
    "\n",
    "        if stop == target:\n",
    "            return num_buses\n",
    "\n",
    "        visited_stops.add(stop)\n",
    "\n",
    "        for route_index in graph[stop]:\n",
    "            if route_index not in visited_routes:\n",
    "                visited_routes.add(route_index)\n",
    "                for next_stop in routes[route_index]:\n",
    "                    if next_stop not in visited_stops:\n",
    "                        queue.append((next_stop, num_buses + 1))\n",
    "\n",
    "    return -1  # Target is not reachable\n",
    "\n",
    "# Example usage:\n",
    "routes1 = [[1, 2, 7], [3, 6, 7]]\n",
    "source1, target1 = 1, 6\n",
    "print(numBusesToDestination(routes1, source1, target1))  # Output: 2\n",
    "\n",
    "routes2 = [[7, 12], [4, 5, 15], [6], [15, 19], [9, 12, 13]]\n",
    "source2, target2 = 15, 12\n",
    "print(numBusesToDestination(routes2, source2, target2))  # Output: -1"
   ]
  },
  {
   "cell_type": "code",
   "execution_count": null,
   "id": "1020fa53",
   "metadata": {},
   "outputs": [],
   "source": []
  }
 ],
 "metadata": {
  "kernelspec": {
   "display_name": "Python 3",
   "language": "python",
   "name": "python3"
  },
  "language_info": {
   "codemirror_mode": {
    "name": "ipython",
    "version": 3
   },
   "file_extension": ".py",
   "mimetype": "text/x-python",
   "name": "python",
   "nbconvert_exporter": "python",
   "pygments_lexer": "ipython3",
   "version": "3.9.13"
  }
 },
 "nbformat": 4,
 "nbformat_minor": 5
}
