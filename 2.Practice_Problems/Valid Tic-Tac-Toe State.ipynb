{
 "cells": [
  {
   "cell_type": "markdown",
   "id": "e8aa890a",
   "metadata": {},
   "source": [
    "# Valid Tic-Tac-Toe State"
   ]
  },
  {
   "cell_type": "markdown",
   "id": "0ea204f8",
   "metadata": {},
   "source": [
    "Given a Tic-Tac-Toe board as a string array board, return true if and only if it is possible to reach this board position during the course of a valid tic-tac-toe game.\n",
    "\n",
    "The board is a 3 x 3 array that consists of characters ' ', 'X', and 'O'. The ' ' character represents an empty square.\n",
    "\n",
    "Here are the rules of Tic-Tac-Toe:\n",
    "\n",
    "Players take turns placing characters into empty squares ' '.\n",
    "The first player always places 'X' characters, while the second player always places 'O' characters.\n",
    "'X' and 'O' characters are always placed into empty squares, never filled ones.\n",
    "The game ends when there are three of the same (non-empty) character filling any row, column, or diagonal.\n",
    "The game also ends if all squares are non-empty.\n",
    "No more moves can be played if the game is over.\n",
    " \n",
    "\n",
    "**Example 1:**\n",
    "\n",
    "\n",
    "Input: board = [\"O  \",\"   \",\"   \"]\n",
    "\n",
    "Output: false\n",
    "Explanation: The first player always plays \"X\".\n",
    "\n",
    "**Example 2:**\n",
    "\n",
    "\n",
    "Input: board = [\"XOX\",\" X \",\"   \"]\n",
    "\n",
    "Output: false\n",
    "Explanation: Players take turns making moves.\n",
    "\n",
    "**Example 3:**\n",
    "\n",
    "\n",
    "Input: board = [\"XOX\",\"O O\",\"XOX\"]\n",
    "\n",
    "Output: true\n",
    " \n",
    "\n",
    "**Constraints:**\n",
    "\n",
    "- board.length == 3\n",
    "- board[i].length == 3\n",
    "- board[i][j] is either 'X', 'O', or ' '."
   ]
  },
  {
   "cell_type": "code",
   "execution_count": 1,
   "id": "ce509732",
   "metadata": {},
   "outputs": [
    {
     "name": "stdout",
     "output_type": "stream",
     "text": [
      "False\n",
      "False\n",
      "True\n"
     ]
    }
   ],
   "source": [
    "def validTicTacToe(board):\n",
    "    def check_winner(board, player):\n",
    "        for i in range(3):\n",
    "            if all(board[i][j] == player for j in range(3)):  # Check rows\n",
    "                return True\n",
    "            if all(board[j][i] == player for j in range(3)):  # Check columns\n",
    "                return True\n",
    "        if all(board[i][i] == player for i in range(3)):  # Check diagonal \\\n",
    "            return True\n",
    "        if all(board[i][2 - i] == player for i in range(3)):  # Check diagonal /\n",
    "            return True\n",
    "        return False\n",
    "    \n",
    "    count_X = sum(row.count('X') for row in board)\n",
    "    count_O = sum(row.count('O') for row in board)\n",
    "    \n",
    "    if count_O > count_X or count_X > count_O + 1:\n",
    "        return False\n",
    "    \n",
    "    if check_winner(board, 'X') and count_X != count_O + 1:\n",
    "        return False\n",
    "    \n",
    "    if check_winner(board, 'O') and count_X != count_O:\n",
    "        return False\n",
    "    \n",
    "    return True\n",
    "\n",
    "# Example usage:\n",
    "board1 = [\"O  \",\"   \",\"   \"]\n",
    "print(validTicTacToe(board1))  # Output: False\n",
    "\n",
    "board2 = [\"XOX\",\" X \",\"   \"]\n",
    "print(validTicTacToe(board2))  # Output: False\n",
    "\n",
    "board3 = [\"XOX\",\"O O\",\"XOX\"]\n",
    "print(validTicTacToe(board3))  # Output: True"
   ]
  },
  {
   "cell_type": "code",
   "execution_count": null,
   "id": "b6003647",
   "metadata": {},
   "outputs": [],
   "source": []
  }
 ],
 "metadata": {
  "kernelspec": {
   "display_name": "Python 3",
   "language": "python",
   "name": "python3"
  },
  "language_info": {
   "codemirror_mode": {
    "name": "ipython",
    "version": 3
   },
   "file_extension": ".py",
   "mimetype": "text/x-python",
   "name": "python",
   "nbconvert_exporter": "python",
   "pygments_lexer": "ipython3",
   "version": "3.9.13"
  }
 },
 "nbformat": 4,
 "nbformat_minor": 5
}
