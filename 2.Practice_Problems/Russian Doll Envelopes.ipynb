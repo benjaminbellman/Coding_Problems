{
 "cells": [
  {
   "cell_type": "markdown",
   "id": "cde081ce",
   "metadata": {},
   "source": [
    "# Russian Doll Envelopes\n"
   ]
  },
  {
   "cell_type": "markdown",
   "id": "8557dfd4",
   "metadata": {},
   "source": [
    "You are given a 2D array of integers envelopes where envelopes[i] = [wi, hi] represents the width and the height of an envelope.\n",
    "\n",
    "One envelope can fit into another if and only if both the width and height of one envelope are greater than the other envelope's width and height.\n",
    "\n",
    "Return the maximum number of envelopes you can Russian doll (i.e., put one inside the other).\n",
    "\n",
    "Note: You cannot rotate an envelope.\n",
    "\n",
    " \n",
    "\n",
    "**Example 1:**\n",
    "\n",
    "Input: envelopes = [[5,4],[6,4],[6,7],[2,3]]\n",
    "Output: 3\n",
    "Explanation: The maximum number of envelopes you can Russian doll is 3 ([2,3] => [5,4] => [6,7]).\n",
    "\n",
    "**Example 2:**\n",
    "\n",
    "Input: envelopes = [[1,1],[1,1],[1,1]]\n",
    "Output: 1\n",
    " \n",
    "\n",
    "**Constraints:**\n",
    "\n",
    "1 <= envelopes.length <= 105\n",
    "envelopes[i].length == 2\n",
    "1 <= wi, hi <= 105"
   ]
  },
  {
   "cell_type": "code",
   "execution_count": 1,
   "id": "7cde54f9",
   "metadata": {},
   "outputs": [
    {
     "name": "stdout",
     "output_type": "stream",
     "text": [
      "3\n",
      "1\n"
     ]
    }
   ],
   "source": [
    "def maxEnvelopes(envelopes):\n",
    "    # Sort the envelopes in ascending order based on width\n",
    "    envelopes.sort(key=lambda x: (x[0], -x[1]))\n",
    "\n",
    "    # Initialize an array to store the maximum number of envelopes that can be nested ending at each index\n",
    "    dp = [1] * len(envelopes)\n",
    "\n",
    "    # Iterate over each envelope\n",
    "    for i in range(len(envelopes)):\n",
    "        # Check all the previous envelopes\n",
    "        for j in range(i):\n",
    "            if envelopes[i][1] > envelopes[j][1]:\n",
    "                dp[i] = max(dp[i], dp[j] + 1)\n",
    "\n",
    "    # Return the maximum value in the dp array\n",
    "    return max(dp)\n",
    "\n",
    "\n",
    "# Test the code with the provided examples\n",
    "envelopes1 = [[5, 4], [6, 4], [6, 7], [2, 3]]\n",
    "print(maxEnvelopes(envelopes1))  # Output: 3\n",
    "\n",
    "envelopes2 = [[1, 1], [1, 1], [1, 1]]\n",
    "print(maxEnvelopes(envelopes2))  # Output: 1"
   ]
  }
 ],
 "metadata": {
  "kernelspec": {
   "display_name": "Python 3",
   "language": "python",
   "name": "python3"
  },
  "language_info": {
   "codemirror_mode": {
    "name": "ipython",
    "version": 3
   },
   "file_extension": ".py",
   "mimetype": "text/x-python",
   "name": "python",
   "nbconvert_exporter": "python",
   "pygments_lexer": "ipython3",
   "version": "3.9.13"
  }
 },
 "nbformat": 4,
 "nbformat_minor": 5
}
