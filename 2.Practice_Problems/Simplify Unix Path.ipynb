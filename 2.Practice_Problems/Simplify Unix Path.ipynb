{
 "cells": [
  {
   "cell_type": "markdown",
   "id": "9a3ec3a0",
   "metadata": {},
   "source": [
    "# Simplify Unix Path"
   ]
  },
  {
   "cell_type": "markdown",
   "id": "e5a332fc",
   "metadata": {},
   "source": [
    "You are given an absolute path for a Unix-style file system, which always begins with a slash '/'. Your task is to transform this absolute path into its simplified canonical path.\n",
    "\n",
    "The rules of a Unix-style file system are as follows:\n",
    "\n",
    "A single period '.' represents the current directory.\n",
    "A double period '..' represents the previous/parent directory.\n",
    "Multiple consecutive slashes such as '//' and '///' are treated as a single slash '/'.\n",
    "Any sequence of periods that does not match the rules above should be treated as a valid directory or file name. For example, '...' and '....' are valid directory or file names.\n",
    "The simplified canonical path should follow these rules:\n",
    "\n",
    "The path must start with a single slash '/'.\n",
    "Directories within the path must be separated by exactly one slash '/'.\n",
    "The path must not end with a slash '/', unless it is the root directory.\n",
    "The path must not have any single or double periods ('.' and '..') used to denote current or parent directories.\n",
    "Return the simplified canonical path.\n",
    "\n",
    " \n",
    "\n",
    "**Example 1:**\n",
    "\n",
    "Input: path = \"/home/\"\n",
    "\n",
    "Output: \"/home\"\n",
    "\n",
    "Explanation:\n",
    "\n",
    "The trailing slash should be removed.\n",
    "\n",
    "**Example 2:**\n",
    "\n",
    "Input: path = \"/home//foo/\"\n",
    "\n",
    "Output: \"/home/foo\"\n",
    "\n",
    "Explanation:\n",
    "\n",
    "Multiple consecutive slashes are replaced by a single one.\n",
    "\n",
    "**Example 3:**\n",
    "\n",
    "Input: path = \"/home/user/Documents/../Pictures\"\n",
    "\n",
    "Output: \"/home/user/Pictures\"\n",
    "\n",
    "Explanation:\n",
    "\n",
    "A double period \"..\" refers to the directory up a level (the parent directory).\n",
    "\n",
    "**Example 4:**\n",
    "\n",
    "Input: path = \"/../\"\n",
    "\n",
    "Output: \"/\"\n",
    "\n",
    "Explanation:\n",
    "\n",
    "Going one level up from the root directory is not possible.\n",
    "\n",
    "**Example 5:**\n",
    "\n",
    "Input: path = \"/.../a/../b/c/../d/./\"\n",
    "\n",
    "Output: \"/.../b/d\"\n",
    "\n",
    "Explanation:\n",
    "\n",
    "\"...\" is a valid name for a directory in this problem.\n",
    "\n",
    " \n",
    "\n",
    "**Constraints:**\n",
    "\n",
    "- 1 <= path.length <= 3000\n",
    "- path consists of English letters, digits, period '.', slash '/' or '_'.\n",
    "- path is a valid absolute Unix path."
   ]
  },
  {
   "cell_type": "code",
   "execution_count": 1,
   "id": "e67ef5ff",
   "metadata": {},
   "outputs": [],
   "source": [
    "def simplify_path(path: str) -> str:\n",
    "    components = path.split('/')\n",
    "    stack = []\n",
    "\n",
    "    for part in components:\n",
    "        if part == '' or part == '.':\n",
    "            continue\n",
    "        elif part == '..':\n",
    "            if stack:\n",
    "                stack.pop()\n",
    "        else:\n",
    "            stack.append(part)\n",
    "\n",
    "    return '/' + '/'.join(stack)"
   ]
  },
  {
   "cell_type": "code",
   "execution_count": 2,
   "id": "606a2597",
   "metadata": {},
   "outputs": [
    {
     "name": "stdout",
     "output_type": "stream",
     "text": [
      "/home\n",
      "/home/foo\n",
      "/home/user/Pictures\n",
      "/\n",
      "/.../b/d\n"
     ]
    }
   ],
   "source": [
    "print(simplify_path(\"/home/\"))                        # \"/home\"\n",
    "print(simplify_path(\"/home//foo/\"))                   # \"/home/foo\"\n",
    "print(simplify_path(\"/home/user/Documents/../Pictures\"))  # \"/home/user/Pictures\"\n",
    "print(simplify_path(\"/../\"))                          # \"/\"\n",
    "print(simplify_path(\"/.../a/../b/c/../d/./\"))         # \"/.../b/d\""
   ]
  },
  {
   "cell_type": "code",
   "execution_count": null,
   "id": "425ed0f7",
   "metadata": {},
   "outputs": [],
   "source": []
  }
 ],
 "metadata": {
  "kernelspec": {
   "display_name": "Python 3 (ipykernel)",
   "language": "python",
   "name": "python3"
  },
  "language_info": {
   "codemirror_mode": {
    "name": "ipython",
    "version": 3
   },
   "file_extension": ".py",
   "mimetype": "text/x-python",
   "name": "python",
   "nbconvert_exporter": "python",
   "pygments_lexer": "ipython3",
   "version": "3.8.11"
  }
 },
 "nbformat": 4,
 "nbformat_minor": 5
}
