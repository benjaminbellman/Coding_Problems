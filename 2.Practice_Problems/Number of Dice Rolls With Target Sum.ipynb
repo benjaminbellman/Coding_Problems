{
 "cells": [
  {
   "cell_type": "markdown",
   "id": "5aebf4dd",
   "metadata": {},
   "source": [
    "# Number of Dice Rolls With Target Sum"
   ]
  },
  {
   "cell_type": "markdown",
   "id": "c12c60b4",
   "metadata": {},
   "source": [
    "You have n dice, and each dice has k faces numbered from 1 to k.\n",
    "\n",
    "Given three integers n, k, and target, return the number of possible ways (out of the kn total ways) to roll the dice, so the sum of the face-up numbers equals target. Since the answer may be too large, return it modulo 109 + 7.\n",
    "\n",
    "**Example 1:**\n",
    "\n",
    "Input: n = 1, k = 6, target = 3\n",
    "Output: 1\n",
    "Explanation: You throw one die with 6 faces.\n",
    "There is only one way to get a sum of 3.\n",
    "\n",
    "**Example 2:**\n",
    "\n",
    "Input: n = 2, k = 6, target = 7\n",
    "Output: 6\n",
    "Explanation: You throw two dice, each with 6 faces.\n",
    "There are 6 ways to get a sum of 7: 1+6, 2+5, 3+4, 4+3, 5+2, 6+1.\n",
    "\n",
    "**Example 3:**\n",
    "\n",
    "Input: n = 30, k = 30, target = 500\n",
    "Output: 222616187\n",
    "Explanation: The answer must be returned modulo 109 + 7.\n",
    "\n",
    "**Constraints:**\n",
    "\n",
    "- 1 <= n, k <= 30\n",
    "- 1 <= target <= 1000"
   ]
  },
  {
   "cell_type": "code",
   "execution_count": 1,
   "id": "ece2e9ca",
   "metadata": {},
   "outputs": [
    {
     "data": {
      "text/plain": [
       "[1, 6, 222616187]"
      ]
     },
     "execution_count": 1,
     "metadata": {},
     "output_type": "execute_result"
    }
   ],
   "source": [
    "def num_rolls_to_target(n, k, target):\n",
    "    MOD = 10**9 + 7\n",
    "    dp = [[0] * (target + 1) for _ in range(n + 1)]\n",
    "    dp[0][0] = 1  # Base case: one way to get sum 0 with 0 dice\n",
    "    \n",
    "    for dice in range(1, n + 1):\n",
    "        for t in range(1, target + 1):\n",
    "            dp[dice][t] = sum(dp[dice - 1][t - face] for face in range(1, min(k, t) + 1)) % MOD\n",
    "    \n",
    "    return dp[n][target]\n",
    "\n",
    "# Test cases\n",
    "test_cases = [\n",
    "    (1, 6, 3),   # Expected output: 1\n",
    "    (2, 6, 7),   # Expected output: 6\n",
    "    (30, 30, 500)  # Expected output: 222616187\n",
    "]\n",
    "\n",
    "# Running the test cases\n",
    "results = [num_rolls_to_target(n, k, target) for n, k, target in test_cases]\n",
    "results"
   ]
  },
  {
   "cell_type": "code",
   "execution_count": null,
   "id": "33850f84",
   "metadata": {},
   "outputs": [],
   "source": []
  }
 ],
 "metadata": {
  "kernelspec": {
   "display_name": "Python 3 (ipykernel)",
   "language": "python",
   "name": "python3"
  },
  "language_info": {
   "codemirror_mode": {
    "name": "ipython",
    "version": 3
   },
   "file_extension": ".py",
   "mimetype": "text/x-python",
   "name": "python",
   "nbconvert_exporter": "python",
   "pygments_lexer": "ipython3",
   "version": "3.8.11"
  }
 },
 "nbformat": 4,
 "nbformat_minor": 5
}
