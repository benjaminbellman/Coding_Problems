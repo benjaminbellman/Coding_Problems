{
 "cells": [
  {
   "cell_type": "markdown",
   "id": "3bfbe4c1",
   "metadata": {},
   "source": [
    "# Guess the Word"
   ]
  },
  {
   "cell_type": "markdown",
   "id": "40c19bd1",
   "metadata": {},
   "source": [
    "You are given an array of unique strings words where words[i] is six letters long. One word of words was chosen as a secret word.\n",
    "\n",
    "You are also given the helper object Master. You may call Master.guess(word) where word is a six-letter-long string, and it must be from words. Master.guess(word) returns:\n",
    "\n",
    "-1 if word is not from words, or\n",
    "an integer representing the number of exact matches (value and position) of your guess to the secret word.\n",
    "There is a parameter allowedGuesses for each test case where allowedGuesses is the maximum number of times you can call Master.guess(word).\n",
    "\n",
    "For each test case, you should call Master.guess with the secret word without exceeding the maximum number of allowed guesses. You will get:\n",
    "\n",
    "\"Either you took too many guesses, or you did not find the secret word.\" if you called Master.guess more than allowedGuesses times or if you did not call Master.guess with the secret word, or\n",
    "\"You guessed the secret word correctly.\" if you called Master.guess with the secret word with the number of calls to Master.guess less than or equal to allowedGuesses.\n",
    "The test cases are generated such that you can guess the secret word with a reasonable strategy (other than using the bruteforce method).\n",
    "\n",
    "\n",
    "**Example 1:**\n",
    "\n",
    "Input: secret = \"acckzz\", words = [\"acckzz\",\"ccbazz\",\"eiowzz\",\"abcczz\"], allowedGuesses = 10\n",
    "Output: You guessed the secret word correctly.\n",
    "Explanation:\n",
    "master.guess(\"aaaaaa\") returns -1, because \"aaaaaa\" is not in wordlist.\n",
    "master.guess(\"acckzz\") returns 6, because \"acckzz\" is secret and has all 6 matches.\n",
    "master.guess(\"ccbazz\") returns 3, because \"ccbazz\" has 3 matches.\n",
    "master.guess(\"eiowzz\") returns 2, because \"eiowzz\" has 2 matches.\n",
    "master.guess(\"abcczz\") returns 4, because \"abcczz\" has 4 matches.\n",
    "We made 5 calls to master.guess, and one of them was the secret, so we pass the test case.\n",
    "\n",
    "**Example 2:**\n",
    "\n",
    "Input: secret = \"hamada\", words = [\"hamada\",\"khaled\"], allowedGuesses = 10\n",
    "Output: You guessed the secret word correctly.\n",
    "Explanation: Since there are two words, you can guess both.\n",
    " \n",
    "\n",
    "**Constraints:**\n",
    "\n",
    "- 1 <= words.length <= 100\n",
    "- words[i].length == 6\n",
    "- words[i] consist of lowercase English letters.\n",
    "- All the strings of wordlist are unique.\n",
    "- secret exists in words.\n",
    "- 10 <= allowedGuesses <= 30"
   ]
  },
  {
   "cell_type": "code",
   "execution_count": 1,
   "id": "995ade32",
   "metadata": {},
   "outputs": [],
   "source": [
    "class Master:\n",
    "    def __init__(self, secret):\n",
    "        self.secret = secret\n",
    "    \n",
    "    def guess(self, word):\n",
    "        if word not in words:\n",
    "            return -1\n",
    "        return sum(s == g for s, g in zip(word, self.secret))\n",
    "\n",
    "def findSecretWord(words, master, allowedGuesses):\n",
    "    possible_words = words[:]\n",
    "    \n",
    "    for _ in range(allowedGuesses):\n",
    "        # Randomly select a word to guess\n",
    "        guess = possible_words[0]\n",
    "        matches = master.guess(guess)\n",
    "        \n",
    "        if matches == 6:\n",
    "            print(\"You guessed the secret word correctly.\")\n",
    "            return\n",
    "        \n",
    "        # Narrow down the list of possible words\n",
    "        new_possible_words = []\n",
    "        for word in possible_words:\n",
    "            if sum(s == g for s, g in zip(guess, word)) == matches:\n",
    "                new_possible_words.append(word)\n",
    "        \n",
    "        possible_words = new_possible_words\n",
    "\n",
    "    print(\"Either you took too many guesses, or you did not find the secret word.\")"
   ]
  },
  {
   "cell_type": "code",
   "execution_count": null,
   "id": "69fd612d",
   "metadata": {},
   "outputs": [],
   "source": []
  }
 ],
 "metadata": {
  "kernelspec": {
   "display_name": "Python 3",
   "language": "python",
   "name": "python3"
  },
  "language_info": {
   "codemirror_mode": {
    "name": "ipython",
    "version": 3
   },
   "file_extension": ".py",
   "mimetype": "text/x-python",
   "name": "python",
   "nbconvert_exporter": "python",
   "pygments_lexer": "ipython3",
   "version": "3.9.13"
  }
 },
 "nbformat": 4,
 "nbformat_minor": 5
}
