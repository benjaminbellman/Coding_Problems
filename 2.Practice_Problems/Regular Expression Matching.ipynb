{
 "cells": [
  {
   "cell_type": "markdown",
   "id": "7bf297af",
   "metadata": {},
   "source": [
    "# Regular Expression Matching"
   ]
  },
  {
   "cell_type": "markdown",
   "id": "9bc74ce2",
   "metadata": {},
   "source": [
    "Given an input string s and a pattern p, implement regular expression matching with support for '.' and '*' where:\n",
    "\n",
    "'.' Matches any single character.​​​​\n",
    "'*' Matches zero or more of the preceding element.\n",
    "The matching should cover the entire input string (not partial).\n",
    "\n",
    "**Example 1:**\n",
    "\n",
    "Input: s = \"aa\", p = \"a\"\n",
    "Output: false\n",
    "Explanation: \"a\" does not match the entire string \"aa\".\n",
    "\n",
    "**Example 2:**\n",
    "\n",
    "Input: s = \"aa\", p = \"a*\"\n",
    "Output: true\n",
    "Explanation: '*' means zero or more of the preceding element, 'a'. Therefore, by repeating 'a' once, it becomes \"aa\".\n",
    "\n",
    "**Example 3:**\n",
    "\n",
    "Input: s = \"ab\", p = \".*\"\n",
    "Output: true\n",
    "Explanation: \".*\" means \"zero or more (*) of any character (.)\".\n",
    " \n",
    "**Constraints:**\n",
    "\n",
    "- 1 <= s.length <= 20\n",
    "- 1 <= p.length <= 20\n",
    "- s contains only lowercase English letters.\n",
    "- p contains only lowercase English letters, '.', and '*'.\n",
    "- It is guaranteed for each appearance of the character '*', there will be a previous valid character to match.- "
   ]
  },
  {
   "cell_type": "code",
   "execution_count": 1,
   "id": "0dde5426",
   "metadata": {},
   "outputs": [],
   "source": [
    "def isMatch(s: str, p: str) -> bool:\n",
    "    m, n = len(s), len(p)\n",
    "    dp = [[False] * (n + 1) for _ in range(m + 1)]\n",
    "    dp[0][0] = True\n",
    "\n",
    "    # Handle patterns like a*, a*b*, a*b*c*\n",
    "    for j in range(2, n + 1):\n",
    "        if p[j - 1] == '*':\n",
    "            dp[0][j] = dp[0][j - 2]\n",
    "\n",
    "    for i in range(1, m + 1):\n",
    "        for j in range(1, n + 1):\n",
    "            if p[j - 1] == '*':\n",
    "                dp[i][j] = dp[i][j - 2] or (\n",
    "                    dp[i - 1][j] and (s[i - 1] == p[j - 2] or p[j - 2] == '.')\n",
    "                )\n",
    "            else:\n",
    "                dp[i][j] = dp[i - 1][j - 1] and (\n",
    "                    s[i - 1] == p[j - 1] or p[j - 1] == '.'\n",
    "                )\n",
    "\n",
    "    return dp[m][n]"
   ]
  },
  {
   "cell_type": "code",
   "execution_count": 2,
   "id": "f11449b5",
   "metadata": {},
   "outputs": [
    {
     "name": "stdout",
     "output_type": "stream",
     "text": [
      "False\n",
      "True\n",
      "True\n"
     ]
    }
   ],
   "source": [
    "print(isMatch(\"aa\", \"a\"))    # False\n",
    "print(isMatch(\"aa\", \"a*\"))   # True\n",
    "print(isMatch(\"ab\", \".*\"))   # True"
   ]
  },
  {
   "cell_type": "code",
   "execution_count": null,
   "id": "b540e16f",
   "metadata": {},
   "outputs": [],
   "source": []
  }
 ],
 "metadata": {
  "kernelspec": {
   "display_name": "Python 3 (ipykernel)",
   "language": "python",
   "name": "python3"
  },
  "language_info": {
   "codemirror_mode": {
    "name": "ipython",
    "version": 3
   },
   "file_extension": ".py",
   "mimetype": "text/x-python",
   "name": "python",
   "nbconvert_exporter": "python",
   "pygments_lexer": "ipython3",
   "version": "3.8.11"
  }
 },
 "nbformat": 4,
 "nbformat_minor": 5
}
