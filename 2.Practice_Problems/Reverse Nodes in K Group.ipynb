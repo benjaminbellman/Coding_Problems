{
 "cells": [
  {
   "cell_type": "markdown",
   "id": "10e5aaf3",
   "metadata": {},
   "source": [
    "## Reverse Nodes in k-Group"
   ]
  },
  {
   "cell_type": "markdown",
   "id": "80e258d2",
   "metadata": {},
   "source": [
    "Given the head of a linked list, reverse the nodes of the list k at a time, and return the modified list.\n",
    "\n",
    "k is a positive integer and is less than or equal to the length of the linked list. If the number of nodes is not a multiple of k then left-out nodes, in the end, should remain as it is.\n",
    "\n",
    "You may not alter the values in the list's nodes, only nodes themselves may be changed."
   ]
  },
  {
   "cell_type": "code",
   "execution_count": 2,
   "id": "ff0bab9f",
   "metadata": {},
   "outputs": [],
   "source": [
    "# Definition for singly-linked list.\n",
    "class ListNode:\n",
    "    def __init__(self, val=0, next=None):\n",
    "        self.val = val\n",
    "        self.next = next\n",
    "\n",
    "def reverse_nodes_in_k_groups(head: ListNode, k: int) -> ListNode:\n",
    "    # Initialize the current node and the previous node\n",
    "    cur = head\n",
    "    prev = None\n",
    "\n",
    "    # Iterate over the linked list until we reach the end\n",
    "    while cur:\n",
    "        # Initialize the start of the current group of nodes\n",
    "        group_start = cur\n",
    "\n",
    "        # Initialize the end of the current group of nodes\n",
    "        group_end = cur\n",
    "\n",
    "        # Initialize a counter to keep track of how many nodes we have visited\n",
    "        count = 0\n",
    "\n",
    "        # Iterate over the current group of nodes\n",
    "        while group_end and count < k:\n",
    "            # Set the next node to be the end of the group\n",
    "            group_end = group_end.next\n",
    "\n",
    "            # Increment the count of visited nodes\n",
    "            count += 1\n",
    "\n",
    "        # Reverse the current group of nodes\n",
    "        next_group, cur = reverse_nodes(group_start, group_end)\n",
    "\n",
    "        # If this is the first group, set the head of the reversed linked list to be the start of the current group\n",
    "        if prev is None:\n",
    "            head = group_start\n",
    "\n",
    "        # Otherwise, link the previous group to the current group\n",
    "        else:\n",
    "            prev.next = group_start\n",
    "\n",
    "        # Set the previous group to be the current group\n",
    "        prev = next_group\n",
    "\n",
    "    return head\n",
    "\n",
    "def reverse_nodes(start: ListNode, end: ListNode) -> (ListNode, ListNode):\n",
    "    # Initialize the current node and the previous node\n",
    "    cur = start\n",
    "    prev = None\n",
    "\n",
    "    # Iterate over the current group of nodes\n",
    "    while cur != end:\n",
    "        # Save the next node\n",
    "        next = cur.next\n",
    "\n",
    "        # Set the next node of the current node to be the previous node\n",
    "        cur.next = prev\n",
    "\n",
    "        # Set the previous node to be the current node\n",
    "        prev = cur\n",
    "\n",
    "        # Set the current node to be the next node\n",
    "        cur = next\n",
    "\n",
    "    # Return the last node in the group (which is the first node after reversing) and the end of the group\n",
    "    return prev, end"
   ]
  },
  {
   "cell_type": "code",
   "execution_count": null,
   "id": "34ef8e7b",
   "metadata": {},
   "outputs": [],
   "source": []
  }
 ],
 "metadata": {
  "kernelspec": {
   "display_name": "Python 3",
   "language": "python",
   "name": "python3"
  },
  "language_info": {
   "codemirror_mode": {
    "name": "ipython",
    "version": 3
   },
   "file_extension": ".py",
   "mimetype": "text/x-python",
   "name": "python",
   "nbconvert_exporter": "python",
   "pygments_lexer": "ipython3",
   "version": "3.9.13"
  }
 },
 "nbformat": 4,
 "nbformat_minor": 5
}
