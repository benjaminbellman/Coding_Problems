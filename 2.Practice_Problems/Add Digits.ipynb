{
 "cells": [
  {
   "cell_type": "markdown",
   "id": "2501b40a",
   "metadata": {},
   "source": [
    "# Add Digits"
   ]
  },
  {
   "cell_type": "markdown",
   "id": "bba87423",
   "metadata": {},
   "source": [
    "Given an integer num, repeatedly add all its digits until the result has only one digit, and return it.\n",
    "\n",
    " \n",
    "\n",
    "**Example 1:**\n",
    "\n",
    "Input: num = 38\n",
    "Output: 2\n",
    "Explanation: The process is\n",
    "38 --> 3 + 8 --> 11\n",
    "11 --> 1 + 1 --> 2 \n",
    "Since 2 has only one digit, return it.\n",
    "\n",
    "**Example 2:**\n",
    "\n",
    "Input: num = 0\n",
    "Output: 0\n",
    " \n",
    "\n",
    "Constraints:\n",
    "\n",
    "0 <= num <= 231 - 1"
   ]
  },
  {
   "cell_type": "code",
   "execution_count": 1,
   "id": "bf32f799",
   "metadata": {},
   "outputs": [],
   "source": [
    "def addDigits(num):\n",
    "    while num >= 10:\n",
    "        digit_sum = 0\n",
    "        while num > 0:\n",
    "            digit_sum += num % 10\n",
    "            num //= 10\n",
    "        num = digit_sum\n",
    "    return num"
   ]
  },
  {
   "cell_type": "code",
   "execution_count": 2,
   "id": "603c111d",
   "metadata": {},
   "outputs": [
    {
     "name": "stdout",
     "output_type": "stream",
     "text": [
      "2\n",
      "0\n"
     ]
    }
   ],
   "source": [
    "# Test Example 1\n",
    "num = 38\n",
    "result = addDigits(num)\n",
    "print(result)  # Output: 2\n",
    "\n",
    "# Test Example 2\n",
    "num = 0\n",
    "result = addDigits(num)\n",
    "print(result)  # Output: 0"
   ]
  }
 ],
 "metadata": {
  "kernelspec": {
   "display_name": "Python 3",
   "language": "python",
   "name": "python3"
  },
  "language_info": {
   "codemirror_mode": {
    "name": "ipython",
    "version": 3
   },
   "file_extension": ".py",
   "mimetype": "text/x-python",
   "name": "python",
   "nbconvert_exporter": "python",
   "pygments_lexer": "ipython3",
   "version": "3.9.13"
  }
 },
 "nbformat": 4,
 "nbformat_minor": 5
}
