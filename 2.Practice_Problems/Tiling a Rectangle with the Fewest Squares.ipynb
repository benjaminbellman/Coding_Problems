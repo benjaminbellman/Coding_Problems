{
 "cells": [
  {
   "cell_type": "markdown",
   "id": "88093ffe",
   "metadata": {},
   "source": [
    "# Tiling a Rectangle with the Fewest Squares"
   ]
  },
  {
   "cell_type": "markdown",
   "id": "91bb4d6c",
   "metadata": {},
   "source": [
    "Given a rectangle of size n x m, return the minimum number of integer-sided squares that tile the rectangle.\n",
    "\n",
    "\n",
    "**Example 1:**\n",
    "\n",
    "Input: n = 2, m = 3\n",
    "Output: 3\n",
    "Explanation: 3 squares are necessary to cover the rectangle.\n",
    "2 (squares of 1x1)\n",
    "1 (square of 2x2)\n",
    "\n",
    "**Example 2:**\n",
    "\n",
    "Input: n = 5, m = 8\n",
    "Output: 5\n",
    "\n",
    "**Example 3:**\n",
    "\n",
    "Input: n = 11, m = 13\n",
    "Output: 6\n",
    " \n",
    "**Constraints:**\n",
    "\n",
    "- 1 <= n, m <= 13"
   ]
  },
  {
   "cell_type": "code",
   "execution_count": 1,
   "id": "3c62feb5",
   "metadata": {},
   "outputs": [],
   "source": [
    "def tilingRectangle(n: int, m: int) -> int:\n",
    "    if n > m:\n",
    "        n, m = m, n  # always let n <= m for simplicity\n",
    "\n",
    "    memo = {}\n",
    "\n",
    "    def dfs(h, w):\n",
    "        if h == 0 or w == 0:\n",
    "            return 0\n",
    "        if h == w:\n",
    "            return 1\n",
    "        if (h, w) in memo:\n",
    "            return memo[(h, w)]\n",
    "\n",
    "        res = float('inf')\n",
    "        \n",
    "        # Try all possible cuts\n",
    "        for i in range(1, h // 2 + 1):\n",
    "            res = min(res, dfs(i, w) + dfs(h - i, w))\n",
    "        for j in range(1, w // 2 + 1):\n",
    "            res = min(res, dfs(h, j) + dfs(h, w - j))\n",
    "        \n",
    "        # Try placing squares of size k x k\n",
    "        for k in range(1, min(h, w) + 1):\n",
    "            res = min(res, 1 + dfs(h - k, k) + dfs(h, w - k) + dfs(k, w - k))\n",
    "        \n",
    "        memo[(h, w)] = res\n",
    "        return res\n",
    "\n",
    "    return dfs(n, m)"
   ]
  },
  {
   "cell_type": "code",
   "execution_count": null,
   "id": "f168b11a",
   "metadata": {},
   "outputs": [],
   "source": []
  }
 ],
 "metadata": {
  "kernelspec": {
   "display_name": "Python 3 (ipykernel)",
   "language": "python",
   "name": "python3"
  },
  "language_info": {
   "codemirror_mode": {
    "name": "ipython",
    "version": 3
   },
   "file_extension": ".py",
   "mimetype": "text/x-python",
   "name": "python",
   "nbconvert_exporter": "python",
   "pygments_lexer": "ipython3",
   "version": "3.8.11"
  }
 },
 "nbformat": 4,
 "nbformat_minor": 5
}
