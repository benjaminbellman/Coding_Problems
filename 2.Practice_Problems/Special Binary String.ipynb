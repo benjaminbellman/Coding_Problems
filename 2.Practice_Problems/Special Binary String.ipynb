{
 "cells": [
  {
   "cell_type": "markdown",
   "id": "4a1c431f",
   "metadata": {},
   "source": [
    "# Special Binary String"
   ]
  },
  {
   "cell_type": "markdown",
   "id": "3e5fc9ac",
   "metadata": {},
   "source": [
    "Special binary strings are binary strings with the following two properties:\n",
    "\n",
    "The number of 0's is equal to the number of 1's.\n",
    "Every prefix of the binary string has at least as many 1's as 0's.\n",
    "You are given a special binary string s.\n",
    "\n",
    "A move consists of choosing two consecutive, non-empty, special substrings of s, and swapping them. Two strings are consecutive if the last character of the first string is exactly one index before the first character of the second string.\n",
    "\n",
    "Return the lexicographically largest resulting string possible after applying the mentioned operations on the string.\n",
    "\n",
    " \n",
    "\n",
    "**Example 1:**\n",
    "\n",
    "Input: s = \"11011000\"\n",
    "\n",
    "Output: \"11100100\"\n",
    "Explanation: The strings \"10\" [occuring at s[1]] and \"1100\" [at s[3]] are swapped.\n",
    "This is the lexicographically largest string possible after some number of swaps.\n",
    "\n",
    "**Example 2:**\n",
    "\n",
    "Input: s = \"10\"\n",
    "Output: \"10\"\n",
    " \n",
    "\n",
    "**Constraints:**\n",
    "\n",
    "- 1 <= s.length <= 50\n",
    "- s[i] is either '0' or '1'.\n",
    "- s is a special binary string."
   ]
  },
  {
   "cell_type": "code",
   "execution_count": 1,
   "id": "214b65e0",
   "metadata": {},
   "outputs": [
    {
     "name": "stdout",
     "output_type": "stream",
     "text": [
      "11100100\n",
      "10\n"
     ]
    }
   ],
   "source": [
    "def makeLargestSpecial(s):\n",
    "    count = i = 0\n",
    "    res = []\n",
    "    for j, v in enumerate(s):\n",
    "        count = count + 1 if v == '1' else count - 1\n",
    "        if count == 0:\n",
    "            res.append('1' + makeLargestSpecial(s[i + 1:j]) + '0')\n",
    "            i = j + 1\n",
    "    return ''.join(sorted(res, reverse=True))\n",
    "\n",
    "# Example usage\n",
    "s1 = \"11011000\"\n",
    "print(makeLargestSpecial(s1))  # Output: \"11100100\"\n",
    "\n",
    "s2 = \"10\"\n",
    "print(makeLargestSpecial(s2))  # Output: \"10\""
   ]
  },
  {
   "cell_type": "code",
   "execution_count": null,
   "id": "078cc748",
   "metadata": {},
   "outputs": [],
   "source": []
  }
 ],
 "metadata": {
  "kernelspec": {
   "display_name": "Python 3",
   "language": "python",
   "name": "python3"
  },
  "language_info": {
   "codemirror_mode": {
    "name": "ipython",
    "version": 3
   },
   "file_extension": ".py",
   "mimetype": "text/x-python",
   "name": "python",
   "nbconvert_exporter": "python",
   "pygments_lexer": "ipython3",
   "version": "3.9.13"
  }
 },
 "nbformat": 4,
 "nbformat_minor": 5
}
