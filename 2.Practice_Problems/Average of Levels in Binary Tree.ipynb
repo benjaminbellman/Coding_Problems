{
 "cells": [
  {
   "cell_type": "markdown",
   "id": "aaf9d79f",
   "metadata": {},
   "source": [
    "# Average of Levels in Binary Tree"
   ]
  },
  {
   "cell_type": "markdown",
   "id": "6e7cf3e1",
   "metadata": {},
   "source": [
    "Given the root of a binary tree, return the average value of the nodes on each level in the form of an array. Answers within 10-5 of the actual answer will be accepted.\n",
    " \n",
    "\n",
    "**Example 1:**\n",
    "\n",
    "\n",
    "Input: root = [3,9,20,null,null,15,7]\n",
    "\n",
    "Output: [3.00000,14.50000,11.00000]\n",
    "Explanation: The average value of nodes on level 0 is 3, on level 1 is 14.5, and on level 2 is 11.\n",
    "Hence return [3, 14.5, 11].\n",
    "\n",
    "**Example 2:**\n",
    "\n",
    "\n",
    "Input: root = [3,9,20,15,7]\n",
    "\n",
    "Output: [3.00000,14.50000,11.00000]\n",
    " \n",
    "\n",
    "**Constraints:**\n",
    "\n",
    "- The number of nodes in the tree is in the range [1, 104].\n",
    "- -231 <= Node.val <= 231 - 1"
   ]
  },
  {
   "cell_type": "code",
   "execution_count": 1,
   "id": "0723d4f8",
   "metadata": {},
   "outputs": [],
   "source": [
    "class TreeNode:\n",
    "    def __init__(self, val=0, left=None, right=None):\n",
    "        self.val = val\n",
    "        self.left = left\n",
    "        self.right = right\n",
    "\n",
    "def averageOfLevels(root):\n",
    "    if not root:\n",
    "        return []\n",
    "\n",
    "    result = []\n",
    "    queue = [root]\n",
    "\n",
    "    while queue:\n",
    "        level_sum = 0\n",
    "        level_count = len(queue)\n",
    "\n",
    "        for i in range(level_count):\n",
    "            node = queue.pop(0)\n",
    "            level_sum += node.val\n",
    "\n",
    "            if node.left:\n",
    "                queue.append(node.left)\n",
    "            if node.right:\n",
    "                queue.append(node.right)\n",
    "\n",
    "        result.append(level_sum / level_count)\n",
    "\n",
    "    return result"
   ]
  },
  {
   "cell_type": "code",
   "execution_count": 2,
   "id": "09822c8d",
   "metadata": {},
   "outputs": [
    {
     "name": "stdout",
     "output_type": "stream",
     "text": [
      "[3.0, 14.5, 11.0]\n"
     ]
    }
   ],
   "source": [
    "# Create the binary tree from the given example\n",
    "root = TreeNode(3)\n",
    "root.left = TreeNode(9)\n",
    "root.right = TreeNode(20)\n",
    "root.right.left = TreeNode(15)\n",
    "root.right.right = TreeNode(7)\n",
    "\n",
    "# Call the function to get the average values\n",
    "averages = averageOfLevels(root)\n",
    "\n",
    "# Print the result\n",
    "print(averages)  # Output: [3.0, 14.5, 11.0]"
   ]
  },
  {
   "cell_type": "code",
   "execution_count": null,
   "id": "80966bae",
   "metadata": {},
   "outputs": [],
   "source": []
  }
 ],
 "metadata": {
  "kernelspec": {
   "display_name": "Python 3",
   "language": "python",
   "name": "python3"
  },
  "language_info": {
   "codemirror_mode": {
    "name": "ipython",
    "version": 3
   },
   "file_extension": ".py",
   "mimetype": "text/x-python",
   "name": "python",
   "nbconvert_exporter": "python",
   "pygments_lexer": "ipython3",
   "version": "3.9.13"
  }
 },
 "nbformat": 4,
 "nbformat_minor": 5
}
