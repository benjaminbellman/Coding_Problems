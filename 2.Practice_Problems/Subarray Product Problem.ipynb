{
 "cells": [
  {
   "cell_type": "markdown",
   "id": "34bb0970",
   "metadata": {},
   "source": [
    "# Subarray Product Problem"
   ]
  },
  {
   "cell_type": "markdown",
   "id": "964f9b15",
   "metadata": {},
   "source": [
    "Given an array of integers nums and an integer k, return the number of contiguous subarrays where the product of all the elements in the subarray is strictly less than k.\n",
    "\n",
    " \n",
    "\n",
    "**Example 1:**\n",
    "\n",
    "Input: nums = [10,5,2,6], k = 100\n",
    "Output: 8\n",
    "Explanation: The 8 subarrays that have product less than 100 are:\n",
    "[10], [5], [2], [6], [10, 5], [5, 2], [2, 6], [5, 2, 6]\n",
    "Note that [10, 5, 2] is not included as the product of 100 is not strictly less than k.\n",
    "\n",
    "**Example 2:**\n",
    "\n",
    "Input: nums = [1,2,3], k = 0\n",
    "Output: 0\n",
    " \n",
    "\n",
    "**Constraints:**\n",
    "\n",
    "- 1 <= nums.length <= 3 * 104\n",
    "- 1 <= nums[i] <= 1000\n",
    "- 0 <= k <= 106"
   ]
  },
  {
   "cell_type": "code",
   "execution_count": 1,
   "id": "507f0ce1",
   "metadata": {},
   "outputs": [
    {
     "name": "stdout",
     "output_type": "stream",
     "text": [
      "8\n",
      "0\n"
     ]
    }
   ],
   "source": [
    "def countSubarrayProductLessThanK(nums, k):\n",
    "    if k <= 1:\n",
    "        return 0\n",
    "    \n",
    "    count = 0\n",
    "    product = 1\n",
    "    left = 0\n",
    "    \n",
    "    for right in range(len(nums)):\n",
    "        product *= nums[right]\n",
    "        \n",
    "        while product >= k:\n",
    "            product /= nums[left]\n",
    "            left += 1\n",
    "        \n",
    "        count += right - left + 1\n",
    "    \n",
    "    return count\n",
    "\n",
    "# Test cases\n",
    "print(countSubarrayProductLessThanK([10,5,2,6], 100))  # Output: 8\n",
    "print(countSubarrayProductLessThanK([1,2,3], 0))       # Output: 0"
   ]
  },
  {
   "cell_type": "code",
   "execution_count": null,
   "id": "9075d400",
   "metadata": {},
   "outputs": [],
   "source": []
  }
 ],
 "metadata": {
  "kernelspec": {
   "display_name": "Python 3",
   "language": "python",
   "name": "python3"
  },
  "language_info": {
   "codemirror_mode": {
    "name": "ipython",
    "version": 3
   },
   "file_extension": ".py",
   "mimetype": "text/x-python",
   "name": "python",
   "nbconvert_exporter": "python",
   "pygments_lexer": "ipython3",
   "version": "3.9.13"
  }
 },
 "nbformat": 4,
 "nbformat_minor": 5
}
