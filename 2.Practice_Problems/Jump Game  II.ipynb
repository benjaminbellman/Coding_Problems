{
 "cells": [
  {
   "cell_type": "markdown",
   "id": "310ad38d",
   "metadata": {},
   "source": [
    "# Jump Game II"
   ]
  },
  {
   "cell_type": "markdown",
   "id": "5a3f71bb",
   "metadata": {},
   "source": [
    "You are given a 0-indexed array of integers nums of length n. You are initially positioned at nums[0].\n",
    "\n",
    "Each element nums[i] represents the maximum length of a forward jump from index i. In other words, if you are at nums[i], you can jump to any nums[i + j] where:\n",
    "\n",
    "0 <= j <= nums[i] and\n",
    "i + j < n\n",
    "Return the minimum number of jumps to reach nums[n - 1]. The test cases are generated such that you can reach nums[n - 1].\n",
    "\n",
    " \n",
    "\n",
    "**Example 1:**\n",
    "\n",
    "Input: nums = [2,3,1,1,4]\n",
    "Output: 2\n",
    "Explanation: The minimum number of jumps to reach the last index is 2. Jump 1 step from index 0 to 1, then 3 steps to the last index.\n",
    "\n",
    "**Example 2:**\n",
    "\n",
    "Input: nums = [2,3,0,1,4]\n",
    "Output: 2\n",
    " \n",
    "\n",
    "**Constraints:**\n",
    "\n",
    "1 <= nums.length <= 104\n",
    "0 <= nums[i] <= 1000"
   ]
  },
  {
   "cell_type": "code",
   "execution_count": 1,
   "id": "da788d2c",
   "metadata": {},
   "outputs": [],
   "source": [
    "def minJumps(nums):\n",
    "    # Edge case: if the array has less than 2 elements, return 0\n",
    "    if len(nums) < 2:\n",
    "        return 0\n",
    "\n",
    "    # Initialize variables to keep track of the current position and the number of jumps taken\n",
    "    curr_pos = 0\n",
    "    num_jumps = 0\n",
    "\n",
    "    # Keep track of the maximum reachable position from each index\n",
    "    max_reach = [0] * len(nums)\n",
    "\n",
    "    # Iterate through the array\n",
    "    while curr_pos < len(nums) - 1:\n",
    "        # Update the maximum reachable position from the current index\n",
    "        max_reach[curr_pos] = max(max_reach[curr_pos], nums[curr_pos] + curr_pos)\n",
    "\n",
    "        # Find the next index to jump to\n",
    "        next_jump = curr_pos + 1\n",
    "        for i in range(curr_pos + 1, min(curr_pos + nums[curr_pos] + 1, len(nums))):\n",
    "            # If we can reach the last element from the current index, return the number of jumps taken\n",
    "            if i + nums[i] >= len(nums) - 1:\n",
    "                return num_jumps + 1\n",
    "\n",
    "            # Choose the index that maximizes the reachable position\n",
    "            if max_reach[next_jump] < max_reach[i]:\n",
    "                next_jump = i\n",
    "\n",
    "        # Update the current position and the number of jumps taken\n",
    "        curr_pos = next_jump\n",
    "        num_jumps += 1\n",
    "\n",
    "    return num_jumps\n"
   ]
  },
  {
   "cell_type": "markdown",
   "id": "9a29193a",
   "metadata": {},
   "source": [
    "This solution first initializes a list max_reach which will store the maximum reachable position from each index. It then iterates through the array, updating the maximum reachable position at each index and choosing the next index to jump to based on the maximum reachable position. If the maximum reachable position at the current index is greater than or equal to the last element of the array, the function returns the number of jumps taken. Otherwise, it increments the number of jumps taken and continues to the next index."
   ]
  },
  {
   "cell_type": "code",
   "execution_count": null,
   "id": "1f5df507",
   "metadata": {},
   "outputs": [],
   "source": []
  }
 ],
 "metadata": {
  "kernelspec": {
   "display_name": "Python 3",
   "language": "python",
   "name": "python3"
  },
  "language_info": {
   "codemirror_mode": {
    "name": "ipython",
    "version": 3
   },
   "file_extension": ".py",
   "mimetype": "text/x-python",
   "name": "python",
   "nbconvert_exporter": "python",
   "pygments_lexer": "ipython3",
   "version": "3.9.13"
  }
 },
 "nbformat": 4,
 "nbformat_minor": 5
}
