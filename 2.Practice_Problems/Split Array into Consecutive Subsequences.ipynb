{
 "cells": [
  {
   "cell_type": "markdown",
   "id": "89a9f17a",
   "metadata": {},
   "source": [
    "# Split Array into Consecutive Subsequences"
   ]
  },
  {
   "cell_type": "markdown",
   "id": "cd2016a5",
   "metadata": {},
   "source": [
    "You are given an integer array nums that is sorted in non-decreasing order.\n",
    "\n",
    "Determine if it is possible to split nums into one or more subsequences such that both of the following conditions are true:\n",
    "\n",
    "Each subsequence is a consecutive increasing sequence (i.e. each integer is exactly one more than the previous integer).\n",
    "All subsequences have a length of 3 or more.\n",
    "Return true if you can split nums according to the above conditions, or false otherwise.\n",
    "\n",
    "A subsequence of an array is a new array that is formed from the original array by deleting some (can be none) of the elements without disturbing the relative positions of the remaining elements. (i.e., [1,3,5] is a subsequence of [1,2,3,4,5] while [1,3,2] is not).\n",
    "\n",
    " \n",
    "\n",
    "**Example 1:**\n",
    "\n",
    "Input: nums = [1,2,3,3,4,5]\n",
    "\n",
    "Output: true\n",
    "Explanation: nums can be split into the following subsequences:\n",
    "[1,2,3,3,4,5] --> 1, 2, 3\n",
    "[1,2,3,3,4,5] --> 3, 4, 5\n",
    "\n",
    "**Example 2:**\n",
    "\n",
    "Input: nums = [1,2,3,3,4,4,5,5]\n",
    "\n",
    "Output: true\n",
    "Explanation: nums can be split into the following subsequences:\n",
    "[1,2,3,3,4,4,5,5] --> 1, 2, 3, 4, 5\n",
    "[1,2,3,3,4,4,5,5] --> 3, 4, 5\n",
    "\n",
    "**Example 3:**\n",
    "\n",
    "Input: nums = [1,2,3,4,4,5]\n",
    "\n",
    "Output: false\n",
    "Explanation: It is impossible to split nums into consecutive increasing subsequences of length 3 or more.\n",
    " \n",
    "\n",
    "**Constraints:**\n",
    "\n",
    "- 1 <= nums.length <= 104\n",
    "- -1000 <= nums[i] <= 1000\n",
    "- nums is sorted in non-decreasing order."
   ]
  },
  {
   "cell_type": "code",
   "execution_count": 1,
   "id": "428ff360",
   "metadata": {},
   "outputs": [
    {
     "name": "stdout",
     "output_type": "stream",
     "text": [
      "True\n",
      "True\n",
      "False\n"
     ]
    }
   ],
   "source": [
    "from collections import defaultdict\n",
    "\n",
    "def canSplit(nums):\n",
    "    freq = defaultdict(int)\n",
    "    tails = defaultdict(int)\n",
    "\n",
    "    for num in nums:\n",
    "        freq[num] += 1\n",
    "\n",
    "    for num in nums:\n",
    "        if freq[num] == 0:\n",
    "            continue\n",
    "        elif tails[num - 1] > 0:\n",
    "            tails[num - 1] -= 1\n",
    "            tails[num] += 1\n",
    "        elif freq[num + 1] > 0 and freq[num + 2] > 0:\n",
    "            freq[num + 1] -= 1\n",
    "            freq[num + 2] -= 1\n",
    "            tails[num + 2] += 1\n",
    "        else:\n",
    "            return False\n",
    "\n",
    "        freq[num] -= 1\n",
    "\n",
    "    return True\n",
    "\n",
    "# Example 1\n",
    "nums1 = [1, 2, 3, 3, 4, 5]\n",
    "print(canSplit(nums1))  # Output: True\n",
    "\n",
    "# Example 2\n",
    "nums2 = [1, 2, 3, 3, 4, 4, 5, 5]\n",
    "print(canSplit(nums2))  # Output: True\n",
    "\n",
    "# Example 3\n",
    "nums3 = [1, 2, 3, 4, 4, 5]\n",
    "print(canSplit(nums3))  # Output: False"
   ]
  },
  {
   "cell_type": "code",
   "execution_count": null,
   "id": "f5f48a63",
   "metadata": {},
   "outputs": [],
   "source": []
  }
 ],
 "metadata": {
  "kernelspec": {
   "display_name": "Python 3",
   "language": "python",
   "name": "python3"
  },
  "language_info": {
   "codemirror_mode": {
    "name": "ipython",
    "version": 3
   },
   "file_extension": ".py",
   "mimetype": "text/x-python",
   "name": "python",
   "nbconvert_exporter": "python",
   "pygments_lexer": "ipython3",
   "version": "3.9.13"
  }
 },
 "nbformat": 4,
 "nbformat_minor": 5
}
