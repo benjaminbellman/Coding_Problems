{
 "cells": [
  {
   "cell_type": "markdown",
   "id": "a271b12b",
   "metadata": {},
   "source": [
    "# Random Point in Non-overlapping Rectangles"
   ]
  },
  {
   "cell_type": "markdown",
   "id": "e1d89922",
   "metadata": {},
   "source": [
    "You are given an array of non-overlapping axis-aligned rectangles rects where rects[i] = [ai, bi, xi, yi] indicates that (ai, bi) is the bottom-left corner point of the ith rectangle and (xi, yi) is the top-right corner point of the ith rectangle. Design an algorithm to pick a random integer point inside the space covered by one of the given rectangles. A point on the perimeter of a rectangle is included in the space covered by the rectangle.\n",
    "\n",
    "Any integer point inside the space covered by one of the given rectangles should be equally likely to be returned.\n",
    "\n",
    "Note that an integer point is a point that has integer coordinates.\n",
    "\n",
    "Implement the Solution class:\n",
    "\n",
    "Solution(int[][] rects) Initializes the object with the given rectangles rects.\n",
    "int[] pick() Returns a random integer point [u, v] inside the space covered by one of the given rectangles.\n",
    " \n",
    "\n",
    "**Example 1:**\n",
    "\n",
    "\n",
    "Input\n",
    "[\"Solution\", \"pick\", \"pick\", \"pick\", \"pick\", \"pick\"]\n",
    "[[[[-2, -2, 1, 1], [2, 2, 4, 6]]], [], [], [], [], []]\n",
    "Output\n",
    "[null, [1, -2], [1, -1], [-1, -2], [-2, -2], [0, 0]]\n",
    "\n",
    "Explanation\n",
    "Solution solution = new Solution([[-2, -2, 1, 1], [2, 2, 4, 6]]);\n",
    "solution.pick(); // return [1, -2]\n",
    "solution.pick(); // return [1, -1]\n",
    "solution.pick(); // return [-1, -2]\n",
    "solution.pick(); // return [-2, -2]\n",
    "solution.pick(); // return [0, 0]\n",
    " \n",
    "\n",
    "**Constraints:**\n",
    "\n",
    "- 1 <= rects.length <= 100\n",
    "- rects[i].length == 4\n",
    "- -109 <= ai < xi <= 109\n",
    "- -109 <= bi < yi <= 109\n",
    "- xi - ai <= 2000\n",
    "- yi - bi <= 2000\n",
    "- All the rectangles do not overlap.\n",
    "- At most 104 calls will be made to pick."
   ]
  },
  {
   "cell_type": "code",
   "execution_count": 1,
   "id": "081422ba",
   "metadata": {},
   "outputs": [
    {
     "name": "stdout",
     "output_type": "stream",
     "text": [
      "[1, -2]\n",
      "[3, 6]\n",
      "[1, -2]\n",
      "[1, 1]\n",
      "[2, 5]\n"
     ]
    }
   ],
   "source": [
    "import random\n",
    "\n",
    "class Solution:\n",
    "\n",
    "    def __init__(self, rects):\n",
    "        self.rects = rects\n",
    "        self.prefix_sum = [0]\n",
    "        \n",
    "        for x1, y1, x2, y2 in rects:\n",
    "            num_points = (x2 - x1 + 1) * (y2 - y1 + 1)\n",
    "            self.prefix_sum.append(self.prefix_sum[-1] + num_points)\n",
    "        \n",
    "    def pick(self):\n",
    "        total_points = self.prefix_sum[-1]\n",
    "        rand_point = random.randint(1, total_points)\n",
    "        \n",
    "        # Find which rectangle the random point belongs to\n",
    "        for i in range(len(self.prefix_sum) - 1):\n",
    "            if self.prefix_sum[i] < rand_point <= self.prefix_sum[i+1]:\n",
    "                rect = self.rects[i]\n",
    "                break\n",
    "        \n",
    "        x1, y1, x2, y2 = rect\n",
    "        x = random.randint(x1, x2)\n",
    "        y = random.randint(y1, y2)\n",
    "        return [x, y]\n",
    "\n",
    "# Example usage:\n",
    "solution = Solution([[-2, -2, 1, 1], [2, 2, 4, 6]])\n",
    "print(solution.pick())  # Returns a random point in one of the rectangles\n",
    "print(solution.pick())\n",
    "print(solution.pick())\n",
    "print(solution.pick())\n",
    "print(solution.pick())"
   ]
  },
  {
   "cell_type": "code",
   "execution_count": null,
   "id": "bbbdb56a",
   "metadata": {},
   "outputs": [],
   "source": []
  }
 ],
 "metadata": {
  "kernelspec": {
   "display_name": "Python 3",
   "language": "python",
   "name": "python3"
  },
  "language_info": {
   "codemirror_mode": {
    "name": "ipython",
    "version": 3
   },
   "file_extension": ".py",
   "mimetype": "text/x-python",
   "name": "python",
   "nbconvert_exporter": "python",
   "pygments_lexer": "ipython3",
   "version": "3.9.13"
  }
 },
 "nbformat": 4,
 "nbformat_minor": 5
}
