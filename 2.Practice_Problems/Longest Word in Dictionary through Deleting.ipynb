{
 "cells": [
  {
   "cell_type": "markdown",
   "id": "c9dbd663",
   "metadata": {},
   "source": [
    "# Longest Word in Dictionary through Deleting"
   ]
  },
  {
   "cell_type": "markdown",
   "id": "1b917e7c",
   "metadata": {},
   "source": [
    "Given a string s and a string array dictionary, return the longest string in the dictionary that can be formed by deleting some of the given string characters. If there is more than one possible result, return the longest word with the smallest lexicographical order. If there is no possible result, return the empty string.\n",
    "\n",
    " \n",
    "\n",
    "**Example 1:**\n",
    "\n",
    "Input: s = \"abpcplea\", dictionary = [\"ale\",\"apple\",\"monkey\",\"plea\"]\n",
    "Output: \"apple\"\n",
    "\n",
    "**Example 2:\n",
    "\n",
    "Input: s = \"abpcplea\", dictionary = [\"a\",\"b\",\"c\"]\n",
    "Output: \"a\"\n",
    " \n",
    "\n",
    "**Constraints:**\n",
    "\n",
    "- 1 <= s.length <= 1000\n",
    "- 1 <= dictionary.length <= 1000\n",
    "- 1 <= dictionary[i].length <= 1000\n",
    "- s and dictionary[i] consist of lowercase English letters."
   ]
  },
  {
   "cell_type": "code",
   "execution_count": 1,
   "id": "1361d739",
   "metadata": {},
   "outputs": [
    {
     "name": "stdout",
     "output_type": "stream",
     "text": [
      "apple\n",
      "a\n"
     ]
    }
   ],
   "source": [
    "def findLongestWord(s, dictionary):\n",
    "    # Sort dictionary based on the length and lexicographical order\n",
    "    dictionary.sort(key=lambda x: (-len(x), x))\n",
    "    \n",
    "    # Check if word can be formed from s by deleting some characters\n",
    "    def canForm(word, s):\n",
    "        i, j = 0, 0\n",
    "        while i < len(word) and j < len(s):\n",
    "            if word[i] == s[j]:\n",
    "                i += 1\n",
    "            j += 1\n",
    "        return i == len(word)\n",
    "    \n",
    "    # Iterate through sorted dictionary and return the first word that can be formed\n",
    "    for word in dictionary:\n",
    "        if canForm(word, s):\n",
    "            return word\n",
    "    return \"\"\n",
    "\n",
    "# Test\n",
    "s1 = \"abpcplea\"\n",
    "dictionary1 = [\"ale\", \"apple\", \"monkey\", \"plea\"]\n",
    "print(findLongestWord(s1, dictionary1))  # Output: \"apple\"\n",
    "\n",
    "s2 = \"abpcplea\"\n",
    "dictionary2 = [\"a\", \"b\", \"c\"]\n",
    "print(findLongestWord(s2, dictionary2))  # Output: \"a\""
   ]
  }
 ],
 "metadata": {
  "kernelspec": {
   "display_name": "Python 3",
   "language": "python",
   "name": "python3"
  },
  "language_info": {
   "codemirror_mode": {
    "name": "ipython",
    "version": 3
   },
   "file_extension": ".py",
   "mimetype": "text/x-python",
   "name": "python",
   "nbconvert_exporter": "python",
   "pygments_lexer": "ipython3",
   "version": "3.9.13"
  }
 },
 "nbformat": 4,
 "nbformat_minor": 5
}
