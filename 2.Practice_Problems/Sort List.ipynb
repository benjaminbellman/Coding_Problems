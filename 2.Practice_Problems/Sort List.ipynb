{
 "cells": [
  {
   "cell_type": "markdown",
   "id": "5bd63c22",
   "metadata": {},
   "source": [
    "# Sort List"
   ]
  },
  {
   "cell_type": "markdown",
   "id": "81b3e271",
   "metadata": {},
   "source": [
    "Given the head of a linked list, return the list after sorting it in ascending order.\n",
    "\n",
    "**Example 1:**\n",
    "\n",
    "Input: head = [4,2,1,3]\n",
    "Output: [1,2,3,4]\n",
    "\n",
    "**Example 2:**\n",
    "\n",
    "Input: head = [-1,5,3,4,0]\n",
    "Output: [-1,0,3,4,5]\n",
    "\n",
    "**Example 3:**\n",
    "\n",
    "Input: head = []\n",
    "Output: []\n",
    "\n",
    "**Constraints:**\n",
    "\n",
    "- The number of nodes in the list is in the range [0, 5 * 104].\n",
    "- -105 <= Node.val <= 105"
   ]
  },
  {
   "cell_type": "code",
   "execution_count": 1,
   "id": "030f08d9",
   "metadata": {},
   "outputs": [],
   "source": [
    "# Definition for singly-linked list.\n",
    "class ListNode:\n",
    "    def __init__(self, val=0, next=None):\n",
    "        self.val = val\n",
    "        self.next = next\n",
    "\n",
    "class Solution:\n",
    "    def sortList(self, head: ListNode) -> ListNode:\n",
    "        # Base case: if head is None or single element\n",
    "        if not head or not head.next:\n",
    "            return head\n",
    "\n",
    "        # Split list into two halves\n",
    "        slow, fast = head, head.next\n",
    "        while fast and fast.next:\n",
    "            slow = slow.next\n",
    "            fast = fast.next.next\n",
    "\n",
    "        mid = slow.next\n",
    "        slow.next = None  # Split the list\n",
    "\n",
    "        # Recursive sort for each half\n",
    "        left = self.sortList(head)\n",
    "        right = self.sortList(mid)\n",
    "\n",
    "        # Merge the sorted halves\n",
    "        return self.merge(left, right)\n",
    "\n",
    "    def merge(self, l1, l2):\n",
    "        dummy = ListNode()\n",
    "        tail = dummy\n",
    "\n",
    "        while l1 and l2:\n",
    "            if l1.val < l2.val:\n",
    "                tail.next = l1\n",
    "                l1 = l1.next\n",
    "            else:\n",
    "                tail.next = l2\n",
    "                l2 = l2.next\n",
    "            tail = tail.next\n",
    "\n",
    "        # Attach remaining nodes\n",
    "        tail.next = l1 if l1 else l2\n",
    "        return dummy.next"
   ]
  },
  {
   "cell_type": "code",
   "execution_count": null,
   "id": "1b806d65",
   "metadata": {},
   "outputs": [],
   "source": []
  }
 ],
 "metadata": {
  "kernelspec": {
   "display_name": "Python 3 (ipykernel)",
   "language": "python",
   "name": "python3"
  },
  "language_info": {
   "codemirror_mode": {
    "name": "ipython",
    "version": 3
   },
   "file_extension": ".py",
   "mimetype": "text/x-python",
   "name": "python",
   "nbconvert_exporter": "python",
   "pygments_lexer": "ipython3",
   "version": "3.8.11"
  }
 },
 "nbformat": 4,
 "nbformat_minor": 5
}
