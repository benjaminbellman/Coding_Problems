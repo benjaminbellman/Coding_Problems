{
 "cells": [
  {
   "cell_type": "markdown",
   "id": "d122542e",
   "metadata": {},
   "source": [
    "# Partition List"
   ]
  },
  {
   "cell_type": "markdown",
   "id": "7e1006ec",
   "metadata": {},
   "source": [
    "Given the head of a linked list and a value x, partition it such that all nodes less than x come before nodes greater than or equal to x.\n",
    "\n",
    "You should preserve the original relative order of the nodes in each of the two partitions.\n",
    " \n",
    "**Example 1:**\n",
    "\n",
    "Input: head = [1,4,3,2,5,2], x = 3\n",
    "Output: [1,2,2,4,3,5]\n",
    "\n",
    "**Example 2:**\n",
    "\n",
    "Input: head = [2,1], x = 2\n",
    "Output: [1,2]\n",
    "\n",
    "**Constraints:**\n",
    "\n",
    "- The number of nodes in the list is in the range [0, 200].\n",
    "- -100 <= Node.val <= 100\n",
    "- -200 <= x <= 200"
   ]
  },
  {
   "cell_type": "code",
   "execution_count": 1,
   "id": "7cc141bd",
   "metadata": {},
   "outputs": [],
   "source": [
    "class ListNode:\n",
    "    def __init__(self, val=0, next=None):\n",
    "        self.val = val\n",
    "        self.next = next\n",
    "\n",
    "def partition(head: ListNode, x: int) -> ListNode:\n",
    "    # Create two dummy heads for two lists\n",
    "    before_head = ListNode(0)\n",
    "    after_head = ListNode(0)\n",
    "\n",
    "    before = before_head  # Tail of the 'before' list\n",
    "    after = after_head    # Tail of the 'after' list\n",
    "\n",
    "    # Traverse the original list\n",
    "    while head:\n",
    "        if head.val < x:\n",
    "            before.next = head\n",
    "            before = before.next\n",
    "        else:\n",
    "            after.next = head\n",
    "            after = after.next\n",
    "        head = head.next\n",
    "\n",
    "    # Important: terminate the 'after' list\n",
    "    after.next = None\n",
    "\n",
    "    # Connect 'before' list with 'after' list\n",
    "    before.next = after_head.next\n",
    "\n",
    "    return before_head.next"
   ]
  },
  {
   "cell_type": "code",
   "execution_count": 2,
   "id": "51c92ceb",
   "metadata": {},
   "outputs": [
    {
     "name": "stdout",
     "output_type": "stream",
     "text": [
      "[1, 2, 2, 4, 3, 5]\n"
     ]
    }
   ],
   "source": [
    "def print_list(head):\n",
    "    res = []\n",
    "    while head:\n",
    "        res.append(head.val)\n",
    "        head = head.next\n",
    "    print(res)\n",
    "\n",
    "# Build the linked list [1,4,3,2,5,2]\n",
    "nodes = [ListNode(1), ListNode(4), ListNode(3), ListNode(2), ListNode(5), ListNode(2)]\n",
    "for i in range(len(nodes)-1):\n",
    "    nodes[i].next = nodes[i+1]\n",
    "head = nodes[0]\n",
    "\n",
    "# Partition with x = 3\n",
    "new_head = partition(head, 3)\n",
    "print_list(new_head)  # Output: [1, 2, 2, 4, 3, 5]"
   ]
  },
  {
   "cell_type": "code",
   "execution_count": null,
   "id": "452a14a1",
   "metadata": {},
   "outputs": [],
   "source": []
  }
 ],
 "metadata": {
  "kernelspec": {
   "display_name": "Python 3 (ipykernel)",
   "language": "python",
   "name": "python3"
  },
  "language_info": {
   "codemirror_mode": {
    "name": "ipython",
    "version": 3
   },
   "file_extension": ".py",
   "mimetype": "text/x-python",
   "name": "python",
   "nbconvert_exporter": "python",
   "pygments_lexer": "ipython3",
   "version": "3.8.11"
  }
 },
 "nbformat": 4,
 "nbformat_minor": 5
}
