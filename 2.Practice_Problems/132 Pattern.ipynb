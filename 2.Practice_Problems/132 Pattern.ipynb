{
 "cells": [
  {
   "cell_type": "markdown",
   "id": "0e9a2c7d",
   "metadata": {},
   "source": [
    "# 132 Pattern"
   ]
  },
  {
   "cell_type": "markdown",
   "id": "9392fc2b",
   "metadata": {},
   "source": [
    "Given an array of n integers nums, a 132 pattern is a subsequence of three integers nums[i], nums[j] and nums[k] such that i < j < k and nums[i] < nums[k] < nums[j].\n",
    "\n",
    "Return true if there is a 132 pattern in nums, otherwise, return false.\n",
    "\n",
    " \n",
    "\n",
    "**Example 1:**\n",
    "\n",
    "Input: nums = [1,2,3,4]\n",
    "Output: false\n",
    "Explanation: There is no 132 pattern in the sequence.\n",
    "\n",
    "\n",
    "**Example 2:**\n",
    "\n",
    "Input: nums = [3,1,4,2]\n",
    "Output: true\n",
    "Explanation: There is a 132 pattern in the sequence: [1, 4, 2].\n",
    "\n",
    "\n",
    "**Example 3:**\n",
    "\n",
    "Input: nums = [-1,3,2,0]\n",
    "Output: true\n",
    "Explanation: There are three 132 patterns in the sequence: [-1, 3, 2], [-1, 3, 0] and [-1, 2, 0].\n",
    " \n",
    "\n",
    "**Constraints:**\n",
    "\n",
    "- n == nums.length\n",
    "- 1 <= n <= 2 * 105\n",
    "- -109 <= nums[i] <= 109"
   ]
  },
  {
   "cell_type": "code",
   "execution_count": 1,
   "id": "1e0a3926",
   "metadata": {},
   "outputs": [
    {
     "name": "stdout",
     "output_type": "stream",
     "text": [
      "False\n",
      "True\n",
      "True\n"
     ]
    }
   ],
   "source": [
    "def find132pattern(nums):\n",
    "    n = len(nums)\n",
    "    if n < 3:\n",
    "        return False\n",
    "\n",
    "    stack = []\n",
    "    candidate_2 = float('-inf')  # Initialize the candidate for the \"2\" element\n",
    "\n",
    "    for i in range(n - 1, -1, -1):\n",
    "        if nums[i] < candidate_2:\n",
    "            return True  # Found a valid 132 pattern\n",
    "\n",
    "        while stack and nums[i] > stack[-1]:\n",
    "            candidate_2 = stack.pop()\n",
    "\n",
    "        stack.append(nums[i])\n",
    "\n",
    "    return False  # No 132 pattern found\n",
    "\n",
    "# Test cases\n",
    "print(find132pattern([1, 2, 3, 4]))  # Output: False\n",
    "print(find132pattern([3, 1, 4, 2]))  # Output: True\n",
    "print(find132pattern([-1, 3, 2, 0]))  # Output: True"
   ]
  },
  {
   "cell_type": "code",
   "execution_count": null,
   "id": "90e4e0d0",
   "metadata": {},
   "outputs": [],
   "source": []
  }
 ],
 "metadata": {
  "kernelspec": {
   "display_name": "Python 3",
   "language": "python",
   "name": "python3"
  },
  "language_info": {
   "codemirror_mode": {
    "name": "ipython",
    "version": 3
   },
   "file_extension": ".py",
   "mimetype": "text/x-python",
   "name": "python",
   "nbconvert_exporter": "python",
   "pygments_lexer": "ipython3",
   "version": "3.9.13"
  }
 },
 "nbformat": 4,
 "nbformat_minor": 5
}
