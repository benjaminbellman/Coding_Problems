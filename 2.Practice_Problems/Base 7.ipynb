{
 "cells": [
  {
   "cell_type": "markdown",
   "id": "2d78621d",
   "metadata": {},
   "source": [
    "# Base 7"
   ]
  },
  {
   "cell_type": "markdown",
   "id": "37832551",
   "metadata": {},
   "source": [
    "Given an integer num, return a string of its base 7 representation.\n",
    "\n",
    " \n",
    "\n",
    "**Example 1:**\n",
    "\n",
    "Input: num = 100\n",
    "Output: \"202\"\n",
    "\n",
    "**Example 2:**\n",
    "\n",
    "Input: num = -7\n",
    "Output: \"-10\"\n",
    " \n",
    "\n",
    "**Constraints:**\n",
    "\n",
    "- -107 <= num <= 107"
   ]
  },
  {
   "cell_type": "code",
   "execution_count": 1,
   "id": "7b2cb5d0",
   "metadata": {},
   "outputs": [
    {
     "name": "stdout",
     "output_type": "stream",
     "text": [
      "202\n",
      "-10\n"
     ]
    }
   ],
   "source": [
    "def convertToBase7(num: int) -> str:\n",
    "    if num == 0:\n",
    "        return \"0\"\n",
    "\n",
    "    is_negative = num < 0\n",
    "    num = abs(num)\n",
    "    result = \"\"\n",
    "\n",
    "    while num > 0:\n",
    "        result += str(num % 7)\n",
    "        num //= 7\n",
    "\n",
    "    if is_negative:\n",
    "        result += \"-\"\n",
    "\n",
    "    return result[::-1]\n",
    "\n",
    "# Test the function with given inputs\n",
    "print(convertToBase7(100))  # Output: \"202\"\n",
    "print(convertToBase7(-7))   # Output: \"-10\""
   ]
  },
  {
   "cell_type": "code",
   "execution_count": null,
   "id": "11d40149",
   "metadata": {},
   "outputs": [],
   "source": []
  }
 ],
 "metadata": {
  "kernelspec": {
   "display_name": "Python 3",
   "language": "python",
   "name": "python3"
  },
  "language_info": {
   "codemirror_mode": {
    "name": "ipython",
    "version": 3
   },
   "file_extension": ".py",
   "mimetype": "text/x-python",
   "name": "python",
   "nbconvert_exporter": "python",
   "pygments_lexer": "ipython3",
   "version": "3.9.13"
  }
 },
 "nbformat": 4,
 "nbformat_minor": 5
}
