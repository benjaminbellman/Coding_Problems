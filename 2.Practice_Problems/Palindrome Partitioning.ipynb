{
 "cells": [
  {
   "cell_type": "markdown",
   "id": "1716ffc2",
   "metadata": {},
   "source": [
    "# Palindrome Partitioning"
   ]
  },
  {
   "cell_type": "markdown",
   "id": "9f05a6b8",
   "metadata": {},
   "source": [
    "Given a string s, partition s such that every substring of the partition is a palindrome. Return all possible palindrome partitioning of s.\n",
    "\n",
    "**Example 1:**\n",
    "\n",
    "Input: s = \"aab\"\n",
    "Output: [[\"a\",\"a\",\"b\"],[\"aa\",\"b\"]]\n",
    "\n",
    "**Example 2:**\n",
    "\n",
    "Input: s = \"a\"\n",
    "Output: [[\"a\"]]\n",
    " \n",
    "**Constraints:**\n",
    "\n",
    "- 1 <= s.length <= 16\n",
    "- s contains only lowercase English letters."
   ]
  },
  {
   "cell_type": "code",
   "execution_count": 1,
   "id": "1d13f70f",
   "metadata": {},
   "outputs": [
    {
     "name": "stdout",
     "output_type": "stream",
     "text": [
      "[['a', 'a', 'b'], ['aa', 'b']]\n",
      "[['a']]\n"
     ]
    }
   ],
   "source": [
    "from typing import List\n",
    "\n",
    "def partition(s: str) -> List[List[str]]:\n",
    "    n = len(s)\n",
    "    # Precompute palindrome table\n",
    "    is_pal = [[False]*n for _ in range(n)]\n",
    "    for i in range(n-1, -1, -1):\n",
    "        for j in range(i, n):\n",
    "            if s[i] == s[j] and (j - i <= 2 or is_pal[i+1][j-1]):\n",
    "                is_pal[i][j] = True\n",
    "\n",
    "    res, path = [], []\n",
    "\n",
    "    def dfs(i: int):\n",
    "        if i == n:\n",
    "            res.append(path[:])\n",
    "            return\n",
    "        for j in range(i, n):\n",
    "            if is_pal[i][j]:\n",
    "                path.append(s[i:j+1])\n",
    "                dfs(j+1)\n",
    "                path.pop()\n",
    "\n",
    "    dfs(0)\n",
    "    return res\n",
    "\n",
    "# Examples\n",
    "print(partition(\"aab\"))  # [[\"a\",\"a\",\"b\"], [\"aa\",\"b\"]]\n",
    "print(partition(\"a\"))    # [[\"a\"]]"
   ]
  },
  {
   "cell_type": "code",
   "execution_count": null,
   "id": "613534a9",
   "metadata": {},
   "outputs": [],
   "source": []
  }
 ],
 "metadata": {
  "kernelspec": {
   "display_name": "Python 3 (ipykernel)",
   "language": "python",
   "name": "python3"
  },
  "language_info": {
   "codemirror_mode": {
    "name": "ipython",
    "version": 3
   },
   "file_extension": ".py",
   "mimetype": "text/x-python",
   "name": "python",
   "nbconvert_exporter": "python",
   "pygments_lexer": "ipython3",
   "version": "3.8.11"
  }
 },
 "nbformat": 4,
 "nbformat_minor": 5
}
